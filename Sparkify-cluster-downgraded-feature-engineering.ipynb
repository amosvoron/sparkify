{
 "cells": [
  {
   "cell_type": "markdown",
   "metadata": {},
   "source": [
    "# Feature Engineering on cluster for Downgraded users"
   ]
  },
  {
   "cell_type": "markdown",
   "metadata": {},
   "source": [
    "##### The feature is marked as candidate feature if\n",
    "\n",
    "      |Δ| > 0.10"
   ]
  },
  {
   "cell_type": "code",
   "execution_count": 1,
   "metadata": {},
   "outputs": [
    {
     "data": {
      "application/vnd.jupyter.widget-view+json": {
       "model_id": "82d61ac3588c4bca95510f0b004cf6b5",
       "version_major": 2,
       "version_minor": 0
      },
      "text/plain": [
       "VBox()"
      ]
     },
     "metadata": {},
     "output_type": "display_data"
    },
    {
     "name": "stdout",
     "output_type": "stream",
     "text": [
      "Starting Spark application\n"
     ]
    },
    {
     "data": {
      "text/html": [
       "<table>\n",
       "<tr><th>ID</th><th>YARN Application ID</th><th>Kind</th><th>State</th><th>Spark UI</th><th>Driver log</th><th>Current session?</th></tr><tr><td>49</td><td>application_1597998755054_0085</td><td>pyspark</td><td>idle</td><td><a target=\"_blank\" href=\"http://ip-172-31-39-107.us-east-2.compute.internal:20888/proxy/application_1597998755054_0085/\">Link</a></td><td><a target=\"_blank\" href=\"http://ip-172-31-47-165.us-east-2.compute.internal:8042/node/containerlogs/container_1597998755054_0085_01_000001/livy\">Link</a></td><td>✔</td></tr></table>"
      ],
      "text/plain": [
       "<IPython.core.display.HTML object>"
      ]
     },
     "metadata": {},
     "output_type": "display_data"
    },
    {
     "data": {
      "application/vnd.jupyter.widget-view+json": {
       "model_id": "",
       "version_major": 2,
       "version_minor": 0
      },
      "text/plain": [
       "FloatProgress(value=0.0, bar_style='info', description='Progress:', layout=Layout(height='25px', width='50%'),…"
      ]
     },
     "metadata": {},
     "output_type": "display_data"
    },
    {
     "name": "stdout",
     "output_type": "stream",
     "text": [
      "SparkSession available as 'spark'.\n"
     ]
    },
    {
     "data": {
      "application/vnd.jupyter.widget-view+json": {
       "model_id": "",
       "version_major": 2,
       "version_minor": 0
      },
      "text/plain": [
       "FloatProgress(value=0.0, bar_style='info', description='Progress:', layout=Layout(height='25px', width='50%'),…"
      ]
     },
     "metadata": {},
     "output_type": "display_data"
    },
    {
     "name": "stdout",
     "output_type": "stream",
     "text": [
      "Welcome to my EMR Notebook!"
     ]
    }
   ],
   "source": [
    "print(\"Welcome to my EMR Notebook!\")"
   ]
  },
  {
   "cell_type": "code",
   "execution_count": 2,
   "metadata": {},
   "outputs": [
    {
     "data": {
      "application/vnd.jupyter.widget-view+json": {
       "model_id": "508e0b2a46ed4b358738e859aaf8ec3e",
       "version_major": 2,
       "version_minor": 0
      },
      "text/plain": [
       "VBox()"
      ]
     },
     "metadata": {},
     "output_type": "display_data"
    },
    {
     "data": {
      "application/vnd.jupyter.widget-view+json": {
       "model_id": "",
       "version_major": 2,
       "version_minor": 0
      },
      "text/plain": [
       "FloatProgress(value=0.0, bar_style='info', description='Progress:', layout=Layout(height='25px', width='50%'),…"
      ]
     },
     "metadata": {},
     "output_type": "display_data"
    }
   ],
   "source": [
    "# Import libraries\n",
    "from pyspark.sql import SparkSession\n",
    "from pyspark.sql.functions import isnan, count, when, col, desc, udf, col, sort_array, asc, \\\n",
    "                                  avg, from_unixtime, split, min, max, lit, mean, col\n",
    "from pyspark.sql.functions import sum as Fsum\n",
    "from pyspark.sql.functions import abs as Fabs\n",
    "from pyspark.sql.functions import row_number\n",
    "from pyspark.sql.window import Window\n",
    "\n",
    "import datetime\n",
    "from pyspark.sql.types import IntegerType, TimestampType, FloatType\n",
    "from pyspark.sql.functions import to_date, year, month, dayofmonth, dayofweek, hour, date_format, substring\n",
    "\n",
    "import numpy as np\n",
    "import time"
   ]
  },
  {
   "cell_type": "code",
   "execution_count": 3,
   "metadata": {},
   "outputs": [
    {
     "data": {
      "application/vnd.jupyter.widget-view+json": {
       "model_id": "ab45cb8abdaa47b48d00e2a428a3a6e1",
       "version_major": 2,
       "version_minor": 0
      },
      "text/plain": [
       "VBox()"
      ]
     },
     "metadata": {},
     "output_type": "display_data"
    },
    {
     "data": {
      "application/vnd.jupyter.widget-view+json": {
       "model_id": "",
       "version_major": 2,
       "version_minor": 0
      },
      "text/plain": [
       "FloatProgress(value=0.0, bar_style='info', description='Progress:', layout=Layout(height='25px', width='50%'),…"
      ]
     },
     "metadata": {},
     "output_type": "display_data"
    }
   ],
   "source": [
    "# Create spark session\n",
    "spark = SparkSession \\\n",
    "    .builder \\\n",
    "    .appName(\"Sparkify\") \\\n",
    "    .getOrCreate()"
   ]
  },
  {
   "cell_type": "code",
   "execution_count": 3,
   "metadata": {},
   "outputs": [
    {
     "data": {
      "application/vnd.jupyter.widget-view+json": {
       "model_id": "22b5f3f730c24ee19e3cb5273de0827e",
       "version_major": 2,
       "version_minor": 0
      },
      "text/plain": [
       "VBox()"
      ]
     },
     "metadata": {},
     "output_type": "display_data"
    },
    {
     "data": {
      "application/vnd.jupyter.widget-view+json": {
       "model_id": "",
       "version_major": 2,
       "version_minor": 0
      },
      "text/plain": [
       "FloatProgress(value=0.0, bar_style='info', description='Progress:', layout=Layout(height='25px', width='50%'),…"
      ]
     },
     "metadata": {},
     "output_type": "display_data"
    }
   ],
   "source": [
    "# Set time parser policy\n",
    "spark.conf.set(\"spark.sql.legacy.timeParserPolicy\",\"LEGACY\")"
   ]
  },
  {
   "cell_type": "code",
   "execution_count": 4,
   "metadata": {},
   "outputs": [
    {
     "data": {
      "application/vnd.jupyter.widget-view+json": {
       "model_id": "47fe1cc54c644c059fb386ebe44a89ec",
       "version_major": 2,
       "version_minor": 0
      },
      "text/plain": [
       "VBox()"
      ]
     },
     "metadata": {},
     "output_type": "display_data"
    },
    {
     "data": {
      "application/vnd.jupyter.widget-view+json": {
       "model_id": "",
       "version_major": 2,
       "version_minor": 0
      },
      "text/plain": [
       "FloatProgress(value=0.0, bar_style='info', description='Progress:', layout=Layout(height='25px', width='50%'),…"
      ]
     },
     "metadata": {},
     "output_type": "display_data"
    },
    {
     "name": "stdout",
     "output_type": "stream",
     "text": [
      "Row(artist='Popol Vuh', auth='Logged In', firstName='Shlok', gender='M', itemInSession=278, lastName='Johnson', length=524.32934, level='paid', location='Dallas-Fort Worth-Arlington, TX', method='PUT', page='NextSong', registration=1533734541000, sessionId=22683, song='Ich mache einen Spiegel - Dream Part 4', status=200, ts=1538352001000, userAgent='\"Mozilla/5.0 (Windows NT 6.1; WOW64) AppleWebKit/537.36 (KHTML, like Gecko) Chrome/36.0.1985.143 Safari/537.36\"', userId='1749042')"
     ]
    }
   ],
   "source": [
    "# Read in full sparkify dataset\n",
    "event_data = \"s3n://udacity-dsnd/sparkify/sparkify_event_data.json\"\n",
    "data = spark.read.json(event_data)\n",
    "data.head()"
   ]
  },
  {
   "cell_type": "markdown",
   "metadata": {},
   "source": [
    "### Prepare data"
   ]
  },
  {
   "cell_type": "code",
   "execution_count": 5,
   "metadata": {},
   "outputs": [
    {
     "data": {
      "application/vnd.jupyter.widget-view+json": {
       "model_id": "a1de0132ba3f455ab49cfdee93dcc868",
       "version_major": 2,
       "version_minor": 0
      },
      "text/plain": [
       "VBox()"
      ]
     },
     "metadata": {},
     "output_type": "display_data"
    },
    {
     "data": {
      "application/vnd.jupyter.widget-view+json": {
       "model_id": "",
       "version_major": 2,
       "version_minor": 0
      },
      "text/plain": [
       "FloatProgress(value=0.0, bar_style='info', description='Progress:', layout=Layout(height='25px', width='50%'),…"
      ]
     },
     "metadata": {},
     "output_type": "display_data"
    }
   ],
   "source": [
    "# Function that returns all users of a specified churn group\n",
    "def get_users(churn):\n",
    "    \"\"\"Returns all distinct users of a specified churn group.\n",
    "    \n",
    "    Args:\n",
    "        churn (int): A specified churn group - 1 for churned and 0 for non-churned users.\n",
    "        \n",
    "    Returns:\n",
    "        DataFrame: A dataframe query with filtered users.\n",
    "    \"\"\"\n",
    "    return data.where(data.churn == 1).select('userId').dropDuplicates()"
   ]
  },
  {
   "cell_type": "code",
   "execution_count": 6,
   "metadata": {},
   "outputs": [
    {
     "data": {
      "application/vnd.jupyter.widget-view+json": {
       "model_id": "e7b6de8656204fc2be1a0560014812f0",
       "version_major": 2,
       "version_minor": 0
      },
      "text/plain": [
       "VBox()"
      ]
     },
     "metadata": {},
     "output_type": "display_data"
    },
    {
     "data": {
      "application/vnd.jupyter.widget-view+json": {
       "model_id": "",
       "version_major": 2,
       "version_minor": 0
      },
      "text/plain": [
       "FloatProgress(value=0.0, bar_style='info', description='Progress:', layout=Layout(height='25px', width='50%'),…"
      ]
     },
     "metadata": {},
     "output_type": "display_data"
    },
    {
     "name": "stdout",
     "output_type": "stream",
     "text": [
      "22278"
     ]
    }
   ],
   "source": [
    "# Count all users\n",
    "data.select('userId').dropDuplicates().count()"
   ]
  },
  {
   "cell_type": "code",
   "execution_count": 7,
   "metadata": {},
   "outputs": [
    {
     "data": {
      "application/vnd.jupyter.widget-view+json": {
       "model_id": "1f2187161f9e434eb67391351cc570d3",
       "version_major": 2,
       "version_minor": 0
      },
      "text/plain": [
       "VBox()"
      ]
     },
     "metadata": {},
     "output_type": "display_data"
    },
    {
     "data": {
      "application/vnd.jupyter.widget-view+json": {
       "model_id": "",
       "version_major": 2,
       "version_minor": 0
      },
      "text/plain": [
       "FloatProgress(value=0.0, bar_style='info', description='Progress:', layout=Layout(height='25px', width='50%'),…"
      ]
     },
     "metadata": {},
     "output_type": "display_data"
    },
    {
     "name": "stdout",
     "output_type": "stream",
     "text": [
      "Churned (downgraded) users: 5103"
     ]
    }
   ],
   "source": [
    "# Remove rows with missing users\n",
    "data = data.where(~((col('userId').isNull()) | (col('userId') == '')))\n",
    "\n",
    "# Exclude non-relevant columns\n",
    "data = data.drop('firstName')\n",
    "data = data.drop('lastName')\n",
    "\n",
    "# Add tsDate and date column\n",
    "data = data.withColumn('tsDate', (col('ts') / 1000.0).cast(TimestampType()))\n",
    "data = data.withColumn('date', date_format(col('tsDate'), 'yyyy-MM-dd').alias('date').cast('date'))\n",
    "\n",
    "# Label churned users using Submit Downgrade event\n",
    "query_churn_by_cc = data.where(data.page == 'Submit Downgrade')\n",
    "canceled = query_churn_by_cc.select('userId').dropDuplicates().select('userId')\n",
    "canceled_uids = [row.userId for row in canceled.collect()];\n",
    "set_churn = udf(lambda x: 1 if x in canceled_uids else 0, IntegerType())\n",
    "data = data.withColumn('churn', set_churn('userId'))\n",
    "\n",
    "# Add [userRowId] column that assigns a 1-based index to every user's log ordered by [ts]\n",
    "w =  Window.partitionBy(data.userId).orderBy('ts', 'itemInSession')\n",
    "data = data.withColumn('userRowId', row_number().over(w))\n",
    "\n",
    "# Add [userRowDescId] column that assigns a 1-based index to every user's log ordered by [ts] descending.\n",
    "w =  Window.partitionBy(data.userId).orderBy(col('ts').desc(), col('itemInSession').desc())\n",
    "data = data.withColumn('userRowDescId', row_number().over(w))\n",
    "\n",
    "# Add last level column\n",
    "last_levels = dict()\n",
    "for row in data.where(data.userRowDescId == 1).select('userId', 'level').collect():\n",
    "    last_levels[row.userId] = row.level\n",
    "get_level = udf(lambda userId: last_levels[userId])\n",
    "data = data.withColumn('lastLevel', get_level('userId'))\n",
    "\n",
    "# Prepare labels\n",
    "labels = data.select(col('churn').alias('label'), 'userId').dropDuplicates()\n",
    "\n",
    "# Count churned users\n",
    "print(f'Churned (downgraded) users: {get_users(1).count()}')"
   ]
  },
  {
   "cell_type": "code",
   "execution_count": 8,
   "metadata": {},
   "outputs": [
    {
     "data": {
      "application/vnd.jupyter.widget-view+json": {
       "model_id": "0ed202bb65d34932853233fb19c561e8",
       "version_major": 2,
       "version_minor": 0
      },
      "text/plain": [
       "VBox()"
      ]
     },
     "metadata": {},
     "output_type": "display_data"
    },
    {
     "data": {
      "application/vnd.jupyter.widget-view+json": {
       "model_id": "",
       "version_major": 2,
       "version_minor": 0
      },
      "text/plain": [
       "FloatProgress(value=0.0, bar_style='info', description='Progress:', layout=Layout(height='25px', width='50%'),…"
      ]
     },
     "metadata": {},
     "output_type": "display_data"
    },
    {
     "name": "stdout",
     "output_type": "stream",
     "text": [
      "root\n",
      " |-- artist: string (nullable = true)\n",
      " |-- auth: string (nullable = true)\n",
      " |-- gender: string (nullable = true)\n",
      " |-- itemInSession: long (nullable = true)\n",
      " |-- length: double (nullable = true)\n",
      " |-- level: string (nullable = true)\n",
      " |-- location: string (nullable = true)\n",
      " |-- method: string (nullable = true)\n",
      " |-- page: string (nullable = true)\n",
      " |-- registration: long (nullable = true)\n",
      " |-- sessionId: long (nullable = true)\n",
      " |-- song: string (nullable = true)\n",
      " |-- status: long (nullable = true)\n",
      " |-- ts: long (nullable = true)\n",
      " |-- userAgent: string (nullable = true)\n",
      " |-- userId: string (nullable = true)\n",
      " |-- tsDate: timestamp (nullable = true)\n",
      " |-- date: date (nullable = true)\n",
      " |-- churn: integer (nullable = true)\n",
      " |-- userRowId: integer (nullable = true)\n",
      " |-- userRowDescId: integer (nullable = true)\n",
      " |-- lastLevel: string (nullable = true)"
     ]
    }
   ],
   "source": [
    "data.printSchema()"
   ]
  },
  {
   "cell_type": "markdown",
   "metadata": {},
   "source": [
    "### Global Variables"
   ]
  },
  {
   "cell_type": "code",
   "execution_count": 40,
   "metadata": {},
   "outputs": [
    {
     "data": {
      "application/vnd.jupyter.widget-view+json": {
       "model_id": "c081ba40f8d243739807113133502e02",
       "version_major": 2,
       "version_minor": 0
      },
      "text/plain": [
       "VBox()"
      ]
     },
     "metadata": {},
     "output_type": "display_data"
    },
    {
     "data": {
      "application/vnd.jupyter.widget-view+json": {
       "model_id": "",
       "version_major": 2,
       "version_minor": 0
      },
      "text/plain": [
       "FloatProgress(value=0.0, bar_style='info', description='Progress:', layout=Layout(height='25px', width='50%'),…"
      ]
     },
     "metadata": {},
     "output_type": "display_data"
    }
   ],
   "source": [
    "# Any feature whose delta fulfills this criterion will be automatically selected (by the show_delta function)\n",
    "delta_threshold = 0.10\n",
    "\n",
    "# The collection of all selected engineered features\n",
    "selected_features = []"
   ]
  },
  {
   "cell_type": "markdown",
   "metadata": {},
   "source": [
    "### Queries"
   ]
  },
  {
   "cell_type": "code",
   "execution_count": 10,
   "metadata": {},
   "outputs": [
    {
     "data": {
      "application/vnd.jupyter.widget-view+json": {
       "model_id": "65de26599d63438bb0b402b3c486439d",
       "version_major": 2,
       "version_minor": 0
      },
      "text/plain": [
       "VBox()"
      ]
     },
     "metadata": {},
     "output_type": "display_data"
    },
    {
     "data": {
      "application/vnd.jupyter.widget-view+json": {
       "model_id": "",
       "version_major": 2,
       "version_minor": 0
      },
      "text/plain": [
       "FloatProgress(value=0.0, bar_style='info', description='Progress:', layout=Layout(height='25px', width='50%'),…"
      ]
     },
     "metadata": {},
     "output_type": "display_data"
    }
   ],
   "source": [
    "# All unique users\n",
    "users = data.select('userId').dropDuplicates()\n",
    "\n",
    "# Pages without churn definition events\n",
    "page_data = data.where(~data.page.isin(['Submit Downgrade', 'Upgrade', 'Submit Upgrade', 'Cancel', 'Cancellation Confirmation'])) \\\n",
    "    .select('churn', 'page', 'userId', 'sessionId', 'ts', 'date')\n",
    "\n",
    "# Calc session duration (in hours)\n",
    "session_hours = page_data \\\n",
    "    .groupby('userId', 'sessionId') \\\n",
    "    .agg(((max('ts') - min('ts'))/1000/3600).alias('sessionHours'))\n",
    "\n",
    "# User interactions duration per user (in hours)\n",
    "user_hours = page_data \\\n",
    "    .groupby('userId', 'sessionId') \\\n",
    "    .agg(((max('ts') - min('ts'))/1000/3600).alias('sessionHours')) \\\n",
    "    .groupby('userId') \\\n",
    "    .agg(Fsum('sessionHours').alias('hours'))  "
   ]
  },
  {
   "cell_type": "markdown",
   "metadata": {},
   "source": [
    "### Functions"
   ]
  },
  {
   "cell_type": "code",
   "execution_count": 11,
   "metadata": {},
   "outputs": [
    {
     "data": {
      "application/vnd.jupyter.widget-view+json": {
       "model_id": "52ae49c31f574a49baba96dc2d26cb8d",
       "version_major": 2,
       "version_minor": 0
      },
      "text/plain": [
       "VBox()"
      ]
     },
     "metadata": {},
     "output_type": "display_data"
    },
    {
     "data": {
      "application/vnd.jupyter.widget-view+json": {
       "model_id": "",
       "version_major": 2,
       "version_minor": 0
      },
      "text/plain": [
       "FloatProgress(value=0.0, bar_style='info', description='Progress:', layout=Layout(height='25px', width='50%'),…"
      ]
     },
     "metadata": {},
     "output_type": "display_data"
    }
   ],
   "source": [
    "# We'll calculate the ratio difference (delta) and show it through this function.\n",
    "# Note that we haven't incroporated the delta calculation in spark querying due to \n",
    "# the simplicity of a manual solution (for a very limited number of features though).\n",
    "def show_delta(feature, v1, v0, force_selection=False):\n",
    "    \"\"\"Calculate delta and print it.\n",
    "    \n",
    "    If delta is greater than delta_threshold the feature is selected.\n",
    "    \n",
    "    Args:\n",
    "        feature (string): The name of a feature.\n",
    "        v1 (float): The statistical value of the churned users.\n",
    "        v0 (float): The statistical value of the non-churned users.\n",
    "        force_selection (bool): If True then the feature is selected without the threshold condition. \n",
    "    Returns:\n",
    "        None\n",
    "    \"\"\"\n",
    "    # Calc delta\n",
    "    delta = (v1 - v0)/(v1 + v0)\n",
    "    \n",
    "    # Delete the feature if it already exists (to avoid duplicates):\n",
    "    ix = None\n",
    "    try:\n",
    "        ix = [x['feature'] for x in selected_features].index(feature)\n",
    "        del selected_features[ix]\n",
    "    except ValueError:\n",
    "        pass\n",
    "    \n",
    "    if (force_selection == True) or (abs(delta) > delta_threshold):\n",
    "        selected_features.append({'feature': feature, 'delta': delta})\n",
    "        print(f'Δ for {feature} feature: {round(delta, 4)} (SELECTED)')\n",
    "    else:\n",
    "        print(f'Δ for {feature} feature: {round(delta, 4)}')"
   ]
  },
  {
   "cell_type": "code",
   "execution_count": 12,
   "metadata": {},
   "outputs": [
    {
     "data": {
      "application/vnd.jupyter.widget-view+json": {
       "model_id": "fea3fdae5bfd4a24912149ea64c7cb99",
       "version_major": 2,
       "version_minor": 0
      },
      "text/plain": [
       "VBox()"
      ]
     },
     "metadata": {},
     "output_type": "display_data"
    },
    {
     "data": {
      "application/vnd.jupyter.widget-view+json": {
       "model_id": "",
       "version_major": 2,
       "version_minor": 0
      },
      "text/plain": [
       "FloatProgress(value=0.0, bar_style='info', description='Progress:', layout=Layout(height='25px', width='50%'),…"
      ]
     },
     "metadata": {},
     "output_type": "display_data"
    }
   ],
   "source": [
    "# Count page logs\n",
    "def page_count(page):\n",
    "    return page_data \\\n",
    "        .where(data.page == page) \\\n",
    "        .groupby('userId') \\\n",
    "        .count() \\\n",
    "        .select('userId', col('count').alias(page.replace(' ', '') + 'Count'))\n",
    "\n",
    "# Average page count per session hour\n",
    "def page_session_hour(page):\n",
    "    return page_data \\\n",
    "        .where(data.page == page) \\\n",
    "        .join(session_hours, ['userId', 'sessionId'], 'inner') \\\n",
    "        .groupby( 'userId', 'sessionId', 'sessionHours') \\\n",
    "        .agg((count('userId')/col('sessionHours')).alias('avgPerSession')) \\\n",
    "        .groupby('userId') \\\n",
    "        .agg(avg('avgPerSession').alias('avg')) \\\n",
    "        .select('userId', col('avg').alias(page.replace(' ', '') + 'PerSessionHour'))\n",
    "\n",
    "# Average page count per hour\n",
    "def page_hour(page):\n",
    "    return page_data \\\n",
    "        .where(data.page == page) \\\n",
    "        .join(user_hours, 'userId', 'inner') \\\n",
    "        .groupby('userId', 'hours') \\\n",
    "        .agg((count('userId')/col('hours')).alias('avg')) \\\n",
    "        .select('userId', col('avg').alias(page.replace(' ', '') + 'PerHour'))\n",
    "\n",
    "# Average page count per day\n",
    "def page_day(page):\n",
    "    return page_data \\\n",
    "        .where(data.page == page) \\\n",
    "        .groupby('userId', 'date') \\\n",
    "        .count() \\\n",
    "        .groupby('userId') \\\n",
    "        .agg(avg('count').alias(page.replace(' ', '') + 'PerDay'))\n"
   ]
  },
  {
   "cell_type": "markdown",
   "metadata": {},
   "source": [
    "### Features"
   ]
  },
  {
   "cell_type": "code",
   "execution_count": 13,
   "metadata": {},
   "outputs": [
    {
     "data": {
      "application/vnd.jupyter.widget-view+json": {
       "model_id": "529dea4b321d4c3eb32d64c38a64d2c8",
       "version_major": 2,
       "version_minor": 0
      },
      "text/plain": [
       "VBox()"
      ]
     },
     "metadata": {},
     "output_type": "display_data"
    },
    {
     "data": {
      "application/vnd.jupyter.widget-view+json": {
       "model_id": "",
       "version_major": 2,
       "version_minor": 0
      },
      "text/plain": [
       "FloatProgress(value=0.0, bar_style='info', description='Progress:', layout=Layout(height='25px', width='50%'),…"
      ]
     },
     "metadata": {},
     "output_type": "display_data"
    }
   ],
   "source": [
    "    f_Gender = data \\\n",
    "        .select('userId', 'gender') \\\n",
    "        .dropDuplicates() \\\n",
    "        .replace(['M', 'F'], ['0', '1'], 'gender') \\\n",
    "        .select('userId', col('gender').cast('int').alias('Gender'))\n",
    "\n",
    "    f_LastLevel = data \\\n",
    "        .select('userId', 'lastLevel') \\\n",
    "        .dropDuplicates() \\\n",
    "        .replace(['free', 'paid'], ['0', '1'], 'lastLevel') \\\n",
    "        .select('userId', col('lastLevel').cast('int').alias('LastLevel'))\n",
    "\n",
    "    f_LogCount = data \\\n",
    "        .groupby('userId') \\\n",
    "        .agg(count('userId').alias('LogCount'))\n",
    "\n",
    "    f_SongCount = data \\\n",
    "        .where(data.page == 'NextSong') \\\n",
    "        .groupby('userId') \\\n",
    "        .agg(count('userId').alias('SongCount'))\n",
    "\n",
    "    f_NonSongCount = data \\\n",
    "        .where(data.page != 'NextSong') \\\n",
    "        .groupby('userId') \\\n",
    "        .agg(count('userId').alias('NonSongCount'))\n",
    "\n",
    "    f_AboutCount = page_count('About')\n",
    "\n",
    "    f_ThumbsUpCount = page_count('Thumbs Up')\n",
    "\n",
    "    f_RollAdvertCount = page_count('Roll Advert')\n",
    "\n",
    "    f_SessionCount = data \\\n",
    "        .select('userId', 'sessionId') \\\n",
    "        .dropDuplicates() \\\n",
    "        .groupby('userId') \\\n",
    "        .agg(count('userId').alias('SessionCount'))\n",
    "\n",
    "    f_AvgSessionLength = data \\\n",
    "       .groupby('userId', 'sessionId') \\\n",
    "       .agg(((max('ts') - min('ts'))/1000).alias('sessionLength')) \\\n",
    "       .groupby('userId') \\\n",
    "       .agg(avg('sessionLength').alias('AvgSessionLength')) \\\n",
    "\n",
    "    f_AvgSessionGap = data \\\n",
    "        .groupby('userId', 'sessionId') \\\n",
    "        .agg(min('ts').alias('startTime'), max('ts').alias('endTime')) \\\n",
    "        .groupby('userId') \\\n",
    "        .agg(count('userId').alias('sessionCount'), \\\n",
    "            ((max('endTime') - min('startTime'))/1000).alias('observationPeriodTime'), \\\n",
    "            (Fsum(col('endTime') - col('startTime'))/1000).alias('totalSessionTime')) \\\n",
    "        .where(col('sessionCount') > 1) \\\n",
    "        .join(users, 'userId', 'outer') \\\n",
    "        .fillna(0) \\\n",
    "        .select('userId', \\\n",
    "            (col('observationPeriodTime') - col('totalSessionTime')/(col('sessionCount') - 1)).alias('AvgSessionGap'))\n",
    "\n",
    "    f_DowngradePerSessionHour = page_session_hour('Downgrade')\n",
    "\n",
    "    f_ErrorPerSessionHour = page_session_hour('Error')\n",
    "\n",
    "    f_SettingsPerSessionHour = page_session_hour('Settings')\n",
    "\n",
    "    f_SaveSettingsPerSessionHour = page_session_hour('Save Settings')\n",
    "\n",
    "    f_LogoutPerSessionHour = page_session_hour('Logout')\n",
    "\n",
    "    f_SubmitDowngradePerSessionHour = page_session_hour('Submit Downgrade')\n",
    "\n",
    "    f_RollAdvertPerHour = page_hour('Roll Advert')\n",
    "\n",
    "    f_ThumbsDownPerHour = page_hour('Thumbs Down')\n",
    "\n",
    "    f_UpgradePerHour = page_hour('Upgrade')\n",
    "\n",
    "    f_SubmitUpgradePerHour = page_hour('Submit Upgrade')\n",
    "\n",
    "    f_SessionsPerDay = data \\\n",
    "        .select('userId', 'date', 'sessionId') \\\n",
    "        .dropDuplicates() \\\n",
    "        .groupby('userId', 'date') \\\n",
    "        .count() \\\n",
    "        .groupby('userId') \\\n",
    "        .agg(avg('count').alias('SessionsPerDay'))\n",
    "\n",
    "    f_AddFriendPerDay = page_day('Add Friend')\n",
    "\n",
    "    f_RollAdvertPerDay = page_day('Roll Advert')\n",
    "\n",
    "    f_ThumbsDownPerDay = page_day('Thumbs Down')\n",
    "\n",
    "    f_ThumbsUpPerDay = page_day('Thumbs Up')\n",
    "\n",
    "    f_TotalSongLength = data \\\n",
    "        .where(data.page == 'NextSong') \\\n",
    "        .select('userId', 'length') \\\n",
    "        .groupby('userId') \\\n",
    "        .agg(Fsum('length').alias('TotalSongLength'))\n",
    "\n",
    "    f_UniqueSongCount = data \\\n",
    "        .where(data.page == 'NextSong') \\\n",
    "        .select('userId', 'song') \\\n",
    "        .dropDuplicates() \\\n",
    "        .groupby('userId') \\\n",
    "        .agg(count('userId').alias('UniqueSongCount'))\n",
    "\n",
    "    f_UniqueSongShare = data \\\n",
    "        .where(data.page == 'NextSong') \\\n",
    "        .select('userId', 'song') \\\n",
    "        .dropDuplicates() \\\n",
    "        .groupby('userId') \\\n",
    "        .count() \\\n",
    "        .join(f_SongCount, on = ['userId'], how = 'inner') \\\n",
    "        .select('userId', (col('count')/col('SongCount')).alias('UniqueSongShare')) \n"
   ]
  },
  {
   "cell_type": "markdown",
   "metadata": {},
   "source": [
    "## Feature Check"
   ]
  },
  {
   "cell_type": "markdown",
   "metadata": {},
   "source": [
    "### AvgSessionGap (YES)"
   ]
  },
  {
   "cell_type": "code",
   "execution_count": 13,
   "metadata": {},
   "outputs": [
    {
     "data": {
      "application/vnd.jupyter.widget-view+json": {
       "model_id": "bea2f19784294d0ba62c67427c73b5b5",
       "version_major": 2,
       "version_minor": 0
      },
      "text/plain": [
       "VBox()"
      ]
     },
     "metadata": {},
     "output_type": "display_data"
    },
    {
     "data": {
      "application/vnd.jupyter.widget-view+json": {
       "model_id": "",
       "version_major": 2,
       "version_minor": 0
      },
      "text/plain": [
       "FloatProgress(value=0.0, bar_style='info', description='Progress:', layout=Layout(height='25px', width='50%'),…"
      ]
     },
     "metadata": {},
     "output_type": "display_data"
    },
    {
     "name": "stdout",
     "output_type": "stream",
     "text": [
      "+-----+------------------+\n",
      "|label|avg(AvgSessionGap)|\n",
      "+-----+------------------+\n",
      "|    1| 4244186.260620306|\n",
      "|    0| 3304447.189541696|\n",
      "+-----+------------------+"
     ]
    }
   ],
   "source": [
    "labels.join(f_AvgSessionGap, 'userId', 'outer') \\\n",
    "    .groupby('label') \\\n",
    "    .agg(avg('AvgSessionGap')) \\\n",
    "    .show()"
   ]
  },
  {
   "cell_type": "code",
   "execution_count": 41,
   "metadata": {},
   "outputs": [
    {
     "data": {
      "application/vnd.jupyter.widget-view+json": {
       "model_id": "236914e3be274f41917d066f90a1456a",
       "version_major": 2,
       "version_minor": 0
      },
      "text/plain": [
       "VBox()"
      ]
     },
     "metadata": {},
     "output_type": "display_data"
    },
    {
     "data": {
      "application/vnd.jupyter.widget-view+json": {
       "model_id": "",
       "version_major": 2,
       "version_minor": 0
      },
      "text/plain": [
       "FloatProgress(value=0.0, bar_style='info', description='Progress:', layout=Layout(height='25px', width='50%'),…"
      ]
     },
     "metadata": {},
     "output_type": "display_data"
    },
    {
     "name": "stdout",
     "output_type": "stream",
     "text": [
      "Δ for AvgSessionGap feature: 0.1245 (SELECTED)"
     ]
    }
   ],
   "source": [
    "show_delta('AvgSessionGap', 4244186.260620306, 3304447.189541696)"
   ]
  },
  {
   "cell_type": "markdown",
   "metadata": {},
   "source": [
    "### Per hour features"
   ]
  },
  {
   "cell_type": "code",
   "execution_count": 16,
   "metadata": {},
   "outputs": [
    {
     "data": {
      "application/vnd.jupyter.widget-view+json": {
       "model_id": "3fe1a3c5f5bf482abef1dd86fe0eab8c",
       "version_major": 2,
       "version_minor": 0
      },
      "text/plain": [
       "VBox()"
      ]
     },
     "metadata": {},
     "output_type": "display_data"
    },
    {
     "data": {
      "application/vnd.jupyter.widget-view+json": {
       "model_id": "",
       "version_major": 2,
       "version_minor": 0
      },
      "text/plain": [
       "FloatProgress(value=0.0, bar_style='info', description='Progress:', layout=Layout(height='25px', width='50%'),…"
      ]
     },
     "metadata": {},
     "output_type": "display_data"
    },
    {
     "name": "stdout",
     "output_type": "stream",
     "text": [
      "+-----+--------------------+--------------------+\n",
      "|churn|                page|     AvgCountPerHour|\n",
      "+-----+--------------------+--------------------+\n",
      "|    0|               About| 0.07974660299961202|\n",
      "|    1|               About|0.038796560736421515|\n",
      "|    0|          Add Friend|  0.3323238283105589|\n",
      "|    1|          Add Friend| 0.26757162138438756|\n",
      "|    0|     Add to Playlist|  0.4307492174289696|\n",
      "|    1|     Add to Playlist|  0.4065724958388631|\n",
      "|    0|              Cancel| 0.27058577119877714|\n",
      "|    1|              Cancel|0.021713037494027587|\n",
      "|    0|Cancellation Conf...| 0.27058577119877714|\n",
      "|    1|Cancellation Conf...|0.021713037494027587|\n",
      "|    0|           Downgrade| 0.15553974027070466|\n",
      "|    1|           Downgrade| 0.14083388826729795|\n",
      "|    0|               Error| 0.04366372583976314|\n",
      "|    1|               Error|  0.0239287671949968|\n",
      "|    0|                Help|   0.121046621770175|\n",
      "|    1|                Help| 0.09276112061952985|\n",
      "|    0|                Home|  1.3876360760280084|\n",
      "|    1|                Home|  0.6903134160710036|\n",
      "|    0|               Login| 0.02062142363300668|\n",
      "|    0|              Logout|  1.4964197305552223|\n",
      "|    1|              Logout| 0.21806502326821595|\n",
      "|    0|            NextSong|   15.39029196229422|\n",
      "|    1|            NextSong|  14.315161428630805|\n",
      "|    0|            Register|5.580692341377209E-5|\n",
      "|    0|         Roll Advert|  0.7885870813983161|\n",
      "|    1|         Roll Advert| 0.41589193128408114|\n",
      "|    0|       Save Settings|0.051154518301673335|\n",
      "|    1|       Save Settings|0.026714255097028877|\n",
      "|    0|            Settings| 0.15361547325206673|\n",
      "|    1|            Settings| 0.10628656555573869|\n",
      "|    0| Submit Registration|2.790346170688604...|\n",
      "|    0|      Submit Upgrade| 0.03493176495644507|\n",
      "|    1|      Submit Upgrade| 0.02173082437779688|\n",
      "|    0|         Thumbs Down| 0.21611355773798807|\n",
      "|    1|         Thumbs Down| 0.18867106220258667|\n",
      "|    0|           Thumbs Up|  0.8210995915212644|\n",
      "|    1|           Thumbs Up|  0.7458441229283395|\n",
      "|    0|             Upgrade| 0.10917147619430846|\n",
      "|    1|             Upgrade|0.057155257768178216|\n",
      "+-----+--------------------+--------------------+"
     ]
    }
   ],
   "source": [
    "# Average page count per hour, per churn\n",
    "page_data \\\n",
    "    .join(user_hours, 'userId', 'inner') \\\n",
    "    .groupby('churn', 'userId', 'page', 'hours') \\\n",
    "    .agg((count('userId')/col('hours')).alias('CountPerHour')) \\\n",
    "    .groupby('churn', 'page') \\\n",
    "    .agg(avg('CountPerHour').alias('AvgCountPerHour')) \\\n",
    "    .sort('page', 'churn') \\\n",
    "    .show(100)"
   ]
  },
  {
   "cell_type": "markdown",
   "metadata": {},
   "source": [
    "##### Selected per hour features:"
   ]
  },
  {
   "cell_type": "markdown",
   "metadata": {},
   "source": [
    " - About\n",
    " - Home\n",
    " - Help\n",
    " - Logout\n",
    " - Roll Advert\n",
    " - Save Settings\n",
    " - Settings\n",
    " - Error\n",
    " - Add Friend"
   ]
  },
  {
   "cell_type": "code",
   "execution_count": 44,
   "metadata": {},
   "outputs": [
    {
     "data": {
      "application/vnd.jupyter.widget-view+json": {
       "model_id": "49b328d97b6b4270a0d092022460a66a",
       "version_major": 2,
       "version_minor": 0
      },
      "text/plain": [
       "VBox()"
      ]
     },
     "metadata": {},
     "output_type": "display_data"
    },
    {
     "data": {
      "application/vnd.jupyter.widget-view+json": {
       "model_id": "",
       "version_major": 2,
       "version_minor": 0
      },
      "text/plain": [
       "FloatProgress(value=0.0, bar_style='info', description='Progress:', layout=Layout(height='25px', width='50%'),…"
      ]
     },
     "metadata": {},
     "output_type": "display_data"
    },
    {
     "name": "stdout",
     "output_type": "stream",
     "text": [
      "Δ for AboutPerHour feature: -0.3454 (SELECTED)\n",
      "Δ for HomePerHour feature: -0.3356 (SELECTED)\n",
      "Δ for HelpPerHour feature: -0.1323 (SELECTED)\n",
      "Δ for LogoutPerHour feature: -0.7456 (SELECTED)\n",
      "Δ for RollAdvertPerHour feature: -0.3094 (SELECTED)\n",
      "Δ for SaveSettingsPerHour feature: -0.3139 (SELECTED)\n",
      "Δ for SettingsPerHour feature: -0.1821 (SELECTED)\n",
      "Δ for ErrorPerHour feature: -0.292 (SELECTED)\n",
      "Δ for AddFriendPerHour feature: -0.1079 (SELECTED)"
     ]
    }
   ],
   "source": [
    "show_delta('AboutPerHour', 0.038796560736421515, 0.07974660299961202)\n",
    "show_delta('HomePerHour', 0.6903134160710036, 1.3876360760280084)\n",
    "show_delta('HelpPerHour', 0.09276112061952985, 0.121046621770175)\n",
    "show_delta('LogoutPerHour', 0.21806502326821595, 1.4964197305552223)\n",
    "show_delta('RollAdvertPerHour', 0.41589193128408114, 0.7885870813983161)\n",
    "show_delta('SaveSettingsPerHour', 0.026714255097028877, 0.051154518301673335)\n",
    "show_delta('SettingsPerHour', 0.10628656555573869, 0.15361547325206673)\n",
    "show_delta('ErrorPerHour', 0.0239287671949968, 0.04366372583976314)\n",
    "show_delta('AddFriendPerHour', 0.26757162138438756, 0.3323238283105589)"
   ]
  },
  {
   "cell_type": "markdown",
   "metadata": {},
   "source": [
    "### Per day features"
   ]
  },
  {
   "cell_type": "code",
   "execution_count": 17,
   "metadata": {},
   "outputs": [
    {
     "data": {
      "application/vnd.jupyter.widget-view+json": {
       "model_id": "814ce33da00647f1822c07b84363571a",
       "version_major": 2,
       "version_minor": 0
      },
      "text/plain": [
       "VBox()"
      ]
     },
     "metadata": {},
     "output_type": "display_data"
    },
    {
     "data": {
      "application/vnd.jupyter.widget-view+json": {
       "model_id": "",
       "version_major": 2,
       "version_minor": 0
      },
      "text/plain": [
       "FloatProgress(value=0.0, bar_style='info', description='Progress:', layout=Layout(height='25px', width='50%'),…"
      ]
     },
     "metadata": {},
     "output_type": "display_data"
    },
    {
     "name": "stdout",
     "output_type": "stream",
     "text": [
      "+-----+--------------------+------------------+\n",
      "|churn|                page|    AvgCountPerDay|\n",
      "+-----+--------------------+------------------+\n",
      "|    0|               About|1.2359981623425653|\n",
      "|    1|               About|1.1769044524425163|\n",
      "|    0|          Add Friend|2.4145275202506804|\n",
      "|    1|          Add Friend| 2.663828774404083|\n",
      "|    0|     Add to Playlist|   2.5970465586921|\n",
      "|    1|     Add to Playlist|3.0302791793537764|\n",
      "|    0|              Cancel|               1.0|\n",
      "|    1|              Cancel|               1.0|\n",
      "|    0|Cancellation Conf...|               1.0|\n",
      "|    1|Cancellation Conf...|               1.0|\n",
      "|    0|           Downgrade|1.8330022091560143|\n",
      "|    1|           Downgrade|1.9526806700667658|\n",
      "|    0|               Error|1.0759669936571994|\n",
      "|    1|               Error|1.0808030144777132|\n",
      "|    0|                Help| 1.433259928460583|\n",
      "|    1|                Help|1.4588501845064854|\n",
      "|    0|                Home|  3.52374669352495|\n",
      "|    1|                Home|3.8617029426555525|\n",
      "|    0|               Login| 4858.196721311476|\n",
      "|    0|              Logout| 1.654131295511166|\n",
      "|    1|              Logout|1.8234735434657676|\n",
      "|    0|            NextSong| 57.47187401184856|\n",
      "|    1|            NextSong| 74.89393349200786|\n",
      "|    0|            Register|13.147540983606557|\n",
      "|    0|         Roll Advert|3.1304774560339985|\n",
      "|    1|         Roll Advert|3.5555139144348136|\n",
      "|    0|       Save Settings|  1.10428295661629|\n",
      "|    1|       Save Settings|1.1041377554222649|\n",
      "|    0|            Settings|1.4920117271823712|\n",
      "|    1|            Settings|1.5571676542454864|\n",
      "|    0| Submit Registration| 6.573770491803279|\n",
      "|    0|      Submit Upgrade|               1.0|\n",
      "|    1|      Submit Upgrade|1.0066963953920474|\n",
      "|    0|         Thumbs Down|1.6708331382046684|\n",
      "|    1|         Thumbs Down|1.8580682095633714|\n",
      "|    0|           Thumbs Up| 4.083945732495358|\n",
      "|    1|           Thumbs Up| 4.774128625670169|\n",
      "|    0|             Upgrade| 1.332358632047374|\n",
      "|    1|             Upgrade|1.3651338662732218|\n",
      "+-----+--------------------+------------------+"
     ]
    }
   ],
   "source": [
    "# Average page count per day, per churn\n",
    "page_data \\\n",
    "    .groupby('churn', 'userId', 'page', 'date') \\\n",
    "    .count() \\\n",
    "    .groupby('churn', 'userId', 'page') \\\n",
    "    .agg(avg('count').alias('AvgCountPerDay')) \\\n",
    "    .groupby('churn', 'page') \\\n",
    "    .agg(avg('AvgCountPerDay').alias('AvgCountPerDay')) \\\n",
    "    .sort('page', 'churn') \\\n",
    "    .show(100)"
   ]
  },
  {
   "cell_type": "markdown",
   "metadata": {},
   "source": [
    "##### Selected per day features: "
   ]
  },
  {
   "cell_type": "markdown",
   "metadata": {},
   "source": [
    " - NextSong\n"
   ]
  },
  {
   "cell_type": "code",
   "execution_count": 45,
   "metadata": {},
   "outputs": [
    {
     "data": {
      "application/vnd.jupyter.widget-view+json": {
       "model_id": "d6be7aa27c0243ec86e7e7d1b803f359",
       "version_major": 2,
       "version_minor": 0
      },
      "text/plain": [
       "VBox()"
      ]
     },
     "metadata": {},
     "output_type": "display_data"
    },
    {
     "data": {
      "application/vnd.jupyter.widget-view+json": {
       "model_id": "",
       "version_major": 2,
       "version_minor": 0
      },
      "text/plain": [
       "FloatProgress(value=0.0, bar_style='info', description='Progress:', layout=Layout(height='25px', width='50%'),…"
      ]
     },
     "metadata": {},
     "output_type": "display_data"
    },
    {
     "name": "stdout",
     "output_type": "stream",
     "text": [
      "Δ for NextSongPerDay feature: 0.1316 (SELECTED)"
     ]
    }
   ],
   "source": [
    "show_delta('NextSongPerDay', 74.89393349200786, 57.47187401184856)"
   ]
  },
  {
   "cell_type": "markdown",
   "metadata": {},
   "source": [
    "### SongCount (YES)"
   ]
  },
  {
   "cell_type": "code",
   "execution_count": 18,
   "metadata": {},
   "outputs": [
    {
     "data": {
      "application/vnd.jupyter.widget-view+json": {
       "model_id": "75960920f2194dd5b78010ebc77434a7",
       "version_major": 2,
       "version_minor": 0
      },
      "text/plain": [
       "VBox()"
      ]
     },
     "metadata": {},
     "output_type": "display_data"
    },
    {
     "data": {
      "application/vnd.jupyter.widget-view+json": {
       "model_id": "",
       "version_major": 2,
       "version_minor": 0
      },
      "text/plain": [
       "FloatProgress(value=0.0, bar_style='info', description='Progress:', layout=Layout(height='25px', width='50%'),…"
      ]
     },
     "metadata": {},
     "output_type": "display_data"
    },
    {
     "name": "stdout",
     "output_type": "stream",
     "text": [
      "+-----+------------------+\n",
      "|label|    avg(SongCount)|\n",
      "+-----+------------------+\n",
      "|    1|1748.1493239271017|\n",
      "|    0|  694.583173216885|\n",
      "+-----+------------------+"
     ]
    }
   ],
   "source": [
    "labels.join(f_SongCount, 'userId', 'outer') \\\n",
    "    .fillna(0) \\\n",
    "    .groupby('label').agg(avg('SongCount')).show()"
   ]
  },
  {
   "cell_type": "code",
   "execution_count": 53,
   "metadata": {},
   "outputs": [
    {
     "data": {
      "application/vnd.jupyter.widget-view+json": {
       "model_id": "585b52e76c8e4f69b2b66e2cecea2c47",
       "version_major": 2,
       "version_minor": 0
      },
      "text/plain": [
       "VBox()"
      ]
     },
     "metadata": {},
     "output_type": "display_data"
    },
    {
     "data": {
      "application/vnd.jupyter.widget-view+json": {
       "model_id": "",
       "version_major": 2,
       "version_minor": 0
      },
      "text/plain": [
       "FloatProgress(value=0.0, bar_style='info', description='Progress:', layout=Layout(height='25px', width='50%'),…"
      ]
     },
     "metadata": {},
     "output_type": "display_data"
    },
    {
     "name": "stdout",
     "output_type": "stream",
     "text": [
      "Δ for SongCount feature: 0.4313 (SELECTED)"
     ]
    }
   ],
   "source": [
    "show_delta('SongCount', 1748.1493239271017, 694.583173216885)"
   ]
  },
  {
   "cell_type": "markdown",
   "metadata": {},
   "source": [
    "### NonSongCount (YES)"
   ]
  },
  {
   "cell_type": "code",
   "execution_count": 20,
   "metadata": {},
   "outputs": [
    {
     "data": {
      "application/vnd.jupyter.widget-view+json": {
       "model_id": "5769d108cdfd4b82aa70a43f2caa3034",
       "version_major": 2,
       "version_minor": 0
      },
      "text/plain": [
       "VBox()"
      ]
     },
     "metadata": {},
     "output_type": "display_data"
    },
    {
     "data": {
      "application/vnd.jupyter.widget-view+json": {
       "model_id": "",
       "version_major": 2,
       "version_minor": 0
      },
      "text/plain": [
       "FloatProgress(value=0.0, bar_style='info', description='Progress:', layout=Layout(height='25px', width='50%'),…"
      ]
     },
     "metadata": {},
     "output_type": "display_data"
    },
    {
     "name": "stdout",
     "output_type": "stream",
     "text": [
      "+-----+-----------------+\n",
      "|label|avg(NonSongCount)|\n",
      "+-----+-----------------+\n",
      "|    1| 386.071526553008|\n",
      "|    0|200.2214847161572|\n",
      "+-----+-----------------+"
     ]
    }
   ],
   "source": [
    "labels.join(f_NonSongCount, 'userId', 'outer') \\\n",
    "    .fillna(0) \\\n",
    "    .groupby('label').agg(avg('NonSongCount')).show()"
   ]
  },
  {
   "cell_type": "code",
   "execution_count": 55,
   "metadata": {},
   "outputs": [
    {
     "data": {
      "application/vnd.jupyter.widget-view+json": {
       "model_id": "3edd700d2a0f430b930df32a995568f4",
       "version_major": 2,
       "version_minor": 0
      },
      "text/plain": [
       "VBox()"
      ]
     },
     "metadata": {},
     "output_type": "display_data"
    },
    {
     "data": {
      "application/vnd.jupyter.widget-view+json": {
       "model_id": "",
       "version_major": 2,
       "version_minor": 0
      },
      "text/plain": [
       "FloatProgress(value=0.0, bar_style='info', description='Progress:', layout=Layout(height='25px', width='50%'),…"
      ]
     },
     "metadata": {},
     "output_type": "display_data"
    },
    {
     "name": "stdout",
     "output_type": "stream",
     "text": [
      "Δ for NonSongCount feature: 0.317 (SELECTED)"
     ]
    }
   ],
   "source": [
    "show_delta('NonSongCount', 386.071526553008, 200.2214847161572)"
   ]
  },
  {
   "cell_type": "markdown",
   "metadata": {},
   "source": [
    "### SessionCount (NO)"
   ]
  },
  {
   "cell_type": "code",
   "execution_count": 21,
   "metadata": {},
   "outputs": [
    {
     "data": {
      "application/vnd.jupyter.widget-view+json": {
       "model_id": "e58ae43f18314388b3d7334c220d3f7c",
       "version_major": 2,
       "version_minor": 0
      },
      "text/plain": [
       "VBox()"
      ]
     },
     "metadata": {},
     "output_type": "display_data"
    },
    {
     "data": {
      "application/vnd.jupyter.widget-view+json": {
       "model_id": "",
       "version_major": 2,
       "version_minor": 0
      },
      "text/plain": [
       "FloatProgress(value=0.0, bar_style='info', description='Progress:', layout=Layout(height='25px', width='50%'),…"
      ]
     },
     "metadata": {},
     "output_type": "display_data"
    },
    {
     "name": "stdout",
     "output_type": "stream",
     "text": [
      "+-----+------------------+\n",
      "|label| avg(SessionCount)|\n",
      "+-----+------------------+\n",
      "|    1| 23.54830491867529|\n",
      "|    0|19.505735080058223|\n",
      "+-----+------------------+"
     ]
    }
   ],
   "source": [
    "labels.join(f_SessionCount, 'userId', 'outer') \\\n",
    "    .fillna(0) \\\n",
    "    .groupby('label').agg(avg('SessionCount')).show()"
   ]
  },
  {
   "cell_type": "code",
   "execution_count": 22,
   "metadata": {},
   "outputs": [
    {
     "data": {
      "application/vnd.jupyter.widget-view+json": {
       "model_id": "b7e18fb876544d91b72d8c92c66c71b0",
       "version_major": 2,
       "version_minor": 0
      },
      "text/plain": [
       "VBox()"
      ]
     },
     "metadata": {},
     "output_type": "display_data"
    },
    {
     "data": {
      "application/vnd.jupyter.widget-view+json": {
       "model_id": "",
       "version_major": 2,
       "version_minor": 0
      },
      "text/plain": [
       "FloatProgress(value=0.0, bar_style='info', description='Progress:', layout=Layout(height='25px', width='50%'),…"
      ]
     },
     "metadata": {},
     "output_type": "display_data"
    },
    {
     "name": "stdout",
     "output_type": "stream",
     "text": [
      "Δ for SessionCount feature: 0.0939"
     ]
    }
   ],
   "source": [
    "show_delta('SessionCount', 23.54830491867529, 19.505735080058223)"
   ]
  },
  {
   "cell_type": "markdown",
   "metadata": {},
   "source": [
    "### AvgSessionLength (NO)"
   ]
  },
  {
   "cell_type": "code",
   "execution_count": 22,
   "metadata": {},
   "outputs": [
    {
     "data": {
      "application/vnd.jupyter.widget-view+json": {
       "model_id": "0ac1665ba7a240dbae04c21f5c32c447",
       "version_major": 2,
       "version_minor": 0
      },
      "text/plain": [
       "VBox()"
      ]
     },
     "metadata": {},
     "output_type": "display_data"
    },
    {
     "data": {
      "application/vnd.jupyter.widget-view+json": {
       "model_id": "",
       "version_major": 2,
       "version_minor": 0
      },
      "text/plain": [
       "FloatProgress(value=0.0, bar_style='info', description='Progress:', layout=Layout(height='25px', width='50%'),…"
      ]
     },
     "metadata": {},
     "output_type": "display_data"
    },
    {
     "name": "stdout",
     "output_type": "stream",
     "text": [
      "+-----+---------------------+\n",
      "|label|avg(AvgSessionLength)|\n",
      "+-----+---------------------+\n",
      "|    1|    18895.01848812512|\n",
      "|    0|   15908.077736444633|\n",
      "+-----+---------------------+"
     ]
    }
   ],
   "source": [
    "labels.join(f_AvgSessionLength, 'userId', 'outer') \\\n",
    "    .fillna(0) \\\n",
    "    .groupby('label').agg(avg('AvgSessionLength')).show()"
   ]
  },
  {
   "cell_type": "code",
   "execution_count": 23,
   "metadata": {},
   "outputs": [
    {
     "data": {
      "application/vnd.jupyter.widget-view+json": {
       "model_id": "c792a98453eb4f3787d8560969d68776",
       "version_major": 2,
       "version_minor": 0
      },
      "text/plain": [
       "VBox()"
      ]
     },
     "metadata": {},
     "output_type": "display_data"
    },
    {
     "data": {
      "application/vnd.jupyter.widget-view+json": {
       "model_id": "",
       "version_major": 2,
       "version_minor": 0
      },
      "text/plain": [
       "FloatProgress(value=0.0, bar_style='info', description='Progress:', layout=Layout(height='25px', width='50%'),…"
      ]
     },
     "metadata": {},
     "output_type": "display_data"
    },
    {
     "name": "stdout",
     "output_type": "stream",
     "text": [
      "Δ for AvgSessionLength feature: 0.0858"
     ]
    }
   ],
   "source": [
    "show_delta('AvgSessionLength', 18895.01848812512, 15908.077736444633)"
   ]
  },
  {
   "cell_type": "markdown",
   "metadata": {},
   "source": [
    "### TotalSongLength (YES)"
   ]
  },
  {
   "cell_type": "code",
   "execution_count": 23,
   "metadata": {},
   "outputs": [
    {
     "data": {
      "application/vnd.jupyter.widget-view+json": {
       "model_id": "9d9cb48ac4db433786f56c02e7bfdc6d",
       "version_major": 2,
       "version_minor": 0
      },
      "text/plain": [
       "VBox()"
      ]
     },
     "metadata": {},
     "output_type": "display_data"
    },
    {
     "data": {
      "application/vnd.jupyter.widget-view+json": {
       "model_id": "",
       "version_major": 2,
       "version_minor": 0
      },
      "text/plain": [
       "FloatProgress(value=0.0, bar_style='info', description='Progress:', layout=Layout(height='25px', width='50%'),…"
      ]
     },
     "metadata": {},
     "output_type": "display_data"
    },
    {
     "name": "stdout",
     "output_type": "stream",
     "text": [
      "+-----+--------------------+\n",
      "|label|avg(TotalSongLength)|\n",
      "+-----+--------------------+\n",
      "|    1|   434794.7743775052|\n",
      "|    0|    172764.785853936|\n",
      "+-----+--------------------+"
     ]
    }
   ],
   "source": [
    "labels.join(f_TotalSongLength, 'userId', 'outer') \\\n",
    "    .fillna(0) \\\n",
    "    .groupby('label').agg(avg('TotalSongLength')).show()"
   ]
  },
  {
   "cell_type": "code",
   "execution_count": 56,
   "metadata": {},
   "outputs": [
    {
     "data": {
      "application/vnd.jupyter.widget-view+json": {
       "model_id": "2c7800a13aac42a9a522e346cab8c2b1",
       "version_major": 2,
       "version_minor": 0
      },
      "text/plain": [
       "VBox()"
      ]
     },
     "metadata": {},
     "output_type": "display_data"
    },
    {
     "data": {
      "application/vnd.jupyter.widget-view+json": {
       "model_id": "",
       "version_major": 2,
       "version_minor": 0
      },
      "text/plain": [
       "FloatProgress(value=0.0, bar_style='info', description='Progress:', layout=Layout(height='25px', width='50%'),…"
      ]
     },
     "metadata": {},
     "output_type": "display_data"
    },
    {
     "name": "stdout",
     "output_type": "stream",
     "text": [
      "Δ for TotalSongLength feature: 0.4313 (SELECTED)"
     ]
    }
   ],
   "source": [
    "show_delta('TotalSongLength', 434794.7743775052, 172764.785853936)"
   ]
  },
  {
   "cell_type": "markdown",
   "metadata": {},
   "source": [
    "### SessionsPerDay (NO)"
   ]
  },
  {
   "cell_type": "code",
   "execution_count": 24,
   "metadata": {},
   "outputs": [
    {
     "data": {
      "application/vnd.jupyter.widget-view+json": {
       "model_id": "d1397c35ad624f4d84c4f040e3b63f8c",
       "version_major": 2,
       "version_minor": 0
      },
      "text/plain": [
       "VBox()"
      ]
     },
     "metadata": {},
     "output_type": "display_data"
    },
    {
     "data": {
      "application/vnd.jupyter.widget-view+json": {
       "model_id": "",
       "version_major": 2,
       "version_minor": 0
      },
      "text/plain": [
       "FloatProgress(value=0.0, bar_style='info', description='Progress:', layout=Layout(height='25px', width='50%'),…"
      ]
     },
     "metadata": {},
     "output_type": "display_data"
    },
    {
     "name": "stdout",
     "output_type": "stream",
     "text": [
      "+-----+-------------------+\n",
      "|label|avg(SessionsPerDay)|\n",
      "+-----+-------------------+\n",
      "|    1| 1.2262613774098055|\n",
      "|    0| 1.3028645682426432|\n",
      "+-----+-------------------+"
     ]
    }
   ],
   "source": [
    "labels.join(f_SessionsPerDay, 'userId', 'outer') \\\n",
    "    .fillna(0) \\\n",
    "    .groupby('label').agg(avg('SessionsPerDay')).show()"
   ]
  },
  {
   "cell_type": "code",
   "execution_count": 25,
   "metadata": {},
   "outputs": [
    {
     "data": {
      "application/vnd.jupyter.widget-view+json": {
       "model_id": "86b82c001a654883b56e8f51212ca6c9",
       "version_major": 2,
       "version_minor": 0
      },
      "text/plain": [
       "VBox()"
      ]
     },
     "metadata": {},
     "output_type": "display_data"
    },
    {
     "data": {
      "application/vnd.jupyter.widget-view+json": {
       "model_id": "",
       "version_major": 2,
       "version_minor": 0
      },
      "text/plain": [
       "FloatProgress(value=0.0, bar_style='info', description='Progress:', layout=Layout(height='25px', width='50%'),…"
      ]
     },
     "metadata": {},
     "output_type": "display_data"
    },
    {
     "name": "stdout",
     "output_type": "stream",
     "text": [
      "Δ for SessionsPerDay feature: -0.0303"
     ]
    }
   ],
   "source": [
    "show_delta('SessionsPerDay', 1.2262613774098055, 1.3028645682426432)"
   ]
  },
  {
   "cell_type": "markdown",
   "metadata": {},
   "source": [
    "### UniqueSongCount (YES)"
   ]
  },
  {
   "cell_type": "code",
   "execution_count": 25,
   "metadata": {},
   "outputs": [
    {
     "data": {
      "application/vnd.jupyter.widget-view+json": {
       "model_id": "29a89edd1db2456d9b1b7173cf223b0a",
       "version_major": 2,
       "version_minor": 0
      },
      "text/plain": [
       "VBox()"
      ]
     },
     "metadata": {},
     "output_type": "display_data"
    },
    {
     "data": {
      "application/vnd.jupyter.widget-view+json": {
       "model_id": "",
       "version_major": 2,
       "version_minor": 0
      },
      "text/plain": [
       "FloatProgress(value=0.0, bar_style='info', description='Progress:', layout=Layout(height='25px', width='50%'),…"
      ]
     },
     "metadata": {},
     "output_type": "display_data"
    },
    {
     "name": "stdout",
     "output_type": "stream",
     "text": [
      "+-----+--------------------+\n",
      "|label|avg(UniqueSongCount)|\n",
      "+-----+--------------------+\n",
      "|    1|  1501.8208896727415|\n",
      "|    0|   628.5352547307133|\n",
      "+-----+--------------------+"
     ]
    }
   ],
   "source": [
    "labels.join(f_UniqueSongCount, 'userId', 'outer') \\\n",
    "    .fillna(0) \\\n",
    "    .groupby('label').agg(avg('UniqueSongCount')).show()"
   ]
  },
  {
   "cell_type": "code",
   "execution_count": 57,
   "metadata": {},
   "outputs": [
    {
     "data": {
      "application/vnd.jupyter.widget-view+json": {
       "model_id": "48e940eae0c04523b815230aa79ea9a0",
       "version_major": 2,
       "version_minor": 0
      },
      "text/plain": [
       "VBox()"
      ]
     },
     "metadata": {},
     "output_type": "display_data"
    },
    {
     "data": {
      "application/vnd.jupyter.widget-view+json": {
       "model_id": "",
       "version_major": 2,
       "version_minor": 0
      },
      "text/plain": [
       "FloatProgress(value=0.0, bar_style='info', description='Progress:', layout=Layout(height='25px', width='50%'),…"
      ]
     },
     "metadata": {},
     "output_type": "display_data"
    },
    {
     "name": "stdout",
     "output_type": "stream",
     "text": [
      "Δ for UniqueSongCount feature: 0.4099 (SELECTED)"
     ]
    }
   ],
   "source": [
    "show_delta('UniqueSongCount', 1501.8208896727415, 628.5352547307133)"
   ]
  },
  {
   "cell_type": "markdown",
   "metadata": {},
   "source": [
    "### UniqueSongShare (NO)"
   ]
  },
  {
   "cell_type": "code",
   "execution_count": 26,
   "metadata": {},
   "outputs": [
    {
     "data": {
      "application/vnd.jupyter.widget-view+json": {
       "model_id": "17e861aadf454b04b458cf4d2f57f7f0",
       "version_major": 2,
       "version_minor": 0
      },
      "text/plain": [
       "VBox()"
      ]
     },
     "metadata": {},
     "output_type": "display_data"
    },
    {
     "data": {
      "application/vnd.jupyter.widget-view+json": {
       "model_id": "",
       "version_major": 2,
       "version_minor": 0
      },
      "text/plain": [
       "FloatProgress(value=0.0, bar_style='info', description='Progress:', layout=Layout(height='25px', width='50%'),…"
      ]
     },
     "metadata": {},
     "output_type": "display_data"
    },
    {
     "name": "stdout",
     "output_type": "stream",
     "text": [
      "+-----+--------------------+\n",
      "|label|avg(UniqueSongShare)|\n",
      "+-----+--------------------+\n",
      "|    1|   0.902333929373722|\n",
      "|    0|  0.9504775922825538|\n",
      "+-----+--------------------+"
     ]
    }
   ],
   "source": [
    "labels.join(f_UniqueSongShare, 'userId', 'outer') \\\n",
    "    .fillna(0) \\\n",
    "    .groupby('label').agg(avg('UniqueSongShare')).show()"
   ]
  },
  {
   "cell_type": "code",
   "execution_count": 27,
   "metadata": {},
   "outputs": [
    {
     "data": {
      "application/vnd.jupyter.widget-view+json": {
       "model_id": "579eb84dc3f44233b0a12b8d8cbc7ddb",
       "version_major": 2,
       "version_minor": 0
      },
      "text/plain": [
       "VBox()"
      ]
     },
     "metadata": {},
     "output_type": "display_data"
    },
    {
     "data": {
      "application/vnd.jupyter.widget-view+json": {
       "model_id": "",
       "version_major": 2,
       "version_minor": 0
      },
      "text/plain": [
       "FloatProgress(value=0.0, bar_style='info', description='Progress:', layout=Layout(height='25px', width='50%'),…"
      ]
     },
     "metadata": {},
     "output_type": "display_data"
    },
    {
     "name": "stdout",
     "output_type": "stream",
     "text": [
      "Δ for UniqueSongShare feature: -0.026"
     ]
    }
   ],
   "source": [
    "show_delta('UniqueSongShare', 0.902333929373722, 0.9504775922825538)"
   ]
  },
  {
   "cell_type": "markdown",
   "metadata": {},
   "source": [
    "### LogCount (YES)"
   ]
  },
  {
   "cell_type": "code",
   "execution_count": 27,
   "metadata": {},
   "outputs": [
    {
     "data": {
      "application/vnd.jupyter.widget-view+json": {
       "model_id": "56e54ba4b72240deaa50a974e823a42a",
       "version_major": 2,
       "version_minor": 0
      },
      "text/plain": [
       "VBox()"
      ]
     },
     "metadata": {},
     "output_type": "display_data"
    },
    {
     "data": {
      "application/vnd.jupyter.widget-view+json": {
       "model_id": "",
       "version_major": 2,
       "version_minor": 0
      },
      "text/plain": [
       "FloatProgress(value=0.0, bar_style='info', description='Progress:', layout=Layout(height='25px', width='50%'),…"
      ]
     },
     "metadata": {},
     "output_type": "display_data"
    },
    {
     "name": "stdout",
     "output_type": "stream",
     "text": [
      "+-----+------------------+\n",
      "|label|     avg(LogCount)|\n",
      "+-----+------------------+\n",
      "|    1|2134.2208504801097|\n",
      "|    0| 894.8046579330422|\n",
      "+-----+------------------+"
     ]
    }
   ],
   "source": [
    "labels.join(f_LogCount, 'userId', 'outer') \\\n",
    "    .fillna(0) \\\n",
    "    .groupby('label').agg(avg('LogCount')).show()"
   ]
  },
  {
   "cell_type": "code",
   "execution_count": 58,
   "metadata": {},
   "outputs": [
    {
     "data": {
      "application/vnd.jupyter.widget-view+json": {
       "model_id": "a7a81177983b4e3ea314821d4d88e71c",
       "version_major": 2,
       "version_minor": 0
      },
      "text/plain": [
       "VBox()"
      ]
     },
     "metadata": {},
     "output_type": "display_data"
    },
    {
     "data": {
      "application/vnd.jupyter.widget-view+json": {
       "model_id": "",
       "version_major": 2,
       "version_minor": 0
      },
      "text/plain": [
       "FloatProgress(value=0.0, bar_style='info', description='Progress:', layout=Layout(height='25px', width='50%'),…"
      ]
     },
     "metadata": {},
     "output_type": "display_data"
    },
    {
     "name": "stdout",
     "output_type": "stream",
     "text": [
      "Δ for LogCount feature: 0.4092 (SELECTED)"
     ]
    }
   ],
   "source": [
    "show_delta('LogCount', 2134.2208504801097, 894.8046579330422)"
   ]
  },
  {
   "cell_type": "markdown",
   "metadata": {},
   "source": [
    "### Per session-hour features"
   ]
  },
  {
   "cell_type": "code",
   "execution_count": 28,
   "metadata": {},
   "outputs": [
    {
     "data": {
      "application/vnd.jupyter.widget-view+json": {
       "model_id": "8daa4a5141e34d91ac7414753336fb02",
       "version_major": 2,
       "version_minor": 0
      },
      "text/plain": [
       "VBox()"
      ]
     },
     "metadata": {},
     "output_type": "display_data"
    },
    {
     "data": {
      "application/vnd.jupyter.widget-view+json": {
       "model_id": "",
       "version_major": 2,
       "version_minor": 0
      },
      "text/plain": [
       "FloatProgress(value=0.0, bar_style='info', description='Progress:', layout=Layout(height='25px', width='50%'),…"
      ]
     },
     "metadata": {},
     "output_type": "display_data"
    },
    {
     "name": "stdout",
     "output_type": "stream",
     "text": [
      "+-----+-------------------+-------------------+\n",
      "|churn|               page|  AvgPerSessionHour|\n",
      "+-----+-------------------+-------------------+\n",
      "|    0|              About| 1.3444645752997937|\n",
      "|    1|              About|  1.623732947278581|\n",
      "|    0|         Add Friend| 11.101005878338443|\n",
      "|    1|         Add Friend|  9.002988046530247|\n",
      "|    0|    Add to Playlist| 0.8910132604671539|\n",
      "|    1|    Add to Playlist| 0.8612317970890859|\n",
      "|    0|          Downgrade| 0.7068792406841425|\n",
      "|    1|          Downgrade| 0.5054197692132388|\n",
      "|    0|              Error| 0.8401778912640101|\n",
      "|    1|              Error|0.35152059539334196|\n",
      "|    0|               Help| 1.2071021264084552|\n",
      "|    1|               Help|  1.570043252059434|\n",
      "|    0|               Home| 13.293379077967844|\n",
      "|    1|               Home| 12.174322714941066|\n",
      "|    0|              Login|   916.384243862892|\n",
      "|    0|             Logout|  21.58056847479438|\n",
      "|    1|             Logout| 19.548823872578662|\n",
      "|    0|           NextSong| 28.963111939244268|\n",
      "|    1|           NextSong|  27.42349375706108|\n",
      "|    0|           Register|  96.46084130298551|\n",
      "|    0|        Roll Advert| 2.5716465393871033|\n",
      "|    1|        Roll Advert|  2.099524786665363|\n",
      "|    0|      Save Settings|  2.247808990781459|\n",
      "|    1|      Save Settings|  1.572404364599302|\n",
      "|    0|           Settings| 1.8068410162538084|\n",
      "|    1|           Settings| 1.0142441973565337|\n",
      "|    0|Submit Registration| 119.50624337136382|\n",
      "|    0|        Thumbs Down|  3.473955622402571|\n",
      "|    1|        Thumbs Down|  2.347093193861148|\n",
      "|    0|          Thumbs Up| 5.1912278601305655|\n",
      "|    1|          Thumbs Up|  4.843781700538968|\n",
      "+-----+-------------------+-------------------+"
     ]
    }
   ],
   "source": [
    "page_data \\\n",
    "    .join(session_hours, ['userId', 'sessionId'], 'inner') \\\n",
    "    .groupby('churn', 'page', 'userId', 'sessionId', 'sessionHours') \\\n",
    "    .agg((count('userId')/col('sessionHours')).alias('AvgPerSessionHour')) \\\n",
    "    .groupby('churn', 'page', 'userId') \\\n",
    "    .agg(avg('AvgPerSessionHour').alias('AvgPerSessionHour')) \\\n",
    "    .groupby('churn', 'page') \\\n",
    "    .agg(avg('AvgPerSessionHour').alias('AvgPerSessionHour')) \\\n",
    "    .sort('page', 'churn') \\\n",
    "    .show(100)"
   ]
  },
  {
   "cell_type": "markdown",
   "metadata": {},
   "source": [
    "##### Selected per session hour features:"
   ]
  },
  {
   "cell_type": "markdown",
   "metadata": {},
   "source": [
    " - Error\n",
    " - Roll Advert\n",
    " - Save Settings\n",
    " - Settings\n",
    " - Thumbs Down"
   ]
  },
  {
   "cell_type": "code",
   "execution_count": 47,
   "metadata": {},
   "outputs": [
    {
     "data": {
      "application/vnd.jupyter.widget-view+json": {
       "model_id": "2ddef38efa6d47008f625223e0ddbad3",
       "version_major": 2,
       "version_minor": 0
      },
      "text/plain": [
       "VBox()"
      ]
     },
     "metadata": {},
     "output_type": "display_data"
    },
    {
     "data": {
      "application/vnd.jupyter.widget-view+json": {
       "model_id": "",
       "version_major": 2,
       "version_minor": 0
      },
      "text/plain": [
       "FloatProgress(value=0.0, bar_style='info', description='Progress:', layout=Layout(height='25px', width='50%'),…"
      ]
     },
     "metadata": {},
     "output_type": "display_data"
    },
    {
     "name": "stdout",
     "output_type": "stream",
     "text": [
      "Δ for ErrorPerSessionHour feature: -0.4101 (SELECTED)\n",
      "Δ for RollAdvertPerSessionHour feature: -0.1011 (SELECTED)\n",
      "Δ for SaveSettingsPerSessionHour feature: -0.1768 (SELECTED)\n",
      "Δ for SettingsPerSessionHour feature: -0.281 (SELECTED)\n",
      "Δ for ThumbsDownPerSessionHour feature: -0.1936 (SELECTED)"
     ]
    }
   ],
   "source": [
    "show_delta('ErrorPerSessionHour', 0.35152059539334196, 0.8401778912640101)\n",
    "show_delta('RollAdvertPerSessionHour', 2.099524786665363, 2.5716465393871033)\n",
    "show_delta('SaveSettingsPerSessionHour', 1.572404364599302, 2.247808990781459)\n",
    "show_delta('SettingsPerSessionHour', 1.0142441973565337, 1.8068410162538084)\n",
    "show_delta('ThumbsDownPerSessionHour', 2.347093193861148, 3.473955622402571)"
   ]
  },
  {
   "cell_type": "markdown",
   "metadata": {},
   "source": [
    "### Page count features"
   ]
  },
  {
   "cell_type": "code",
   "execution_count": 29,
   "metadata": {},
   "outputs": [
    {
     "data": {
      "application/vnd.jupyter.widget-view+json": {
       "model_id": "723784e470ed4444b03b93b2514a165e",
       "version_major": 2,
       "version_minor": 0
      },
      "text/plain": [
       "VBox()"
      ]
     },
     "metadata": {},
     "output_type": "display_data"
    },
    {
     "data": {
      "application/vnd.jupyter.widget-view+json": {
       "model_id": "",
       "version_major": 2,
       "version_minor": 0
      },
      "text/plain": [
       "FloatProgress(value=0.0, bar_style='info', description='Progress:', layout=Layout(height='25px', width='50%'),…"
      ]
     },
     "metadata": {},
     "output_type": "display_data"
    },
    {
     "name": "stdout",
     "output_type": "stream",
     "text": [
      "+-----+-------------------+------------------+\n",
      "|churn|               page|      AvgPageCount|\n",
      "+-----+-------------------+------------------+\n",
      "|    0|              About|7.1716640190627485|\n",
      "|    1|              About| 4.676691729323308|\n",
      "|    0|         Add Friend|14.336133902198885|\n",
      "|    1|         Add Friend|32.199802761341225|\n",
      "|    0|    Add to Playlist| 21.25598663449044|\n",
      "|    1|    Add to Playlist| 49.89272406354187|\n",
      "|    0|          Downgrade| 9.738670096972095|\n",
      "|    1|          Downgrade|16.817754262198708|\n",
      "|    0|              Error| 2.030910055717697|\n",
      "|    1|              Error|2.8522088353413655|\n",
      "|    0|               Help| 7.507071922961179|\n",
      "|    1|               Help| 11.17043618739903|\n",
      "|    0|               Home| 55.55833824395993|\n",
      "|    1|               Home| 78.43954536547129|\n",
      "|    0|              Login|          296350.0|\n",
      "|    0|             Logout| 10.61476735506345|\n",
      "|    1|             Logout|24.658143194335167|\n",
      "|    0|           NextSong| 695.2713602984031|\n",
      "|    1|           NextSong|1748.1493239271017|\n",
      "|    0|           Register|             802.0|\n",
      "|    0|        Roll Advert|14.764784318954597|\n",
      "|    1|        Roll Advert| 32.30518840007891|\n",
      "|    0|      Save Settings|2.0444444444444443|\n",
      "|    1|      Save Settings|3.1942740286298568|\n",
      "|    0|           Settings|6.0561129425254405|\n",
      "|    1|           Settings|12.566177947378991|\n",
      "|    0|Submit Registration|             401.0|\n",
      "|    0|        Thumbs Down| 9.032881106729933|\n",
      "|    1|        Thumbs Down|20.531373322809788|\n",
      "|    0|          Thumbs Up|40.796657046657046|\n",
      "|    1|          Thumbs Up| 92.73235294117647|\n",
      "+-----+-------------------+------------------+"
     ]
    }
   ],
   "source": [
    "page_data \\\n",
    "    .groupby('churn', 'page', 'userId') \\\n",
    "    .count() \\\n",
    "    .groupby('churn', 'page') \\\n",
    "    .agg(avg('count').alias('AvgPageCount')) \\\n",
    "    .sort('page', 'churn') \\\n",
    "    .show(100)"
   ]
  },
  {
   "cell_type": "markdown",
   "metadata": {},
   "source": [
    "##### Selected per count features:"
   ]
  },
  {
   "cell_type": "markdown",
   "metadata": {},
   "source": [
    " - About\n",
    " - Add Friend\n",
    " - Add to Playlist\n",
    " - Logout\n",
    " - Roll Advert\n",
    " - Save Settings\n",
    " - Settings"
   ]
  },
  {
   "cell_type": "code",
   "execution_count": 48,
   "metadata": {},
   "outputs": [
    {
     "data": {
      "application/vnd.jupyter.widget-view+json": {
       "model_id": "d45ad345a2e9416bb4869f479546e9a6",
       "version_major": 2,
       "version_minor": 0
      },
      "text/plain": [
       "VBox()"
      ]
     },
     "metadata": {},
     "output_type": "display_data"
    },
    {
     "data": {
      "application/vnd.jupyter.widget-view+json": {
       "model_id": "",
       "version_major": 2,
       "version_minor": 0
      },
      "text/plain": [
       "FloatProgress(value=0.0, bar_style='info', description='Progress:', layout=Layout(height='25px', width='50%'),…"
      ]
     },
     "metadata": {},
     "output_type": "display_data"
    },
    {
     "name": "stdout",
     "output_type": "stream",
     "text": [
      "Δ for AboutCount feature: -0.2106 (SELECTED)\n",
      "Δ for AddFriendCount feature: 0.3839 (SELECTED)\n",
      "Δ for AddToPlaylistCount feature: 0.4025 (SELECTED)\n",
      "Δ for LogoutCount feature: 0.3981 (SELECTED)\n",
      "Δ for RollAdvertCount feature: 0.3726 (SELECTED)\n",
      "Δ for SaveSettingsCount feature: 0.2195 (SELECTED)\n",
      "Δ for SettingsCount feature: 0.3496 (SELECTED)\n",
      "Δ for ThumbsDownCount feature: 0.3889 (SELECTED)\n",
      "Δ for ThumbsUpCount feature: 0.3889 (SELECTED)\n",
      "Δ for ErrorCount feature: 0.1682 (SELECTED)\n",
      "Δ for HelpCount feature: 0.1961 (SELECTED)\n",
      "Δ for HomeCount feature: 0.1708 (SELECTED)"
     ]
    }
   ],
   "source": [
    "show_delta('AboutCount', 4.676691729323308, 7.1716640190627485)\n",
    "show_delta('AddFriendCount', 32.199802761341225, 14.336133902198885)\n",
    "show_delta('AddToPlaylistCount', 49.89272406354187, 21.25598663449044)\n",
    "show_delta('LogoutCount', 24.658143194335167, 10.61476735506345)\n",
    "show_delta('RollAdvertCount', 32.30518840007891, 14.764784318954597)\n",
    "show_delta('SaveSettingsCount', 3.1942740286298568, 2.0444444444444443)\n",
    "show_delta('SettingsCount', 12.566177947378991, 6.0561129425254405)\n",
    "show_delta('ThumbsDownCount', 20.531373322809788, 9.032881106729933)\n",
    "show_delta('ThumbsUpCount', 92.73235294117647, 40.796657046657046)\n",
    "show_delta('ErrorCount', 2.8522088353413655, 2.030910055717697)\n",
    "show_delta('HelpCount', 11.17043618739903, 7.507071922961179)\n",
    "show_delta('HomeCount', 78.43954536547129, 55.55833824395993)"
   ]
  },
  {
   "cell_type": "markdown",
   "metadata": {},
   "source": [
    "## List of selected features (28 features)"
   ]
  },
  {
   "cell_type": "code",
   "execution_count": 60,
   "metadata": {},
   "outputs": [
    {
     "data": {
      "application/vnd.jupyter.widget-view+json": {
       "model_id": "120559ee3bad43dcbb0265b82539d562",
       "version_major": 2,
       "version_minor": 0
      },
      "text/plain": [
       "VBox()"
      ]
     },
     "metadata": {},
     "output_type": "display_data"
    },
    {
     "data": {
      "application/vnd.jupyter.widget-view+json": {
       "model_id": "",
       "version_major": 2,
       "version_minor": 0
      },
      "text/plain": [
       "FloatProgress(value=0.0, bar_style='info', description='Progress:', layout=Layout(height='25px', width='50%'),…"
      ]
     },
     "metadata": {},
     "output_type": "display_data"
    },
    {
     "name": "stdout",
     "output_type": "stream",
     "text": [
      "+--------------------------+--------------------+-------------------+\n",
      "|feature                   |delta               |abs(delta)         |\n",
      "+--------------------------+--------------------+-------------------+\n",
      "|LogoutPerHour             |-0.7456203412927254 |0.7456203412927254 |\n",
      "|SongCount                 |0.43130639639912827 |0.43130639639912827|\n",
      "|TotalSongLength           |0.43128280036240824 |0.43128280036240824|\n",
      "|ErrorPerSessionHour       |-0.41005111724302395|0.41005111724302395|\n",
      "|UniqueSongCount           |0.40992471481174186 |0.40992471481174186|\n",
      "|LogCount                  |0.4091798464900924  |0.4091798464900924 |\n",
      "|AddToPlaylistCount        |0.40249130515647424 |0.40249130515647424|\n",
      "|LogoutCount               |0.3981348751928029  |0.3981348751928029 |\n",
      "|ThumbsUpCount             |0.3889469104822356  |0.3889469104822356 |\n",
      "|ThumbsDownCount           |0.3889322574829049  |0.3889322574829049 |\n",
      "|AddFriendCount            |0.3838682562317078  |0.3838682562317078 |\n",
      "|RollAdvertCount           |0.37264529949539504 |0.37264529949539504|\n",
      "|SettingsCount             |0.3495845405563289  |0.3495845405563289 |\n",
      "|AboutPerHour              |-0.3454441485497736 |0.3454441485497736 |\n",
      "|HomePerHour               |-0.3355821027452472 |0.3355821027452472 |\n",
      "|NonSongCount              |0.31699174007640984 |0.31699174007640984|\n",
      "|SaveSettingsPerHour       |-0.31386475140048614|0.31386475140048614|\n",
      "|RollAdvertPerHour         |-0.3094243620602703 |0.3094243620602703 |\n",
      "|ErrorPerHour              |-0.2919696812280247 |0.2919696812280247 |\n",
      "|SettingsPerSessionHour    |-0.28095458268094375|0.28095458268094375|\n",
      "|SaveSettingsCount         |0.21948680580856714 |0.21948680580856714|\n",
      "|AboutCount                |-0.21057540326465105|0.21057540326465105|\n",
      "|HelpCount                 |0.1961377418653521  |0.1961377418653521 |\n",
      "|ThumbsDownPerSessionHour  |-0.19358408838507343|0.19358408838507343|\n",
      "|SettingsPerHour           |-0.1821028719644913 |0.1821028719644913 |\n",
      "|SaveSettingsPerSessionHour|-0.17679761923004939|0.17679761923004939|\n",
      "|HomeCount                 |0.17075797397072398 |0.17075797397072398|\n",
      "|ErrorCount                |0.16819143624118132 |0.16819143624118132|\n",
      "|HelpPerHour               |-0.1322940920403598 |0.1322940920403598 |\n",
      "|NextSongPerDay            |0.13162054316521066 |0.13162054316521066|\n",
      "|AvgSessionGap             |0.12449128405598264 |0.12449128405598264|\n",
      "|AddFriendPerHour          |-0.10793915332929857|0.10793915332929857|\n",
      "|RollAdvertPerSessionHour  |-0.10107138440600148|0.10107138440600148|\n",
      "+--------------------------+--------------------+-------------------+"
     ]
    }
   ],
   "source": [
    "spark.sparkContext.parallelize(selected_features).toDF(['delta', 'feature']) \\\n",
    "    .select('feature', 'delta', Fabs(col('delta'))) \\\n",
    "    .sort(desc('abs(delta)')) \\\n",
    "    .show(40, False)"
   ]
  }
 ],
 "metadata": {
  "kernelspec": {
   "display_name": "PySpark",
   "language": "",
   "name": "pysparkkernel"
  },
  "language_info": {
   "codemirror_mode": {
    "name": "python",
    "version": 2
   },
   "mimetype": "text/x-python",
   "name": "pyspark",
   "pygments_lexer": "python2"
  }
 },
 "nbformat": 4,
 "nbformat_minor": 4
}
