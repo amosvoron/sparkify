{
 "cells": [
  {
   "cell_type": "markdown",
   "metadata": {},
   "source": [
    "# Sparkify Project Workspace\n",
    "This workspace contains a tiny subset (128MB) of the full dataset available (12GB). Feel free to use this workspace to build your project, or to explore a smaller subset with Spark before deploying your cluster on the cloud. Instructions for setting up your Spark cluster is included in the last lesson of the Extracurricular Spark Course content.\n",
    "\n",
    "You can follow the steps below to guide your data analysis and model building portion of this project."
   ]
  },
  {
   "cell_type": "code",
   "execution_count": 131,
   "metadata": {},
   "outputs": [],
   "source": [
    "# Import libraries\n",
    "from pyspark.sql import SparkSession\n",
    "from pyspark.sql.functions import isnan, count, when, col, desc, udf, col, sort_array, asc, \\\n",
    "                                  avg, from_unixtime, split, min, max, round, lit, mean\n",
    "from pyspark.sql.functions import sum as Fsum\n",
    "from pyspark.sql.window import Window\n",
    "\n",
    "from pyspark.sql.types import IntegerType #, DateType, TimestampType\n",
    "import datetime\n",
    "\n",
    "import numpy as np\n",
    "import pandas as pd\n",
    "%matplotlib inline\n",
    "import matplotlib.pyplot as plt\n",
    "import seaborn as sb"
   ]
  },
  {
   "cell_type": "code",
   "execution_count": 27,
   "metadata": {},
   "outputs": [],
   "source": [
    "# Create a Spark session\n",
    "spark = SparkSession \\\n",
    "    .builder \\\n",
    "    .appName(\"Sparkify\") \\\n",
    "    .getOrCreate()"
   ]
  },
  {
   "cell_type": "markdown",
   "metadata": {},
   "source": [
    "# Load and Clean Dataset\n",
    "In this workspace, the mini-dataset file is `mini_sparkify_event_data.json`. Load and clean the dataset, checking for invalid or missing data - for example, records without userids or sessionids. "
   ]
  },
  {
   "cell_type": "code",
   "execution_count": 147,
   "metadata": {},
   "outputs": [
    {
     "data": {
      "text/plain": [
       "[Row(artist='Martha Tilston', auth='Logged In', firstName='Colin', gender='M', itemInSession=50, lastName='Freeman', length=277.89016, level='paid', location='Bakersfield, CA', method='PUT', page='NextSong', registration=1538173362000, sessionId=29, song='Rockpools', status=200, ts=1538352117000, userAgent='Mozilla/5.0 (Windows NT 6.1; WOW64; rv:31.0) Gecko/20100101 Firefox/31.0', userId='30'),\n",
       " Row(artist='Five Iron Frenzy', auth='Logged In', firstName='Micah', gender='M', itemInSession=79, lastName='Long', length=236.09424, level='free', location='Boston-Cambridge-Newton, MA-NH', method='PUT', page='NextSong', registration=1538331630000, sessionId=8, song='Canada', status=200, ts=1538352180000, userAgent='\"Mozilla/5.0 (Windows NT 6.1; WOW64) AppleWebKit/537.36 (KHTML, like Gecko) Chrome/37.0.2062.103 Safari/537.36\"', userId='9'),\n",
       " Row(artist='Adam Lambert', auth='Logged In', firstName='Colin', gender='M', itemInSession=51, lastName='Freeman', length=282.8273, level='paid', location='Bakersfield, CA', method='PUT', page='NextSong', registration=1538173362000, sessionId=29, song='Time For Miracles', status=200, ts=1538352394000, userAgent='Mozilla/5.0 (Windows NT 6.1; WOW64; rv:31.0) Gecko/20100101 Firefox/31.0', userId='30')]"
      ]
     },
     "execution_count": 147,
     "metadata": {},
     "output_type": "execute_result"
    }
   ],
   "source": [
    "# Load dataset\n",
    "path = \"data/mini_sparkify_event_data.json\"\n",
    "data = spark.read.json(path)\n",
    "original_count = data.count()\n",
    "data.take(3)"
   ]
  },
  {
   "cell_type": "markdown",
   "metadata": {},
   "source": [
    "### Dataset size, schema & column description"
   ]
  },
  {
   "cell_type": "code",
   "execution_count": 38,
   "metadata": {},
   "outputs": [
    {
     "name": "stdout",
     "output_type": "stream",
     "text": [
      "Row count: 286500\n",
      "Column count: 18\n"
     ]
    }
   ],
   "source": [
    "# Dataset size\n",
    "print(f'Row count: {original_count}')\n",
    "print(f'Column count: {len(data.columns)}')"
   ]
  },
  {
   "cell_type": "code",
   "execution_count": 39,
   "metadata": {},
   "outputs": [
    {
     "name": "stdout",
     "output_type": "stream",
     "text": [
      "root\n",
      " |-- artist: string (nullable = true)\n",
      " |-- auth: string (nullable = true)\n",
      " |-- firstName: string (nullable = true)\n",
      " |-- gender: string (nullable = true)\n",
      " |-- itemInSession: long (nullable = true)\n",
      " |-- lastName: string (nullable = true)\n",
      " |-- length: double (nullable = true)\n",
      " |-- level: string (nullable = true)\n",
      " |-- location: string (nullable = true)\n",
      " |-- method: string (nullable = true)\n",
      " |-- page: string (nullable = true)\n",
      " |-- registration: long (nullable = true)\n",
      " |-- sessionId: long (nullable = true)\n",
      " |-- song: string (nullable = true)\n",
      " |-- status: long (nullable = true)\n",
      " |-- ts: long (nullable = true)\n",
      " |-- userAgent: string (nullable = true)\n",
      " |-- userId: string (nullable = true)\n",
      "\n"
     ]
    }
   ],
   "source": [
    "# Schema\n",
    "data.printSchema()"
   ]
  },
  {
   "cell_type": "markdown",
   "metadata": {},
   "source": [
    "<p style=\"color:red\">TODO: column description</p>"
   ]
  },
  {
   "cell_type": "markdown",
   "metadata": {},
   "source": [
    "### Duplicate rows"
   ]
  },
  {
   "cell_type": "code",
   "execution_count": 7,
   "metadata": {},
   "outputs": [
    {
     "name": "stdout",
     "output_type": "stream",
     "text": [
      "Duplicate rows: 0\n"
     ]
    }
   ],
   "source": [
    "# Any duplicate rows? - No\n",
    "print(f'Duplicate rows: {data.count() - data.dropDuplicates().count()}')"
   ]
  },
  {
   "cell_type": "markdown",
   "metadata": {},
   "source": [
    "### Missing values"
   ]
  },
  {
   "cell_type": "code",
   "execution_count": 8,
   "metadata": {},
   "outputs": [
    {
     "name": "stdout",
     "output_type": "stream",
     "text": [
      "artist: 58392\n",
      "auth: 0\n",
      "firstName: 8346\n",
      "gender: 8346\n",
      "itemInSession: 0\n",
      "lastName: 8346\n",
      "length: 58392\n",
      "level: 0\n",
      "location: 8346\n",
      "method: 0\n",
      "page: 0\n",
      "registration: 8346\n",
      "sessionId: 0\n",
      "song: 58392\n",
      "status: 0\n",
      "ts: 0\n",
      "userAgent: 8346\n",
      "userId: 8346\n"
     ]
    }
   ],
   "source": [
    "# Filter by missing value (either null of empty - if string)\n",
    "def filter_missing(data, name):\n",
    "    return data.where((col(name).isNull()) | (col(name) == ''))\n",
    "\n",
    "# Show count of missing values for all columns in the dataset\n",
    "def show_missing(data):\n",
    "    for field in data.schema:\n",
    "        print(f'{field.name}: {filter_missing(data, field.name).count()}')\n",
    "        \n",
    "        \n",
    "show_missing(data)"
   ]
  },
  {
   "cell_type": "code",
   "execution_count": 9,
   "metadata": {},
   "outputs": [
    {
     "name": "stdout",
     "output_type": "stream",
     "text": [
      "Missing count: 8346\n"
     ]
    }
   ],
   "source": [
    "# Are 8346 missing values in user's column firstName, gender, lastName, location, registration, userAgent, userId correlated \n",
    "# occurring in the same rows? - Yes\n",
    "\n",
    "class Missing:\n",
    "    missing_data = None\n",
    "    \n",
    "    def __init__(self, data):\n",
    "        self.missing_data = data\n",
    "        \n",
    "    def filter_missing(self, name):\n",
    "        self.missing_data = filter_missing(data, name) \n",
    "        return self  \n",
    "    \n",
    "m = Missing(data) \\\n",
    "    .filter_missing('userId') \\\n",
    "    .filter_missing('firstName') \\\n",
    "    .filter_missing('lastName') \\\n",
    "    .filter_missing('gender') \\\n",
    "    .filter_missing('location') \\\n",
    "    .filter_missing('registration') \\\n",
    "    .filter_missing('userAgent')\n",
    "print(f'Missing count: {m.missing_data.count()}')"
   ]
  },
  {
   "cell_type": "markdown",
   "metadata": {},
   "source": [
    "**What kind of user has a missing userId?**"
   ]
  },
  {
   "cell_type": "code",
   "execution_count": 10,
   "metadata": {},
   "outputs": [
    {
     "name": "stdout",
     "output_type": "stream",
     "text": [
      "+----------+\n",
      "|      auth|\n",
      "+----------+\n",
      "|Logged Out|\n",
      "|     Guest|\n",
      "+----------+\n",
      "\n"
     ]
    }
   ],
   "source": [
    "filter_missing(data, 'userId').select('auth').dropDuplicates().show()"
   ]
  },
  {
   "cell_type": "code",
   "execution_count": 11,
   "metadata": {},
   "outputs": [
    {
     "name": "stdout",
     "output_type": "stream",
     "text": [
      "+-------------------+\n",
      "|               page|\n",
      "+-------------------+\n",
      "|               Home|\n",
      "|              About|\n",
      "|Submit Registration|\n",
      "|              Login|\n",
      "|           Register|\n",
      "|               Help|\n",
      "|              Error|\n",
      "+-------------------+\n",
      "\n"
     ]
    }
   ],
   "source": [
    "filter_missing(data, 'userId').select('page').dropDuplicates().show()"
   ]
  },
  {
   "cell_type": "markdown",
   "metadata": {},
   "source": [
    "As we can see, the missing user is an **unregistered** user. \n",
    "\n",
    "**Can we safely remove the rows with missing users?**\n",
    "\n",
    "Yes, since our target, the *churned user*, is a **registered** user."
   ]
  },
  {
   "cell_type": "code",
   "execution_count": 148,
   "metadata": {},
   "outputs": [
    {
     "name": "stdout",
     "output_type": "stream",
     "text": [
      "artist: 50046\n",
      "auth: 0\n",
      "firstName: 0\n",
      "gender: 0\n",
      "itemInSession: 0\n",
      "lastName: 0\n",
      "length: 50046\n",
      "level: 0\n",
      "location: 0\n",
      "method: 0\n",
      "page: 0\n",
      "registration: 0\n",
      "sessionId: 0\n",
      "song: 50046\n",
      "status: 0\n",
      "ts: 0\n",
      "userAgent: 0\n",
      "userId: 0\n"
     ]
    }
   ],
   "source": [
    "# Remove rows with missing users\n",
    "data = data.where(~((col('userId').isNull()) | (col('userId') == '')))\n",
    "show_missing(data) "
   ]
  },
  {
   "cell_type": "code",
   "execution_count": 149,
   "metadata": {},
   "outputs": [
    {
     "data": {
      "text/plain": [
       "8346"
      ]
     },
     "execution_count": 149,
     "metadata": {},
     "output_type": "execute_result"
    }
   ],
   "source": [
    "# Check count of deleted rows\n",
    "original_count - data.count()"
   ]
  },
  {
   "cell_type": "markdown",
   "metadata": {},
   "source": [
    "### Remove unrelevant columns\n",
    "\n",
    "We identify 2 columns that are not relevant for our analysis:\n",
    "\n",
    "- *firstName* and *lastName* which depend on *userId* and do not provide any additional information relevant for the analysis that has not been already included in *userId*."
   ]
  },
  {
   "cell_type": "code",
   "execution_count": 229,
   "metadata": {
    "collapsed": true
   },
   "outputs": [
    {
     "ename": "AnalysisException",
     "evalue": "\"cannot resolve '`firstName`' given input columns: [userId, gender, auth, itemInSession, length, level, artist, sessionId, song, registration, userAgent, ts, tsDate, method, regDate, city, state, status, churn, page];;\\n'Project ['firstName, 'lastName]\\n+- Project [artist#7508, auth#7509, gender#7511, itemInSession#7512L, length#7514, level#7515, method#7517, page#7518, registration#7519L, sessionId#7520L, song#7521, status#7522L, ts#7523L, userAgent#7524, userId#7525, regDate#8091, tsDate#8109, city#8144, state#8164, <lambda>(userId#7525) AS churn#8230]\\n   +- Project [artist#7508, auth#7509, gender#7511, itemInSession#7512L, length#7514, level#7515, method#7517, page#7518, registration#7519L, sessionId#7520L, song#7521, status#7522L, ts#7523L, userAgent#7524, userId#7525, regDate#8091, tsDate#8109, city#8144, state#8164]\\n      +- Project [artist#7508, auth#7509, gender#7511, itemInSession#7512L, length#7514, level#7515, location#7516, method#7517, page#7518, registration#7519L, sessionId#7520L, song#7521, status#7522L, ts#7523L, userAgent#7524, userId#7525, regDate#8091, tsDate#8109, city#8144, split(location#7516, ,)[1] AS state#8164]\\n         +- Project [artist#7508, auth#7509, gender#7511, itemInSession#7512L, length#7514, level#7515, location#7516, method#7517, page#7518, registration#7519L, sessionId#7520L, song#7521, status#7522L, ts#7523L, userAgent#7524, userId#7525, regDate#8091, tsDate#8109, split(location#7516, ,)[0] AS city#8144]\\n            +- Project [artist#7508, auth#7509, gender#7511, itemInSession#7512L, length#7514, level#7515, location#7516, method#7517, page#7518, registration#7519L, sessionId#7520L, song#7521, status#7522L, ts#7523L, userAgent#7524, userId#7525, regDate#8091, cast((cast(ts#7523L as double) / cast(1000.0 as double)) as timestamp) AS tsDate#8109]\\n               +- Project [artist#7508, auth#7509, gender#7511, itemInSession#7512L, length#7514, level#7515, location#7516, method#7517, page#7518, registration#7519L, sessionId#7520L, song#7521, status#7522L, ts#7523L, userAgent#7524, userId#7525, cast((cast(registration#7519L as double) / cast(1000.0 as double)) as timestamp) AS regDate#8091]\\n                  +- Project [artist#7508, auth#7509, gender#7511, itemInSession#7512L, length#7514, level#7515, location#7516, method#7517, page#7518, registration#7519L, sessionId#7520L, song#7521, status#7522L, ts#7523L, userAgent#7524, userId#7525]\\n                     +- Project [artist#7508, auth#7509, gender#7511, itemInSession#7512L, lastName#7513, length#7514, level#7515, location#7516, method#7517, page#7518, registration#7519L, sessionId#7520L, song#7521, status#7522L, ts#7523L, userAgent#7524, userId#7525]\\n                        +- Filter NOT (isnull(userId#7525) || (userId#7525 = ))\\n                           +- Relation[artist#7508,auth#7509,firstName#7510,gender#7511,itemInSession#7512L,lastName#7513,length#7514,level#7515,location#7516,method#7517,page#7518,registration#7519L,sessionId#7520L,song#7521,status#7522L,ts#7523L,userAgent#7524,userId#7525] json\\n\"",
     "output_type": "error",
     "traceback": [
      "\u001b[1;31m---------------------------------------------------------------------------\u001b[0m",
      "\u001b[1;31mPy4JJavaError\u001b[0m                             Traceback (most recent call last)",
      "\u001b[1;32m~\\Anaconda2\\lib\\site-packages\\pyspark\\sql\\utils.py\u001b[0m in \u001b[0;36mdeco\u001b[1;34m(*a, **kw)\u001b[0m\n\u001b[0;32m     62\u001b[0m         \u001b[1;32mtry\u001b[0m\u001b[1;33m:\u001b[0m\u001b[1;33m\u001b[0m\u001b[1;33m\u001b[0m\u001b[0m\n\u001b[1;32m---> 63\u001b[1;33m             \u001b[1;32mreturn\u001b[0m \u001b[0mf\u001b[0m\u001b[1;33m(\u001b[0m\u001b[1;33m*\u001b[0m\u001b[0ma\u001b[0m\u001b[1;33m,\u001b[0m \u001b[1;33m**\u001b[0m\u001b[0mkw\u001b[0m\u001b[1;33m)\u001b[0m\u001b[1;33m\u001b[0m\u001b[1;33m\u001b[0m\u001b[0m\n\u001b[0m\u001b[0;32m     64\u001b[0m         \u001b[1;32mexcept\u001b[0m \u001b[0mpy4j\u001b[0m\u001b[1;33m.\u001b[0m\u001b[0mprotocol\u001b[0m\u001b[1;33m.\u001b[0m\u001b[0mPy4JJavaError\u001b[0m \u001b[1;32mas\u001b[0m \u001b[0me\u001b[0m\u001b[1;33m:\u001b[0m\u001b[1;33m\u001b[0m\u001b[1;33m\u001b[0m\u001b[0m\n",
      "\u001b[1;32m~\\Anaconda2\\lib\\site-packages\\py4j\\protocol.py\u001b[0m in \u001b[0;36mget_return_value\u001b[1;34m(answer, gateway_client, target_id, name)\u001b[0m\n\u001b[0;32m    327\u001b[0m                     \u001b[1;34m\"An error occurred while calling {0}{1}{2}.\\n\"\u001b[0m\u001b[1;33m.\u001b[0m\u001b[1;33m\u001b[0m\u001b[1;33m\u001b[0m\u001b[0m\n\u001b[1;32m--> 328\u001b[1;33m                     format(target_id, \".\", name), value)\n\u001b[0m\u001b[0;32m    329\u001b[0m             \u001b[1;32melse\u001b[0m\u001b[1;33m:\u001b[0m\u001b[1;33m\u001b[0m\u001b[1;33m\u001b[0m\u001b[0m\n",
      "\u001b[1;31mPy4JJavaError\u001b[0m: An error occurred while calling o2441.select.\n: org.apache.spark.sql.AnalysisException: cannot resolve '`firstName`' given input columns: [userId, gender, auth, itemInSession, length, level, artist, sessionId, song, registration, userAgent, ts, tsDate, method, regDate, city, state, status, churn, page];;\n'Project ['firstName, 'lastName]\n+- Project [artist#7508, auth#7509, gender#7511, itemInSession#7512L, length#7514, level#7515, method#7517, page#7518, registration#7519L, sessionId#7520L, song#7521, status#7522L, ts#7523L, userAgent#7524, userId#7525, regDate#8091, tsDate#8109, city#8144, state#8164, <lambda>(userId#7525) AS churn#8230]\n   +- Project [artist#7508, auth#7509, gender#7511, itemInSession#7512L, length#7514, level#7515, method#7517, page#7518, registration#7519L, sessionId#7520L, song#7521, status#7522L, ts#7523L, userAgent#7524, userId#7525, regDate#8091, tsDate#8109, city#8144, state#8164]\n      +- Project [artist#7508, auth#7509, gender#7511, itemInSession#7512L, length#7514, level#7515, location#7516, method#7517, page#7518, registration#7519L, sessionId#7520L, song#7521, status#7522L, ts#7523L, userAgent#7524, userId#7525, regDate#8091, tsDate#8109, city#8144, split(location#7516, ,)[1] AS state#8164]\n         +- Project [artist#7508, auth#7509, gender#7511, itemInSession#7512L, length#7514, level#7515, location#7516, method#7517, page#7518, registration#7519L, sessionId#7520L, song#7521, status#7522L, ts#7523L, userAgent#7524, userId#7525, regDate#8091, tsDate#8109, split(location#7516, ,)[0] AS city#8144]\n            +- Project [artist#7508, auth#7509, gender#7511, itemInSession#7512L, length#7514, level#7515, location#7516, method#7517, page#7518, registration#7519L, sessionId#7520L, song#7521, status#7522L, ts#7523L, userAgent#7524, userId#7525, regDate#8091, cast((cast(ts#7523L as double) / cast(1000.0 as double)) as timestamp) AS tsDate#8109]\n               +- Project [artist#7508, auth#7509, gender#7511, itemInSession#7512L, length#7514, level#7515, location#7516, method#7517, page#7518, registration#7519L, sessionId#7520L, song#7521, status#7522L, ts#7523L, userAgent#7524, userId#7525, cast((cast(registration#7519L as double) / cast(1000.0 as double)) as timestamp) AS regDate#8091]\n                  +- Project [artist#7508, auth#7509, gender#7511, itemInSession#7512L, length#7514, level#7515, location#7516, method#7517, page#7518, registration#7519L, sessionId#7520L, song#7521, status#7522L, ts#7523L, userAgent#7524, userId#7525]\n                     +- Project [artist#7508, auth#7509, gender#7511, itemInSession#7512L, lastName#7513, length#7514, level#7515, location#7516, method#7517, page#7518, registration#7519L, sessionId#7520L, song#7521, status#7522L, ts#7523L, userAgent#7524, userId#7525]\n                        +- Filter NOT (isnull(userId#7525) || (userId#7525 = ))\n                           +- Relation[artist#7508,auth#7509,firstName#7510,gender#7511,itemInSession#7512L,lastName#7513,length#7514,level#7515,location#7516,method#7517,page#7518,registration#7519L,sessionId#7520L,song#7521,status#7522L,ts#7523L,userAgent#7524,userId#7525] json\n\r\n\tat org.apache.spark.sql.catalyst.analysis.package$AnalysisErrorAt.failAnalysis(package.scala:42)\r\n\tat org.apache.spark.sql.catalyst.analysis.CheckAnalysis$$anonfun$checkAnalysis$1$$anonfun$apply$3.applyOrElse(CheckAnalysis.scala:111)\r\n\tat org.apache.spark.sql.catalyst.analysis.CheckAnalysis$$anonfun$checkAnalysis$1$$anonfun$apply$3.applyOrElse(CheckAnalysis.scala:108)\r\n\tat org.apache.spark.sql.catalyst.trees.TreeNode$$anonfun$transformUp$1.apply(TreeNode.scala:280)\r\n\tat org.apache.spark.sql.catalyst.trees.TreeNode$$anonfun$transformUp$1.apply(TreeNode.scala:280)\r\n\tat org.apache.spark.sql.catalyst.trees.CurrentOrigin$.withOrigin(TreeNode.scala:69)\r\n\tat org.apache.spark.sql.catalyst.trees.TreeNode.transformUp(TreeNode.scala:279)\r\n\tat org.apache.spark.sql.catalyst.plans.QueryPlan$$anonfun$transformExpressionsUp$1.apply(QueryPlan.scala:93)\r\n\tat org.apache.spark.sql.catalyst.plans.QueryPlan$$anonfun$transformExpressionsUp$1.apply(QueryPlan.scala:93)\r\n\tat org.apache.spark.sql.catalyst.plans.QueryPlan$$anonfun$1.apply(QueryPlan.scala:105)\r\n\tat org.apache.spark.sql.catalyst.plans.QueryPlan$$anonfun$1.apply(QueryPlan.scala:105)\r\n\tat org.apache.spark.sql.catalyst.trees.CurrentOrigin$.withOrigin(TreeNode.scala:69)\r\n\tat org.apache.spark.sql.catalyst.plans.QueryPlan.transformExpression$1(QueryPlan.scala:104)\r\n\tat org.apache.spark.sql.catalyst.plans.QueryPlan.org$apache$spark$sql$catalyst$plans$QueryPlan$$recursiveTransform$1(QueryPlan.scala:116)\r\n\tat org.apache.spark.sql.catalyst.plans.QueryPlan$$anonfun$org$apache$spark$sql$catalyst$plans$QueryPlan$$recursiveTransform$1$2.apply(QueryPlan.scala:121)\r\n\tat scala.collection.TraversableLike$$anonfun$map$1.apply(TraversableLike.scala:234)\r\n\tat scala.collection.TraversableLike$$anonfun$map$1.apply(TraversableLike.scala:234)\r\n\tat scala.collection.mutable.ResizableArray$class.foreach(ResizableArray.scala:59)\r\n\tat scala.collection.mutable.ArrayBuffer.foreach(ArrayBuffer.scala:48)\r\n\tat scala.collection.TraversableLike$class.map(TraversableLike.scala:234)\r\n\tat scala.collection.AbstractTraversable.map(Traversable.scala:104)\r\n\tat org.apache.spark.sql.catalyst.plans.QueryPlan.org$apache$spark$sql$catalyst$plans$QueryPlan$$recursiveTransform$1(QueryPlan.scala:121)\r\n\tat org.apache.spark.sql.catalyst.plans.QueryPlan$$anonfun$2.apply(QueryPlan.scala:126)\r\n\tat org.apache.spark.sql.catalyst.trees.TreeNode.mapProductIterator(TreeNode.scala:186)\r\n\tat org.apache.spark.sql.catalyst.plans.QueryPlan.mapExpressions(QueryPlan.scala:126)\r\n\tat org.apache.spark.sql.catalyst.plans.QueryPlan.transformExpressionsUp(QueryPlan.scala:93)\r\n\tat org.apache.spark.sql.catalyst.analysis.CheckAnalysis$$anonfun$checkAnalysis$1.apply(CheckAnalysis.scala:108)\r\n\tat org.apache.spark.sql.catalyst.analysis.CheckAnalysis$$anonfun$checkAnalysis$1.apply(CheckAnalysis.scala:86)\r\n\tat org.apache.spark.sql.catalyst.trees.TreeNode.foreachUp(TreeNode.scala:126)\r\n\tat org.apache.spark.sql.catalyst.analysis.CheckAnalysis$class.checkAnalysis(CheckAnalysis.scala:86)\r\n\tat org.apache.spark.sql.catalyst.analysis.Analyzer.checkAnalysis(Analyzer.scala:95)\r\n\tat org.apache.spark.sql.catalyst.analysis.Analyzer$$anonfun$executeAndCheck$1.apply(Analyzer.scala:108)\r\n\tat org.apache.spark.sql.catalyst.analysis.Analyzer$$anonfun$executeAndCheck$1.apply(Analyzer.scala:105)\r\n\tat org.apache.spark.sql.catalyst.plans.logical.AnalysisHelper$.markInAnalyzer(AnalysisHelper.scala:201)\r\n\tat org.apache.spark.sql.catalyst.analysis.Analyzer.executeAndCheck(Analyzer.scala:105)\r\n\tat org.apache.spark.sql.execution.QueryExecution.analyzed$lzycompute(QueryExecution.scala:58)\r\n\tat org.apache.spark.sql.execution.QueryExecution.analyzed(QueryExecution.scala:56)\r\n\tat org.apache.spark.sql.execution.QueryExecution.assertAnalyzed(QueryExecution.scala:48)\r\n\tat org.apache.spark.sql.Dataset$.ofRows(Dataset.scala:78)\r\n\tat org.apache.spark.sql.Dataset.org$apache$spark$sql$Dataset$$withPlan(Dataset.scala:3412)\r\n\tat org.apache.spark.sql.Dataset.select(Dataset.scala:1340)\r\n\tat sun.reflect.GeneratedMethodAccessor152.invoke(Unknown Source)\r\n\tat sun.reflect.DelegatingMethodAccessorImpl.invoke(Unknown Source)\r\n\tat java.lang.reflect.Method.invoke(Unknown Source)\r\n\tat py4j.reflection.MethodInvoker.invoke(MethodInvoker.java:244)\r\n\tat py4j.reflection.ReflectionEngine.invoke(ReflectionEngine.java:357)\r\n\tat py4j.Gateway.invoke(Gateway.java:282)\r\n\tat py4j.commands.AbstractCommand.invokeMethod(AbstractCommand.java:132)\r\n\tat py4j.commands.CallCommand.execute(CallCommand.java:79)\r\n\tat py4j.GatewayConnection.run(GatewayConnection.java:238)\r\n\tat java.lang.Thread.run(Unknown Source)\r\n",
      "\nDuring handling of the above exception, another exception occurred:\n",
      "\u001b[1;31mAnalysisException\u001b[0m                         Traceback (most recent call last)",
      "\u001b[1;32m<ipython-input-229-788f14119d9c>\u001b[0m in \u001b[0;36m<module>\u001b[1;34m\u001b[0m\n\u001b[1;32m----> 1\u001b[1;33m \u001b[0mdata\u001b[0m\u001b[1;33m.\u001b[0m\u001b[0mselect\u001b[0m\u001b[1;33m(\u001b[0m\u001b[1;34m'firstName'\u001b[0m\u001b[1;33m,\u001b[0m \u001b[1;34m'lastName'\u001b[0m\u001b[1;33m)\u001b[0m\u001b[1;33m.\u001b[0m\u001b[0mdropDuplicates\u001b[0m\u001b[1;33m(\u001b[0m\u001b[1;33m)\u001b[0m\u001b[1;33m.\u001b[0m\u001b[0mcount\u001b[0m\u001b[1;33m(\u001b[0m\u001b[1;33m)\u001b[0m\u001b[1;33m\u001b[0m\u001b[1;33m\u001b[0m\u001b[0m\n\u001b[0m",
      "\u001b[1;32m~\\Anaconda2\\lib\\site-packages\\pyspark\\sql\\dataframe.py\u001b[0m in \u001b[0;36mselect\u001b[1;34m(self, *cols)\u001b[0m\n\u001b[0;32m   1322\u001b[0m         \u001b[1;33m[\u001b[0m\u001b[0mRow\u001b[0m\u001b[1;33m(\u001b[0m\u001b[0mname\u001b[0m\u001b[1;33m=\u001b[0m\u001b[1;34mu'Alice'\u001b[0m\u001b[1;33m,\u001b[0m \u001b[0mage\u001b[0m\u001b[1;33m=\u001b[0m\u001b[1;36m12\u001b[0m\u001b[1;33m)\u001b[0m\u001b[1;33m,\u001b[0m \u001b[0mRow\u001b[0m\u001b[1;33m(\u001b[0m\u001b[0mname\u001b[0m\u001b[1;33m=\u001b[0m\u001b[1;34mu'Bob'\u001b[0m\u001b[1;33m,\u001b[0m \u001b[0mage\u001b[0m\u001b[1;33m=\u001b[0m\u001b[1;36m15\u001b[0m\u001b[1;33m)\u001b[0m\u001b[1;33m]\u001b[0m\u001b[1;33m\u001b[0m\u001b[1;33m\u001b[0m\u001b[0m\n\u001b[0;32m   1323\u001b[0m         \"\"\"\n\u001b[1;32m-> 1324\u001b[1;33m         \u001b[0mjdf\u001b[0m \u001b[1;33m=\u001b[0m \u001b[0mself\u001b[0m\u001b[1;33m.\u001b[0m\u001b[0m_jdf\u001b[0m\u001b[1;33m.\u001b[0m\u001b[0mselect\u001b[0m\u001b[1;33m(\u001b[0m\u001b[0mself\u001b[0m\u001b[1;33m.\u001b[0m\u001b[0m_jcols\u001b[0m\u001b[1;33m(\u001b[0m\u001b[1;33m*\u001b[0m\u001b[0mcols\u001b[0m\u001b[1;33m)\u001b[0m\u001b[1;33m)\u001b[0m\u001b[1;33m\u001b[0m\u001b[1;33m\u001b[0m\u001b[0m\n\u001b[0m\u001b[0;32m   1325\u001b[0m         \u001b[1;32mreturn\u001b[0m \u001b[0mDataFrame\u001b[0m\u001b[1;33m(\u001b[0m\u001b[0mjdf\u001b[0m\u001b[1;33m,\u001b[0m \u001b[0mself\u001b[0m\u001b[1;33m.\u001b[0m\u001b[0msql_ctx\u001b[0m\u001b[1;33m)\u001b[0m\u001b[1;33m\u001b[0m\u001b[1;33m\u001b[0m\u001b[0m\n\u001b[0;32m   1326\u001b[0m \u001b[1;33m\u001b[0m\u001b[0m\n",
      "\u001b[1;32m~\\Anaconda2\\lib\\site-packages\\py4j\\java_gateway.py\u001b[0m in \u001b[0;36m__call__\u001b[1;34m(self, *args)\u001b[0m\n\u001b[0;32m   1255\u001b[0m         \u001b[0manswer\u001b[0m \u001b[1;33m=\u001b[0m \u001b[0mself\u001b[0m\u001b[1;33m.\u001b[0m\u001b[0mgateway_client\u001b[0m\u001b[1;33m.\u001b[0m\u001b[0msend_command\u001b[0m\u001b[1;33m(\u001b[0m\u001b[0mcommand\u001b[0m\u001b[1;33m)\u001b[0m\u001b[1;33m\u001b[0m\u001b[1;33m\u001b[0m\u001b[0m\n\u001b[0;32m   1256\u001b[0m         return_value = get_return_value(\n\u001b[1;32m-> 1257\u001b[1;33m             answer, self.gateway_client, self.target_id, self.name)\n\u001b[0m\u001b[0;32m   1258\u001b[0m \u001b[1;33m\u001b[0m\u001b[0m\n\u001b[0;32m   1259\u001b[0m         \u001b[1;32mfor\u001b[0m \u001b[0mtemp_arg\u001b[0m \u001b[1;32min\u001b[0m \u001b[0mtemp_args\u001b[0m\u001b[1;33m:\u001b[0m\u001b[1;33m\u001b[0m\u001b[1;33m\u001b[0m\u001b[0m\n",
      "\u001b[1;32m~\\Anaconda2\\lib\\site-packages\\pyspark\\sql\\utils.py\u001b[0m in \u001b[0;36mdeco\u001b[1;34m(*a, **kw)\u001b[0m\n\u001b[0;32m     67\u001b[0m                                              e.java_exception.getStackTrace()))\n\u001b[0;32m     68\u001b[0m             \u001b[1;32mif\u001b[0m \u001b[0ms\u001b[0m\u001b[1;33m.\u001b[0m\u001b[0mstartswith\u001b[0m\u001b[1;33m(\u001b[0m\u001b[1;34m'org.apache.spark.sql.AnalysisException: '\u001b[0m\u001b[1;33m)\u001b[0m\u001b[1;33m:\u001b[0m\u001b[1;33m\u001b[0m\u001b[1;33m\u001b[0m\u001b[0m\n\u001b[1;32m---> 69\u001b[1;33m                 \u001b[1;32mraise\u001b[0m \u001b[0mAnalysisException\u001b[0m\u001b[1;33m(\u001b[0m\u001b[0ms\u001b[0m\u001b[1;33m.\u001b[0m\u001b[0msplit\u001b[0m\u001b[1;33m(\u001b[0m\u001b[1;34m': '\u001b[0m\u001b[1;33m,\u001b[0m \u001b[1;36m1\u001b[0m\u001b[1;33m)\u001b[0m\u001b[1;33m[\u001b[0m\u001b[1;36m1\u001b[0m\u001b[1;33m]\u001b[0m\u001b[1;33m,\u001b[0m \u001b[0mstackTrace\u001b[0m\u001b[1;33m)\u001b[0m\u001b[1;33m\u001b[0m\u001b[1;33m\u001b[0m\u001b[0m\n\u001b[0m\u001b[0;32m     70\u001b[0m             \u001b[1;32mif\u001b[0m \u001b[0ms\u001b[0m\u001b[1;33m.\u001b[0m\u001b[0mstartswith\u001b[0m\u001b[1;33m(\u001b[0m\u001b[1;34m'org.apache.spark.sql.catalyst.analysis'\u001b[0m\u001b[1;33m)\u001b[0m\u001b[1;33m:\u001b[0m\u001b[1;33m\u001b[0m\u001b[1;33m\u001b[0m\u001b[0m\n\u001b[0;32m     71\u001b[0m                 \u001b[1;32mraise\u001b[0m \u001b[0mAnalysisException\u001b[0m\u001b[1;33m(\u001b[0m\u001b[0ms\u001b[0m\u001b[1;33m.\u001b[0m\u001b[0msplit\u001b[0m\u001b[1;33m(\u001b[0m\u001b[1;34m': '\u001b[0m\u001b[1;33m,\u001b[0m \u001b[1;36m1\u001b[0m\u001b[1;33m)\u001b[0m\u001b[1;33m[\u001b[0m\u001b[1;36m1\u001b[0m\u001b[1;33m]\u001b[0m\u001b[1;33m,\u001b[0m \u001b[0mstackTrace\u001b[0m\u001b[1;33m)\u001b[0m\u001b[1;33m\u001b[0m\u001b[1;33m\u001b[0m\u001b[0m\n",
      "\u001b[1;31mAnalysisException\u001b[0m: \"cannot resolve '`firstName`' given input columns: [userId, gender, auth, itemInSession, length, level, artist, sessionId, song, registration, userAgent, ts, tsDate, method, regDate, city, state, status, churn, page];;\\n'Project ['firstName, 'lastName]\\n+- Project [artist#7508, auth#7509, gender#7511, itemInSession#7512L, length#7514, level#7515, method#7517, page#7518, registration#7519L, sessionId#7520L, song#7521, status#7522L, ts#7523L, userAgent#7524, userId#7525, regDate#8091, tsDate#8109, city#8144, state#8164, <lambda>(userId#7525) AS churn#8230]\\n   +- Project [artist#7508, auth#7509, gender#7511, itemInSession#7512L, length#7514, level#7515, method#7517, page#7518, registration#7519L, sessionId#7520L, song#7521, status#7522L, ts#7523L, userAgent#7524, userId#7525, regDate#8091, tsDate#8109, city#8144, state#8164]\\n      +- Project [artist#7508, auth#7509, gender#7511, itemInSession#7512L, length#7514, level#7515, location#7516, method#7517, page#7518, registration#7519L, sessionId#7520L, song#7521, status#7522L, ts#7523L, userAgent#7524, userId#7525, regDate#8091, tsDate#8109, city#8144, split(location#7516, ,)[1] AS state#8164]\\n         +- Project [artist#7508, auth#7509, gender#7511, itemInSession#7512L, length#7514, level#7515, location#7516, method#7517, page#7518, registration#7519L, sessionId#7520L, song#7521, status#7522L, ts#7523L, userAgent#7524, userId#7525, regDate#8091, tsDate#8109, split(location#7516, ,)[0] AS city#8144]\\n            +- Project [artist#7508, auth#7509, gender#7511, itemInSession#7512L, length#7514, level#7515, location#7516, method#7517, page#7518, registration#7519L, sessionId#7520L, song#7521, status#7522L, ts#7523L, userAgent#7524, userId#7525, regDate#8091, cast((cast(ts#7523L as double) / cast(1000.0 as double)) as timestamp) AS tsDate#8109]\\n               +- Project [artist#7508, auth#7509, gender#7511, itemInSession#7512L, length#7514, level#7515, location#7516, method#7517, page#7518, registration#7519L, sessionId#7520L, song#7521, status#7522L, ts#7523L, userAgent#7524, userId#7525, cast((cast(registration#7519L as double) / cast(1000.0 as double)) as timestamp) AS regDate#8091]\\n                  +- Project [artist#7508, auth#7509, gender#7511, itemInSession#7512L, length#7514, level#7515, location#7516, method#7517, page#7518, registration#7519L, sessionId#7520L, song#7521, status#7522L, ts#7523L, userAgent#7524, userId#7525]\\n                     +- Project [artist#7508, auth#7509, gender#7511, itemInSession#7512L, lastName#7513, length#7514, level#7515, location#7516, method#7517, page#7518, registration#7519L, sessionId#7520L, song#7521, status#7522L, ts#7523L, userAgent#7524, userId#7525]\\n                        +- Filter NOT (isnull(userId#7525) || (userId#7525 = ))\\n                           +- Relation[artist#7508,auth#7509,firstName#7510,gender#7511,itemInSession#7512L,lastName#7513,length#7514,level#7515,location#7516,method#7517,page#7518,registration#7519L,sessionId#7520L,song#7521,status#7522L,ts#7523L,userAgent#7524,userId#7525] json\\n\""
     ]
    }
   ],
   "source": [
    "# we can see that there are exactly the same number od firstname-lastName combinations as userIds\n",
    "data.select('firstName', 'lastName').dropDuplicates().count()"
   ]
  },
  {
   "cell_type": "code",
   "execution_count": null,
   "metadata": {},
   "outputs": [],
   "source": [
    "# Check if every firstName-lastName is associated to exactly one userId\n",
    "data.groupby('firstName', 'lastName', 'userid') \\\n",
    "    .count() \\\n",
    "    .groupby('firstName', 'lastName') \\\n",
    "    .count() \\\n",
    "    .where(col('count') > 1) \\\n",
    "    .count()"
   ]
  },
  {
   "cell_type": "code",
   "execution_count": 150,
   "metadata": {},
   "outputs": [],
   "source": [
    "# Exclude non-relevant columns\n",
    "data = data.drop('firstName')\n",
    "data = data.drop('lastName')"
   ]
  },
  {
   "cell_type": "markdown",
   "metadata": {},
   "source": [
    "### Convert unix timestamp into TimestampType  (*ts*, *registration*)"
   ]
  },
  {
   "cell_type": "code",
   "execution_count": 151,
   "metadata": {},
   "outputs": [
    {
     "data": {
      "text/plain": [
       "[Row(artist='Martha Tilston', auth='Logged In', gender='M', itemInSession=50, length=277.89016, level='paid', location='Bakersfield, CA', method='PUT', page='NextSong', registration=1538173362000, sessionId=29, song='Rockpools', status=200, ts=1538352117000, userAgent='Mozilla/5.0 (Windows NT 6.1; WOW64; rv:31.0) Gecko/20100101 Firefox/31.0', userId='30', regDate=datetime.datetime(2018, 9, 29, 0, 22, 42), tsDate=datetime.datetime(2018, 10, 1, 2, 1, 57))]"
      ]
     },
     "execution_count": 151,
     "metadata": {},
     "output_type": "execute_result"
    }
   ],
   "source": [
    "data = data.withColumn('regDate', (col('registration') / 1000.0).cast(TimestampType()))\n",
    "data = data.withColumn('tsDate', (col('ts') / 1000.0).cast(TimestampType()))\n",
    "data.take(1)"
   ]
  },
  {
   "cell_type": "markdown",
   "metadata": {},
   "source": [
    "### Split location into *Place* and *State*\n",
    "\n",
    "The location column contains *place* and *state*. Let's split the composed information into 2 features."
   ]
  },
  {
   "cell_type": "code",
   "execution_count": 152,
   "metadata": {},
   "outputs": [],
   "source": [
    "data = data.withColumn('city', split(data['location'], ',')[0])\n",
    "data = data.withColumn('state', split(data['location'], ',')[1])\n",
    "data = data.drop('location')"
   ]
  },
  {
   "cell_type": "code",
   "execution_count": 153,
   "metadata": {},
   "outputs": [
    {
     "name": "stdout",
     "output_type": "stream",
     "text": [
      "root\n",
      " |-- artist: string (nullable = true)\n",
      " |-- auth: string (nullable = true)\n",
      " |-- gender: string (nullable = true)\n",
      " |-- itemInSession: long (nullable = true)\n",
      " |-- length: double (nullable = true)\n",
      " |-- level: string (nullable = true)\n",
      " |-- method: string (nullable = true)\n",
      " |-- page: string (nullable = true)\n",
      " |-- registration: long (nullable = true)\n",
      " |-- sessionId: long (nullable = true)\n",
      " |-- song: string (nullable = true)\n",
      " |-- status: long (nullable = true)\n",
      " |-- ts: long (nullable = true)\n",
      " |-- userAgent: string (nullable = true)\n",
      " |-- userId: string (nullable = true)\n",
      " |-- regDate: timestamp (nullable = true)\n",
      " |-- tsDate: timestamp (nullable = true)\n",
      " |-- city: string (nullable = true)\n",
      " |-- state: string (nullable = true)\n",
      "\n"
     ]
    }
   ],
   "source": [
    "# Schema after the cleaning is done\n",
    "data.printSchema()"
   ]
  },
  {
   "cell_type": "markdown",
   "metadata": {},
   "source": [
    "# Exploratory Data Analysis\n",
    "When you're working with the full dataset, perform EDA by loading a small subset of the data and doing basic manipulations within Spark. In this workspace, you are already provided a small subset of data you can explore.\n",
    "\n",
    "### Define Churn\n",
    "\n",
    "Once you've done some preliminary analysis, create a column `Churn` to use as the label for your model. I suggest using the `Cancellation Confirmation` events to define your churn, which happen for both paid and free users. As a bonus task, you can also look into the `Downgrade` events.\n",
    "\n",
    "### Explore Data\n",
    "Once you've defined churn, perform some exploratory data analysis to observe the behavior for users who stayed vs users who churned. You can start by exploring aggregates on these two groups of users, observing how much of a specific action they experienced per a certain time unit or number of songs played."
   ]
  },
  {
   "cell_type": "markdown",
   "metadata": {},
   "source": [
    "### Common Functions"
   ]
  },
  {
   "cell_type": "code",
   "execution_count": 49,
   "metadata": {},
   "outputs": [],
   "source": [
    "# Set plot's figure size\n",
    "def set_plot_size(width, height):\n",
    "    return plt.figure(figsize = [width, height]);"
   ]
  },
  {
   "cell_type": "markdown",
   "metadata": {},
   "source": [
    "### General EDA"
   ]
  },
  {
   "cell_type": "code",
   "execution_count": 154,
   "metadata": {},
   "outputs": [
    {
     "data": {
      "text/plain": [
       "225"
      ]
     },
     "execution_count": 154,
     "metadata": {},
     "output_type": "execute_result"
    }
   ],
   "source": [
    "# Count of unique users\n",
    "data.select(\"userId\").dropDuplicates().count()"
   ]
  },
  {
   "cell_type": "code",
   "execution_count": 47,
   "metadata": {
    "scrolled": true
   },
   "outputs": [
    {
     "data": {
      "text/plain": [
       "2312"
      ]
     },
     "execution_count": 47,
     "metadata": {},
     "output_type": "execute_result"
    }
   ],
   "source": [
    "# Count of unique sessions\n",
    "data.select(\"sessionId\").dropDuplicates().count()"
   ]
  },
  {
   "cell_type": "code",
   "execution_count": 52,
   "metadata": {},
   "outputs": [
    {
     "data": {
      "image/png": "[encoded data removed]",
      "text/plain": [
       "<Figure size 288x288 with 1 Axes>"
      ]
     },
     "metadata": {
      "needs_background": "light"
     },
     "output_type": "display_data"
    }
   ],
   "source": [
    "# Levels\n",
    "set_plot_size(4, 4)\n",
    "df = data.select('level').toPandas()\n",
    "sb.countplot(data = df, x = 'level');"
   ]
  },
  {
   "cell_type": "code",
   "execution_count": 53,
   "metadata": {},
   "outputs": [
    {
     "name": "stdout",
     "output_type": "stream",
     "text": [
      "+-------------------------+\n",
      "|page                     |\n",
      "+-------------------------+\n",
      "|About                    |\n",
      "|Add Friend               |\n",
      "|Add to Playlist          |\n",
      "|Cancel                   |\n",
      "|Cancellation Confirmation|\n",
      "|Downgrade                |\n",
      "|Error                    |\n",
      "|Help                     |\n",
      "|Home                     |\n",
      "|Logout                   |\n",
      "|NextSong                 |\n",
      "|Roll Advert              |\n",
      "|Save Settings            |\n",
      "|Settings                 |\n",
      "|Submit Downgrade         |\n",
      "|Submit Upgrade           |\n",
      "|Thumbs Down              |\n",
      "|Thumbs Up                |\n",
      "|Upgrade                  |\n",
      "+-------------------------+\n",
      "\n"
     ]
    },
    {
     "data": {
      "image/png": "[encoded data removed]",
      "text/plain": [
       "<Figure size 864x432 with 1 Axes>"
      ]
     },
     "metadata": {
      "needs_background": "light"
     },
     "output_type": "display_data"
    }
   ],
   "source": [
    "# Pages\n",
    "data.select('page').dropDuplicates().sort('page').show(truncate=False)\n",
    "\n",
    "set_plot_size(12, 6)\n",
    "df = data.select('page').toPandas()\n",
    "sb.countplot(data = df, x = 'page', order = df['page'].value_counts().index);\n",
    "plt.xticks(rotation = 90);"
   ]
  },
  {
   "cell_type": "code",
   "execution_count": 54,
   "metadata": {},
   "outputs": [
    {
     "data": {
      "image/png": "[encoded data removed]",
      "text/plain": [
       "<Figure size 288x288 with 1 Axes>"
      ]
     },
     "metadata": {
      "needs_background": "light"
     },
     "output_type": "display_data"
    }
   ],
   "source": [
    "# Statuses \n",
    "set_plot_size(4, 4)\n",
    "df = data.select('status').toPandas()\n",
    "sb.countplot(data = df, x = 'status');"
   ]
  },
  {
   "cell_type": "code",
   "execution_count": 63,
   "metadata": {},
   "outputs": [
    {
     "data": {
      "text/plain": [
       "200    254718\n",
       "307     23184\n",
       "404       252\n",
       "Name: status, dtype: int64"
      ]
     },
     "execution_count": 63,
     "metadata": {},
     "output_type": "execute_result"
    }
   ],
   "source": [
    "# Count of statuses\n",
    "data.select('status').toPandas()['status'].value_counts()"
   ]
  },
  {
   "cell_type": "code",
   "execution_count": 94,
   "metadata": {},
   "outputs": [
    {
     "name": "stdout",
     "output_type": "stream",
     "text": [
      "Top 10 users with most logs:\n",
      "+------+-----+\n",
      "|userId|count|\n",
      "+------+-----+\n",
      "|    39| 9632|\n",
      "|    92| 7230|\n",
      "|   140| 6880|\n",
      "|300011| 5732|\n",
      "|   124| 4825|\n",
      "|300021| 4659|\n",
      "|300017| 4428|\n",
      "|    85| 4370|\n",
      "|    42| 4257|\n",
      "|200023| 3769|\n",
      "+------+-----+\n",
      "only showing top 10 rows\n",
      "\n",
      "+-------+-----------------+\n",
      "|summary|            count|\n",
      "+-------+-----------------+\n",
      "|  count|              225|\n",
      "|   mean|          1236.24|\n",
      "| stddev|1329.531716432519|\n",
      "|    min|                6|\n",
      "|    max|             9632|\n",
      "+-------+-----------------+\n",
      "\n"
     ]
    },
    {
     "data": {
      "image/png": "[encoded data removed]",
      "text/plain": [
       "<Figure size 864x360 with 1 Axes>"
      ]
     },
     "metadata": {
      "needs_background": "light"
     },
     "output_type": "display_data"
    }
   ],
   "source": [
    "# Logs per user\n",
    "print('Top 10 users with most logs:')\n",
    "data.groupby('userId').count().sort(desc('count')).show(10)  \n",
    "data.groupby('userId').count().describe('count').show()\n",
    "\n",
    "set_plot_size(12, 5)\n",
    "ax = plt.gca()\n",
    "df = data.groupby('userId').count().toPandas()\n",
    "plt.hist(data = df, x = 'count', bins = 20);\n",
    "ax.set_title('Logs per user');"
   ]
  },
  {
   "cell_type": "code",
   "execution_count": 119,
   "metadata": {},
   "outputs": [
    {
     "name": "stdout",
     "output_type": "stream",
     "text": [
      "Top 10 users with most sessions:\n",
      "+------+-----+\n",
      "|userId|count|\n",
      "+------+-----+\n",
      "|    39|  107|\n",
      "|    92|   86|\n",
      "|300011|   76|\n",
      "|200023|   76|\n",
      "|   140|   71|\n",
      "|300017|   63|\n",
      "|300021|   58|\n",
      "|    42|   47|\n",
      "|    85|   41|\n",
      "|    35|   38|\n",
      "+------+-----+\n",
      "only showing top 10 rows\n",
      "\n",
      "+-------+------------------+\n",
      "|summary|             count|\n",
      "+-------+------------------+\n",
      "|  count|               225|\n",
      "|   mean|14.115555555555556|\n",
      "| stddev|14.646884657111562|\n",
      "|    min|                 1|\n",
      "|    max|               107|\n",
      "+-------+------------------+\n",
      "\n"
     ]
    },
    {
     "data": {
      "image/png": "[encoded data removed]",
      "text/plain": [
       "<Figure size 864x360 with 1 Axes>"
      ]
     },
     "metadata": {
      "needs_background": "light"
     },
     "output_type": "display_data"
    }
   ],
   "source": [
    "# Sessions per user\n",
    "gdata = data.groupby('userId', 'sessionId').count() \\\n",
    "    .groupby('userId').count()\n",
    "\n",
    "print('Top 10 users with most sessions:')\n",
    "gdata.sort(desc('count')).show(10)\n",
    "gdata.describe('count').show()\n",
    "\n",
    "set_plot_size(12, 5)\n",
    "ax = plt.gca()\n",
    "df = gdata.toPandas()\n",
    "plt.hist(data = df, x = 'count', bins = 20);\n",
    "ax.set_title('Sessions per user');"
   ]
  },
  {
   "cell_type": "code",
   "execution_count": 102,
   "metadata": {},
   "outputs": [
    {
     "name": "stdout",
     "output_type": "stream",
     "text": [
      "count     2312.000000\n",
      "mean      8964.957093\n",
      "std      20525.300525\n",
      "min          0.000000\n",
      "25%         91.850000\n",
      "50%        279.900000\n",
      "75%       1120.075000\n",
      "max      87739.100000\n",
      "Name: duration, dtype: float64\n"
     ]
    },
    {
     "data": {
      "image/png": "[encoded data removed]",
      "text/plain": [
       "<Figure size 216x576 with 1 Axes>"
      ]
     },
     "metadata": {
      "needs_background": "light"
     },
     "output_type": "display_data"
    }
   ],
   "source": [
    "# Session duration (in minutes)\n",
    "df = data.groupby('sessionId') \\\n",
    "    .agg(((max('ts') - min('ts'))/60000).alias('duration')) \\\n",
    "    .select('sessionId', round(col('duration'), 1).alias('duration')) \\\n",
    "    .toPandas()\n",
    "\n",
    "print(df.duration.describe())\n",
    "\n",
    "# boxplot 75% of sessions\n",
    "max_duration = 1121\n",
    "set_plot_size(3, 8)\n",
    "sb.boxplot(data = df[df.duration < 1121], y = 'duration');"
   ]
  },
  {
   "cell_type": "code",
   "execution_count": 116,
   "metadata": {},
   "outputs": [
    {
     "name": "stdout",
     "output_type": "stream",
     "text": [
      "+-------------------+---------+-----+---------+------+--------------------+--------------------+---------+\n",
      "|             tsDate|     auth|level|     page|status|                song|              artist|   length|\n",
      "+-------------------+---------+-----+---------+------+--------------------+--------------------+---------+\n",
      "|2018-10-02 15:54:25|Logged In| free|     Home|   200|                null|                null|     null|\n",
      "|2018-10-02 15:55:28|Logged In| free| NextSong|   200|Feel Good Inc (Al...|            Gorillaz|221.20444|\n",
      "|2018-10-02 15:59:09|Logged In| free| NextSong|   200|Lullaby In Three/...|        Erin McKeown|249.88689|\n",
      "|2018-10-02 16:03:18|Logged In| free| NextSong|   200|  Future Reflections|                MGMT|240.24771|\n",
      "|2018-10-02 16:07:18|Logged In| free| NextSong|   200|Nemo Egg (Main Ti...|       Thomas Newman|  75.7024|\n",
      "|2018-10-02 16:07:19|Logged In| free|Thumbs Up|   307|                null|                null|     null|\n",
      "|2018-10-02 16:08:33|Logged In| free| NextSong|   200|Make Love To Your...|        Bill Withers|383.73832|\n",
      "|2018-10-02 16:14:56|Logged In| free| NextSong|   200|            Vagabond|          Wolfmother|230.26893|\n",
      "|2018-10-02 16:18:46|Logged In| free| NextSong|   200|        Out Of Sight|         Smash Mouth| 176.5873|\n",
      "|2018-10-02 16:21:42|Logged In| free| NextSong|   200|    Novio Imaginario|     Tito El Bambino|182.46485|\n",
      "|2018-10-02 16:24:44|Logged In| free| NextSong|   200|           Play Girl|            Ladytron|235.75465|\n",
      "|2018-10-02 16:28:39|Logged In| free| NextSong|   200|           Condemned|       Inhale Exhale|230.29506|\n",
      "|2018-10-02 16:28:40|Logged In| free|   Logout|   307|                null|                null|     null|\n",
      "|2018-11-13 10:39:31|Logged In| paid|     Home|   200|                null|                null|     null|\n",
      "|2018-11-06 11:11:34|Logged In| paid|     Home|   200|                null|                null|     null|\n",
      "|2018-11-06 11:14:18|Logged In| paid| NextSong|   200|          Shelter Me|               Train|213.68118|\n",
      "|2018-11-06 11:17:51|Logged In| paid| NextSong|   200|              Habana|             Orishas|278.41261|\n",
      "|2018-11-06 11:22:29|Logged In| paid| NextSong|   200|Non E_ Per Te_ Pe...|      Alejandro Sanz|230.24281|\n",
      "|2018-11-06 11:26:19|Logged In| paid| NextSong|   200|Steady State (200...|Penguin CafÃÂ© O...|214.17751|\n",
      "|2018-11-06 11:26:20|Logged In| paid|Thumbs Up|   307|                null|                null|     null|\n",
      "+-------------------+---------+-----+---------+------+--------------------+--------------------+---------+\n",
      "\n"
     ]
    }
   ],
   "source": [
    "# Session example with logs\n",
    "data.where(data.sessionId == 319) \\\n",
    "    .select('tsDate', 'auth', 'level', 'page', 'status', 'song', 'artist', 'length') \\\n",
    "    .show()"
   ]
  },
  {
   "cell_type": "code",
   "execution_count": 95,
   "metadata": {},
   "outputs": [
    {
     "data": {
      "image/png": "[encoded data removed]",
      "text/plain": [
       "<Figure size 432x288 with 2 Axes>"
      ]
     },
     "metadata": {
      "needs_background": "light"
     },
     "output_type": "display_data"
    }
   ],
   "source": [
    "# Users & logs per gender\n",
    "fig, axes = plt.subplots(nrows=1, ncols=2)\n",
    "\n",
    "df_logs = data.select('gender').toPandas()\n",
    "df_users = data.groupby('userId', 'gender').count().toPandas()\n",
    "\n",
    "# users per gender\n",
    "plt.subplot(1, 2, 1)\n",
    "sb.countplot(data = df_users, x = 'gender', order = ['M','F']).set_title('Users per gender')\n",
    "\n",
    "# logs per gender\n",
    "plt.subplot(1, 2, 2)\n",
    "sb.countplot(data = df_logs, x = 'gender', order = ['M','F']).set_title('Logs per gender');\n",
    "\n",
    "fig.tight_layout();"
   ]
  },
  {
   "cell_type": "markdown",
   "metadata": {},
   "source": [
    "### Churn split\n",
    "We have 2 principal (target) groups of users: *active* and *churned* users."
   ]
  },
  {
   "cell_type": "code",
   "execution_count": 120,
   "metadata": {},
   "outputs": [
    {
     "data": {
      "text/plain": [
       "52"
      ]
     },
     "execution_count": 120,
     "metadata": {},
     "output_type": "execute_result"
    }
   ],
   "source": [
    "# Count churned users using Cancellation Confirmation event\n",
    "data.where(data.page == 'Cancellation Confirmation').dropDuplicates().count()"
   ]
  },
  {
   "cell_type": "code",
   "execution_count": 155,
   "metadata": {},
   "outputs": [
    {
     "data": {
      "text/plain": [
       "52"
      ]
     },
     "execution_count": 155,
     "metadata": {},
     "output_type": "execute_result"
    }
   ],
   "source": [
    "# Label churned users\n",
    "\n",
    "# extract churned users\n",
    "churned = data.where(data.page.isin(['Cancellation Confirmation'])) \\\n",
    "    .dropDuplicates() \\\n",
    "    .select('userId') \\\n",
    "    .collect()\n",
    "\n",
    "# add new column using churned list\n",
    "churned_uids = [x.userId for x in churned];\n",
    "is_churn = udf(lambda x: 1 if x in churned_uids else 0, IntegerType())\n",
    "data = data.withColumn('churn', is_churn('userId'))\n",
    "data.take(3)\n",
    "\n",
    "# check\n",
    "data.where(data.churn == True).select('userId').dropDuplicates().count()"
   ]
  },
  {
   "cell_type": "markdown",
   "metadata": {},
   "source": [
    "### Log level\n",
    "We calculate a share of logs with a selected feature for each target group."
   ]
  },
  {
   "cell_type": "markdown",
   "metadata": {},
   "source": [
    "#### Common variables and functions"
   ]
  },
  {
   "cell_type": "code",
   "execution_count": 201,
   "metadata": {},
   "outputs": [],
   "source": [
    "# Count of 'churned'/active logs\n",
    "count0 = data.where(data.churn == 0).count()\n",
    "count1 = data.where(data.churn == 1).count()\n",
    "\n",
    "# Fetch values (categories) of a given feature\n",
    "def get_categories(feature):\n",
    "    return data.select(feature).dropDuplicates().sort(feature)\n",
    "\n",
    "# Get list of categories of a given feature\n",
    "def get_categories_list(feature):\n",
    "    return [str(row[feature]) for row in get_categories(feature).collect()]\n",
    "\n",
    "# Calculate share of each category relating to its churn group\n",
    "def calc_log_share(feature):\n",
    "    # calculate count of each category, per churn group\n",
    "    df = data \\\n",
    "        .groupby('churn', feature) \\\n",
    "        .count() \\\n",
    "        .toPandas()\n",
    "       \n",
    "    totals = df.groupby('churn').sum()\n",
    "    df = df.set_index('churn').join(totals, rsuffix='_total')\n",
    "    df['share'] = df['count']/df['count_total']\n",
    "    df = df.drop('count_total', axis=1)\n",
    "    return df.reset_index()\n",
    "\n",
    "# Plot the category share, for both churn group\n",
    "def plot_share(df, feature):\n",
    "    # split dataset into 2 churn subsets\n",
    "    df0 = df[df.churn == 0].sort_values(by='share', ascending=False)\n",
    "    df1 = df[df.churn == 1].sort_values(by='share', ascending=False)\n",
    "    \n",
    "    # plot\n",
    "    width =0.35\n",
    "    labels = get_categories_list(feature)\n",
    "    plt.xticks(range(len(labels)), df0[feature])\n",
    "    plt.xlabel(feature)\n",
    "    plt.ylabel('share')\n",
    "    plt.bar(np.arange(len(df0)), df0['share'], width=width)\n",
    "    plt.bar(np.arange(len(df1))+ width, df1['share'], width=width)\n",
    "    ax = plt.gca()\n",
    "    ax.set_title('Log level: ' + feature);\n",
    "    plt.legend(['active', 'churned'], loc=1)"
   ]
  },
  {
   "cell_type": "markdown",
   "metadata": {},
   "source": [
    "#### Method, Status"
   ]
  },
  {
   "cell_type": "code",
   "execution_count": 167,
   "metadata": {
    "scrolled": false
   },
   "outputs": [
    {
     "data": {
      "image/png": "[encoded data removed]",
      "text/plain": [
       "<Figure size 864x288 with 2 Axes>"
      ]
     },
     "metadata": {
      "needs_background": "light"
     },
     "output_type": "display_data"
    }
   ],
   "source": [
    "# get data\n",
    "df_method = calc_log_share('method')\n",
    "df_status = calc_log_share('status')\n",
    "\n",
    "# plot\n",
    "plt.figure(figsize = [12, 4]);\n",
    "plt.subplot(1, 2, 1)\n",
    "plot_share(df_method, 'method')\n",
    "plt.subplot(1, 2, 2)\n",
    "plot_share(df_status, 'status')\n",
    "\n",
    "plt.show()"
   ]
  },
  {
   "cell_type": "markdown",
   "metadata": {},
   "source": [
    "#### Page: NextSong"
   ]
  },
  {
   "cell_type": "code",
   "execution_count": 158,
   "metadata": {},
   "outputs": [
    {
     "data": {
      "image/png": "[encoded data removed]",
      "text/plain": [
       "<Figure size 144x288 with 1 Axes>"
      ]
     },
     "metadata": {
      "needs_background": "light"
     },
     "output_type": "display_data"
    }
   ],
   "source": [
    "# prepare data\n",
    "get_total = udf(lambda x: count0 if x == 0 else count1)\n",
    "df_nextSong = data.where(data.page == 'NextSong') \\\n",
    "    .withColumn('total', get_total('churn')) \\\n",
    "    .groupby('churn', 'total') \\\n",
    "    .count() \\\n",
    "    .withColumn('share', col('count')/col('total')) \\\n",
    "    .drop('total') \\\n",
    "    .toPandas()\n",
    "\n",
    "# split data by churn\n",
    "df0 = df_nextSong[df_nextSong.churn == 0].copy()\n",
    "df1 = df_nextSong[df_nextSong.churn == 1].copy()\n",
    "\n",
    "# plot\n",
    "plt.figure(figsize = [2, 4]);\n",
    "width =0.1\n",
    "plt.xticks(range(0), [])\n",
    "plt.ylabel('share')\n",
    "plt.bar(np.arange(1), df0['share'], width=width)\n",
    "plt.bar(np.arange(1) + width, df1['share'], width=width)\n",
    "ax = plt.gca()\n",
    "ax.set_title('Log level: NextSong');\n",
    "plt.legend(['active', 'churned'], loc=4)\n",
    "plt.show()"
   ]
  },
  {
   "cell_type": "markdown",
   "metadata": {},
   "source": [
    "#### Page: non-NextSong (other) pages"
   ]
  },
  {
   "cell_type": "code",
   "execution_count": 159,
   "metadata": {},
   "outputs": [
    {
     "data": {
      "image/png": "[encoded data removed]",
      "text/plain": [
       "<Figure size 1080x504 with 1 Axes>"
      ]
     },
     "metadata": {
      "needs_background": "light"
     },
     "output_type": "display_data"
    }
   ],
   "source": [
    "# prepare data\n",
    "get_total = udf(lambda x: count0 if x == 0 else count1)\n",
    "df_otherPages = data.where(~data.page.isin(['NextSong', 'Cancel', 'Cancellation Confirmation'])) \\\n",
    "    .withColumn('total', get_total('churn')) \\\n",
    "    .groupby('churn', 'total', 'page') \\\n",
    "    .count() \\\n",
    "    .withColumn('share', col('count')/col('total')) \\\n",
    "    .drop('total') \\\n",
    "    .toPandas()\n",
    "\n",
    "# split data by churn\n",
    "df0 = df_otherPages[df_otherPages.churn == 0].sort_values(['page', 'churn']).copy()\n",
    "df1 = df_otherPages[df_otherPages.churn == 1].sort_values(['page', 'churn']).copy()\n",
    "\n",
    "# plot\n",
    "plt.figure(figsize = [15, 7])\n",
    "width = 0.35\n",
    "labels = df0['page'].sort_values()\n",
    "plt.xticks(range(len(labels)), labels)\n",
    "plt.xlabel('page')\n",
    "plt.ylabel('share')\n",
    "plt.bar(np.arange(len(df0)), df0['share'], width=width)\n",
    "plt.bar(np.arange(len(df1))+width, df1['share'], width=width)\n",
    "plt.xticks(rotation = 90);\n",
    "ax = plt.gca()\n",
    "ax.set_title('Log level: Other pages');\n",
    "plt.legend(['active', 'churned'], loc=1)\n",
    "plt.show()"
   ]
  },
  {
   "cell_type": "markdown",
   "metadata": {},
   "source": [
    "### User level\n",
    "We calculate a share of users with a selected feature for each target group."
   ]
  },
  {
   "cell_type": "markdown",
   "metadata": {},
   "source": [
    "#### Common variables and functions"
   ]
  },
  {
   "cell_type": "code",
   "execution_count": 188,
   "metadata": {},
   "outputs": [],
   "source": [
    "# count users for each churn group \n",
    "split = data.groupby('churn', 'userId').count()\n",
    "user_count0 = split.where(split.churn == 0).count()\n",
    "user_count1 = split.where(split.churn == 1).count()"
   ]
  },
  {
   "cell_type": "code",
   "execution_count": 224,
   "metadata": {},
   "outputs": [],
   "source": [
    "get_total = udf(lambda x: user_count0 if x == 0 else user_count1)\n",
    "\n",
    "# get user data\n",
    "def get_user_data(feature):\n",
    "     return data \\\n",
    "        .withColumn('total', get_total('churn')) \\\n",
    "        .groupby('churn', 'total', 'userId', feature) \\\n",
    "        .count() \\\n",
    "        .groupby('churn', 'total', feature) \\\n",
    "        .count() \\\n",
    "        .withColumn('share', col('count')/col('total')) \\\n",
    "        .sort('churn', feature) \\\n",
    "        .toPandas()"
   ]
  },
  {
   "cell_type": "code",
   "execution_count": 225,
   "metadata": {},
   "outputs": [],
   "source": [
    "df = get_user_data('gender')"
   ]
  },
  {
   "cell_type": "code",
   "execution_count": 226,
   "metadata": {},
   "outputs": [
    {
     "data": {
      "text/html": [
       "<div>\n",
       "<style scoped>\n",
       "    .dataframe tbody tr th:only-of-type {\n",
       "        vertical-align: middle;\n",
       "    }\n",
       "\n",
       "    .dataframe tbody tr th {\n",
       "        vertical-align: top;\n",
       "    }\n",
       "\n",
       "    .dataframe thead th {\n",
       "        text-align: right;\n",
       "    }\n",
       "</style>\n",
       "<table border=\"1\" class=\"dataframe\">\n",
       "  <thead>\n",
       "    <tr style=\"text-align: right;\">\n",
       "      <th></th>\n",
       "      <th>churn</th>\n",
       "      <th>total</th>\n",
       "      <th>gender</th>\n",
       "      <th>count</th>\n",
       "      <th>share</th>\n",
       "    </tr>\n",
       "  </thead>\n",
       "  <tbody>\n",
       "    <tr>\n",
       "      <th>0</th>\n",
       "      <td>0</td>\n",
       "      <td>173</td>\n",
       "      <td>F</td>\n",
       "      <td>84</td>\n",
       "      <td>0.485549</td>\n",
       "    </tr>\n",
       "    <tr>\n",
       "      <th>1</th>\n",
       "      <td>0</td>\n",
       "      <td>173</td>\n",
       "      <td>M</td>\n",
       "      <td>89</td>\n",
       "      <td>0.514451</td>\n",
       "    </tr>\n",
       "    <tr>\n",
       "      <th>2</th>\n",
       "      <td>1</td>\n",
       "      <td>52</td>\n",
       "      <td>F</td>\n",
       "      <td>20</td>\n",
       "      <td>0.384615</td>\n",
       "    </tr>\n",
       "    <tr>\n",
       "      <th>3</th>\n",
       "      <td>1</td>\n",
       "      <td>52</td>\n",
       "      <td>M</td>\n",
       "      <td>32</td>\n",
       "      <td>0.615385</td>\n",
       "    </tr>\n",
       "  </tbody>\n",
       "</table>\n",
       "</div>"
      ],
      "text/plain": [
       "   churn total gender  count     share\n",
       "0      0   173      F     84  0.485549\n",
       "1      0   173      M     89  0.514451\n",
       "2      1    52      F     20  0.384615\n",
       "3      1    52      M     32  0.615385"
      ]
     },
     "execution_count": 226,
     "metadata": {},
     "output_type": "execute_result"
    }
   ],
   "source": [
    "df"
   ]
  },
  {
   "cell_type": "code",
   "execution_count": 227,
   "metadata": {},
   "outputs": [],
   "source": [
    "df2 = get_user_data('level')"
   ]
  },
  {
   "cell_type": "code",
   "execution_count": 228,
   "metadata": {},
   "outputs": [
    {
     "data": {
      "text/html": [
       "<div>\n",
       "<style scoped>\n",
       "    .dataframe tbody tr th:only-of-type {\n",
       "        vertical-align: middle;\n",
       "    }\n",
       "\n",
       "    .dataframe tbody tr th {\n",
       "        vertical-align: top;\n",
       "    }\n",
       "\n",
       "    .dataframe thead th {\n",
       "        text-align: right;\n",
       "    }\n",
       "</style>\n",
       "<table border=\"1\" class=\"dataframe\">\n",
       "  <thead>\n",
       "    <tr style=\"text-align: right;\">\n",
       "      <th></th>\n",
       "      <th>churn</th>\n",
       "      <th>total</th>\n",
       "      <th>level</th>\n",
       "      <th>count</th>\n",
       "      <th>share</th>\n",
       "    </tr>\n",
       "  </thead>\n",
       "  <tbody>\n",
       "    <tr>\n",
       "      <th>0</th>\n",
       "      <td>0</td>\n",
       "      <td>173</td>\n",
       "      <td>free</td>\n",
       "      <td>149</td>\n",
       "      <td>0.861272</td>\n",
       "    </tr>\n",
       "    <tr>\n",
       "      <th>1</th>\n",
       "      <td>0</td>\n",
       "      <td>173</td>\n",
       "      <td>paid</td>\n",
       "      <td>129</td>\n",
       "      <td>0.745665</td>\n",
       "    </tr>\n",
       "    <tr>\n",
       "      <th>2</th>\n",
       "      <td>1</td>\n",
       "      <td>52</td>\n",
       "      <td>free</td>\n",
       "      <td>46</td>\n",
       "      <td>0.884615</td>\n",
       "    </tr>\n",
       "    <tr>\n",
       "      <th>3</th>\n",
       "      <td>1</td>\n",
       "      <td>52</td>\n",
       "      <td>paid</td>\n",
       "      <td>36</td>\n",
       "      <td>0.692308</td>\n",
       "    </tr>\n",
       "  </tbody>\n",
       "</table>\n",
       "</div>"
      ],
      "text/plain": [
       "   churn total level  count     share\n",
       "0      0   173  free    149  0.861272\n",
       "1      0   173  paid    129  0.745665\n",
       "2      1    52  free     46  0.884615\n",
       "3      1    52  paid     36  0.692308"
      ]
     },
     "execution_count": 228,
     "metadata": {},
     "output_type": "execute_result"
    }
   ],
   "source": [
    "df2"
   ]
  },
  {
   "cell_type": "markdown",
   "metadata": {},
   "source": [
    "#### User level: *Gender*"
   ]
  },
  {
   "cell_type": "code",
   "execution_count": 197,
   "metadata": {},
   "outputs": [],
   "source": [
    "# prepare data\n",
    "get_total = udf(lambda x: user_count0 if x == 0 else user_count1)\n",
    "df_gender = data \\\n",
    "    .withColumn('total', get_total('churn')) \\\n",
    "    .groupby('churn', 'total', 'userId', 'gender') \\\n",
    "    .count() \\\n",
    "    .groupby('churn', 'total', 'gender') \\\n",
    "    .count() \\\n",
    "    .withColumn('share', col('count')/col('total')) \\\n",
    "    .drop('total') \\\n",
    "    .toPandas()"
   ]
  },
  {
   "cell_type": "code",
   "execution_count": 198,
   "metadata": {},
   "outputs": [
    {
     "data": {
      "text/html": [
       "<div>\n",
       "<style scoped>\n",
       "    .dataframe tbody tr th:only-of-type {\n",
       "        vertical-align: middle;\n",
       "    }\n",
       "\n",
       "    .dataframe tbody tr th {\n",
       "        vertical-align: top;\n",
       "    }\n",
       "\n",
       "    .dataframe thead th {\n",
       "        text-align: right;\n",
       "    }\n",
       "</style>\n",
       "<table border=\"1\" class=\"dataframe\">\n",
       "  <thead>\n",
       "    <tr style=\"text-align: right;\">\n",
       "      <th></th>\n",
       "      <th>churn</th>\n",
       "      <th>gender</th>\n",
       "      <th>count</th>\n",
       "      <th>share</th>\n",
       "    </tr>\n",
       "  </thead>\n",
       "  <tbody>\n",
       "    <tr>\n",
       "      <th>0</th>\n",
       "      <td>1</td>\n",
       "      <td>M</td>\n",
       "      <td>32</td>\n",
       "      <td>0.615385</td>\n",
       "    </tr>\n",
       "    <tr>\n",
       "      <th>1</th>\n",
       "      <td>1</td>\n",
       "      <td>F</td>\n",
       "      <td>20</td>\n",
       "      <td>0.384615</td>\n",
       "    </tr>\n",
       "    <tr>\n",
       "      <th>2</th>\n",
       "      <td>0</td>\n",
       "      <td>M</td>\n",
       "      <td>89</td>\n",
       "      <td>0.514451</td>\n",
       "    </tr>\n",
       "    <tr>\n",
       "      <th>3</th>\n",
       "      <td>0</td>\n",
       "      <td>F</td>\n",
       "      <td>84</td>\n",
       "      <td>0.485549</td>\n",
       "    </tr>\n",
       "  </tbody>\n",
       "</table>\n",
       "</div>"
      ],
      "text/plain": [
       "   churn gender  count     share\n",
       "0      1      M     32  0.615385\n",
       "1      1      F     20  0.384615\n",
       "2      0      M     89  0.514451\n",
       "3      0      F     84  0.485549"
      ]
     },
     "execution_count": 198,
     "metadata": {},
     "output_type": "execute_result"
    }
   ],
   "source": [
    "df_gender"
   ]
  },
  {
   "cell_type": "code",
   "execution_count": 202,
   "metadata": {},
   "outputs": [
    {
     "data": {
      "image/png": "[encoded data removed]",
      "text/plain": [
       "<Figure size 432x288 with 1 Axes>"
      ]
     },
     "metadata": {
      "needs_background": "light"
     },
     "output_type": "display_data"
    }
   ],
   "source": [
    "plot_share(df_gender, 'gender')"
   ]
  },
  {
   "cell_type": "markdown",
   "metadata": {},
   "source": [
    "#### User level: *Level*"
   ]
  },
  {
   "cell_type": "code",
   "execution_count": null,
   "metadata": {},
   "outputs": [],
   "source": []
  },
  {
   "cell_type": "code",
   "execution_count": null,
   "metadata": {},
   "outputs": [],
   "source": []
  },
  {
   "cell_type": "code",
   "execution_count": null,
   "metadata": {},
   "outputs": [],
   "source": []
  },
  {
   "cell_type": "code",
   "execution_count": null,
   "metadata": {},
   "outputs": [],
   "source": []
  },
  {
   "cell_type": "code",
   "execution_count": 127,
   "metadata": {},
   "outputs": [
    {
     "data": {
      "image/png": "[encoded data removed]",
      "text/plain": [
       "<Figure size 360x360 with 1 Axes>"
      ]
     },
     "metadata": {
      "needs_background": "light"
     },
     "output_type": "display_data"
    }
   ],
   "source": [
    "def calc_churn_share(row):\n",
    "    if row['level'] == 'paid':\n",
    "        return row['count']/row['paid_total']\n",
    "    else:\n",
    "        return row['count']/row['free_total']\n",
    "\n",
    "# prepare data\n",
    "df = data \\\n",
    "    .groupby('level', 'churn') \\\n",
    "    .count() \\\n",
    "    .withColumn('paid_total', lit(data.where(data.level == 'paid').count())) \\\n",
    "    .withColumn('free_total', lit(data.where(data.level == 'free').count())) \\\n",
    "    .toPandas()\n",
    "\n",
    "df['churn_share'] = df.apply(lambda row: calc_churn_share(row), axis=1)\n",
    "df1 = df[df.level == 'paid'].sort_values(by='churn')['churn_share']\n",
    "df2 = df[df.level == 'free'].sort_values(by='churn')['churn_share']\n",
    "\n",
    "# plot\n",
    "plt.figure(figsize = [5, 5])\n",
    "width = 0.4\n",
    "labels = ['Active', 'Churned']\n",
    "plt.xticks(range(2), labels)\n",
    "plt.xlabel('Level')\n",
    "plt.ylabel('Churn')\n",
    "plt.bar(np.arange(len(df1)), df1, width=width)\n",
    "plt.bar(np.arange(len(df2))+width, df2, width=width)\n",
    "ax = plt.gca()\n",
    "ax.set_title('Churn vs. Level');\n",
    "plt.legend(['paid', 'free'], loc=1)\n",
    "plt.show()"
   ]
  },
  {
   "cell_type": "markdown",
   "metadata": {},
   "source": [
    "#### Location (state)"
   ]
  },
  {
   "cell_type": "code",
   "execution_count": 129,
   "metadata": {},
   "outputs": [
    {
     "data": {
      "image/png": "[encoded data removed]",
      "text/plain": [
       "<Figure size 864x360 with 1 Axes>"
      ]
     },
     "metadata": {
      "needs_background": "light"
     },
     "output_type": "display_data"
    }
   ],
   "source": [
    "df = data \\\n",
    "    .select('churn', 'state', 'userId') \\\n",
    "    .dropDuplicates() \\\n",
    "    .groupby('churn', 'state') \\\n",
    "    .count() \\\n",
    "    .toPandas().set_index('state')\n",
    "\n",
    "states = df[df.churn == 0].join(df[df.churn == 1], lsuffix='_active', rsuffix='_churn') \\\n",
    "                          .dropna()[['count_active', 'count_churn']]\n",
    "states.count_churn = states.count_churn.astype(int)\n",
    "states['churn_share'] = states['count_churn']/(states['count_churn'] + states['count_active'])\n",
    "\n",
    "states.sort_values(by='churn_share', ascending=False) \\\n",
    "    .plot(x = states.index, y = 'churn_share', kind='bar', figsize = (12, 5), width=0.6);\n",
    "ax = plt.gca()\n",
    "ax.set_title('Churn vs. Location (state)');\n",
    "plt.xlabel('Location (state)')\n",
    "plt.ylabel('Churn')\n",
    "plt.show()"
   ]
  },
  {
   "cell_type": "markdown",
   "metadata": {},
   "source": [
    "#### Session"
   ]
  },
  {
   "cell_type": "code",
   "execution_count": 137,
   "metadata": {},
   "outputs": [],
   "source": [
    "# Prepare dataset\n",
    "df = data.groupby('userId', 'churn', 'sessionId') \\\n",
    "    .agg(count('sessionId').alias('logCount'), ((max('ts') - min('ts'))/60000.0).alias('duration')) \\\n",
    "    .groupby('userId', 'churn') \\\n",
    "    .agg(avg('logCount').alias('avgLogsPerSession'), \\\n",
    "         avg('duration').alias('avgDurationPerSession')) \\\n",
    "    .toPandas()"
   ]
  },
  {
   "cell_type": "markdown",
   "metadata": {},
   "source": [
    "#### Session: Average logs per user session"
   ]
  },
  {
   "cell_type": "code",
   "execution_count": 139,
   "metadata": {},
   "outputs": [
    {
     "data": {
      "image/png": "[encoded data removed]",
      "text/plain": [
       "<Figure size 864x288 with 1 Axes>"
      ]
     },
     "metadata": {
      "needs_background": "light"
     },
     "output_type": "display_data"
    }
   ],
   "source": [
    "# plot\n",
    "plt.figure(figsize=(12, 4))\n",
    "plt.hist(df[df.churn == 0]['avgLogsPerSession'], alpha = 0.5, label=\"churned\", bins = 20)\n",
    "plt.hist(df[df.churn == 1]['avgLogsPerSession'], alpha = 0.5, label=\"active\", bins = 20)\n",
    "plt.xlabel('Average logs per user session')\n",
    "ax = plt.gca()\n",
    "ax.set_title('Churn vs. Activity (logs per session on average)');\n",
    "plt.legend(loc='upper right')\n",
    "plt.show()"
   ]
  },
  {
   "cell_type": "markdown",
   "metadata": {},
   "source": [
    "#### Session: Average duration logs per user session"
   ]
  },
  {
   "cell_type": "code",
   "execution_count": 140,
   "metadata": {},
   "outputs": [
    {
     "data": {
      "image/png": "[encoded data removed]",
      "text/plain": [
       "<Figure size 864x288 with 1 Axes>"
      ]
     },
     "metadata": {
      "needs_background": "light"
     },
     "output_type": "display_data"
    }
   ],
   "source": [
    "plt.figure(figsize=(12, 4))\n",
    "plt.hist(df[df.churn == 0]['avgDurationPerSession'], alpha = 0.5, label=\"churned\", bins = 20)\n",
    "plt.hist(df[df.churn == 1]['avgDurationPerSession'], alpha = 0.5, label=\"active\", bins = 20)\n",
    "plt.xlabel('Average duration')\n",
    "ax = plt.gca()\n",
    "ax.set_title('Churn vs. Activity (duration per session on average)');\n",
    "plt.legend(loc='upper right')\n",
    "plt.show()"
   ]
  },
  {
   "cell_type": "markdown",
   "metadata": {},
   "source": [
    "#### Page"
   ]
  },
  {
   "cell_type": "code",
   "execution_count": null,
   "metadata": {},
   "outputs": [],
   "source": [
    "df = data \\\n",
    "    .where(data.page != 'NextSong') \\\n",
    "    .groupby('churn', 'page') \\\n",
    "    .count() \\\n",
    "    .toPandas().set_index('page')"
   ]
  },
  {
   "cell_type": "markdown",
   "metadata": {},
   "source": [
    "#### Page: Other activity"
   ]
  },
  {
   "cell_type": "code",
   "execution_count": null,
   "metadata": {},
   "outputs": [],
   "source": []
  },
  {
   "cell_type": "code",
   "execution_count": null,
   "metadata": {},
   "outputs": [],
   "source": []
  },
  {
   "cell_type": "code",
   "execution_count": null,
   "metadata": {},
   "outputs": [],
   "source": []
  },
  {
   "cell_type": "markdown",
   "metadata": {},
   "source": [
    "#### Page: Other activity"
   ]
  },
  {
   "cell_type": "code",
   "execution_count": 141,
   "metadata": {},
   "outputs": [],
   "source": [
    "# Prepare dataset\n",
    "df = data \\\n",
    "    .where(data.page != 'NextSong') \\\n",
    "    .groupby('churn', 'page') \\\n",
    "    .count() \\\n",
    "    .toPandas().set_index('page')"
   ]
  },
  {
   "cell_type": "code",
   "execution_count": 143,
   "metadata": {},
   "outputs": [
    {
     "data": {
      "image/png": "[encoded data removed]",
      "text/plain": [
       "<Figure size 1080x504 with 1 Axes>"
      ]
     },
     "metadata": {
      "needs_background": "light"
     },
     "output_type": "display_data"
    }
   ],
   "source": [
    "# Active\n",
    "df_active = df[df.churn == 0].copy()\n",
    "total_active = df_active['count'].sum()\n",
    "df_active['share'] = df_active['count']/total_active\n",
    "df1 = df_active.share\n",
    "\n",
    "# Churned\n",
    "df_churned = df[df.churn == 1].copy()\n",
    "total_churned = df_churned['count'].sum()\n",
    "df_churned['share'] = df_churned['count']/total_churned\n",
    "df2 = df_churned.share\n",
    "\n",
    "# plot\n",
    "plt.figure(figsize = [15, 7])\n",
    "width = 0.35\n",
    "labels = df.index.values\n",
    "plt.xticks(range(len(labels)), labels)\n",
    "plt.xlabel('Activity (page)')\n",
    "plt.ylabel('Share')\n",
    "plt.bar(np.arange(len(df1)), df1, width=width)\n",
    "plt.bar(np.arange(len(df2))+width, df2, width=width)\n",
    "plt.xticks(rotation = 90);\n",
    "ax = plt.gca()\n",
    "ax.set_title('Churn vs. Page Other Activity');\n",
    "plt.legend(['Active', 'Churned'], loc=1)\n",
    "plt.show()"
   ]
  },
  {
   "cell_type": "code",
   "execution_count": null,
   "metadata": {},
   "outputs": [],
   "source": []
  },
  {
   "cell_type": "code",
   "execution_count": null,
   "metadata": {},
   "outputs": [],
   "source": []
  },
  {
   "cell_type": "markdown",
   "metadata": {},
   "source": [
    "# Feature Engineering\n",
    "Once you've familiarized yourself with the data, build out the features you find promising to train your model on. To work with the full dataset, you can follow the following steps.\n",
    "- Write a script to extract the necessary features from the smaller subset of data\n",
    "- Ensure that your script is scalable, using the best practices discussed in Lesson 3\n",
    "- Try your script on the full data set, debugging your script if necessary\n",
    "\n",
    "If you are working in the classroom workspace, you can just extract features based on the small subset of data contained here. Be sure to transfer over this work to the larger dataset when you work on your Spark cluster."
   ]
  },
  {
   "cell_type": "code",
   "execution_count": null,
   "metadata": {},
   "outputs": [],
   "source": []
  },
  {
   "cell_type": "markdown",
   "metadata": {},
   "source": [
    "# Modeling\n",
    "Split the full dataset into train, test, and validation sets. Test out several of the machine learning methods you learned. Evaluate the accuracy of the various models, tuning parameters as necessary. Determine your winning model based on test accuracy and report results on the validation set. Since the churned users are a fairly small subset, I suggest using F1 score as the metric to optimize."
   ]
  },
  {
   "cell_type": "code",
   "execution_count": null,
   "metadata": {},
   "outputs": [],
   "source": []
  },
  {
   "cell_type": "markdown",
   "metadata": {},
   "source": [
    "# Final Steps\n",
    "Clean up your code, adding comments and renaming variables to make the code easier to read and maintain. Refer to the Spark Project Overview page and Data Scientist Capstone Project Rubric to make sure you are including all components of the capstone project and meet all expectations. Remember, this includes thorough documentation in a README file in a Github repository, as well as a web app or blog post."
   ]
  },
  {
   "cell_type": "code",
   "execution_count": null,
   "metadata": {},
   "outputs": [],
   "source": []
  }
 ],
 "metadata": {
  "kernelspec": {
   "display_name": "Python 3",
   "language": "python",
   "name": "python3"
  },
  "language_info": {
   "codemirror_mode": {
    "name": "ipython",
    "version": 3
   },
   "file_extension": ".py",
   "mimetype": "text/x-python",
   "name": "python",
   "nbconvert_exporter": "python",
   "pygments_lexer": "ipython3",
   "version": "3.6.8"
  }
 },
 "nbformat": 4,
 "nbformat_minor": 2
}
