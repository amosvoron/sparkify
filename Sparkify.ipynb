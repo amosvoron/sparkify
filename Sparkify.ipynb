{
 "cells": [
  {
   "cell_type": "markdown",
   "metadata": {},
   "source": [
    "# Sparkify Project Workspace\n",
    "This workspace contains a tiny subset (128MB) of the full dataset available (12GB). Feel free to use this workspace to build your project, or to explore a smaller subset with Spark before deploying your cluster on the cloud. Instructions for setting up your Spark cluster is included in the last lesson of the Extracurricular Spark Course content.\n",
    "\n",
    "You can follow the steps below to guide your data analysis and model building portion of this project."
   ]
  },
  {
   "cell_type": "code",
   "execution_count": 328,
   "metadata": {
    "collapsed": true
   },
   "outputs": [],
   "source": [
    "# Import libraries\n",
    "from pyspark.sql import SparkSession\n",
    "from pyspark.sql.functions import isnan, count, when, col, desc, udf, col, sort_array, asc, \\\n",
    "                                  avg, from_unixtime, split, min, max, round, lit, mean\n",
    "from pyspark.sql.functions import sum as Fsum\n",
    "from pyspark.sql.functions import row_number\n",
    "from pyspark.sql.window import Window\n",
    "\n",
    "from pyspark.sql.types import IntegerType, TimestampType\n",
    "import datetime\n",
    "from pyspark.sql.functions import to_date, year, month, dayofmonth, date_format, substring\n",
    "\n",
    "import numpy as np\n",
    "import pandas as pd\n",
    "%matplotlib inline\n",
    "import matplotlib.pyplot as plt\n",
    "import seaborn as sb"
   ]
  },
  {
   "cell_type": "code",
   "execution_count": 3,
   "metadata": {
    "collapsed": true
   },
   "outputs": [],
   "source": [
    "# Create a Spark session\n",
    "spark = SparkSession \\\n",
    "    .builder \\\n",
    "    .appName(\"Sparkify\") \\\n",
    "    .getOrCreate()"
   ]
  },
  {
   "cell_type": "code",
   "execution_count": null,
   "metadata": {
    "collapsed": true
   },
   "outputs": [],
   "source": [
    "# Set time parser policy\n",
    "spark.conf.set(\"spark.sql.legacy.timeParserPolicy\",\"LEGACY\")"
   ]
  },
  {
   "cell_type": "markdown",
   "metadata": {},
   "source": [
    "# Load and Clean Dataset\n",
    "In this workspace, the mini-dataset file is `mini_sparkify_event_data.json`. Load and clean the dataset, checking for invalid or missing data - for example, records without userids or sessionids. "
   ]
  },
  {
   "cell_type": "code",
   "execution_count": 4,
   "metadata": {},
   "outputs": [
    {
     "data": {
      "text/plain": [
       "[Row(artist='Martha Tilston', auth='Logged In', firstName='Colin', gender='M', itemInSession=50, lastName='Freeman', length=277.89016, level='paid', location='Bakersfield, CA', method='PUT', page='NextSong', registration=1538173362000, sessionId=29, song='Rockpools', status=200, ts=1538352117000, userAgent='Mozilla/5.0 (Windows NT 6.1; WOW64; rv:31.0) Gecko/20100101 Firefox/31.0', userId='30'),\n",
       " Row(artist='Five Iron Frenzy', auth='Logged In', firstName='Micah', gender='M', itemInSession=79, lastName='Long', length=236.09424, level='free', location='Boston-Cambridge-Newton, MA-NH', method='PUT', page='NextSong', registration=1538331630000, sessionId=8, song='Canada', status=200, ts=1538352180000, userAgent='\"Mozilla/5.0 (Windows NT 6.1; WOW64) AppleWebKit/537.36 (KHTML, like Gecko) Chrome/37.0.2062.103 Safari/537.36\"', userId='9'),\n",
       " Row(artist='Adam Lambert', auth='Logged In', firstName='Colin', gender='M', itemInSession=51, lastName='Freeman', length=282.8273, level='paid', location='Bakersfield, CA', method='PUT', page='NextSong', registration=1538173362000, sessionId=29, song='Time For Miracles', status=200, ts=1538352394000, userAgent='Mozilla/5.0 (Windows NT 6.1; WOW64; rv:31.0) Gecko/20100101 Firefox/31.0', userId='30')]"
      ]
     },
     "execution_count": 4,
     "metadata": {},
     "output_type": "execute_result"
    }
   ],
   "source": [
    "# Load dataset\n",
    "path = \"data/mini_sparkify_event_data.json\"\n",
    "data = spark.read.json(path)\n",
    "original_count = data.count()\n",
    "data.take(3)"
   ]
  },
  {
   "cell_type": "markdown",
   "metadata": {},
   "source": [
    "### Dataset size, schema & column description"
   ]
  },
  {
   "cell_type": "code",
   "execution_count": 5,
   "metadata": {},
   "outputs": [
    {
     "name": "stdout",
     "output_type": "stream",
     "text": [
      "Row count: 286500\n",
      "Column count: 18\n"
     ]
    }
   ],
   "source": [
    "# Dataset size\n",
    "print(f'Row count: {original_count}')\n",
    "print(f'Column count: {len(data.columns)}')"
   ]
  },
  {
   "cell_type": "code",
   "execution_count": 6,
   "metadata": {},
   "outputs": [
    {
     "name": "stdout",
     "output_type": "stream",
     "text": [
      "root\n",
      " |-- artist: string (nullable = true)\n",
      " |-- auth: string (nullable = true)\n",
      " |-- firstName: string (nullable = true)\n",
      " |-- gender: string (nullable = true)\n",
      " |-- itemInSession: long (nullable = true)\n",
      " |-- lastName: string (nullable = true)\n",
      " |-- length: double (nullable = true)\n",
      " |-- level: string (nullable = true)\n",
      " |-- location: string (nullable = true)\n",
      " |-- method: string (nullable = true)\n",
      " |-- page: string (nullable = true)\n",
      " |-- registration: long (nullable = true)\n",
      " |-- sessionId: long (nullable = true)\n",
      " |-- song: string (nullable = true)\n",
      " |-- status: long (nullable = true)\n",
      " |-- ts: long (nullable = true)\n",
      " |-- userAgent: string (nullable = true)\n",
      " |-- userId: string (nullable = true)\n",
      "\n"
     ]
    }
   ],
   "source": [
    "# Schema\n",
    "data.printSchema()"
   ]
  },
  {
   "cell_type": "markdown",
   "metadata": {},
   "source": [
    "<p style=\"color:red\">TODO: column description</p>"
   ]
  },
  {
   "cell_type": "markdown",
   "metadata": {},
   "source": [
    "### Duplicate rows"
   ]
  },
  {
   "cell_type": "code",
   "execution_count": 7,
   "metadata": {},
   "outputs": [
    {
     "name": "stdout",
     "output_type": "stream",
     "text": [
      "Duplicate rows: 0\n"
     ]
    }
   ],
   "source": [
    "# Any duplicate rows? - No\n",
    "print(f'Duplicate rows: {data.count() - data.dropDuplicates().count()}')"
   ]
  },
  {
   "cell_type": "markdown",
   "metadata": {},
   "source": [
    "### Missing values"
   ]
  },
  {
   "cell_type": "code",
   "execution_count": 8,
   "metadata": {},
   "outputs": [
    {
     "name": "stdout",
     "output_type": "stream",
     "text": [
      "artist: 58392\n",
      "auth: 0\n",
      "firstName: 8346\n",
      "gender: 8346\n",
      "itemInSession: 0\n",
      "lastName: 8346\n",
      "length: 58392\n",
      "level: 0\n",
      "location: 8346\n",
      "method: 0\n",
      "page: 0\n",
      "registration: 8346\n",
      "sessionId: 0\n",
      "song: 58392\n",
      "status: 0\n",
      "ts: 0\n",
      "userAgent: 8346\n",
      "userId: 8346\n"
     ]
    }
   ],
   "source": [
    "# Filter by missing value (either null of empty - if string)\n",
    "def filter_missing(data, name):\n",
    "    return data.where((col(name).isNull()) | (col(name) == ''))\n",
    "\n",
    "# Show count of missing values for all columns in the dataset\n",
    "def show_missing(data):\n",
    "    for field in data.schema:\n",
    "        print(f'{field.name}: {filter_missing(data, field.name).count()}')\n",
    "        \n",
    "show_missing(data)"
   ]
  },
  {
   "cell_type": "code",
   "execution_count": 9,
   "metadata": {},
   "outputs": [
    {
     "name": "stdout",
     "output_type": "stream",
     "text": [
      "Missing count: 8346\n"
     ]
    }
   ],
   "source": [
    "# Are 8346 missing values in user's column firstName, gender, lastName, location, registration, userAgent, userId correlated \n",
    "# occurring in the same rows? - Yes\n",
    "\n",
    "class Missing:\n",
    "    missing_data = None\n",
    "    \n",
    "    def __init__(self, data):\n",
    "        self.missing_data = data\n",
    "        \n",
    "    def filter_missing(self, name):\n",
    "        self.missing_data = filter_missing(data, name) \n",
    "        return self  \n",
    "    \n",
    "m = Missing(data) \\\n",
    "    .filter_missing('userId') \\\n",
    "    .filter_missing('firstName') \\\n",
    "    .filter_missing('lastName') \\\n",
    "    .filter_missing('gender') \\\n",
    "    .filter_missing('location') \\\n",
    "    .filter_missing('registration') \\\n",
    "    .filter_missing('userAgent')\n",
    "print(f'Missing count: {m.missing_data.count()}')"
   ]
  },
  {
   "cell_type": "markdown",
   "metadata": {},
   "source": [
    "**What kind of user has a missing userId?**"
   ]
  },
  {
   "cell_type": "code",
   "execution_count": 10,
   "metadata": {},
   "outputs": [
    {
     "name": "stdout",
     "output_type": "stream",
     "text": [
      "+----------+\n",
      "|      auth|\n",
      "+----------+\n",
      "|Logged Out|\n",
      "|     Guest|\n",
      "+----------+\n",
      "\n"
     ]
    }
   ],
   "source": [
    "filter_missing(data, 'userId').select('auth').dropDuplicates().show()"
   ]
  },
  {
   "cell_type": "code",
   "execution_count": 11,
   "metadata": {},
   "outputs": [
    {
     "name": "stdout",
     "output_type": "stream",
     "text": [
      "+-------------------+\n",
      "|               page|\n",
      "+-------------------+\n",
      "|               Home|\n",
      "|              About|\n",
      "|Submit Registration|\n",
      "|              Login|\n",
      "|           Register|\n",
      "|               Help|\n",
      "|              Error|\n",
      "+-------------------+\n",
      "\n"
     ]
    }
   ],
   "source": [
    "filter_missing(data, 'userId').select('page').dropDuplicates().show()"
   ]
  },
  {
   "cell_type": "markdown",
   "metadata": {},
   "source": [
    "As we can see, the missing user is an **unregistered** user. \n",
    "\n",
    "**Can we safely remove the rows with missing users?**\n",
    "\n",
    "Yes, since our target, the *churned user*, is a **registered** user."
   ]
  },
  {
   "cell_type": "code",
   "execution_count": 9,
   "metadata": {},
   "outputs": [
    {
     "name": "stdout",
     "output_type": "stream",
     "text": [
      "artist: 50046\n",
      "auth: 0\n",
      "firstName: 0\n",
      "gender: 0\n",
      "itemInSession: 0\n",
      "lastName: 0\n",
      "length: 50046\n",
      "level: 0\n",
      "location: 0\n",
      "method: 0\n",
      "page: 0\n",
      "registration: 0\n",
      "sessionId: 0\n",
      "song: 50046\n",
      "status: 0\n",
      "ts: 0\n",
      "userAgent: 0\n",
      "userId: 0\n"
     ]
    }
   ],
   "source": [
    "# Remove rows with missing users\n",
    "data = data.where(~((col('userId').isNull()) | (col('userId') == '')))\n",
    "show_missing(data) "
   ]
  },
  {
   "cell_type": "code",
   "execution_count": 10,
   "metadata": {},
   "outputs": [
    {
     "data": {
      "text/plain": [
       "8346"
      ]
     },
     "execution_count": 10,
     "metadata": {},
     "output_type": "execute_result"
    }
   ],
   "source": [
    "# Check count of deleted rows\n",
    "original_count - data.count()"
   ]
  },
  {
   "cell_type": "markdown",
   "metadata": {},
   "source": [
    "### Remove unrelevant columns\n",
    "\n",
    "We identify 2 columns that are not relevant for our analysis:\n",
    "\n",
    "- *firstName* and *lastName* which depend on *userId* and do not provide any additional information relevant for the analysis that has not been already included in *userId*."
   ]
  },
  {
   "cell_type": "code",
   "execution_count": 11,
   "metadata": {},
   "outputs": [
    {
     "data": {
      "text/plain": [
       "225"
      ]
     },
     "execution_count": 11,
     "metadata": {},
     "output_type": "execute_result"
    }
   ],
   "source": [
    "# How many different keys (firstName, lastName) exist in our dataset?\n",
    "data.select('firstName', 'lastName').dropDuplicates().count()\n",
    "\n",
    "# 225 - The same as userIds"
   ]
  },
  {
   "cell_type": "code",
   "execution_count": 107,
   "metadata": {
    "collapsed": true
   },
   "outputs": [
    {
     "ename": "AnalysisException",
     "evalue": "cannot resolve '`firstName`' given input columns: [artist, auth, churn, city, gender, itemInSession, lastLevel, length, level, method, page, regDate, registration, sessionId, song, state, status, ts, tsDate, userAgent, userId, userRowDescId, userRowId];;\n'Project ['firstName, 'lastName, userid#24]\n+- Project [artist#7, auth#8, gender#10, itemInSession#11L, length#13, level#14, method#16, page#17, registration#18L, sessionId#19L, song#20, status#21L, ts#22L, userAgent#23, userId#24, regDate#1147, tsDate#1165, city#1200, state#1220, <lambda>(userId#24, churn#4593) AS churn#4788, userRowId#4641, userRowDescId#4664, lastLevel#4740]\n   +- Project [artist#7, auth#8, gender#10, itemInSession#11L, length#13, level#14, method#16, page#17, registration#18L, sessionId#19L, song#20, status#21L, ts#22L, userAgent#23, userId#24, regDate#1147, tsDate#1165, city#1200, state#1220, churn#4593, userRowId#4641, userRowDescId#4664, <lambda>(userId#24) AS lastLevel#4740]\n      +- Project [artist#7, auth#8, gender#10, itemInSession#11L, length#13, level#14, method#16, page#17, registration#18L, sessionId#19L, song#20, status#21L, ts#22L, userAgent#23, userId#24, regDate#1147, tsDate#1165, city#1200, state#1220, churn#4593, userRowId#4641, userRowDescId#4664]\n         +- Project [artist#7, auth#8, gender#10, itemInSession#11L, length#13, level#14, method#16, page#17, registration#18L, sessionId#19L, song#20, status#21L, ts#22L, userAgent#23, userId#24, regDate#1147, tsDate#1165, city#1200, state#1220, churn#4593, userRowId#4641, userRowDescId#4664, userRowDescId#4664]\n            +- Window [row_number() windowspecdefinition(userId#24, ts#22L DESC NULLS LAST, itemInSession#11L DESC NULLS LAST, specifiedwindowframe(RowFrame, unboundedpreceding$(), currentrow$())) AS userRowDescId#4664], [userId#24], [ts#22L DESC NULLS LAST, itemInSession#11L DESC NULLS LAST]\n               +- Project [artist#7, auth#8, gender#10, itemInSession#11L, length#13, level#14, method#16, page#17, registration#18L, sessionId#19L, song#20, status#21L, ts#22L, userAgent#23, userId#24, regDate#1147, tsDate#1165, city#1200, state#1220, churn#4593, userRowId#4641]\n                  +- Project [artist#7, auth#8, gender#10, itemInSession#11L, length#13, level#14, method#16, page#17, registration#18L, sessionId#19L, song#20, status#21L, ts#22L, userAgent#23, userId#24, regDate#1147, tsDate#1165, city#1200, state#1220, churn#4593, userRowId#4641]\n                     +- Project [artist#7, auth#8, gender#10, itemInSession#11L, length#13, level#14, method#16, page#17, registration#18L, sessionId#19L, song#20, status#21L, ts#22L, userAgent#23, userId#24, regDate#1147, tsDate#1165, city#1200, state#1220, churn#4593, userRowId#4641, userRowId#4641]\n                        +- Window [row_number() windowspecdefinition(userId#24, ts#22L ASC NULLS FIRST, itemInSession#11L ASC NULLS FIRST, specifiedwindowframe(RowFrame, unboundedpreceding$(), currentrow$())) AS userRowId#4641], [userId#24], [ts#22L ASC NULLS FIRST, itemInSession#11L ASC NULLS FIRST]\n                           +- Project [artist#7, auth#8, gender#10, itemInSession#11L, length#13, level#14, method#16, page#17, registration#18L, sessionId#19L, song#20, status#21L, ts#22L, userAgent#23, userId#24, regDate#1147, tsDate#1165, city#1200, state#1220, churn#4593]\n                              +- Project [artist#7, auth#8, gender#10, itemInSession#11L, length#13, level#14, method#16, page#17, registration#18L, sessionId#19L, song#20, status#21L, ts#22L, userAgent#23, userId#24, regDate#1147, tsDate#1165, city#1200, state#1220, <lambda>(userId#24) AS churn#4593]\n                                 +- Project [artist#7, auth#8, gender#10, itemInSession#11L, length#13, level#14, method#16, page#17, registration#18L, sessionId#19L, song#20, status#21L, ts#22L, userAgent#23, userId#24, regDate#1147, tsDate#1165, city#1200, state#1220, <lambda>(userId#24) AS churn#4478]\n                                    +- Project [artist#7, auth#8, gender#10, itemInSession#11L, length#13, level#14, method#16, page#17, registration#18L, sessionId#19L, song#20, status#21L, ts#22L, userAgent#23, userId#24, regDate#1147, tsDate#1165, city#1200, state#1220]\n                                       +- Project [artist#7, auth#8, gender#10, itemInSession#11L, length#13, level#14, location#15, method#16, page#17, registration#18L, sessionId#19L, song#20, status#21L, ts#22L, userAgent#23, userId#24, regDate#1147, tsDate#1165, city#1200, split(location#15, ,, -1)[1] AS state#1220]\n                                          +- Project [artist#7, auth#8, gender#10, itemInSession#11L, length#13, level#14, location#15, method#16, page#17, registration#18L, sessionId#19L, song#20, status#21L, ts#22L, userAgent#23, userId#24, regDate#1147, tsDate#1165, split(location#15, ,, -1)[0] AS city#1200]\n                                             +- Project [artist#7, auth#8, gender#10, itemInSession#11L, length#13, level#14, location#15, method#16, page#17, registration#18L, sessionId#19L, song#20, status#21L, ts#22L, userAgent#23, userId#24, regDate#1147, cast((cast(ts#22L as double) / cast(1000.0 as double)) as timestamp) AS tsDate#1165]\n                                                +- Project [artist#7, auth#8, gender#10, itemInSession#11L, length#13, level#14, location#15, method#16, page#17, registration#18L, sessionId#19L, song#20, status#21L, ts#22L, userAgent#23, userId#24, cast((cast(registration#18L as double) / cast(1000.0 as double)) as timestamp) AS regDate#1147]\n                                                   +- Project [artist#7, auth#8, gender#10, itemInSession#11L, length#13, level#14, location#15, method#16, page#17, registration#18L, sessionId#19L, song#20, status#21L, ts#22L, userAgent#23, userId#24]\n                                                      +- Project [artist#7, auth#8, gender#10, itemInSession#11L, lastName#12, length#13, level#14, location#15, method#16, page#17, registration#18L, sessionId#19L, song#20, status#21L, ts#22L, userAgent#23, userId#24]\n                                                         +- Filter NOT (isnull(userId#24) OR (userId#24 = ))\n                                                            +- Relation[artist#7,auth#8,firstName#9,gender#10,itemInSession#11L,lastName#12,length#13,level#14,location#15,method#16,page#17,registration#18L,sessionId#19L,song#20,status#21L,ts#22L,userAgent#23,userId#24] json\n",
     "output_type": "error",
     "traceback": [
      "\u001b[1;31m---------------------------------------------------------------------------\u001b[0m",
      "\u001b[1;31mAnalysisException\u001b[0m                         Traceback (most recent call last)",
      "\u001b[1;32m<ipython-input-107-4f6b618567fd>\u001b[0m in \u001b[0;36m<module>\u001b[1;34m()\u001b[0m\n\u001b[0;32m      1\u001b[0m \u001b[1;31m# Check if every firstName-lastName is associated to exactly one userId\u001b[0m\u001b[1;33m\u001b[0m\u001b[1;33m\u001b[0m\u001b[0m\n\u001b[1;32m----> 2\u001b[1;33m \u001b[0mdata\u001b[0m\u001b[1;33m.\u001b[0m\u001b[0mselect\u001b[0m\u001b[1;33m(\u001b[0m\u001b[1;34m'firstName'\u001b[0m\u001b[1;33m,\u001b[0m \u001b[1;34m'lastName'\u001b[0m\u001b[1;33m,\u001b[0m \u001b[1;34m'userid'\u001b[0m\u001b[1;33m)\u001b[0m     \u001b[1;33m.\u001b[0m\u001b[0mdropDuplicates\u001b[0m\u001b[1;33m(\u001b[0m\u001b[1;33m)\u001b[0m     \u001b[1;33m.\u001b[0m\u001b[0mgroupby\u001b[0m\u001b[1;33m(\u001b[0m\u001b[1;34m'firstName'\u001b[0m\u001b[1;33m,\u001b[0m \u001b[1;34m'lastName'\u001b[0m\u001b[1;33m)\u001b[0m     \u001b[1;33m.\u001b[0m\u001b[0mcount\u001b[0m\u001b[1;33m(\u001b[0m\u001b[1;33m)\u001b[0m     \u001b[1;33m.\u001b[0m\u001b[0mwhere\u001b[0m\u001b[1;33m(\u001b[0m\u001b[0mcol\u001b[0m\u001b[1;33m(\u001b[0m\u001b[1;34m'count'\u001b[0m\u001b[1;33m)\u001b[0m \u001b[1;33m>\u001b[0m \u001b[1;36m1\u001b[0m\u001b[1;33m)\u001b[0m     \u001b[1;33m.\u001b[0m\u001b[0mcount\u001b[0m\u001b[1;33m(\u001b[0m\u001b[1;33m)\u001b[0m\u001b[1;33m\u001b[0m\u001b[0m\n\u001b[0m",
      "\u001b[1;32mC:\\ProgramData\\Anaconda3\\lib\\site-packages\\pyspark\\sql\\dataframe.py\u001b[0m in \u001b[0;36mselect\u001b[1;34m(self, *cols)\u001b[0m\n\u001b[0;32m   1419\u001b[0m         \u001b[1;33m[\u001b[0m\u001b[0mRow\u001b[0m\u001b[1;33m(\u001b[0m\u001b[0mname\u001b[0m\u001b[1;33m=\u001b[0m\u001b[1;34mu'Alice'\u001b[0m\u001b[1;33m,\u001b[0m \u001b[0mage\u001b[0m\u001b[1;33m=\u001b[0m\u001b[1;36m12\u001b[0m\u001b[1;33m)\u001b[0m\u001b[1;33m,\u001b[0m \u001b[0mRow\u001b[0m\u001b[1;33m(\u001b[0m\u001b[0mname\u001b[0m\u001b[1;33m=\u001b[0m\u001b[1;34mu'Bob'\u001b[0m\u001b[1;33m,\u001b[0m \u001b[0mage\u001b[0m\u001b[1;33m=\u001b[0m\u001b[1;36m15\u001b[0m\u001b[1;33m)\u001b[0m\u001b[1;33m]\u001b[0m\u001b[1;33m\u001b[0m\u001b[0m\n\u001b[0;32m   1420\u001b[0m         \"\"\"\n\u001b[1;32m-> 1421\u001b[1;33m         \u001b[0mjdf\u001b[0m \u001b[1;33m=\u001b[0m \u001b[0mself\u001b[0m\u001b[1;33m.\u001b[0m\u001b[0m_jdf\u001b[0m\u001b[1;33m.\u001b[0m\u001b[0mselect\u001b[0m\u001b[1;33m(\u001b[0m\u001b[0mself\u001b[0m\u001b[1;33m.\u001b[0m\u001b[0m_jcols\u001b[0m\u001b[1;33m(\u001b[0m\u001b[1;33m*\u001b[0m\u001b[0mcols\u001b[0m\u001b[1;33m)\u001b[0m\u001b[1;33m)\u001b[0m\u001b[1;33m\u001b[0m\u001b[0m\n\u001b[0m\u001b[0;32m   1422\u001b[0m         \u001b[1;32mreturn\u001b[0m \u001b[0mDataFrame\u001b[0m\u001b[1;33m(\u001b[0m\u001b[0mjdf\u001b[0m\u001b[1;33m,\u001b[0m \u001b[0mself\u001b[0m\u001b[1;33m.\u001b[0m\u001b[0msql_ctx\u001b[0m\u001b[1;33m)\u001b[0m\u001b[1;33m\u001b[0m\u001b[0m\n\u001b[0;32m   1423\u001b[0m \u001b[1;33m\u001b[0m\u001b[0m\n",
      "\u001b[1;32mC:\\ProgramData\\Anaconda3\\lib\\site-packages\\py4j\\java_gateway.py\u001b[0m in \u001b[0;36m__call__\u001b[1;34m(self, *args)\u001b[0m\n\u001b[0;32m   1303\u001b[0m         \u001b[0manswer\u001b[0m \u001b[1;33m=\u001b[0m \u001b[0mself\u001b[0m\u001b[1;33m.\u001b[0m\u001b[0mgateway_client\u001b[0m\u001b[1;33m.\u001b[0m\u001b[0msend_command\u001b[0m\u001b[1;33m(\u001b[0m\u001b[0mcommand\u001b[0m\u001b[1;33m)\u001b[0m\u001b[1;33m\u001b[0m\u001b[0m\n\u001b[0;32m   1304\u001b[0m         return_value = get_return_value(\n\u001b[1;32m-> 1305\u001b[1;33m             answer, self.gateway_client, self.target_id, self.name)\n\u001b[0m\u001b[0;32m   1306\u001b[0m \u001b[1;33m\u001b[0m\u001b[0m\n\u001b[0;32m   1307\u001b[0m         \u001b[1;32mfor\u001b[0m \u001b[0mtemp_arg\u001b[0m \u001b[1;32min\u001b[0m \u001b[0mtemp_args\u001b[0m\u001b[1;33m:\u001b[0m\u001b[1;33m\u001b[0m\u001b[0m\n",
      "\u001b[1;32mC:\\ProgramData\\Anaconda3\\lib\\site-packages\\pyspark\\sql\\utils.py\u001b[0m in \u001b[0;36mdeco\u001b[1;34m(*a, **kw)\u001b[0m\n\u001b[0;32m    135\u001b[0m                 \u001b[1;31m# Hide where the exception came from that shows a non-Pythonic\u001b[0m\u001b[1;33m\u001b[0m\u001b[1;33m\u001b[0m\u001b[0m\n\u001b[0;32m    136\u001b[0m                 \u001b[1;31m# JVM exception message.\u001b[0m\u001b[1;33m\u001b[0m\u001b[1;33m\u001b[0m\u001b[0m\n\u001b[1;32m--> 137\u001b[1;33m                 \u001b[0mraise_from\u001b[0m\u001b[1;33m(\u001b[0m\u001b[0mconverted\u001b[0m\u001b[1;33m)\u001b[0m\u001b[1;33m\u001b[0m\u001b[0m\n\u001b[0m\u001b[0;32m    138\u001b[0m             \u001b[1;32melse\u001b[0m\u001b[1;33m:\u001b[0m\u001b[1;33m\u001b[0m\u001b[0m\n\u001b[0;32m    139\u001b[0m                 \u001b[1;32mraise\u001b[0m\u001b[1;33m\u001b[0m\u001b[0m\n",
      "\u001b[1;32mC:\\ProgramData\\Anaconda3\\lib\\site-packages\\pyspark\\sql\\utils.py\u001b[0m in \u001b[0;36mraise_from\u001b[1;34m(e)\u001b[0m\n",
      "\u001b[1;31mAnalysisException\u001b[0m: cannot resolve '`firstName`' given input columns: [artist, auth, churn, city, gender, itemInSession, lastLevel, length, level, method, page, regDate, registration, sessionId, song, state, status, ts, tsDate, userAgent, userId, userRowDescId, userRowId];;\n'Project ['firstName, 'lastName, userid#24]\n+- Project [artist#7, auth#8, gender#10, itemInSession#11L, length#13, level#14, method#16, page#17, registration#18L, sessionId#19L, song#20, status#21L, ts#22L, userAgent#23, userId#24, regDate#1147, tsDate#1165, city#1200, state#1220, <lambda>(userId#24, churn#4593) AS churn#4788, userRowId#4641, userRowDescId#4664, lastLevel#4740]\n   +- Project [artist#7, auth#8, gender#10, itemInSession#11L, length#13, level#14, method#16, page#17, registration#18L, sessionId#19L, song#20, status#21L, ts#22L, userAgent#23, userId#24, regDate#1147, tsDate#1165, city#1200, state#1220, churn#4593, userRowId#4641, userRowDescId#4664, <lambda>(userId#24) AS lastLevel#4740]\n      +- Project [artist#7, auth#8, gender#10, itemInSession#11L, length#13, level#14, method#16, page#17, registration#18L, sessionId#19L, song#20, status#21L, ts#22L, userAgent#23, userId#24, regDate#1147, tsDate#1165, city#1200, state#1220, churn#4593, userRowId#4641, userRowDescId#4664]\n         +- Project [artist#7, auth#8, gender#10, itemInSession#11L, length#13, level#14, method#16, page#17, registration#18L, sessionId#19L, song#20, status#21L, ts#22L, userAgent#23, userId#24, regDate#1147, tsDate#1165, city#1200, state#1220, churn#4593, userRowId#4641, userRowDescId#4664, userRowDescId#4664]\n            +- Window [row_number() windowspecdefinition(userId#24, ts#22L DESC NULLS LAST, itemInSession#11L DESC NULLS LAST, specifiedwindowframe(RowFrame, unboundedpreceding$(), currentrow$())) AS userRowDescId#4664], [userId#24], [ts#22L DESC NULLS LAST, itemInSession#11L DESC NULLS LAST]\n               +- Project [artist#7, auth#8, gender#10, itemInSession#11L, length#13, level#14, method#16, page#17, registration#18L, sessionId#19L, song#20, status#21L, ts#22L, userAgent#23, userId#24, regDate#1147, tsDate#1165, city#1200, state#1220, churn#4593, userRowId#4641]\n                  +- Project [artist#7, auth#8, gender#10, itemInSession#11L, length#13, level#14, method#16, page#17, registration#18L, sessionId#19L, song#20, status#21L, ts#22L, userAgent#23, userId#24, regDate#1147, tsDate#1165, city#1200, state#1220, churn#4593, userRowId#4641]\n                     +- Project [artist#7, auth#8, gender#10, itemInSession#11L, length#13, level#14, method#16, page#17, registration#18L, sessionId#19L, song#20, status#21L, ts#22L, userAgent#23, userId#24, regDate#1147, tsDate#1165, city#1200, state#1220, churn#4593, userRowId#4641, userRowId#4641]\n                        +- Window [row_number() windowspecdefinition(userId#24, ts#22L ASC NULLS FIRST, itemInSession#11L ASC NULLS FIRST, specifiedwindowframe(RowFrame, unboundedpreceding$(), currentrow$())) AS userRowId#4641], [userId#24], [ts#22L ASC NULLS FIRST, itemInSession#11L ASC NULLS FIRST]\n                           +- Project [artist#7, auth#8, gender#10, itemInSession#11L, length#13, level#14, method#16, page#17, registration#18L, sessionId#19L, song#20, status#21L, ts#22L, userAgent#23, userId#24, regDate#1147, tsDate#1165, city#1200, state#1220, churn#4593]\n                              +- Project [artist#7, auth#8, gender#10, itemInSession#11L, length#13, level#14, method#16, page#17, registration#18L, sessionId#19L, song#20, status#21L, ts#22L, userAgent#23, userId#24, regDate#1147, tsDate#1165, city#1200, state#1220, <lambda>(userId#24) AS churn#4593]\n                                 +- Project [artist#7, auth#8, gender#10, itemInSession#11L, length#13, level#14, method#16, page#17, registration#18L, sessionId#19L, song#20, status#21L, ts#22L, userAgent#23, userId#24, regDate#1147, tsDate#1165, city#1200, state#1220, <lambda>(userId#24) AS churn#4478]\n                                    +- Project [artist#7, auth#8, gender#10, itemInSession#11L, length#13, level#14, method#16, page#17, registration#18L, sessionId#19L, song#20, status#21L, ts#22L, userAgent#23, userId#24, regDate#1147, tsDate#1165, city#1200, state#1220]\n                                       +- Project [artist#7, auth#8, gender#10, itemInSession#11L, length#13, level#14, location#15, method#16, page#17, registration#18L, sessionId#19L, song#20, status#21L, ts#22L, userAgent#23, userId#24, regDate#1147, tsDate#1165, city#1200, split(location#15, ,, -1)[1] AS state#1220]\n                                          +- Project [artist#7, auth#8, gender#10, itemInSession#11L, length#13, level#14, location#15, method#16, page#17, registration#18L, sessionId#19L, song#20, status#21L, ts#22L, userAgent#23, userId#24, regDate#1147, tsDate#1165, split(location#15, ,, -1)[0] AS city#1200]\n                                             +- Project [artist#7, auth#8, gender#10, itemInSession#11L, length#13, level#14, location#15, method#16, page#17, registration#18L, sessionId#19L, song#20, status#21L, ts#22L, userAgent#23, userId#24, regDate#1147, cast((cast(ts#22L as double) / cast(1000.0 as double)) as timestamp) AS tsDate#1165]\n                                                +- Project [artist#7, auth#8, gender#10, itemInSession#11L, length#13, level#14, location#15, method#16, page#17, registration#18L, sessionId#19L, song#20, status#21L, ts#22L, userAgent#23, userId#24, cast((cast(registration#18L as double) / cast(1000.0 as double)) as timestamp) AS regDate#1147]\n                                                   +- Project [artist#7, auth#8, gender#10, itemInSession#11L, length#13, level#14, location#15, method#16, page#17, registration#18L, sessionId#19L, song#20, status#21L, ts#22L, userAgent#23, userId#24]\n                                                      +- Project [artist#7, auth#8, gender#10, itemInSession#11L, lastName#12, length#13, level#14, location#15, method#16, page#17, registration#18L, sessionId#19L, song#20, status#21L, ts#22L, userAgent#23, userId#24]\n                                                         +- Filter NOT (isnull(userId#24) OR (userId#24 = ))\n                                                            +- Relation[artist#7,auth#8,firstName#9,gender#10,itemInSession#11L,lastName#12,length#13,level#14,location#15,method#16,page#17,registration#18L,sessionId#19L,song#20,status#21L,ts#22L,userAgent#23,userId#24] json\n"
     ]
    }
   ],
   "source": [
    "# Check if every firstName-lastName is associated to exactly one userId\n",
    "data.select('firstName', 'lastName', 'userid') \\\n",
    "    .dropDuplicates() \\\n",
    "    .groupby('firstName', 'lastName') \\\n",
    "    .count() \\\n",
    "    .where(col('count') > 1) \\\n",
    "    .count()"
   ]
  },
  {
   "cell_type": "code",
   "execution_count": 13,
   "metadata": {
    "collapsed": true
   },
   "outputs": [],
   "source": [
    "# Exclude userId-dependent columns\n",
    "data = data.drop('firstName')\n",
    "data = data.drop('lastName')"
   ]
  },
  {
   "cell_type": "markdown",
   "metadata": {},
   "source": [
    "### Convert unix timestamp into TimestampType  (*ts*, *registration*)"
   ]
  },
  {
   "cell_type": "code",
   "execution_count": 16,
   "metadata": {},
   "outputs": [
    {
     "data": {
      "text/plain": [
       "[Row(artist='Martha Tilston', auth='Logged In', gender='M', itemInSession=50, length=277.89016, level='paid', location='Bakersfield, CA', method='PUT', page='NextSong', registration=1538173362000, sessionId=29, song='Rockpools', status=200, ts=1538352117000, userAgent='Mozilla/5.0 (Windows NT 6.1; WOW64; rv:31.0) Gecko/20100101 Firefox/31.0', userId='30', regDate=datetime.datetime(2018, 9, 29, 0, 22, 42), tsDate=datetime.datetime(2018, 10, 1, 2, 1, 57))]"
      ]
     },
     "execution_count": 16,
     "metadata": {},
     "output_type": "execute_result"
    }
   ],
   "source": [
    "data = data.withColumn('regDate', (col('registration') / 1000.0).cast(TimestampType()))\n",
    "data = data.withColumn('tsDate', (col('ts') / 1000.0).cast(TimestampType()))\n",
    "data.take(1)"
   ]
  },
  {
   "cell_type": "markdown",
   "metadata": {},
   "source": [
    "### Split location into *Place* and *State*\n",
    "\n",
    "The location column contains *place* and *state*. Let's split the composed information into 2 features."
   ]
  },
  {
   "cell_type": "code",
   "execution_count": null,
   "metadata": {
    "collapsed": true
   },
   "outputs": [],
   "source": [
    "data = data.withColumn('city', split(data['location'], ',')[0])\n",
    "data = data.withColumn('state', split(data['location'], ',')[1])\n",
    "data = data.drop('location')"
   ]
  },
  {
   "cell_type": "code",
   "execution_count": 21,
   "metadata": {},
   "outputs": [
    {
     "name": "stdout",
     "output_type": "stream",
     "text": [
      "root\n",
      " |-- artist: string (nullable = true)\n",
      " |-- auth: string (nullable = true)\n",
      " |-- gender: string (nullable = true)\n",
      " |-- itemInSession: long (nullable = true)\n",
      " |-- length: double (nullable = true)\n",
      " |-- level: string (nullable = true)\n",
      " |-- method: string (nullable = true)\n",
      " |-- page: string (nullable = true)\n",
      " |-- registration: long (nullable = true)\n",
      " |-- sessionId: long (nullable = true)\n",
      " |-- song: string (nullable = true)\n",
      " |-- status: long (nullable = true)\n",
      " |-- ts: long (nullable = true)\n",
      " |-- userAgent: string (nullable = true)\n",
      " |-- userId: string (nullable = true)\n",
      " |-- regDate: timestamp (nullable = true)\n",
      " |-- tsDate: timestamp (nullable = true)\n",
      " |-- city: string (nullable = true)\n",
      " |-- state: string (nullable = true)\n",
      "\n"
     ]
    }
   ],
   "source": [
    "# Schema after the cleaning is done\n",
    "data.printSchema()"
   ]
  },
  {
   "cell_type": "markdown",
   "metadata": {},
   "source": [
    "# Exploratory Data Analysis\n",
    "When you're working with the full dataset, perform EDA by loading a small subset of the data and doing basic manipulations within Spark. In this workspace, you are already provided a small subset of data you can explore."
   ]
  },
  {
   "cell_type": "markdown",
   "metadata": {},
   "source": [
    "### Common Functions"
   ]
  },
  {
   "cell_type": "code",
   "execution_count": 110,
   "metadata": {
    "collapsed": true
   },
   "outputs": [],
   "source": [
    "# Set plot's figure size\n",
    "def set_plot_size(width, height):\n",
    "    return plt.figure(figsize = [width, height]);\n",
    "\n",
    "# Fetch values (categories) of a given feature\n",
    "def get_categories(feature):\n",
    "    return data.select(feature).dropDuplicates().sort(feature)\n",
    "\n",
    "# Get list of categories of a given feature\n",
    "def get_categories_list(feature):\n",
    "    return [str(row[feature]) for row in get_categories(feature).collect()]"
   ]
  },
  {
   "cell_type": "markdown",
   "metadata": {},
   "source": [
    "### Preliminary Analysis"
   ]
  },
  {
   "cell_type": "code",
   "execution_count": 154,
   "metadata": {},
   "outputs": [
    {
     "data": {
      "text/plain": [
       "225"
      ]
     },
     "execution_count": 154,
     "metadata": {},
     "output_type": "execute_result"
    }
   ],
   "source": [
    "# Count of unique users\n",
    "data.select(\"userId\").dropDuplicates().count()"
   ]
  },
  {
   "cell_type": "code",
   "execution_count": 47,
   "metadata": {
    "scrolled": true
   },
   "outputs": [
    {
     "data": {
      "text/plain": [
       "2312"
      ]
     },
     "execution_count": 47,
     "metadata": {},
     "output_type": "execute_result"
    }
   ],
   "source": [
    "# Count of unique sessions\n",
    "data.select(\"sessionId\").dropDuplicates().count()"
   ]
  },
  {
   "cell_type": "markdown",
   "metadata": {},
   "source": [
    "#### Log level: *Level*, *Status*"
   ]
  },
  {
   "cell_type": "code",
   "execution_count": 60,
   "metadata": {},
   "outputs": [
    {
     "name": "stderr",
     "output_type": "stream",
     "text": [
      "C:\\ProgramData\\Anaconda3\\lib\\site-packages\\seaborn\\categorical.py:1460: FutureWarning: remove_na is deprecated and is a private function. Do not use.\n",
      "  stat_data = remove_na(group_data)\n"
     ]
    },
    {
     "data": {
      "image/png": "[encoded data removed]",
      "text/plain": [
       "<matplotlib.figure.Figure at 0x171313c7588>"
      ]
     },
     "metadata": {},
     "output_type": "display_data"
    }
   ],
   "source": [
    "set_plot_size(9, 3);\n",
    "plt.subplots_adjust(top=1.0, wspace=0.4)\n",
    "\n",
    "# 1. Count log events by level categories (paid, free) \n",
    "df = data.select('level').toPandas()\n",
    "plt.subplot(1, 2, 1)\n",
    "sb.countplot(data = df, x = 'level');\n",
    "ax = plt.gca()\n",
    "ax.set_title('Count of Level logs');\n",
    "\n",
    "# 2. Count log events by status categories\n",
    "df = data.select('status').toPandas()\n",
    "plt.subplot(1, 2, 2)\n",
    "sb.countplot(data = df, x = 'status');\n",
    "ax = plt.gca()\n",
    "ax.set_title('Count of Status logs');\n",
    "\n",
    "fig.tight_layout();"
   ]
  },
  {
   "cell_type": "markdown",
   "metadata": {},
   "source": [
    "#### Log level: *page*"
   ]
  },
  {
   "cell_type": "code",
   "execution_count": 32,
   "metadata": {},
   "outputs": [
    {
     "name": "stdout",
     "output_type": "stream",
     "text": [
      "+-------------------------+\n",
      "|page                     |\n",
      "+-------------------------+\n",
      "|About                    |\n",
      "|Add Friend               |\n",
      "|Add to Playlist          |\n",
      "|Cancel                   |\n",
      "|Cancellation Confirmation|\n",
      "|Downgrade                |\n",
      "|Error                    |\n",
      "|Help                     |\n",
      "|Home                     |\n",
      "|Logout                   |\n",
      "|NextSong                 |\n",
      "|Roll Advert              |\n",
      "|Save Settings            |\n",
      "|Settings                 |\n",
      "|Submit Downgrade         |\n",
      "|Submit Upgrade           |\n",
      "|Thumbs Down              |\n",
      "|Thumbs Up                |\n",
      "|Upgrade                  |\n",
      "+-------------------------+\n",
      "\n"
     ]
    },
    {
     "name": "stderr",
     "output_type": "stream",
     "text": [
      "C:\\ProgramData\\Anaconda3\\lib\\site-packages\\seaborn\\categorical.py:1460: FutureWarning: remove_na is deprecated and is a private function. Do not use.\n",
      "  stat_data = remove_na(group_data)\n"
     ]
    },
    {
     "data": {
      "image/png": "[encoded data removed]",
      "text/plain": [
       "<matplotlib.figure.Figure at 0x17133b4e668>"
      ]
     },
     "metadata": {},
     "output_type": "display_data"
    }
   ],
   "source": [
    "# Count log events by page categories\n",
    "data.select('page').dropDuplicates().sort('page').show(truncate=False)\n",
    "\n",
    "set_plot_size(12, 6)\n",
    "df = data.select('page').toPandas()\n",
    "sb.countplot(data = df, x = 'page', order = df['page'].value_counts().index);\n",
    "plt.xticks(rotation = 90);\n",
    "ax = plt.gca()\n",
    "ax.set_title('Count of Page logs');"
   ]
  },
  {
   "cell_type": "markdown",
   "metadata": {},
   "source": [
    "#### User/Session level: *logs per user*, *sessions per user*, *duration per session*"
   ]
  },
  {
   "cell_type": "code",
   "execution_count": 74,
   "metadata": {},
   "outputs": [
    {
     "name": "stderr",
     "output_type": "stream",
     "text": [
      "C:\\ProgramData\\Anaconda3\\lib\\site-packages\\seaborn\\categorical.py:462: FutureWarning: remove_na is deprecated and is a private function. Do not use.\n",
      "  box_data = remove_na(group_data)\n"
     ]
    },
    {
     "data": {
      "image/png": "[encoded data removed]",
      "text/plain": [
       "<matplotlib.figure.Figure at 0x171342037b8>"
      ]
     },
     "metadata": {},
     "output_type": "display_data"
    }
   ],
   "source": [
    "set_plot_size(15, 4);\n",
    "plt.subplots_adjust(wspace=0.4)\n",
    "\n",
    "# 1. Logs per user\n",
    "#data.groupby('userId').count().describe('count').show()\n",
    "plt.subplot(1, 3, 1)\n",
    "df_user_logs = data.groupby('userId').count().toPandas()\n",
    "sb.boxplot(data = df_user_logs, y = 'count', showfliers=False);\n",
    "plt.xlabel('log count')\n",
    "plt.ylabel('frequency')\n",
    "ax = plt.gca()\n",
    "ax.set_title('Logs per user');\n",
    "\n",
    "# 2. Sessions per user\n",
    "gdata = data.groupby('userId', 'sessionId').count() \\\n",
    "    .groupby('userId').count()\n",
    "#gdata.describe('count').show()\n",
    "plt.subplot(1, 3, 2)\n",
    "df_user_sessions = gdata.toPandas()\n",
    "sb.boxplot(data = df_user_sessions, y = 'count', showfliers=False);\n",
    "plt.xlabel('session count')\n",
    "plt.ylabel('frequency')\n",
    "ax = plt.gca()\n",
    "ax.set_title('Sessions per user');\n",
    "\n",
    "# 3. Session duration\n",
    "df_session_duration = data.groupby('sessionId') \\\n",
    "    .agg(((max('ts') - min('ts'))/60000).alias('duration')) \\\n",
    "    .select('sessionId', round(col('duration'), 1).alias('duration')) \\\n",
    "    .toPandas()\n",
    "#print(df.duration.describe())\n",
    "plt.subplot(1, 3, 3)\n",
    "sb.boxplot(data = df_session_duration, y = 'duration', showfliers=False);\n",
    "plt.ylabel('duration (in minutes)')\n",
    "ax = plt.gca()\n",
    "ax.set_title('Session duration');"
   ]
  },
  {
   "cell_type": "markdown",
   "metadata": {},
   "source": [
    "#### User level: *Gender*"
   ]
  },
  {
   "cell_type": "code",
   "execution_count": 73,
   "metadata": {},
   "outputs": [
    {
     "name": "stderr",
     "output_type": "stream",
     "text": [
      "C:\\ProgramData\\Anaconda3\\lib\\site-packages\\seaborn\\categorical.py:1460: FutureWarning: remove_na is deprecated and is a private function. Do not use.\n",
      "  stat_data = remove_na(group_data)\n"
     ]
    },
    {
     "data": {
      "image/png": "[encoded data removed]",
      "text/plain": [
       "<matplotlib.figure.Figure at 0x17133a1aa90>"
      ]
     },
     "metadata": {},
     "output_type": "display_data"
    }
   ],
   "source": [
    "set_plot_size(9, 3);\n",
    "plt.subplots_adjust(wspace=0.4)\n",
    "\n",
    "# 1. Count users per gender\n",
    "df_gender_logs = data.select('gender').toPandas()\n",
    "plt.subplot(1, 2, 1)\n",
    "sb.countplot(data = df_gender_logs, x = 'gender', order = ['M','F']).set_title('Users per gender')\n",
    "\n",
    "# 2. Count logs per gender\n",
    "df_gender_users = data.groupby('userId', 'gender').count().toPandas()\n",
    "plt.subplot(1, 2, 2)\n",
    "sb.countplot(data = df_gender_users, x = 'gender', order = ['M','F']).set_title('Logs per gender');\n",
    "\n",
    "fig.tight_layout();"
   ]
  },
  {
   "cell_type": "markdown",
   "metadata": {},
   "source": [
    "#### User level: *State*"
   ]
  },
  {
   "cell_type": "code",
   "execution_count": 184,
   "metadata": {},
   "outputs": [
    {
     "name": "stderr",
     "output_type": "stream",
     "text": [
      "C:\\ProgramData\\Anaconda3\\lib\\site-packages\\seaborn\\categorical.py:1460: FutureWarning: remove_na is deprecated and is a private function. Do not use.\n",
      "  stat_data = remove_na(group_data)\n"
     ]
    },
    {
     "data": {
      "image/png": "[encoded data removed]",
      "text/plain": [
       "<matplotlib.figure.Figure at 0x17133b5edd8>"
      ]
     },
     "metadata": {},
     "output_type": "display_data"
    }
   ],
   "source": [
    "# Count users per state\n",
    "df_user_state = data.select('userId', 'state').dropDuplicates().toPandas()\n",
    "\n",
    "set_plot_size(15, 5);\n",
    "sb.countplot(data = df_user_state, x = 'state').set_title('Users per state')\n",
    "plt.xticks(rotation = 90);\n",
    "plt.show()"
   ]
  },
  {
   "cell_type": "markdown",
   "metadata": {},
   "source": [
    "### Define Churn\n",
    "\n",
    "Once you've done some preliminary analysis, create a column `Churn` to use as the label for your model. I suggest using the `Cancellation Confirmation` events to define your churn, which happen for both paid and free users. As a bonus task, you can also look into the `Downgrade` events."
   ]
  },
  {
   "cell_type": "markdown",
   "metadata": {},
   "source": [
    "#### Common Variables and Functions"
   ]
  },
  {
   "cell_type": "code",
   "execution_count": 112,
   "metadata": {
    "collapsed": true
   },
   "outputs": [],
   "source": [
    "label_names = ['non-churned', 'churned']\n",
    "\n",
    "def get_churned_logs():\n",
    "    return data.where(data.churn == 1)\n",
    "\n",
    "def get_nonchurned_logs():\n",
    "    return data.where(data.churn == 0)"
   ]
  },
  {
   "cell_type": "markdown",
   "metadata": {},
   "source": [
    "#### Churn by *Cancellation Confirmation* event"
   ]
  },
  {
   "cell_type": "code",
   "execution_count": 84,
   "metadata": {},
   "outputs": [
    {
     "name": "stdout",
     "output_type": "stream",
     "text": [
      "Churned users that cancelled subscription: 52\n",
      "Check churned users: 52\n"
     ]
    }
   ],
   "source": [
    "# Define churned users using Cancellation Confirmation event (canceled)\n",
    "query_churn_by_cc = data.where(data.page == 'Cancellation Confirmation')\n",
    "print(f'Churned users who cancelled subscription: {query_churn_by_cc.count()}')\n",
    "\n",
    "# Label churned (canceled) users\n",
    "canceled = query_churn_by_cc.select('userId').dropDuplicates().select('userId')\n",
    "canceled_uids = [row.userId for row in canceled.collect()];\n",
    "set_churn = udf(lambda x: 1 if x in canceled_uids else 0, IntegerType())\n",
    "data = data.withColumn('churn', set_churn('userId'))\n",
    "data.take(3)\n",
    "\n",
    "# Check\n",
    "print(f\"Check churned users: {get_churned_logs().select('userId').dropDuplicates().count()}\")"
   ]
  },
  {
   "cell_type": "markdown",
   "metadata": {},
   "source": [
    "#### Churn by *Downgrade Submit* event"
   ]
  },
  {
   "cell_type": "code",
   "execution_count": 87,
   "metadata": {},
   "outputs": [
    {
     "data": {
      "text/plain": [
       "[Row(artist=None, auth='Logged In', gender='F', itemInSession=34, length=None, level='free', method='PUT', page='Logout', registration=1538016340000, sessionId=187, song=None, status=307, ts=1542823952000, userAgent='\"Mozilla/5.0 (iPhone; CPU iPhone OS 7_1_2 like Mac OS X) AppleWebKit/537.51.2 (KHTML, like Gecko) Version/7.0 Mobile/11D257 Safari/9537.53\"', userId='100010', regDate=datetime.datetime(2018, 9, 27, 4, 45, 40), tsDate=datetime.datetime(2018, 11, 21, 19, 12, 32), city='Bridgeport-Stamford-Norwalk', state=' CT', churn=0, userRowId=381, userRowDescId=1)]"
      ]
     },
     "execution_count": 87,
     "metadata": {},
     "output_type": "execute_result"
    }
   ],
   "source": [
    "# Add [userRowId] column that assigns a 1-based index to every user's log ordered by [ts]\n",
    "w =  Window.partitionBy(data.userId).orderBy('ts', 'itemInSession')\n",
    "data = data.withColumn('userRowId', row_number().over(w))\n",
    "\n",
    "# Add [userRowDescId] column that assigns a 1-based index to every user's log ordered by [ts] descending.\n",
    "w =  Window.partitionBy(data.userId).orderBy(col('ts').desc(), col('itemInSession').desc())\n",
    "data = data.withColumn('userRowDescId', row_number().over(w))\n",
    "\n",
    "data.take(1)"
   ]
  },
  {
   "cell_type": "code",
   "execution_count": 88,
   "metadata": {},
   "outputs": [
    {
     "data": {
      "text/plain": [
       "63"
      ]
     },
     "execution_count": 88,
     "metadata": {},
     "output_type": "execute_result"
    }
   ],
   "source": [
    "# Count donwgrade log events\n",
    "data.where(data.page == 'Submit Downgrade').count()"
   ]
  },
  {
   "cell_type": "markdown",
   "metadata": {},
   "source": [
    "When a user downgrade the **level** feature changes from *paid* to *free*. In contrast to the cancelation event which can happen only once per observation periods, a user can downgrade more than once if he or she upgrades after downgrading. Nevertheless, no matter how many times the user repeats the downgrade-upgrade cycle (*D/U event*), if the **level** is set to *free* at the end of the observation period, then we can conclude beyond any doubt that the user has changed the suscription level from *free* to *paid* due to the downgrading.\n",
    "\n",
    "It's not important how many times the D/U occured if the *last level* is *free*, but, yes, it is important if the **last level** is *paid* since this would mean that through the D/U cycles the user has reestablished the suscription level which he or she had before D/U - **as if D/U had never happened**."
   ]
  },
  {
   "cell_type": "code",
   "execution_count": 89,
   "metadata": {},
   "outputs": [
    {
     "data": {
      "text/plain": [
       "[Row(artist=None, auth='Logged In', gender='F', itemInSession=34, length=None, level='free', method='PUT', page='Logout', registration=1538016340000, sessionId=187, song=None, status=307, ts=1542823952000, userAgent='\"Mozilla/5.0 (iPhone; CPU iPhone OS 7_1_2 like Mac OS X) AppleWebKit/537.51.2 (KHTML, like Gecko) Version/7.0 Mobile/11D257 Safari/9537.53\"', userId='100010', regDate=datetime.datetime(2018, 9, 27, 4, 45, 40), tsDate=datetime.datetime(2018, 11, 21, 19, 12, 32), city='Bridgeport-Stamford-Norwalk', state=' CT', churn=0, userRowId=381, userRowDescId=1, lastLevel='free')]"
      ]
     },
     "execution_count": 89,
     "metadata": {},
     "output_type": "execute_result"
    }
   ],
   "source": [
    "# Add lastLevel column\n",
    "last_levels = dict()\n",
    "for row in data.where(data.userRowDescId == 1).select('userId', 'level').collect():\n",
    "    last_levels[row.userId] = row.level\n",
    "get_level = udf(lambda userId: last_levels[userId])\n",
    "data = data.withColumn('lastLevel', get_level('userId'))\n",
    "data.take(1)"
   ]
  },
  {
   "cell_type": "code",
   "execution_count": 90,
   "metadata": {},
   "outputs": [
    {
     "name": "stdout",
     "output_type": "stream",
     "text": [
      "Check churned users: 67\n"
     ]
    }
   ],
   "source": [
    "# Query churned users by downgrade event\n",
    "downgraded = data.where((data.churn == 0) \\\n",
    "           & (data.page == 'Submit Downgrade') \\\n",
    "           & (data.lastLevel == 'free')) \\\n",
    "    .select('userId') \\\n",
    "    .dropDuplicates()\n",
    "\n",
    "# Label downgraded users (churn=1)\n",
    "uids = [row.userId for row in downgraded.collect()]\n",
    "set_churn = udf(lambda userId, churn: 1 if userId in uids else churn, IntegerType())\n",
    "data = data.withColumn('churn', set_churn('userId', 'churn'))\n",
    "data.take(1)\n",
    "\n",
    "# Check\n",
    "print(f\"Check churned users: {get_churned_logs().select('userId').dropDuplicates().count()}\")"
   ]
  },
  {
   "cell_type": "markdown",
   "metadata": {},
   "source": [
    "### Explore Data\n",
    "Once you've defined churn, perform some exploratory data analysis to observe the behavior for users who stayed vs users who churned. You can start by exploring aggregates on these two groups of users, observing how much of a specific action they experienced per a certain time unit or number of songs played."
   ]
  },
  {
   "cell_type": "markdown",
   "metadata": {},
   "source": [
    "### Log level\n",
    "We calculate a share of logs with a selected feature for each target group (*churned*, *non-churned*)."
   ]
  },
  {
   "cell_type": "markdown",
   "metadata": {},
   "source": [
    "#### Common variables and functions"
   ]
  },
  {
   "cell_type": "code",
   "execution_count": null,
   "metadata": {
    "collapsed": true
   },
   "outputs": [],
   "source": [
    "# Count of churned/non-churned logs\n",
    "count0 = data.where(data.churn == 0).count()\n",
    "count1 = data.where(data.churn == 1).count()"
   ]
  },
  {
   "cell_type": "code",
   "execution_count": 190,
   "metadata": {
    "collapsed": true
   },
   "outputs": [],
   "source": [
    "# Return total count of logs depending on churn\n",
    "get_log_total = udf(lambda x: count0 if x == 0 else count1)\n",
    "\n",
    "# Calculate share of each category relating to its churn group\n",
    "def calc_log_share(feature):\n",
    "    # calculate count of each category, per churn group\n",
    "    df = data \\\n",
    "        .groupby('churn', feature) \\\n",
    "        .count() \\\n",
    "        .toPandas()\n",
    "       \n",
    "    totals = df.groupby('churn').sum()\n",
    "    df = df.set_index('churn').join(totals, rsuffix='_total')\n",
    "    df['share'] = df['count']/df['count_total']\n",
    "    df = df.drop('count_total', axis=1)\n",
    "    return df.reset_index()\n",
    "\n",
    "# Plot the category share, for both churn group\n",
    "def plot_share(df, feature, title, loc=1):\n",
    "    # split dataset into 2 churn subsets\n",
    "    df0 = df[df.churn == 0].sort_values(by=feature)\n",
    "    df1 = df[df.churn == 1].sort_values(by=feature)\n",
    "    \n",
    "    # plot\n",
    "    width = 0.35\n",
    "    labels = get_categories_list(feature)\n",
    "    plt.xticks(range(len(labels)), df0[feature])\n",
    "    plt.xlabel(feature)\n",
    "    plt.ylabel('share')\n",
    "    plt.bar(np.arange(len(df0)), df0['share'], width=width)\n",
    "    plt.bar(np.arange(len(df1))+ width, df1['share'], width=width)\n",
    "    ax = plt.gca()\n",
    "    ax.set_title(title);\n",
    "    plt.legend(label_names, loc=loc)    "
   ]
  },
  {
   "cell_type": "markdown",
   "metadata": {},
   "source": [
    "#### Method, Status"
   ]
  },
  {
   "cell_type": "code",
   "execution_count": 192,
   "metadata": {},
   "outputs": [
    {
     "data": {
      "image/png": "[encoded data removed]",
      "text/plain": [
       "<matplotlib.figure.Figure at 0x17133d1e5c0>"
      ]
     },
     "metadata": {},
     "output_type": "display_data"
    }
   ],
   "source": [
    "# Prepare data\n",
    "df_log_method = calc_log_share('method')\n",
    "df_log_status = calc_log_share('status')\n",
    "\n",
    "set_plot_size(12, 4);\n",
    "\n",
    "# 1. Method\n",
    "plt.subplot(1, 2, 1)\n",
    "plot_share(df_log_method, 'method', 'Log level: Method', 2)\n",
    "\n",
    "# 2. Status\n",
    "plt.subplot(1, 2, 2)\n",
    "plot_share(df_log_status, 'status', 'Log level: Status')\n",
    "\n",
    "plt.show()"
   ]
  },
  {
   "cell_type": "markdown",
   "metadata": {},
   "source": [
    "#### Page: NextSong"
   ]
  },
  {
   "cell_type": "code",
   "execution_count": 104,
   "metadata": {},
   "outputs": [
    {
     "data": {
      "image/png": "[encoded data removed]",
      "text/plain": [
       "<matplotlib.figure.Figure at 0x17137362048>"
      ]
     },
     "metadata": {},
     "output_type": "display_data"
    }
   ],
   "source": [
    "# Prepare data\n",
    "df_log_nextSong = data.where(data.page == 'NextSong') \\\n",
    "    .withColumn('total', get_log_total('churn')) \\\n",
    "    .groupby('churn', 'total') \\\n",
    "    .count() \\\n",
    "    .withColumn('share', col('count')/col('total')) \\\n",
    "    .drop('total') \\\n",
    "    .toPandas()\n",
    "\n",
    "# Split data by churn\n",
    "df0 = df_log_nextSong[df_nextSong.churn == 0].copy()\n",
    "df1 = df_log_nextSong[df_nextSong.churn == 1].copy()\n",
    "\n",
    "# Plot\n",
    "set_plot_size(2, 4);\n",
    "width =0.1\n",
    "plt.xticks(range(0), [])\n",
    "plt.ylabel('share')\n",
    "plt.bar(np.arange(1), df0['share'], width=width)\n",
    "plt.bar(np.arange(1) + width, df1['share'], width=width)\n",
    "ax = plt.gca()\n",
    "ax.set_title('Log level: NextSong');\n",
    "plt.legend(label_names, loc=4)\n",
    "plt.show()"
   ]
  },
  {
   "cell_type": "markdown",
   "metadata": {},
   "source": [
    "#### Page: non-NextSong (other) pages"
   ]
  },
  {
   "cell_type": "code",
   "execution_count": 150,
   "metadata": {},
   "outputs": [
    {
     "data": {
      "image/png": "[encoded data removed]",
      "text/plain": [
       "<matplotlib.figure.Figure at 0x171338c4a90>"
      ]
     },
     "metadata": {},
     "output_type": "display_data"
    }
   ],
   "source": [
    "# Apart from NextSong event we also exclude Cancel/Cancellation Confirmation events\n",
    "# that belong to the churn group only\n",
    "df_log_otherPages = data.where(~data.page.isin(['NextSong', 'Cancel', 'Cancellation Confirmation'])) \\\n",
    "    .withColumn('total', get_log_total('churn')) \\\n",
    "    .groupby('churn', 'total', 'page') \\\n",
    "    .count() \\\n",
    "    .withColumn('share', col('count')/col('total')) \\\n",
    "    .drop('total') \\\n",
    "    .toPandas()\n",
    "\n",
    "# Split data by churn\n",
    "df0 = df_log_otherPages[df_log_otherPages.churn == 0].sort_values(['page', 'churn']).copy()\n",
    "df1 = df_log_otherPages[df_log_otherPages.churn == 1].sort_values(['page', 'churn']).copy()\n",
    "\n",
    "# Plot\n",
    "set_plot_size(15, 7);\n",
    "width = 0.35\n",
    "labels = df0['page'].sort_values()\n",
    "plt.xticks(range(len(labels)), labels)\n",
    "plt.xlabel('page')\n",
    "plt.ylabel('share')\n",
    "plt.bar(np.arange(len(df0)), df0['share'], width=width)\n",
    "plt.bar(np.arange(len(df1))+width, df1['share'], width=width)\n",
    "plt.xticks(rotation = 90);\n",
    "ax = plt.gca()\n",
    "ax.set_title('Log level: Other pages');\n",
    "plt.legend(label_names, loc=1)\n",
    "plt.show()"
   ]
  },
  {
   "cell_type": "markdown",
   "metadata": {},
   "source": [
    "### User level\n",
    "We calculate a share of users with a selected feature for each target group."
   ]
  },
  {
   "cell_type": "markdown",
   "metadata": {},
   "source": [
    "#### Common variables and functions"
   ]
  },
  {
   "cell_type": "code",
   "execution_count": 95,
   "metadata": {
    "collapsed": true
   },
   "outputs": [],
   "source": [
    "# Count users for each churn group \n",
    "split = data.groupby('churn', 'userId').count()\n",
    "user_count0 = split.where(split.churn == 0).count()\n",
    "user_count1 = split.where(split.churn == 1).count()"
   ]
  },
  {
   "cell_type": "code",
   "execution_count": 152,
   "metadata": {
    "collapsed": true
   },
   "outputs": [],
   "source": [
    "get_user_total = udf(lambda x: user_count0 if x == 0 else user_count1)\n",
    "\n",
    "# Calculate user share for each churn group\n",
    "def calc_user_share(data, feature):\n",
    "     return data \\\n",
    "        .withColumn('total', get_user_total('churn')) \\\n",
    "        .select('churn', 'total', 'userId', feature) \\\n",
    "        .dropDuplicates() \\\n",
    "        .groupby('churn', 'total', feature) \\\n",
    "        .count() \\\n",
    "        .withColumn('share', col('count')/col('total')) \\\n",
    "        .sort('churn', feature) \\\n",
    "        .toPandas()"
   ]
  },
  {
   "cell_type": "markdown",
   "metadata": {},
   "source": [
    "#### User level: *Gender*"
   ]
  },
  {
   "cell_type": "code",
   "execution_count": 195,
   "metadata": {},
   "outputs": [
    {
     "data": {
      "image/png": "[encoded data removed]",
      "text/plain": [
       "<matplotlib.figure.Figure at 0x17133db4be0>"
      ]
     },
     "metadata": {},
     "output_type": "display_data"
    }
   ],
   "source": [
    "df_user_gender = calc_user_share(data, 'gender')\n",
    "plot_share(df_user_gender, 'gender', 'User level: Gender', 4)"
   ]
  },
  {
   "cell_type": "markdown",
   "metadata": {},
   "source": [
    "#### User level: *Level*\n",
    "Since a *level* is a **user-time dependent feature** we will observe here the level at the beginning of the observation period (*First level*) and the level at the end of the observation period (*Last level*). (Check the next analysis for user-time presentation of *level* data.)"
   ]
  },
  {
   "cell_type": "code",
   "execution_count": 197,
   "metadata": {},
   "outputs": [
    {
     "data": {
      "image/png": "[encoded data removed]",
      "text/plain": [
       "<matplotlib.figure.Figure at 0x17134058c88>"
      ]
     },
     "metadata": {},
     "output_type": "display_data"
    }
   ],
   "source": [
    "# Prepare data\n",
    "df_user_firstLevel = calc_user_share(data.where(data.userRowId == 1).select('churn', 'userId', 'level'), 'level')\n",
    "df_user_lastLevel = calc_user_share(data, 'lastLevel')\n",
    "\n",
    "set_plot_size(10, 4);\n",
    "plt.subplots_adjust(wspace=0.4)\n",
    "\n",
    "# 1. First Level\n",
    "plt.subplot(1, 2, 1)\n",
    "plot_share(df_user_firstLevel, 'level', 'User level: First Level')\n",
    "\n",
    "# 2. Last level\n",
    "plt.subplot(1, 2, 2)\n",
    "plot_share(df_user_lastLevel, 'lastLevel', 'User level: Last Level', 4)"
   ]
  },
  {
   "cell_type": "markdown",
   "metadata": {},
   "source": [
    "#### User-Time level: *Level*\n",
    "Level category statistics per day"
   ]
  },
  {
   "cell_type": "code",
   "execution_count": 299,
   "metadata": {
    "collapsed": true
   },
   "outputs": [],
   "source": [
    "# get date string\n",
    "def get_date_str(month, day):\n",
    "    return '2018-' + str(month).zfill(2) + '-' + str(day).zfill(2)\n",
    "\n",
    "# get date\n",
    "def get_date(month, day):\n",
    "    try:\n",
    "        date_str = get_date_str(month, day)\n",
    "        return datetime.datetime.strptime(date_str, '%Y-%m-%d').date()\n",
    "    except ValueError:\n",
    "        return None   \n",
    "\n",
    "# Return true if the date string is a valid date\n",
    "def validate_date(month, day):\n",
    "    try:\n",
    "        date_str = get_date_str(month, day)\n",
    "        datetime.datetime.strptime(date_str, '%Y-%m-%d')\n",
    "        return True\n",
    "    except ValueError:\n",
    "        return False   \n",
    "    \n",
    "# get dates generator that returns (month, day) tuple between date1 and date2 \n",
    "def get_dates_gen(date1, date2):\n",
    "    for m in range(date1.month, date2.month+1):\n",
    "        for d in range(1, 31+1):\n",
    "            date = get_date(m, d)\n",
    "            if date == None or date <= date1 or date >= date2:\n",
    "                continue                      \n",
    "            yield date    \n",
    "\n",
    "# get user_time matrix row\n",
    "def get_ut_row(userId, date, level):\n",
    "    return {\n",
    "        'userId': userId,\n",
    "        'date': date,\n",
    "        'level': level\n",
    "    }\n",
    "\n",
    "# get default (starting) date\n",
    "def get_default_date():\n",
    "    return datetime.datetime.strptime('2018-09-30', '%Y-%m-%d').date()\n"
   ]
  },
  {
   "cell_type": "markdown",
   "metadata": {},
   "source": [
    "##### Add date components"
   ]
  },
  {
   "cell_type": "code",
   "execution_count": 277,
   "metadata": {},
   "outputs": [
    {
     "data": {
      "text/plain": [
       "[Row(artist=None, auth='Logged In', gender='F', itemInSession=34, length=None, level='free', method='PUT', page='Logout', registration=1538016340000, sessionId=187, song=None, status=307, ts=1542823952000, userAgent='\"Mozilla/5.0 (iPhone; CPU iPhone OS 7_1_2 like Mac OS X) AppleWebKit/537.51.2 (KHTML, like Gecko) Version/7.0 Mobile/11D257 Safari/9537.53\"', userId='100010', regDate=datetime.datetime(2018, 9, 27, 4, 45, 40), tsDate=datetime.datetime(2018, 11, 21, 19, 12, 32), city='Bridgeport-Stamford-Norwalk', state=' CT', churn=0, userRowId=381, userRowDescId=1, lastLevel='free', date=datetime.date(2018, 11, 21))]"
      ]
     },
     "execution_count": 277,
     "metadata": {},
     "output_type": "execute_result"
    }
   ],
   "source": [
    "# Add year, month, day columns\n",
    "data = data.withColumn('date', to_date('tsDate'))\n",
    "data.take(1)"
   ]
  },
  {
   "cell_type": "markdown",
   "metadata": {},
   "source": [
    "##### Extract unique user-time data with level information"
   ]
  },
  {
   "cell_type": "code",
   "execution_count": 282,
   "metadata": {},
   "outputs": [],
   "source": [
    "# Extract user-time distinct rows with level value\n",
    "extracted = data \\\n",
    "    .groupby('userId', 'date') \\\n",
    "    .agg(max('userRowId').alias('rowid')) \\\n",
    "    .select(col('userId').alias('uid'), 'date', 'rowid')\n",
    "    \n",
    "# Note: if a user has more than 1 different level per day, then we take the last level\n",
    "user_time_rows = extracted \\\n",
    "    .join(data, (extracted.uid == data.userId) & (extracted.rowid == data.userRowId), how='inner') \\\n",
    "    .select(data.userId, extracted.date, data.level) \\\n",
    "    .sort('userId', 'date') \\\n",
    "    .collect()"
   ]
  },
  {
   "cell_type": "code",
   "execution_count": 289,
   "metadata": {
    "collapsed": true
   },
   "outputs": [
    {
     "data": {
      "text/plain": [
       "[Row(userId='10', date=datetime.date(2018, 10, 8), level='paid'),\n",
       " Row(userId='10', date=datetime.date(2018, 10, 18), level='paid'),\n",
       " Row(userId='10', date=datetime.date(2018, 10, 19), level='paid'),\n",
       " Row(userId='10', date=datetime.date(2018, 10, 29), level='paid'),\n",
       " Row(userId='10', date=datetime.date(2018, 10, 30), level='paid'),\n",
       " Row(userId='10', date=datetime.date(2018, 11, 3), level='paid'),\n",
       " Row(userId='10', date=datetime.date(2018, 11, 15), level='paid'),\n",
       " Row(userId='10', date=datetime.date(2018, 11, 16), level='paid'),\n",
       " Row(userId='10', date=datetime.date(2018, 11, 19), level='paid'),\n",
       " Row(userId='100', date=datetime.date(2018, 10, 2), level='paid'),\n",
       " Row(userId='100', date=datetime.date(2018, 10, 3), level='paid'),\n",
       " Row(userId='100', date=datetime.date(2018, 10, 4), level='paid'),\n",
       " Row(userId='100', date=datetime.date(2018, 10, 7), level='paid'),\n",
       " Row(userId='100', date=datetime.date(2018, 10, 9), level='paid'),\n",
       " Row(userId='100', date=datetime.date(2018, 10, 10), level='paid'),\n",
       " Row(userId='100', date=datetime.date(2018, 10, 17), level='paid'),\n",
       " Row(userId='100', date=datetime.date(2018, 10, 19), level='paid'),\n",
       " Row(userId='100', date=datetime.date(2018, 10, 23), level='paid'),\n",
       " Row(userId='100', date=datetime.date(2018, 10, 24), level='paid'),\n",
       " Row(userId='100', date=datetime.date(2018, 10, 25), level='paid'),\n",
       " Row(userId='100', date=datetime.date(2018, 10, 26), level='paid'),\n",
       " Row(userId='100', date=datetime.date(2018, 10, 28), level='paid'),\n",
       " Row(userId='100', date=datetime.date(2018, 10, 29), level='paid'),\n",
       " Row(userId='100', date=datetime.date(2018, 10, 31), level='paid'),\n",
       " Row(userId='100', date=datetime.date(2018, 11, 1), level='paid'),\n",
       " Row(userId='100', date=datetime.date(2018, 11, 3), level='paid'),\n",
       " Row(userId='100', date=datetime.date(2018, 11, 4), level='free'),\n",
       " Row(userId='100', date=datetime.date(2018, 11, 5), level='free'),\n",
       " Row(userId='100', date=datetime.date(2018, 11, 6), level='free'),\n",
       " Row(userId='100', date=datetime.date(2018, 11, 7), level='free'),\n",
       " Row(userId='100', date=datetime.date(2018, 11, 9), level='free'),\n",
       " Row(userId='100', date=datetime.date(2018, 11, 13), level='free'),\n",
       " Row(userId='100', date=datetime.date(2018, 11, 14), level='paid'),\n",
       " Row(userId='100', date=datetime.date(2018, 11, 15), level='paid'),\n",
       " Row(userId='100', date=datetime.date(2018, 11, 16), level='paid'),\n",
       " Row(userId='100', date=datetime.date(2018, 11, 19), level='paid'),\n",
       " Row(userId='100', date=datetime.date(2018, 11, 20), level='paid'),\n",
       " Row(userId='100', date=datetime.date(2018, 11, 21), level='paid'),\n",
       " Row(userId='100', date=datetime.date(2018, 11, 23), level='paid'),\n",
       " Row(userId='100', date=datetime.date(2018, 11, 26), level='paid'),\n",
       " Row(userId='100', date=datetime.date(2018, 11, 29), level='paid'),\n",
       " Row(userId='100', date=datetime.date(2018, 11, 30), level='paid'),\n",
       " Row(userId='100001', date=datetime.date(2018, 10, 1), level='free'),\n",
       " Row(userId='100001', date=datetime.date(2018, 10, 2), level='free'),\n",
       " Row(userId='100002', date=datetime.date(2018, 10, 9), level='paid'),\n",
       " Row(userId='100002', date=datetime.date(2018, 11, 6), level='paid'),\n",
       " Row(userId='100002', date=datetime.date(2018, 11, 14), level='paid'),\n",
       " Row(userId='100002', date=datetime.date(2018, 11, 15), level='paid'),\n",
       " Row(userId='100002', date=datetime.date(2018, 12, 3), level='paid'),\n",
       " Row(userId='100003', date=datetime.date(2018, 10, 9), level='free'),\n",
       " Row(userId='100003', date=datetime.date(2018, 10, 11), level='free'),\n",
       " Row(userId='100004', date=datetime.date(2018, 10, 3), level='free'),\n",
       " Row(userId='100004', date=datetime.date(2018, 10, 5), level='free'),\n",
       " Row(userId='100004', date=datetime.date(2018, 10, 10), level='free'),\n",
       " Row(userId='100004', date=datetime.date(2018, 10, 13), level='free'),\n",
       " Row(userId='100004', date=datetime.date(2018, 10, 15), level='paid'),\n",
       " Row(userId='100004', date=datetime.date(2018, 10, 18), level='paid'),\n",
       " Row(userId='100004', date=datetime.date(2018, 10, 23), level='paid'),\n",
       " Row(userId='100004', date=datetime.date(2018, 10, 25), level='paid'),\n",
       " Row(userId='100004', date=datetime.date(2018, 10, 26), level='paid'),\n",
       " Row(userId='100004', date=datetime.date(2018, 10, 31), level='free'),\n",
       " Row(userId='100004', date=datetime.date(2018, 11, 5), level='free'),\n",
       " Row(userId='100004', date=datetime.date(2018, 11, 13), level='free'),\n",
       " Row(userId='100004', date=datetime.date(2018, 11, 15), level='free'),\n",
       " Row(userId='100004', date=datetime.date(2018, 11, 21), level='free'),\n",
       " Row(userId='100004', date=datetime.date(2018, 11, 25), level='free'),\n",
       " Row(userId='100004', date=datetime.date(2018, 11, 27), level='paid'),\n",
       " Row(userId='100004', date=datetime.date(2018, 11, 28), level='paid'),\n",
       " Row(userId='100004', date=datetime.date(2018, 11, 29), level='paid'),\n",
       " Row(userId='100005', date=datetime.date(2018, 10, 1), level='free'),\n",
       " Row(userId='100005', date=datetime.date(2018, 10, 6), level='free'),\n",
       " Row(userId='100005', date=datetime.date(2018, 10, 7), level='free'),\n",
       " Row(userId='100005', date=datetime.date(2018, 10, 15), level='free'),\n",
       " Row(userId='100005', date=datetime.date(2018, 10, 19), level='free'),\n",
       " Row(userId='100006', date=datetime.date(2018, 10, 5), level='free'),\n",
       " Row(userId='100007', date=datetime.date(2018, 10, 2), level='paid'),\n",
       " Row(userId='100007', date=datetime.date(2018, 10, 5), level='paid'),\n",
       " Row(userId='100007', date=datetime.date(2018, 10, 6), level='paid'),\n",
       " Row(userId='100007', date=datetime.date(2018, 10, 19), level='paid'),\n",
       " Row(userId='100007', date=datetime.date(2018, 10, 28), level='paid'),\n",
       " Row(userId='100007', date=datetime.date(2018, 10, 29), level='paid'),\n",
       " Row(userId='100007', date=datetime.date(2018, 11, 7), level='paid'),\n",
       " Row(userId='100007', date=datetime.date(2018, 11, 12), level='paid'),\n",
       " Row(userId='100007', date=datetime.date(2018, 11, 23), level='paid'),\n",
       " Row(userId='100007', date=datetime.date(2018, 11, 29), level='paid'),\n",
       " Row(userId='100008', date=datetime.date(2018, 10, 9), level='paid'),\n",
       " Row(userId='100008', date=datetime.date(2018, 10, 12), level='paid'),\n",
       " Row(userId='100008', date=datetime.date(2018, 10, 13), level='paid'),\n",
       " Row(userId='100008', date=datetime.date(2018, 10, 15), level='paid'),\n",
       " Row(userId='100008', date=datetime.date(2018, 10, 16), level='paid'),\n",
       " Row(userId='100008', date=datetime.date(2018, 10, 20), level='paid'),\n",
       " Row(userId='100008', date=datetime.date(2018, 11, 19), level='paid'),\n",
       " Row(userId='100008', date=datetime.date(2018, 11, 20), level='free'),\n",
       " Row(userId='100008', date=datetime.date(2018, 11, 27), level='free'),\n",
       " Row(userId='100009', date=datetime.date(2018, 10, 1), level='free'),\n",
       " Row(userId='100009', date=datetime.date(2018, 10, 5), level='free'),\n",
       " Row(userId='100009', date=datetime.date(2018, 10, 9), level='free'),\n",
       " Row(userId='100009', date=datetime.date(2018, 10, 14), level='free'),\n",
       " Row(userId='100009', date=datetime.date(2018, 10, 15), level='paid'),\n",
       " Row(userId='100009', date=datetime.date(2018, 10, 17), level='paid'),\n",
       " Row(userId='100009', date=datetime.date(2018, 10, 18), level='paid'),\n",
       " Row(userId='100009', date=datetime.date(2018, 10, 19), level='paid'),\n",
       " Row(userId='100009', date=datetime.date(2018, 10, 21), level='free'),\n",
       " Row(userId='100009', date=datetime.date(2018, 10, 22), level='free'),\n",
       " Row(userId='100009', date=datetime.date(2018, 10, 27), level='free'),\n",
       " Row(userId='100010', date=datetime.date(2018, 10, 8), level='free'),\n",
       " Row(userId='100010', date=datetime.date(2018, 10, 15), level='free'),\n",
       " Row(userId='100010', date=datetime.date(2018, 10, 16), level='free'),\n",
       " Row(userId='100010', date=datetime.date(2018, 10, 20), level='free'),\n",
       " Row(userId='100010', date=datetime.date(2018, 11, 5), level='free'),\n",
       " Row(userId='100010', date=datetime.date(2018, 11, 9), level='free'),\n",
       " Row(userId='100010', date=datetime.date(2018, 11, 21), level='free'),\n",
       " Row(userId='100011', date=datetime.date(2018, 10, 1), level='free'),\n",
       " Row(userId='100012', date=datetime.date(2018, 10, 3), level='free'),\n",
       " Row(userId='100012', date=datetime.date(2018, 10, 10), level='paid'),\n",
       " Row(userId='100012', date=datetime.date(2018, 10, 11), level='paid'),\n",
       " Row(userId='100012', date=datetime.date(2018, 10, 19), level='free'),\n",
       " Row(userId='100012', date=datetime.date(2018, 10, 26), level='free'),\n",
       " Row(userId='100012', date=datetime.date(2018, 10, 27), level='free'),\n",
       " Row(userId='100012', date=datetime.date(2018, 10, 29), level='free'),\n",
       " Row(userId='100012', date=datetime.date(2018, 11, 1), level='free'),\n",
       " Row(userId='100013', date=datetime.date(2018, 10, 2), level='free'),\n",
       " Row(userId='100013', date=datetime.date(2018, 10, 4), level='free'),\n",
       " Row(userId='100013', date=datetime.date(2018, 10, 5), level='paid'),\n",
       " Row(userId='100013', date=datetime.date(2018, 10, 6), level='paid'),\n",
       " Row(userId='100013', date=datetime.date(2018, 10, 9), level='paid'),\n",
       " Row(userId='100013', date=datetime.date(2018, 10, 10), level='paid'),\n",
       " Row(userId='100013', date=datetime.date(2018, 10, 11), level='paid'),\n",
       " Row(userId='100013', date=datetime.date(2018, 10, 13), level='paid'),\n",
       " Row(userId='100013', date=datetime.date(2018, 10, 25), level='paid'),\n",
       " Row(userId='100013', date=datetime.date(2018, 10, 26), level='paid'),\n",
       " Row(userId='100013', date=datetime.date(2018, 10, 29), level='paid'),\n",
       " Row(userId='100013', date=datetime.date(2018, 10, 30), level='paid'),\n",
       " Row(userId='100013', date=datetime.date(2018, 11, 1), level='paid'),\n",
       " Row(userId='100013', date=datetime.date(2018, 11, 2), level='paid'),\n",
       " Row(userId='100014', date=datetime.date(2018, 10, 10), level='paid'),\n",
       " Row(userId='100014', date=datetime.date(2018, 10, 12), level='paid'),\n",
       " Row(userId='100014', date=datetime.date(2018, 10, 16), level='paid'),\n",
       " Row(userId='100014', date=datetime.date(2018, 10, 20), level='paid'),\n",
       " Row(userId='100014', date=datetime.date(2018, 11, 9), level='paid'),\n",
       " Row(userId='100014', date=datetime.date(2018, 11, 20), level='paid'),\n",
       " Row(userId='100015', date=datetime.date(2018, 10, 1), level='free'),\n",
       " Row(userId='100015', date=datetime.date(2018, 10, 2), level='free'),\n",
       " Row(userId='100015', date=datetime.date(2018, 10, 3), level='free'),\n",
       " Row(userId='100015', date=datetime.date(2018, 10, 8), level='free'),\n",
       " Row(userId='100015', date=datetime.date(2018, 10, 12), level='free'),\n",
       " Row(userId='100015', date=datetime.date(2018, 10, 13), level='paid'),\n",
       " Row(userId='100015', date=datetime.date(2018, 10, 17), level='paid'),\n",
       " Row(userId='100015', date=datetime.date(2018, 10, 18), level='free'),\n",
       " Row(userId='100015', date=datetime.date(2018, 10, 22), level='free'),\n",
       " Row(userId='100015', date=datetime.date(2018, 10, 23), level='free'),\n",
       " Row(userId='100015', date=datetime.date(2018, 11, 2), level='paid'),\n",
       " Row(userId='100015', date=datetime.date(2018, 11, 6), level='paid'),\n",
       " Row(userId='100015', date=datetime.date(2018, 11, 7), level='paid'),\n",
       " Row(userId='100015', date=datetime.date(2018, 11, 9), level='paid'),\n",
       " Row(userId='100015', date=datetime.date(2018, 11, 10), level='paid'),\n",
       " Row(userId='100015', date=datetime.date(2018, 11, 24), level='paid'),\n",
       " Row(userId='100016', date=datetime.date(2018, 10, 1), level='paid'),\n",
       " Row(userId='100016', date=datetime.date(2018, 10, 8), level='paid'),\n",
       " Row(userId='100016', date=datetime.date(2018, 10, 12), level='paid'),\n",
       " Row(userId='100016', date=datetime.date(2018, 10, 26), level='paid'),\n",
       " Row(userId='100016', date=datetime.date(2018, 10, 31), level='paid'),\n",
       " Row(userId='100016', date=datetime.date(2018, 11, 1), level='paid'),\n",
       " Row(userId='100016', date=datetime.date(2018, 11, 10), level='paid'),\n",
       " Row(userId='100016', date=datetime.date(2018, 11, 23), level='free'),\n",
       " Row(userId='100016', date=datetime.date(2018, 11, 27), level='free'),\n",
       " Row(userId='100017', date=datetime.date(2018, 10, 20), level='free'),\n",
       " Row(userId='100018', date=datetime.date(2018, 10, 5), level='free'),\n",
       " Row(userId='100018', date=datetime.date(2018, 10, 9), level='free'),\n",
       " Row(userId='100018', date=datetime.date(2018, 10, 15), level='free'),\n",
       " Row(userId='100018', date=datetime.date(2018, 10, 20), level='paid'),\n",
       " Row(userId='100018', date=datetime.date(2018, 10, 24), level='paid'),\n",
       " Row(userId='100018', date=datetime.date(2018, 10, 25), level='paid'),\n",
       " Row(userId='100018', date=datetime.date(2018, 10, 26), level='paid'),\n",
       " Row(userId='100018', date=datetime.date(2018, 10, 28), level='paid'),\n",
       " Row(userId='100018', date=datetime.date(2018, 10, 29), level='paid'),\n",
       " Row(userId='100018', date=datetime.date(2018, 11, 2), level='paid'),\n",
       " Row(userId='100018', date=datetime.date(2018, 11, 3), level='paid'),\n",
       " Row(userId='100018', date=datetime.date(2018, 11, 5), level='paid'),\n",
       " Row(userId='100018', date=datetime.date(2018, 11, 7), level='paid'),\n",
       " Row(userId='100018', date=datetime.date(2018, 11, 14), level='paid'),\n",
       " Row(userId='100018', date=datetime.date(2018, 11, 17), level='paid'),\n",
       " Row(userId='100018', date=datetime.date(2018, 11, 21), level='paid'),\n",
       " Row(userId='100018', date=datetime.date(2018, 11, 26), level='free'),\n",
       " Row(userId='100018', date=datetime.date(2018, 11, 27), level='free'),\n",
       " Row(userId='100018', date=datetime.date(2018, 11, 28), level='free'),\n",
       " Row(userId='100019', date=datetime.date(2018, 10, 6), level='free'),\n",
       " Row(userId='100019', date=datetime.date(2018, 10, 7), level='free'),\n",
       " Row(userId='100019', date=datetime.date(2018, 10, 8), level='free'),\n",
       " Row(userId='100021', date=datetime.date(2018, 10, 11), level='free'),\n",
       " Row(userId='100021', date=datetime.date(2018, 10, 12), level='free'),\n",
       " Row(userId='100021', date=datetime.date(2018, 10, 13), level='free'),\n",
       " Row(userId='100021', date=datetime.date(2018, 11, 3), level='free'),\n",
       " Row(userId='100021', date=datetime.date(2018, 11, 25), level='free'),\n",
       " Row(userId='100022', date=datetime.date(2018, 10, 1), level='free'),\n",
       " Row(userId='100022', date=datetime.date(2018, 10, 2), level='free'),\n",
       " Row(userId='100022', date=datetime.date(2018, 10, 3), level='free'),\n",
       " Row(userId='100022', date=datetime.date(2018, 10, 4), level='free'),\n",
       " Row(userId='100022', date=datetime.date(2018, 10, 6), level='free'),\n",
       " Row(userId='100022', date=datetime.date(2018, 10, 9), level='free'),\n",
       " Row(userId='100022', date=datetime.date(2018, 10, 12), level='free'),\n",
       " Row(userId='100022', date=datetime.date(2018, 10, 18), level='free'),\n",
       " Row(userId='100022', date=datetime.date(2018, 10, 24), level='free'),\n",
       " Row(userId='100022', date=datetime.date(2018, 10, 25), level='free'),\n",
       " Row(userId='100022', date=datetime.date(2018, 11, 1), level='free'),\n",
       " Row(userId='100022', date=datetime.date(2018, 11, 2), level='free'),\n",
       " Row(userId='100022', date=datetime.date(2018, 11, 3), level='free'),\n",
       " Row(userId='100022', date=datetime.date(2018, 11, 6), level='free'),\n",
       " Row(userId='100022', date=datetime.date(2018, 11, 7), level='free'),\n",
       " Row(userId='100022', date=datetime.date(2018, 11, 9), level='free'),\n",
       " Row(userId='100022', date=datetime.date(2018, 11, 10), level='free'),\n",
       " Row(userId='100022', date=datetime.date(2018, 11, 11), level='free'),\n",
       " Row(userId='100022', date=datetime.date(2018, 11, 12), level='free'),\n",
       " Row(userId='100023', date=datetime.date(2018, 10, 4), level='free'),\n",
       " Row(userId='100023', date=datetime.date(2018, 10, 5), level='paid'),\n",
       " Row(userId='100023', date=datetime.date(2018, 10, 6), level='paid'),\n",
       " Row(userId='100023', date=datetime.date(2018, 10, 8), level='paid'),\n",
       " Row(userId='100023', date=datetime.date(2018, 10, 9), level='paid'),\n",
       " Row(userId='100023', date=datetime.date(2018, 10, 10), level='paid'),\n",
       " Row(userId='100023', date=datetime.date(2018, 10, 12), level='paid'),\n",
       " Row(userId='100023', date=datetime.date(2018, 10, 13), level='paid'),\n",
       " Row(userId='100023', date=datetime.date(2018, 10, 14), level='paid'),\n",
       " Row(userId='100024', date=datetime.date(2018, 10, 4), level='free'),\n",
       " Row(userId='100024', date=datetime.date(2018, 10, 5), level='free'),\n",
       " Row(userId='100025', date=datetime.date(2018, 10, 1), level='paid'),\n",
       " Row(userId='100025', date=datetime.date(2018, 10, 3), level='paid'),\n",
       " Row(userId='100025', date=datetime.date(2018, 10, 5), level='paid'),\n",
       " Row(userId='100025', date=datetime.date(2018, 10, 15), level='paid'),\n",
       " Row(userId='100025', date=datetime.date(2018, 10, 18), level='paid'),\n",
       " Row(userId='100025', date=datetime.date(2018, 10, 19), level='free'),\n",
       " Row(userId='100025', date=datetime.date(2018, 10, 20), level='free'),\n",
       " Row(userId='100025', date=datetime.date(2018, 10, 23), level='free'),\n",
       " Row(userId='101', date=datetime.date(2018, 10, 1), level='free'),\n",
       " Row(userId='101', date=datetime.date(2018, 10, 2), level='paid'),\n",
       " Row(userId='101', date=datetime.date(2018, 10, 3), level='paid'),\n",
       " Row(userId='101', date=datetime.date(2018, 10, 4), level='paid'),\n",
       " Row(userId='101', date=datetime.date(2018, 10, 5), level='paid'),\n",
       " Row(userId='101', date=datetime.date(2018, 10, 8), level='paid'),\n",
       " Row(userId='101', date=datetime.date(2018, 10, 9), level='paid'),\n",
       " Row(userId='101', date=datetime.date(2018, 10, 10), level='paid'),\n",
       " Row(userId='101', date=datetime.date(2018, 10, 11), level='paid'),\n",
       " Row(userId='101', date=datetime.date(2018, 10, 13), level='paid'),\n",
       " Row(userId='101', date=datetime.date(2018, 10, 14), level='paid'),\n",
       " Row(userId='101', date=datetime.date(2018, 10, 16), level='paid'),\n",
       " Row(userId='101', date=datetime.date(2018, 10, 17), level='paid'),\n",
       " Row(userId='102', date=datetime.date(2018, 10, 4), level='free'),\n",
       " Row(userId='102', date=datetime.date(2018, 10, 17), level='free'),\n",
       " Row(userId='102', date=datetime.date(2018, 10, 25), level='free'),\n",
       " Row(userId='102', date=datetime.date(2018, 11, 1), level='free'),\n",
       " Row(userId='102', date=datetime.date(2018, 11, 3), level='free'),\n",
       " Row(userId='102', date=datetime.date(2018, 11, 9), level='free'),\n",
       " Row(userId='102', date=datetime.date(2018, 11, 28), level='free'),\n",
       " Row(userId='102', date=datetime.date(2018, 11, 29), level='free'),\n",
       " Row(userId='103', date=datetime.date(2018, 10, 4), level='free'),\n",
       " Row(userId='103', date=datetime.date(2018, 10, 8), level='free'),\n",
       " Row(userId='103', date=datetime.date(2018, 10, 10), level='free'),\n",
       " Row(userId='103', date=datetime.date(2018, 10, 11), level='free'),\n",
       " Row(userId='103', date=datetime.date(2018, 10, 15), level='paid'),\n",
       " Row(userId='103', date=datetime.date(2018, 10, 16), level='free'),\n",
       " Row(userId='103', date=datetime.date(2018, 10, 19), level='paid'),\n",
       " Row(userId='103', date=datetime.date(2018, 10, 20), level='paid'),\n",
       " Row(userId='103', date=datetime.date(2018, 10, 21), level='paid'),\n",
       " Row(userId='103', date=datetime.date(2018, 10, 30), level='paid'),\n",
       " Row(userId='103', date=datetime.date(2018, 10, 31), level='paid'),\n",
       " Row(userId='103', date=datetime.date(2018, 11, 3), level='paid'),\n",
       " Row(userId='103', date=datetime.date(2018, 11, 4), level='paid'),\n",
       " Row(userId='104', date=datetime.date(2018, 10, 5), level='free'),\n",
       " Row(userId='104', date=datetime.date(2018, 10, 6), level='free'),\n",
       " Row(userId='104', date=datetime.date(2018, 10, 11), level='free'),\n",
       " Row(userId='104', date=datetime.date(2018, 10, 12), level='free'),\n",
       " Row(userId='104', date=datetime.date(2018, 10, 14), level='free'),\n",
       " Row(userId='104', date=datetime.date(2018, 10, 16), level='free'),\n",
       " Row(userId='104', date=datetime.date(2018, 10, 17), level='free'),\n",
       " Row(userId='104', date=datetime.date(2018, 10, 18), level='free'),\n",
       " Row(userId='104', date=datetime.date(2018, 10, 20), level='free'),\n",
       " Row(userId='104', date=datetime.date(2018, 10, 22), level='paid'),\n",
       " Row(userId='104', date=datetime.date(2018, 10, 23), level='paid'),\n",
       " Row(userId='104', date=datetime.date(2018, 10, 24), level='paid'),\n",
       " Row(userId='104', date=datetime.date(2018, 10, 27), level='paid'),\n",
       " Row(userId='104', date=datetime.date(2018, 10, 28), level='paid'),\n",
       " Row(userId='104', date=datetime.date(2018, 10, 29), level='paid'),\n",
       " Row(userId='104', date=datetime.date(2018, 10, 30), level='paid'),\n",
       " Row(userId='104', date=datetime.date(2018, 10, 31), level='paid'),\n",
       " Row(userId='104', date=datetime.date(2018, 11, 1), level='paid'),\n",
       " Row(userId='104', date=datetime.date(2018, 11, 6), level='paid'),\n",
       " Row(userId='104', date=datetime.date(2018, 11, 7), level='paid'),\n",
       " Row(userId='104', date=datetime.date(2018, 11, 9), level='paid'),\n",
       " Row(userId='104', date=datetime.date(2018, 11, 12), level='paid'),\n",
       " Row(userId='104', date=datetime.date(2018, 11, 14), level='paid'),\n",
       " Row(userId='104', date=datetime.date(2018, 11, 15), level='paid'),\n",
       " Row(userId='104', date=datetime.date(2018, 11, 16), level='paid'),\n",
       " Row(userId='104', date=datetime.date(2018, 11, 21), level='paid'),\n",
       " Row(userId='104', date=datetime.date(2018, 11, 23), level='paid'),\n",
       " Row(userId='104', date=datetime.date(2018, 11, 27), level='paid'),\n",
       " Row(userId='105', date=datetime.date(2018, 10, 2), level='free'),\n",
       " Row(userId='105', date=datetime.date(2018, 10, 3), level='paid'),\n",
       " Row(userId='105', date=datetime.date(2018, 10, 4), level='paid'),\n",
       " Row(userId='105', date=datetime.date(2018, 10, 5), level='paid'),\n",
       " Row(userId='105', date=datetime.date(2018, 10, 12), level='paid'),\n",
       " Row(userId='106', date=datetime.date(2018, 10, 3), level='free'),\n",
       " Row(userId='106', date=datetime.date(2018, 10, 4), level='paid'),\n",
       " Row(userId='106', date=datetime.date(2018, 10, 5), level='paid'),\n",
       " Row(userId='106', date=datetime.date(2018, 10, 11), level='paid'),\n",
       " Row(userId='106', date=datetime.date(2018, 10, 12), level='paid'),\n",
       " Row(userId='106', date=datetime.date(2018, 10, 22), level='paid'),\n",
       " Row(userId='106', date=datetime.date(2018, 10, 24), level='paid'),\n",
       " Row(userId='106', date=datetime.date(2018, 10, 26), level='paid'),\n",
       " Row(userId='106', date=datetime.date(2018, 10, 27), level='paid'),\n",
       " Row(userId='106', date=datetime.date(2018, 10, 29), level='paid'),\n",
       " Row(userId='106', date=datetime.date(2018, 11, 2), level='paid'),\n",
       " Row(userId='107', date=datetime.date(2018, 10, 6), level='free'),\n",
       " Row(userId='107', date=datetime.date(2018, 10, 7), level='free'),\n",
       " Row(userId='107', date=datetime.date(2018, 10, 10), level='free'),\n",
       " Row(userId='107', date=datetime.date(2018, 11, 10), level='free'),\n",
       " Row(userId='107', date=datetime.date(2018, 11, 20), level='free'),\n",
       " Row(userId='108', date=datetime.date(2018, 10, 22), level='free'),\n",
       " Row(userId='108', date=datetime.date(2018, 10, 24), level='free'),\n",
       " Row(userId='108', date=datetime.date(2018, 11, 7), level='paid'),\n",
       " Row(userId='108', date=datetime.date(2018, 11, 13), level='paid'),\n",
       " Row(userId='108', date=datetime.date(2018, 11, 22), level='paid'),\n",
       " Row(userId='108', date=datetime.date(2018, 11, 23), level='paid'),\n",
       " Row(userId='108', date=datetime.date(2018, 11, 30), level='paid'),\n",
       " Row(userId='109', date=datetime.date(2018, 10, 7), level='paid'),\n",
       " Row(userId='109', date=datetime.date(2018, 10, 9), level='paid'),\n",
       " Row(userId='109', date=datetime.date(2018, 10, 10), level='paid'),\n",
       " Row(userId='109', date=datetime.date(2018, 10, 12), level='paid'),\n",
       " Row(userId='109', date=datetime.date(2018, 10, 14), level='paid'),\n",
       " Row(userId='109', date=datetime.date(2018, 10, 22), level='paid'),\n",
       " Row(userId='109', date=datetime.date(2018, 10, 25), level='paid'),\n",
       " Row(userId='109', date=datetime.date(2018, 10, 29), level='paid'),\n",
       " Row(userId='109', date=datetime.date(2018, 10, 30), level='paid'),\n",
       " Row(userId='109', date=datetime.date(2018, 11, 5), level='paid'),\n",
       " Row(userId='109', date=datetime.date(2018, 11, 7), level='paid'),\n",
       " Row(userId='109', date=datetime.date(2018, 11, 12), level='free'),\n",
       " Row(userId='109', date=datetime.date(2018, 11, 15), level='free'),\n",
       " Row(userId='109', date=datetime.date(2018, 11, 16), level='free'),\n",
       " Row(userId='11', date=datetime.date(2018, 10, 5), level='free'),\n",
       " Row(userId='11', date=datetime.date(2018, 10, 11), level='free'),\n",
       " Row(userId='11', date=datetime.date(2018, 10, 13), level='free'),\n",
       " Row(userId='11', date=datetime.date(2018, 10, 15), level='free'),\n",
       " Row(userId='11', date=datetime.date(2018, 10, 25), level='free'),\n",
       " Row(userId='11', date=datetime.date(2018, 10, 28), level='free'),\n",
       " Row(userId='11', date=datetime.date(2018, 10, 29), level='free'),\n",
       " Row(userId='11', date=datetime.date(2018, 10, 30), level='free'),\n",
       " Row(userId='11', date=datetime.date(2018, 10, 31), level='free'),\n",
       " Row(userId='11', date=datetime.date(2018, 11, 2), level='free'),\n",
       " Row(userId='11', date=datetime.date(2018, 11, 5), level='free'),\n",
       " Row(userId='11', date=datetime.date(2018, 11, 7), level='free'),\n",
       " Row(userId='11', date=datetime.date(2018, 11, 11), level='free'),\n",
       " Row(userId='11', date=datetime.date(2018, 11, 16), level='paid'),\n",
       " Row(userId='11', date=datetime.date(2018, 11, 19), level='paid'),\n",
       " Row(userId='11', date=datetime.date(2018, 11, 27), level='paid'),\n",
       " Row(userId='110', date=datetime.date(2018, 10, 2), level='free'),\n",
       " Row(userId='110', date=datetime.date(2018, 11, 1), level='free'),\n",
       " Row(userId='110', date=datetime.date(2018, 11, 5), level='free'),\n",
       " Row(userId='110', date=datetime.date(2018, 11, 9), level='free'),\n",
       " Row(userId='110', date=datetime.date(2018, 11, 30), level='free'),\n",
       " Row(userId='111', date=datetime.date(2018, 10, 4), level='free'),\n",
       " Row(userId='111', date=datetime.date(2018, 10, 9), level='free'),\n",
       " Row(userId='111', date=datetime.date(2018, 10, 16), level='free'),\n",
       " Row(userId='111', date=datetime.date(2018, 10, 29), level='free'),\n",
       " Row(userId='111', date=datetime.date(2018, 10, 30), level='free'),\n",
       " Row(userId='111', date=datetime.date(2018, 11, 2), level='paid'),\n",
       " Row(userId='111', date=datetime.date(2018, 11, 3), level='paid'),\n",
       " Row(userId='111', date=datetime.date(2018, 11, 11), level='paid'),\n",
       " Row(userId='111', date=datetime.date(2018, 11, 12), level='paid'),\n",
       " Row(userId='111', date=datetime.date(2018, 11, 28), level='paid'),\n",
       " Row(userId='111', date=datetime.date(2018, 11, 29), level='paid'),\n",
       " Row(userId='112', date=datetime.date(2018, 10, 4), level='free'),\n",
       " Row(userId='112', date=datetime.date(2018, 10, 7), level='free'),\n",
       " Row(userId='112', date=datetime.date(2018, 10, 24), level='free'),\n",
       " Row(userId='112', date=datetime.date(2018, 10, 30), level='free'),\n",
       " Row(userId='112', date=datetime.date(2018, 11, 8), level='free'),\n",
       " Row(userId='112', date=datetime.date(2018, 11, 9), level='free'),\n",
       " Row(userId='112', date=datetime.date(2018, 11, 12), level='free'),\n",
       " Row(userId='112', date=datetime.date(2018, 11, 30), level='free'),\n",
       " Row(userId='113', date=datetime.date(2018, 10, 1), level='free'),\n",
       " Row(userId='113', date=datetime.date(2018, 10, 3), level='paid'),\n",
       " Row(userId='113', date=datetime.date(2018, 10, 9), level='paid'),\n",
       " Row(userId='113', date=datetime.date(2018, 10, 12), level='paid'),\n",
       " Row(userId='113', date=datetime.date(2018, 10, 14), level='paid'),\n",
       " Row(userId='113', date=datetime.date(2018, 10, 15), level='paid'),\n",
       " Row(userId='113', date=datetime.date(2018, 10, 16), level='paid'),\n",
       " Row(userId='113', date=datetime.date(2018, 10, 18), level='paid'),\n",
       " Row(userId='113', date=datetime.date(2018, 10, 19), level='paid'),\n",
       " Row(userId='113', date=datetime.date(2018, 10, 20), level='paid'),\n",
       " Row(userId='113', date=datetime.date(2018, 10, 29), level='paid'),\n",
       " Row(userId='113', date=datetime.date(2018, 10, 30), level='paid'),\n",
       " Row(userId='113', date=datetime.date(2018, 11, 2), level='paid'),\n",
       " Row(userId='113', date=datetime.date(2018, 11, 3), level='paid'),\n",
       " Row(userId='113', date=datetime.date(2018, 11, 7), level='paid'),\n",
       " Row(userId='113', date=datetime.date(2018, 11, 8), level='paid'),\n",
       " Row(userId='113', date=datetime.date(2018, 11, 11), level='paid'),\n",
       " Row(userId='113', date=datetime.date(2018, 11, 15), level='paid'),\n",
       " Row(userId='113', date=datetime.date(2018, 11, 16), level='paid'),\n",
       " Row(userId='113', date=datetime.date(2018, 11, 17), level='paid'),\n",
       " Row(userId='113', date=datetime.date(2018, 11, 21), level='paid'),\n",
       " Row(userId='113', date=datetime.date(2018, 11, 27), level='paid'),\n",
       " Row(userId='113', date=datetime.date(2018, 11, 28), level='paid'),\n",
       " Row(userId='113', date=datetime.date(2018, 11, 30), level='paid'),\n",
       " Row(userId='114', date=datetime.date(2018, 10, 3), level='free'),\n",
       " Row(userId='114', date=datetime.date(2018, 10, 11), level='free'),\n",
       " Row(userId='114', date=datetime.date(2018, 10, 14), level='free'),\n",
       " Row(userId='114', date=datetime.date(2018, 10, 18), level='free'),\n",
       " Row(userId='114', date=datetime.date(2018, 10, 24), level='paid'),\n",
       " Row(userId='114', date=datetime.date(2018, 10, 25), level='paid'),\n",
       " Row(userId='114', date=datetime.date(2018, 10, 28), level='paid'),\n",
       " Row(userId='114', date=datetime.date(2018, 11, 4), level='paid'),\n",
       " Row(userId='114', date=datetime.date(2018, 11, 5), level='paid'),\n",
       " Row(userId='114', date=datetime.date(2018, 11, 6), level='paid'),\n",
       " Row(userId='114', date=datetime.date(2018, 11, 7), level='paid'),\n",
       " Row(userId='114', date=datetime.date(2018, 11, 9), level='paid'),\n",
       " Row(userId='114', date=datetime.date(2018, 11, 14), level='paid'),\n",
       " Row(userId='114', date=datetime.date(2018, 11, 15), level='paid'),\n",
       " Row(userId='114', date=datetime.date(2018, 11, 16), level='paid'),\n",
       " Row(userId='114', date=datetime.date(2018, 11, 21), level='paid'),\n",
       " Row(userId='114', date=datetime.date(2018, 11, 22), level='paid'),\n",
       " Row(userId='114', date=datetime.date(2018, 11, 23), level='paid'),\n",
       " Row(userId='115', date=datetime.date(2018, 10, 1), level='free'),\n",
       " Row(userId='115', date=datetime.date(2018, 10, 5), level='paid'),\n",
       " Row(userId='115', date=datetime.date(2018, 10, 6), level='paid'),\n",
       " Row(userId='115', date=datetime.date(2018, 10, 7), level='paid'),\n",
       " Row(userId='115', date=datetime.date(2018, 10, 23), level='paid'),\n",
       " Row(userId='115', date=datetime.date(2018, 10, 24), level='paid'),\n",
       " Row(userId='115', date=datetime.date(2018, 10, 25), level='paid'),\n",
       " Row(userId='115', date=datetime.date(2018, 10, 29), level='paid'),\n",
       " Row(userId='115', date=datetime.date(2018, 10, 31), level='paid'),\n",
       " Row(userId='115', date=datetime.date(2018, 11, 2), level='paid'),\n",
       " Row(userId='115', date=datetime.date(2018, 11, 3), level='paid'),\n",
       " Row(userId='115', date=datetime.date(2018, 11, 11), level='paid'),\n",
       " Row(userId='115', date=datetime.date(2018, 11, 21), level='paid'),\n",
       " Row(userId='115', date=datetime.date(2018, 11, 22), level='paid'),\n",
       " Row(userId='115', date=datetime.date(2018, 11, 28), level='paid'),\n",
       " Row(userId='116', date=datetime.date(2018, 10, 29), level='free'),\n",
       " Row(userId='116', date=datetime.date(2018, 11, 9), level='free'),\n",
       " Row(userId='116', date=datetime.date(2018, 11, 20), level='free'),\n",
       " Row(userId='117', date=datetime.date(2018, 10, 2), level='free'),\n",
       " Row(userId='117', date=datetime.date(2018, 10, 3), level='free'),\n",
       " Row(userId='117', date=datetime.date(2018, 10, 5), level='free'),\n",
       " Row(userId='117', date=datetime.date(2018, 10, 6), level='free'),\n",
       " Row(userId='117', date=datetime.date(2018, 10, 10), level='free'),\n",
       " Row(userId='117', date=datetime.date(2018, 10, 25), level='free'),\n",
       " Row(userId='117', date=datetime.date(2018, 10, 29), level='free'),\n",
       " Row(userId='117', date=datetime.date(2018, 11, 1), level='free'),\n",
       " Row(userId='117', date=datetime.date(2018, 11, 4), level='free'),\n",
       " Row(userId='117', date=datetime.date(2018, 11, 8), level='free'),\n",
       " Row(userId='117', date=datetime.date(2018, 11, 16), level='free'),\n",
       " Row(userId='117', date=datetime.date(2018, 11, 25), level='free'),\n",
       " Row(userId='117', date=datetime.date(2018, 11, 27), level='free'),\n",
       " Row(userId='117', date=datetime.date(2018, 11, 28), level='free'),\n",
       " Row(userId='118', date=datetime.date(2018, 10, 2), level='free'),\n",
       " Row(userId='118', date=datetime.date(2018, 10, 3), level='free'),\n",
       " Row(userId='118', date=datetime.date(2018, 10, 8), level='free'),\n",
       " Row(userId='118', date=datetime.date(2018, 10, 9), level='free'),\n",
       " Row(userId='118', date=datetime.date(2018, 10, 10), level='paid'),\n",
       " Row(userId='118', date=datetime.date(2018, 10, 12), level='paid'),\n",
       " Row(userId='118', date=datetime.date(2018, 10, 15), level='paid'),\n",
       " Row(userId='118', date=datetime.date(2018, 10, 18), level='paid'),\n",
       " Row(userId='118', date=datetime.date(2018, 10, 23), level='paid'),\n",
       " Row(userId='118', date=datetime.date(2018, 10, 24), level='paid'),\n",
       " Row(userId='118', date=datetime.date(2018, 10, 25), level='paid'),\n",
       " Row(userId='118', date=datetime.date(2018, 10, 26), level='paid'),\n",
       " Row(userId='118', date=datetime.date(2018, 10, 27), level='paid'),\n",
       " Row(userId='118', date=datetime.date(2018, 10, 28), level='paid'),\n",
       " Row(userId='118', date=datetime.date(2018, 11, 4), level='paid'),\n",
       " Row(userId='118', date=datetime.date(2018, 11, 6), level='paid'),\n",
       " Row(userId='118', date=datetime.date(2018, 11, 7), level='paid'),\n",
       " Row(userId='118', date=datetime.date(2018, 11, 8), level='paid'),\n",
       " Row(userId='118', date=datetime.date(2018, 11, 9), level='paid'),\n",
       " Row(userId='118', date=datetime.date(2018, 11, 11), level='paid'),\n",
       " Row(userId='118', date=datetime.date(2018, 11, 12), level='paid'),\n",
       " Row(userId='118', date=datetime.date(2018, 11, 15), level='paid'),\n",
       " Row(userId='118', date=datetime.date(2018, 11, 16), level='paid'),\n",
       " Row(userId='118', date=datetime.date(2018, 11, 20), level='paid'),\n",
       " Row(userId='118', date=datetime.date(2018, 11, 21), level='paid'),\n",
       " Row(userId='118', date=datetime.date(2018, 11, 22), level='paid'),\n",
       " Row(userId='118', date=datetime.date(2018, 11, 23), level='paid'),\n",
       " Row(userId='118', date=datetime.date(2018, 11, 24), level='paid'),\n",
       " Row(userId='118', date=datetime.date(2018, 11, 25), level='paid'),\n",
       " Row(userId='118', date=datetime.date(2018, 11, 27), level='paid'),\n",
       " Row(userId='119', date=datetime.date(2018, 10, 9), level='free'),\n",
       " Row(userId='119', date=datetime.date(2018, 10, 15), level='free'),\n",
       " Row(userId='119', date=datetime.date(2018, 10, 16), level='free'),\n",
       " Row(userId='119', date=datetime.date(2018, 10, 21), level='free'),\n",
       " Row(userId='119', date=datetime.date(2018, 10, 31), level='free'),\n",
       " Row(userId='119', date=datetime.date(2018, 11, 12), level='free'),\n",
       " Row(userId='119', date=datetime.date(2018, 11, 25), level='free'),\n",
       " Row(userId='12', date=datetime.date(2018, 10, 3), level='free'),\n",
       " Row(userId='12', date=datetime.date(2018, 10, 8), level='paid'),\n",
       " Row(userId='12', date=datetime.date(2018, 10, 9), level='paid'),\n",
       " Row(userId='12', date=datetime.date(2018, 10, 10), level='free'),\n",
       " Row(userId='12', date=datetime.date(2018, 10, 11), level='free'),\n",
       " Row(userId='12', date=datetime.date(2018, 10, 12), level='free'),\n",
       " Row(userId='12', date=datetime.date(2018, 10, 13), level='free'),\n",
       " Row(userId='12', date=datetime.date(2018, 10, 16), level='free'),\n",
       " Row(userId='12', date=datetime.date(2018, 10, 17), level='paid'),\n",
       " Row(userId='12', date=datetime.date(2018, 10, 19), level='paid'),\n",
       " Row(userId='12', date=datetime.date(2018, 10, 22), level='paid'),\n",
       " Row(userId='120', date=datetime.date(2018, 10, 1), level='paid'),\n",
       " Row(userId='120', date=datetime.date(2018, 10, 8), level='paid'),\n",
       " Row(userId='120', date=datetime.date(2018, 10, 9), level='paid'),\n",
       " Row(userId='120', date=datetime.date(2018, 10, 10), level='paid'),\n",
       " Row(userId='120', date=datetime.date(2018, 10, 11), level='paid'),\n",
       " Row(userId='120', date=datetime.date(2018, 10, 15), level='paid'),\n",
       " Row(userId='120', date=datetime.date(2018, 10, 16), level='paid'),\n",
       " Row(userId='120', date=datetime.date(2018, 10, 17), level='paid'),\n",
       " Row(userId='120', date=datetime.date(2018, 10, 18), level='paid'),\n",
       " Row(userId='120', date=datetime.date(2018, 10, 22), level='paid'),\n",
       " Row(userId='120', date=datetime.date(2018, 10, 24), level='paid'),\n",
       " Row(userId='120', date=datetime.date(2018, 10, 30), level='paid'),\n",
       " Row(userId='120', date=datetime.date(2018, 10, 31), level='paid'),\n",
       " Row(userId='120', date=datetime.date(2018, 11, 1), level='paid'),\n",
       " Row(userId='120', date=datetime.date(2018, 11, 4), level='paid'),\n",
       " Row(userId='120', date=datetime.date(2018, 11, 18), level='paid'),\n",
       " Row(userId='120', date=datetime.date(2018, 11, 19), level='paid'),\n",
       " Row(userId='120', date=datetime.date(2018, 11, 23), level='paid'),\n",
       " Row(userId='120', date=datetime.date(2018, 11, 26), level='paid'),\n",
       " Row(userId='120', date=datetime.date(2018, 11, 29), level='paid'),\n",
       " Row(userId='120', date=datetime.date(2018, 11, 30), level='paid'),\n",
       " Row(userId='121', date=datetime.date(2018, 10, 2), level='free'),\n",
       " Row(userId='121', date=datetime.date(2018, 10, 3), level='free'),\n",
       " Row(userId='121', date=datetime.date(2018, 10, 4), level='free'),\n",
       " Row(userId='121', date=datetime.date(2018, 10, 7), level='free'),\n",
       " Row(userId='121', date=datetime.date(2018, 10, 10), level='free'),\n",
       " Row(userId='121', date=datetime.date(2018, 10, 11), level='free'),\n",
       " Row(userId='121', date=datetime.date(2018, 10, 12), level='paid'),\n",
       " Row(userId='121', date=datetime.date(2018, 10, 13), level='paid'),\n",
       " Row(userId='121', date=datetime.date(2018, 10, 14), level='paid'),\n",
       " Row(userId='121', date=datetime.date(2018, 10, 15), level='paid'),\n",
       " Row(userId='121', date=datetime.date(2018, 10, 16), level='paid'),\n",
       " Row(userId='121', date=datetime.date(2018, 10, 17), level='paid'),\n",
       " Row(userId='122', date=datetime.date(2018, 10, 4), level='free'),\n",
       " Row(userId='122', date=datetime.date(2018, 10, 10), level='free'),\n",
       " Row(userId='122', date=datetime.date(2018, 10, 18), level='free'),\n",
       " Row(userId='122', date=datetime.date(2018, 10, 20), level='paid'),\n",
       " Row(userId='123', date=datetime.date(2018, 10, 26), level='free'),\n",
       " Row(userId='123', date=datetime.date(2018, 11, 2), level='free'),\n",
       " Row(userId='123', date=datetime.date(2018, 11, 9), level='free'),\n",
       " Row(userId='123', date=datetime.date(2018, 11, 13), level='free'),\n",
       " Row(userId='123', date=datetime.date(2018, 11, 14), level='free'),\n",
       " Row(userId='123', date=datetime.date(2018, 11, 19), level='free'),\n",
       " Row(userId='123', date=datetime.date(2018, 11, 24), level='free'),\n",
       " Row(userId='124', date=datetime.date(2018, 10, 1), level='paid'),\n",
       " Row(userId='124', date=datetime.date(2018, 10, 2), level='paid'),\n",
       " Row(userId='124', date=datetime.date(2018, 10, 3), level='paid'),\n",
       " Row(userId='124', date=datetime.date(2018, 10, 4), level='paid'),\n",
       " Row(userId='124', date=datetime.date(2018, 10, 5), level='paid'),\n",
       " Row(userId='124', date=datetime.date(2018, 10, 8), level='paid'),\n",
       " Row(userId='124', date=datetime.date(2018, 10, 9), level='paid'),\n",
       " Row(userId='124', date=datetime.date(2018, 10, 10), level='paid'),\n",
       " Row(userId='124', date=datetime.date(2018, 10, 16), level='paid'),\n",
       " Row(userId='124', date=datetime.date(2018, 10, 17), level='paid'),\n",
       " Row(userId='124', date=datetime.date(2018, 10, 22), level='paid'),\n",
       " Row(userId='124', date=datetime.date(2018, 10, 23), level='paid'),\n",
       " Row(userId='124', date=datetime.date(2018, 10, 24), level='paid'),\n",
       " Row(userId='124', date=datetime.date(2018, 10, 26), level='paid'),\n",
       " Row(userId='124', date=datetime.date(2018, 10, 29), level='paid'),\n",
       " Row(userId='124', date=datetime.date(2018, 10, 30), level='paid'),\n",
       " Row(userId='124', date=datetime.date(2018, 10, 31), level='paid'),\n",
       " Row(userId='124', date=datetime.date(2018, 11, 2), level='paid'),\n",
       " Row(userId='124', date=datetime.date(2018, 11, 3), level='paid'),\n",
       " Row(userId='124', date=datetime.date(2018, 11, 5), level='paid'),\n",
       " Row(userId='124', date=datetime.date(2018, 11, 7), level='paid'),\n",
       " Row(userId='124', date=datetime.date(2018, 11, 8), level='paid'),\n",
       " Row(userId='124', date=datetime.date(2018, 11, 9), level='paid'),\n",
       " Row(userId='124', date=datetime.date(2018, 11, 10), level='paid'),\n",
       " Row(userId='124', date=datetime.date(2018, 11, 11), level='paid'),\n",
       " Row(userId='124', date=datetime.date(2018, 11, 12), level='paid'),\n",
       " Row(userId='124', date=datetime.date(2018, 11, 13), level='paid'),\n",
       " Row(userId='124', date=datetime.date(2018, 11, 15), level='paid'),\n",
       " Row(userId='124', date=datetime.date(2018, 11, 16), level='paid'),\n",
       " Row(userId='124', date=datetime.date(2018, 11, 19), level='paid'),\n",
       " Row(userId='124', date=datetime.date(2018, 11, 20), level='paid'),\n",
       " Row(userId='124', date=datetime.date(2018, 11, 23), level='paid'),\n",
       " Row(userId='124', date=datetime.date(2018, 11, 27), level='paid'),\n",
       " Row(userId='124', date=datetime.date(2018, 11, 28), level='paid'),\n",
       " Row(userId='124', date=datetime.date(2018, 11, 29), level='paid'),\n",
       " Row(userId='124', date=datetime.date(2018, 11, 30), level='paid'),\n",
       " Row(userId='125', date=datetime.date(2018, 10, 12), level='free'),\n",
       " Row(userId='126', date=datetime.date(2018, 10, 1), level='free'),\n",
       " Row(userId='126', date=datetime.date(2018, 10, 3), level='free'),\n",
       " Row(userId='126', date=datetime.date(2018, 10, 4), level='free'),\n",
       " Row(userId='126', date=datetime.date(2018, 10, 7), level='free'),\n",
       " Row(userId='126', date=datetime.date(2018, 10, 10), level='free'),\n",
       " Row(userId='126', date=datetime.date(2018, 10, 14), level='free'),\n",
       " Row(userId='126', date=datetime.date(2018, 10, 15), level='free'),\n",
       " Row(userId='126', date=datetime.date(2018, 10, 16), level='free'),\n",
       " Row(userId='126', date=datetime.date(2018, 10, 17), level='free'),\n",
       " Row(userId='126', date=datetime.date(2018, 10, 19), level='paid'),\n",
       " Row(userId='126', date=datetime.date(2018, 10, 20), level='paid'),\n",
       " Row(userId='126', date=datetime.date(2018, 10, 21), level='paid'),\n",
       " Row(userId='126', date=datetime.date(2018, 10, 25), level='paid'),\n",
       " Row(userId='126', date=datetime.date(2018, 10, 26), level='paid'),\n",
       " Row(userId='126', date=datetime.date(2018, 10, 29), level='paid'),\n",
       " Row(userId='126', date=datetime.date(2018, 11, 2), level='paid'),\n",
       " Row(userId='126', date=datetime.date(2018, 11, 9), level='paid'),\n",
       " Row(userId='126', date=datetime.date(2018, 11, 10), level='paid'),\n",
       " Row(userId='126', date=datetime.date(2018, 11, 11), level='paid'),\n",
       " Row(userId='126', date=datetime.date(2018, 11, 14), level='paid'),\n",
       " Row(userId='126', date=datetime.date(2018, 11, 19), level='paid'),\n",
       " Row(userId='126', date=datetime.date(2018, 11, 21), level='paid'),\n",
       " Row(userId='126', date=datetime.date(2018, 11, 22), level='paid'),\n",
       " Row(userId='126', date=datetime.date(2018, 11, 23), level='paid'),\n",
       " Row(userId='126', date=datetime.date(2018, 11, 24), level='paid'),\n",
       " Row(userId='126', date=datetime.date(2018, 11, 26), level='paid'),\n",
       " Row(userId='126', date=datetime.date(2018, 11, 29), level='paid'),\n",
       " Row(userId='126', date=datetime.date(2018, 11, 30), level='paid'),\n",
       " Row(userId='127', date=datetime.date(2018, 10, 2), level='paid'),\n",
       " Row(userId='127', date=datetime.date(2018, 10, 5), level='paid'),\n",
       " Row(userId='127', date=datetime.date(2018, 10, 7), level='paid'),\n",
       " Row(userId='127', date=datetime.date(2018, 10, 9), level='paid'),\n",
       " Row(userId='127', date=datetime.date(2018, 10, 11), level='paid'),\n",
       " Row(userId='127', date=datetime.date(2018, 10, 23), level='paid'),\n",
       " Row(userId='127', date=datetime.date(2018, 10, 29), level='paid'),\n",
       " Row(userId='127', date=datetime.date(2018, 11, 3), level='paid'),\n",
       " Row(userId='127', date=datetime.date(2018, 11, 4), level='paid'),\n",
       " Row(userId='127', date=datetime.date(2018, 11, 14), level='paid'),\n",
       " Row(userId='127', date=datetime.date(2018, 11, 18), level='paid'),\n",
       " Row(userId='127', date=datetime.date(2018, 11, 19), level='paid'),\n",
       " Row(userId='127', date=datetime.date(2018, 11, 20), level='paid'),\n",
       " Row(userId='127', date=datetime.date(2018, 11, 21), level='paid'),\n",
       " Row(userId='127', date=datetime.date(2018, 11, 22), level='paid'),\n",
       " Row(userId='127', date=datetime.date(2018, 11, 23), level='paid'),\n",
       " Row(userId='127', date=datetime.date(2018, 11, 26), level='paid'),\n",
       " Row(userId='127', date=datetime.date(2018, 11, 27), level='paid'),\n",
       " Row(userId='128', date=datetime.date(2018, 10, 4), level='free'),\n",
       " Row(userId='128', date=datetime.date(2018, 10, 11), level='free'),\n",
       " Row(userId='128', date=datetime.date(2018, 10, 14), level='free'),\n",
       " Row(userId='128', date=datetime.date(2018, 10, 15), level='paid'),\n",
       " Row(userId='128', date=datetime.date(2018, 10, 17), level='paid'),\n",
       " Row(userId='128', date=datetime.date(2018, 10, 23), level='paid'),\n",
       " Row(userId='128', date=datetime.date(2018, 10, 29), level='paid'),\n",
       " Row(userId='128', date=datetime.date(2018, 10, 30), level='paid'),\n",
       " Row(userId='128', date=datetime.date(2018, 11, 1), level='paid'),\n",
       " Row(userId='128', date=datetime.date(2018, 11, 2), level='paid'),\n",
       " Row(userId='128', date=datetime.date(2018, 11, 5), level='paid'),\n",
       " Row(userId='128', date=datetime.date(2018, 11, 6), level='paid'),\n",
       " Row(userId='128', date=datetime.date(2018, 11, 13), level='paid'),\n",
       " Row(userId='128', date=datetime.date(2018, 11, 20), level='paid'),\n",
       " Row(userId='128', date=datetime.date(2018, 11, 22), level='paid'),\n",
       " Row(userId='128', date=datetime.date(2018, 11, 23), level='paid'),\n",
       " Row(userId='128', date=datetime.date(2018, 11, 24), level='paid'),\n",
       " Row(userId='128', date=datetime.date(2018, 11, 25), level='paid'),\n",
       " Row(userId='128', date=datetime.date(2018, 11, 29), level='paid'),\n",
       " Row(userId='129', date=datetime.date(2018, 10, 2), level='free'),\n",
       " Row(userId='129', date=datetime.date(2018, 10, 6), level='free'),\n",
       " Row(userId='129', date=datetime.date(2018, 10, 7), level='paid'),\n",
       " Row(userId='129', date=datetime.date(2018, 10, 8), level='paid'),\n",
       " Row(userId='129', date=datetime.date(2018, 10, 12), level='paid'),\n",
       " Row(userId='129', date=datetime.date(2018, 10, 17), level='paid'),\n",
       " Row(userId='13', date=datetime.date(2018, 10, 1), level='free'),\n",
       " Row(userId='13', date=datetime.date(2018, 10, 2), level='free'),\n",
       " Row(userId='13', date=datetime.date(2018, 10, 3), level='free'),\n",
       " Row(userId='13', date=datetime.date(2018, 10, 5), level='free'),\n",
       " Row(userId='13', date=datetime.date(2018, 10, 6), level='free'),\n",
       " Row(userId='13', date=datetime.date(2018, 10, 7), level='free'),\n",
       " Row(userId='13', date=datetime.date(2018, 10, 13), level='free'),\n",
       " Row(userId='13', date=datetime.date(2018, 10, 15), level='free'),\n",
       " Row(userId='13', date=datetime.date(2018, 10, 16), level='free'),\n",
       " Row(userId='13', date=datetime.date(2018, 10, 18), level='free'),\n",
       " Row(userId='13', date=datetime.date(2018, 10, 20), level='free'),\n",
       " Row(userId='13', date=datetime.date(2018, 10, 23), level='free'),\n",
       " Row(userId='13', date=datetime.date(2018, 10, 24), level='free'),\n",
       " Row(userId='13', date=datetime.date(2018, 10, 25), level='free'),\n",
       " Row(userId='13', date=datetime.date(2018, 10, 30), level='free'),\n",
       " Row(userId='13', date=datetime.date(2018, 10, 31), level='free'),\n",
       " Row(userId='13', date=datetime.date(2018, 11, 1), level='free'),\n",
       " Row(userId='13', date=datetime.date(2018, 11, 2), level='free'),\n",
       " Row(userId='13', date=datetime.date(2018, 11, 3), level='paid'),\n",
       " Row(userId='13', date=datetime.date(2018, 11, 6), level='paid'),\n",
       " Row(userId='13', date=datetime.date(2018, 11, 7), level='paid'),\n",
       " Row(userId='13', date=datetime.date(2018, 11, 8), level='free'),\n",
       " Row(userId='13', date=datetime.date(2018, 11, 14), level='free'),\n",
       " Row(userId='13', date=datetime.date(2018, 11, 15), level='free'),\n",
       " Row(userId='13', date=datetime.date(2018, 11, 16), level='free'),\n",
       " Row(userId='13', date=datetime.date(2018, 11, 17), level='free'),\n",
       " Row(userId='13', date=datetime.date(2018, 11, 21), level='free'),\n",
       " Row(userId='13', date=datetime.date(2018, 11, 25), level='free'),\n",
       " Row(userId='13', date=datetime.date(2018, 11, 29), level='free'),\n",
       " Row(userId='131', date=datetime.date(2018, 10, 1), level='paid'),\n",
       " Row(userId='131', date=datetime.date(2018, 10, 2), level='paid'),\n",
       " Row(userId='131', date=datetime.date(2018, 10, 4), level='paid'),\n",
       " Row(userId='131', date=datetime.date(2018, 10, 10), level='paid'),\n",
       " Row(userId='131', date=datetime.date(2018, 10, 15), level='paid'),\n",
       " Row(userId='131', date=datetime.date(2018, 10, 16), level='paid'),\n",
       " Row(userId='131', date=datetime.date(2018, 10, 17), level='paid'),\n",
       " Row(userId='131', date=datetime.date(2018, 10, 18), level='paid'),\n",
       " Row(userId='131', date=datetime.date(2018, 10, 19), level='paid'),\n",
       " Row(userId='131', date=datetime.date(2018, 10, 20), level='paid'),\n",
       " Row(userId='131', date=datetime.date(2018, 10, 22), level='paid'),\n",
       " Row(userId='131', date=datetime.date(2018, 10, 23), level='paid'),\n",
       " Row(userId='131', date=datetime.date(2018, 10, 26), level='paid'),\n",
       " Row(userId='131', date=datetime.date(2018, 10, 27), level='paid'),\n",
       " Row(userId='131', date=datetime.date(2018, 11, 1), level='paid'),\n",
       " Row(userId='131', date=datetime.date(2018, 11, 2), level='paid'),\n",
       " Row(userId='131', date=datetime.date(2018, 11, 12), level='paid'),\n",
       " Row(userId='131', date=datetime.date(2018, 11, 13), level='paid'),\n",
       " Row(userId='131', date=datetime.date(2018, 11, 17), level='paid'),\n",
       " Row(userId='131', date=datetime.date(2018, 11, 18), level='paid'),\n",
       " Row(userId='131', date=datetime.date(2018, 11, 19), level='paid'),\n",
       " Row(userId='131', date=datetime.date(2018, 11, 20), level='free'),\n",
       " Row(userId='131', date=datetime.date(2018, 11, 21), level='free'),\n",
       " Row(userId='131', date=datetime.date(2018, 11, 25), level='free'),\n",
       " Row(userId='131', date=datetime.date(2018, 11, 30), level='free'),\n",
       " Row(userId='132', date=datetime.date(2018, 10, 2), level='paid'),\n",
       " Row(userId='132', date=datetime.date(2018, 10, 10), level='paid'),\n",
       " Row(userId='132', date=datetime.date(2018, 10, 11), level='paid'),\n",
       " Row(userId='132', date=datetime.date(2018, 10, 12), level='paid'),\n",
       " Row(userId='132', date=datetime.date(2018, 10, 16), level='paid'),\n",
       " Row(userId='132', date=datetime.date(2018, 10, 20), level='paid'),\n",
       " Row(userId='132', date=datetime.date(2018, 10, 29), level='paid'),\n",
       " Row(userId='132', date=datetime.date(2018, 11, 1), level='paid'),\n",
       " Row(userId='132', date=datetime.date(2018, 11, 2), level='paid'),\n",
       " Row(userId='132', date=datetime.date(2018, 11, 3), level='paid'),\n",
       " Row(userId='132', date=datetime.date(2018, 11, 5), level='paid'),\n",
       " Row(userId='132', date=datetime.date(2018, 11, 6), level='paid'),\n",
       " Row(userId='132', date=datetime.date(2018, 11, 8), level='paid'),\n",
       " Row(userId='132', date=datetime.date(2018, 11, 9), level='paid'),\n",
       " Row(userId='132', date=datetime.date(2018, 11, 12), level='paid'),\n",
       " Row(userId='132', date=datetime.date(2018, 11, 13), level='paid'),\n",
       " Row(userId='132', date=datetime.date(2018, 11, 14), level='paid'),\n",
       " Row(userId='132', date=datetime.date(2018, 11, 15), level='paid'),\n",
       " Row(userId='132', date=datetime.date(2018, 11, 16), level='paid'),\n",
       " Row(userId='132', date=datetime.date(2018, 11, 18), level='paid'),\n",
       " Row(userId='132', date=datetime.date(2018, 11, 19), level='paid'),\n",
       " Row(userId='132', date=datetime.date(2018, 11, 21), level='paid'),\n",
       " Row(userId='133', date=datetime.date(2018, 10, 15), level='free'),\n",
       " Row(userId='134', date=datetime.date(2018, 10, 7), level='free'),\n",
       " Row(userId='134', date=datetime.date(2018, 10, 25), level='free'),\n",
       " Row(userId='134', date=datetime.date(2018, 11, 13), level='free'),\n",
       " Row(userId='134', date=datetime.date(2018, 11, 26), level='free'),\n",
       " Row(userId='135', date=datetime.date(2018, 10, 4), level='free'),\n",
       " Row(userId='136', date=datetime.date(2018, 10, 2), level='free'),\n",
       " Row(userId='136', date=datetime.date(2018, 10, 3), level='free'),\n",
       " Row(userId='136', date=datetime.date(2018, 10, 5), level='free'),\n",
       " Row(userId='136', date=datetime.date(2018, 10, 9), level='free'),\n",
       " Row(userId='136', date=datetime.date(2018, 10, 15), level='free'),\n",
       " Row(userId='136', date=datetime.date(2018, 10, 16), level='paid'),\n",
       " Row(userId='136', date=datetime.date(2018, 10, 17), level='paid'),\n",
       " Row(userId='136', date=datetime.date(2018, 10, 19), level='paid'),\n",
       " Row(userId='136', date=datetime.date(2018, 10, 20), level='paid'),\n",
       " Row(userId='136', date=datetime.date(2018, 10, 21), level='paid'),\n",
       " Row(userId='136', date=datetime.date(2018, 10, 22), level='paid'),\n",
       " Row(userId='136', date=datetime.date(2018, 10, 24), level='paid'),\n",
       " Row(userId='136', date=datetime.date(2018, 10, 25), level='paid'),\n",
       " Row(userId='136', date=datetime.date(2018, 11, 1), level='paid'),\n",
       " Row(userId='136', date=datetime.date(2018, 11, 3), level='paid'),\n",
       " Row(userId='136', date=datetime.date(2018, 11, 9), level='paid'),\n",
       " Row(userId='136', date=datetime.date(2018, 11, 14), level='paid'),\n",
       " Row(userId='136', date=datetime.date(2018, 11, 20), level='paid'),\n",
       " Row(userId='136', date=datetime.date(2018, 11, 21), level='paid'),\n",
       " Row(userId='136', date=datetime.date(2018, 11, 27), level='paid'),\n",
       " Row(userId='136', date=datetime.date(2018, 11, 28), level='paid'),\n",
       " Row(userId='136', date=datetime.date(2018, 11, 29), level='paid'),\n",
       " Row(userId='136', date=datetime.date(2018, 11, 30), level='paid'),\n",
       " Row(userId='137', date=datetime.date(2018, 10, 1), level='free'),\n",
       " Row(userId='137', date=datetime.date(2018, 10, 3), level='free'),\n",
       " Row(userId='137', date=datetime.date(2018, 11, 24), level='paid'),\n",
       " Row(userId='137', date=datetime.date(2018, 11, 25), level='paid'),\n",
       " Row(userId='138', date=datetime.date(2018, 10, 6), level='free'),\n",
       " Row(userId='138', date=datetime.date(2018, 10, 12), level='free'),\n",
       " Row(userId='138', date=datetime.date(2018, 10, 14), level='free'),\n",
       " Row(userId='138', date=datetime.date(2018, 10, 18), level='free'),\n",
       " Row(userId='138', date=datetime.date(2018, 10, 22), level='paid'),\n",
       " Row(userId='138', date=datetime.date(2018, 10, 24), level='paid'),\n",
       " Row(userId='138', date=datetime.date(2018, 10, 25), level='paid'),\n",
       " Row(userId='138', date=datetime.date(2018, 10, 26), level='paid'),\n",
       " Row(userId='138', date=datetime.date(2018, 10, 27), level='paid'),\n",
       " Row(userId='138', date=datetime.date(2018, 10, 28), level='paid'),\n",
       " Row(userId='138', date=datetime.date(2018, 10, 29), level='paid'),\n",
       " Row(userId='138', date=datetime.date(2018, 10, 30), level='paid'),\n",
       " Row(userId='138', date=datetime.date(2018, 11, 8), level='paid'),\n",
       " Row(userId='138', date=datetime.date(2018, 11, 12), level='paid'),\n",
       " Row(userId='138', date=datetime.date(2018, 11, 25), level='paid'),\n",
       " Row(userId='138', date=datetime.date(2018, 11, 26), level='paid'),\n",
       " Row(userId='138', date=datetime.date(2018, 11, 29), level='paid'),\n",
       " Row(userId='138', date=datetime.date(2018, 11, 30), level='paid'),\n",
       " Row(userId='138', date=datetime.date(2018, 12, 1), level='paid'),\n",
       " Row(userId='139', date=datetime.date(2018, 11, 1), level='paid'),\n",
       " Row(userId='139', date=datetime.date(2018, 11, 13), level='paid'),\n",
       " Row(userId='139', date=datetime.date(2018, 11, 14), level='paid'),\n",
       " Row(userId='139', date=datetime.date(2018, 11, 15), level='paid'),\n",
       " Row(userId='139', date=datetime.date(2018, 11, 21), level='paid'),\n",
       " Row(userId='14', date=datetime.date(2018, 10, 9), level='paid'),\n",
       " Row(userId='14', date=datetime.date(2018, 10, 19), level='paid'),\n",
       " Row(userId='14', date=datetime.date(2018, 10, 26), level='paid'),\n",
       " Row(userId='14', date=datetime.date(2018, 10, 27), level='paid'),\n",
       " Row(userId='14', date=datetime.date(2018, 10, 29), level='paid'),\n",
       " Row(userId='14', date=datetime.date(2018, 10, 31), level='paid'),\n",
       " Row(userId='14', date=datetime.date(2018, 11, 9), level='paid'),\n",
       " Row(userId='14', date=datetime.date(2018, 11, 11), level='paid'),\n",
       " Row(userId='14', date=datetime.date(2018, 11, 17), level='paid'),\n",
       " Row(userId='14', date=datetime.date(2018, 11, 18), level='paid'),\n",
       " Row(userId='14', date=datetime.date(2018, 11, 21), level='paid'),\n",
       " Row(userId='14', date=datetime.date(2018, 11, 25), level='paid'),\n",
       " Row(userId='14', date=datetime.date(2018, 11, 27), level='paid'),\n",
       " Row(userId='14', date=datetime.date(2018, 11, 28), level='paid'),\n",
       " Row(userId='140', date=datetime.date(2018, 10, 1), level='free'),\n",
       " Row(userId='140', date=datetime.date(2018, 10, 2), level='free'),\n",
       " Row(userId='140', date=datetime.date(2018, 10, 3), level='free'),\n",
       " Row(userId='140', date=datetime.date(2018, 10, 4), level='free'),\n",
       " Row(userId='140', date=datetime.date(2018, 10, 5), level='free'),\n",
       " Row(userId='140', date=datetime.date(2018, 10, 6), level='paid'),\n",
       " Row(userId='140', date=datetime.date(2018, 10, 7), level='paid'),\n",
       " Row(userId='140', date=datetime.date(2018, 10, 8), level='paid'),\n",
       " Row(userId='140', date=datetime.date(2018, 10, 9), level='paid'),\n",
       " Row(userId='140', date=datetime.date(2018, 10, 10), level='paid'),\n",
       " Row(userId='140', date=datetime.date(2018, 10, 11), level='paid'),\n",
       " Row(userId='140', date=datetime.date(2018, 10, 12), level='free'),\n",
       " Row(userId='140', date=datetime.date(2018, 10, 13), level='free'),\n",
       " Row(userId='140', date=datetime.date(2018, 10, 15), level='free'),\n",
       " Row(userId='140', date=datetime.date(2018, 10, 16), level='free'),\n",
       " Row(userId='140', date=datetime.date(2018, 10, 17), level='free'),\n",
       " Row(userId='140', date=datetime.date(2018, 10, 18), level='free'),\n",
       " Row(userId='140', date=datetime.date(2018, 10, 19), level='paid'),\n",
       " Row(userId='140', date=datetime.date(2018, 10, 20), level='paid'),\n",
       " Row(userId='140', date=datetime.date(2018, 10, 21), level='paid'),\n",
       " Row(userId='140', date=datetime.date(2018, 10, 22), level='paid'),\n",
       " Row(userId='140', date=datetime.date(2018, 10, 23), level='paid'),\n",
       " Row(userId='140', date=datetime.date(2018, 10, 24), level='paid'),\n",
       " Row(userId='140', date=datetime.date(2018, 10, 25), level='paid'),\n",
       " Row(userId='140', date=datetime.date(2018, 10, 26), level='paid'),\n",
       " Row(userId='140', date=datetime.date(2018, 10, 28), level='paid'),\n",
       " Row(userId='140', date=datetime.date(2018, 10, 29), level='paid'),\n",
       " Row(userId='140', date=datetime.date(2018, 10, 30), level='paid'),\n",
       " Row(userId='140', date=datetime.date(2018, 10, 31), level='paid'),\n",
       " Row(userId='140', date=datetime.date(2018, 11, 1), level='paid'),\n",
       " Row(userId='140', date=datetime.date(2018, 11, 2), level='paid'),\n",
       " Row(userId='140', date=datetime.date(2018, 11, 3), level='paid'),\n",
       " Row(userId='140', date=datetime.date(2018, 11, 5), level='paid'),\n",
       " Row(userId='140', date=datetime.date(2018, 11, 6), level='free'),\n",
       " Row(userId='140', date=datetime.date(2018, 11, 7), level='paid'),\n",
       " Row(userId='140', date=datetime.date(2018, 11, 8), level='paid'),\n",
       " Row(userId='140', date=datetime.date(2018, 11, 9), level='paid'),\n",
       " Row(userId='140', date=datetime.date(2018, 11, 10), level='paid'),\n",
       " Row(userId='140', date=datetime.date(2018, 11, 12), level='paid'),\n",
       " Row(userId='140', date=datetime.date(2018, 11, 13), level='paid'),\n",
       " Row(userId='140', date=datetime.date(2018, 11, 14), level='paid'),\n",
       " Row(userId='140', date=datetime.date(2018, 11, 15), level='free'),\n",
       " Row(userId='140', date=datetime.date(2018, 11, 16), level='free'),\n",
       " Row(userId='140', date=datetime.date(2018, 11, 17), level='free'),\n",
       " Row(userId='140', date=datetime.date(2018, 11, 19), level='free'),\n",
       " Row(userId='140', date=datetime.date(2018, 11, 20), level='paid'),\n",
       " Row(userId='140', date=datetime.date(2018, 11, 21), level='paid'),\n",
       " Row(userId='140', date=datetime.date(2018, 11, 22), level='paid'),\n",
       " Row(userId='140', date=datetime.date(2018, 11, 23), level='paid'),\n",
       " Row(userId='140', date=datetime.date(2018, 11, 24), level='paid'),\n",
       " Row(userId='140', date=datetime.date(2018, 11, 25), level='paid'),\n",
       " Row(userId='140', date=datetime.date(2018, 11, 26), level='paid'),\n",
       " Row(userId='140', date=datetime.date(2018, 11, 27), level='paid'),\n",
       " Row(userId='140', date=datetime.date(2018, 11, 28), level='paid'),\n",
       " Row(userId='140', date=datetime.date(2018, 11, 30), level='paid'),\n",
       " Row(userId='141', date=datetime.date(2018, 10, 1), level='paid'),\n",
       " Row(userId='141', date=datetime.date(2018, 10, 4), level='paid'),\n",
       " Row(userId='141', date=datetime.date(2018, 10, 5), level='paid'),\n",
       " Row(userId='141', date=datetime.date(2018, 10, 6), level='free'),\n",
       " Row(userId='141', date=datetime.date(2018, 10, 7), level='paid'),\n",
       " Row(userId='141', date=datetime.date(2018, 10, 8), level='paid'),\n",
       " Row(userId='141', date=datetime.date(2018, 10, 9), level='paid'),\n",
       " Row(userId='141', date=datetime.date(2018, 10, 20), level='paid'),\n",
       " Row(userId='141', date=datetime.date(2018, 10, 22), level='paid'),\n",
       " Row(userId='141', date=datetime.date(2018, 10, 24), level='paid'),\n",
       " Row(userId='141', date=datetime.date(2018, 11, 2), level='paid'),\n",
       " Row(userId='141', date=datetime.date(2018, 11, 3), level='paid'),\n",
       " Row(userId='141', date=datetime.date(2018, 11, 12), level='paid'),\n",
       " Row(userId='141', date=datetime.date(2018, 11, 17), level='paid'),\n",
       " Row(userId='142', date=datetime.date(2018, 10, 1), level='paid'),\n",
       " Row(userId='142', date=datetime.date(2018, 10, 2), level='paid'),\n",
       " Row(userId='142', date=datetime.date(2018, 10, 5), level='paid'),\n",
       " Row(userId='142', date=datetime.date(2018, 10, 6), level='paid'),\n",
       " Row(userId='142', date=datetime.date(2018, 10, 7), level='paid'),\n",
       " Row(userId='142', date=datetime.date(2018, 10, 10), level='paid'),\n",
       " Row(userId='142', date=datetime.date(2018, 10, 11), level='paid'),\n",
       " Row(userId='142', date=datetime.date(2018, 10, 12), level='paid'),\n",
       " Row(userId='142', date=datetime.date(2018, 10, 13), level='paid'),\n",
       " Row(userId='142', date=datetime.date(2018, 10, 19), level='paid'),\n",
       " Row(userId='142', date=datetime.date(2018, 10, 20), level='paid'),\n",
       " Row(userId='142', date=datetime.date(2018, 10, 21), level='paid'),\n",
       " Row(userId='142', date=datetime.date(2018, 10, 29), level='paid'),\n",
       " Row(userId='142', date=datetime.date(2018, 10, 30), level='paid'),\n",
       " Row(userId='142', date=datetime.date(2018, 11, 1), level='paid'),\n",
       " Row(userId='142', date=datetime.date(2018, 11, 2), level='paid'),\n",
       " Row(userId='142', date=datetime.date(2018, 11, 3), level='paid'),\n",
       " Row(userId='142', date=datetime.date(2018, 11, 13), level='paid'),\n",
       " Row(userId='142', date=datetime.date(2018, 11, 15), level='paid'),\n",
       " Row(userId='142', date=datetime.date(2018, 11, 16), level='paid'),\n",
       " Row(userId='142', date=datetime.date(2018, 11, 17), level='paid'),\n",
       " Row(userId='142', date=datetime.date(2018, 11, 20), level='paid'),\n",
       " Row(userId='142', date=datetime.date(2018, 11, 27), level='paid'),\n",
       " Row(userId='142', date=datetime.date(2018, 11, 28), level='paid'),\n",
       " Row(userId='142', date=datetime.date(2018, 11, 30), level='paid'),\n",
       " Row(userId='143', date=datetime.date(2018, 10, 1), level='free'),\n",
       " Row(userId='143', date=datetime.date(2018, 10, 4), level='free'),\n",
       " Row(userId='143', date=datetime.date(2018, 10, 7), level='free'),\n",
       " Row(userId='143', date=datetime.date(2018, 10, 14), level='free'),\n",
       " Row(userId='143', date=datetime.date(2018, 10, 15), level='free'),\n",
       " Row(userId='144', date=datetime.date(2018, 10, 8), level='free'),\n",
       " Row(userId='144', date=datetime.date(2018, 10, 9), level='free'),\n",
       " Row(userId='144', date=datetime.date(2018, 10, 10), level='free'),\n",
       " Row(userId='144', date=datetime.date(2018, 11, 30), level='free'),\n",
       " Row(userId='145', date=datetime.date(2018, 10, 4), level='paid'),\n",
       " Row(userId='145', date=datetime.date(2018, 10, 7), level='paid'),\n",
       " Row(userId='145', date=datetime.date(2018, 10, 12), level='paid'),\n",
       " Row(userId='145', date=datetime.date(2018, 10, 15), level='paid'),\n",
       " Row(userId='145', date=datetime.date(2018, 10, 16), level='paid'),\n",
       " Row(userId='145', date=datetime.date(2018, 10, 19), level='paid'),\n",
       " Row(userId='145', date=datetime.date(2018, 10, 20), level='paid'),\n",
       " Row(userId='145', date=datetime.date(2018, 10, 24), level='paid'),\n",
       " Row(userId='145', date=datetime.date(2018, 10, 25), level='paid'),\n",
       " Row(userId='145', date=datetime.date(2018, 10, 26), level='paid'),\n",
       " Row(userId='145', date=datetime.date(2018, 11, 14), level='paid'),\n",
       " Row(userId='145', date=datetime.date(2018, 11, 18), level='paid'),\n",
       " Row(userId='145', date=datetime.date(2018, 11, 19), level='paid'),\n",
       " Row(userId='145', date=datetime.date(2018, 11, 27), level='paid'),\n",
       " Row(userId='145', date=datetime.date(2018, 11, 28), level='paid'),\n",
       " Row(userId='145', date=datetime.date(2018, 11, 30), level='paid'),\n",
       " Row(userId='145', date=datetime.date(2018, 12, 1), level='paid'),\n",
       " Row(userId='146', date=datetime.date(2018, 10, 1), level='free'),\n",
       " Row(userId='146', date=datetime.date(2018, 10, 3), level='free'),\n",
       " Row(userId='146', date=datetime.date(2018, 10, 11), level='free'),\n",
       " Row(userId='146', date=datetime.date(2018, 10, 14), level='free'),\n",
       " Row(userId='146', date=datetime.date(2018, 10, 18), level='free'),\n",
       " Row(userId='146', date=datetime.date(2018, 10, 19), level='free'),\n",
       " Row(userId='146', date=datetime.date(2018, 10, 25), level='free'),\n",
       " Row(userId='146', date=datetime.date(2018, 10, 26), level='free'),\n",
       " Row(userId='146', date=datetime.date(2018, 10, 30), level='free'),\n",
       " Row(userId='146', date=datetime.date(2018, 11, 5), level='free'),\n",
       " Row(userId='146', date=datetime.date(2018, 11, 6), level='free'),\n",
       " Row(userId='146', date=datetime.date(2018, 11, 13), level='free'),\n",
       " Row(userId='146', date=datetime.date(2018, 11, 25), level='free'),\n",
       " Row(userId='146', date=datetime.date(2018, 11, 26), level='free'),\n",
       " Row(userId='146', date=datetime.date(2018, 11, 27), level='free'),\n",
       " Row(userId='146', date=datetime.date(2018, 11, 28), level='free'),\n",
       " Row(userId='146', date=datetime.date(2018, 11, 30), level='free'),\n",
       " Row(userId='147', date=datetime.date(2018, 10, 10), level='free'),\n",
       " Row(userId='147', date=datetime.date(2018, 10, 11), level='free'),\n",
       " Row(userId='147', date=datetime.date(2018, 10, 15), level='free'),\n",
       " Row(userId='147', date=datetime.date(2018, 10, 31), level='free'),\n",
       " Row(userId='147', date=datetime.date(2018, 11, 12), level='free'),\n",
       " Row(userId='147', date=datetime.date(2018, 11, 13), level='paid'),\n",
       " Row(userId='147', date=datetime.date(2018, 11, 16), level='paid'),\n",
       " Row(userId='147', date=datetime.date(2018, 11, 23), level='paid'),\n",
       " Row(userId='147', date=datetime.date(2018, 11, 29), level='paid'),\n",
       " Row(userId='148', date=datetime.date(2018, 10, 6), level='free'),\n",
       " Row(userId='148', date=datetime.date(2018, 10, 10), level='free'),\n",
       " Row(userId='148', date=datetime.date(2018, 10, 11), level='free'),\n",
       " Row(userId='148', date=datetime.date(2018, 10, 15), level='free'),\n",
       " Row(userId='148', date=datetime.date(2018, 10, 16), level='free'),\n",
       " Row(userId='148', date=datetime.date(2018, 10, 21), level='free'),\n",
       " Row(userId='148', date=datetime.date(2018, 10, 25), level='free'),\n",
       " Row(userId='148', date=datetime.date(2018, 11, 8), level='free'),\n",
       " Row(userId='148', date=datetime.date(2018, 11, 19), level='free'),\n",
       " Row(userId='148', date=datetime.date(2018, 11, 20), level='free'),\n",
       " Row(userId='148', date=datetime.date(2018, 11, 30), level='free'),\n",
       " Row(userId='149', date=datetime.date(2018, 10, 16), level='free'),\n",
       " Row(userId='149', date=datetime.date(2018, 10, 17), level='free'),\n",
       " Row(userId='149', date=datetime.date(2018, 10, 18), level='free'),\n",
       " Row(userId='149', date=datetime.date(2018, 10, 31), level='free'),\n",
       " Row(userId='15', date=datetime.date(2018, 10, 1), level='paid'),\n",
       " Row(userId='15', date=datetime.date(2018, 10, 3), level='paid'),\n",
       " Row(userId='15', date=datetime.date(2018, 10, 4), level='paid'),\n",
       " Row(userId='15', date=datetime.date(2018, 10, 6), level='paid'),\n",
       " Row(userId='15', date=datetime.date(2018, 10, 7), level='paid'),\n",
       " Row(userId='15', date=datetime.date(2018, 10, 8), level='paid'),\n",
       " Row(userId='15', date=datetime.date(2018, 10, 9), level='paid'),\n",
       " Row(userId='15', date=datetime.date(2018, 10, 16), level='paid'),\n",
       " Row(userId='15', date=datetime.date(2018, 10, 21), level='paid'),\n",
       " Row(userId='15', date=datetime.date(2018, 10, 23), level='paid'),\n",
       " Row(userId='15', date=datetime.date(2018, 11, 1), level='paid'),\n",
       " Row(userId='15', date=datetime.date(2018, 11, 2), level='paid'),\n",
       " Row(userId='15', date=datetime.date(2018, 11, 13), level='paid'),\n",
       " Row(userId='15', date=datetime.date(2018, 11, 14), level='paid'),\n",
       " Row(userId='15', date=datetime.date(2018, 11, 15), level='paid'),\n",
       " Row(userId='15', date=datetime.date(2018, 11, 23), level='paid'),\n",
       " Row(userId='15', date=datetime.date(2018, 11, 24), level='paid'),\n",
       " Row(userId='15', date=datetime.date(2018, 11, 25), level='paid'),\n",
       " Row(userId='150', date=datetime.date(2018, 10, 9), level='free'),\n",
       " Row(userId='150', date=datetime.date(2018, 10, 10), level='free'),\n",
       " Row(userId='150', date=datetime.date(2018, 10, 17), level='free'),\n",
       " Row(userId='150', date=datetime.date(2018, 10, 22), level='free'),\n",
       " Row(userId='150', date=datetime.date(2018, 11, 4), level='free'),\n",
       " Row(userId='150', date=datetime.date(2018, 11, 7), level='free'),\n",
       " Row(userId='150', date=datetime.date(2018, 11, 29), level='free'),\n",
       " Row(userId='150', date=datetime.date(2018, 11, 30), level='free'),\n",
       " Row(userId='151', date=datetime.date(2018, 11, 6), level='paid'),\n",
       " Row(userId='152', date=datetime.date(2018, 10, 30), level='free'),\n",
       " Row(userId='152', date=datetime.date(2018, 11, 1), level='free'),\n",
       " Row(userId='152', date=datetime.date(2018, 11, 3), level='free'),\n",
       " Row(userId='152', date=datetime.date(2018, 11, 4), level='free'),\n",
       " Row(userId='152', date=datetime.date(2018, 11, 7), level='free'),\n",
       " Row(userId='152', date=datetime.date(2018, 11, 9), level='free'),\n",
       " Row(userId='152', date=datetime.date(2018, 11, 11), level='free'),\n",
       " Row(userId='152', date=datetime.date(2018, 11, 14), level='free'),\n",
       " Row(userId='152', date=datetime.date(2018, 11, 16), level='paid'),\n",
       " Row(userId='152', date=datetime.date(2018, 11, 18), level='paid'),\n",
       " Row(userId='152', date=datetime.date(2018, 11, 19), level='paid'),\n",
       " Row(userId='152', date=datetime.date(2018, 11, 20), level='paid'),\n",
       " Row(userId='152', date=datetime.date(2018, 11, 22), level='paid'),\n",
       " Row(userId='152', date=datetime.date(2018, 11, 23), level='paid'),\n",
       " Row(userId='152', date=datetime.date(2018, 11, 24), level='paid'),\n",
       " ...]"
      ]
     },
     "execution_count": 289,
     "metadata": {},
     "output_type": "execute_result"
    }
   ],
   "source": [
    "user_time_rows"
   ]
  },
  {
   "cell_type": "markdown",
   "metadata": {},
   "source": [
    "##### Add missing user-time rows"
   ]
  },
  {
   "cell_type": "code",
   "execution_count": 290,
   "metadata": {},
   "outputs": [
    {
     "name": "stdout",
     "output_type": "stream",
     "text": [
      "+----------+----------+\n",
      "| min(date)| max(date)|\n",
      "+----------+----------+\n",
      "|2018-10-01|2018-12-03|\n",
      "+----------+----------+\n",
      "\n"
     ]
    }
   ],
   "source": [
    "# Observation period\n",
    "data.agg(min('date'), max('date')).show()"
   ]
  },
  {
   "cell_type": "code",
   "execution_count": 300,
   "metadata": {},
   "outputs": [],
   "source": [
    "# Build user-time dimension matrix for the whole observation period from Oct 1, 2018 to Dec 3, 2018.\n",
    "# Important: if in time t2 user has no user_time row, then it holds:\n",
    "#\n",
    "#    level(user, t2) = level(user, t1)\n",
    "#\n",
    "\n",
    "# user set\n",
    "users = {row.userId for row in user_time_rows}\n",
    "\n",
    "# user-time dimension matrix\n",
    "ut_matrix = []\n",
    "\n",
    "# current user-time level - fill it with default (None) values \n",
    "current_levels = dict()\n",
    "for userId in users:\n",
    "    current_levels[userId] = None\n",
    "\n",
    "# convert user_time rows into pandas dataframe (for easier filtering)\n",
    "utdf = pd.DataFrame(user_time_rows)\n",
    "utdf.columns = ['userId', 'date', 'level']\n",
    "\n",
    "# current dimension variables - defaults are set on Sept 30\n",
    "last_userId, last_date = '-1', get_default_date()\n",
    "\n",
    "# loop through the user-time rows sorted by userId, month, day\n",
    "for row in user_time_rows:\n",
    "    \n",
    "    userId = row.userId\n",
    "    \n",
    "    # reset last date when user changes\n",
    "    if userId != last_userId:\n",
    "        last_date = get_default_date()\n",
    "    \n",
    "    # get current user level\n",
    "    last_level = current_levels[userId]\n",
    "    \n",
    "    # add missing dimensions (up till current row date)\n",
    "    #  level := last_level\n",
    "    # Note: we skip None levels that represent missing logs before the first user log.\n",
    "    if last_level != None:\n",
    "        for date in get_dates_gen(last_date, row.date):\n",
    "            ut_matrix.append(get_ut_row(userId, date, last_level))\n",
    "        \n",
    "    # add level for current row date\n",
    "    ut_matrix.append(get_ut_row(userId, row.date, row.level))\n",
    "       \n",
    "    # handle history variables\n",
    "    last_date = row.date       \n",
    "    last_userId = userId\n",
    "    current_levels[userId] = row.level\n",
    "               "
   ]
  },
  {
   "cell_type": "code",
   "execution_count": 302,
   "metadata": {},
   "outputs": [
    {
     "data": {
      "text/plain": [
       "{'date': datetime.date(2018, 10, 8), 'level': 'paid', 'userId': '10'}"
      ]
     },
     "execution_count": 302,
     "metadata": {},
     "output_type": "execute_result"
    }
   ],
   "source": [
    "ut_matrix[0]"
   ]
  },
  {
   "cell_type": "markdown",
   "metadata": {},
   "source": [
    "##### Calculate share of level per churn group, for each day in the observation period "
   ]
  },
  {
   "cell_type": "code",
   "execution_count": 304,
   "metadata": {
    "collapsed": true
   },
   "outputs": [],
   "source": [
    "# Prepare churn data\n",
    "churn_df = data.select('userId', 'churn').dropDuplicates().toPandas()\n",
    "\n",
    "# Convert user_time matrix to pandas framework\n",
    "ut_df = pd.DataFrame(ut_matrix)\n",
    "ut_df = ut_df[['userId', 'date', 'level']]\n",
    "\n",
    "# Add churn indicator\n",
    "ut_df = ut_df.merge(churn_df, on='userId')"
   ]
  },
  {
   "cell_type": "code",
   "execution_count": 307,
   "metadata": {},
   "outputs": [],
   "source": [
    "# Prepare agg totals per day and churn group\n",
    "level_totals_df = ut_df \\\n",
    "    .groupby(['churn', 'date']) \\\n",
    "    .size() \\\n",
    "    .reset_index(name='count') \\\n",
    "    .rename(columns={'count': 'total'})\n",
    "\n",
    "# create level share dataframe\n",
    "level_share_df = ut_df \\\n",
    "    .groupby(['churn', 'date', 'level']) \\\n",
    "    .size() \\\n",
    "    .reset_index(name='count') \\\n",
    "    .merge(level_totals_df, on=['churn', 'date'])\n",
    "    \n",
    "# calc share\n",
    "level_share_df['share'] = level_share_df['count']/level_share_df['total']"
   ]
  },
  {
   "cell_type": "markdown",
   "metadata": {},
   "source": [
    "##### Plot total count of level category per day"
   ]
  },
  {
   "cell_type": "code",
   "execution_count": 312,
   "metadata": {},
   "outputs": [
    {
     "data": {
      "image/png": "[encoded data removed]",
      "text/plain": [
       "<matplotlib.figure.Figure at 0x17133ff06a0>"
      ]
     },
     "metadata": {},
     "output_type": "display_data"
    }
   ],
   "source": [
    "# Prepare agg totals per day and churn group\n",
    "level_count_df = ut_df \\\n",
    "    .groupby(['level', 'date']) \\\n",
    "    .size() \\\n",
    "    .reset_index(name='count') \\\n",
    "    .sort_values(by=['date'])\n",
    "\n",
    "# Plot\n",
    "paid = level_count_df[level_count_df.level == 'paid']['count']\n",
    "free = level_count_df[level_count_df.level == 'free']['count']\n",
    "dates_paid = level_count_df[level_count_df.level == 'paid']['date']\n",
    "dates_free = level_count_df[level_count_df.level == 'free']['date']\n",
    "\n",
    "fig, ax = plt.subplots()\n",
    "fig.set_size_inches(15, 5)\n",
    "\n",
    "ax.plot(dates_paid, paid)\n",
    "ax.plot(dates_free, free)\n",
    "\n",
    "ax.set(xlabel='date', ylabel='count', title='Count of level')\n",
    "ax.grid()\n",
    "plt.legend(['paid', 'free'], loc=2)\n",
    "plt.xticks(rotation = 45);\n",
    "plt.show()"
   ]
  },
  {
   "cell_type": "markdown",
   "metadata": {},
   "source": [
    "##### Plot share of a level category by churn group per day"
   ]
  },
  {
   "cell_type": "code",
   "execution_count": 309,
   "metadata": {
    "collapsed": true
   },
   "outputs": [],
   "source": [
    "# Share of a given level, per churn group\n",
    "def plot_level_share(df, level):\n",
    "    df_share = df[(df.level == level)]\n",
    "\n",
    "    shares0 = df_share[df_share.churn == 0]['share']\n",
    "    shares1 = df_share[df_share.churn == 1]['share']\n",
    "    dates0 = df_share[df_share.churn == 0]['date']\n",
    "    dates1 = df_share[df_share.churn == 1]['date']\n",
    "\n",
    "    fig, ax = plt.subplots()\n",
    "    fig.set_size_inches(15, 5)\n",
    "\n",
    "    # plot both lines\n",
    "    ax.plot(dates0, shares0)\n",
    "    ax.plot(dates1, shares1)\n",
    "\n",
    "    ax.set(xlabel='date', ylabel='share', title=\"Share of level='\" + level + \"'\")\n",
    "    ax.grid()\n",
    "    plt.legend(['non-churned', 'churned'], loc=2)\n",
    "    plt.xticks(rotation = 45);\n",
    "    plt.show()"
   ]
  },
  {
   "cell_type": "code",
   "execution_count": 310,
   "metadata": {},
   "outputs": [
    {
     "data": {
      "image/png": "[encoded data removed]",
      "text/plain": [
       "<matplotlib.figure.Figure at 0x1713385e278>"
      ]
     },
     "metadata": {},
     "output_type": "display_data"
    }
   ],
   "source": [
    "plot_level_share(level_share_df, 'paid')"
   ]
  },
  {
   "cell_type": "code",
   "execution_count": 311,
   "metadata": {},
   "outputs": [
    {
     "data": {
      "image/png": "[encoded data removed]",
      "text/plain": [
       "<matplotlib.figure.Figure at 0x17137362a20>"
      ]
     },
     "metadata": {},
     "output_type": "display_data"
    }
   ],
   "source": [
    "plot_level_share(level_share_df, 'free')"
   ]
  },
  {
   "cell_type": "markdown",
   "metadata": {},
   "source": [
    "#### Song-Time level\n",
    "Song statistics per day"
   ]
  },
  {
   "cell_type": "code",
   "execution_count": 223,
   "metadata": {},
   "outputs": [
    {
     "data": {
      "text/plain": [
       "datetime.date(2020, 8, 2)"
      ]
     },
     "execution_count": 223,
     "metadata": {},
     "output_type": "execute_result"
    }
   ],
   "source": [
    "datetime.datetime.now().date()"
   ]
  },
  {
   "cell_type": "code",
   "execution_count": 313,
   "metadata": {},
   "outputs": [],
   "source": [
    "song_count_df = data \\\n",
    "    .where(data.page == 'NextSong') \\\n",
    "    .groupby('date') \\\n",
    "    .count() \\\n",
    "    .sort('date') \\\n",
    "    .toPandas()"
   ]
  },
  {
   "cell_type": "code",
   "execution_count": 336,
   "metadata": {
    "collapsed": true
   },
   "outputs": [],
   "source": [
    "spark.conf.set(\"spark.sql.legacy.timeParserPolicy\",\"LEGACY\")"
   ]
  },
  {
   "cell_type": "code",
   "execution_count": 337,
   "metadata": {
    "collapsed": true
   },
   "outputs": [
    {
     "name": "stdout",
     "output_type": "stream",
     "text": [
      "+--------------------+---------+------+-------------+---------+-----+------+---------------+-------------+---------+--------------------+------+-------------+--------------------+------+-------------------+-------------------+------+-----+-----+---------+-------------+---------+----------+----+\n",
      "|              artist|     auth|gender|itemInSession|   length|level|method|           page| registration|sessionId|                song|status|           ts|           userAgent|userId|            regDate|             tsDate|  city|state|churn|userRowId|userRowDescId|lastLevel|      date|week|\n",
      "+--------------------+---------+------+-------------+---------+-----+------+---------------+-------------+---------+--------------------+------+-------------+--------------------+------+-------------------+-------------------+------+-----+-----+---------+-------------+---------+----------+----+\n",
      "|                null|Logged In|     M|           98|     null| paid|   GET|      Downgrade|1538159495000|     1981|                null|   200|1542631788000|\"Mozilla/5.0 (Mac...|    10|2018-09-28 20:31:35|2018-11-19 13:49:48|Laurel|   MS|    0|      795|            1|     paid|2018-11-19|  47|\n",
      "|     Girls in Hawaii|Logged In|     M|           97|255.65995| paid|   PUT|       NextSong|1538159495000|     1981|        Summer Storm|   200|1542631753000|\"Mozilla/5.0 (Mac...|    10|2018-09-28 20:31:35|2018-11-19 13:49:13|Laurel|   MS|    0|      794|            2|     paid|2018-11-19|  47|\n",
      "|                null|Logged In|     M|           96|     null| paid|   GET|           Home|1538159495000|     1981|                null|   200|1542631690000|\"Mozilla/5.0 (Mac...|    10|2018-09-28 20:31:35|2018-11-19 13:48:10|Laurel|   MS|    0|      793|            3|     paid|2018-11-19|  47|\n",
      "|                null|Logged In|     M|           93|     null| paid|   PUT|         Logout|1538159495000|     1981|                null|   307|1542631518000|\"Mozilla/5.0 (Mac...|    10|2018-09-28 20:31:35|2018-11-19 13:45:18|Laurel|   MS|    0|      792|            4|     paid|2018-11-19|  47|\n",
      "|    Five Iron Frenzy|Logged In|     M|           92|236.09424| paid|   PUT|       NextSong|1538159495000|     1981|              Canada|   200|1542631517000|\"Mozilla/5.0 (Mac...|    10|2018-09-28 20:31:35|2018-11-19 13:45:17|Laurel|   MS|    0|      791|            5|     paid|2018-11-19|  47|\n",
      "|     Ella Fitzgerald|Logged In|     M|           91|427.15383| paid|   PUT|       NextSong|1538159495000|     1981|On Green Dolphin ...|   200|1542631090000|\"Mozilla/5.0 (Mac...|    10|2018-09-28 20:31:35|2018-11-19 13:38:10|Laurel|   MS|    0|      790|            6|     paid|2018-11-19|  47|\n",
      "|              Twista|Logged In|     M|           90|224.07791| paid|   PUT|       NextSong|1538159495000|     1981|Sunshine (Feat. A...|   200|1542630866000|\"Mozilla/5.0 (Mac...|    10|2018-09-28 20:31:35|2018-11-19 13:34:26|Laurel|   MS|    0|      789|            7|     paid|2018-11-19|  47|\n",
      "|      The Cat Empire|Logged In|     M|           89|229.04118| paid|   PUT|       NextSong|1538159495000|     1981|               Hello|   200|1542630637000|\"Mozilla/5.0 (Mac...|    10|2018-09-28 20:31:35|2018-11-19 13:30:37|Laurel|   MS|    0|      788|            8|     paid|2018-11-19|  47|\n",
      "|                null|Logged In|     M|           88|     null| paid|   PUT|Add to Playlist|1538159495000|     1981|                null|   200|1542630407000|\"Mozilla/5.0 (Mac...|    10|2018-09-28 20:31:35|2018-11-19 13:26:47|Laurel|   MS|    0|      787|            9|     paid|2018-11-19|  47|\n",
      "|             Orishas|Logged In|     M|           87|243.66975| paid|   PUT|       NextSong|1538159495000|     1981|         A Lo Cubano|   200|1542630394000|\"Mozilla/5.0 (Mac...|    10|2018-09-28 20:31:35|2018-11-19 13:26:34|Laurel|   MS|    0|      786|           10|     paid|2018-11-19|  47|\n",
      "|                null|Logged In|     M|           86|     null| paid|   PUT|      Thumbs Up|1538159495000|     1981|                null|   307|1542630248000|\"Mozilla/5.0 (Mac...|    10|2018-09-28 20:31:35|2018-11-19 13:24:08|Laurel|   MS|    0|      785|           11|     paid|2018-11-19|  47|\n",
      "|           Morrissey|Logged In|     M|           85|147.30404| paid|   PUT|       NextSong|1538159495000|     1981|Let The Right One...|   200|1542630247000|\"Mozilla/5.0 (Mac...|    10|2018-09-28 20:31:35|2018-11-19 13:24:07|Laurel|   MS|    0|      784|           12|     paid|2018-11-19|  47|\n",
      "|David Banner / Li...|Logged In|     M|           84|218.14812| paid|   PUT|       NextSong|1538159495000|     1981|          Shawty Say|   200|1542630029000|\"Mozilla/5.0 (Mac...|    10|2018-09-28 20:31:35|2018-11-19 13:20:29|Laurel|   MS|    0|      783|           13|     paid|2018-11-19|  47|\n",
      "|               Stars|Logged In|     M|           83|168.54159| paid|   PUT|       NextSong|1538159495000|     1981|    Bitches In Tokyo|   200|1542629861000|\"Mozilla/5.0 (Mac...|    10|2018-09-28 20:31:35|2018-11-19 13:17:41|Laurel|   MS|    0|      782|           14|     paid|2018-11-19|  47|\n",
      "| Angus & Julia Stone|Logged In|     M|           82|225.27955| paid|   PUT|       NextSong|1538159495000|     1981|     Paper Aeroplane|   200|1542629636000|\"Mozilla/5.0 (Mac...|    10|2018-09-28 20:31:35|2018-11-19 13:13:56|Laurel|   MS|    0|      781|           15|     paid|2018-11-19|  47|\n",
      "|                Jorn|Logged In|     M|           81|172.14649| paid|   PUT|       NextSong|1538159495000|     1981|           Christine|   200|1542629464000|\"Mozilla/5.0 (Mac...|    10|2018-09-28 20:31:35|2018-11-19 13:11:04|Laurel|   MS|    0|      780|           16|     paid|2018-11-19|  47|\n",
      "|            Paramore|Logged In|     M|           80|226.29832| paid|   PUT|       NextSong|1538159495000|     1981|Here We Go Again ...|   200|1542629238000|\"Mozilla/5.0 (Mac...|    10|2018-09-28 20:31:35|2018-11-19 13:07:18|Laurel|   MS|    0|      779|           17|     paid|2018-11-19|  47|\n",
      "|                null|Logged In|     M|           79|     null| paid|   PUT|      Thumbs Up|1538159495000|     1981|                null|   307|1542629029000|\"Mozilla/5.0 (Mac...|    10|2018-09-28 20:31:35|2018-11-19 13:03:49|Laurel|   MS|    0|      778|           18|     paid|2018-11-19|  47|\n",
      "|        Deepest Blue|Logged In|     M|           78|210.54649| paid|   PUT|       NextSong|1538159495000|     1981|        Deepest Blue|   200|1542629028000|\"Mozilla/5.0 (Mac...|    10|2018-09-28 20:31:35|2018-11-19 13:03:48|Laurel|   MS|    0|      777|           19|     paid|2018-11-19|  47|\n",
      "|        Taylor Swift|Logged In|     M|           77|230.47791| paid|   PUT|       NextSong|1538159495000|     1981|  You Belong With Me|   200|1542628798000|\"Mozilla/5.0 (Mac...|    10|2018-09-28 20:31:35|2018-11-19 12:59:58|Laurel|   MS|    0|      776|           20|     paid|2018-11-19|  47|\n",
      "+--------------------+---------+------+-------------+---------+-----+------+---------------+-------------+---------+--------------------+------+-------------+--------------------+------+-------------------+-------------------+------+-----+-----+---------+-------------+---------+----------+----+\n",
      "only showing top 20 rows\n",
      "\n"
     ]
    }
   ],
   "source": [
    "data \\\n",
    "    .where(data.userId == '10') \\\n",
    "    .withColumn('week', date_format('date', 'w')) \\\n",
    "    .show()"
   ]
  },
  {
   "cell_type": "code",
   "execution_count": null,
   "metadata": {
    "scrolled": false
   },
   "outputs": [],
   "source": [
    "data \\\n",
    "    .where(data.page == 'NextSong') \\\n",
    "    .groupby('date') \\\n",
    "    .count() \\\n",
    "    .withColumn('week', date_format('date', 'w')) \\\n",
    "    .groupby('week') \\\n",
    "    .count() \\\n",
    "    .sort('week') \\\n",
    "    .show()"
   ]
  },
  {
   "cell_type": "code",
   "execution_count": 322,
   "metadata": {},
   "outputs": [
    {
     "ename": "AttributeError",
     "evalue": "'Series' object has no attribute 'isocalendar'",
     "output_type": "error",
     "traceback": [
      "\u001b[1;31m---------------------------------------------------------------------------\u001b[0m",
      "\u001b[1;31mAttributeError\u001b[0m                            Traceback (most recent call last)",
      "\u001b[1;32m<ipython-input-322-fb1bbc2815d8>\u001b[0m in \u001b[0;36m<module>\u001b[1;34m()\u001b[0m\n\u001b[1;32m----> 1\u001b[1;33m \u001b[0msong_weekcount_df\u001b[0m \u001b[1;33m=\u001b[0m \u001b[0msong_count_df\u001b[0m     \u001b[1;33m.\u001b[0m\u001b[0mgroupby\u001b[0m\u001b[1;33m(\u001b[0m\u001b[0msong_count_df\u001b[0m\u001b[1;33m.\u001b[0m\u001b[0mdate\u001b[0m\u001b[1;33m.\u001b[0m\u001b[0misocalendar\u001b[0m\u001b[1;33m(\u001b[0m\u001b[1;33m)\u001b[0m\u001b[1;33m[\u001b[0m\u001b[1;36m1\u001b[0m\u001b[1;33m]\u001b[0m\u001b[1;33m)\u001b[0m     \u001b[1;33m.\u001b[0m\u001b[0msize\u001b[0m\u001b[1;33m(\u001b[0m\u001b[1;33m)\u001b[0m\u001b[1;33m\u001b[0m\u001b[0m\n\u001b[0m",
      "\u001b[1;32mC:\\ProgramData\\Anaconda3\\lib\\site-packages\\pandas\\core\\generic.py\u001b[0m in \u001b[0;36m__getattr__\u001b[1;34m(self, name)\u001b[0m\n\u001b[0;32m   4374\u001b[0m             \u001b[1;32mif\u001b[0m \u001b[0mself\u001b[0m\u001b[1;33m.\u001b[0m\u001b[0m_info_axis\u001b[0m\u001b[1;33m.\u001b[0m\u001b[0m_can_hold_identifiers_and_holds_name\u001b[0m\u001b[1;33m(\u001b[0m\u001b[0mname\u001b[0m\u001b[1;33m)\u001b[0m\u001b[1;33m:\u001b[0m\u001b[1;33m\u001b[0m\u001b[0m\n\u001b[0;32m   4375\u001b[0m                 \u001b[1;32mreturn\u001b[0m \u001b[0mself\u001b[0m\u001b[1;33m[\u001b[0m\u001b[0mname\u001b[0m\u001b[1;33m]\u001b[0m\u001b[1;33m\u001b[0m\u001b[0m\n\u001b[1;32m-> 4376\u001b[1;33m             \u001b[1;32mreturn\u001b[0m \u001b[0mobject\u001b[0m\u001b[1;33m.\u001b[0m\u001b[0m__getattribute__\u001b[0m\u001b[1;33m(\u001b[0m\u001b[0mself\u001b[0m\u001b[1;33m,\u001b[0m \u001b[0mname\u001b[0m\u001b[1;33m)\u001b[0m\u001b[1;33m\u001b[0m\u001b[0m\n\u001b[0m\u001b[0;32m   4377\u001b[0m \u001b[1;33m\u001b[0m\u001b[0m\n\u001b[0;32m   4378\u001b[0m     \u001b[1;32mdef\u001b[0m \u001b[0m__setattr__\u001b[0m\u001b[1;33m(\u001b[0m\u001b[0mself\u001b[0m\u001b[1;33m,\u001b[0m \u001b[0mname\u001b[0m\u001b[1;33m,\u001b[0m \u001b[0mvalue\u001b[0m\u001b[1;33m)\u001b[0m\u001b[1;33m:\u001b[0m\u001b[1;33m\u001b[0m\u001b[0m\n",
      "\u001b[1;31mAttributeError\u001b[0m: 'Series' object has no attribute 'isocalendar'"
     ]
    }
   ],
   "source": [
    "song_weekcount_df = song_count_df \\\n",
    "    .groupby(song_count_df.date) \\\n",
    "    .size()"
   ]
  },
  {
   "cell_type": "code",
   "execution_count": 317,
   "metadata": {
    "collapsed": true
   },
   "outputs": [
    {
     "data": {
      "text/html": [
       "<div>\n",
       "<style scoped>\n",
       "    .dataframe tbody tr th:only-of-type {\n",
       "        vertical-align: middle;\n",
       "    }\n",
       "\n",
       "    .dataframe tbody tr th {\n",
       "        vertical-align: top;\n",
       "    }\n",
       "\n",
       "    .dataframe thead th {\n",
       "        text-align: right;\n",
       "    }\n",
       "</style>\n",
       "<table border=\"1\" class=\"dataframe\">\n",
       "  <thead>\n",
       "    <tr style=\"text-align: right;\">\n",
       "      <th></th>\n",
       "      <th>date</th>\n",
       "      <th>count</th>\n",
       "    </tr>\n",
       "  </thead>\n",
       "  <tbody>\n",
       "    <tr>\n",
       "      <th>0</th>\n",
       "      <td>2018-10-01</td>\n",
       "      <td>3075</td>\n",
       "    </tr>\n",
       "    <tr>\n",
       "      <th>1</th>\n",
       "      <td>2018-10-02</td>\n",
       "      <td>3322</td>\n",
       "    </tr>\n",
       "    <tr>\n",
       "      <th>2</th>\n",
       "      <td>2018-10-03</td>\n",
       "      <td>3454</td>\n",
       "    </tr>\n",
       "    <tr>\n",
       "      <th>3</th>\n",
       "      <td>2018-10-04</td>\n",
       "      <td>3625</td>\n",
       "    </tr>\n",
       "    <tr>\n",
       "      <th>4</th>\n",
       "      <td>2018-10-05</td>\n",
       "      <td>3503</td>\n",
       "    </tr>\n",
       "    <tr>\n",
       "      <th>5</th>\n",
       "      <td>2018-10-06</td>\n",
       "      <td>3145</td>\n",
       "    </tr>\n",
       "    <tr>\n",
       "      <th>6</th>\n",
       "      <td>2018-10-07</td>\n",
       "      <td>2328</td>\n",
       "    </tr>\n",
       "    <tr>\n",
       "      <th>7</th>\n",
       "      <td>2018-10-08</td>\n",
       "      <td>3941</td>\n",
       "    </tr>\n",
       "    <tr>\n",
       "      <th>8</th>\n",
       "      <td>2018-10-09</td>\n",
       "      <td>4434</td>\n",
       "    </tr>\n",
       "    <tr>\n",
       "      <th>9</th>\n",
       "      <td>2018-10-10</td>\n",
       "      <td>5121</td>\n",
       "    </tr>\n",
       "    <tr>\n",
       "      <th>10</th>\n",
       "      <td>2018-10-11</td>\n",
       "      <td>4696</td>\n",
       "    </tr>\n",
       "    <tr>\n",
       "      <th>11</th>\n",
       "      <td>2018-10-12</td>\n",
       "      <td>4428</td>\n",
       "    </tr>\n",
       "    <tr>\n",
       "      <th>12</th>\n",
       "      <td>2018-10-13</td>\n",
       "      <td>2533</td>\n",
       "    </tr>\n",
       "    <tr>\n",
       "      <th>13</th>\n",
       "      <td>2018-10-14</td>\n",
       "      <td>2100</td>\n",
       "    </tr>\n",
       "    <tr>\n",
       "      <th>14</th>\n",
       "      <td>2018-10-15</td>\n",
       "      <td>4071</td>\n",
       "    </tr>\n",
       "    <tr>\n",
       "      <th>15</th>\n",
       "      <td>2018-10-16</td>\n",
       "      <td>4612</td>\n",
       "    </tr>\n",
       "    <tr>\n",
       "      <th>16</th>\n",
       "      <td>2018-10-17</td>\n",
       "      <td>4417</td>\n",
       "    </tr>\n",
       "    <tr>\n",
       "      <th>17</th>\n",
       "      <td>2018-10-18</td>\n",
       "      <td>4253</td>\n",
       "    </tr>\n",
       "    <tr>\n",
       "      <th>18</th>\n",
       "      <td>2018-10-19</td>\n",
       "      <td>4446</td>\n",
       "    </tr>\n",
       "    <tr>\n",
       "      <th>19</th>\n",
       "      <td>2018-10-20</td>\n",
       "      <td>4925</td>\n",
       "    </tr>\n",
       "    <tr>\n",
       "      <th>20</th>\n",
       "      <td>2018-10-21</td>\n",
       "      <td>2595</td>\n",
       "    </tr>\n",
       "    <tr>\n",
       "      <th>21</th>\n",
       "      <td>2018-10-22</td>\n",
       "      <td>3922</td>\n",
       "    </tr>\n",
       "    <tr>\n",
       "      <th>22</th>\n",
       "      <td>2018-10-23</td>\n",
       "      <td>3421</td>\n",
       "    </tr>\n",
       "    <tr>\n",
       "      <th>23</th>\n",
       "      <td>2018-10-24</td>\n",
       "      <td>4677</td>\n",
       "    </tr>\n",
       "    <tr>\n",
       "      <th>24</th>\n",
       "      <td>2018-10-25</td>\n",
       "      <td>4253</td>\n",
       "    </tr>\n",
       "    <tr>\n",
       "      <th>25</th>\n",
       "      <td>2018-10-26</td>\n",
       "      <td>3358</td>\n",
       "    </tr>\n",
       "    <tr>\n",
       "      <th>26</th>\n",
       "      <td>2018-10-27</td>\n",
       "      <td>3103</td>\n",
       "    </tr>\n",
       "    <tr>\n",
       "      <th>27</th>\n",
       "      <td>2018-10-28</td>\n",
       "      <td>1834</td>\n",
       "    </tr>\n",
       "    <tr>\n",
       "      <th>28</th>\n",
       "      <td>2018-10-29</td>\n",
       "      <td>4648</td>\n",
       "    </tr>\n",
       "    <tr>\n",
       "      <th>29</th>\n",
       "      <td>2018-10-30</td>\n",
       "      <td>5413</td>\n",
       "    </tr>\n",
       "    <tr>\n",
       "      <th>...</th>\n",
       "      <td>...</td>\n",
       "      <td>...</td>\n",
       "    </tr>\n",
       "    <tr>\n",
       "      <th>33</th>\n",
       "      <td>2018-11-03</td>\n",
       "      <td>3380</td>\n",
       "    </tr>\n",
       "    <tr>\n",
       "      <th>34</th>\n",
       "      <td>2018-11-04</td>\n",
       "      <td>2023</td>\n",
       "    </tr>\n",
       "    <tr>\n",
       "      <th>35</th>\n",
       "      <td>2018-11-05</td>\n",
       "      <td>3249</td>\n",
       "    </tr>\n",
       "    <tr>\n",
       "      <th>36</th>\n",
       "      <td>2018-11-06</td>\n",
       "      <td>3765</td>\n",
       "    </tr>\n",
       "    <tr>\n",
       "      <th>37</th>\n",
       "      <td>2018-11-07</td>\n",
       "      <td>3599</td>\n",
       "    </tr>\n",
       "    <tr>\n",
       "      <th>38</th>\n",
       "      <td>2018-11-08</td>\n",
       "      <td>3120</td>\n",
       "    </tr>\n",
       "    <tr>\n",
       "      <th>39</th>\n",
       "      <td>2018-11-09</td>\n",
       "      <td>4812</td>\n",
       "    </tr>\n",
       "    <tr>\n",
       "      <th>40</th>\n",
       "      <td>2018-11-10</td>\n",
       "      <td>2740</td>\n",
       "    </tr>\n",
       "    <tr>\n",
       "      <th>41</th>\n",
       "      <td>2018-11-11</td>\n",
       "      <td>2398</td>\n",
       "    </tr>\n",
       "    <tr>\n",
       "      <th>42</th>\n",
       "      <td>2018-11-12</td>\n",
       "      <td>2804</td>\n",
       "    </tr>\n",
       "    <tr>\n",
       "      <th>43</th>\n",
       "      <td>2018-11-13</td>\n",
       "      <td>4053</td>\n",
       "    </tr>\n",
       "    <tr>\n",
       "      <th>44</th>\n",
       "      <td>2018-11-14</td>\n",
       "      <td>3777</td>\n",
       "    </tr>\n",
       "    <tr>\n",
       "      <th>45</th>\n",
       "      <td>2018-11-15</td>\n",
       "      <td>4546</td>\n",
       "    </tr>\n",
       "    <tr>\n",
       "      <th>46</th>\n",
       "      <td>2018-11-16</td>\n",
       "      <td>4518</td>\n",
       "    </tr>\n",
       "    <tr>\n",
       "      <th>47</th>\n",
       "      <td>2018-11-17</td>\n",
       "      <td>2020</td>\n",
       "    </tr>\n",
       "    <tr>\n",
       "      <th>48</th>\n",
       "      <td>2018-11-18</td>\n",
       "      <td>1900</td>\n",
       "    </tr>\n",
       "    <tr>\n",
       "      <th>49</th>\n",
       "      <td>2018-11-19</td>\n",
       "      <td>3674</td>\n",
       "    </tr>\n",
       "    <tr>\n",
       "      <th>50</th>\n",
       "      <td>2018-11-20</td>\n",
       "      <td>4339</td>\n",
       "    </tr>\n",
       "    <tr>\n",
       "      <th>51</th>\n",
       "      <td>2018-11-21</td>\n",
       "      <td>5264</td>\n",
       "    </tr>\n",
       "    <tr>\n",
       "      <th>52</th>\n",
       "      <td>2018-11-22</td>\n",
       "      <td>2631</td>\n",
       "    </tr>\n",
       "    <tr>\n",
       "      <th>53</th>\n",
       "      <td>2018-11-23</td>\n",
       "      <td>4536</td>\n",
       "    </tr>\n",
       "    <tr>\n",
       "      <th>54</th>\n",
       "      <td>2018-11-24</td>\n",
       "      <td>2183</td>\n",
       "    </tr>\n",
       "    <tr>\n",
       "      <th>55</th>\n",
       "      <td>2018-11-25</td>\n",
       "      <td>2335</td>\n",
       "    </tr>\n",
       "    <tr>\n",
       "      <th>56</th>\n",
       "      <td>2018-11-26</td>\n",
       "      <td>4659</td>\n",
       "    </tr>\n",
       "    <tr>\n",
       "      <th>57</th>\n",
       "      <td>2018-11-27</td>\n",
       "      <td>5011</td>\n",
       "    </tr>\n",
       "    <tr>\n",
       "      <th>58</th>\n",
       "      <td>2018-11-28</td>\n",
       "      <td>3961</td>\n",
       "    </tr>\n",
       "    <tr>\n",
       "      <th>59</th>\n",
       "      <td>2018-11-29</td>\n",
       "      <td>3208</td>\n",
       "    </tr>\n",
       "    <tr>\n",
       "      <th>60</th>\n",
       "      <td>2018-11-30</td>\n",
       "      <td>3647</td>\n",
       "    </tr>\n",
       "    <tr>\n",
       "      <th>61</th>\n",
       "      <td>2018-12-01</td>\n",
       "      <td>130</td>\n",
       "    </tr>\n",
       "    <tr>\n",
       "      <th>62</th>\n",
       "      <td>2018-12-03</td>\n",
       "      <td>1</td>\n",
       "    </tr>\n",
       "  </tbody>\n",
       "</table>\n",
       "<p>63 rows × 2 columns</p>\n",
       "</div>"
      ],
      "text/plain": [
       "          date  count\n",
       "0   2018-10-01   3075\n",
       "1   2018-10-02   3322\n",
       "2   2018-10-03   3454\n",
       "3   2018-10-04   3625\n",
       "4   2018-10-05   3503\n",
       "5   2018-10-06   3145\n",
       "6   2018-10-07   2328\n",
       "7   2018-10-08   3941\n",
       "8   2018-10-09   4434\n",
       "9   2018-10-10   5121\n",
       "10  2018-10-11   4696\n",
       "11  2018-10-12   4428\n",
       "12  2018-10-13   2533\n",
       "13  2018-10-14   2100\n",
       "14  2018-10-15   4071\n",
       "15  2018-10-16   4612\n",
       "16  2018-10-17   4417\n",
       "17  2018-10-18   4253\n",
       "18  2018-10-19   4446\n",
       "19  2018-10-20   4925\n",
       "20  2018-10-21   2595\n",
       "21  2018-10-22   3922\n",
       "22  2018-10-23   3421\n",
       "23  2018-10-24   4677\n",
       "24  2018-10-25   4253\n",
       "25  2018-10-26   3358\n",
       "26  2018-10-27   3103\n",
       "27  2018-10-28   1834\n",
       "28  2018-10-29   4648\n",
       "29  2018-10-30   5413\n",
       "..         ...    ...\n",
       "33  2018-11-03   3380\n",
       "34  2018-11-04   2023\n",
       "35  2018-11-05   3249\n",
       "36  2018-11-06   3765\n",
       "37  2018-11-07   3599\n",
       "38  2018-11-08   3120\n",
       "39  2018-11-09   4812\n",
       "40  2018-11-10   2740\n",
       "41  2018-11-11   2398\n",
       "42  2018-11-12   2804\n",
       "43  2018-11-13   4053\n",
       "44  2018-11-14   3777\n",
       "45  2018-11-15   4546\n",
       "46  2018-11-16   4518\n",
       "47  2018-11-17   2020\n",
       "48  2018-11-18   1900\n",
       "49  2018-11-19   3674\n",
       "50  2018-11-20   4339\n",
       "51  2018-11-21   5264\n",
       "52  2018-11-22   2631\n",
       "53  2018-11-23   4536\n",
       "54  2018-11-24   2183\n",
       "55  2018-11-25   2335\n",
       "56  2018-11-26   4659\n",
       "57  2018-11-27   5011\n",
       "58  2018-11-28   3961\n",
       "59  2018-11-29   3208\n",
       "60  2018-11-30   3647\n",
       "61  2018-12-01    130\n",
       "62  2018-12-03      1\n",
       "\n",
       "[63 rows x 2 columns]"
      ]
     },
     "execution_count": 317,
     "metadata": {},
     "output_type": "execute_result"
    }
   ],
   "source": [
    "song_count_df"
   ]
  },
  {
   "cell_type": "code",
   "execution_count": 320,
   "metadata": {},
   "outputs": [
    {
     "data": {
      "text/plain": [
       "39"
      ]
     },
     "execution_count": 320,
     "metadata": {},
     "output_type": "execute_result"
    }
   ],
   "source": [
    "get_default_date().isocalendar()[1]"
   ]
  },
  {
   "cell_type": "code",
   "execution_count": 318,
   "metadata": {},
   "outputs": [
    {
     "data": {
      "image/png": "[encoded data removed]",
      "text/plain": [
       "<matplotlib.figure.Figure at 0x171313da4a8>"
      ]
     },
     "metadata": {},
     "output_type": "display_data"
    }
   ],
   "source": [
    "# Prepare agg totals per day and churn group\n",
    "\n",
    "# Plot\n",
    "fig, ax = plt.subplots()\n",
    "fig.set_size_inches(15, 5)\n",
    "\n",
    "ax.plot(song_count_df['date'], song_count_df['count'])\n",
    "\n",
    "ax.set(xlabel='day', ylabel='count', title='Song count')\n",
    "ax.grid()\n",
    "plt.xticks(rotation = 45);\n",
    "plt.show()"
   ]
  },
  {
   "cell_type": "code",
   "execution_count": null,
   "metadata": {
    "collapsed": true
   },
   "outputs": [],
   "source": []
  },
  {
   "cell_type": "code",
   "execution_count": null,
   "metadata": {
    "collapsed": true
   },
   "outputs": [],
   "source": []
  },
  {
   "cell_type": "code",
   "execution_count": null,
   "metadata": {
    "collapsed": true
   },
   "outputs": [],
   "source": []
  },
  {
   "cell_type": "markdown",
   "metadata": {},
   "source": [
    "#### Session"
   ]
  },
  {
   "cell_type": "code",
   "execution_count": 137,
   "metadata": {
    "collapsed": true
   },
   "outputs": [],
   "source": [
    "# Prepare dataset\n",
    "df = data.groupby('userId', 'churn', 'sessionId') \\\n",
    "    .agg(count('sessionId').alias('logCount'), ((max('ts') - min('ts'))/60000.0).alias('duration')) \\\n",
    "    .groupby('userId', 'churn') \\\n",
    "    .agg(avg('logCount').alias('avgLogsPerSession'), \\\n",
    "         avg('duration').alias('avgDurationPerSession')) \\\n",
    "    .toPandas()"
   ]
  },
  {
   "cell_type": "markdown",
   "metadata": {},
   "source": [
    "#### Session: Average logs per user session"
   ]
  },
  {
   "cell_type": "code",
   "execution_count": 139,
   "metadata": {},
   "outputs": [
    {
     "data": {
      "image/png": "[encoded data removed]",
      "text/plain": [
       "<Figure size 864x288 with 1 Axes>"
      ]
     },
     "metadata": {
      "needs_background": "light"
     },
     "output_type": "display_data"
    }
   ],
   "source": [
    "# plot\n",
    "plt.figure(figsize=(12, 4))\n",
    "plt.hist(df[df.churn == 0]['avgLogsPerSession'], alpha = 0.5, label=\"churned\", bins = 20)\n",
    "plt.hist(df[df.churn == 1]['avgLogsPerSession'], alpha = 0.5, label=\"active\", bins = 20)\n",
    "plt.xlabel('Average logs per user session')\n",
    "ax = plt.gca()\n",
    "ax.set_title('Churn vs. Activity (logs per session on average)');\n",
    "plt.legend(loc='upper right')\n",
    "plt.show()"
   ]
  },
  {
   "cell_type": "markdown",
   "metadata": {},
   "source": [
    "#### Session: Average duration logs per user session"
   ]
  },
  {
   "cell_type": "code",
   "execution_count": 140,
   "metadata": {},
   "outputs": [
    {
     "data": {
      "image/png": "[encoded data removed]",
      "text/plain": [
       "<Figure size 864x288 with 1 Axes>"
      ]
     },
     "metadata": {
      "needs_background": "light"
     },
     "output_type": "display_data"
    }
   ],
   "source": [
    "plt.figure(figsize=(12, 4))\n",
    "plt.hist(df[df.churn == 0]['avgDurationPerSession'], alpha = 0.5, label=\"churned\", bins = 20)\n",
    "plt.hist(df[df.churn == 1]['avgDurationPerSession'], alpha = 0.5, label=\"active\", bins = 20)\n",
    "plt.xlabel('Average duration')\n",
    "ax = plt.gca()\n",
    "ax.set_title('Churn vs. Activity (duration per session on average)');\n",
    "plt.legend(loc='upper right')\n",
    "plt.show()"
   ]
  },
  {
   "cell_type": "code",
   "execution_count": null,
   "metadata": {
    "collapsed": true
   },
   "outputs": [],
   "source": []
  },
  {
   "cell_type": "markdown",
   "metadata": {},
   "source": [
    "# Feature Engineering\n",
    "Once you've familiarized yourself with the data, build out the features you find promising to train your model on. To work with the full dataset, you can follow the following steps.\n",
    "- Write a script to extract the necessary features from the smaller subset of data\n",
    "- Ensure that your script is scalable, using the best practices discussed in Lesson 3\n",
    "- Try your script on the full data set, debugging your script if necessary\n",
    "\n",
    "If you are working in the classroom workspace, you can just extract features based on the small subset of data contained here. Be sure to transfer over this work to the larger dataset when you work on your Spark cluster."
   ]
  },
  {
   "cell_type": "code",
   "execution_count": null,
   "metadata": {
    "collapsed": true
   },
   "outputs": [],
   "source": []
  },
  {
   "cell_type": "markdown",
   "metadata": {},
   "source": [
    "# Modeling\n",
    "Split the full dataset into train, test, and validation sets. Test out several of the machine learning methods you learned. Evaluate the accuracy of the various models, tuning parameters as necessary. Determine your winning model based on test accuracy and report results on the validation set. Since the churned users are a fairly small subset, I suggest using F1 score as the metric to optimize."
   ]
  },
  {
   "cell_type": "code",
   "execution_count": null,
   "metadata": {
    "collapsed": true
   },
   "outputs": [],
   "source": []
  },
  {
   "cell_type": "markdown",
   "metadata": {},
   "source": [
    "# Final Steps\n",
    "Clean up your code, adding comments and renaming variables to make the code easier to read and maintain. Refer to the Spark Project Overview page and Data Scientist Capstone Project Rubric to make sure you are including all components of the capstone project and meet all expectations. Remember, this includes thorough documentation in a README file in a Github repository, as well as a web app or blog post."
   ]
  },
  {
   "cell_type": "code",
   "execution_count": null,
   "metadata": {
    "collapsed": true
   },
   "outputs": [],
   "source": []
  }
 ],
 "metadata": {
  "kernelspec": {
   "display_name": "Python 3",
   "language": "python",
   "name": "python3"
  },
  "language_info": {
   "codemirror_mode": {
    "name": "ipython",
    "version": 3
   },
   "file_extension": ".py",
   "mimetype": "text/x-python",
   "name": "python",
   "nbconvert_exporter": "python",
   "pygments_lexer": "ipython3",
   "version": "3.6.3"
  }
 },
 "nbformat": 4,
 "nbformat_minor": 2
}
