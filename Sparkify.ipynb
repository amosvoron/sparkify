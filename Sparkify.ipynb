{
 "cells": [
  {
   "cell_type": "markdown",
   "metadata": {},
   "source": [
    "# Sparkify Project Workspace\n",
    "This workspace contains a tiny subset (128MB) of the full dataset available (12GB). Feel free to use this workspace to build your project, or to explore a smaller subset with Spark before deploying your cluster on the cloud. Instructions for setting up your Spark cluster is included in the last lesson of the Extracurricular Spark Course content.\n",
    "\n",
    "You can follow the steps below to guide your data analysis and model building portion of this project."
   ]
  },
  {
   "cell_type": "code",
   "execution_count": 86,
   "metadata": {
    "collapsed": true
   },
   "outputs": [],
   "source": [
    "# Import libraries\n",
    "from pyspark.sql import SparkSession\n",
    "from pyspark.sql.functions import isnan, count, when, col, desc, udf, col, sort_array, asc, \\\n",
    "                                  avg, from_unixtime, split, min, max, round, lit, mean\n",
    "from pyspark.sql.functions import sum as Fsum\n",
    "from pyspark.sql.functions import row_number\n",
    "from pyspark.sql.window import Window\n",
    "\n",
    "from pyspark.sql.types import IntegerType, TimestampType\n",
    "import datetime\n",
    "\n",
    "import numpy as np\n",
    "import pandas as pd\n",
    "%matplotlib inline\n",
    "import matplotlib.pyplot as plt\n",
    "import seaborn as sb"
   ]
  },
  {
   "cell_type": "code",
   "execution_count": 3,
   "metadata": {
    "collapsed": true
   },
   "outputs": [],
   "source": [
    "# Create a Spark session\n",
    "spark = SparkSession \\\n",
    "    .builder \\\n",
    "    .appName(\"Sparkify\") \\\n",
    "    .getOrCreate()"
   ]
  },
  {
   "cell_type": "markdown",
   "metadata": {},
   "source": [
    "# Load and Clean Dataset\n",
    "In this workspace, the mini-dataset file is `mini_sparkify_event_data.json`. Load and clean the dataset, checking for invalid or missing data - for example, records without userids or sessionids. "
   ]
  },
  {
   "cell_type": "code",
   "execution_count": 4,
   "metadata": {},
   "outputs": [
    {
     "data": {
      "text/plain": [
       "[Row(artist='Martha Tilston', auth='Logged In', firstName='Colin', gender='M', itemInSession=50, lastName='Freeman', length=277.89016, level='paid', location='Bakersfield, CA', method='PUT', page='NextSong', registration=1538173362000, sessionId=29, song='Rockpools', status=200, ts=1538352117000, userAgent='Mozilla/5.0 (Windows NT 6.1; WOW64; rv:31.0) Gecko/20100101 Firefox/31.0', userId='30'),\n",
       " Row(artist='Five Iron Frenzy', auth='Logged In', firstName='Micah', gender='M', itemInSession=79, lastName='Long', length=236.09424, level='free', location='Boston-Cambridge-Newton, MA-NH', method='PUT', page='NextSong', registration=1538331630000, sessionId=8, song='Canada', status=200, ts=1538352180000, userAgent='\"Mozilla/5.0 (Windows NT 6.1; WOW64) AppleWebKit/537.36 (KHTML, like Gecko) Chrome/37.0.2062.103 Safari/537.36\"', userId='9'),\n",
       " Row(artist='Adam Lambert', auth='Logged In', firstName='Colin', gender='M', itemInSession=51, lastName='Freeman', length=282.8273, level='paid', location='Bakersfield, CA', method='PUT', page='NextSong', registration=1538173362000, sessionId=29, song='Time For Miracles', status=200, ts=1538352394000, userAgent='Mozilla/5.0 (Windows NT 6.1; WOW64; rv:31.0) Gecko/20100101 Firefox/31.0', userId='30')]"
      ]
     },
     "execution_count": 4,
     "metadata": {},
     "output_type": "execute_result"
    }
   ],
   "source": [
    "# Load dataset\n",
    "path = \"data/mini_sparkify_event_data.json\"\n",
    "data = spark.read.json(path)\n",
    "original_count = data.count()\n",
    "data.take(3)"
   ]
  },
  {
   "cell_type": "markdown",
   "metadata": {},
   "source": [
    "### Dataset size, schema & column description"
   ]
  },
  {
   "cell_type": "code",
   "execution_count": 5,
   "metadata": {},
   "outputs": [
    {
     "name": "stdout",
     "output_type": "stream",
     "text": [
      "Row count: 286500\n",
      "Column count: 18\n"
     ]
    }
   ],
   "source": [
    "# Dataset size\n",
    "print(f'Row count: {original_count}')\n",
    "print(f'Column count: {len(data.columns)}')"
   ]
  },
  {
   "cell_type": "code",
   "execution_count": 6,
   "metadata": {},
   "outputs": [
    {
     "name": "stdout",
     "output_type": "stream",
     "text": [
      "root\n",
      " |-- artist: string (nullable = true)\n",
      " |-- auth: string (nullable = true)\n",
      " |-- firstName: string (nullable = true)\n",
      " |-- gender: string (nullable = true)\n",
      " |-- itemInSession: long (nullable = true)\n",
      " |-- lastName: string (nullable = true)\n",
      " |-- length: double (nullable = true)\n",
      " |-- level: string (nullable = true)\n",
      " |-- location: string (nullable = true)\n",
      " |-- method: string (nullable = true)\n",
      " |-- page: string (nullable = true)\n",
      " |-- registration: long (nullable = true)\n",
      " |-- sessionId: long (nullable = true)\n",
      " |-- song: string (nullable = true)\n",
      " |-- status: long (nullable = true)\n",
      " |-- ts: long (nullable = true)\n",
      " |-- userAgent: string (nullable = true)\n",
      " |-- userId: string (nullable = true)\n",
      "\n"
     ]
    }
   ],
   "source": [
    "# Schema\n",
    "data.printSchema()"
   ]
  },
  {
   "cell_type": "markdown",
   "metadata": {},
   "source": [
    "<p style=\"color:red\">TODO: column description</p>"
   ]
  },
  {
   "cell_type": "markdown",
   "metadata": {},
   "source": [
    "### Duplicate rows"
   ]
  },
  {
   "cell_type": "code",
   "execution_count": 7,
   "metadata": {},
   "outputs": [
    {
     "name": "stdout",
     "output_type": "stream",
     "text": [
      "Duplicate rows: 0\n"
     ]
    }
   ],
   "source": [
    "# Any duplicate rows? - No\n",
    "print(f'Duplicate rows: {data.count() - data.dropDuplicates().count()}')"
   ]
  },
  {
   "cell_type": "markdown",
   "metadata": {},
   "source": [
    "### Missing values"
   ]
  },
  {
   "cell_type": "code",
   "execution_count": 8,
   "metadata": {},
   "outputs": [
    {
     "name": "stdout",
     "output_type": "stream",
     "text": [
      "artist: 58392\n",
      "auth: 0\n",
      "firstName: 8346\n",
      "gender: 8346\n",
      "itemInSession: 0\n",
      "lastName: 8346\n",
      "length: 58392\n",
      "level: 0\n",
      "location: 8346\n",
      "method: 0\n",
      "page: 0\n",
      "registration: 8346\n",
      "sessionId: 0\n",
      "song: 58392\n",
      "status: 0\n",
      "ts: 0\n",
      "userAgent: 8346\n",
      "userId: 8346\n"
     ]
    }
   ],
   "source": [
    "# Filter by missing value (either null of empty - if string)\n",
    "def filter_missing(data, name):\n",
    "    return data.where((col(name).isNull()) | (col(name) == ''))\n",
    "\n",
    "# Show count of missing values for all columns in the dataset\n",
    "def show_missing(data):\n",
    "    for field in data.schema:\n",
    "        print(f'{field.name}: {filter_missing(data, field.name).count()}')\n",
    "        \n",
    "show_missing(data)"
   ]
  },
  {
   "cell_type": "code",
   "execution_count": 9,
   "metadata": {},
   "outputs": [
    {
     "name": "stdout",
     "output_type": "stream",
     "text": [
      "Missing count: 8346\n"
     ]
    }
   ],
   "source": [
    "# Are 8346 missing values in user's column firstName, gender, lastName, location, registration, userAgent, userId correlated \n",
    "# occurring in the same rows? - Yes\n",
    "\n",
    "class Missing:\n",
    "    missing_data = None\n",
    "    \n",
    "    def __init__(self, data):\n",
    "        self.missing_data = data\n",
    "        \n",
    "    def filter_missing(self, name):\n",
    "        self.missing_data = filter_missing(data, name) \n",
    "        return self  \n",
    "    \n",
    "m = Missing(data) \\\n",
    "    .filter_missing('userId') \\\n",
    "    .filter_missing('firstName') \\\n",
    "    .filter_missing('lastName') \\\n",
    "    .filter_missing('gender') \\\n",
    "    .filter_missing('location') \\\n",
    "    .filter_missing('registration') \\\n",
    "    .filter_missing('userAgent')\n",
    "print(f'Missing count: {m.missing_data.count()}')"
   ]
  },
  {
   "cell_type": "markdown",
   "metadata": {},
   "source": [
    "**What kind of user has a missing userId?**"
   ]
  },
  {
   "cell_type": "code",
   "execution_count": 10,
   "metadata": {},
   "outputs": [
    {
     "name": "stdout",
     "output_type": "stream",
     "text": [
      "+----------+\n",
      "|      auth|\n",
      "+----------+\n",
      "|Logged Out|\n",
      "|     Guest|\n",
      "+----------+\n",
      "\n"
     ]
    }
   ],
   "source": [
    "filter_missing(data, 'userId').select('auth').dropDuplicates().show()"
   ]
  },
  {
   "cell_type": "code",
   "execution_count": 11,
   "metadata": {},
   "outputs": [
    {
     "name": "stdout",
     "output_type": "stream",
     "text": [
      "+-------------------+\n",
      "|               page|\n",
      "+-------------------+\n",
      "|               Home|\n",
      "|              About|\n",
      "|Submit Registration|\n",
      "|              Login|\n",
      "|           Register|\n",
      "|               Help|\n",
      "|              Error|\n",
      "+-------------------+\n",
      "\n"
     ]
    }
   ],
   "source": [
    "filter_missing(data, 'userId').select('page').dropDuplicates().show()"
   ]
  },
  {
   "cell_type": "markdown",
   "metadata": {},
   "source": [
    "As we can see, the missing user is an **unregistered** user. \n",
    "\n",
    "**Can we safely remove the rows with missing users?**\n",
    "\n",
    "Yes, since our target, the *churned user*, is a **registered** user."
   ]
  },
  {
   "cell_type": "code",
   "execution_count": 9,
   "metadata": {},
   "outputs": [
    {
     "name": "stdout",
     "output_type": "stream",
     "text": [
      "artist: 50046\n",
      "auth: 0\n",
      "firstName: 0\n",
      "gender: 0\n",
      "itemInSession: 0\n",
      "lastName: 0\n",
      "length: 50046\n",
      "level: 0\n",
      "location: 0\n",
      "method: 0\n",
      "page: 0\n",
      "registration: 0\n",
      "sessionId: 0\n",
      "song: 50046\n",
      "status: 0\n",
      "ts: 0\n",
      "userAgent: 0\n",
      "userId: 0\n"
     ]
    }
   ],
   "source": [
    "# Remove rows with missing users\n",
    "data = data.where(~((col('userId').isNull()) | (col('userId') == '')))\n",
    "show_missing(data) "
   ]
  },
  {
   "cell_type": "code",
   "execution_count": 10,
   "metadata": {},
   "outputs": [
    {
     "data": {
      "text/plain": [
       "8346"
      ]
     },
     "execution_count": 10,
     "metadata": {},
     "output_type": "execute_result"
    }
   ],
   "source": [
    "# Check count of deleted rows\n",
    "original_count - data.count()"
   ]
  },
  {
   "cell_type": "markdown",
   "metadata": {},
   "source": [
    "### Remove unrelevant columns\n",
    "\n",
    "We identify 2 columns that are not relevant for our analysis:\n",
    "\n",
    "- *firstName* and *lastName* which depend on *userId* and do not provide any additional information relevant for the analysis that has not been already included in *userId*."
   ]
  },
  {
   "cell_type": "code",
   "execution_count": 11,
   "metadata": {},
   "outputs": [
    {
     "data": {
      "text/plain": [
       "225"
      ]
     },
     "execution_count": 11,
     "metadata": {},
     "output_type": "execute_result"
    }
   ],
   "source": [
    "# How many different keys (firstName, lastName) exist in our dataset?\n",
    "data.select('firstName', 'lastName').dropDuplicates().count()\n",
    "\n",
    "# 225 - The same as userIds"
   ]
  },
  {
   "cell_type": "code",
   "execution_count": 107,
   "metadata": {
    "collapsed": true
   },
   "outputs": [
    {
     "ename": "AnalysisException",
     "evalue": "cannot resolve '`firstName`' given input columns: [artist, auth, churn, city, gender, itemInSession, lastLevel, length, level, method, page, regDate, registration, sessionId, song, state, status, ts, tsDate, userAgent, userId, userRowDescId, userRowId];;\n'Project ['firstName, 'lastName, userid#24]\n+- Project [artist#7, auth#8, gender#10, itemInSession#11L, length#13, level#14, method#16, page#17, registration#18L, sessionId#19L, song#20, status#21L, ts#22L, userAgent#23, userId#24, regDate#1147, tsDate#1165, city#1200, state#1220, <lambda>(userId#24, churn#4593) AS churn#4788, userRowId#4641, userRowDescId#4664, lastLevel#4740]\n   +- Project [artist#7, auth#8, gender#10, itemInSession#11L, length#13, level#14, method#16, page#17, registration#18L, sessionId#19L, song#20, status#21L, ts#22L, userAgent#23, userId#24, regDate#1147, tsDate#1165, city#1200, state#1220, churn#4593, userRowId#4641, userRowDescId#4664, <lambda>(userId#24) AS lastLevel#4740]\n      +- Project [artist#7, auth#8, gender#10, itemInSession#11L, length#13, level#14, method#16, page#17, registration#18L, sessionId#19L, song#20, status#21L, ts#22L, userAgent#23, userId#24, regDate#1147, tsDate#1165, city#1200, state#1220, churn#4593, userRowId#4641, userRowDescId#4664]\n         +- Project [artist#7, auth#8, gender#10, itemInSession#11L, length#13, level#14, method#16, page#17, registration#18L, sessionId#19L, song#20, status#21L, ts#22L, userAgent#23, userId#24, regDate#1147, tsDate#1165, city#1200, state#1220, churn#4593, userRowId#4641, userRowDescId#4664, userRowDescId#4664]\n            +- Window [row_number() windowspecdefinition(userId#24, ts#22L DESC NULLS LAST, itemInSession#11L DESC NULLS LAST, specifiedwindowframe(RowFrame, unboundedpreceding$(), currentrow$())) AS userRowDescId#4664], [userId#24], [ts#22L DESC NULLS LAST, itemInSession#11L DESC NULLS LAST]\n               +- Project [artist#7, auth#8, gender#10, itemInSession#11L, length#13, level#14, method#16, page#17, registration#18L, sessionId#19L, song#20, status#21L, ts#22L, userAgent#23, userId#24, regDate#1147, tsDate#1165, city#1200, state#1220, churn#4593, userRowId#4641]\n                  +- Project [artist#7, auth#8, gender#10, itemInSession#11L, length#13, level#14, method#16, page#17, registration#18L, sessionId#19L, song#20, status#21L, ts#22L, userAgent#23, userId#24, regDate#1147, tsDate#1165, city#1200, state#1220, churn#4593, userRowId#4641]\n                     +- Project [artist#7, auth#8, gender#10, itemInSession#11L, length#13, level#14, method#16, page#17, registration#18L, sessionId#19L, song#20, status#21L, ts#22L, userAgent#23, userId#24, regDate#1147, tsDate#1165, city#1200, state#1220, churn#4593, userRowId#4641, userRowId#4641]\n                        +- Window [row_number() windowspecdefinition(userId#24, ts#22L ASC NULLS FIRST, itemInSession#11L ASC NULLS FIRST, specifiedwindowframe(RowFrame, unboundedpreceding$(), currentrow$())) AS userRowId#4641], [userId#24], [ts#22L ASC NULLS FIRST, itemInSession#11L ASC NULLS FIRST]\n                           +- Project [artist#7, auth#8, gender#10, itemInSession#11L, length#13, level#14, method#16, page#17, registration#18L, sessionId#19L, song#20, status#21L, ts#22L, userAgent#23, userId#24, regDate#1147, tsDate#1165, city#1200, state#1220, churn#4593]\n                              +- Project [artist#7, auth#8, gender#10, itemInSession#11L, length#13, level#14, method#16, page#17, registration#18L, sessionId#19L, song#20, status#21L, ts#22L, userAgent#23, userId#24, regDate#1147, tsDate#1165, city#1200, state#1220, <lambda>(userId#24) AS churn#4593]\n                                 +- Project [artist#7, auth#8, gender#10, itemInSession#11L, length#13, level#14, method#16, page#17, registration#18L, sessionId#19L, song#20, status#21L, ts#22L, userAgent#23, userId#24, regDate#1147, tsDate#1165, city#1200, state#1220, <lambda>(userId#24) AS churn#4478]\n                                    +- Project [artist#7, auth#8, gender#10, itemInSession#11L, length#13, level#14, method#16, page#17, registration#18L, sessionId#19L, song#20, status#21L, ts#22L, userAgent#23, userId#24, regDate#1147, tsDate#1165, city#1200, state#1220]\n                                       +- Project [artist#7, auth#8, gender#10, itemInSession#11L, length#13, level#14, location#15, method#16, page#17, registration#18L, sessionId#19L, song#20, status#21L, ts#22L, userAgent#23, userId#24, regDate#1147, tsDate#1165, city#1200, split(location#15, ,, -1)[1] AS state#1220]\n                                          +- Project [artist#7, auth#8, gender#10, itemInSession#11L, length#13, level#14, location#15, method#16, page#17, registration#18L, sessionId#19L, song#20, status#21L, ts#22L, userAgent#23, userId#24, regDate#1147, tsDate#1165, split(location#15, ,, -1)[0] AS city#1200]\n                                             +- Project [artist#7, auth#8, gender#10, itemInSession#11L, length#13, level#14, location#15, method#16, page#17, registration#18L, sessionId#19L, song#20, status#21L, ts#22L, userAgent#23, userId#24, regDate#1147, cast((cast(ts#22L as double) / cast(1000.0 as double)) as timestamp) AS tsDate#1165]\n                                                +- Project [artist#7, auth#8, gender#10, itemInSession#11L, length#13, level#14, location#15, method#16, page#17, registration#18L, sessionId#19L, song#20, status#21L, ts#22L, userAgent#23, userId#24, cast((cast(registration#18L as double) / cast(1000.0 as double)) as timestamp) AS regDate#1147]\n                                                   +- Project [artist#7, auth#8, gender#10, itemInSession#11L, length#13, level#14, location#15, method#16, page#17, registration#18L, sessionId#19L, song#20, status#21L, ts#22L, userAgent#23, userId#24]\n                                                      +- Project [artist#7, auth#8, gender#10, itemInSession#11L, lastName#12, length#13, level#14, location#15, method#16, page#17, registration#18L, sessionId#19L, song#20, status#21L, ts#22L, userAgent#23, userId#24]\n                                                         +- Filter NOT (isnull(userId#24) OR (userId#24 = ))\n                                                            +- Relation[artist#7,auth#8,firstName#9,gender#10,itemInSession#11L,lastName#12,length#13,level#14,location#15,method#16,page#17,registration#18L,sessionId#19L,song#20,status#21L,ts#22L,userAgent#23,userId#24] json\n",
     "output_type": "error",
     "traceback": [
      "\u001b[1;31m---------------------------------------------------------------------------\u001b[0m",
      "\u001b[1;31mAnalysisException\u001b[0m                         Traceback (most recent call last)",
      "\u001b[1;32m<ipython-input-107-4f6b618567fd>\u001b[0m in \u001b[0;36m<module>\u001b[1;34m()\u001b[0m\n\u001b[0;32m      1\u001b[0m \u001b[1;31m# Check if every firstName-lastName is associated to exactly one userId\u001b[0m\u001b[1;33m\u001b[0m\u001b[1;33m\u001b[0m\u001b[0m\n\u001b[1;32m----> 2\u001b[1;33m \u001b[0mdata\u001b[0m\u001b[1;33m.\u001b[0m\u001b[0mselect\u001b[0m\u001b[1;33m(\u001b[0m\u001b[1;34m'firstName'\u001b[0m\u001b[1;33m,\u001b[0m \u001b[1;34m'lastName'\u001b[0m\u001b[1;33m,\u001b[0m \u001b[1;34m'userid'\u001b[0m\u001b[1;33m)\u001b[0m     \u001b[1;33m.\u001b[0m\u001b[0mdropDuplicates\u001b[0m\u001b[1;33m(\u001b[0m\u001b[1;33m)\u001b[0m     \u001b[1;33m.\u001b[0m\u001b[0mgroupby\u001b[0m\u001b[1;33m(\u001b[0m\u001b[1;34m'firstName'\u001b[0m\u001b[1;33m,\u001b[0m \u001b[1;34m'lastName'\u001b[0m\u001b[1;33m)\u001b[0m     \u001b[1;33m.\u001b[0m\u001b[0mcount\u001b[0m\u001b[1;33m(\u001b[0m\u001b[1;33m)\u001b[0m     \u001b[1;33m.\u001b[0m\u001b[0mwhere\u001b[0m\u001b[1;33m(\u001b[0m\u001b[0mcol\u001b[0m\u001b[1;33m(\u001b[0m\u001b[1;34m'count'\u001b[0m\u001b[1;33m)\u001b[0m \u001b[1;33m>\u001b[0m \u001b[1;36m1\u001b[0m\u001b[1;33m)\u001b[0m     \u001b[1;33m.\u001b[0m\u001b[0mcount\u001b[0m\u001b[1;33m(\u001b[0m\u001b[1;33m)\u001b[0m\u001b[1;33m\u001b[0m\u001b[0m\n\u001b[0m",
      "\u001b[1;32mC:\\ProgramData\\Anaconda3\\lib\\site-packages\\pyspark\\sql\\dataframe.py\u001b[0m in \u001b[0;36mselect\u001b[1;34m(self, *cols)\u001b[0m\n\u001b[0;32m   1419\u001b[0m         \u001b[1;33m[\u001b[0m\u001b[0mRow\u001b[0m\u001b[1;33m(\u001b[0m\u001b[0mname\u001b[0m\u001b[1;33m=\u001b[0m\u001b[1;34mu'Alice'\u001b[0m\u001b[1;33m,\u001b[0m \u001b[0mage\u001b[0m\u001b[1;33m=\u001b[0m\u001b[1;36m12\u001b[0m\u001b[1;33m)\u001b[0m\u001b[1;33m,\u001b[0m \u001b[0mRow\u001b[0m\u001b[1;33m(\u001b[0m\u001b[0mname\u001b[0m\u001b[1;33m=\u001b[0m\u001b[1;34mu'Bob'\u001b[0m\u001b[1;33m,\u001b[0m \u001b[0mage\u001b[0m\u001b[1;33m=\u001b[0m\u001b[1;36m15\u001b[0m\u001b[1;33m)\u001b[0m\u001b[1;33m]\u001b[0m\u001b[1;33m\u001b[0m\u001b[0m\n\u001b[0;32m   1420\u001b[0m         \"\"\"\n\u001b[1;32m-> 1421\u001b[1;33m         \u001b[0mjdf\u001b[0m \u001b[1;33m=\u001b[0m \u001b[0mself\u001b[0m\u001b[1;33m.\u001b[0m\u001b[0m_jdf\u001b[0m\u001b[1;33m.\u001b[0m\u001b[0mselect\u001b[0m\u001b[1;33m(\u001b[0m\u001b[0mself\u001b[0m\u001b[1;33m.\u001b[0m\u001b[0m_jcols\u001b[0m\u001b[1;33m(\u001b[0m\u001b[1;33m*\u001b[0m\u001b[0mcols\u001b[0m\u001b[1;33m)\u001b[0m\u001b[1;33m)\u001b[0m\u001b[1;33m\u001b[0m\u001b[0m\n\u001b[0m\u001b[0;32m   1422\u001b[0m         \u001b[1;32mreturn\u001b[0m \u001b[0mDataFrame\u001b[0m\u001b[1;33m(\u001b[0m\u001b[0mjdf\u001b[0m\u001b[1;33m,\u001b[0m \u001b[0mself\u001b[0m\u001b[1;33m.\u001b[0m\u001b[0msql_ctx\u001b[0m\u001b[1;33m)\u001b[0m\u001b[1;33m\u001b[0m\u001b[0m\n\u001b[0;32m   1423\u001b[0m \u001b[1;33m\u001b[0m\u001b[0m\n",
      "\u001b[1;32mC:\\ProgramData\\Anaconda3\\lib\\site-packages\\py4j\\java_gateway.py\u001b[0m in \u001b[0;36m__call__\u001b[1;34m(self, *args)\u001b[0m\n\u001b[0;32m   1303\u001b[0m         \u001b[0manswer\u001b[0m \u001b[1;33m=\u001b[0m \u001b[0mself\u001b[0m\u001b[1;33m.\u001b[0m\u001b[0mgateway_client\u001b[0m\u001b[1;33m.\u001b[0m\u001b[0msend_command\u001b[0m\u001b[1;33m(\u001b[0m\u001b[0mcommand\u001b[0m\u001b[1;33m)\u001b[0m\u001b[1;33m\u001b[0m\u001b[0m\n\u001b[0;32m   1304\u001b[0m         return_value = get_return_value(\n\u001b[1;32m-> 1305\u001b[1;33m             answer, self.gateway_client, self.target_id, self.name)\n\u001b[0m\u001b[0;32m   1306\u001b[0m \u001b[1;33m\u001b[0m\u001b[0m\n\u001b[0;32m   1307\u001b[0m         \u001b[1;32mfor\u001b[0m \u001b[0mtemp_arg\u001b[0m \u001b[1;32min\u001b[0m \u001b[0mtemp_args\u001b[0m\u001b[1;33m:\u001b[0m\u001b[1;33m\u001b[0m\u001b[0m\n",
      "\u001b[1;32mC:\\ProgramData\\Anaconda3\\lib\\site-packages\\pyspark\\sql\\utils.py\u001b[0m in \u001b[0;36mdeco\u001b[1;34m(*a, **kw)\u001b[0m\n\u001b[0;32m    135\u001b[0m                 \u001b[1;31m# Hide where the exception came from that shows a non-Pythonic\u001b[0m\u001b[1;33m\u001b[0m\u001b[1;33m\u001b[0m\u001b[0m\n\u001b[0;32m    136\u001b[0m                 \u001b[1;31m# JVM exception message.\u001b[0m\u001b[1;33m\u001b[0m\u001b[1;33m\u001b[0m\u001b[0m\n\u001b[1;32m--> 137\u001b[1;33m                 \u001b[0mraise_from\u001b[0m\u001b[1;33m(\u001b[0m\u001b[0mconverted\u001b[0m\u001b[1;33m)\u001b[0m\u001b[1;33m\u001b[0m\u001b[0m\n\u001b[0m\u001b[0;32m    138\u001b[0m             \u001b[1;32melse\u001b[0m\u001b[1;33m:\u001b[0m\u001b[1;33m\u001b[0m\u001b[0m\n\u001b[0;32m    139\u001b[0m                 \u001b[1;32mraise\u001b[0m\u001b[1;33m\u001b[0m\u001b[0m\n",
      "\u001b[1;32mC:\\ProgramData\\Anaconda3\\lib\\site-packages\\pyspark\\sql\\utils.py\u001b[0m in \u001b[0;36mraise_from\u001b[1;34m(e)\u001b[0m\n",
      "\u001b[1;31mAnalysisException\u001b[0m: cannot resolve '`firstName`' given input columns: [artist, auth, churn, city, gender, itemInSession, lastLevel, length, level, method, page, regDate, registration, sessionId, song, state, status, ts, tsDate, userAgent, userId, userRowDescId, userRowId];;\n'Project ['firstName, 'lastName, userid#24]\n+- Project [artist#7, auth#8, gender#10, itemInSession#11L, length#13, level#14, method#16, page#17, registration#18L, sessionId#19L, song#20, status#21L, ts#22L, userAgent#23, userId#24, regDate#1147, tsDate#1165, city#1200, state#1220, <lambda>(userId#24, churn#4593) AS churn#4788, userRowId#4641, userRowDescId#4664, lastLevel#4740]\n   +- Project [artist#7, auth#8, gender#10, itemInSession#11L, length#13, level#14, method#16, page#17, registration#18L, sessionId#19L, song#20, status#21L, ts#22L, userAgent#23, userId#24, regDate#1147, tsDate#1165, city#1200, state#1220, churn#4593, userRowId#4641, userRowDescId#4664, <lambda>(userId#24) AS lastLevel#4740]\n      +- Project [artist#7, auth#8, gender#10, itemInSession#11L, length#13, level#14, method#16, page#17, registration#18L, sessionId#19L, song#20, status#21L, ts#22L, userAgent#23, userId#24, regDate#1147, tsDate#1165, city#1200, state#1220, churn#4593, userRowId#4641, userRowDescId#4664]\n         +- Project [artist#7, auth#8, gender#10, itemInSession#11L, length#13, level#14, method#16, page#17, registration#18L, sessionId#19L, song#20, status#21L, ts#22L, userAgent#23, userId#24, regDate#1147, tsDate#1165, city#1200, state#1220, churn#4593, userRowId#4641, userRowDescId#4664, userRowDescId#4664]\n            +- Window [row_number() windowspecdefinition(userId#24, ts#22L DESC NULLS LAST, itemInSession#11L DESC NULLS LAST, specifiedwindowframe(RowFrame, unboundedpreceding$(), currentrow$())) AS userRowDescId#4664], [userId#24], [ts#22L DESC NULLS LAST, itemInSession#11L DESC NULLS LAST]\n               +- Project [artist#7, auth#8, gender#10, itemInSession#11L, length#13, level#14, method#16, page#17, registration#18L, sessionId#19L, song#20, status#21L, ts#22L, userAgent#23, userId#24, regDate#1147, tsDate#1165, city#1200, state#1220, churn#4593, userRowId#4641]\n                  +- Project [artist#7, auth#8, gender#10, itemInSession#11L, length#13, level#14, method#16, page#17, registration#18L, sessionId#19L, song#20, status#21L, ts#22L, userAgent#23, userId#24, regDate#1147, tsDate#1165, city#1200, state#1220, churn#4593, userRowId#4641]\n                     +- Project [artist#7, auth#8, gender#10, itemInSession#11L, length#13, level#14, method#16, page#17, registration#18L, sessionId#19L, song#20, status#21L, ts#22L, userAgent#23, userId#24, regDate#1147, tsDate#1165, city#1200, state#1220, churn#4593, userRowId#4641, userRowId#4641]\n                        +- Window [row_number() windowspecdefinition(userId#24, ts#22L ASC NULLS FIRST, itemInSession#11L ASC NULLS FIRST, specifiedwindowframe(RowFrame, unboundedpreceding$(), currentrow$())) AS userRowId#4641], [userId#24], [ts#22L ASC NULLS FIRST, itemInSession#11L ASC NULLS FIRST]\n                           +- Project [artist#7, auth#8, gender#10, itemInSession#11L, length#13, level#14, method#16, page#17, registration#18L, sessionId#19L, song#20, status#21L, ts#22L, userAgent#23, userId#24, regDate#1147, tsDate#1165, city#1200, state#1220, churn#4593]\n                              +- Project [artist#7, auth#8, gender#10, itemInSession#11L, length#13, level#14, method#16, page#17, registration#18L, sessionId#19L, song#20, status#21L, ts#22L, userAgent#23, userId#24, regDate#1147, tsDate#1165, city#1200, state#1220, <lambda>(userId#24) AS churn#4593]\n                                 +- Project [artist#7, auth#8, gender#10, itemInSession#11L, length#13, level#14, method#16, page#17, registration#18L, sessionId#19L, song#20, status#21L, ts#22L, userAgent#23, userId#24, regDate#1147, tsDate#1165, city#1200, state#1220, <lambda>(userId#24) AS churn#4478]\n                                    +- Project [artist#7, auth#8, gender#10, itemInSession#11L, length#13, level#14, method#16, page#17, registration#18L, sessionId#19L, song#20, status#21L, ts#22L, userAgent#23, userId#24, regDate#1147, tsDate#1165, city#1200, state#1220]\n                                       +- Project [artist#7, auth#8, gender#10, itemInSession#11L, length#13, level#14, location#15, method#16, page#17, registration#18L, sessionId#19L, song#20, status#21L, ts#22L, userAgent#23, userId#24, regDate#1147, tsDate#1165, city#1200, split(location#15, ,, -1)[1] AS state#1220]\n                                          +- Project [artist#7, auth#8, gender#10, itemInSession#11L, length#13, level#14, location#15, method#16, page#17, registration#18L, sessionId#19L, song#20, status#21L, ts#22L, userAgent#23, userId#24, regDate#1147, tsDate#1165, split(location#15, ,, -1)[0] AS city#1200]\n                                             +- Project [artist#7, auth#8, gender#10, itemInSession#11L, length#13, level#14, location#15, method#16, page#17, registration#18L, sessionId#19L, song#20, status#21L, ts#22L, userAgent#23, userId#24, regDate#1147, cast((cast(ts#22L as double) / cast(1000.0 as double)) as timestamp) AS tsDate#1165]\n                                                +- Project [artist#7, auth#8, gender#10, itemInSession#11L, length#13, level#14, location#15, method#16, page#17, registration#18L, sessionId#19L, song#20, status#21L, ts#22L, userAgent#23, userId#24, cast((cast(registration#18L as double) / cast(1000.0 as double)) as timestamp) AS regDate#1147]\n                                                   +- Project [artist#7, auth#8, gender#10, itemInSession#11L, length#13, level#14, location#15, method#16, page#17, registration#18L, sessionId#19L, song#20, status#21L, ts#22L, userAgent#23, userId#24]\n                                                      +- Project [artist#7, auth#8, gender#10, itemInSession#11L, lastName#12, length#13, level#14, location#15, method#16, page#17, registration#18L, sessionId#19L, song#20, status#21L, ts#22L, userAgent#23, userId#24]\n                                                         +- Filter NOT (isnull(userId#24) OR (userId#24 = ))\n                                                            +- Relation[artist#7,auth#8,firstName#9,gender#10,itemInSession#11L,lastName#12,length#13,level#14,location#15,method#16,page#17,registration#18L,sessionId#19L,song#20,status#21L,ts#22L,userAgent#23,userId#24] json\n"
     ]
    }
   ],
   "source": [
    "# Check if every firstName-lastName is associated to exactly one userId\n",
    "data.select('firstName', 'lastName', 'userid') \\\n",
    "    .dropDuplicates() \\\n",
    "    .groupby('firstName', 'lastName') \\\n",
    "    .count() \\\n",
    "    .where(col('count') > 1) \\\n",
    "    .count()"
   ]
  },
  {
   "cell_type": "code",
   "execution_count": 13,
   "metadata": {
    "collapsed": true
   },
   "outputs": [],
   "source": [
    "# Exclude userId-dependent columns\n",
    "data = data.drop('firstName')\n",
    "data = data.drop('lastName')"
   ]
  },
  {
   "cell_type": "markdown",
   "metadata": {},
   "source": [
    "### Convert unix timestamp into TimestampType  (*ts*, *registration*)"
   ]
  },
  {
   "cell_type": "code",
   "execution_count": 16,
   "metadata": {},
   "outputs": [
    {
     "data": {
      "text/plain": [
       "[Row(artist='Martha Tilston', auth='Logged In', gender='M', itemInSession=50, length=277.89016, level='paid', location='Bakersfield, CA', method='PUT', page='NextSong', registration=1538173362000, sessionId=29, song='Rockpools', status=200, ts=1538352117000, userAgent='Mozilla/5.0 (Windows NT 6.1; WOW64; rv:31.0) Gecko/20100101 Firefox/31.0', userId='30', regDate=datetime.datetime(2018, 9, 29, 0, 22, 42), tsDate=datetime.datetime(2018, 10, 1, 2, 1, 57))]"
      ]
     },
     "execution_count": 16,
     "metadata": {},
     "output_type": "execute_result"
    }
   ],
   "source": [
    "data = data.withColumn('regDate', (col('registration') / 1000.0).cast(TimestampType()))\n",
    "data = data.withColumn('tsDate', (col('ts') / 1000.0).cast(TimestampType()))\n",
    "data.take(1)"
   ]
  },
  {
   "cell_type": "markdown",
   "metadata": {},
   "source": [
    "### Split location into *Place* and *State*\n",
    "\n",
    "The location column contains *place* and *state*. Let's split the composed information into 2 features."
   ]
  },
  {
   "cell_type": "code",
   "execution_count": null,
   "metadata": {
    "collapsed": true
   },
   "outputs": [],
   "source": [
    "data = data.withColumn('city', split(data['location'], ',')[0])\n",
    "data = data.withColumn('state', split(data['location'], ',')[1])\n",
    "data = data.drop('location')"
   ]
  },
  {
   "cell_type": "code",
   "execution_count": 21,
   "metadata": {},
   "outputs": [
    {
     "name": "stdout",
     "output_type": "stream",
     "text": [
      "root\n",
      " |-- artist: string (nullable = true)\n",
      " |-- auth: string (nullable = true)\n",
      " |-- gender: string (nullable = true)\n",
      " |-- itemInSession: long (nullable = true)\n",
      " |-- length: double (nullable = true)\n",
      " |-- level: string (nullable = true)\n",
      " |-- method: string (nullable = true)\n",
      " |-- page: string (nullable = true)\n",
      " |-- registration: long (nullable = true)\n",
      " |-- sessionId: long (nullable = true)\n",
      " |-- song: string (nullable = true)\n",
      " |-- status: long (nullable = true)\n",
      " |-- ts: long (nullable = true)\n",
      " |-- userAgent: string (nullable = true)\n",
      " |-- userId: string (nullable = true)\n",
      " |-- regDate: timestamp (nullable = true)\n",
      " |-- tsDate: timestamp (nullable = true)\n",
      " |-- city: string (nullable = true)\n",
      " |-- state: string (nullable = true)\n",
      "\n"
     ]
    }
   ],
   "source": [
    "# Schema after the cleaning is done\n",
    "data.printSchema()"
   ]
  },
  {
   "cell_type": "markdown",
   "metadata": {},
   "source": [
    "# Exploratory Data Analysis\n",
    "When you're working with the full dataset, perform EDA by loading a small subset of the data and doing basic manipulations within Spark. In this workspace, you are already provided a small subset of data you can explore."
   ]
  },
  {
   "cell_type": "markdown",
   "metadata": {},
   "source": [
    "### Common Functions"
   ]
  },
  {
   "cell_type": "code",
   "execution_count": 110,
   "metadata": {
    "collapsed": true
   },
   "outputs": [],
   "source": [
    "# Set plot's figure size\n",
    "def set_plot_size(width, height):\n",
    "    return plt.figure(figsize = [width, height]);\n",
    "\n",
    "# Fetch values (categories) of a given feature\n",
    "def get_categories(feature):\n",
    "    return data.select(feature).dropDuplicates().sort(feature)\n",
    "\n",
    "# Get list of categories of a given feature\n",
    "def get_categories_list(feature):\n",
    "    return [str(row[feature]) for row in get_categories(feature).collect()]"
   ]
  },
  {
   "cell_type": "markdown",
   "metadata": {},
   "source": [
    "### Preliminary Analysis"
   ]
  },
  {
   "cell_type": "code",
   "execution_count": 154,
   "metadata": {},
   "outputs": [
    {
     "data": {
      "text/plain": [
       "225"
      ]
     },
     "execution_count": 154,
     "metadata": {},
     "output_type": "execute_result"
    }
   ],
   "source": [
    "# Count of unique users\n",
    "data.select(\"userId\").dropDuplicates().count()"
   ]
  },
  {
   "cell_type": "code",
   "execution_count": 47,
   "metadata": {
    "scrolled": true
   },
   "outputs": [
    {
     "data": {
      "text/plain": [
       "2312"
      ]
     },
     "execution_count": 47,
     "metadata": {},
     "output_type": "execute_result"
    }
   ],
   "source": [
    "# Count of unique sessions\n",
    "data.select(\"sessionId\").dropDuplicates().count()"
   ]
  },
  {
   "cell_type": "markdown",
   "metadata": {},
   "source": [
    "#### Log level: *Level*, *Status*"
   ]
  },
  {
   "cell_type": "code",
   "execution_count": 60,
   "metadata": {},
   "outputs": [
    {
     "name": "stderr",
     "output_type": "stream",
     "text": [
      "C:\\ProgramData\\Anaconda3\\lib\\site-packages\\seaborn\\categorical.py:1460: FutureWarning: remove_na is deprecated and is a private function. Do not use.\n",
      "  stat_data = remove_na(group_data)\n"
     ]
    },
    {
     "data": {
      "image/png": "[encoded data removed]",
      "text/plain": [
       "<matplotlib.figure.Figure at 0x171313c7588>"
      ]
     },
     "metadata": {},
     "output_type": "display_data"
    }
   ],
   "source": [
    "set_plot_size(9, 3);\n",
    "plt.subplots_adjust(top=1.0, wspace=0.4)\n",
    "\n",
    "# 1. Count log events by level categories (paid, free) \n",
    "df = data.select('level').toPandas()\n",
    "plt.subplot(1, 2, 1)\n",
    "sb.countplot(data = df, x = 'level');\n",
    "ax = plt.gca()\n",
    "ax.set_title('Count of Level logs');\n",
    "\n",
    "# 2. Count log events by status categories\n",
    "df = data.select('status').toPandas()\n",
    "plt.subplot(1, 2, 2)\n",
    "sb.countplot(data = df, x = 'status');\n",
    "ax = plt.gca()\n",
    "ax.set_title('Count of Status logs');\n",
    "\n",
    "fig.tight_layout();"
   ]
  },
  {
   "cell_type": "markdown",
   "metadata": {},
   "source": [
    "#### Log level: *page*"
   ]
  },
  {
   "cell_type": "code",
   "execution_count": 32,
   "metadata": {},
   "outputs": [
    {
     "name": "stdout",
     "output_type": "stream",
     "text": [
      "+-------------------------+\n",
      "|page                     |\n",
      "+-------------------------+\n",
      "|About                    |\n",
      "|Add Friend               |\n",
      "|Add to Playlist          |\n",
      "|Cancel                   |\n",
      "|Cancellation Confirmation|\n",
      "|Downgrade                |\n",
      "|Error                    |\n",
      "|Help                     |\n",
      "|Home                     |\n",
      "|Logout                   |\n",
      "|NextSong                 |\n",
      "|Roll Advert              |\n",
      "|Save Settings            |\n",
      "|Settings                 |\n",
      "|Submit Downgrade         |\n",
      "|Submit Upgrade           |\n",
      "|Thumbs Down              |\n",
      "|Thumbs Up                |\n",
      "|Upgrade                  |\n",
      "+-------------------------+\n",
      "\n"
     ]
    },
    {
     "name": "stderr",
     "output_type": "stream",
     "text": [
      "C:\\ProgramData\\Anaconda3\\lib\\site-packages\\seaborn\\categorical.py:1460: FutureWarning: remove_na is deprecated and is a private function. Do not use.\n",
      "  stat_data = remove_na(group_data)\n"
     ]
    },
    {
     "data": {
      "image/png": "[encoded data removed]",
      "text/plain": [
       "<matplotlib.figure.Figure at 0x17133b4e668>"
      ]
     },
     "metadata": {},
     "output_type": "display_data"
    }
   ],
   "source": [
    "# Count log events by page categories\n",
    "data.select('page').dropDuplicates().sort('page').show(truncate=False)\n",
    "\n",
    "set_plot_size(12, 6)\n",
    "df = data.select('page').toPandas()\n",
    "sb.countplot(data = df, x = 'page', order = df['page'].value_counts().index);\n",
    "plt.xticks(rotation = 90);\n",
    "ax = plt.gca()\n",
    "ax.set_title('Count of Page logs');"
   ]
  },
  {
   "cell_type": "markdown",
   "metadata": {},
   "source": [
    "#### User/Session level: *logs per user*, *sessions per user*, *duration per session*"
   ]
  },
  {
   "cell_type": "code",
   "execution_count": 74,
   "metadata": {},
   "outputs": [
    {
     "name": "stderr",
     "output_type": "stream",
     "text": [
      "C:\\ProgramData\\Anaconda3\\lib\\site-packages\\seaborn\\categorical.py:462: FutureWarning: remove_na is deprecated and is a private function. Do not use.\n",
      "  box_data = remove_na(group_data)\n"
     ]
    },
    {
     "data": {
      "image/png": "[encoded data removed]",
      "text/plain": [
       "<matplotlib.figure.Figure at 0x171342037b8>"
      ]
     },
     "metadata": {},
     "output_type": "display_data"
    }
   ],
   "source": [
    "set_plot_size(15, 4);\n",
    "plt.subplots_adjust(wspace=0.4)\n",
    "\n",
    "# 1. Logs per user\n",
    "#data.groupby('userId').count().describe('count').show()\n",
    "plt.subplot(1, 3, 1)\n",
    "df_user_logs = data.groupby('userId').count().toPandas()\n",
    "sb.boxplot(data = df_user_logs, y = 'count', showfliers=False);\n",
    "plt.xlabel('log count')\n",
    "plt.ylabel('frequency')\n",
    "ax = plt.gca()\n",
    "ax.set_title('Logs per user');\n",
    "\n",
    "# 2. Sessions per user\n",
    "gdata = data.groupby('userId', 'sessionId').count() \\\n",
    "    .groupby('userId').count()\n",
    "#gdata.describe('count').show()\n",
    "plt.subplot(1, 3, 2)\n",
    "df_user_sessions = gdata.toPandas()\n",
    "sb.boxplot(data = df_user_sessions, y = 'count', showfliers=False);\n",
    "plt.xlabel('session count')\n",
    "plt.ylabel('frequency')\n",
    "ax = plt.gca()\n",
    "ax.set_title('Sessions per user');\n",
    "\n",
    "# 3. Session duration\n",
    "df_session_duration = data.groupby('sessionId') \\\n",
    "    .agg(((max('ts') - min('ts'))/60000).alias('duration')) \\\n",
    "    .select('sessionId', round(col('duration'), 1).alias('duration')) \\\n",
    "    .toPandas()\n",
    "#print(df.duration.describe())\n",
    "plt.subplot(1, 3, 3)\n",
    "sb.boxplot(data = df_session_duration, y = 'duration', showfliers=False);\n",
    "plt.ylabel('duration (in minutes)')\n",
    "ax = plt.gca()\n",
    "ax.set_title('Session duration');"
   ]
  },
  {
   "cell_type": "code",
   "execution_count": 73,
   "metadata": {},
   "outputs": [
    {
     "name": "stderr",
     "output_type": "stream",
     "text": [
      "C:\\ProgramData\\Anaconda3\\lib\\site-packages\\seaborn\\categorical.py:1460: FutureWarning: remove_na is deprecated and is a private function. Do not use.\n",
      "  stat_data = remove_na(group_data)\n"
     ]
    },
    {
     "data": {
      "image/png": "[encoded data removed]",
      "text/plain": [
       "<matplotlib.figure.Figure at 0x17133a1aa90>"
      ]
     },
     "metadata": {},
     "output_type": "display_data"
    }
   ],
   "source": [
    "set_plot_size(9, 3);\n",
    "plt.subplots_adjust(wspace=0.4)\n",
    "\n",
    "# 1. Count users per gender\n",
    "df_gender_logs = data.select('gender').toPandas()\n",
    "plt.subplot(1, 2, 1)\n",
    "sb.countplot(data = df_gender_logs, x = 'gender', order = ['M','F']).set_title('Users per gender')\n",
    "\n",
    "# 2. Count logs per gender\n",
    "df_gender_users = data.groupby('userId', 'gender').count().toPandas()\n",
    "plt.subplot(1, 2, 2)\n",
    "sb.countplot(data = df_gender_users, x = 'gender', order = ['M','F']).set_title('Logs per gender');\n",
    "\n",
    "fig.tight_layout();"
   ]
  },
  {
   "cell_type": "markdown",
   "metadata": {},
   "source": [
    "### Define Churn\n",
    "\n",
    "Once you've done some preliminary analysis, create a column `Churn` to use as the label for your model. I suggest using the `Cancellation Confirmation` events to define your churn, which happen for both paid and free users. As a bonus task, you can also look into the `Downgrade` events."
   ]
  },
  {
   "cell_type": "markdown",
   "metadata": {},
   "source": [
    "#### Common Variables and Functions"
   ]
  },
  {
   "cell_type": "code",
   "execution_count": 112,
   "metadata": {
    "collapsed": true
   },
   "outputs": [],
   "source": [
    "label_names = ['non-churned', 'churned']\n",
    "\n",
    "def get_churned_logs():\n",
    "    return data.where(data.churn == 1)\n",
    "\n",
    "def get_nonchurned_logs():\n",
    "    return data.where(data.churn == 0)"
   ]
  },
  {
   "cell_type": "markdown",
   "metadata": {},
   "source": [
    "#### Churn by *Cancellation Confirmation* event"
   ]
  },
  {
   "cell_type": "code",
   "execution_count": 84,
   "metadata": {},
   "outputs": [
    {
     "name": "stdout",
     "output_type": "stream",
     "text": [
      "Churned users that cancelled subscription: 52\n",
      "Check churned users: 52\n"
     ]
    }
   ],
   "source": [
    "# Define churned users using Cancellation Confirmation event (canceled)\n",
    "query_churn_by_cc = data.where(data.page == 'Cancellation Confirmation')\n",
    "print(f'Churned users who cancelled subscription: {query_churn_by_cc.count()}')\n",
    "\n",
    "# Label churned (canceled) users\n",
    "canceled = query_churn_by_cc.select('userId').dropDuplicates().select('userId')\n",
    "canceled_uids = [row.userId for row in canceled.collect()];\n",
    "set_churn = udf(lambda x: 1 if x in canceled_uids else 0, IntegerType())\n",
    "data = data.withColumn('churn', set_churn('userId'))\n",
    "data.take(3)\n",
    "\n",
    "# Check\n",
    "print(f\"Check churned users: {get_churned_logs().select('userId').dropDuplicates().count()}\")"
   ]
  },
  {
   "cell_type": "markdown",
   "metadata": {},
   "source": [
    "#### Churn by *Downgrade Submit* event"
   ]
  },
  {
   "cell_type": "code",
   "execution_count": 87,
   "metadata": {},
   "outputs": [
    {
     "data": {
      "text/plain": [
       "[Row(artist=None, auth='Logged In', gender='F', itemInSession=34, length=None, level='free', method='PUT', page='Logout', registration=1538016340000, sessionId=187, song=None, status=307, ts=1542823952000, userAgent='\"Mozilla/5.0 (iPhone; CPU iPhone OS 7_1_2 like Mac OS X) AppleWebKit/537.51.2 (KHTML, like Gecko) Version/7.0 Mobile/11D257 Safari/9537.53\"', userId='100010', regDate=datetime.datetime(2018, 9, 27, 4, 45, 40), tsDate=datetime.datetime(2018, 11, 21, 19, 12, 32), city='Bridgeport-Stamford-Norwalk', state=' CT', churn=0, userRowId=381, userRowDescId=1)]"
      ]
     },
     "execution_count": 87,
     "metadata": {},
     "output_type": "execute_result"
    }
   ],
   "source": [
    "# Add [userRowId] column that assigns a 1-based index to every user's log ordered by [ts]\n",
    "w =  Window.partitionBy(data.userId).orderBy('ts', 'itemInSession')\n",
    "data = data.withColumn('userRowId', row_number().over(w))\n",
    "\n",
    "# Add [userRowDescId] column that assigns a 1-based index to every user's log ordered by [ts] descending.\n",
    "w =  Window.partitionBy(data.userId).orderBy(col('ts').desc(), col('itemInSession').desc())\n",
    "data = data.withColumn('userRowDescId', row_number().over(w))\n",
    "\n",
    "data.take(1)"
   ]
  },
  {
   "cell_type": "code",
   "execution_count": 88,
   "metadata": {},
   "outputs": [
    {
     "data": {
      "text/plain": [
       "63"
      ]
     },
     "execution_count": 88,
     "metadata": {},
     "output_type": "execute_result"
    }
   ],
   "source": [
    "# Count donwgrade log events\n",
    "data.where(data.page == 'Submit Downgrade').count()"
   ]
  },
  {
   "cell_type": "markdown",
   "metadata": {},
   "source": [
    "When a user downgrade the **level** feature changes from *paid* to *free*. In contrast to the cancelation event which can happen only once per observation periods, a user can downgrade more than once if he or she upgrades after downgrading. Nevertheless, no matter how many times the user repeats the downgrade-upgrade cycle (*D/U event*), if the **level** is set to *free* at the end of the observation period, then we can conclude beyond any doubt that the user has changed the suscription level from *free* to *paid* due to the downgrading.\n",
    "\n",
    "It's not important how many times the D/U occured if the *last level* is *free*, but, yes, it is important if the **last level** is *paid* since this would mean that through the D/U cycles the user has reestablished the suscription level which he or she had before D/U - **as if D/U had never happened**."
   ]
  },
  {
   "cell_type": "code",
   "execution_count": 89,
   "metadata": {},
   "outputs": [
    {
     "data": {
      "text/plain": [
       "[Row(artist=None, auth='Logged In', gender='F', itemInSession=34, length=None, level='free', method='PUT', page='Logout', registration=1538016340000, sessionId=187, song=None, status=307, ts=1542823952000, userAgent='\"Mozilla/5.0 (iPhone; CPU iPhone OS 7_1_2 like Mac OS X) AppleWebKit/537.51.2 (KHTML, like Gecko) Version/7.0 Mobile/11D257 Safari/9537.53\"', userId='100010', regDate=datetime.datetime(2018, 9, 27, 4, 45, 40), tsDate=datetime.datetime(2018, 11, 21, 19, 12, 32), city='Bridgeport-Stamford-Norwalk', state=' CT', churn=0, userRowId=381, userRowDescId=1, lastLevel='free')]"
      ]
     },
     "execution_count": 89,
     "metadata": {},
     "output_type": "execute_result"
    }
   ],
   "source": [
    "# Add lastLevel column\n",
    "last_levels = dict()\n",
    "for row in data.where(data.userRowDescId == 1).select('userId', 'level').collect():\n",
    "    last_levels[row.userId] = row.level\n",
    "get_level = udf(lambda userId: last_levels[userId])\n",
    "data = data.withColumn('lastLevel', get_level('userId'))\n",
    "data.take(1)"
   ]
  },
  {
   "cell_type": "code",
   "execution_count": 90,
   "metadata": {},
   "outputs": [
    {
     "name": "stdout",
     "output_type": "stream",
     "text": [
      "Check churned users: 67\n"
     ]
    }
   ],
   "source": [
    "# Query churned users by downgrade event\n",
    "downgraded = data.where((data.churn == 0) \\\n",
    "           & (data.page == 'Submit Downgrade') \\\n",
    "           & (data.lastLevel == 'free')) \\\n",
    "    .select('userId') \\\n",
    "    .dropDuplicates()\n",
    "\n",
    "# Label downgraded users (churn=1)\n",
    "uids = [row.userId for row in downgraded.collect()]\n",
    "set_churn = udf(lambda userId, churn: 1 if userId in uids else churn, IntegerType())\n",
    "data = data.withColumn('churn', set_churn('userId', 'churn'))\n",
    "data.take(1)\n",
    "\n",
    "# Check\n",
    "print(f\"Check churned users: {get_churned_logs().select('userId').dropDuplicates().count()}\")"
   ]
  },
  {
   "cell_type": "markdown",
   "metadata": {},
   "source": [
    "### Explore Data\n",
    "Once you've defined churn, perform some exploratory data analysis to observe the behavior for users who stayed vs users who churned. You can start by exploring aggregates on these two groups of users, observing how much of a specific action they experienced per a certain time unit or number of songs played."
   ]
  },
  {
   "cell_type": "markdown",
   "metadata": {},
   "source": [
    "### Log level\n",
    "We calculate a share of logs with a selected feature for each target group (*churned*, *non-churned*)."
   ]
  },
  {
   "cell_type": "markdown",
   "metadata": {},
   "source": [
    "#### Common variables and functions"
   ]
  },
  {
   "cell_type": "code",
   "execution_count": 116,
   "metadata": {
    "collapsed": true
   },
   "outputs": [],
   "source": [
    "# Count of churned/non-churned logs\n",
    "count0 = data.where(data.churn == 0).count()\n",
    "count1 = data.where(data.churn == 1).count()\n",
    "get_log_total = udf(lambda x: count0 if x == 0 else count1)\n",
    "\n",
    "# Calculate share of each category relating to its churn group\n",
    "def calc_log_share(feature):\n",
    "    # calculate count of each category, per churn group\n",
    "    df = data \\\n",
    "        .groupby('churn', feature) \\\n",
    "        .count() \\\n",
    "        .toPandas()\n",
    "       \n",
    "    totals = df.groupby('churn').sum()\n",
    "    df = df.set_index('churn').join(totals, rsuffix='_total')\n",
    "    df['share'] = df['count']/df['count_total']\n",
    "    df = df.drop('count_total', axis=1)\n",
    "    return df.reset_index()\n",
    "\n",
    "# Plot the category share, for both churn group\n",
    "def plot_share(df, feature, title):\n",
    "    # split dataset into 2 churn subsets\n",
    "    df0 = df[df.churn == 0].sort_values(by='share', ascending=False)\n",
    "    df1 = df[df.churn == 1].sort_values(by='share', ascending=False)\n",
    "    \n",
    "    # plot\n",
    "    width = 0.35\n",
    "    labels = get_categories_list(feature)\n",
    "    plt.xticks(range(len(labels)), df0[feature])\n",
    "    plt.xlabel(feature)\n",
    "    plt.ylabel('share')\n",
    "    plt.bar(np.arange(len(df0)), df0['share'], width=width)\n",
    "    plt.bar(np.arange(len(df1))+ width, df1['share'], width=width)\n",
    "    ax = plt.gca()\n",
    "    ax.set_title(title);\n",
    "    plt.legend(label_names, loc=1)"
   ]
  },
  {
   "cell_type": "markdown",
   "metadata": {},
   "source": [
    "#### Method, Status"
   ]
  },
  {
   "cell_type": "code",
   "execution_count": 117,
   "metadata": {},
   "outputs": [
    {
     "data": {
      "image/png": "[encoded data removed]",
      "text/plain": [
       "<matplotlib.figure.Figure at 0x17134089208>"
      ]
     },
     "metadata": {},
     "output_type": "display_data"
    }
   ],
   "source": [
    "# Prepare data\n",
    "df_log_method = calc_log_share('method')\n",
    "df_log_status = calc_log_share('status')\n",
    "\n",
    "set_plot_size(12, 4);\n",
    "\n",
    "# 1. Method\n",
    "plt.subplot(1, 2, 1)\n",
    "plot_share(df_log_method, 'method', 'Log level: method')\n",
    "\n",
    "# 2. Status\n",
    "plt.subplot(1, 2, 2)\n",
    "plot_share(df_log_status, 'status', 'Log level: status')\n",
    "\n",
    "plt.show()"
   ]
  },
  {
   "cell_type": "markdown",
   "metadata": {},
   "source": [
    "#### Page: NextSong"
   ]
  },
  {
   "cell_type": "code",
   "execution_count": 104,
   "metadata": {},
   "outputs": [
    {
     "data": {
      "image/png": "[encoded data removed]",
      "text/plain": [
       "<matplotlib.figure.Figure at 0x17137362048>"
      ]
     },
     "metadata": {},
     "output_type": "display_data"
    }
   ],
   "source": [
    "# Prepare data\n",
    "df_log_nextSong = data.where(data.page == 'NextSong') \\\n",
    "    .withColumn('total', get_log_total('churn')) \\\n",
    "    .groupby('churn', 'total') \\\n",
    "    .count() \\\n",
    "    .withColumn('share', col('count')/col('total')) \\\n",
    "    .drop('total') \\\n",
    "    .toPandas()\n",
    "\n",
    "# Split data by churn\n",
    "df0 = df_log_nextSong[df_nextSong.churn == 0].copy()\n",
    "df1 = df_log_nextSong[df_nextSong.churn == 1].copy()\n",
    "\n",
    "# Plot\n",
    "set_plot_size(2, 4);\n",
    "width =0.1\n",
    "plt.xticks(range(0), [])\n",
    "plt.ylabel('share')\n",
    "plt.bar(np.arange(1), df0['share'], width=width)\n",
    "plt.bar(np.arange(1) + width, df1['share'], width=width)\n",
    "ax = plt.gca()\n",
    "ax.set_title('Log level: NextSong');\n",
    "plt.legend(label_names, loc=4)\n",
    "plt.show()"
   ]
  },
  {
   "cell_type": "markdown",
   "metadata": {},
   "source": [
    "#### Page: non-NextSong (other) pages"
   ]
  },
  {
   "cell_type": "code",
   "execution_count": 150,
   "metadata": {},
   "outputs": [
    {
     "data": {
      "image/png": "[encoded data removed]",
      "text/plain": [
       "<matplotlib.figure.Figure at 0x171338c4a90>"
      ]
     },
     "metadata": {},
     "output_type": "display_data"
    }
   ],
   "source": [
    "# Apart from NextSong event we also exclude Cancel/Cancellation Confirmation events\n",
    "# that belong to the churn group only\n",
    "df_log_otherPages = data.where(~data.page.isin(['NextSong', 'Cancel', 'Cancellation Confirmation'])) \\\n",
    "    .withColumn('total', get_log_total('churn')) \\\n",
    "    .groupby('churn', 'total', 'page') \\\n",
    "    .count() \\\n",
    "    .withColumn('share', col('count')/col('total')) \\\n",
    "    .drop('total') \\\n",
    "    .toPandas()\n",
    "\n",
    "# Split data by churn\n",
    "df0 = df_log_otherPages[df_log_otherPages.churn == 0].sort_values(['page', 'churn']).copy()\n",
    "df1 = df_log_otherPages[df_log_otherPages.churn == 1].sort_values(['page', 'churn']).copy()\n",
    "\n",
    "# Plot\n",
    "set_plot_size(15, 7);\n",
    "width = 0.35\n",
    "labels = df0['page'].sort_values()\n",
    "plt.xticks(range(len(labels)), labels)\n",
    "plt.xlabel('page')\n",
    "plt.ylabel('share')\n",
    "plt.bar(np.arange(len(df0)), df0['share'], width=width)\n",
    "plt.bar(np.arange(len(df1))+width, df1['share'], width=width)\n",
    "plt.xticks(rotation = 90);\n",
    "ax = plt.gca()\n",
    "ax.set_title('Log level: Other pages');\n",
    "plt.legend(label_names, loc=1)\n",
    "plt.show()"
   ]
  },
  {
   "cell_type": "markdown",
   "metadata": {},
   "source": [
    "### User level\n",
    "We calculate a share of users with a selected feature for each target group."
   ]
  },
  {
   "cell_type": "markdown",
   "metadata": {},
   "source": [
    "#### Common variables and functions"
   ]
  },
  {
   "cell_type": "code",
   "execution_count": 95,
   "metadata": {
    "collapsed": true
   },
   "outputs": [],
   "source": [
    "# Count users for each churn group \n",
    "split = data.groupby('churn', 'userId').count()\n",
    "user_count0 = split.where(split.churn == 0).count()\n",
    "user_count1 = split.where(split.churn == 1).count()"
   ]
  },
  {
   "cell_type": "code",
   "execution_count": 152,
   "metadata": {
    "collapsed": true
   },
   "outputs": [],
   "source": [
    "get_user_total = udf(lambda x: user_count0 if x == 0 else user_count1)\n",
    "\n",
    "# Calculate user share for each churn group\n",
    "def calc_user_share(data, feature):\n",
    "     return data \\\n",
    "        .withColumn('total', get_user_total('churn')) \\\n",
    "        .select('churn', 'total', 'userId', feature) \\\n",
    "        .dropDuplicates() \\\n",
    "        .groupby('churn', 'total', feature) \\\n",
    "        .count() \\\n",
    "        .withColumn('share', col('count')/col('total')) \\\n",
    "        .sort('churn', feature) \\\n",
    "        .toPandas()"
   ]
  },
  {
   "cell_type": "markdown",
   "metadata": {},
   "source": [
    "#### User level: *Gender*, *Level*\n",
    "Note on *level*: Since a *level* is a **user-time dependent feature** we will observe here the level at the beginning of the observation period (*First level*) and the level at the end of the observation period (*Last level*). "
   ]
  },
  {
   "cell_type": "code",
   "execution_count": 159,
   "metadata": {},
   "outputs": [
    {
     "data": {
      "image/png": "[encoded data removed]",
      "text/plain": [
       "<matplotlib.figure.Figure at 0x17133fc7da0>"
      ]
     },
     "metadata": {},
     "output_type": "display_data"
    }
   ],
   "source": [
    "# Prepare data\n",
    "df_user_gender = calc_user_share(data, 'gender')\n",
    "df_user_firstLevel = calc_user_share(data.where(data.userRowId == 1).select('churn', 'userId', 'level'), 'level')\n",
    "df_user_lastLevel = calc_user_share(data, 'lastLevel')\n",
    "\n",
    "set_plot_size(15, 3);\n",
    "plt.subplots_adjust(wspace=0.4)\n",
    "\n",
    "# 1. Gender\n",
    "plt.subplot(1, 3, 1)\n",
    "plot_share(df_user_gender, 'gender', 'User level: Gender')\n",
    "\n",
    "# 2. First Level\n",
    "plt.subplot(1, 3, 2)\n",
    "plot_share(df_user_firstLevel, 'level', 'User level: First Level')\n",
    "\n",
    "# 3. Last level\n",
    "plt.subplot(1, 3, 3)\n",
    "plot_share(df_user_lastLevel, 'lastLevel', 'User level: Last Level')"
   ]
  },
  {
   "cell_type": "code",
   "execution_count": 163,
   "metadata": {},
   "outputs": [
    {
     "data": {
      "text/plain": [
       "<matplotlib.legend.Legend at 0x17133b10f60>"
      ]
     },
     "execution_count": 163,
     "metadata": {},
     "output_type": "execute_result"
    },
    {
     "data": {
      "image/png": "[encoded data removed]",
      "text/plain": [
       "<matplotlib.figure.Figure at 0x1713141b710>"
      ]
     },
     "metadata": {},
     "output_type": "display_data"
    }
   ],
   "source": [
    "    df = df_user_firstLevel\n",
    "    feature = 'level'\n",
    "    title = 'level'\n",
    "    \n",
    "    # split dataset into 2 churn subsets\n",
    "    df0 = df[df.churn == 0].sort_values(by='share', ascending=False)\n",
    "    df1 = df[df.churn == 1].sort_values(by='share', ascending=False)\n",
    "    \n",
    "    # plot\n",
    "    width = 0.35\n",
    "    labels = get_categories_list(feature)\n",
    "    plt.xticks(range(len(labels)), df0[feature])\n",
    "    plt.xlabel(feature)\n",
    "    plt.ylabel('share')\n",
    "    plt.bar(np.arange(len(df0)), df0['share'], width=width)\n",
    "    plt.bar(np.arange(len(df1))+ width, df1['share'], width=width)\n",
    "    ax = plt.gca()\n",
    "    ax.set_title(title);\n",
    "    plt.legend(label_names, loc=1)"
   ]
  },
  {
   "cell_type": "code",
   "execution_count": 167,
   "metadata": {},
   "outputs": [
    {
     "ename": "TypeError",
     "evalue": "sort_values() missing 1 required positional argument: 'by'",
     "output_type": "error",
     "traceback": [
      "\u001b[1;31m---------------------------------------------------------------------------\u001b[0m",
      "\u001b[1;31mTypeError\u001b[0m                                 Traceback (most recent call last)",
      "\u001b[1;32m<ipython-input-167-28671d7a4c90>\u001b[0m in \u001b[0;36m<module>\u001b[1;34m()\u001b[0m\n\u001b[1;32m----> 1\u001b[1;33m \u001b[0mdf_user_firstLevel\u001b[0m\u001b[1;33m.\u001b[0m\u001b[0msort_values\u001b[0m\u001b[1;33m(\u001b[0m\u001b[1;33m)\u001b[0m\u001b[1;33m[\u001b[0m\u001b[1;34m'level'\u001b[0m\u001b[1;33m]\u001b[0m\u001b[1;33m\u001b[0m\u001b[0m\n\u001b[0m",
      "\u001b[1;31mTypeError\u001b[0m: sort_values() missing 1 required positional argument: 'by'"
     ]
    }
   ],
   "source": [
    "df_user_firstLevel.sort_values()['level']"
   ]
  },
  {
   "cell_type": "code",
   "execution_count": 168,
   "metadata": {},
   "outputs": [
    {
     "data": {
      "text/plain": [
       "0    free\n",
       "1    paid\n",
       "2    free\n",
       "3    paid\n",
       "Name: level, dtype: object"
      ]
     },
     "execution_count": 168,
     "metadata": {},
     "output_type": "execute_result"
    }
   ],
   "source": [
    "df_user_firstLevel.sort_values(by=['churn', 'share'], ascending=[True, False])['level']"
   ]
  },
  {
   "cell_type": "code",
   "execution_count": null,
   "metadata": {
    "collapsed": true
   },
   "outputs": [],
   "source": []
  },
  {
   "cell_type": "code",
   "execution_count": 161,
   "metadata": {},
   "outputs": [
    {
     "data": {
      "text/plain": [
       "['free', 'paid']"
      ]
     },
     "execution_count": 161,
     "metadata": {},
     "output_type": "execute_result"
    }
   ],
   "source": [
    "get_categories_list('level')"
   ]
  },
  {
   "cell_type": "code",
   "execution_count": 162,
   "metadata": {},
   "outputs": [
    {
     "data": {
      "text/plain": [
       "['free', 'paid']"
      ]
     },
     "execution_count": 162,
     "metadata": {},
     "output_type": "execute_result"
    }
   ],
   "source": [
    "get_categories_list('lastLevel')"
   ]
  },
  {
   "cell_type": "code",
   "execution_count": null,
   "metadata": {
    "collapsed": true
   },
   "outputs": [],
   "source": []
  },
  {
   "cell_type": "code",
   "execution_count": 160,
   "metadata": {},
   "outputs": [
    {
     "data": {
      "text/html": [
       "<div>\n",
       "<style scoped>\n",
       "    .dataframe tbody tr th:only-of-type {\n",
       "        vertical-align: middle;\n",
       "    }\n",
       "\n",
       "    .dataframe tbody tr th {\n",
       "        vertical-align: top;\n",
       "    }\n",
       "\n",
       "    .dataframe thead th {\n",
       "        text-align: right;\n",
       "    }\n",
       "</style>\n",
       "<table border=\"1\" class=\"dataframe\">\n",
       "  <thead>\n",
       "    <tr style=\"text-align: right;\">\n",
       "      <th></th>\n",
       "      <th>churn</th>\n",
       "      <th>total</th>\n",
       "      <th>level</th>\n",
       "      <th>count</th>\n",
       "      <th>share</th>\n",
       "    </tr>\n",
       "  </thead>\n",
       "  <tbody>\n",
       "    <tr>\n",
       "      <th>0</th>\n",
       "      <td>0</td>\n",
       "      <td>158</td>\n",
       "      <td>free</td>\n",
       "      <td>122</td>\n",
       "      <td>0.772152</td>\n",
       "    </tr>\n",
       "    <tr>\n",
       "      <th>1</th>\n",
       "      <td>0</td>\n",
       "      <td>158</td>\n",
       "      <td>paid</td>\n",
       "      <td>36</td>\n",
       "      <td>0.227848</td>\n",
       "    </tr>\n",
       "    <tr>\n",
       "      <th>2</th>\n",
       "      <td>1</td>\n",
       "      <td>67</td>\n",
       "      <td>free</td>\n",
       "      <td>55</td>\n",
       "      <td>0.820896</td>\n",
       "    </tr>\n",
       "    <tr>\n",
       "      <th>3</th>\n",
       "      <td>1</td>\n",
       "      <td>67</td>\n",
       "      <td>paid</td>\n",
       "      <td>12</td>\n",
       "      <td>0.179104</td>\n",
       "    </tr>\n",
       "  </tbody>\n",
       "</table>\n",
       "</div>"
      ],
      "text/plain": [
       "   churn total level  count     share\n",
       "0      0   158  free    122  0.772152\n",
       "1      0   158  paid     36  0.227848\n",
       "2      1    67  free     55  0.820896\n",
       "3      1    67  paid     12  0.179104"
      ]
     },
     "execution_count": 160,
     "metadata": {},
     "output_type": "execute_result"
    }
   ],
   "source": [
    "df_user_firstLevel"
   ]
  },
  {
   "cell_type": "code",
   "execution_count": null,
   "metadata": {
    "collapsed": true
   },
   "outputs": [],
   "source": []
  },
  {
   "cell_type": "code",
   "execution_count": null,
   "metadata": {
    "collapsed": true
   },
   "outputs": [],
   "source": [
    "set_plot_size(9, 3);\n",
    "plt.subplots_adjust(wspace=0.4)\n",
    "\n",
    "# # Count users per gender\n",
    "df_gender_logs = data.select('gender').toPandas()\n",
    "plt.subplot(1, 2, 1)"
   ]
  },
  {
   "cell_type": "code",
   "execution_count": 115,
   "metadata": {},
   "outputs": [
    {
     "data": {
      "image/png": "[encoded data removed]",
      "text/plain": [
       "<matplotlib.figure.Figure at 0x17131483240>"
      ]
     },
     "metadata": {},
     "output_type": "display_data"
    }
   ],
   "source": [
    "df_gender = calc_user_share(data, 'gender')\n",
    "plot_share(df_gender, 'gender')"
   ]
  },
  {
   "cell_type": "markdown",
   "metadata": {},
   "source": [
    "#### User level: *Level*\n",
    "Note: Since a *level* is a **user-time dependent feature** we will observe here the level at the beginning of the observation period (First Level) and the level at the end of the observation period (Last Level).  "
   ]
  },
  {
   "cell_type": "code",
   "execution_count": 133,
   "metadata": {},
   "outputs": [
    {
     "data": {
      "image/png": "[encoded data removed]",
      "text/plain": [
       "<matplotlib.figure.Figure at 0x171340d6e80>"
      ]
     },
     "metadata": {},
     "output_type": "display_data"
    }
   ],
   "source": [
    "df_firstLevel = calc_user_share(data \\\n",
    "                               .where(data.userRowId == 1) \\\n",
    "                               .select('churn', 'userId', 'level'), 'level')\n",
    "plot_share(df_firstLevel, 'level', 'User level: First Level')"
   ]
  },
  {
   "cell_type": "code",
   "execution_count": 142,
   "metadata": {},
   "outputs": [
    {
     "data": {
      "image/png": "[encoded data removed]",
      "text/plain": [
       "<matplotlib.figure.Figure at 0x17131356f98>"
      ]
     },
     "metadata": {},
     "output_type": "display_data"
    }
   ],
   "source": [
    "df_lastLevel = calc_user_share(data, 'lastLevel')\n",
    "plot_share(df_lastLevel, 'lastLevel', 'User level: Last Level')"
   ]
  },
  {
   "cell_type": "code",
   "execution_count": 134,
   "metadata": {},
   "outputs": [
    {
     "data": {
      "text/html": [
       "<div>\n",
       "<style scoped>\n",
       "    .dataframe tbody tr th:only-of-type {\n",
       "        vertical-align: middle;\n",
       "    }\n",
       "\n",
       "    .dataframe tbody tr th {\n",
       "        vertical-align: top;\n",
       "    }\n",
       "\n",
       "    .dataframe thead th {\n",
       "        text-align: right;\n",
       "    }\n",
       "</style>\n",
       "<table border=\"1\" class=\"dataframe\">\n",
       "  <thead>\n",
       "    <tr style=\"text-align: right;\">\n",
       "      <th></th>\n",
       "      <th>churn</th>\n",
       "      <th>total</th>\n",
       "      <th>level</th>\n",
       "      <th>count</th>\n",
       "      <th>share</th>\n",
       "    </tr>\n",
       "  </thead>\n",
       "  <tbody>\n",
       "    <tr>\n",
       "      <th>0</th>\n",
       "      <td>0</td>\n",
       "      <td>158</td>\n",
       "      <td>free</td>\n",
       "      <td>122</td>\n",
       "      <td>0.772152</td>\n",
       "    </tr>\n",
       "    <tr>\n",
       "      <th>1</th>\n",
       "      <td>0</td>\n",
       "      <td>158</td>\n",
       "      <td>paid</td>\n",
       "      <td>36</td>\n",
       "      <td>0.227848</td>\n",
       "    </tr>\n",
       "    <tr>\n",
       "      <th>2</th>\n",
       "      <td>1</td>\n",
       "      <td>67</td>\n",
       "      <td>free</td>\n",
       "      <td>55</td>\n",
       "      <td>0.820896</td>\n",
       "    </tr>\n",
       "    <tr>\n",
       "      <th>3</th>\n",
       "      <td>1</td>\n",
       "      <td>67</td>\n",
       "      <td>paid</td>\n",
       "      <td>12</td>\n",
       "      <td>0.179104</td>\n",
       "    </tr>\n",
       "  </tbody>\n",
       "</table>\n",
       "</div>"
      ],
      "text/plain": [
       "   churn total level  count     share\n",
       "0      0   158  free    122  0.772152\n",
       "1      0   158  paid     36  0.227848\n",
       "2      1    67  free     55  0.820896\n",
       "3      1    67  paid     12  0.179104"
      ]
     },
     "execution_count": 134,
     "metadata": {},
     "output_type": "execute_result"
    }
   ],
   "source": [
    "df_firstLevel"
   ]
  },
  {
   "cell_type": "code",
   "execution_count": 135,
   "metadata": {},
   "outputs": [
    {
     "data": {
      "text/html": [
       "<div>\n",
       "<style scoped>\n",
       "    .dataframe tbody tr th:only-of-type {\n",
       "        vertical-align: middle;\n",
       "    }\n",
       "\n",
       "    .dataframe tbody tr th {\n",
       "        vertical-align: top;\n",
       "    }\n",
       "\n",
       "    .dataframe thead th {\n",
       "        text-align: right;\n",
       "    }\n",
       "</style>\n",
       "<table border=\"1\" class=\"dataframe\">\n",
       "  <thead>\n",
       "    <tr style=\"text-align: right;\">\n",
       "      <th></th>\n",
       "      <th>churn</th>\n",
       "      <th>total</th>\n",
       "      <th>lastLevel</th>\n",
       "      <th>count</th>\n",
       "      <th>share</th>\n",
       "    </tr>\n",
       "  </thead>\n",
       "  <tbody>\n",
       "    <tr>\n",
       "      <th>0</th>\n",
       "      <td>0</td>\n",
       "      <td>209038</td>\n",
       "      <td>free</td>\n",
       "      <td>44</td>\n",
       "      <td>0.000210</td>\n",
       "    </tr>\n",
       "    <tr>\n",
       "      <th>1</th>\n",
       "      <td>0</td>\n",
       "      <td>209038</td>\n",
       "      <td>paid</td>\n",
       "      <td>114</td>\n",
       "      <td>0.000545</td>\n",
       "    </tr>\n",
       "    <tr>\n",
       "      <th>2</th>\n",
       "      <td>1</td>\n",
       "      <td>69116</td>\n",
       "      <td>free</td>\n",
       "      <td>36</td>\n",
       "      <td>0.000521</td>\n",
       "    </tr>\n",
       "    <tr>\n",
       "      <th>3</th>\n",
       "      <td>1</td>\n",
       "      <td>69116</td>\n",
       "      <td>paid</td>\n",
       "      <td>31</td>\n",
       "      <td>0.000449</td>\n",
       "    </tr>\n",
       "  </tbody>\n",
       "</table>\n",
       "</div>"
      ],
      "text/plain": [
       "   churn   total lastLevel  count     share\n",
       "0      0  209038      free     44  0.000210\n",
       "1      0  209038      paid    114  0.000545\n",
       "2      1   69116      free     36  0.000521\n",
       "3      1   69116      paid     31  0.000449"
      ]
     },
     "execution_count": 135,
     "metadata": {},
     "output_type": "execute_result"
    }
   ],
   "source": [
    "df_lastLevel"
   ]
  },
  {
   "cell_type": "code",
   "execution_count": null,
   "metadata": {
    "collapsed": true
   },
   "outputs": [],
   "source": []
  },
  {
   "cell_type": "code",
   "execution_count": 127,
   "metadata": {},
   "outputs": [
    {
     "data": {
      "image/png": "[encoded data removed]",
      "text/plain": [
       "<Figure size 360x360 with 1 Axes>"
      ]
     },
     "metadata": {
      "needs_background": "light"
     },
     "output_type": "display_data"
    }
   ],
   "source": [
    "def calc_churn_share(row):\n",
    "    if row['level'] == 'paid':\n",
    "        return row['count']/row['paid_total']\n",
    "    else:\n",
    "        return row['count']/row['free_total']\n",
    "\n",
    "# prepare data\n",
    "df = data \\\n",
    "    .groupby('level', 'churn') \\\n",
    "    .count() \\\n",
    "    .withColumn('paid_total', lit(data.where(data.level == 'paid').count())) \\\n",
    "    .withColumn('free_total', lit(data.where(data.level == 'free').count())) \\\n",
    "    .toPandas()\n",
    "\n",
    "df['churn_share'] = df.apply(lambda row: calc_churn_share(row), axis=1)\n",
    "df1 = df[df.level == 'paid'].sort_values(by='churn')['churn_share']\n",
    "df2 = df[df.level == 'free'].sort_values(by='churn')['churn_share']\n",
    "\n",
    "# plot\n",
    "plt.figure(figsize = [5, 5])\n",
    "width = 0.4\n",
    "labels = ['Active', 'Churned']\n",
    "plt.xticks(range(2), labels)\n",
    "plt.xlabel('Level')\n",
    "plt.ylabel('Churn')\n",
    "plt.bar(np.arange(len(df1)), df1, width=width)\n",
    "plt.bar(np.arange(len(df2))+width, df2, width=width)\n",
    "ax = plt.gca()\n",
    "ax.set_title('Churn vs. Level');\n",
    "plt.legend(['paid', 'free'], loc=1)\n",
    "plt.show()"
   ]
  },
  {
   "cell_type": "markdown",
   "metadata": {},
   "source": [
    "#### Location (state)"
   ]
  },
  {
   "cell_type": "code",
   "execution_count": 129,
   "metadata": {},
   "outputs": [
    {
     "data": {
      "image/png": "[encoded data removed]",
      "text/plain": [
       "<Figure size 864x360 with 1 Axes>"
      ]
     },
     "metadata": {
      "needs_background": "light"
     },
     "output_type": "display_data"
    }
   ],
   "source": [
    "df = data \\\n",
    "    .select('churn', 'state', 'userId') \\\n",
    "    .dropDuplicates() \\\n",
    "    .groupby('churn', 'state') \\\n",
    "    .count() \\\n",
    "    .toPandas().set_index('state')\n",
    "\n",
    "states = df[df.churn == 0].join(df[df.churn == 1], lsuffix='_active', rsuffix='_churn') \\\n",
    "                          .dropna()[['count_active', 'count_churn']]\n",
    "states.count_churn = states.count_churn.astype(int)\n",
    "states['churn_share'] = states['count_churn']/(states['count_churn'] + states['count_active'])\n",
    "\n",
    "states.sort_values(by='churn_share', ascending=False) \\\n",
    "    .plot(x = states.index, y = 'churn_share', kind='bar', figsize = (12, 5), width=0.6);\n",
    "ax = plt.gca()\n",
    "ax.set_title('Churn vs. Location (state)');\n",
    "plt.xlabel('Location (state)')\n",
    "plt.ylabel('Churn')\n",
    "plt.show()"
   ]
  },
  {
   "cell_type": "markdown",
   "metadata": {},
   "source": [
    "#### Session"
   ]
  },
  {
   "cell_type": "code",
   "execution_count": 137,
   "metadata": {
    "collapsed": true
   },
   "outputs": [],
   "source": [
    "# Prepare dataset\n",
    "df = data.groupby('userId', 'churn', 'sessionId') \\\n",
    "    .agg(count('sessionId').alias('logCount'), ((max('ts') - min('ts'))/60000.0).alias('duration')) \\\n",
    "    .groupby('userId', 'churn') \\\n",
    "    .agg(avg('logCount').alias('avgLogsPerSession'), \\\n",
    "         avg('duration').alias('avgDurationPerSession')) \\\n",
    "    .toPandas()"
   ]
  },
  {
   "cell_type": "markdown",
   "metadata": {},
   "source": [
    "#### Session: Average logs per user session"
   ]
  },
  {
   "cell_type": "code",
   "execution_count": 139,
   "metadata": {},
   "outputs": [
    {
     "data": {
      "image/png": "[encoded data removed]",
      "text/plain": [
       "<Figure size 864x288 with 1 Axes>"
      ]
     },
     "metadata": {
      "needs_background": "light"
     },
     "output_type": "display_data"
    }
   ],
   "source": [
    "# plot\n",
    "plt.figure(figsize=(12, 4))\n",
    "plt.hist(df[df.churn == 0]['avgLogsPerSession'], alpha = 0.5, label=\"churned\", bins = 20)\n",
    "plt.hist(df[df.churn == 1]['avgLogsPerSession'], alpha = 0.5, label=\"active\", bins = 20)\n",
    "plt.xlabel('Average logs per user session')\n",
    "ax = plt.gca()\n",
    "ax.set_title('Churn vs. Activity (logs per session on average)');\n",
    "plt.legend(loc='upper right')\n",
    "plt.show()"
   ]
  },
  {
   "cell_type": "markdown",
   "metadata": {},
   "source": [
    "#### Session: Average duration logs per user session"
   ]
  },
  {
   "cell_type": "code",
   "execution_count": 140,
   "metadata": {},
   "outputs": [
    {
     "data": {
      "image/png": "[encoded data removed]",
      "text/plain": [
       "<Figure size 864x288 with 1 Axes>"
      ]
     },
     "metadata": {
      "needs_background": "light"
     },
     "output_type": "display_data"
    }
   ],
   "source": [
    "plt.figure(figsize=(12, 4))\n",
    "plt.hist(df[df.churn == 0]['avgDurationPerSession'], alpha = 0.5, label=\"churned\", bins = 20)\n",
    "plt.hist(df[df.churn == 1]['avgDurationPerSession'], alpha = 0.5, label=\"active\", bins = 20)\n",
    "plt.xlabel('Average duration')\n",
    "ax = plt.gca()\n",
    "ax.set_title('Churn vs. Activity (duration per session on average)');\n",
    "plt.legend(loc='upper right')\n",
    "plt.show()"
   ]
  },
  {
   "cell_type": "markdown",
   "metadata": {},
   "source": [
    "#### Page"
   ]
  },
  {
   "cell_type": "code",
   "execution_count": null,
   "metadata": {
    "collapsed": true
   },
   "outputs": [],
   "source": [
    "df = data \\\n",
    "    .where(data.page != 'NextSong') \\\n",
    "    .groupby('churn', 'page') \\\n",
    "    .count() \\\n",
    "    .toPandas().set_index('page')"
   ]
  },
  {
   "cell_type": "markdown",
   "metadata": {},
   "source": [
    "#### Page: Other activity"
   ]
  },
  {
   "cell_type": "code",
   "execution_count": null,
   "metadata": {
    "collapsed": true
   },
   "outputs": [],
   "source": []
  },
  {
   "cell_type": "code",
   "execution_count": null,
   "metadata": {
    "collapsed": true
   },
   "outputs": [],
   "source": []
  },
  {
   "cell_type": "code",
   "execution_count": null,
   "metadata": {
    "collapsed": true
   },
   "outputs": [],
   "source": []
  },
  {
   "cell_type": "markdown",
   "metadata": {},
   "source": [
    "#### Page: Other activity"
   ]
  },
  {
   "cell_type": "code",
   "execution_count": 141,
   "metadata": {
    "collapsed": true
   },
   "outputs": [],
   "source": [
    "# Prepare dataset\n",
    "df = data \\\n",
    "    .where(data.page != 'NextSong') \\\n",
    "    .groupby('churn', 'page') \\\n",
    "    .count() \\\n",
    "    .toPandas().set_index('page')"
   ]
  },
  {
   "cell_type": "code",
   "execution_count": 143,
   "metadata": {},
   "outputs": [
    {
     "data": {
      "image/png": "[encoded data removed]",
      "text/plain": [
       "<Figure size 1080x504 with 1 Axes>"
      ]
     },
     "metadata": {
      "needs_background": "light"
     },
     "output_type": "display_data"
    }
   ],
   "source": [
    "# Active\n",
    "df_active = df[df.churn == 0].copy()\n",
    "total_active = df_active['count'].sum()\n",
    "df_active['share'] = df_active['count']/total_active\n",
    "df1 = df_active.share\n",
    "\n",
    "# Churned\n",
    "df_churned = df[df.churn == 1].copy()\n",
    "total_churned = df_churned['count'].sum()\n",
    "df_churned['share'] = df_churned['count']/total_churned\n",
    "df2 = df_churned.share\n",
    "\n",
    "# plot\n",
    "plt.figure(figsize = [15, 7])\n",
    "width = 0.35\n",
    "labels = df.index.values\n",
    "plt.xticks(range(len(labels)), labels)\n",
    "plt.xlabel('Activity (page)')\n",
    "plt.ylabel('Share')\n",
    "plt.bar(np.arange(len(df1)), df1, width=width)\n",
    "plt.bar(np.arange(len(df2))+width, df2, width=width)\n",
    "plt.xticks(rotation = 90);\n",
    "ax = plt.gca()\n",
    "ax.set_title('Churn vs. Page Other Activity');\n",
    "plt.legend(['Active', 'Churned'], loc=1)\n",
    "plt.show()"
   ]
  },
  {
   "cell_type": "code",
   "execution_count": null,
   "metadata": {
    "collapsed": true
   },
   "outputs": [],
   "source": []
  },
  {
   "cell_type": "code",
   "execution_count": null,
   "metadata": {
    "collapsed": true
   },
   "outputs": [],
   "source": []
  },
  {
   "cell_type": "markdown",
   "metadata": {},
   "source": [
    "# Feature Engineering\n",
    "Once you've familiarized yourself with the data, build out the features you find promising to train your model on. To work with the full dataset, you can follow the following steps.\n",
    "- Write a script to extract the necessary features from the smaller subset of data\n",
    "- Ensure that your script is scalable, using the best practices discussed in Lesson 3\n",
    "- Try your script on the full data set, debugging your script if necessary\n",
    "\n",
    "If you are working in the classroom workspace, you can just extract features based on the small subset of data contained here. Be sure to transfer over this work to the larger dataset when you work on your Spark cluster."
   ]
  },
  {
   "cell_type": "code",
   "execution_count": null,
   "metadata": {
    "collapsed": true
   },
   "outputs": [],
   "source": []
  },
  {
   "cell_type": "markdown",
   "metadata": {},
   "source": [
    "# Modeling\n",
    "Split the full dataset into train, test, and validation sets. Test out several of the machine learning methods you learned. Evaluate the accuracy of the various models, tuning parameters as necessary. Determine your winning model based on test accuracy and report results on the validation set. Since the churned users are a fairly small subset, I suggest using F1 score as the metric to optimize."
   ]
  },
  {
   "cell_type": "code",
   "execution_count": null,
   "metadata": {
    "collapsed": true
   },
   "outputs": [],
   "source": []
  },
  {
   "cell_type": "markdown",
   "metadata": {},
   "source": [
    "# Final Steps\n",
    "Clean up your code, adding comments and renaming variables to make the code easier to read and maintain. Refer to the Spark Project Overview page and Data Scientist Capstone Project Rubric to make sure you are including all components of the capstone project and meet all expectations. Remember, this includes thorough documentation in a README file in a Github repository, as well as a web app or blog post."
   ]
  },
  {
   "cell_type": "code",
   "execution_count": null,
   "metadata": {
    "collapsed": true
   },
   "outputs": [],
   "source": []
  }
 ],
 "metadata": {
  "kernelspec": {
   "display_name": "Python 3",
   "language": "python",
   "name": "python3"
  },
  "language_info": {
   "codemirror_mode": {
    "name": "ipython",
    "version": 3
   },
   "file_extension": ".py",
   "mimetype": "text/x-python",
   "name": "python",
   "nbconvert_exporter": "python",
   "pygments_lexer": "ipython3",
   "version": "3.6.3"
  }
 },
 "nbformat": 4,
 "nbformat_minor": 2
}
