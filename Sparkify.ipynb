{
 "cells": [
  {
   "cell_type": "markdown",
   "metadata": {},
   "source": [
    "# Sparkify Project Workspace\n",
    "This workspace contains a tiny subset (128MB) of the full dataset available (12GB). Feel free to use this workspace to build your project, or to explore a smaller subset with Spark before deploying your cluster on the cloud. Instructions for setting up your Spark cluster is included in the last lesson of the Extracurricular Spark Course content.\n",
    "\n",
    "You can follow the steps below to guide your data analysis and model building portion of this project."
   ]
  },
  {
   "cell_type": "markdown",
   "metadata": {},
   "source": [
    "##### TODO: Introduction"
   ]
  },
  {
   "cell_type": "code",
   "execution_count": 2,
   "metadata": {},
   "outputs": [],
   "source": [
    "# Import libraries\n",
    "from pyspark.sql import SparkSession\n",
    "from pyspark.sql.functions import isnan, count, when, col, desc, udf, col, sort_array, asc, \\\n",
    "                                  avg, from_unixtime, split, min, max, lit, mean\n",
    "from pyspark.sql.functions import sum as Fsum\n",
    "from pyspark.sql.functions import row_number\n",
    "from pyspark.sql.window import Window\n",
    "\n",
    "from pyspark.sql.types import IntegerType, TimestampType\n",
    "import datetime\n",
    "from pyspark.sql.functions import to_date, year, month, dayofmonth, dayofweek, hour, date_format, substring\n",
    "\n",
    "import numpy as np\n",
    "import pandas as pd\n",
    "%matplotlib inline\n",
    "import matplotlib.pyplot as plt\n",
    "from matplotlib import gridspec\n",
    "import seaborn as sb"
   ]
  },
  {
   "cell_type": "code",
   "execution_count": 3,
   "metadata": {},
   "outputs": [],
   "source": [
    "# Create a Spark session\n",
    "spark = SparkSession \\\n",
    "    .builder \\\n",
    "    .appName(\"Sparkify\") \\\n",
    "    .getOrCreate()"
   ]
  },
  {
   "cell_type": "code",
   "execution_count": 4,
   "metadata": {},
   "outputs": [],
   "source": [
    "# Set time parser policy\n",
    "spark.conf.set(\"spark.sql.legacy.timeParserPolicy\",\"LEGACY\")"
   ]
  },
  {
   "cell_type": "markdown",
   "metadata": {},
   "source": [
    "# Load and Clean Dataset\n",
    "In this workspace, the mini-dataset file is `mini_sparkify_event_data.json`. Load and clean the dataset, checking for invalid or missing data - for example, records without userids or sessionids. "
   ]
  },
  {
   "cell_type": "code",
   "execution_count": 5,
   "metadata": {},
   "outputs": [
    {
     "data": {
      "text/plain": [
       "[Row(artist='Martha Tilston', auth='Logged In', firstName='Colin', gender='M', itemInSession=50, lastName='Freeman', length=277.89016, level='paid', location='Bakersfield, CA', method='PUT', page='NextSong', registration=1538173362000, sessionId=29, song='Rockpools', status=200, ts=1538352117000, userAgent='Mozilla/5.0 (Windows NT 6.1; WOW64; rv:31.0) Gecko/20100101 Firefox/31.0', userId='30')]"
      ]
     },
     "execution_count": 5,
     "metadata": {},
     "output_type": "execute_result"
    }
   ],
   "source": [
    "# Load dataset\n",
    "path = \"data/mini_sparkify_event_data.json\"\n",
    "data = spark.read.json(path)\n",
    "original_count = data.count()\n",
    "data.take(1)"
   ]
  },
  {
   "cell_type": "markdown",
   "metadata": {},
   "source": [
    "### Data set size and schema"
   ]
  },
  {
   "cell_type": "code",
   "execution_count": 6,
   "metadata": {},
   "outputs": [
    {
     "name": "stdout",
     "output_type": "stream",
     "text": [
      "Row count: 286500\n",
      "Column count: 18\n"
     ]
    }
   ],
   "source": [
    "# Dataset size\n",
    "print(f'Row count: {original_count}')\n",
    "print(f'Column count: {len(data.columns)}')"
   ]
  },
  {
   "cell_type": "code",
   "execution_count": 7,
   "metadata": {},
   "outputs": [
    {
     "name": "stdout",
     "output_type": "stream",
     "text": [
      "root\n",
      " |-- artist: string (nullable = true)\n",
      " |-- auth: string (nullable = true)\n",
      " |-- firstName: string (nullable = true)\n",
      " |-- gender: string (nullable = true)\n",
      " |-- itemInSession: long (nullable = true)\n",
      " |-- lastName: string (nullable = true)\n",
      " |-- length: double (nullable = true)\n",
      " |-- level: string (nullable = true)\n",
      " |-- location: string (nullable = true)\n",
      " |-- method: string (nullable = true)\n",
      " |-- page: string (nullable = true)\n",
      " |-- registration: long (nullable = true)\n",
      " |-- sessionId: long (nullable = true)\n",
      " |-- song: string (nullable = true)\n",
      " |-- status: long (nullable = true)\n",
      " |-- ts: long (nullable = true)\n",
      " |-- userAgent: string (nullable = true)\n",
      " |-- userId: string (nullable = true)\n",
      "\n"
     ]
    }
   ],
   "source": [
    "# Schema\n",
    "data.printSchema()"
   ]
  },
  {
   "cell_type": "markdown",
   "metadata": {},
   "source": [
    "### Columns description"
   ]
  },
  {
   "cell_type": "code",
   "execution_count": 8,
   "metadata": {},
   "outputs": [],
   "source": [
    "def unique(data, column):\n",
    "    \"\"\"Return unique values with row count of a given column in the data set.\n",
    "    \n",
    "    Args:\n",
    "        data (DataFrame): The data set. \n",
    "        column (str): The name of a target column.\n",
    "\n",
    "    Returns:\n",
    "        DataFrame: A dataframe query sorted by count descending.\n",
    "    \"\"\"\n",
    "    return data.groupby(column).count().sort(desc('count'))"
   ]
  },
  {
   "cell_type": "markdown",
   "metadata": {},
   "source": [
    "**artist**: Interpreter(s) of a song. Is given only when the music is played (on *NextSong* event)."
   ]
  },
  {
   "cell_type": "markdown",
   "metadata": {},
   "source": [
    "**auth**: The authentication level"
   ]
  },
  {
   "cell_type": "code",
   "execution_count": 9,
   "metadata": {},
   "outputs": [
    {
     "name": "stdout",
     "output_type": "stream",
     "text": [
      "+----------+------+\n",
      "|      auth| count|\n",
      "+----------+------+\n",
      "| Logged In|278102|\n",
      "|Logged Out|  8249|\n",
      "|     Guest|    97|\n",
      "| Cancelled|    52|\n",
      "+----------+------+\n",
      "\n"
     ]
    }
   ],
   "source": [
    "unique(data, 'auth').show()"
   ]
  },
  {
   "cell_type": "markdown",
   "metadata": {},
   "source": [
    "**firstName**: The first name of a user"
   ]
  },
  {
   "cell_type": "markdown",
   "metadata": {},
   "source": [
    "**gender**: The gender of a user"
   ]
  },
  {
   "cell_type": "code",
   "execution_count": 104,
   "metadata": {},
   "outputs": [
    {
     "name": "stdout",
     "output_type": "stream",
     "text": [
      "+------+------+\n",
      "|gender| count|\n",
      "+------+------+\n",
      "|     F|154578|\n",
      "|     M|123576|\n",
      "|  null|  8346|\n",
      "+------+------+\n",
      "\n"
     ]
    }
   ],
   "source": [
    "unique(data, 'gender').show()"
   ]
  },
  {
   "cell_type": "markdown",
   "metadata": {},
   "source": [
    "**itemInSession**: The zero-based index of a log event in a sesion"
   ]
  },
  {
   "cell_type": "code",
   "execution_count": 59,
   "metadata": {},
   "outputs": [
    {
     "name": "stdout",
     "output_type": "stream",
     "text": [
      "+-------------+-------------+---------+\n",
      "|           ts|itemInSession|     page|\n",
      "+-------------+-------------+---------+\n",
      "|1539003534000|            0| NextSong|\n",
      "|1539003736000|            1| NextSong|\n",
      "|1539003932000|            2| NextSong|\n",
      "|1539003933000|            3|Thumbs Up|\n",
      "|1539004195000|            4| NextSong|\n",
      "+-------------+-------------+---------+\n",
      "only showing top 5 rows\n",
      "\n"
     ]
    }
   ],
   "source": [
    "data.where(data.sessionId == 31).select('ts', 'itemInSession', 'page').sort('ts').show(5)"
   ]
  },
  {
   "cell_type": "markdown",
   "metadata": {},
   "source": [
    "**lastName**: The last name of a user"
   ]
  },
  {
   "cell_type": "markdown",
   "metadata": {},
   "source": [
    "**length**: The length of a song (in seconds)"
   ]
  },
  {
   "cell_type": "markdown",
   "metadata": {},
   "source": [
    "**level**: The subscription level of a user"
   ]
  },
  {
   "cell_type": "code",
   "execution_count": 105,
   "metadata": {},
   "outputs": [
    {
     "name": "stdout",
     "output_type": "stream",
     "text": [
      "+-----+------+\n",
      "|level| count|\n",
      "+-----+------+\n",
      "| paid|228162|\n",
      "| free| 58338|\n",
      "+-----+------+\n",
      "\n"
     ]
    }
   ],
   "source": [
    "unique(data, 'level').show()"
   ]
  },
  {
   "cell_type": "markdown",
   "metadata": {},
   "source": [
    "**location**: The location of a user (containing *city*, *state*)"
   ]
  },
  {
   "cell_type": "code",
   "execution_count": 106,
   "metadata": {},
   "outputs": [
    {
     "name": "stdout",
     "output_type": "stream",
     "text": [
      "+-------------------------------------+-----+\n",
      "|location                             |count|\n",
      "+-------------------------------------+-----+\n",
      "|Los Angeles-Long Beach-Anaheim, CA   |30131|\n",
      "|New York-Newark-Jersey City, NY-NJ-PA|23684|\n",
      "|Boston-Cambridge-Newton, MA-NH       |13873|\n",
      "|Houston-The Woodlands-Sugar Land, TX |9499 |\n",
      "|null                                 |8346 |\n",
      "+-------------------------------------+-----+\n",
      "only showing top 5 rows\n",
      "\n"
     ]
    }
   ],
   "source": [
    "unique(data, 'location').show(5, False)"
   ]
  },
  {
   "cell_type": "markdown",
   "metadata": {},
   "source": [
    "**method**: The http request method"
   ]
  },
  {
   "cell_type": "code",
   "execution_count": 107,
   "metadata": {},
   "outputs": [
    {
     "name": "stdout",
     "output_type": "stream",
     "text": [
      "+------+------+\n",
      "|method| count|\n",
      "+------+------+\n",
      "|   PUT|261064|\n",
      "|   GET| 25436|\n",
      "+------+------+\n",
      "\n"
     ]
    }
   ],
   "source": [
    "unique(data, 'method').show()"
   ]
  },
  {
   "cell_type": "markdown",
   "metadata": {},
   "source": [
    "**page**: The type of user interaction (or event log type)"
   ]
  },
  {
   "cell_type": "code",
   "execution_count": 108,
   "metadata": {},
   "outputs": [
    {
     "name": "stdout",
     "output_type": "stream",
     "text": [
      "+-------------------------+------+\n",
      "|page                     |count |\n",
      "+-------------------------+------+\n",
      "|NextSong                 |228108|\n",
      "|Home                     |14457 |\n",
      "|Thumbs Up                |12551 |\n",
      "|Add to Playlist          |6526  |\n",
      "|Add Friend               |4277  |\n",
      "|Roll Advert              |3933  |\n",
      "|Login                    |3241  |\n",
      "|Logout                   |3226  |\n",
      "|Thumbs Down              |2546  |\n",
      "|Downgrade                |2055  |\n",
      "|Help                     |1726  |\n",
      "|Settings                 |1514  |\n",
      "|About                    |924   |\n",
      "|Upgrade                  |499   |\n",
      "|Save Settings            |310   |\n",
      "|Error                    |258   |\n",
      "|Submit Upgrade           |159   |\n",
      "|Submit Downgrade         |63    |\n",
      "|Cancel                   |52    |\n",
      "|Cancellation Confirmation|52    |\n",
      "|Register                 |18    |\n",
      "|Submit Registration      |5     |\n",
      "+-------------------------+------+\n",
      "\n"
     ]
    }
   ],
   "source": [
    "unique(data, 'page').show(30, False)"
   ]
  },
  {
   "cell_type": "markdown",
   "metadata": {},
   "source": [
    "**registration**: The timestamp of a user registration"
   ]
  },
  {
   "cell_type": "markdown",
   "metadata": {},
   "source": [
    "**sesionId**: The identifier of a user session"
   ]
  },
  {
   "cell_type": "markdown",
   "metadata": {},
   "source": [
    "**song**: The name of a song"
   ]
  },
  {
   "cell_type": "code",
   "execution_count": 72,
   "metadata": {},
   "outputs": [
    {
     "name": "stdout",
     "output_type": "stream",
     "text": [
      "+-----------------+\n",
      "|song             |\n",
      "+-----------------+\n",
      "|null             |\n",
      "|Alejandro        |\n",
      "|Ali In The Jungle|\n",
      "|All I Ever Wanted|\n",
      "|All My Friends   |\n",
      "+-----------------+\n",
      "only showing top 5 rows\n",
      "\n"
     ]
    }
   ],
   "source": [
    "unique(data.where(data.userId == 100001), 'song').show(5, False)"
   ]
  },
  {
   "cell_type": "markdown",
   "metadata": {},
   "source": [
    "**status**: The http response status code"
   ]
  },
  {
   "cell_type": "code",
   "execution_count": 109,
   "metadata": {},
   "outputs": [
    {
     "name": "stdout",
     "output_type": "stream",
     "text": [
      "+------+------+\n",
      "|status|count |\n",
      "+------+------+\n",
      "|200   |259812|\n",
      "|307   |26430 |\n",
      "|404   |258   |\n",
      "+------+------+\n",
      "\n"
     ]
    }
   ],
   "source": [
    "unique(data, 'status').show(5, False)"
   ]
  },
  {
   "cell_type": "markdown",
   "metadata": {},
   "source": [
    "**ts**: The timestamp of an event log"
   ]
  },
  {
   "cell_type": "markdown",
   "metadata": {},
   "source": [
    "**userAgent**: The user's agent used to access the streaming service "
   ]
  },
  {
   "cell_type": "markdown",
   "metadata": {},
   "source": [
    "**userId**: The identifier of a user"
   ]
  },
  {
   "cell_type": "markdown",
   "metadata": {},
   "source": [
    "### Duplicate rows"
   ]
  },
  {
   "cell_type": "code",
   "execution_count": 10,
   "metadata": {},
   "outputs": [
    {
     "name": "stdout",
     "output_type": "stream",
     "text": [
      "Duplicate rows: 0\n"
     ]
    }
   ],
   "source": [
    "# Any duplicate rows? - No\n",
    "print(f'Duplicate rows: {data.count() - data.dropDuplicates().count()}')"
   ]
  },
  {
   "cell_type": "markdown",
   "metadata": {},
   "source": [
    "### Missing values"
   ]
  },
  {
   "cell_type": "code",
   "execution_count": 11,
   "metadata": {},
   "outputs": [],
   "source": [
    "def filter_missing(data, column):\n",
    "    \"\"\"Returns rows with missing values for a given column where a missing value\n",
    "    is either null or empty string.\n",
    "    \n",
    "    Args:\n",
    "        data (DataFrame): The data set.\n",
    "        column (str): The name of a target column.    \n",
    "        \n",
    "    Returns:\n",
    "        DataFrame: A dataframe query with missing values.\n",
    "    \"\"\"\n",
    "    return data.where((col(column).isNull()) | (col(column) == ''))\n",
    "\n",
    "def show_missing(data):\n",
    "    \"\"\"Shows the count of missing values for every column in a given data set.\n",
    "    \n",
    "    Args:\n",
    "        data (DataFrame): The data set.\n",
    "        \n",
    "    Returns:\n",
    "        None\n",
    "    \"\"\"\n",
    "    for field in data.schema:\n",
    "        print(f'{field.name}: {filter_missing(data, field.name).count()}')"
   ]
  },
  {
   "cell_type": "code",
   "execution_count": 10,
   "metadata": {},
   "outputs": [
    {
     "name": "stdout",
     "output_type": "stream",
     "text": [
      "artist: 58392\n",
      "auth: 0\n",
      "firstName: 8346\n",
      "gender: 8346\n",
      "itemInSession: 0\n",
      "lastName: 8346\n",
      "length: 58392\n",
      "level: 0\n",
      "location: 8346\n",
      "method: 0\n",
      "page: 0\n",
      "registration: 8346\n",
      "sessionId: 0\n",
      "song: 58392\n",
      "status: 0\n",
      "ts: 0\n",
      "userAgent: 8346\n",
      "userId: 8346\n"
     ]
    }
   ],
   "source": [
    "show_missing(data)"
   ]
  },
  {
   "cell_type": "markdown",
   "metadata": {},
   "source": [
    "Check if 8346 missing values in the user-related columns (*firstName*, *gender*, *lastName*, *location*, *registration*, *userAgent*, *userId*) belong to the same rows:"
   ]
  },
  {
   "cell_type": "code",
   "execution_count": 12,
   "metadata": {},
   "outputs": [],
   "source": [
    "class Missing:\n",
    "    \"\"\"A helper class to simplify filtering the missing values.  \n",
    "    \n",
    "    Attributes:\n",
    "        missing_data: A dataframe query that is built by filter_missing method.   \n",
    "    \"\"\"\n",
    "    missing_data = None\n",
    "    \n",
    "    def __init__(self, data):\n",
    "        self.missing_data = data\n",
    "        \n",
    "    def filter_missing(self, name):\n",
    "        \"\"\"A method that filters the missing values.\n",
    "        \n",
    "        We can use this method in a consecutive manner.\n",
    "        \n",
    "        Args:\n",
    "            name (str): The name of a column to filter.\n",
    "            \n",
    "        Returns:\n",
    "            DataFrame: A dataframe query with missing values.\n",
    "        \"\"\"\n",
    "        self.missing_data = filter_missing(data, name) \n",
    "        return self  "
   ]
  },
  {
   "cell_type": "code",
   "execution_count": 13,
   "metadata": {},
   "outputs": [
    {
     "name": "stdout",
     "output_type": "stream",
     "text": [
      "Missing count: 8346\n"
     ]
    }
   ],
   "source": [
    "m = Missing(data) \\\n",
    "    .filter_missing('userId') \\\n",
    "    .filter_missing('firstName') \\\n",
    "    .filter_missing('lastName') \\\n",
    "    .filter_missing('gender') \\\n",
    "    .filter_missing('location') \\\n",
    "    .filter_missing('registration') \\\n",
    "    .filter_missing('userAgent')\n",
    "print(f'Missing count: {m.missing_data.count()}')"
   ]
  },
  {
   "cell_type": "markdown",
   "metadata": {},
   "source": [
    "As the filtering criterion contains the logical conjunction of all user-related columns and the count result of missing values is the same as when a single user-related column is filtered we may conclude that the missing values occur *in the same rows*. This behaviour is in tune with the logic which tells us that if a user identifier is missing then also all the related user attributes should be missing too. "
   ]
  },
  {
   "cell_type": "markdown",
   "metadata": {},
   "source": [
    "**What kind of a user has missing attributes?**"
   ]
  },
  {
   "cell_type": "code",
   "execution_count": 75,
   "metadata": {},
   "outputs": [
    {
     "name": "stdout",
     "output_type": "stream",
     "text": [
      "+----------+\n",
      "|      auth|\n",
      "+----------+\n",
      "|Logged Out|\n",
      "|     Guest|\n",
      "+----------+\n",
      "\n"
     ]
    }
   ],
   "source": [
    "filter_missing(data, 'userId').select('auth').dropDuplicates().show()"
   ]
  },
  {
   "cell_type": "code",
   "execution_count": 76,
   "metadata": {},
   "outputs": [
    {
     "name": "stdout",
     "output_type": "stream",
     "text": [
      "+-------------------+\n",
      "|               page|\n",
      "+-------------------+\n",
      "|               Home|\n",
      "|              About|\n",
      "|Submit Registration|\n",
      "|              Login|\n",
      "|           Register|\n",
      "|               Help|\n",
      "|              Error|\n",
      "+-------------------+\n",
      "\n"
     ]
    }
   ],
   "source": [
    "filter_missing(data, 'userId').select('page').dropDuplicates().show()"
   ]
  },
  {
   "cell_type": "markdown",
   "metadata": {},
   "source": [
    "Clearly, the missing user is an **unregistered** user. Then, since our target is a *churned* user which is a *registered* user, it is also clear that if we remove the rows with missing users *we will not remove any churned user*."
   ]
  },
  {
   "cell_type": "code",
   "execution_count": 14,
   "metadata": {},
   "outputs": [
    {
     "name": "stdout",
     "output_type": "stream",
     "text": [
      "artist: 50046\n",
      "auth: 0\n",
      "firstName: 0\n",
      "gender: 0\n",
      "itemInSession: 0\n",
      "lastName: 0\n",
      "length: 50046\n",
      "level: 0\n",
      "location: 0\n",
      "method: 0\n",
      "page: 0\n",
      "registration: 0\n",
      "sessionId: 0\n",
      "song: 50046\n",
      "status: 0\n",
      "ts: 0\n",
      "userAgent: 0\n",
      "userId: 0\n"
     ]
    }
   ],
   "source": [
    "# Remove rows with the missing users\n",
    "data = data.where(~((col('userId').isNull()) | (col('userId') == '')))\n",
    "show_missing(data) "
   ]
  },
  {
   "cell_type": "code",
   "execution_count": 14,
   "metadata": {},
   "outputs": [
    {
     "data": {
      "text/plain": [
       "8346"
      ]
     },
     "execution_count": 14,
     "metadata": {},
     "output_type": "execute_result"
    }
   ],
   "source": [
    "# Check count of deleted rows - OK\n",
    "original_count - data.count()"
   ]
  },
  {
   "cell_type": "markdown",
   "metadata": {},
   "source": [
    "### Remove unrelevant columns\n",
    "\n",
    "We identify 2 columns that are not relevant for our analysis: *firstName* and *lastName*. In the perfect naming, the combination of this two columns would be the user's candidate key (which is actually the case with our mini data set - check below). However, we already have the unique identifier of a user - **userId**, so this two columns do not deliver any new information relevant for our analysis that is not already contained in the *userId* attribute."
   ]
  },
  {
   "cell_type": "code",
   "execution_count": 15,
   "metadata": {},
   "outputs": [
    {
     "data": {
      "text/plain": [
       "225"
      ]
     },
     "execution_count": 15,
     "metadata": {},
     "output_type": "execute_result"
    }
   ],
   "source": [
    "# How many different keys (firstName, lastName) exist in our dataset?\n",
    "data.select('firstName', 'lastName').dropDuplicates().count()"
   ]
  },
  {
   "cell_type": "code",
   "execution_count": 16,
   "metadata": {},
   "outputs": [
    {
     "data": {
      "text/plain": [
       "0"
      ]
     },
     "execution_count": 16,
     "metadata": {},
     "output_type": "execute_result"
    }
   ],
   "source": [
    "# Check if a composite key firstName-lastName is associated to exactly one userId\n",
    "data.select('firstName', 'lastName', 'userid') \\\n",
    "    .dropDuplicates() \\\n",
    "    .groupby('firstName', 'lastName') \\\n",
    "    .count() \\\n",
    "    .where(col('count') > 1) \\\n",
    "    .count()"
   ]
  },
  {
   "cell_type": "code",
   "execution_count": 15,
   "metadata": {},
   "outputs": [],
   "source": [
    "# Drop redundant columns\n",
    "data = data.drop('firstName')\n",
    "data = data.drop('lastName')"
   ]
  },
  {
   "cell_type": "markdown",
   "metadata": {},
   "source": [
    "### Convert unix timestamp into TimestampType  (*ts*)"
   ]
  },
  {
   "cell_type": "code",
   "execution_count": 16,
   "metadata": {},
   "outputs": [
    {
     "data": {
      "text/plain": [
       "[Row(artist='Martha Tilston', auth='Logged In', gender='M', itemInSession=50, length=277.89016, level='paid', location='Bakersfield, CA', method='PUT', page='NextSong', registration=1538173362000, sessionId=29, song='Rockpools', status=200, ts=1538352117000, userAgent='Mozilla/5.0 (Windows NT 6.1; WOW64; rv:31.0) Gecko/20100101 Firefox/31.0', userId='30', tsDate=datetime.datetime(2018, 10, 1, 2, 1, 57))]"
      ]
     },
     "execution_count": 16,
     "metadata": {},
     "output_type": "execute_result"
    }
   ],
   "source": [
    "data = data.withColumn('tsDate', (col('ts') / 1000.0).cast(TimestampType()))\n",
    "data.take(1)"
   ]
  },
  {
   "cell_type": "markdown",
   "metadata": {},
   "source": [
    "### Split location into *Place* and *State*\n",
    "\n",
    "The location column contains *place* and *state*. Let's split the composed information into 2 features and drop the original column."
   ]
  },
  {
   "cell_type": "code",
   "execution_count": 17,
   "metadata": {},
   "outputs": [],
   "source": [
    "data = data.withColumn('city', split(data['location'], ',')[0])\n",
    "data = data.withColumn('state', split(data['location'], ',')[1])\n",
    "data = data.drop('location')"
   ]
  },
  {
   "cell_type": "code",
   "execution_count": 18,
   "metadata": {},
   "outputs": [
    {
     "name": "stdout",
     "output_type": "stream",
     "text": [
      "root\n",
      " |-- artist: string (nullable = true)\n",
      " |-- auth: string (nullable = true)\n",
      " |-- gender: string (nullable = true)\n",
      " |-- itemInSession: long (nullable = true)\n",
      " |-- length: double (nullable = true)\n",
      " |-- level: string (nullable = true)\n",
      " |-- method: string (nullable = true)\n",
      " |-- page: string (nullable = true)\n",
      " |-- registration: long (nullable = true)\n",
      " |-- sessionId: long (nullable = true)\n",
      " |-- song: string (nullable = true)\n",
      " |-- status: long (nullable = true)\n",
      " |-- ts: long (nullable = true)\n",
      " |-- userAgent: string (nullable = true)\n",
      " |-- userId: string (nullable = true)\n",
      " |-- tsDate: timestamp (nullable = true)\n",
      " |-- city: string (nullable = true)\n",
      " |-- state: string (nullable = true)\n",
      "\n"
     ]
    }
   ],
   "source": [
    "# Schema after the cleaning is done\n",
    "data.printSchema()"
   ]
  },
  {
   "cell_type": "markdown",
   "metadata": {},
   "source": [
    "# Exploratory Data Analysis\n",
    "When you're working with the full dataset, perform EDA by loading a small subset of the data and doing basic manipulations within Spark. In this workspace, you are already provided a small subset of data you can explore."
   ]
  },
  {
   "cell_type": "code",
   "execution_count": 19,
   "metadata": {},
   "outputs": [],
   "source": [
    "# Set plot's figure size\n",
    "def set_plot_size(width, height):\n",
    "    \"\"\"Set plot's figure size.\n",
    "    \n",
    "    This function does not contribute anything special to the code here.\n",
    "    (It is just a small coding simplification that I myself find useful.)\n",
    "    \n",
    "    Args:\n",
    "        width (int): The width of a figure.\n",
    "        height (int): The height of a figure.\n",
    "        \n",
    "    Returns:\n",
    "        Figure: The figure instance.\n",
    "    \"\"\"\n",
    "    return plt.figure(figsize = [width, height]);\n",
    "\n",
    "def get_categories(data, column):\n",
    "    \"\"\"Creates a list of column's categories.\n",
    "    \n",
    "    Args:\n",
    "        data (DataFrame): The data set. \n",
    "        column (str): The name of a target column.\n",
    "\n",
    "    Returns:\n",
    "        list: A list of column categories. \n",
    "    \"\"\"   \n",
    "    return [str(row[column]) for row in unique(data, column).collect()]"
   ]
  },
  {
   "cell_type": "markdown",
   "metadata": {},
   "source": [
    "## Preliminary Analysis"
   ]
  },
  {
   "cell_type": "code",
   "execution_count": 94,
   "metadata": {},
   "outputs": [
    {
     "data": {
      "text/plain": [
       "225"
      ]
     },
     "execution_count": 94,
     "metadata": {},
     "output_type": "execute_result"
    }
   ],
   "source": [
    "# Count of unique users\n",
    "data.select('userId').dropDuplicates().count()"
   ]
  },
  {
   "cell_type": "code",
   "execution_count": 96,
   "metadata": {
    "scrolled": true
   },
   "outputs": [
    {
     "data": {
      "text/plain": [
       "2312"
      ]
     },
     "execution_count": 96,
     "metadata": {},
     "output_type": "execute_result"
    }
   ],
   "source": [
    "# Count of unique sessions\n",
    "data.select('sessionId').dropDuplicates().count()"
   ]
  },
  {
   "cell_type": "code",
   "execution_count": 99,
   "metadata": {},
   "outputs": [
    {
     "name": "stdout",
     "output_type": "stream",
     "text": [
      "+----------+----------+\n",
      "|   MinDate|   MaxDate|\n",
      "+----------+----------+\n",
      "|2018-10-01|2018-12-03|\n",
      "+----------+----------+\n",
      "\n"
     ]
    }
   ],
   "source": [
    "# Total observation period\n",
    "data.select(to_date(min('tsDate')).alias('MinDate'), to_date(max('tsDate')).alias('MaxDate')).show()"
   ]
  },
  {
   "cell_type": "markdown",
   "metadata": {},
   "source": [
    "### Log level\n",
    "A *log level* is a level without any aggregation. All rows of our data set belong to the log level."
   ]
  },
  {
   "cell_type": "markdown",
   "metadata": {},
   "source": [
    "#### Log level: *Level*, *Status*"
   ]
  },
  {
   "cell_type": "code",
   "execution_count": 20,
   "metadata": {},
   "outputs": [
    {
     "data": {
      "image/png": "[encoded data removed]",
      "text/plain": [
       "<Figure size 720x288 with 2 Axes>"
      ]
     },
     "metadata": {
      "needs_background": "light"
     },
     "output_type": "display_data"
    }
   ],
   "source": [
    "fig = set_plot_size(10, 4);\n",
    "plt.subplots_adjust(wspace=0.5)\n",
    "\n",
    "# 1. Count log events by level categories (paid, free) \n",
    "df = data.select('level').toPandas()\n",
    "plt.subplot(1, 2, 1)\n",
    "sb.countplot(data = df, x = 'level');\n",
    "ax = plt.gca()\n",
    "ax.set_title('Count of Level logs');\n",
    "\n",
    "# 2. Count log events by status categories\n",
    "df = data.select('status').toPandas()\n",
    "plt.subplot(1, 2, 2)\n",
    "sb.countplot(data = df, x = 'status');\n",
    "ax = plt.gca()\n",
    "ax.set_title('Count of Status logs');"
   ]
  },
  {
   "cell_type": "markdown",
   "metadata": {},
   "source": [
    "#### Log level: *page*"
   ]
  },
  {
   "cell_type": "code",
   "execution_count": 114,
   "metadata": {},
   "outputs": [
    {
     "data": {
      "image/png": "[encoded data removed]",
      "text/plain": [
       "<Figure size 864x288 with 1 Axes>"
      ]
     },
     "metadata": {
      "needs_background": "light"
     },
     "output_type": "display_data"
    }
   ],
   "source": [
    "set_plot_size(12, 4)\n",
    "df = data.select('page').toPandas()\n",
    "sb.countplot(data = df, x = 'page', order = df['page'].value_counts().index);\n",
    "plt.xticks(rotation = 90);\n",
    "ax = plt.gca()\n",
    "ax.set_title('Count of Page logs');"
   ]
  },
  {
   "cell_type": "markdown",
   "metadata": {},
   "source": [
    "### User level\n",
    "A *user level* is a level where data is aggregated by *userId*. We have already met the *user-related* columns which are *userId*-dependent since their value does not change if a log event changes unless the *userId* attribute changes. "
   ]
  },
  {
   "cell_type": "code",
   "execution_count": 47,
   "metadata": {},
   "outputs": [],
   "source": [
    "def plot_hist_with_boxplot(df, column, title, bins=15, ):\n",
    "    \"\"\"Plots a histogram with boxplot.\n",
    "    \n",
    "    Args:\n",
    "        df (pandas DataFrame): The data set.\n",
    "        column (str): The name of a target column.  \n",
    "        title (str): The title of a plot.\n",
    "        bins (int, optional): The number of histogram's bins.\n",
    "        \n",
    "    Returns:\n",
    "        None\n",
    "    \"\"\"\n",
    "    # Output statistics \n",
    "    print(df.describe())\n",
    "    \n",
    "    fig = set_plot_size(12, 4);\n",
    "    spec = gridspec.GridSpec(ncols=2, nrows=1,\n",
    "                         width_ratios=[5, 1])\n",
    "    plt.subplots_adjust(hspace=0.3)\n",
    "\n",
    "    # Plot histogram + boxplot\n",
    "    ax0 = fig.add_subplot(spec[0])\n",
    "    ax0.hist(df[column], bins=15)\n",
    "    ax0.set_title(title);\n",
    "    plt.xlabel(column)\n",
    "    plt.ylabel('frequency')\n",
    "    ax1 = fig.add_subplot(spec[1])\n",
    "    ax1.boxplot(df[column])\n",
    "\n",
    "    plt.show()"
   ]
  },
  {
   "cell_type": "markdown",
   "metadata": {},
   "source": [
    "#### User level: *Gender*"
   ]
  },
  {
   "cell_type": "code",
   "execution_count": 200,
   "metadata": {},
   "outputs": [
    {
     "data": {
      "image/png": "[encoded data removed]",
      "text/plain": [
       "<Figure size 648x288 with 2 Axes>"
      ]
     },
     "metadata": {
      "needs_background": "light"
     },
     "output_type": "display_data"
    }
   ],
   "source": [
    "set_plot_size(9, 4);\n",
    "plt.subplots_adjust(wspace=0.4)\n",
    "\n",
    "# 1. Count logs per gender\n",
    "df_gender_logs = data.select('gender').toPandas()\n",
    "plt.subplot(1, 2, 1)\n",
    "sb.countplot(data = df_gender_logs, x = 'gender', order = ['M','F']).set_title('Logs per gender');\n",
    "\n",
    "# 2. Count users per gender\n",
    "df_gender_users = data.groupby('userId', 'gender').count().toPandas()\n",
    "plt.subplot(1, 2, 2)\n",
    "sb.countplot(data = df_gender_users, x = 'gender', order = ['M','F']).set_title('Users per gender');"
   ]
  },
  {
   "cell_type": "markdown",
   "metadata": {},
   "source": [
    "On one side *we have more male users*, on the other side *the female users are more active*."
   ]
  },
  {
   "cell_type": "markdown",
   "metadata": {},
   "source": [
    "#### User level: *State*"
   ]
  },
  {
   "cell_type": "code",
   "execution_count": 201,
   "metadata": {},
   "outputs": [
    {
     "data": {
      "image/png": "[encoded data removed]",
      "text/plain": [
       "<Figure size 1080x360 with 1 Axes>"
      ]
     },
     "metadata": {
      "needs_background": "light"
     },
     "output_type": "display_data"
    }
   ],
   "source": [
    "# Count users per state\n",
    "df_user_state = data.select('userId', 'state').dropDuplicates().toPandas()\n",
    "\n",
    "set_plot_size(15, 5);\n",
    "data_order = df_user_state['state'].value_counts().index\n",
    "sb.countplot(data = df_user_state, x = 'state', order = data_order).set_title('Users per state')\n",
    "plt.xticks(rotation = 90);\n",
    "plt.show()"
   ]
  },
  {
   "cell_type": "markdown",
   "metadata": {},
   "source": [
    "#### User level: *Logs per user*"
   ]
  },
  {
   "cell_type": "code",
   "execution_count": 48,
   "metadata": {},
   "outputs": [
    {
     "name": "stdout",
     "output_type": "stream",
     "text": [
      "             count\n",
      "count   225.000000\n",
      "mean   1236.240000\n",
      "std    1329.531716\n",
      "min       6.000000\n",
      "25%     296.000000\n",
      "50%     848.000000\n",
      "75%    1863.000000\n",
      "max    9632.000000\n"
     ]
    },
    {
     "data": {
      "image/png": "[encoded data removed]",
      "text/plain": [
       "<Figure size 864x288 with 2 Axes>"
      ]
     },
     "metadata": {
      "needs_background": "light"
     },
     "output_type": "display_data"
    }
   ],
   "source": [
    "df_user_logs = data.groupby('userId').count().toPandas()\n",
    "plot_hist_with_boxplot(df_user_logs, 'count', 'Logs per user')"
   ]
  },
  {
   "cell_type": "markdown",
   "metadata": {},
   "source": [
    "The distribution of logs per user is **right-skewed**. Some extreme outliers can be detected. We may expect that, in general, our statistical model will be negatively affected by these outliers."
   ]
  },
  {
   "cell_type": "markdown",
   "metadata": {},
   "source": [
    "#### User level: *Sessions per user*"
   ]
  },
  {
   "cell_type": "code",
   "execution_count": 49,
   "metadata": {},
   "outputs": [
    {
     "name": "stdout",
     "output_type": "stream",
     "text": [
      "            count\n",
      "count  225.000000\n",
      "mean    14.115556\n",
      "std     14.646885\n",
      "min      1.000000\n",
      "25%      6.000000\n",
      "50%     10.000000\n",
      "75%     18.000000\n",
      "max    107.000000\n"
     ]
    },
    {
     "data": {
      "image/png": "[encoded data removed]",
      "text/plain": [
       "<Figure size 864x288 with 2 Axes>"
      ]
     },
     "metadata": {
      "needs_background": "light"
     },
     "output_type": "display_data"
    }
   ],
   "source": [
    "df_user_sessions = data.groupby('userId', 'sessionId').count().groupby('userId').count().toPandas()\n",
    "plot_hist_with_boxplot(df_user_sessions, 'count', 'Sessions per user')"
   ]
  },
  {
   "cell_type": "markdown",
   "metadata": {},
   "source": [
    "The distribution of sessions per user is similar to the distribution of logs per user - *right-skewed*. It is not surprising,  both distributions has a *lower bound* and the data with a lower bound tends to be right-skewed."
   ]
  },
  {
   "cell_type": "markdown",
   "metadata": {},
   "source": [
    "### Session level\n",
    "A *session level* is a level where data is aggregated by *userId*, *sessionId*. Note that the *sessionId* attribute is not a unique identifier of a session; it is unique only for a single user, however, as alone cannot be used in a cross-user context."
   ]
  },
  {
   "cell_type": "code",
   "execution_count": 119,
   "metadata": {},
   "outputs": [
    {
     "name": "stdout",
     "output_type": "stream",
     "text": [
      "+---------+-----+\n",
      "|sessionId|count|\n",
      "+---------+-----+\n",
      "|       65|    4|\n",
      "|      418|    2|\n",
      "|      191|    3|\n",
      "|      270|    3|\n",
      "|      293|    3|\n",
      "+---------+-----+\n",
      "only showing top 5 rows\n",
      "\n"
     ]
    }
   ],
   "source": [
    "# Check if two or more users can share the same sessionId - YES\n",
    "data \\\n",
    "    .select('userId', 'sessionId').dropDuplicates() \\\n",
    "    .groupby('sessionId').count() \\\n",
    "    .where(col('count') > 1) \\\n",
    "    .show(5)"
   ]
  },
  {
   "cell_type": "markdown",
   "metadata": {},
   "source": [
    "#### Session level: *Session duration (in min)*"
   ]
  },
  {
   "cell_type": "code",
   "execution_count": 53,
   "metadata": {},
   "outputs": [
    {
     "name": "stdout",
     "output_type": "stream",
     "text": [
      "          duration\n",
      "count  3176.000000\n",
      "mean    299.518755\n",
      "std     390.281555\n",
      "min       0.000000\n",
      "25%      58.129167\n",
      "50%     160.541667\n",
      "75%     381.283333\n",
      "max    4455.083333\n"
     ]
    },
    {
     "data": {
      "image/png": "[encoded data removed]",
      "text/plain": [
       "<Figure size 864x288 with 2 Axes>"
      ]
     },
     "metadata": {
      "needs_background": "light"
     },
     "output_type": "display_data"
    }
   ],
   "source": [
    "df_session_duration = data.groupby('userId', 'sessionId') \\\n",
    "    .agg(((max('ts') - min('ts'))/60000).alias('duration')) \\\n",
    "    .select('duration').toPandas()\n",
    "plot_hist_with_boxplot(df_session_duration, 'duration', 'Session duration')"
   ]
  },
  {
   "cell_type": "markdown",
   "metadata": {},
   "source": [
    "### Define Churn\n",
    "\n",
    "Once you've done some preliminary analysis, create a column `Churn` to use as the label for your model. I suggest using the `Cancellation Confirmation` events to define your churn, which happen for both paid and free users. As a bonus task, you can also look into the `Downgrade` events."
   ]
  },
  {
   "cell_type": "code",
   "execution_count": 21,
   "metadata": {},
   "outputs": [
    {
     "data": {
      "text/plain": [
       "52"
      ]
     },
     "execution_count": 21,
     "metadata": {},
     "output_type": "execute_result"
    }
   ],
   "source": [
    "# Check count of cancelled users\n",
    "cancelled = data.where(data.page == 'Cancellation Confirmation').select('userId').dropDuplicates()\n",
    "cancelled.count()"
   ]
  },
  {
   "cell_type": "code",
   "execution_count": 22,
   "metadata": {},
   "outputs": [
    {
     "data": {
      "text/plain": [
       "49"
      ]
     },
     "execution_count": 22,
     "metadata": {},
     "output_type": "execute_result"
    }
   ],
   "source": [
    "# Check count of downgraded users\n",
    "downgraded = data.where(data.page == 'Submit Downgrade').select('userId').dropDuplicates()\n",
    "downgraded.count()"
   ]
  },
  {
   "cell_type": "code",
   "execution_count": 23,
   "metadata": {},
   "outputs": [
    {
     "data": {
      "text/plain": [
       "9"
      ]
     },
     "execution_count": 23,
     "metadata": {},
     "output_type": "execute_result"
    }
   ],
   "source": [
    "# Check count of users that downgrade AND cancel the subscription\n",
    "downgraded.intersect(cancelled).count()"
   ]
  },
  {
   "cell_type": "markdown",
   "metadata": {},
   "source": [
    "#### Decision about which type of churned users to observe"
   ]
  },
  {
   "cell_type": "markdown",
   "metadata": {},
   "source": [
    "There are **52** users out of 225 that cancelled the subscription and **49** users that downgraded. **9** users did both things. Already the number of all users is low, but with so small number of churned users it will be very difficult to create a reliable statistical model that will predict similarly in cases of different random data splits (different *seeds*). \n",
    "\n",
    "It could help us if the two churn types can be observed as a *single type*. In that case we would almost duplicate the churn sample. However, before unite both types we have to check if the *cancelled* and *downgraded* users share the **similar statistics**  relevant for our model."
   ]
  },
  {
   "cell_type": "code",
   "execution_count": 84,
   "metadata": {},
   "outputs": [
    {
     "name": "stdout",
     "output_type": "stream",
     "text": [
      "             count\n",
      "count    52.000000\n",
      "mean    862.769231\n",
      "std     852.262378\n",
      "min      11.000000\n",
      "25%     208.750000\n",
      "50%     576.000000\n",
      "75%    1154.000000\n",
      "max    3603.000000\n"
     ]
    },
    {
     "data": {
      "image/png": "[encoded data removed]",
      "text/plain": [
       "<Figure size 864x288 with 2 Axes>"
      ]
     },
     "metadata": {
      "needs_background": "light"
     },
     "output_type": "display_data"
    },
    {
     "name": "stdout",
     "output_type": "stream",
     "text": [
      "             count\n",
      "count    49.000000\n",
      "mean   2176.571429\n",
      "std    1904.991175\n",
      "min     262.000000\n",
      "25%     977.000000\n",
      "50%    1570.000000\n",
      "75%    2335.000000\n",
      "max    9632.000000\n"
     ]
    },
    {
     "data": {
      "image/png": "[encoded data removed]",
      "text/plain": [
       "<Figure size 864x288 with 2 Axes>"
      ]
     },
     "metadata": {
      "needs_background": "light"
     },
     "output_type": "display_data"
    }
   ],
   "source": [
    "df_user_logs_cancelled = data \\\n",
    "    .where(data.userId.isin([row.userId for row in cancelled.collect()])) \\\n",
    "    .groupby('userId').count().toPandas()\n",
    "\n",
    "df_user_logs_downgraded = data \\\n",
    "    .where(data.userId.isin([row.userId for row in downgraded.collect()])) \\\n",
    "    .groupby('userId').count().toPandas()\n",
    "           \n",
    "plot_hist_with_boxplot(df_user_logs_cancelled, 'count', 'Logs per cancelled user')\n",
    "plot_hist_with_boxplot(df_user_logs_downgraded, 'count', 'Logs per downgraded user')"
   ]
  },
  {
   "cell_type": "markdown",
   "metadata": {},
   "source": [
    "Well, the *logs per user* statistics of both churn types *differs considerebly*. All the statisticals values shows huge discrepancies: the *cancelled* users have **863** logs on average, the *downgraded* users generates much more logs - **2177** on average which is 2.5 times higher value. The similar behaviour can be found with other statistical values.\n",
    "\n",
    "The *log count statistics* is the most basic statistics we can make since it uses the *unaggregated source data*. If the two types of churned users do not share the same basic statistics then it is very likely that we face the discrepancies on certain aggregation levels. As we persue a goal to predict well we opt **not to unite both types**. \n",
    "\n",
    "We will follow the Udacity suggestion to focus on the first type - the **cancelled** users. Later on when we'll move to the big data set (on cluster) we might consider incorporating the downgraded users in order to check if this initial assumption about the *two distinctive churn types* that we are making here is correct. "
   ]
  },
  {
   "cell_type": "code",
   "execution_count": 57,
   "metadata": {},
   "outputs": [],
   "source": [
    "def get_users(churn):\n",
    "    \"\"\"Returns unique users of a specified churn group.\n",
    "    \n",
    "    Args:\n",
    "        churn (int): The churn column with Boolean values (0 - non-churned, 1 - churned).\n",
    "        \n",
    "    Returns:\n",
    "        DataFrame: A dataframe query.\n",
    "    \"\"\"\n",
    "    return data.where(data.churn == churn).select('userId').dropDuplicates()"
   ]
  },
  {
   "cell_type": "markdown",
   "metadata": {},
   "source": [
    "#### Churn of cancelled users"
   ]
  },
  {
   "cell_type": "markdown",
   "metadata": {},
   "source": [
    "We'll label the *churned* users by **1**, and the *non-churned* users by **0**. Similarly, the variables with the suffix \"1\" will represent the *churned* users while the variables with the suffix \"0\" will represent the *non-churned* users. \n",
    "\n",
    "According to our terminology, the distinction between the **churned** and **non-churned** users denominated as \"churn group\" (also *classification* group) shouldn't be confused with the distinction between the **cancelled** and **downgraded** users denominated as \"churn type\"."
   ]
  },
  {
   "cell_type": "code",
   "execution_count": 25,
   "metadata": {},
   "outputs": [
    {
     "name": "stdout",
     "output_type": "stream",
     "text": [
      "Churned users who cancelled subscription: 52\n"
     ]
    }
   ],
   "source": [
    "# Label churned (canceled) users\n",
    "cancelled_uids = [row.userId for row in cancelled.collect()];\n",
    "set_churn = udf(lambda x: 1 if x in cancelled_uids else 0, IntegerType())\n",
    "data = data.withColumn('churn', set_churn('userId'))\n",
    "print(f\"Churned users who cancelled subscription: {get_users(1).count()}\")"
   ]
  },
  {
   "cell_type": "code",
   "execution_count": 27,
   "metadata": {},
   "outputs": [],
   "source": [
    "# Add [userRowId] column that assigns a 1-based index to every user's log ordered by [ts]\n",
    "w =  Window.partitionBy(data.userId).orderBy('ts', 'itemInSession')\n",
    "data = data.withColumn('userRowId', row_number().over(w))\n",
    "\n",
    "# Add [userRowDescId] column that assigns a 1-based index to every user's log ordered by [ts] descending.\n",
    "w =  Window.partitionBy(data.userId).orderBy(col('ts').desc(), col('itemInSession').desc())\n",
    "data = data.withColumn('userRowDescId', row_number().over(w))"
   ]
  },
  {
   "cell_type": "code",
   "execution_count": 28,
   "metadata": {},
   "outputs": [
    {
     "data": {
      "text/plain": [
       "[Row(artist=None, auth='Logged In', gender='F', itemInSession=34, length=None, level='free', method='PUT', page='Logout', registration=1538016340000, sessionId=187, song=None, status=307, ts=1542823952000, userAgent='\"Mozilla/5.0 (iPhone; CPU iPhone OS 7_1_2 like Mac OS X) AppleWebKit/537.51.2 (KHTML, like Gecko) Version/7.0 Mobile/11D257 Safari/9537.53\"', userId='100010', tsDate=datetime.datetime(2018, 11, 21, 19, 12, 32), city='Bridgeport-Stamford-Norwalk', state=' CT', churn=0, userRowId=381, userRowDescId=1, lastLevel='free')]"
      ]
     },
     "execution_count": 28,
     "metadata": {},
     "output_type": "execute_result"
    }
   ],
   "source": [
    "# Add lastLevel column\n",
    "last_levels = dict()\n",
    "for row in data.where(data.userRowDescId == 1).select('userId', 'level').collect():\n",
    "    last_levels[row.userId] = row.level\n",
    "get_level = udf(lambda userId: last_levels[userId])\n",
    "data = data.withColumn('lastLevel', get_level('userId'))\n",
    "data.take(1)"
   ]
  },
  {
   "cell_type": "markdown",
   "metadata": {},
   "source": [
    "### Explore Data\n",
    "Once you've defined churn, perform some exploratory data analysis to observe the behavior for users who stayed vs users who churned. You can start by exploring aggregates on these two groups of users, observing how much of a specific action they experienced per a certain time unit or number of songs played."
   ]
  },
  {
   "cell_type": "markdown",
   "metadata": {},
   "source": [
    "### General statistical method\n",
    "Let us describe the *general statistical method* with its simple mathematics that will be used in any analysis throughout the project.\n",
    "\n",
    "A certain **feature** $f$ of a user $x$\n",
    "\n",
    "> $f(x)$\n",
    "\n",
    "can be important for our learning model only if it can serve us to \"distinguish well\" between the two churn groups (*churned*, *non-churned*). We use a certain *aggregation* (or **group**) function $g$ like *mean*\n",
    "\n",
    "> $g(f, y)$  \n",
    "\n",
    "where *y* is a **churn group** (1 or 0) to determine if the feature $f$ \"distinguish well\" between the two churn groups. The group function is applied over the subset of users that belong to a specified group *y*. If the absolute value of a difference between the aggregation values is \"big enough\"\n",
    "\n",
    "> diff = $|g(f, 1) - g(f, 0)|$ \n",
    "\n",
    "we can say that the feature $f$ \"distinguish well\". However, in order to determine if the value *diff* is \"big enough\" we have to normalize it. Let\n",
    "\n",
    "> $v_1$ = $g(f, 1)$ and $v_2$ = $g(f, 0)$\n",
    "\n",
    "Then a **ratio** of *churned* users (for a given feature $f$) is:\n",
    "\n",
    "> $ratio_1$ = $\\frac{v_1}{v_1 + v_0}$  \n",
    "\n",
    "Similarly, a *share* of *non-churned* users is\n",
    "\n",
    "> $ratio_0$ = $\\frac{v_0}{v_1 + v_0}$  \n",
    "\n",
    "Now, let us calculate the difference ($\\Delta$) between the both ratios:\n",
    "\n",
    "> $\\Delta$ = $ratio_1$ - $ratio_0$ = $\\frac{v_1 - v_0}{v_1 + v_0}$ \n",
    "\n",
    "which gives us a **ratio difference** with absolute values between 0 and 1. Note that we do not express the ratio difference as the *absolute value* since we want to preserve the sign which will tell as, if **positive**, that the feature $f$ for a group of churned users gives, on average - if *g* is a *mean* function, *higher values* than the same feature $f$ for a group of non-churned users, and, if **negative**, it gives *lower values*.\n",
    "   \n",
    "##### Delta threshold\n",
    "Using the *delta* as a decisive factor for a feature selection is based on the idea that a certain feature is important for our model if and only if it can distinguish \"well enough\" beetwen the two churn groups. According to some preliminary tests we made we have seen that a feature can work well for our learning model if the **delta threshold** is set to\n",
    "\n",
    "> $|\\Delta| > 0.1$\n",
    "\n",
    "which means that there should be **at least 10% of difference** between the churn group ratios in order **to select the feature for our learning model**. \n",
    "\n",
    "##### Rational remark\n",
    "\n",
    "We are aware that this statistical approach as described above which will give us some orientation how to engineer and select features is not a waterproof method that will hit the target *for any feature whose delta fulfills the threshold condition*. After all, it is just a statistical method **applied over a single, isolated feature**, that is to say, we make a simple one-dimensional calculation using one feature while the process of machine learning is far more complex where it is very difficult to forsee which features will serve best - *before the model fitting is actually done*.     "
   ]
  },
  {
   "cell_type": "code",
   "execution_count": 58,
   "metadata": {},
   "outputs": [],
   "source": [
    "# set the delta threshold\n",
    "delta_threshold = 0.10\n",
    "\n",
    "# label names of both classification groups\n",
    "#label_names = ['churned', 'non-churned']"
   ]
  },
  {
   "cell_type": "code",
   "execution_count": 116,
   "metadata": {},
   "outputs": [],
   "source": [
    "def get_churn_name(churn):\n",
    "    \"\"\"Maps churn values to churn names.\n",
    "    \n",
    "    Args:\n",
    "        churn: The churn group (0 for churned and 1 for non-churned users).\n",
    "        \n",
    "    Returns:\n",
    "        str: The name of a churn group.\n",
    "    \"\"\"\n",
    "    if churn == 0:\n",
    "        return 'non-churned'\n",
    "    else:\n",
    "        return 'churned'\n",
    "\n",
    "def calc_ratio(df, column, feature=None):\n",
    "    \"\"\"Calculates the ratio of a feature.\n",
    "    \n",
    "    Args:\n",
    "        df (pandas DataFrame): The data set.\n",
    "        column (str): The name of a column with engineered feature values.\n",
    "        feature (optional): The name of a column with original feature values.\n",
    "\n",
    "    Returns:\n",
    "        pandas DataFrame: The data set with a ratio column.  \n",
    "    \"\"\"\n",
    "    if feature != None:  \n",
    "        df = df.merge(df.groupby(feature).sum().reset_index(), on=feature, suffixes=['', '_sum'])\n",
    "        df['ratio'] = df[column]/df[column + '_sum']\n",
    "        df = df[['churn', feature, column, 'ratio']]\n",
    "        df['churn_name'] = df['churn'].apply(get_churn_name)\n",
    "        return df.sort_values(by=['churn'])\n",
    "    else:\n",
    "        df['ratio'] = df[column]/df.sum()[column]\n",
    "        df = df[['churn', column, 'ratio']]\n",
    "        df['churn_name'] = df['churn'].apply(get_churn_name)\n",
    "        return df.sort_values(by='churn')   "
   ]
  },
  {
   "cell_type": "code",
   "execution_count": 117,
   "metadata": {},
   "outputs": [],
   "source": [
    "def plot_ratio(df, title):\n",
    "    \"\"\"Plots the feature's ratio for both churn groups.\n",
    "    \n",
    "    Args:\n",
    "        df (pandas DataFrame): The data set.\n",
    "        title (str): The plot's title.\n",
    "    Returns:\n",
    "        None\n",
    "    \"\"\"      \n",
    "    set_plot_size(4, 4)\n",
    "    df2 = df.sort_values(by='ratio', ascending=True)\n",
    "    labels = df['churn_name']\n",
    "    plt.xticks(range(2), labels)\n",
    "    plt.xticks(df2.churn, labels)\n",
    "    plt.xlabel('')\n",
    "    plt.ylabel('ratio')\n",
    "    ratio_bars = plt.bar(range(2), df2['ratio'], width=0.7);\n",
    "    ratio_bars[0].set_color('orange')\n",
    "    ax = plt.gca()\n",
    "    ax.set_title(title);\n",
    "    plt.show()"
   ]
  },
  {
   "cell_type": "code",
   "execution_count": 118,
   "metadata": {},
   "outputs": [],
   "source": [
    "def show_delta(df, column, feature, force_selection=False):\n",
    "    \"\"\"Calculates delta and print it.\n",
    "    \n",
    "    If delta is greater than delta_threshold the feature is selected.\n",
    "    \n",
    "    Args:\n",
    "        df (pandas DataFrame): The data set.\n",
    "        column (str): The name of a column with engineered feature values.\n",
    "        feature (str): The feature name.\n",
    "        force_selection (bool): If True then the feature is selected without evaluating the threshold condition. \n",
    "    Returns:\n",
    "        None\n",
    "    \"\"\"\n",
    "    # Get feature values for each classification group\n",
    "    v1 = df[df.churn == 1][column].iloc[0]\n",
    "    v0 = df[df.churn == 0][column].iloc[0]\n",
    "    \n",
    "    # Calc delta\n",
    "    delta = (v1 - v0)/(v1 + v0)\n",
    "    \n",
    "    if (force_selection == True) or (abs(delta) > delta_threshold):\n",
    "        print(f'Δ for {feature} feature: {round(delta, 4)} (SELECTED)')\n",
    "    else:\n",
    "        print(f'Δ for {feature} feature: {round(delta, 4)}')"
   ]
  },
  {
   "cell_type": "markdown",
   "metadata": {},
   "source": [
    "#### Log level\n",
    "We will calculate a share of logs with a selected feature for each target group (*churned*, *non-churned*)."
   ]
  },
  {
   "cell_type": "code",
   "execution_count": 46,
   "metadata": {},
   "outputs": [],
   "source": [
    "# Count of churned/non-churned logs\n",
    "count0 = data.where(data.churn == 0).count()\n",
    "count1 = data.where(data.churn == 1).count()"
   ]
  },
  {
   "cell_type": "code",
   "execution_count": null,
   "metadata": {},
   "outputs": [],
   "source": []
  },
  {
   "cell_type": "markdown",
   "metadata": {},
   "source": [
    "#### Log level: *Average logs per churn group*"
   ]
  },
  {
   "cell_type": "code",
   "execution_count": 119,
   "metadata": {},
   "outputs": [
    {
     "data": {
      "image/png": "[encoded data removed]",
      "text/plain": [
       "<Figure size 288x288 with 1 Axes>"
      ]
     },
     "metadata": {
      "needs_background": "light"
     },
     "output_type": "display_data"
    },
    {
     "name": "stdout",
     "output_type": "stream",
     "text": [
      "Δ for LogCount feature: -0.2197 (SELECTED)\n"
     ]
    }
   ],
   "source": [
    "logs_df = data \\\n",
    "    .groupby('churn', 'userId') \\\n",
    "    .count() \\\n",
    "    .groupby('churn') \\\n",
    "    .agg(avg('count').alias('avgLogs')) \\\n",
    "    .toPandas()\n",
    "    \n",
    "logs_df = calc_ratio(logs_df, 'avgLogs')\n",
    "plot_ratio(logs_df, 'Log count per churn group')\n",
    "show_delta(logs_df, 'avgLogs', 'LogCount')"
   ]
  },
  {
   "cell_type": "code",
   "execution_count": null,
   "metadata": {},
   "outputs": [],
   "source": []
  },
  {
   "cell_type": "code",
   "execution_count": null,
   "metadata": {},
   "outputs": [],
   "source": [
    "def calc_feature_ratio(feature):\n",
    "    # calculate count of each category, per churn group\n",
    "    df = data \\\n",
    "        .groupby('churn', feature) \\\n",
    "        .count() \\\n",
    "        .toPandas()\n",
    "       \n",
    "    totals = df.groupby('churn').sum()\n",
    "    df = df.set_index('churn').join(totals, rsuffix='_total')\n",
    "    df['share'] = df['count']/df['count_total']\n",
    "    df = df.drop('count_total', axis=1)\n",
    "    return df.reset_index()"
   ]
  },
  {
   "cell_type": "code",
   "execution_count": null,
   "metadata": {},
   "outputs": [],
   "source": []
  },
  {
   "cell_type": "markdown",
   "metadata": {},
   "source": [
    "#### Log level: *method*, *status*"
   ]
  },
  {
   "cell_type": "code",
   "execution_count": 192,
   "metadata": {},
   "outputs": [
    {
     "data": {
      "image/png": "[encoded data removed]",
      "text/plain": [
       "<matplotlib.figure.Figure at 0x17133d1e5c0>"
      ]
     },
     "metadata": {},
     "output_type": "display_data"
    }
   ],
   "source": [
    "# Prepare data\n",
    "log_method_df = calc_log_share('method')\n",
    "log_status_df = calc_log_share('status')\n",
    "\n",
    "set_plot_size(12, 4);\n",
    "\n",
    "# 1. Method\n",
    "plt.subplot(1, 2, 1)\n",
    "plot_ratio(log_method_df, 'Log count per churn group')\n",
    "plot_share(log_method_df, 'method', 'Log level: Method', 2)\n",
    "\n",
    "# 2. Status\n",
    "plt.subplot(1, 2, 2)\n",
    "plot_share(log_status_df, 'status', 'Log level: Status')\n",
    "\n",
    "plt.show()"
   ]
  },
  {
   "cell_type": "code",
   "execution_count": null,
   "metadata": {
    "collapsed": true
   },
   "outputs": [],
   "source": []
  },
  {
   "cell_type": "markdown",
   "metadata": {},
   "source": [
    "### User level\n",
    "We calculate a share of users with a selected feature for each target group."
   ]
  },
  {
   "cell_type": "markdown",
   "metadata": {},
   "source": [
    "#### Common variables and functions"
   ]
  },
  {
   "cell_type": "code",
   "execution_count": 95,
   "metadata": {
    "collapsed": true
   },
   "outputs": [],
   "source": [
    "# Count users for each churn group \n",
    "split = data.groupby('churn', 'userId').count()\n",
    "user_count0 = split.where(split.churn == 0).count()\n",
    "user_count1 = split.where(split.churn == 1).count()"
   ]
  },
  {
   "cell_type": "code",
   "execution_count": 152,
   "metadata": {
    "collapsed": true
   },
   "outputs": [],
   "source": [
    "get_user_total = udf(lambda x: user_count0 if x == 0 else user_count1)\n",
    "\n",
    "# Calculate user share for each churn group\n",
    "def calc_user_share(data, feature):\n",
    "     return data \\\n",
    "        .withColumn('total', get_user_total('churn')) \\\n",
    "        .select('churn', 'total', 'userId', feature) \\\n",
    "        .dropDuplicates() \\\n",
    "        .groupby('churn', 'total', feature) \\\n",
    "        .count() \\\n",
    "        .withColumn('share', col('count')/col('total')) \\\n",
    "        .sort('churn', feature) \\\n",
    "        .toPandas()"
   ]
  },
  {
   "cell_type": "markdown",
   "metadata": {},
   "source": [
    "#### User level: *Gender*"
   ]
  },
  {
   "cell_type": "code",
   "execution_count": 195,
   "metadata": {},
   "outputs": [
    {
     "data": {
      "image/png": "[encoded data removed]",
      "text/plain": [
       "<matplotlib.figure.Figure at 0x17133db4be0>"
      ]
     },
     "metadata": {},
     "output_type": "display_data"
    }
   ],
   "source": [
    "df_user_gender = calc_user_share(data, 'gender')\n",
    "plot_share(df_user_gender, 'gender', 'User level: Gender', 4)"
   ]
  },
  {
   "cell_type": "markdown",
   "metadata": {},
   "source": [
    "### <span style=\"color:red\">Significant user interaction features</span>\n",
    " - Gender"
   ]
  },
  {
   "cell_type": "markdown",
   "metadata": {},
   "source": [
    "#### User level: *Level*\n",
    "Since a *level* is a **user-time dependent feature** we will observe here the level at the beginning of the observation period (*First level*) and the level at the end of the observation period (*Last level*). (Check the next analysis for user-time presentation of *level* data.)"
   ]
  },
  {
   "cell_type": "code",
   "execution_count": 197,
   "metadata": {},
   "outputs": [
    {
     "data": {
      "image/png": "[encoded data removed]",
      "text/plain": [
       "<matplotlib.figure.Figure at 0x17134058c88>"
      ]
     },
     "metadata": {},
     "output_type": "display_data"
    }
   ],
   "source": [
    "# Prepare data\n",
    "df_user_firstLevel = calc_user_share(data.where(data.userRowId == 1).select('churn', 'userId', 'level'), 'level')\n",
    "df_user_lastLevel = calc_user_share(data, 'lastLevel')\n",
    "\n",
    "set_plot_size(10, 4);\n",
    "plt.subplots_adjust(wspace=0.4)\n",
    "\n",
    "# 1. First Level\n",
    "plt.subplot(1, 2, 1)\n",
    "plot_share(df_user_firstLevel, 'level', 'User level: First Level')\n",
    "\n",
    "# 2. Last level\n",
    "plt.subplot(1, 2, 2)\n",
    "plot_share(df_user_lastLevel, 'lastLevel', 'User level: Last Level', 4)"
   ]
  },
  {
   "cell_type": "markdown",
   "metadata": {},
   "source": [
    "### <span style=\"color:red\">Significant user interaction features</span>\n",
    " - LastLevel"
   ]
  },
  {
   "cell_type": "markdown",
   "metadata": {},
   "source": [
    "#### User-Time level: *Level*\n",
    "Level category statistics per day"
   ]
  },
  {
   "cell_type": "code",
   "execution_count": 417,
   "metadata": {
    "collapsed": true
   },
   "outputs": [],
   "source": [
    "# convert date string to date type\n",
    "def convert_to_date(date_str):\n",
    "    return datetime.datetime.strptime(date_str, '%Y-%m-%d').date()\n",
    "\n",
    "# get date string\n",
    "def get_date_str(month, day):\n",
    "    return '2018-' + str(month).zfill(2) + '-' + str(day).zfill(2)\n",
    "\n",
    "# get date\n",
    "def get_date(month, day):\n",
    "    try:\n",
    "        date_str = get_date_str(month, day)\n",
    "        return datetime.datetime.strptime(date_str, '%Y-%m-%d').date()\n",
    "    except ValueError:\n",
    "        return None   \n",
    "\n",
    "# Return true if the date string is a valid date\n",
    "def validate_date(month, day):\n",
    "    try:\n",
    "        date_str = get_date_str(month, day)\n",
    "        datetime.datetime.strptime(date_str, '%Y-%m-%d')\n",
    "        return True\n",
    "    except ValueError:\n",
    "        return False   \n",
    "    \n",
    "# get dates generator that returns (month, day) tuple between date1 and date2 \n",
    "def get_dates_gen(date1, date2):\n",
    "    for m in range(date1.month, date2.month+1):\n",
    "        for d in range(1, 31+1):\n",
    "            date = get_date(m, d)\n",
    "            if date == None or date <= date1 or date >= date2:\n",
    "                continue                      \n",
    "            yield date    \n",
    "\n",
    "# get user_time matrix row\n",
    "def get_ut_row(userId, date, level):\n",
    "    return {\n",
    "        'userId': userId,\n",
    "        'date': date,\n",
    "        'level': level\n",
    "    }\n",
    "\n",
    "# get default (starting) date\n",
    "def get_default_date():\n",
    "    return datetime.datetime.strptime('2018-09-30', '%Y-%m-%d').date()\n"
   ]
  },
  {
   "cell_type": "markdown",
   "metadata": {},
   "source": [
    "##### Add date components"
   ]
  },
  {
   "cell_type": "code",
   "execution_count": 277,
   "metadata": {},
   "outputs": [
    {
     "data": {
      "text/plain": [
       "[Row(artist=None, auth='Logged In', gender='F', itemInSession=34, length=None, level='free', method='PUT', page='Logout', registration=1538016340000, sessionId=187, song=None, status=307, ts=1542823952000, userAgent='\"Mozilla/5.0 (iPhone; CPU iPhone OS 7_1_2 like Mac OS X) AppleWebKit/537.51.2 (KHTML, like Gecko) Version/7.0 Mobile/11D257 Safari/9537.53\"', userId='100010', regDate=datetime.datetime(2018, 9, 27, 4, 45, 40), tsDate=datetime.datetime(2018, 11, 21, 19, 12, 32), city='Bridgeport-Stamford-Norwalk', state=' CT', churn=0, userRowId=381, userRowDescId=1, lastLevel='free', date=datetime.date(2018, 11, 21))]"
      ]
     },
     "execution_count": 277,
     "metadata": {},
     "output_type": "execute_result"
    }
   ],
   "source": [
    "# Add year, month, day columns\n",
    "data = data.withColumn('date', to_date('tsDate'))\n",
    "data.take(1)"
   ]
  },
  {
   "cell_type": "markdown",
   "metadata": {},
   "source": [
    "##### Extract unique user-time data with level information"
   ]
  },
  {
   "cell_type": "code",
   "execution_count": 282,
   "metadata": {},
   "outputs": [],
   "source": [
    "# Extract user-time distinct rows with level value\n",
    "extracted = data \\\n",
    "    .groupby('userId', 'date') \\\n",
    "    .agg(max('userRowId').alias('rowid')) \\\n",
    "    .select(col('userId').alias('uid'), 'date', 'rowid')\n",
    "    \n",
    "# Note: if a user has more than 1 different level per day, then we take the last level\n",
    "user_time_rows = extracted \\\n",
    "    .join(data, (extracted.uid == data.userId) & (extracted.rowid == data.userRowId), how='inner') \\\n",
    "    .select(data.userId, extracted.date, data.level) \\\n",
    "    .sort('userId', 'date') \\\n",
    "    .collect()"
   ]
  },
  {
   "cell_type": "markdown",
   "metadata": {},
   "source": [
    "##### Add missing user-time rows"
   ]
  },
  {
   "cell_type": "code",
   "execution_count": 290,
   "metadata": {},
   "outputs": [
    {
     "name": "stdout",
     "output_type": "stream",
     "text": [
      "+----------+----------+\n",
      "| min(date)| max(date)|\n",
      "+----------+----------+\n",
      "|2018-10-01|2018-12-03|\n",
      "+----------+----------+\n",
      "\n"
     ]
    }
   ],
   "source": [
    "# Observation period\n",
    "data.agg(min('date'), max('date')).show()"
   ]
  },
  {
   "cell_type": "code",
   "execution_count": 300,
   "metadata": {},
   "outputs": [],
   "source": [
    "# Build user-time dimension matrix for the whole observation period from Oct 1, 2018 to Dec 3, 2018.\n",
    "# Important: if in time t2 user has no user_time row, then it holds:\n",
    "#\n",
    "#    level(user, t2) = level(user, t1)\n",
    "#\n",
    "\n",
    "# user set\n",
    "users = {row.userId for row in user_time_rows}\n",
    "\n",
    "# user-time dimension matrix\n",
    "ut_matrix = []\n",
    "\n",
    "# current user-time level - fill it with default (None) values \n",
    "current_levels = dict()\n",
    "for userId in users:\n",
    "    current_levels[userId] = None\n",
    "\n",
    "# convert user_time rows into pandas dataframe (for easier filtering)\n",
    "utdf = pd.DataFrame(user_time_rows)\n",
    "utdf.columns = ['userId', 'date', 'level']\n",
    "\n",
    "# current dimension variables - defaults are set on Sept 30\n",
    "last_userId, last_date = '-1', get_default_date()\n",
    "\n",
    "# loop through the user-time rows sorted by userId, month, day\n",
    "for row in user_time_rows:\n",
    "    \n",
    "    userId = row.userId\n",
    "    \n",
    "    # reset last date when user changes\n",
    "    if userId != last_userId:\n",
    "        last_date = get_default_date()\n",
    "    \n",
    "    # get current user level\n",
    "    last_level = current_levels[userId]\n",
    "    \n",
    "    # add missing dimensions (up till current row date)\n",
    "    #  level := last_level\n",
    "    # Note: we skip None levels that represent missing logs before the first user log.\n",
    "    if last_level != None:\n",
    "        for date in get_dates_gen(last_date, row.date):\n",
    "            ut_matrix.append(get_ut_row(userId, date, last_level))\n",
    "        \n",
    "    # add level for current row date\n",
    "    ut_matrix.append(get_ut_row(userId, row.date, row.level))\n",
    "       \n",
    "    # handle history variables\n",
    "    last_date = row.date       \n",
    "    last_userId = userId\n",
    "    current_levels[userId] = row.level\n",
    "               "
   ]
  },
  {
   "cell_type": "markdown",
   "metadata": {},
   "source": [
    "##### Calculate share of level per churn group, for each day in the observation period "
   ]
  },
  {
   "cell_type": "code",
   "execution_count": 304,
   "metadata": {
    "collapsed": true
   },
   "outputs": [],
   "source": [
    "# Prepare churn data\n",
    "churn_df = data.select('userId', 'churn').dropDuplicates().toPandas()\n",
    "\n",
    "# Convert user_time matrix to pandas framework\n",
    "ut_df = pd.DataFrame(ut_matrix)\n",
    "ut_df = ut_df[['userId', 'date', 'level']]\n",
    "\n",
    "# Add churn indicator\n",
    "ut_df = ut_df.merge(churn_df, on='userId')"
   ]
  },
  {
   "cell_type": "code",
   "execution_count": 307,
   "metadata": {},
   "outputs": [],
   "source": [
    "# Prepare agg totals per day and churn group\n",
    "level_totals_df = ut_df \\\n",
    "    .groupby(['churn', 'date']) \\\n",
    "    .size() \\\n",
    "    .reset_index(name='count') \\\n",
    "    .rename(columns={'count': 'total'})\n",
    "\n",
    "# create level share dataframe\n",
    "level_share_df = ut_df \\\n",
    "    .groupby(['churn', 'date', 'level']) \\\n",
    "    .size() \\\n",
    "    .reset_index(name='count') \\\n",
    "    .merge(level_totals_df, on=['churn', 'date'])\n",
    "    \n",
    "# calc share\n",
    "level_share_df['share'] = level_share_df['count']/level_share_df['total']"
   ]
  },
  {
   "cell_type": "markdown",
   "metadata": {},
   "source": [
    "##### Plot total count of level category per day"
   ]
  },
  {
   "cell_type": "code",
   "execution_count": 312,
   "metadata": {},
   "outputs": [
    {
     "data": {
      "image/png": "[encoded data removed]",
      "text/plain": [
       "<matplotlib.figure.Figure at 0x17133ff06a0>"
      ]
     },
     "metadata": {},
     "output_type": "display_data"
    }
   ],
   "source": [
    "# Prepare agg totals per day and churn group\n",
    "level_count_df = ut_df \\\n",
    "    .groupby(['level', 'date']) \\\n",
    "    .size() \\\n",
    "    .reset_index(name='count') \\\n",
    "    .sort_values(by=['date'])\n",
    "\n",
    "# Plot\n",
    "paid = level_count_df[level_count_df.level == 'paid']['count']\n",
    "free = level_count_df[level_count_df.level == 'free']['count']\n",
    "dates_paid = level_count_df[level_count_df.level == 'paid']['date']\n",
    "dates_free = level_count_df[level_count_df.level == 'free']['date']\n",
    "\n",
    "fig, ax = plt.subplots()\n",
    "fig.set_size_inches(15, 5)\n",
    "\n",
    "ax.plot(dates_paid, paid)\n",
    "ax.plot(dates_free, free)\n",
    "\n",
    "ax.set(xlabel='date', ylabel='count', title='Count of level')\n",
    "ax.grid()\n",
    "plt.legend(['paid', 'free'], loc=2)\n",
    "plt.xticks(rotation = 45);\n",
    "plt.show()"
   ]
  },
  {
   "cell_type": "markdown",
   "metadata": {},
   "source": [
    "##### Plot share of a level category by churn group per day"
   ]
  },
  {
   "cell_type": "code",
   "execution_count": 309,
   "metadata": {
    "collapsed": true
   },
   "outputs": [],
   "source": [
    "# Share of a given level, per churn group\n",
    "def plot_level_share(df, level):\n",
    "    df_share = df[(df.level == level)]\n",
    "\n",
    "    shares0 = df_share[df_share.churn == 0]['share']\n",
    "    shares1 = df_share[df_share.churn == 1]['share']\n",
    "    dates0 = df_share[df_share.churn == 0]['date']\n",
    "    dates1 = df_share[df_share.churn == 1]['date']\n",
    "\n",
    "    fig, ax = plt.subplots()\n",
    "    fig.set_size_inches(15, 5)\n",
    "\n",
    "    # plot both lines\n",
    "    ax.plot(dates0, shares0)\n",
    "    ax.plot(dates1, shares1)\n",
    "\n",
    "    ax.set(xlabel='date', ylabel='share', title=\"Share of level='\" + level + \"'\")\n",
    "    ax.grid()\n",
    "    plt.legend(['non-churned', 'churned'], loc=2)\n",
    "    plt.xticks(rotation = 45);\n",
    "    plt.show()"
   ]
  },
  {
   "cell_type": "code",
   "execution_count": 310,
   "metadata": {},
   "outputs": [
    {
     "data": {
      "image/png": "[encoded data removed]",
      "text/plain": [
       "<matplotlib.figure.Figure at 0x1713385e278>"
      ]
     },
     "metadata": {},
     "output_type": "display_data"
    }
   ],
   "source": [
    "plot_level_share(level_share_df, 'paid')"
   ]
  },
  {
   "cell_type": "code",
   "execution_count": 311,
   "metadata": {},
   "outputs": [
    {
     "data": {
      "image/png": "[encoded data removed]",
      "text/plain": [
       "<matplotlib.figure.Figure at 0x17137362a20>"
      ]
     },
     "metadata": {},
     "output_type": "display_data"
    }
   ],
   "source": [
    "plot_level_share(level_share_df, 'free')"
   ]
  },
  {
   "cell_type": "markdown",
   "metadata": {},
   "source": [
    "### Song level"
   ]
  },
  {
   "cell_type": "markdown",
   "metadata": {},
   "source": [
    "#### Common Functions"
   ]
  },
  {
   "cell_type": "code",
   "execution_count": 58,
   "metadata": {},
   "outputs": [],
   "source": [
    "# Map churn values to churn names\n",
    "def map_churn(churn):\n",
    "    if churn == 0:\n",
    "        return 'non-churned'\n",
    "    else:\n",
    "        return 'churned'\n",
    "    \n",
    "def map_churn_df(df):\n",
    "    df['churnName'] = df['churn'].apply(map_churn)\n",
    "    return df\n",
    "\n",
    "# Convert average values into ratio between both churn groups\n",
    "def calc_ratio(df, column, feature=None):\n",
    "    if feature != None:  \n",
    "        df = df.merge(df.groupby(feature).sum().reset_index(), on=feature, suffixes=['', '_sum'])\n",
    "        df['ratio'] = df[column]/df[column + '_sum']\n",
    "        df = df[['churn', feature, column, 'ratio']]\n",
    "        return df.sort_values(by=[feature, 'churn'])\n",
    "    else:\n",
    "        df['ratio'] = df[column]/df.sum()[column]\n",
    "        df = df[['churn', column, 'ratio']]\n",
    "        return df.sort_values(by='churn')   \n",
    "    \n",
    "def plot_ratio(df, title):\n",
    "    set_plot_size(4, 4)\n",
    "    df = song_avg_df.copy().sort_values(by='ratio', ascending=False)\n",
    "    labels = df['churnName']\n",
    "    plt.xticks(range(2), labels)\n",
    "    plt.xticks(df.churn, labels)\n",
    "    plt.xlabel('')\n",
    "    plt.ylabel('ratio')\n",
    "    ratio_bars = plt.bar(range(2), df['ratio'], width=0.7);\n",
    "    ratio_bars[1].set_color('orange')\n",
    "    ax = plt.gca()\n",
    "    ax.set_title(title);\n",
    "    plt.show()\n",
    "    "
   ]
  },
  {
   "cell_type": "markdown",
   "metadata": {},
   "source": [
    "#### Song level: *Average songs per user, per churn group*\n",
    "We calculate an average song count per user, per churn group "
   ]
  },
  {
   "cell_type": "code",
   "execution_count": 852,
   "metadata": {},
   "outputs": [],
   "source": [
    "song_avg_df = data \\\n",
    "    .where(data.page == 'NextSong') \\\n",
    "    .groupby('churn', 'userId') \\\n",
    "    .count() \\\n",
    "    .groupby('churn') \\\n",
    "    .agg(avg('count').alias('avg')) \\\n",
    "    .toPandas()[['churn', 'avg']]"
   ]
  },
  {
   "cell_type": "code",
   "execution_count": 1038,
   "metadata": {},
   "outputs": [
    {
     "data": {
      "image/png": "[encoded data removed]",
      "text/plain": [
       "<matplotlib.figure.Figure at 0x17137d1d080>"
      ]
     },
     "metadata": {},
     "output_type": "display_data"
    }
   ],
   "source": [
    "plot_ratio(song_avg_df, 'Ratio of average song count')"
   ]
  },
  {
   "cell_type": "markdown",
   "metadata": {},
   "source": [
    "### <span style=\"color:red\">Significant user interaction features</span> (DEPR: we use LogCount instead)\n",
    " - Average Song Count"
   ]
  },
  {
   "cell_type": "markdown",
   "metadata": {},
   "source": [
    "#### Song-Time level: *Count per day*"
   ]
  },
  {
   "cell_type": "code",
   "execution_count": 364,
   "metadata": {},
   "outputs": [],
   "source": [
    "# Extract data\n",
    "song_count_df = data \\\n",
    "    .where(data.page == 'NextSong') \\\n",
    "    .groupby('churn', 'date') \\\n",
    "    .count() \\\n",
    "    .sort('date') \\\n",
    "    .toPandas()"
   ]
  },
  {
   "cell_type": "code",
   "execution_count": 568,
   "metadata": {},
   "outputs": [
    {
     "data": {
      "image/png": "[encoded data removed]",
      "text/plain": [
       "<matplotlib.figure.Figure at 0x1713a253978>"
      ]
     },
     "metadata": {},
     "output_type": "display_data"
    }
   ],
   "source": [
    "# Plot\n",
    "fig, ax = plt.subplots()\n",
    "fig.set_size_inches(15, 5)\n",
    "\n",
    "df0 = song_count_df[song_count_df.churn == 0]\n",
    "df1 = song_count_df[song_count_df.churn == 1]\n",
    "ax.plot(df0['date'], df0['count'])\n",
    "ax.plot(df1['date'], df1['count'])\n",
    "\n",
    "ax.set(xlabel='day', ylabel='count', title='Song count')\n",
    "ax.grid()\n",
    "plt.legend(['non-churned', 'churned'], loc=2)\n",
    "plt.xticks(rotation = 45);\n",
    "plt.show()"
   ]
  },
  {
   "cell_type": "markdown",
   "metadata": {},
   "source": [
    "#### Song-Time level: *Average count per user (by date)*"
   ]
  },
  {
   "cell_type": "code",
   "execution_count": 473,
   "metadata": {},
   "outputs": [],
   "source": [
    "# Extract data\n",
    "song_avg_df = data \\\n",
    "    .where(data.page == 'NextSong') \\\n",
    "    .groupby('userId', 'churn', 'date') \\\n",
    "    .count() \\\n",
    "    .groupby('churn', 'date') \\\n",
    "    .avg() \\\n",
    "    .select('churn', 'date', col('avg(count)').alias('avg')) \\\n",
    "    .sort('date') \\\n",
    "    .toPandas()"
   ]
  },
  {
   "cell_type": "code",
   "execution_count": 569,
   "metadata": {},
   "outputs": [
    {
     "data": {
      "image/png": "[encoded data removed]",
      "text/plain": [
       "<matplotlib.figure.Figure at 0x171394f9198>"
      ]
     },
     "metadata": {},
     "output_type": "display_data"
    }
   ],
   "source": [
    "# Plot\n",
    "fig, ax = plt.subplots()\n",
    "fig.set_size_inches(15, 5)\n",
    "\n",
    "df0 = song_avg_df[song_avg_df.churn == 0]\n",
    "df1 = song_avg_df[song_avg_df.churn == 1]\n",
    "ax.plot(df0['date'], df0['avg'])\n",
    "ax.plot(df1['date'], df1['avg'])\n",
    "\n",
    "ax.set(xlabel='date', ylabel='avg', title='Song Average Count per user (by date)')\n",
    "ax.grid()\n",
    "plt.legend(['non-churned', 'churned'], loc=2)\n",
    "plt.xticks(rotation = 45);\n",
    "plt.show()"
   ]
  },
  {
   "cell_type": "code",
   "execution_count": null,
   "metadata": {
    "collapsed": true
   },
   "outputs": [],
   "source": [
    "# Plot\n",
    "fig, ax = plt.subplots()\n",
    "fig.set_size_inches(15, 5)\n",
    "\n",
    "df0 = song_avg_df[song_avg_df.churn == 0]\n",
    "df1 = song_avg_df[song_avg_df.churn == 1]\n",
    "ax.plot(df0['date'], df0['avg'])\n",
    "ax.plot(df1['date'], df1['avg'])\n",
    "\n",
    "ax.set(xlabel='date', ylabel='avg', title='Song Average Count per user (by date)')\n",
    "ax.grid()\n",
    "plt.legend(['non-churned', 'churned'], loc=2)\n",
    "plt.xticks(rotation = 45);\n",
    "plt.show()"
   ]
  },
  {
   "cell_type": "markdown",
   "metadata": {},
   "source": [
    "#### Song-Time level: *Average count per user (by week of year)*"
   ]
  },
  {
   "cell_type": "code",
   "execution_count": 573,
   "metadata": {},
   "outputs": [],
   "source": [
    "# Extract data\n",
    "song_avg_week_df = data \\\n",
    "    .withColumn('weekOfYear', date_format(col('tsDate'), \"w\")) \\\n",
    "    .where(data.page == 'NextSong') \\\n",
    "    .groupby('userId', 'churn', 'weekOfYear') \\\n",
    "    .count() \\\n",
    "    .groupby('churn', 'weekOfYear') \\\n",
    "    .avg() \\\n",
    "    .select('churn', 'weekOfYear', col('avg(count)').alias('avg')) \\\n",
    "    .sort('weekOfYear') \\\n",
    "    .toPandas()"
   ]
  },
  {
   "cell_type": "code",
   "execution_count": 575,
   "metadata": {},
   "outputs": [
    {
     "data": {
      "image/png": "[encoded data removed]",
      "text/plain": [
       "<matplotlib.figure.Figure at 0x17139618438>"
      ]
     },
     "metadata": {},
     "output_type": "display_data"
    }
   ],
   "source": [
    "# Plot\n",
    "fig, ax = plt.subplots()\n",
    "fig.set_size_inches(15, 5)\n",
    "\n",
    "df0 = song_avg_week_df[song_avg_week_df.churn == 0]\n",
    "df1 = song_avg_week_df[song_avg_week_df.churn == 1]\n",
    "ax.plot(df0['weekOfYear'], df0['avg'])\n",
    "ax.plot(df1['weekOfYear'], df1['avg'])\n",
    "\n",
    "ax.set(xlabel='weekOfYear', ylabel='avg', title='Song Average Count per user (by week of year)')\n",
    "ax.grid()\n",
    "plt.legend(['non-churned', 'churned'], loc=2)\n",
    "plt.show()"
   ]
  },
  {
   "cell_type": "markdown",
   "metadata": {},
   "source": [
    "#### Song-Time level: *Average count per user* (by day of week)"
   ]
  },
  {
   "cell_type": "code",
   "execution_count": 484,
   "metadata": {},
   "outputs": [],
   "source": [
    "# Extract data\n",
    "song_avg_dayOfWeek_df = data \\\n",
    "    .withColumn('dayOfWeek', date_format(col('date'), 'E')) \\\n",
    "    .withColumn('dayOfWeekNum', date_format(col('date'), \"u\")) \\\n",
    "    .where(data.page == 'NextSong') \\\n",
    "    .groupby('userId', 'churn', 'dayOfWeekNum', 'dayOfWeek') \\\n",
    "    .count() \\\n",
    "    .groupby('churn', 'dayOfWeekNum', 'dayOfWeek') \\\n",
    "    .avg() \\\n",
    "    .select('churn', 'dayOfWeekNum', 'dayOfWeek', col('avg(count)').alias('avg')) \\\n",
    "    .sort('dayOfWeekNum') \\\n",
    "    .toPandas()"
   ]
  },
  {
   "cell_type": "code",
   "execution_count": 599,
   "metadata": {},
   "outputs": [
    {
     "data": {
      "image/png": "[encoded data removed]",
      "text/plain": [
       "<matplotlib.figure.Figure at 0x1713657a358>"
      ]
     },
     "metadata": {},
     "output_type": "display_data"
    }
   ],
   "source": [
    "# Plot\n",
    "fig, ax = plt.subplots()\n",
    "fig.set_size_inches(15, 5)\n",
    "\n",
    "df0 = song_avg_dayOfWeek_df[song_avg_dayOfWeek_df.churn == 0]\n",
    "df1 = song_avg_dayOfWeek_df[song_avg_dayOfWeek_df.churn == 1]\n",
    "ax.plot(df0['dayOfWeekNum'], df0['avg'])\n",
    "ax.plot(df1['dayOfWeekNum'], df1['avg'])\n",
    "\n",
    "labels = ['Mon', 'Tue', 'Wed', 'Thu', 'Fri', 'Sat', 'Sun']\n",
    "ax.set_xticklabels(labels)\n",
    "ax.grid()\n",
    "ax.set_ylabel('Avg')\n",
    "ax.set_title('Song Average Count per user (by day of week)')\n",
    "plt.legend(['non-churned', 'churned'], loc=1)\n",
    "plt.show()"
   ]
  },
  {
   "cell_type": "markdown",
   "metadata": {},
   "source": [
    "#### Song-Time level: *Average count per user* (by hour of day)"
   ]
  },
  {
   "cell_type": "code",
   "execution_count": 561,
   "metadata": {},
   "outputs": [],
   "source": [
    "# Extract data\n",
    "song_avg_hour_df = data \\\n",
    "    .withColumn('hour', hour(col('tsDate'))) \\\n",
    "    .where(data.page == 'NextSong') \\\n",
    "    .groupby('userId', 'churn', 'hour') \\\n",
    "    .count() \\\n",
    "    .groupby('churn', 'hour') \\\n",
    "    .avg() \\\n",
    "    .select('churn', 'hour', col('avg(count)').alias('avg')) \\\n",
    "    .sort('hour') \\\n",
    "    .toPandas()"
   ]
  },
  {
   "cell_type": "code",
   "execution_count": 565,
   "metadata": {},
   "outputs": [
    {
     "data": {
      "image/png": "[encoded data removed]",
      "text/plain": [
       "<matplotlib.figure.Figure at 0x17139933e80>"
      ]
     },
     "metadata": {},
     "output_type": "display_data"
    }
   ],
   "source": [
    "# Plot\n",
    "fig, ax = plt.subplots()\n",
    "fig.set_size_inches(15, 5)\n",
    "\n",
    "df0 = song_avg_hour_df[song_avg_hour_df.churn == 0]\n",
    "df1 = song_avg_hour_df[song_avg_hour_df.churn == 1]\n",
    "ax.plot(df0['hour'], df0['avg'])\n",
    "ax.plot(df1['hour'], df1['avg'])\n",
    "\n",
    "ax.set(xlabel='hour', ylabel='avg', title='Song Average Count per user (by hour)')\n",
    "ax.grid()\n",
    "plt.legend(['non-churned', 'churned'], loc=2)\n",
    "plt.show()"
   ]
  },
  {
   "cell_type": "markdown",
   "metadata": {},
   "source": [
    "### Session level"
   ]
  },
  {
   "cell_type": "markdown",
   "metadata": {},
   "source": [
    "#### Session level: *Average sessions per user, average session duration per user, for each churn group*"
   ]
  },
  {
   "cell_type": "code",
   "execution_count": 1039,
   "metadata": {},
   "outputs": [],
   "source": [
    "session_stats_df = data \\\n",
    "    .groupby('churn', 'userId', 'sessionId') \\\n",
    "    .agg(count('sessionId').alias('logCount'), ((max('ts') - min('ts'))/60000).alias('duration')) \\\n",
    "    .groupby('churn', 'userId') \\\n",
    "    .agg(count('userId').alias('sessionCount'), \\\n",
    "         avg('duration').alias('duration')) \\\n",
    "    .groupby('churn') \\\n",
    "    .agg(avg('sessionCount').alias('avgSessionCount'), \\\n",
    "         avg('duration').alias('avgDuration')) \\\n",
    "    .sort('churn') \\\n",
    "    .toPandas()"
   ]
  },
  {
   "cell_type": "code",
   "execution_count": 1040,
   "metadata": {},
   "outputs": [
    {
     "data": {
      "text/html": [
       "<div>\n",
       "<style scoped>\n",
       "    .dataframe tbody tr th:only-of-type {\n",
       "        vertical-align: middle;\n",
       "    }\n",
       "\n",
       "    .dataframe tbody tr th {\n",
       "        vertical-align: top;\n",
       "    }\n",
       "\n",
       "    .dataframe thead th {\n",
       "        text-align: right;\n",
       "    }\n",
       "</style>\n",
       "<table border=\"1\" class=\"dataframe\">\n",
       "  <thead>\n",
       "    <tr style=\"text-align: right;\">\n",
       "      <th></th>\n",
       "      <th>churn</th>\n",
       "      <th>avgSessionCount</th>\n",
       "      <th>avgDuration</th>\n",
       "    </tr>\n",
       "  </thead>\n",
       "  <tbody>\n",
       "    <tr>\n",
       "      <th>0</th>\n",
       "      <td>0</td>\n",
       "      <td>14.601266</td>\n",
       "      <td>300.087962</td>\n",
       "    </tr>\n",
       "    <tr>\n",
       "      <th>1</th>\n",
       "      <td>1</td>\n",
       "      <td>12.970149</td>\n",
       "      <td>260.051468</td>\n",
       "    </tr>\n",
       "  </tbody>\n",
       "</table>\n",
       "</div>"
      ],
      "text/plain": [
       "   churn  avgSessionCount  avgDuration\n",
       "0      0        14.601266   300.087962\n",
       "1      1        12.970149   260.051468"
      ]
     },
     "execution_count": 1040,
     "metadata": {},
     "output_type": "execute_result"
    }
   ],
   "source": [
    "session_stats_df"
   ]
  },
  {
   "cell_type": "code",
   "execution_count": 1042,
   "metadata": {},
   "outputs": [
    {
     "data": {
      "text/html": [
       "<div>\n",
       "<style scoped>\n",
       "    .dataframe tbody tr th:only-of-type {\n",
       "        vertical-align: middle;\n",
       "    }\n",
       "\n",
       "    .dataframe tbody tr th {\n",
       "        vertical-align: top;\n",
       "    }\n",
       "\n",
       "    .dataframe thead th {\n",
       "        text-align: right;\n",
       "    }\n",
       "</style>\n",
       "<table border=\"1\" class=\"dataframe\">\n",
       "  <thead>\n",
       "    <tr style=\"text-align: right;\">\n",
       "      <th></th>\n",
       "      <th>churn</th>\n",
       "      <th>avgSessionCount</th>\n",
       "      <th>ratio</th>\n",
       "    </tr>\n",
       "  </thead>\n",
       "  <tbody>\n",
       "    <tr>\n",
       "      <th>0</th>\n",
       "      <td>0</td>\n",
       "      <td>14.601266</td>\n",
       "      <td>0.52958</td>\n",
       "    </tr>\n",
       "    <tr>\n",
       "      <th>1</th>\n",
       "      <td>1</td>\n",
       "      <td>12.970149</td>\n",
       "      <td>0.47042</td>\n",
       "    </tr>\n",
       "  </tbody>\n",
       "</table>\n",
       "</div>"
      ],
      "text/plain": [
       "   churn  avgSessionCount    ratio\n",
       "0      0        14.601266  0.52958\n",
       "1      1        12.970149  0.47042"
      ]
     },
     "execution_count": 1042,
     "metadata": {},
     "output_type": "execute_result"
    }
   ],
   "source": [
    "calc_ratio(session_stats_df, 'avgSessionCount')"
   ]
  },
  {
   "cell_type": "code",
   "execution_count": 1043,
   "metadata": {},
   "outputs": [
    {
     "data": {
      "text/html": [
       "<div>\n",
       "<style scoped>\n",
       "    .dataframe tbody tr th:only-of-type {\n",
       "        vertical-align: middle;\n",
       "    }\n",
       "\n",
       "    .dataframe tbody tr th {\n",
       "        vertical-align: top;\n",
       "    }\n",
       "\n",
       "    .dataframe thead th {\n",
       "        text-align: right;\n",
       "    }\n",
       "</style>\n",
       "<table border=\"1\" class=\"dataframe\">\n",
       "  <thead>\n",
       "    <tr style=\"text-align: right;\">\n",
       "      <th></th>\n",
       "      <th>churn</th>\n",
       "      <th>avgDuration</th>\n",
       "      <th>ratio</th>\n",
       "    </tr>\n",
       "  </thead>\n",
       "  <tbody>\n",
       "    <tr>\n",
       "      <th>0</th>\n",
       "      <td>0</td>\n",
       "      <td>300.087962</td>\n",
       "      <td>0.535738</td>\n",
       "    </tr>\n",
       "    <tr>\n",
       "      <th>1</th>\n",
       "      <td>1</td>\n",
       "      <td>260.051468</td>\n",
       "      <td>0.464262</td>\n",
       "    </tr>\n",
       "  </tbody>\n",
       "</table>\n",
       "</div>"
      ],
      "text/plain": [
       "   churn  avgDuration     ratio\n",
       "0      0   300.087962  0.535738\n",
       "1      1   260.051468  0.464262"
      ]
     },
     "execution_count": 1043,
     "metadata": {},
     "output_type": "execute_result"
    }
   ],
   "source": [
    "calc_ratio(session_stats_df, 'avgDuration')"
   ]
  },
  {
   "cell_type": "code",
   "execution_count": 1044,
   "metadata": {},
   "outputs": [
    {
     "data": {
      "image/png": "[encoded data removed]",
      "text/plain": [
       "<matplotlib.figure.Figure at 0x1713957d080>"
      ]
     },
     "metadata": {},
     "output_type": "display_data"
    }
   ],
   "source": [
    "set_plot_size(10, 4); \n",
    "\n",
    "# 1. Sesions per user\n",
    "plt.subplot(1, 2, 1)\n",
    "plt.pie(session_stats_df['avgSessionCount'], labels = ['non-churned', 'churned'], startangle = 90, \\\n",
    "        counterclock = True, wedgeprops = {'width' : 0.6});\n",
    "plt.axis('square')\n",
    "ax = plt.gca()\n",
    "ax.set_title('Session level: Average sessions per user');  \n",
    "    \n",
    "# 2. Session duration\n",
    "plt.subplot(1, 2, 2)\n",
    "plt.pie(session_stats_df['avgDuration'], labels = ['non-churned', 'churned'], startangle = 90, \\\n",
    "        counterclock = True, wedgeprops = {'width' : 0.6});\n",
    "plt.axis('square')\n",
    "ax = plt.gca()\n",
    "ax.set_title('Session level: Average session duration');\n",
    "\n",
    "plt.show()"
   ]
  },
  {
   "cell_type": "markdown",
   "metadata": {},
   "source": [
    "### <span style=\"color:red\">Significant user interaction features</span>\n",
    " - Average session duration"
   ]
  },
  {
   "cell_type": "markdown",
   "metadata": {},
   "source": [
    "#### Session level: *Average logs per hour*"
   ]
  },
  {
   "cell_type": "code",
   "execution_count": 932,
   "metadata": {},
   "outputs": [
    {
     "name": "stdout",
     "output_type": "stream",
     "text": [
      "+-------------------+-----+------+---------+--------+\n",
      "|             tsDate|churn|userId|sessionId|    page|\n",
      "+-------------------+-----+------+---------+--------+\n",
      "|2018-10-10 02:48:01|    0|   124|      628|    Home|\n",
      "|2018-10-10 02:48:04|    0|   124|      628|NextSong|\n",
      "|2018-10-10 02:51:01|    0|   124|      628|    Home|\n",
      "|2018-10-10 02:51:39|    0|   124|      628|NextSong|\n",
      "|2018-10-10 02:54:52|    0|   124|      628|NextSong|\n",
      "|2018-10-10 02:54:53|    0|   124|      628|  Logout|\n",
      "|2018-10-10 02:57:46|    0|   124|      628|    Home|\n",
      "+-------------------+-----+------+---------+--------+\n",
      "\n"
     ]
    }
   ],
   "source": [
    "data.where((data.userId == 124) & (data.sessionId == 628)).select('tsDate', 'churn', 'userId', 'sessionId', 'page') \\\n",
    "    .show(100)"
   ]
  },
  {
   "cell_type": "code",
   "execution_count": 940,
   "metadata": {},
   "outputs": [],
   "source": [
    "session_logs_per_hour_df = data \\\n",
    "    .groupby('churn', 'userId', 'sessionId') \\\n",
    "    .agg(count('sessionId').alias('logCount'), \\\n",
    "        ((max('ts') - min('ts'))/1000/60/60).alias('hours')) \\\n",
    "    .groupby('churn', 'userId') \\\n",
    "    .agg(Fsum('hours').alias('hours'), \\\n",
    "        Fsum('logCount').alias('logCount')) \\\n",
    "    .groupby('churn') \\\n",
    "    .agg(avg(col('logCount')/col('hours')).alias('avgLogCountPerHour')) \\\n",
    "    .sort('churn') \\\n",
    "    .toPandas()"
   ]
  },
  {
   "cell_type": "code",
   "execution_count": 941,
   "metadata": {},
   "outputs": [
    {
     "data": {
      "text/html": [
       "<div>\n",
       "<style scoped>\n",
       "    .dataframe tbody tr th:only-of-type {\n",
       "        vertical-align: middle;\n",
       "    }\n",
       "\n",
       "    .dataframe tbody tr th {\n",
       "        vertical-align: top;\n",
       "    }\n",
       "\n",
       "    .dataframe thead th {\n",
       "        text-align: right;\n",
       "    }\n",
       "</style>\n",
       "<table border=\"1\" class=\"dataframe\">\n",
       "  <thead>\n",
       "    <tr style=\"text-align: right;\">\n",
       "      <th></th>\n",
       "      <th>churn</th>\n",
       "      <th>avgLogCountPerHour</th>\n",
       "    </tr>\n",
       "  </thead>\n",
       "  <tbody>\n",
       "    <tr>\n",
       "      <th>0</th>\n",
       "      <td>0</td>\n",
       "      <td>18.168568</td>\n",
       "    </tr>\n",
       "    <tr>\n",
       "      <th>1</th>\n",
       "      <td>1</td>\n",
       "      <td>18.951477</td>\n",
       "    </tr>\n",
       "  </tbody>\n",
       "</table>\n",
       "</div>"
      ],
      "text/plain": [
       "   churn  avgLogCountPerHour\n",
       "0      0           18.168568\n",
       "1      1           18.951477"
      ]
     },
     "execution_count": 941,
     "metadata": {},
     "output_type": "execute_result"
    }
   ],
   "source": [
    "session_logs_per_hour_df"
   ]
  },
  {
   "cell_type": "code",
   "execution_count": 942,
   "metadata": {},
   "outputs": [
    {
     "data": {
      "image/png": "[encoded data removed]",
      "text/plain": [
       "<matplotlib.figure.Figure at 0x171398555c0>"
      ]
     },
     "metadata": {},
     "output_type": "display_data"
    }
   ],
   "source": [
    "plt.pie(session_logs_per_hour_df['avgLogCountPerHour'], labels = ['non-churned', 'churned'], startangle = 90, \\\n",
    "        counterclock = True, wedgeprops = {'width' : 0.6});\n",
    "plt.axis('square')\n",
    "ax = plt.gca()\n",
    "ax.set_title('Session level: Average logs per hour');"
   ]
  },
  {
   "cell_type": "code",
   "execution_count": 947,
   "metadata": {},
   "outputs": [
    {
     "data": {
      "text/html": [
       "<div>\n",
       "<style scoped>\n",
       "    .dataframe tbody tr th:only-of-type {\n",
       "        vertical-align: middle;\n",
       "    }\n",
       "\n",
       "    .dataframe tbody tr th {\n",
       "        vertical-align: top;\n",
       "    }\n",
       "\n",
       "    .dataframe thead th {\n",
       "        text-align: right;\n",
       "    }\n",
       "</style>\n",
       "<table border=\"1\" class=\"dataframe\">\n",
       "  <thead>\n",
       "    <tr style=\"text-align: right;\">\n",
       "      <th></th>\n",
       "      <th>cancelled</th>\n",
       "      <th>avgLogCountPerHour</th>\n",
       "    </tr>\n",
       "  </thead>\n",
       "  <tbody>\n",
       "    <tr>\n",
       "      <th>0</th>\n",
       "      <td>0</td>\n",
       "      <td>18.162460</td>\n",
       "    </tr>\n",
       "    <tr>\n",
       "      <th>1</th>\n",
       "      <td>1</td>\n",
       "      <td>19.197636</td>\n",
       "    </tr>\n",
       "  </tbody>\n",
       "</table>\n",
       "</div>"
      ],
      "text/plain": [
       "   cancelled  avgLogCountPerHour\n",
       "0          0           18.162460\n",
       "1          1           19.197636"
      ]
     },
     "execution_count": 947,
     "metadata": {},
     "output_type": "execute_result"
    }
   ],
   "source": [
    "session_logs_per_hour_cancelled_df"
   ]
  },
  {
   "cell_type": "code",
   "execution_count": 948,
   "metadata": {},
   "outputs": [
    {
     "data": {
      "image/png": "[encoded data removed]",
      "text/plain": [
       "<matplotlib.figure.Figure at 0x1713782ef28>"
      ]
     },
     "metadata": {},
     "output_type": "display_data"
    }
   ],
   "source": [
    "plt.pie(session_logs_per_hour_cancelled_df['avgLogCountPerHour'], labels = ['non-churned', 'churned'], startangle = 90, \\\n",
    "        counterclock = True, wedgeprops = {'width' : 0.6});\n",
    "plt.axis('square')\n",
    "ax = plt.gca()\n",
    "ax.set_title('Session level: Average logs per hour');"
   ]
  },
  {
   "cell_type": "code",
   "execution_count": 934,
   "metadata": {
    "collapsed": true
   },
   "outputs": [
    {
     "name": "stdout",
     "output_type": "stream",
     "text": [
      "+-------------------+---------+------+--------------------+--------------------+---------+\n",
      "|             tsDate|sessionId|userId|                page|                song|   length|\n",
      "+-------------------+---------+------+--------------------+--------------------+---------+\n",
      "|2018-10-03 17:01:37|      218|    32|            NextSong|Beyond The Beyond...|237.53098|\n",
      "|2018-10-03 17:05:34|      218|    32|            NextSong|       Paradise City|406.17751|\n",
      "|2018-10-03 17:12:20|      218|    32|            NextSong|           Alejandro|274.18077|\n",
      "|2018-10-03 17:12:45|      218|    32|         Roll Advert|                null|     null|\n",
      "|2018-10-03 17:16:54|      218|    32|            NextSong|        Luv U Better| 242.6771|\n",
      "|2018-10-03 17:16:55|      218|    32|           Thumbs Up|                null|     null|\n",
      "|2018-10-03 17:20:56|      218|    32|            NextSong|My Life Would Suc...|211.56526|\n",
      "|2018-10-03 17:21:08|      218|    32|     Add to Playlist|                null|     null|\n",
      "|2018-10-03 17:24:27|      218|    32|            NextSong|Jamaica Roots II(...|210.88608|\n",
      "|2018-10-03 17:27:57|      218|    32|            NextSong|                Dusk|652.14649|\n",
      "|2018-10-03 17:38:49|      218|    32|            NextSong|           September|240.22159|\n",
      "|2018-10-03 17:42:49|      218|    32|            NextSong|Slicker Than Your...| 357.0673|\n",
      "|2018-10-03 17:48:46|      218|    32|            NextSong|         Mellow Mood|198.53016|\n",
      "|2018-10-03 17:52:04|      218|    32|            NextSong| Dangerously In Love|293.14567|\n",
      "|2018-10-03 17:56:57|      218|    32|            NextSong|             Fix You| 294.1122|\n",
      "|2018-10-03 18:01:51|      218|    32|            NextSong|              Morder|200.82893|\n",
      "|2018-10-03 18:02:21|      218|    32|         Roll Advert|                null|     null|\n",
      "|2018-10-03 18:02:22|      218|    32|              Logout|                null|     null|\n",
      "|2018-10-03 18:06:03|      218|    32|                Home|                null|     null|\n",
      "|2018-10-03 18:06:28|      218|    32|            NextSong|If I Knew Then (W...|171.78077|\n",
      "|2018-10-03 18:09:19|      218|    32|            NextSong|   Goodbye Hollywood|252.49914|\n",
      "|2018-10-03 18:13:31|      218|    32|            NextSong|      Come Back Home|202.81424|\n",
      "|2018-10-03 18:14:00|      218|    32|     Add to Playlist|                null|     null|\n",
      "|2018-10-03 18:16:53|      218|    32|            NextSong|Parallel Universe...|269.34812|\n",
      "|2018-10-03 18:21:22|      218|    32|            NextSong|         After Party|214.56934|\n",
      "|2018-10-03 18:21:54|      218|    32|     Add to Playlist|                null|     null|\n",
      "|2018-10-03 18:24:56|      218|    32|            NextSong|         Un poco mas|206.23628|\n",
      "|2018-10-03 18:28:22|      218|    32|            NextSong|  Who Gave The Order|263.13098|\n",
      "|2018-10-03 18:32:45|      218|    32|            NextSong|     I Gotta Feeling|289.12281|\n",
      "|2018-10-03 18:37:34|      218|    32|            NextSong|  Sure Thing Falling|222.87628|\n",
      "|2018-10-03 18:41:16|      218|    32|            NextSong|Ganas De Ti (Albu...|224.57424|\n",
      "|2018-10-03 18:41:17|      218|    32|           Thumbs Up|                null|     null|\n",
      "|2018-10-03 18:45:00|      218|    32|            NextSong|       The Safe Side|287.97342|\n",
      "|2018-10-03 18:49:47|      218|    32|            NextSong|      Hillbilly Rock|157.30893|\n",
      "|2018-10-06 17:37:57|      404|    32|            NextSong| Unicorn Vs. Gravity|136.04526|\n",
      "|2018-10-06 17:38:15|      404|    32|     Add to Playlist|                null|     null|\n",
      "|2018-10-06 17:40:13|      404|    32|            NextSong|      Fields of Gold|379.14077|\n",
      "|2018-10-06 17:46:32|      404|    32|            NextSong|The Once Lost Ret...|177.50159|\n",
      "|2018-10-06 17:49:29|      404|    32|            NextSong|Beautiful_ Dirty_...|172.40771|\n",
      "|2018-10-06 17:52:21|      404|    32|            NextSong|        Without Fear|290.11546|\n",
      "|2018-10-06 17:57:11|      404|    32|            NextSong|       Fisher Of Men|192.67873|\n",
      "|2018-10-06 17:57:12|      404|    32|           Thumbs Up|                null|     null|\n",
      "|2018-10-06 18:00:23|      404|    32|            NextSong|I Don't Want To H...|261.17179|\n",
      "|2018-10-06 18:04:44|      404|    32|            NextSong|         Rising Moon| 191.7122|\n",
      "|2018-10-06 18:07:55|      404|    32|            NextSong|        Capable Girl|210.20689|\n",
      "|2018-10-06 18:11:25|      404|    32|            NextSong|Am I High (Feat. ...| 288.9922|\n",
      "|2018-10-06 18:16:13|      404|    32|            NextSong|         Mockingbird| 250.8273|\n",
      "|2018-10-06 18:20:23|      404|    32|            NextSong|               Yeah!|250.38322|\n",
      "|2018-10-06 18:20:24|      404|    32|           Thumbs Up|                null|     null|\n",
      "|2018-10-06 18:24:33|      404|    32|            NextSong| Who Knows Who Cares|233.50812|\n",
      "|2018-10-06 18:24:34|      404|    32|           Thumbs Up|                null|     null|\n",
      "|2018-10-08 20:19:00|      540|    32|            NextSong|Road Trippin' (Al...| 204.9824|\n",
      "|2018-10-08 20:22:24|      540|    32|            NextSong|             Far Far|260.96281|\n",
      "|2018-10-08 20:26:44|      540|    32|            NextSong|Nothing Left (Alb...| 244.6624|\n",
      "|2018-10-08 20:30:48|      540|    32|            NextSong|For Once In My Li...|153.52118|\n",
      "|2018-10-08 20:31:16|      540|    32|         Roll Advert|                null|     null|\n",
      "|2018-10-08 20:33:21|      540|    32|            NextSong|            Tive Sim|  127.242|\n",
      "|2018-10-08 20:35:28|      540|    32|            NextSong|        EMCEE Murdah|211.33016|\n",
      "|2018-10-08 20:38:59|      540|    32|            NextSong|Space (I Believe In)|258.63791|\n",
      "|2018-10-08 20:43:17|      540|    32|            NextSong|      Southern State|280.21506|\n",
      "|2018-10-08 20:47:57|      540|    32|            NextSong|     Rock The Casbah| 221.6224|\n",
      "|2018-10-08 20:50:05|      540|    32|             Upgrade|                null|     null|\n",
      "|2018-10-08 20:50:06|      540|    32|      Submit Upgrade|                null|     null|\n",
      "|2018-10-08 20:52:35|      540|    32|                Home|                null|     null|\n",
      "|2018-10-08 20:52:37|      540|    32|            NextSong|         Greece 2000| 411.6371|\n",
      "|2018-10-08 20:59:28|      540|    32|            NextSong|    Hey_ Soul Sister|216.76363|\n",
      "|2018-10-08 21:03:04|      540|    32|            NextSong|My Ropin' Days Ar...|203.62404|\n",
      "|2018-10-08 21:06:27|      540|    32|            NextSong|      Russia Privjet|247.74485|\n",
      "|2018-10-08 21:10:34|      540|    32|            NextSong|   Pop Into My Heart|199.75791|\n",
      "|2018-10-08 21:13:53|      540|    32|            NextSong|Werewolf Women Of...|181.49832|\n",
      "|2018-10-08 21:16:54|      540|    32|            NextSong|  Heartbreak Warfare|269.71383|\n",
      "|2018-10-08 21:21:23|      540|    32|            NextSong|            Big Idea|205.84444|\n",
      "|2018-10-08 21:24:48|      540|    32|            NextSong|Here (In Your Arm...|218.38322|\n",
      "|2018-10-08 21:28:26|      540|    32|            NextSong|Moar Ghosts 'n' S...|296.64608|\n",
      "|2018-10-08 21:33:22|      540|    32|            NextSong|        The Best Day|  246.282|\n",
      "|2018-10-08 21:37:28|      540|    32|            NextSong|Orange TrÃÂ¤gt N...|204.17261|\n",
      "|2018-10-08 21:40:52|      540|    32|            NextSong|Clint Eastwood (E...|357.61587|\n",
      "|2018-10-08 21:46:49|      540|    32|            NextSong|             O Raaje|342.43873|\n",
      "|2018-10-08 21:52:31|      540|    32|            NextSong|        It's My Life|  224.522|\n",
      "|2018-10-08 21:52:32|      540|    32|           Thumbs Up|                null|     null|\n",
      "|2018-10-08 21:56:15|      540|    32|            NextSong|                Mojo|219.24526|\n",
      "|2018-10-08 21:59:54|      540|    32|            NextSong|Baby Let Me Take ...|141.92281|\n",
      "|2018-10-08 22:02:15|      540|    32|            NextSong|           Balaclava| 171.2322|\n",
      "|2018-10-08 22:02:16|      540|    32|         Thumbs Down|                null|     null|\n",
      "|2018-10-08 22:05:06|      540|    32|            NextSong|  Prelude To A Dream| 209.3971|\n",
      "|2018-10-08 22:07:46|      540|    32|     Add to Playlist|                null|     null|\n",
      "|2018-10-08 22:08:35|      540|    32|            NextSong|Sympathy For The ...|455.52281|\n",
      "|2018-10-08 22:16:10|      540|    32|            NextSong|Jerk It Out (Orig...|195.02975|\n",
      "|2018-10-08 22:19:25|      540|    32|            NextSong|           All Alone|209.94567|\n",
      "|2018-10-08 22:19:26|      540|    32|           Thumbs Up|                null|     null|\n",
      "|2018-10-08 22:22:19|      540|    32|     Add to Playlist|                null|     null|\n",
      "|2018-10-08 22:22:54|      540|    32|            NextSong|           Sandstorm|226.08934|\n",
      "|2018-10-08 22:25:02|      540|    32|           Downgrade|                null|     null|\n",
      "|2018-10-08 22:29:35|      540|    32|                Home|                null|     null|\n",
      "|2018-10-08 22:30:23|      540|    32|            NextSong| Long Arm Of The Law|319.32036|\n",
      "|2018-10-08 22:35:42|      540|    32|            NextSong|        Wishing Well|237.13914|\n",
      "|2018-10-08 22:39:12|      540|    32|     Add to Playlist|                null|     null|\n",
      "|2018-10-08 22:39:39|      540|    32|            NextSong|It's Just Like Su...|247.48363|\n",
      "|2018-10-08 22:43:46|      540|    32|            NextSong|  Sentimental Street|235.72853|\n",
      "|2018-10-08 22:47:41|      540|    32|            NextSong|      Come on Closer|226.42893|\n",
      "|2018-10-08 22:51:27|      540|    32|            NextSong|                Undo|348.57751|\n",
      "|2018-10-08 22:57:15|      540|    32|            NextSong|Electric Fever (I...|373.55057|\n",
      "|2018-10-08 23:03:28|      540|    32|            NextSong|              Rianna|133.98159|\n",
      "|2018-10-08 23:05:41|      540|    32|            NextSong|I'd Rather Fuck Y...|237.08689|\n",
      "|2018-10-08 23:09:38|      540|    32|            NextSong|   Anchor Of My Soul|253.59628|\n",
      "|2018-10-08 23:10:30|      540|    32|           Downgrade|                null|     null|\n",
      "|2018-10-08 23:10:31|      540|    32|              Cancel|                null|     null|\n",
      "|2018-10-08 23:10:46|      540|    32|Cancellation Conf...|                null|     null|\n",
      "+-------------------+---------+------+--------------------+--------------------+---------+\n",
      "\n"
     ]
    }
   ],
   "source": [
    "# Churn user example with 108 logs in 3 sessions until cancelling the subscription\n",
    "data.where(data.userId == 32).select('tsDate', 'sessionId', 'userId', 'page', 'song', 'length').show(150)"
   ]
  },
  {
   "cell_type": "code",
   "execution_count": 930,
   "metadata": {
    "collapsed": true
   },
   "outputs": [
    {
     "ename": "AnalysisException",
     "evalue": "expression '`hours`' is neither present in the group by, nor is it an aggregate function. Add to group by or wrap in first() (or first_value) if you don't care which value you get.;;\nAggregate [churn#4788], [churn#4788, avg(sessionCount#15928L) AS avgSessionCount#15944, (avg(logCount#15932L) / hours#15930) AS avgLogCount#15946]\n+- Aggregate [churn#4788, userId#24], [churn#4788, userId#24, count(userId#24) AS sessionCount#15928L, sum(hours#15916) AS hours#15930, sum(logCount#15913L) AS logCount#15932L]\n   +- Aggregate [churn#4788, userId#24, sessionId#19L], [churn#4788, userId#24, sessionId#19L, count(sessionId#19L) AS logCount#15913L, (((cast((max(ts#22L) - min(ts#22L)) as double) / cast(1000 as double)) / cast(60 as double)) / cast(60 as double)) AS hours#15916]\n      +- Project [artist#7, auth#8, gender#10, itemInSession#11L, length#13, level#14, method#16, page#17, registration#18L, sessionId#19L, song#20, status#21L, ts#22L, userAgent#23, userId#24, regDate#1147, tsDate#1165, city#1200, state#1220, churn#4788, userRowId#4641, userRowDescId#4664, lastLevel#4740, to_date('tsDate, None) AS date#8962]\n         +- Project [artist#7, auth#8, gender#10, itemInSession#11L, length#13, level#14, method#16, page#17, registration#18L, sessionId#19L, song#20, status#21L, ts#22L, userAgent#23, userId#24, regDate#1147, tsDate#1165, city#1200, state#1220, churn#4788, userRowId#4641, userRowDescId#4664, lastLevel#4740]\n            +- Project [artist#7, auth#8, gender#10, itemInSession#11L, length#13, level#14, method#16, page#17, registration#18L, sessionId#19L, song#20, status#21L, ts#22L, userAgent#23, userId#24, regDate#1147, tsDate#1165, city#1200, state#1220, churn#4788, userRowId#4641, userRowDescId#4664, lastLevel#4740, date#8355]\n               +- Project [artist#7, auth#8, gender#10, itemInSession#11L, length#13, level#14, method#16, page#17, registration#18L, sessionId#19L, song#20, status#21L, ts#22L, userAgent#23, userId#24, regDate#1147, tsDate#1165, city#1200, state#1220, churn#4788, userRowId#4641, userRowDescId#4664, lastLevel#4740, tsDay#8328, date#8355]\n                  +- Project [artist#7, auth#8, gender#10, itemInSession#11L, length#13, level#14, method#16, page#17, registration#18L, sessionId#19L, song#20, status#21L, ts#22L, userAgent#23, userId#24, regDate#1147, tsDate#1165, city#1200, state#1220, churn#4788, userRowId#4641, userRowDescId#4664, lastLevel#4740, tsMonth#8301, ... 2 more fields]\n                     +- Project [artist#7, auth#8, gender#10, itemInSession#11L, length#13, level#14, method#16, page#17, registration#18L, sessionId#19L, song#20, status#21L, ts#22L, userAgent#23, userId#24, regDate#1147, tsDate#1165, city#1200, state#1220, churn#4788, userRowId#4641, userRowDescId#4664, lastLevel#4740, tsYear#8274, ... 3 more fields]\n                        +- Project [artist#7, auth#8, gender#10, itemInSession#11L, length#13, level#14, method#16, page#17, registration#18L, sessionId#19L, song#20, status#21L, ts#22L, userAgent#23, userId#24, regDate#1147, tsDate#1165, city#1200, state#1220, churn#4788, userRowId#4641, userRowDescId#4664, lastLevel#4740, tsYear#8274, ... 2 more fields]\n                           +- Project [artist#7, auth#8, gender#10, itemInSession#11L, length#13, level#14, method#16, page#17, registration#18L, sessionId#19L, song#20, status#21L, ts#22L, userAgent#23, userId#24, regDate#1147, tsDate#1165, city#1200, state#1220, churn#4788, userRowId#4641, userRowDescId#4664, lastLevel#4740, tsYear#8274, ... 2 more fields]\n                              +- Project [artist#7, auth#8, gender#10, itemInSession#11L, length#13, level#14, method#16, page#17, registration#18L, sessionId#19L, song#20, status#21L, ts#22L, userAgent#23, userId#24, regDate#1147, tsDate#1165, city#1200, state#1220, churn#4788, userRowId#4641, userRowDescId#4664, lastLevel#4740, year(cast(tsDate#1165 as date)) AS tsYear#8274, ... 2 more fields]\n                                 +- Project [artist#7, auth#8, gender#10, itemInSession#11L, length#13, level#14, method#16, page#17, registration#18L, sessionId#19L, song#20, status#21L, ts#22L, userAgent#23, userId#24, regDate#1147, tsDate#1165, city#1200, state#1220, churn#4788, userRowId#4641, userRowDescId#4664, lastLevel#4740, tsYear#7690, ... 2 more fields]\n                                    +- Project [artist#7, auth#8, gender#10, itemInSession#11L, length#13, level#14, method#16, page#17, registration#18L, sessionId#19L, song#20, status#21L, ts#22L, userAgent#23, userId#24, regDate#1147, tsDate#1165, city#1200, state#1220, churn#4788, userRowId#4641, userRowDescId#4664, lastLevel#4740, tsYear#7690, month(cast(tsDate#1165 as date)) AS tsMonth#7715]\n                                       +- Project [artist#7, auth#8, gender#10, itemInSession#11L, length#13, level#14, method#16, page#17, registration#18L, sessionId#19L, song#20, status#21L, ts#22L, userAgent#23, userId#24, regDate#1147, tsDate#1165, city#1200, state#1220, churn#4788, userRowId#4641, userRowDescId#4664, lastLevel#4740, year(cast(tsDate#1165 as date)) AS tsYear#7690]\n                                          +- Project [artist#7, auth#8, gender#10, itemInSession#11L, length#13, level#14, method#16, page#17, registration#18L, sessionId#19L, song#20, status#21L, ts#22L, userAgent#23, userId#24, regDate#1147, tsDate#1165, city#1200, state#1220, <lambda>(userId#24, churn#4593) AS churn#4788, userRowId#4641, userRowDescId#4664, lastLevel#4740]\n                                             +- Project [artist#7, auth#8, gender#10, itemInSession#11L, length#13, level#14, method#16, page#17, registration#18L, sessionId#19L, song#20, status#21L, ts#22L, userAgent#23, userId#24, regDate#1147, tsDate#1165, city#1200, state#1220, churn#4593, userRowId#4641, userRowDescId#4664, <lambda>(userId#24) AS lastLevel#4740]\n                                                +- Project [artist#7, auth#8, gender#10, itemInSession#11L, length#13, level#14, method#16, page#17, registration#18L, sessionId#19L, song#20, status#21L, ts#22L, userAgent#23, userId#24, regDate#1147, tsDate#1165, city#1200, state#1220, churn#4593, userRowId#4641, userRowDescId#4664]\n                                                   +- Project [artist#7, auth#8, gender#10, itemInSession#11L, length#13, level#14, method#16, page#17, registration#18L, sessionId#19L, song#20, status#21L, ts#22L, userAgent#23, userId#24, regDate#1147, tsDate#1165, city#1200, state#1220, churn#4593, userRowId#4641, userRowDescId#4664, userRowDescId#4664]\n                                                      +- Window [row_number() windowspecdefinition(userId#24, ts#22L DESC NULLS LAST, itemInSession#11L DESC NULLS LAST, specifiedwindowframe(RowFrame, unboundedpreceding$(), currentrow$())) AS userRowDescId#4664], [userId#24], [ts#22L DESC NULLS LAST, itemInSession#11L DESC NULLS LAST]\n                                                         +- Project [artist#7, auth#8, gender#10, itemInSession#11L, length#13, level#14, method#16, page#17, registration#18L, sessionId#19L, song#20, status#21L, ts#22L, userAgent#23, userId#24, regDate#1147, tsDate#1165, city#1200, state#1220, churn#4593, userRowId#4641]\n                                                            +- Project [artist#7, auth#8, gender#10, itemInSession#11L, length#13, level#14, method#16, page#17, registration#18L, sessionId#19L, song#20, status#21L, ts#22L, userAgent#23, userId#24, regDate#1147, tsDate#1165, city#1200, state#1220, churn#4593, userRowId#4641]\n                                                               +- Project [artist#7, auth#8, gender#10, itemInSession#11L, length#13, level#14, method#16, page#17, registration#18L, sessionId#19L, song#20, status#21L, ts#22L, userAgent#23, userId#24, regDate#1147, tsDate#1165, city#1200, state#1220, churn#4593, userRowId#4641, userRowId#4641]\n                                                                  +- Window [row_number() windowspecdefinition(userId#24, ts#22L ASC NULLS FIRST, itemInSession#11L ASC NULLS FIRST, specifiedwindowframe(RowFrame, unboundedpreceding$(), currentrow$())) AS userRowId#4641], [userId#24], [ts#22L ASC NULLS FIRST, itemInSession#11L ASC NULLS FIRST]\n                                                                     +- Project [artist#7, auth#8, gender#10, itemInSession#11L, length#13, level#14, method#16, page#17, registration#18L, sessionId#19L, song#20, status#21L, ts#22L, userAgent#23, userId#24, regDate#1147, tsDate#1165, city#1200, state#1220, churn#4593]\n                                                                        +- Project [artist#7, auth#8, gender#10, itemInSession#11L, length#13, level#14, method#16, page#17, registration#18L, sessionId#19L, song#20, status#21L, ts#22L, userAgent#23, userId#24, regDate#1147, tsDate#1165, city#1200, state#1220, <lambda>(userId#24) AS churn#4593]\n                                                                           +- Project [artist#7, auth#8, gender#10, itemInSession#11L, length#13, level#14, method#16, page#17, registration#18L, sessionId#19L, song#20, status#21L, ts#22L, userAgent#23, userId#24, regDate#1147, tsDate#1165, city#1200, state#1220, <lambda>(userId#24) AS churn#4478]\n                                                                              +- Project [artist#7, auth#8, gender#10, itemInSession#11L, length#13, level#14, method#16, page#17, registration#18L, sessionId#19L, song#20, status#21L, ts#22L, userAgent#23, userId#24, regDate#1147, tsDate#1165, city#1200, state#1220]\n                                                                                 +- Project [artist#7, auth#8, gender#10, itemInSession#11L, length#13, level#14, location#15, method#16, page#17, registration#18L, sessionId#19L, song#20, status#21L, ts#22L, userAgent#23, userId#24, regDate#1147, tsDate#1165, city#1200, split(location#15, ,, -1)[1] AS state#1220]\n                                                                                    +- Project [artist#7, auth#8, gender#10, itemInSession#11L, length#13, level#14, location#15, method#16, page#17, registration#18L, sessionId#19L, song#20, status#21L, ts#22L, userAgent#23, userId#24, regDate#1147, tsDate#1165, split(location#15, ,, -1)[0] AS city#1200]\n                                                                                       +- Project [artist#7, auth#8, gender#10, itemInSession#11L, length#13, level#14, location#15, method#16, page#17, registration#18L, sessionId#19L, song#20, status#21L, ts#22L, userAgent#23, userId#24, regDate#1147, cast((cast(ts#22L as double) / cast(1000.0 as double)) as timestamp) AS tsDate#1165]\n                                                                                          +- Project [artist#7, auth#8, gender#10, itemInSession#11L, length#13, level#14, location#15, method#16, page#17, registration#18L, sessionId#19L, song#20, status#21L, ts#22L, userAgent#23, userId#24, cast((cast(registration#18L as double) / cast(1000.0 as double)) as timestamp) AS regDate#1147]\n                                                                                             +- Project [artist#7, auth#8, gender#10, itemInSession#11L, length#13, level#14, location#15, method#16, page#17, registration#18L, sessionId#19L, song#20, status#21L, ts#22L, userAgent#23, userId#24]\n                                                                                                +- Project [artist#7, auth#8, gender#10, itemInSession#11L, lastName#12, length#13, level#14, location#15, method#16, page#17, registration#18L, sessionId#19L, song#20, status#21L, ts#22L, userAgent#23, userId#24]\n                                                                                                   +- Filter NOT (isnull(userId#24) OR (userId#24 = ))\n                                                                                                      +- Relation[artist#7,auth#8,firstName#9,gender#10,itemInSession#11L,lastName#12,length#13,level#14,location#15,method#16,page#17,registration#18L,sessionId#19L,song#20,status#21L,ts#22L,userAgent#23,userId#24] json\n",
     "output_type": "error",
     "traceback": [
      "\u001b[1;31m---------------------------------------------------------------------------\u001b[0m",
      "\u001b[1;31mAnalysisException\u001b[0m                         Traceback (most recent call last)",
      "\u001b[1;32m<ipython-input-930-83657dabd665>\u001b[0m in \u001b[0;36m<module>\u001b[1;34m()\u001b[0m\n\u001b[1;32m----> 1\u001b[1;33m \u001b[0msession_stats_hour_df\u001b[0m \u001b[1;33m=\u001b[0m \u001b[0mdata\u001b[0m     \u001b[1;33m.\u001b[0m\u001b[0mgroupby\u001b[0m\u001b[1;33m(\u001b[0m\u001b[1;34m'churn'\u001b[0m\u001b[1;33m,\u001b[0m \u001b[1;34m'userId'\u001b[0m\u001b[1;33m,\u001b[0m \u001b[1;34m'sessionId'\u001b[0m\u001b[1;33m)\u001b[0m     \u001b[1;33m.\u001b[0m\u001b[0magg\u001b[0m\u001b[1;33m(\u001b[0m\u001b[0mcount\u001b[0m\u001b[1;33m(\u001b[0m\u001b[1;34m'sessionId'\u001b[0m\u001b[1;33m)\u001b[0m\u001b[1;33m.\u001b[0m\u001b[0malias\u001b[0m\u001b[1;33m(\u001b[0m\u001b[1;34m'logCount'\u001b[0m\u001b[1;33m)\u001b[0m\u001b[1;33m,\u001b[0m \u001b[1;33m(\u001b[0m\u001b[1;33m(\u001b[0m\u001b[0mmax\u001b[0m\u001b[1;33m(\u001b[0m\u001b[1;34m'ts'\u001b[0m\u001b[1;33m)\u001b[0m \u001b[1;33m-\u001b[0m \u001b[0mmin\u001b[0m\u001b[1;33m(\u001b[0m\u001b[1;34m'ts'\u001b[0m\u001b[1;33m)\u001b[0m\u001b[1;33m)\u001b[0m\u001b[1;33m/\u001b[0m\u001b[1;36m1000\u001b[0m\u001b[1;33m/\u001b[0m\u001b[1;36m60\u001b[0m\u001b[1;33m/\u001b[0m\u001b[1;36m60\u001b[0m\u001b[1;33m)\u001b[0m\u001b[1;33m.\u001b[0m\u001b[0malias\u001b[0m\u001b[1;33m(\u001b[0m\u001b[1;34m'hours'\u001b[0m\u001b[1;33m)\u001b[0m\u001b[1;33m)\u001b[0m     \u001b[1;33m.\u001b[0m\u001b[0mgroupby\u001b[0m\u001b[1;33m(\u001b[0m\u001b[1;34m'churn'\u001b[0m\u001b[1;33m,\u001b[0m \u001b[1;34m'userId'\u001b[0m\u001b[1;33m)\u001b[0m     \u001b[1;33m.\u001b[0m\u001b[0magg\u001b[0m\u001b[1;33m(\u001b[0m\u001b[0mcount\u001b[0m\u001b[1;33m(\u001b[0m\u001b[1;34m'userId'\u001b[0m\u001b[1;33m)\u001b[0m\u001b[1;33m.\u001b[0m\u001b[0malias\u001b[0m\u001b[1;33m(\u001b[0m\u001b[1;34m'sessionCount'\u001b[0m\u001b[1;33m)\u001b[0m\u001b[1;33m,\u001b[0m          \u001b[0mFsum\u001b[0m\u001b[1;33m(\u001b[0m\u001b[1;34m'hours'\u001b[0m\u001b[1;33m)\u001b[0m\u001b[1;33m.\u001b[0m\u001b[0malias\u001b[0m\u001b[1;33m(\u001b[0m\u001b[1;34m'hours'\u001b[0m\u001b[1;33m)\u001b[0m\u001b[1;33m,\u001b[0m          \u001b[0mFsum\u001b[0m\u001b[1;33m(\u001b[0m\u001b[1;34m'logCount'\u001b[0m\u001b[1;33m)\u001b[0m\u001b[1;33m.\u001b[0m\u001b[0malias\u001b[0m\u001b[1;33m(\u001b[0m\u001b[1;34m'logCount'\u001b[0m\u001b[1;33m)\u001b[0m\u001b[1;33m)\u001b[0m     \u001b[1;33m.\u001b[0m\u001b[0mgroupby\u001b[0m\u001b[1;33m(\u001b[0m\u001b[1;34m'churn'\u001b[0m\u001b[1;33m)\u001b[0m     \u001b[1;33m.\u001b[0m\u001b[0magg\u001b[0m\u001b[1;33m(\u001b[0m\u001b[0mavg\u001b[0m\u001b[1;33m(\u001b[0m\u001b[1;34m'sessionCount'\u001b[0m\u001b[1;33m)\u001b[0m\u001b[1;33m.\u001b[0m\u001b[0malias\u001b[0m\u001b[1;33m(\u001b[0m\u001b[1;34m'avgSessionCount'\u001b[0m\u001b[1;33m)\u001b[0m\u001b[1;33m,\u001b[0m          \u001b[1;33m(\u001b[0m\u001b[0mavg\u001b[0m\u001b[1;33m(\u001b[0m\u001b[1;34m'logCount'\u001b[0m\u001b[1;33m)\u001b[0m\u001b[1;33m/\u001b[0m\u001b[0mcol\u001b[0m\u001b[1;33m(\u001b[0m\u001b[1;34m'hours'\u001b[0m\u001b[1;33m)\u001b[0m\u001b[1;33m)\u001b[0m\u001b[1;33m.\u001b[0m\u001b[0malias\u001b[0m\u001b[1;33m(\u001b[0m\u001b[1;34m'avgLogCount'\u001b[0m\u001b[1;33m)\u001b[0m\u001b[1;33m)\u001b[0m     \u001b[1;33m.\u001b[0m\u001b[0msort\u001b[0m\u001b[1;33m(\u001b[0m\u001b[1;34m'churn'\u001b[0m\u001b[1;33m)\u001b[0m     \u001b[1;33m.\u001b[0m\u001b[0mtoPandas\u001b[0m\u001b[1;33m(\u001b[0m\u001b[1;33m)\u001b[0m\u001b[1;33m\u001b[0m\u001b[0m\n\u001b[0m",
      "\u001b[1;32mC:\\ProgramData\\Anaconda3\\lib\\site-packages\\pyspark\\sql\\group.py\u001b[0m in \u001b[0;36magg\u001b[1;34m(self, *exprs)\u001b[0m\n\u001b[0;32m    112\u001b[0m             \u001b[1;32massert\u001b[0m \u001b[0mall\u001b[0m\u001b[1;33m(\u001b[0m\u001b[0misinstance\u001b[0m\u001b[1;33m(\u001b[0m\u001b[0mc\u001b[0m\u001b[1;33m,\u001b[0m \u001b[0mColumn\u001b[0m\u001b[1;33m)\u001b[0m \u001b[1;32mfor\u001b[0m \u001b[0mc\u001b[0m \u001b[1;32min\u001b[0m \u001b[0mexprs\u001b[0m\u001b[1;33m)\u001b[0m\u001b[1;33m,\u001b[0m \u001b[1;34m\"all exprs should be Column\"\u001b[0m\u001b[1;33m\u001b[0m\u001b[0m\n\u001b[0;32m    113\u001b[0m             jdf = self._jgd.agg(exprs[0]._jc,\n\u001b[1;32m--> 114\u001b[1;33m                                 _to_seq(self.sql_ctx._sc, [c._jc for c in exprs[1:]]))\n\u001b[0m\u001b[0;32m    115\u001b[0m         \u001b[1;32mreturn\u001b[0m \u001b[0mDataFrame\u001b[0m\u001b[1;33m(\u001b[0m\u001b[0mjdf\u001b[0m\u001b[1;33m,\u001b[0m \u001b[0mself\u001b[0m\u001b[1;33m.\u001b[0m\u001b[0msql_ctx\u001b[0m\u001b[1;33m)\u001b[0m\u001b[1;33m\u001b[0m\u001b[0m\n\u001b[0;32m    116\u001b[0m \u001b[1;33m\u001b[0m\u001b[0m\n",
      "\u001b[1;32mC:\\ProgramData\\Anaconda3\\lib\\site-packages\\py4j\\java_gateway.py\u001b[0m in \u001b[0;36m__call__\u001b[1;34m(self, *args)\u001b[0m\n\u001b[0;32m   1303\u001b[0m         \u001b[0manswer\u001b[0m \u001b[1;33m=\u001b[0m \u001b[0mself\u001b[0m\u001b[1;33m.\u001b[0m\u001b[0mgateway_client\u001b[0m\u001b[1;33m.\u001b[0m\u001b[0msend_command\u001b[0m\u001b[1;33m(\u001b[0m\u001b[0mcommand\u001b[0m\u001b[1;33m)\u001b[0m\u001b[1;33m\u001b[0m\u001b[0m\n\u001b[0;32m   1304\u001b[0m         return_value = get_return_value(\n\u001b[1;32m-> 1305\u001b[1;33m             answer, self.gateway_client, self.target_id, self.name)\n\u001b[0m\u001b[0;32m   1306\u001b[0m \u001b[1;33m\u001b[0m\u001b[0m\n\u001b[0;32m   1307\u001b[0m         \u001b[1;32mfor\u001b[0m \u001b[0mtemp_arg\u001b[0m \u001b[1;32min\u001b[0m \u001b[0mtemp_args\u001b[0m\u001b[1;33m:\u001b[0m\u001b[1;33m\u001b[0m\u001b[0m\n",
      "\u001b[1;32mC:\\ProgramData\\Anaconda3\\lib\\site-packages\\pyspark\\sql\\utils.py\u001b[0m in \u001b[0;36mdeco\u001b[1;34m(*a, **kw)\u001b[0m\n\u001b[0;32m    135\u001b[0m                 \u001b[1;31m# Hide where the exception came from that shows a non-Pythonic\u001b[0m\u001b[1;33m\u001b[0m\u001b[1;33m\u001b[0m\u001b[0m\n\u001b[0;32m    136\u001b[0m                 \u001b[1;31m# JVM exception message.\u001b[0m\u001b[1;33m\u001b[0m\u001b[1;33m\u001b[0m\u001b[0m\n\u001b[1;32m--> 137\u001b[1;33m                 \u001b[0mraise_from\u001b[0m\u001b[1;33m(\u001b[0m\u001b[0mconverted\u001b[0m\u001b[1;33m)\u001b[0m\u001b[1;33m\u001b[0m\u001b[0m\n\u001b[0m\u001b[0;32m    138\u001b[0m             \u001b[1;32melse\u001b[0m\u001b[1;33m:\u001b[0m\u001b[1;33m\u001b[0m\u001b[0m\n\u001b[0;32m    139\u001b[0m                 \u001b[1;32mraise\u001b[0m\u001b[1;33m\u001b[0m\u001b[0m\n",
      "\u001b[1;32mC:\\ProgramData\\Anaconda3\\lib\\site-packages\\pyspark\\sql\\utils.py\u001b[0m in \u001b[0;36mraise_from\u001b[1;34m(e)\u001b[0m\n",
      "\u001b[1;31mAnalysisException\u001b[0m: expression '`hours`' is neither present in the group by, nor is it an aggregate function. Add to group by or wrap in first() (or first_value) if you don't care which value you get.;;\nAggregate [churn#4788], [churn#4788, avg(sessionCount#15928L) AS avgSessionCount#15944, (avg(logCount#15932L) / hours#15930) AS avgLogCount#15946]\n+- Aggregate [churn#4788, userId#24], [churn#4788, userId#24, count(userId#24) AS sessionCount#15928L, sum(hours#15916) AS hours#15930, sum(logCount#15913L) AS logCount#15932L]\n   +- Aggregate [churn#4788, userId#24, sessionId#19L], [churn#4788, userId#24, sessionId#19L, count(sessionId#19L) AS logCount#15913L, (((cast((max(ts#22L) - min(ts#22L)) as double) / cast(1000 as double)) / cast(60 as double)) / cast(60 as double)) AS hours#15916]\n      +- Project [artist#7, auth#8, gender#10, itemInSession#11L, length#13, level#14, method#16, page#17, registration#18L, sessionId#19L, song#20, status#21L, ts#22L, userAgent#23, userId#24, regDate#1147, tsDate#1165, city#1200, state#1220, churn#4788, userRowId#4641, userRowDescId#4664, lastLevel#4740, to_date('tsDate, None) AS date#8962]\n         +- Project [artist#7, auth#8, gender#10, itemInSession#11L, length#13, level#14, method#16, page#17, registration#18L, sessionId#19L, song#20, status#21L, ts#22L, userAgent#23, userId#24, regDate#1147, tsDate#1165, city#1200, state#1220, churn#4788, userRowId#4641, userRowDescId#4664, lastLevel#4740]\n            +- Project [artist#7, auth#8, gender#10, itemInSession#11L, length#13, level#14, method#16, page#17, registration#18L, sessionId#19L, song#20, status#21L, ts#22L, userAgent#23, userId#24, regDate#1147, tsDate#1165, city#1200, state#1220, churn#4788, userRowId#4641, userRowDescId#4664, lastLevel#4740, date#8355]\n               +- Project [artist#7, auth#8, gender#10, itemInSession#11L, length#13, level#14, method#16, page#17, registration#18L, sessionId#19L, song#20, status#21L, ts#22L, userAgent#23, userId#24, regDate#1147, tsDate#1165, city#1200, state#1220, churn#4788, userRowId#4641, userRowDescId#4664, lastLevel#4740, tsDay#8328, date#8355]\n                  +- Project [artist#7, auth#8, gender#10, itemInSession#11L, length#13, level#14, method#16, page#17, registration#18L, sessionId#19L, song#20, status#21L, ts#22L, userAgent#23, userId#24, regDate#1147, tsDate#1165, city#1200, state#1220, churn#4788, userRowId#4641, userRowDescId#4664, lastLevel#4740, tsMonth#8301, ... 2 more fields]\n                     +- Project [artist#7, auth#8, gender#10, itemInSession#11L, length#13, level#14, method#16, page#17, registration#18L, sessionId#19L, song#20, status#21L, ts#22L, userAgent#23, userId#24, regDate#1147, tsDate#1165, city#1200, state#1220, churn#4788, userRowId#4641, userRowDescId#4664, lastLevel#4740, tsYear#8274, ... 3 more fields]\n                        +- Project [artist#7, auth#8, gender#10, itemInSession#11L, length#13, level#14, method#16, page#17, registration#18L, sessionId#19L, song#20, status#21L, ts#22L, userAgent#23, userId#24, regDate#1147, tsDate#1165, city#1200, state#1220, churn#4788, userRowId#4641, userRowDescId#4664, lastLevel#4740, tsYear#8274, ... 2 more fields]\n                           +- Project [artist#7, auth#8, gender#10, itemInSession#11L, length#13, level#14, method#16, page#17, registration#18L, sessionId#19L, song#20, status#21L, ts#22L, userAgent#23, userId#24, regDate#1147, tsDate#1165, city#1200, state#1220, churn#4788, userRowId#4641, userRowDescId#4664, lastLevel#4740, tsYear#8274, ... 2 more fields]\n                              +- Project [artist#7, auth#8, gender#10, itemInSession#11L, length#13, level#14, method#16, page#17, registration#18L, sessionId#19L, song#20, status#21L, ts#22L, userAgent#23, userId#24, regDate#1147, tsDate#1165, city#1200, state#1220, churn#4788, userRowId#4641, userRowDescId#4664, lastLevel#4740, year(cast(tsDate#1165 as date)) AS tsYear#8274, ... 2 more fields]\n                                 +- Project [artist#7, auth#8, gender#10, itemInSession#11L, length#13, level#14, method#16, page#17, registration#18L, sessionId#19L, song#20, status#21L, ts#22L, userAgent#23, userId#24, regDate#1147, tsDate#1165, city#1200, state#1220, churn#4788, userRowId#4641, userRowDescId#4664, lastLevel#4740, tsYear#7690, ... 2 more fields]\n                                    +- Project [artist#7, auth#8, gender#10, itemInSession#11L, length#13, level#14, method#16, page#17, registration#18L, sessionId#19L, song#20, status#21L, ts#22L, userAgent#23, userId#24, regDate#1147, tsDate#1165, city#1200, state#1220, churn#4788, userRowId#4641, userRowDescId#4664, lastLevel#4740, tsYear#7690, month(cast(tsDate#1165 as date)) AS tsMonth#7715]\n                                       +- Project [artist#7, auth#8, gender#10, itemInSession#11L, length#13, level#14, method#16, page#17, registration#18L, sessionId#19L, song#20, status#21L, ts#22L, userAgent#23, userId#24, regDate#1147, tsDate#1165, city#1200, state#1220, churn#4788, userRowId#4641, userRowDescId#4664, lastLevel#4740, year(cast(tsDate#1165 as date)) AS tsYear#7690]\n                                          +- Project [artist#7, auth#8, gender#10, itemInSession#11L, length#13, level#14, method#16, page#17, registration#18L, sessionId#19L, song#20, status#21L, ts#22L, userAgent#23, userId#24, regDate#1147, tsDate#1165, city#1200, state#1220, <lambda>(userId#24, churn#4593) AS churn#4788, userRowId#4641, userRowDescId#4664, lastLevel#4740]\n                                             +- Project [artist#7, auth#8, gender#10, itemInSession#11L, length#13, level#14, method#16, page#17, registration#18L, sessionId#19L, song#20, status#21L, ts#22L, userAgent#23, userId#24, regDate#1147, tsDate#1165, city#1200, state#1220, churn#4593, userRowId#4641, userRowDescId#4664, <lambda>(userId#24) AS lastLevel#4740]\n                                                +- Project [artist#7, auth#8, gender#10, itemInSession#11L, length#13, level#14, method#16, page#17, registration#18L, sessionId#19L, song#20, status#21L, ts#22L, userAgent#23, userId#24, regDate#1147, tsDate#1165, city#1200, state#1220, churn#4593, userRowId#4641, userRowDescId#4664]\n                                                   +- Project [artist#7, auth#8, gender#10, itemInSession#11L, length#13, level#14, method#16, page#17, registration#18L, sessionId#19L, song#20, status#21L, ts#22L, userAgent#23, userId#24, regDate#1147, tsDate#1165, city#1200, state#1220, churn#4593, userRowId#4641, userRowDescId#4664, userRowDescId#4664]\n                                                      +- Window [row_number() windowspecdefinition(userId#24, ts#22L DESC NULLS LAST, itemInSession#11L DESC NULLS LAST, specifiedwindowframe(RowFrame, unboundedpreceding$(), currentrow$())) AS userRowDescId#4664], [userId#24], [ts#22L DESC NULLS LAST, itemInSession#11L DESC NULLS LAST]\n                                                         +- Project [artist#7, auth#8, gender#10, itemInSession#11L, length#13, level#14, method#16, page#17, registration#18L, sessionId#19L, song#20, status#21L, ts#22L, userAgent#23, userId#24, regDate#1147, tsDate#1165, city#1200, state#1220, churn#4593, userRowId#4641]\n                                                            +- Project [artist#7, auth#8, gender#10, itemInSession#11L, length#13, level#14, method#16, page#17, registration#18L, sessionId#19L, song#20, status#21L, ts#22L, userAgent#23, userId#24, regDate#1147, tsDate#1165, city#1200, state#1220, churn#4593, userRowId#4641]\n                                                               +- Project [artist#7, auth#8, gender#10, itemInSession#11L, length#13, level#14, method#16, page#17, registration#18L, sessionId#19L, song#20, status#21L, ts#22L, userAgent#23, userId#24, regDate#1147, tsDate#1165, city#1200, state#1220, churn#4593, userRowId#4641, userRowId#4641]\n                                                                  +- Window [row_number() windowspecdefinition(userId#24, ts#22L ASC NULLS FIRST, itemInSession#11L ASC NULLS FIRST, specifiedwindowframe(RowFrame, unboundedpreceding$(), currentrow$())) AS userRowId#4641], [userId#24], [ts#22L ASC NULLS FIRST, itemInSession#11L ASC NULLS FIRST]\n                                                                     +- Project [artist#7, auth#8, gender#10, itemInSession#11L, length#13, level#14, method#16, page#17, registration#18L, sessionId#19L, song#20, status#21L, ts#22L, userAgent#23, userId#24, regDate#1147, tsDate#1165, city#1200, state#1220, churn#4593]\n                                                                        +- Project [artist#7, auth#8, gender#10, itemInSession#11L, length#13, level#14, method#16, page#17, registration#18L, sessionId#19L, song#20, status#21L, ts#22L, userAgent#23, userId#24, regDate#1147, tsDate#1165, city#1200, state#1220, <lambda>(userId#24) AS churn#4593]\n                                                                           +- Project [artist#7, auth#8, gender#10, itemInSession#11L, length#13, level#14, method#16, page#17, registration#18L, sessionId#19L, song#20, status#21L, ts#22L, userAgent#23, userId#24, regDate#1147, tsDate#1165, city#1200, state#1220, <lambda>(userId#24) AS churn#4478]\n                                                                              +- Project [artist#7, auth#8, gender#10, itemInSession#11L, length#13, level#14, method#16, page#17, registration#18L, sessionId#19L, song#20, status#21L, ts#22L, userAgent#23, userId#24, regDate#1147, tsDate#1165, city#1200, state#1220]\n                                                                                 +- Project [artist#7, auth#8, gender#10, itemInSession#11L, length#13, level#14, location#15, method#16, page#17, registration#18L, sessionId#19L, song#20, status#21L, ts#22L, userAgent#23, userId#24, regDate#1147, tsDate#1165, city#1200, split(location#15, ,, -1)[1] AS state#1220]\n                                                                                    +- Project [artist#7, auth#8, gender#10, itemInSession#11L, length#13, level#14, location#15, method#16, page#17, registration#18L, sessionId#19L, song#20, status#21L, ts#22L, userAgent#23, userId#24, regDate#1147, tsDate#1165, split(location#15, ,, -1)[0] AS city#1200]\n                                                                                       +- Project [artist#7, auth#8, gender#10, itemInSession#11L, length#13, level#14, location#15, method#16, page#17, registration#18L, sessionId#19L, song#20, status#21L, ts#22L, userAgent#23, userId#24, regDate#1147, cast((cast(ts#22L as double) / cast(1000.0 as double)) as timestamp) AS tsDate#1165]\n                                                                                          +- Project [artist#7, auth#8, gender#10, itemInSession#11L, length#13, level#14, location#15, method#16, page#17, registration#18L, sessionId#19L, song#20, status#21L, ts#22L, userAgent#23, userId#24, cast((cast(registration#18L as double) / cast(1000.0 as double)) as timestamp) AS regDate#1147]\n                                                                                             +- Project [artist#7, auth#8, gender#10, itemInSession#11L, length#13, level#14, location#15, method#16, page#17, registration#18L, sessionId#19L, song#20, status#21L, ts#22L, userAgent#23, userId#24]\n                                                                                                +- Project [artist#7, auth#8, gender#10, itemInSession#11L, lastName#12, length#13, level#14, location#15, method#16, page#17, registration#18L, sessionId#19L, song#20, status#21L, ts#22L, userAgent#23, userId#24]\n                                                                                                   +- Filter NOT (isnull(userId#24) OR (userId#24 = ))\n                                                                                                      +- Relation[artist#7,auth#8,firstName#9,gender#10,itemInSession#11L,lastName#12,length#13,level#14,location#15,method#16,page#17,registration#18L,sessionId#19L,song#20,status#21L,ts#22L,userAgent#23,userId#24] json\n"
     ]
    }
   ],
   "source": [
    "session_stats_hour_df = data \\\n",
    "    .groupby('churn', 'userId', 'sessionId') \\\n",
    "    .agg(count('sessionId').alias('logCount'), \\\n",
    "         ((max('ts') - min('ts'))/1000/60/60).alias('hours')) \\\n",
    "    .groupby('churn', 'userId') \\\n",
    "    .agg(count('userId').alias('sessionCount'), \\\n",
    "         Fsum('hours').alias('hours'), \\\n",
    "         Fsum('logCount').alias('logCount')) \\\n",
    "    .groupby('churn') \\\n",
    "    .agg(avg('sessionCount').alias('avgSessionCount'), \\\n",
    "         (avg('logCount')/col('hours')).alias('avgLogCount')) \\\n",
    "    .sort('churn') \\\n",
    "    .toPandas()"
   ]
  },
  {
   "cell_type": "code",
   "execution_count": null,
   "metadata": {
    "collapsed": true
   },
   "outputs": [],
   "source": []
  },
  {
   "cell_type": "markdown",
   "metadata": {},
   "source": [
    "### Page level\n",
    "Note: The *Cancel*, *Cancellation Confirmation*, and *Submit Downgrade* events are excluded from the page level statistics since **they form part of the label definition**. While the first two features are exclusively \"churned\", the *Submit Downgrade* event does not exclusively defines the churned group. However, when there is a single *Submit Downgrade* event per user (without upgrading), then this event also denotes exclusively a churned group.  "
   ]
  },
  {
   "cell_type": "code",
   "execution_count": 35,
   "metadata": {},
   "outputs": [],
   "source": [
    "page_data = data.where(~data.page.isin(['Cancel', 'Cancellation Confirmation', 'Submit Downgrade']))"
   ]
  },
  {
   "cell_type": "markdown",
   "metadata": {},
   "source": [
    "#### Common Functions"
   ]
  },
  {
   "cell_type": "code",
   "execution_count": 62,
   "metadata": {},
   "outputs": [],
   "source": [
    "def plot_ratio_feature(df, feature, title, loc=1):\n",
    "    # Split data by churn\n",
    "    df0 = df[df.churn == 0].sort_values([feature, 'churn']).copy()\n",
    "    df1 = df[df.churn == 1].sort_values([feature, 'churn']).copy()\n",
    "\n",
    "    label_names = ['non-churned', 'churned']\n",
    "\n",
    "    # Plot\n",
    "    set_plot_size(15, 6);\n",
    "    width = 0.35\n",
    "    labels = df0['page'].sort_values()\n",
    "    plt.xticks(range(len(labels)), labels)\n",
    "    plt.xlabel(feature)\n",
    "    plt.ylabel('ratio')\n",
    "    plt.bar(np.arange(len(df0)), df0['ratio'], width=width)\n",
    "    plt.bar(np.arange(len(df1))+width, df1['ratio'], width=width)\n",
    "    plt.xticks(rotation = 90);\n",
    "    ax = plt.gca()\n",
    "    ax.set_title(title);\n",
    "    plt.legend(label_names, loc=loc)\n",
    "    \n",
    "    # mark middle 0.5 line\n",
    "    plt.plot((-1, 16), (0.50, 0.50), color='black', linestyle='-', linewidth=1)\n",
    "    plt.plot((-1, 16), (0.55, 0.55), color='red', linestyle=':', linewidth=2)\n",
    "    plt.plot((-1, 16), (0.45, 0.45), color='red', linestyle=':', linewidth=2)\n",
    "    \n",
    "    plt.show()"
   ]
  },
  {
   "cell_type": "markdown",
   "metadata": {},
   "source": [
    "#### Page level: *Count*\n",
    "We calculate ratio of a **page count** where data is aggregated by *churn group*. "
   ]
  },
  {
   "cell_type": "code",
   "execution_count": 1014,
   "metadata": {},
   "outputs": [
    {
     "data": {
      "image/png": "[encoded data removed]",
      "text/plain": [
       "<matplotlib.figure.Figure at 0x1713706b588>"
      ]
     },
     "metadata": {},
     "output_type": "display_data"
    }
   ],
   "source": [
    "page_count_df = page_data \\\n",
    "    .select('churn', 'page') \\\n",
    "    .groupby('churn', 'page') \\\n",
    "    .count() \\\n",
    "    .toPandas()\n",
    "    \n",
    "page_count_df = calc_ratio(page_count_df, 'count', 'page') \n",
    "\n",
    "plot_ratio_feature(page_count_df, 'page', 'Page level: Count')"
   ]
  },
  {
   "cell_type": "markdown",
   "metadata": {},
   "source": [
    "#### Page level: *Average count*\n",
    "We calculate ratio of an **average page count** where data is aggregated by *churn group*, *user*."
   ]
  },
  {
   "cell_type": "code",
   "execution_count": 1015,
   "metadata": {},
   "outputs": [
    {
     "data": {
      "image/png": "[encoded data removed]",
      "text/plain": [
       "<matplotlib.figure.Figure at 0x17137041cc0>"
      ]
     },
     "metadata": {},
     "output_type": "display_data"
    }
   ],
   "source": [
    "page_count_avg_df = page_data \\\n",
    "    .groupby('churn', 'page', 'userId') \\\n",
    "    .count() \\\n",
    "    .groupby('churn', 'page') \\\n",
    "    .avg() \\\n",
    "    .select('churn', 'page', col('avg(count)').alias('avg')) \\\n",
    "    .toPandas()\n",
    "    \n",
    "page_count_avg_df = calc_ratio(page_count_avg_df, 'avg', 'page') \n",
    "\n",
    "plot_ratio_feature(page_count_avg_df, 'page', 'Page level: Average count')"
   ]
  },
  {
   "cell_type": "markdown",
   "metadata": {},
   "source": [
    "### <span style=\"color:red\">Significant user interaction features</span>\n",
    " - Roll Advert (+)\n",
    " - Upgrade (+)"
   ]
  },
  {
   "cell_type": "code",
   "execution_count": 974,
   "metadata": {},
   "outputs": [
    {
     "name": "stdout",
     "output_type": "stream",
     "text": [
      "+-----+----------+------------------+\n",
      "|churn|avg(churn)|        avg(count)|\n",
      "+-----+----------+------------------+\n",
      "|    1|       1.0| 23.76923076923077|\n",
      "|    0|       0.0|16.816901408450704|\n",
      "+-----+----------+------------------+\n",
      "\n"
     ]
    }
   ],
   "source": [
    "# Check Roll Advert (OK)\n",
    "data.where(data.page == 'Roll Advert') \\\n",
    "    .groupby('churn', 'userId') \\\n",
    "    .count() \\\n",
    "    .groupby('churn') \\\n",
    "    .avg() \\\n",
    "    .show()"
   ]
  },
  {
   "cell_type": "markdown",
   "metadata": {},
   "source": [
    "#### Page level: *Average count per hour*\n",
    "We calculate ratio of an **average page count per hour** where data is aggregated by *churn group*, *user*, *session*, *hour*."
   ]
  },
  {
   "cell_type": "code",
   "execution_count": 1016,
   "metadata": {
    "scrolled": false
   },
   "outputs": [
    {
     "data": {
      "image/png": "[encoded data removed]",
      "text/plain": [
       "<matplotlib.figure.Figure at 0x171378e42e8>"
      ]
     },
     "metadata": {},
     "output_type": "display_data"
    }
   ],
   "source": [
    "page_hour = page_data \\\n",
    "    .join(page_data \\\n",
    "        .groupby('userId', 'sessionId') \\\n",
    "        .agg(((max('ts') - min('ts'))/1000/3600).alias('duration')) \\\n",
    "        .select('userId', 'sessionId', round(col('duration'), 1).alias('sessionDuration')), \\\n",
    "            on = ['userId', 'sessionId'], how = 'inner') \\\n",
    "    .select('churn', 'userId', 'sessionId', 'sessionDuration', 'page')\n",
    "\n",
    "page_count_avg_hour_df = page_hour \\\n",
    "    .groupby('page', 'churn', 'userId', 'sessionId', 'sessionDuration') \\\n",
    "    .agg((count('page')/col('sessionDuration')).alias('avg')) \\\n",
    "    .groupby('page', 'churn', 'userId') \\\n",
    "    .agg(avg('avg').alias('avg')) \\\n",
    "    .groupby('page', 'churn') \\\n",
    "    .agg(avg('avg').alias('avg')) \\\n",
    "    .toPandas() \n",
    "\n",
    "page_count_avg_hour_df = calc_ratio(page_count_avg_hour_df, 'avg', 'page') \n",
    "\n",
    "plot_ratio_feature(page_count_avg_hour_df, 'page', 'Page level: Average count per hour')"
   ]
  },
  {
   "cell_type": "code",
   "execution_count": 1057,
   "metadata": {
    "collapsed": true
   },
   "outputs": [],
   "source": [
    "# Get sum of duration in hours for all user page interactions\n",
    "\n",
    "user_hours = page_data \\\n",
    "    .groupby('userId', 'sessionId') \\\n",
    "    .agg(((max('ts') - min('ts'))/1000/3600).alias('hours')) \\\n",
    "    .groupby('userId') \\\n",
    "    .agg(Fsum('hours').alias('hours'))\n",
    "    "
   ]
  },
  {
   "cell_type": "code",
   "execution_count": 1054,
   "metadata": {},
   "outputs": [
    {
     "data": {
      "text/plain": [
       "225"
      ]
     },
     "execution_count": 1054,
     "metadata": {},
     "output_type": "execute_result"
    }
   ],
   "source": [
    "user_hours.count()"
   ]
  },
  {
   "cell_type": "code",
   "execution_count": 1053,
   "metadata": {},
   "outputs": [
    {
     "name": "stdout",
     "output_type": "stream",
     "text": [
      "+--------------+-----------------+\n",
      "|sum(sessionId)|       sum(hours)|\n",
      "+--------------+-----------------+\n",
      "|         16597|244.9902777777778|\n",
      "+--------------+-----------------+\n",
      "\n"
     ]
    }
   ],
   "source": [
    "data.where(data.userId == 300017).groupby('sessionId') \\\n",
    "    .agg(((max('ts') - min('ts'))/1000/3600).alias('hours')) \\\n",
    "    .groupby() \\\n",
    "    .sum() \\\n",
    "    .show()"
   ]
  },
  {
   "cell_type": "code",
   "execution_count": 1059,
   "metadata": {},
   "outputs": [
    {
     "name": "stdout",
     "output_type": "stream",
     "text": [
      "+---------------+-----+------+------------------+--------------------+\n",
      "|           page|churn|userId|             hours|       countPerHours|\n",
      "+---------------+-----+------+------------------+--------------------+\n",
      "|       NextSong|    0|300017|244.99027777777778|  14.825078092668077|\n",
      "|      Thumbs Up|    0|300017|244.99027777777778|  1.2367837725986859|\n",
      "|         Logout|    0|300017|244.99027777777778| 0.16735357979058127|\n",
      "|           Home|    0|300017|244.99027777777778|  0.6163509889848237|\n",
      "|     Add Friend|    0|300017|244.99027777777778| 0.25715306162942975|\n",
      "|Add to Playlist|    0|300017|244.99027777777778|  0.4612427930813581|\n",
      "|           Help|    0|300017|244.99027777777778| 0.11020845498404132|\n",
      "|          About|    0|300017|244.99027777777778|0.012245383887115702|\n",
      "|      Downgrade|    0|300017|244.99027777777778| 0.10204486572596418|\n",
      "|    Thumbs Down|    0|300017|244.99027777777778| 0.11429024961307989|\n",
      "|       Settings|    0|300017|244.99027777777778| 0.09388127646788705|\n",
      "|  Save Settings|    0|300017|244.99027777777778|0.012245383887115702|\n",
      "|    Roll Advert|    0|300017|244.99027777777778| 0.04489974091942424|\n",
      "|          Error|    0|300017|244.99027777777778|0.020408973145192837|\n",
      "+---------------+-----+------+------------------+--------------------+\n",
      "\n"
     ]
    }
   ],
   "source": [
    "page_data.where(page_data.userId == 300017) \\\n",
    "    .join(user_hours, 'userId', 'inner') \\\n",
    "    .groupby('page', 'churn', 'userId', 'hours') \\\n",
    "    .agg((count('page')/col('hours')).alias('countPerHours')) \\\n",
    "    .show()"
   ]
  },
  {
   "cell_type": "markdown",
   "metadata": {},
   "source": [
    "#### Better Avg count page per hour, per churn group"
   ]
  },
  {
   "cell_type": "code",
   "execution_count": 65,
   "metadata": {},
   "outputs": [
    {
     "data": {
      "image/png": "[encoded data removed]",
      "text/plain": [
       "<Figure size 1080x432 with 1 Axes>"
      ]
     },
     "metadata": {
      "needs_background": "light"
     },
     "output_type": "display_data"
    }
   ],
   "source": [
    "user_hours = page_data \\\n",
    "    .groupby('userId', 'sessionId') \\\n",
    "    .agg(((max('ts') - min('ts'))/1000/3600).alias('hours')) \\\n",
    "    .groupby('userId') \\\n",
    "    .agg(Fsum('hours').alias('hours'))\n",
    "    \n",
    "page_count_per_hour_df = page_data \\\n",
    "    .join(user_hours, 'userId', 'inner') \\\n",
    "    .groupby('page', 'churn', 'userId', 'hours') \\\n",
    "    .agg((count('page')/col('hours')).alias('countPerHour')) \\\n",
    "    .groupby('page', 'churn') \\\n",
    "    .agg(avg('countPerHour').alias('avgPerHour')) \\\n",
    "    .toPandas() \n",
    "\n",
    "page_count_per_hour_df = calc_ratio(page_count_per_hour_df, 'avgPerHour', 'page') \n",
    "\n",
    "plot_ratio_feature(page_count_per_hour_df, 'page', 'Page level: Average count per hour')"
   ]
  },
  {
   "cell_type": "code",
   "execution_count": null,
   "metadata": {
    "collapsed": true
   },
   "outputs": [],
   "source": []
  },
  {
   "cell_type": "code",
   "execution_count": null,
   "metadata": {
    "collapsed": true
   },
   "outputs": [],
   "source": []
  },
  {
   "cell_type": "code",
   "execution_count": 1048,
   "metadata": {},
   "outputs": [
    {
     "data": {
      "text/html": [
       "<div>\n",
       "<style scoped>\n",
       "    .dataframe tbody tr th:only-of-type {\n",
       "        vertical-align: middle;\n",
       "    }\n",
       "\n",
       "    .dataframe tbody tr th {\n",
       "        vertical-align: top;\n",
       "    }\n",
       "\n",
       "    .dataframe thead th {\n",
       "        text-align: right;\n",
       "    }\n",
       "</style>\n",
       "<table border=\"1\" class=\"dataframe\">\n",
       "  <thead>\n",
       "    <tr style=\"text-align: right;\">\n",
       "      <th></th>\n",
       "      <th>churn</th>\n",
       "      <th>page</th>\n",
       "      <th>avg</th>\n",
       "      <th>ratio</th>\n",
       "    </tr>\n",
       "  </thead>\n",
       "  <tbody>\n",
       "    <tr>\n",
       "      <th>21</th>\n",
       "      <td>0</td>\n",
       "      <td>Save Settings</td>\n",
       "      <td>0.335581</td>\n",
       "      <td>0.379814</td>\n",
       "    </tr>\n",
       "    <tr>\n",
       "      <th>20</th>\n",
       "      <td>1</td>\n",
       "      <td>Save Settings</td>\n",
       "      <td>0.547958</td>\n",
       "      <td>0.620186</td>\n",
       "    </tr>\n",
       "  </tbody>\n",
       "</table>\n",
       "</div>"
      ],
      "text/plain": [
       "    churn           page       avg     ratio\n",
       "21      0  Save Settings  0.335581  0.379814\n",
       "20      1  Save Settings  0.547958  0.620186"
      ]
     },
     "execution_count": 1048,
     "metadata": {},
     "output_type": "execute_result"
    }
   ],
   "source": [
    "page_count_avg_hour_df[page_count_avg_hour_df.page == 'Save Settings']"
   ]
  },
  {
   "cell_type": "markdown",
   "metadata": {},
   "source": [
    "### <span style=\"color:red\">Significant user interaction features</span>\n",
    " - About (+)\n",
    " - Add Friend (-)\n",
    " - Downgrade (+)\n",
    " - Help (+)\n",
    " - Logout (-)\n",
    " - Roll Advert (+)\n",
    " - Save Settings (+)\n",
    " - Settings (+)\n",
    " - Submit Upgrade (+)\n",
    " - Thumbs Down (+)"
   ]
  },
  {
   "cell_type": "markdown",
   "metadata": {},
   "source": [
    "#### Page level: *Share of page interactions of total user interactions*\n",
    "(Note: *Cancel* and *Cancellation Confirmation* interactions are excluded)"
   ]
  },
  {
   "cell_type": "code",
   "execution_count": 64,
   "metadata": {
    "scrolled": false
   },
   "outputs": [
    {
     "data": {
      "image/png": "[encoded data removed]",
      "text/plain": [
       "<Figure size 1080x432 with 1 Axes>"
      ]
     },
     "metadata": {
      "needs_background": "light"
     },
     "output_type": "display_data"
    }
   ],
   "source": [
    "other_page_data = page_data.where(page_data.page != 'NextSong')\n",
    "\n",
    "other_page_user_share_df = other_page_data \\\n",
    "    .groupby('churn', 'userId', 'page') \\\n",
    "    .count() \\\n",
    "    .join(user_data, on = ['userId'], how = 'inner') \\\n",
    "    .select(page_data.churn, page_data.page, (col('count')/col('total')).alias('share')) \\\n",
    "    .groupby('churn', 'page') \\\n",
    "    .agg(avg('share').alias('share')) \\\n",
    "    .toPandas()\n",
    "\n",
    "other_page_user_share_df = calc_ratio(other_page_user_share_df, 'share', 'page')\n",
    "\n",
    "plot_ratio_feature(other_page_user_share_df, 'page', 'Page level: Share of other page interactions of total user interactions')"
   ]
  },
  {
   "cell_type": "markdown",
   "metadata": {},
   "source": [
    "### <span style=\"color:red\">Significant user interaction features</span>\n",
    " - Roll Advert (+)\n",
    " - Settings (+)\n",
    " - Submit Upgrade (+)\n",
    " - Thumbs Down (+)\n",
    " - Upgrade (+)"
   ]
  },
  {
   "cell_type": "markdown",
   "metadata": {},
   "source": [
    "### Song level"
   ]
  },
  {
   "cell_type": "markdown",
   "metadata": {},
   "source": [
    "#### Song level: *Average Length*\n",
    "We calculate an **average length of song listening activity** where data is aggregated by *churn group*."
   ]
  },
  {
   "cell_type": "code",
   "execution_count": 924,
   "metadata": {
    "scrolled": false
   },
   "outputs": [
    {
     "name": "stdout",
     "output_type": "stream",
     "text": [
      "+-----+-----------------+\n",
      "|churn|        avgLength|\n",
      "+-----+-----------------+\n",
      "|    1|249.0748660669342|\n",
      "|    0|249.1309587536258|\n",
      "+-----+-----------------+\n",
      "\n"
     ]
    }
   ],
   "source": [
    "data \\\n",
    "    .where(data.page == 'NextSong') \\\n",
    "    .select('churn', 'length') \\\n",
    "    .groupby('churn') \\\n",
    "    .agg(avg('length').alias('avgLength')) \\\n",
    "    .show()"
   ]
  },
  {
   "cell_type": "markdown",
   "metadata": {},
   "source": [
    "#### Song level: *Average Length per session*\n",
    "We calculate an **average length of song listening activity per session** where data is aggregated by *churn group*, *user*, *session*."
   ]
  },
  {
   "cell_type": "code",
   "execution_count": 923,
   "metadata": {},
   "outputs": [
    {
     "name": "stdout",
     "output_type": "stream",
     "text": [
      "+-----+------------------+\n",
      "|churn|               avg|\n",
      "+-----+------------------+\n",
      "|    1|247.87298151386202|\n",
      "|    0|249.81362008659525|\n",
      "+-----+------------------+\n",
      "\n"
     ]
    }
   ],
   "source": [
    "data \\\n",
    "    .where(data.page == 'NextSong') \\\n",
    "    .select('churn', 'userId', 'sessionId', 'length') \\\n",
    "    .groupby('churn', 'userId', 'sessionId') \\\n",
    "    .agg(avg('length').alias('avgLength')) \\\n",
    "    .groupby('churn', 'userId') \\\n",
    "    .agg(avg('avgLength').alias('avgLength')) \\\n",
    "    .groupby('churn') \\\n",
    "    .agg(avg('avgLength').alias('avg')) \\\n",
    "    .show()"
   ]
  },
  {
   "cell_type": "markdown",
   "metadata": {},
   "source": [
    "#### Song level: *song length*"
   ]
  },
  {
   "cell_type": "code",
   "execution_count": 1063,
   "metadata": {},
   "outputs": [
    {
     "name": "stdout",
     "output_type": "stream",
     "text": [
      "+-----+------------------+\n",
      "|churn|       lengthTotal|\n",
      "+-----+------------------+\n",
      "|    1|208274.91599104478|\n",
      "|    0| 271336.7264253165|\n",
      "+-----+------------------+\n",
      "\n"
     ]
    }
   ],
   "source": [
    "data \\\n",
    "    .where(data.page == 'NextSong') \\\n",
    "    .select('churn', 'userId', 'sessionId', 'length') \\\n",
    "    .groupby('churn', 'userId', 'sessionId') \\\n",
    "    .agg(Fsum('length').alias('length')) \\\n",
    "    .groupby('churn', 'userId') \\\n",
    "    .agg(Fsum('length').alias('length')) \\\n",
    "    .groupby('churn') \\\n",
    "    .agg(avg('length').alias('lengthTotal')) \\\n",
    "    .show()"
   ]
  },
  {
   "cell_type": "code",
   "execution_count": 1072,
   "metadata": {},
   "outputs": [],
   "source": [
    "user_duration = page_data \\\n",
    "    .groupby('userId', 'sessionId') \\\n",
    "    .agg(((max('ts') - min('ts'))/1000.0).alias('duration')) \\\n",
    "    .groupby('userId') \\\n",
    "    .agg(Fsum('duration').alias('duration'))\n",
    "    \n",
    "song_time_share = data \\\n",
    "    .join(user_duration, 'userId', 'inner') \\\n",
    "    .where(data.page == 'NextSong') \\\n",
    "    .select('userId', 'length', 'duration') \\\n",
    "    .groupby('userId', 'duration') \\\n",
    "    .agg((Fsum('length')/col('duration')).alias('songshare'))\n",
    "    \n",
    "song_time_share = data \\\n",
    "    .where(data.page == 'NextSong') \\\n",
    "    .select('userId', 'length') \\\n",
    "    .groupby('userId') \\\n",
    "    .agg(Fsum('length').alias('songlen'))\n",
    "    .select('userId', 'songlen')\n",
    "    "
   ]
  },
  {
   "cell_type": "code",
   "execution_count": 1076,
   "metadata": {},
   "outputs": [],
   "source": [
    "    \n",
    "song_time_share = data \\\n",
    "    .where(data.page == 'NextSong') \\\n",
    "    .select('userId', 'length') \\\n",
    "    .groupby('userId') \\\n",
    "    .agg(Fsum('length').alias('songlen')) \\\n",
    "    .select('userId', 'songlen') \\\n",
    "    .join(user_duration, 'userId', 'inner') \\\n",
    "    .select('userId', 'songlen', 'duration', (col('songlen')/col('duration')).alias('songshare'))\n",
    "    "
   ]
  },
  {
   "cell_type": "code",
   "execution_count": 1078,
   "metadata": {},
   "outputs": [
    {
     "name": "stdout",
     "output_type": "stream",
     "text": [
      "+-----+------------------+\n",
      "|churn|      avgsongshare|\n",
      "+-----+------------------+\n",
      "|    1|1.0033254439343913|\n",
      "|    0|1.0019478977452783|\n",
      "+-----+------------------+\n",
      "\n"
     ]
    }
   ],
   "source": [
    "data \\\n",
    "    .where(data.page == 'NextSong') \\\n",
    "    .select('churn', 'userId', 'length') \\\n",
    "    .groupby('churn', 'userId') \\\n",
    "    .agg(Fsum('length').alias('songlen')) \\\n",
    "    .select('churn', 'userId', 'songlen') \\\n",
    "    .join(user_duration, 'userId', 'inner') \\\n",
    "    .select('churn', 'userId', 'songlen', 'duration', (col('songlen')/col('duration')).alias('songshare')) \\\n",
    "    .groupby('churn') \\\n",
    "    .agg(avg('songshare').alias('avgsongshare')) \\\n",
    "    .show()\n",
    "    "
   ]
  },
  {
   "cell_type": "code",
   "execution_count": 1077,
   "metadata": {},
   "outputs": [
    {
     "name": "stdout",
     "output_type": "stream",
     "text": [
      "+------+------------------+---------+------------------+\n",
      "|userId|           songlen| duration|         songshare|\n",
      "+------+------------------+---------+------------------+\n",
      "|100010|       66940.89735|  64883.0|1.0317170499206263|\n",
      "|200002| 94008.87593999993|  95904.0| 0.980239363738738|\n",
      "|   125|2089.1131000000005|   1773.0| 1.178292780597857|\n",
      "|   124|1012312.0927900008|1007450.0|1.0048261380614432|\n",
      "|    51| 523275.8428000004| 523271.0| 1.000009254860293|\n",
      "|     7|        38034.0871|  36809.0|1.0332822706403324|\n",
      "|    15| 477307.6058100001| 475455.0|1.0038964903303154|\n",
      "|    54| 711344.9195399994| 715451.0|0.9942608502049748|\n",
      "|   155|198779.29190000004| 197486.0|1.0065487776348705|\n",
      "|100014|       67703.47208|  66525.0|1.0177147249906051|\n",
      "|   132| 483118.9038399998| 478993.0|1.0086137038328322|\n",
      "|   154|20660.023910000004|  19923.0|1.0369936209406216|\n",
      "|   101| 447464.0146699989| 490320.0|0.9125958856868961|\n",
      "|    11|159669.96304000003| 154922.0|1.0306474421967184|\n",
      "|   138|512449.88275999983| 507804.0|1.0091489684208865|\n",
      "|300017| 897406.9802100015| 881965.0| 1.017508608856362|\n",
      "|100021|57633.175639999994|  64525.0|0.8931914086013172|\n",
      "|    29|      754517.56257| 746127.0|1.0112454884624198|\n",
      "|    69| 286064.0256400001| 284410.0| 1.005815638128055|\n",
      "|   112|53062.746589999995|  50671.0|1.0472014878332774|\n",
      "+------+------------------+---------+------------------+\n",
      "only showing top 20 rows\n",
      "\n"
     ]
    }
   ],
   "source": [
    "song_time_share.show()"
   ]
  },
  {
   "cell_type": "markdown",
   "metadata": {},
   "source": [
    "#### Std of session length"
   ]
  },
  {
   "cell_type": "code",
   "execution_count": 69,
   "metadata": {},
   "outputs": [],
   "source": [
    "session_length = data \\\n",
    "    .groupby('churn', 'userId', 'sessionId') \\\n",
    "    .agg(((max('ts') - min('ts'))/1000.0).alias('duration')) \\\n",
    "    .groupby('churn', 'userId') \\\n",
    "    .agg(Fsum('duration').alias('duration'))"
   ]
  },
  {
   "cell_type": "code",
   "execution_count": 68,
   "metadata": {},
   "outputs": [
    {
     "name": "stdout",
     "output_type": "stream",
     "text": [
      "+-------+------------------+\n",
      "|summary|          duration|\n",
      "+-------+------------------+\n",
      "|  count|               158|\n",
      "|   mean|272351.34810126584|\n",
      "| stddev|291481.29645592987|\n",
      "|    min|             420.0|\n",
      "|    max|         1968410.0|\n",
      "+-------+------------------+\n",
      "\n"
     ]
    }
   ],
   "source": [
    "session_length.where(session_length.churn == 0).select('duration').describe().show()"
   ]
  },
  {
   "cell_type": "code",
   "execution_count": 70,
   "metadata": {},
   "outputs": [
    {
     "name": "stdout",
     "output_type": "stream",
     "text": [
      "+-------+------------------+\n",
      "|summary|          duration|\n",
      "+-------+------------------+\n",
      "|  count|                67|\n",
      "|   mean|209623.59701492538|\n",
      "| stddev|231201.74489655983|\n",
      "|    min|            1774.0|\n",
      "|    max|         1469115.0|\n",
      "+-------+------------------+\n",
      "\n"
     ]
    }
   ],
   "source": [
    "session_length.where(session_length.churn == 1).select('duration').describe().show()"
   ]
  },
  {
   "cell_type": "markdown",
   "metadata": {},
   "source": [
    "### Study of 'churned' session"
   ]
  },
  {
   "cell_type": "code",
   "execution_count": 72,
   "metadata": {},
   "outputs": [
    {
     "name": "stdout",
     "output_type": "stream",
     "text": [
      "+-------------------+---------+--------------------+-----+\n",
      "|             tsDate|sessionId|                page|level|\n",
      "+-------------------+---------+--------------------+-----+\n",
      "|2018-10-20 17:54:51|       17|            NextSong| free|\n",
      "|2018-10-20 17:57:27|       17|            NextSong| free|\n",
      "|2018-10-20 18:01:06|       17|            NextSong| free|\n",
      "|2018-10-20 18:04:51|       17|            NextSong| free|\n",
      "|2018-10-20 18:08:50|       17|            NextSong| free|\n",
      "|2018-10-20 18:08:51|       17|         Thumbs Down| free|\n",
      "|2018-10-20 18:11:21|       17|            NextSong| free|\n",
      "|2018-10-20 18:15:39|       17|            NextSong| free|\n",
      "|2018-10-20 18:20:02|       17|            NextSong| free|\n",
      "|2018-10-20 18:20:20|       17|         Roll Advert| free|\n",
      "|2018-10-20 18:23:54|       17|            NextSong| free|\n",
      "|2018-10-20 18:28:31|       17|            NextSong| free|\n",
      "|2018-10-20 18:28:52|       17|         Roll Advert| free|\n",
      "|2018-10-20 18:31:40|       17|            NextSong| free|\n",
      "|2018-10-20 18:35:19|       17|            NextSong| free|\n",
      "|2018-10-20 18:39:31|       17|            NextSong| free|\n",
      "|2018-10-20 18:39:45|       17|         Roll Advert| free|\n",
      "|2018-10-20 18:45:44|       17|            NextSong| free|\n",
      "|2018-10-20 18:49:00|       17|            NextSong| free|\n",
      "|2018-10-20 18:50:39|       17|            NextSong| free|\n",
      "|2018-10-20 18:54:25|       17|            NextSong| free|\n",
      "|2018-10-20 19:01:42|       17|            NextSong| free|\n",
      "|2018-10-20 19:03:44|       17|         Roll Advert| free|\n",
      "|2018-10-20 19:07:30|       17|            NextSong| free|\n",
      "|2018-10-20 19:08:26|       17|         Roll Advert| free|\n",
      "|2018-10-20 19:11:45|       17|            NextSong| free|\n",
      "|2018-10-20 19:11:57|       17|         Roll Advert| free|\n",
      "|2018-10-20 19:16:16|       17|            NextSong| free|\n",
      "|2018-10-20 19:21:50|       17|            NextSong| free|\n",
      "|2018-10-20 19:26:18|       17|            NextSong| free|\n",
      "|2018-10-20 19:29:41|       17|            NextSong| free|\n",
      "|2018-10-20 19:32:28|       17|            NextSong| free|\n",
      "|2018-10-20 19:38:01|       17|            NextSong| free|\n",
      "|2018-10-20 19:38:02|       17|           Thumbs Up| free|\n",
      "|2018-10-20 19:42:12|       17|            NextSong| free|\n",
      "|2018-10-20 19:43:33|       17|                Home| free|\n",
      "|2018-10-20 19:45:41|       17|            NextSong| free|\n",
      "|2018-10-20 19:46:21|       17|         Roll Advert| free|\n",
      "|2018-10-20 19:49:40|       17|            NextSong| free|\n",
      "|2018-10-20 19:51:16|       17|            NextSong| free|\n",
      "|2018-10-20 19:55:14|       17|            NextSong| free|\n",
      "|2018-10-20 19:59:00|       17|            NextSong| free|\n",
      "|2018-10-20 20:02:40|       17|            NextSong| free|\n",
      "|2018-10-20 20:03:15|       17|         Roll Advert| free|\n",
      "|2018-10-20 20:06:26|       17|            NextSong| free|\n",
      "|2018-10-20 20:07:40|       17|         Roll Advert| free|\n",
      "|2018-10-20 20:10:09|       17|            NextSong| free|\n",
      "|2018-10-20 20:13:45|       17|            NextSong| free|\n",
      "|2018-10-20 20:13:46|       17|           Thumbs Up| free|\n",
      "|2018-10-20 20:17:53|       17|            NextSong| free|\n",
      "|2018-10-20 20:18:14|       17|         Roll Advert| free|\n",
      "|2018-10-20 20:21:56|       17|            NextSong| free|\n",
      "|2018-10-20 20:25:55|       17|            NextSong| free|\n",
      "|2018-10-20 20:26:04|       17|                Home| free|\n",
      "|2018-10-20 20:28:57|       17|            NextSong| free|\n",
      "|2018-10-20 20:32:53|       17|            NextSong| free|\n",
      "|2018-10-20 20:34:02|       17|     Add to Playlist| free|\n",
      "|2018-10-20 20:36:45|       17|            NextSong| free|\n",
      "|2018-10-20 20:41:29|       17|            NextSong| free|\n",
      "|2018-10-20 20:45:16|       17|            NextSong| free|\n",
      "|2018-10-20 20:45:22|       17|         Roll Advert| free|\n",
      "|2018-10-20 20:48:29|       17|            NextSong| free|\n",
      "|2018-10-20 20:54:28|       17|            NextSong| free|\n",
      "|2018-10-20 20:56:02|       17|            NextSong| free|\n",
      "|2018-10-20 20:59:20|       17|            NextSong| free|\n",
      "|2018-10-20 21:00:58|       17|                Home| free|\n",
      "|2018-10-20 21:02:57|       17|            NextSong| free|\n",
      "|2018-10-20 21:05:27|       17|            NextSong| free|\n",
      "|2018-10-20 21:05:44|       17|         Roll Advert| free|\n",
      "|2018-10-20 21:08:24|       17|            NextSong| free|\n",
      "|2018-10-20 21:08:31|       17|         Roll Advert| free|\n",
      "|2018-10-20 21:13:07|       17|            NextSong| free|\n",
      "|2018-10-20 21:13:23|       17|         Roll Advert| free|\n",
      "|2018-10-20 21:13:24|       17|              Cancel| free|\n",
      "|2018-10-20 21:14:07|       17|Cancellation Conf...| free|\n",
      "+-------------------+---------+--------------------+-----+\n",
      "\n"
     ]
    }
   ],
   "source": [
    "data.where(data.userId == 100017).select('tsDate', 'sessionId', 'page', 'level').show(100)"
   ]
  },
  {
   "cell_type": "code",
   "execution_count": 79,
   "metadata": {},
   "outputs": [
    {
     "name": "stdout",
     "output_type": "stream",
     "text": [
      "+------+---------+\n",
      "|userId|sessionId|\n",
      "+------+---------+\n",
      "|   125|      174|\n",
      "|   143|      843|\n",
      "|100011|       40|\n",
      "|100001|       53|\n",
      "|100024|       42|\n",
      "|100006|        6|\n",
      "|100019|       71|\n",
      "|100003|       86|\n",
      "|100005|      115|\n",
      "|100017|       17|\n",
      "|100025|      129|\n",
      "|100009|      145|\n",
      "|100012|      156|\n",
      "|100022|      191|\n",
      "|100021|      172|\n",
      "|200001|      136|\n",
      "|200011|      267|\n",
      "|200018|      268|\n",
      "|200015|      270|\n",
      "|200016|      347|\n",
      "+------+---------+\n",
      "only showing top 20 rows\n",
      "\n"
     ]
    }
   ],
   "source": [
    "data.where((data.page == 'Cancellation Confirmation') & (data.lastLevel == 'free')).select('userId', 'sessionId').show()"
   ]
  },
  {
   "cell_type": "code",
   "execution_count": null,
   "metadata": {},
   "outputs": [],
   "source": [
    "# 71, 3, "
   ]
  },
  {
   "cell_type": "code",
   "execution_count": 87,
   "metadata": {
    "scrolled": false
   },
   "outputs": [
    {
     "name": "stdout",
     "output_type": "stream",
     "text": [
      "+-------------------+---------+--------------------+------+-----+\n",
      "|             tsDate|sessionId|                page|status|level|\n",
      "+-------------------+---------+--------------------+------+-----+\n",
      "|2018-10-19 16:27:52|      115|                Home|   200| free|\n",
      "|2018-10-19 16:27:58|      115|            NextSong|   200| free|\n",
      "|2018-10-19 16:33:05|      115|            NextSong|   200| free|\n",
      "|2018-10-19 16:33:13|      115|         Roll Advert|   200| free|\n",
      "|2018-10-19 16:37:04|      115|            NextSong|   200| free|\n",
      "|2018-10-19 16:40:51|      115|            NextSong|   200| free|\n",
      "|2018-10-19 16:40:51|      115|         Roll Advert|   200| free|\n",
      "|2018-10-19 16:46:13|      115|            NextSong|   200| free|\n",
      "|2018-10-19 16:48:52|      115|            NextSong|   200| free|\n",
      "|2018-10-19 16:53:31|      115|            NextSong|   200| free|\n",
      "|2018-10-19 16:59:32|      115|            NextSong|   200| free|\n",
      "|2018-10-19 17:03:47|      115|            NextSong|   200| free|\n",
      "|2018-10-19 17:03:48|      115|           Thumbs Up|   307| free|\n",
      "|2018-10-19 17:03:51|      115|     Add to Playlist|   200| free|\n",
      "|2018-10-19 17:06:31|      115|            NextSong|   200| free|\n",
      "|2018-10-19 17:09:49|      115|            NextSong|   200| free|\n",
      "|2018-10-19 17:10:03|      115|         Roll Advert|   200| free|\n",
      "|2018-10-19 17:10:11|      115|         Roll Advert|   200| free|\n",
      "|2018-10-19 17:13:54|      115|            NextSong|   200| free|\n",
      "|2018-10-19 17:17:16|      115|            NextSong|   200| free|\n",
      "|2018-10-19 17:20:47|      115|            NextSong|   200| free|\n",
      "|2018-10-19 17:27:16|      115|            NextSong|   200| free|\n",
      "|2018-10-19 17:30:55|      115|            NextSong|   200| free|\n",
      "|2018-10-19 17:35:08|      115|            NextSong|   200| free|\n",
      "|2018-10-19 17:38:34|      115|            NextSong|   200| free|\n",
      "|2018-10-19 17:42:38|      115|            NextSong|   200| free|\n",
      "|2018-10-19 17:42:43|      115|             Upgrade|   200| free|\n",
      "|2018-10-19 17:47:53|      115|            NextSong|   200| free|\n",
      "|2018-10-19 17:52:01|      115|            NextSong|   200| free|\n",
      "|2018-10-19 17:58:42|      115|            NextSong|   200| free|\n",
      "|2018-10-19 18:04:14|      115|            NextSong|   200| free|\n",
      "|2018-10-19 18:07:57|      115|            NextSong|   200| free|\n",
      "|2018-10-19 18:08:06|      115|     Add to Playlist|   200| free|\n",
      "|2018-10-19 18:08:11|      115|             Upgrade|   200| free|\n",
      "|2018-10-19 18:12:12|      115|            NextSong|   200| free|\n",
      "|2018-10-19 18:15:57|      115|            NextSong|   200| free|\n",
      "|2018-10-19 18:20:27|      115|            NextSong|   200| free|\n",
      "|2018-10-19 18:24:17|      115|            NextSong|   200| free|\n",
      "|2018-10-19 18:27:41|      115|            NextSong|   200| free|\n",
      "|2018-10-19 18:31:17|      115|            NextSong|   200| free|\n",
      "|2018-10-19 18:31:18|      115|           Thumbs Up|   307| free|\n",
      "|2018-10-19 18:35:35|      115|            NextSong|   200| free|\n",
      "|2018-10-19 18:40:24|      115|            NextSong|   200| free|\n",
      "|2018-10-19 18:42:31|      115|            NextSong|   200| free|\n",
      "|2018-10-19 18:50:13|      115|            NextSong|   200| free|\n",
      "|2018-10-19 18:54:30|      115|            NextSong|   200| free|\n",
      "|2018-10-19 18:54:31|      115|           Thumbs Up|   307| free|\n",
      "|2018-10-19 18:57:04|      115|            NextSong|   200| free|\n",
      "|2018-10-19 18:57:05|      115|          Add Friend|   307| free|\n",
      "|2018-10-19 18:57:20|      115|            Settings|   200| free|\n",
      "|2018-10-19 18:57:23|      115|                Home|   200| free|\n",
      "|2018-10-19 18:57:45|      115|                Home|   200| free|\n",
      "|2018-10-19 19:02:11|      115|            NextSong|   200| free|\n",
      "|2018-10-19 19:06:15|      115|            NextSong|   200| free|\n",
      "|2018-10-19 19:08:43|      115|            NextSong|   200| free|\n",
      "|2018-10-19 19:12:40|      115|            NextSong|   200| free|\n",
      "|2018-10-19 19:16:58|      115|            NextSong|   200| free|\n",
      "|2018-10-19 19:20:10|      115|            NextSong|   200| free|\n",
      "|2018-10-19 19:20:11|      115|           Thumbs Up|   307| free|\n",
      "|2018-10-19 19:24:12|      115|            NextSong|   200| free|\n",
      "|2018-10-19 19:29:23|      115|            NextSong|   200| free|\n",
      "|2018-10-19 19:33:22|      115|            NextSong|   200| free|\n",
      "|2018-10-19 19:37:13|      115|            NextSong|   200| free|\n",
      "|2018-10-19 19:40:03|      115|            NextSong|   200| free|\n",
      "|2018-10-19 19:40:04|      115|           Thumbs Up|   307| free|\n",
      "|2018-10-19 19:42:56|      115|            NextSong|   200| free|\n",
      "|2018-10-19 19:49:21|      115|            NextSong|   200| free|\n",
      "|2018-10-19 19:52:10|      115|            NextSong|   200| free|\n",
      "|2018-10-19 19:56:40|      115|            NextSong|   200| free|\n",
      "|2018-10-19 19:56:43|      115|                Help|   200| free|\n",
      "|2018-10-19 19:56:49|      115|            Settings|   200| free|\n",
      "|2018-10-19 19:56:50|      115|              Cancel|   307| free|\n",
      "|2018-10-19 19:57:05|      115|Cancellation Conf...|   200| free|\n",
      "+-------------------+---------+--------------------+------+-----+\n",
      "\n"
     ]
    }
   ],
   "source": [
    "data.where((data.userId == 100005) & (data.sessionId == 115)) \\\n",
    "    .select('tsDate', 'sessionId', 'page', 'status', 'level') \\\n",
    "    .show(200)"
   ]
  },
  {
   "cell_type": "code",
   "execution_count": null,
   "metadata": {},
   "outputs": [],
   "source": []
  },
  {
   "cell_type": "markdown",
   "metadata": {},
   "source": [
    "# Feature Engineering\n",
    "Once you've familiarized yourself with the data, build out the features you find promising to train your model on. To work with the full dataset, you can follow the following steps.\n",
    "- Write a script to extract the necessary features from the smaller subset of data\n",
    "- Ensure that your script is scalable, using the best practices discussed in Lesson 3\n",
    "- Try your script on the full data set, debugging your script if necessary\n",
    "\n",
    "If you are working in the classroom workspace, you can just extract features based on the small subset of data contained here. Be sure to transfer over this work to the larger dataset when you work on your Spark cluster."
   ]
  },
  {
   "cell_type": "code",
   "execution_count": 23,
   "metadata": {},
   "outputs": [
    {
     "data": {
      "text/plain": [
       "228108"
      ]
     },
     "execution_count": 23,
     "metadata": {},
     "output_type": "execute_result"
    }
   ],
   "source": [
    "# Check all songs\n",
    "data.where(data.page == 'NextSong').count()"
   ]
  },
  {
   "cell_type": "code",
   "execution_count": 24,
   "metadata": {},
   "outputs": [
    {
     "data": {
      "text/plain": [
       "58480"
      ]
     },
     "execution_count": 24,
     "metadata": {},
     "output_type": "execute_result"
    }
   ],
   "source": [
    "# Check variety of songs (unique songs)\n",
    "data.where(data.page == 'NextSong') \\\n",
    "    .select('song') \\\n",
    "    .dropDuplicates() \\\n",
    "    .count()"
   ]
  },
  {
   "cell_type": "code",
   "execution_count": 26,
   "metadata": {},
   "outputs": [
    {
     "name": "stdout",
     "output_type": "stream",
     "text": [
      "+-----+------+\n",
      "|churn| count|\n",
      "+-----+------+\n",
      "|    1| 56025|\n",
      "|    0|172083|\n",
      "+-----+------+\n",
      "\n"
     ]
    }
   ],
   "source": [
    "data.where(data.page == 'NextSong') \\\n",
    "    .groupby('churn') \\\n",
    "    .count() \\\n",
    "    .show()"
   ]
  },
  {
   "cell_type": "code",
   "execution_count": 29,
   "metadata": {},
   "outputs": [
    {
     "name": "stdout",
     "output_type": "stream",
     "text": [
      "+-----+-----+\n",
      "|churn|count|\n",
      "+-----+-----+\n",
      "|    1|25699|\n",
      "|    0|50244|\n",
      "+-----+-----+\n",
      "\n"
     ]
    }
   ],
   "source": [
    "# Check variety of songs (unique songs)\n",
    "data.where(data.page == 'NextSong') \\\n",
    "    .select('churn', 'song') \\\n",
    "    .dropDuplicates() \\\n",
    "    .groupby('churn') \\\n",
    "    .count() \\\n",
    "    .show()"
   ]
  },
  {
   "cell_type": "code",
   "execution_count": 30,
   "metadata": {},
   "outputs": [
    {
     "data": {
      "text/plain": [
       "0.2919753839716881"
      ]
     },
     "execution_count": 30,
     "metadata": {},
     "output_type": "execute_result"
    }
   ],
   "source": [
    "50244/172083"
   ]
  },
  {
   "cell_type": "code",
   "execution_count": 31,
   "metadata": {},
   "outputs": [
    {
     "data": {
      "text/plain": [
       "0.45870593485051314"
      ]
     },
     "execution_count": 31,
     "metadata": {},
     "output_type": "execute_result"
    }
   ],
   "source": [
    "25699/56025"
   ]
  },
  {
   "cell_type": "code",
   "execution_count": 32,
   "metadata": {},
   "outputs": [
    {
     "name": "stdout",
     "output_type": "stream",
     "text": [
      "+-------+------------------+-----------------+\n",
      "|summary|            userId|            count|\n",
      "+-------+------------------+-----------------+\n",
      "|  count|               158|              158|\n",
      "|   mean| 58925.96835443038|959.7405063291139|\n",
      "| stddev|111207.29009024343|944.3574648437485|\n",
      "|    min|                10|                3|\n",
      "|    max|                99|             5946|\n",
      "+-------+------------------+-----------------+\n",
      "\n"
     ]
    }
   ],
   "source": [
    "data.where(data.page == 'NextSong') \\\n",
    "    .where(data.churn == 0) \\\n",
    "    .select('userId', 'song') \\\n",
    "    .dropDuplicates() \\\n",
    "    .groupby('userId') \\\n",
    "    .count() \\\n",
    "    .describe() \\\n",
    "    .show()"
   ]
  },
  {
   "cell_type": "code",
   "execution_count": 33,
   "metadata": {},
   "outputs": [
    {
     "name": "stdout",
     "output_type": "stream",
     "text": [
      "+-------+-----------------+-----------------+\n",
      "|summary|           userId|            count|\n",
      "+-------+-----------------+-----------------+\n",
      "|  count|               67|               67|\n",
      "|   mean|80636.94029850746|751.7014925373135|\n",
      "| stddev|89144.04730069135|758.1455448124397|\n",
      "|    min|           100001|                8|\n",
      "|    max|               95|             4622|\n",
      "+-------+-----------------+-----------------+\n",
      "\n"
     ]
    }
   ],
   "source": [
    "data.where(data.page == 'NextSong') \\\n",
    "    .where(data.churn == 1) \\\n",
    "    .select('userId', 'song') \\\n",
    "    .dropDuplicates() \\\n",
    "    .groupby('userId') \\\n",
    "    .count() \\\n",
    "    .describe() \\\n",
    "    .show()"
   ]
  },
  {
   "cell_type": "code",
   "execution_count": null,
   "metadata": {},
   "outputs": [],
   "source": []
  },
  {
   "cell_type": "code",
   "execution_count": null,
   "metadata": {},
   "outputs": [],
   "source": []
  },
  {
   "cell_type": "markdown",
   "metadata": {},
   "source": [
    "# Modeling\n",
    "Split the full dataset into train, test, and validation sets. Test out several of the machine learning methods you learned. Evaluate the accuracy of the various models, tuning parameters as necessary. Determine your winning model based on test accuracy and report results on the validation set. Since the churned users are a fairly small subset, I suggest using F1 score as the metric to optimize."
   ]
  },
  {
   "cell_type": "code",
   "execution_count": null,
   "metadata": {
    "collapsed": true
   },
   "outputs": [],
   "source": []
  },
  {
   "cell_type": "markdown",
   "metadata": {},
   "source": [
    "# Final Steps\n",
    "Clean up your code, adding comments and renaming variables to make the code easier to read and maintain. Refer to the Spark Project Overview page and Data Scientist Capstone Project Rubric to make sure you are including all components of the capstone project and meet all expectations. Remember, this includes thorough documentation in a README file in a Github repository, as well as a web app or blog post."
   ]
  },
  {
   "cell_type": "code",
   "execution_count": null,
   "metadata": {
    "collapsed": true
   },
   "outputs": [],
   "source": []
  }
 ],
 "metadata": {
  "kernelspec": {
   "display_name": "Python 3",
   "language": "python",
   "name": "python3"
  },
  "language_info": {
   "codemirror_mode": {
    "name": "ipython",
    "version": 3
   },
   "file_extension": ".py",
   "mimetype": "text/x-python",
   "name": "python",
   "nbconvert_exporter": "python",
   "pygments_lexer": "ipython3",
   "version": "3.8.3"
  }
 },
 "nbformat": 4,
 "nbformat_minor": 2
}
