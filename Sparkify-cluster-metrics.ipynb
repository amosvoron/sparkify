{
 "cells": [
  {
   "cell_type": "code",
   "execution_count": 1,
   "metadata": {},
   "outputs": [
    {
     "data": {
      "application/vnd.jupyter.widget-view+json": {
       "model_id": "8abb7cfc66394393bad0f542d118dce8",
       "version_major": 2,
       "version_minor": 0
      },
      "text/plain": [
       "VBox()"
      ]
     },
     "metadata": {},
     "output_type": "display_data"
    },
    {
     "name": "stdout",
     "output_type": "stream",
     "text": [
      "Starting Spark application\n"
     ]
    },
    {
     "data": {
      "text/html": [
       "<table>\n",
       "<tr><th>ID</th><th>YARN Application ID</th><th>Kind</th><th>State</th><th>Spark UI</th><th>Driver log</th><th>Current session?</th></tr><tr><td>41</td><td>application_1597998755054_0074</td><td>pyspark</td><td>idle</td><td><a target=\"_blank\" href=\"http://ip-172-31-39-107.us-east-2.compute.internal:20888/proxy/application_1597998755054_0074/\">Link</a></td><td><a target=\"_blank\" href=\"http://ip-172-31-33-168.us-east-2.compute.internal:8042/node/containerlogs/container_1597998755054_0074_01_000001/livy\">Link</a></td><td>✔</td></tr></table>"
      ],
      "text/plain": [
       "<IPython.core.display.HTML object>"
      ]
     },
     "metadata": {},
     "output_type": "display_data"
    },
    {
     "data": {
      "application/vnd.jupyter.widget-view+json": {
       "model_id": "",
       "version_major": 2,
       "version_minor": 0
      },
      "text/plain": [
       "FloatProgress(value=0.0, bar_style='info', description='Progress:', layout=Layout(height='25px', width='50%'),…"
      ]
     },
     "metadata": {},
     "output_type": "display_data"
    },
    {
     "name": "stdout",
     "output_type": "stream",
     "text": [
      "SparkSession available as 'spark'.\n"
     ]
    },
    {
     "data": {
      "application/vnd.jupyter.widget-view+json": {
       "model_id": "",
       "version_major": 2,
       "version_minor": 0
      },
      "text/plain": [
       "FloatProgress(value=0.0, bar_style='info', description='Progress:', layout=Layout(height='25px', width='50%'),…"
      ]
     },
     "metadata": {},
     "output_type": "display_data"
    },
    {
     "name": "stdout",
     "output_type": "stream",
     "text": [
      "Welcome to my EMR Notebook!"
     ]
    }
   ],
   "source": [
    "print(\"Welcome to my EMR Notebook!\")"
   ]
  },
  {
   "cell_type": "code",
   "execution_count": 24,
   "metadata": {},
   "outputs": [
    {
     "data": {
      "application/vnd.jupyter.widget-view+json": {
       "model_id": "48010ee42ea4460ba5ed29a9303cd4ba",
       "version_major": 2,
       "version_minor": 0
      },
      "text/plain": [
       "VBox()"
      ]
     },
     "metadata": {},
     "output_type": "display_data"
    },
    {
     "data": {
      "application/vnd.jupyter.widget-view+json": {
       "model_id": "",
       "version_major": 2,
       "version_minor": 0
      },
      "text/plain": [
       "FloatProgress(value=0.0, bar_style='info', description='Progress:', layout=Layout(height='25px', width='50%'),…"
      ]
     },
     "metadata": {},
     "output_type": "display_data"
    }
   ],
   "source": [
    "# Import libraries\n",
    "from pyspark.sql.types import *\n",
    "from pyspark.sql import SparkSession\n",
    "from pyspark.sql.functions import isnan, count, when, col, desc, udf, col, sort_array, asc, \\\n",
    "                                  avg, from_unixtime, split, min, max, round, lit, mean\n",
    "from pyspark.sql.functions import sum as Fsum\n",
    "from pyspark.sql.functions import row_number\n",
    "from pyspark.sql.window import Window\n",
    "\n",
    "from pyspark.sql.types import FloatType\n",
    "import datetime\n",
    "from pyspark.sql.functions import to_date, year, month, dayofmonth, dayofweek, hour, date_format, substring\n",
    "\n",
    "import numpy as np\n",
    "import time"
   ]
  },
  {
   "cell_type": "markdown",
   "metadata": {},
   "source": [
    "## Cancelled users"
   ]
  },
  {
   "cell_type": "code",
   "execution_count": 3,
   "metadata": {},
   "outputs": [
    {
     "data": {
      "application/vnd.jupyter.widget-view+json": {
       "model_id": "599921136a26494f834ea145e3dfd597",
       "version_major": 2,
       "version_minor": 0
      },
      "text/plain": [
       "VBox()"
      ]
     },
     "metadata": {},
     "output_type": "display_data"
    },
    {
     "data": {
      "application/vnd.jupyter.widget-view+json": {
       "model_id": "",
       "version_major": 2,
       "version_minor": 0
      },
      "text/plain": [
       "FloatProgress(value=0.0, bar_style='info', description='Progress:', layout=Layout(height='25px', width='50%'),…"
      ]
     },
     "metadata": {},
     "output_type": "display_data"
    },
    {
     "name": "stdout",
     "output_type": "stream",
     "text": [
      "+------------------+-----------------+------------------+-----------------+------------------+\n",
      "|                f1|         accuracy| weightedPrecision|   weightedRecall|               AUC|\n",
      "+------------------+-----------------+------------------+-----------------+------------------+\n",
      "|0.8994328175799097|0.902269152999326|0.8993354342260549|0.902269152999326|0.8332933475246603|\n",
      "+------------------+-----------------+------------------+-----------------+------------------+"
     ]
    }
   ],
   "source": [
    "# THE BEST MODEL\n",
    "metrics = spark.read.json('s3n://amosvoron-sparkify/gbt-cancelled-metrics-f22h.json')\n",
    "metrics.select('f1', 'accuracy', 'weightedPrecision', 'weightedRecall', 'AUC').show()"
   ]
  },
  {
   "cell_type": "code",
   "execution_count": 5,
   "metadata": {},
   "outputs": [
    {
     "data": {
      "application/vnd.jupyter.widget-view+json": {
       "model_id": "46fae08dc4f04fce9d5d684bb9fd28d7",
       "version_major": 2,
       "version_minor": 0
      },
      "text/plain": [
       "VBox()"
      ]
     },
     "metadata": {},
     "output_type": "display_data"
    },
    {
     "data": {
      "application/vnd.jupyter.widget-view+json": {
       "model_id": "",
       "version_major": 2,
       "version_minor": 0
      },
      "text/plain": [
       "FloatProgress(value=0.0, bar_style='info', description='Progress:', layout=Layout(height='25px', width='50%'),…"
      ]
     },
     "metadata": {},
     "output_type": "display_data"
    },
    {
     "name": "stdout",
     "output_type": "stream",
     "text": [
      "+-----------------+------------------+------------------+------------------+------------------+\n",
      "|               f1|          accuracy| weightedPrecision|    weightedRecall|               AUC|\n",
      "+-----------------+------------------+------------------+------------------+------------------+\n",
      "|0.774112692852762|0.8126263760952595|0.8012311289019549|0.8126263760952596|0.6116784733854458|\n",
      "+-----------------+------------------+------------------+------------------+------------------+"
     ]
    }
   ],
   "source": [
    "# [Logistic Regression]    \n",
    "# 8 mini data set features\n",
    "# hyperparams: elasticNetParam=0.0, maxIter=10, regParam=0.1\n",
    "metrics_01 = spark.read.json('s3n://amosvoron-sparkify/lr-metrics.json')\n",
    "metrics_01.select('f1', 'accuracy', 'weightedPrecision', 'weightedRecall', 'AUC').show()"
   ]
  },
  {
   "cell_type": "code",
   "execution_count": 86,
   "metadata": {},
   "outputs": [
    {
     "data": {
      "application/vnd.jupyter.widget-view+json": {
       "model_id": "093fb12977d0434bb80fc110418a85a0",
       "version_major": 2,
       "version_minor": 0
      },
      "text/plain": [
       "VBox()"
      ]
     },
     "metadata": {},
     "output_type": "display_data"
    },
    {
     "data": {
      "application/vnd.jupyter.widget-view+json": {
       "model_id": "",
       "version_major": 2,
       "version_minor": 0
      },
      "text/plain": [
       "FloatProgress(value=0.0, bar_style='info', description='Progress:', layout=Layout(height='25px', width='50%'),…"
      ]
     },
     "metadata": {},
     "output_type": "display_data"
    }
   ],
   "source": [
    "metrics_01 = metrics_01 \\\n",
    "    .withColumn('Nº', lit('1')) \\\n",
    "    .withColumn('ML method', lit('Logistic Regression')) \\\n",
    "    .withColumn('features', lit('8')) \\\n",
    "    .withColumn('note', lit('mini dataset features')) \\\n",
    "    .withColumn('elasticNetParam', lit('0.0')) \\\n",
    "    .withColumn('maxIter', lit('10')) \\\n",
    "    .withColumn('regParam', lit('0.1')) \\\n",
    "    .withColumn('maxDepth', lit('N/A')) \\\n",
    "    .withColumn('numTrees', lit('N/A'))"
   ]
  },
  {
   "cell_type": "code",
   "execution_count": 33,
   "metadata": {
    "scrolled": true
   },
   "outputs": [
    {
     "data": {
      "application/vnd.jupyter.widget-view+json": {
       "model_id": "ef4c604640c342efac6abcbc549cf56b",
       "version_major": 2,
       "version_minor": 0
      },
      "text/plain": [
       "VBox()"
      ]
     },
     "metadata": {},
     "output_type": "display_data"
    },
    {
     "data": {
      "application/vnd.jupyter.widget-view+json": {
       "model_id": "",
       "version_major": 2,
       "version_minor": 0
      },
      "text/plain": [
       "FloatProgress(value=0.0, bar_style='info', description='Progress:', layout=Layout(height='25px', width='50%'),…"
      ]
     },
     "metadata": {},
     "output_type": "display_data"
    },
    {
     "name": "stdout",
     "output_type": "stream",
     "text": [
      "+--------+--------+--------+-----------------+--------------+\n",
      "|     AUC|accuracy|      f1|weightedPrecision|weightedRecall|\n",
      "+--------+--------+--------+-----------------+--------------+\n",
      "|0.688967|0.853741|0.830521|         0.859686|      0.853741|\n",
      "+--------+--------+--------+-----------------+--------------+"
     ]
    }
   ],
   "source": [
    "# [Random Forest]    \n",
    "# 29 features (from mini data set)\n",
    "# hyperparams: default\n",
    "#metrics_02 = spark.read.json('s3n://amosvoron-sparkify/rfc-metrics.json')\n",
    "#metrics_02.select('f1', 'accuracy', 'weightedPrecision', 'weightedRecall', 'AUC').show()\n",
    "values_02 = [0.688967, 0.853741, 0.830521, 0.859686, 0.853741] \n",
    "columns_02 = ['AUC', 'accuracy', 'f1', 'weightedPrecision', 'weightedRecall']\n",
    "rdd = spark.sparkContext.parallelize([values_02])\n",
    "metrics_02 = rdd.toDF(columns_02) \n",
    "metrics_02.show()"
   ]
  },
  {
   "cell_type": "code",
   "execution_count": 87,
   "metadata": {},
   "outputs": [
    {
     "data": {
      "application/vnd.jupyter.widget-view+json": {
       "model_id": "9e2a9dea118645beac8a86994e103042",
       "version_major": 2,
       "version_minor": 0
      },
      "text/plain": [
       "VBox()"
      ]
     },
     "metadata": {},
     "output_type": "display_data"
    },
    {
     "data": {
      "application/vnd.jupyter.widget-view+json": {
       "model_id": "",
       "version_major": 2,
       "version_minor": 0
      },
      "text/plain": [
       "FloatProgress(value=0.0, bar_style='info', description='Progress:', layout=Layout(height='25px', width='50%'),…"
      ]
     },
     "metadata": {},
     "output_type": "display_data"
    }
   ],
   "source": [
    "metrics_02 = metrics_02 \\\n",
    "    .withColumn('Nº', lit('2')) \\\n",
    "    .withColumn('ML method', lit('Random Forest')) \\\n",
    "    .withColumn('features', lit('29')) \\\n",
    "    .withColumn('note', lit('mini dataset features')) \\\n",
    "    .withColumn('elasticNetParam', lit('N/A')) \\\n",
    "    .withColumn('maxIter', lit('N/A')) \\\n",
    "    .withColumn('regParam', lit('N/A')) \\\n",
    "    .withColumn('maxDepth', lit('default')) \\\n",
    "    .withColumn('numTrees', lit('default'))"
   ]
  },
  {
   "cell_type": "code",
   "execution_count": 70,
   "metadata": {},
   "outputs": [
    {
     "data": {
      "application/vnd.jupyter.widget-view+json": {
       "model_id": "bdeff1326c0e478fa5ef2c3794b8f873",
       "version_major": 2,
       "version_minor": 0
      },
      "text/plain": [
       "VBox()"
      ]
     },
     "metadata": {},
     "output_type": "display_data"
    },
    {
     "data": {
      "application/vnd.jupyter.widget-view+json": {
       "model_id": "",
       "version_major": 2,
       "version_minor": 0
      },
      "text/plain": [
       "FloatProgress(value=0.0, bar_style='info', description='Progress:', layout=Layout(height='25px', width='50%'),…"
      ]
     },
     "metadata": {},
     "output_type": "display_data"
    },
    {
     "name": "stdout",
     "output_type": "stream",
     "text": [
      "+------------------+------------------+------------------+------------------+------------------+\n",
      "|                f1|          accuracy| weightedPrecision|    weightedRecall|               AUC|\n",
      "+------------------+------------------+------------------+------------------+------------------+\n",
      "|0.8697473174840196|0.8782296113232981|0.8742039209639965|0.8782296113232981|0.7698629141075749|\n",
      "+------------------+------------------+------------------+------------------+------------------+"
     ]
    }
   ],
   "source": [
    "# [Random Forest]    \n",
    "# 3 features (chosen by analysis: AvgSessionGap, SessionCount, LogoutPerHour)\n",
    "# hyperparams: maxDepth=6, numTrees=20\n",
    "metrics_03 = spark.read.json('s3n://amosvoron-sparkify/rfc-metrics-test.json')\n",
    "metrics_03.select('f1', 'accuracy', 'weightedPrecision', 'weightedRecall', 'AUC').show()"
   ]
  },
  {
   "cell_type": "code",
   "execution_count": 100,
   "metadata": {},
   "outputs": [
    {
     "data": {
      "application/vnd.jupyter.widget-view+json": {
       "model_id": "6dfdae58a10b495995173ec50d1db6b7",
       "version_major": 2,
       "version_minor": 0
      },
      "text/plain": [
       "VBox()"
      ]
     },
     "metadata": {},
     "output_type": "display_data"
    },
    {
     "data": {
      "application/vnd.jupyter.widget-view+json": {
       "model_id": "",
       "version_major": 2,
       "version_minor": 0
      },
      "text/plain": [
       "FloatProgress(value=0.0, bar_style='info', description='Progress:', layout=Layout(height='25px', width='50%'),…"
      ]
     },
     "metadata": {},
     "output_type": "display_data"
    }
   ],
   "source": [
    "metrics_03 = metrics_03 \\\n",
    "    .withColumn('Nº', lit('3')) \\\n",
    "    .withColumn('ML method', lit('Random Forest')) \\\n",
    "    .withColumn('features', lit('3')) \\\n",
    "    .withColumn('note', lit('*')) \\\n",
    "    .withColumn('elasticNetParam', lit('N/A')) \\\n",
    "    .withColumn('maxIter', lit('N/A')) \\\n",
    "    .withColumn('regParam', lit('N/A')) \\\n",
    "    .withColumn('maxDepth', lit('6')) \\\n",
    "    .withColumn('numTrees', lit('20'))"
   ]
  },
  {
   "cell_type": "code",
   "execution_count": 10,
   "metadata": {},
   "outputs": [
    {
     "data": {
      "application/vnd.jupyter.widget-view+json": {
       "model_id": "dc17bae3c1044da7b0c5d4498e8ed705",
       "version_major": 2,
       "version_minor": 0
      },
      "text/plain": [
       "VBox()"
      ]
     },
     "metadata": {},
     "output_type": "display_data"
    },
    {
     "data": {
      "application/vnd.jupyter.widget-view+json": {
       "model_id": "",
       "version_major": 2,
       "version_minor": 0
      },
      "text/plain": [
       "FloatProgress(value=0.0, bar_style='info', description='Progress:', layout=Layout(height='25px', width='50%'),…"
      ]
     },
     "metadata": {},
     "output_type": "display_data"
    },
    {
     "name": "stdout",
     "output_type": "stream",
     "text": [
      "+------------------+------------------+-----------------+------------------+------------------+\n",
      "|                f1|          accuracy|weightedPrecision|    weightedRecall|               AUC|\n",
      "+------------------+------------------+-----------------+------------------+------------------+\n",
      "|0.8386651060216977|0.8577847674679847|0.858875141192138|0.8577847674679848|0.7055267657733111|\n",
      "+------------------+------------------+-----------------+------------------+------------------+"
     ]
    }
   ],
   "source": [
    "# [Random Forest]    \n",
    "# 22 features\n",
    "# hyperparams: maxDepth=6, numTrees=20\n",
    "metrics_04 = spark.read.json('s3n://amosvoron-sparkify/rfc-metrics-f22.json')\n",
    "metrics_04.select('f1', 'accuracy', 'weightedPrecision', 'weightedRecall', 'AUC').show()"
   ]
  },
  {
   "cell_type": "code",
   "execution_count": 89,
   "metadata": {},
   "outputs": [
    {
     "data": {
      "application/vnd.jupyter.widget-view+json": {
       "model_id": "5b7476c380cd4f1c9c3f1ee677a2628f",
       "version_major": 2,
       "version_minor": 0
      },
      "text/plain": [
       "VBox()"
      ]
     },
     "metadata": {},
     "output_type": "display_data"
    },
    {
     "data": {
      "application/vnd.jupyter.widget-view+json": {
       "model_id": "",
       "version_major": 2,
       "version_minor": 0
      },
      "text/plain": [
       "FloatProgress(value=0.0, bar_style='info', description='Progress:', layout=Layout(height='25px', width='50%'),…"
      ]
     },
     "metadata": {},
     "output_type": "display_data"
    }
   ],
   "source": [
    "metrics_04 = metrics_04 \\\n",
    "    .withColumn('Nº', lit('4')) \\\n",
    "    .withColumn('ML method', lit('Random Forest')) \\\n",
    "    .withColumn('features', lit('22')) \\\n",
    "    .withColumn('note', lit('big dataset features')) \\\n",
    "    .withColumn('elasticNetParam', lit('N/A')) \\\n",
    "    .withColumn('maxIter', lit('N/A')) \\\n",
    "    .withColumn('regParam', lit('N/A')) \\\n",
    "    .withColumn('maxDepth', lit('6')) \\\n",
    "    .withColumn('numTrees', lit('20'))"
   ]
  },
  {
   "cell_type": "code",
   "execution_count": 11,
   "metadata": {},
   "outputs": [
    {
     "data": {
      "application/vnd.jupyter.widget-view+json": {
       "model_id": "f1479d4a817f4ef6969607d4487b30fc",
       "version_major": 2,
       "version_minor": 0
      },
      "text/plain": [
       "VBox()"
      ]
     },
     "metadata": {},
     "output_type": "display_data"
    },
    {
     "data": {
      "application/vnd.jupyter.widget-view+json": {
       "model_id": "",
       "version_major": 2,
       "version_minor": 0
      },
      "text/plain": [
       "FloatProgress(value=0.0, bar_style='info', description='Progress:', layout=Layout(height='25px', width='50%'),…"
      ]
     },
     "metadata": {},
     "output_type": "display_data"
    },
    {
     "name": "stdout",
     "output_type": "stream",
     "text": [
      "+-----------------+------------------+------------------+------------------+------------------+\n",
      "|               f1|          accuracy| weightedPrecision|    weightedRecall|               AUC|\n",
      "+-----------------+------------------+------------------+------------------+------------------+\n",
      "|0.858039909315744|0.8696922039991013|0.8661328993108217|0.8696922039991013|0.7457577238042062|\n",
      "+-----------------+------------------+------------------+------------------+------------------+"
     ]
    }
   ],
   "source": [
    "# [Random Forest]    \n",
    "# 14 features (reduction from f22)\n",
    "# hyperparams: maxDepth=6, numTrees=20\n",
    "metrics_05 = spark.read.json('s3n://amosvoron-sparkify/rfc-metrics-f14.json')\n",
    "metrics_05.select('f1', 'accuracy', 'weightedPrecision', 'weightedRecall', 'AUC').show()"
   ]
  },
  {
   "cell_type": "code",
   "execution_count": 90,
   "metadata": {},
   "outputs": [
    {
     "data": {
      "application/vnd.jupyter.widget-view+json": {
       "model_id": "1e8c5a67f2df4f4c9ec233c24f4f147b",
       "version_major": 2,
       "version_minor": 0
      },
      "text/plain": [
       "VBox()"
      ]
     },
     "metadata": {},
     "output_type": "display_data"
    },
    {
     "data": {
      "application/vnd.jupyter.widget-view+json": {
       "model_id": "",
       "version_major": 2,
       "version_minor": 0
      },
      "text/plain": [
       "FloatProgress(value=0.0, bar_style='info', description='Progress:', layout=Layout(height='25px', width='50%'),…"
      ]
     },
     "metadata": {},
     "output_type": "display_data"
    }
   ],
   "source": [
    "metrics_05 = metrics_05 \\\n",
    "    .withColumn('Nº', lit('5')) \\\n",
    "    .withColumn('ML method', lit('Random Forest')) \\\n",
    "    .withColumn('features', lit('14')) \\\n",
    "    .withColumn('note', lit('features derived from Nº4')) \\\n",
    "    .withColumn('elasticNetParam', lit('N/A')) \\\n",
    "    .withColumn('maxIter', lit('N/A')) \\\n",
    "    .withColumn('regParam', lit('N/A')) \\\n",
    "    .withColumn('maxDepth', lit('6')) \\\n",
    "    .withColumn('numTrees', lit('20'))"
   ]
  },
  {
   "cell_type": "code",
   "execution_count": 12,
   "metadata": {},
   "outputs": [
    {
     "data": {
      "application/vnd.jupyter.widget-view+json": {
       "model_id": "56d873caaa96452992595168711330c4",
       "version_major": 2,
       "version_minor": 0
      },
      "text/plain": [
       "VBox()"
      ]
     },
     "metadata": {},
     "output_type": "display_data"
    },
    {
     "data": {
      "application/vnd.jupyter.widget-view+json": {
       "model_id": "",
       "version_major": 2,
       "version_minor": 0
      },
      "text/plain": [
       "FloatProgress(value=0.0, bar_style='info', description='Progress:', layout=Layout(height='25px', width='50%'),…"
      ]
     },
     "metadata": {},
     "output_type": "display_data"
    },
    {
     "name": "stdout",
     "output_type": "stream",
     "text": [
      "+------------------+----------------+-----------------+----------------+------------------+\n",
      "|                f1|        accuracy|weightedPrecision|  weightedRecall|               AUC|\n",
      "+------------------+----------------+-----------------+----------------+------------------+\n",
      "|0.8608286816841433|0.87059087845428|0.865639943751543|0.87059087845428|0.7552823434301136|\n",
      "+------------------+----------------+-----------------+----------------+------------------+"
     ]
    }
   ],
   "source": [
    "# [Random Forest]    \n",
    "# 9 features (reduction from f14)\n",
    "# hyperparams: maxDepth=6, numTrees=20\n",
    "metrics_06 = spark.read.json('s3n://amosvoron-sparkify/rfc-metrics-f9.json')\n",
    "metrics_06.select('f1', 'accuracy', 'weightedPrecision', 'weightedRecall', 'AUC').show()"
   ]
  },
  {
   "cell_type": "code",
   "execution_count": 91,
   "metadata": {},
   "outputs": [
    {
     "data": {
      "application/vnd.jupyter.widget-view+json": {
       "model_id": "255bac18023f4dbe82c3658752e1c957",
       "version_major": 2,
       "version_minor": 0
      },
      "text/plain": [
       "VBox()"
      ]
     },
     "metadata": {},
     "output_type": "display_data"
    },
    {
     "data": {
      "application/vnd.jupyter.widget-view+json": {
       "model_id": "",
       "version_major": 2,
       "version_minor": 0
      },
      "text/plain": [
       "FloatProgress(value=0.0, bar_style='info', description='Progress:', layout=Layout(height='25px', width='50%'),…"
      ]
     },
     "metadata": {},
     "output_type": "display_data"
    }
   ],
   "source": [
    "metrics_06 = metrics_06 \\\n",
    "    .withColumn('Nº', lit('6')) \\\n",
    "    .withColumn('ML method', lit('Random Forest')) \\\n",
    "    .withColumn('features', lit('9')) \\\n",
    "    .withColumn('note', lit('features derived from Nº5')) \\\n",
    "    .withColumn('elasticNetParam', lit('N/A')) \\\n",
    "    .withColumn('maxIter', lit('N/A')) \\\n",
    "    .withColumn('regParam', lit('N/A')) \\\n",
    "    .withColumn('maxDepth', lit('6')) \\\n",
    "    .withColumn('numTrees', lit('20'))"
   ]
  },
  {
   "cell_type": "code",
   "execution_count": 13,
   "metadata": {},
   "outputs": [
    {
     "data": {
      "application/vnd.jupyter.widget-view+json": {
       "model_id": "76c56deb2c1e483c9ab54b9c2acb2b96",
       "version_major": 2,
       "version_minor": 0
      },
      "text/plain": [
       "VBox()"
      ]
     },
     "metadata": {},
     "output_type": "display_data"
    },
    {
     "data": {
      "application/vnd.jupyter.widget-view+json": {
       "model_id": "",
       "version_major": 2,
       "version_minor": 0
      },
      "text/plain": [
       "FloatProgress(value=0.0, bar_style='info', description='Progress:', layout=Layout(height='25px', width='50%'),…"
      ]
     },
     "metadata": {},
     "output_type": "display_data"
    },
    {
     "name": "stdout",
     "output_type": "stream",
     "text": [
      "+------------------+------------------+------------------+------------------+-----------------+\n",
      "|                f1|          accuracy| weightedPrecision|    weightedRecall|              AUC|\n",
      "+------------------+------------------+------------------+------------------+-----------------+\n",
      "|0.8682717979279954|0.8777802740957088|0.8745521507864166|0.8777802740957088|0.764206012702401|\n",
      "+------------------+------------------+------------------+------------------+-----------------+"
     ]
    }
   ],
   "source": [
    "# [Random Forest]    \n",
    "# 9 features (reduction from f14)\n",
    "# hyperparams: maxDepth=6, numTrees=50\n",
    "metrics_07 = spark.read.json('s3n://amosvoron-sparkify/rfc-metrics-f9h.json')\n",
    "metrics_07.select('f1', 'accuracy', 'weightedPrecision', 'weightedRecall', 'AUC').show()"
   ]
  },
  {
   "cell_type": "code",
   "execution_count": 92,
   "metadata": {},
   "outputs": [
    {
     "data": {
      "application/vnd.jupyter.widget-view+json": {
       "model_id": "7e84ef44886b42409c7c66404cbba39d",
       "version_major": 2,
       "version_minor": 0
      },
      "text/plain": [
       "VBox()"
      ]
     },
     "metadata": {},
     "output_type": "display_data"
    },
    {
     "data": {
      "application/vnd.jupyter.widget-view+json": {
       "model_id": "",
       "version_major": 2,
       "version_minor": 0
      },
      "text/plain": [
       "FloatProgress(value=0.0, bar_style='info', description='Progress:', layout=Layout(height='25px', width='50%'),…"
      ]
     },
     "metadata": {},
     "output_type": "display_data"
    }
   ],
   "source": [
    "metrics_07 = metrics_07 \\\n",
    "    .withColumn('Nº', lit('7')) \\\n",
    "    .withColumn('ML method', lit('Random Forest')) \\\n",
    "    .withColumn('features', lit('9')) \\\n",
    "    .withColumn('note', lit('features derived from Nº5')) \\\n",
    "    .withColumn('elasticNetParam', lit('N/A')) \\\n",
    "    .withColumn('maxIter', lit('N/A')) \\\n",
    "    .withColumn('regParam', lit('N/A')) \\\n",
    "    .withColumn('maxDepth', lit('6')) \\\n",
    "    .withColumn('numTrees', lit('50'))"
   ]
  },
  {
   "cell_type": "code",
   "execution_count": 14,
   "metadata": {},
   "outputs": [
    {
     "data": {
      "application/vnd.jupyter.widget-view+json": {
       "model_id": "0a7e5244b8264140a3a9e41c8919ccb0",
       "version_major": 2,
       "version_minor": 0
      },
      "text/plain": [
       "VBox()"
      ]
     },
     "metadata": {},
     "output_type": "display_data"
    },
    {
     "data": {
      "application/vnd.jupyter.widget-view+json": {
       "model_id": "",
       "version_major": 2,
       "version_minor": 0
      },
      "text/plain": [
       "FloatProgress(value=0.0, bar_style='info', description='Progress:', layout=Layout(height='25px', width='50%'),…"
      ]
     },
     "metadata": {},
     "output_type": "display_data"
    },
    {
     "name": "stdout",
     "output_type": "stream",
     "text": [
      "+------------------+-----------------+------------------+------------------+------------------+\n",
      "|                f1|         accuracy| weightedPrecision|    weightedRecall|               AUC|\n",
      "+------------------+-----------------+------------------+------------------+------------------+\n",
      "|0.8794465581711159|0.886093012806111|0.8824006435699202|0.8860930128061111|0.7885243637167317|\n",
      "+------------------+-----------------+------------------+------------------+------------------+"
     ]
    }
   ],
   "source": [
    "# [Random Forest]    \n",
    "# 6 features (reduction from f9)\n",
    "# hyperparams: maxDepth=6, numTrees=50\n",
    "metrics_08 = spark.read.json('s3n://amosvoron-sparkify/rfc-metrics-f6h.json')\n",
    "metrics_08.select('f1', 'accuracy', 'weightedPrecision', 'weightedRecall', 'AUC').show()"
   ]
  },
  {
   "cell_type": "code",
   "execution_count": 93,
   "metadata": {},
   "outputs": [
    {
     "data": {
      "application/vnd.jupyter.widget-view+json": {
       "model_id": "af0eb1f92d2c4f8a8a9240bc16a0167c",
       "version_major": 2,
       "version_minor": 0
      },
      "text/plain": [
       "VBox()"
      ]
     },
     "metadata": {},
     "output_type": "display_data"
    },
    {
     "data": {
      "application/vnd.jupyter.widget-view+json": {
       "model_id": "",
       "version_major": 2,
       "version_minor": 0
      },
      "text/plain": [
       "FloatProgress(value=0.0, bar_style='info', description='Progress:', layout=Layout(height='25px', width='50%'),…"
      ]
     },
     "metadata": {},
     "output_type": "display_data"
    }
   ],
   "source": [
    "metrics_08 = metrics_08 \\\n",
    "    .withColumn('Nº', lit('8')) \\\n",
    "    .withColumn('ML method', lit('Random Forest')) \\\n",
    "    .withColumn('features', lit('6')) \\\n",
    "    .withColumn('note', lit('features derived from Nº6/Nº7')) \\\n",
    "    .withColumn('elasticNetParam', lit('N/A')) \\\n",
    "    .withColumn('maxIter', lit('N/A')) \\\n",
    "    .withColumn('regParam', lit('N/A')) \\\n",
    "    .withColumn('maxDepth', lit('6')) \\\n",
    "    .withColumn('numTrees', lit('50'))"
   ]
  },
  {
   "cell_type": "code",
   "execution_count": 16,
   "metadata": {},
   "outputs": [
    {
     "data": {
      "application/vnd.jupyter.widget-view+json": {
       "model_id": "a8872ce2257246068d34637e042097c0",
       "version_major": 2,
       "version_minor": 0
      },
      "text/plain": [
       "VBox()"
      ]
     },
     "metadata": {},
     "output_type": "display_data"
    },
    {
     "data": {
      "application/vnd.jupyter.widget-view+json": {
       "model_id": "",
       "version_major": 2,
       "version_minor": 0
      },
      "text/plain": [
       "FloatProgress(value=0.0, bar_style='info', description='Progress:', layout=Layout(height='25px', width='50%'),…"
      ]
     },
     "metadata": {},
     "output_type": "display_data"
    },
    {
     "name": "stdout",
     "output_type": "stream",
     "text": [
      "+-----------------+------------------+------------------+------------------+------------------+\n",
      "|               f1|          accuracy| weightedPrecision|    weightedRecall|               AUC|\n",
      "+-----------------+------------------+------------------+------------------+------------------+\n",
      "|0.893976019228649|0.8973264434958437|0.8939976348676694|0.8973264434958437|0.8233115810534152|\n",
      "+-----------------+------------------+------------------+------------------+------------------+"
     ]
    }
   ],
   "source": [
    "# [GBT]    \n",
    "# 22 features\n",
    "# hyperparams: maxIter=50, maxDepth=5\n",
    "metrics_09 = spark.read.json('s3n://amosvoron-sparkify/gbt-cancelled-metrics-f22.json')\n",
    "metrics_09.select('f1', 'accuracy', 'weightedPrecision', 'weightedRecall', 'AUC').show()"
   ]
  },
  {
   "cell_type": "code",
   "execution_count": 94,
   "metadata": {},
   "outputs": [
    {
     "data": {
      "application/vnd.jupyter.widget-view+json": {
       "model_id": "649b6522484b4fb1804ba6ba7dd824d9",
       "version_major": 2,
       "version_minor": 0
      },
      "text/plain": [
       "VBox()"
      ]
     },
     "metadata": {},
     "output_type": "display_data"
    },
    {
     "data": {
      "application/vnd.jupyter.widget-view+json": {
       "model_id": "",
       "version_major": 2,
       "version_minor": 0
      },
      "text/plain": [
       "FloatProgress(value=0.0, bar_style='info', description='Progress:', layout=Layout(height='25px', width='50%'),…"
      ]
     },
     "metadata": {},
     "output_type": "display_data"
    }
   ],
   "source": [
    "metrics_09 = metrics_09 \\\n",
    "    .withColumn('Nº', lit('9')) \\\n",
    "    .withColumn('ML method', lit('GBTClassifier')) \\\n",
    "    .withColumn('features', lit('22')) \\\n",
    "    .withColumn('note', lit('Nº4 features')) \\\n",
    "    .withColumn('elasticNetParam', lit('N/A')) \\\n",
    "    .withColumn('maxIter', lit('50')) \\\n",
    "    .withColumn('regParam', lit('N/A')) \\\n",
    "    .withColumn('maxDepth', lit('5')) \\\n",
    "    .withColumn('numTrees', lit('N/A'))"
   ]
  },
  {
   "cell_type": "code",
   "execution_count": 17,
   "metadata": {},
   "outputs": [
    {
     "data": {
      "application/vnd.jupyter.widget-view+json": {
       "model_id": "1099dd4ea0104605900cc42683bdb489",
       "version_major": 2,
       "version_minor": 0
      },
      "text/plain": [
       "VBox()"
      ]
     },
     "metadata": {},
     "output_type": "display_data"
    },
    {
     "data": {
      "application/vnd.jupyter.widget-view+json": {
       "model_id": "",
       "version_major": 2,
       "version_minor": 0
      },
      "text/plain": [
       "FloatProgress(value=0.0, bar_style='info', description='Progress:', layout=Layout(height='25px', width='50%'),…"
      ]
     },
     "metadata": {},
     "output_type": "display_data"
    },
    {
     "name": "stdout",
     "output_type": "stream",
     "text": [
      "+------------------+-----------------+------------------+-----------------+------------------+\n",
      "|                f1|         accuracy| weightedPrecision|   weightedRecall|               AUC|\n",
      "+------------------+-----------------+------------------+-----------------+------------------+\n",
      "|0.8994328175799097|0.902269152999326|0.8993354342260549|0.902269152999326|0.8332933475246603|\n",
      "+------------------+-----------------+------------------+-----------------+------------------+"
     ]
    }
   ],
   "source": [
    "# [GBT]    \n",
    "# 22 features\n",
    "# hyperparams: maxIter=200, maxDepth=5\n",
    "metrics_10 = spark.read.json('s3n://amosvoron-sparkify/gbt-cancelled-metrics-f22h.json')\n",
    "metrics_10.select('f1', 'accuracy', 'weightedPrecision', 'weightedRecall', 'AUC').show()"
   ]
  },
  {
   "cell_type": "code",
   "execution_count": 95,
   "metadata": {},
   "outputs": [
    {
     "data": {
      "application/vnd.jupyter.widget-view+json": {
       "model_id": "c24c7dbd64fe45bb90de45e0aff781bc",
       "version_major": 2,
       "version_minor": 0
      },
      "text/plain": [
       "VBox()"
      ]
     },
     "metadata": {},
     "output_type": "display_data"
    },
    {
     "data": {
      "application/vnd.jupyter.widget-view+json": {
       "model_id": "",
       "version_major": 2,
       "version_minor": 0
      },
      "text/plain": [
       "FloatProgress(value=0.0, bar_style='info', description='Progress:', layout=Layout(height='25px', width='50%'),…"
      ]
     },
     "metadata": {},
     "output_type": "display_data"
    }
   ],
   "source": [
    "metrics_10 = metrics_10 \\\n",
    "    .withColumn('Nº', lit('10')) \\\n",
    "    .withColumn('ML method', lit('GBTClassifier')) \\\n",
    "    .withColumn('features', lit('22')) \\\n",
    "    .withColumn('note', lit('Nº4 features')) \\\n",
    "    .withColumn('elasticNetParam', lit('N/A')) \\\n",
    "    .withColumn('maxIter', lit('200')) \\\n",
    "    .withColumn('regParam', lit('N/A')) \\\n",
    "    .withColumn('maxDepth', lit('5')) \\\n",
    "    .withColumn('numTrees', lit('N/A'))"
   ]
  },
  {
   "cell_type": "code",
   "execution_count": 63,
   "metadata": {},
   "outputs": [
    {
     "data": {
      "application/vnd.jupyter.widget-view+json": {
       "model_id": "a22cdf49b75344ec8c103c01336fabe6",
       "version_major": 2,
       "version_minor": 0
      },
      "text/plain": [
       "VBox()"
      ]
     },
     "metadata": {},
     "output_type": "display_data"
    },
    {
     "data": {
      "application/vnd.jupyter.widget-view+json": {
       "model_id": "",
       "version_major": 2,
       "version_minor": 0
      },
      "text/plain": [
       "FloatProgress(value=0.0, bar_style='info', description='Progress:', layout=Layout(height='25px', width='50%'),…"
      ]
     },
     "metadata": {},
     "output_type": "display_data"
    },
    {
     "name": "stdout",
     "output_type": "stream",
     "text": [
      "+------------------+------------------+------------------+------------------+------------------+\n",
      "|                f1|          accuracy| weightedPrecision|    weightedRecall|               AUC|\n",
      "+------------------+------------------+------------------+------------------+------------------+\n",
      "|0.8993786653444871|0.9024938216131206|0.8995485523750624|0.9024938216131206|0.8312910036292573|\n",
      "+------------------+------------------+------------------+------------------+------------------+"
     ]
    }
   ],
   "source": [
    "# [GBT]    \n",
    "# 16 features (reduction from f22)\n",
    "# hyperparams: maxIter=150, maxDepth=5\n",
    "metrics_11 = spark.read.json('s3n://amosvoron-sparkify/gbt-cancelled-metrics-f16h.json')\n",
    "metrics_11.select('f1', 'accuracy', 'weightedPrecision', 'weightedRecall', 'AUC').show()"
   ]
  },
  {
   "cell_type": "code",
   "execution_count": 96,
   "metadata": {},
   "outputs": [
    {
     "data": {
      "application/vnd.jupyter.widget-view+json": {
       "model_id": "0c0f1211566e4455a12012b84f254c31",
       "version_major": 2,
       "version_minor": 0
      },
      "text/plain": [
       "VBox()"
      ]
     },
     "metadata": {},
     "output_type": "display_data"
    },
    {
     "data": {
      "application/vnd.jupyter.widget-view+json": {
       "model_id": "",
       "version_major": 2,
       "version_minor": 0
      },
      "text/plain": [
       "FloatProgress(value=0.0, bar_style='info', description='Progress:', layout=Layout(height='25px', width='50%'),…"
      ]
     },
     "metadata": {},
     "output_type": "display_data"
    }
   ],
   "source": [
    "metrics_11 = metrics_11 \\\n",
    "    .withColumn('Nº', lit('11')) \\\n",
    "    .withColumn('ML method', lit('GBTClassifier')) \\\n",
    "    .withColumn('features', lit('16')) \\\n",
    "    .withColumn('note', lit('features derived from Nº10')) \\\n",
    "    .withColumn('elasticNetParam', lit('N/A')) \\\n",
    "    .withColumn('maxIter', lit('150')) \\\n",
    "    .withColumn('regParam', lit('N/A')) \\\n",
    "    .withColumn('maxDepth', lit('5')) \\\n",
    "    .withColumn('numTrees', lit('N/A'))"
   ]
  },
  {
   "cell_type": "code",
   "execution_count": 19,
   "metadata": {},
   "outputs": [
    {
     "data": {
      "application/vnd.jupyter.widget-view+json": {
       "model_id": "6e7382fc15c342cbb8def566f4567f7c",
       "version_major": 2,
       "version_minor": 0
      },
      "text/plain": [
       "VBox()"
      ]
     },
     "metadata": {},
     "output_type": "display_data"
    },
    {
     "data": {
      "application/vnd.jupyter.widget-view+json": {
       "model_id": "",
       "version_major": 2,
       "version_minor": 0
      },
      "text/plain": [
       "FloatProgress(value=0.0, bar_style='info', description='Progress:', layout=Layout(height='25px', width='50%'),…"
      ]
     },
     "metadata": {},
     "output_type": "display_data"
    },
    {
     "name": "stdout",
     "output_type": "stream",
     "text": [
      "+------------------+------------------+------------------+------------------+------------------+\n",
      "|                f1|          accuracy| weightedPrecision|    weightedRecall|               AUC|\n",
      "+------------------+------------------+------------------+------------------+------------------+\n",
      "|0.7505143102418945|0.7984722534261963|0.7780010603901284|0.7984722534261963|0.5803780185650474|\n",
      "+------------------+------------------+------------------+------------------+------------------+"
     ]
    }
   ],
   "source": [
    "# [Logistic Regression]    \n",
    "# 16 features (reduction from f22)\n",
    "# hyperparams: elasticNetParam=0.0, maxIter=50, regParam=0.1\n",
    "metrics_12 = spark.read.json('s3n://amosvoron-sparkify/lr-cancelled-metrics-f22h.json')\n",
    "metrics_12.select('f1', 'accuracy', 'weightedPrecision', 'weightedRecall', 'AUC').show()"
   ]
  },
  {
   "cell_type": "code",
   "execution_count": 97,
   "metadata": {},
   "outputs": [
    {
     "data": {
      "application/vnd.jupyter.widget-view+json": {
       "model_id": "cc335ea234a245e8a982a5837f119aff",
       "version_major": 2,
       "version_minor": 0
      },
      "text/plain": [
       "VBox()"
      ]
     },
     "metadata": {},
     "output_type": "display_data"
    },
    {
     "data": {
      "application/vnd.jupyter.widget-view+json": {
       "model_id": "",
       "version_major": 2,
       "version_minor": 0
      },
      "text/plain": [
       "FloatProgress(value=0.0, bar_style='info', description='Progress:', layout=Layout(height='25px', width='50%'),…"
      ]
     },
     "metadata": {},
     "output_type": "display_data"
    }
   ],
   "source": [
    "metrics_12 = metrics_12 \\\n",
    "    .withColumn('Nº', lit('12')) \\\n",
    "    .withColumn('ML method', lit('Logistic Regression')) \\\n",
    "    .withColumn('features', lit('16')) \\\n",
    "    .withColumn('note', lit('features derived from Nº10')) \\\n",
    "    .withColumn('elasticNetParam', lit('0.0')) \\\n",
    "    .withColumn('maxIter', lit('50')) \\\n",
    "    .withColumn('regParam', lit('0.1')) \\\n",
    "    .withColumn('maxDepth', lit('N/A')) \\\n",
    "    .withColumn('numTrees', lit('N/A'))"
   ]
  },
  {
   "cell_type": "code",
   "execution_count": null,
   "metadata": {},
   "outputs": [],
   "source": [
    "# TODO\n",
    "\n",
    "# [GBT]    \n",
    "# 16 features (reduction from f22)\n",
    "# hyperparams: maxIter=200, maxDepth=5\n",
    "metrics_12 = spark.read.json('s3n://amosvoron-sparkify/gbt-cancelled-metrics-f16h2.json')\n",
    "metrics_12.select('f1', 'accuracy', 'weightedPrecision', 'weightedRecall', 'AUC').show()"
   ]
  },
  {
   "cell_type": "code",
   "execution_count": null,
   "metadata": {},
   "outputs": [],
   "source": [
    "# TODO\n",
    "\n",
    "# [GBT]    \n",
    "# 22 or 16 features (reduction from f22)\n",
    "# hyperparams: maxIter=50, maxDepth=2\n",
    "metrics_12 = spark.read.json('s3n://amosvoron-sparkify/gbt-cancelled-metrics-f16h3.json')\n",
    "metrics_12.select('f1', 'accuracy', 'weightedPrecision', 'weightedRecall', 'AUC').show()"
   ]
  },
  {
   "cell_type": "markdown",
   "metadata": {},
   "source": [
    "### Final Result"
   ]
  },
  {
   "cell_type": "code",
   "execution_count": 136,
   "metadata": {},
   "outputs": [
    {
     "data": {
      "application/vnd.jupyter.widget-view+json": {
       "model_id": "52669ca2242549b19ff0bbcaf831e762",
       "version_major": 2,
       "version_minor": 0
      },
      "text/plain": [
       "VBox()"
      ]
     },
     "metadata": {},
     "output_type": "display_data"
    },
    {
     "data": {
      "application/vnd.jupyter.widget-view+json": {
       "model_id": "",
       "version_major": 2,
       "version_minor": 0
      },
      "text/plain": [
       "FloatProgress(value=0.0, bar_style='info', description='Progress:', layout=Layout(height='25px', width='50%'),…"
      ]
     },
     "metadata": {},
     "output_type": "display_data"
    }
   ],
   "source": [
    "metrics_cancelled = metrics_01.select('Nº', 'ML method', 'features', 'elasticNetParam', 'maxIter', 'regParam', \\\n",
    "            'maxDepth', 'numTrees', 'f1', 'note') \\\n",
    "    .union(metrics_02.select('Nº', 'ML method', 'features', 'elasticNetParam', 'maxIter', 'regParam', \\\n",
    "            'maxDepth', 'numTrees', 'f1', 'note') ) \\\n",
    "    .union(metrics_03.select('Nº', 'ML method', 'features', 'elasticNetParam', 'maxIter', 'regParam', \\\n",
    "            'maxDepth', 'numTrees', 'f1', 'note') ) \\\n",
    "    .union(metrics_04.select('Nº', 'ML method', 'features', 'elasticNetParam', 'maxIter', 'regParam', \\\n",
    "            'maxDepth', 'numTrees', 'f1', 'note') ) \\\n",
    "    .union(metrics_05.select('Nº', 'ML method', 'features', 'elasticNetParam', 'maxIter', 'regParam', \\\n",
    "            'maxDepth', 'numTrees', 'f1', 'note') ) \\\n",
    "    .union(metrics_06.select('Nº', 'ML method', 'features', 'elasticNetParam', 'maxIter', 'regParam', \\\n",
    "            'maxDepth', 'numTrees', 'f1', 'note') ) \\\n",
    "    .union(metrics_07.select('Nº', 'ML method', 'features', 'elasticNetParam', 'maxIter', 'regParam', \\\n",
    "            'maxDepth', 'numTrees', 'f1', 'note') ) \\\n",
    "    .union(metrics_08.select('Nº', 'ML method', 'features', 'elasticNetParam', 'maxIter', 'regParam', \\\n",
    "            'maxDepth', 'numTrees', 'f1', 'note') ) \\\n",
    "    .union(metrics_09.select('Nº', 'ML method', 'features', 'elasticNetParam', 'maxIter', 'regParam', \\\n",
    "            'maxDepth', 'numTrees', 'f1', 'note') ) \\\n",
    "    .union(metrics_10.select('Nº', 'ML method', 'features', 'elasticNetParam', 'maxIter', 'regParam', \\\n",
    "            'maxDepth', 'numTrees', 'f1', 'note') ) \\\n",
    "    .union(metrics_11.select('Nº', 'ML method', 'features', 'elasticNetParam', 'maxIter', 'regParam', \\\n",
    "            'maxDepth', 'numTrees', 'f1', 'note') ) \\\n",
    "    .union(metrics_12.select('Nº', 'ML method', 'features', 'elasticNetParam', 'maxIter', 'regParam', \\\n",
    "            'maxDepth', 'numTrees', 'f1', 'note') )"
   ]
  },
  {
   "cell_type": "code",
   "execution_count": 104,
   "metadata": {
    "scrolled": true
   },
   "outputs": [
    {
     "data": {
      "application/vnd.jupyter.widget-view+json": {
       "model_id": "716874b1780047908b357ccd98acecf4",
       "version_major": 2,
       "version_minor": 0
      },
      "text/plain": [
       "VBox()"
      ]
     },
     "metadata": {},
     "output_type": "display_data"
    },
    {
     "data": {
      "application/vnd.jupyter.widget-view+json": {
       "model_id": "",
       "version_major": 2,
       "version_minor": 0
      },
      "text/plain": [
       "FloatProgress(value=0.0, bar_style='info', description='Progress:', layout=Layout(height='25px', width='50%'),…"
      ]
     },
     "metadata": {},
     "output_type": "display_data"
    },
    {
     "name": "stdout",
     "output_type": "stream",
     "text": [
      "+---+-------------------+--------+---------------+-------+--------+--------+--------+--------+-----------------------------+\n",
      "|Nº |ML method          |features|elasticNetParam|maxIter|regParam|maxDepth|numTrees|F1      |note                         |\n",
      "+---+-------------------+--------+---------------+-------+--------+--------+--------+--------+-----------------------------+\n",
      "|1  |Logistic Regression|8       |0.0            |10     |0.1     |N/A     |N/A     |0.774113|mini dataset features        |\n",
      "|2  |Random Forest      |29      |N/A            |N/A    |N/A     |default |default |0.830521|mini dataset features        |\n",
      "|3  |Random Forest      |3       |N/A            |N/A    |N/A     |6       |20      |0.869747|*                            |\n",
      "|4  |Random Forest      |22      |N/A            |N/A    |N/A     |6       |20      |0.838665|big dataset features         |\n",
      "|5  |Random Forest      |14      |N/A            |N/A    |N/A     |6       |20      |0.85804 |features derived from Nº4    |\n",
      "|6  |Random Forest      |9       |N/A            |N/A    |N/A     |6       |20      |0.860829|features derived from Nº5    |\n",
      "|7  |Random Forest      |9       |N/A            |N/A    |N/A     |6       |50      |0.868272|features derived from Nº5    |\n",
      "|8  |Random Forest      |6       |N/A            |N/A    |N/A     |6       |50      |0.879447|features derived from Nº6/Nº7|\n",
      "|9  |GBTClassifier      |22      |N/A            |50     |N/A     |5       |N/A     |0.893976|Nº4 features                 |\n",
      "|10 |GBTClassifier      |22      |N/A            |200    |N/A     |5       |N/A     |0.899433|Nº4 features                 |\n",
      "|11 |GBTClassifier      |16      |N/A            |150    |N/A     |5       |N/A     |0.899379|features derived from Nº10   |\n",
      "|12 |Logistic Regression|16      |0.0            |50     |0.1     |N/A     |N/A     |0.750514|features derived from Nº10   |\n",
      "+---+-------------------+--------+---------------+-------+--------+--------+--------+--------+-----------------------------+"
     ]
    }
   ],
   "source": [
    "metrics_cancelled \\\n",
    "    .select('Nº', 'ML method', 'features', 'elasticNetParam', 'maxIter', 'regParam', \\\n",
    "            'maxDepth', 'numTrees', round('f1', 6).alias('F1'), 'note') \\\n",
    "    .show(20, False)"
   ]
  },
  {
   "cell_type": "markdown",
   "metadata": {},
   "source": [
    "### Best model for cancelled users"
   ]
  },
  {
   "cell_type": "code",
   "execution_count": 156,
   "metadata": {},
   "outputs": [
    {
     "data": {
      "application/vnd.jupyter.widget-view+json": {
       "model_id": "e2111180b4f04f7d8c31e4d12bb89a47",
       "version_major": 2,
       "version_minor": 0
      },
      "text/plain": [
       "VBox()"
      ]
     },
     "metadata": {},
     "output_type": "display_data"
    },
    {
     "data": {
      "application/vnd.jupyter.widget-view+json": {
       "model_id": "",
       "version_major": 2,
       "version_minor": 0
      },
      "text/plain": [
       "FloatProgress(value=0.0, bar_style='info', description='Progress:', layout=Layout(height='25px', width='50%'),…"
      ]
     },
     "metadata": {},
     "output_type": "display_data"
    },
    {
     "name": "stdout",
     "output_type": "stream",
     "text": [
      "+------------------+-----------------+------------------+-----------------+------------------+\n",
      "|                f1|         accuracy| weightedPrecision|   weightedRecall|               AUC|\n",
      "+------------------+-----------------+------------------+-----------------+------------------+\n",
      "|0.8994328175799097|0.902269152999326|0.8993354342260549|0.902269152999326|0.8332933475246603|\n",
      "+------------------+-----------------+------------------+-----------------+------------------+"
     ]
    }
   ],
   "source": [
    "metrics_10.select('f1', 'accuracy', 'weightedPrecision', 'weightedRecall', 'AUC').show()"
   ]
  },
  {
   "cell_type": "code",
   "execution_count": 161,
   "metadata": {},
   "outputs": [
    {
     "data": {
      "application/vnd.jupyter.widget-view+json": {
       "model_id": "70a737ae20e348ae90e8fe626d3cf381",
       "version_major": 2,
       "version_minor": 0
      },
      "text/plain": [
       "VBox()"
      ]
     },
     "metadata": {},
     "output_type": "display_data"
    },
    {
     "data": {
      "application/vnd.jupyter.widget-view+json": {
       "model_id": "",
       "version_major": 2,
       "version_minor": 0
      },
      "text/plain": [
       "FloatProgress(value=0.0, bar_style='info', description='Progress:', layout=Layout(height='25px', width='50%'),…"
      ]
     },
     "metadata": {},
     "output_type": "display_data"
    },
    {
     "name": "stdout",
     "output_type": "stream",
     "text": [
      "+-----------------------+----------+\n",
      "|feature                |importance|\n",
      "+-----------------------+----------+\n",
      "|AvgSessionGap          |0.114945  |\n",
      "|NonSongCount           |0.064948  |\n",
      "|SessionCount           |0.060762  |\n",
      "|RollAdvertPerHour      |0.057997  |\n",
      "|ThumbsUpCount          |0.057046  |\n",
      "|ThumbsDownPerHour      |0.055785  |\n",
      "|SettingsPerSessionHour |0.055747  |\n",
      "|RollAdvertCount        |0.048809  |\n",
      "|DowngradePerSessionHour|0.047659  |\n",
      "|DowngradePerHour       |0.046806  |\n",
      "|LogoutPerHour          |0.042215  |\n",
      "|HomeCount              |0.040791  |\n",
      "|HelpCount              |0.038668  |\n",
      "|RollAdvertPerDay       |0.03714   |\n",
      "|HomePerHour            |0.035674  |\n",
      "|SettingsPerHour        |0.033925  |\n",
      "|AboutPerSessionHour    |0.033717  |\n",
      "|UpgradePerSessionHour  |0.032103  |\n",
      "|AboutCount             |0.027766  |\n",
      "|ErrorPerSessionHour    |0.027089  |\n",
      "|SubmitUpgradePerHour   |0.021087  |\n",
      "|SubmitDowngradePerHour |0.019319  |\n",
      "+-----------------------+----------+"
     ]
    }
   ],
   "source": [
    "importances_10 = spark.read.json('s3n://amosvoron-sparkify/gbt-cancelled-feature-importances-f22h.json')\n",
    "importances_10.sort(desc('importance')).select('feature', round('importance', 6).alias('importance')).show(30, False)"
   ]
  },
  {
   "cell_type": "markdown",
   "metadata": {},
   "source": [
    "## Downgraded users"
   ]
  },
  {
   "cell_type": "code",
   "execution_count": 105,
   "metadata": {},
   "outputs": [
    {
     "data": {
      "application/vnd.jupyter.widget-view+json": {
       "model_id": "0d671d47dc6841be9ad24accd9156772",
       "version_major": 2,
       "version_minor": 0
      },
      "text/plain": [
       "VBox()"
      ]
     },
     "metadata": {},
     "output_type": "display_data"
    },
    {
     "data": {
      "application/vnd.jupyter.widget-view+json": {
       "model_id": "",
       "version_major": 2,
       "version_minor": 0
      },
      "text/plain": [
       "FloatProgress(value=0.0, bar_style='info', description='Progress:', layout=Layout(height='25px', width='50%'),…"
      ]
     },
     "metadata": {},
     "output_type": "display_data"
    },
    {
     "name": "stdout",
     "output_type": "stream",
     "text": [
      "+------------------+------------------+------------------+-----------------+------------------+\n",
      "|                f1|          accuracy| weightedPrecision|   weightedRecall|               AUC|\n",
      "+------------------+------------------+------------------+-----------------+------------------+\n",
      "|0.8137938477161866|0.8303751965850371|0.8179372014878397|0.830375196585037|0.6879226254158419|\n",
      "+------------------+------------------+------------------+-----------------+------------------+"
     ]
    }
   ],
   "source": [
    "# [Random Forest]    \n",
    "# 22 features (big data features)\n",
    "# hyperparams: maxDepth=6, numTrees=100\n",
    "metrics_15 = spark.read.json('s3n://amosvoron-sparkify/rfc-downgraded-metrics-22h.json')\n",
    "metrics_15.select('f1', 'accuracy', 'weightedPrecision', 'weightedRecall', 'AUC').show()"
   ]
  },
  {
   "cell_type": "code",
   "execution_count": 147,
   "metadata": {},
   "outputs": [
    {
     "data": {
      "application/vnd.jupyter.widget-view+json": {
       "model_id": "a143079936e24c748d80dd16eb37d3fa",
       "version_major": 2,
       "version_minor": 0
      },
      "text/plain": [
       "VBox()"
      ]
     },
     "metadata": {},
     "output_type": "display_data"
    },
    {
     "data": {
      "application/vnd.jupyter.widget-view+json": {
       "model_id": "",
       "version_major": 2,
       "version_minor": 0
      },
      "text/plain": [
       "FloatProgress(value=0.0, bar_style='info', description='Progress:', layout=Layout(height='25px', width='50%'),…"
      ]
     },
     "metadata": {},
     "output_type": "display_data"
    }
   ],
   "source": [
    "metrics_15 = metrics_15 \\\n",
    "    .withColumn('Nº', lit('15')) \\\n",
    "    .withColumn('ML method', lit('Random Forest')) \\\n",
    "    .withColumn('features', lit('22')) \\\n",
    "    .withColumn('note', lit('big dataset features**')) \\\n",
    "    .withColumn('elasticNetParam', lit('N/A')) \\\n",
    "    .withColumn('maxIter', lit('N/A')) \\\n",
    "    .withColumn('regParam', lit('N/A')) \\\n",
    "    .withColumn('maxDepth', lit('6')) \\\n",
    "    .withColumn('numTrees', lit('100'))"
   ]
  },
  {
   "cell_type": "code",
   "execution_count": 120,
   "metadata": {},
   "outputs": [
    {
     "data": {
      "application/vnd.jupyter.widget-view+json": {
       "model_id": "524ce3bfa0bb4d73a985ed18ba29896d",
       "version_major": 2,
       "version_minor": 0
      },
      "text/plain": [
       "VBox()"
      ]
     },
     "metadata": {},
     "output_type": "display_data"
    },
    {
     "data": {
      "application/vnd.jupyter.widget-view+json": {
       "model_id": "",
       "version_major": 2,
       "version_minor": 0
      },
      "text/plain": [
       "FloatProgress(value=0.0, bar_style='info', description='Progress:', layout=Layout(height='25px', width='50%'),…"
      ]
     },
     "metadata": {},
     "output_type": "display_data"
    },
    {
     "name": "stdout",
     "output_type": "stream",
     "text": [
      "+------------------+------------------+------------------+------------------+------------------+\n",
      "|                f1|          accuracy| weightedPrecision|    weightedRecall|               AUC|\n",
      "+------------------+------------------+------------------+------------------+------------------+\n",
      "|0.8243558706304979|0.8346439002471355|0.8235744592195376|0.8346439002471354|0.7150563615408072|\n",
      "+------------------+------------------+------------------+------------------+------------------+"
     ]
    }
   ],
   "source": [
    "# [Random Forest]    \n",
    "# 13 features (big data features)\n",
    "# hyperparams: maxDepth=6, numTrees=100\n",
    "metrics_16 = spark.read.json('s3n://amosvoron-sparkify/rfc-downgraded-metrics-13h.json')\n",
    "metrics_16.select('f1', 'accuracy', 'weightedPrecision', 'weightedRecall', 'AUC').show()"
   ]
  },
  {
   "cell_type": "code",
   "execution_count": 139,
   "metadata": {},
   "outputs": [
    {
     "data": {
      "application/vnd.jupyter.widget-view+json": {
       "model_id": "117d377a541d4d399f2038f87d03f820",
       "version_major": 2,
       "version_minor": 0
      },
      "text/plain": [
       "VBox()"
      ]
     },
     "metadata": {},
     "output_type": "display_data"
    },
    {
     "data": {
      "application/vnd.jupyter.widget-view+json": {
       "model_id": "",
       "version_major": 2,
       "version_minor": 0
      },
      "text/plain": [
       "FloatProgress(value=0.0, bar_style='info', description='Progress:', layout=Layout(height='25px', width='50%'),…"
      ]
     },
     "metadata": {},
     "output_type": "display_data"
    }
   ],
   "source": [
    "metrics_16 = metrics_16 \\\n",
    "    .withColumn('Nº', lit('16')) \\\n",
    "    .withColumn('ML method', lit('Random Forest')) \\\n",
    "    .withColumn('features', lit('13')) \\\n",
    "    .withColumn('note', lit('features derived from Nº15')) \\\n",
    "    .withColumn('elasticNetParam', lit('N/A')) \\\n",
    "    .withColumn('maxIter', lit('N/A')) \\\n",
    "    .withColumn('regParam', lit('N/A')) \\\n",
    "    .withColumn('maxDepth', lit('6')) \\\n",
    "    .withColumn('numTrees', lit('50'))"
   ]
  },
  {
   "cell_type": "code",
   "execution_count": 122,
   "metadata": {},
   "outputs": [
    {
     "data": {
      "application/vnd.jupyter.widget-view+json": {
       "model_id": "33287c0757b94e4fb62a27c37e6346fe",
       "version_major": 2,
       "version_minor": 0
      },
      "text/plain": [
       "VBox()"
      ]
     },
     "metadata": {},
     "output_type": "display_data"
    },
    {
     "data": {
      "application/vnd.jupyter.widget-view+json": {
       "model_id": "",
       "version_major": 2,
       "version_minor": 0
      },
      "text/plain": [
       "FloatProgress(value=0.0, bar_style='info', description='Progress:', layout=Layout(height='25px', width='50%'),…"
      ]
     },
     "metadata": {},
     "output_type": "display_data"
    },
    {
     "name": "stdout",
     "output_type": "stream",
     "text": [
      "+------------------+------------------+------------------+------------------+------------------+\n",
      "|                f1|          accuracy| weightedPrecision|    weightedRecall|               AUC|\n",
      "+------------------+------------------+------------------+------------------+------------------+\n",
      "|0.8084889296285297|0.8236351381711975|0.8094240821667913|0.8236351381711975|0.6849522237670034|\n",
      "+------------------+------------------+------------------+------------------+------------------+"
     ]
    }
   ],
   "source": [
    "# [Random Forest]    \n",
    "# 9 features (big data features)\n",
    "# hyperparams: maxDepth=6, numTrees=100\n",
    "metrics_17 = spark.read.json('s3n://amosvoron-sparkify/rfc-downgraded-metrics-9h.json')\n",
    "metrics_17.select('f1', 'accuracy', 'weightedPrecision', 'weightedRecall', 'AUC').show()"
   ]
  },
  {
   "cell_type": "code",
   "execution_count": 140,
   "metadata": {},
   "outputs": [
    {
     "data": {
      "application/vnd.jupyter.widget-view+json": {
       "model_id": "81cd925b816c4858b7aaac6b5cde123b",
       "version_major": 2,
       "version_minor": 0
      },
      "text/plain": [
       "VBox()"
      ]
     },
     "metadata": {},
     "output_type": "display_data"
    },
    {
     "data": {
      "application/vnd.jupyter.widget-view+json": {
       "model_id": "",
       "version_major": 2,
       "version_minor": 0
      },
      "text/plain": [
       "FloatProgress(value=0.0, bar_style='info', description='Progress:', layout=Layout(height='25px', width='50%'),…"
      ]
     },
     "metadata": {},
     "output_type": "display_data"
    }
   ],
   "source": [
    "metrics_17 = metrics_17 \\\n",
    "    .withColumn('Nº', lit('17')) \\\n",
    "    .withColumn('ML method', lit('Random Forest')) \\\n",
    "    .withColumn('features', lit('9')) \\\n",
    "    .withColumn('note', lit('features derived from Nº16')) \\\n",
    "    .withColumn('elasticNetParam', lit('N/A')) \\\n",
    "    .withColumn('maxIter', lit('N/A')) \\\n",
    "    .withColumn('regParam', lit('N/A')) \\\n",
    "    .withColumn('maxDepth', lit('6')) \\\n",
    "    .withColumn('numTrees', lit('20'))"
   ]
  },
  {
   "cell_type": "code",
   "execution_count": 123,
   "metadata": {},
   "outputs": [
    {
     "data": {
      "application/vnd.jupyter.widget-view+json": {
       "model_id": "a5915f30a0d64d1d94be7cc590cb417c",
       "version_major": 2,
       "version_minor": 0
      },
      "text/plain": [
       "VBox()"
      ]
     },
     "metadata": {},
     "output_type": "display_data"
    },
    {
     "data": {
      "application/vnd.jupyter.widget-view+json": {
       "model_id": "",
       "version_major": 2,
       "version_minor": 0
      },
      "text/plain": [
       "FloatProgress(value=0.0, bar_style='info', description='Progress:', layout=Layout(height='25px', width='50%'),…"
      ]
     },
     "metadata": {},
     "output_type": "display_data"
    },
    {
     "name": "stdout",
     "output_type": "stream",
     "text": [
      "+-----------------+------------------+------------------+------------------+------------------+\n",
      "|               f1|          accuracy| weightedPrecision|    weightedRecall|               AUC|\n",
      "+-----------------+------------------+------------------+------------------+------------------+\n",
      "|0.824815310854039|0.8339698944057515|0.8233021851946406|0.8339698944057515|0.7187978616553737|\n",
      "+-----------------+------------------+------------------+------------------+------------------+"
     ]
    }
   ],
   "source": [
    "# [Random Forest]    \n",
    "# 11 features (big data features)\n",
    "# hyperparams: maxDepth=6, numTrees=100\n",
    "metrics_18 = spark.read.json('s3n://amosvoron-sparkify/rfc-downgraded-metrics-11h.json')\n",
    "metrics_18.select('f1', 'accuracy', 'weightedPrecision', 'weightedRecall', 'AUC').show()"
   ]
  },
  {
   "cell_type": "code",
   "execution_count": 141,
   "metadata": {},
   "outputs": [
    {
     "data": {
      "application/vnd.jupyter.widget-view+json": {
       "model_id": "28a4da9607ef40399784c816d24f23cd",
       "version_major": 2,
       "version_minor": 0
      },
      "text/plain": [
       "VBox()"
      ]
     },
     "metadata": {},
     "output_type": "display_data"
    },
    {
     "data": {
      "application/vnd.jupyter.widget-view+json": {
       "model_id": "",
       "version_major": 2,
       "version_minor": 0
      },
      "text/plain": [
       "FloatProgress(value=0.0, bar_style='info', description='Progress:', layout=Layout(height='25px', width='50%'),…"
      ]
     },
     "metadata": {},
     "output_type": "display_data"
    }
   ],
   "source": [
    "metrics_18 = metrics_18 \\\n",
    "    .withColumn('Nº', lit('18')) \\\n",
    "    .withColumn('ML method', lit('Random Forest')) \\\n",
    "    .withColumn('features', lit('11')) \\\n",
    "    .withColumn('note', lit('features derived from Nº16')) \\\n",
    "    .withColumn('elasticNetParam', lit('N/A')) \\\n",
    "    .withColumn('maxIter', lit('N/A')) \\\n",
    "    .withColumn('regParam', lit('N/A')) \\\n",
    "    .withColumn('maxDepth', lit('6')) \\\n",
    "    .withColumn('numTrees', lit('50'))"
   ]
  },
  {
   "cell_type": "code",
   "execution_count": 129,
   "metadata": {},
   "outputs": [
    {
     "data": {
      "application/vnd.jupyter.widget-view+json": {
       "model_id": "e0dfa1c5bb8841b19586ef6a685ad58b",
       "version_major": 2,
       "version_minor": 0
      },
      "text/plain": [
       "VBox()"
      ]
     },
     "metadata": {},
     "output_type": "display_data"
    },
    {
     "data": {
      "application/vnd.jupyter.widget-view+json": {
       "model_id": "",
       "version_major": 2,
       "version_minor": 0
      },
      "text/plain": [
       "FloatProgress(value=0.0, bar_style='info', description='Progress:', layout=Layout(height='25px', width='50%'),…"
      ]
     },
     "metadata": {},
     "output_type": "display_data"
    },
    {
     "name": "stdout",
     "output_type": "stream",
     "text": [
      "+------------------+------------------+-----------------+------------------+------------------+\n",
      "|                f1|          accuracy|weightedPrecision|    weightedRecall|               AUC|\n",
      "+------------------+------------------+-----------------+------------------+------------------+\n",
      "|0.8148460890342518|0.8292518535160638|0.816390590460442|0.8292518535160638|0.6938103089160288|\n",
      "+------------------+------------------+-----------------+------------------+------------------+"
     ]
    }
   ],
   "source": [
    "# [GBT]    \n",
    "# 22 features (big data features)\n",
    "# hyperparams: default\n",
    "metrics_19 = spark.read.json('s3n://amosvoron-sparkify/rfc-downgraded-metrics-22-gbt.json')\n",
    "metrics_19.select('f1', 'accuracy', 'weightedPrecision', 'weightedRecall', 'AUC').show()"
   ]
  },
  {
   "cell_type": "code",
   "execution_count": 148,
   "metadata": {},
   "outputs": [
    {
     "data": {
      "application/vnd.jupyter.widget-view+json": {
       "model_id": "a51c576d04a64fc190b5e6b61d813e5f",
       "version_major": 2,
       "version_minor": 0
      },
      "text/plain": [
       "VBox()"
      ]
     },
     "metadata": {},
     "output_type": "display_data"
    },
    {
     "data": {
      "application/vnd.jupyter.widget-view+json": {
       "model_id": "",
       "version_major": 2,
       "version_minor": 0
      },
      "text/plain": [
       "FloatProgress(value=0.0, bar_style='info', description='Progress:', layout=Layout(height='25px', width='50%'),…"
      ]
     },
     "metadata": {},
     "output_type": "display_data"
    }
   ],
   "source": [
    "metrics_19 = metrics_19 \\\n",
    "    .withColumn('Nº', lit('19')) \\\n",
    "    .withColumn('ML method', lit('GBTClassifier')) \\\n",
    "    .withColumn('features', lit('22')) \\\n",
    "    .withColumn('note', lit('big dataset features**')) \\\n",
    "    .withColumn('elasticNetParam', lit('N/A')) \\\n",
    "    .withColumn('maxIter', lit('default')) \\\n",
    "    .withColumn('regParam', lit('N/A')) \\\n",
    "    .withColumn('maxDepth', lit('default')) \\\n",
    "    .withColumn('numTrees', lit('N/A'))"
   ]
  },
  {
   "cell_type": "code",
   "execution_count": 131,
   "metadata": {},
   "outputs": [
    {
     "data": {
      "application/vnd.jupyter.widget-view+json": {
       "model_id": "ad7ab920f96d4fbe880e2f6c80ddf045",
       "version_major": 2,
       "version_minor": 0
      },
      "text/plain": [
       "VBox()"
      ]
     },
     "metadata": {},
     "output_type": "display_data"
    },
    {
     "data": {
      "application/vnd.jupyter.widget-view+json": {
       "model_id": "",
       "version_major": 2,
       "version_minor": 0
      },
      "text/plain": [
       "FloatProgress(value=0.0, bar_style='info', description='Progress:', layout=Layout(height='25px', width='50%'),…"
      ]
     },
     "metadata": {},
     "output_type": "display_data"
    },
    {
     "name": "stdout",
     "output_type": "stream",
     "text": [
      "+------------------+------------------+------------------+------------------+------------------+\n",
      "|                f1|          accuracy| weightedPrecision|    weightedRecall|               AUC|\n",
      "+------------------+------------------+------------------+------------------+------------------+\n",
      "|0.8187400219006676|0.8281285104470906|0.8167142782328922|0.8281285104470905|0.7108387931871132|\n",
      "+------------------+------------------+------------------+------------------+------------------+"
     ]
    }
   ],
   "source": [
    "# [GBT]    \n",
    "# 22 features (big data features)\n",
    "# hyperparams: default\n",
    "metrics_20 = spark.read.json('s3n://amosvoron-sparkify/rfc-downgraded-metrics-22h-gbt.json')\n",
    "metrics_20.select('f1', 'accuracy', 'weightedPrecision', 'weightedRecall', 'AUC').show()"
   ]
  },
  {
   "cell_type": "code",
   "execution_count": 149,
   "metadata": {},
   "outputs": [
    {
     "data": {
      "application/vnd.jupyter.widget-view+json": {
       "model_id": "c10eda2f34574064ae7173e4e9b9e3c3",
       "version_major": 2,
       "version_minor": 0
      },
      "text/plain": [
       "VBox()"
      ]
     },
     "metadata": {},
     "output_type": "display_data"
    },
    {
     "data": {
      "application/vnd.jupyter.widget-view+json": {
       "model_id": "",
       "version_major": 2,
       "version_minor": 0
      },
      "text/plain": [
       "FloatProgress(value=0.0, bar_style='info', description='Progress:', layout=Layout(height='25px', width='50%'),…"
      ]
     },
     "metadata": {},
     "output_type": "display_data"
    }
   ],
   "source": [
    "metrics_20 = metrics_20 \\\n",
    "    .withColumn('Nº', lit('20')) \\\n",
    "    .withColumn('ML method', lit('GBTClassifier')) \\\n",
    "    .withColumn('features', lit('22')) \\\n",
    "    .withColumn('note', lit('big dataset features**')) \\\n",
    "    .withColumn('elasticNetParam', lit('N/A')) \\\n",
    "    .withColumn('maxIter', lit('200')) \\\n",
    "    .withColumn('regParam', lit('N/A')) \\\n",
    "    .withColumn('maxDepth', lit('5')) \\\n",
    "    .withColumn('numTrees', lit('N/A'))"
   ]
  },
  {
   "cell_type": "code",
   "execution_count": 133,
   "metadata": {},
   "outputs": [
    {
     "data": {
      "application/vnd.jupyter.widget-view+json": {
       "model_id": "86fb73b62c2b474bb232ed916dd776e1",
       "version_major": 2,
       "version_minor": 0
      },
      "text/plain": [
       "VBox()"
      ]
     },
     "metadata": {},
     "output_type": "display_data"
    },
    {
     "data": {
      "application/vnd.jupyter.widget-view+json": {
       "model_id": "",
       "version_major": 2,
       "version_minor": 0
      },
      "text/plain": [
       "FloatProgress(value=0.0, bar_style='info', description='Progress:', layout=Layout(height='25px', width='50%'),…"
      ]
     },
     "metadata": {},
     "output_type": "display_data"
    },
    {
     "name": "stdout",
     "output_type": "stream",
     "text": [
      "+------------------+------------------+------------------+------------------+------------------+\n",
      "|                f1|          accuracy| weightedPrecision|    weightedRecall|               AUC|\n",
      "+------------------+------------------+------------------+------------------+------------------+\n",
      "|0.8216342673718903|0.8290271849022691|0.8190860749874386|0.8290271849022692|0.7201242773554035|\n",
      "+------------------+------------------+------------------+------------------+------------------+"
     ]
    }
   ],
   "source": [
    "# [GBT]    \n",
    "# 12 features (big data features)\n",
    "# hyperparams: default\n",
    "metrics_21 = spark.read.json('s3n://amosvoron-sparkify/rfc-downgraded-metrics-12h-gbt.json')\n",
    "metrics_21.select('f1', 'accuracy', 'weightedPrecision', 'weightedRecall', 'AUC').show()"
   ]
  },
  {
   "cell_type": "code",
   "execution_count": 144,
   "metadata": {},
   "outputs": [
    {
     "data": {
      "application/vnd.jupyter.widget-view+json": {
       "model_id": "c4e0df65744d428995cc347a47db311d",
       "version_major": 2,
       "version_minor": 0
      },
      "text/plain": [
       "VBox()"
      ]
     },
     "metadata": {},
     "output_type": "display_data"
    },
    {
     "data": {
      "application/vnd.jupyter.widget-view+json": {
       "model_id": "",
       "version_major": 2,
       "version_minor": 0
      },
      "text/plain": [
       "FloatProgress(value=0.0, bar_style='info', description='Progress:', layout=Layout(height='25px', width='50%'),…"
      ]
     },
     "metadata": {},
     "output_type": "display_data"
    }
   ],
   "source": [
    "metrics_21 = metrics_21 \\\n",
    "    .withColumn('Nº', lit('21')) \\\n",
    "    .withColumn('ML method', lit('GBTClassifier')) \\\n",
    "    .withColumn('features', lit('12')) \\\n",
    "    .withColumn('note', lit('features derived from Nº20')) \\\n",
    "    .withColumn('elasticNetParam', lit('N/A')) \\\n",
    "    .withColumn('maxIter', lit('50')) \\\n",
    "    .withColumn('regParam', lit('N/A')) \\\n",
    "    .withColumn('maxDepth', lit('5')) \\\n",
    "    .withColumn('numTrees', lit('N/A'))"
   ]
  },
  {
   "cell_type": "code",
   "execution_count": 150,
   "metadata": {},
   "outputs": [
    {
     "data": {
      "application/vnd.jupyter.widget-view+json": {
       "model_id": "051819e683e24a0fb9a4509b11e1e47d",
       "version_major": 2,
       "version_minor": 0
      },
      "text/plain": [
       "VBox()"
      ]
     },
     "metadata": {},
     "output_type": "display_data"
    },
    {
     "data": {
      "application/vnd.jupyter.widget-view+json": {
       "model_id": "",
       "version_major": 2,
       "version_minor": 0
      },
      "text/plain": [
       "FloatProgress(value=0.0, bar_style='info', description='Progress:', layout=Layout(height='25px', width='50%'),…"
      ]
     },
     "metadata": {},
     "output_type": "display_data"
    }
   ],
   "source": [
    "metrics_downgraded = metrics_15.select('Nº', 'ML method', 'features', 'elasticNetParam', 'maxIter', 'regParam', \\\n",
    "            'maxDepth', 'numTrees', 'f1', 'note') \\\n",
    "    .union(metrics_16.select('Nº', 'ML method', 'features', 'elasticNetParam', 'maxIter', 'regParam', \\\n",
    "            'maxDepth', 'numTrees', 'f1', 'note') ) \\\n",
    "    .union(metrics_17.select('Nº', 'ML method', 'features', 'elasticNetParam', 'maxIter', 'regParam', \\\n",
    "            'maxDepth', 'numTrees', 'f1', 'note') ) \\\n",
    "    .union(metrics_18.select('Nº', 'ML method', 'features', 'elasticNetParam', 'maxIter', 'regParam', \\\n",
    "            'maxDepth', 'numTrees', 'f1', 'note') ) \\\n",
    "    .union(metrics_19.select('Nº', 'ML method', 'features', 'elasticNetParam', 'maxIter', 'regParam', \\\n",
    "            'maxDepth', 'numTrees', 'f1', 'note') ) \\\n",
    "    .union(metrics_20.select('Nº', 'ML method', 'features', 'elasticNetParam', 'maxIter', 'regParam', \\\n",
    "            'maxDepth', 'numTrees', 'f1', 'note') ) \\\n",
    "    .union(metrics_21.select('Nº', 'ML method', 'features', 'elasticNetParam', 'maxIter', 'regParam', \\\n",
    "            'maxDepth', 'numTrees', 'f1', 'note') )"
   ]
  },
  {
   "cell_type": "code",
   "execution_count": 151,
   "metadata": {},
   "outputs": [
    {
     "data": {
      "application/vnd.jupyter.widget-view+json": {
       "model_id": "ea81cd26bae34055b1ffca3276f642fd",
       "version_major": 2,
       "version_minor": 0
      },
      "text/plain": [
       "VBox()"
      ]
     },
     "metadata": {},
     "output_type": "display_data"
    },
    {
     "data": {
      "application/vnd.jupyter.widget-view+json": {
       "model_id": "",
       "version_major": 2,
       "version_minor": 0
      },
      "text/plain": [
       "FloatProgress(value=0.0, bar_style='info', description='Progress:', layout=Layout(height='25px', width='50%'),…"
      ]
     },
     "metadata": {},
     "output_type": "display_data"
    },
    {
     "name": "stdout",
     "output_type": "stream",
     "text": [
      "+---+-------------+--------+---------------+-------+--------+--------+--------+------------------+--------------------------+\n",
      "|Nº |ML method    |features|elasticNetParam|maxIter|regParam|maxDepth|numTrees|f1                |note                      |\n",
      "+---+-------------+--------+---------------+-------+--------+--------+--------+------------------+--------------------------+\n",
      "|15 |Random Forest|22      |N/A            |N/A    |N/A     |6       |100     |0.8137938477161866|big dataset features**    |\n",
      "|16 |Random Forest|13      |N/A            |N/A    |N/A     |6       |50      |0.8243558706304979|features derived from Nº15|\n",
      "|17 |Random Forest|9       |N/A            |N/A    |N/A     |6       |20      |0.8084889296285297|features derived from Nº16|\n",
      "|18 |Random Forest|11      |N/A            |N/A    |N/A     |6       |50      |0.824815310854039 |features derived from Nº16|\n",
      "|19 |GBTClassifier|22      |N/A            |default|N/A     |default |N/A     |0.8148460890342518|big dataset features**    |\n",
      "|20 |GBTClassifier|22      |N/A            |200    |N/A     |5       |N/A     |0.8187400219006676|big dataset features**    |\n",
      "|21 |GBTClassifier|12      |N/A            |50     |N/A     |5       |N/A     |0.8216342673718903|features derived from Nº20|\n",
      "+---+-------------+--------+---------------+-------+--------+--------+--------+------------------+--------------------------+"
     ]
    }
   ],
   "source": [
    "metrics_downgraded.show(20, False)"
   ]
  },
  {
   "cell_type": "markdown",
   "metadata": {},
   "source": [
    "### Best model for downgraded users"
   ]
  },
  {
   "cell_type": "code",
   "execution_count": 152,
   "metadata": {},
   "outputs": [
    {
     "data": {
      "application/vnd.jupyter.widget-view+json": {
       "model_id": "dde1dc67ab024ba9a2f18c307051fd9c",
       "version_major": 2,
       "version_minor": 0
      },
      "text/plain": [
       "VBox()"
      ]
     },
     "metadata": {},
     "output_type": "display_data"
    },
    {
     "data": {
      "application/vnd.jupyter.widget-view+json": {
       "model_id": "",
       "version_major": 2,
       "version_minor": 0
      },
      "text/plain": [
       "FloatProgress(value=0.0, bar_style='info', description='Progress:', layout=Layout(height='25px', width='50%'),…"
      ]
     },
     "metadata": {},
     "output_type": "display_data"
    },
    {
     "name": "stdout",
     "output_type": "stream",
     "text": [
      "+-----------------+------------------+------------------+------------------+------------------+\n",
      "|               f1|          accuracy| weightedPrecision|    weightedRecall|               AUC|\n",
      "+-----------------+------------------+------------------+------------------+------------------+\n",
      "|0.824815310854039|0.8339698944057515|0.8233021851946406|0.8339698944057515|0.7187978616553737|\n",
      "+-----------------+------------------+------------------+------------------+------------------+"
     ]
    }
   ],
   "source": [
    "metrics_18.select('f1', 'accuracy', 'weightedPrecision', 'weightedRecall', 'AUC').show()"
   ]
  },
  {
   "cell_type": "code",
   "execution_count": 155,
   "metadata": {},
   "outputs": [
    {
     "data": {
      "application/vnd.jupyter.widget-view+json": {
       "model_id": "a5a34b32578f4864b243d7edd5d4458d",
       "version_major": 2,
       "version_minor": 0
      },
      "text/plain": [
       "VBox()"
      ]
     },
     "metadata": {},
     "output_type": "display_data"
    },
    {
     "data": {
      "application/vnd.jupyter.widget-view+json": {
       "model_id": "",
       "version_major": 2,
       "version_minor": 0
      },
      "text/plain": [
       "FloatProgress(value=0.0, bar_style='info', description='Progress:', layout=Layout(height='25px', width='50%'),…"
      ]
     },
     "metadata": {},
     "output_type": "display_data"
    },
    {
     "name": "stdout",
     "output_type": "stream",
     "text": [
      "+-----------------+----------+\n",
      "|feature          |importance|\n",
      "+-----------------+----------+\n",
      "|NonSongCount     |0.264593  |\n",
      "|RollAdvertCount  |0.237722  |\n",
      "|RollAdvertPerHour|0.111845  |\n",
      "|LogCount         |0.097003  |\n",
      "|LogoutCount      |0.083322  |\n",
      "|TotalSongLength  |0.051403  |\n",
      "|SongCount        |0.049966  |\n",
      "|ThumbsDownCount  |0.044441  |\n",
      "|UniqueSongCount  |0.029354  |\n",
      "|HomePerHour      |0.015263  |\n",
      "|AddFriendCount   |0.015088  |\n",
      "+-----------------+----------+"
     ]
    }
   ],
   "source": [
    "importances_18 = spark.read.json('s3n://amosvoron-sparkify/rfc-downgraded-feature-importances-11h.json')\n",
    "importances_18.sort(desc('importance')).select('feature', round('importance', 6).alias('importance')).show(30, False)"
   ]
  },
  {
   "cell_type": "code",
   "execution_count": null,
   "metadata": {},
   "outputs": [],
   "source": []
  }
 ],
 "metadata": {
  "kernelspec": {
   "display_name": "PySpark",
   "language": "",
   "name": "pysparkkernel"
  },
  "language_info": {
   "codemirror_mode": {
    "name": "python",
    "version": 2
   },
   "mimetype": "text/x-python",
   "name": "pyspark",
   "pygments_lexer": "python2"
  }
 },
 "nbformat": 4,
 "nbformat_minor": 4
}
