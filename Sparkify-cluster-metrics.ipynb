{
 "cells": [
  {
   "cell_type": "code",
   "execution_count": 1,
   "metadata": {},
   "outputs": [
    {
     "data": {
      "application/vnd.jupyter.widget-view+json": {
       "model_id": "4376fb14c0ce47bdb593a6735d03dae4",
       "version_major": 2,
       "version_minor": 0
      },
      "text/plain": [
       "VBox()"
      ]
     },
     "metadata": {},
     "output_type": "display_data"
    },
    {
     "name": "stdout",
     "output_type": "stream",
     "text": [
      "Starting Spark application\n"
     ]
    },
    {
     "data": {
      "text/html": [
       "<table>\n",
       "<tr><th>ID</th><th>YARN Application ID</th><th>Kind</th><th>State</th><th>Spark UI</th><th>Driver log</th><th>Current session?</th></tr><tr><td>43</td><td>application_1597998755054_0079</td><td>pyspark</td><td>idle</td><td><a target=\"_blank\" href=\"http://ip-172-31-39-107.us-east-2.compute.internal:20888/proxy/application_1597998755054_0079/\">Link</a></td><td><a target=\"_blank\" href=\"http://ip-172-31-47-165.us-east-2.compute.internal:8042/node/containerlogs/container_1597998755054_0079_01_000001/livy\">Link</a></td><td>✔</td></tr></table>"
      ],
      "text/plain": [
       "<IPython.core.display.HTML object>"
      ]
     },
     "metadata": {},
     "output_type": "display_data"
    },
    {
     "data": {
      "application/vnd.jupyter.widget-view+json": {
       "model_id": "",
       "version_major": 2,
       "version_minor": 0
      },
      "text/plain": [
       "FloatProgress(value=0.0, bar_style='info', description='Progress:', layout=Layout(height='25px', width='50%'),…"
      ]
     },
     "metadata": {},
     "output_type": "display_data"
    },
    {
     "name": "stdout",
     "output_type": "stream",
     "text": [
      "SparkSession available as 'spark'.\n"
     ]
    },
    {
     "data": {
      "application/vnd.jupyter.widget-view+json": {
       "model_id": "",
       "version_major": 2,
       "version_minor": 0
      },
      "text/plain": [
       "FloatProgress(value=0.0, bar_style='info', description='Progress:', layout=Layout(height='25px', width='50%'),…"
      ]
     },
     "metadata": {},
     "output_type": "display_data"
    },
    {
     "name": "stdout",
     "output_type": "stream",
     "text": [
      "Welcome to my EMR Notebook!"
     ]
    }
   ],
   "source": [
    "print(\"Welcome to my EMR Notebook!\")"
   ]
  },
  {
   "cell_type": "code",
   "execution_count": 2,
   "metadata": {},
   "outputs": [
    {
     "data": {
      "application/vnd.jupyter.widget-view+json": {
       "model_id": "09ae46008d26493a800bba1c8d86b47f",
       "version_major": 2,
       "version_minor": 0
      },
      "text/plain": [
       "VBox()"
      ]
     },
     "metadata": {},
     "output_type": "display_data"
    },
    {
     "data": {
      "application/vnd.jupyter.widget-view+json": {
       "model_id": "",
       "version_major": 2,
       "version_minor": 0
      },
      "text/plain": [
       "FloatProgress(value=0.0, bar_style='info', description='Progress:', layout=Layout(height='25px', width='50%'),…"
      ]
     },
     "metadata": {},
     "output_type": "display_data"
    }
   ],
   "source": [
    "# Import libraries\n",
    "from pyspark.sql.types import *\n",
    "from pyspark.sql import SparkSession\n",
    "from pyspark.sql.functions import isnan, count, when, col, desc, udf, col, sort_array, asc, \\\n",
    "                                  avg, split, min, max, round, lit, mean\n",
    "from pyspark.sql.types import FloatType"
   ]
  },
  {
   "cell_type": "markdown",
   "metadata": {},
   "source": [
    "# Cluster Results"
   ]
  },
  {
   "cell_type": "markdown",
   "metadata": {},
   "source": [
    "## Cancelled users"
   ]
  },
  {
   "cell_type": "code",
   "execution_count": 5,
   "metadata": {},
   "outputs": [
    {
     "data": {
      "application/vnd.jupyter.widget-view+json": {
       "model_id": "00131336ed79463a8b27ae26e0971bef",
       "version_major": 2,
       "version_minor": 0
      },
      "text/plain": [
       "VBox()"
      ]
     },
     "metadata": {},
     "output_type": "display_data"
    },
    {
     "data": {
      "application/vnd.jupyter.widget-view+json": {
       "model_id": "",
       "version_major": 2,
       "version_minor": 0
      },
      "text/plain": [
       "FloatProgress(value=0.0, bar_style='info', description='Progress:', layout=Layout(height='25px', width='50%'),…"
      ]
     },
     "metadata": {},
     "output_type": "display_data"
    },
    {
     "name": "stdout",
     "output_type": "stream",
     "text": [
      "+-----------------+------------------+------------------+------------------+------------------+\n",
      "|               f1|          accuracy| weightedPrecision|    weightedRecall|               AUC|\n",
      "+-----------------+------------------+------------------+------------------+------------------+\n",
      "|0.774112692852762|0.8126263760952595|0.8012311289019549|0.8126263760952596|0.6116784733854458|\n",
      "+-----------------+------------------+------------------+------------------+------------------+"
     ]
    }
   ],
   "source": [
    "# [Logistic Regression]    \n",
    "# 8 mini data set features\n",
    "# hyperparams: elasticNetParam=0.0, maxIter=10, regParam=0.1\n",
    "metrics_01 = spark.read.json('s3n://amosvoron-sparkify/lr-metrics.json')\n",
    "metrics_01.select('f1', 'accuracy', 'weightedPrecision', 'weightedRecall', 'AUC').show()"
   ]
  },
  {
   "cell_type": "code",
   "execution_count": 6,
   "metadata": {},
   "outputs": [
    {
     "data": {
      "application/vnd.jupyter.widget-view+json": {
       "model_id": "5f44ef1b0089434890d93001321857c3",
       "version_major": 2,
       "version_minor": 0
      },
      "text/plain": [
       "VBox()"
      ]
     },
     "metadata": {},
     "output_type": "display_data"
    },
    {
     "data": {
      "application/vnd.jupyter.widget-view+json": {
       "model_id": "",
       "version_major": 2,
       "version_minor": 0
      },
      "text/plain": [
       "FloatProgress(value=0.0, bar_style='info', description='Progress:', layout=Layout(height='25px', width='50%'),…"
      ]
     },
     "metadata": {},
     "output_type": "display_data"
    }
   ],
   "source": [
    "metrics_01 = metrics_01 \\\n",
    "    .withColumn('Nº', lit('1')) \\\n",
    "    .withColumn('ML method', lit('Logistic Regression')) \\\n",
    "    .withColumn('features', lit('8')) \\\n",
    "    .withColumn('note', lit('mini dataset features')) \\\n",
    "    .withColumn('elasticNetParam', lit('0.0')) \\\n",
    "    .withColumn('maxIter', lit('10')) \\\n",
    "    .withColumn('regParam', lit('0.1')) \\\n",
    "    .withColumn('maxDepth', lit('N/A')) \\\n",
    "    .withColumn('numTrees', lit('N/A'))"
   ]
  },
  {
   "cell_type": "code",
   "execution_count": 7,
   "metadata": {},
   "outputs": [
    {
     "data": {
      "application/vnd.jupyter.widget-view+json": {
       "model_id": "538d807ef65043c8bc4636b392e6d470",
       "version_major": 2,
       "version_minor": 0
      },
      "text/plain": [
       "VBox()"
      ]
     },
     "metadata": {},
     "output_type": "display_data"
    },
    {
     "data": {
      "application/vnd.jupyter.widget-view+json": {
       "model_id": "",
       "version_major": 2,
       "version_minor": 0
      },
      "text/plain": [
       "FloatProgress(value=0.0, bar_style='info', description='Progress:', layout=Layout(height='25px', width='50%'),…"
      ]
     },
     "metadata": {},
     "output_type": "display_data"
    },
    {
     "name": "stdout",
     "output_type": "stream",
     "text": [
      "+--------+--------+--------+-----------------+--------------+\n",
      "|     AUC|accuracy|      f1|weightedPrecision|weightedRecall|\n",
      "+--------+--------+--------+-----------------+--------------+\n",
      "|0.688967|0.853741|0.830521|         0.859686|      0.853741|\n",
      "+--------+--------+--------+-----------------+--------------+"
     ]
    }
   ],
   "source": [
    "# [Random Forest]    \n",
    "# 29 features (from mini data set)\n",
    "# hyperparams: default\n",
    "# Attention: The result here have been accidently overwritten in S3, hence the screenshot values are used.\n",
    "values_02 = [0.688967, 0.853741, 0.830521, 0.859686, 0.853741] \n",
    "columns_02 = ['AUC', 'accuracy', 'f1', 'weightedPrecision', 'weightedRecall']\n",
    "rdd = spark.sparkContext.parallelize([values_02])\n",
    "metrics_02 = rdd.toDF(columns_02) \n",
    "metrics_02.show()"
   ]
  },
  {
   "cell_type": "code",
   "execution_count": 8,
   "metadata": {},
   "outputs": [
    {
     "data": {
      "application/vnd.jupyter.widget-view+json": {
       "model_id": "4bacec9740cf4f81b53dfab9f1782b44",
       "version_major": 2,
       "version_minor": 0
      },
      "text/plain": [
       "VBox()"
      ]
     },
     "metadata": {},
     "output_type": "display_data"
    },
    {
     "data": {
      "application/vnd.jupyter.widget-view+json": {
       "model_id": "",
       "version_major": 2,
       "version_minor": 0
      },
      "text/plain": [
       "FloatProgress(value=0.0, bar_style='info', description='Progress:', layout=Layout(height='25px', width='50%'),…"
      ]
     },
     "metadata": {},
     "output_type": "display_data"
    }
   ],
   "source": [
    "metrics_02 = metrics_02 \\\n",
    "    .withColumn('Nº', lit('2')) \\\n",
    "    .withColumn('ML method', lit('Random Forest')) \\\n",
    "    .withColumn('features', lit('29')) \\\n",
    "    .withColumn('note', lit('mini dataset features')) \\\n",
    "    .withColumn('elasticNetParam', lit('N/A')) \\\n",
    "    .withColumn('maxIter', lit('N/A')) \\\n",
    "    .withColumn('regParam', lit('N/A')) \\\n",
    "    .withColumn('maxDepth', lit('default')) \\\n",
    "    .withColumn('numTrees', lit('default'))"
   ]
  },
  {
   "cell_type": "code",
   "execution_count": 9,
   "metadata": {},
   "outputs": [
    {
     "data": {
      "application/vnd.jupyter.widget-view+json": {
       "model_id": "d9d60e69c76246e08897958ba044fd12",
       "version_major": 2,
       "version_minor": 0
      },
      "text/plain": [
       "VBox()"
      ]
     },
     "metadata": {},
     "output_type": "display_data"
    },
    {
     "data": {
      "application/vnd.jupyter.widget-view+json": {
       "model_id": "",
       "version_major": 2,
       "version_minor": 0
      },
      "text/plain": [
       "FloatProgress(value=0.0, bar_style='info', description='Progress:', layout=Layout(height='25px', width='50%'),…"
      ]
     },
     "metadata": {},
     "output_type": "display_data"
    },
    {
     "name": "stdout",
     "output_type": "stream",
     "text": [
      "+------------------+------------------+------------------+------------------+------------------+\n",
      "|                f1|          accuracy| weightedPrecision|    weightedRecall|               AUC|\n",
      "+------------------+------------------+------------------+------------------+------------------+\n",
      "|0.8697473174840196|0.8782296113232981|0.8742039209639965|0.8782296113232981|0.7698629141075749|\n",
      "+------------------+------------------+------------------+------------------+------------------+"
     ]
    }
   ],
   "source": [
    "# [Random Forest]    \n",
    "# 3 features (chosen by analysis: AvgSessionGap, SessionCount, LogoutPerHour)\n",
    "# hyperparams: maxDepth=6, numTrees=20\n",
    "metrics_03 = spark.read.json('s3n://amosvoron-sparkify/rfc-metrics-test.json')\n",
    "metrics_03.select('f1', 'accuracy', 'weightedPrecision', 'weightedRecall', 'AUC').show()"
   ]
  },
  {
   "cell_type": "code",
   "execution_count": 10,
   "metadata": {},
   "outputs": [
    {
     "data": {
      "application/vnd.jupyter.widget-view+json": {
       "model_id": "729830dc99054d9db69dbbae4eea226d",
       "version_major": 2,
       "version_minor": 0
      },
      "text/plain": [
       "VBox()"
      ]
     },
     "metadata": {},
     "output_type": "display_data"
    },
    {
     "data": {
      "application/vnd.jupyter.widget-view+json": {
       "model_id": "",
       "version_major": 2,
       "version_minor": 0
      },
      "text/plain": [
       "FloatProgress(value=0.0, bar_style='info', description='Progress:', layout=Layout(height='25px', width='50%'),…"
      ]
     },
     "metadata": {},
     "output_type": "display_data"
    }
   ],
   "source": [
    "metrics_03 = metrics_03 \\\n",
    "    .withColumn('Nº', lit('3')) \\\n",
    "    .withColumn('ML method', lit('Random Forest')) \\\n",
    "    .withColumn('features', lit('3')) \\\n",
    "    .withColumn('note', lit('*')) \\\n",
    "    .withColumn('elasticNetParam', lit('N/A')) \\\n",
    "    .withColumn('maxIter', lit('N/A')) \\\n",
    "    .withColumn('regParam', lit('N/A')) \\\n",
    "    .withColumn('maxDepth', lit('6')) \\\n",
    "    .withColumn('numTrees', lit('20'))"
   ]
  },
  {
   "cell_type": "code",
   "execution_count": 11,
   "metadata": {},
   "outputs": [
    {
     "data": {
      "application/vnd.jupyter.widget-view+json": {
       "model_id": "39a709c217374f72b837dcfa4fe89464",
       "version_major": 2,
       "version_minor": 0
      },
      "text/plain": [
       "VBox()"
      ]
     },
     "metadata": {},
     "output_type": "display_data"
    },
    {
     "data": {
      "application/vnd.jupyter.widget-view+json": {
       "model_id": "",
       "version_major": 2,
       "version_minor": 0
      },
      "text/plain": [
       "FloatProgress(value=0.0, bar_style='info', description='Progress:', layout=Layout(height='25px', width='50%'),…"
      ]
     },
     "metadata": {},
     "output_type": "display_data"
    },
    {
     "name": "stdout",
     "output_type": "stream",
     "text": [
      "+------------------+------------------+-----------------+------------------+------------------+\n",
      "|                f1|          accuracy|weightedPrecision|    weightedRecall|               AUC|\n",
      "+------------------+------------------+-----------------+------------------+------------------+\n",
      "|0.8386651060216977|0.8577847674679847|0.858875141192138|0.8577847674679848|0.7055267657733111|\n",
      "+------------------+------------------+-----------------+------------------+------------------+"
     ]
    }
   ],
   "source": [
    "# [Random Forest]    \n",
    "# 22 features\n",
    "# hyperparams: maxDepth=6, numTrees=20\n",
    "metrics_04 = spark.read.json('s3n://amosvoron-sparkify/rfc-metrics-f22.json')\n",
    "metrics_04.select('f1', 'accuracy', 'weightedPrecision', 'weightedRecall', 'AUC').show()"
   ]
  },
  {
   "cell_type": "code",
   "execution_count": 12,
   "metadata": {},
   "outputs": [
    {
     "data": {
      "application/vnd.jupyter.widget-view+json": {
       "model_id": "02a72507db1e4d1b8b2fb12a9f06745a",
       "version_major": 2,
       "version_minor": 0
      },
      "text/plain": [
       "VBox()"
      ]
     },
     "metadata": {},
     "output_type": "display_data"
    },
    {
     "data": {
      "application/vnd.jupyter.widget-view+json": {
       "model_id": "",
       "version_major": 2,
       "version_minor": 0
      },
      "text/plain": [
       "FloatProgress(value=0.0, bar_style='info', description='Progress:', layout=Layout(height='25px', width='50%'),…"
      ]
     },
     "metadata": {},
     "output_type": "display_data"
    }
   ],
   "source": [
    "metrics_04 = metrics_04 \\\n",
    "    .withColumn('Nº', lit('4')) \\\n",
    "    .withColumn('ML method', lit('Random Forest')) \\\n",
    "    .withColumn('features', lit('22')) \\\n",
    "    .withColumn('note', lit('big dataset features')) \\\n",
    "    .withColumn('elasticNetParam', lit('N/A')) \\\n",
    "    .withColumn('maxIter', lit('N/A')) \\\n",
    "    .withColumn('regParam', lit('N/A')) \\\n",
    "    .withColumn('maxDepth', lit('6')) \\\n",
    "    .withColumn('numTrees', lit('20'))"
   ]
  },
  {
   "cell_type": "code",
   "execution_count": 13,
   "metadata": {},
   "outputs": [
    {
     "data": {
      "application/vnd.jupyter.widget-view+json": {
       "model_id": "6ea2525f9ffa4eb68ffee5f351f045f0",
       "version_major": 2,
       "version_minor": 0
      },
      "text/plain": [
       "VBox()"
      ]
     },
     "metadata": {},
     "output_type": "display_data"
    },
    {
     "data": {
      "application/vnd.jupyter.widget-view+json": {
       "model_id": "",
       "version_major": 2,
       "version_minor": 0
      },
      "text/plain": [
       "FloatProgress(value=0.0, bar_style='info', description='Progress:', layout=Layout(height='25px', width='50%'),…"
      ]
     },
     "metadata": {},
     "output_type": "display_data"
    },
    {
     "name": "stdout",
     "output_type": "stream",
     "text": [
      "+-----------------+------------------+------------------+------------------+------------------+\n",
      "|               f1|          accuracy| weightedPrecision|    weightedRecall|               AUC|\n",
      "+-----------------+------------------+------------------+------------------+------------------+\n",
      "|0.858039909315744|0.8696922039991013|0.8661328993108217|0.8696922039991013|0.7457577238042062|\n",
      "+-----------------+------------------+------------------+------------------+------------------+"
     ]
    }
   ],
   "source": [
    "# [Random Forest]    \n",
    "# 14 features (reduction from f22)\n",
    "# hyperparams: maxDepth=6, numTrees=20\n",
    "metrics_05 = spark.read.json('s3n://amosvoron-sparkify/rfc-metrics-f14.json')\n",
    "metrics_05.select('f1', 'accuracy', 'weightedPrecision', 'weightedRecall', 'AUC').show()"
   ]
  },
  {
   "cell_type": "code",
   "execution_count": 14,
   "metadata": {},
   "outputs": [
    {
     "data": {
      "application/vnd.jupyter.widget-view+json": {
       "model_id": "0a5c40015b3944d4a3fb0cd72642455b",
       "version_major": 2,
       "version_minor": 0
      },
      "text/plain": [
       "VBox()"
      ]
     },
     "metadata": {},
     "output_type": "display_data"
    },
    {
     "data": {
      "application/vnd.jupyter.widget-view+json": {
       "model_id": "",
       "version_major": 2,
       "version_minor": 0
      },
      "text/plain": [
       "FloatProgress(value=0.0, bar_style='info', description='Progress:', layout=Layout(height='25px', width='50%'),…"
      ]
     },
     "metadata": {},
     "output_type": "display_data"
    }
   ],
   "source": [
    "metrics_05 = metrics_05 \\\n",
    "    .withColumn('Nº', lit('5')) \\\n",
    "    .withColumn('ML method', lit('Random Forest')) \\\n",
    "    .withColumn('features', lit('14')) \\\n",
    "    .withColumn('note', lit('features derived from Nº4')) \\\n",
    "    .withColumn('elasticNetParam', lit('N/A')) \\\n",
    "    .withColumn('maxIter', lit('N/A')) \\\n",
    "    .withColumn('regParam', lit('N/A')) \\\n",
    "    .withColumn('maxDepth', lit('6')) \\\n",
    "    .withColumn('numTrees', lit('20'))"
   ]
  },
  {
   "cell_type": "code",
   "execution_count": 15,
   "metadata": {},
   "outputs": [
    {
     "data": {
      "application/vnd.jupyter.widget-view+json": {
       "model_id": "9091cbfd98d74f8ab23d56ed8f563ecb",
       "version_major": 2,
       "version_minor": 0
      },
      "text/plain": [
       "VBox()"
      ]
     },
     "metadata": {},
     "output_type": "display_data"
    },
    {
     "data": {
      "application/vnd.jupyter.widget-view+json": {
       "model_id": "",
       "version_major": 2,
       "version_minor": 0
      },
      "text/plain": [
       "FloatProgress(value=0.0, bar_style='info', description='Progress:', layout=Layout(height='25px', width='50%'),…"
      ]
     },
     "metadata": {},
     "output_type": "display_data"
    },
    {
     "name": "stdout",
     "output_type": "stream",
     "text": [
      "+------------------+----------------+-----------------+----------------+------------------+\n",
      "|                f1|        accuracy|weightedPrecision|  weightedRecall|               AUC|\n",
      "+------------------+----------------+-----------------+----------------+------------------+\n",
      "|0.8608286816841433|0.87059087845428|0.865639943751543|0.87059087845428|0.7552823434301136|\n",
      "+------------------+----------------+-----------------+----------------+------------------+"
     ]
    }
   ],
   "source": [
    "# [Random Forest]    \n",
    "# 9 features (reduction from f14)\n",
    "# hyperparams: maxDepth=6, numTrees=20\n",
    "metrics_06 = spark.read.json('s3n://amosvoron-sparkify/rfc-metrics-f9.json')\n",
    "metrics_06.select('f1', 'accuracy', 'weightedPrecision', 'weightedRecall', 'AUC').show()"
   ]
  },
  {
   "cell_type": "code",
   "execution_count": 16,
   "metadata": {},
   "outputs": [
    {
     "data": {
      "application/vnd.jupyter.widget-view+json": {
       "model_id": "fd7e740f94ee4985b45892f117858bf0",
       "version_major": 2,
       "version_minor": 0
      },
      "text/plain": [
       "VBox()"
      ]
     },
     "metadata": {},
     "output_type": "display_data"
    },
    {
     "data": {
      "application/vnd.jupyter.widget-view+json": {
       "model_id": "",
       "version_major": 2,
       "version_minor": 0
      },
      "text/plain": [
       "FloatProgress(value=0.0, bar_style='info', description='Progress:', layout=Layout(height='25px', width='50%'),…"
      ]
     },
     "metadata": {},
     "output_type": "display_data"
    }
   ],
   "source": [
    "metrics_06 = metrics_06 \\\n",
    "    .withColumn('Nº', lit('6')) \\\n",
    "    .withColumn('ML method', lit('Random Forest')) \\\n",
    "    .withColumn('features', lit('9')) \\\n",
    "    .withColumn('note', lit('features derived from Nº5')) \\\n",
    "    .withColumn('elasticNetParam', lit('N/A')) \\\n",
    "    .withColumn('maxIter', lit('N/A')) \\\n",
    "    .withColumn('regParam', lit('N/A')) \\\n",
    "    .withColumn('maxDepth', lit('6')) \\\n",
    "    .withColumn('numTrees', lit('20'))"
   ]
  },
  {
   "cell_type": "code",
   "execution_count": 17,
   "metadata": {},
   "outputs": [
    {
     "data": {
      "application/vnd.jupyter.widget-view+json": {
       "model_id": "5710cf185fd9413a80d904f940c5fc39",
       "version_major": 2,
       "version_minor": 0
      },
      "text/plain": [
       "VBox()"
      ]
     },
     "metadata": {},
     "output_type": "display_data"
    },
    {
     "data": {
      "application/vnd.jupyter.widget-view+json": {
       "model_id": "",
       "version_major": 2,
       "version_minor": 0
      },
      "text/plain": [
       "FloatProgress(value=0.0, bar_style='info', description='Progress:', layout=Layout(height='25px', width='50%'),…"
      ]
     },
     "metadata": {},
     "output_type": "display_data"
    },
    {
     "name": "stdout",
     "output_type": "stream",
     "text": [
      "+------------------+------------------+------------------+------------------+-----------------+\n",
      "|                f1|          accuracy| weightedPrecision|    weightedRecall|              AUC|\n",
      "+------------------+------------------+------------------+------------------+-----------------+\n",
      "|0.8682717979279954|0.8777802740957088|0.8745521507864166|0.8777802740957088|0.764206012702401|\n",
      "+------------------+------------------+------------------+------------------+-----------------+"
     ]
    }
   ],
   "source": [
    "# [Random Forest]    \n",
    "# 9 features (reduction from f14)\n",
    "# hyperparams: maxDepth=6, numTrees=50\n",
    "metrics_07 = spark.read.json('s3n://amosvoron-sparkify/rfc-metrics-f9h.json')\n",
    "metrics_07.select('f1', 'accuracy', 'weightedPrecision', 'weightedRecall', 'AUC').show()"
   ]
  },
  {
   "cell_type": "code",
   "execution_count": 18,
   "metadata": {},
   "outputs": [
    {
     "data": {
      "application/vnd.jupyter.widget-view+json": {
       "model_id": "c51233a326a74350b046ee15330cdc90",
       "version_major": 2,
       "version_minor": 0
      },
      "text/plain": [
       "VBox()"
      ]
     },
     "metadata": {},
     "output_type": "display_data"
    },
    {
     "data": {
      "application/vnd.jupyter.widget-view+json": {
       "model_id": "",
       "version_major": 2,
       "version_minor": 0
      },
      "text/plain": [
       "FloatProgress(value=0.0, bar_style='info', description='Progress:', layout=Layout(height='25px', width='50%'),…"
      ]
     },
     "metadata": {},
     "output_type": "display_data"
    }
   ],
   "source": [
    "metrics_07 = metrics_07 \\\n",
    "    .withColumn('Nº', lit('7')) \\\n",
    "    .withColumn('ML method', lit('Random Forest')) \\\n",
    "    .withColumn('features', lit('9')) \\\n",
    "    .withColumn('note', lit('features derived from Nº5')) \\\n",
    "    .withColumn('elasticNetParam', lit('N/A')) \\\n",
    "    .withColumn('maxIter', lit('N/A')) \\\n",
    "    .withColumn('regParam', lit('N/A')) \\\n",
    "    .withColumn('maxDepth', lit('6')) \\\n",
    "    .withColumn('numTrees', lit('50'))"
   ]
  },
  {
   "cell_type": "code",
   "execution_count": 19,
   "metadata": {},
   "outputs": [
    {
     "data": {
      "application/vnd.jupyter.widget-view+json": {
       "model_id": "90f60e84cfbb449b8ec992df5464b6b8",
       "version_major": 2,
       "version_minor": 0
      },
      "text/plain": [
       "VBox()"
      ]
     },
     "metadata": {},
     "output_type": "display_data"
    },
    {
     "data": {
      "application/vnd.jupyter.widget-view+json": {
       "model_id": "",
       "version_major": 2,
       "version_minor": 0
      },
      "text/plain": [
       "FloatProgress(value=0.0, bar_style='info', description='Progress:', layout=Layout(height='25px', width='50%'),…"
      ]
     },
     "metadata": {},
     "output_type": "display_data"
    },
    {
     "name": "stdout",
     "output_type": "stream",
     "text": [
      "+------------------+-----------------+------------------+------------------+------------------+\n",
      "|                f1|         accuracy| weightedPrecision|    weightedRecall|               AUC|\n",
      "+------------------+-----------------+------------------+------------------+------------------+\n",
      "|0.8794465581711159|0.886093012806111|0.8824006435699202|0.8860930128061111|0.7885243637167317|\n",
      "+------------------+-----------------+------------------+------------------+------------------+"
     ]
    }
   ],
   "source": [
    "# [Random Forest]    \n",
    "# 6 features (reduction from f9)\n",
    "# hyperparams: maxDepth=6, numTrees=50\n",
    "metrics_08 = spark.read.json('s3n://amosvoron-sparkify/rfc-metrics-f6h.json')\n",
    "metrics_08.select('f1', 'accuracy', 'weightedPrecision', 'weightedRecall', 'AUC').show()"
   ]
  },
  {
   "cell_type": "code",
   "execution_count": 20,
   "metadata": {},
   "outputs": [
    {
     "data": {
      "application/vnd.jupyter.widget-view+json": {
       "model_id": "cdf657db83304eda9584ee6e696844bd",
       "version_major": 2,
       "version_minor": 0
      },
      "text/plain": [
       "VBox()"
      ]
     },
     "metadata": {},
     "output_type": "display_data"
    },
    {
     "data": {
      "application/vnd.jupyter.widget-view+json": {
       "model_id": "",
       "version_major": 2,
       "version_minor": 0
      },
      "text/plain": [
       "FloatProgress(value=0.0, bar_style='info', description='Progress:', layout=Layout(height='25px', width='50%'),…"
      ]
     },
     "metadata": {},
     "output_type": "display_data"
    }
   ],
   "source": [
    "metrics_08 = metrics_08 \\\n",
    "    .withColumn('Nº', lit('8')) \\\n",
    "    .withColumn('ML method', lit('Random Forest')) \\\n",
    "    .withColumn('features', lit('6')) \\\n",
    "    .withColumn('note', lit('features derived from Nº6/Nº7')) \\\n",
    "    .withColumn('elasticNetParam', lit('N/A')) \\\n",
    "    .withColumn('maxIter', lit('N/A')) \\\n",
    "    .withColumn('regParam', lit('N/A')) \\\n",
    "    .withColumn('maxDepth', lit('6')) \\\n",
    "    .withColumn('numTrees', lit('50'))"
   ]
  },
  {
   "cell_type": "code",
   "execution_count": 21,
   "metadata": {},
   "outputs": [
    {
     "data": {
      "application/vnd.jupyter.widget-view+json": {
       "model_id": "595615a478bc4e2d997e1408594c5936",
       "version_major": 2,
       "version_minor": 0
      },
      "text/plain": [
       "VBox()"
      ]
     },
     "metadata": {},
     "output_type": "display_data"
    },
    {
     "data": {
      "application/vnd.jupyter.widget-view+json": {
       "model_id": "",
       "version_major": 2,
       "version_minor": 0
      },
      "text/plain": [
       "FloatProgress(value=0.0, bar_style='info', description='Progress:', layout=Layout(height='25px', width='50%'),…"
      ]
     },
     "metadata": {},
     "output_type": "display_data"
    },
    {
     "name": "stdout",
     "output_type": "stream",
     "text": [
      "+-----------------+------------------+------------------+------------------+------------------+\n",
      "|               f1|          accuracy| weightedPrecision|    weightedRecall|               AUC|\n",
      "+-----------------+------------------+------------------+------------------+------------------+\n",
      "|0.893976019228649|0.8973264434958437|0.8939976348676694|0.8973264434958437|0.8233115810534152|\n",
      "+-----------------+------------------+------------------+------------------+------------------+"
     ]
    }
   ],
   "source": [
    "# [GBT]    \n",
    "# 22 features\n",
    "# hyperparams: maxIter=50, maxDepth=5\n",
    "metrics_09 = spark.read.json('s3n://amosvoron-sparkify/gbt-cancelled-metrics-f22.json')\n",
    "metrics_09.select('f1', 'accuracy', 'weightedPrecision', 'weightedRecall', 'AUC').show()"
   ]
  },
  {
   "cell_type": "code",
   "execution_count": 22,
   "metadata": {},
   "outputs": [
    {
     "data": {
      "application/vnd.jupyter.widget-view+json": {
       "model_id": "7bd933db762741bd80d240a7a85afbd0",
       "version_major": 2,
       "version_minor": 0
      },
      "text/plain": [
       "VBox()"
      ]
     },
     "metadata": {},
     "output_type": "display_data"
    },
    {
     "data": {
      "application/vnd.jupyter.widget-view+json": {
       "model_id": "",
       "version_major": 2,
       "version_minor": 0
      },
      "text/plain": [
       "FloatProgress(value=0.0, bar_style='info', description='Progress:', layout=Layout(height='25px', width='50%'),…"
      ]
     },
     "metadata": {},
     "output_type": "display_data"
    }
   ],
   "source": [
    "metrics_09 = metrics_09 \\\n",
    "    .withColumn('Nº', lit('9')) \\\n",
    "    .withColumn('ML method', lit('GBTClassifier')) \\\n",
    "    .withColumn('features', lit('22')) \\\n",
    "    .withColumn('note', lit('Nº4 features')) \\\n",
    "    .withColumn('elasticNetParam', lit('N/A')) \\\n",
    "    .withColumn('maxIter', lit('50')) \\\n",
    "    .withColumn('regParam', lit('N/A')) \\\n",
    "    .withColumn('maxDepth', lit('5')) \\\n",
    "    .withColumn('numTrees', lit('N/A'))"
   ]
  },
  {
   "cell_type": "code",
   "execution_count": 23,
   "metadata": {},
   "outputs": [
    {
     "data": {
      "application/vnd.jupyter.widget-view+json": {
       "model_id": "b32827badca34dbca69eb8a49538fce5",
       "version_major": 2,
       "version_minor": 0
      },
      "text/plain": [
       "VBox()"
      ]
     },
     "metadata": {},
     "output_type": "display_data"
    },
    {
     "data": {
      "application/vnd.jupyter.widget-view+json": {
       "model_id": "",
       "version_major": 2,
       "version_minor": 0
      },
      "text/plain": [
       "FloatProgress(value=0.0, bar_style='info', description='Progress:', layout=Layout(height='25px', width='50%'),…"
      ]
     },
     "metadata": {},
     "output_type": "display_data"
    },
    {
     "name": "stdout",
     "output_type": "stream",
     "text": [
      "+------------------+-----------------+------------------+-----------------+------------------+\n",
      "|                f1|         accuracy| weightedPrecision|   weightedRecall|               AUC|\n",
      "+------------------+-----------------+------------------+-----------------+------------------+\n",
      "|0.8994328175799097|0.902269152999326|0.8993354342260549|0.902269152999326|0.8332933475246603|\n",
      "+------------------+-----------------+------------------+-----------------+------------------+"
     ]
    }
   ],
   "source": [
    "# [GBT]    \n",
    "# 22 features\n",
    "# hyperparams: maxIter=200, maxDepth=5\n",
    "metrics_10 = spark.read.json('s3n://amosvoron-sparkify/gbt-cancelled-metrics-f22h.json')\n",
    "metrics_10.select('f1', 'accuracy', 'weightedPrecision', 'weightedRecall', 'AUC').show()"
   ]
  },
  {
   "cell_type": "code",
   "execution_count": 24,
   "metadata": {},
   "outputs": [
    {
     "data": {
      "application/vnd.jupyter.widget-view+json": {
       "model_id": "2af995bde27b422786fe8b503629bc2f",
       "version_major": 2,
       "version_minor": 0
      },
      "text/plain": [
       "VBox()"
      ]
     },
     "metadata": {},
     "output_type": "display_data"
    },
    {
     "data": {
      "application/vnd.jupyter.widget-view+json": {
       "model_id": "",
       "version_major": 2,
       "version_minor": 0
      },
      "text/plain": [
       "FloatProgress(value=0.0, bar_style='info', description='Progress:', layout=Layout(height='25px', width='50%'),…"
      ]
     },
     "metadata": {},
     "output_type": "display_data"
    }
   ],
   "source": [
    "metrics_10 = metrics_10 \\\n",
    "    .withColumn('Nº', lit('10')) \\\n",
    "    .withColumn('ML method', lit('GBTClassifier')) \\\n",
    "    .withColumn('features', lit('22')) \\\n",
    "    .withColumn('note', lit('Nº4 features')) \\\n",
    "    .withColumn('elasticNetParam', lit('N/A')) \\\n",
    "    .withColumn('maxIter', lit('200')) \\\n",
    "    .withColumn('regParam', lit('N/A')) \\\n",
    "    .withColumn('maxDepth', lit('5')) \\\n",
    "    .withColumn('numTrees', lit('N/A'))"
   ]
  },
  {
   "cell_type": "code",
   "execution_count": 25,
   "metadata": {},
   "outputs": [
    {
     "data": {
      "application/vnd.jupyter.widget-view+json": {
       "model_id": "0dedde9577874a69a76eb45ff148c1e5",
       "version_major": 2,
       "version_minor": 0
      },
      "text/plain": [
       "VBox()"
      ]
     },
     "metadata": {},
     "output_type": "display_data"
    },
    {
     "data": {
      "application/vnd.jupyter.widget-view+json": {
       "model_id": "",
       "version_major": 2,
       "version_minor": 0
      },
      "text/plain": [
       "FloatProgress(value=0.0, bar_style='info', description='Progress:', layout=Layout(height='25px', width='50%'),…"
      ]
     },
     "metadata": {},
     "output_type": "display_data"
    },
    {
     "name": "stdout",
     "output_type": "stream",
     "text": [
      "+------------------+------------------+------------------+------------------+------------------+\n",
      "|                f1|          accuracy| weightedPrecision|    weightedRecall|               AUC|\n",
      "+------------------+------------------+------------------+------------------+------------------+\n",
      "|0.8993786653444871|0.9024938216131206|0.8995485523750624|0.9024938216131206|0.8312910036292573|\n",
      "+------------------+------------------+------------------+------------------+------------------+"
     ]
    }
   ],
   "source": [
    "# [GBT]    \n",
    "# 16 features (reduction from f22)\n",
    "# hyperparams: maxIter=150, maxDepth=5\n",
    "metrics_11 = spark.read.json('s3n://amosvoron-sparkify/gbt-cancelled-metrics-f16h.json')\n",
    "metrics_11.select('f1', 'accuracy', 'weightedPrecision', 'weightedRecall', 'AUC').show()"
   ]
  },
  {
   "cell_type": "code",
   "execution_count": 26,
   "metadata": {},
   "outputs": [
    {
     "data": {
      "application/vnd.jupyter.widget-view+json": {
       "model_id": "7ae7da493ec14969a629806c39feadaa",
       "version_major": 2,
       "version_minor": 0
      },
      "text/plain": [
       "VBox()"
      ]
     },
     "metadata": {},
     "output_type": "display_data"
    },
    {
     "data": {
      "application/vnd.jupyter.widget-view+json": {
       "model_id": "",
       "version_major": 2,
       "version_minor": 0
      },
      "text/plain": [
       "FloatProgress(value=0.0, bar_style='info', description='Progress:', layout=Layout(height='25px', width='50%'),…"
      ]
     },
     "metadata": {},
     "output_type": "display_data"
    }
   ],
   "source": [
    "metrics_11 = metrics_11 \\\n",
    "    .withColumn('Nº', lit('11')) \\\n",
    "    .withColumn('ML method', lit('GBTClassifier')) \\\n",
    "    .withColumn('features', lit('16')) \\\n",
    "    .withColumn('note', lit('features derived from Nº10')) \\\n",
    "    .withColumn('elasticNetParam', lit('N/A')) \\\n",
    "    .withColumn('maxIter', lit('150')) \\\n",
    "    .withColumn('regParam', lit('N/A')) \\\n",
    "    .withColumn('maxDepth', lit('5')) \\\n",
    "    .withColumn('numTrees', lit('N/A'))"
   ]
  },
  {
   "cell_type": "code",
   "execution_count": 27,
   "metadata": {},
   "outputs": [
    {
     "data": {
      "application/vnd.jupyter.widget-view+json": {
       "model_id": "9295feb2f2c043ef8861d1f1dfa6363d",
       "version_major": 2,
       "version_minor": 0
      },
      "text/plain": [
       "VBox()"
      ]
     },
     "metadata": {},
     "output_type": "display_data"
    },
    {
     "data": {
      "application/vnd.jupyter.widget-view+json": {
       "model_id": "",
       "version_major": 2,
       "version_minor": 0
      },
      "text/plain": [
       "FloatProgress(value=0.0, bar_style='info', description='Progress:', layout=Layout(height='25px', width='50%'),…"
      ]
     },
     "metadata": {},
     "output_type": "display_data"
    },
    {
     "name": "stdout",
     "output_type": "stream",
     "text": [
      "+------------------+------------------+------------------+------------------+------------------+\n",
      "|                f1|          accuracy| weightedPrecision|    weightedRecall|               AUC|\n",
      "+------------------+------------------+------------------+------------------+------------------+\n",
      "|0.7505143102418945|0.7984722534261963|0.7780010603901284|0.7984722534261963|0.5803780185650474|\n",
      "+------------------+------------------+------------------+------------------+------------------+"
     ]
    }
   ],
   "source": [
    "# [Logistic Regression]    \n",
    "# 16 features (reduction from f22)\n",
    "# hyperparams: elasticNetParam=0.0, maxIter=50, regParam=0.1\n",
    "metrics_12 = spark.read.json('s3n://amosvoron-sparkify/lr-cancelled-metrics-f22h.json')\n",
    "metrics_12.select('f1', 'accuracy', 'weightedPrecision', 'weightedRecall', 'AUC').show()"
   ]
  },
  {
   "cell_type": "code",
   "execution_count": 28,
   "metadata": {},
   "outputs": [
    {
     "data": {
      "application/vnd.jupyter.widget-view+json": {
       "model_id": "a8f9b53bbf3b44559309cb956540000e",
       "version_major": 2,
       "version_minor": 0
      },
      "text/plain": [
       "VBox()"
      ]
     },
     "metadata": {},
     "output_type": "display_data"
    },
    {
     "data": {
      "application/vnd.jupyter.widget-view+json": {
       "model_id": "",
       "version_major": 2,
       "version_minor": 0
      },
      "text/plain": [
       "FloatProgress(value=0.0, bar_style='info', description='Progress:', layout=Layout(height='25px', width='50%'),…"
      ]
     },
     "metadata": {},
     "output_type": "display_data"
    }
   ],
   "source": [
    "metrics_12 = metrics_12 \\\n",
    "    .withColumn('Nº', lit('12')) \\\n",
    "    .withColumn('ML method', lit('Logistic Regression')) \\\n",
    "    .withColumn('features', lit('16')) \\\n",
    "    .withColumn('note', lit('features derived from Nº10')) \\\n",
    "    .withColumn('elasticNetParam', lit('0.0')) \\\n",
    "    .withColumn('maxIter', lit('50')) \\\n",
    "    .withColumn('regParam', lit('0.1')) \\\n",
    "    .withColumn('maxDepth', lit('N/A')) \\\n",
    "    .withColumn('numTrees', lit('N/A'))"
   ]
  },
  {
   "cell_type": "code",
   "execution_count": 29,
   "metadata": {},
   "outputs": [
    {
     "data": {
      "application/vnd.jupyter.widget-view+json": {
       "model_id": "c34ad37eb61e4ac7aa41ad0e3039b09c",
       "version_major": 2,
       "version_minor": 0
      },
      "text/plain": [
       "VBox()"
      ]
     },
     "metadata": {},
     "output_type": "display_data"
    },
    {
     "data": {
      "application/vnd.jupyter.widget-view+json": {
       "model_id": "",
       "version_major": 2,
       "version_minor": 0
      },
      "text/plain": [
       "FloatProgress(value=0.0, bar_style='info', description='Progress:', layout=Layout(height='25px', width='50%'),…"
      ]
     },
     "metadata": {},
     "output_type": "display_data"
    },
    {
     "name": "stdout",
     "output_type": "stream",
     "text": [
      "+------------------+------------------+-----------------+-----------------+------------------+\n",
      "|                f1|          accuracy|weightedPrecision|   weightedRecall|               AUC|\n",
      "+------------------+------------------+-----------------+-----------------+------------------+\n",
      "|0.8980014468963999|0.9009211413165581|0.897890966713647|0.900921141316558|0.8309939454215521|\n",
      "+------------------+------------------+-----------------+-----------------+------------------+"
     ]
    }
   ],
   "source": [
    "# [GBT]    \n",
    "# 16 features (reduction from f22)\n",
    "# hyperparams: maxIter=200, maxDepth=5\n",
    "metrics_13 = spark.read.json('s3n://amosvoron-sparkify/gbt-cancelled-metrics-f16h2.json')\n",
    "metrics_13.select('f1', 'accuracy', 'weightedPrecision', 'weightedRecall', 'AUC').show()"
   ]
  },
  {
   "cell_type": "code",
   "execution_count": 30,
   "metadata": {},
   "outputs": [
    {
     "data": {
      "application/vnd.jupyter.widget-view+json": {
       "model_id": "c6dcaa71303e4254a364aead7f6f11c4",
       "version_major": 2,
       "version_minor": 0
      },
      "text/plain": [
       "VBox()"
      ]
     },
     "metadata": {},
     "output_type": "display_data"
    },
    {
     "data": {
      "application/vnd.jupyter.widget-view+json": {
       "model_id": "",
       "version_major": 2,
       "version_minor": 0
      },
      "text/plain": [
       "FloatProgress(value=0.0, bar_style='info', description='Progress:', layout=Layout(height='25px', width='50%'),…"
      ]
     },
     "metadata": {},
     "output_type": "display_data"
    }
   ],
   "source": [
    "metrics_13 = metrics_13 \\\n",
    "    .withColumn('Nº', lit('13')) \\\n",
    "    .withColumn('ML method', lit('GBTClassifier')) \\\n",
    "    .withColumn('features', lit('16')) \\\n",
    "    .withColumn('note', lit('features derived from Nº10')) \\\n",
    "    .withColumn('elasticNetParam', lit('N/A')) \\\n",
    "    .withColumn('maxIter', lit('200')) \\\n",
    "    .withColumn('regParam', lit('N/A')) \\\n",
    "    .withColumn('maxDepth', lit('5')) \\\n",
    "    .withColumn('numTrees', lit('N/A'))"
   ]
  },
  {
   "cell_type": "code",
   "execution_count": 31,
   "metadata": {},
   "outputs": [
    {
     "data": {
      "application/vnd.jupyter.widget-view+json": {
       "model_id": "2409e08016da4ea8a37aa4f6578f0201",
       "version_major": 2,
       "version_minor": 0
      },
      "text/plain": [
       "VBox()"
      ]
     },
     "metadata": {},
     "output_type": "display_data"
    },
    {
     "data": {
      "application/vnd.jupyter.widget-view+json": {
       "model_id": "",
       "version_major": 2,
       "version_minor": 0
      },
      "text/plain": [
       "FloatProgress(value=0.0, bar_style='info', description='Progress:', layout=Layout(height='25px', width='50%'),…"
      ]
     },
     "metadata": {},
     "output_type": "display_data"
    },
    {
     "name": "stdout",
     "output_type": "stream",
     "text": [
      "+------------------+------------------+------------------+------------------+-----------------+\n",
      "|                f1|          accuracy| weightedPrecision|    weightedRecall|              AUC|\n",
      "+------------------+------------------+------------------+------------------+-----------------+\n",
      "|0.8820918789565017|0.8885643675578522|0.8852110638242774|0.8885643675578522|0.792262818723246|\n",
      "+------------------+------------------+------------------+------------------+-----------------+"
     ]
    }
   ],
   "source": [
    "# [GBT]    \n",
    "# 22 features\n",
    "# hyperparams: maxIter=50, maxDepth=2\n",
    "metrics_14 = spark.read.json('s3n://amosvoron-sparkify/gbt-cancelled-metrics-f22h2.json')\n",
    "metrics_14.select('f1', 'accuracy', 'weightedPrecision', 'weightedRecall', 'AUC').show()"
   ]
  },
  {
   "cell_type": "code",
   "execution_count": 32,
   "metadata": {},
   "outputs": [
    {
     "data": {
      "application/vnd.jupyter.widget-view+json": {
       "model_id": "bff631b02e3a4bc69f1515c5b6dd7a66",
       "version_major": 2,
       "version_minor": 0
      },
      "text/plain": [
       "VBox()"
      ]
     },
     "metadata": {},
     "output_type": "display_data"
    },
    {
     "data": {
      "application/vnd.jupyter.widget-view+json": {
       "model_id": "",
       "version_major": 2,
       "version_minor": 0
      },
      "text/plain": [
       "FloatProgress(value=0.0, bar_style='info', description='Progress:', layout=Layout(height='25px', width='50%'),…"
      ]
     },
     "metadata": {},
     "output_type": "display_data"
    }
   ],
   "source": [
    "metrics_14 = metrics_14 \\\n",
    "    .withColumn('Nº', lit('14')) \\\n",
    "    .withColumn('ML method', lit('GBTClassifier')) \\\n",
    "    .withColumn('features', lit('22')) \\\n",
    "    .withColumn('note', lit('Nº4 features')) \\\n",
    "    .withColumn('elasticNetParam', lit('N/A')) \\\n",
    "    .withColumn('maxIter', lit('50')) \\\n",
    "    .withColumn('regParam', lit('N/A')) \\\n",
    "    .withColumn('maxDepth', lit('2')) \\\n",
    "    .withColumn('numTrees', lit('N/A'))"
   ]
  },
  {
   "cell_type": "markdown",
   "metadata": {},
   "source": [
    "### Final Result"
   ]
  },
  {
   "cell_type": "code",
   "execution_count": 33,
   "metadata": {},
   "outputs": [
    {
     "data": {
      "application/vnd.jupyter.widget-view+json": {
       "model_id": "8ad6e61dc65a4093b6e9395eabbd1b0d",
       "version_major": 2,
       "version_minor": 0
      },
      "text/plain": [
       "VBox()"
      ]
     },
     "metadata": {},
     "output_type": "display_data"
    },
    {
     "data": {
      "application/vnd.jupyter.widget-view+json": {
       "model_id": "",
       "version_major": 2,
       "version_minor": 0
      },
      "text/plain": [
       "FloatProgress(value=0.0, bar_style='info', description='Progress:', layout=Layout(height='25px', width='50%'),…"
      ]
     },
     "metadata": {},
     "output_type": "display_data"
    }
   ],
   "source": [
    "metrics_cancelled = metrics_01.select('Nº', 'ML method', 'features', 'elasticNetParam', 'maxIter', 'regParam', \\\n",
    "            'maxDepth', 'numTrees', 'f1', 'note') \\\n",
    "    .union(metrics_02.select('Nº', 'ML method', 'features', 'elasticNetParam', 'maxIter', 'regParam', \\\n",
    "            'maxDepth', 'numTrees', 'f1', 'note') ) \\\n",
    "    .union(metrics_03.select('Nº', 'ML method', 'features', 'elasticNetParam', 'maxIter', 'regParam', \\\n",
    "            'maxDepth', 'numTrees', 'f1', 'note') ) \\\n",
    "    .union(metrics_04.select('Nº', 'ML method', 'features', 'elasticNetParam', 'maxIter', 'regParam', \\\n",
    "            'maxDepth', 'numTrees', 'f1', 'note') ) \\\n",
    "    .union(metrics_05.select('Nº', 'ML method', 'features', 'elasticNetParam', 'maxIter', 'regParam', \\\n",
    "            'maxDepth', 'numTrees', 'f1', 'note') ) \\\n",
    "    .union(metrics_06.select('Nº', 'ML method', 'features', 'elasticNetParam', 'maxIter', 'regParam', \\\n",
    "            'maxDepth', 'numTrees', 'f1', 'note') ) \\\n",
    "    .union(metrics_07.select('Nº', 'ML method', 'features', 'elasticNetParam', 'maxIter', 'regParam', \\\n",
    "            'maxDepth', 'numTrees', 'f1', 'note') ) \\\n",
    "    .union(metrics_08.select('Nº', 'ML method', 'features', 'elasticNetParam', 'maxIter', 'regParam', \\\n",
    "            'maxDepth', 'numTrees', 'f1', 'note') ) \\\n",
    "    .union(metrics_09.select('Nº', 'ML method', 'features', 'elasticNetParam', 'maxIter', 'regParam', \\\n",
    "            'maxDepth', 'numTrees', 'f1', 'note') ) \\\n",
    "    .union(metrics_10.select('Nº', 'ML method', 'features', 'elasticNetParam', 'maxIter', 'regParam', \\\n",
    "            'maxDepth', 'numTrees', 'f1', 'note') ) \\\n",
    "    .union(metrics_11.select('Nº', 'ML method', 'features', 'elasticNetParam', 'maxIter', 'regParam', \\\n",
    "            'maxDepth', 'numTrees', 'f1', 'note') ) \\\n",
    "    .union(metrics_12.select('Nº', 'ML method', 'features', 'elasticNetParam', 'maxIter', 'regParam', \\\n",
    "            'maxDepth', 'numTrees', 'f1', 'note') ) \\\n",
    "    .union(metrics_13.select('Nº', 'ML method', 'features', 'elasticNetParam', 'maxIter', 'regParam', \\\n",
    "            'maxDepth', 'numTrees', 'f1', 'note') ) \\\n",
    "    .union(metrics_14.select('Nº', 'ML method', 'features', 'elasticNetParam', 'maxIter', 'regParam', \\\n",
    "            'maxDepth', 'numTrees', 'f1', 'note') )"
   ]
  },
  {
   "cell_type": "code",
   "execution_count": 34,
   "metadata": {},
   "outputs": [
    {
     "data": {
      "application/vnd.jupyter.widget-view+json": {
       "model_id": "a68536d3c6fa48feb39efd19aa4e19fc",
       "version_major": 2,
       "version_minor": 0
      },
      "text/plain": [
       "VBox()"
      ]
     },
     "metadata": {},
     "output_type": "display_data"
    },
    {
     "data": {
      "application/vnd.jupyter.widget-view+json": {
       "model_id": "",
       "version_major": 2,
       "version_minor": 0
      },
      "text/plain": [
       "FloatProgress(value=0.0, bar_style='info', description='Progress:', layout=Layout(height='25px', width='50%'),…"
      ]
     },
     "metadata": {},
     "output_type": "display_data"
    },
    {
     "name": "stdout",
     "output_type": "stream",
     "text": [
      "+---+-------------------+--------+---------------+-------+--------+--------+--------+--------+-----------------------------+\n",
      "|Nº |ML method          |features|elasticNetParam|maxIter|regParam|maxDepth|numTrees|F1      |note                         |\n",
      "+---+-------------------+--------+---------------+-------+--------+--------+--------+--------+-----------------------------+\n",
      "|1  |Logistic Regression|8       |0.0            |10     |0.1     |N/A     |N/A     |0.774113|mini dataset features        |\n",
      "|2  |Random Forest      |29      |N/A            |N/A    |N/A     |default |default |0.830521|mini dataset features        |\n",
      "|3  |Random Forest      |3       |N/A            |N/A    |N/A     |6       |20      |0.869747|*                            |\n",
      "|4  |Random Forest      |22      |N/A            |N/A    |N/A     |6       |20      |0.838665|big dataset features         |\n",
      "|5  |Random Forest      |14      |N/A            |N/A    |N/A     |6       |20      |0.85804 |features derived from Nº4    |\n",
      "|6  |Random Forest      |9       |N/A            |N/A    |N/A     |6       |20      |0.860829|features derived from Nº5    |\n",
      "|7  |Random Forest      |9       |N/A            |N/A    |N/A     |6       |50      |0.868272|features derived from Nº5    |\n",
      "|8  |Random Forest      |6       |N/A            |N/A    |N/A     |6       |50      |0.879447|features derived from Nº6/Nº7|\n",
      "|9  |GBTClassifier      |22      |N/A            |50     |N/A     |5       |N/A     |0.893976|Nº4 features                 |\n",
      "|10 |GBTClassifier      |22      |N/A            |200    |N/A     |5       |N/A     |0.899433|Nº4 features                 |\n",
      "|11 |GBTClassifier      |16      |N/A            |150    |N/A     |5       |N/A     |0.899379|features derived from Nº10   |\n",
      "|12 |Logistic Regression|16      |0.0            |50     |0.1     |N/A     |N/A     |0.750514|features derived from Nº10   |\n",
      "|13 |GBTClassifier      |16      |N/A            |200    |N/A     |5       |N/A     |0.898001|features derived from Nº10   |\n",
      "|14 |GBTClassifier      |22      |N/A            |50     |N/A     |2       |N/A     |0.882092|Nº4 features                 |\n",
      "+---+-------------------+--------+---------------+-------+--------+--------+--------+--------+-----------------------------+"
     ]
    }
   ],
   "source": [
    "metrics_cancelled \\\n",
    "    .select('Nº', 'ML method', 'features', 'elasticNetParam', 'maxIter', 'regParam', \\\n",
    "            'maxDepth', 'numTrees', round('f1', 6).alias('F1'), 'note') \\\n",
    "    .show(20, False)"
   ]
  },
  {
   "cell_type": "markdown",
   "metadata": {},
   "source": [
    "\\* The three features *AvgSessionGap*, *SessionCount*, *LogoutPerHour* of the model Nº3 were not chosen from the list of the *feature importances* from one of the previous models but were chosen directly from the analysis results based on the *share difference* values."
   ]
  },
  {
   "cell_type": "markdown",
   "metadata": {},
   "source": [
    "### Average F1 for cancelled users"
   ]
  },
  {
   "cell_type": "code",
   "execution_count": 37,
   "metadata": {},
   "outputs": [
    {
     "data": {
      "application/vnd.jupyter.widget-view+json": {
       "model_id": "f5faae2dbee040c9a865a02f68e698f1",
       "version_major": 2,
       "version_minor": 0
      },
      "text/plain": [
       "VBox()"
      ]
     },
     "metadata": {},
     "output_type": "display_data"
    },
    {
     "data": {
      "application/vnd.jupyter.widget-view+json": {
       "model_id": "",
       "version_major": 2,
       "version_minor": 0
      },
      "text/plain": [
       "FloatProgress(value=0.0, bar_style='info', description='Progress:', layout=Layout(height='25px', width='50%'),…"
      ]
     },
     "metadata": {},
     "output_type": "display_data"
    },
    {
     "name": "stdout",
     "output_type": "stream",
     "text": [
      "+------------------+\n",
      "|           avg(F1)|\n",
      "+------------------+\n",
      "|0.8573591572646658|\n",
      "+------------------+"
     ]
    }
   ],
   "source": [
    "metrics_cancelled.select('F1').groupby().avg().show()"
   ]
  },
  {
   "cell_type": "markdown",
   "metadata": {},
   "source": [
    "### Best model for cancelled users"
   ]
  },
  {
   "cell_type": "code",
   "execution_count": 38,
   "metadata": {},
   "outputs": [
    {
     "data": {
      "application/vnd.jupyter.widget-view+json": {
       "model_id": "10df368f1697412ea2d143f46335eed7",
       "version_major": 2,
       "version_minor": 0
      },
      "text/plain": [
       "VBox()"
      ]
     },
     "metadata": {},
     "output_type": "display_data"
    },
    {
     "data": {
      "application/vnd.jupyter.widget-view+json": {
       "model_id": "",
       "version_major": 2,
       "version_minor": 0
      },
      "text/plain": [
       "FloatProgress(value=0.0, bar_style='info', description='Progress:', layout=Layout(height='25px', width='50%'),…"
      ]
     },
     "metadata": {},
     "output_type": "display_data"
    },
    {
     "name": "stdout",
     "output_type": "stream",
     "text": [
      "+------------------+-----------------+------------------+-----------------+------------------+\n",
      "|                f1|         accuracy| weightedPrecision|   weightedRecall|               AUC|\n",
      "+------------------+-----------------+------------------+-----------------+------------------+\n",
      "|0.8994328175799097|0.902269152999326|0.8993354342260549|0.902269152999326|0.8332933475246603|\n",
      "+------------------+-----------------+------------------+-----------------+------------------+"
     ]
    }
   ],
   "source": [
    "metrics_10.select('f1', 'accuracy', 'weightedPrecision', 'weightedRecall', 'AUC').show()"
   ]
  },
  {
   "cell_type": "code",
   "execution_count": 39,
   "metadata": {},
   "outputs": [
    {
     "data": {
      "application/vnd.jupyter.widget-view+json": {
       "model_id": "efae7e3979734fe6a818e9dacc39037d",
       "version_major": 2,
       "version_minor": 0
      },
      "text/plain": [
       "VBox()"
      ]
     },
     "metadata": {},
     "output_type": "display_data"
    },
    {
     "data": {
      "application/vnd.jupyter.widget-view+json": {
       "model_id": "",
       "version_major": 2,
       "version_minor": 0
      },
      "text/plain": [
       "FloatProgress(value=0.0, bar_style='info', description='Progress:', layout=Layout(height='25px', width='50%'),…"
      ]
     },
     "metadata": {},
     "output_type": "display_data"
    },
    {
     "name": "stdout",
     "output_type": "stream",
     "text": [
      "+-----------------------+----------+\n",
      "|feature                |importance|\n",
      "+-----------------------+----------+\n",
      "|AvgSessionGap          |0.114945  |\n",
      "|NonSongCount           |0.064948  |\n",
      "|SessionCount           |0.060762  |\n",
      "|RollAdvertPerHour      |0.057997  |\n",
      "|ThumbsUpCount          |0.057046  |\n",
      "|ThumbsDownPerHour      |0.055785  |\n",
      "|SettingsPerSessionHour |0.055747  |\n",
      "|RollAdvertCount        |0.048809  |\n",
      "|DowngradePerSessionHour|0.047659  |\n",
      "|DowngradePerHour       |0.046806  |\n",
      "|LogoutPerHour          |0.042215  |\n",
      "|HomeCount              |0.040791  |\n",
      "|HelpCount              |0.038668  |\n",
      "|RollAdvertPerDay       |0.03714   |\n",
      "|HomePerHour            |0.035674  |\n",
      "|SettingsPerHour        |0.033925  |\n",
      "|AboutPerSessionHour    |0.033717  |\n",
      "|UpgradePerSessionHour  |0.032103  |\n",
      "|AboutCount             |0.027766  |\n",
      "|ErrorPerSessionHour    |0.027089  |\n",
      "|SubmitUpgradePerHour   |0.021087  |\n",
      "|SubmitDowngradePerHour |0.019319  |\n",
      "+-----------------------+----------+"
     ]
    }
   ],
   "source": [
    "importances_10 = spark.read.json('s3n://amosvoron-sparkify/gbt-cancelled-feature-importances-f22h.json')\n",
    "importances_10.sort(desc('importance')).select('feature', round('importance', 6).alias('importance')).show(30, False)"
   ]
  },
  {
   "cell_type": "markdown",
   "metadata": {},
   "source": [
    "## Downgraded users"
   ]
  },
  {
   "cell_type": "code",
   "execution_count": 40,
   "metadata": {},
   "outputs": [
    {
     "data": {
      "application/vnd.jupyter.widget-view+json": {
       "model_id": "727bba00f32345a68fee549f6efdd9a0",
       "version_major": 2,
       "version_minor": 0
      },
      "text/plain": [
       "VBox()"
      ]
     },
     "metadata": {},
     "output_type": "display_data"
    },
    {
     "data": {
      "application/vnd.jupyter.widget-view+json": {
       "model_id": "",
       "version_major": 2,
       "version_minor": 0
      },
      "text/plain": [
       "FloatProgress(value=0.0, bar_style='info', description='Progress:', layout=Layout(height='25px', width='50%'),…"
      ]
     },
     "metadata": {},
     "output_type": "display_data"
    },
    {
     "name": "stdout",
     "output_type": "stream",
     "text": [
      "+------------------+------------------+------------------+-----------------+------------------+\n",
      "|                f1|          accuracy| weightedPrecision|   weightedRecall|               AUC|\n",
      "+------------------+------------------+------------------+-----------------+------------------+\n",
      "|0.8137938477161866|0.8303751965850371|0.8179372014878397|0.830375196585037|0.6879226254158419|\n",
      "+------------------+------------------+------------------+-----------------+------------------+"
     ]
    }
   ],
   "source": [
    "# [Random Forest]    \n",
    "# 22 features (big data features)\n",
    "# hyperparams: maxDepth=6, numTrees=100\n",
    "metrics_15 = spark.read.json('s3n://amosvoron-sparkify/rfc-downgraded-metrics-22h.json')\n",
    "metrics_15.select('f1', 'accuracy', 'weightedPrecision', 'weightedRecall', 'AUC').show()"
   ]
  },
  {
   "cell_type": "code",
   "execution_count": 41,
   "metadata": {},
   "outputs": [
    {
     "data": {
      "application/vnd.jupyter.widget-view+json": {
       "model_id": "4635524c0640496c924294d7b02c0f9a",
       "version_major": 2,
       "version_minor": 0
      },
      "text/plain": [
       "VBox()"
      ]
     },
     "metadata": {},
     "output_type": "display_data"
    },
    {
     "data": {
      "application/vnd.jupyter.widget-view+json": {
       "model_id": "",
       "version_major": 2,
       "version_minor": 0
      },
      "text/plain": [
       "FloatProgress(value=0.0, bar_style='info', description='Progress:', layout=Layout(height='25px', width='50%'),…"
      ]
     },
     "metadata": {},
     "output_type": "display_data"
    }
   ],
   "source": [
    "metrics_15 = metrics_15 \\\n",
    "    .withColumn('Nº', lit('15')) \\\n",
    "    .withColumn('ML method', lit('Random Forest')) \\\n",
    "    .withColumn('features', lit('22')) \\\n",
    "    .withColumn('note', lit('big dataset features**')) \\\n",
    "    .withColumn('elasticNetParam', lit('N/A')) \\\n",
    "    .withColumn('maxIter', lit('N/A')) \\\n",
    "    .withColumn('regParam', lit('N/A')) \\\n",
    "    .withColumn('maxDepth', lit('6')) \\\n",
    "    .withColumn('numTrees', lit('100'))"
   ]
  },
  {
   "cell_type": "code",
   "execution_count": 42,
   "metadata": {},
   "outputs": [
    {
     "data": {
      "application/vnd.jupyter.widget-view+json": {
       "model_id": "020ac27628224c3881d195e96ebdb542",
       "version_major": 2,
       "version_minor": 0
      },
      "text/plain": [
       "VBox()"
      ]
     },
     "metadata": {},
     "output_type": "display_data"
    },
    {
     "data": {
      "application/vnd.jupyter.widget-view+json": {
       "model_id": "",
       "version_major": 2,
       "version_minor": 0
      },
      "text/plain": [
       "FloatProgress(value=0.0, bar_style='info', description='Progress:', layout=Layout(height='25px', width='50%'),…"
      ]
     },
     "metadata": {},
     "output_type": "display_data"
    },
    {
     "name": "stdout",
     "output_type": "stream",
     "text": [
      "+------------------+------------------+------------------+------------------+------------------+\n",
      "|                f1|          accuracy| weightedPrecision|    weightedRecall|               AUC|\n",
      "+------------------+------------------+------------------+------------------+------------------+\n",
      "|0.8243558706304979|0.8346439002471355|0.8235744592195376|0.8346439002471354|0.7150563615408072|\n",
      "+------------------+------------------+------------------+------------------+------------------+"
     ]
    }
   ],
   "source": [
    "# [Random Forest]    \n",
    "# 13 features (big data features)\n",
    "# hyperparams: maxDepth=6, numTrees=100\n",
    "metrics_16 = spark.read.json('s3n://amosvoron-sparkify/rfc-downgraded-metrics-13h.json')\n",
    "metrics_16.select('f1', 'accuracy', 'weightedPrecision', 'weightedRecall', 'AUC').show()"
   ]
  },
  {
   "cell_type": "code",
   "execution_count": 43,
   "metadata": {},
   "outputs": [
    {
     "data": {
      "application/vnd.jupyter.widget-view+json": {
       "model_id": "ca189687b2d041278c451544cf3a5abe",
       "version_major": 2,
       "version_minor": 0
      },
      "text/plain": [
       "VBox()"
      ]
     },
     "metadata": {},
     "output_type": "display_data"
    },
    {
     "data": {
      "application/vnd.jupyter.widget-view+json": {
       "model_id": "",
       "version_major": 2,
       "version_minor": 0
      },
      "text/plain": [
       "FloatProgress(value=0.0, bar_style='info', description='Progress:', layout=Layout(height='25px', width='50%'),…"
      ]
     },
     "metadata": {},
     "output_type": "display_data"
    }
   ],
   "source": [
    "metrics_16 = metrics_16 \\\n",
    "    .withColumn('Nº', lit('16')) \\\n",
    "    .withColumn('ML method', lit('Random Forest')) \\\n",
    "    .withColumn('features', lit('13')) \\\n",
    "    .withColumn('note', lit('features derived from Nº15')) \\\n",
    "    .withColumn('elasticNetParam', lit('N/A')) \\\n",
    "    .withColumn('maxIter', lit('N/A')) \\\n",
    "    .withColumn('regParam', lit('N/A')) \\\n",
    "    .withColumn('maxDepth', lit('6')) \\\n",
    "    .withColumn('numTrees', lit('50'))"
   ]
  },
  {
   "cell_type": "code",
   "execution_count": 44,
   "metadata": {},
   "outputs": [
    {
     "data": {
      "application/vnd.jupyter.widget-view+json": {
       "model_id": "2bdb20568b684cb1a8b31e2d37cf9cf6",
       "version_major": 2,
       "version_minor": 0
      },
      "text/plain": [
       "VBox()"
      ]
     },
     "metadata": {},
     "output_type": "display_data"
    },
    {
     "data": {
      "application/vnd.jupyter.widget-view+json": {
       "model_id": "",
       "version_major": 2,
       "version_minor": 0
      },
      "text/plain": [
       "FloatProgress(value=0.0, bar_style='info', description='Progress:', layout=Layout(height='25px', width='50%'),…"
      ]
     },
     "metadata": {},
     "output_type": "display_data"
    },
    {
     "name": "stdout",
     "output_type": "stream",
     "text": [
      "+------------------+------------------+------------------+------------------+------------------+\n",
      "|                f1|          accuracy| weightedPrecision|    weightedRecall|               AUC|\n",
      "+------------------+------------------+------------------+------------------+------------------+\n",
      "|0.8084889296285297|0.8236351381711975|0.8094240821667913|0.8236351381711975|0.6849522237670034|\n",
      "+------------------+------------------+------------------+------------------+------------------+"
     ]
    }
   ],
   "source": [
    "# [Random Forest]    \n",
    "# 9 features (big data features)\n",
    "# hyperparams: maxDepth=6, numTrees=100\n",
    "metrics_17 = spark.read.json('s3n://amosvoron-sparkify/rfc-downgraded-metrics-9h.json')\n",
    "metrics_17.select('f1', 'accuracy', 'weightedPrecision', 'weightedRecall', 'AUC').show()"
   ]
  },
  {
   "cell_type": "code",
   "execution_count": 45,
   "metadata": {},
   "outputs": [
    {
     "data": {
      "application/vnd.jupyter.widget-view+json": {
       "model_id": "ab81ea9f22a94d48946e3e003c22a927",
       "version_major": 2,
       "version_minor": 0
      },
      "text/plain": [
       "VBox()"
      ]
     },
     "metadata": {},
     "output_type": "display_data"
    },
    {
     "data": {
      "application/vnd.jupyter.widget-view+json": {
       "model_id": "",
       "version_major": 2,
       "version_minor": 0
      },
      "text/plain": [
       "FloatProgress(value=0.0, bar_style='info', description='Progress:', layout=Layout(height='25px', width='50%'),…"
      ]
     },
     "metadata": {},
     "output_type": "display_data"
    }
   ],
   "source": [
    "metrics_17 = metrics_17 \\\n",
    "    .withColumn('Nº', lit('17')) \\\n",
    "    .withColumn('ML method', lit('Random Forest')) \\\n",
    "    .withColumn('features', lit('9')) \\\n",
    "    .withColumn('note', lit('features derived from Nº16')) \\\n",
    "    .withColumn('elasticNetParam', lit('N/A')) \\\n",
    "    .withColumn('maxIter', lit('N/A')) \\\n",
    "    .withColumn('regParam', lit('N/A')) \\\n",
    "    .withColumn('maxDepth', lit('6')) \\\n",
    "    .withColumn('numTrees', lit('20'))"
   ]
  },
  {
   "cell_type": "code",
   "execution_count": 46,
   "metadata": {},
   "outputs": [
    {
     "data": {
      "application/vnd.jupyter.widget-view+json": {
       "model_id": "01e7d4dcd5ef4083a9ca3b2ddedae391",
       "version_major": 2,
       "version_minor": 0
      },
      "text/plain": [
       "VBox()"
      ]
     },
     "metadata": {},
     "output_type": "display_data"
    },
    {
     "data": {
      "application/vnd.jupyter.widget-view+json": {
       "model_id": "",
       "version_major": 2,
       "version_minor": 0
      },
      "text/plain": [
       "FloatProgress(value=0.0, bar_style='info', description='Progress:', layout=Layout(height='25px', width='50%'),…"
      ]
     },
     "metadata": {},
     "output_type": "display_data"
    },
    {
     "name": "stdout",
     "output_type": "stream",
     "text": [
      "+-----------------+------------------+------------------+------------------+------------------+\n",
      "|               f1|          accuracy| weightedPrecision|    weightedRecall|               AUC|\n",
      "+-----------------+------------------+------------------+------------------+------------------+\n",
      "|0.824815310854039|0.8339698944057515|0.8233021851946406|0.8339698944057515|0.7187978616553737|\n",
      "+-----------------+------------------+------------------+------------------+------------------+"
     ]
    }
   ],
   "source": [
    "# [Random Forest]    \n",
    "# 11 features (big data features)\n",
    "# hyperparams: maxDepth=6, numTrees=100\n",
    "metrics_18 = spark.read.json('s3n://amosvoron-sparkify/rfc-downgraded-metrics-11h.json')\n",
    "metrics_18.select('f1', 'accuracy', 'weightedPrecision', 'weightedRecall', 'AUC').show()"
   ]
  },
  {
   "cell_type": "code",
   "execution_count": 47,
   "metadata": {},
   "outputs": [
    {
     "data": {
      "application/vnd.jupyter.widget-view+json": {
       "model_id": "43c02225585046a081749ca172ac5431",
       "version_major": 2,
       "version_minor": 0
      },
      "text/plain": [
       "VBox()"
      ]
     },
     "metadata": {},
     "output_type": "display_data"
    },
    {
     "data": {
      "application/vnd.jupyter.widget-view+json": {
       "model_id": "",
       "version_major": 2,
       "version_minor": 0
      },
      "text/plain": [
       "FloatProgress(value=0.0, bar_style='info', description='Progress:', layout=Layout(height='25px', width='50%'),…"
      ]
     },
     "metadata": {},
     "output_type": "display_data"
    }
   ],
   "source": [
    "metrics_18 = metrics_18 \\\n",
    "    .withColumn('Nº', lit('18')) \\\n",
    "    .withColumn('ML method', lit('Random Forest')) \\\n",
    "    .withColumn('features', lit('11')) \\\n",
    "    .withColumn('note', lit('features derived from Nº16')) \\\n",
    "    .withColumn('elasticNetParam', lit('N/A')) \\\n",
    "    .withColumn('maxIter', lit('N/A')) \\\n",
    "    .withColumn('regParam', lit('N/A')) \\\n",
    "    .withColumn('maxDepth', lit('6')) \\\n",
    "    .withColumn('numTrees', lit('50'))"
   ]
  },
  {
   "cell_type": "code",
   "execution_count": 48,
   "metadata": {},
   "outputs": [
    {
     "data": {
      "application/vnd.jupyter.widget-view+json": {
       "model_id": "49cf9a4d751d4e328a4e724886177a5c",
       "version_major": 2,
       "version_minor": 0
      },
      "text/plain": [
       "VBox()"
      ]
     },
     "metadata": {},
     "output_type": "display_data"
    },
    {
     "data": {
      "application/vnd.jupyter.widget-view+json": {
       "model_id": "",
       "version_major": 2,
       "version_minor": 0
      },
      "text/plain": [
       "FloatProgress(value=0.0, bar_style='info', description='Progress:', layout=Layout(height='25px', width='50%'),…"
      ]
     },
     "metadata": {},
     "output_type": "display_data"
    },
    {
     "name": "stdout",
     "output_type": "stream",
     "text": [
      "+------------------+------------------+-----------------+------------------+------------------+\n",
      "|                f1|          accuracy|weightedPrecision|    weightedRecall|               AUC|\n",
      "+------------------+------------------+-----------------+------------------+------------------+\n",
      "|0.8148460890342518|0.8292518535160638|0.816390590460442|0.8292518535160638|0.6938103089160288|\n",
      "+------------------+------------------+-----------------+------------------+------------------+"
     ]
    }
   ],
   "source": [
    "# [GBT]    \n",
    "# 22 features (big data features)\n",
    "# hyperparams: default\n",
    "metrics_19 = spark.read.json('s3n://amosvoron-sparkify/rfc-downgraded-metrics-22-gbt.json')\n",
    "metrics_19.select('f1', 'accuracy', 'weightedPrecision', 'weightedRecall', 'AUC').show()"
   ]
  },
  {
   "cell_type": "code",
   "execution_count": 49,
   "metadata": {},
   "outputs": [
    {
     "data": {
      "application/vnd.jupyter.widget-view+json": {
       "model_id": "be2f9627d28a43539b93d5aefa528849",
       "version_major": 2,
       "version_minor": 0
      },
      "text/plain": [
       "VBox()"
      ]
     },
     "metadata": {},
     "output_type": "display_data"
    },
    {
     "data": {
      "application/vnd.jupyter.widget-view+json": {
       "model_id": "",
       "version_major": 2,
       "version_minor": 0
      },
      "text/plain": [
       "FloatProgress(value=0.0, bar_style='info', description='Progress:', layout=Layout(height='25px', width='50%'),…"
      ]
     },
     "metadata": {},
     "output_type": "display_data"
    }
   ],
   "source": [
    "metrics_19 = metrics_19 \\\n",
    "    .withColumn('Nº', lit('19')) \\\n",
    "    .withColumn('ML method', lit('GBTClassifier')) \\\n",
    "    .withColumn('features', lit('22')) \\\n",
    "    .withColumn('note', lit('big dataset features**')) \\\n",
    "    .withColumn('elasticNetParam', lit('N/A')) \\\n",
    "    .withColumn('maxIter', lit('default')) \\\n",
    "    .withColumn('regParam', lit('N/A')) \\\n",
    "    .withColumn('maxDepth', lit('default')) \\\n",
    "    .withColumn('numTrees', lit('N/A'))"
   ]
  },
  {
   "cell_type": "code",
   "execution_count": 50,
   "metadata": {},
   "outputs": [
    {
     "data": {
      "application/vnd.jupyter.widget-view+json": {
       "model_id": "3e07c58894864f3785f16bb56779a2b9",
       "version_major": 2,
       "version_minor": 0
      },
      "text/plain": [
       "VBox()"
      ]
     },
     "metadata": {},
     "output_type": "display_data"
    },
    {
     "data": {
      "application/vnd.jupyter.widget-view+json": {
       "model_id": "",
       "version_major": 2,
       "version_minor": 0
      },
      "text/plain": [
       "FloatProgress(value=0.0, bar_style='info', description='Progress:', layout=Layout(height='25px', width='50%'),…"
      ]
     },
     "metadata": {},
     "output_type": "display_data"
    },
    {
     "name": "stdout",
     "output_type": "stream",
     "text": [
      "+------------------+------------------+------------------+------------------+------------------+\n",
      "|                f1|          accuracy| weightedPrecision|    weightedRecall|               AUC|\n",
      "+------------------+------------------+------------------+------------------+------------------+\n",
      "|0.8187400219006676|0.8281285104470906|0.8167142782328922|0.8281285104470905|0.7108387931871132|\n",
      "+------------------+------------------+------------------+------------------+------------------+"
     ]
    }
   ],
   "source": [
    "# [GBT]    \n",
    "# 22 features (big data features)\n",
    "# hyperparams: default\n",
    "metrics_20 = spark.read.json('s3n://amosvoron-sparkify/rfc-downgraded-metrics-22h-gbt.json')\n",
    "metrics_20.select('f1', 'accuracy', 'weightedPrecision', 'weightedRecall', 'AUC').show()"
   ]
  },
  {
   "cell_type": "code",
   "execution_count": 51,
   "metadata": {},
   "outputs": [
    {
     "data": {
      "application/vnd.jupyter.widget-view+json": {
       "model_id": "5d44beddce77478eb183f729b1520c64",
       "version_major": 2,
       "version_minor": 0
      },
      "text/plain": [
       "VBox()"
      ]
     },
     "metadata": {},
     "output_type": "display_data"
    },
    {
     "data": {
      "application/vnd.jupyter.widget-view+json": {
       "model_id": "",
       "version_major": 2,
       "version_minor": 0
      },
      "text/plain": [
       "FloatProgress(value=0.0, bar_style='info', description='Progress:', layout=Layout(height='25px', width='50%'),…"
      ]
     },
     "metadata": {},
     "output_type": "display_data"
    }
   ],
   "source": [
    "metrics_20 = metrics_20 \\\n",
    "    .withColumn('Nº', lit('20')) \\\n",
    "    .withColumn('ML method', lit('GBTClassifier')) \\\n",
    "    .withColumn('features', lit('22')) \\\n",
    "    .withColumn('note', lit('big dataset features**')) \\\n",
    "    .withColumn('elasticNetParam', lit('N/A')) \\\n",
    "    .withColumn('maxIter', lit('200')) \\\n",
    "    .withColumn('regParam', lit('N/A')) \\\n",
    "    .withColumn('maxDepth', lit('5')) \\\n",
    "    .withColumn('numTrees', lit('N/A'))"
   ]
  },
  {
   "cell_type": "code",
   "execution_count": 52,
   "metadata": {},
   "outputs": [
    {
     "data": {
      "application/vnd.jupyter.widget-view+json": {
       "model_id": "bbfb37c76f9c43e793eb0e39a045c439",
       "version_major": 2,
       "version_minor": 0
      },
      "text/plain": [
       "VBox()"
      ]
     },
     "metadata": {},
     "output_type": "display_data"
    },
    {
     "data": {
      "application/vnd.jupyter.widget-view+json": {
       "model_id": "",
       "version_major": 2,
       "version_minor": 0
      },
      "text/plain": [
       "FloatProgress(value=0.0, bar_style='info', description='Progress:', layout=Layout(height='25px', width='50%'),…"
      ]
     },
     "metadata": {},
     "output_type": "display_data"
    },
    {
     "name": "stdout",
     "output_type": "stream",
     "text": [
      "+------------------+------------------+------------------+------------------+------------------+\n",
      "|                f1|          accuracy| weightedPrecision|    weightedRecall|               AUC|\n",
      "+------------------+------------------+------------------+------------------+------------------+\n",
      "|0.8216342673718903|0.8290271849022691|0.8190860749874386|0.8290271849022692|0.7201242773554035|\n",
      "+------------------+------------------+------------------+------------------+------------------+"
     ]
    }
   ],
   "source": [
    "# [GBT]    \n",
    "# 12 features (big data features)\n",
    "# hyperparams: default\n",
    "metrics_21 = spark.read.json('s3n://amosvoron-sparkify/rfc-downgraded-metrics-12h-gbt.json')\n",
    "metrics_21.select('f1', 'accuracy', 'weightedPrecision', 'weightedRecall', 'AUC').show()"
   ]
  },
  {
   "cell_type": "code",
   "execution_count": 53,
   "metadata": {},
   "outputs": [
    {
     "data": {
      "application/vnd.jupyter.widget-view+json": {
       "model_id": "1acfbd3af3a04e1bb1349d31568051a0",
       "version_major": 2,
       "version_minor": 0
      },
      "text/plain": [
       "VBox()"
      ]
     },
     "metadata": {},
     "output_type": "display_data"
    },
    {
     "data": {
      "application/vnd.jupyter.widget-view+json": {
       "model_id": "",
       "version_major": 2,
       "version_minor": 0
      },
      "text/plain": [
       "FloatProgress(value=0.0, bar_style='info', description='Progress:', layout=Layout(height='25px', width='50%'),…"
      ]
     },
     "metadata": {},
     "output_type": "display_data"
    }
   ],
   "source": [
    "metrics_21 = metrics_21 \\\n",
    "    .withColumn('Nº', lit('21')) \\\n",
    "    .withColumn('ML method', lit('GBTClassifier')) \\\n",
    "    .withColumn('features', lit('12')) \\\n",
    "    .withColumn('note', lit('features derived from Nº20')) \\\n",
    "    .withColumn('elasticNetParam', lit('N/A')) \\\n",
    "    .withColumn('maxIter', lit('50')) \\\n",
    "    .withColumn('regParam', lit('N/A')) \\\n",
    "    .withColumn('maxDepth', lit('5')) \\\n",
    "    .withColumn('numTrees', lit('N/A'))"
   ]
  },
  {
   "cell_type": "code",
   "execution_count": 54,
   "metadata": {},
   "outputs": [
    {
     "data": {
      "application/vnd.jupyter.widget-view+json": {
       "model_id": "9d02eee798794c7284583cfe5b1aa9f1",
       "version_major": 2,
       "version_minor": 0
      },
      "text/plain": [
       "VBox()"
      ]
     },
     "metadata": {},
     "output_type": "display_data"
    },
    {
     "data": {
      "application/vnd.jupyter.widget-view+json": {
       "model_id": "",
       "version_major": 2,
       "version_minor": 0
      },
      "text/plain": [
       "FloatProgress(value=0.0, bar_style='info', description='Progress:', layout=Layout(height='25px', width='50%'),…"
      ]
     },
     "metadata": {},
     "output_type": "display_data"
    }
   ],
   "source": [
    "metrics_downgraded = metrics_15.select('Nº', 'ML method', 'features', 'elasticNetParam', 'maxIter', 'regParam', \\\n",
    "            'maxDepth', 'numTrees', 'f1', 'note') \\\n",
    "    .union(metrics_16.select('Nº', 'ML method', 'features', 'elasticNetParam', 'maxIter', 'regParam', \\\n",
    "            'maxDepth', 'numTrees', 'f1', 'note') ) \\\n",
    "    .union(metrics_17.select('Nº', 'ML method', 'features', 'elasticNetParam', 'maxIter', 'regParam', \\\n",
    "            'maxDepth', 'numTrees', 'f1', 'note') ) \\\n",
    "    .union(metrics_18.select('Nº', 'ML method', 'features', 'elasticNetParam', 'maxIter', 'regParam', \\\n",
    "            'maxDepth', 'numTrees', 'f1', 'note') ) \\\n",
    "    .union(metrics_19.select('Nº', 'ML method', 'features', 'elasticNetParam', 'maxIter', 'regParam', \\\n",
    "            'maxDepth', 'numTrees', 'f1', 'note') ) \\\n",
    "    .union(metrics_20.select('Nº', 'ML method', 'features', 'elasticNetParam', 'maxIter', 'regParam', \\\n",
    "            'maxDepth', 'numTrees', 'f1', 'note') ) \\\n",
    "    .union(metrics_21.select('Nº', 'ML method', 'features', 'elasticNetParam', 'maxIter', 'regParam', \\\n",
    "            'maxDepth', 'numTrees', 'f1', 'note') )"
   ]
  },
  {
   "cell_type": "code",
   "execution_count": 55,
   "metadata": {},
   "outputs": [
    {
     "data": {
      "application/vnd.jupyter.widget-view+json": {
       "model_id": "a99244d7275d4f379d10e7f755cb4009",
       "version_major": 2,
       "version_minor": 0
      },
      "text/plain": [
       "VBox()"
      ]
     },
     "metadata": {},
     "output_type": "display_data"
    },
    {
     "data": {
      "application/vnd.jupyter.widget-view+json": {
       "model_id": "",
       "version_major": 2,
       "version_minor": 0
      },
      "text/plain": [
       "FloatProgress(value=0.0, bar_style='info', description='Progress:', layout=Layout(height='25px', width='50%'),…"
      ]
     },
     "metadata": {},
     "output_type": "display_data"
    },
    {
     "name": "stdout",
     "output_type": "stream",
     "text": [
      "+---+-------------+--------+---------------+-------+--------+--------+--------+------------------+--------------------------+\n",
      "|Nº |ML method    |features|elasticNetParam|maxIter|regParam|maxDepth|numTrees|f1                |note                      |\n",
      "+---+-------------+--------+---------------+-------+--------+--------+--------+------------------+--------------------------+\n",
      "|15 |Random Forest|22      |N/A            |N/A    |N/A     |6       |100     |0.8137938477161866|big dataset features**    |\n",
      "|16 |Random Forest|13      |N/A            |N/A    |N/A     |6       |50      |0.8243558706304979|features derived from Nº15|\n",
      "|17 |Random Forest|9       |N/A            |N/A    |N/A     |6       |20      |0.8084889296285297|features derived from Nº16|\n",
      "|18 |Random Forest|11      |N/A            |N/A    |N/A     |6       |50      |0.824815310854039 |features derived from Nº16|\n",
      "|19 |GBTClassifier|22      |N/A            |default|N/A     |default |N/A     |0.8148460890342518|big dataset features**    |\n",
      "|20 |GBTClassifier|22      |N/A            |200    |N/A     |5       |N/A     |0.8187400219006676|big dataset features**    |\n",
      "|21 |GBTClassifier|12      |N/A            |50     |N/A     |5       |N/A     |0.8216342673718903|features derived from Nº20|\n",
      "+---+-------------+--------+---------------+-------+--------+--------+--------+------------------+--------------------------+"
     ]
    }
   ],
   "source": [
    "metrics_downgraded.show(20, False)"
   ]
  },
  {
   "cell_type": "markdown",
   "metadata": {},
   "source": [
    "\\*\\* The *big data set* features have been selected by a separate analysis fitted the churn group of *downgraded* users."
   ]
  },
  {
   "cell_type": "markdown",
   "metadata": {},
   "source": [
    "### Average F1 for downgraded users"
   ]
  },
  {
   "cell_type": "code",
   "execution_count": 56,
   "metadata": {},
   "outputs": [
    {
     "data": {
      "application/vnd.jupyter.widget-view+json": {
       "model_id": "8f643a6c631a4de1996ce981f2083909",
       "version_major": 2,
       "version_minor": 0
      },
      "text/plain": [
       "VBox()"
      ]
     },
     "metadata": {},
     "output_type": "display_data"
    },
    {
     "data": {
      "application/vnd.jupyter.widget-view+json": {
       "model_id": "",
       "version_major": 2,
       "version_minor": 0
      },
      "text/plain": [
       "FloatProgress(value=0.0, bar_style='info', description='Progress:', layout=Layout(height='25px', width='50%'),…"
      ]
     },
     "metadata": {},
     "output_type": "display_data"
    },
    {
     "name": "stdout",
     "output_type": "stream",
     "text": [
      "+------------------+\n",
      "|           avg(F1)|\n",
      "+------------------+\n",
      "|0.8180963338765804|\n",
      "+------------------+"
     ]
    }
   ],
   "source": [
    "metrics_downgraded.select('F1').groupby().avg().show()"
   ]
  },
  {
   "cell_type": "markdown",
   "metadata": {},
   "source": [
    "### Best model for downgraded users"
   ]
  },
  {
   "cell_type": "code",
   "execution_count": 57,
   "metadata": {},
   "outputs": [
    {
     "data": {
      "application/vnd.jupyter.widget-view+json": {
       "model_id": "37706eb3ed884be4b771b9c67f4c3e4e",
       "version_major": 2,
       "version_minor": 0
      },
      "text/plain": [
       "VBox()"
      ]
     },
     "metadata": {},
     "output_type": "display_data"
    },
    {
     "data": {
      "application/vnd.jupyter.widget-view+json": {
       "model_id": "",
       "version_major": 2,
       "version_minor": 0
      },
      "text/plain": [
       "FloatProgress(value=0.0, bar_style='info', description='Progress:', layout=Layout(height='25px', width='50%'),…"
      ]
     },
     "metadata": {},
     "output_type": "display_data"
    },
    {
     "name": "stdout",
     "output_type": "stream",
     "text": [
      "+-----------------+------------------+------------------+------------------+------------------+\n",
      "|               f1|          accuracy| weightedPrecision|    weightedRecall|               AUC|\n",
      "+-----------------+------------------+------------------+------------------+------------------+\n",
      "|0.824815310854039|0.8339698944057515|0.8233021851946406|0.8339698944057515|0.7187978616553737|\n",
      "+-----------------+------------------+------------------+------------------+------------------+"
     ]
    }
   ],
   "source": [
    "metrics_18.select('f1', 'accuracy', 'weightedPrecision', 'weightedRecall', 'AUC').show()"
   ]
  },
  {
   "cell_type": "code",
   "execution_count": 58,
   "metadata": {},
   "outputs": [
    {
     "data": {
      "application/vnd.jupyter.widget-view+json": {
       "model_id": "2c01f4a4f6d743198035330d238a1e2e",
       "version_major": 2,
       "version_minor": 0
      },
      "text/plain": [
       "VBox()"
      ]
     },
     "metadata": {},
     "output_type": "display_data"
    },
    {
     "data": {
      "application/vnd.jupyter.widget-view+json": {
       "model_id": "",
       "version_major": 2,
       "version_minor": 0
      },
      "text/plain": [
       "FloatProgress(value=0.0, bar_style='info', description='Progress:', layout=Layout(height='25px', width='50%'),…"
      ]
     },
     "metadata": {},
     "output_type": "display_data"
    },
    {
     "name": "stdout",
     "output_type": "stream",
     "text": [
      "+-----------------+----------+\n",
      "|feature          |importance|\n",
      "+-----------------+----------+\n",
      "|NonSongCount     |0.264593  |\n",
      "|RollAdvertCount  |0.237722  |\n",
      "|RollAdvertPerHour|0.111845  |\n",
      "|LogCount         |0.097003  |\n",
      "|LogoutCount      |0.083322  |\n",
      "|TotalSongLength  |0.051403  |\n",
      "|SongCount        |0.049966  |\n",
      "|ThumbsDownCount  |0.044441  |\n",
      "|UniqueSongCount  |0.029354  |\n",
      "|HomePerHour      |0.015263  |\n",
      "|AddFriendCount   |0.015088  |\n",
      "+-----------------+----------+"
     ]
    }
   ],
   "source": [
    "importances_18 = spark.read.json('s3n://amosvoron-sparkify/rfc-downgraded-feature-importances-11h.json')\n",
    "importances_18.sort(desc('importance')).select('feature', round('importance', 6).alias('importance')).show(30, False)"
   ]
  },
  {
   "cell_type": "markdown",
   "metadata": {},
   "source": [
    "# Summary"
   ]
  },
  {
   "cell_type": "markdown",
   "metadata": {},
   "source": [
    "In total, **21 models** for both churn groups have been trained on cluster, **14** for the *cancelled* users and **7** for the *downgraded* users. The models differ in selected *features*, *learning method*, and *hyperparameters*. Three learning methods have been used: *Logistic Regression*, *Random Forest*, and *GBTClassifier*. The best models for the first and the second group were fitted by the **GBTClassifier** and **Random Forest**, respectively. The both learning methods have produced similar results above 0.8 of F1 while the **Logistic Regression** method has F1 below 0.8.\n",
    "\n",
    "The two churn groups have shows distinct statistics in the analysis (exlained in *Sparkify.ipynb*) followed by the different selection of the engineered features chosen for each model type. Our initial hypothesis that **the both groups should be separated** has been confirmed by the results. If we compare the best model lists of top 10 features ordered by importance we notice only 3 features shared by both groups: *NonSongCount*, *RollAdvertCount*, *RollAdvertPerHour*. These 3 features contribute around **17%** of importance to the group of *cancelled* users and around **61%** of importance to the group of *downgraded* users.\n",
    "\n",
    "Concerning the chosen metrics used for evaluating our models, we have achieved the F1 score of **0.8994** for the *cancelled* users and **0.8248** for the *downgraded* users. The average of 14 models for the *cancelled* users gives the F1 score of **0.8574** while the average F1 score for the *downgraded* users is **0.8181**. The best top 3 features by importances for the *cancelled* users are *AvgSessionGap*, *NonSongCount*, *SessionCount* and *NonSongCount*, *RollAdvertCount*, *RollAdvertPerHour* for the *downgraded* users.\n",
    "\n",
    "Better results of the group of *cancelled* users can be attributed to more distinctive characteristics that have the *cancelled* users over the *downgraded* users considering the fact that the difference could not come from the *analysis* and *feature engineering* since **the same statistical methodology has been applied**. The other reason that cannot be exluded could be that the models of *downgraded* users haven't been tuned so well as the models for the *cancelled* users."
   ]
  }
 ],
 "metadata": {
  "kernelspec": {
   "display_name": "PySpark",
   "language": "",
   "name": "pysparkkernel"
  },
  "language_info": {
   "codemirror_mode": {
    "name": "python",
    "version": 2
   },
   "mimetype": "text/x-python",
   "name": "pyspark",
   "pygments_lexer": "python2"
  }
 },
 "nbformat": 4,
 "nbformat_minor": 4
}
