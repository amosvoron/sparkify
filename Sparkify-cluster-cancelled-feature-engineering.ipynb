{
 "cells": [
  {
   "cell_type": "markdown",
   "metadata": {},
   "source": [
    "# Feature Engineering on cluster for Cancelled users"
   ]
  },
  {
   "cell_type": "markdown",
   "metadata": {},
   "source": [
    "##### The feature is marked as candidate feature if\n",
    "\n",
    "      |Δ| > 0.10"
   ]
  },
  {
   "cell_type": "code",
   "execution_count": 1,
   "metadata": {},
   "outputs": [
    {
     "data": {
      "application/vnd.jupyter.widget-view+json": {
       "model_id": "271e6a5d8b214d69a2aac2a62b70d5d5",
       "version_major": 2,
       "version_minor": 0
      },
      "text/plain": [
       "VBox()"
      ]
     },
     "metadata": {},
     "output_type": "display_data"
    },
    {
     "name": "stdout",
     "output_type": "stream",
     "text": [
      "Starting Spark application\n"
     ]
    },
    {
     "data": {
      "text/html": [
       "<table>\n",
       "<tr><th>ID</th><th>YARN Application ID</th><th>Kind</th><th>State</th><th>Spark UI</th><th>Driver log</th><th>Current session?</th></tr><tr><td>47</td><td>application_1597998755054_0083</td><td>pyspark</td><td>idle</td><td><a target=\"_blank\" href=\"http://ip-172-31-39-107.us-east-2.compute.internal:20888/proxy/application_1597998755054_0083/\">Link</a></td><td><a target=\"_blank\" href=\"http://ip-172-31-47-165.us-east-2.compute.internal:8042/node/containerlogs/container_1597998755054_0083_01_000001/livy\">Link</a></td><td>✔</td></tr></table>"
      ],
      "text/plain": [
       "<IPython.core.display.HTML object>"
      ]
     },
     "metadata": {},
     "output_type": "display_data"
    },
    {
     "data": {
      "application/vnd.jupyter.widget-view+json": {
       "model_id": "",
       "version_major": 2,
       "version_minor": 0
      },
      "text/plain": [
       "FloatProgress(value=0.0, bar_style='info', description='Progress:', layout=Layout(height='25px', width='50%'),…"
      ]
     },
     "metadata": {},
     "output_type": "display_data"
    },
    {
     "name": "stdout",
     "output_type": "stream",
     "text": [
      "SparkSession available as 'spark'.\n"
     ]
    },
    {
     "data": {
      "application/vnd.jupyter.widget-view+json": {
       "model_id": "",
       "version_major": 2,
       "version_minor": 0
      },
      "text/plain": [
       "FloatProgress(value=0.0, bar_style='info', description='Progress:', layout=Layout(height='25px', width='50%'),…"
      ]
     },
     "metadata": {},
     "output_type": "display_data"
    },
    {
     "name": "stdout",
     "output_type": "stream",
     "text": [
      "Welcome to my EMR Notebook!"
     ]
    }
   ],
   "source": [
    "print(\"Welcome to my EMR Notebook!\")"
   ]
  },
  {
   "cell_type": "code",
   "execution_count": 114,
   "metadata": {},
   "outputs": [
    {
     "data": {
      "application/vnd.jupyter.widget-view+json": {
       "model_id": "fbb849217a06489e885cc1f2648f44df",
       "version_major": 2,
       "version_minor": 0
      },
      "text/plain": [
       "VBox()"
      ]
     },
     "metadata": {},
     "output_type": "display_data"
    },
    {
     "data": {
      "application/vnd.jupyter.widget-view+json": {
       "model_id": "",
       "version_major": 2,
       "version_minor": 0
      },
      "text/plain": [
       "FloatProgress(value=0.0, bar_style='info', description='Progress:', layout=Layout(height='25px', width='50%'),…"
      ]
     },
     "metadata": {},
     "output_type": "display_data"
    }
   ],
   "source": [
    "# Import libraries\n",
    "from pyspark.sql import SparkSession\n",
    "from pyspark.sql.functions import isnan, count, when, col, desc, udf, col, sort_array, asc, \\\n",
    "                                  avg, from_unixtime, split, min, max, lit, mean, col\n",
    "from pyspark.sql.functions import sum as Fsum\n",
    "from pyspark.sql.functions import abs as Fabs\n",
    "from pyspark.sql.functions import row_number\n",
    "from pyspark.sql.window import Window\n",
    "\n",
    "import datetime\n",
    "from pyspark.sql.types import IntegerType, TimestampType, FloatType\n",
    "from pyspark.sql.functions import to_date, year, month, dayofmonth, dayofweek, hour, date_format, substring\n",
    "\n",
    "import numpy as np\n",
    "import time"
   ]
  },
  {
   "cell_type": "code",
   "execution_count": 3,
   "metadata": {},
   "outputs": [
    {
     "data": {
      "application/vnd.jupyter.widget-view+json": {
       "model_id": "ee906493713b433d9acfdf9941079f85",
       "version_major": 2,
       "version_minor": 0
      },
      "text/plain": [
       "VBox()"
      ]
     },
     "metadata": {},
     "output_type": "display_data"
    },
    {
     "data": {
      "application/vnd.jupyter.widget-view+json": {
       "model_id": "",
       "version_major": 2,
       "version_minor": 0
      },
      "text/plain": [
       "FloatProgress(value=0.0, bar_style='info', description='Progress:', layout=Layout(height='25px', width='50%'),…"
      ]
     },
     "metadata": {},
     "output_type": "display_data"
    }
   ],
   "source": [
    "# Create spark session\n",
    "spark = SparkSession \\\n",
    "    .builder \\\n",
    "    .appName(\"Sparkify\") \\\n",
    "    .getOrCreate()"
   ]
  },
  {
   "cell_type": "code",
   "execution_count": 3,
   "metadata": {},
   "outputs": [
    {
     "data": {
      "application/vnd.jupyter.widget-view+json": {
       "model_id": "30e1eef9967b43729df11bbdb744f51d",
       "version_major": 2,
       "version_minor": 0
      },
      "text/plain": [
       "VBox()"
      ]
     },
     "metadata": {},
     "output_type": "display_data"
    },
    {
     "data": {
      "application/vnd.jupyter.widget-view+json": {
       "model_id": "",
       "version_major": 2,
       "version_minor": 0
      },
      "text/plain": [
       "FloatProgress(value=0.0, bar_style='info', description='Progress:', layout=Layout(height='25px', width='50%'),…"
      ]
     },
     "metadata": {},
     "output_type": "display_data"
    }
   ],
   "source": [
    "# Set time parser policy\n",
    "spark.conf.set(\"spark.sql.legacy.timeParserPolicy\",\"LEGACY\")"
   ]
  },
  {
   "cell_type": "code",
   "execution_count": 4,
   "metadata": {},
   "outputs": [
    {
     "data": {
      "application/vnd.jupyter.widget-view+json": {
       "model_id": "2c9de0b9c3ef47368019a89d5ac5b2f5",
       "version_major": 2,
       "version_minor": 0
      },
      "text/plain": [
       "VBox()"
      ]
     },
     "metadata": {},
     "output_type": "display_data"
    },
    {
     "data": {
      "application/vnd.jupyter.widget-view+json": {
       "model_id": "",
       "version_major": 2,
       "version_minor": 0
      },
      "text/plain": [
       "FloatProgress(value=0.0, bar_style='info', description='Progress:', layout=Layout(height='25px', width='50%'),…"
      ]
     },
     "metadata": {},
     "output_type": "display_data"
    },
    {
     "name": "stdout",
     "output_type": "stream",
     "text": [
      "Row(artist='Popol Vuh', auth='Logged In', firstName='Shlok', gender='M', itemInSession=278, lastName='Johnson', length=524.32934, level='paid', location='Dallas-Fort Worth-Arlington, TX', method='PUT', page='NextSong', registration=1533734541000, sessionId=22683, song='Ich mache einen Spiegel - Dream Part 4', status=200, ts=1538352001000, userAgent='\"Mozilla/5.0 (Windows NT 6.1; WOW64) AppleWebKit/537.36 (KHTML, like Gecko) Chrome/36.0.1985.143 Safari/537.36\"', userId='1749042')"
     ]
    }
   ],
   "source": [
    "# Read in full sparkify dataset\n",
    "event_data = \"s3n://udacity-dsnd/sparkify/sparkify_event_data.json\"\n",
    "data = spark.read.json(event_data)\n",
    "data.head()"
   ]
  },
  {
   "cell_type": "markdown",
   "metadata": {},
   "source": [
    "### Prepare data"
   ]
  },
  {
   "cell_type": "code",
   "execution_count": 5,
   "metadata": {},
   "outputs": [
    {
     "data": {
      "application/vnd.jupyter.widget-view+json": {
       "model_id": "03615627e9c9451ea1fc567fc982b30a",
       "version_major": 2,
       "version_minor": 0
      },
      "text/plain": [
       "VBox()"
      ]
     },
     "metadata": {},
     "output_type": "display_data"
    },
    {
     "data": {
      "application/vnd.jupyter.widget-view+json": {
       "model_id": "",
       "version_major": 2,
       "version_minor": 0
      },
      "text/plain": [
       "FloatProgress(value=0.0, bar_style='info', description='Progress:', layout=Layout(height='25px', width='50%'),…"
      ]
     },
     "metadata": {},
     "output_type": "display_data"
    }
   ],
   "source": [
    "# Function that returns all users of a specified churn group\n",
    "def get_users(churn):\n",
    "    \"\"\"Returns all distinct users of a specified churn group.\n",
    "    \n",
    "    Args:\n",
    "        churn (int): A specified churn group - 1 for churned and 0 for non-churned users.\n",
    "        \n",
    "    Returns:\n",
    "        DataFrame: A dataframe query with filtered users.\n",
    "    \"\"\"\n",
    "    return data.where(data.churn == 1).select('userId').dropDuplicates()"
   ]
  },
  {
   "cell_type": "code",
   "execution_count": 6,
   "metadata": {},
   "outputs": [
    {
     "data": {
      "application/vnd.jupyter.widget-view+json": {
       "model_id": "83717b3d9f7343af956282d26b220fd4",
       "version_major": 2,
       "version_minor": 0
      },
      "text/plain": [
       "VBox()"
      ]
     },
     "metadata": {},
     "output_type": "display_data"
    },
    {
     "data": {
      "application/vnd.jupyter.widget-view+json": {
       "model_id": "",
       "version_major": 2,
       "version_minor": 0
      },
      "text/plain": [
       "FloatProgress(value=0.0, bar_style='info', description='Progress:', layout=Layout(height='25px', width='50%'),…"
      ]
     },
     "metadata": {},
     "output_type": "display_data"
    },
    {
     "name": "stdout",
     "output_type": "stream",
     "text": [
      "22278"
     ]
    }
   ],
   "source": [
    "# Count all users\n",
    "data.select('userId').dropDuplicates().count()"
   ]
  },
  {
   "cell_type": "code",
   "execution_count": 7,
   "metadata": {},
   "outputs": [
    {
     "data": {
      "application/vnd.jupyter.widget-view+json": {
       "model_id": "7955d3f261ff4dffba5122569e3582d2",
       "version_major": 2,
       "version_minor": 0
      },
      "text/plain": [
       "VBox()"
      ]
     },
     "metadata": {},
     "output_type": "display_data"
    },
    {
     "data": {
      "application/vnd.jupyter.widget-view+json": {
       "model_id": "",
       "version_major": 2,
       "version_minor": 0
      },
      "text/plain": [
       "FloatProgress(value=0.0, bar_style='info', description='Progress:', layout=Layout(height='25px', width='50%'),…"
      ]
     },
     "metadata": {},
     "output_type": "display_data"
    },
    {
     "name": "stdout",
     "output_type": "stream",
     "text": [
      "Churned (cancelled) users: 5003"
     ]
    }
   ],
   "source": [
    "# Remove rows with missing users\n",
    "data = data.where(~((col('userId').isNull()) | (col('userId') == '')))\n",
    "\n",
    "# Exclude non-relevant columns\n",
    "data = data.drop('firstName')\n",
    "data = data.drop('lastName')\n",
    "\n",
    "# Add tsDate and date column\n",
    "data = data.withColumn('tsDate', (col('ts') / 1000.0).cast(TimestampType()))\n",
    "data = data.withColumn('date', date_format(col('tsDate'), 'yyyy-MM-dd').alias('date').cast('date'))\n",
    "\n",
    "# Label churned users using Cancellation Confirmation event\n",
    "query_churn_by_cc = data.where(data.page == 'Cancellation Confirmation')\n",
    "canceled = query_churn_by_cc.select('userId').dropDuplicates().select('userId')\n",
    "canceled_uids = [row.userId for row in canceled.collect()];\n",
    "set_churn = udf(lambda x: 1 if x in canceled_uids else 0, IntegerType())\n",
    "data = data.withColumn('churn', set_churn('userId'))\n",
    "\n",
    "# Add [userRowId] column that assigns a 1-based index to every user's log ordered by [ts]\n",
    "w =  Window.partitionBy(data.userId).orderBy('ts', 'itemInSession')\n",
    "data = data.withColumn('userRowId', row_number().over(w))\n",
    "\n",
    "# Add [userRowDescId] column that assigns a 1-based index to every user's log ordered by [ts] descending.\n",
    "w =  Window.partitionBy(data.userId).orderBy(col('ts').desc(), col('itemInSession').desc())\n",
    "data = data.withColumn('userRowDescId', row_number().over(w))\n",
    "\n",
    "# Add last level column\n",
    "last_levels = dict()\n",
    "for row in data.where(data.userRowDescId == 1).select('userId', 'level').collect():\n",
    "    last_levels[row.userId] = row.level\n",
    "get_level = udf(lambda userId: last_levels[userId])\n",
    "data = data.withColumn('lastLevel', get_level('userId'))\n",
    "\n",
    "# Prepare labels\n",
    "labels = data.select(col('churn').alias('label'), 'userId').dropDuplicates()\n",
    "\n",
    "# Count churned users\n",
    "print(f'Churned (cancelled) users: {get_users(1).count()}')"
   ]
  },
  {
   "cell_type": "code",
   "execution_count": 8,
   "metadata": {},
   "outputs": [
    {
     "data": {
      "application/vnd.jupyter.widget-view+json": {
       "model_id": "8c58a5f7011c428aad066e049a50414b",
       "version_major": 2,
       "version_minor": 0
      },
      "text/plain": [
       "VBox()"
      ]
     },
     "metadata": {},
     "output_type": "display_data"
    },
    {
     "data": {
      "application/vnd.jupyter.widget-view+json": {
       "model_id": "",
       "version_major": 2,
       "version_minor": 0
      },
      "text/plain": [
       "FloatProgress(value=0.0, bar_style='info', description='Progress:', layout=Layout(height='25px', width='50%'),…"
      ]
     },
     "metadata": {},
     "output_type": "display_data"
    },
    {
     "name": "stdout",
     "output_type": "stream",
     "text": [
      "root\n",
      " |-- artist: string (nullable = true)\n",
      " |-- auth: string (nullable = true)\n",
      " |-- gender: string (nullable = true)\n",
      " |-- itemInSession: long (nullable = true)\n",
      " |-- length: double (nullable = true)\n",
      " |-- level: string (nullable = true)\n",
      " |-- location: string (nullable = true)\n",
      " |-- method: string (nullable = true)\n",
      " |-- page: string (nullable = true)\n",
      " |-- registration: long (nullable = true)\n",
      " |-- sessionId: long (nullable = true)\n",
      " |-- song: string (nullable = true)\n",
      " |-- status: long (nullable = true)\n",
      " |-- ts: long (nullable = true)\n",
      " |-- userAgent: string (nullable = true)\n",
      " |-- userId: string (nullable = true)\n",
      " |-- tsDate: timestamp (nullable = true)\n",
      " |-- date: date (nullable = true)\n",
      " |-- churn: integer (nullable = true)\n",
      " |-- userRowId: integer (nullable = true)\n",
      " |-- userRowDescId: integer (nullable = true)\n",
      " |-- lastLevel: string (nullable = true)"
     ]
    }
   ],
   "source": [
    "data.printSchema()"
   ]
  },
  {
   "cell_type": "markdown",
   "metadata": {},
   "source": [
    "### Queries"
   ]
  },
  {
   "cell_type": "code",
   "execution_count": 12,
   "metadata": {},
   "outputs": [
    {
     "data": {
      "application/vnd.jupyter.widget-view+json": {
       "model_id": "840a0fdabd9e477285fbccad845a103e",
       "version_major": 2,
       "version_minor": 0
      },
      "text/plain": [
       "VBox()"
      ]
     },
     "metadata": {},
     "output_type": "display_data"
    },
    {
     "data": {
      "application/vnd.jupyter.widget-view+json": {
       "model_id": "",
       "version_major": 2,
       "version_minor": 0
      },
      "text/plain": [
       "FloatProgress(value=0.0, bar_style='info', description='Progress:', layout=Layout(height='25px', width='50%'),…"
      ]
     },
     "metadata": {},
     "output_type": "display_data"
    }
   ],
   "source": [
    "# All unique users\n",
    "users = data.select('userId').dropDuplicates()\n",
    "\n",
    "# Pages without churn definition events\n",
    "page_data = data.where(~data.page.isin(['Cancel', 'Cancellation Confirmation'])) \\\n",
    "    .select('churn', 'page', 'userId', 'sessionId', 'ts', 'date')\n",
    "\n",
    "# Calc session duration (in hours)\n",
    "session_hours = page_data \\\n",
    "    .groupby('userId', 'sessionId') \\\n",
    "    .agg(((max('ts') - min('ts'))/1000/3600).alias('sessionHours'))\n",
    "\n",
    "# User interactions duration per user (in hours)\n",
    "user_hours = page_data \\\n",
    "    .groupby('userId', 'sessionId') \\\n",
    "    .agg(((max('ts') - min('ts'))/1000/3600).alias('sessionHours')) \\\n",
    "    .groupby('userId') \\\n",
    "    .agg(Fsum('sessionHours').alias('hours'))  "
   ]
  },
  {
   "cell_type": "markdown",
   "metadata": {},
   "source": [
    "### Global Variables"
   ]
  },
  {
   "cell_type": "code",
   "execution_count": 27,
   "metadata": {},
   "outputs": [
    {
     "data": {
      "application/vnd.jupyter.widget-view+json": {
       "model_id": "68d86ec3730c482782f8202dd143fc42",
       "version_major": 2,
       "version_minor": 0
      },
      "text/plain": [
       "VBox()"
      ]
     },
     "metadata": {},
     "output_type": "display_data"
    },
    {
     "data": {
      "application/vnd.jupyter.widget-view+json": {
       "model_id": "",
       "version_major": 2,
       "version_minor": 0
      },
      "text/plain": [
       "FloatProgress(value=0.0, bar_style='info', description='Progress:', layout=Layout(height='25px', width='50%'),…"
      ]
     },
     "metadata": {},
     "output_type": "display_data"
    }
   ],
   "source": [
    "# Any feature whose delta fulfills this criterion will be automatically selected (by the show_delta function)\n",
    "delta_threshold = 0.10\n",
    "\n",
    "# The collection of all selected engineered features\n",
    "selected_features = []"
   ]
  },
  {
   "cell_type": "markdown",
   "metadata": {},
   "source": [
    "### Functions"
   ]
  },
  {
   "cell_type": "code",
   "execution_count": 76,
   "metadata": {},
   "outputs": [
    {
     "data": {
      "application/vnd.jupyter.widget-view+json": {
       "model_id": "9b538d89f33a4be5af0a4ab65de0a66b",
       "version_major": 2,
       "version_minor": 0
      },
      "text/plain": [
       "VBox()"
      ]
     },
     "metadata": {},
     "output_type": "display_data"
    },
    {
     "data": {
      "application/vnd.jupyter.widget-view+json": {
       "model_id": "",
       "version_major": 2,
       "version_minor": 0
      },
      "text/plain": [
       "FloatProgress(value=0.0, bar_style='info', description='Progress:', layout=Layout(height='25px', width='50%'),…"
      ]
     },
     "metadata": {},
     "output_type": "display_data"
    }
   ],
   "source": [
    "# We'll calculate the ratio difference (delta) and show it through this function.\n",
    "# Note that we haven't incroporated the delta calculation in spark querying due to \n",
    "# the simplicity of a manual solution (for a very limited number of features though).\n",
    "def show_delta(feature, v1, v0, force_selection=False):\n",
    "    \"\"\"Calculate delta and print it.\n",
    "    \n",
    "    If delta is greater than delta_threshold the feature is selected.\n",
    "    \n",
    "    Args:\n",
    "        feature (string): The name of a feature.\n",
    "        v1 (float): The statistical value of the churned users.\n",
    "        v0 (float): The statistical value of the non-churned users.\n",
    "        force_selection (bool): If True then the feature is selected without the threshold condition. \n",
    "    Returns:\n",
    "        None\n",
    "    \"\"\"\n",
    "    # Calc delta\n",
    "    delta = (v1 - v0)/(v1 + v0)\n",
    "    \n",
    "    # Delete the feature if it already exists (to avoid duplicates):\n",
    "    ix = None\n",
    "    try:\n",
    "        ix = [x['feature'] for x in selected_features].index(feature)\n",
    "        del selected_features[ix]\n",
    "    except ValueError:\n",
    "        pass\n",
    "    \n",
    "    if (force_selection == True) or (abs(delta) > delta_threshold):\n",
    "        selected_features.append({'feature': feature, 'delta': delta})\n",
    "        print(f'Δ for {feature} feature: {round(delta, 4)} (SELECTED)')\n",
    "    else:\n",
    "        print(f'Δ for {feature} feature: {round(delta, 4)}')"
   ]
  },
  {
   "cell_type": "code",
   "execution_count": 30,
   "metadata": {},
   "outputs": [
    {
     "data": {
      "application/vnd.jupyter.widget-view+json": {
       "model_id": "e087837d0539413e87d8883b1063dbe6",
       "version_major": 2,
       "version_minor": 0
      },
      "text/plain": [
       "VBox()"
      ]
     },
     "metadata": {},
     "output_type": "display_data"
    },
    {
     "data": {
      "application/vnd.jupyter.widget-view+json": {
       "model_id": "",
       "version_major": 2,
       "version_minor": 0
      },
      "text/plain": [
       "FloatProgress(value=0.0, bar_style='info', description='Progress:', layout=Layout(height='25px', width='50%'),…"
      ]
     },
     "metadata": {},
     "output_type": "display_data"
    }
   ],
   "source": [
    "# Function that returns all users of a specified churn group\n",
    "def get_users(churn):\n",
    "    return data.where(data.churn == 1).select('userId').dropDuplicates()\n",
    "\n",
    "# Count page logs\n",
    "def page_count(page):\n",
    "    return page_data \\\n",
    "        .where(data.page == page) \\\n",
    "        .groupby('userId') \\\n",
    "        .count() \\\n",
    "        .select('userId', col('count').alias(page.replace(' ', '') + 'Count'))\n",
    "\n",
    "# Average page count per session hour\n",
    "def page_session_hour(page):\n",
    "    return page_data \\\n",
    "        .where(data.page == page) \\\n",
    "        .join(session_hours, ['userId', 'sessionId'], 'inner') \\\n",
    "        .groupby( 'userId', 'sessionId', 'sessionHours') \\\n",
    "        .agg((count('userId')/col('sessionHours')).alias('avgPerSession')) \\\n",
    "        .groupby('userId') \\\n",
    "        .agg(avg('avgPerSession').alias('avg')) \\\n",
    "        .select('userId', col('avg').alias(page.replace(' ', '') + 'PerSessionHour'))\n",
    "\n",
    "# Average page count per hour\n",
    "def page_hour(page):\n",
    "    return page_data \\\n",
    "        .where(data.page == page) \\\n",
    "        .join(user_hours, 'userId', 'inner') \\\n",
    "        .groupby('userId', 'hours') \\\n",
    "        .agg((count('userId')/col('hours')).alias('avg')) \\\n",
    "        .select('userId', col('avg').alias(page.replace(' ', '') + 'PerHour'))\n",
    "\n",
    "# Average page count per day\n",
    "def page_day(page):\n",
    "    return page_data \\\n",
    "        .where(data.page == page) \\\n",
    "        .groupby('userId', 'date') \\\n",
    "        .count() \\\n",
    "        .groupby('userId') \\\n",
    "        .agg(avg('count').alias(page.replace(' ', '') + 'PerDay'))\n"
   ]
  },
  {
   "cell_type": "markdown",
   "metadata": {},
   "source": [
    "### Features"
   ]
  },
  {
   "cell_type": "code",
   "execution_count": 31,
   "metadata": {},
   "outputs": [
    {
     "data": {
      "application/vnd.jupyter.widget-view+json": {
       "model_id": "84e6c8b4d13b40cc970140da42b1eb14",
       "version_major": 2,
       "version_minor": 0
      },
      "text/plain": [
       "VBox()"
      ]
     },
     "metadata": {},
     "output_type": "display_data"
    },
    {
     "data": {
      "application/vnd.jupyter.widget-view+json": {
       "model_id": "",
       "version_major": 2,
       "version_minor": 0
      },
      "text/plain": [
       "FloatProgress(value=0.0, bar_style='info', description='Progress:', layout=Layout(height='25px', width='50%'),…"
      ]
     },
     "metadata": {},
     "output_type": "display_data"
    }
   ],
   "source": [
    "    f_Gender = data \\\n",
    "        .select('userId', 'gender') \\\n",
    "        .dropDuplicates() \\\n",
    "        .replace(['M', 'F'], ['0', '1'], 'gender') \\\n",
    "        .select('userId', col('gender').cast('int').alias('Gender'))\n",
    "\n",
    "    f_LastLevel = data \\\n",
    "        .select('userId', 'lastLevel') \\\n",
    "        .dropDuplicates() \\\n",
    "        .replace(['free', 'paid'], ['0', '1'], 'lastLevel') \\\n",
    "        .select('userId', col('lastLevel').cast('int').alias('LastLevel'))\n",
    "\n",
    "    f_LogCount = data \\\n",
    "        .groupby('userId') \\\n",
    "        .agg(count('userId').alias('LogCount'))\n",
    "\n",
    "    f_SongCount = data \\\n",
    "        .where(data.page == 'NextSong') \\\n",
    "        .groupby('userId') \\\n",
    "        .agg(count('userId').alias('SongCount'))\n",
    "\n",
    "    f_NonSongCount = data \\\n",
    "        .where(data.page != 'NextSong') \\\n",
    "        .groupby('userId') \\\n",
    "        .agg(count('userId').alias('NonSongCount'))\n",
    "\n",
    "    f_AboutCount = page_count('About')\n",
    "\n",
    "    f_ThumbsUpCount = page_count('Thumbs Up')\n",
    "\n",
    "    f_RollAdvertCount = page_count('Roll Advert')\n",
    "\n",
    "    f_SessionCount = data \\\n",
    "        .select('userId', 'sessionId') \\\n",
    "        .dropDuplicates() \\\n",
    "        .groupby('userId') \\\n",
    "        .agg(count('userId').alias('SessionCount'))\n",
    "\n",
    "    f_AvgSessionLength = data \\\n",
    "       .groupby('userId', 'sessionId') \\\n",
    "       .agg(((max('ts') - min('ts'))/1000).alias('sessionLength')) \\\n",
    "       .groupby('userId') \\\n",
    "       .agg(avg('sessionLength').alias('AvgSessionLength')) \\\n",
    "\n",
    "    f_AvgSessionGap = data \\\n",
    "        .groupby('userId', 'sessionId') \\\n",
    "        .agg(min('ts').alias('startTime'), max('ts').alias('endTime')) \\\n",
    "        .groupby('userId') \\\n",
    "        .agg(count('userId').alias('sessionCount'), \\\n",
    "            ((max('endTime') - min('startTime'))/1000).alias('observationPeriodTime'), \\\n",
    "            (Fsum(col('endTime') - col('startTime'))/1000).alias('totalSessionTime')) \\\n",
    "        .where(col('sessionCount') > 1) \\\n",
    "        .join(users, 'userId', 'outer') \\\n",
    "        .fillna(0) \\\n",
    "        .select('userId', \\\n",
    "            (col('observationPeriodTime') - col('totalSessionTime')/(col('sessionCount') - 1)).alias('AvgSessionGap'))\n",
    "\n",
    "    f_DowngradePerSessionHour = page_session_hour('Downgrade')\n",
    "\n",
    "    f_ErrorPerSessionHour = page_session_hour('Error')\n",
    "\n",
    "    f_SettingsPerSessionHour = page_session_hour('Settings')\n",
    "\n",
    "    f_SaveSettingsPerSessionHour = page_session_hour('Save Settings')\n",
    "\n",
    "    f_LogoutPerSessionHour = page_session_hour('Logout')\n",
    "\n",
    "    f_SubmitDowngradePerSessionHour = page_session_hour('Submit Downgrade')\n",
    "\n",
    "    f_RollAdvertPerHour = page_hour('Roll Advert')\n",
    "\n",
    "    f_ThumbsDownPerHour = page_hour('Thumbs Down')\n",
    "\n",
    "    f_UpgradePerHour = page_hour('Upgrade')\n",
    "\n",
    "    f_SubmitUpgradePerHour = page_hour('Submit Upgrade')\n",
    "\n",
    "    f_SessionsPerDay = data \\\n",
    "        .select('userId', 'date', 'sessionId') \\\n",
    "        .dropDuplicates() \\\n",
    "        .groupby('userId', 'date') \\\n",
    "        .count() \\\n",
    "        .groupby('userId') \\\n",
    "        .agg(avg('count').alias('SessionsPerDay'))\n",
    "\n",
    "    f_AddFriendPerDay = page_day('Add Friend')\n",
    "\n",
    "    f_RollAdvertPerDay = page_day('Roll Advert')\n",
    "\n",
    "    f_ThumbsDownPerDay = page_day('Thumbs Down')\n",
    "\n",
    "    f_ThumbsUpPerDay = page_day('Thumbs Up')\n",
    "\n",
    "    f_TotalSongLength = data \\\n",
    "        .where(data.page == 'NextSong') \\\n",
    "        .select('userId', 'length') \\\n",
    "        .groupby('userId') \\\n",
    "        .agg(Fsum('length').alias('TotalSongLength'))\n",
    "\n",
    "    f_UniqueSongCount = data \\\n",
    "        .where(data.page == 'NextSong') \\\n",
    "        .select('userId', 'song') \\\n",
    "        .dropDuplicates() \\\n",
    "        .groupby('userId') \\\n",
    "        .agg(count('userId').alias('UniqueSongCount'))\n",
    "\n",
    "    f_UniqueSongShare = data \\\n",
    "        .where(data.page == 'NextSong') \\\n",
    "        .select('userId', 'song') \\\n",
    "        .dropDuplicates() \\\n",
    "        .groupby('userId') \\\n",
    "        .count() \\\n",
    "        .join(f_SongCount, on = ['userId'], how = 'inner') \\\n",
    "        .select('userId', (col('count')/col('SongCount')).alias('UniqueSongShare')) \n"
   ]
  },
  {
   "cell_type": "markdown",
   "metadata": {},
   "source": [
    "## Feature Check"
   ]
  },
  {
   "cell_type": "markdown",
   "metadata": {},
   "source": [
    "### AvgSessionGap (YES)"
   ]
  },
  {
   "cell_type": "code",
   "execution_count": 18,
   "metadata": {
    "collapsed": true,
    "jupyter": {
     "outputs_hidden": true
    }
   },
   "outputs": [
    {
     "data": {
      "application/vnd.jupyter.widget-view+json": {
       "model_id": "c71ff0a32ea14de88073a772cd8d12d7",
       "version_major": 2,
       "version_minor": 0
      },
      "text/plain": [
       "VBox()"
      ]
     },
     "metadata": {},
     "output_type": "display_data"
    },
    {
     "data": {
      "application/vnd.jupyter.widget-view+json": {
       "model_id": "",
       "version_major": 2,
       "version_minor": 0
      },
      "text/plain": [
       "FloatProgress(value=0.0, bar_style='info', description='Progress:', layout=Layout(height='25px', width='50%'),…"
      ]
     },
     "metadata": {},
     "output_type": "display_data"
    },
    {
     "name": "stdout",
     "output_type": "stream",
     "text": [
      "+-------+-----+-----------------+\n",
      "| userId|label|    AvgSessionGap|\n",
      "+-------+-----+-----------------+\n",
      "|1001393|    0|5037908.333333333|\n",
      "|1002143|    0|4925333.714285715|\n",
      "|1002493|    1|682813.6666666666|\n",
      "|1002749|    0|4810390.533333333|\n",
      "|1004060|    0|       4118678.76|\n",
      "|1004316|    0|4581602.857142857|\n",
      "|1006033|    0|        3844641.0|\n",
      "|1006411|    0|5115310.333333333|\n",
      "|1006697|    0|4368399.181818182|\n",
      "|1008244|    1|         195181.0|\n",
      "|1008404|    1|3341917.830188679|\n",
      "|1010669|    0|        5150961.3|\n",
      "|1010907|    0|4222507.285714285|\n",
      "|1011093|    0|4962723.866666666|\n",
      "|1011149|    0|4317323.444444444|\n",
      "|1011630|    0|       2698736.25|\n",
      "|1012906|    1|         852531.0|\n",
      "|1013788|    0|        3225160.0|\n",
      "|1017431|    0|         307951.0|\n",
      "|1018499|    0|        4995090.5|\n",
      "+-------+-----+-----------------+\n",
      "only showing top 20 rows"
     ]
    }
   ],
   "source": [
    "f_gaps = labels.join(f_AvgSessionGap, 'userId', 'outer') \\\n",
    "    .fillna(0)\n",
    "f_gaps.show()"
   ]
  },
  {
   "cell_type": "code",
   "execution_count": 20,
   "metadata": {},
   "outputs": [
    {
     "data": {
      "application/vnd.jupyter.widget-view+json": {
       "model_id": "3709cadf34474cccb9556dc0fac7e59e",
       "version_major": 2,
       "version_minor": 0
      },
      "text/plain": [
       "VBox()"
      ]
     },
     "metadata": {},
     "output_type": "display_data"
    },
    {
     "data": {
      "application/vnd.jupyter.widget-view+json": {
       "model_id": "",
       "version_major": 2,
       "version_minor": 0
      },
      "text/plain": [
       "FloatProgress(value=0.0, bar_style='info', description='Progress:', layout=Layout(height='25px', width='50%'),…"
      ]
     },
     "metadata": {},
     "output_type": "display_data"
    },
    {
     "name": "stdout",
     "output_type": "stream",
     "text": [
      "+-----+------------------+\n",
      "|label|avg(AvgSessionGap)|\n",
      "+-----+------------------+\n",
      "|    1| 2083145.432607491|\n",
      "|    0| 3935744.507611506|\n",
      "+-----+------------------+"
     ]
    }
   ],
   "source": [
    "f_gaps.groupby('label').agg(avg('AvgSessionGap')).show()"
   ]
  },
  {
   "cell_type": "code",
   "execution_count": 32,
   "metadata": {},
   "outputs": [
    {
     "data": {
      "application/vnd.jupyter.widget-view+json": {
       "model_id": "e5fdfa84ea184f2f9d50459a4e890a8c",
       "version_major": 2,
       "version_minor": 0
      },
      "text/plain": [
       "VBox()"
      ]
     },
     "metadata": {},
     "output_type": "display_data"
    },
    {
     "data": {
      "application/vnd.jupyter.widget-view+json": {
       "model_id": "",
       "version_major": 2,
       "version_minor": 0
      },
      "text/plain": [
       "FloatProgress(value=0.0, bar_style='info', description='Progress:', layout=Layout(height='25px', width='50%'),…"
      ]
     },
     "metadata": {},
     "output_type": "display_data"
    },
    {
     "name": "stdout",
     "output_type": "stream",
     "text": [
      "Δ for AvgSessionGap feature: -0.3078 (SELECTED)"
     ]
    }
   ],
   "source": [
    "show_delta('AvgSessionGap', 2083145.432607491, 3935744.507611506)"
   ]
  },
  {
   "cell_type": "markdown",
   "metadata": {},
   "source": [
    "### Per hour features"
   ]
  },
  {
   "cell_type": "code",
   "execution_count": 33,
   "metadata": {},
   "outputs": [
    {
     "data": {
      "application/vnd.jupyter.widget-view+json": {
       "model_id": "58bb1042cbb643fb8cf494405de25c35",
       "version_major": 2,
       "version_minor": 0
      },
      "text/plain": [
       "VBox()"
      ]
     },
     "metadata": {},
     "output_type": "display_data"
    },
    {
     "data": {
      "application/vnd.jupyter.widget-view+json": {
       "model_id": "",
       "version_major": 2,
       "version_minor": 0
      },
      "text/plain": [
       "FloatProgress(value=0.0, bar_style='info', description='Progress:', layout=Layout(height='25px', width='50%'),…"
      ]
     },
     "metadata": {},
     "output_type": "display_data"
    },
    {
     "name": "stdout",
     "output_type": "stream",
     "text": [
      "+-----+-------------------+--------------------+\n",
      "|churn|               page|     AvgCountPerHour|\n",
      "+-----+-------------------+--------------------+\n",
      "|    0|              About| 0.07056233416090642|\n",
      "|    1|              About|0.055580346583583164|\n",
      "|    0|         Add Friend| 0.32170083638953945|\n",
      "|    1|         Add Friend|  0.2984439504534136|\n",
      "|    0|    Add to Playlist|  0.4261184597926616|\n",
      "|    1|    Add to Playlist| 0.42158988333321673|\n",
      "|    0|          Downgrade| 0.13972529087490965|\n",
      "|    1|          Downgrade|  0.1859004628041162|\n",
      "|    0|              Error| 0.03694080108968873|\n",
      "|    1|              Error| 0.03785066007418288|\n",
      "|    0|               Help| 0.11350187298925041|\n",
      "|    1|               Help| 0.11306976192257237|\n",
      "|    0|               Home|  1.3388497396092536|\n",
      "|    1|               Home|  0.8691192484357486|\n",
      "|    0|              Login|0.020621423633006685|\n",
      "|    0|             Logout|   1.450812997320228|\n",
      "|    1|             Logout|  0.2551084689273071|\n",
      "|    0|           NextSong|   15.35935334061215|\n",
      "|    1|           NextSong|  14.509479886222941|\n",
      "|    0|           Register| 5.58069234137721E-5|\n",
      "|    0|        Roll Advert|   0.633801211842925|\n",
      "|    1|        Roll Advert|  0.9863086431306304|\n",
      "|    0|      Save Settings|0.043726355934739745|\n",
      "|    1|      Save Settings| 0.04206145659762147|\n",
      "|    0|           Settings| 0.13177341107697768|\n",
      "|    1|           Settings| 0.18234346960614486|\n",
      "|    0|   Submit Downgrade|   0.018981978203069|\n",
      "|    1|   Submit Downgrade|0.024503729625633446|\n",
      "|    0|Submit Registration|2.790346170688605E-5|\n",
      "|    0|     Submit Upgrade| 0.02785325006807331|\n",
      "|    1|     Submit Upgrade| 0.03708193589793271|\n",
      "|    0|        Thumbs Down| 0.19713887432189972|\n",
      "|    1|        Thumbs Down|  0.2512814866984421|\n",
      "|    0|          Thumbs Up|  0.8227208569075689|\n",
      "|    1|          Thumbs Up|  0.7385561227454154|\n",
      "|    0|            Upgrade| 0.09338480953467802|\n",
      "|    1|            Upgrade| 0.09476070885291504|\n",
      "+-----+-------------------+--------------------+"
     ]
    }
   ],
   "source": [
    "# Average page count per hour, per churn\n",
    "page_data \\\n",
    "    .join(user_hours, 'userId', 'inner') \\\n",
    "    .groupby('churn', 'userId', 'page', 'hours') \\\n",
    "    .agg((count('userId')/col('hours')).alias('CountPerHour')) \\\n",
    "    .groupby('churn', 'page') \\\n",
    "    .agg(avg('CountPerHour').alias('AvgCountPerHour')) \\\n",
    "    .sort('page', 'churn') \\\n",
    "    .show(100)"
   ]
  },
  {
   "cell_type": "markdown",
   "metadata": {},
   "source": [
    "##### Selected per hour features:"
   ]
  },
  {
   "cell_type": "markdown",
   "metadata": {},
   "source": [
    " - Downgrade\n",
    " - Home\n",
    " - Logout\n",
    " - Roll Advert\n",
    " - Settings\n",
    " - Submit Downgrade\n",
    " - Submit Upgrade\n",
    " - Thumbs Down"
   ]
  },
  {
   "cell_type": "code",
   "execution_count": 34,
   "metadata": {},
   "outputs": [
    {
     "data": {
      "application/vnd.jupyter.widget-view+json": {
       "model_id": "33de65c0b8c14751b7826dd6d0d7b78e",
       "version_major": 2,
       "version_minor": 0
      },
      "text/plain": [
       "VBox()"
      ]
     },
     "metadata": {},
     "output_type": "display_data"
    },
    {
     "data": {
      "application/vnd.jupyter.widget-view+json": {
       "model_id": "",
       "version_major": 2,
       "version_minor": 0
      },
      "text/plain": [
       "FloatProgress(value=0.0, bar_style='info', description='Progress:', layout=Layout(height='25px', width='50%'),…"
      ]
     },
     "metadata": {},
     "output_type": "display_data"
    },
    {
     "name": "stdout",
     "output_type": "stream",
     "text": [
      "Δ for DowngradePerHour feature: 0.1418 (SELECTED)\n",
      "Δ for HomePerHour feature: -0.2127 (SELECTED)\n",
      "Δ for LogoutPerHour feature: -0.7009 (SELECTED)\n",
      "Δ for RollAdvertPerHour feature: 0.2176 (SELECTED)\n",
      "Δ for SettingsPerHour feature: 0.161 (SELECTED)\n",
      "Δ for SubmitDowngradePerHour feature: 0.127 (SELECTED)\n",
      "Δ for SubmitUpgradePerHour feature: 0.1421 (SELECTED)\n",
      "Δ for ThumbsDownPerHour feature: 0.1207 (SELECTED)"
     ]
    }
   ],
   "source": [
    "show_delta('DowngradePerHour', 0.1859004628041162, 0.13972529087490962)\n",
    "show_delta('HomePerHour', 0.8691192484357485, 1.3388497396092534)\n",
    "show_delta('LogoutPerHour', 0.25510846892730715, 1.450812997320228)\n",
    "show_delta('RollAdvertPerHour', 0.9863086431306303, 0.6338012118429249)\n",
    "show_delta('SettingsPerHour', 0.18234346960614486, 0.13177341107697765)\n",
    "show_delta('SubmitDowngradePerHour', 0.024503729625633443, 0.018981978203069)\n",
    "show_delta('SubmitUpgradePerHour', 0.03708193589793271, 0.02785325006807331)\n",
    "show_delta('ThumbsDownPerHour', 0.251281486698442, 0.19713887432189978)"
   ]
  },
  {
   "cell_type": "markdown",
   "metadata": {},
   "source": [
    "### Per day features"
   ]
  },
  {
   "cell_type": "code",
   "execution_count": 31,
   "metadata": {},
   "outputs": [
    {
     "data": {
      "application/vnd.jupyter.widget-view+json": {
       "model_id": "85325871ca5b476fbe12672bbed66c6c",
       "version_major": 2,
       "version_minor": 0
      },
      "text/plain": [
       "VBox()"
      ]
     },
     "metadata": {},
     "output_type": "display_data"
    },
    {
     "data": {
      "application/vnd.jupyter.widget-view+json": {
       "model_id": "",
       "version_major": 2,
       "version_minor": 0
      },
      "text/plain": [
       "FloatProgress(value=0.0, bar_style='info', description='Progress:', layout=Layout(height='25px', width='50%'),…"
      ]
     },
     "metadata": {},
     "output_type": "display_data"
    },
    {
     "name": "stdout",
     "output_type": "stream",
     "text": [
      "+-----+-------------------+------------------+\n",
      "|churn|               page|    AvgCountPerDay|\n",
      "+-----+-------------------+------------------+\n",
      "|    0|              About|1.2265077187557558|\n",
      "|    1|              About|1.1872657560171735|\n",
      "|    0|         Add Friend|2.4517891033084993|\n",
      "|    1|         Add Friend| 2.564261041807439|\n",
      "|    0|    Add to Playlist|2.6646704967460786|\n",
      "|    1|    Add to Playlist| 2.827303473707138|\n",
      "|    0|          Downgrade|1.8509720146725048|\n",
      "|    1|          Downgrade| 1.940805990691478|\n",
      "|    0|              Error|1.0762686323015083|\n",
      "|    1|              Error|1.0822312859523107|\n",
      "|    0|               Help|1.4402423265020787|\n",
      "|    1|               Help|1.4400763045141485|\n",
      "|    0|               Home|3.6046560619564607|\n",
      "|    1|               Home|  3.59223269281641|\n",
      "|    0|              Login| 4858.196721311476|\n",
      "|    0|             Logout|1.6710914426251295|\n",
      "|    1|             Logout|1.7796447995266915|\n",
      "|    0|           NextSong|59.566890284449954|\n",
      "|    1|           NextSong| 68.01703268406474|\n",
      "|    0|           Register|13.147540983606557|\n",
      "|    0|        Roll Advert| 3.014399340519118|\n",
      "|    1|        Roll Advert|3.9996697052271704|\n",
      "|    0|      Save Settings| 1.105331281397112|\n",
      "|    1|      Save Settings| 1.100308267743588|\n",
      "|    0|           Settings|1.5036920189168537|\n",
      "|    1|           Settings|1.5278427199080356|\n",
      "|    0|   Submit Downgrade|1.0024410774410775|\n",
      "|    1|   Submit Downgrade|  1.00440361621464|\n",
      "|    0|Submit Registration| 6.573770491803279|\n",
      "|    0|     Submit Upgrade|1.0022892178203453|\n",
      "|    1|     Submit Upgrade|1.0031098825155493|\n",
      "|    0|        Thumbs Down|1.6757240135595404|\n",
      "|    1|        Thumbs Down|1.8620472492530937|\n",
      "|    0|          Thumbs Up|4.2300136183382255|\n",
      "|    1|          Thumbs Up| 4.301386080142098|\n",
      "|    0|            Upgrade| 1.340829899155819|\n",
      "|    1|            Upgrade| 1.346781361058117|\n",
      "+-----+-------------------+------------------+"
     ]
    }
   ],
   "source": [
    "# Average page count per day, per churn\n",
    "page_data \\\n",
    "    .groupby('churn', 'userId', 'page', 'date') \\\n",
    "    .count() \\\n",
    "    .groupby('churn', 'userId', 'page') \\\n",
    "    .agg(avg('count').alias('AvgCountPerDay')) \\\n",
    "    .groupby('churn', 'page') \\\n",
    "    .agg(avg('AvgCountPerDay').alias('AvgCountPerDay')) \\\n",
    "    .sort('page', 'churn') \\\n",
    "    .show(100)"
   ]
  },
  {
   "cell_type": "markdown",
   "metadata": {},
   "source": [
    "##### Selected per day features:"
   ]
  },
  {
   "cell_type": "markdown",
   "metadata": {},
   "source": [
    " - Roll Advert"
   ]
  },
  {
   "cell_type": "code",
   "execution_count": 35,
   "metadata": {},
   "outputs": [
    {
     "data": {
      "application/vnd.jupyter.widget-view+json": {
       "model_id": "bef54083a44949a48407cb54d7eb8a3d",
       "version_major": 2,
       "version_minor": 0
      },
      "text/plain": [
       "VBox()"
      ]
     },
     "metadata": {},
     "output_type": "display_data"
    },
    {
     "data": {
      "application/vnd.jupyter.widget-view+json": {
       "model_id": "",
       "version_major": 2,
       "version_minor": 0
      },
      "text/plain": [
       "FloatProgress(value=0.0, bar_style='info', description='Progress:', layout=Layout(height='25px', width='50%'),…"
      ]
     },
     "metadata": {},
     "output_type": "display_data"
    },
    {
     "name": "stdout",
     "output_type": "stream",
     "text": [
      "Δ for RollAdvertPerDay feature: 0.1405 (SELECTED)"
     ]
    }
   ],
   "source": [
    "show_delta('RollAdvertPerDay', 3.9996697052271704, 3.014399340519118)"
   ]
  },
  {
   "cell_type": "markdown",
   "metadata": {},
   "source": [
    "### SongCount (NO)"
   ]
  },
  {
   "cell_type": "code",
   "execution_count": 50,
   "metadata": {},
   "outputs": [
    {
     "data": {
      "application/vnd.jupyter.widget-view+json": {
       "model_id": "5805231ec9384dec92640735ed67d8aa",
       "version_major": 2,
       "version_minor": 0
      },
      "text/plain": [
       "VBox()"
      ]
     },
     "metadata": {},
     "output_type": "display_data"
    },
    {
     "data": {
      "application/vnd.jupyter.widget-view+json": {
       "model_id": "",
       "version_major": 2,
       "version_minor": 0
      },
      "text/plain": [
       "FloatProgress(value=0.0, bar_style='info', description='Progress:', layout=Layout(height='25px', width='50%'),…"
      ]
     },
     "metadata": {},
     "output_type": "display_data"
    },
    {
     "name": "stdout",
     "output_type": "stream",
     "text": [
      "+-----+-----------------+\n",
      "|label|   avg(SongCount)|\n",
      "+-----+-----------------+\n",
      "|    1|876.7291625024985|\n",
      "|    0|953.0533140376266|\n",
      "+-----+-----------------+"
     ]
    }
   ],
   "source": [
    "labels.join(f_SongCount, 'userId', 'outer') \\\n",
    "    .fillna(0) \\\n",
    "    .groupby('label').agg(avg('SongCount')).show()"
   ]
  },
  {
   "cell_type": "code",
   "execution_count": 36,
   "metadata": {},
   "outputs": [
    {
     "data": {
      "application/vnd.jupyter.widget-view+json": {
       "model_id": "f645d662b594469788abdefa5c3182b8",
       "version_major": 2,
       "version_minor": 0
      },
      "text/plain": [
       "VBox()"
      ]
     },
     "metadata": {},
     "output_type": "display_data"
    },
    {
     "data": {
      "application/vnd.jupyter.widget-view+json": {
       "model_id": "",
       "version_major": 2,
       "version_minor": 0
      },
      "text/plain": [
       "FloatProgress(value=0.0, bar_style='info', description='Progress:', layout=Layout(height='25px', width='50%'),…"
      ]
     },
     "metadata": {},
     "output_type": "display_data"
    },
    {
     "name": "stdout",
     "output_type": "stream",
     "text": [
      "Δ for SongCount feature: -0.0417"
     ]
    }
   ],
   "source": [
    "show_delta('SongCount', 876.7291625024985, 953.0533140376266)"
   ]
  },
  {
   "cell_type": "markdown",
   "metadata": {},
   "source": [
    "### NonSongCount (YES)"
   ]
  },
  {
   "cell_type": "code",
   "execution_count": 52,
   "metadata": {},
   "outputs": [
    {
     "data": {
      "application/vnd.jupyter.widget-view+json": {
       "model_id": "7453e18cada942dc8589bac9149e2aee",
       "version_major": 2,
       "version_minor": 0
      },
      "text/plain": [
       "VBox()"
      ]
     },
     "metadata": {},
     "output_type": "display_data"
    },
    {
     "data": {
      "application/vnd.jupyter.widget-view+json": {
       "model_id": "",
       "version_major": 2,
       "version_minor": 0
      },
      "text/plain": [
       "FloatProgress(value=0.0, bar_style='info', description='Progress:', layout=Layout(height='25px', width='50%'),…"
      ]
     },
     "metadata": {},
     "output_type": "display_data"
    },
    {
     "name": "stdout",
     "output_type": "stream",
     "text": [
      "+-----+------------------+\n",
      "|label| avg(NonSongCount)|\n",
      "+-----+------------------+\n",
      "|    1|199.11872876274236|\n",
      "|    0|255.44057887120115|\n",
      "+-----+------------------+"
     ]
    }
   ],
   "source": [
    "labels.join(f_NonSongCount, 'userId', 'outer') \\\n",
    "    .fillna(0) \\\n",
    "    .groupby('label').agg(avg('NonSongCount')).show()"
   ]
  },
  {
   "cell_type": "code",
   "execution_count": 37,
   "metadata": {},
   "outputs": [
    {
     "data": {
      "application/vnd.jupyter.widget-view+json": {
       "model_id": "3008e9c2bcc44028852a2144d0afa90b",
       "version_major": 2,
       "version_minor": 0
      },
      "text/plain": [
       "VBox()"
      ]
     },
     "metadata": {},
     "output_type": "display_data"
    },
    {
     "data": {
      "application/vnd.jupyter.widget-view+json": {
       "model_id": "",
       "version_major": 2,
       "version_minor": 0
      },
      "text/plain": [
       "FloatProgress(value=0.0, bar_style='info', description='Progress:', layout=Layout(height='25px', width='50%'),…"
      ]
     },
     "metadata": {},
     "output_type": "display_data"
    },
    {
     "name": "stdout",
     "output_type": "stream",
     "text": [
      "Δ for NonSongCount feature: -0.1239 (SELECTED)"
     ]
    }
   ],
   "source": [
    "show_delta('NonSongCount', 199.11872876274236, 255.44057887120115)"
   ]
  },
  {
   "cell_type": "markdown",
   "metadata": {},
   "source": [
    "### SessionCount (YES)"
   ]
  },
  {
   "cell_type": "code",
   "execution_count": 53,
   "metadata": {},
   "outputs": [
    {
     "data": {
      "application/vnd.jupyter.widget-view+json": {
       "model_id": "7e3e24af51a9453b8183355e482218fd",
       "version_major": 2,
       "version_minor": 0
      },
      "text/plain": [
       "VBox()"
      ]
     },
     "metadata": {},
     "output_type": "display_data"
    },
    {
     "data": {
      "application/vnd.jupyter.widget-view+json": {
       "model_id": "",
       "version_major": 2,
       "version_minor": 0
      },
      "text/plain": [
       "FloatProgress(value=0.0, bar_style='info', description='Progress:', layout=Layout(height='25px', width='50%'),…"
      ]
     },
     "metadata": {},
     "output_type": "display_data"
    },
    {
     "name": "stdout",
     "output_type": "stream",
     "text": [
      "+-----+------------------+\n",
      "|label| avg(SessionCount)|\n",
      "+-----+------------------+\n",
      "|    1|12.300219868079152|\n",
      "|    0|22.786685962373372|\n",
      "+-----+------------------+"
     ]
    }
   ],
   "source": [
    "labels.join(f_SessionCount, 'userId', 'outer') \\\n",
    "    .fillna(0) \\\n",
    "    .groupby('label').agg(avg('SessionCount')).show()"
   ]
  },
  {
   "cell_type": "code",
   "execution_count": 38,
   "metadata": {},
   "outputs": [
    {
     "data": {
      "application/vnd.jupyter.widget-view+json": {
       "model_id": "dc2d06dcf33644078b759c5d597085b7",
       "version_major": 2,
       "version_minor": 0
      },
      "text/plain": [
       "VBox()"
      ]
     },
     "metadata": {},
     "output_type": "display_data"
    },
    {
     "data": {
      "application/vnd.jupyter.widget-view+json": {
       "model_id": "",
       "version_major": 2,
       "version_minor": 0
      },
      "text/plain": [
       "FloatProgress(value=0.0, bar_style='info', description='Progress:', layout=Layout(height='25px', width='50%'),…"
      ]
     },
     "metadata": {},
     "output_type": "display_data"
    },
    {
     "name": "stdout",
     "output_type": "stream",
     "text": [
      "Δ for SessionCount feature: -0.2989 (SELECTED)"
     ]
    }
   ],
   "source": [
    "show_delta('SessionCount', 12.300219868079152, 22.786685962373372)"
   ]
  },
  {
   "cell_type": "markdown",
   "metadata": {},
   "source": [
    "### AvgSessionLength (NO)"
   ]
  },
  {
   "cell_type": "code",
   "execution_count": 54,
   "metadata": {},
   "outputs": [
    {
     "data": {
      "application/vnd.jupyter.widget-view+json": {
       "model_id": "c716d86f15944fb9af7378c6edcc8b12",
       "version_major": 2,
       "version_minor": 0
      },
      "text/plain": [
       "VBox()"
      ]
     },
     "metadata": {},
     "output_type": "display_data"
    },
    {
     "data": {
      "application/vnd.jupyter.widget-view+json": {
       "model_id": "",
       "version_major": 2,
       "version_minor": 0
      },
      "text/plain": [
       "FloatProgress(value=0.0, bar_style='info', description='Progress:', layout=Layout(height='25px', width='50%'),…"
      ]
     },
     "metadata": {},
     "output_type": "display_data"
    },
    {
     "name": "stdout",
     "output_type": "stream",
     "text": [
      "+-----+---------------------+\n",
      "|label|avg(AvgSessionLength)|\n",
      "+-----+---------------------+\n",
      "|    1|   17222.534302078067|\n",
      "|    0|   16409.735186977854|\n",
      "+-----+---------------------+"
     ]
    }
   ],
   "source": [
    "labels.join(f_AvgSessionLength, 'userId', 'outer') \\\n",
    "    .fillna(0) \\\n",
    "    .groupby('label').agg(avg('AvgSessionLength')).show()"
   ]
  },
  {
   "cell_type": "code",
   "execution_count": 39,
   "metadata": {},
   "outputs": [
    {
     "data": {
      "application/vnd.jupyter.widget-view+json": {
       "model_id": "73e27c58061d467da703e36b862a7029",
       "version_major": 2,
       "version_minor": 0
      },
      "text/plain": [
       "VBox()"
      ]
     },
     "metadata": {},
     "output_type": "display_data"
    },
    {
     "data": {
      "application/vnd.jupyter.widget-view+json": {
       "model_id": "",
       "version_major": 2,
       "version_minor": 0
      },
      "text/plain": [
       "FloatProgress(value=0.0, bar_style='info', description='Progress:', layout=Layout(height='25px', width='50%'),…"
      ]
     },
     "metadata": {},
     "output_type": "display_data"
    },
    {
     "name": "stdout",
     "output_type": "stream",
     "text": [
      "Δ for AvgSessionLength feature: 0.0242"
     ]
    }
   ],
   "source": [
    "show_delta('AvgSessionLength', 17222.534302078067, 16409.735186977854)"
   ]
  },
  {
   "cell_type": "markdown",
   "metadata": {},
   "source": [
    "### TotalSongLength (NO)"
   ]
  },
  {
   "cell_type": "code",
   "execution_count": 55,
   "metadata": {},
   "outputs": [
    {
     "data": {
      "application/vnd.jupyter.widget-view+json": {
       "model_id": "d921e4ff62164546b301fe8914c314d7",
       "version_major": 2,
       "version_minor": 0
      },
      "text/plain": [
       "VBox()"
      ]
     },
     "metadata": {},
     "output_type": "display_data"
    },
    {
     "data": {
      "application/vnd.jupyter.widget-view+json": {
       "model_id": "",
       "version_major": 2,
       "version_minor": 0
      },
      "text/plain": [
       "FloatProgress(value=0.0, bar_style='info', description='Progress:', layout=Layout(height='25px', width='50%'),…"
      ]
     },
     "metadata": {},
     "output_type": "display_data"
    },
    {
     "name": "stdout",
     "output_type": "stream",
     "text": [
      "+-----+--------------------+\n",
      "|label|avg(TotalSongLength)|\n",
      "+-----+--------------------+\n",
      "|    1|   218025.0358112713|\n",
      "|    0|  237060.12599282028|\n",
      "+-----+--------------------+"
     ]
    }
   ],
   "source": [
    "labels.join(f_TotalSongLength, 'userId', 'outer') \\\n",
    "    .fillna(0) \\\n",
    "    .groupby('label').agg(avg('TotalSongLength')).show()"
   ]
  },
  {
   "cell_type": "code",
   "execution_count": 40,
   "metadata": {},
   "outputs": [
    {
     "data": {
      "application/vnd.jupyter.widget-view+json": {
       "model_id": "89ee8e590c65422899073a37d5162a8c",
       "version_major": 2,
       "version_minor": 0
      },
      "text/plain": [
       "VBox()"
      ]
     },
     "metadata": {},
     "output_type": "display_data"
    },
    {
     "data": {
      "application/vnd.jupyter.widget-view+json": {
       "model_id": "",
       "version_major": 2,
       "version_minor": 0
      },
      "text/plain": [
       "FloatProgress(value=0.0, bar_style='info', description='Progress:', layout=Layout(height='25px', width='50%'),…"
      ]
     },
     "metadata": {},
     "output_type": "display_data"
    },
    {
     "name": "stdout",
     "output_type": "stream",
     "text": [
      "Δ for TotalSongLength feature: -0.0418"
     ]
    }
   ],
   "source": [
    "show_delta('TotalSongLength', 218025.0358112713, 237060.12599282028)"
   ]
  },
  {
   "cell_type": "markdown",
   "metadata": {},
   "source": [
    "### SessionsPerDay (NO)"
   ]
  },
  {
   "cell_type": "code",
   "execution_count": 56,
   "metadata": {},
   "outputs": [
    {
     "data": {
      "application/vnd.jupyter.widget-view+json": {
       "model_id": "a9be77aec30e42bc9159a3c26c23bf39",
       "version_major": 2,
       "version_minor": 0
      },
      "text/plain": [
       "VBox()"
      ]
     },
     "metadata": {},
     "output_type": "display_data"
    },
    {
     "data": {
      "application/vnd.jupyter.widget-view+json": {
       "model_id": "",
       "version_major": 2,
       "version_minor": 0
      },
      "text/plain": [
       "FloatProgress(value=0.0, bar_style='info', description='Progress:', layout=Layout(height='25px', width='50%'),…"
      ]
     },
     "metadata": {},
     "output_type": "display_data"
    },
    {
     "name": "stdout",
     "output_type": "stream",
     "text": [
      "+-----+-------------------+\n",
      "|label|avg(SessionsPerDay)|\n",
      "+-----+-------------------+\n",
      "|    1| 1.2193029303079534|\n",
      "|    0| 1.3044363651611546|\n",
      "+-----+-------------------+"
     ]
    }
   ],
   "source": [
    "labels.join(f_SessionsPerDay, 'userId', 'outer') \\\n",
    "    .fillna(0) \\\n",
    "    .groupby('label').agg(avg('SessionsPerDay')).show()"
   ]
  },
  {
   "cell_type": "code",
   "execution_count": 41,
   "metadata": {},
   "outputs": [
    {
     "data": {
      "application/vnd.jupyter.widget-view+json": {
       "model_id": "2e5bcd1d6c7e4c6f804e7ec08f1c5109",
       "version_major": 2,
       "version_minor": 0
      },
      "text/plain": [
       "VBox()"
      ]
     },
     "metadata": {},
     "output_type": "display_data"
    },
    {
     "data": {
      "application/vnd.jupyter.widget-view+json": {
       "model_id": "",
       "version_major": 2,
       "version_minor": 0
      },
      "text/plain": [
       "FloatProgress(value=0.0, bar_style='info', description='Progress:', layout=Layout(height='25px', width='50%'),…"
      ]
     },
     "metadata": {},
     "output_type": "display_data"
    },
    {
     "name": "stdout",
     "output_type": "stream",
     "text": [
      "Δ for SessionPerDay feature: -0.0337"
     ]
    }
   ],
   "source": [
    "show_delta('SessionPerDay', 1.2193029303079534, 1.3044363651611546)"
   ]
  },
  {
   "cell_type": "markdown",
   "metadata": {},
   "source": [
    "### UniqueSongCount (NO)"
   ]
  },
  {
   "cell_type": "code",
   "execution_count": 57,
   "metadata": {},
   "outputs": [
    {
     "data": {
      "application/vnd.jupyter.widget-view+json": {
       "model_id": "7bd4ae2a780047fbb8a67922767d64ca",
       "version_major": 2,
       "version_minor": 0
      },
      "text/plain": [
       "VBox()"
      ]
     },
     "metadata": {},
     "output_type": "display_data"
    },
    {
     "data": {
      "application/vnd.jupyter.widget-view+json": {
       "model_id": "",
       "version_major": 2,
       "version_minor": 0
      },
      "text/plain": [
       "FloatProgress(value=0.0, bar_style='info', description='Progress:', layout=Layout(height='25px', width='50%'),…"
      ]
     },
     "metadata": {},
     "output_type": "display_data"
    },
    {
     "name": "stdout",
     "output_type": "stream",
     "text": [
      "+-----+--------------------+\n",
      "|label|avg(UniqueSongCount)|\n",
      "+-----+--------------------+\n",
      "|    1|   779.5772536478113|\n",
      "|    0|   842.7589001447178|\n",
      "+-----+--------------------+"
     ]
    }
   ],
   "source": [
    "labels.join(f_UniqueSongCount, 'userId', 'outer') \\\n",
    "    .fillna(0) \\\n",
    "    .groupby('label').agg(avg('UniqueSongCount')).show()"
   ]
  },
  {
   "cell_type": "code",
   "execution_count": 42,
   "metadata": {},
   "outputs": [
    {
     "data": {
      "application/vnd.jupyter.widget-view+json": {
       "model_id": "fb4c4821119245e0920f2ace6c0ea592",
       "version_major": 2,
       "version_minor": 0
      },
      "text/plain": [
       "VBox()"
      ]
     },
     "metadata": {},
     "output_type": "display_data"
    },
    {
     "data": {
      "application/vnd.jupyter.widget-view+json": {
       "model_id": "",
       "version_major": 2,
       "version_minor": 0
      },
      "text/plain": [
       "FloatProgress(value=0.0, bar_style='info', description='Progress:', layout=Layout(height='25px', width='50%'),…"
      ]
     },
     "metadata": {},
     "output_type": "display_data"
    },
    {
     "name": "stdout",
     "output_type": "stream",
     "text": [
      "Δ for UniqueSongCount feature: -0.0389"
     ]
    }
   ],
   "source": [
    "show_delta('UniqueSongCount', 779.5772536478113, 842.7589001447178)"
   ]
  },
  {
   "cell_type": "markdown",
   "metadata": {},
   "source": [
    "### UniqueSongShare (NO)"
   ]
  },
  {
   "cell_type": "code",
   "execution_count": 58,
   "metadata": {},
   "outputs": [
    {
     "data": {
      "application/vnd.jupyter.widget-view+json": {
       "model_id": "6b42ef9d854c4ec7955034f0585d27ae",
       "version_major": 2,
       "version_minor": 0
      },
      "text/plain": [
       "VBox()"
      ]
     },
     "metadata": {},
     "output_type": "display_data"
    },
    {
     "data": {
      "application/vnd.jupyter.widget-view+json": {
       "model_id": "",
       "version_major": 2,
       "version_minor": 0
      },
      "text/plain": [
       "FloatProgress(value=0.0, bar_style='info', description='Progress:', layout=Layout(height='25px', width='50%'),…"
      ]
     },
     "metadata": {},
     "output_type": "display_data"
    },
    {
     "name": "stdout",
     "output_type": "stream",
     "text": [
      "+-----+--------------------+\n",
      "|label|avg(UniqueSongShare)|\n",
      "+-----+--------------------+\n",
      "|    1|  0.9428555327477975|\n",
      "|    0|  0.9384634708370324|\n",
      "+-----+--------------------+"
     ]
    }
   ],
   "source": [
    "labels.join(f_UniqueSongShare, 'userId', 'outer') \\\n",
    "    .fillna(0) \\\n",
    "    .groupby('label').agg(avg('UniqueSongShare')).show()"
   ]
  },
  {
   "cell_type": "code",
   "execution_count": 43,
   "metadata": {},
   "outputs": [
    {
     "data": {
      "application/vnd.jupyter.widget-view+json": {
       "model_id": "2b15d5e1138a437abe535c101696ad2c",
       "version_major": 2,
       "version_minor": 0
      },
      "text/plain": [
       "VBox()"
      ]
     },
     "metadata": {},
     "output_type": "display_data"
    },
    {
     "data": {
      "application/vnd.jupyter.widget-view+json": {
       "model_id": "",
       "version_major": 2,
       "version_minor": 0
      },
      "text/plain": [
       "FloatProgress(value=0.0, bar_style='info', description='Progress:', layout=Layout(height='25px', width='50%'),…"
      ]
     },
     "metadata": {},
     "output_type": "display_data"
    },
    {
     "name": "stdout",
     "output_type": "stream",
     "text": [
      "Δ for UniqueSongShare feature: 0.0023"
     ]
    }
   ],
   "source": [
    "show_delta('UniqueSongShare', 0.9428555327477975, 0.9384634708370324)"
   ]
  },
  {
   "cell_type": "markdown",
   "metadata": {},
   "source": [
    "### LogCount (NO)"
   ]
  },
  {
   "cell_type": "code",
   "execution_count": 59,
   "metadata": {},
   "outputs": [
    {
     "data": {
      "application/vnd.jupyter.widget-view+json": {
       "model_id": "e4aad0c7a5224a18afce4fd07685d9c2",
       "version_major": 2,
       "version_minor": 0
      },
      "text/plain": [
       "VBox()"
      ]
     },
     "metadata": {},
     "output_type": "display_data"
    },
    {
     "data": {
      "application/vnd.jupyter.widget-view+json": {
       "model_id": "",
       "version_major": 2,
       "version_minor": 0
      },
      "text/plain": [
       "FloatProgress(value=0.0, bar_style='info', description='Progress:', layout=Layout(height='25px', width='50%'),…"
      ]
     },
     "metadata": {},
     "output_type": "display_data"
    },
    {
     "name": "stdout",
     "output_type": "stream",
     "text": [
      "+-----+------------------+\n",
      "|label|     avg(LogCount)|\n",
      "+-----+------------------+\n",
      "|    1|1075.8478912652408|\n",
      "|    0|1208.4938929088278|\n",
      "+-----+------------------+"
     ]
    }
   ],
   "source": [
    "labels.join(f_LogCount, 'userId', 'outer') \\\n",
    "    .fillna(0) \\\n",
    "    .groupby('label').agg(avg('LogCount')).show()"
   ]
  },
  {
   "cell_type": "code",
   "execution_count": 44,
   "metadata": {},
   "outputs": [
    {
     "data": {
      "application/vnd.jupyter.widget-view+json": {
       "model_id": "3df059703af8442fa822281d5f046830",
       "version_major": 2,
       "version_minor": 0
      },
      "text/plain": [
       "VBox()"
      ]
     },
     "metadata": {},
     "output_type": "display_data"
    },
    {
     "data": {
      "application/vnd.jupyter.widget-view+json": {
       "model_id": "",
       "version_major": 2,
       "version_minor": 0
      },
      "text/plain": [
       "FloatProgress(value=0.0, bar_style='info', description='Progress:', layout=Layout(height='25px', width='50%'),…"
      ]
     },
     "metadata": {},
     "output_type": "display_data"
    },
    {
     "name": "stdout",
     "output_type": "stream",
     "text": [
      "Δ for LogCount feature: -0.0581"
     ]
    }
   ],
   "source": [
    "show_delta('LogCount', 1075.8478912652408, 1208.4938929088278)"
   ]
  },
  {
   "cell_type": "markdown",
   "metadata": {},
   "source": [
    "### Per session-hour features"
   ]
  },
  {
   "cell_type": "code",
   "execution_count": 64,
   "metadata": {},
   "outputs": [
    {
     "data": {
      "application/vnd.jupyter.widget-view+json": {
       "model_id": "1340c1c3728a445fa83b39607dadc0e8",
       "version_major": 2,
       "version_minor": 0
      },
      "text/plain": [
       "VBox()"
      ]
     },
     "metadata": {},
     "output_type": "display_data"
    },
    {
     "data": {
      "application/vnd.jupyter.widget-view+json": {
       "model_id": "",
       "version_major": 2,
       "version_minor": 0
      },
      "text/plain": [
       "FloatProgress(value=0.0, bar_style='info', description='Progress:', layout=Layout(height='25px', width='50%'),…"
      ]
     },
     "metadata": {},
     "output_type": "display_data"
    },
    {
     "name": "stdout",
     "output_type": "stream",
     "text": [
      "+-----+-------------------+-------------------+\n",
      "|churn|               page|  AvgPerSessionHour|\n",
      "+-----+-------------------+-------------------+\n",
      "|    0|              About| 1.3286997598868076|\n",
      "|    1|              About| 1.7558983615657775|\n",
      "|    0|         Add Friend| 10.566364547227176|\n",
      "|    1|         Add Friend| 10.577382252179353|\n",
      "|    0|    Add to Playlist| 0.8948913425563265|\n",
      "|    1|    Add to Playlist|  0.845031938914712|\n",
      "|    0|          Downgrade| 0.5251358741020042|\n",
      "|    1|          Downgrade| 0.9873323822777235|\n",
      "|    0|              Error| 0.7684184077909724|\n",
      "|    1|              Error| 0.3551135184536166|\n",
      "|    0|               Help| 1.3482266412324133|\n",
      "|    1|               Help| 1.1534599873795206|\n",
      "|    0|               Home| 13.079747649035781|\n",
      "|    1|               Home| 12.947641686686476|\n",
      "|    0|              Login|  916.3842438628917|\n",
      "|    0|             Logout| 22.457422711291965|\n",
      "|    1|             Logout| 16.212140451544194|\n",
      "|    0|           NextSong| 29.666904382954197|\n",
      "|    1|           NextSong| 24.851960757096634|\n",
      "|    0|           Register|  96.46084130298553|\n",
      "|    0|        Roll Advert|  2.350802329968652|\n",
      "|    1|        Roll Advert| 2.7974276273293115|\n",
      "|    0|      Save Settings| 2.2086393286099124|\n",
      "|    1|      Save Settings|  1.396077838323477|\n",
      "|    0|           Settings| 1.2855436334864851|\n",
      "|    1|           Settings| 2.6505488541324906|\n",
      "|    0|   Submit Downgrade|0.33371374328786213|\n",
      "|    1|   Submit Downgrade|  0.266382405187516|\n",
      "|    0|Submit Registration| 119.50624337136387|\n",
      "|    0|     Submit Upgrade|0.47888028857559745|\n",
      "|    1|     Submit Upgrade|0.46828234025184895|\n",
      "|    0|        Thumbs Down| 3.1373289588936117|\n",
      "|    1|        Thumbs Down| 3.3630601029320832|\n",
      "|    0|          Thumbs Up|  5.279962664840646|\n",
      "|    1|          Thumbs Up|  4.349460271273149|\n",
      "|    0|            Upgrade| 0.8361369349449518|\n",
      "|    1|            Upgrade| 1.0592725947078798|\n",
      "+-----+-------------------+-------------------+"
     ]
    }
   ],
   "source": [
    "page_data \\\n",
    "    .join(session_hours, ['userId', 'sessionId'], 'inner') \\\n",
    "    .groupby('churn', 'page', 'userId', 'sessionId', 'sessionHours') \\\n",
    "    .agg((count('userId')/col('sessionHours')).alias('AvgPerSessionHour')) \\\n",
    "    .groupby('churn', 'page', 'userId') \\\n",
    "    .agg(avg('AvgPerSessionHour').alias('AvgPerSessionHour')) \\\n",
    "    .groupby('churn', 'page') \\\n",
    "    .agg(avg('AvgPerSessionHour').alias('AvgPerSessionHour')) \\\n",
    "    .sort('page', 'churn') \\\n",
    "    .show(100)"
   ]
  },
  {
   "cell_type": "markdown",
   "metadata": {},
   "source": [
    "##### Selected per session-hour features:"
   ]
  },
  {
   "cell_type": "markdown",
   "metadata": {},
   "source": [
    " - About\n",
    " - Downgrade\n",
    " - Error\n",
    " - Settings\n",
    " - Upgrade"
   ]
  },
  {
   "cell_type": "code",
   "execution_count": 45,
   "metadata": {},
   "outputs": [
    {
     "data": {
      "application/vnd.jupyter.widget-view+json": {
       "model_id": "14407a6bfa1749ba9841ba5d6ea38105",
       "version_major": 2,
       "version_minor": 0
      },
      "text/plain": [
       "VBox()"
      ]
     },
     "metadata": {},
     "output_type": "display_data"
    },
    {
     "data": {
      "application/vnd.jupyter.widget-view+json": {
       "model_id": "",
       "version_major": 2,
       "version_minor": 0
      },
      "text/plain": [
       "FloatProgress(value=0.0, bar_style='info', description='Progress:', layout=Layout(height='25px', width='50%'),…"
      ]
     },
     "metadata": {},
     "output_type": "display_data"
    },
    {
     "name": "stdout",
     "output_type": "stream",
     "text": [
      "Δ for AboutPerSessionHour feature: 0.1385 (SELECTED)\n",
      "Δ for DowngradePerSessionHour feature: 0.3056 (SELECTED)\n",
      "Δ for ErrorPerSessionHour feature: -0.3679 (SELECTED)\n",
      "Δ for SettingsPerSessionHour feature: 0.3468 (SELECTED)\n",
      "Δ for UpgradePerSessionHour feature: 0.1177 (SELECTED)"
     ]
    }
   ],
   "source": [
    "show_delta('AboutPerSessionHour', 1.7558983615657775, 1.3286997598868076)\n",
    "show_delta('DowngradePerSessionHour', 0.9873323822777235, 0.5251358741020042)\n",
    "show_delta('ErrorPerSessionHour', 0.3551135184536166, 0.7684184077909724)\n",
    "show_delta('SettingsPerSessionHour', 2.6505488541324906, 1.2855436334864851)\n",
    "show_delta('UpgradePerSessionHour', 1.0592725947078798, 0.8361369349449518)"
   ]
  },
  {
   "cell_type": "markdown",
   "metadata": {},
   "source": [
    "### Page count features"
   ]
  },
  {
   "cell_type": "code",
   "execution_count": 71,
   "metadata": {},
   "outputs": [
    {
     "data": {
      "application/vnd.jupyter.widget-view+json": {
       "model_id": "9292b40ffdd54440a77cc1ac59e85811",
       "version_major": 2,
       "version_minor": 0
      },
      "text/plain": [
       "VBox()"
      ]
     },
     "metadata": {},
     "output_type": "display_data"
    },
    {
     "data": {
      "application/vnd.jupyter.widget-view+json": {
       "model_id": "",
       "version_major": 2,
       "version_minor": 0
      },
      "text/plain": [
       "FloatProgress(value=0.0, bar_style='info', description='Progress:', layout=Layout(height='25px', width='50%'),…"
      ]
     },
     "metadata": {},
     "output_type": "display_data"
    },
    {
     "name": "stdout",
     "output_type": "stream",
     "text": [
      "+-----+-------------------+------------------+\n",
      "|churn|               page|      AvgPageCount|\n",
      "+-----+-------------------+------------------+\n",
      "|    0|              About| 7.283196757423561|\n",
      "|    1|              About|3.2461439588688945|\n",
      "|    0|         Add Friend| 19.09927820691402|\n",
      "|    1|         Add Friend|17.736643759698516|\n",
      "|    0|    Add to Playlist|28.653205787976024|\n",
      "|    1|    Add to Playlist|26.282099936748892|\n",
      "|    0|          Downgrade|12.295119182746879|\n",
      "|    1|          Downgrade|11.561235356762513|\n",
      "|    0|              Error|2.3408214204674382|\n",
      "|    1|              Error| 2.167547783651891|\n",
      "|    0|               Help| 8.957388557388557|\n",
      "|    1|               Help| 6.877219304826206|\n",
      "|    0|               Home| 66.83783626072241|\n",
      "|    1|               Home|  40.0530794165316|\n",
      "|    0|              Login|          296350.0|\n",
      "|    0|             Logout|14.109767160568492|\n",
      "|    1|             Logout|13.556756756756757|\n",
      "|    0|           NextSong| 953.9368445448752|\n",
      "|    1|           NextSong| 876.9044382247101|\n",
      "|    0|           Register|             802.0|\n",
      "|    0|        Roll Advert|18.360894502803376|\n",
      "|    1|        Roll Advert|22.040430674577017|\n",
      "|    0|      Save Settings|2.4376175548589343|\n",
      "|    1|      Save Settings| 2.320209973753281|\n",
      "|    0|           Settings| 7.870437333697209|\n",
      "|    1|           Settings|7.4174462114125355|\n",
      "|    0|   Submit Downgrade|1.2606060606060605|\n",
      "|    1|   Submit Downgrade|1.3140857392825898|\n",
      "|    0|Submit Registration|             401.0|\n",
      "|    0|     Submit Upgrade|1.2459730082716587|\n",
      "|    1|     Submit Upgrade| 1.274015203870076|\n",
      "|    0|        Thumbs Down| 11.86989136057941|\n",
      "|    1|        Thumbs Down|12.186555725859426|\n",
      "|    0|          Thumbs Up| 54.88413262285376|\n",
      "|    1|          Thumbs Up| 46.35935563816605|\n",
      "|    0|            Upgrade|  3.12632333041471|\n",
      "|    1|            Upgrade|  3.13015607580825|\n",
      "+-----+-------------------+------------------+"
     ]
    }
   ],
   "source": [
    "page_data \\\n",
    "    .groupby('churn', 'page', 'userId') \\\n",
    "    .count() \\\n",
    "    .groupby('churn', 'page') \\\n",
    "    .agg(avg('count').alias('AvgPageCount')) \\\n",
    "    .sort('page', 'churn') \\\n",
    "    .show(100)"
   ]
  },
  {
   "cell_type": "markdown",
   "metadata": {},
   "source": [
    "##### Selected per count features:\n",
    " - About\n",
    " - Thumbs Up\n",
    " - Roll Advert\n",
    " - Help\n",
    " - Home"
   ]
  },
  {
   "cell_type": "code",
   "execution_count": 90,
   "metadata": {},
   "outputs": [
    {
     "data": {
      "application/vnd.jupyter.widget-view+json": {
       "model_id": "cfbf5bc0ba7f49a0970077fcceece7c3",
       "version_major": 2,
       "version_minor": 0
      },
      "text/plain": [
       "VBox()"
      ]
     },
     "metadata": {},
     "output_type": "display_data"
    },
    {
     "data": {
      "application/vnd.jupyter.widget-view+json": {
       "model_id": "",
       "version_major": 2,
       "version_minor": 0
      },
      "text/plain": [
       "FloatProgress(value=0.0, bar_style='info', description='Progress:', layout=Layout(height='25px', width='50%'),…"
      ]
     },
     "metadata": {},
     "output_type": "display_data"
    },
    {
     "name": "stdout",
     "output_type": "stream",
     "text": [
      "Δ for AboutCount feature: -0.3834 (SELECTED)\n",
      "Δ for ThumbsUpCount feature: -0.0842 (SELECTED)\n",
      "Δ for RollAdvertCount feature: 0.0911 (SELECTED)\n",
      "Δ for HelpCount feature: -0.1314 (SELECTED)\n",
      "Δ for HomeCount feature: -0.2506 (SELECTED)"
     ]
    }
   ],
   "source": [
    "show_delta('AboutCount', 3.2461439588688945, 7.283196757423561)\n",
    "show_delta('ThumbsUpCount', 46.35935563816605, 54.88413262285376, True)\n",
    "show_delta('RollAdvertCount', 22.040430674577017, 18.360894502803376, True)\n",
    "show_delta('HelpCount', 6.877219304826206, 8.957388557388557)\n",
    "show_delta('HomeCount', 40.0530794165316, 66.83783626072241)"
   ]
  },
  {
   "cell_type": "markdown",
   "metadata": {},
   "source": [
    "We have forced 2 features, *ThumbsUpCount* and *RollAdvertCount*, that do not comply with the *delta threshold condition*. Their delta is close to the threshold, on the other hand, our \"intuition\" tells us that these two features could play an important role in the ML model. "
   ]
  },
  {
   "cell_type": "markdown",
   "metadata": {},
   "source": [
    "## List of selected features (22 features)"
   ]
  },
  {
   "cell_type": "code",
   "execution_count": 123,
   "metadata": {},
   "outputs": [
    {
     "data": {
      "application/vnd.jupyter.widget-view+json": {
       "model_id": "7416fe87d5f04fc3aabda1438adf5612",
       "version_major": 2,
       "version_minor": 0
      },
      "text/plain": [
       "VBox()"
      ]
     },
     "metadata": {},
     "output_type": "display_data"
    },
    {
     "data": {
      "application/vnd.jupyter.widget-view+json": {
       "model_id": "",
       "version_major": 2,
       "version_minor": 0
      },
      "text/plain": [
       "FloatProgress(value=0.0, bar_style='info', description='Progress:', layout=Layout(height='25px', width='50%'),…"
      ]
     },
     "metadata": {},
     "output_type": "display_data"
    },
    {
     "name": "stdout",
     "output_type": "stream",
     "text": [
      "+-----------------------+--------------------+-------------------+\n",
      "|feature                |delta               |abs(delta)         |\n",
      "+-----------------------+--------------------+-------------------+\n",
      "|LogoutPerHour          |-0.7009141698785681 |0.7009141698785681 |\n",
      "|AboutCount             |-0.38340983612658475|0.38340983612658475|\n",
      "|ErrorPerSessionHour    |-0.3678621672272629 |0.3678621672272629 |\n",
      "|SettingsPerSessionHour |0.34679195799886436 |0.34679195799886436|\n",
      "|AvgSessionGap          |-0.3077974665435747 |0.3077974665435747 |\n",
      "|DowngradePerSessionHour|0.3055908818093422  |0.3055908818093422 |\n",
      "|SessionCount           |-0.29887121266740024|0.29887121266740024|\n",
      "|HomeCount              |-0.2505802918282092 |0.2505802918282092 |\n",
      "|RollAdvertPerHour      |0.21758242517045812 |0.21758242517045812|\n",
      "|HomePerHour            |-0.21274324671988146|0.21274324671988146|\n",
      "|SettingsPerHour        |0.1609912158149237  |0.1609912158149237 |\n",
      "|SubmitUpgradePerHour   |0.14212149688291761 |0.14212149688291761|\n",
      "|DowngradePerHour       |0.1418044224312864  |0.1418044224312864 |\n",
      "|RollAdvertPerDay       |0.14047058252236252 |0.14047058252236252|\n",
      "|AboutPerSessionHour    |0.1384940873522271  |0.1384940873522271 |\n",
      "|HelpCount              |-0.13136853597278791|0.13136853597278791|\n",
      "|SubmitDowngradePerHour |0.1269785338280696  |0.1269785338280696 |\n",
      "|NonSongCount           |-0.12390429403288067|0.12390429403288067|\n",
      "|ThumbsDownPerHour      |0.12074075372792041 |0.12074075372792041|\n",
      "|UpgradePerSessionHour  |0.11772424706749161 |0.11772424706749161|\n",
      "|RollAdvertCount        |0.09107464063663223 |0.09107464063663223|\n",
      "|ThumbsUpCount          |-0.08420074348593806|0.08420074348593806|\n",
      "+-----------------------+--------------------+-------------------+"
     ]
    }
   ],
   "source": [
    "spark.sparkContext.parallelize(selected_features).toDF(['delta', 'feature']) \\\n",
    "    .select('feature', 'delta', Fabs(col('delta'))) \\\n",
    "    .sort(desc('abs(delta)')) \\\n",
    "    .show(30, False)"
   ]
  },
  {
   "cell_type": "markdown",
   "metadata": {},
   "source": [
    "## Preliminary fitting test using the selected features\n",
    "### Random Forest method\n",
    "(The model was fitted by the script submitted to the cluster.)"
   ]
  },
  {
   "cell_type": "markdown",
   "metadata": {},
   "source": [
    "#### Evaluation"
   ]
  },
  {
   "cell_type": "code",
   "execution_count": 4,
   "metadata": {},
   "outputs": [
    {
     "data": {
      "application/vnd.jupyter.widget-view+json": {
       "model_id": "2f3e6a47a15f482aa745c85fbd8dd1af",
       "version_major": 2,
       "version_minor": 0
      },
      "text/plain": [
       "VBox()"
      ]
     },
     "metadata": {},
     "output_type": "display_data"
    },
    {
     "data": {
      "application/vnd.jupyter.widget-view+json": {
       "model_id": "",
       "version_major": 2,
       "version_minor": 0
      },
      "text/plain": [
       "FloatProgress(value=0.0, bar_style='info', description='Progress:', layout=Layout(height='25px', width='50%'),…"
      ]
     },
     "metadata": {},
     "output_type": "display_data"
    },
    {
     "name": "stdout",
     "output_type": "stream",
     "text": [
      "+------------------+------------------+-----------------+------------------+------------------+\n",
      "|                f1|          accuracy|weightedPrecision|    weightedRecall|               AUC|\n",
      "+------------------+------------------+-----------------+------------------+------------------+\n",
      "|0.8386651060216977|0.8577847674679847|0.858875141192138|0.8577847674679848|0.7055267657733111|\n",
      "+------------------+------------------+-----------------+------------------+------------------+"
     ]
    }
   ],
   "source": [
    "metrics = spark.read.json('s3n://amosvoron-sparkify/rfc-metrics-f22.json')\n",
    "metrics.select('f1', 'accuracy', 'weightedPrecision', 'weightedRecall', 'AUC').show()"
   ]
  },
  {
   "cell_type": "code",
   "execution_count": 9,
   "metadata": {},
   "outputs": [
    {
     "data": {
      "application/vnd.jupyter.widget-view+json": {
       "model_id": "c9a60523a38f4929ac6bb1a9f5edf33d",
       "version_major": 2,
       "version_minor": 0
      },
      "text/plain": [
       "VBox()"
      ]
     },
     "metadata": {},
     "output_type": "display_data"
    },
    {
     "data": {
      "application/vnd.jupyter.widget-view+json": {
       "model_id": "",
       "version_major": 2,
       "version_minor": 0
      },
      "text/plain": [
       "FloatProgress(value=0.0, bar_style='info', description='Progress:', layout=Layout(height='25px', width='50%'),…"
      ]
     },
     "metadata": {},
     "output_type": "display_data"
    },
    {
     "name": "stdout",
     "output_type": "stream",
     "text": [
      "+-----------------------+---------------------+\n",
      "|feature                |importance           |\n",
      "+-----------------------+---------------------+\n",
      "|AvgSessionGap          |0.531326926781188    |\n",
      "|RollAdvertPerHour      |0.07203686762635017  |\n",
      "|DowngradePerHour       |0.06676894742434188  |\n",
      "|SessionCount           |0.062376199033023286 |\n",
      "|NonSongCount           |0.050628344100157416 |\n",
      "|RollAdvertPerDay       |0.04571131362963781  |\n",
      "|RollAdvertCount        |0.03022773918358667  |\n",
      "|DowngradePerSessionHour|0.023059199682565503 |\n",
      "|ThumbsDownPerHour      |0.021905197950220757 |\n",
      "|HomeCount              |0.01935741525646098  |\n",
      "|LogoutPerHour          |0.014225091004298893 |\n",
      "|ThumbsUpCount          |0.014185526067462045 |\n",
      "|SettingsPerSessionHour |0.011980284038583023 |\n",
      "|AboutCount             |0.00900477412830605  |\n",
      "|SubmitUpgradePerHour   |0.006285279375803763 |\n",
      "|SettingsPerHour        |0.005847270443837536 |\n",
      "|SubmitDowngradePerHour |0.004204600333886947 |\n",
      "|UpgradePerSessionHour  |0.003074323148938938 |\n",
      "|HelpCount              |0.0029704392811330258|\n",
      "|AboutPerSessionHour    |0.0019074280379797134|\n",
      "|HomePerHour            |0.0015117464198218015|\n",
      "|ErrorPerSessionHour    |0.001405087052415821 |\n",
      "+-----------------------+---------------------+"
     ]
    }
   ],
   "source": [
    "importances = spark.read.json('s3n://amosvoron-sparkify/rfc-feature-importances-f22.json')\n",
    "importances.sort(desc('importance')).show(30, False)"
   ]
  },
  {
   "cell_type": "markdown",
   "metadata": {},
   "source": [
    "The preliminary test shows the promising result. There is still room for the feature/hyperparameter tuning. Some features can be dropped. We can see that the *AvgSessionGap* feature bears more than one half of the importance weight, perhaps too much. Will see if by feature tuning we can achieve more balanced importance weight distributed over the tunned features. "
   ]
  }
 ],
 "metadata": {
  "kernelspec": {
   "display_name": "Python 3",
   "language": "python",
   "name": "python3"
  },
  "language_info": {
   "codemirror_mode": {
    "name": "ipython",
    "version": 3
   },
   "file_extension": ".py",
   "mimetype": "text/x-python",
   "name": "python",
   "nbconvert_exporter": "python",
   "pygments_lexer": "ipython3",
   "version": "3.8.3"
  }
 },
 "nbformat": 4,
 "nbformat_minor": 4
}
