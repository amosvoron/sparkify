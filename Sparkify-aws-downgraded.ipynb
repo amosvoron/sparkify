{
 "cells": [
  {
   "cell_type": "code",
   "execution_count": 1,
   "metadata": {},
   "outputs": [
    {
     "data": {
      "application/vnd.jupyter.widget-view+json": {
       "model_id": "1dfbb3d5abf8413da6e794c5f65ba5d6",
       "version_major": 2,
       "version_minor": 0
      },
      "text/plain": [
       "VBox()"
      ]
     },
     "metadata": {},
     "output_type": "display_data"
    },
    {
     "name": "stdout",
     "output_type": "stream",
     "text": [
      "Starting Spark application\n"
     ]
    },
    {
     "data": {
      "text/html": [
       "<table>\n",
       "<tr><th>ID</th><th>YARN Application ID</th><th>Kind</th><th>State</th><th>Spark UI</th><th>Driver log</th><th>Current session?</th></tr><tr><td>25</td><td>application_1597998755054_0047</td><td>pyspark</td><td>idle</td><td></td><td></td><td>✔</td></tr></table>"
      ],
      "text/plain": [
       "<IPython.core.display.HTML object>"
      ]
     },
     "metadata": {},
     "output_type": "display_data"
    },
    {
     "data": {
      "application/vnd.jupyter.widget-view+json": {
       "model_id": "",
       "version_major": 2,
       "version_minor": 0
      },
      "text/plain": [
       "FloatProgress(value=0.0, bar_style='info', description='Progress:', layout=Layout(height='25px', width='50%'),…"
      ]
     },
     "metadata": {},
     "output_type": "display_data"
    },
    {
     "name": "stdout",
     "output_type": "stream",
     "text": [
      "SparkSession available as 'spark'.\n"
     ]
    },
    {
     "data": {
      "application/vnd.jupyter.widget-view+json": {
       "model_id": "",
       "version_major": 2,
       "version_minor": 0
      },
      "text/plain": [
       "FloatProgress(value=0.0, bar_style='info', description='Progress:', layout=Layout(height='25px', width='50%'),…"
      ]
     },
     "metadata": {},
     "output_type": "display_data"
    },
    {
     "name": "stdout",
     "output_type": "stream",
     "text": [
      "Welcome to my EMR Notebook!"
     ]
    }
   ],
   "source": [
    "print(\"Welcome to my EMR Notebook!\")"
   ]
  },
  {
   "cell_type": "code",
   "execution_count": 3,
   "metadata": {},
   "outputs": [
    {
     "data": {
      "application/vnd.jupyter.widget-view+json": {
       "model_id": "e0e264653031460aa75ab77fe4b3666b",
       "version_major": 2,
       "version_minor": 0
      },
      "text/plain": [
       "VBox()"
      ]
     },
     "metadata": {},
     "output_type": "display_data"
    },
    {
     "data": {
      "application/vnd.jupyter.widget-view+json": {
       "model_id": "",
       "version_major": 2,
       "version_minor": 0
      },
      "text/plain": [
       "FloatProgress(value=0.0, bar_style='info', description='Progress:', layout=Layout(height='25px', width='50%'),…"
      ]
     },
     "metadata": {},
     "output_type": "display_data"
    }
   ],
   "source": [
    "# Import libraries\n",
    "from pyspark.sql.types import *\n",
    "from pyspark.sql import SparkSession\n",
    "from pyspark.sql.functions import isnan, count, when, col, desc, udf, col, sort_array, asc, \\\n",
    "                                  avg, from_unixtime, split, min, max, round, lit, mean\n",
    "from pyspark.sql.functions import sum as Fsum\n",
    "from pyspark.sql.functions import row_number\n",
    "from pyspark.sql.window import Window\n",
    "import datetime\n",
    "from pyspark.sql.functions import to_date, year, month, dayofmonth, dayofweek, hour, date_format, substring\n",
    "import numpy as np\n",
    "import time"
   ]
  },
  {
   "cell_type": "code",
   "execution_count": 3,
   "metadata": {},
   "outputs": [
    {
     "data": {
      "application/vnd.jupyter.widget-view+json": {
       "model_id": "ab45cb8abdaa47b48d00e2a428a3a6e1",
       "version_major": 2,
       "version_minor": 0
      },
      "text/plain": [
       "VBox()"
      ]
     },
     "metadata": {},
     "output_type": "display_data"
    },
    {
     "data": {
      "application/vnd.jupyter.widget-view+json": {
       "model_id": "",
       "version_major": 2,
       "version_minor": 0
      },
      "text/plain": [
       "FloatProgress(value=0.0, bar_style='info', description='Progress:', layout=Layout(height='25px', width='50%'),…"
      ]
     },
     "metadata": {},
     "output_type": "display_data"
    }
   ],
   "source": [
    "# Create spark session\n",
    "spark = SparkSession \\\n",
    "    .builder \\\n",
    "    .appName(\"Sparkify\") \\\n",
    "    .getOrCreate()"
   ]
  },
  {
   "cell_type": "code",
   "execution_count": 4,
   "metadata": {},
   "outputs": [
    {
     "data": {
      "application/vnd.jupyter.widget-view+json": {
       "model_id": "d6a77df3ec094bbda6145f43fac77d63",
       "version_major": 2,
       "version_minor": 0
      },
      "text/plain": [
       "VBox()"
      ]
     },
     "metadata": {},
     "output_type": "display_data"
    },
    {
     "data": {
      "application/vnd.jupyter.widget-view+json": {
       "model_id": "",
       "version_major": 2,
       "version_minor": 0
      },
      "text/plain": [
       "FloatProgress(value=0.0, bar_style='info', description='Progress:', layout=Layout(height='25px', width='50%'),…"
      ]
     },
     "metadata": {},
     "output_type": "display_data"
    }
   ],
   "source": [
    "# Set time parser policy\n",
    "spark.conf.set(\"spark.sql.legacy.timeParserPolicy\",\"LEGACY\")"
   ]
  },
  {
   "cell_type": "code",
   "execution_count": 5,
   "metadata": {},
   "outputs": [
    {
     "data": {
      "application/vnd.jupyter.widget-view+json": {
       "model_id": "8b70eaedba1a4276adabfe81195d7c6c",
       "version_major": 2,
       "version_minor": 0
      },
      "text/plain": [
       "VBox()"
      ]
     },
     "metadata": {},
     "output_type": "display_data"
    },
    {
     "data": {
      "application/vnd.jupyter.widget-view+json": {
       "model_id": "",
       "version_major": 2,
       "version_minor": 0
      },
      "text/plain": [
       "FloatProgress(value=0.0, bar_style='info', description='Progress:', layout=Layout(height='25px', width='50%'),…"
      ]
     },
     "metadata": {},
     "output_type": "display_data"
    },
    {
     "name": "stdout",
     "output_type": "stream",
     "text": [
      "Row(artist='Popol Vuh', auth='Logged In', firstName='Shlok', gender='M', itemInSession=278, lastName='Johnson', length=524.32934, level='paid', location='Dallas-Fort Worth-Arlington, TX', method='PUT', page='NextSong', registration=1533734541000, sessionId=22683, song='Ich mache einen Spiegel - Dream Part 4', status=200, ts=1538352001000, userAgent='\"Mozilla/5.0 (Windows NT 6.1; WOW64) AppleWebKit/537.36 (KHTML, like Gecko) Chrome/36.0.1985.143 Safari/537.36\"', userId='1749042')"
     ]
    }
   ],
   "source": [
    "# Read in full sparkify dataset\n",
    "event_data = \"s3n://udacity-dsnd/sparkify/sparkify_event_data.json\"\n",
    "data = spark.read.json(event_data)\n",
    "data.head()"
   ]
  },
  {
   "cell_type": "code",
   "execution_count": 7,
   "metadata": {},
   "outputs": [
    {
     "data": {
      "application/vnd.jupyter.widget-view+json": {
       "model_id": "ab4e5955cedd4d8582089389a9a9bc07",
       "version_major": 2,
       "version_minor": 0
      },
      "text/plain": [
       "VBox()"
      ]
     },
     "metadata": {},
     "output_type": "display_data"
    },
    {
     "data": {
      "application/vnd.jupyter.widget-view+json": {
       "model_id": "",
       "version_major": 2,
       "version_minor": 0
      },
      "text/plain": [
       "FloatProgress(value=0.0, bar_style='info', description='Progress:', layout=Layout(height='25px', width='50%'),…"
      ]
     },
     "metadata": {},
     "output_type": "display_data"
    },
    {
     "name": "stdout",
     "output_type": "stream",
     "text": [
      "5003"
     ]
    }
   ],
   "source": [
    "# cancelled users count\n",
    "data.where(data.page == 'Cancellation Confirmation').select('userId').dropDuplicates().count()"
   ]
  },
  {
   "cell_type": "code",
   "execution_count": 6,
   "metadata": {},
   "outputs": [
    {
     "data": {
      "application/vnd.jupyter.widget-view+json": {
       "model_id": "d0fbc94083b541e59869fe317eb51426",
       "version_major": 2,
       "version_minor": 0
      },
      "text/plain": [
       "VBox()"
      ]
     },
     "metadata": {},
     "output_type": "display_data"
    },
    {
     "data": {
      "application/vnd.jupyter.widget-view+json": {
       "model_id": "",
       "version_major": 2,
       "version_minor": 0
      },
      "text/plain": [
       "FloatProgress(value=0.0, bar_style='info', description='Progress:', layout=Layout(height='25px', width='50%'),…"
      ]
     },
     "metadata": {},
     "output_type": "display_data"
    },
    {
     "name": "stdout",
     "output_type": "stream",
     "text": [
      "5103"
     ]
    }
   ],
   "source": [
    "# downgraded users count\n",
    "data.where(data.page == 'Submit Downgrade').select('userId').dropDuplicates().count()"
   ]
  },
  {
   "cell_type": "markdown",
   "metadata": {},
   "source": [
    "##### Functions"
   ]
  },
  {
   "cell_type": "code",
   "execution_count": 8,
   "metadata": {},
   "outputs": [
    {
     "data": {
      "application/vnd.jupyter.widget-view+json": {
       "model_id": "ce8f87c1ab6042bebb499f1e120fa6fa",
       "version_major": 2,
       "version_minor": 0
      },
      "text/plain": [
       "VBox()"
      ]
     },
     "metadata": {},
     "output_type": "display_data"
    },
    {
     "data": {
      "application/vnd.jupyter.widget-view+json": {
       "model_id": "",
       "version_major": 2,
       "version_minor": 0
      },
      "text/plain": [
       "FloatProgress(value=0.0, bar_style='info', description='Progress:', layout=Layout(height='25px', width='50%'),…"
      ]
     },
     "metadata": {},
     "output_type": "display_data"
    }
   ],
   "source": [
    "\n",
    "# Function that returns all users of a specified churn group\n",
    "def get_users(churn):\n",
    "    return data.where(data.churn == 1).select('userId').dropDuplicates()\n",
    "\n",
    "# Count page logs\n",
    "def page_count(page):\n",
    "    return page_data \\\n",
    "        .where(data.page == page) \\\n",
    "        .groupby('userId') \\\n",
    "        .count() \\\n",
    "        .select('userId', col('count').alias(page.replace(' ', '') + 'Count'))\n",
    "\n",
    "# Average page count per session hour\n",
    "def page_session_hour(page):\n",
    "    return page_data \\\n",
    "        .where(data.page == page) \\\n",
    "        .join(session_hours, ['userId', 'sessionId'], 'inner') \\\n",
    "        .groupby( 'userId', 'sessionId', 'sessionHours') \\\n",
    "        .agg((count('userId')/col('sessionHours')).alias('avgPerSession')) \\\n",
    "        .groupby('userId') \\\n",
    "        .agg(avg('avgPerSession').alias('avg')) \\\n",
    "        .select('userId', col('avg').alias(page.replace(' ', '') + 'PerSessionHour'))\n",
    "\n",
    "# Average page count per hour\n",
    "def page_hour(page):\n",
    "    return page_data \\\n",
    "        .where(data.page == page) \\\n",
    "        .join(user_hours, 'userId', 'inner') \\\n",
    "        .groupby('userId', 'hours') \\\n",
    "        .agg((count('userId')/col('hours')).alias('avg')) \\\n",
    "        .select('userId', col('avg').alias(page.replace(' ', '') + 'PerHour'))\n",
    "\n",
    "# Average page count per day\n",
    "def page_day(page):\n",
    "    return page_data \\\n",
    "        .where(data.page == page) \\\n",
    "        .groupby('userId', 'date') \\\n",
    "        .count() \\\n",
    "        .groupby('userId') \\\n",
    "        .agg(avg('count').alias(page.replace(' ', '') + 'PerDay'))\n"
   ]
  },
  {
   "cell_type": "markdown",
   "metadata": {},
   "source": [
    "##### Prepare data"
   ]
  },
  {
   "cell_type": "code",
   "execution_count": null,
   "metadata": {
    "scrolled": false
   },
   "outputs": [
    {
     "data": {
      "application/vnd.jupyter.widget-view+json": {
       "model_id": "ad8edcc9cb1d4966bd0d1c97900e0780",
       "version_major": 2,
       "version_minor": 0
      },
      "text/plain": [
       "VBox()"
      ]
     },
     "metadata": {},
     "output_type": "display_data"
    },
    {
     "data": {
      "application/vnd.jupyter.widget-view+json": {
       "model_id": "",
       "version_major": 2,
       "version_minor": 0
      },
      "text/plain": [
       "FloatProgress(value=0.0, bar_style='info', description='Progress:', layout=Layout(height='25px', width='50%'),…"
      ]
     },
     "metadata": {},
     "output_type": "display_data"
    },
    {
     "name": "stdout",
     "output_type": "stream",
     "text": [
      "5103"
     ]
    }
   ],
   "source": [
    "\n",
    "# Remove rows with missing users\n",
    "data = data.where(~((col('userId').isNull()) | (col('userId') == '')))\n",
    "\n",
    "# Exclude non-relevant columns\n",
    "data = data.drop('firstName')\n",
    "data = data.drop('lastName')\n",
    "\n",
    "# Add tsDate and date column\n",
    "data = data.withColumn('tsDate', (col('ts') / 1000.0).cast(TimestampType()))\n",
    "data = data.withColumn('date', date_format(col('tsDate'), 'yyyy-MM-dd').alias('date').cast('date'))\n",
    "\n",
    "# Label churned users using Submit Downgrade event\n",
    "query_churn_by_cc = data.where(data.page == 'Submit Downgrade')\n",
    "canceled = query_churn_by_cc.select('userId').dropDuplicates().select('userId')\n",
    "canceled_uids = [row.userId for row in canceled.collect()];\n",
    "set_churn = udf(lambda x: 1 if x in canceled_uids else 0, IntegerType())\n",
    "data = data.withColumn('churn', set_churn('userId'))\n",
    "\n",
    "# Add [userRowId] column that assigns a 1-based index to every user's log ordered by [ts]\n",
    "w =  Window.partitionBy(data.userId).orderBy('ts', 'itemInSession')\n",
    "data = data.withColumn('userRowId', row_number().over(w))\n",
    "\n",
    "# Add [userRowDescId] column that assigns a 1-based index to every user's log ordered by [ts] descending.\n",
    "w =  Window.partitionBy(data.userId).orderBy(col('ts').desc(), col('itemInSession').desc())\n",
    "data = data.withColumn('userRowDescId', row_number().over(w))\n",
    "\n",
    "# Add last level column\n",
    "last_levels = dict()\n",
    "for row in data.where(data.userRowDescId == 1).select('userId', 'level').collect():\n",
    "    last_levels[row.userId] = row.level\n",
    "get_level = udf(lambda userId: last_levels[userId])\n",
    "data = data.withColumn('lastLevel', get_level('userId'))\n",
    "\n",
    "# Prepare labels\n",
    "labels = data.select(col('churn').alias('label'), 'userId').dropDuplicates()\n",
    "\n",
    "# Check churned users\n",
    "get_users(1).count()"
   ]
  },
  {
   "cell_type": "code",
   "execution_count": 30,
   "metadata": {},
   "outputs": [
    {
     "data": {
      "application/vnd.jupyter.widget-view+json": {
       "model_id": "9e1a027cf2774a4bae0553180149e60b",
       "version_major": 2,
       "version_minor": 0
      },
      "text/plain": [
       "VBox()"
      ]
     },
     "metadata": {},
     "output_type": "display_data"
    },
    {
     "data": {
      "application/vnd.jupyter.widget-view+json": {
       "model_id": "",
       "version_major": 2,
       "version_minor": 0
      },
      "text/plain": [
       "FloatProgress(value=0.0, bar_style='info', description='Progress:', layout=Layout(height='25px', width='50%'),…"
      ]
     },
     "metadata": {},
     "output_type": "display_data"
    },
    {
     "name": "stdout",
     "output_type": "stream",
     "text": [
      "+-----+-----+\n",
      "|churn|count|\n",
      "+-----+-----+\n",
      "|    1| 5103|\n",
      "|    0|17175|\n",
      "+-----+-----+"
     ]
    }
   ],
   "source": [
    "data.select('churn', 'userId').dropDuplicates().groupby('churn').count().show()"
   ]
  },
  {
   "cell_type": "code",
   "execution_count": 10,
   "metadata": {},
   "outputs": [
    {
     "data": {
      "application/vnd.jupyter.widget-view+json": {
       "model_id": "ca46f65af6974a3992882e863317fea5",
       "version_major": 2,
       "version_minor": 0
      },
      "text/plain": [
       "VBox()"
      ]
     },
     "metadata": {},
     "output_type": "display_data"
    },
    {
     "data": {
      "application/vnd.jupyter.widget-view+json": {
       "model_id": "",
       "version_major": 2,
       "version_minor": 0
      },
      "text/plain": [
       "FloatProgress(value=0.0, bar_style='info', description='Progress:', layout=Layout(height='25px', width='50%'),…"
      ]
     },
     "metadata": {},
     "output_type": "display_data"
    },
    {
     "name": "stdout",
     "output_type": "stream",
     "text": [
      "root\n",
      " |-- artist: string (nullable = true)\n",
      " |-- auth: string (nullable = true)\n",
      " |-- gender: string (nullable = true)\n",
      " |-- itemInSession: long (nullable = true)\n",
      " |-- length: double (nullable = true)\n",
      " |-- level: string (nullable = true)\n",
      " |-- location: string (nullable = true)\n",
      " |-- method: string (nullable = true)\n",
      " |-- page: string (nullable = true)\n",
      " |-- registration: long (nullable = true)\n",
      " |-- sessionId: long (nullable = true)\n",
      " |-- song: string (nullable = true)\n",
      " |-- status: long (nullable = true)\n",
      " |-- ts: long (nullable = true)\n",
      " |-- userAgent: string (nullable = true)\n",
      " |-- userId: string (nullable = true)\n",
      " |-- tsDate: timestamp (nullable = true)\n",
      " |-- date: date (nullable = true)\n",
      " |-- churn: integer (nullable = true)\n",
      " |-- userRowId: integer (nullable = true)\n",
      " |-- userRowDescId: integer (nullable = true)\n",
      " |-- lastLevel: string (nullable = true)"
     ]
    }
   ],
   "source": [
    "data.printSchema()"
   ]
  },
  {
   "cell_type": "markdown",
   "metadata": {},
   "source": [
    "##### Queries"
   ]
  },
  {
   "cell_type": "code",
   "execution_count": 19,
   "metadata": {},
   "outputs": [
    {
     "data": {
      "application/vnd.jupyter.widget-view+json": {
       "model_id": "697c229310ed413e81e0d0f41c1d1e95",
       "version_major": 2,
       "version_minor": 0
      },
      "text/plain": [
       "VBox()"
      ]
     },
     "metadata": {},
     "output_type": "display_data"
    },
    {
     "data": {
      "application/vnd.jupyter.widget-view+json": {
       "model_id": "",
       "version_major": 2,
       "version_minor": 0
      },
      "text/plain": [
       "FloatProgress(value=0.0, bar_style='info', description='Progress:', layout=Layout(height='25px', width='50%'),…"
      ]
     },
     "metadata": {},
     "output_type": "display_data"
    }
   ],
   "source": [
    "\n",
    "# All unique users\n",
    "users = data.select('userId').dropDuplicates()\n",
    "\n",
    "# Pages without churn definition events\n",
    "page_data = data.where(~data.page.isin(['Submit Downgrade', 'Upgrade', 'Submit Upgrade', 'Cancel', 'Cancellation Confirmation'])) \\\n",
    "    .select('churn', 'page', 'userId', 'sessionId', 'ts', 'date')\n",
    "\n",
    "# Calc session duration (in hours)\n",
    "session_hours = page_data \\\n",
    "    .groupby('userId', 'sessionId') \\\n",
    "    .agg(((max('ts') - min('ts'))/1000/3600).alias('sessionHours'))\n",
    "\n",
    "# User interactions duration per user (in hours)\n",
    "user_hours = page_data \\\n",
    "    .groupby('userId', 'sessionId') \\\n",
    "    .agg(((max('ts') - min('ts'))/1000/3600).alias('sessionHours')) \\\n",
    "    .groupby('userId') \\\n",
    "    .agg(Fsum('sessionHours').alias('hours'))  "
   ]
  },
  {
   "cell_type": "markdown",
   "metadata": {},
   "source": [
    "#### Features"
   ]
  },
  {
   "cell_type": "code",
   "execution_count": 12,
   "metadata": {},
   "outputs": [
    {
     "data": {
      "application/vnd.jupyter.widget-view+json": {
       "model_id": "b42247b302e344398bf20d3ae9978828",
       "version_major": 2,
       "version_minor": 0
      },
      "text/plain": [
       "VBox()"
      ]
     },
     "metadata": {},
     "output_type": "display_data"
    },
    {
     "data": {
      "application/vnd.jupyter.widget-view+json": {
       "model_id": "",
       "version_major": 2,
       "version_minor": 0
      },
      "text/plain": [
       "FloatProgress(value=0.0, bar_style='info', description='Progress:', layout=Layout(height='25px', width='50%'),…"
      ]
     },
     "metadata": {},
     "output_type": "display_data"
    }
   ],
   "source": [
    "    f_Gender = data \\\n",
    "        .select('userId', 'gender') \\\n",
    "        .dropDuplicates() \\\n",
    "        .replace(['M', 'F'], ['0', '1'], 'gender') \\\n",
    "        .select('userId', col('gender').cast('int').alias('Gender'))\n",
    "\n",
    "    f_LastLevel = data \\\n",
    "        .select('userId', 'lastLevel') \\\n",
    "        .dropDuplicates() \\\n",
    "        .replace(['free', 'paid'], ['0', '1'], 'lastLevel') \\\n",
    "        .select('userId', col('lastLevel').cast('int').alias('LastLevel'))\n",
    "\n",
    "    f_LogCount = data \\\n",
    "        .groupby('userId') \\\n",
    "        .agg(count('userId').alias('LogCount'))\n",
    "\n",
    "    f_SongCount = data \\\n",
    "        .where(data.page == 'NextSong') \\\n",
    "        .groupby('userId') \\\n",
    "        .agg(count('userId').alias('SongCount'))\n",
    "\n",
    "    f_NonSongCount = data \\\n",
    "        .where(data.page != 'NextSong') \\\n",
    "        .groupby('userId') \\\n",
    "        .agg(count('userId').alias('NonSongCount'))\n",
    "\n",
    "    f_AboutCount = page_count('About')\n",
    "\n",
    "    f_ThumbsUpCount = page_count('Thumbs Up')\n",
    "\n",
    "    f_RollAdvertCount = page_count('Roll Advert')\n",
    "\n",
    "    f_SessionCount = data \\\n",
    "        .select('userId', 'sessionId') \\\n",
    "        .dropDuplicates() \\\n",
    "        .groupby('userId') \\\n",
    "        .agg(count('userId').alias('SessionCount'))\n",
    "\n",
    "    f_AvgSessionLength = data \\\n",
    "       .groupby('userId', 'sessionId') \\\n",
    "       .agg(((max('ts') - min('ts'))/1000).alias('sessionLength')) \\\n",
    "       .groupby('userId') \\\n",
    "       .agg(avg('sessionLength').alias('AvgSessionLength')) \\\n",
    "\n",
    "    f_AvgSessionGap = data \\\n",
    "        .groupby('userId', 'sessionId') \\\n",
    "        .agg(min('ts').alias('startTime'), max('ts').alias('endTime')) \\\n",
    "        .groupby('userId') \\\n",
    "        .agg(count('userId').alias('sessionCount'), \\\n",
    "            ((max('endTime') - min('startTime'))/1000).alias('observationPeriodTime'), \\\n",
    "            (Fsum(col('endTime') - col('startTime'))/1000).alias('totalSessionTime')) \\\n",
    "        .where(col('sessionCount') > 1) \\\n",
    "        .join(users, 'userId', 'outer') \\\n",
    "        .fillna(0) \\\n",
    "        .select('userId', \\\n",
    "            (col('observationPeriodTime') - col('totalSessionTime')/(col('sessionCount') - 1)).alias('AvgSessionGap'))\n",
    "\n",
    "    f_DowngradePerSessionHour = page_session_hour('Downgrade')\n",
    "\n",
    "    f_ErrorPerSessionHour = page_session_hour('Error')\n",
    "\n",
    "    f_SettingsPerSessionHour = page_session_hour('Settings')\n",
    "\n",
    "    f_SaveSettingsPerSessionHour = page_session_hour('Save Settings')\n",
    "\n",
    "    f_LogoutPerSessionHour = page_session_hour('Logout')\n",
    "\n",
    "    f_SubmitDowngradePerSessionHour = page_session_hour('Submit Downgrade')\n",
    "\n",
    "    f_RollAdvertPerHour = page_hour('Roll Advert')\n",
    "\n",
    "    f_ThumbsDownPerHour = page_hour('Thumbs Down')\n",
    "\n",
    "    f_UpgradePerHour = page_hour('Upgrade')\n",
    "\n",
    "    f_SubmitUpgradePerHour = page_hour('Submit Upgrade')\n",
    "\n",
    "    f_SessionsPerDay = data \\\n",
    "        .select('userId', 'date', 'sessionId') \\\n",
    "        .dropDuplicates() \\\n",
    "        .groupby('userId', 'date') \\\n",
    "        .count() \\\n",
    "        .groupby('userId') \\\n",
    "        .agg(avg('count').alias('SessionsPerDay'))\n",
    "\n",
    "    f_AddFriendPerDay = page_day('Add Friend')\n",
    "\n",
    "    f_RollAdvertPerDay = page_day('Roll Advert')\n",
    "\n",
    "    f_ThumbsDownPerDay = page_day('Thumbs Down')\n",
    "\n",
    "    f_ThumbsUpPerDay = page_day('Thumbs Up')\n",
    "\n",
    "    f_TotalSongLength = data \\\n",
    "        .where(data.page == 'NextSong') \\\n",
    "        .select('userId', 'length') \\\n",
    "        .groupby('userId') \\\n",
    "        .agg(Fsum('length').alias('TotalSongLength'))\n",
    "\n",
    "    f_UniqueSongCount = data \\\n",
    "        .where(data.page == 'NextSong') \\\n",
    "        .select('userId', 'song') \\\n",
    "        .dropDuplicates() \\\n",
    "        .groupby('userId') \\\n",
    "        .agg(count('userId').alias('UniqueSongCount'))\n",
    "\n",
    "    f_UniqueSongShare = data \\\n",
    "        .where(data.page == 'NextSong') \\\n",
    "        .select('userId', 'song') \\\n",
    "        .dropDuplicates() \\\n",
    "        .groupby('userId') \\\n",
    "        .count() \\\n",
    "        .join(f_SongCount, on = ['userId'], how = 'inner') \\\n",
    "        .select('userId', (col('count')/col('SongCount')).alias('UniqueSongShare')) \n"
   ]
  },
  {
   "cell_type": "markdown",
   "metadata": {},
   "source": [
    "## Feature Check"
   ]
  },
  {
   "cell_type": "markdown",
   "metadata": {},
   "source": [
    "### AvgSessionGap (YES)"
   ]
  },
  {
   "cell_type": "code",
   "execution_count": 13,
   "metadata": {},
   "outputs": [
    {
     "data": {
      "application/vnd.jupyter.widget-view+json": {
       "model_id": "bea2f19784294d0ba62c67427c73b5b5",
       "version_major": 2,
       "version_minor": 0
      },
      "text/plain": [
       "VBox()"
      ]
     },
     "metadata": {},
     "output_type": "display_data"
    },
    {
     "data": {
      "application/vnd.jupyter.widget-view+json": {
       "model_id": "",
       "version_major": 2,
       "version_minor": 0
      },
      "text/plain": [
       "FloatProgress(value=0.0, bar_style='info', description='Progress:', layout=Layout(height='25px', width='50%'),…"
      ]
     },
     "metadata": {},
     "output_type": "display_data"
    },
    {
     "name": "stdout",
     "output_type": "stream",
     "text": [
      "+-----+------------------+\n",
      "|label|avg(AvgSessionGap)|\n",
      "+-----+------------------+\n",
      "|    1| 4244186.260620306|\n",
      "|    0| 3304447.189541696|\n",
      "+-----+------------------+"
     ]
    }
   ],
   "source": [
    "labels.join(f_AvgSessionGap, 'userId', 'outer') \\\n",
    "    .groupby('label') \\\n",
    "    .agg(avg('AvgSessionGap')) \\\n",
    "    .show()"
   ]
  },
  {
   "cell_type": "code",
   "execution_count": 20,
   "metadata": {},
   "outputs": [
    {
     "data": {
      "application/vnd.jupyter.widget-view+json": {
       "model_id": "3709cadf34474cccb9556dc0fac7e59e",
       "version_major": 2,
       "version_minor": 0
      },
      "text/plain": [
       "VBox()"
      ]
     },
     "metadata": {},
     "output_type": "display_data"
    },
    {
     "data": {
      "application/vnd.jupyter.widget-view+json": {
       "model_id": "",
       "version_major": 2,
       "version_minor": 0
      },
      "text/plain": [
       "FloatProgress(value=0.0, bar_style='info', description='Progress:', layout=Layout(height='25px', width='50%'),…"
      ]
     },
     "metadata": {},
     "output_type": "display_data"
    },
    {
     "name": "stdout",
     "output_type": "stream",
     "text": [
      "+-----+------------------+\n",
      "|label|avg(AvgSessionGap)|\n",
      "+-----+------------------+\n",
      "|    1| 2083145.432607491|\n",
      "|    0| 3935744.507611506|\n",
      "+-----+------------------+"
     ]
    }
   ],
   "source": [
    "labels.join(f_AvgSessionGap, 'userId', 'outer') \\\n",
    "    .groupby('label') \\\n",
    "    .agg(avg('AvgSessionGap')) \\\n",
    "    .show()"
   ]
  },
  {
   "cell_type": "markdown",
   "metadata": {},
   "source": [
    "### Per hour features"
   ]
  },
  {
   "cell_type": "code",
   "execution_count": 16,
   "metadata": {},
   "outputs": [
    {
     "data": {
      "application/vnd.jupyter.widget-view+json": {
       "model_id": "3fe1a3c5f5bf482abef1dd86fe0eab8c",
       "version_major": 2,
       "version_minor": 0
      },
      "text/plain": [
       "VBox()"
      ]
     },
     "metadata": {},
     "output_type": "display_data"
    },
    {
     "data": {
      "application/vnd.jupyter.widget-view+json": {
       "model_id": "",
       "version_major": 2,
       "version_minor": 0
      },
      "text/plain": [
       "FloatProgress(value=0.0, bar_style='info', description='Progress:', layout=Layout(height='25px', width='50%'),…"
      ]
     },
     "metadata": {},
     "output_type": "display_data"
    },
    {
     "name": "stdout",
     "output_type": "stream",
     "text": [
      "+-----+--------------------+--------------------+\n",
      "|churn|                page|     AvgCountPerHour|\n",
      "+-----+--------------------+--------------------+\n",
      "|    0|               About| 0.07974660299961202|\n",
      "|    1|               About|0.038796560736421515|\n",
      "|    0|          Add Friend|  0.3323238283105589|\n",
      "|    1|          Add Friend| 0.26757162138438756|\n",
      "|    0|     Add to Playlist|  0.4307492174289696|\n",
      "|    1|     Add to Playlist|  0.4065724958388631|\n",
      "|    0|              Cancel| 0.27058577119877714|\n",
      "|    1|              Cancel|0.021713037494027587|\n",
      "|    0|Cancellation Conf...| 0.27058577119877714|\n",
      "|    1|Cancellation Conf...|0.021713037494027587|\n",
      "|    0|           Downgrade| 0.15553974027070466|\n",
      "|    1|           Downgrade| 0.14083388826729795|\n",
      "|    0|               Error| 0.04366372583976314|\n",
      "|    1|               Error|  0.0239287671949968|\n",
      "|    0|                Help|   0.121046621770175|\n",
      "|    1|                Help| 0.09276112061952985|\n",
      "|    0|                Home|  1.3876360760280084|\n",
      "|    1|                Home|  0.6903134160710036|\n",
      "|    0|               Login| 0.02062142363300668|\n",
      "|    0|              Logout|  1.4964197305552223|\n",
      "|    1|              Logout| 0.21806502326821595|\n",
      "|    0|            NextSong|   15.39029196229422|\n",
      "|    1|            NextSong|  14.315161428630805|\n",
      "|    0|            Register|5.580692341377209E-5|\n",
      "|    0|         Roll Advert|  0.7885870813983161|\n",
      "|    1|         Roll Advert| 0.41589193128408114|\n",
      "|    0|       Save Settings|0.051154518301673335|\n",
      "|    1|       Save Settings|0.026714255097028877|\n",
      "|    0|            Settings| 0.15361547325206673|\n",
      "|    1|            Settings| 0.10628656555573869|\n",
      "|    0| Submit Registration|2.790346170688604...|\n",
      "|    0|      Submit Upgrade| 0.03493176495644507|\n",
      "|    1|      Submit Upgrade| 0.02173082437779688|\n",
      "|    0|         Thumbs Down| 0.21611355773798807|\n",
      "|    1|         Thumbs Down| 0.18867106220258667|\n",
      "|    0|           Thumbs Up|  0.8210995915212644|\n",
      "|    1|           Thumbs Up|  0.7458441229283395|\n",
      "|    0|             Upgrade| 0.10917147619430846|\n",
      "|    1|             Upgrade|0.057155257768178216|\n",
      "+-----+--------------------+--------------------+"
     ]
    }
   ],
   "source": [
    "# Average page count per hour, per churn\n",
    "page_data \\\n",
    "    .join(user_hours, 'userId', 'inner') \\\n",
    "    .groupby('churn', 'userId', 'page', 'hours') \\\n",
    "    .agg((count('userId')/col('hours')).alias('CountPerHour')) \\\n",
    "    .groupby('churn', 'page') \\\n",
    "    .agg(avg('CountPerHour').alias('AvgCountPerHour')) \\\n",
    "    .sort('page', 'churn') \\\n",
    "    .show(100)"
   ]
  },
  {
   "cell_type": "markdown",
   "metadata": {},
   "source": [
    "##### Selected per hour features:"
   ]
  },
  {
   "cell_type": "markdown",
   "metadata": {},
   "source": [
    " - Downgrade\n",
    " - Home\n",
    " - Logout\n",
    " - Roll Advert\n",
    " - Settings\n",
    " - Submit Downgrade\n",
    " - Submit Upgrade\n",
    " - Thumbs Down"
   ]
  },
  {
   "cell_type": "markdown",
   "metadata": {},
   "source": [
    "### Per day features"
   ]
  },
  {
   "cell_type": "code",
   "execution_count": 17,
   "metadata": {},
   "outputs": [
    {
     "data": {
      "application/vnd.jupyter.widget-view+json": {
       "model_id": "814ce33da00647f1822c07b84363571a",
       "version_major": 2,
       "version_minor": 0
      },
      "text/plain": [
       "VBox()"
      ]
     },
     "metadata": {},
     "output_type": "display_data"
    },
    {
     "data": {
      "application/vnd.jupyter.widget-view+json": {
       "model_id": "",
       "version_major": 2,
       "version_minor": 0
      },
      "text/plain": [
       "FloatProgress(value=0.0, bar_style='info', description='Progress:', layout=Layout(height='25px', width='50%'),…"
      ]
     },
     "metadata": {},
     "output_type": "display_data"
    },
    {
     "name": "stdout",
     "output_type": "stream",
     "text": [
      "+-----+--------------------+------------------+\n",
      "|churn|                page|    AvgCountPerDay|\n",
      "+-----+--------------------+------------------+\n",
      "|    0|               About|1.2359981623425653|\n",
      "|    1|               About|1.1769044524425163|\n",
      "|    0|          Add Friend|2.4145275202506804|\n",
      "|    1|          Add Friend| 2.663828774404083|\n",
      "|    0|     Add to Playlist|   2.5970465586921|\n",
      "|    1|     Add to Playlist|3.0302791793537764|\n",
      "|    0|              Cancel|               1.0|\n",
      "|    1|              Cancel|               1.0|\n",
      "|    0|Cancellation Conf...|               1.0|\n",
      "|    1|Cancellation Conf...|               1.0|\n",
      "|    0|           Downgrade|1.8330022091560143|\n",
      "|    1|           Downgrade|1.9526806700667658|\n",
      "|    0|               Error|1.0759669936571994|\n",
      "|    1|               Error|1.0808030144777132|\n",
      "|    0|                Help| 1.433259928460583|\n",
      "|    1|                Help|1.4588501845064854|\n",
      "|    0|                Home|  3.52374669352495|\n",
      "|    1|                Home|3.8617029426555525|\n",
      "|    0|               Login| 4858.196721311476|\n",
      "|    0|              Logout| 1.654131295511166|\n",
      "|    1|              Logout|1.8234735434657676|\n",
      "|    0|            NextSong| 57.47187401184856|\n",
      "|    1|            NextSong| 74.89393349200786|\n",
      "|    0|            Register|13.147540983606557|\n",
      "|    0|         Roll Advert|3.1304774560339985|\n",
      "|    1|         Roll Advert|3.5555139144348136|\n",
      "|    0|       Save Settings|  1.10428295661629|\n",
      "|    1|       Save Settings|1.1041377554222649|\n",
      "|    0|            Settings|1.4920117271823712|\n",
      "|    1|            Settings|1.5571676542454864|\n",
      "|    0| Submit Registration| 6.573770491803279|\n",
      "|    0|      Submit Upgrade|               1.0|\n",
      "|    1|      Submit Upgrade|1.0066963953920474|\n",
      "|    0|         Thumbs Down|1.6708331382046684|\n",
      "|    1|         Thumbs Down|1.8580682095633714|\n",
      "|    0|           Thumbs Up| 4.083945732495358|\n",
      "|    1|           Thumbs Up| 4.774128625670169|\n",
      "|    0|             Upgrade| 1.332358632047374|\n",
      "|    1|             Upgrade|1.3651338662732218|\n",
      "+-----+--------------------+------------------+"
     ]
    }
   ],
   "source": [
    "# Average page count per day, per churn\n",
    "page_data \\\n",
    "    .groupby('churn', 'userId', 'page', 'date') \\\n",
    "    .count() \\\n",
    "    .groupby('churn', 'userId', 'page') \\\n",
    "    .agg(avg('count').alias('AvgCountPerDay')) \\\n",
    "    .groupby('churn', 'page') \\\n",
    "    .agg(avg('AvgCountPerDay').alias('AvgCountPerDay')) \\\n",
    "    .sort('page', 'churn') \\\n",
    "    .show(100)"
   ]
  },
  {
   "cell_type": "markdown",
   "metadata": {},
   "source": [
    "##### Selected per day features:"
   ]
  },
  {
   "cell_type": "markdown",
   "metadata": {},
   "source": [
    " - RollAdvert"
   ]
  },
  {
   "cell_type": "markdown",
   "metadata": {},
   "source": [
    "### SongCount (NO)"
   ]
  },
  {
   "cell_type": "code",
   "execution_count": 18,
   "metadata": {},
   "outputs": [
    {
     "data": {
      "application/vnd.jupyter.widget-view+json": {
       "model_id": "75960920f2194dd5b78010ebc77434a7",
       "version_major": 2,
       "version_minor": 0
      },
      "text/plain": [
       "VBox()"
      ]
     },
     "metadata": {},
     "output_type": "display_data"
    },
    {
     "data": {
      "application/vnd.jupyter.widget-view+json": {
       "model_id": "",
       "version_major": 2,
       "version_minor": 0
      },
      "text/plain": [
       "FloatProgress(value=0.0, bar_style='info', description='Progress:', layout=Layout(height='25px', width='50%'),…"
      ]
     },
     "metadata": {},
     "output_type": "display_data"
    },
    {
     "name": "stdout",
     "output_type": "stream",
     "text": [
      "+-----+------------------+\n",
      "|label|    avg(SongCount)|\n",
      "+-----+------------------+\n",
      "|    1|1748.1493239271017|\n",
      "|    0|  694.583173216885|\n",
      "+-----+------------------+"
     ]
    }
   ],
   "source": [
    "labels.join(f_SongCount, 'userId', 'outer') \\\n",
    "    .fillna(0) \\\n",
    "    .groupby('label').agg(avg('SongCount')).show()"
   ]
  },
  {
   "cell_type": "markdown",
   "metadata": {},
   "source": [
    "### NonSongCount (YES)"
   ]
  },
  {
   "cell_type": "code",
   "execution_count": 20,
   "metadata": {},
   "outputs": [
    {
     "data": {
      "application/vnd.jupyter.widget-view+json": {
       "model_id": "5769d108cdfd4b82aa70a43f2caa3034",
       "version_major": 2,
       "version_minor": 0
      },
      "text/plain": [
       "VBox()"
      ]
     },
     "metadata": {},
     "output_type": "display_data"
    },
    {
     "data": {
      "application/vnd.jupyter.widget-view+json": {
       "model_id": "",
       "version_major": 2,
       "version_minor": 0
      },
      "text/plain": [
       "FloatProgress(value=0.0, bar_style='info', description='Progress:', layout=Layout(height='25px', width='50%'),…"
      ]
     },
     "metadata": {},
     "output_type": "display_data"
    },
    {
     "name": "stdout",
     "output_type": "stream",
     "text": [
      "+-----+-----------------+\n",
      "|label|avg(NonSongCount)|\n",
      "+-----+-----------------+\n",
      "|    1| 386.071526553008|\n",
      "|    0|200.2214847161572|\n",
      "+-----+-----------------+"
     ]
    }
   ],
   "source": [
    "labels.join(f_NonSongCount, 'userId', 'outer') \\\n",
    "    .fillna(0) \\\n",
    "    .groupby('label').agg(avg('NonSongCount')).show()"
   ]
  },
  {
   "cell_type": "markdown",
   "metadata": {},
   "source": [
    "### SessionCount (YES)"
   ]
  },
  {
   "cell_type": "code",
   "execution_count": 21,
   "metadata": {},
   "outputs": [
    {
     "data": {
      "application/vnd.jupyter.widget-view+json": {
       "model_id": "e58ae43f18314388b3d7334c220d3f7c",
       "version_major": 2,
       "version_minor": 0
      },
      "text/plain": [
       "VBox()"
      ]
     },
     "metadata": {},
     "output_type": "display_data"
    },
    {
     "data": {
      "application/vnd.jupyter.widget-view+json": {
       "model_id": "",
       "version_major": 2,
       "version_minor": 0
      },
      "text/plain": [
       "FloatProgress(value=0.0, bar_style='info', description='Progress:', layout=Layout(height='25px', width='50%'),…"
      ]
     },
     "metadata": {},
     "output_type": "display_data"
    },
    {
     "name": "stdout",
     "output_type": "stream",
     "text": [
      "+-----+------------------+\n",
      "|label| avg(SessionCount)|\n",
      "+-----+------------------+\n",
      "|    1| 23.54830491867529|\n",
      "|    0|19.505735080058223|\n",
      "+-----+------------------+"
     ]
    }
   ],
   "source": [
    "labels.join(f_SessionCount, 'userId', 'outer') \\\n",
    "    .fillna(0) \\\n",
    "    .groupby('label').agg(avg('SessionCount')).show()"
   ]
  },
  {
   "cell_type": "markdown",
   "metadata": {},
   "source": [
    "### AvgSessionLength (NO)"
   ]
  },
  {
   "cell_type": "code",
   "execution_count": 22,
   "metadata": {},
   "outputs": [
    {
     "data": {
      "application/vnd.jupyter.widget-view+json": {
       "model_id": "0ac1665ba7a240dbae04c21f5c32c447",
       "version_major": 2,
       "version_minor": 0
      },
      "text/plain": [
       "VBox()"
      ]
     },
     "metadata": {},
     "output_type": "display_data"
    },
    {
     "data": {
      "application/vnd.jupyter.widget-view+json": {
       "model_id": "",
       "version_major": 2,
       "version_minor": 0
      },
      "text/plain": [
       "FloatProgress(value=0.0, bar_style='info', description='Progress:', layout=Layout(height='25px', width='50%'),…"
      ]
     },
     "metadata": {},
     "output_type": "display_data"
    },
    {
     "name": "stdout",
     "output_type": "stream",
     "text": [
      "+-----+---------------------+\n",
      "|label|avg(AvgSessionLength)|\n",
      "+-----+---------------------+\n",
      "|    1|    18895.01848812512|\n",
      "|    0|   15908.077736444633|\n",
      "+-----+---------------------+"
     ]
    }
   ],
   "source": [
    "labels.join(f_AvgSessionLength, 'userId', 'outer') \\\n",
    "    .fillna(0) \\\n",
    "    .groupby('label').agg(avg('AvgSessionLength')).show()"
   ]
  },
  {
   "cell_type": "markdown",
   "metadata": {},
   "source": [
    "### TotalSongLength (NO)"
   ]
  },
  {
   "cell_type": "code",
   "execution_count": 23,
   "metadata": {},
   "outputs": [
    {
     "data": {
      "application/vnd.jupyter.widget-view+json": {
       "model_id": "9d9cb48ac4db433786f56c02e7bfdc6d",
       "version_major": 2,
       "version_minor": 0
      },
      "text/plain": [
       "VBox()"
      ]
     },
     "metadata": {},
     "output_type": "display_data"
    },
    {
     "data": {
      "application/vnd.jupyter.widget-view+json": {
       "model_id": "",
       "version_major": 2,
       "version_minor": 0
      },
      "text/plain": [
       "FloatProgress(value=0.0, bar_style='info', description='Progress:', layout=Layout(height='25px', width='50%'),…"
      ]
     },
     "metadata": {},
     "output_type": "display_data"
    },
    {
     "name": "stdout",
     "output_type": "stream",
     "text": [
      "+-----+--------------------+\n",
      "|label|avg(TotalSongLength)|\n",
      "+-----+--------------------+\n",
      "|    1|   434794.7743775052|\n",
      "|    0|    172764.785853936|\n",
      "+-----+--------------------+"
     ]
    }
   ],
   "source": [
    "labels.join(f_TotalSongLength, 'userId', 'outer') \\\n",
    "    .fillna(0) \\\n",
    "    .groupby('label').agg(avg('TotalSongLength')).show()"
   ]
  },
  {
   "cell_type": "markdown",
   "metadata": {},
   "source": [
    "### SessionsPerDay (NO)"
   ]
  },
  {
   "cell_type": "code",
   "execution_count": 24,
   "metadata": {},
   "outputs": [
    {
     "data": {
      "application/vnd.jupyter.widget-view+json": {
       "model_id": "d1397c35ad624f4d84c4f040e3b63f8c",
       "version_major": 2,
       "version_minor": 0
      },
      "text/plain": [
       "VBox()"
      ]
     },
     "metadata": {},
     "output_type": "display_data"
    },
    {
     "data": {
      "application/vnd.jupyter.widget-view+json": {
       "model_id": "",
       "version_major": 2,
       "version_minor": 0
      },
      "text/plain": [
       "FloatProgress(value=0.0, bar_style='info', description='Progress:', layout=Layout(height='25px', width='50%'),…"
      ]
     },
     "metadata": {},
     "output_type": "display_data"
    },
    {
     "name": "stdout",
     "output_type": "stream",
     "text": [
      "+-----+-------------------+\n",
      "|label|avg(SessionsPerDay)|\n",
      "+-----+-------------------+\n",
      "|    1| 1.2262613774098055|\n",
      "|    0| 1.3028645682426432|\n",
      "+-----+-------------------+"
     ]
    }
   ],
   "source": [
    "labels.join(f_SessionsPerDay, 'userId', 'outer') \\\n",
    "    .fillna(0) \\\n",
    "    .groupby('label').agg(avg('SessionsPerDay')).show()"
   ]
  },
  {
   "cell_type": "markdown",
   "metadata": {},
   "source": [
    "### UniqueSongCount (NO)"
   ]
  },
  {
   "cell_type": "code",
   "execution_count": 25,
   "metadata": {},
   "outputs": [
    {
     "data": {
      "application/vnd.jupyter.widget-view+json": {
       "model_id": "29a89edd1db2456d9b1b7173cf223b0a",
       "version_major": 2,
       "version_minor": 0
      },
      "text/plain": [
       "VBox()"
      ]
     },
     "metadata": {},
     "output_type": "display_data"
    },
    {
     "data": {
      "application/vnd.jupyter.widget-view+json": {
       "model_id": "",
       "version_major": 2,
       "version_minor": 0
      },
      "text/plain": [
       "FloatProgress(value=0.0, bar_style='info', description='Progress:', layout=Layout(height='25px', width='50%'),…"
      ]
     },
     "metadata": {},
     "output_type": "display_data"
    },
    {
     "name": "stdout",
     "output_type": "stream",
     "text": [
      "+-----+--------------------+\n",
      "|label|avg(UniqueSongCount)|\n",
      "+-----+--------------------+\n",
      "|    1|  1501.8208896727415|\n",
      "|    0|   628.5352547307133|\n",
      "+-----+--------------------+"
     ]
    }
   ],
   "source": [
    "labels.join(f_UniqueSongCount, 'userId', 'outer') \\\n",
    "    .fillna(0) \\\n",
    "    .groupby('label').agg(avg('UniqueSongCount')).show()"
   ]
  },
  {
   "cell_type": "markdown",
   "metadata": {},
   "source": [
    "### UniqueSongShare (NO)"
   ]
  },
  {
   "cell_type": "code",
   "execution_count": 26,
   "metadata": {},
   "outputs": [
    {
     "data": {
      "application/vnd.jupyter.widget-view+json": {
       "model_id": "17e861aadf454b04b458cf4d2f57f7f0",
       "version_major": 2,
       "version_minor": 0
      },
      "text/plain": [
       "VBox()"
      ]
     },
     "metadata": {},
     "output_type": "display_data"
    },
    {
     "data": {
      "application/vnd.jupyter.widget-view+json": {
       "model_id": "",
       "version_major": 2,
       "version_minor": 0
      },
      "text/plain": [
       "FloatProgress(value=0.0, bar_style='info', description='Progress:', layout=Layout(height='25px', width='50%'),…"
      ]
     },
     "metadata": {},
     "output_type": "display_data"
    },
    {
     "name": "stdout",
     "output_type": "stream",
     "text": [
      "+-----+--------------------+\n",
      "|label|avg(UniqueSongShare)|\n",
      "+-----+--------------------+\n",
      "|    1|   0.902333929373722|\n",
      "|    0|  0.9504775922825538|\n",
      "+-----+--------------------+"
     ]
    }
   ],
   "source": [
    "labels.join(f_UniqueSongShare, 'userId', 'outer') \\\n",
    "    .fillna(0) \\\n",
    "    .groupby('label').agg(avg('UniqueSongShare')).show()"
   ]
  },
  {
   "cell_type": "markdown",
   "metadata": {},
   "source": [
    "### LogCount (NO)"
   ]
  },
  {
   "cell_type": "code",
   "execution_count": 27,
   "metadata": {},
   "outputs": [
    {
     "data": {
      "application/vnd.jupyter.widget-view+json": {
       "model_id": "56e54ba4b72240deaa50a974e823a42a",
       "version_major": 2,
       "version_minor": 0
      },
      "text/plain": [
       "VBox()"
      ]
     },
     "metadata": {},
     "output_type": "display_data"
    },
    {
     "data": {
      "application/vnd.jupyter.widget-view+json": {
       "model_id": "",
       "version_major": 2,
       "version_minor": 0
      },
      "text/plain": [
       "FloatProgress(value=0.0, bar_style='info', description='Progress:', layout=Layout(height='25px', width='50%'),…"
      ]
     },
     "metadata": {},
     "output_type": "display_data"
    },
    {
     "name": "stdout",
     "output_type": "stream",
     "text": [
      "+-----+------------------+\n",
      "|label|     avg(LogCount)|\n",
      "+-----+------------------+\n",
      "|    1|2134.2208504801097|\n",
      "|    0| 894.8046579330422|\n",
      "+-----+------------------+"
     ]
    }
   ],
   "source": [
    "labels.join(f_LogCount, 'userId', 'outer') \\\n",
    "    .fillna(0) \\\n",
    "    .groupby('label').agg(avg('LogCount')).show()"
   ]
  },
  {
   "cell_type": "markdown",
   "metadata": {},
   "source": [
    "### Per session-hour features"
   ]
  },
  {
   "cell_type": "code",
   "execution_count": 28,
   "metadata": {},
   "outputs": [
    {
     "data": {
      "application/vnd.jupyter.widget-view+json": {
       "model_id": "8daa4a5141e34d91ac7414753336fb02",
       "version_major": 2,
       "version_minor": 0
      },
      "text/plain": [
       "VBox()"
      ]
     },
     "metadata": {},
     "output_type": "display_data"
    },
    {
     "data": {
      "application/vnd.jupyter.widget-view+json": {
       "model_id": "",
       "version_major": 2,
       "version_minor": 0
      },
      "text/plain": [
       "FloatProgress(value=0.0, bar_style='info', description='Progress:', layout=Layout(height='25px', width='50%'),…"
      ]
     },
     "metadata": {},
     "output_type": "display_data"
    },
    {
     "name": "stdout",
     "output_type": "stream",
     "text": [
      "+-----+-------------------+-------------------+\n",
      "|churn|               page|  AvgPerSessionHour|\n",
      "+-----+-------------------+-------------------+\n",
      "|    0|              About| 1.3444645752997937|\n",
      "|    1|              About|  1.623732947278581|\n",
      "|    0|         Add Friend| 11.101005878338443|\n",
      "|    1|         Add Friend|  9.002988046530247|\n",
      "|    0|    Add to Playlist| 0.8910132604671539|\n",
      "|    1|    Add to Playlist| 0.8612317970890859|\n",
      "|    0|          Downgrade| 0.7068792406841425|\n",
      "|    1|          Downgrade| 0.5054197692132388|\n",
      "|    0|              Error| 0.8401778912640101|\n",
      "|    1|              Error|0.35152059539334196|\n",
      "|    0|               Help| 1.2071021264084552|\n",
      "|    1|               Help|  1.570043252059434|\n",
      "|    0|               Home| 13.293379077967844|\n",
      "|    1|               Home| 12.174322714941066|\n",
      "|    0|              Login|   916.384243862892|\n",
      "|    0|             Logout|  21.58056847479438|\n",
      "|    1|             Logout| 19.548823872578662|\n",
      "|    0|           NextSong| 28.963111939244268|\n",
      "|    1|           NextSong|  27.42349375706108|\n",
      "|    0|           Register|  96.46084130298551|\n",
      "|    0|        Roll Advert| 2.5716465393871033|\n",
      "|    1|        Roll Advert|  2.099524786665363|\n",
      "|    0|      Save Settings|  2.247808990781459|\n",
      "|    1|      Save Settings|  1.572404364599302|\n",
      "|    0|           Settings| 1.8068410162538084|\n",
      "|    1|           Settings| 1.0142441973565337|\n",
      "|    0|Submit Registration| 119.50624337136382|\n",
      "|    0|        Thumbs Down|  3.473955622402571|\n",
      "|    1|        Thumbs Down|  2.347093193861148|\n",
      "|    0|          Thumbs Up| 5.1912278601305655|\n",
      "|    1|          Thumbs Up|  4.843781700538968|\n",
      "+-----+-------------------+-------------------+"
     ]
    }
   ],
   "source": [
    "page_data \\\n",
    "    .join(session_hours, ['userId', 'sessionId'], 'inner') \\\n",
    "    .groupby('churn', 'page', 'userId', 'sessionId', 'sessionHours') \\\n",
    "    .agg((count('userId')/col('sessionHours')).alias('AvgPerSessionHour')) \\\n",
    "    .groupby('churn', 'page', 'userId') \\\n",
    "    .agg(avg('AvgPerSessionHour').alias('AvgPerSessionHour')) \\\n",
    "    .groupby('churn', 'page') \\\n",
    "    .agg(avg('AvgPerSessionHour').alias('AvgPerSessionHour')) \\\n",
    "    .sort('page', 'churn') \\\n",
    "    .show(100)"
   ]
  },
  {
   "cell_type": "markdown",
   "metadata": {},
   "source": [
    "##### Selected per day features:"
   ]
  },
  {
   "cell_type": "markdown",
   "metadata": {},
   "source": [
    " - About\n",
    " - Downgrade\n",
    " - Error\n",
    " - Settings\n",
    " - Upgrade"
   ]
  },
  {
   "cell_type": "markdown",
   "metadata": {},
   "source": [
    "### Page count features"
   ]
  },
  {
   "cell_type": "code",
   "execution_count": 29,
   "metadata": {},
   "outputs": [
    {
     "data": {
      "application/vnd.jupyter.widget-view+json": {
       "model_id": "723784e470ed4444b03b93b2514a165e",
       "version_major": 2,
       "version_minor": 0
      },
      "text/plain": [
       "VBox()"
      ]
     },
     "metadata": {},
     "output_type": "display_data"
    },
    {
     "data": {
      "application/vnd.jupyter.widget-view+json": {
       "model_id": "",
       "version_major": 2,
       "version_minor": 0
      },
      "text/plain": [
       "FloatProgress(value=0.0, bar_style='info', description='Progress:', layout=Layout(height='25px', width='50%'),…"
      ]
     },
     "metadata": {},
     "output_type": "display_data"
    },
    {
     "name": "stdout",
     "output_type": "stream",
     "text": [
      "+-----+-------------------+------------------+\n",
      "|churn|               page|      AvgPageCount|\n",
      "+-----+-------------------+------------------+\n",
      "|    0|              About|7.1716640190627485|\n",
      "|    1|              About| 4.676691729323308|\n",
      "|    0|         Add Friend|14.336133902198885|\n",
      "|    1|         Add Friend|32.199802761341225|\n",
      "|    0|    Add to Playlist| 21.25598663449044|\n",
      "|    1|    Add to Playlist| 49.89272406354187|\n",
      "|    0|          Downgrade| 9.738670096972095|\n",
      "|    1|          Downgrade|16.817754262198708|\n",
      "|    0|              Error| 2.030910055717697|\n",
      "|    1|              Error|2.8522088353413655|\n",
      "|    0|               Help| 7.507071922961179|\n",
      "|    1|               Help| 11.17043618739903|\n",
      "|    0|               Home| 55.55833824395993|\n",
      "|    1|               Home| 78.43954536547129|\n",
      "|    0|              Login|          296350.0|\n",
      "|    0|             Logout| 10.61476735506345|\n",
      "|    1|             Logout|24.658143194335167|\n",
      "|    0|           NextSong| 695.2713602984031|\n",
      "|    1|           NextSong|1748.1493239271017|\n",
      "|    0|           Register|             802.0|\n",
      "|    0|        Roll Advert|14.764784318954597|\n",
      "|    1|        Roll Advert| 32.30518840007891|\n",
      "|    0|      Save Settings|2.0444444444444443|\n",
      "|    1|      Save Settings|3.1942740286298568|\n",
      "|    0|           Settings|6.0561129425254405|\n",
      "|    1|           Settings|12.566177947378991|\n",
      "|    0|Submit Registration|             401.0|\n",
      "|    0|        Thumbs Down| 9.032881106729933|\n",
      "|    1|        Thumbs Down|20.531373322809788|\n",
      "|    0|          Thumbs Up|40.796657046657046|\n",
      "|    1|          Thumbs Up| 92.73235294117647|\n",
      "+-----+-------------------+------------------+"
     ]
    }
   ],
   "source": [
    "page_data \\\n",
    "    .groupby('churn', 'page', 'userId') \\\n",
    "    .count() \\\n",
    "    .groupby('churn', 'page') \\\n",
    "    .agg(avg('count').alias('AvgPageCount')) \\\n",
    "    .sort('page', 'churn') \\\n",
    "    .show(100)"
   ]
  },
  {
   "cell_type": "code",
   "execution_count": null,
   "metadata": {},
   "outputs": [],
   "source": []
  },
  {
   "cell_type": "code",
   "execution_count": null,
   "metadata": {},
   "outputs": [],
   "source": []
  },
  {
   "cell_type": "markdown",
   "metadata": {},
   "source": [
    "### ML - Random Forest Test"
   ]
  },
  {
   "cell_type": "code",
   "execution_count": 78,
   "metadata": {},
   "outputs": [
    {
     "data": {
      "application/vnd.jupyter.widget-view+json": {
       "model_id": "ae8bce4f1f1f4c97b1f0ab93f1ebf0d5",
       "version_major": 2,
       "version_minor": 0
      },
      "text/plain": [
       "VBox()"
      ]
     },
     "metadata": {},
     "output_type": "display_data"
    },
    {
     "data": {
      "application/vnd.jupyter.widget-view+json": {
       "model_id": "",
       "version_major": 2,
       "version_minor": 0
      },
      "text/plain": [
       "FloatProgress(value=0.0, bar_style='info', description='Progress:', layout=Layout(height='25px', width='50%'),…"
      ]
     },
     "metadata": {},
     "output_type": "display_data"
    }
   ],
   "source": [
    "# Import ML libraries\n",
    "from pyspark.ml.feature import VectorAssembler, Normalizer, StandardScaler, MinMaxScaler\n",
    "from pyspark.ml import Pipeline\n",
    "from pyspark.ml.classification import LogisticRegression, RandomForestClassifier, GBTClassifier\n",
    "from pyspark.ml.tuning import CrossValidator, ParamGridBuilder\n",
    "from pyspark.ml.evaluation import MulticlassClassificationEvaluator, BinaryClassificationEvaluator\n",
    "import numpy as np"
   ]
  },
  {
   "cell_type": "code",
   "execution_count": 79,
   "metadata": {},
   "outputs": [
    {
     "data": {
      "application/vnd.jupyter.widget-view+json": {
       "model_id": "0adbe8b886464c48b795d59f238a5186",
       "version_major": 2,
       "version_minor": 0
      },
      "text/plain": [
       "VBox()"
      ]
     },
     "metadata": {},
     "output_type": "display_data"
    },
    {
     "data": {
      "application/vnd.jupyter.widget-view+json": {
       "model_id": "",
       "version_major": 2,
       "version_minor": 0
      },
      "text/plain": [
       "FloatProgress(value=0.0, bar_style='info', description='Progress:', layout=Layout(height='25px', width='50%'),…"
      ]
     },
     "metadata": {},
     "output_type": "display_data"
    },
    {
     "name": "stdout",
     "output_type": "stream",
     "text": [
      "+-----+----+----+----+\n",
      "|label|col1|col2|col3|\n",
      "+-----+----+----+----+\n",
      "|    0|   0|   4|   7|\n",
      "|    0|   0|  50|  19|\n",
      "|    0|   0|  49|   2|\n",
      "|    0|   0|  51|   6|\n",
      "|    0|   1|  50|  99|\n",
      "|    1|   1|  22|  77|\n",
      "|    1|   1|  97|  13|\n",
      "|    1|   1|  89|   4|\n",
      "|    1|   1|  98|  39|\n",
      "|    1|   0|  93|  12|\n",
      "|    1|   1| 101|   7|\n",
      "|    1|   1| 105|  53|\n",
      "|    1|   1|  96|  67|\n",
      "|    1|   1| 100|  81|\n",
      "|    1|   0| 105|   2|\n",
      "+-----+----+----+----+"
     ]
    }
   ],
   "source": [
    "columns = ['label', 'col1', 'col2', 'col3']\n",
    "values = [[0, 0, 4, 7], [0, 0, 50, 19], [0, 0, 49, 2], [0, 0, 51, 6], [0, 1, 50, 99], \\\n",
    "          [1, 1, 22, 77], [1, 1, 97, 13], [1, 1, 89, 4], [1, 1, 98, 39], [1, 0, 93, 12],\n",
    "          [1, 1, 101, 7], [1, 1, 105, 53], [1, 1, 96, 67], [1, 1, 100, 81], [1, 0, 105, 2]]\n",
    "rdd = spark.sparkContext.parallelize(values)\n",
    "df = rdd.toDF(columns) \n",
    "df.show()"
   ]
  },
  {
   "cell_type": "code",
   "execution_count": 80,
   "metadata": {},
   "outputs": [
    {
     "data": {
      "application/vnd.jupyter.widget-view+json": {
       "model_id": "bf091b95b4f6448d96950bc4a8fa273b",
       "version_major": 2,
       "version_minor": 0
      },
      "text/plain": [
       "VBox()"
      ]
     },
     "metadata": {},
     "output_type": "display_data"
    },
    {
     "data": {
      "application/vnd.jupyter.widget-view+json": {
       "model_id": "",
       "version_major": 2,
       "version_minor": 0
      },
      "text/plain": [
       "FloatProgress(value=0.0, bar_style='info', description='Progress:', layout=Layout(height='25px', width='50%'),…"
      ]
     },
     "metadata": {},
     "output_type": "display_data"
    }
   ],
   "source": [
    "# Return selected features without label  \n",
    "def get_features(data):\n",
    "    return data.drop('label').columns\n",
    "\n",
    "# Split data into training and testing subset\n",
    "def split_data(data, seed=0):\n",
    "    train, test = data.randomSplit([0.8, 0.2], seed=seed);\n",
    "    return train, test\n",
    "\n",
    "# Create ML pipeline\n",
    "def create_pipeline(data, classifier, scaler):\n",
    "    features = get_features(data)\n",
    "    assembler = VectorAssembler(inputCols=features, outputCol='NumFeatures')\n",
    "    pipeline = Pipeline(stages=[assembler, scaler, classifier]);\n",
    "    return pipeline\n",
    "\n",
    "# Fit and evaluate model\n",
    "def fit_model(data, classifier, seed=0):\n",
    "    train, test = split_data(data, seed)\n",
    "    scaler = StandardScaler(inputCol='NumFeatures', outputCol='features')\n",
    "    pipeline = create_pipeline(data, classifier, scaler)\n",
    "    model = pipeline.fit(train)\n",
    "    return model\n",
    "\n",
    "def calc_metrics(model, test):\n",
    "    # Create both evaluators\n",
    "    evaluatorMulti = MulticlassClassificationEvaluator(labelCol='label', predictionCol='prediction')\n",
    "    evaluator = BinaryClassificationEvaluator(labelCol='label', rawPredictionCol='prediction', metricName='areaUnderROC')\n",
    "\n",
    "    # Make predicitons\n",
    "    prediction = model.transform(test).select('label', 'prediction')\n",
    "\n",
    "    # Get metrics\n",
    "    accuracy = evaluatorMulti.evaluate(prediction, {evaluatorMulti.metricName: 'accuracy'})\n",
    "    f1 = evaluatorMulti.evaluate(prediction, {evaluatorMulti.metricName: 'f1'})\n",
    "    weightedPrecision = evaluatorMulti.evaluate(prediction, {evaluatorMulti.metricName: 'weightedPrecision'})\n",
    "    weightedRecall = evaluatorMulti.evaluate(prediction, {evaluatorMulti.metricName: 'weightedRecall'})\n",
    "    auc = evaluator.evaluate(prediction)\n",
    "\n",
    "    # Write metrics to S3\n",
    "    columns = ['f1', 'accuracy', 'weightedPrecision', 'weightedRecall', 'AUC']\n",
    "    values = [f1, accuracy, weightedPrecision, weightedRecall, auc]\n",
    "    rdd = spark.sparkContext.parallelize([values])\n",
    "    metrics = rdd.toDF(columns)\n",
    "    \n",
    "    return metrics"
   ]
  },
  {
   "cell_type": "code",
   "execution_count": null,
   "metadata": {},
   "outputs": [],
   "source": [
    "def get_feature_importances()"
   ]
  },
  {
   "cell_type": "code",
   "execution_count": 81,
   "metadata": {},
   "outputs": [
    {
     "data": {
      "application/vnd.jupyter.widget-view+json": {
       "model_id": "03e02b16ebe14dacbec83477dfcbc88b",
       "version_major": 2,
       "version_minor": 0
      },
      "text/plain": [
       "VBox()"
      ]
     },
     "metadata": {},
     "output_type": "display_data"
    },
    {
     "data": {
      "application/vnd.jupyter.widget-view+json": {
       "model_id": "",
       "version_major": 2,
       "version_minor": 0
      },
      "text/plain": [
       "FloatProgress(value=0.0, bar_style='info', description='Progress:', layout=Layout(height='25px', width='50%'),…"
      ]
     },
     "metadata": {},
     "output_type": "display_data"
    },
    {
     "name": "stdout",
     "output_type": "stream",
     "text": [
      "+------------------+--------+------------------+--------------+----+\n",
      "|                f1|accuracy| weightedPrecision|weightedRecall| AUC|\n",
      "+------------------+--------+------------------+--------------+----+\n",
      "|0.7333333333333334|    0.75|0.8333333333333333|          0.75|0.75|\n",
      "+------------------+--------+------------------+--------------+----+"
     ]
    }
   ],
   "source": [
    "classifier = RandomForestClassifier(seed=0)\n",
    "model = fit_model(df, classifier)\n",
    "train, test = split_data(df)\n",
    "metrics = calc_metrics(model, test)\n",
    "metrics.show()"
   ]
  },
  {
   "cell_type": "code",
   "execution_count": 82,
   "metadata": {},
   "outputs": [
    {
     "data": {
      "application/vnd.jupyter.widget-view+json": {
       "model_id": "4efdbe44f42347db9e88a939a62988bf",
       "version_major": 2,
       "version_minor": 0
      },
      "text/plain": [
       "VBox()"
      ]
     },
     "metadata": {},
     "output_type": "display_data"
    },
    {
     "data": {
      "application/vnd.jupyter.widget-view+json": {
       "model_id": "",
       "version_major": 2,
       "version_minor": 0
      },
      "text/plain": [
       "FloatProgress(value=0.0, bar_style='info', description='Progress:', layout=Layout(height='25px', width='50%'),…"
      ]
     },
     "metadata": {},
     "output_type": "display_data"
    },
    {
     "name": "stdout",
     "output_type": "stream",
     "text": [
      "+-------+-------------------+\n",
      "|feature|         importance|\n",
      "+-------+-------------------+\n",
      "|   col1|0.19961104812295288|\n",
      "|   col2| 0.5459124723013612|\n",
      "|   col3|  0.254476479575686|\n",
      "+-------+-------------------+"
     ]
    }
   ],
   "source": [
    "values = []\n",
    "features = list(get_features(df))\n",
    "importances = list(model.stages[-1].featureImportances)\n",
    "for x in list(zip(features, importances)):\n",
    "    values.append([x[0], float(x[1])])\n",
    "columns = ['feature', 'importance']\n",
    "rdd = spark.sparkContext.parallelize(values)\n",
    "df2 = rdd.toDF(columns) \n",
    "df2.show()"
   ]
  },
  {
   "cell_type": "code",
   "execution_count": 83,
   "metadata": {},
   "outputs": [
    {
     "data": {
      "application/vnd.jupyter.widget-view+json": {
       "model_id": "bfc0856e62994e55a9e7f2cd6a8a4639",
       "version_major": 2,
       "version_minor": 0
      },
      "text/plain": [
       "VBox()"
      ]
     },
     "metadata": {},
     "output_type": "display_data"
    },
    {
     "data": {
      "application/vnd.jupyter.widget-view+json": {
       "model_id": "",
       "version_major": 2,
       "version_minor": 0
      },
      "text/plain": [
       "FloatProgress(value=0.0, bar_style='info', description='Progress:', layout=Layout(height='25px', width='50%'),…"
      ]
     },
     "metadata": {},
     "output_type": "display_data"
    }
   ],
   "source": [
    "df2.write.mode('overwrite').json('s3n://amosvoron-sparkify/rfc-feature-importances-test.json')"
   ]
  },
  {
   "cell_type": "markdown",
   "metadata": {},
   "source": [
    "### Users"
   ]
  },
  {
   "cell_type": "code",
   "execution_count": 87,
   "metadata": {},
   "outputs": [
    {
     "data": {
      "application/vnd.jupyter.widget-view+json": {
       "model_id": "f9ff81d72edd4443918b1764f5d6c60d",
       "version_major": 2,
       "version_minor": 0
      },
      "text/plain": [
       "VBox()"
      ]
     },
     "metadata": {},
     "output_type": "display_data"
    },
    {
     "data": {
      "application/vnd.jupyter.widget-view+json": {
       "model_id": "",
       "version_major": 2,
       "version_minor": 0
      },
      "text/plain": [
       "FloatProgress(value=0.0, bar_style='info', description='Progress:', layout=Layout(height='25px', width='50%'),…"
      ]
     },
     "metadata": {},
     "output_type": "display_data"
    },
    {
     "name": "stdout",
     "output_type": "stream",
     "text": [
      "5003"
     ]
    }
   ],
   "source": [
    "get_users(1).count()"
   ]
  },
  {
   "cell_type": "code",
   "execution_count": 88,
   "metadata": {},
   "outputs": [
    {
     "data": {
      "application/vnd.jupyter.widget-view+json": {
       "model_id": "e152f5cb583c4c1abae38c1d44017207",
       "version_major": 2,
       "version_minor": 0
      },
      "text/plain": [
       "VBox()"
      ]
     },
     "metadata": {},
     "output_type": "display_data"
    },
    {
     "data": {
      "application/vnd.jupyter.widget-view+json": {
       "model_id": "96ce46a4d94b4aa09b00b059053f59c2",
       "version_major": 2,
       "version_minor": 0
      },
      "text/plain": [
       "FloatProgress(value=0.0, bar_style='info', description='Progress:', layout=Layout(height='25px', width='50%'),…"
      ]
     },
     "metadata": {},
     "output_type": "display_data"
    },
    {
     "name": "stderr",
     "output_type": "stream",
     "text": [
      "An error was encountered:\n",
      "Invalid status code '404' from https://172.31.39.107:18888/sessions/8/statements/88 with error payload: {\"msg\":\"Session '8' not found.\"}\n"
     ]
    }
   ],
   "source": [
    "get_users(0).count()"
   ]
  },
  {
   "cell_type": "code",
   "execution_count": 1,
   "metadata": {},
   "outputs": [
    {
     "data": {
      "application/vnd.jupyter.widget-view+json": {
       "model_id": "681af34bf6794a1b9944594cc718f1c0",
       "version_major": 2,
       "version_minor": 0
      },
      "text/plain": [
       "VBox()"
      ]
     },
     "metadata": {},
     "output_type": "display_data"
    },
    {
     "name": "stdout",
     "output_type": "stream",
     "text": [
      "Starting Spark application\n"
     ]
    },
    {
     "data": {
      "text/html": [
       "<table>\n",
       "<tr><th>ID</th><th>YARN Application ID</th><th>Kind</th><th>State</th><th>Spark UI</th><th>Driver log</th><th>Current session?</th></tr><tr><td>11</td><td>application_1597998755054_0026</td><td>pyspark</td><td>idle</td><td><a target=\"_blank\" href=\"http://ip-172-31-39-107.us-east-2.compute.internal:20888/proxy/application_1597998755054_0026/\">Link</a></td><td><a target=\"_blank\" href=\"http://ip-172-31-33-168.us-east-2.compute.internal:8042/node/containerlogs/container_1597998755054_0026_01_000001/livy\">Link</a></td><td>✔</td></tr></table>"
      ],
      "text/plain": [
       "<IPython.core.display.HTML object>"
      ]
     },
     "metadata": {},
     "output_type": "display_data"
    },
    {
     "data": {
      "application/vnd.jupyter.widget-view+json": {
       "model_id": "",
       "version_major": 2,
       "version_minor": 0
      },
      "text/plain": [
       "FloatProgress(value=0.0, bar_style='info', description='Progress:', layout=Layout(height='25px', width='50%'),…"
      ]
     },
     "metadata": {},
     "output_type": "display_data"
    },
    {
     "name": "stdout",
     "output_type": "stream",
     "text": [
      "SparkSession available as 'spark'.\n"
     ]
    },
    {
     "data": {
      "application/vnd.jupyter.widget-view+json": {
       "model_id": "",
       "version_major": 2,
       "version_minor": 0
      },
      "text/plain": [
       "FloatProgress(value=0.0, bar_style='info', description='Progress:', layout=Layout(height='25px', width='50%'),…"
      ]
     },
     "metadata": {},
     "output_type": "display_data"
    },
    {
     "name": "stderr",
     "output_type": "stream",
     "text": [
      "name 'data' is not defined\n",
      "Traceback (most recent call last):\n",
      "NameError: name 'data' is not defined\n",
      "\n"
     ]
    }
   ],
   "source": [
    "data.where(data.page == 'Submit Downgrade').select('userId').dropDuplicates().count()"
   ]
  },
  {
   "cell_type": "code",
   "execution_count": null,
   "metadata": {},
   "outputs": [],
   "source": []
  },
  {
   "cell_type": "code",
   "execution_count": null,
   "metadata": {},
   "outputs": [],
   "source": []
  },
  {
   "cell_type": "markdown",
   "metadata": {},
   "source": [
    "# Check metrics & feature importances"
   ]
  },
  {
   "cell_type": "code",
   "execution_count": 4,
   "metadata": {},
   "outputs": [
    {
     "data": {
      "application/vnd.jupyter.widget-view+json": {
       "model_id": "2f3e6a47a15f482aa745c85fbd8dd1af",
       "version_major": 2,
       "version_minor": 0
      },
      "text/plain": [
       "VBox()"
      ]
     },
     "metadata": {},
     "output_type": "display_data"
    },
    {
     "data": {
      "application/vnd.jupyter.widget-view+json": {
       "model_id": "",
       "version_major": 2,
       "version_minor": 0
      },
      "text/plain": [
       "FloatProgress(value=0.0, bar_style='info', description='Progress:', layout=Layout(height='25px', width='50%'),…"
      ]
     },
     "metadata": {},
     "output_type": "display_data"
    },
    {
     "name": "stdout",
     "output_type": "stream",
     "text": [
      "+------------------+------------------+-----------------+------------------+------------------+\n",
      "|                f1|          accuracy|weightedPrecision|    weightedRecall|               AUC|\n",
      "+------------------+------------------+-----------------+------------------+------------------+\n",
      "|0.8386651060216977|0.8577847674679847|0.858875141192138|0.8577847674679848|0.7055267657733111|\n",
      "+------------------+------------------+-----------------+------------------+------------------+"
     ]
    }
   ],
   "source": [
    "metrics = spark.read.json('s3n://amosvoron-sparkify/rfc-metrics-f22.json')\n",
    "metrics.select('f1', 'accuracy', 'weightedPrecision', 'weightedRecall', 'AUC').show()"
   ]
  },
  {
   "cell_type": "code",
   "execution_count": 9,
   "metadata": {},
   "outputs": [
    {
     "data": {
      "application/vnd.jupyter.widget-view+json": {
       "model_id": "c9a60523a38f4929ac6bb1a9f5edf33d",
       "version_major": 2,
       "version_minor": 0
      },
      "text/plain": [
       "VBox()"
      ]
     },
     "metadata": {},
     "output_type": "display_data"
    },
    {
     "data": {
      "application/vnd.jupyter.widget-view+json": {
       "model_id": "",
       "version_major": 2,
       "version_minor": 0
      },
      "text/plain": [
       "FloatProgress(value=0.0, bar_style='info', description='Progress:', layout=Layout(height='25px', width='50%'),…"
      ]
     },
     "metadata": {},
     "output_type": "display_data"
    },
    {
     "name": "stdout",
     "output_type": "stream",
     "text": [
      "+-----------------------+---------------------+\n",
      "|feature                |importance           |\n",
      "+-----------------------+---------------------+\n",
      "|AvgSessionGap          |0.531326926781188    |\n",
      "|RollAdvertPerHour      |0.07203686762635017  |\n",
      "|DowngradePerHour       |0.06676894742434188  |\n",
      "|SessionCount           |0.062376199033023286 |\n",
      "|NonSongCount           |0.050628344100157416 |\n",
      "|RollAdvertPerDay       |0.04571131362963781  |\n",
      "|RollAdvertCount        |0.03022773918358667  |\n",
      "|DowngradePerSessionHour|0.023059199682565503 |\n",
      "|ThumbsDownPerHour      |0.021905197950220757 |\n",
      "|HomeCount              |0.01935741525646098  |\n",
      "|LogoutPerHour          |0.014225091004298893 |\n",
      "|ThumbsUpCount          |0.014185526067462045 |\n",
      "|SettingsPerSessionHour |0.011980284038583023 |\n",
      "|AboutCount             |0.00900477412830605  |\n",
      "|SubmitUpgradePerHour   |0.006285279375803763 |\n",
      "|SettingsPerHour        |0.005847270443837536 |\n",
      "|SubmitDowngradePerHour |0.004204600333886947 |\n",
      "|UpgradePerSessionHour  |0.003074323148938938 |\n",
      "|HelpCount              |0.0029704392811330258|\n",
      "|AboutPerSessionHour    |0.0019074280379797134|\n",
      "|HomePerHour            |0.0015117464198218015|\n",
      "|ErrorPerSessionHour    |0.001405087052415821 |\n",
      "+-----------------------+---------------------+"
     ]
    }
   ],
   "source": [
    "importances = spark.read.json('s3n://amosvoron-sparkify/rfc-feature-importances-f22.json')\n",
    "importances.sort(desc('importance')).show(30, False)"
   ]
  },
  {
   "cell_type": "code",
   "execution_count": null,
   "metadata": {},
   "outputs": [],
   "source": [
    "+-----------------------+---------------------+\n",
    "|feature                |importance           |\n",
    "+-----------------------+---------------------+\n",
    "|AvgSessionGap          |0.531326926781188    |\n",
    "|RollAdvertPerHour      |0.07203686762635017  |\n",
    "|DowngradePerHour       |0.06676894742434188  |\n",
    "|SessionCount           |0.062376199033023286 |\n",
    "|NonSongCount           |0.050628344100157416 |\n",
    "|RollAdvertPerDay       |0.04571131362963781  |\n",
    "|RollAdvertCount        |0.03022773918358667  |\n",
    "|DowngradePerSessionHour|0.023059199682565503 |\n",
    "|ThumbsDownPerHour      |0.021905197950220757 |"
   ]
  },
  {
   "cell_type": "code",
   "execution_count": 4,
   "metadata": {},
   "outputs": [
    {
     "data": {
      "application/vnd.jupyter.widget-view+json": {
       "model_id": "d728756cbd584c76b138184eac3801c3",
       "version_major": 2,
       "version_minor": 0
      },
      "text/plain": [
       "VBox()"
      ]
     },
     "metadata": {},
     "output_type": "display_data"
    },
    {
     "data": {
      "application/vnd.jupyter.widget-view+json": {
       "model_id": "",
       "version_major": 2,
       "version_minor": 0
      },
      "text/plain": [
       "FloatProgress(value=0.0, bar_style='info', description='Progress:', layout=Layout(height='25px', width='50%'),…"
      ]
     },
     "metadata": {},
     "output_type": "display_data"
    },
    {
     "name": "stdout",
     "output_type": "stream",
     "text": [
      "0.9040407354110714"
     ]
    }
   ],
   "source": [
    "0.531326926781188+0.07203686762635017+0.06676894742434188+0.062376199033023286+\\\n",
    "0.050628344100157416+0.04571131362963781+0.03022773918358667+\\\n",
    "0.023059199682565503+0.021905197950220757"
   ]
  },
  {
   "cell_type": "code",
   "execution_count": 8,
   "metadata": {},
   "outputs": [
    {
     "data": {
      "application/vnd.jupyter.widget-view+json": {
       "model_id": "9218724ede10489eb069c728d50ee73a",
       "version_major": 2,
       "version_minor": 0
      },
      "text/plain": [
       "VBox()"
      ]
     },
     "metadata": {},
     "output_type": "display_data"
    },
    {
     "data": {
      "application/vnd.jupyter.widget-view+json": {
       "model_id": "",
       "version_major": 2,
       "version_minor": 0
      },
      "text/plain": [
       "FloatProgress(value=0.0, bar_style='info', description='Progress:', layout=Layout(height='25px', width='50%'),…"
      ]
     },
     "metadata": {},
     "output_type": "display_data"
    },
    {
     "name": "stdout",
     "output_type": "stream",
     "text": [
      "0.8288485985946985"
     ]
    }
   ],
   "source": [
    "0.531326926781188+0.07203686762635017+0.06676894742434188+0.062376199033023286+\\\n",
    "0.050628344100157416+0.04571131362963781"
   ]
  },
  {
   "cell_type": "code",
   "execution_count": null,
   "metadata": {
    "collapsed": true
   },
   "outputs": [
    {
     "data": {
      "application/vnd.jupyter.widget-view+json": {
       "model_id": "7d4e2ad0fd2d43529566d28dab3a248a",
       "version_major": 2,
       "version_minor": 0
      },
      "text/plain": [
       "VBox()"
      ]
     },
     "metadata": {},
     "output_type": "display_data"
    },
    {
     "data": {
      "application/vnd.jupyter.widget-view+json": {
       "model_id": "9c7b674cfaef41cab75c7e00984a4eb8",
       "version_major": 2,
       "version_minor": 0
      },
      "text/plain": [
       "FloatProgress(value=0.0, bar_style='info', description='Progress:', layout=Layout(height='25px', width='50%'),…"
      ]
     },
     "metadata": {},
     "output_type": "display_data"
    },
    {
     "ename": "KeyboardInterrupt",
     "evalue": "",
     "output_type": "error",
     "traceback": [
      "\u001b[0;31m---------------------------------------------------------------------------\u001b[0m",
      "\u001b[0;31mKeyboardInterrupt\u001b[0m                         Traceback (most recent call last)",
      "\u001b[0;32m<ipython-input-4-e0baa69badbc>\u001b[0m in \u001b[0;36m<module>\u001b[0;34m\u001b[0m\n\u001b[0;32m----> 1\u001b[0;31m \u001b[0mget_ipython\u001b[0m\u001b[0;34m(\u001b[0m\u001b[0;34m)\u001b[0m\u001b[0;34m.\u001b[0m\u001b[0mrun_cell_magic\u001b[0m\u001b[0;34m(\u001b[0m\u001b[0;34m'spark'\u001b[0m\u001b[0;34m,\u001b[0m \u001b[0;34m''\u001b[0m\u001b[0;34m,\u001b[0m \u001b[0;34m\"metrics = spark.read.json('s3n://amosvoron-sparkify/rfc-metrics-f14.json')\\nmetrics.select('f1', 'accuracy', 'weightedPrecision', 'weightedRecall', 'AUC').show()\\n\"\u001b[0m\u001b[0;34m)\u001b[0m\u001b[0;34m\u001b[0m\u001b[0;34m\u001b[0m\u001b[0m\n\u001b[0m",
      "\u001b[0;32m/opt/conda/lib/python3.7/site-packages/IPython/core/interactiveshell.py\u001b[0m in \u001b[0;36mrun_cell_magic\u001b[0;34m(self, magic_name, line, cell)\u001b[0m\n\u001b[1;32m   2369\u001b[0m             \u001b[0;32mwith\u001b[0m \u001b[0mself\u001b[0m\u001b[0;34m.\u001b[0m\u001b[0mbuiltin_trap\u001b[0m\u001b[0;34m:\u001b[0m\u001b[0;34m\u001b[0m\u001b[0;34m\u001b[0m\u001b[0m\n\u001b[1;32m   2370\u001b[0m                 \u001b[0margs\u001b[0m \u001b[0;34m=\u001b[0m \u001b[0;34m(\u001b[0m\u001b[0mmagic_arg_s\u001b[0m\u001b[0;34m,\u001b[0m \u001b[0mcell\u001b[0m\u001b[0;34m)\u001b[0m\u001b[0;34m\u001b[0m\u001b[0;34m\u001b[0m\u001b[0m\n\u001b[0;32m-> 2371\u001b[0;31m                 \u001b[0mresult\u001b[0m \u001b[0;34m=\u001b[0m \u001b[0mfn\u001b[0m\u001b[0;34m(\u001b[0m\u001b[0;34m*\u001b[0m\u001b[0margs\u001b[0m\u001b[0;34m,\u001b[0m \u001b[0;34m**\u001b[0m\u001b[0mkwargs\u001b[0m\u001b[0;34m)\u001b[0m\u001b[0;34m\u001b[0m\u001b[0;34m\u001b[0m\u001b[0m\n\u001b[0m\u001b[1;32m   2372\u001b[0m             \u001b[0;32mreturn\u001b[0m \u001b[0mresult\u001b[0m\u001b[0;34m\u001b[0m\u001b[0;34m\u001b[0m\u001b[0m\n\u001b[1;32m   2373\u001b[0m \u001b[0;34m\u001b[0m\u001b[0m\n",
      "\u001b[0;32m<decorator-gen-124>\u001b[0m in \u001b[0;36mspark\u001b[0;34m(self, *args, **kwargs)\u001b[0m\n",
      "\u001b[0;32m/opt/conda/lib/python3.7/site-packages/IPython/core/magic.py\u001b[0m in \u001b[0;36m<lambda>\u001b[0;34m(f, *a, **k)\u001b[0m\n\u001b[1;32m    185\u001b[0m     \u001b[0;31m# but it's overkill for just that one bit of state.\u001b[0m\u001b[0;34m\u001b[0m\u001b[0;34m\u001b[0m\u001b[0;34m\u001b[0m\u001b[0m\n\u001b[1;32m    186\u001b[0m     \u001b[0;32mdef\u001b[0m \u001b[0mmagic_deco\u001b[0m\u001b[0;34m(\u001b[0m\u001b[0marg\u001b[0m\u001b[0;34m)\u001b[0m\u001b[0;34m:\u001b[0m\u001b[0;34m\u001b[0m\u001b[0;34m\u001b[0m\u001b[0m\n\u001b[0;32m--> 187\u001b[0;31m         \u001b[0mcall\u001b[0m \u001b[0;34m=\u001b[0m \u001b[0;32mlambda\u001b[0m \u001b[0mf\u001b[0m\u001b[0;34m,\u001b[0m \u001b[0;34m*\u001b[0m\u001b[0ma\u001b[0m\u001b[0;34m,\u001b[0m \u001b[0;34m**\u001b[0m\u001b[0mk\u001b[0m\u001b[0;34m:\u001b[0m \u001b[0mf\u001b[0m\u001b[0;34m(\u001b[0m\u001b[0;34m*\u001b[0m\u001b[0ma\u001b[0m\u001b[0;34m,\u001b[0m \u001b[0;34m**\u001b[0m\u001b[0mk\u001b[0m\u001b[0;34m)\u001b[0m\u001b[0;34m\u001b[0m\u001b[0;34m\u001b[0m\u001b[0m\n\u001b[0m\u001b[1;32m    188\u001b[0m \u001b[0;34m\u001b[0m\u001b[0m\n\u001b[1;32m    189\u001b[0m         \u001b[0;32mif\u001b[0m \u001b[0mcallable\u001b[0m\u001b[0;34m(\u001b[0m\u001b[0marg\u001b[0m\u001b[0;34m)\u001b[0m\u001b[0;34m:\u001b[0m\u001b[0;34m\u001b[0m\u001b[0;34m\u001b[0m\u001b[0m\n",
      "\u001b[0;32m/opt/conda/lib/python3.7/site-packages/sparkmagic/livyclientlib/exceptions.py\u001b[0m in \u001b[0;36mwrapped\u001b[0;34m(self, *args, **kwargs)\u001b[0m\n\u001b[1;32m     94\u001b[0m     \u001b[0;32mdef\u001b[0m \u001b[0mwrapped\u001b[0m\u001b[0;34m(\u001b[0m\u001b[0mself\u001b[0m\u001b[0;34m,\u001b[0m \u001b[0;34m*\u001b[0m\u001b[0margs\u001b[0m\u001b[0;34m,\u001b[0m \u001b[0;34m**\u001b[0m\u001b[0mkwargs\u001b[0m\u001b[0;34m)\u001b[0m\u001b[0;34m:\u001b[0m\u001b[0;34m\u001b[0m\u001b[0;34m\u001b[0m\u001b[0m\n\u001b[1;32m     95\u001b[0m         \u001b[0;32mtry\u001b[0m\u001b[0;34m:\u001b[0m\u001b[0;34m\u001b[0m\u001b[0;34m\u001b[0m\u001b[0m\n\u001b[0;32m---> 96\u001b[0;31m             \u001b[0mout\u001b[0m \u001b[0;34m=\u001b[0m \u001b[0mf\u001b[0m\u001b[0;34m(\u001b[0m\u001b[0mself\u001b[0m\u001b[0;34m,\u001b[0m \u001b[0;34m*\u001b[0m\u001b[0margs\u001b[0m\u001b[0;34m,\u001b[0m \u001b[0;34m**\u001b[0m\u001b[0mkwargs\u001b[0m\u001b[0;34m)\u001b[0m\u001b[0;34m\u001b[0m\u001b[0;34m\u001b[0m\u001b[0m\n\u001b[0m\u001b[1;32m     97\u001b[0m         \u001b[0;32mexcept\u001b[0m \u001b[0mException\u001b[0m \u001b[0;32mas\u001b[0m \u001b[0me\u001b[0m\u001b[0;34m:\u001b[0m\u001b[0;34m\u001b[0m\u001b[0;34m\u001b[0m\u001b[0m\n\u001b[1;32m     98\u001b[0m             \u001b[0mself\u001b[0m\u001b[0;34m.\u001b[0m\u001b[0mlogger\u001b[0m\u001b[0;34m.\u001b[0m\u001b[0merror\u001b[0m\u001b[0;34m(\u001b[0m\u001b[0;34mu\"ENCOUNTERED AN INTERNAL ERROR: {}\\n\\tTraceback:\\n{}\"\u001b[0m\u001b[0;34m.\u001b[0m\u001b[0mformat\u001b[0m\u001b[0;34m(\u001b[0m\u001b[0me\u001b[0m\u001b[0;34m,\u001b[0m \u001b[0mtraceback\u001b[0m\u001b[0;34m.\u001b[0m\u001b[0mformat_exc\u001b[0m\u001b[0;34m(\u001b[0m\u001b[0;34m)\u001b[0m\u001b[0;34m)\u001b[0m\u001b[0;34m)\u001b[0m\u001b[0;34m\u001b[0m\u001b[0;34m\u001b[0m\u001b[0m\n",
      "\u001b[0;32m/opt/conda/lib/python3.7/site-packages/sparkmagic/livyclientlib/exceptions.py\u001b[0m in \u001b[0;36mwrapped\u001b[0;34m(self, *args, **kwargs)\u001b[0m\n\u001b[1;32m     70\u001b[0m     \u001b[0;32mdef\u001b[0m \u001b[0mwrapped\u001b[0m\u001b[0;34m(\u001b[0m\u001b[0mself\u001b[0m\u001b[0;34m,\u001b[0m \u001b[0;34m*\u001b[0m\u001b[0margs\u001b[0m\u001b[0;34m,\u001b[0m \u001b[0;34m**\u001b[0m\u001b[0mkwargs\u001b[0m\u001b[0;34m)\u001b[0m\u001b[0;34m:\u001b[0m\u001b[0;34m\u001b[0m\u001b[0;34m\u001b[0m\u001b[0m\n\u001b[1;32m     71\u001b[0m         \u001b[0;32mtry\u001b[0m\u001b[0;34m:\u001b[0m\u001b[0;34m\u001b[0m\u001b[0;34m\u001b[0m\u001b[0m\n\u001b[0;32m---> 72\u001b[0;31m             \u001b[0mout\u001b[0m \u001b[0;34m=\u001b[0m \u001b[0mf\u001b[0m\u001b[0;34m(\u001b[0m\u001b[0mself\u001b[0m\u001b[0;34m,\u001b[0m \u001b[0;34m*\u001b[0m\u001b[0margs\u001b[0m\u001b[0;34m,\u001b[0m \u001b[0;34m**\u001b[0m\u001b[0mkwargs\u001b[0m\u001b[0;34m)\u001b[0m\u001b[0;34m\u001b[0m\u001b[0;34m\u001b[0m\u001b[0m\n\u001b[0m\u001b[1;32m     73\u001b[0m         \u001b[0;32mexcept\u001b[0m \u001b[0mexceptions_to_handle\u001b[0m \u001b[0;32mas\u001b[0m \u001b[0merr\u001b[0m\u001b[0;34m:\u001b[0m\u001b[0;34m\u001b[0m\u001b[0;34m\u001b[0m\u001b[0m\n\u001b[1;32m     74\u001b[0m             \u001b[0;31m# Do not log! as some messages may contain private client information\u001b[0m\u001b[0;34m\u001b[0m\u001b[0;34m\u001b[0m\u001b[0;34m\u001b[0m\u001b[0m\n",
      "\u001b[0;32m/opt/conda/lib/python3.7/site-packages/sparkmagic/kernels/kernelmagics.py\u001b[0m in \u001b[0;36mspark\u001b[0;34m(self, line, cell, local_ns)\u001b[0m\n\u001b[1;32m    236\u001b[0m             \u001b[0mcoerce\u001b[0m \u001b[0;34m=\u001b[0m \u001b[0mget_coerce_value\u001b[0m\u001b[0;34m(\u001b[0m\u001b[0margs\u001b[0m\u001b[0;34m.\u001b[0m\u001b[0mcoerce\u001b[0m\u001b[0;34m)\u001b[0m\u001b[0;34m\u001b[0m\u001b[0;34m\u001b[0m\u001b[0m\n\u001b[1;32m    237\u001b[0m \u001b[0;34m\u001b[0m\u001b[0m\n\u001b[0;32m--> 238\u001b[0;31m             \u001b[0mself\u001b[0m\u001b[0;34m.\u001b[0m\u001b[0mexecute_spark\u001b[0m\u001b[0;34m(\u001b[0m\u001b[0mcell\u001b[0m\u001b[0;34m,\u001b[0m \u001b[0margs\u001b[0m\u001b[0;34m.\u001b[0m\u001b[0moutput\u001b[0m\u001b[0;34m,\u001b[0m \u001b[0margs\u001b[0m\u001b[0;34m.\u001b[0m\u001b[0msamplemethod\u001b[0m\u001b[0;34m,\u001b[0m \u001b[0margs\u001b[0m\u001b[0;34m.\u001b[0m\u001b[0mmaxrows\u001b[0m\u001b[0;34m,\u001b[0m \u001b[0margs\u001b[0m\u001b[0;34m.\u001b[0m\u001b[0msamplefraction\u001b[0m\u001b[0;34m,\u001b[0m \u001b[0;32mNone\u001b[0m\u001b[0;34m,\u001b[0m \u001b[0mcoerce\u001b[0m\u001b[0;34m)\u001b[0m\u001b[0;34m\u001b[0m\u001b[0;34m\u001b[0m\u001b[0m\n\u001b[0m\u001b[1;32m    239\u001b[0m         \u001b[0;32melse\u001b[0m\u001b[0;34m:\u001b[0m\u001b[0;34m\u001b[0m\u001b[0;34m\u001b[0m\u001b[0m\n\u001b[1;32m    240\u001b[0m             \u001b[0;32mreturn\u001b[0m\u001b[0;34m\u001b[0m\u001b[0;34m\u001b[0m\u001b[0m\n",
      "\u001b[0;32m/opt/conda/lib/python3.7/site-packages/sparkmagic/magics/sparkmagicsbase.py\u001b[0m in \u001b[0;36mexecute_spark\u001b[0;34m(self, cell, output_var, samplemethod, maxrows, samplefraction, session_name, coerce)\u001b[0m\n\u001b[1;32m     42\u001b[0m \u001b[0;34m\u001b[0m\u001b[0m\n\u001b[1;32m     43\u001b[0m     \u001b[0;32mdef\u001b[0m \u001b[0mexecute_spark\u001b[0m\u001b[0;34m(\u001b[0m\u001b[0mself\u001b[0m\u001b[0;34m,\u001b[0m \u001b[0mcell\u001b[0m\u001b[0;34m,\u001b[0m \u001b[0moutput_var\u001b[0m\u001b[0;34m,\u001b[0m \u001b[0msamplemethod\u001b[0m\u001b[0;34m,\u001b[0m \u001b[0mmaxrows\u001b[0m\u001b[0;34m,\u001b[0m \u001b[0msamplefraction\u001b[0m\u001b[0;34m,\u001b[0m \u001b[0msession_name\u001b[0m\u001b[0;34m,\u001b[0m \u001b[0mcoerce\u001b[0m\u001b[0;34m)\u001b[0m\u001b[0;34m:\u001b[0m\u001b[0;34m\u001b[0m\u001b[0;34m\u001b[0m\u001b[0m\n\u001b[0;32m---> 44\u001b[0;31m         \u001b[0;34m(\u001b[0m\u001b[0msuccess\u001b[0m\u001b[0;34m,\u001b[0m \u001b[0mout\u001b[0m\u001b[0;34m)\u001b[0m \u001b[0;34m=\u001b[0m \u001b[0mself\u001b[0m\u001b[0;34m.\u001b[0m\u001b[0mspark_controller\u001b[0m\u001b[0;34m.\u001b[0m\u001b[0mrun_command\u001b[0m\u001b[0;34m(\u001b[0m\u001b[0mCommand\u001b[0m\u001b[0;34m(\u001b[0m\u001b[0mcell\u001b[0m\u001b[0;34m)\u001b[0m\u001b[0;34m,\u001b[0m \u001b[0msession_name\u001b[0m\u001b[0;34m)\u001b[0m\u001b[0;34m\u001b[0m\u001b[0;34m\u001b[0m\u001b[0m\n\u001b[0m\u001b[1;32m     45\u001b[0m         \u001b[0;32mif\u001b[0m \u001b[0;32mnot\u001b[0m \u001b[0msuccess\u001b[0m\u001b[0;34m:\u001b[0m\u001b[0;34m\u001b[0m\u001b[0;34m\u001b[0m\u001b[0m\n\u001b[1;32m     46\u001b[0m             \u001b[0mself\u001b[0m\u001b[0;34m.\u001b[0m\u001b[0mipython_display\u001b[0m\u001b[0;34m.\u001b[0m\u001b[0msend_error\u001b[0m\u001b[0;34m(\u001b[0m\u001b[0mout\u001b[0m\u001b[0;34m)\u001b[0m\u001b[0;34m\u001b[0m\u001b[0;34m\u001b[0m\u001b[0m\n",
      "\u001b[0;32m/opt/conda/lib/python3.7/site-packages/sparkmagic/livyclientlib/sparkcontroller.py\u001b[0m in \u001b[0;36mrun_command\u001b[0;34m(self, command, client_name)\u001b[0m\n\u001b[1;32m     42\u001b[0m     \u001b[0;32mdef\u001b[0m \u001b[0mrun_command\u001b[0m\u001b[0;34m(\u001b[0m\u001b[0mself\u001b[0m\u001b[0;34m,\u001b[0m \u001b[0mcommand\u001b[0m\u001b[0;34m,\u001b[0m \u001b[0mclient_name\u001b[0m\u001b[0;34m=\u001b[0m\u001b[0;32mNone\u001b[0m\u001b[0;34m)\u001b[0m\u001b[0;34m:\u001b[0m\u001b[0;34m\u001b[0m\u001b[0;34m\u001b[0m\u001b[0m\n\u001b[1;32m     43\u001b[0m         \u001b[0msession_to_use\u001b[0m \u001b[0;34m=\u001b[0m \u001b[0mself\u001b[0m\u001b[0;34m.\u001b[0m\u001b[0mget_session_by_name_or_default\u001b[0m\u001b[0;34m(\u001b[0m\u001b[0mclient_name\u001b[0m\u001b[0;34m)\u001b[0m\u001b[0;34m\u001b[0m\u001b[0;34m\u001b[0m\u001b[0m\n\u001b[0;32m---> 44\u001b[0;31m         \u001b[0;32mreturn\u001b[0m \u001b[0mcommand\u001b[0m\u001b[0;34m.\u001b[0m\u001b[0mexecute\u001b[0m\u001b[0;34m(\u001b[0m\u001b[0msession_to_use\u001b[0m\u001b[0;34m)\u001b[0m\u001b[0;34m\u001b[0m\u001b[0;34m\u001b[0m\u001b[0m\n\u001b[0m\u001b[1;32m     45\u001b[0m \u001b[0;34m\u001b[0m\u001b[0m\n\u001b[1;32m     46\u001b[0m     \u001b[0;32mdef\u001b[0m \u001b[0mrun_sqlquery\u001b[0m\u001b[0;34m(\u001b[0m\u001b[0mself\u001b[0m\u001b[0;34m,\u001b[0m \u001b[0msqlquery\u001b[0m\u001b[0;34m,\u001b[0m \u001b[0mclient_name\u001b[0m\u001b[0;34m=\u001b[0m\u001b[0;32mNone\u001b[0m\u001b[0;34m)\u001b[0m\u001b[0;34m:\u001b[0m\u001b[0;34m\u001b[0m\u001b[0;34m\u001b[0m\u001b[0m\n",
      "\u001b[0;32m/opt/conda/lib/python3.7/site-packages/sparkmagic/livyclientlib/command.py\u001b[0m in \u001b[0;36mexecute\u001b[0;34m(self, session)\u001b[0m\n\u001b[1;32m     41\u001b[0m             \u001b[0mresponse\u001b[0m \u001b[0;34m=\u001b[0m \u001b[0msession\u001b[0m\u001b[0;34m.\u001b[0m\u001b[0mhttp_client\u001b[0m\u001b[0;34m.\u001b[0m\u001b[0mpost_statement\u001b[0m\u001b[0;34m(\u001b[0m\u001b[0msession\u001b[0m\u001b[0;34m.\u001b[0m\u001b[0mid\u001b[0m\u001b[0;34m,\u001b[0m \u001b[0mdata\u001b[0m\u001b[0;34m)\u001b[0m\u001b[0;34m\u001b[0m\u001b[0;34m\u001b[0m\u001b[0m\n\u001b[1;32m     42\u001b[0m             \u001b[0mstatement_id\u001b[0m \u001b[0;34m=\u001b[0m \u001b[0mresponse\u001b[0m\u001b[0;34m[\u001b[0m\u001b[0;34mu'id'\u001b[0m\u001b[0;34m]\u001b[0m\u001b[0;34m\u001b[0m\u001b[0;34m\u001b[0m\u001b[0m\n\u001b[0;32m---> 43\u001b[0;31m             \u001b[0moutput\u001b[0m \u001b[0;34m=\u001b[0m \u001b[0mself\u001b[0m\u001b[0;34m.\u001b[0m\u001b[0m_get_statement_output\u001b[0m\u001b[0;34m(\u001b[0m\u001b[0msession\u001b[0m\u001b[0;34m,\u001b[0m \u001b[0mstatement_id\u001b[0m\u001b[0;34m)\u001b[0m\u001b[0;34m\u001b[0m\u001b[0;34m\u001b[0m\u001b[0m\n\u001b[0m\u001b[1;32m     44\u001b[0m         \u001b[0;32mexcept\u001b[0m \u001b[0mException\u001b[0m \u001b[0;32mas\u001b[0m \u001b[0me\u001b[0m\u001b[0;34m:\u001b[0m\u001b[0;34m\u001b[0m\u001b[0;34m\u001b[0m\u001b[0m\n\u001b[1;32m     45\u001b[0m             self._spark_events.emit_statement_execution_end_event(session.guid, session.kind, session.id,\n",
      "\u001b[0;32m/opt/conda/lib/python3.7/site-packages/sparkmagic/livyclientlib/command.py\u001b[0m in \u001b[0;36m_get_statement_output\u001b[0;34m(self, session, statement_id)\u001b[0m\n\u001b[1;32m     74\u001b[0m             \u001b[0;32mif\u001b[0m \u001b[0mstatus\u001b[0m \u001b[0;32mnot\u001b[0m \u001b[0;32min\u001b[0m \u001b[0mFINAL_STATEMENT_STATUS\u001b[0m\u001b[0;34m:\u001b[0m\u001b[0;34m\u001b[0m\u001b[0;34m\u001b[0m\u001b[0m\n\u001b[1;32m     75\u001b[0m                 \u001b[0mprogress\u001b[0m\u001b[0;34m.\u001b[0m\u001b[0mvalue\u001b[0m \u001b[0;34m=\u001b[0m \u001b[0mstatement\u001b[0m\u001b[0;34m.\u001b[0m\u001b[0mget\u001b[0m\u001b[0;34m(\u001b[0m\u001b[0;34m'progress'\u001b[0m\u001b[0;34m,\u001b[0m \u001b[0;36m0.0\u001b[0m\u001b[0;34m)\u001b[0m\u001b[0;34m\u001b[0m\u001b[0;34m\u001b[0m\u001b[0m\n\u001b[0;32m---> 76\u001b[0;31m                 \u001b[0msession\u001b[0m\u001b[0;34m.\u001b[0m\u001b[0msleep\u001b[0m\u001b[0;34m(\u001b[0m\u001b[0mretries\u001b[0m\u001b[0;34m)\u001b[0m\u001b[0;34m\u001b[0m\u001b[0;34m\u001b[0m\u001b[0m\n\u001b[0m\u001b[1;32m     77\u001b[0m                 \u001b[0mretries\u001b[0m \u001b[0;34m+=\u001b[0m \u001b[0;36m1\u001b[0m\u001b[0;34m\u001b[0m\u001b[0;34m\u001b[0m\u001b[0m\n\u001b[1;32m     78\u001b[0m             \u001b[0;32melse\u001b[0m\u001b[0;34m:\u001b[0m\u001b[0;34m\u001b[0m\u001b[0;34m\u001b[0m\u001b[0m\n",
      "\u001b[0;32m/opt/conda/lib/python3.7/site-packages/sparkmagic/livyclientlib/livysession.py\u001b[0m in \u001b[0;36msleep\u001b[0;34m(self, retries)\u001b[0m\n\u001b[1;32m    280\u001b[0m \u001b[0;34m\u001b[0m\u001b[0m\n\u001b[1;32m    281\u001b[0m     \u001b[0;32mdef\u001b[0m \u001b[0msleep\u001b[0m\u001b[0;34m(\u001b[0m\u001b[0mself\u001b[0m\u001b[0;34m,\u001b[0m \u001b[0mretries\u001b[0m\u001b[0;34m)\u001b[0m\u001b[0;34m:\u001b[0m\u001b[0;34m\u001b[0m\u001b[0;34m\u001b[0m\u001b[0m\n\u001b[0;32m--> 282\u001b[0;31m         \u001b[0msleep\u001b[0m\u001b[0;34m(\u001b[0m\u001b[0mself\u001b[0m\u001b[0;34m.\u001b[0m\u001b[0m_policy\u001b[0m\u001b[0;34m.\u001b[0m\u001b[0mseconds_to_sleep\u001b[0m\u001b[0;34m(\u001b[0m\u001b[0mretries\u001b[0m\u001b[0;34m)\u001b[0m\u001b[0;34m)\u001b[0m\u001b[0;34m\u001b[0m\u001b[0;34m\u001b[0m\u001b[0m\n\u001b[0m\u001b[1;32m    283\u001b[0m \u001b[0;34m\u001b[0m\u001b[0m\n\u001b[1;32m    284\u001b[0m     \u001b[0;31m# This function will refresh the status and get the logs in a single call.\u001b[0m\u001b[0;34m\u001b[0m\u001b[0;34m\u001b[0m\u001b[0;34m\u001b[0m\u001b[0m\n",
      "\u001b[0;31mKeyboardInterrupt\u001b[0m: "
     ]
    }
   ],
   "source": [
    "metrics = spark.read.json('s3n://amosvoron-sparkify/rfc-metrics-f14.json')\n",
    "metrics.select('f1', 'accuracy', 'weightedPrecision', 'weightedRecall', 'AUC').show()"
   ]
  },
  {
   "cell_type": "code",
   "execution_count": 4,
   "metadata": {},
   "outputs": [
    {
     "data": {
      "application/vnd.jupyter.widget-view+json": {
       "model_id": "418e35ec9c744a7cb3bb7594353adaa0",
       "version_major": 2,
       "version_minor": 0
      },
      "text/plain": [
       "VBox()"
      ]
     },
     "metadata": {},
     "output_type": "display_data"
    },
    {
     "data": {
      "application/vnd.jupyter.widget-view+json": {
       "model_id": "",
       "version_major": 2,
       "version_minor": 0
      },
      "text/plain": [
       "FloatProgress(value=0.0, bar_style='info', description='Progress:', layout=Layout(height='25px', width='50%'),…"
      ]
     },
     "metadata": {},
     "output_type": "display_data"
    },
    {
     "name": "stdout",
     "output_type": "stream",
     "text": [
      "+-----------------------+--------------------+\n",
      "|feature                |importance          |\n",
      "+-----------------------+--------------------+\n",
      "|AvgSessionGap          |0.5503473401971377  |\n",
      "|SessionCount           |0.0755328970855733  |\n",
      "|DowngradePerSessionHour|0.06387767719603579 |\n",
      "|RollAdvertPerDay       |0.058078969317302276|\n",
      "|DowngradePerHour       |0.055567250509668716|\n",
      "|NonSongCount           |0.04031488073809684 |\n",
      "|HomeCount              |0.038644683408958186|\n",
      "|RollAdvertPerHour      |0.03527247959916269 |\n",
      "|RollAdvertCount        |0.026382226805606757|\n",
      "|ThumbsUpCount          |0.021947392718465943|\n",
      "|ThumbsDownPerHour      |0.020575687568754056|\n",
      "|SettingsPerSessionHour |0.005003693133466566|\n",
      "|AboutCount             |0.00454000079526978 |\n",
      "|LogoutPerHour          |0.003914820926501557|\n",
      "+-----------------------+--------------------+"
     ]
    }
   ],
   "source": [
    "importances = spark.read.json('s3n://amosvoron-sparkify/rfc-feature-importances-f14.json')\n",
    "importances.sort(desc('importance')).show(30, False)"
   ]
  },
  {
   "cell_type": "code",
   "execution_count": 5,
   "metadata": {},
   "outputs": [
    {
     "data": {
      "application/vnd.jupyter.widget-view+json": {
       "model_id": "17d84836220d485d84c327417410338a",
       "version_major": 2,
       "version_minor": 0
      },
      "text/plain": [
       "VBox()"
      ]
     },
     "metadata": {},
     "output_type": "display_data"
    },
    {
     "data": {
      "application/vnd.jupyter.widget-view+json": {
       "model_id": "",
       "version_major": 2,
       "version_minor": 0
      },
      "text/plain": [
       "FloatProgress(value=0.0, bar_style='info', description='Progress:', layout=Layout(height='25px', width='50%'),…"
      ]
     },
     "metadata": {},
     "output_type": "display_data"
    },
    {
     "name": "stdout",
     "output_type": "stream",
     "text": [
      "+------------------+------------------+------------------+-----------------+------------------+\n",
      "|                f1|          accuracy| weightedPrecision|   weightedRecall|               AUC|\n",
      "+------------------+------------------+------------------+-----------------+------------------+\n",
      "|0.8137938477161866|0.8303751965850371|0.8179372014878397|0.830375196585037|0.6879226254158419|\n",
      "+------------------+------------------+------------------+-----------------+------------------+"
     ]
    }
   ],
   "source": [
    "metrics = spark.read.json('s3n://amosvoron-sparkify/rfc-downgraded-metrics-22h.json')\n",
    "metrics.select('f1', 'accuracy', 'weightedPrecision', 'weightedRecall', 'AUC').show()"
   ]
  },
  {
   "cell_type": "code",
   "execution_count": 6,
   "metadata": {},
   "outputs": [
    {
     "data": {
      "application/vnd.jupyter.widget-view+json": {
       "model_id": "49388ab0461040e58c774379e20224c5",
       "version_major": 2,
       "version_minor": 0
      },
      "text/plain": [
       "VBox()"
      ]
     },
     "metadata": {},
     "output_type": "display_data"
    },
    {
     "data": {
      "application/vnd.jupyter.widget-view+json": {
       "model_id": "",
       "version_major": 2,
       "version_minor": 0
      },
      "text/plain": [
       "FloatProgress(value=0.0, bar_style='info', description='Progress:', layout=Layout(height='25px', width='50%'),…"
      ]
     },
     "metadata": {},
     "output_type": "display_data"
    },
    {
     "name": "stdout",
     "output_type": "stream",
     "text": [
      "+----------------------+---------------------+\n",
      "|feature               |importance           |\n",
      "+----------------------+---------------------+\n",
      "|RollAdvertCount       |0.17318133456281243  |\n",
      "|NonSongCount          |0.14980679335444136  |\n",
      "|LogoutCount           |0.14308597905735157  |\n",
      "|RollAdvertPerHour     |0.11810976830081082  |\n",
      "|ThumbsDownCount       |0.07681389953808654  |\n",
      "|LogCount              |0.06305414713381112  |\n",
      "|TotalSongLength       |0.06300524317998007  |\n",
      "|UniqueSongCount       |0.06166385885128488  |\n",
      "|SongCount             |0.056957357621509525 |\n",
      "|AddtoPlaylistCount    |0.023031310261460342 |\n",
      "|HomePerHour           |0.017639635737101884 |\n",
      "|SettingsCount         |0.013962993303425146 |\n",
      "|AddFriendCount        |0.012300844044906415 |\n",
      "|ThumbsUpCount         |0.006417285783558138 |\n",
      "|LogoutPerHour         |0.004784251904021001 |\n",
      "|SettingsPerSessionHour|0.0030380538126538576|\n",
      "|AboutCount            |0.0030040309961354918|\n",
      "|SaveSettingsCount     |0.002693362247583948 |\n",
      "|SaveSettingsPerHour   |0.002598850469143327 |\n",
      "|AboutPerHour          |0.0018174010876236713|\n",
      "|ErrorPerSessionHour   |0.00165413741378946  |\n",
      "|ErrorPerHour          |0.0013794613385089364|\n",
      "+----------------------+---------------------+"
     ]
    }
   ],
   "source": [
    "importances = spark.read.json('s3n://amosvoron-sparkify/rfc-downgraded-feature-importances-22h.json')\n",
    "importances.sort(desc('importance')).show(30, False)"
   ]
  },
  {
   "cell_type": "code",
   "execution_count": 4,
   "metadata": {},
   "outputs": [
    {
     "data": {
      "application/vnd.jupyter.widget-view+json": {
       "model_id": "369ee1e305444d5d9aa4f5ae43d328ce",
       "version_major": 2,
       "version_minor": 0
      },
      "text/plain": [
       "VBox()"
      ]
     },
     "metadata": {},
     "output_type": "display_data"
    },
    {
     "data": {
      "application/vnd.jupyter.widget-view+json": {
       "model_id": "",
       "version_major": 2,
       "version_minor": 0
      },
      "text/plain": [
       "FloatProgress(value=0.0, bar_style='info', description='Progress:', layout=Layout(height='25px', width='50%'),…"
      ]
     },
     "metadata": {},
     "output_type": "display_data"
    },
    {
     "name": "stdout",
     "output_type": "stream",
     "text": [
      "+------------------+------------------+------------------+------------------+------------------+\n",
      "|                f1|          accuracy| weightedPrecision|    weightedRecall|               AUC|\n",
      "+------------------+------------------+------------------+------------------+------------------+\n",
      "|0.8243558706304979|0.8346439002471355|0.8235744592195376|0.8346439002471354|0.7150563615408072|\n",
      "+------------------+------------------+------------------+------------------+------------------+"
     ]
    }
   ],
   "source": [
    "metrics = spark.read.json('s3n://amosvoron-sparkify/rfc-downgraded-metrics-13h.json')\n",
    "metrics.select('f1', 'accuracy', 'weightedPrecision', 'weightedRecall', 'AUC').show()"
   ]
  },
  {
   "cell_type": "code",
   "execution_count": 5,
   "metadata": {},
   "outputs": [
    {
     "data": {
      "application/vnd.jupyter.widget-view+json": {
       "model_id": "e7e14d4823a34fe2af7f0285429d8d75",
       "version_major": 2,
       "version_minor": 0
      },
      "text/plain": [
       "VBox()"
      ]
     },
     "metadata": {},
     "output_type": "display_data"
    },
    {
     "data": {
      "application/vnd.jupyter.widget-view+json": {
       "model_id": "",
       "version_major": 2,
       "version_minor": 0
      },
      "text/plain": [
       "FloatProgress(value=0.0, bar_style='info', description='Progress:', layout=Layout(height='25px', width='50%'),…"
      ]
     },
     "metadata": {},
     "output_type": "display_data"
    },
    {
     "name": "stdout",
     "output_type": "stream",
     "text": [
      "+------------------+---------------------+\n",
      "|feature           |importance           |\n",
      "+------------------+---------------------+\n",
      "|NonSongCount      |0.2480559097228076   |\n",
      "|RollAdvertCount   |0.23603724564133685  |\n",
      "|RollAdvertPerHour |0.10103617157959105  |\n",
      "|LogCount          |0.08940420924033478  |\n",
      "|ThumbsDownCount   |0.0871551632527307   |\n",
      "|LogoutCount       |0.06786248410464657  |\n",
      "|TotalSongLength   |0.057630011549019394 |\n",
      "|SongCount         |0.04673550839547861  |\n",
      "|UniqueSongCount   |0.030917516916079465 |\n",
      "|HomePerHour       |0.014774925112209649 |\n",
      "|AddFriendCount    |0.010120154113186642 |\n",
      "|AddtoPlaylistCount|0.005767988692350054 |\n",
      "|SettingsCount     |0.0045027116802285865|\n",
      "+------------------+---------------------+"
     ]
    }
   ],
   "source": [
    "importances = spark.read.json('s3n://amosvoron-sparkify/rfc-downgraded-feature-importances-13h.json')\n",
    "importances.sort(desc('importance')).show(30, False)"
   ]
  },
  {
   "cell_type": "code",
   "execution_count": 4,
   "metadata": {},
   "outputs": [
    {
     "data": {
      "application/vnd.jupyter.widget-view+json": {
       "model_id": "c8a780c31248456a9d8f7d962a1b4c04",
       "version_major": 2,
       "version_minor": 0
      },
      "text/plain": [
       "VBox()"
      ]
     },
     "metadata": {},
     "output_type": "display_data"
    },
    {
     "data": {
      "application/vnd.jupyter.widget-view+json": {
       "model_id": "",
       "version_major": 2,
       "version_minor": 0
      },
      "text/plain": [
       "FloatProgress(value=0.0, bar_style='info', description='Progress:', layout=Layout(height='25px', width='50%'),…"
      ]
     },
     "metadata": {},
     "output_type": "display_data"
    },
    {
     "name": "stdout",
     "output_type": "stream",
     "text": [
      "+-----------------+--------------------+\n",
      "|feature          |importance          |\n",
      "+-----------------+--------------------+\n",
      "|RollAdvertPerHour|0.18078236798390873 |\n",
      "|NonSongCount     |0.17583812038430244 |\n",
      "|LogoutCount      |0.1714500683423289  |\n",
      "|LogCount         |0.1692270590202101  |\n",
      "|RollAdvertCount  |0.1652819649397765  |\n",
      "|ThumbsDownCount  |0.0809985802674333  |\n",
      "|SongCount        |0.03664032098864393 |\n",
      "|TotalSongLength  |0.014648507389087956|\n",
      "|AvgSessionGap    |0.005133010684308156|\n",
      "+-----------------+--------------------+"
     ]
    }
   ],
   "source": [
    "importances = spark.read.json('s3n://amosvoron-sparkify/rfc-downgraded-feature-importances-9h.json')\n",
    "importances.sort(desc('importance')).show(30, False)"
   ]
  },
  {
   "cell_type": "code",
   "execution_count": 5,
   "metadata": {},
   "outputs": [
    {
     "data": {
      "application/vnd.jupyter.widget-view+json": {
       "model_id": "e7a9f74c22d543fa8aa5e9e6b7960aa9",
       "version_major": 2,
       "version_minor": 0
      },
      "text/plain": [
       "VBox()"
      ]
     },
     "metadata": {},
     "output_type": "display_data"
    },
    {
     "data": {
      "application/vnd.jupyter.widget-view+json": {
       "model_id": "",
       "version_major": 2,
       "version_minor": 0
      },
      "text/plain": [
       "FloatProgress(value=0.0, bar_style='info', description='Progress:', layout=Layout(height='25px', width='50%'),…"
      ]
     },
     "metadata": {},
     "output_type": "display_data"
    },
    {
     "name": "stdout",
     "output_type": "stream",
     "text": [
      "+------------------+------------------+------------------+------------------+------------------+\n",
      "|                f1|          accuracy| weightedPrecision|    weightedRecall|               AUC|\n",
      "+------------------+------------------+------------------+------------------+------------------+\n",
      "|0.8084889296285297|0.8236351381711975|0.8094240821667913|0.8236351381711975|0.6849522237670034|\n",
      "+------------------+------------------+------------------+------------------+------------------+"
     ]
    }
   ],
   "source": [
    "metrics = spark.read.json('s3n://amosvoron-sparkify/rfc-downgraded-metrics-9h.json')\n",
    "metrics.select('f1', 'accuracy', 'weightedPrecision', 'weightedRecall', 'AUC').show()"
   ]
  },
  {
   "cell_type": "code",
   "execution_count": 1,
   "metadata": {},
   "outputs": [
    {
     "data": {
      "application/vnd.jupyter.widget-view+json": {
       "model_id": "96db938f807c4a05921ff96383859e80",
       "version_major": 2,
       "version_minor": 0
      },
      "text/plain": [
       "VBox()"
      ]
     },
     "metadata": {},
     "output_type": "display_data"
    },
    {
     "name": "stdout",
     "output_type": "stream",
     "text": [
      "Starting Spark application\n"
     ]
    },
    {
     "data": {
      "text/html": [
       "<table>\n",
       "<tr><th>ID</th><th>YARN Application ID</th><th>Kind</th><th>State</th><th>Spark UI</th><th>Driver log</th><th>Current session?</th></tr><tr><td>26</td><td>application_1597998755054_0049</td><td>pyspark</td><td>idle</td><td><a target=\"_blank\" href=\"http://ip-172-31-39-107.us-east-2.compute.internal:20888/proxy/application_1597998755054_0049/\">Link</a></td><td><a target=\"_blank\" href=\"http://ip-172-31-47-165.us-east-2.compute.internal:8042/node/containerlogs/container_1597998755054_0049_01_000001/livy\">Link</a></td><td>✔</td></tr></table>"
      ],
      "text/plain": [
       "<IPython.core.display.HTML object>"
      ]
     },
     "metadata": {},
     "output_type": "display_data"
    },
    {
     "data": {
      "application/vnd.jupyter.widget-view+json": {
       "model_id": "",
       "version_major": 2,
       "version_minor": 0
      },
      "text/plain": [
       "FloatProgress(value=0.0, bar_style='info', description='Progress:', layout=Layout(height='25px', width='50%'),…"
      ]
     },
     "metadata": {},
     "output_type": "display_data"
    },
    {
     "name": "stdout",
     "output_type": "stream",
     "text": [
      "SparkSession available as 'spark'.\n"
     ]
    },
    {
     "data": {
      "application/vnd.jupyter.widget-view+json": {
       "model_id": "",
       "version_major": 2,
       "version_minor": 0
      },
      "text/plain": [
       "FloatProgress(value=0.0, bar_style='info', description='Progress:', layout=Layout(height='25px', width='50%'),…"
      ]
     },
     "metadata": {},
     "output_type": "display_data"
    },
    {
     "name": "stdout",
     "output_type": "stream",
     "text": [
      "+-----------------+------------------+------------------+------------------+------------------+\n",
      "|               f1|          accuracy| weightedPrecision|    weightedRecall|               AUC|\n",
      "+-----------------+------------------+------------------+------------------+------------------+\n",
      "|0.824815310854039|0.8339698944057515|0.8233021851946406|0.8339698944057515|0.7187978616553737|\n",
      "+-----------------+------------------+------------------+------------------+------------------+"
     ]
    }
   ],
   "source": [
    "metrics = spark.read.json('s3n://amosvoron-sparkify/rfc-downgraded-metrics-11h.json')\n",
    "metrics.select('f1', 'accuracy', 'weightedPrecision', 'weightedRecall', 'AUC').show()"
   ]
  },
  {
   "cell_type": "code",
   "execution_count": 2,
   "metadata": {},
   "outputs": [
    {
     "data": {
      "application/vnd.jupyter.widget-view+json": {
       "model_id": "754463c32a5a41a99645ab2119f6bd64",
       "version_major": 2,
       "version_minor": 0
      },
      "text/plain": [
       "VBox()"
      ]
     },
     "metadata": {},
     "output_type": "display_data"
    },
    {
     "data": {
      "application/vnd.jupyter.widget-view+json": {
       "model_id": "",
       "version_major": 2,
       "version_minor": 0
      },
      "text/plain": [
       "FloatProgress(value=0.0, bar_style='info', description='Progress:', layout=Layout(height='25px', width='50%'),…"
      ]
     },
     "metadata": {},
     "output_type": "display_data"
    },
    {
     "name": "stdout",
     "output_type": "stream",
     "text": [
      "+------------------+------------------+-----------------+------------------+------------------+\n",
      "|                f1|          accuracy|weightedPrecision|    weightedRecall|               AUC|\n",
      "+------------------+------------------+-----------------+------------------+------------------+\n",
      "|0.8148460890342518|0.8292518535160638|0.816390590460442|0.8292518535160638|0.6938103089160288|\n",
      "+------------------+------------------+-----------------+------------------+------------------+"
     ]
    }
   ],
   "source": [
    "metrics = spark.read.json('s3n://amosvoron-sparkify/rfc-downgraded-metrics-22-gbt.json')\n",
    "metrics.select('f1', 'accuracy', 'weightedPrecision', 'weightedRecall', 'AUC').show()"
   ]
  },
  {
   "cell_type": "code",
   "execution_count": 5,
   "metadata": {},
   "outputs": [
    {
     "data": {
      "application/vnd.jupyter.widget-view+json": {
       "model_id": "03680d4b41074bc5b71bd11f3dd2ea9f",
       "version_major": 2,
       "version_minor": 0
      },
      "text/plain": [
       "VBox()"
      ]
     },
     "metadata": {},
     "output_type": "display_data"
    },
    {
     "data": {
      "application/vnd.jupyter.widget-view+json": {
       "model_id": "",
       "version_major": 2,
       "version_minor": 0
      },
      "text/plain": [
       "FloatProgress(value=0.0, bar_style='info', description='Progress:', layout=Layout(height='25px', width='50%'),…"
      ]
     },
     "metadata": {},
     "output_type": "display_data"
    },
    {
     "name": "stdout",
     "output_type": "stream",
     "text": [
      "+----------------------+--------------------+\n",
      "|feature               |importance          |\n",
      "+----------------------+--------------------+\n",
      "|NonSongCount          |0.18225428051214868 |\n",
      "|RollAdvertCount       |0.16125179100117887 |\n",
      "|ThumbsDownCount       |0.11385443838163774 |\n",
      "|RollAdvertPerHour     |0.10344833716370305 |\n",
      "|HomePerHour           |0.07628027064714468 |\n",
      "|LogoutPerHour         |0.05444018338962429 |\n",
      "|ThumbsUpCount         |0.03205718017791122 |\n",
      "|SettingsPerSessionHour|0.030269793748850922|\n",
      "|AddFriendCount        |0.02947649723433915 |\n",
      "|LogoutCount           |0.026412296357132003|\n",
      "|SaveSettingsPerHour   |0.023826479771596444|\n",
      "|LogCount              |0.022198980709714326|\n",
      "|ErrorPerHour          |0.020577080551025927|\n",
      "|AboutPerHour          |0.019885130344729416|\n",
      "|AddtoPlaylistCount    |0.019408780267448807|\n",
      "|AboutCount            |0.017095098611739825|\n",
      "|SettingsCount         |0.01568735139304455 |\n",
      "|ErrorPerSessionHour   |0.0148550761173494  |\n",
      "|TotalSongLength       |0.011045480150263406|\n",
      "|SaveSettingsCount     |0.010916834682887613|\n",
      "|UniqueSongCount       |0.007451176985834118|\n",
      "|SongCount             |0.007307461800695564|\n",
      "+----------------------+--------------------+"
     ]
    }
   ],
   "source": [
    "importances = spark.read.json('s3n://amosvoron-sparkify/rfc-downgraded-feature-importances-22-gbt.json')\n",
    "importances.sort(desc('importance')).show(30, False)"
   ]
  },
  {
   "cell_type": "code",
   "execution_count": 1,
   "metadata": {},
   "outputs": [
    {
     "data": {
      "application/vnd.jupyter.widget-view+json": {
       "model_id": "6bce446f2cf5456d875e4d980fd957cf",
       "version_major": 2,
       "version_minor": 0
      },
      "text/plain": [
       "VBox()"
      ]
     },
     "metadata": {},
     "output_type": "display_data"
    },
    {
     "name": "stdout",
     "output_type": "stream",
     "text": [
      "Starting Spark application\n"
     ]
    },
    {
     "data": {
      "text/html": [
       "<table>\n",
       "<tr><th>ID</th><th>YARN Application ID</th><th>Kind</th><th>State</th><th>Spark UI</th><th>Driver log</th><th>Current session?</th></tr><tr><td>28</td><td>application_1597998755054_0056</td><td>pyspark</td><td>idle</td><td><a target=\"_blank\" href=\"http://ip-172-31-39-107.us-east-2.compute.internal:20888/proxy/application_1597998755054_0056/\">Link</a></td><td><a target=\"_blank\" href=\"http://ip-172-31-47-165.us-east-2.compute.internal:8042/node/containerlogs/container_1597998755054_0056_01_000001/livy\">Link</a></td><td>✔</td></tr></table>"
      ],
      "text/plain": [
       "<IPython.core.display.HTML object>"
      ]
     },
     "metadata": {},
     "output_type": "display_data"
    },
    {
     "data": {
      "application/vnd.jupyter.widget-view+json": {
       "model_id": "",
       "version_major": 2,
       "version_minor": 0
      },
      "text/plain": [
       "FloatProgress(value=0.0, bar_style='info', description='Progress:', layout=Layout(height='25px', width='50%'),…"
      ]
     },
     "metadata": {},
     "output_type": "display_data"
    },
    {
     "name": "stdout",
     "output_type": "stream",
     "text": [
      "SparkSession available as 'spark'.\n"
     ]
    },
    {
     "data": {
      "application/vnd.jupyter.widget-view+json": {
       "model_id": "",
       "version_major": 2,
       "version_minor": 0
      },
      "text/plain": [
       "FloatProgress(value=0.0, bar_style='info', description='Progress:', layout=Layout(height='25px', width='50%'),…"
      ]
     },
     "metadata": {},
     "output_type": "display_data"
    },
    {
     "name": "stdout",
     "output_type": "stream",
     "text": [
      "+------------------+------------------+------------------+------------------+------------------+\n",
      "|                f1|          accuracy| weightedPrecision|    weightedRecall|               AUC|\n",
      "+------------------+------------------+------------------+------------------+------------------+\n",
      "|0.8187400219006676|0.8281285104470906|0.8167142782328922|0.8281285104470905|0.7108387931871132|\n",
      "+------------------+------------------+------------------+------------------+------------------+"
     ]
    }
   ],
   "source": [
    "metrics = spark.read.json('s3n://amosvoron-sparkify/rfc-downgraded-metrics-22h-gbt.json')\n",
    "metrics.select('f1', 'accuracy', 'weightedPrecision', 'weightedRecall', 'AUC').show()"
   ]
  },
  {
   "cell_type": "code",
   "execution_count": 4,
   "metadata": {},
   "outputs": [
    {
     "data": {
      "application/vnd.jupyter.widget-view+json": {
       "model_id": "c0f0615518504b7ea3f0bf9359934968",
       "version_major": 2,
       "version_minor": 0
      },
      "text/plain": [
       "VBox()"
      ]
     },
     "metadata": {},
     "output_type": "display_data"
    },
    {
     "data": {
      "application/vnd.jupyter.widget-view+json": {
       "model_id": "",
       "version_major": 2,
       "version_minor": 0
      },
      "text/plain": [
       "FloatProgress(value=0.0, bar_style='info', description='Progress:', layout=Layout(height='25px', width='50%'),…"
      ]
     },
     "metadata": {},
     "output_type": "display_data"
    },
    {
     "name": "stdout",
     "output_type": "stream",
     "text": [
      "+----------------------+--------------------+\n",
      "|feature               |importance          |\n",
      "+----------------------+--------------------+\n",
      "|NonSongCount          |0.18225428051214868 |\n",
      "|RollAdvertCount       |0.16125179100117887 |\n",
      "|ThumbsDownCount       |0.11385443838163774 |\n",
      "|RollAdvertPerHour     |0.10344833716370305 |\n",
      "|HomePerHour           |0.07628027064714468 |\n",
      "|LogoutPerHour         |0.05444018338962429 |\n",
      "|ThumbsUpCount         |0.03205718017791122 |\n",
      "|SettingsPerSessionHour|0.030269793748850922|\n",
      "|AddFriendCount        |0.02947649723433915 |\n",
      "|LogoutCount           |0.026412296357132003|\n",
      "|SaveSettingsPerHour   |0.023826479771596444|\n",
      "|LogCount              |0.022198980709714326|\n",
      "|ErrorPerHour          |0.020577080551025927|\n",
      "|AboutPerHour          |0.019885130344729416|\n",
      "|AddtoPlaylistCount    |0.019408780267448807|\n",
      "|AboutCount            |0.017095098611739825|\n",
      "|SettingsCount         |0.01568735139304455 |\n",
      "|ErrorPerSessionHour   |0.0148550761173494  |\n",
      "|TotalSongLength       |0.011045480150263406|\n",
      "|SaveSettingsCount     |0.010916834682887613|\n",
      "|UniqueSongCount       |0.007451176985834118|\n",
      "|SongCount             |0.007307461800695564|\n",
      "+----------------------+--------------------+"
     ]
    }
   ],
   "source": [
    "importances = spark.read.json('s3n://amosvoron-sparkify/rfc-downgraded-feature-importances-22-gbt.json')\n",
    "importances.sort(desc('importance')).show(30, False)"
   ]
  },
  {
   "cell_type": "code",
   "execution_count": 1,
   "metadata": {},
   "outputs": [
    {
     "data": {
      "application/vnd.jupyter.widget-view+json": {
       "model_id": "fd681806e2de4568b4dc4e0ef9fe9206",
       "version_major": 2,
       "version_minor": 0
      },
      "text/plain": [
       "VBox()"
      ]
     },
     "metadata": {},
     "output_type": "display_data"
    },
    {
     "name": "stdout",
     "output_type": "stream",
     "text": [
      "Starting Spark application\n"
     ]
    },
    {
     "data": {
      "text/html": [
       "<table>\n",
       "<tr><th>ID</th><th>YARN Application ID</th><th>Kind</th><th>State</th><th>Spark UI</th><th>Driver log</th><th>Current session?</th></tr><tr><td>29</td><td>application_1597998755054_0058</td><td>pyspark</td><td>idle</td><td><a target=\"_blank\" href=\"http://ip-172-31-39-107.us-east-2.compute.internal:20888/proxy/application_1597998755054_0058/\">Link</a></td><td><a target=\"_blank\" href=\"http://ip-172-31-33-168.us-east-2.compute.internal:8042/node/containerlogs/container_1597998755054_0058_01_000001/livy\">Link</a></td><td>✔</td></tr></table>"
      ],
      "text/plain": [
       "<IPython.core.display.HTML object>"
      ]
     },
     "metadata": {},
     "output_type": "display_data"
    },
    {
     "data": {
      "application/vnd.jupyter.widget-view+json": {
       "model_id": "",
       "version_major": 2,
       "version_minor": 0
      },
      "text/plain": [
       "FloatProgress(value=0.0, bar_style='info', description='Progress:', layout=Layout(height='25px', width='50%'),…"
      ]
     },
     "metadata": {},
     "output_type": "display_data"
    },
    {
     "name": "stdout",
     "output_type": "stream",
     "text": [
      "SparkSession available as 'spark'.\n"
     ]
    },
    {
     "data": {
      "application/vnd.jupyter.widget-view+json": {
       "model_id": "",
       "version_major": 2,
       "version_minor": 0
      },
      "text/plain": [
       "FloatProgress(value=0.0, bar_style='info', description='Progress:', layout=Layout(height='25px', width='50%'),…"
      ]
     },
     "metadata": {},
     "output_type": "display_data"
    },
    {
     "name": "stdout",
     "output_type": "stream",
     "text": [
      "+------------------+------------------+------------------+------------------+------------------+\n",
      "|                f1|          accuracy| weightedPrecision|    weightedRecall|               AUC|\n",
      "+------------------+------------------+------------------+------------------+------------------+\n",
      "|0.8216342673718903|0.8290271849022691|0.8190860749874386|0.8290271849022692|0.7201242773554035|\n",
      "+------------------+------------------+------------------+------------------+------------------+"
     ]
    }
   ],
   "source": [
    "metrics = spark.read.json('s3n://amosvoron-sparkify/rfc-downgraded-metrics-12h-gbt.json')\n",
    "metrics.select('f1', 'accuracy', 'weightedPrecision', 'weightedRecall', 'AUC').show()"
   ]
  },
  {
   "cell_type": "code",
   "execution_count": 2,
   "metadata": {},
   "outputs": [
    {
     "data": {
      "application/vnd.jupyter.widget-view+json": {
       "model_id": "97cbc1e88f0d4a8c812be359c60a24de",
       "version_major": 2,
       "version_minor": 0
      },
      "text/plain": [
       "VBox()"
      ]
     },
     "metadata": {},
     "output_type": "display_data"
    },
    {
     "data": {
      "application/vnd.jupyter.widget-view+json": {
       "model_id": "",
       "version_major": 2,
       "version_minor": 0
      },
      "text/plain": [
       "FloatProgress(value=0.0, bar_style='info', description='Progress:', layout=Layout(height='25px', width='50%'),…"
      ]
     },
     "metadata": {},
     "output_type": "display_data"
    },
    {
     "name": "stderr",
     "output_type": "stream",
     "text": [
      "name 'desc' is not defined\n",
      "Traceback (most recent call last):\n",
      "NameError: name 'desc' is not defined\n",
      "\n"
     ]
    }
   ],
   "source": [
    "importances = spark.read.json('s3n://amosvoron-sparkify/rfc-downgraded-feature-importances-22-gbt.json')\n",
    "importances.sort(desc('importance')).show(30, False)"
   ]
  },
  {
   "cell_type": "code",
   "execution_count": null,
   "metadata": {},
   "outputs": [],
   "source": []
  }
 ],
 "metadata": {
  "kernelspec": {
   "display_name": "PySpark",
   "language": "",
   "name": "pysparkkernel"
  },
  "language_info": {
   "codemirror_mode": {
    "name": "python",
    "version": 2
   },
   "mimetype": "text/x-python",
   "name": "pyspark",
   "pygments_lexer": "python2"
  }
 },
 "nbformat": 4,
 "nbformat_minor": 4
}
