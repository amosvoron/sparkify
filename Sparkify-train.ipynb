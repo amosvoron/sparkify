{
 "cells": [
  {
   "cell_type": "markdown",
   "metadata": {},
   "source": [
    "# Sparkify Project Workspace\n",
    "This workspace contains a tiny subset (128MB) of the full dataset available (12GB). Feel free to use this workspace to build your project, or to explore a smaller subset with Spark before deploying your cluster on the cloud. Instructions for setting up your Spark cluster is included in the last lesson of the Extracurricular Spark Course content.\n",
    "\n",
    "You can follow the steps below to guide your data analysis and model building portion of this project."
   ]
  },
  {
   "cell_type": "code",
   "execution_count": 1,
   "metadata": {},
   "outputs": [],
   "source": [
    "# Import libraries\n",
    "from pyspark.sql.types import *\n",
    "from pyspark.sql import SparkSession\n",
    "from pyspark.sql.functions import isnan, count, when, col, desc, udf, col, sort_array, asc, \\\n",
    "                                  avg, from_unixtime, split, min, max, round, lit, mean\n",
    "from pyspark.sql.functions import sum as Fsum\n",
    "from pyspark.sql.functions import row_number\n",
    "from pyspark.sql.window import Window\n",
    "\n",
    "#from pyspark.sql.types import IntegerType, TimestampType\n",
    "import datetime\n",
    "from pyspark.sql.functions import to_date, year, month, dayofmonth, dayofweek, hour, date_format, substring\n",
    "\n",
    "import numpy as np\n",
    "import pandas as pd\n",
    "import time\n",
    "%matplotlib inline\n",
    "import matplotlib.pyplot as plt\n",
    "import seaborn as sb"
   ]
  },
  {
   "cell_type": "code",
   "execution_count": 2,
   "metadata": {},
   "outputs": [],
   "source": [
    "# Create a Spark session\n",
    "spark = SparkSession \\\n",
    "    .builder \\\n",
    "    .appName(\"Sparkify\") \\\n",
    "    .getOrCreate()"
   ]
  },
  {
   "cell_type": "code",
   "execution_count": 3,
   "metadata": {},
   "outputs": [],
   "source": [
    "# Set time parser policy\n",
    "spark.conf.set(\"spark.sql.legacy.timeParserPolicy\",\"LEGACY\")"
   ]
  },
  {
   "cell_type": "code",
   "execution_count": 5,
   "metadata": {},
   "outputs": [],
   "source": [
    "# Load dataset\n",
    "path = \"data/mini_sparkify_event_data.json\"\n",
    "data = spark.read.json(path)\n",
    "original_count = data.count()"
   ]
  },
  {
   "cell_type": "markdown",
   "metadata": {},
   "source": [
    "### Common Functions"
   ]
  },
  {
   "cell_type": "code",
   "execution_count": 7,
   "metadata": {},
   "outputs": [],
   "source": [
    "# Set plot's figure size\n",
    "def set_plot_size(width, height):\n",
    "    return plt.figure(figsize = [width, height]);\n",
    "\n",
    "def get_user_logs(userId, sessionId=None):\n",
    "    if sessionId == None:\n",
    "        return data.where(data.userId == userId) \\\n",
    "            .select('tsDate', 'userId', 'sessionId', 'itemInSession', 'level', 'page') \\\n",
    "            .sort('tsDate', 'itemInSession')\n",
    "    else:\n",
    "        return data.where((data.userId == userId) & (data.sessionId == sessionId)) \\\n",
    "            .select('tsDate', 'userId', 'sessionId', 'itemInSession', 'level', 'page') \\\n",
    "            .sort('tsDate', 'itemInSession')\n",
    "    \n",
    "def get_users(churn):\n",
    "    return data.where(data.churn == churn).select('userId').dropDuplicates()"
   ]
  },
  {
   "cell_type": "markdown",
   "metadata": {},
   "source": [
    "# Load and prepare Dataset\n",
    "In this workspace, the mini-dataset file is `mini_sparkify_event_data.json`. Load and clean the dataset, checking for invalid or missing data - for example, records without userids or sessionids. "
   ]
  },
  {
   "cell_type": "code",
   "execution_count": 8,
   "metadata": {},
   "outputs": [
    {
     "name": "stdout",
     "output_type": "stream",
     "text": [
      "Churned users who cancelled subscription: 52\n"
     ]
    }
   ],
   "source": [
    "# Remove rows with missing users\n",
    "data = data.where(~((col('userId').isNull()) | (col('userId') == '')))\n",
    "\n",
    "# Exclude non-relevant columns\n",
    "data = data.drop('firstName')\n",
    "data = data.drop('lastName')\n",
    "\n",
    "data = data.withColumn('regDate', (col('registration') / 1000.0).cast(TimestampType()))\n",
    "data = data.withColumn('tsDate', (col('ts') / 1000.0).cast(TimestampType()))\n",
    "data.take(1)\n",
    "\n",
    "data = data.withColumn('city', split(data['location'], ',')[0])\n",
    "data = data.withColumn('state', split(data['location'], ',')[1])\n",
    "data = data.drop('location')\n",
    "\n",
    "# Define churned users using Cancellation Confirmation event (canceled)\n",
    "query_churn_by_cc = data.where(data.page == 'Cancellation Confirmation')\n",
    "print(f'Churned users who cancelled subscription: {query_churn_by_cc.count()}')\n",
    "\n",
    "# Label churned (canceled) users\n",
    "canceled = query_churn_by_cc.select('userId').dropDuplicates().select('userId')\n",
    "canceled_uids = [row.userId for row in canceled.collect()];\n",
    "set_churn = udf(lambda x: 1 if x in canceled_uids else 0, IntegerType())\n",
    "data = data.withColumn('churn', set_churn('userId'))\n",
    "\n",
    "# Add [userRowId] column that assigns a 1-based index to every user's log ordered by [ts]\n",
    "w =  Window.partitionBy(data.userId).orderBy('ts', 'itemInSession')\n",
    "data = data.withColumn('userRowId', row_number().over(w))\n",
    "\n",
    "# Add [userRowDescId] column that assigns a 1-based index to every user's log ordered by [ts] descending.\n",
    "w =  Window.partitionBy(data.userId).orderBy(col('ts').desc(), col('itemInSession').desc())\n",
    "data = data.withColumn('userRowDescId', row_number().over(w))\n",
    "\n",
    "# Add last level column\n",
    "last_levels = dict()\n",
    "for row in data.where(data.userRowDescId == 1).select('userId', 'level').collect():\n",
    "    last_levels[row.userId] = row.level\n",
    "get_level = udf(lambda userId: last_levels[userId])\n",
    "data = data.withColumn('lastLevel', get_level('userId'))"
   ]
  },
  {
   "cell_type": "code",
   "execution_count": 9,
   "metadata": {},
   "outputs": [],
   "source": [
    "users = data.select('churn', 'userId').dropDuplicates()"
   ]
  },
  {
   "cell_type": "code",
   "execution_count": 11,
   "metadata": {},
   "outputs": [
    {
     "data": {
      "text/plain": [
       "52"
      ]
     },
     "execution_count": 11,
     "metadata": {},
     "output_type": "execute_result"
    }
   ],
   "source": [
    "get_users(1).count()"
   ]
  },
  {
   "cell_type": "markdown",
   "metadata": {},
   "source": [
    "# Feature Engineering\n",
    "Once you've familiarized yourself with the data, build out the features you find promising to train your model on. To work with the full dataset, you can follow the following steps.\n",
    "- Write a script to extract the necessary features from the smaller subset of data\n",
    "- Ensure that your script is scalable, using the best practices discussed in Lesson 3\n",
    "- Try your script on the full data set, debugging your script if necessary\n",
    "\n",
    "If you are working in the classroom workspace, you can just extract features based on the small subset of data contained here. Be sure to transfer over this work to the larger dataset when you work on your Spark cluster."
   ]
  },
  {
   "cell_type": "code",
   "execution_count": 12,
   "metadata": {},
   "outputs": [],
   "source": [
    "labels = data.select(col('churn').alias('label'), 'userId').dropDuplicates()"
   ]
  },
  {
   "cell_type": "markdown",
   "metadata": {},
   "source": [
    "### User Attribute Features"
   ]
  },
  {
   "cell_type": "code",
   "execution_count": 99,
   "metadata": {},
   "outputs": [],
   "source": [
    "f_Gender = data \\\n",
    "    .select('userId', 'gender') \\\n",
    "    .dropDuplicates() \\\n",
    "    .replace(['M', 'F'], ['0', '1'], 'gender') \\\n",
    "    .select('userId', col('gender').cast('int').alias('Gender'))"
   ]
  },
  {
   "cell_type": "code",
   "execution_count": 100,
   "metadata": {},
   "outputs": [],
   "source": [
    "f_LastLevel = data \\\n",
    "    .select('userId', 'lastLevel') \\\n",
    "    .dropDuplicates() \\\n",
    "    .replace(['free', 'paid'], ['0', '1'], 'lastLevel') \\\n",
    "    .select('userId', col('lastLevel').cast('int').alias('LastLevel'))"
   ]
  },
  {
   "cell_type": "markdown",
   "metadata": {},
   "source": [
    "### Per Log Features"
   ]
  },
  {
   "cell_type": "code",
   "execution_count": 101,
   "metadata": {},
   "outputs": [],
   "source": [
    "def page_count(page):\n",
    "    return data \\\n",
    "        .where(data.page == page) \\\n",
    "        .groupby('userId') \\\n",
    "        .agg(count('userId').alias('count')) \\\n",
    "        .select('userId', col('count').alias(page.replace(' ', '') + 'Count'))"
   ]
  },
  {
   "cell_type": "code",
   "execution_count": 102,
   "metadata": {},
   "outputs": [],
   "source": [
    "f_LogCount = data \\\n",
    "    .groupby('userId') \\\n",
    "    .agg(count('userId').alias('LogCount'))"
   ]
  },
  {
   "cell_type": "code",
   "execution_count": 103,
   "metadata": {},
   "outputs": [],
   "source": [
    "f_SongCount = data \\\n",
    "    .where(data.page == 'NextSong') \\\n",
    "    .groupby('userId') \\\n",
    "    .agg(count('userId').alias('SongCount'))"
   ]
  },
  {
   "cell_type": "code",
   "execution_count": 104,
   "metadata": {},
   "outputs": [],
   "source": [
    "f_NonSongCount = data \\\n",
    "    .where(data.page != 'NextSong') \\\n",
    "    .groupby('userId') \\\n",
    "    .agg(count('userId').alias('NonSongCount'))"
   ]
  },
  {
   "cell_type": "code",
   "execution_count": 105,
   "metadata": {},
   "outputs": [],
   "source": [
    "f_AboutCount = page_count('About')"
   ]
  },
  {
   "cell_type": "code",
   "execution_count": 106,
   "metadata": {},
   "outputs": [],
   "source": [
    "f_ThumbsUpCount = page_count('Thumbs Up')"
   ]
  },
  {
   "cell_type": "code",
   "execution_count": 107,
   "metadata": {},
   "outputs": [],
   "source": [
    "f_RollAdvertCount = page_count('Roll Advert')"
   ]
  },
  {
   "cell_type": "markdown",
   "metadata": {},
   "source": [
    "### Per Session Features"
   ]
  },
  {
   "cell_type": "code",
   "execution_count": 108,
   "metadata": {},
   "outputs": [],
   "source": [
    "page_data = data.where(~data.page.isin(['Cancel', 'Cancellation Confirmation'])) \\\n",
    "    .select('page', 'userId', 'sessionId', 'ts')"
   ]
  },
  {
   "cell_type": "code",
   "execution_count": 109,
   "metadata": {},
   "outputs": [],
   "source": [
    "# Average page count per session hour\n",
    "session_hours = page_data \\\n",
    "    .groupby('userId', 'sessionId') \\\n",
    "    .agg(((max('ts') - min('ts'))/1000/3600).alias('sessionHours'))\n",
    "\n",
    "def page_session_hour(page):\n",
    "    return page_data \\\n",
    "        .where(data.page == page) \\\n",
    "        .join(session_hours, ['userId', 'sessionId'], 'inner') \\\n",
    "        .groupby( 'userId', 'sessionId', 'sessionHours') \\\n",
    "        .agg((count('userId')/col('sessionHours')).alias('avgPerSession')) \\\n",
    "        .groupby('userId') \\\n",
    "        .agg(avg('avgPerSession').alias('avg')) \\\n",
    "        .select('userId', col('avg').alias(page.replace(' ', '') + 'PerSessionHour'))"
   ]
  },
  {
   "cell_type": "code",
   "execution_count": 110,
   "metadata": {},
   "outputs": [],
   "source": [
    "# Average page count per hour\n",
    "user_hours = page_data \\\n",
    "    .groupby('userId', 'sessionId') \\\n",
    "    .agg(((max('ts') - min('ts'))/1000/3600).alias('sessionHours')) \\\n",
    "    .groupby('userId') \\\n",
    "    .agg(Fsum('sessionHours').alias('hours'))\n",
    "\n",
    "def page_hour(page):\n",
    "    return page_data \\\n",
    "        .where(data.page == page) \\\n",
    "        .join(user_hours, 'userId', 'inner') \\\n",
    "        .groupby('userId', 'hours') \\\n",
    "        .agg((count('userId')/col('hours')).alias('avg')) \\\n",
    "        .select('userId', col('avg').alias(page.replace(' ', '') + 'PerHour'))"
   ]
  },
  {
   "cell_type": "code",
   "execution_count": 111,
   "metadata": {},
   "outputs": [],
   "source": [
    "f_SessionCount = data \\\n",
    "    .select('userId', 'sessionId') \\\n",
    "    .dropDuplicates() \\\n",
    "    .groupby('userId') \\\n",
    "    .agg(count('userId').alias('SessionCount'))"
   ]
  },
  {
   "cell_type": "code",
   "execution_count": 112,
   "metadata": {},
   "outputs": [],
   "source": [
    "f_AvgSessionLength = data \\\n",
    "    .groupby('userId', 'sessionId') \\\n",
    "    .agg(((max('ts') - min('ts'))/1000).alias('sessionLength')) \\\n",
    "    .groupby('userId') \\\n",
    "    .agg(avg('sessionLength').alias('AvgSessionLength')) \\"
   ]
  },
  {
   "cell_type": "code",
   "execution_count": 113,
   "metadata": {},
   "outputs": [],
   "source": [
    "# Session gap\n",
    "users = data.select('userId').dropDuplicates()\n",
    "\n",
    "f_AvgSessionGap = data \\\n",
    "    .groupby('userId', 'sessionId') \\\n",
    "    .agg(min('ts').alias('startTime'), max('ts').alias('endTime')) \\\n",
    "    .groupby('userId') \\\n",
    "    .agg(count('userId').alias('sessionCount'), \\\n",
    "        ((max('endTime') - min('startTime'))/1000).alias('observationPeriodTime'), \\\n",
    "        (Fsum(col('endTime') - col('startTime'))/1000).alias('totalSessionTime')) \\\n",
    "    .where(col('sessionCount') > 1) \\\n",
    "    .join(users, 'userId', 'outer') \\\n",
    "    .fillna(0) \\\n",
    "    .select('userId', \\\n",
    "            (col('observationPeriodTime') - col('totalSessionTime')/(col('sessionCount') - 1)).alias('AvgSessionGap'))"
   ]
  },
  {
   "cell_type": "code",
   "execution_count": 114,
   "metadata": {},
   "outputs": [],
   "source": [
    "f_DowngradePerSessionHour = page_session_hour('Downgrade')"
   ]
  },
  {
   "cell_type": "code",
   "execution_count": 115,
   "metadata": {},
   "outputs": [],
   "source": [
    "f_ErrorPerSessionHour = page_session_hour('Error')"
   ]
  },
  {
   "cell_type": "code",
   "execution_count": 116,
   "metadata": {},
   "outputs": [],
   "source": [
    "f_SettingsPerSessionHour = page_session_hour('Settings')"
   ]
  },
  {
   "cell_type": "code",
   "execution_count": 117,
   "metadata": {},
   "outputs": [],
   "source": [
    "f_SaveSettingsPerSessionHour = page_session_hour('Save Settings')"
   ]
  },
  {
   "cell_type": "code",
   "execution_count": 118,
   "metadata": {},
   "outputs": [],
   "source": [
    "f_LogoutPerSessionHour = page_session_hour('Logout')"
   ]
  },
  {
   "cell_type": "code",
   "execution_count": 119,
   "metadata": {},
   "outputs": [],
   "source": [
    "f_SubmitDowngradePerSessionHour = page_session_hour('Submit Downgrade')"
   ]
  },
  {
   "cell_type": "markdown",
   "metadata": {},
   "source": [
    "### Per Hour Features"
   ]
  },
  {
   "cell_type": "code",
   "execution_count": 120,
   "metadata": {},
   "outputs": [],
   "source": [
    "f_RollAdvertPerHour = page_hour('Roll Advert')"
   ]
  },
  {
   "cell_type": "code",
   "execution_count": 121,
   "metadata": {},
   "outputs": [],
   "source": [
    "f_ThumbsDownPerHour = page_hour('Thumbs Down')"
   ]
  },
  {
   "cell_type": "code",
   "execution_count": 122,
   "metadata": {},
   "outputs": [],
   "source": [
    "f_UpgradePerHour = page_hour('Upgrade')"
   ]
  },
  {
   "cell_type": "code",
   "execution_count": 123,
   "metadata": {},
   "outputs": [],
   "source": [
    "f_SubmitUpgradePerHour = page_hour('Submit Upgrade')"
   ]
  },
  {
   "cell_type": "markdown",
   "metadata": {},
   "source": [
    "### Per Day Features"
   ]
  },
  {
   "cell_type": "code",
   "execution_count": 124,
   "metadata": {},
   "outputs": [],
   "source": [
    "# Average page count per day\n",
    "page_data = data \\\n",
    "    .where(~data.page.isin(['Cancel', 'Cancellation Confirmation'])) \\\n",
    "    .select('userId', 'page', 'date')\n",
    "\n",
    "def page_day(page):\n",
    "    return page_data \\\n",
    "        .where(data.page == page) \\\n",
    "        .groupby('userId', 'date') \\\n",
    "        .count() \\\n",
    "        .groupby('userId') \\\n",
    "        .agg(avg('count').alias(page.replace(' ', '') + 'PerDay'))"
   ]
  },
  {
   "cell_type": "code",
   "execution_count": 125,
   "metadata": {},
   "outputs": [],
   "source": [
    "# Average sessions per day\n",
    "f_SessionsPerDay = data \\\n",
    "    .select('userId', 'date', 'sessionId') \\\n",
    "    .dropDuplicates() \\\n",
    "    .groupby('userId', 'date') \\\n",
    "    .count() \\\n",
    "    .groupby('userId') \\\n",
    "    .agg(avg('count').alias('SessionsPerDay'))"
   ]
  },
  {
   "cell_type": "code",
   "execution_count": 126,
   "metadata": {},
   "outputs": [],
   "source": [
    "f_AddFriendPerDay = page_day('Add Friend')"
   ]
  },
  {
   "cell_type": "code",
   "execution_count": 127,
   "metadata": {},
   "outputs": [],
   "source": [
    "f_RollAdvertPerDay = page_day('Roll Advert')"
   ]
  },
  {
   "cell_type": "code",
   "execution_count": 128,
   "metadata": {},
   "outputs": [],
   "source": [
    "f_ThumbsDownPerDay = page_day('Thumbs Down')"
   ]
  },
  {
   "cell_type": "code",
   "execution_count": 129,
   "metadata": {},
   "outputs": [],
   "source": [
    "f_ThumbsUpPerDay = page_day('Thumbs Up')"
   ]
  },
  {
   "cell_type": "markdown",
   "metadata": {},
   "source": [
    "### Per Song Features"
   ]
  },
  {
   "cell_type": "code",
   "execution_count": 130,
   "metadata": {},
   "outputs": [],
   "source": [
    "# Total song length \n",
    "f_TotalSongLength = data \\\n",
    "    .where(data.page == 'NextSong') \\\n",
    "    .select('userId', 'length') \\\n",
    "    .groupby('userId') \\\n",
    "    .agg(Fsum('length').alias('TotalSongLength'))"
   ]
  },
  {
   "cell_type": "code",
   "execution_count": 131,
   "metadata": {},
   "outputs": [],
   "source": [
    "# Unique song count\n",
    "f_UniqueSongCount = data \\\n",
    "    .where(data.page == 'NextSong') \\\n",
    "    .select('userId', 'song') \\\n",
    "    .dropDuplicates() \\\n",
    "    .groupby('userId') \\\n",
    "    .agg(count('userId').alias('UniqueSongCount'))"
   ]
  },
  {
   "cell_type": "code",
   "execution_count": 132,
   "metadata": {},
   "outputs": [],
   "source": [
    "# Share of unique songs among all user's songs\n",
    "totals = data \\\n",
    "    .where(data.page == 'NextSong') \\\n",
    "    .select('userId') \\\n",
    "    .groupby('userId') \\\n",
    "    .agg(count('userId').alias('total'))\n",
    "\n",
    "f_UniqueSongShare = data \\\n",
    "    .where(data.page == 'NextSong') \\\n",
    "    .select('userId', 'song') \\\n",
    "    .dropDuplicates() \\\n",
    "    .groupby('userId') \\\n",
    "    .count() \\\n",
    "    .join(totals, on = ['userId'], how = 'inner') \\\n",
    "    .select('userId', (col('count')/col('total')).alias('UniqueSongShare')) "
   ]
  },
  {
   "cell_type": "markdown",
   "metadata": {
    "collapsed": true
   },
   "source": [
    "### model_data"
   ]
  },
  {
   "cell_type": "code",
   "execution_count": 148,
   "metadata": {},
   "outputs": [],
   "source": [
    "# model 7b (churn #1, seed 0)\n",
    "model_data  = labels.join(f_LogCount, 'userId', 'outer') \\\n",
    "    .join(f_SongCount, 'userId', 'outer') \\\n",
    "    .join(f_NonSongCount, 'userId', 'outer') \\\n",
    "    .join(f_AboutCount, 'userId', 'outer') \\\n",
    "    .join(f_ThumbsUpCount, 'userId', 'outer') \\\n",
    "    .join(f_RollAdvertCount, 'userId', 'outer') \\\n",
    "    .join(f_SessionCount, 'userId', 'outer') \\\n",
    "    .join(f_AvgSessionLength, 'userId', 'outer') \\\n",
    "    .join(f_AvgSessionGap, 'userId', 'outer') \\\n",
    "    .join(f_DowngradePerSessionHour, 'userId', 'outer') \\\n",
    "    .join(f_SettingsPerSessionHour, 'userId', 'outer') \\\n",
    "    .join(f_LogoutPerSessionHour, 'userId', 'outer') \\\n",
    "    .join(f_RollAdvertPerHour, 'userId', 'outer') \\\n",
    "    .join(f_ThumbsDownPerHour, 'userId', 'outer') \\\n",
    "    .join(f_SubmitUpgradePerHour, 'userId', 'outer') \\\n",
    "    .join(f_SessionsPerDay, 'userId', 'outer') \\\n",
    "    .join(f_AddFriendPerDay, 'userId', 'outer') \\\n",
    "    .join(f_RollAdvertPerDay, 'userId', 'outer') \\\n",
    "    .join(f_ThumbsDownPerDay, 'userId', 'outer') \\\n",
    "    .join(f_ThumbsUpPerDay, 'userId', 'outer') \\\n",
    "    .join(f_TotalSongLength, 'userId', 'outer') \\\n",
    "    .join(f_UniqueSongCount, 'userId', 'outer') \\\n",
    "    .join(f_UniqueSongShare, 'userId', 'outer') \\\n",
    "    .drop('userId') \\\n",
    "    .fillna(0)"
   ]
  },
  {
   "cell_type": "code",
   "execution_count": 161,
   "metadata": {},
   "outputs": [],
   "source": [
    "# model 7 (churn #1, seed 0)\n",
    "model_data_rf  = labels.join(f_Gender, 'userId', 'outer') \\\n",
    "    .join(f_LastLevel, 'userId', 'outer') \\\n",
    "    .join(f_LogCount, 'userId', 'outer') \\\n",
    "    .join(f_SongCount, 'userId', 'outer') \\\n",
    "    .join(f_NonSongCount, 'userId', 'outer') \\\n",
    "    .join(f_AboutCount, 'userId', 'outer') \\\n",
    "    .join(f_ThumbsUpCount, 'userId', 'outer') \\\n",
    "    .join(f_RollAdvertCount, 'userId', 'outer') \\\n",
    "    .join(f_SessionCount, 'userId', 'outer') \\\n",
    "    .join(f_AvgSessionLength, 'userId', 'outer') \\\n",
    "    .join(f_AvgSessionGap, 'userId', 'outer') \\\n",
    "    .join(f_DowngradePerSessionHour, 'userId', 'outer') \\\n",
    "    .join(f_ErrorPerSessionHour, 'userId', 'outer') \\\n",
    "    .join(f_SettingsPerSessionHour, 'userId', 'outer') \\\n",
    "    .join(f_SaveSettingsPerSessionHour, 'userId', 'outer') \\\n",
    "    .join(f_LogoutPerSessionHour, 'userId', 'outer') \\\n",
    "    .join(f_SubmitDowngradePerSessionHour, 'userId', 'outer') \\\n",
    "    .join(f_RollAdvertPerHour, 'userId', 'outer') \\\n",
    "    .join(f_ThumbsDownPerHour, 'userId', 'outer') \\\n",
    "    .join(f_UpgradePerHour, 'userId', 'outer') \\\n",
    "    .join(f_SubmitUpgradePerHour, 'userId', 'outer') \\\n",
    "    .join(f_SessionsPerDay, 'userId', 'outer') \\\n",
    "    .join(f_AddFriendPerDay, 'userId', 'outer') \\\n",
    "    .join(f_RollAdvertPerDay, 'userId', 'outer') \\\n",
    "    .join(f_ThumbsDownPerDay, 'userId', 'outer') \\\n",
    "    .join(f_ThumbsUpPerDay, 'userId', 'outer') \\\n",
    "    .join(f_TotalSongLength, 'userId', 'outer') \\\n",
    "    .join(f_UniqueSongCount, 'userId', 'outer') \\\n",
    "    .join(f_UniqueSongShare, 'userId', 'outer') \\\n",
    "    .drop('userId') \\\n",
    "    .fillna(0)"
   ]
  },
  {
   "cell_type": "code",
   "execution_count": 177,
   "metadata": {},
   "outputs": [],
   "source": [
    "# model 6\n",
    "model_data  = labels.join(f_EventCount, 'userId', 'outer') \\\n",
    "    .join(f_AvgSessionCount, 'userId', 'outer') \\\n",
    "    .join(f_RollAdvertCount, 'userId', 'outer') \\\n",
    "    .join(f_ThumbsUpCount, 'userId', 'outer') \\\n",
    "    .join(f_RollAdvertCountPerHour, 'userId', 'outer') \\\n",
    "    .join(f_ThumbsDownCountPerHour, 'userId', 'outer') \\\n",
    "    .join(f_SettingsCountPerHour, 'userId', 'outer') \\\n",
    "    .join(f_LogoutCountPerHour, 'userId', 'outer') \\\n",
    "    .join(f_SaveSettingsCountPerHour, 'userId', 'outer') \\\n",
    "    .join(f_TotalSongLength, 'userId', 'outer') \\\n",
    "    .join(f_AvgNonSongEventCount, 'userId', 'outer') \\\n",
    "    .join(f_UniqueSongCount, 'userId', 'outer') \\\n",
    "    .join(f_UniqueSongShare, 'userId', 'outer') \\\n",
    "    .join(f_AvgGapTime, 'userId', 'outer') \\\n",
    "    .join(f_ThumbsDownCountPerDay, 'userId', 'outer') \\\n",
    "    .join(f_ThumbsUpCountPerDay, 'userId', 'outer') \\\n",
    "    .join(f_AvgSessionCountPerDay, 'userId', 'outer') \\\n",
    "    .drop('userId') \\\n",
    "    .fillna(0)"
   ]
  },
  {
   "cell_type": "code",
   "execution_count": 148,
   "metadata": {},
   "outputs": [],
   "source": [
    "# model 5\n",
    "model_data  = labels.join(f_EventCount, 'userId', 'outer') \\\n",
    "    .join(f_AvgSessionCount, 'userId', 'outer') \\\n",
    "    .join(f_RollAdvertCount, 'userId', 'outer') \\\n",
    "    .join(f_SubmitUpgradeCount, 'userId', 'outer') \\\n",
    "    .join(f_ThumbsUpCount, 'userId', 'outer') \\\n",
    "    .join(f_RollAdvertCountPerHour, 'userId', 'outer') \\\n",
    "    .join(f_SubmitUpgradeCountPerHour, 'userId', 'outer') \\\n",
    "    .join(f_ThumbsDownCountPerHour, 'userId', 'outer') \\\n",
    "    .join(f_UpgradeCountPerHour, 'userId', 'outer') \\\n",
    "    .join(f_SettingsCountPerHour, 'userId', 'outer') \\\n",
    "    .join(f_LogoutCountPerHour, 'userId', 'outer') \\\n",
    "    .join(f_SaveSettingsCountPerHour, 'userId', 'outer') \\\n",
    "    .join(f_TotalSongLength, 'userId', 'outer') \\\n",
    "    .join(f_AvgNonSongEventCount, 'userId', 'outer') \\\n",
    "    .join(f_UniqueSongCount, 'userId', 'outer') \\\n",
    "    .join(f_UniqueSongShare, 'userId', 'outer') \\\n",
    "    .join(f_AvgGapTime, 'userId', 'outer') \\\n",
    "    .join(f_ThumbsDownCountPerDay, 'userId', 'outer') \\\n",
    "    .join(f_ThumbsUpCountPerDay, 'userId', 'outer') \\\n",
    "    .join(f_UpgradeCountPerDay, 'userId', 'outer') \\\n",
    "    .drop('userId') \\\n",
    "    .fillna(0)"
   ]
  },
  {
   "cell_type": "code",
   "execution_count": null,
   "metadata": {},
   "outputs": [],
   "source": [
    "# model 4\n",
    "model_data  = labels.join(f_EventCount, 'userId', 'outer') \\\n",
    "    .join(f_AvgSessionCount, 'userId', 'outer') \\\n",
    "    .join(f_RollAdvertCount, 'userId', 'outer') \\\n",
    "    .join(f_SubmitUpgradeCount, 'userId', 'outer') \\\n",
    "    .join(f_ThumbsUpCount, 'userId', 'outer') \\\n",
    "    .join(f_RollAdvertCountPerHour, 'userId', 'outer') \\\n",
    "    .join(f_SubmitUpgradeCountPerHour, 'userId', 'outer') \\\n",
    "    .join(f_ThumbsDownCountPerHour, 'userId', 'outer') \\\n",
    "    .join(f_UpgradeCountPerHour, 'userId', 'outer') \\\n",
    "    .join(f_SettingsCountPerHour, 'userId', 'outer') \\\n",
    "    .join(f_LogoutCountPerHour, 'userId', 'outer') \\\n",
    "    .join(f_SaveSettingsCountPerHour, 'userId', 'outer') \\\n",
    "    .join(f_TotalSongLength, 'userId', 'outer') \\\n",
    "    .join(f_AvgNonSongEventCount, 'userId', 'outer') \\\n",
    "    .join(f_UniqueSongCount, 'userId', 'outer') \\\n",
    "    .join(f_UniqueSongShare, 'userId', 'outer') \\\n",
    "    .join(f_AvgGapTime, 'userId', 'outer') \\\n",
    "    .drop('userId') \\\n",
    "    .fillna(0)"
   ]
  },
  {
   "cell_type": "code",
   "execution_count": 130,
   "metadata": {},
   "outputs": [],
   "source": [
    "# model 3\n",
    "model_data  = labels.join(f_EventCount, 'userId', 'outer') \\\n",
    "    .join(f_AvgSessionCount, 'userId', 'outer') \\\n",
    "    .join(f_RollAdvertCount, 'userId', 'outer') \\\n",
    "    .join(f_SubmitUpgradeCount, 'userId', 'outer') \\\n",
    "    .join(f_ThumbsUpCount, 'userId', 'outer') \\\n",
    "    .join(f_RollAdvertCountPerHour, 'userId', 'outer') \\\n",
    "    .join(f_SubmitUpgradeCountPerHour, 'userId', 'outer') \\\n",
    "    .join(f_ThumbsDownCountPerHour, 'userId', 'outer') \\\n",
    "    .join(f_UpgradeCountPerHour, 'userId', 'outer') \\\n",
    "    .join(f_SettingsCountPerHour, 'userId', 'outer') \\\n",
    "    .join(f_LogoutCountPerHour, 'userId', 'outer') \\\n",
    "    .join(f_SaveSettingsCountPerHour, 'userId', 'outer') \\\n",
    "    .join(f_TotalSongLength, 'userId', 'outer') \\\n",
    "    .join(f_AvgNonSongEventCount, 'userId', 'outer') \\\n",
    "    .join(f_UniqueSongCount, 'userId', 'outer') \\\n",
    "    .join(f_UniqueSongShare, 'userId', 'outer') \\\n",
    "    .drop('userId') \\\n",
    "    .fillna(0)"
   ]
  },
  {
   "cell_type": "markdown",
   "metadata": {},
   "source": [
    "# Modeling\n",
    "Split the full dataset into train, test, and validation sets. Test out several of the machine learning methods you learned. Evaluate the accuracy of the various models, tuning parameters as necessary. Determine your winning model based on test accuracy and report results on the validation set. Since the churned users are a fairly small subset, I suggest using F1 score as the metric to optimize."
   ]
  },
  {
   "cell_type": "code",
   "execution_count": 279,
   "metadata": {},
   "outputs": [],
   "source": [
    "from pyspark.ml.feature import VectorAssembler, Normalizer, StandardScaler, MinMaxScaler\n",
    "from pyspark.ml import Pipeline\n",
    "from pyspark.ml.classification import LogisticRegression, RandomForestClassifier, GBTClassifier, \\\n",
    "    NaiveBayes, DecisionTreeClassifier\n",
    "from pyspark.ml.tuning import CrossValidator, ParamGridBuilder\n",
    "from pyspark.ml.evaluation import MulticlassClassificationEvaluator, BinaryClassificationEvaluator"
   ]
  },
  {
   "cell_type": "code",
   "execution_count": 301,
   "metadata": {},
   "outputs": [],
   "source": [
    "def split_data(data):\n",
    "    train, test = data.randomSplit([0.8, 0.2], seed = 0);\n",
    "    return train, test\n",
    "\n",
    "\n",
    "def create_pipeline(data, classifier, scaler):\n",
    "    features = data.drop('label').columns\n",
    "    assembler = VectorAssembler(inputCols=features, outputCol='NumFeatures')\n",
    "    pipeline = Pipeline(stages=[assembler, scaler, classifier]);\n",
    "\n",
    "    return pipeline\n",
    "\n",
    "\n",
    "def fit_model(name, data, classifier, scaler):\n",
    "    \n",
    "    start_time = time.time()\n",
    "    \n",
    "    print('Model fitting started. Please wait...')\n",
    "\n",
    "    # Split data into train and test subset\n",
    "    train, test = split_data(data)\n",
    "    print('Train|Test data split done.')\n",
    "\n",
    "    # Create pipeline\n",
    "    pipeline = create_pipeline(data, classifier, scaler)\n",
    "    print('Create pipeline done.')\n",
    "\n",
    "    # train model\n",
    "    model = pipeline.fit(train)\n",
    "    print('Training done.')\n",
    "\n",
    "    # metrics\n",
    "    report(name, model, test)\n",
    "\n",
    "    fitting_duration = time.time() - start_time\n",
    "    \n",
    "    print(f'Model fitting done ({int(fitting_duration)} s).')\n",
    "    \n",
    "    return model"
   ]
  },
  {
   "cell_type": "code",
   "execution_count": 271,
   "metadata": {},
   "outputs": [],
   "source": [
    "# source: https://stackoverflow.com/questions/60772315/how-to-evaluate-a-classifier-with-apache-spark-2-4-5-and-pyspark-python\n",
    "def report(name, model, test):\n",
    "\n",
    "    # Create both evaluators\n",
    "    evaluatorMulti = MulticlassClassificationEvaluator(labelCol='label', predictionCol='prediction')\n",
    "    evaluator = BinaryClassificationEvaluator(labelCol='label', rawPredictionCol='prediction', metricName='areaUnderROC')\n",
    "\n",
    "    # Make predicitons\n",
    "    prediction = model.transform(test).select('label', 'prediction')\n",
    "\n",
    "    # Get metrics\n",
    "    acc = evaluatorMulti.evaluate(prediction, {evaluatorMulti.metricName: 'accuracy'})\n",
    "    f1 = evaluatorMulti.evaluate(prediction, {evaluatorMulti.metricName: 'f1'})\n",
    "    weightedPrecision = evaluatorMulti.evaluate(prediction, {evaluatorMulti.metricName: 'weightedPrecision'})\n",
    "    weightedRecall = evaluatorMulti.evaluate(prediction, {evaluatorMulti.metricName: 'weightedRecall'})\n",
    "    auc = evaluator.evaluate(prediction)\n",
    "    \n",
    "    # show\n",
    "    print(f'Metrics - {name}')\n",
    "    print('-------------------------------------------------------')\n",
    "    print(f' - accuracy: {acc}')\n",
    "    print(f' - F1: {f1}')\n",
    "    print(f' - weighted precision: {weightedPrecision}')\n",
    "    print(f' - weighted recall: {weightedRecall}')\n",
    "    print(f' - AUC: {auc}')\n",
    "    print('-------------------------------------------------------')\n",
    "    "
   ]
  },
  {
   "cell_type": "code",
   "execution_count": null,
   "metadata": {},
   "outputs": [],
   "source": []
  },
  {
   "cell_type": "code",
   "execution_count": null,
   "metadata": {},
   "outputs": [],
   "source": []
  },
  {
   "cell_type": "code",
   "execution_count": null,
   "metadata": {},
   "outputs": [],
   "source": []
  },
  {
   "cell_type": "code",
   "execution_count": null,
   "metadata": {},
   "outputs": [],
   "source": []
  },
  {
   "cell_type": "markdown",
   "metadata": {},
   "source": [
    "### Logistic Regression"
   ]
  },
  {
   "cell_type": "code",
   "execution_count": 156,
   "metadata": {},
   "outputs": [
    {
     "name": "stdout",
     "output_type": "stream",
     "text": [
      "Total training time for logistic regression: 501.87249088287354 seconds\n"
     ]
    }
   ],
   "source": [
    "# Fit model\n",
    "start_lr = time.time()\n",
    "model_lr_fitted = pipeline_lr.fit(train);\n",
    "end_lr = time.time()\n",
    "lr_time = end_lr - start_lr\n",
    "\n",
    "print('Total training time for logistic regression: {} seconds'.format(lr_time))"
   ]
  },
  {
   "cell_type": "code",
   "execution_count": 157,
   "metadata": {},
   "outputs": [
    {
     "name": "stdout",
     "output_type": "stream",
     "text": [
      "Logistic Regression - Accuracy: 0.86 Logistic Regression - F1 score: 0.8645800176834659\n"
     ]
    }
   ],
   "source": [
    "# model 7b\n",
    "lr_f1 = eval_model(model_lr_fitted, test,\"f1\")\n",
    "lr_acc = eval_model(model_lr_fitted, test,\"accuracy\")\n",
    "print(f'Accuracy: {lr_acc}\\nF1 score: {lr_f1}'"
   ]
  },
  {
   "cell_type": "code",
   "execution_count": 144,
   "metadata": {},
   "outputs": [
    {
     "name": "stdout",
     "output_type": "stream",
     "text": [
      "Logistic Regression - Accuracy: 0.82 Logistic Regression - F1 score: 0.8348235294117647\n"
     ]
    }
   ],
   "source": [
    "# model 7\n",
    "lr_f1 = eval_model(model_lr_fitted, test,\"f1\")\n",
    "lr_acc = eval_model(model_lr_fitted, test,\"accuracy\")\n",
    "print('Logistic Regression - Accuracy: {}'.format(lr_acc),'Logistic Regression - F1 score: {}'.format(lr_f1))"
   ]
  },
  {
   "cell_type": "code",
   "execution_count": null,
   "metadata": {},
   "outputs": [],
   "source": []
  },
  {
   "cell_type": "code",
   "execution_count": 56,
   "metadata": {},
   "outputs": [
    {
     "name": "stdout",
     "output_type": "stream",
     "text": [
      "Logistic Regression - Accuracy: 0.7166666666666667 Logistic Regression - F1 score: 0.6682596575069694\n"
     ]
    }
   ],
   "source": [
    "# Small model\n",
    "lr_f1 = eval_model(model_lr_fitted, test,\"f1\")\n",
    "lr_acc = eval_model(model_lr_fitted, test,\"accuracy\")\n",
    "print('Logistic Regression - Accuracy: {}'.format(lr_acc),'Logistic Regression - F1 score: {}'.format(lr_f1))"
   ]
  },
  {
   "cell_type": "code",
   "execution_count": 73,
   "metadata": {},
   "outputs": [
    {
     "name": "stdout",
     "output_type": "stream",
     "text": [
      "Logistic Regression - Accuracy: 0.7666666666666667 Logistic Regression - F1 score: 0.7542179662562699\n"
     ]
    }
   ],
   "source": [
    "# Extended model\n",
    "lr_f1 = eval_model(model_lr_fitted, test,\"f1\")\n",
    "lr_acc = eval_model(model_lr_fitted, test,\"accuracy\")\n",
    "print('Logistic Regression - Accuracy: {}'.format(lr_acc),'Logistic Regression - F1 score: {}'.format(lr_f1))"
   ]
  },
  {
   "cell_type": "code",
   "execution_count": 107,
   "metadata": {},
   "outputs": [
    {
     "name": "stdout",
     "output_type": "stream",
     "text": [
      "Logistic Regression - Accuracy: 0.6935483870967742 Logistic Regression - F1 score: 0.6575340563509366\n"
     ]
    }
   ],
   "source": [
    "# model 2\n",
    "lr_f1 = eval_model(model_lr_fitted, test,\"f1\")\n",
    "lr_acc = eval_model(model_lr_fitted, test,\"accuracy\")\n",
    "print('Logistic Regression - Accuracy: {}'.format(lr_acc),'Logistic Regression - F1 score: {}'.format(lr_f1))"
   ]
  },
  {
   "cell_type": "code",
   "execution_count": 119,
   "metadata": {},
   "outputs": [
    {
     "name": "stdout",
     "output_type": "stream",
     "text": [
      "Logistic Regression - Accuracy: 0.6935483870967742 Logistic Regression - F1 score: 0.6412688470314528\n"
     ]
    }
   ],
   "source": [
    "# model 3\n",
    "lr_f1 = eval_model(model_lr_fitted, test,\"f1\")\n",
    "lr_acc = eval_model(model_lr_fitted, test,\"accuracy\")\n",
    "print('Logistic Regression - Accuracy: {}'.format(lr_acc),'Logistic Regression - F1 score: {}'.format(lr_f1))"
   ]
  },
  {
   "cell_type": "code",
   "execution_count": 137,
   "metadata": {},
   "outputs": [
    {
     "name": "stdout",
     "output_type": "stream",
     "text": [
      "Logistic Regression - Accuracy: 0.8709677419354839 Logistic Regression - F1 score: 0.8525674199298487\n"
     ]
    }
   ],
   "source": [
    "# model 4 (with session gap)\n",
    "lr_f1 = eval_model(model_lr_fitted, test,\"f1\")\n",
    "lr_acc = eval_model(model_lr_fitted, test,\"accuracy\")\n",
    "print('Logistic Regression - Accuracy: {}'.format(lr_acc),'Logistic Regression - F1 score: {}'.format(lr_f1))"
   ]
  },
  {
   "cell_type": "code",
   "execution_count": 155,
   "metadata": {},
   "outputs": [
    {
     "name": "stdout",
     "output_type": "stream",
     "text": [
      "Logistic Regression - Accuracy: 0.8387096774193549 Logistic Regression - F1 score: 0.8295943687648757\n"
     ]
    }
   ],
   "source": [
    "# model 5\n",
    "lr_f1 = eval_model(model_lr_fitted, test,\"f1\")\n",
    "\n",
    "lr_acc = eval_model(model_lr_fitted, test,\"accuracy\")\n",
    "print('Logistic Regression - Accuracy: {}'.format(lr_acc),'Logistic Regression - F1 score: {}'.format(lr_f1))"
   ]
  },
  {
   "cell_type": "code",
   "execution_count": 168,
   "metadata": {},
   "outputs": [
    {
     "name": "stdout",
     "output_type": "stream",
     "text": [
      "Logistic Regression - Accuracy: 0.8548387096774194 Logistic Regression - F1 score: 0.8300747170148985\n"
     ]
    }
   ],
   "source": [
    "# model 6\n",
    "lr_f1 = eval_model(model_lr_fitted, test,\"f1\")\n",
    "lr_acc = eval_model(model_lr_fitted, test,\"accuracy\")\n",
    "print('Logistic Regression - Accuracy: {}'.format(lr_acc),'Logistic Regression - F1 score: {}'.format(lr_f1))"
   ]
  },
  {
   "cell_type": "code",
   "execution_count": 183,
   "metadata": {},
   "outputs": [
    {
     "name": "stdout",
     "output_type": "stream",
     "text": [
      "Logistic Regression - Accuracy: 0.8548387096774194 Logistic Regression - F1 score: 0.8300747170148985\n"
     ]
    }
   ],
   "source": [
    "# model 6 - churn #1\n",
    "lr_f1 = eval_model(model_lr_fitted, test,\"f1\")\n",
    "lr_acc = eval_model(model_lr_fitted, test,\"accuracy\")\n",
    "print('Logistic Regression - Accuracy: {}'.format(lr_acc),'Logistic Regression - F1 score: {}'.format(lr_f1))"
   ]
  },
  {
   "cell_type": "code",
   "execution_count": 190,
   "metadata": {},
   "outputs": [
    {
     "name": "stdout",
     "output_type": "stream",
     "text": [
      "Logistic Regression - Accuracy: 0.86 Logistic Regression - F1 score: 0.8645800176834659\n"
     ]
    }
   ],
   "source": [
    "# model 6 - churn #1 (seed=0)\n",
    "lr_f1 = eval_model(model_lr_fitted, test,\"f1\")\n",
    "lr_acc = eval_model(model_lr_fitted, test,\"accuracy\")\n",
    "print('Logistic Regression - Accuracy: {}'.format(lr_acc),'Logistic Regression - F1 score: {}'.format(lr_f1))"
   ]
  },
  {
   "cell_type": "markdown",
   "metadata": {
    "collapsed": true
   },
   "source": [
    "## Random Forest"
   ]
  },
  {
   "cell_type": "code",
   "execution_count": 292,
   "metadata": {},
   "outputs": [],
   "source": [
    "# best rf features (churn #1, seed 0)\n",
    "data_rfc = labels.join(f_Gender, 'userId', 'outer') \\\n",
    "    .join(f_LastLevel, 'userId', 'outer') \\\n",
    "    .join(f_LogCount, 'userId', 'outer') \\\n",
    "    .join(f_SongCount, 'userId', 'outer') \\\n",
    "    .join(f_NonSongCount, 'userId', 'outer') \\\n",
    "    .join(f_AboutCount, 'userId', 'outer') \\\n",
    "    .join(f_ThumbsUpCount, 'userId', 'outer') \\\n",
    "    .join(f_RollAdvertCount, 'userId', 'outer') \\\n",
    "    .join(f_SessionCount, 'userId', 'outer') \\\n",
    "    .join(f_AvgSessionLength, 'userId', 'outer') \\\n",
    "    .join(f_AvgSessionGap, 'userId', 'outer') \\\n",
    "    .join(f_DowngradePerSessionHour, 'userId', 'outer') \\\n",
    "    .join(f_ErrorPerSessionHour, 'userId', 'outer') \\\n",
    "    .join(f_SettingsPerSessionHour, 'userId', 'outer') \\\n",
    "    .join(f_SaveSettingsPerSessionHour, 'userId', 'outer') \\\n",
    "    .join(f_LogoutPerSessionHour, 'userId', 'outer') \\\n",
    "    .join(f_SubmitDowngradePerSessionHour, 'userId', 'outer') \\\n",
    "    .join(f_RollAdvertPerHour, 'userId', 'outer') \\\n",
    "    .join(f_ThumbsDownPerHour, 'userId', 'outer') \\\n",
    "    .join(f_UpgradePerHour, 'userId', 'outer') \\\n",
    "    .join(f_SubmitUpgradePerHour, 'userId', 'outer') \\\n",
    "    .join(f_SessionsPerDay, 'userId', 'outer') \\\n",
    "    .join(f_AddFriendPerDay, 'userId', 'outer') \\\n",
    "    .join(f_RollAdvertPerDay, 'userId', 'outer') \\\n",
    "    .join(f_ThumbsDownPerDay, 'userId', 'outer') \\\n",
    "    .join(f_ThumbsUpPerDay, 'userId', 'outer') \\\n",
    "    .join(f_TotalSongLength, 'userId', 'outer') \\\n",
    "    .join(f_UniqueSongCount, 'userId', 'outer') \\\n",
    "    .join(f_UniqueSongShare, 'userId', 'outer') \\\n",
    "    .drop('userId') \\\n",
    "    .fillna(0)"
   ]
  },
  {
   "cell_type": "markdown",
   "metadata": {},
   "source": [
    "### Model fitting by default parameters"
   ]
  },
  {
   "cell_type": "markdown",
   "metadata": {},
   "source": [
    "##### Standard Scaler"
   ]
  },
  {
   "cell_type": "code",
   "execution_count": 272,
   "metadata": {},
   "outputs": [
    {
     "name": "stdout",
     "output_type": "stream",
     "text": [
      "[Standard Scaler]\n",
      "\n",
      "Model fitting started. Please wait...\n",
      "Train|Test data split done.\n",
      "Create pipeline done.\n",
      "Training done.\n",
      "Metrics - Random Forest\n",
      "-------------------------------------------------------\n",
      " - accuracy: 0.92\n",
      " - F1: 0.912888888888889\n",
      " - weighted precision: 0.9126086956521738\n",
      " - weighted recall: 0.9199999999999999\n",
      " - AUC: 0.7386363636363636\n",
      "-------------------------------------------------------\n",
      "Model fitting done (1486 s).\n"
     ]
    }
   ],
   "source": [
    "scaler = StandardScaler(inputCol=\"NumFeatures\", outputCol=\"features\")\n",
    "classifier = RandomForestClassifier(seed=0)\n",
    "model_rfc_standard = fit_model('Random Forest (Standard Scaler)', data_rfc, classifier, scaler)"
   ]
  },
  {
   "cell_type": "markdown",
   "metadata": {},
   "source": [
    "##### MinMax Scaler"
   ]
  },
  {
   "cell_type": "code",
   "execution_count": 274,
   "metadata": {},
   "outputs": [
    {
     "name": "stdout",
     "output_type": "stream",
     "text": [
      "Model fitting started. Please wait...\n",
      "Train|Test data split done.\n",
      "Create pipeline done.\n",
      "Training done.\n",
      "Metrics - Random Forest (MinMax Scaler)\n",
      "-------------------------------------------------------\n",
      " - accuracy: 0.92\n",
      " - F1: 0.912888888888889\n",
      " - weighted precision: 0.9126086956521738\n",
      " - weighted recall: 0.9199999999999999\n",
      " - AUC: 0.7386363636363636\n",
      "-------------------------------------------------------\n",
      "Model fitting done (1536 s).\n"
     ]
    }
   ],
   "source": [
    "scaler = MinMaxScaler(inputCol=\"NumFeatures\", outputCol=\"features\")\n",
    "classifier = RandomForestClassifier(seed=0)\n",
    "model_rfc_minmax = fit_model('Random Forest (MinMax Scaler)', data_rfc, classifier, scaler)"
   ]
  },
  {
   "cell_type": "code",
   "execution_count": 280,
   "metadata": {},
   "outputs": [
    {
     "data": {
      "text/html": [
       "<div>\n",
       "<style scoped>\n",
       "    .dataframe tbody tr th:only-of-type {\n",
       "        vertical-align: middle;\n",
       "    }\n",
       "\n",
       "    .dataframe tbody tr th {\n",
       "        vertical-align: top;\n",
       "    }\n",
       "\n",
       "    .dataframe thead th {\n",
       "        text-align: right;\n",
       "    }\n",
       "</style>\n",
       "<table border=\"1\" class=\"dataframe\">\n",
       "  <thead>\n",
       "    <tr style=\"text-align: right;\">\n",
       "      <th></th>\n",
       "      <th>Feature</th>\n",
       "      <th>FeatureImportances</th>\n",
       "    </tr>\n",
       "  </thead>\n",
       "  <tbody>\n",
       "    <tr>\n",
       "      <th>10</th>\n",
       "      <td>AvgSessionGap</td>\n",
       "      <td>0.202037</td>\n",
       "    </tr>\n",
       "    <tr>\n",
       "      <th>18</th>\n",
       "      <td>ThumbsDownPerHour</td>\n",
       "      <td>0.084404</td>\n",
       "    </tr>\n",
       "    <tr>\n",
       "      <th>21</th>\n",
       "      <td>SessionsPerDay</td>\n",
       "      <td>0.082781</td>\n",
       "    </tr>\n",
       "    <tr>\n",
       "      <th>17</th>\n",
       "      <td>RollAdvertPerHour</td>\n",
       "      <td>0.063480</td>\n",
       "    </tr>\n",
       "    <tr>\n",
       "      <th>24</th>\n",
       "      <td>ThumbsDownPerDay</td>\n",
       "      <td>0.041387</td>\n",
       "    </tr>\n",
       "    <tr>\n",
       "      <th>23</th>\n",
       "      <td>RollAdvertPerDay</td>\n",
       "      <td>0.034505</td>\n",
       "    </tr>\n",
       "    <tr>\n",
       "      <th>13</th>\n",
       "      <td>SettingsPerSessionHour</td>\n",
       "      <td>0.032447</td>\n",
       "    </tr>\n",
       "    <tr>\n",
       "      <th>25</th>\n",
       "      <td>ThumbsUpPerDay</td>\n",
       "      <td>0.031034</td>\n",
       "    </tr>\n",
       "    <tr>\n",
       "      <th>11</th>\n",
       "      <td>DowngradePerSessionHour</td>\n",
       "      <td>0.030941</td>\n",
       "    </tr>\n",
       "    <tr>\n",
       "      <th>22</th>\n",
       "      <td>AddFriendPerDay</td>\n",
       "      <td>0.030402</td>\n",
       "    </tr>\n",
       "    <tr>\n",
       "      <th>7</th>\n",
       "      <td>RollAdvertCount</td>\n",
       "      <td>0.030296</td>\n",
       "    </tr>\n",
       "    <tr>\n",
       "      <th>4</th>\n",
       "      <td>NonSongCount</td>\n",
       "      <td>0.029618</td>\n",
       "    </tr>\n",
       "    <tr>\n",
       "      <th>6</th>\n",
       "      <td>ThumbsUpCount</td>\n",
       "      <td>0.028361</td>\n",
       "    </tr>\n",
       "    <tr>\n",
       "      <th>15</th>\n",
       "      <td>LogoutPerSessionHour</td>\n",
       "      <td>0.027236</td>\n",
       "    </tr>\n",
       "    <tr>\n",
       "      <th>8</th>\n",
       "      <td>SessionCount</td>\n",
       "      <td>0.026966</td>\n",
       "    </tr>\n",
       "    <tr>\n",
       "      <th>9</th>\n",
       "      <td>AvgSessionLength</td>\n",
       "      <td>0.026664</td>\n",
       "    </tr>\n",
       "    <tr>\n",
       "      <th>2</th>\n",
       "      <td>LogCount</td>\n",
       "      <td>0.024631</td>\n",
       "    </tr>\n",
       "    <tr>\n",
       "      <th>27</th>\n",
       "      <td>UniqueSongCount</td>\n",
       "      <td>0.022126</td>\n",
       "    </tr>\n",
       "    <tr>\n",
       "      <th>28</th>\n",
       "      <td>UniqueSongShare</td>\n",
       "      <td>0.021734</td>\n",
       "    </tr>\n",
       "    <tr>\n",
       "      <th>14</th>\n",
       "      <td>SaveSettingsPerSessionHour</td>\n",
       "      <td>0.020591</td>\n",
       "    </tr>\n",
       "    <tr>\n",
       "      <th>19</th>\n",
       "      <td>UpgradePerHour</td>\n",
       "      <td>0.017829</td>\n",
       "    </tr>\n",
       "    <tr>\n",
       "      <th>26</th>\n",
       "      <td>TotalSongLength</td>\n",
       "      <td>0.017418</td>\n",
       "    </tr>\n",
       "    <tr>\n",
       "      <th>5</th>\n",
       "      <td>AboutCount</td>\n",
       "      <td>0.016870</td>\n",
       "    </tr>\n",
       "    <tr>\n",
       "      <th>12</th>\n",
       "      <td>ErrorPerSessionHour</td>\n",
       "      <td>0.013645</td>\n",
       "    </tr>\n",
       "    <tr>\n",
       "      <th>3</th>\n",
       "      <td>SongCount</td>\n",
       "      <td>0.012109</td>\n",
       "    </tr>\n",
       "    <tr>\n",
       "      <th>20</th>\n",
       "      <td>SubmitUpgradePerHour</td>\n",
       "      <td>0.010162</td>\n",
       "    </tr>\n",
       "    <tr>\n",
       "      <th>0</th>\n",
       "      <td>Gender</td>\n",
       "      <td>0.010140</td>\n",
       "    </tr>\n",
       "    <tr>\n",
       "      <th>16</th>\n",
       "      <td>SubmitDowngradePerSessionHour</td>\n",
       "      <td>0.008038</td>\n",
       "    </tr>\n",
       "    <tr>\n",
       "      <th>1</th>\n",
       "      <td>LastLevel</td>\n",
       "      <td>0.002149</td>\n",
       "    </tr>\n",
       "  </tbody>\n",
       "</table>\n",
       "</div>"
      ],
      "text/plain": [
       "                          Feature  FeatureImportances\n",
       "10                  AvgSessionGap            0.202037\n",
       "18              ThumbsDownPerHour            0.084404\n",
       "21                 SessionsPerDay            0.082781\n",
       "17              RollAdvertPerHour            0.063480\n",
       "24               ThumbsDownPerDay            0.041387\n",
       "23               RollAdvertPerDay            0.034505\n",
       "13         SettingsPerSessionHour            0.032447\n",
       "25                 ThumbsUpPerDay            0.031034\n",
       "11        DowngradePerSessionHour            0.030941\n",
       "22                AddFriendPerDay            0.030402\n",
       "7                 RollAdvertCount            0.030296\n",
       "4                    NonSongCount            0.029618\n",
       "6                   ThumbsUpCount            0.028361\n",
       "15           LogoutPerSessionHour            0.027236\n",
       "8                    SessionCount            0.026966\n",
       "9                AvgSessionLength            0.026664\n",
       "2                        LogCount            0.024631\n",
       "27                UniqueSongCount            0.022126\n",
       "28                UniqueSongShare            0.021734\n",
       "14     SaveSettingsPerSessionHour            0.020591\n",
       "19                 UpgradePerHour            0.017829\n",
       "26                TotalSongLength            0.017418\n",
       "5                      AboutCount            0.016870\n",
       "12            ErrorPerSessionHour            0.013645\n",
       "3                       SongCount            0.012109\n",
       "20           SubmitUpgradePerHour            0.010162\n",
       "0                          Gender            0.010140\n",
       "16  SubmitDowngradePerSessionHour            0.008038\n",
       "1                       LastLevel            0.002149"
      ]
     },
     "execution_count": 280,
     "metadata": {},
     "output_type": "execute_result"
    }
   ],
   "source": [
    "feature_coeff_rfc = model_rfc_minmax.stages[-1].featureImportances\n",
    "feature_importances_rfc = pd.DataFrame(list(zip(features, feature_coeff_rf)), columns=['Feature', 'FeatureImportances']) \\\n",
    "    .sort_values('FeatureImportances', ascending=False)\n",
    "feature_importances_rfc"
   ]
  },
  {
   "cell_type": "markdown",
   "metadata": {},
   "source": [
    "### Cross-Validation"
   ]
  },
  {
   "cell_type": "code",
   "execution_count": 294,
   "metadata": {},
   "outputs": [
    {
     "name": "stdout",
     "output_type": "stream",
     "text": [
      "Cross validation started. Please wait...\n",
      "Cross validation done (1739 s).\n",
      "\n",
      "Cross validation parameters ordered by score, descending:\n"
     ]
    },
    {
     "data": {
      "text/html": [
       "<div>\n",
       "<style scoped>\n",
       "    .dataframe tbody tr th:only-of-type {\n",
       "        vertical-align: middle;\n",
       "    }\n",
       "\n",
       "    .dataframe tbody tr th {\n",
       "        vertical-align: top;\n",
       "    }\n",
       "\n",
       "    .dataframe thead th {\n",
       "        text-align: right;\n",
       "    }\n",
       "</style>\n",
       "<table border=\"1\" class=\"dataframe\">\n",
       "  <thead>\n",
       "    <tr style=\"text-align: right;\">\n",
       "      <th></th>\n",
       "      <th>maxDepth</th>\n",
       "      <th>numTrees</th>\n",
       "      <th>score</th>\n",
       "    </tr>\n",
       "  </thead>\n",
       "  <tbody>\n",
       "    <tr>\n",
       "      <th>7</th>\n",
       "      <td>6</td>\n",
       "      <td>20</td>\n",
       "      <td>0.759634</td>\n",
       "    </tr>\n",
       "    <tr>\n",
       "      <th>2</th>\n",
       "      <td>4</td>\n",
       "      <td>50</td>\n",
       "      <td>0.758248</td>\n",
       "    </tr>\n",
       "    <tr>\n",
       "      <th>8</th>\n",
       "      <td>6</td>\n",
       "      <td>50</td>\n",
       "      <td>0.756516</td>\n",
       "    </tr>\n",
       "    <tr>\n",
       "      <th>3</th>\n",
       "      <td>5</td>\n",
       "      <td>10</td>\n",
       "      <td>0.754577</td>\n",
       "    </tr>\n",
       "    <tr>\n",
       "      <th>4</th>\n",
       "      <td>5</td>\n",
       "      <td>20</td>\n",
       "      <td>0.752732</td>\n",
       "    </tr>\n",
       "    <tr>\n",
       "      <th>5</th>\n",
       "      <td>5</td>\n",
       "      <td>50</td>\n",
       "      <td>0.748812</td>\n",
       "    </tr>\n",
       "    <tr>\n",
       "      <th>6</th>\n",
       "      <td>6</td>\n",
       "      <td>10</td>\n",
       "      <td>0.745256</td>\n",
       "    </tr>\n",
       "    <tr>\n",
       "      <th>0</th>\n",
       "      <td>4</td>\n",
       "      <td>10</td>\n",
       "      <td>0.725191</td>\n",
       "    </tr>\n",
       "    <tr>\n",
       "      <th>1</th>\n",
       "      <td>4</td>\n",
       "      <td>20</td>\n",
       "      <td>0.722808</td>\n",
       "    </tr>\n",
       "  </tbody>\n",
       "</table>\n",
       "</div>"
      ],
      "text/plain": [
       "   maxDepth  numTrees     score\n",
       "7         6        20  0.759634\n",
       "2         4        50  0.758248\n",
       "8         6        50  0.756516\n",
       "3         5        10  0.754577\n",
       "4         5        20  0.752732\n",
       "5         5        50  0.748812\n",
       "6         6        10  0.745256\n",
       "0         4        10  0.725191\n",
       "1         4        20  0.722808"
      ]
     },
     "execution_count": 294,
     "metadata": {},
     "output_type": "execute_result"
    }
   ],
   "source": [
    "print('Cross validation started. Please wait...')\n",
    "\n",
    "# Create classifier\n",
    "rfc = RandomForestClassifier(seed=0)\n",
    "\n",
    "# Create pipeline\n",
    "scaler = StandardScaler(inputCol=\"NumFeatures\", outputCol=\"features\")\n",
    "pipeline = create_pipeline(data_rfc, rfc, scaler)\n",
    "\n",
    "# Define params\n",
    "paramGrid_rfc = ParamGridBuilder() \\\n",
    "    .addGrid(rfc.maxDepth, [4, 5, 6]) \\\n",
    "    .addGrid(rfc.numTrees, [10, 20, 50]) \\\n",
    "    .build()\n",
    "\n",
    "# Create cross validator\n",
    "crossval_rfc = CrossValidator(estimator = pipeline,\n",
    "                              estimatorParamMaps = paramGrid_rfc,\n",
    "                              evaluator = MulticlassClassificationEvaluator(),\n",
    "                              numFolds = 2)\n",
    "\n",
    "# Fit model\n",
    "start_time = time.time()\n",
    "crossval_model_rfc = crossval_rfc.fit(train)\n",
    "duration = time.time() - start_time\n",
    "\n",
    "print(f'Cross validation done ({int(duration)} s).')\n",
    "\n",
    "# Show best params\n",
    "print('\\nCross validation parameters ordered by score, descending:')\n",
    "scores = crossval_model_rfc.avgMetrics\n",
    "params = [{p.name: v for p, v in m.items()} for m in crossval_model_rfc.getEstimatorParamMaps()]\n",
    "params_df = pd.DataFrame(params)\n",
    "params_df['score'] = scores\n",
    "params_df.sort_values(by='score', ascending=False)"
   ]
  },
  {
   "cell_type": "code",
   "execution_count": 297,
   "metadata": {
    "scrolled": true
   },
   "outputs": [
    {
     "name": "stdout",
     "output_type": "stream",
     "text": [
      "Model fitting started. Please wait...\n",
      "Train|Test data split done.\n",
      "Create pipeline done.\n",
      "Training done.\n",
      "Metrics - Random Forest (Cross-Validation Best)\n",
      "-------------------------------------------------------\n",
      " - accuracy: 0.92\n",
      " - F1: 0.912888888888889\n",
      " - weighted precision: 0.9126086956521738\n",
      " - weighted recall: 0.9199999999999999\n",
      " - AUC: 0.7386363636363636\n",
      "-------------------------------------------------------\n",
      "Model fitting done (1456 s).\n"
     ]
    }
   ],
   "source": [
    "scaler = StandardScaler(inputCol=\"NumFeatures\", outputCol=\"features\")\n",
    "classifier = RandomForestClassifier(seed=0, maxDepth=6, numTrees=20)\n",
    "model_rfc_cvbest = fit_model('Random Forest (Cross-Validation Best)', data_rfc, classifier, scaler)"
   ]
  },
  {
   "cell_type": "code",
   "execution_count": 302,
   "metadata": {},
   "outputs": [
    {
     "data": {
      "text/html": [
       "<div>\n",
       "<style scoped>\n",
       "    .dataframe tbody tr th:only-of-type {\n",
       "        vertical-align: middle;\n",
       "    }\n",
       "\n",
       "    .dataframe tbody tr th {\n",
       "        vertical-align: top;\n",
       "    }\n",
       "\n",
       "    .dataframe thead th {\n",
       "        text-align: right;\n",
       "    }\n",
       "</style>\n",
       "<table border=\"1\" class=\"dataframe\">\n",
       "  <thead>\n",
       "    <tr style=\"text-align: right;\">\n",
       "      <th></th>\n",
       "      <th>Feature</th>\n",
       "      <th>FeatureImportances</th>\n",
       "    </tr>\n",
       "  </thead>\n",
       "  <tbody>\n",
       "    <tr>\n",
       "      <th>10</th>\n",
       "      <td>AvgSessionGap</td>\n",
       "      <td>0.213280</td>\n",
       "    </tr>\n",
       "    <tr>\n",
       "      <th>21</th>\n",
       "      <td>SessionsPerDay</td>\n",
       "      <td>0.071358</td>\n",
       "    </tr>\n",
       "    <tr>\n",
       "      <th>18</th>\n",
       "      <td>ThumbsDownPerHour</td>\n",
       "      <td>0.061838</td>\n",
       "    </tr>\n",
       "    <tr>\n",
       "      <th>17</th>\n",
       "      <td>RollAdvertPerHour</td>\n",
       "      <td>0.057433</td>\n",
       "    </tr>\n",
       "    <tr>\n",
       "      <th>8</th>\n",
       "      <td>SessionCount</td>\n",
       "      <td>0.042105</td>\n",
       "    </tr>\n",
       "    <tr>\n",
       "      <th>15</th>\n",
       "      <td>LogoutPerSessionHour</td>\n",
       "      <td>0.041166</td>\n",
       "    </tr>\n",
       "    <tr>\n",
       "      <th>23</th>\n",
       "      <td>RollAdvertPerDay</td>\n",
       "      <td>0.040237</td>\n",
       "    </tr>\n",
       "    <tr>\n",
       "      <th>24</th>\n",
       "      <td>ThumbsDownPerDay</td>\n",
       "      <td>0.037549</td>\n",
       "    </tr>\n",
       "    <tr>\n",
       "      <th>7</th>\n",
       "      <td>RollAdvertCount</td>\n",
       "      <td>0.034767</td>\n",
       "    </tr>\n",
       "    <tr>\n",
       "      <th>22</th>\n",
       "      <td>AddFriendPerDay</td>\n",
       "      <td>0.034394</td>\n",
       "    </tr>\n",
       "    <tr>\n",
       "      <th>25</th>\n",
       "      <td>ThumbsUpPerDay</td>\n",
       "      <td>0.033640</td>\n",
       "    </tr>\n",
       "    <tr>\n",
       "      <th>14</th>\n",
       "      <td>SaveSettingsPerSessionHour</td>\n",
       "      <td>0.032641</td>\n",
       "    </tr>\n",
       "    <tr>\n",
       "      <th>13</th>\n",
       "      <td>SettingsPerSessionHour</td>\n",
       "      <td>0.030865</td>\n",
       "    </tr>\n",
       "    <tr>\n",
       "      <th>26</th>\n",
       "      <td>TotalSongLength</td>\n",
       "      <td>0.026506</td>\n",
       "    </tr>\n",
       "    <tr>\n",
       "      <th>9</th>\n",
       "      <td>AvgSessionLength</td>\n",
       "      <td>0.024468</td>\n",
       "    </tr>\n",
       "    <tr>\n",
       "      <th>5</th>\n",
       "      <td>AboutCount</td>\n",
       "      <td>0.023218</td>\n",
       "    </tr>\n",
       "    <tr>\n",
       "      <th>19</th>\n",
       "      <td>UpgradePerHour</td>\n",
       "      <td>0.023196</td>\n",
       "    </tr>\n",
       "    <tr>\n",
       "      <th>3</th>\n",
       "      <td>SongCount</td>\n",
       "      <td>0.021634</td>\n",
       "    </tr>\n",
       "    <tr>\n",
       "      <th>4</th>\n",
       "      <td>NonSongCount</td>\n",
       "      <td>0.021280</td>\n",
       "    </tr>\n",
       "    <tr>\n",
       "      <th>6</th>\n",
       "      <td>ThumbsUpCount</td>\n",
       "      <td>0.020194</td>\n",
       "    </tr>\n",
       "    <tr>\n",
       "      <th>2</th>\n",
       "      <td>LogCount</td>\n",
       "      <td>0.019038</td>\n",
       "    </tr>\n",
       "    <tr>\n",
       "      <th>12</th>\n",
       "      <td>ErrorPerSessionHour</td>\n",
       "      <td>0.016557</td>\n",
       "    </tr>\n",
       "    <tr>\n",
       "      <th>20</th>\n",
       "      <td>SubmitUpgradePerHour</td>\n",
       "      <td>0.016331</td>\n",
       "    </tr>\n",
       "    <tr>\n",
       "      <th>11</th>\n",
       "      <td>DowngradePerSessionHour</td>\n",
       "      <td>0.015953</td>\n",
       "    </tr>\n",
       "    <tr>\n",
       "      <th>27</th>\n",
       "      <td>UniqueSongCount</td>\n",
       "      <td>0.015452</td>\n",
       "    </tr>\n",
       "    <tr>\n",
       "      <th>28</th>\n",
       "      <td>UniqueSongShare</td>\n",
       "      <td>0.012244</td>\n",
       "    </tr>\n",
       "    <tr>\n",
       "      <th>0</th>\n",
       "      <td>Gender</td>\n",
       "      <td>0.009118</td>\n",
       "    </tr>\n",
       "    <tr>\n",
       "      <th>1</th>\n",
       "      <td>LastLevel</td>\n",
       "      <td>0.002247</td>\n",
       "    </tr>\n",
       "    <tr>\n",
       "      <th>16</th>\n",
       "      <td>SubmitDowngradePerSessionHour</td>\n",
       "      <td>0.001288</td>\n",
       "    </tr>\n",
       "  </tbody>\n",
       "</table>\n",
       "</div>"
      ],
      "text/plain": [
       "                          Feature  FeatureImportances\n",
       "10                  AvgSessionGap            0.213280\n",
       "21                 SessionsPerDay            0.071358\n",
       "18              ThumbsDownPerHour            0.061838\n",
       "17              RollAdvertPerHour            0.057433\n",
       "8                    SessionCount            0.042105\n",
       "15           LogoutPerSessionHour            0.041166\n",
       "23               RollAdvertPerDay            0.040237\n",
       "24               ThumbsDownPerDay            0.037549\n",
       "7                 RollAdvertCount            0.034767\n",
       "22                AddFriendPerDay            0.034394\n",
       "25                 ThumbsUpPerDay            0.033640\n",
       "14     SaveSettingsPerSessionHour            0.032641\n",
       "13         SettingsPerSessionHour            0.030865\n",
       "26                TotalSongLength            0.026506\n",
       "9                AvgSessionLength            0.024468\n",
       "5                      AboutCount            0.023218\n",
       "19                 UpgradePerHour            0.023196\n",
       "3                       SongCount            0.021634\n",
       "4                    NonSongCount            0.021280\n",
       "6                   ThumbsUpCount            0.020194\n",
       "2                        LogCount            0.019038\n",
       "12            ErrorPerSessionHour            0.016557\n",
       "20           SubmitUpgradePerHour            0.016331\n",
       "11        DowngradePerSessionHour            0.015953\n",
       "27                UniqueSongCount            0.015452\n",
       "28                UniqueSongShare            0.012244\n",
       "0                          Gender            0.009118\n",
       "1                       LastLevel            0.002247\n",
       "16  SubmitDowngradePerSessionHour            0.001288"
      ]
     },
     "execution_count": 302,
     "metadata": {},
     "output_type": "execute_result"
    }
   ],
   "source": [
    "feature_coeff_rfc = model_rfc_cvbest.stages[-1].featureImportances\n",
    "feature_importances_rfc = pd.DataFrame(list(zip(features, feature_coeff_rf)), columns=['Feature', 'FeatureImportances']) \\\n",
    "    .sort_values('FeatureImportances', ascending=False)\n",
    "feature_importances_rfc"
   ]
  },
  {
   "cell_type": "code",
   "execution_count": null,
   "metadata": {},
   "outputs": [],
   "source": []
  },
  {
   "cell_type": "code",
   "execution_count": null,
   "metadata": {},
   "outputs": [],
   "source": []
  },
  {
   "cell_type": "code",
   "execution_count": null,
   "metadata": {},
   "outputs": [],
   "source": []
  },
  {
   "cell_type": "code",
   "execution_count": null,
   "metadata": {},
   "outputs": [],
   "source": []
  },
  {
   "cell_type": "code",
   "execution_count": null,
   "metadata": {},
   "outputs": [],
   "source": []
  },
  {
   "cell_type": "code",
   "execution_count": null,
   "metadata": {},
   "outputs": [],
   "source": []
  },
  {
   "cell_type": "code",
   "execution_count": null,
   "metadata": {},
   "outputs": [],
   "source": []
  },
  {
   "cell_type": "code",
   "execution_count": null,
   "metadata": {},
   "outputs": [],
   "source": []
  },
  {
   "cell_type": "code",
   "execution_count": null,
   "metadata": {},
   "outputs": [],
   "source": []
  },
  {
   "cell_type": "code",
   "execution_count": null,
   "metadata": {},
   "outputs": [],
   "source": []
  },
  {
   "cell_type": "markdown",
   "metadata": {},
   "source": [
    "# Final Steps\n",
    "Clean up your code, adding comments and renaming variables to make the code easier to read and maintain. Refer to the Spark Project Overview page and Data Scientist Capstone Project Rubric to make sure you are including all components of the capstone project and meet all expectations. Remember, this includes thorough documentation in a README file in a Github repository, as well as a web app or blog post."
   ]
  },
  {
   "cell_type": "code",
   "execution_count": null,
   "metadata": {
    "collapsed": true
   },
   "outputs": [],
   "source": []
  }
 ],
 "metadata": {
  "kernelspec": {
   "display_name": "Python 3",
   "language": "python",
   "name": "python3"
  },
  "language_info": {
   "codemirror_mode": {
    "name": "ipython",
    "version": 3
   },
   "file_extension": ".py",
   "mimetype": "text/x-python",
   "name": "python",
   "nbconvert_exporter": "python",
   "pygments_lexer": "ipython3",
   "version": "3.6.8"
  }
 },
 "nbformat": 4,
 "nbformat_minor": 2
}
