{
 "cells": [
  {
   "cell_type": "markdown",
   "metadata": {},
   "source": [
    "# Sparkify Project Workspace\n",
    "This workspace contains a tiny subset (128MB) of the full dataset available (12GB). Feel free to use this workspace to build your project, or to explore a smaller subset with Spark before deploying your cluster on the cloud. Instructions for setting up your Spark cluster is included in the last lesson of the Extracurricular Spark Course content.\n",
    "\n",
    "You can follow the steps below to guide your data analysis and model building portion of this project."
   ]
  },
  {
   "cell_type": "code",
   "execution_count": 1,
   "metadata": {},
   "outputs": [],
   "source": [
    "# Import libraries\n",
    "from pyspark.sql.types import *\n",
    "from pyspark.sql import SparkSession\n",
    "from pyspark.sql.functions import isnan, count, when, col, desc, udf, col, sort_array, asc, \\\n",
    "                                  avg, from_unixtime, split, min, max, round, lit, mean\n",
    "from pyspark.sql.functions import sum as Fsum\n",
    "from pyspark.sql.functions import row_number\n",
    "from pyspark.sql.window import Window\n",
    "\n",
    "#from pyspark.sql.types import IntegerType, TimestampType\n",
    "import datetime\n",
    "from pyspark.sql.functions import to_date, year, month, dayofmonth, dayofweek, hour, date_format, substring\n",
    "\n",
    "import numpy as np\n",
    "import pandas as pd\n",
    "import time\n",
    "%matplotlib inline\n",
    "import matplotlib.pyplot as plt\n",
    "import seaborn as sb"
   ]
  },
  {
   "cell_type": "code",
   "execution_count": 2,
   "metadata": {},
   "outputs": [],
   "source": [
    "# Create a Spark session\n",
    "spark = SparkSession \\\n",
    "    .builder \\\n",
    "    .appName(\"Sparkify\") \\\n",
    "    .getOrCreate()"
   ]
  },
  {
   "cell_type": "code",
   "execution_count": 3,
   "metadata": {},
   "outputs": [],
   "source": [
    "# Set time parser policy\n",
    "spark.conf.set(\"spark.sql.legacy.timeParserPolicy\",\"LEGACY\")"
   ]
  },
  {
   "cell_type": "code",
   "execution_count": 5,
   "metadata": {},
   "outputs": [],
   "source": [
    "# Load dataset\n",
    "path = \"data/mini_sparkify_event_data.json\"\n",
    "data = spark.read.json(path)\n",
    "original_count = data.count()"
   ]
  },
  {
   "cell_type": "markdown",
   "metadata": {},
   "source": [
    "### Common Functions"
   ]
  },
  {
   "cell_type": "code",
   "execution_count": 7,
   "metadata": {},
   "outputs": [],
   "source": [
    "# Set plot's figure size\n",
    "def set_plot_size(width, height):\n",
    "    return plt.figure(figsize = [width, height]);\n",
    "\n",
    "def get_user_logs(userId, sessionId=None):\n",
    "    if sessionId == None:\n",
    "        return data.where(data.userId == userId) \\\n",
    "            .select('tsDate', 'userId', 'sessionId', 'itemInSession', 'level', 'page') \\\n",
    "            .sort('tsDate', 'itemInSession')\n",
    "    else:\n",
    "        return data.where((data.userId == userId) & (data.sessionId == sessionId)) \\\n",
    "            .select('tsDate', 'userId', 'sessionId', 'itemInSession', 'level', 'page') \\\n",
    "            .sort('tsDate', 'itemInSession')\n",
    "    \n",
    "def get_users(churn):\n",
    "    return data.where(data.churn == churn).select('userId').dropDuplicates()"
   ]
  },
  {
   "cell_type": "markdown",
   "metadata": {},
   "source": [
    "# Load and prepare Dataset\n",
    "In this workspace, the mini-dataset file is `mini_sparkify_event_data.json`. Load and clean the dataset, checking for invalid or missing data - for example, records without userids or sessionids. "
   ]
  },
  {
   "cell_type": "code",
   "execution_count": 8,
   "metadata": {},
   "outputs": [
    {
     "name": "stdout",
     "output_type": "stream",
     "text": [
      "Churned users who cancelled subscription: 52\n"
     ]
    }
   ],
   "source": [
    "# Remove rows with missing users\n",
    "data = data.where(~((col('userId').isNull()) | (col('userId') == '')))\n",
    "\n",
    "# Exclude non-relevant columns\n",
    "data = data.drop('firstName')\n",
    "data = data.drop('lastName')\n",
    "\n",
    "data = data.withColumn('regDate', (col('registration') / 1000.0).cast(TimestampType()))\n",
    "data = data.withColumn('tsDate', (col('ts') / 1000.0).cast(TimestampType()))\n",
    "data.take(1)\n",
    "\n",
    "data = data.withColumn('city', split(data['location'], ',')[0])\n",
    "data = data.withColumn('state', split(data['location'], ',')[1])\n",
    "data = data.drop('location')\n",
    "\n",
    "# Define churned users using Cancellation Confirmation event (canceled)\n",
    "query_churn_by_cc = data.where(data.page == 'Cancellation Confirmation')\n",
    "print(f'Churned users who cancelled subscription: {query_churn_by_cc.count()}')\n",
    "\n",
    "# Label churned (canceled) users\n",
    "canceled = query_churn_by_cc.select('userId').dropDuplicates().select('userId')\n",
    "canceled_uids = [row.userId for row in canceled.collect()];\n",
    "set_churn = udf(lambda x: 1 if x in canceled_uids else 0, IntegerType())\n",
    "data = data.withColumn('churn', set_churn('userId'))\n",
    "\n",
    "# Add [userRowId] column that assigns a 1-based index to every user's log ordered by [ts]\n",
    "w =  Window.partitionBy(data.userId).orderBy('ts', 'itemInSession')\n",
    "data = data.withColumn('userRowId', row_number().over(w))\n",
    "\n",
    "# Add [userRowDescId] column that assigns a 1-based index to every user's log ordered by [ts] descending.\n",
    "w =  Window.partitionBy(data.userId).orderBy(col('ts').desc(), col('itemInSession').desc())\n",
    "data = data.withColumn('userRowDescId', row_number().over(w))\n",
    "\n",
    "# Add last level column\n",
    "last_levels = dict()\n",
    "for row in data.where(data.userRowDescId == 1).select('userId', 'level').collect():\n",
    "    last_levels[row.userId] = row.level\n",
    "get_level = udf(lambda userId: last_levels[userId])\n",
    "data = data.withColumn('lastLevel', get_level('userId'))"
   ]
  },
  {
   "cell_type": "code",
   "execution_count": 9,
   "metadata": {},
   "outputs": [],
   "source": [
    "users = data.select('churn', 'userId').dropDuplicates()"
   ]
  },
  {
   "cell_type": "code",
   "execution_count": 11,
   "metadata": {},
   "outputs": [
    {
     "data": {
      "text/plain": [
       "52"
      ]
     },
     "execution_count": 11,
     "metadata": {},
     "output_type": "execute_result"
    }
   ],
   "source": [
    "get_users(1).count()"
   ]
  },
  {
   "cell_type": "markdown",
   "metadata": {},
   "source": [
    "# Feature Engineering\n",
    "Once you've familiarized yourself with the data, build out the features you find promising to train your model on. To work with the full dataset, you can follow the following steps.\n",
    "- Write a script to extract the necessary features from the smaller subset of data\n",
    "- Ensure that your script is scalable, using the best practices discussed in Lesson 3\n",
    "- Try your script on the full data set, debugging your script if necessary\n",
    "\n",
    "If you are working in the classroom workspace, you can just extract features based on the small subset of data contained here. Be sure to transfer over this work to the larger dataset when you work on your Spark cluster."
   ]
  },
  {
   "cell_type": "code",
   "execution_count": 362,
   "metadata": {},
   "outputs": [],
   "source": [
    "data_labels = data.select(col('churn').alias('label'), 'userId').dropDuplicates()"
   ]
  },
  {
   "cell_type": "markdown",
   "metadata": {},
   "source": [
    "### User Attribute Features"
   ]
  },
  {
   "cell_type": "code",
   "execution_count": 99,
   "metadata": {},
   "outputs": [],
   "source": [
    "f_Gender = data \\\n",
    "    .select('userId', 'gender') \\\n",
    "    .dropDuplicates() \\\n",
    "    .replace(['M', 'F'], ['0', '1'], 'gender') \\\n",
    "    .select('userId', col('gender').cast('int').alias('Gender'))"
   ]
  },
  {
   "cell_type": "code",
   "execution_count": 100,
   "metadata": {},
   "outputs": [],
   "source": [
    "f_LastLevel = data \\\n",
    "    .select('userId', 'lastLevel') \\\n",
    "    .dropDuplicates() \\\n",
    "    .replace(['free', 'paid'], ['0', '1'], 'lastLevel') \\\n",
    "    .select('userId', col('lastLevel').cast('int').alias('LastLevel'))"
   ]
  },
  {
   "cell_type": "markdown",
   "metadata": {},
   "source": [
    "### Per Log Features"
   ]
  },
  {
   "cell_type": "code",
   "execution_count": 101,
   "metadata": {},
   "outputs": [],
   "source": [
    "def page_count(page):\n",
    "    return data \\\n",
    "        .where(data.page == page) \\\n",
    "        .groupby('userId') \\\n",
    "        .agg(count('userId').alias('count')) \\\n",
    "        .select('userId', col('count').alias(page.replace(' ', '') + 'Count'))"
   ]
  },
  {
   "cell_type": "code",
   "execution_count": 102,
   "metadata": {},
   "outputs": [],
   "source": [
    "f_LogCount = data \\\n",
    "    .groupby('userId') \\\n",
    "    .agg(count('userId').alias('LogCount'))"
   ]
  },
  {
   "cell_type": "code",
   "execution_count": 103,
   "metadata": {},
   "outputs": [],
   "source": [
    "f_SongCount = data \\\n",
    "    .where(data.page == 'NextSong') \\\n",
    "    .groupby('userId') \\\n",
    "    .agg(count('userId').alias('SongCount'))"
   ]
  },
  {
   "cell_type": "code",
   "execution_count": 104,
   "metadata": {},
   "outputs": [],
   "source": [
    "f_NonSongCount = data \\\n",
    "    .where(data.page != 'NextSong') \\\n",
    "    .groupby('userId') \\\n",
    "    .agg(count('userId').alias('NonSongCount'))"
   ]
  },
  {
   "cell_type": "code",
   "execution_count": 105,
   "metadata": {},
   "outputs": [],
   "source": [
    "f_AboutCount = page_count('About')"
   ]
  },
  {
   "cell_type": "code",
   "execution_count": 106,
   "metadata": {},
   "outputs": [],
   "source": [
    "f_ThumbsUpCount = page_count('Thumbs Up')"
   ]
  },
  {
   "cell_type": "code",
   "execution_count": 107,
   "metadata": {},
   "outputs": [],
   "source": [
    "f_RollAdvertCount = page_count('Roll Advert')"
   ]
  },
  {
   "cell_type": "markdown",
   "metadata": {},
   "source": [
    "### Per Session Features"
   ]
  },
  {
   "cell_type": "code",
   "execution_count": 108,
   "metadata": {},
   "outputs": [],
   "source": [
    "page_data = data.where(~data.page.isin(['Cancel', 'Cancellation Confirmation'])) \\\n",
    "    .select('page', 'userId', 'sessionId', 'ts')"
   ]
  },
  {
   "cell_type": "code",
   "execution_count": 109,
   "metadata": {},
   "outputs": [],
   "source": [
    "# Average page count per session hour\n",
    "session_hours = page_data \\\n",
    "    .groupby('userId', 'sessionId') \\\n",
    "    .agg(((max('ts') - min('ts'))/1000/3600).alias('sessionHours'))\n",
    "\n",
    "def page_session_hour(page):\n",
    "    return page_data \\\n",
    "        .where(data.page == page) \\\n",
    "        .join(session_hours, ['userId', 'sessionId'], 'inner') \\\n",
    "        .groupby( 'userId', 'sessionId', 'sessionHours') \\\n",
    "        .agg((count('userId')/col('sessionHours')).alias('avgPerSession')) \\\n",
    "        .groupby('userId') \\\n",
    "        .agg(avg('avgPerSession').alias('avg')) \\\n",
    "        .select('userId', col('avg').alias(page.replace(' ', '') + 'PerSessionHour'))"
   ]
  },
  {
   "cell_type": "code",
   "execution_count": 110,
   "metadata": {},
   "outputs": [],
   "source": [
    "# Average page count per hour\n",
    "user_hours = page_data \\\n",
    "    .groupby('userId', 'sessionId') \\\n",
    "    .agg(((max('ts') - min('ts'))/1000/3600).alias('sessionHours')) \\\n",
    "    .groupby('userId') \\\n",
    "    .agg(Fsum('sessionHours').alias('hours'))\n",
    "\n",
    "def page_hour(page):\n",
    "    return page_data \\\n",
    "        .where(data.page == page) \\\n",
    "        .join(user_hours, 'userId', 'inner') \\\n",
    "        .groupby('userId', 'hours') \\\n",
    "        .agg((count('userId')/col('hours')).alias('avg')) \\\n",
    "        .select('userId', col('avg').alias(page.replace(' ', '') + 'PerHour'))"
   ]
  },
  {
   "cell_type": "code",
   "execution_count": 111,
   "metadata": {},
   "outputs": [],
   "source": [
    "f_SessionCount = data \\\n",
    "    .select('userId', 'sessionId') \\\n",
    "    .dropDuplicates() \\\n",
    "    .groupby('userId') \\\n",
    "    .agg(count('userId').alias('SessionCount'))"
   ]
  },
  {
   "cell_type": "code",
   "execution_count": 112,
   "metadata": {},
   "outputs": [],
   "source": [
    "f_AvgSessionLength = data \\\n",
    "    .groupby('userId', 'sessionId') \\\n",
    "    .agg(((max('ts') - min('ts'))/1000).alias('sessionLength')) \\\n",
    "    .groupby('userId') \\\n",
    "    .agg(avg('sessionLength').alias('AvgSessionLength')) \\"
   ]
  },
  {
   "cell_type": "code",
   "execution_count": 113,
   "metadata": {},
   "outputs": [],
   "source": [
    "# Session gap\n",
    "users = data.select('userId').dropDuplicates()\n",
    "\n",
    "f_AvgSessionGap = data \\\n",
    "    .groupby('userId', 'sessionId') \\\n",
    "    .agg(min('ts').alias('startTime'), max('ts').alias('endTime')) \\\n",
    "    .groupby('userId') \\\n",
    "    .agg(count('userId').alias('sessionCount'), \\\n",
    "        ((max('endTime') - min('startTime'))/1000).alias('observationPeriodTime'), \\\n",
    "        (Fsum(col('endTime') - col('startTime'))/1000).alias('totalSessionTime')) \\\n",
    "    .where(col('sessionCount') > 1) \\\n",
    "    .join(users, 'userId', 'outer') \\\n",
    "    .fillna(0) \\\n",
    "    .select('userId', \\\n",
    "            (col('observationPeriodTime') - col('totalSessionTime')/(col('sessionCount') - 1)).alias('AvgSessionGap'))"
   ]
  },
  {
   "cell_type": "code",
   "execution_count": 114,
   "metadata": {},
   "outputs": [],
   "source": [
    "f_DowngradePerSessionHour = page_session_hour('Downgrade')"
   ]
  },
  {
   "cell_type": "code",
   "execution_count": 115,
   "metadata": {},
   "outputs": [],
   "source": [
    "f_ErrorPerSessionHour = page_session_hour('Error')"
   ]
  },
  {
   "cell_type": "code",
   "execution_count": 116,
   "metadata": {},
   "outputs": [],
   "source": [
    "f_SettingsPerSessionHour = page_session_hour('Settings')"
   ]
  },
  {
   "cell_type": "code",
   "execution_count": 117,
   "metadata": {},
   "outputs": [],
   "source": [
    "f_SaveSettingsPerSessionHour = page_session_hour('Save Settings')"
   ]
  },
  {
   "cell_type": "code",
   "execution_count": 118,
   "metadata": {},
   "outputs": [],
   "source": [
    "f_LogoutPerSessionHour = page_session_hour('Logout')"
   ]
  },
  {
   "cell_type": "code",
   "execution_count": 119,
   "metadata": {},
   "outputs": [],
   "source": [
    "f_SubmitDowngradePerSessionHour = page_session_hour('Submit Downgrade')"
   ]
  },
  {
   "cell_type": "markdown",
   "metadata": {},
   "source": [
    "### Per Hour Features"
   ]
  },
  {
   "cell_type": "code",
   "execution_count": 120,
   "metadata": {},
   "outputs": [],
   "source": [
    "f_RollAdvertPerHour = page_hour('Roll Advert')"
   ]
  },
  {
   "cell_type": "code",
   "execution_count": 121,
   "metadata": {},
   "outputs": [],
   "source": [
    "f_ThumbsDownPerHour = page_hour('Thumbs Down')"
   ]
  },
  {
   "cell_type": "code",
   "execution_count": 122,
   "metadata": {},
   "outputs": [],
   "source": [
    "f_UpgradePerHour = page_hour('Upgrade')"
   ]
  },
  {
   "cell_type": "code",
   "execution_count": 123,
   "metadata": {},
   "outputs": [],
   "source": [
    "f_SubmitUpgradePerHour = page_hour('Submit Upgrade')"
   ]
  },
  {
   "cell_type": "markdown",
   "metadata": {},
   "source": [
    "### Per Day Features"
   ]
  },
  {
   "cell_type": "code",
   "execution_count": 124,
   "metadata": {},
   "outputs": [],
   "source": [
    "# Average page count per day\n",
    "page_data = data \\\n",
    "    .where(~data.page.isin(['Cancel', 'Cancellation Confirmation'])) \\\n",
    "    .select('userId', 'page', 'date')\n",
    "\n",
    "def page_day(page):\n",
    "    return page_data \\\n",
    "        .where(data.page == page) \\\n",
    "        .groupby('userId', 'date') \\\n",
    "        .count() \\\n",
    "        .groupby('userId') \\\n",
    "        .agg(avg('count').alias(page.replace(' ', '') + 'PerDay'))"
   ]
  },
  {
   "cell_type": "code",
   "execution_count": 125,
   "metadata": {},
   "outputs": [],
   "source": [
    "# Average sessions per day\n",
    "f_SessionsPerDay = data \\\n",
    "    .select('userId', 'date', 'sessionId') \\\n",
    "    .dropDuplicates() \\\n",
    "    .groupby('userId', 'date') \\\n",
    "    .count() \\\n",
    "    .groupby('userId') \\\n",
    "    .agg(avg('count').alias('SessionsPerDay'))"
   ]
  },
  {
   "cell_type": "code",
   "execution_count": 126,
   "metadata": {},
   "outputs": [],
   "source": [
    "f_AddFriendPerDay = page_day('Add Friend')"
   ]
  },
  {
   "cell_type": "code",
   "execution_count": 127,
   "metadata": {},
   "outputs": [],
   "source": [
    "f_RollAdvertPerDay = page_day('Roll Advert')"
   ]
  },
  {
   "cell_type": "code",
   "execution_count": 128,
   "metadata": {},
   "outputs": [],
   "source": [
    "f_ThumbsDownPerDay = page_day('Thumbs Down')"
   ]
  },
  {
   "cell_type": "code",
   "execution_count": 129,
   "metadata": {},
   "outputs": [],
   "source": [
    "f_ThumbsUpPerDay = page_day('Thumbs Up')"
   ]
  },
  {
   "cell_type": "markdown",
   "metadata": {},
   "source": [
    "### Per Song Features"
   ]
  },
  {
   "cell_type": "code",
   "execution_count": 130,
   "metadata": {},
   "outputs": [],
   "source": [
    "# Total song length \n",
    "f_TotalSongLength = data \\\n",
    "    .where(data.page == 'NextSong') \\\n",
    "    .select('userId', 'length') \\\n",
    "    .groupby('userId') \\\n",
    "    .agg(Fsum('length').alias('TotalSongLength'))"
   ]
  },
  {
   "cell_type": "code",
   "execution_count": 131,
   "metadata": {},
   "outputs": [],
   "source": [
    "# Unique song count\n",
    "f_UniqueSongCount = data \\\n",
    "    .where(data.page == 'NextSong') \\\n",
    "    .select('userId', 'song') \\\n",
    "    .dropDuplicates() \\\n",
    "    .groupby('userId') \\\n",
    "    .agg(count('userId').alias('UniqueSongCount'))"
   ]
  },
  {
   "cell_type": "code",
   "execution_count": 132,
   "metadata": {},
   "outputs": [],
   "source": [
    "# Share of unique songs among all user's songs\n",
    "totals = data \\\n",
    "    .where(data.page == 'NextSong') \\\n",
    "    .select('userId') \\\n",
    "    .groupby('userId') \\\n",
    "    .agg(count('userId').alias('total'))\n",
    "\n",
    "f_UniqueSongShare = data \\\n",
    "    .where(data.page == 'NextSong') \\\n",
    "    .select('userId', 'song') \\\n",
    "    .dropDuplicates() \\\n",
    "    .groupby('userId') \\\n",
    "    .count() \\\n",
    "    .join(totals, on = ['userId'], how = 'inner') \\\n",
    "    .select('userId', (col('count')/col('total')).alias('UniqueSongShare')) "
   ]
  },
  {
   "cell_type": "markdown",
   "metadata": {
    "collapsed": true
   },
   "source": [
    "### model_data"
   ]
  },
  {
   "cell_type": "code",
   "execution_count": 148,
   "metadata": {},
   "outputs": [],
   "source": [
    "# model 7b (churn #1, seed 0)\n",
    "model_data  = labels.join(f_LogCount, 'userId', 'outer') \\\n",
    "    .join(f_SongCount, 'userId', 'outer') \\\n",
    "    .join(f_NonSongCount, 'userId', 'outer') \\\n",
    "    .join(f_AboutCount, 'userId', 'outer') \\\n",
    "    .join(f_ThumbsUpCount, 'userId', 'outer') \\\n",
    "    .join(f_RollAdvertCount, 'userId', 'outer') \\\n",
    "    .join(f_SessionCount, 'userId', 'outer') \\\n",
    "    .join(f_AvgSessionLength, 'userId', 'outer') \\\n",
    "    .join(f_AvgSessionGap, 'userId', 'outer') \\\n",
    "    .join(f_DowngradePerSessionHour, 'userId', 'outer') \\\n",
    "    .join(f_SettingsPerSessionHour, 'userId', 'outer') \\\n",
    "    .join(f_LogoutPerSessionHour, 'userId', 'outer') \\\n",
    "    .join(f_RollAdvertPerHour, 'userId', 'outer') \\\n",
    "    .join(f_ThumbsDownPerHour, 'userId', 'outer') \\\n",
    "    .join(f_SubmitUpgradePerHour, 'userId', 'outer') \\\n",
    "    .join(f_SessionsPerDay, 'userId', 'outer') \\\n",
    "    .join(f_AddFriendPerDay, 'userId', 'outer') \\\n",
    "    .join(f_RollAdvertPerDay, 'userId', 'outer') \\\n",
    "    .join(f_ThumbsDownPerDay, 'userId', 'outer') \\\n",
    "    .join(f_ThumbsUpPerDay, 'userId', 'outer') \\\n",
    "    .join(f_TotalSongLength, 'userId', 'outer') \\\n",
    "    .join(f_UniqueSongCount, 'userId', 'outer') \\\n",
    "    .join(f_UniqueSongShare, 'userId', 'outer') \\\n",
    "    .drop('userId') \\\n",
    "    .fillna(0)"
   ]
  },
  {
   "cell_type": "code",
   "execution_count": 161,
   "metadata": {},
   "outputs": [],
   "source": [
    "# model 7 (churn #1, seed 0)\n",
    "model_data_rf  = labels.join(f_Gender, 'userId', 'outer') \\\n",
    "    .join(f_LastLevel, 'userId', 'outer') \\\n",
    "    .join(f_LogCount, 'userId', 'outer') \\\n",
    "    .join(f_SongCount, 'userId', 'outer') \\\n",
    "    .join(f_NonSongCount, 'userId', 'outer') \\\n",
    "    .join(f_AboutCount, 'userId', 'outer') \\\n",
    "    .join(f_ThumbsUpCount, 'userId', 'outer') \\\n",
    "    .join(f_RollAdvertCount, 'userId', 'outer') \\\n",
    "    .join(f_SessionCount, 'userId', 'outer') \\\n",
    "    .join(f_AvgSessionLength, 'userId', 'outer') \\\n",
    "    .join(f_AvgSessionGap, 'userId', 'outer') \\\n",
    "    .join(f_DowngradePerSessionHour, 'userId', 'outer') \\\n",
    "    .join(f_ErrorPerSessionHour, 'userId', 'outer') \\\n",
    "    .join(f_SettingsPerSessionHour, 'userId', 'outer') \\\n",
    "    .join(f_SaveSettingsPerSessionHour, 'userId', 'outer') \\\n",
    "    .join(f_LogoutPerSessionHour, 'userId', 'outer') \\\n",
    "    .join(f_SubmitDowngradePerSessionHour, 'userId', 'outer') \\\n",
    "    .join(f_RollAdvertPerHour, 'userId', 'outer') \\\n",
    "    .join(f_ThumbsDownPerHour, 'userId', 'outer') \\\n",
    "    .join(f_UpgradePerHour, 'userId', 'outer') \\\n",
    "    .join(f_SubmitUpgradePerHour, 'userId', 'outer') \\\n",
    "    .join(f_SessionsPerDay, 'userId', 'outer') \\\n",
    "    .join(f_AddFriendPerDay, 'userId', 'outer') \\\n",
    "    .join(f_RollAdvertPerDay, 'userId', 'outer') \\\n",
    "    .join(f_ThumbsDownPerDay, 'userId', 'outer') \\\n",
    "    .join(f_ThumbsUpPerDay, 'userId', 'outer') \\\n",
    "    .join(f_TotalSongLength, 'userId', 'outer') \\\n",
    "    .join(f_UniqueSongCount, 'userId', 'outer') \\\n",
    "    .join(f_UniqueSongShare, 'userId', 'outer') \\\n",
    "    .drop('userId') \\\n",
    "    .fillna(0)"
   ]
  },
  {
   "cell_type": "code",
   "execution_count": 177,
   "metadata": {},
   "outputs": [],
   "source": [
    "# model 6\n",
    "model_data  = labels.join(f_EventCount, 'userId', 'outer') \\\n",
    "    .join(f_AvgSessionCount, 'userId', 'outer') \\\n",
    "    .join(f_RollAdvertCount, 'userId', 'outer') \\\n",
    "    .join(f_ThumbsUpCount, 'userId', 'outer') \\\n",
    "    .join(f_RollAdvertCountPerHour, 'userId', 'outer') \\\n",
    "    .join(f_ThumbsDownCountPerHour, 'userId', 'outer') \\\n",
    "    .join(f_SettingsCountPerHour, 'userId', 'outer') \\\n",
    "    .join(f_LogoutCountPerHour, 'userId', 'outer') \\\n",
    "    .join(f_SaveSettingsCountPerHour, 'userId', 'outer') \\\n",
    "    .join(f_TotalSongLength, 'userId', 'outer') \\\n",
    "    .join(f_AvgNonSongEventCount, 'userId', 'outer') \\\n",
    "    .join(f_UniqueSongCount, 'userId', 'outer') \\\n",
    "    .join(f_UniqueSongShare, 'userId', 'outer') \\\n",
    "    .join(f_AvgGapTime, 'userId', 'outer') \\\n",
    "    .join(f_ThumbsDownCountPerDay, 'userId', 'outer') \\\n",
    "    .join(f_ThumbsUpCountPerDay, 'userId', 'outer') \\\n",
    "    .join(f_AvgSessionCountPerDay, 'userId', 'outer') \\\n",
    "    .drop('userId') \\\n",
    "    .fillna(0)"
   ]
  },
  {
   "cell_type": "code",
   "execution_count": 148,
   "metadata": {},
   "outputs": [],
   "source": [
    "# model 5\n",
    "model_data  = labels.join(f_EventCount, 'userId', 'outer') \\\n",
    "    .join(f_AvgSessionCount, 'userId', 'outer') \\\n",
    "    .join(f_RollAdvertCount, 'userId', 'outer') \\\n",
    "    .join(f_SubmitUpgradeCount, 'userId', 'outer') \\\n",
    "    .join(f_ThumbsUpCount, 'userId', 'outer') \\\n",
    "    .join(f_RollAdvertCountPerHour, 'userId', 'outer') \\\n",
    "    .join(f_SubmitUpgradeCountPerHour, 'userId', 'outer') \\\n",
    "    .join(f_ThumbsDownCountPerHour, 'userId', 'outer') \\\n",
    "    .join(f_UpgradeCountPerHour, 'userId', 'outer') \\\n",
    "    .join(f_SettingsCountPerHour, 'userId', 'outer') \\\n",
    "    .join(f_LogoutCountPerHour, 'userId', 'outer') \\\n",
    "    .join(f_SaveSettingsCountPerHour, 'userId', 'outer') \\\n",
    "    .join(f_TotalSongLength, 'userId', 'outer') \\\n",
    "    .join(f_AvgNonSongEventCount, 'userId', 'outer') \\\n",
    "    .join(f_UniqueSongCount, 'userId', 'outer') \\\n",
    "    .join(f_UniqueSongShare, 'userId', 'outer') \\\n",
    "    .join(f_AvgGapTime, 'userId', 'outer') \\\n",
    "    .join(f_ThumbsDownCountPerDay, 'userId', 'outer') \\\n",
    "    .join(f_ThumbsUpCountPerDay, 'userId', 'outer') \\\n",
    "    .join(f_UpgradeCountPerDay, 'userId', 'outer') \\\n",
    "    .drop('userId') \\\n",
    "    .fillna(0)"
   ]
  },
  {
   "cell_type": "code",
   "execution_count": null,
   "metadata": {},
   "outputs": [],
   "source": [
    "# model 4\n",
    "model_data  = labels.join(f_EventCount, 'userId', 'outer') \\\n",
    "    .join(f_AvgSessionCount, 'userId', 'outer') \\\n",
    "    .join(f_RollAdvertCount, 'userId', 'outer') \\\n",
    "    .join(f_SubmitUpgradeCount, 'userId', 'outer') \\\n",
    "    .join(f_ThumbsUpCount, 'userId', 'outer') \\\n",
    "    .join(f_RollAdvertCountPerHour, 'userId', 'outer') \\\n",
    "    .join(f_SubmitUpgradeCountPerHour, 'userId', 'outer') \\\n",
    "    .join(f_ThumbsDownCountPerHour, 'userId', 'outer') \\\n",
    "    .join(f_UpgradeCountPerHour, 'userId', 'outer') \\\n",
    "    .join(f_SettingsCountPerHour, 'userId', 'outer') \\\n",
    "    .join(f_LogoutCountPerHour, 'userId', 'outer') \\\n",
    "    .join(f_SaveSettingsCountPerHour, 'userId', 'outer') \\\n",
    "    .join(f_TotalSongLength, 'userId', 'outer') \\\n",
    "    .join(f_AvgNonSongEventCount, 'userId', 'outer') \\\n",
    "    .join(f_UniqueSongCount, 'userId', 'outer') \\\n",
    "    .join(f_UniqueSongShare, 'userId', 'outer') \\\n",
    "    .join(f_AvgGapTime, 'userId', 'outer') \\\n",
    "    .drop('userId') \\\n",
    "    .fillna(0)"
   ]
  },
  {
   "cell_type": "code",
   "execution_count": 130,
   "metadata": {},
   "outputs": [],
   "source": [
    "# model 3\n",
    "model_data  = labels.join(f_EventCount, 'userId', 'outer') \\\n",
    "    .join(f_AvgSessionCount, 'userId', 'outer') \\\n",
    "    .join(f_RollAdvertCount, 'userId', 'outer') \\\n",
    "    .join(f_SubmitUpgradeCount, 'userId', 'outer') \\\n",
    "    .join(f_ThumbsUpCount, 'userId', 'outer') \\\n",
    "    .join(f_RollAdvertCountPerHour, 'userId', 'outer') \\\n",
    "    .join(f_SubmitUpgradeCountPerHour, 'userId', 'outer') \\\n",
    "    .join(f_ThumbsDownCountPerHour, 'userId', 'outer') \\\n",
    "    .join(f_UpgradeCountPerHour, 'userId', 'outer') \\\n",
    "    .join(f_SettingsCountPerHour, 'userId', 'outer') \\\n",
    "    .join(f_LogoutCountPerHour, 'userId', 'outer') \\\n",
    "    .join(f_SaveSettingsCountPerHour, 'userId', 'outer') \\\n",
    "    .join(f_TotalSongLength, 'userId', 'outer') \\\n",
    "    .join(f_AvgNonSongEventCount, 'userId', 'outer') \\\n",
    "    .join(f_UniqueSongCount, 'userId', 'outer') \\\n",
    "    .join(f_UniqueSongShare, 'userId', 'outer') \\\n",
    "    .drop('userId') \\\n",
    "    .fillna(0)"
   ]
  },
  {
   "cell_type": "markdown",
   "metadata": {},
   "source": [
    "# Modeling\n",
    "Split the full dataset into train, test, and validation sets. Test out several of the machine learning methods you learned. Evaluate the accuracy of the various models, tuning parameters as necessary. Determine your winning model based on test accuracy and report results on the validation set. Since the churned users are a fairly small subset, I suggest using F1 score as the metric to optimize."
   ]
  },
  {
   "cell_type": "code",
   "execution_count": 279,
   "metadata": {},
   "outputs": [],
   "source": [
    "from pyspark.ml.feature import VectorAssembler, Normalizer, StandardScaler, MinMaxScaler\n",
    "from pyspark.ml import Pipeline\n",
    "from pyspark.ml.classification import LogisticRegression, RandomForestClassifier, GBTClassifier, \\\n",
    "    NaiveBayes, DecisionTreeClassifier\n",
    "from pyspark.ml.tuning import CrossValidator, ParamGridBuilder\n",
    "from pyspark.ml.evaluation import MulticlassClassificationEvaluator, BinaryClassificationEvaluator"
   ]
  },
  {
   "cell_type": "code",
   "execution_count": 358,
   "metadata": {},
   "outputs": [],
   "source": [
    "def split_data(data):\n",
    "    train, test = data.randomSplit([0.8, 0.2], seed = 0);\n",
    "    return train, test\n",
    "\n",
    "\n",
    "def create_pipeline(data, classifier, scaler):\n",
    "    features = data.drop('label').columns\n",
    "    assembler = VectorAssembler(inputCols=features, outputCol='NumFeatures')\n",
    "    pipeline = Pipeline(stages=[assembler, scaler, classifier]);\n",
    "\n",
    "    return pipeline\n",
    "\n",
    "\n",
    "def fit_model(data, classifier, scaler):\n",
    "    \n",
    "    start_time = time.time()\n",
    "    \n",
    "    print('Model fitting started. Please wait...')\n",
    "\n",
    "    # Split data into train and test subset\n",
    "    train, test = split_data(data)\n",
    "    print('Train|Test data split done.')\n",
    "\n",
    "    # Create pipeline\n",
    "    pipeline = create_pipeline(data, classifier, scaler)\n",
    "    print('Create pipeline done.')\n",
    "\n",
    "    # train model\n",
    "    model = pipeline.fit(train)\n",
    "    print('Training done.')\n",
    "\n",
    "    # get metrics\n",
    "    metrics = calc_metrics(model, test)\n",
    "    print('Metrics prepared.')\n",
    "\n",
    "    fitting_duration = time.time() - start_time\n",
    "    \n",
    "    print(f'Model fitting done ({int(fitting_duration)} s).')\n",
    "    \n",
    "    return model, metrics"
   ]
  },
  {
   "cell_type": "code",
   "execution_count": 359,
   "metadata": {},
   "outputs": [],
   "source": [
    "# source: https://stackoverflow.com/questions/60772315/how-to-evaluate-a-classifier-with-apache-spark-2-4-5-and-pyspark-python\n",
    "def calc_metrics(model, test):\n",
    "\n",
    "    # Create both evaluators\n",
    "    evaluatorMulti = MulticlassClassificationEvaluator(labelCol='label', predictionCol='prediction')\n",
    "    evaluator = BinaryClassificationEvaluator(labelCol='label', rawPredictionCol='prediction', metricName='areaUnderROC')\n",
    "\n",
    "    # Make predicitons\n",
    "    prediction = model.transform(test).select('label', 'prediction')\n",
    "\n",
    "    # Get metrics\n",
    "    acc = evaluatorMulti.evaluate(prediction, {evaluatorMulti.metricName: 'accuracy'})\n",
    "    f1 = evaluatorMulti.evaluate(prediction, {evaluatorMulti.metricName: 'f1'})\n",
    "    weightedPrecision = evaluatorMulti.evaluate(prediction, {evaluatorMulti.metricName: 'weightedPrecision'})\n",
    "    weightedRecall = evaluatorMulti.evaluate(prediction, {evaluatorMulti.metricName: 'weightedRecall'})\n",
    "    auc = evaluator.evaluate(prediction)\n",
    "    \n",
    "    metrics = pd.DataFrame(index=['F1', 'accuracy', 'weighted precision', 'weighted recall', 'AUC'], \\\n",
    "                           data={'metrics value': [f1, acc, weightedPrecision, weightedRecall, auc]})\n",
    "    \n",
    "    return metrics\n",
    "    "
   ]
  },
  {
   "cell_type": "markdown",
   "metadata": {},
   "source": [
    "## Logistic Regression"
   ]
  },
  {
   "cell_type": "code",
   "execution_count": 360,
   "metadata": {
    "collapsed": true
   },
   "outputs": [
    {
     "data": {
      "text/html": [
       "<div>\n",
       "<style scoped>\n",
       "    .dataframe tbody tr th:only-of-type {\n",
       "        vertical-align: middle;\n",
       "    }\n",
       "\n",
       "    .dataframe tbody tr th {\n",
       "        vertical-align: top;\n",
       "    }\n",
       "\n",
       "    .dataframe thead th {\n",
       "        text-align: right;\n",
       "    }\n",
       "</style>\n",
       "<table border=\"1\" class=\"dataframe\">\n",
       "  <thead>\n",
       "    <tr style=\"text-align: right;\">\n",
       "      <th></th>\n",
       "      <th>Feature</th>\n",
       "      <th>FeatureImportances</th>\n",
       "    </tr>\n",
       "  </thead>\n",
       "  <tbody>\n",
       "    <tr>\n",
       "      <th>10</th>\n",
       "      <td>AvgSessionGap</td>\n",
       "      <td>0.213280</td>\n",
       "    </tr>\n",
       "    <tr>\n",
       "      <th>21</th>\n",
       "      <td>SessionsPerDay</td>\n",
       "      <td>0.071358</td>\n",
       "    </tr>\n",
       "    <tr>\n",
       "      <th>18</th>\n",
       "      <td>ThumbsDownPerHour</td>\n",
       "      <td>0.061838</td>\n",
       "    </tr>\n",
       "    <tr>\n",
       "      <th>17</th>\n",
       "      <td>RollAdvertPerHour</td>\n",
       "      <td>0.057433</td>\n",
       "    </tr>\n",
       "    <tr>\n",
       "      <th>8</th>\n",
       "      <td>SessionCount</td>\n",
       "      <td>0.042105</td>\n",
       "    </tr>\n",
       "    <tr>\n",
       "      <th>15</th>\n",
       "      <td>LogoutPerSessionHour</td>\n",
       "      <td>0.041166</td>\n",
       "    </tr>\n",
       "    <tr>\n",
       "      <th>23</th>\n",
       "      <td>RollAdvertPerDay</td>\n",
       "      <td>0.040237</td>\n",
       "    </tr>\n",
       "    <tr>\n",
       "      <th>24</th>\n",
       "      <td>ThumbsDownPerDay</td>\n",
       "      <td>0.037549</td>\n",
       "    </tr>\n",
       "    <tr>\n",
       "      <th>7</th>\n",
       "      <td>RollAdvertCount</td>\n",
       "      <td>0.034767</td>\n",
       "    </tr>\n",
       "    <tr>\n",
       "      <th>22</th>\n",
       "      <td>AddFriendPerDay</td>\n",
       "      <td>0.034394</td>\n",
       "    </tr>\n",
       "    <tr>\n",
       "      <th>25</th>\n",
       "      <td>ThumbsUpPerDay</td>\n",
       "      <td>0.033640</td>\n",
       "    </tr>\n",
       "    <tr>\n",
       "      <th>14</th>\n",
       "      <td>SaveSettingsPerSessionHour</td>\n",
       "      <td>0.032641</td>\n",
       "    </tr>\n",
       "    <tr>\n",
       "      <th>13</th>\n",
       "      <td>SettingsPerSessionHour</td>\n",
       "      <td>0.030865</td>\n",
       "    </tr>\n",
       "    <tr>\n",
       "      <th>26</th>\n",
       "      <td>TotalSongLength</td>\n",
       "      <td>0.026506</td>\n",
       "    </tr>\n",
       "    <tr>\n",
       "      <th>9</th>\n",
       "      <td>AvgSessionLength</td>\n",
       "      <td>0.024468</td>\n",
       "    </tr>\n",
       "    <tr>\n",
       "      <th>5</th>\n",
       "      <td>AboutCount</td>\n",
       "      <td>0.023218</td>\n",
       "    </tr>\n",
       "    <tr>\n",
       "      <th>19</th>\n",
       "      <td>UpgradePerHour</td>\n",
       "      <td>0.023196</td>\n",
       "    </tr>\n",
       "    <tr>\n",
       "      <th>3</th>\n",
       "      <td>SongCount</td>\n",
       "      <td>0.021634</td>\n",
       "    </tr>\n",
       "    <tr>\n",
       "      <th>4</th>\n",
       "      <td>NonSongCount</td>\n",
       "      <td>0.021280</td>\n",
       "    </tr>\n",
       "    <tr>\n",
       "      <th>6</th>\n",
       "      <td>ThumbsUpCount</td>\n",
       "      <td>0.020194</td>\n",
       "    </tr>\n",
       "    <tr>\n",
       "      <th>2</th>\n",
       "      <td>LogCount</td>\n",
       "      <td>0.019038</td>\n",
       "    </tr>\n",
       "    <tr>\n",
       "      <th>12</th>\n",
       "      <td>ErrorPerSessionHour</td>\n",
       "      <td>0.016557</td>\n",
       "    </tr>\n",
       "    <tr>\n",
       "      <th>20</th>\n",
       "      <td>SubmitUpgradePerHour</td>\n",
       "      <td>0.016331</td>\n",
       "    </tr>\n",
       "    <tr>\n",
       "      <th>11</th>\n",
       "      <td>DowngradePerSessionHour</td>\n",
       "      <td>0.015953</td>\n",
       "    </tr>\n",
       "    <tr>\n",
       "      <th>27</th>\n",
       "      <td>UniqueSongCount</td>\n",
       "      <td>0.015452</td>\n",
       "    </tr>\n",
       "    <tr>\n",
       "      <th>28</th>\n",
       "      <td>UniqueSongShare</td>\n",
       "      <td>0.012244</td>\n",
       "    </tr>\n",
       "    <tr>\n",
       "      <th>0</th>\n",
       "      <td>Gender</td>\n",
       "      <td>0.009118</td>\n",
       "    </tr>\n",
       "    <tr>\n",
       "      <th>1</th>\n",
       "      <td>LastLevel</td>\n",
       "      <td>0.002247</td>\n",
       "    </tr>\n",
       "    <tr>\n",
       "      <th>16</th>\n",
       "      <td>SubmitDowngradePerSessionHour</td>\n",
       "      <td>0.001288</td>\n",
       "    </tr>\n",
       "  </tbody>\n",
       "</table>\n",
       "</div>"
      ],
      "text/plain": [
       "                          Feature  FeatureImportances\n",
       "10                  AvgSessionGap            0.213280\n",
       "21                 SessionsPerDay            0.071358\n",
       "18              ThumbsDownPerHour            0.061838\n",
       "17              RollAdvertPerHour            0.057433\n",
       "8                    SessionCount            0.042105\n",
       "15           LogoutPerSessionHour            0.041166\n",
       "23               RollAdvertPerDay            0.040237\n",
       "24               ThumbsDownPerDay            0.037549\n",
       "7                 RollAdvertCount            0.034767\n",
       "22                AddFriendPerDay            0.034394\n",
       "25                 ThumbsUpPerDay            0.033640\n",
       "14     SaveSettingsPerSessionHour            0.032641\n",
       "13         SettingsPerSessionHour            0.030865\n",
       "26                TotalSongLength            0.026506\n",
       "9                AvgSessionLength            0.024468\n",
       "5                      AboutCount            0.023218\n",
       "19                 UpgradePerHour            0.023196\n",
       "3                       SongCount            0.021634\n",
       "4                    NonSongCount            0.021280\n",
       "6                   ThumbsUpCount            0.020194\n",
       "2                        LogCount            0.019038\n",
       "12            ErrorPerSessionHour            0.016557\n",
       "20           SubmitUpgradePerHour            0.016331\n",
       "11        DowngradePerSessionHour            0.015953\n",
       "27                UniqueSongCount            0.015452\n",
       "28                UniqueSongShare            0.012244\n",
       "0                          Gender            0.009118\n",
       "1                       LastLevel            0.002247\n",
       "16  SubmitDowngradePerSessionHour            0.001288"
      ]
     },
     "execution_count": 360,
     "metadata": {},
     "output_type": "execute_result"
    }
   ],
   "source": [
    "feature_importances_rfc"
   ]
  },
  {
   "cell_type": "markdown",
   "metadata": {},
   "source": [
    "### LR #1"
   ]
  },
  {
   "cell_type": "code",
   "execution_count": 363,
   "metadata": {},
   "outputs": [],
   "source": [
    "# Best features chosen for Logistic Regression\n",
    "data_lr = data_labels.join(f_LogCount, 'userId', 'outer') \\\n",
    "    .join(f_SongCount, 'userId', 'outer') \\\n",
    "    .join(f_NonSongCount, 'userId', 'outer') \\\n",
    "    .join(f_AboutCount, 'userId', 'outer') \\\n",
    "    .join(f_ThumbsUpCount, 'userId', 'outer') \\\n",
    "    .join(f_RollAdvertCount, 'userId', 'outer') \\\n",
    "    .join(f_SessionCount, 'userId', 'outer') \\\n",
    "    .join(f_AvgSessionLength, 'userId', 'outer') \\\n",
    "    .join(f_AvgSessionGap, 'userId', 'outer') \\\n",
    "    .join(f_SettingsPerSessionHour, 'userId', 'outer') \\\n",
    "    .join(f_SaveSettingsPerSessionHour, 'userId', 'outer') \\\n",
    "    .join(f_LogoutPerSessionHour, 'userId', 'outer') \\\n",
    "    .join(f_RollAdvertPerHour, 'userId', 'outer') \\\n",
    "    .join(f_ThumbsDownPerHour, 'userId', 'outer') \\\n",
    "    .join(f_UpgradePerHour, 'userId', 'outer') \\\n",
    "    .join(f_SessionsPerDay, 'userId', 'outer') \\\n",
    "    .join(f_AddFriendPerDay, 'userId', 'outer') \\\n",
    "    .join(f_RollAdvertPerDay, 'userId', 'outer') \\\n",
    "    .join(f_ThumbsDownPerDay, 'userId', 'outer') \\\n",
    "    .join(f_ThumbsUpPerDay, 'userId', 'outer') \\\n",
    "    .join(f_TotalSongLength, 'userId', 'outer') \\\n",
    "    .drop('userId') \\\n",
    "    .fillna(0)"
   ]
  },
  {
   "cell_type": "code",
   "execution_count": 367,
   "metadata": {},
   "outputs": [
    {
     "name": "stdout",
     "output_type": "stream",
     "text": [
      "Model fitting started. Please wait...\n",
      "Train|Test data split done.\n",
      "Create pipeline done.\n"
     ]
    },
    {
     "name": "stderr",
     "output_type": "stream",
     "text": [
      "Exception ignored in: <object repr() failed>\n",
      "Traceback (most recent call last):\n",
      "  File \"C:\\Users\\Amos\\Anaconda2\\lib\\site-packages\\pyspark\\ml\\wrapper.py\", line 40, in __del__\n",
      "    if SparkContext._active_spark_context and self._java_obj is not None:\n",
      "AttributeError: 'LogisticRegression' object has no attribute '_java_obj'\n"
     ]
    },
    {
     "name": "stdout",
     "output_type": "stream",
     "text": [
      "Training done.\n",
      "Metrics prepared.\n",
      "Model fitting done (950 s).\n"
     ]
    }
   ],
   "source": [
    "scaler = StandardScaler(inputCol=\"NumFeatures\", outputCol=\"features\")\n",
    "classifier = LogisticRegression(featuresCol=\"features\", labelCol = \"label\")\n",
    "model_lr, metrics_lr = fit_model(data_lr, classifier, scaler)"
   ]
  },
  {
   "cell_type": "code",
   "execution_count": 368,
   "metadata": {},
   "outputs": [
    {
     "data": {
      "text/html": [
       "<div>\n",
       "<style scoped>\n",
       "    .dataframe tbody tr th:only-of-type {\n",
       "        vertical-align: middle;\n",
       "    }\n",
       "\n",
       "    .dataframe tbody tr th {\n",
       "        vertical-align: top;\n",
       "    }\n",
       "\n",
       "    .dataframe thead th {\n",
       "        text-align: right;\n",
       "    }\n",
       "</style>\n",
       "<table border=\"1\" class=\"dataframe\">\n",
       "  <thead>\n",
       "    <tr style=\"text-align: right;\">\n",
       "      <th></th>\n",
       "      <th>metrics value</th>\n",
       "    </tr>\n",
       "  </thead>\n",
       "  <tbody>\n",
       "    <tr>\n",
       "      <th>F1</th>\n",
       "      <td>0.834824</td>\n",
       "    </tr>\n",
       "    <tr>\n",
       "      <th>accuracy</th>\n",
       "      <td>0.820000</td>\n",
       "    </tr>\n",
       "    <tr>\n",
       "      <th>weighted precision</th>\n",
       "      <td>0.855610</td>\n",
       "    </tr>\n",
       "    <tr>\n",
       "      <th>weighted recall</th>\n",
       "      <td>0.820000</td>\n",
       "    </tr>\n",
       "    <tr>\n",
       "      <th>AUC</th>\n",
       "      <td>0.681818</td>\n",
       "    </tr>\n",
       "  </tbody>\n",
       "</table>\n",
       "</div>"
      ],
      "text/plain": [
       "                    metrics value\n",
       "F1                       0.834824\n",
       "accuracy                 0.820000\n",
       "weighted precision       0.855610\n",
       "weighted recall          0.820000\n",
       "AUC                      0.681818"
      ]
     },
     "execution_count": 368,
     "metadata": {},
     "output_type": "execute_result"
    }
   ],
   "source": [
    "metrics_lr"
   ]
  },
  {
   "cell_type": "markdown",
   "metadata": {},
   "source": [
    "### LR #2"
   ]
  },
  {
   "cell_type": "code",
   "execution_count": 369,
   "metadata": {},
   "outputs": [],
   "source": [
    "# Best features chosen for Logistic Regression\n",
    "data_lr = data_labels.join(f_LogCount, 'userId', 'outer') \\\n",
    "    .join(f_SongCount, 'userId', 'outer') \\\n",
    "    .join(f_NonSongCount, 'userId', 'outer') \\\n",
    "    .join(f_AboutCount, 'userId', 'outer') \\\n",
    "    .join(f_ThumbsUpCount, 'userId', 'outer') \\\n",
    "    .join(f_RollAdvertCount, 'userId', 'outer') \\\n",
    "    .join(f_SessionCount, 'userId', 'outer') \\\n",
    "    .join(f_AvgSessionLength, 'userId', 'outer') \\\n",
    "    .join(f_AvgSessionGap, 'userId', 'outer') \\\n",
    "    .join(f_DowngradePerSessionHour, 'userId', 'outer') \\\n",
    "    .join(f_SettingsPerSessionHour, 'userId', 'outer') \\\n",
    "    .join(f_LogoutPerSessionHour, 'userId', 'outer') \\\n",
    "    .join(f_RollAdvertPerHour, 'userId', 'outer') \\\n",
    "    .join(f_ThumbsDownPerHour, 'userId', 'outer') \\\n",
    "    .join(f_SubmitUpgradePerHour, 'userId', 'outer') \\\n",
    "    .join(f_SessionsPerDay, 'userId', 'outer') \\\n",
    "    .join(f_AddFriendPerDay, 'userId', 'outer') \\\n",
    "    .join(f_RollAdvertPerDay, 'userId', 'outer') \\\n",
    "    .join(f_ThumbsDownPerDay, 'userId', 'outer') \\\n",
    "    .join(f_ThumbsUpPerDay, 'userId', 'outer') \\\n",
    "    .join(f_TotalSongLength, 'userId', 'outer') \\\n",
    "    .join(f_UniqueSongCount, 'userId', 'outer') \\\n",
    "    .join(f_UniqueSongShare, 'userId', 'outer') \\\n",
    "    .drop('userId') \\\n",
    "    .fillna(0)"
   ]
  },
  {
   "cell_type": "code",
   "execution_count": 370,
   "metadata": {},
   "outputs": [
    {
     "name": "stdout",
     "output_type": "stream",
     "text": [
      "Model fitting started. Please wait...\n",
      "Train|Test data split done.\n",
      "Create pipeline done.\n",
      "Training done.\n",
      "Metrics prepared.\n",
      "Model fitting done (1180 s).\n"
     ]
    }
   ],
   "source": [
    "scaler = StandardScaler(inputCol=\"NumFeatures\", outputCol=\"features\")\n",
    "classifier = LogisticRegression(featuresCol=\"features\", labelCol = \"label\")\n",
    "model_lr, metrics_lr = fit_model(data_lr, classifier, scaler)"
   ]
  },
  {
   "cell_type": "code",
   "execution_count": 371,
   "metadata": {},
   "outputs": [
    {
     "data": {
      "text/html": [
       "<div>\n",
       "<style scoped>\n",
       "    .dataframe tbody tr th:only-of-type {\n",
       "        vertical-align: middle;\n",
       "    }\n",
       "\n",
       "    .dataframe tbody tr th {\n",
       "        vertical-align: top;\n",
       "    }\n",
       "\n",
       "    .dataframe thead th {\n",
       "        text-align: right;\n",
       "    }\n",
       "</style>\n",
       "<table border=\"1\" class=\"dataframe\">\n",
       "  <thead>\n",
       "    <tr style=\"text-align: right;\">\n",
       "      <th></th>\n",
       "      <th>metrics value</th>\n",
       "    </tr>\n",
       "  </thead>\n",
       "  <tbody>\n",
       "    <tr>\n",
       "      <th>F1</th>\n",
       "      <td>0.849568</td>\n",
       "    </tr>\n",
       "    <tr>\n",
       "      <th>accuracy</th>\n",
       "      <td>0.840000</td>\n",
       "    </tr>\n",
       "    <tr>\n",
       "      <th>weighted precision</th>\n",
       "      <td>0.862143</td>\n",
       "    </tr>\n",
       "    <tr>\n",
       "      <th>weighted recall</th>\n",
       "      <td>0.840000</td>\n",
       "    </tr>\n",
       "    <tr>\n",
       "      <th>AUC</th>\n",
       "      <td>0.693182</td>\n",
       "    </tr>\n",
       "  </tbody>\n",
       "</table>\n",
       "</div>"
      ],
      "text/plain": [
       "                    metrics value\n",
       "F1                       0.849568\n",
       "accuracy                 0.840000\n",
       "weighted precision       0.862143\n",
       "weighted recall          0.840000\n",
       "AUC                      0.693182"
      ]
     },
     "execution_count": 371,
     "metadata": {},
     "output_type": "execute_result"
    }
   ],
   "source": [
    "metrics_lr"
   ]
  },
  {
   "cell_type": "markdown",
   "metadata": {},
   "source": [
    "### LR #3"
   ]
  },
  {
   "cell_type": "code",
   "execution_count": 375,
   "metadata": {},
   "outputs": [],
   "source": [
    "# Best features chosen for Logistic Regression\n",
    "data_lr = data_labels.join(f_AvgSessionGap, 'userId', 'outer') \\\n",
    "    .join(f_SessionsPerDay, 'userId', 'outer') \\\n",
    "    .join(f_ThumbsDownPerHour, 'userId', 'outer') \\\n",
    "    .join(f_RollAdvertPerHour, 'userId', 'outer') \\\n",
    "    .join(f_SessionCount, 'userId', 'outer') \\\n",
    "    .join(f_LogoutPerSessionHour, 'userId', 'outer') \\\n",
    "    .join(f_RollAdvertPerDay, 'userId', 'outer') \\\n",
    "    .join(f_ThumbsDownPerDay, 'userId', 'outer') \\\n",
    "    .join(f_RollAdvertCount, 'userId', 'outer') \\\n",
    "    .join(f_AddFriendPerDay, 'userId', 'outer') \\\n",
    "    .join(f_ThumbsUpPerDay, 'userId', 'outer') \\\n",
    "    .join(f_SaveSettingsPerSessionHour, 'userId', 'outer') \\\n",
    "    .join(f_SettingsPerSessionHour, 'userId', 'outer') \\\n",
    "    .drop('userId') \\\n",
    "    .fillna(0)"
   ]
  },
  {
   "cell_type": "code",
   "execution_count": 376,
   "metadata": {},
   "outputs": [
    {
     "name": "stdout",
     "output_type": "stream",
     "text": [
      "Model fitting started. Please wait...\n",
      "Train|Test data split done.\n",
      "Create pipeline done.\n",
      "Training done.\n",
      "Metrics prepared.\n",
      "Model fitting done (678 s).\n"
     ]
    }
   ],
   "source": [
    "scaler = StandardScaler(inputCol=\"NumFeatures\", outputCol=\"features\")\n",
    "classifier = LogisticRegression(featuresCol=\"features\", labelCol = \"label\")\n",
    "model_lr, metrics_lr = fit_model(data_lr, classifier, scaler)"
   ]
  },
  {
   "cell_type": "code",
   "execution_count": 377,
   "metadata": {},
   "outputs": [
    {
     "data": {
      "text/html": [
       "<div>\n",
       "<style scoped>\n",
       "    .dataframe tbody tr th:only-of-type {\n",
       "        vertical-align: middle;\n",
       "    }\n",
       "\n",
       "    .dataframe tbody tr th {\n",
       "        vertical-align: top;\n",
       "    }\n",
       "\n",
       "    .dataframe thead th {\n",
       "        text-align: right;\n",
       "    }\n",
       "</style>\n",
       "<table border=\"1\" class=\"dataframe\">\n",
       "  <thead>\n",
       "    <tr style=\"text-align: right;\">\n",
       "      <th></th>\n",
       "      <th>metrics value</th>\n",
       "    </tr>\n",
       "  </thead>\n",
       "  <tbody>\n",
       "    <tr>\n",
       "      <th>F1</th>\n",
       "      <td>0.849568</td>\n",
       "    </tr>\n",
       "    <tr>\n",
       "      <th>accuracy</th>\n",
       "      <td>0.840000</td>\n",
       "    </tr>\n",
       "    <tr>\n",
       "      <th>weighted precision</th>\n",
       "      <td>0.862143</td>\n",
       "    </tr>\n",
       "    <tr>\n",
       "      <th>weighted recall</th>\n",
       "      <td>0.840000</td>\n",
       "    </tr>\n",
       "    <tr>\n",
       "      <th>AUC</th>\n",
       "      <td>0.693182</td>\n",
       "    </tr>\n",
       "  </tbody>\n",
       "</table>\n",
       "</div>"
      ],
      "text/plain": [
       "                    metrics value\n",
       "F1                       0.849568\n",
       "accuracy                 0.840000\n",
       "weighted precision       0.862143\n",
       "weighted recall          0.840000\n",
       "AUC                      0.693182"
      ]
     },
     "execution_count": 377,
     "metadata": {},
     "output_type": "execute_result"
    }
   ],
   "source": [
    "metrics_lr"
   ]
  },
  {
   "cell_type": "markdown",
   "metadata": {},
   "source": [
    "### LR #4"
   ]
  },
  {
   "cell_type": "code",
   "execution_count": 379,
   "metadata": {},
   "outputs": [],
   "source": [
    "# Best features chosen for Logistic Regression\n",
    "data_lr = data_labels.join(f_AvgSessionGap, 'userId', 'outer') \\\n",
    "    .join(f_SessionsPerDay, 'userId', 'outer') \\\n",
    "    .join(f_ThumbsDownPerHour, 'userId', 'outer') \\\n",
    "    .join(f_RollAdvertPerHour, 'userId', 'outer') \\\n",
    "    .join(f_SessionCount, 'userId', 'outer') \\\n",
    "    .join(f_LogoutPerSessionHour, 'userId', 'outer') \\\n",
    "    .join(f_RollAdvertPerDay, 'userId', 'outer') \\\n",
    "    .join(f_ThumbsDownPerDay, 'userId', 'outer') \\\n",
    "    .drop('userId') \\\n",
    "    .fillna(0)"
   ]
  },
  {
   "cell_type": "code",
   "execution_count": 381,
   "metadata": {},
   "outputs": [
    {
     "name": "stdout",
     "output_type": "stream",
     "text": [
      "Model fitting started. Please wait...\n",
      "Train|Test data split done.\n",
      "Create pipeline done.\n",
      "Training done.\n",
      "Metrics prepared.\n",
      "Model fitting done (468 s).\n"
     ]
    }
   ],
   "source": [
    "scaler = StandardScaler(inputCol=\"NumFeatures\", outputCol=\"features\")\n",
    "classifier = LogisticRegression(featuresCol=\"features\", labelCol = \"label\")\n",
    "model_lr, metrics_lr = fit_model(data_lr, classifier, scaler)"
   ]
  },
  {
   "cell_type": "code",
   "execution_count": 382,
   "metadata": {},
   "outputs": [
    {
     "data": {
      "text/html": [
       "<div>\n",
       "<style scoped>\n",
       "    .dataframe tbody tr th:only-of-type {\n",
       "        vertical-align: middle;\n",
       "    }\n",
       "\n",
       "    .dataframe tbody tr th {\n",
       "        vertical-align: top;\n",
       "    }\n",
       "\n",
       "    .dataframe thead th {\n",
       "        text-align: right;\n",
       "    }\n",
       "</style>\n",
       "<table border=\"1\" class=\"dataframe\">\n",
       "  <thead>\n",
       "    <tr style=\"text-align: right;\">\n",
       "      <th></th>\n",
       "      <th>metrics value</th>\n",
       "    </tr>\n",
       "  </thead>\n",
       "  <tbody>\n",
       "    <tr>\n",
       "      <th>F1</th>\n",
       "      <td>0.856190</td>\n",
       "    </tr>\n",
       "    <tr>\n",
       "      <th>accuracy</th>\n",
       "      <td>0.840000</td>\n",
       "    </tr>\n",
       "    <tr>\n",
       "      <th>weighted precision</th>\n",
       "      <td>0.884000</td>\n",
       "    </tr>\n",
       "    <tr>\n",
       "      <th>weighted recall</th>\n",
       "      <td>0.840000</td>\n",
       "    </tr>\n",
       "    <tr>\n",
       "      <th>AUC</th>\n",
       "      <td>0.765152</td>\n",
       "    </tr>\n",
       "  </tbody>\n",
       "</table>\n",
       "</div>"
      ],
      "text/plain": [
       "                    metrics value\n",
       "F1                       0.856190\n",
       "accuracy                 0.840000\n",
       "weighted precision       0.884000\n",
       "weighted recall          0.840000\n",
       "AUC                      0.765152"
      ]
     },
     "execution_count": 382,
     "metadata": {},
     "output_type": "execute_result"
    }
   ],
   "source": [
    "metrics_lr"
   ]
  },
  {
   "cell_type": "markdown",
   "metadata": {},
   "source": [
    "### Cross-Validation"
   ]
  },
  {
   "cell_type": "code",
   "execution_count": 390,
   "metadata": {},
   "outputs": [
    {
     "name": "stdout",
     "output_type": "stream",
     "text": [
      "root\n",
      " |-- label: integer (nullable = true)\n",
      " |-- AvgSessionGap: double (nullable = false)\n",
      " |-- SessionsPerDay: double (nullable = false)\n",
      " |-- ThumbsDownPerHour: double (nullable = false)\n",
      " |-- RollAdvertPerHour: double (nullable = false)\n",
      " |-- SessionCount: long (nullable = true)\n",
      " |-- LogoutPerSessionHour: double (nullable = false)\n",
      " |-- RollAdvertPerDay: double (nullable = false)\n",
      " |-- ThumbsDownPerDay: double (nullable = false)\n",
      "\n"
     ]
    }
   ],
   "source": [
    "data_lr.printSchema()"
   ]
  },
  {
   "cell_type": "code",
   "execution_count": 385,
   "metadata": {},
   "outputs": [
    {
     "name": "stdout",
     "output_type": "stream",
     "text": [
      "Cross validation started. Please wait...\n",
      "Cross validation done (1810 s).\n",
      "\n",
      "Cross validation parameters ordered by score, descending:\n"
     ]
    },
    {
     "data": {
      "text/html": [
       "<div>\n",
       "<style scoped>\n",
       "    .dataframe tbody tr th:only-of-type {\n",
       "        vertical-align: middle;\n",
       "    }\n",
       "\n",
       "    .dataframe tbody tr th {\n",
       "        vertical-align: top;\n",
       "    }\n",
       "\n",
       "    .dataframe thead th {\n",
       "        text-align: right;\n",
       "    }\n",
       "</style>\n",
       "<table border=\"1\" class=\"dataframe\">\n",
       "  <thead>\n",
       "    <tr style=\"text-align: right;\">\n",
       "      <th></th>\n",
       "      <th>elasticNetParam</th>\n",
       "      <th>maxIter</th>\n",
       "      <th>regParam</th>\n",
       "      <th>score</th>\n",
       "    </tr>\n",
       "  </thead>\n",
       "  <tbody>\n",
       "    <tr>\n",
       "      <th>2</th>\n",
       "      <td>0.0</td>\n",
       "      <td>10</td>\n",
       "      <td>0.1</td>\n",
       "      <td>0.807631</td>\n",
       "    </tr>\n",
       "    <tr>\n",
       "      <th>6</th>\n",
       "      <td>0.0</td>\n",
       "      <td>20</td>\n",
       "      <td>0.1</td>\n",
       "      <td>0.794845</td>\n",
       "    </tr>\n",
       "    <tr>\n",
       "      <th>4</th>\n",
       "      <td>0.0</td>\n",
       "      <td>20</td>\n",
       "      <td>0.0</td>\n",
       "      <td>0.794637</td>\n",
       "    </tr>\n",
       "    <tr>\n",
       "      <th>5</th>\n",
       "      <td>0.5</td>\n",
       "      <td>20</td>\n",
       "      <td>0.0</td>\n",
       "      <td>0.794637</td>\n",
       "    </tr>\n",
       "    <tr>\n",
       "      <th>0</th>\n",
       "      <td>0.0</td>\n",
       "      <td>10</td>\n",
       "      <td>0.0</td>\n",
       "      <td>0.793251</td>\n",
       "    </tr>\n",
       "    <tr>\n",
       "      <th>1</th>\n",
       "      <td>0.5</td>\n",
       "      <td>10</td>\n",
       "      <td>0.0</td>\n",
       "      <td>0.793251</td>\n",
       "    </tr>\n",
       "    <tr>\n",
       "      <th>3</th>\n",
       "      <td>0.5</td>\n",
       "      <td>10</td>\n",
       "      <td>0.1</td>\n",
       "      <td>0.772826</td>\n",
       "    </tr>\n",
       "    <tr>\n",
       "      <th>7</th>\n",
       "      <td>0.5</td>\n",
       "      <td>20</td>\n",
       "      <td>0.1</td>\n",
       "      <td>0.770787</td>\n",
       "    </tr>\n",
       "  </tbody>\n",
       "</table>\n",
       "</div>"
      ],
      "text/plain": [
       "   elasticNetParam  maxIter  regParam     score\n",
       "2              0.0       10       0.1  0.807631\n",
       "6              0.0       20       0.1  0.794845\n",
       "4              0.0       20       0.0  0.794637\n",
       "5              0.5       20       0.0  0.794637\n",
       "0              0.0       10       0.0  0.793251\n",
       "1              0.5       10       0.0  0.793251\n",
       "3              0.5       10       0.1  0.772826\n",
       "7              0.5       20       0.1  0.770787"
      ]
     },
     "execution_count": 385,
     "metadata": {},
     "output_type": "execute_result"
    }
   ],
   "source": [
    "print('Cross validation started. Please wait...')\n",
    "\n",
    "# Create classifier\n",
    "lr = LogisticRegression(featuresCol='features', labelCol = 'label')\n",
    "\n",
    "# Create pipeline\n",
    "scaler = StandardScaler(inputCol='NumFeatures', outputCol='features')\n",
    "pipeline = create_pipeline(data_lr, lr, scaler)\n",
    "\n",
    "# Define params\n",
    "paramGrid_lr = ParamGridBuilder() \\\n",
    "    .addGrid(lr.maxIter, [10, 20]) \\\n",
    "    .addGrid(lr.regParam, [0.0, 0.1]) \\\n",
    "    .addGrid(lr.elasticNetParam, [0.0, 0.5]) \\\n",
    "    .build()\n",
    "\n",
    "# Create cross validator\n",
    "crossval_lr = CrossValidator(estimator = pipeline,\n",
    "                             estimatorParamMaps = paramGrid_lr,\n",
    "                             evaluator = MulticlassClassificationEvaluator(),\n",
    "                             numFolds = 2)\n",
    "\n",
    "# Fit model\n",
    "start_time = time.time()\n",
    "crossval_model_lr = crossval_lr.fit(train)\n",
    "duration = time.time() - start_time\n",
    "\n",
    "print(f'Cross validation done ({int(duration)} s).')\n",
    "\n",
    "# Show best params\n",
    "print('\\nCross validation parameters ordered by score, descending:')\n",
    "scores = crossval_model_lr.avgMetrics\n",
    "params = [{p.name: v for p, v in m.items()} for m in crossval_model_lr.getEstimatorParamMaps()]\n",
    "params_df = pd.DataFrame(params)\n",
    "params_df['score'] = scores\n",
    "params_df.sort_values(by='score', ascending=False)"
   ]
  },
  {
   "cell_type": "markdown",
   "metadata": {},
   "source": [
    "### Best model"
   ]
  },
  {
   "cell_type": "code",
   "execution_count": 386,
   "metadata": {},
   "outputs": [
    {
     "name": "stdout",
     "output_type": "stream",
     "text": [
      "Model fitting started. Please wait...\n",
      "Train|Test data split done.\n",
      "Create pipeline done.\n",
      "Training done.\n",
      "Metrics prepared.\n",
      "Model fitting done (502 s).\n"
     ]
    }
   ],
   "source": [
    "scaler = StandardScaler(inputCol='NumFeatures', outputCol='features')\n",
    "classifier = LogisticRegression(featuresCol='features', labelCol='label', \\\n",
    "                                elasticNetParam=0.0, maxIter=10, regParam=0.1)\n",
    "model_lr_cvbest, metrics_lr = fit_model(data_lr, classifier, scaler)"
   ]
  },
  {
   "cell_type": "markdown",
   "metadata": {},
   "source": [
    "#### Result"
   ]
  },
  {
   "cell_type": "code",
   "execution_count": 387,
   "metadata": {},
   "outputs": [
    {
     "data": {
      "text/html": [
       "<div>\n",
       "<style scoped>\n",
       "    .dataframe tbody tr th:only-of-type {\n",
       "        vertical-align: middle;\n",
       "    }\n",
       "\n",
       "    .dataframe tbody tr th {\n",
       "        vertical-align: top;\n",
       "    }\n",
       "\n",
       "    .dataframe thead th {\n",
       "        text-align: right;\n",
       "    }\n",
       "</style>\n",
       "<table border=\"1\" class=\"dataframe\">\n",
       "  <thead>\n",
       "    <tr style=\"text-align: right;\">\n",
       "      <th></th>\n",
       "      <th>metrics value</th>\n",
       "    </tr>\n",
       "  </thead>\n",
       "  <tbody>\n",
       "    <tr>\n",
       "      <th>F1</th>\n",
       "      <td>0.896016</td>\n",
       "    </tr>\n",
       "    <tr>\n",
       "      <th>accuracy</th>\n",
       "      <td>0.900000</td>\n",
       "    </tr>\n",
       "    <tr>\n",
       "      <th>weighted precision</th>\n",
       "      <td>0.893333</td>\n",
       "    </tr>\n",
       "    <tr>\n",
       "      <th>weighted recall</th>\n",
       "      <td>0.900000</td>\n",
       "    </tr>\n",
       "    <tr>\n",
       "      <th>AUC</th>\n",
       "      <td>0.727273</td>\n",
       "    </tr>\n",
       "  </tbody>\n",
       "</table>\n",
       "</div>"
      ],
      "text/plain": [
       "                    metrics value\n",
       "F1                       0.896016\n",
       "accuracy                 0.900000\n",
       "weighted precision       0.893333\n",
       "weighted recall          0.900000\n",
       "AUC                      0.727273"
      ]
     },
     "execution_count": 387,
     "metadata": {},
     "output_type": "execute_result"
    }
   ],
   "source": [
    "metrics_lr"
   ]
  },
  {
   "cell_type": "markdown",
   "metadata": {},
   "source": [
    "### Summary"
   ]
  },
  {
   "cell_type": "code",
   "execution_count": null,
   "metadata": {},
   "outputs": [],
   "source": []
  },
  {
   "cell_type": "markdown",
   "metadata": {
    "collapsed": true
   },
   "source": [
    "## Random Forest"
   ]
  },
  {
   "cell_type": "code",
   "execution_count": 364,
   "metadata": {},
   "outputs": [],
   "source": [
    "# Best features chosen for Random Forest classifier\n",
    "data_rfc = data_labels.join(f_Gender, 'userId', 'outer') \\\n",
    "    .join(f_LastLevel, 'userId', 'outer') \\\n",
    "    .join(f_LogCount, 'userId', 'outer') \\\n",
    "    .join(f_SongCount, 'userId', 'outer') \\\n",
    "    .join(f_NonSongCount, 'userId', 'outer') \\\n",
    "    .join(f_AboutCount, 'userId', 'outer') \\\n",
    "    .join(f_ThumbsUpCount, 'userId', 'outer') \\\n",
    "    .join(f_RollAdvertCount, 'userId', 'outer') \\\n",
    "    .join(f_SessionCount, 'userId', 'outer') \\\n",
    "    .join(f_AvgSessionLength, 'userId', 'outer') \\\n",
    "    .join(f_AvgSessionGap, 'userId', 'outer') \\\n",
    "    .join(f_DowngradePerSessionHour, 'userId', 'outer') \\\n",
    "    .join(f_ErrorPerSessionHour, 'userId', 'outer') \\\n",
    "    .join(f_SettingsPerSessionHour, 'userId', 'outer') \\\n",
    "    .join(f_SaveSettingsPerSessionHour, 'userId', 'outer') \\\n",
    "    .join(f_LogoutPerSessionHour, 'userId', 'outer') \\\n",
    "    .join(f_SubmitDowngradePerSessionHour, 'userId', 'outer') \\\n",
    "    .join(f_RollAdvertPerHour, 'userId', 'outer') \\\n",
    "    .join(f_ThumbsDownPerHour, 'userId', 'outer') \\\n",
    "    .join(f_UpgradePerHour, 'userId', 'outer') \\\n",
    "    .join(f_SubmitUpgradePerHour, 'userId', 'outer') \\\n",
    "    .join(f_SessionsPerDay, 'userId', 'outer') \\\n",
    "    .join(f_AddFriendPerDay, 'userId', 'outer') \\\n",
    "    .join(f_RollAdvertPerDay, 'userId', 'outer') \\\n",
    "    .join(f_ThumbsDownPerDay, 'userId', 'outer') \\\n",
    "    .join(f_ThumbsUpPerDay, 'userId', 'outer') \\\n",
    "    .join(f_TotalSongLength, 'userId', 'outer') \\\n",
    "    .join(f_UniqueSongCount, 'userId', 'outer') \\\n",
    "    .join(f_UniqueSongShare, 'userId', 'outer') \\\n",
    "    .drop('userId') \\\n",
    "    .fillna(0)"
   ]
  },
  {
   "cell_type": "markdown",
   "metadata": {},
   "source": [
    "### Cross-Validation"
   ]
  },
  {
   "cell_type": "code",
   "execution_count": 294,
   "metadata": {},
   "outputs": [
    {
     "name": "stdout",
     "output_type": "stream",
     "text": [
      "Cross validation started. Please wait...\n",
      "Cross validation done (1739 s).\n",
      "\n",
      "Cross validation parameters ordered by score, descending:\n"
     ]
    },
    {
     "data": {
      "text/html": [
       "<div>\n",
       "<style scoped>\n",
       "    .dataframe tbody tr th:only-of-type {\n",
       "        vertical-align: middle;\n",
       "    }\n",
       "\n",
       "    .dataframe tbody tr th {\n",
       "        vertical-align: top;\n",
       "    }\n",
       "\n",
       "    .dataframe thead th {\n",
       "        text-align: right;\n",
       "    }\n",
       "</style>\n",
       "<table border=\"1\" class=\"dataframe\">\n",
       "  <thead>\n",
       "    <tr style=\"text-align: right;\">\n",
       "      <th></th>\n",
       "      <th>maxDepth</th>\n",
       "      <th>numTrees</th>\n",
       "      <th>score</th>\n",
       "    </tr>\n",
       "  </thead>\n",
       "  <tbody>\n",
       "    <tr>\n",
       "      <th>7</th>\n",
       "      <td>6</td>\n",
       "      <td>20</td>\n",
       "      <td>0.759634</td>\n",
       "    </tr>\n",
       "    <tr>\n",
       "      <th>2</th>\n",
       "      <td>4</td>\n",
       "      <td>50</td>\n",
       "      <td>0.758248</td>\n",
       "    </tr>\n",
       "    <tr>\n",
       "      <th>8</th>\n",
       "      <td>6</td>\n",
       "      <td>50</td>\n",
       "      <td>0.756516</td>\n",
       "    </tr>\n",
       "    <tr>\n",
       "      <th>3</th>\n",
       "      <td>5</td>\n",
       "      <td>10</td>\n",
       "      <td>0.754577</td>\n",
       "    </tr>\n",
       "    <tr>\n",
       "      <th>4</th>\n",
       "      <td>5</td>\n",
       "      <td>20</td>\n",
       "      <td>0.752732</td>\n",
       "    </tr>\n",
       "    <tr>\n",
       "      <th>5</th>\n",
       "      <td>5</td>\n",
       "      <td>50</td>\n",
       "      <td>0.748812</td>\n",
       "    </tr>\n",
       "    <tr>\n",
       "      <th>6</th>\n",
       "      <td>6</td>\n",
       "      <td>10</td>\n",
       "      <td>0.745256</td>\n",
       "    </tr>\n",
       "    <tr>\n",
       "      <th>0</th>\n",
       "      <td>4</td>\n",
       "      <td>10</td>\n",
       "      <td>0.725191</td>\n",
       "    </tr>\n",
       "    <tr>\n",
       "      <th>1</th>\n",
       "      <td>4</td>\n",
       "      <td>20</td>\n",
       "      <td>0.722808</td>\n",
       "    </tr>\n",
       "  </tbody>\n",
       "</table>\n",
       "</div>"
      ],
      "text/plain": [
       "   maxDepth  numTrees     score\n",
       "7         6        20  0.759634\n",
       "2         4        50  0.758248\n",
       "8         6        50  0.756516\n",
       "3         5        10  0.754577\n",
       "4         5        20  0.752732\n",
       "5         5        50  0.748812\n",
       "6         6        10  0.745256\n",
       "0         4        10  0.725191\n",
       "1         4        20  0.722808"
      ]
     },
     "execution_count": 294,
     "metadata": {},
     "output_type": "execute_result"
    }
   ],
   "source": [
    "print('Cross validation started. Please wait...')\n",
    "\n",
    "# Create classifier\n",
    "rfc = RandomForestClassifier(seed=0)\n",
    "\n",
    "# Create pipeline\n",
    "scaler = StandardScaler(inputCol='NumFeatures', outputCol='features')\n",
    "pipeline = create_pipeline(data_rfc, rfc, scaler)\n",
    "\n",
    "# Define params\n",
    "paramGrid_rfc = ParamGridBuilder() \\\n",
    "    .addGrid(rfc.maxDepth, [4, 5, 6]) \\\n",
    "    .addGrid(rfc.numTrees, [10, 20, 50]) \\\n",
    "    .build()\n",
    "\n",
    "# Create cross validator\n",
    "crossval_rfc = CrossValidator(estimator = pipeline,\n",
    "                              estimatorParamMaps = paramGrid_rfc,\n",
    "                              evaluator = MulticlassClassificationEvaluator(),\n",
    "                              numFolds = 2)\n",
    "\n",
    "# Fit model\n",
    "start_time = time.time()\n",
    "crossval_model_rfc = crossval_rfc.fit(train)\n",
    "duration = time.time() - start_time\n",
    "\n",
    "print(f'Cross validation done ({int(duration)} s).')\n",
    "\n",
    "# Show best params\n",
    "print('\\nCross validation parameters ordered by score, descending:')\n",
    "scores = crossval_model_rfc.avgMetrics\n",
    "params = [{p.name: v for p, v in m.items()} for m in crossval_model_rfc.getEstimatorParamMaps()]\n",
    "params_df = pd.DataFrame(params)\n",
    "params_df['score'] = scores\n",
    "params_df.sort_values(by='score', ascending=False)"
   ]
  },
  {
   "cell_type": "markdown",
   "metadata": {},
   "source": [
    "### Best model"
   ]
  },
  {
   "cell_type": "code",
   "execution_count": 357,
   "metadata": {},
   "outputs": [
    {
     "name": "stdout",
     "output_type": "stream",
     "text": [
      "Model fitting started. Please wait...\n",
      "Train|Test data split done.\n",
      "Create pipeline done.\n",
      "Training done.\n",
      "Metrics prepared.\n",
      "Model fitting done (1456 s).\n"
     ]
    }
   ],
   "source": [
    "scaler = StandardScaler(inputCol='NumFeatures', outputCol='features')\n",
    "classifier = RandomForestClassifier(seed=0, maxDepth=6, numTrees=20)\n",
    "model_rfc_cvbest, metrics_rfc = fit_model(data_rfc, classifier, scaler)"
   ]
  },
  {
   "cell_type": "markdown",
   "metadata": {},
   "source": [
    "#### Result"
   ]
  },
  {
   "cell_type": "code",
   "execution_count": 356,
   "metadata": {},
   "outputs": [
    {
     "data": {
      "text/html": [
       "<div>\n",
       "<style scoped>\n",
       "    .dataframe tbody tr th:only-of-type {\n",
       "        vertical-align: middle;\n",
       "    }\n",
       "\n",
       "    .dataframe tbody tr th {\n",
       "        vertical-align: top;\n",
       "    }\n",
       "\n",
       "    .dataframe thead th {\n",
       "        text-align: right;\n",
       "    }\n",
       "</style>\n",
       "<table border=\"1\" class=\"dataframe\">\n",
       "  <thead>\n",
       "    <tr style=\"text-align: right;\">\n",
       "      <th></th>\n",
       "      <th>metrics value</th>\n",
       "    </tr>\n",
       "  </thead>\n",
       "  <tbody>\n",
       "    <tr>\n",
       "      <th>F1</th>\n",
       "      <td>0.912889</td>\n",
       "    </tr>\n",
       "    <tr>\n",
       "      <th>accuracy</th>\n",
       "      <td>0.920000</td>\n",
       "    </tr>\n",
       "    <tr>\n",
       "      <th>weighted precision</th>\n",
       "      <td>0.912609</td>\n",
       "    </tr>\n",
       "    <tr>\n",
       "      <th>weighted recall</th>\n",
       "      <td>0.920000</td>\n",
       "    </tr>\n",
       "    <tr>\n",
       "      <th>AUC</th>\n",
       "      <td>0.738636</td>\n",
       "    </tr>\n",
       "  </tbody>\n",
       "</table>\n",
       "</div>"
      ],
      "text/plain": [
       "                    metrics value\n",
       "F1                       0.912889\n",
       "accuracy                 0.920000\n",
       "weighted precision       0.912609\n",
       "weighted recall          0.920000\n",
       "AUC                      0.738636"
      ]
     },
     "execution_count": 356,
     "metadata": {},
     "output_type": "execute_result"
    }
   ],
   "source": [
    "# Show metrics\n",
    "metrics_rfc"
   ]
  },
  {
   "cell_type": "code",
   "execution_count": 336,
   "metadata": {},
   "outputs": [
    {
     "data": {
      "image/png": "[encoded data removed]",
      "text/plain": [
       "<Figure size 576x792 with 1 Axes>"
      ]
     },
     "metadata": {
      "needs_background": "light"
     },
     "output_type": "display_data"
    }
   ],
   "source": [
    "# Plot feature importances\n",
    "feature_coeff_rfc = model_rfc_cvbest.stages[-1].featureImportances\n",
    "feature_importances_rfc = pd.DataFrame(list(zip(features, feature_coeff_rf)), columns=['Feature', 'FeatureImportances']) \\\n",
    "    .sort_values('FeatureImportances', ascending=False)\n",
    "\n",
    "values = feature_importances_rfc.sort_values(by='FeatureImportances', ascending=False)['FeatureImportances']\n",
    "labels = feature_importances_rfc.sort_values(by='FeatureImportances', ascending=False)['Feature']\n",
    "\n",
    "plt.figure(figsize = [8, 11])\n",
    "plt.barh(np.arange(len(values)), values, height=0.6)\n",
    "ax = plt.gca()\n",
    "ax.set_yticks(np.arange(len(labels)))\n",
    "ax.set_yticklabels(labels)\n",
    "ax.invert_yaxis()  # labels read top-to-bottom\n",
    "ax.set_xlabel('FeatureImportances')\n",
    "ax.set_ylabel('Features')\n",
    "ax.set_title('Feature importance of Random Forest')\n",
    "plt.grid(True, axis='x', linewidth= 1, linestyle=\"--\")\n",
    "\n",
    "plt.show()"
   ]
  },
  {
   "cell_type": "markdown",
   "metadata": {},
   "source": [
    "### Summary"
   ]
  },
  {
   "cell_type": "code",
   "execution_count": null,
   "metadata": {},
   "outputs": [],
   "source": []
  },
  {
   "cell_type": "markdown",
   "metadata": {},
   "source": [
    "### GBT Classifier"
   ]
  },
  {
   "cell_type": "code",
   "execution_count": 391,
   "metadata": {},
   "outputs": [],
   "source": [
    "# Best features chosen for Random Forest classifier\n",
    "data_gbt = data_labels.join(f_Gender, 'userId', 'outer') \\\n",
    "    .join(f_LastLevel, 'userId', 'outer') \\\n",
    "    .join(f_LogCount, 'userId', 'outer') \\\n",
    "    .join(f_SongCount, 'userId', 'outer') \\\n",
    "    .join(f_NonSongCount, 'userId', 'outer') \\\n",
    "    .join(f_AboutCount, 'userId', 'outer') \\\n",
    "    .join(f_ThumbsUpCount, 'userId', 'outer') \\\n",
    "    .join(f_RollAdvertCount, 'userId', 'outer') \\\n",
    "    .join(f_SessionCount, 'userId', 'outer') \\\n",
    "    .join(f_AvgSessionLength, 'userId', 'outer') \\\n",
    "    .join(f_AvgSessionGap, 'userId', 'outer') \\\n",
    "    .join(f_DowngradePerSessionHour, 'userId', 'outer') \\\n",
    "    .join(f_ErrorPerSessionHour, 'userId', 'outer') \\\n",
    "    .join(f_SettingsPerSessionHour, 'userId', 'outer') \\\n",
    "    .join(f_SaveSettingsPerSessionHour, 'userId', 'outer') \\\n",
    "    .join(f_LogoutPerSessionHour, 'userId', 'outer') \\\n",
    "    .join(f_SubmitDowngradePerSessionHour, 'userId', 'outer') \\\n",
    "    .join(f_RollAdvertPerHour, 'userId', 'outer') \\\n",
    "    .join(f_ThumbsDownPerHour, 'userId', 'outer') \\\n",
    "    .join(f_UpgradePerHour, 'userId', 'outer') \\\n",
    "    .join(f_SubmitUpgradePerHour, 'userId', 'outer') \\\n",
    "    .join(f_SessionsPerDay, 'userId', 'outer') \\\n",
    "    .join(f_AddFriendPerDay, 'userId', 'outer') \\\n",
    "    .join(f_RollAdvertPerDay, 'userId', 'outer') \\\n",
    "    .join(f_ThumbsDownPerDay, 'userId', 'outer') \\\n",
    "    .join(f_ThumbsUpPerDay, 'userId', 'outer') \\\n",
    "    .join(f_TotalSongLength, 'userId', 'outer') \\\n",
    "    .join(f_UniqueSongCount, 'userId', 'outer') \\\n",
    "    .join(f_UniqueSongShare, 'userId', 'outer') \\\n",
    "    .drop('userId') \\\n",
    "    .fillna(0)"
   ]
  },
  {
   "cell_type": "code",
   "execution_count": 392,
   "metadata": {},
   "outputs": [
    {
     "name": "stdout",
     "output_type": "stream",
     "text": [
      "Model fitting started. Please wait...\n",
      "Train|Test data split done.\n",
      "Create pipeline done.\n",
      "Training done.\n",
      "Metrics prepared.\n",
      "Model fitting done (1645 s).\n"
     ]
    }
   ],
   "source": [
    "scaler = StandardScaler(inputCol='NumFeatures', outputCol='features')\n",
    "classifier = GBTClassifier(featuresCol='features', labelCol = 'label')\n",
    "model_gbt, metrics_gbt = fit_model(data_gbt, classifier, scaler)"
   ]
  },
  {
   "cell_type": "code",
   "execution_count": 393,
   "metadata": {},
   "outputs": [
    {
     "data": {
      "text/html": [
       "<div>\n",
       "<style scoped>\n",
       "    .dataframe tbody tr th:only-of-type {\n",
       "        vertical-align: middle;\n",
       "    }\n",
       "\n",
       "    .dataframe tbody tr th {\n",
       "        vertical-align: top;\n",
       "    }\n",
       "\n",
       "    .dataframe thead th {\n",
       "        text-align: right;\n",
       "    }\n",
       "</style>\n",
       "<table border=\"1\" class=\"dataframe\">\n",
       "  <thead>\n",
       "    <tr style=\"text-align: right;\">\n",
       "      <th></th>\n",
       "      <th>metrics value</th>\n",
       "    </tr>\n",
       "  </thead>\n",
       "  <tbody>\n",
       "    <tr>\n",
       "      <th>F1</th>\n",
       "      <td>0.856190</td>\n",
       "    </tr>\n",
       "    <tr>\n",
       "      <th>accuracy</th>\n",
       "      <td>0.840000</td>\n",
       "    </tr>\n",
       "    <tr>\n",
       "      <th>weighted precision</th>\n",
       "      <td>0.884000</td>\n",
       "    </tr>\n",
       "    <tr>\n",
       "      <th>weighted recall</th>\n",
       "      <td>0.840000</td>\n",
       "    </tr>\n",
       "    <tr>\n",
       "      <th>AUC</th>\n",
       "      <td>0.765152</td>\n",
       "    </tr>\n",
       "  </tbody>\n",
       "</table>\n",
       "</div>"
      ],
      "text/plain": [
       "                    metrics value\n",
       "F1                       0.856190\n",
       "accuracy                 0.840000\n",
       "weighted precision       0.884000\n",
       "weighted recall          0.840000\n",
       "AUC                      0.765152"
      ]
     },
     "execution_count": 393,
     "metadata": {},
     "output_type": "execute_result"
    }
   ],
   "source": [
    "metrics_gbt"
   ]
  },
  {
   "cell_type": "markdown",
   "metadata": {},
   "source": [
    "### Cross-Validation"
   ]
  },
  {
   "cell_type": "code",
   "execution_count": 394,
   "metadata": {},
   "outputs": [
    {
     "name": "stdout",
     "output_type": "stream",
     "text": [
      "Cross validation started. Please wait...\n",
      "Cross validation done (3995 s).\n",
      "\n",
      "Cross validation parameters ordered by score, descending:\n"
     ]
    },
    {
     "data": {
      "text/html": [
       "<div>\n",
       "<style scoped>\n",
       "    .dataframe tbody tr th:only-of-type {\n",
       "        vertical-align: middle;\n",
       "    }\n",
       "\n",
       "    .dataframe tbody tr th {\n",
       "        vertical-align: top;\n",
       "    }\n",
       "\n",
       "    .dataframe thead th {\n",
       "        text-align: right;\n",
       "    }\n",
       "</style>\n",
       "<table border=\"1\" class=\"dataframe\">\n",
       "  <thead>\n",
       "    <tr style=\"text-align: right;\">\n",
       "      <th></th>\n",
       "      <th>maxBins</th>\n",
       "      <th>maxDepth</th>\n",
       "      <th>maxIter</th>\n",
       "      <th>score</th>\n",
       "    </tr>\n",
       "  </thead>\n",
       "  <tbody>\n",
       "    <tr>\n",
       "      <th>2</th>\n",
       "      <td>32</td>\n",
       "      <td>2</td>\n",
       "      <td>50</td>\n",
       "      <td>0.798642</td>\n",
       "    </tr>\n",
       "    <tr>\n",
       "      <th>0</th>\n",
       "      <td>32</td>\n",
       "      <td>2</td>\n",
       "      <td>10</td>\n",
       "      <td>0.770697</td>\n",
       "    </tr>\n",
       "    <tr>\n",
       "      <th>1</th>\n",
       "      <td>32</td>\n",
       "      <td>5</td>\n",
       "      <td>10</td>\n",
       "      <td>0.730393</td>\n",
       "    </tr>\n",
       "    <tr>\n",
       "      <th>3</th>\n",
       "      <td>32</td>\n",
       "      <td>5</td>\n",
       "      <td>50</td>\n",
       "      <td>0.730393</td>\n",
       "    </tr>\n",
       "  </tbody>\n",
       "</table>\n",
       "</div>"
      ],
      "text/plain": [
       "   maxBins  maxDepth  maxIter     score\n",
       "2       32         2       50  0.798642\n",
       "0       32         2       10  0.770697\n",
       "1       32         5       10  0.730393\n",
       "3       32         5       50  0.730393"
      ]
     },
     "execution_count": 394,
     "metadata": {},
     "output_type": "execute_result"
    }
   ],
   "source": [
    "print('Cross validation started. Please wait...')\n",
    "\n",
    "# Create classifier\n",
    "gbt = GBTClassifier(seed=0)\n",
    "\n",
    "# Create pipeline\n",
    "scaler = StandardScaler(inputCol='NumFeatures', outputCol='features')\n",
    "pipeline = create_pipeline(data_gbt, gbt, scaler)\n",
    "\n",
    "# Define params\n",
    "paramGrid_gbt = ParamGridBuilder() \\\n",
    "    .addGrid(gbt.maxIter, [10, 50]) \\\n",
    "    .addGrid(gbt.maxDepth,[2, 5]) \\\n",
    "    .addGrid(gbt.maxBins, [32]) \\\n",
    "    .build()\n",
    "\n",
    "# Create cross validator\n",
    "crossval_gbt = CrossValidator(estimator = pipeline,\n",
    "                              estimatorParamMaps = paramGrid_gbt,\n",
    "                              evaluator = MulticlassClassificationEvaluator(),\n",
    "                              numFolds = 2)\n",
    "\n",
    "# Fit model\n",
    "start_time = time.time()\n",
    "crossval_model_gbt = crossval_gbt.fit(train)\n",
    "duration = time.time() - start_time\n",
    "\n",
    "print(f'Cross validation done ({int(duration)} s).')\n",
    "\n",
    "# Show best params\n",
    "print('\\nCross validation parameters ordered by score, descending:')\n",
    "scores = crossval_model_gbt.avgMetrics\n",
    "params = [{p.name: v for p, v in m.items()} for m in crossval_model_gbt.getEstimatorParamMaps()]\n",
    "params_df = pd.DataFrame(params)\n",
    "params_df['score'] = scores\n",
    "params_df.sort_values(by='score', ascending=False)"
   ]
  },
  {
   "cell_type": "code",
   "execution_count": null,
   "metadata": {},
   "outputs": [],
   "source": []
  },
  {
   "cell_type": "code",
   "execution_count": null,
   "metadata": {},
   "outputs": [],
   "source": []
  },
  {
   "cell_type": "code",
   "execution_count": null,
   "metadata": {},
   "outputs": [],
   "source": []
  },
  {
   "cell_type": "code",
   "execution_count": null,
   "metadata": {},
   "outputs": [],
   "source": []
  },
  {
   "cell_type": "markdown",
   "metadata": {},
   "source": [
    "# Final Steps\n",
    "Clean up your code, adding comments and renaming variables to make the code easier to read and maintain. Refer to the Spark Project Overview page and Data Scientist Capstone Project Rubric to make sure you are including all components of the capstone project and meet all expectations. Remember, this includes thorough documentation in a README file in a Github repository, as well as a web app or blog post."
   ]
  },
  {
   "cell_type": "code",
   "execution_count": null,
   "metadata": {
    "collapsed": true
   },
   "outputs": [],
   "source": []
  }
 ],
 "metadata": {
  "kernelspec": {
   "display_name": "Python 3",
   "language": "python",
   "name": "python3"
  },
  "language_info": {
   "codemirror_mode": {
    "name": "ipython",
    "version": 3
   },
   "file_extension": ".py",
   "mimetype": "text/x-python",
   "name": "python",
   "nbconvert_exporter": "python",
   "pygments_lexer": "ipython3",
   "version": "3.6.8"
  }
 },
 "nbformat": 4,
 "nbformat_minor": 2
}
