{
 "cells": [
  {
   "cell_type": "markdown",
   "metadata": {},
   "source": [
    "# Sparkify Project Workspace\n",
    "This workspace contains a tiny subset (128MB) of the full dataset available (12GB). Feel free to use this workspace to build your project, or to explore a smaller subset with Spark before deploying your cluster on the cloud. Instructions for setting up your Spark cluster is included in the last lesson of the Extracurricular Spark Course content.\n",
    "\n",
    "You can follow the steps below to guide your data analysis and model building portion of this project."
   ]
  },
  {
   "cell_type": "code",
   "execution_count": 1,
   "metadata": {},
   "outputs": [],
   "source": [
    "# Import libraries\n",
    "from pyspark.sql.types import *\n",
    "from pyspark.sql import SparkSession\n",
    "from pyspark.sql.functions import isnan, count, when, col, desc, udf, col, sort_array, asc, \\\n",
    "                                  avg, from_unixtime, split, min, max, round, lit, mean\n",
    "from pyspark.sql.functions import sum as Fsum\n",
    "from pyspark.sql.functions import row_number\n",
    "from pyspark.sql.window import Window\n",
    "\n",
    "#from pyspark.sql.types import IntegerType, TimestampType\n",
    "import datetime\n",
    "from pyspark.sql.functions import to_date, year, month, dayofmonth, dayofweek, hour, date_format, substring\n",
    "\n",
    "import numpy as np\n",
    "import pandas as pd\n",
    "import time\n",
    "%matplotlib inline\n",
    "import matplotlib.pyplot as plt\n",
    "import seaborn as sb"
   ]
  },
  {
   "cell_type": "code",
   "execution_count": 2,
   "metadata": {},
   "outputs": [],
   "source": [
    "# Create a Spark session\n",
    "spark = SparkSession \\\n",
    "    .builder \\\n",
    "    .appName(\"Sparkify\") \\\n",
    "    .getOrCreate()"
   ]
  },
  {
   "cell_type": "code",
   "execution_count": 3,
   "metadata": {},
   "outputs": [],
   "source": [
    "# Set time parser policy\n",
    "spark.conf.set(\"spark.sql.legacy.timeParserPolicy\",\"LEGACY\")"
   ]
  },
  {
   "cell_type": "code",
   "execution_count": 5,
   "metadata": {},
   "outputs": [],
   "source": [
    "# Load dataset\n",
    "path = \"data/mini_sparkify_event_data.json\"\n",
    "data = spark.read.json(path)\n",
    "original_count = data.count()"
   ]
  },
  {
   "cell_type": "markdown",
   "metadata": {},
   "source": [
    "### Common Functions"
   ]
  },
  {
   "cell_type": "code",
   "execution_count": 7,
   "metadata": {},
   "outputs": [],
   "source": [
    "# Set plot's figure size\n",
    "def set_plot_size(width, height):\n",
    "    return plt.figure(figsize = [width, height]);\n",
    "\n",
    "def get_user_logs(userId, sessionId=None):\n",
    "    if sessionId == None:\n",
    "        return data.where(data.userId == userId) \\\n",
    "            .select('tsDate', 'userId', 'sessionId', 'itemInSession', 'level', 'page') \\\n",
    "            .sort('tsDate', 'itemInSession')\n",
    "    else:\n",
    "        return data.where((data.userId == userId) & (data.sessionId == sessionId)) \\\n",
    "            .select('tsDate', 'userId', 'sessionId', 'itemInSession', 'level', 'page') \\\n",
    "            .sort('tsDate', 'itemInSession')\n",
    "    \n",
    "def get_users(churn):\n",
    "    return data.where(data.churn == churn).select('userId').dropDuplicates()"
   ]
  },
  {
   "cell_type": "markdown",
   "metadata": {},
   "source": [
    "# Load and prepare Dataset\n",
    "In this workspace, the mini-dataset file is `mini_sparkify_event_data.json`. Load and clean the dataset, checking for invalid or missing data - for example, records without userids or sessionids. "
   ]
  },
  {
   "cell_type": "code",
   "execution_count": 8,
   "metadata": {},
   "outputs": [
    {
     "name": "stdout",
     "output_type": "stream",
     "text": [
      "Churned users who cancelled subscription: 52\n"
     ]
    }
   ],
   "source": [
    "# Remove rows with missing users\n",
    "data = data.where(~((col('userId').isNull()) | (col('userId') == '')))\n",
    "\n",
    "# Exclude non-relevant columns\n",
    "data = data.drop('firstName')\n",
    "data = data.drop('lastName')\n",
    "\n",
    "data = data.withColumn('regDate', (col('registration') / 1000.0).cast(TimestampType()))\n",
    "data = data.withColumn('tsDate', (col('ts') / 1000.0).cast(TimestampType()))\n",
    "data.take(1)\n",
    "\n",
    "data = data.withColumn('city', split(data['location'], ',')[0])\n",
    "data = data.withColumn('state', split(data['location'], ',')[1])\n",
    "data = data.drop('location')\n",
    "\n",
    "# Define churned users using Cancellation Confirmation event (canceled)\n",
    "query_churn_by_cc = data.where(data.page == 'Cancellation Confirmation')\n",
    "print(f'Churned users who cancelled subscription: {query_churn_by_cc.count()}')\n",
    "\n",
    "# Label churned (canceled) users\n",
    "canceled = query_churn_by_cc.select('userId').dropDuplicates().select('userId')\n",
    "canceled_uids = [row.userId for row in canceled.collect()];\n",
    "set_churn = udf(lambda x: 1 if x in canceled_uids else 0, IntegerType())\n",
    "data = data.withColumn('churn', set_churn('userId'))\n",
    "\n",
    "# Add [userRowId] column that assigns a 1-based index to every user's log ordered by [ts]\n",
    "w =  Window.partitionBy(data.userId).orderBy('ts', 'itemInSession')\n",
    "data = data.withColumn('userRowId', row_number().over(w))\n",
    "\n",
    "# Add [userRowDescId] column that assigns a 1-based index to every user's log ordered by [ts] descending.\n",
    "w =  Window.partitionBy(data.userId).orderBy(col('ts').desc(), col('itemInSession').desc())\n",
    "data = data.withColumn('userRowDescId', row_number().over(w))\n",
    "\n",
    "# Add last level column\n",
    "last_levels = dict()\n",
    "for row in data.where(data.userRowDescId == 1).select('userId', 'level').collect():\n",
    "    last_levels[row.userId] = row.level\n",
    "get_level = udf(lambda userId: last_levels[userId])\n",
    "data = data.withColumn('lastLevel', get_level('userId'))"
   ]
  },
  {
   "cell_type": "code",
   "execution_count": 9,
   "metadata": {},
   "outputs": [],
   "source": [
    "users = data.select('churn', 'userId').dropDuplicates()"
   ]
  },
  {
   "cell_type": "code",
   "execution_count": 11,
   "metadata": {},
   "outputs": [
    {
     "data": {
      "text/plain": [
       "52"
      ]
     },
     "execution_count": 11,
     "metadata": {},
     "output_type": "execute_result"
    }
   ],
   "source": [
    "get_users(1).count()"
   ]
  },
  {
   "cell_type": "markdown",
   "metadata": {},
   "source": [
    "# Feature Engineering\n",
    "Once you've familiarized yourself with the data, build out the features you find promising to train your model on. To work with the full dataset, you can follow the following steps.\n",
    "- Write a script to extract the necessary features from the smaller subset of data\n",
    "- Ensure that your script is scalable, using the best practices discussed in Lesson 3\n",
    "- Try your script on the full data set, debugging your script if necessary\n",
    "\n",
    "If you are working in the classroom workspace, you can just extract features based on the small subset of data contained here. Be sure to transfer over this work to the larger dataset when you work on your Spark cluster."
   ]
  },
  {
   "cell_type": "code",
   "execution_count": 12,
   "metadata": {},
   "outputs": [],
   "source": [
    "labels = data.select(col('churn').alias('label'), 'userId').dropDuplicates()"
   ]
  },
  {
   "cell_type": "markdown",
   "metadata": {},
   "source": [
    "### User Attribute Features"
   ]
  },
  {
   "cell_type": "code",
   "execution_count": 99,
   "metadata": {},
   "outputs": [],
   "source": [
    "f_Gender = data \\\n",
    "    .select('userId', 'gender') \\\n",
    "    .dropDuplicates() \\\n",
    "    .replace(['M', 'F'], ['0', '1'], 'gender') \\\n",
    "    .select('userId', col('gender').cast('int').alias('Gender'))"
   ]
  },
  {
   "cell_type": "code",
   "execution_count": 100,
   "metadata": {},
   "outputs": [],
   "source": [
    "f_LastLevel = data \\\n",
    "    .select('userId', 'lastLevel') \\\n",
    "    .dropDuplicates() \\\n",
    "    .replace(['free', 'paid'], ['0', '1'], 'lastLevel') \\\n",
    "    .select('userId', col('lastLevel').cast('int').alias('LastLevel'))"
   ]
  },
  {
   "cell_type": "markdown",
   "metadata": {},
   "source": [
    "### Per Log Features"
   ]
  },
  {
   "cell_type": "code",
   "execution_count": 101,
   "metadata": {},
   "outputs": [],
   "source": [
    "def page_count(page):\n",
    "    return data \\\n",
    "        .where(data.page == page) \\\n",
    "        .groupby('userId') \\\n",
    "        .agg(count('userId').alias('count')) \\\n",
    "        .select('userId', col('count').alias(page.replace(' ', '') + 'Count'))"
   ]
  },
  {
   "cell_type": "code",
   "execution_count": 102,
   "metadata": {},
   "outputs": [],
   "source": [
    "f_LogCount = data \\\n",
    "    .groupby('userId') \\\n",
    "    .agg(count('userId').alias('LogCount'))"
   ]
  },
  {
   "cell_type": "code",
   "execution_count": 103,
   "metadata": {},
   "outputs": [],
   "source": [
    "f_SongCount = data \\\n",
    "    .where(data.page == 'NextSong') \\\n",
    "    .groupby('userId') \\\n",
    "    .agg(count('userId').alias('SongCount'))"
   ]
  },
  {
   "cell_type": "code",
   "execution_count": 104,
   "metadata": {},
   "outputs": [],
   "source": [
    "f_NonSongCount = data \\\n",
    "    .where(data.page != 'NextSong') \\\n",
    "    .groupby('userId') \\\n",
    "    .agg(count('userId').alias('NonSongCount'))"
   ]
  },
  {
   "cell_type": "code",
   "execution_count": 105,
   "metadata": {},
   "outputs": [],
   "source": [
    "f_AboutCount = page_count('About')"
   ]
  },
  {
   "cell_type": "code",
   "execution_count": 106,
   "metadata": {},
   "outputs": [],
   "source": [
    "f_ThumbsUpCount = page_count('Thumbs Up')"
   ]
  },
  {
   "cell_type": "code",
   "execution_count": 107,
   "metadata": {},
   "outputs": [],
   "source": [
    "f_RollAdvertCount = page_count('Roll Advert')"
   ]
  },
  {
   "cell_type": "markdown",
   "metadata": {},
   "source": [
    "### Per Session Features"
   ]
  },
  {
   "cell_type": "code",
   "execution_count": 108,
   "metadata": {},
   "outputs": [],
   "source": [
    "page_data = data.where(~data.page.isin(['Cancel', 'Cancellation Confirmation'])) \\\n",
    "    .select('page', 'userId', 'sessionId', 'ts')"
   ]
  },
  {
   "cell_type": "code",
   "execution_count": 109,
   "metadata": {},
   "outputs": [],
   "source": [
    "# Average page count per session hour\n",
    "session_hours = page_data \\\n",
    "    .groupby('userId', 'sessionId') \\\n",
    "    .agg(((max('ts') - min('ts'))/1000/3600).alias('sessionHours'))\n",
    "\n",
    "def page_session_hour(page):\n",
    "    return page_data \\\n",
    "        .where(data.page == page) \\\n",
    "        .join(session_hours, ['userId', 'sessionId'], 'inner') \\\n",
    "        .groupby( 'userId', 'sessionId', 'sessionHours') \\\n",
    "        .agg((count('userId')/col('sessionHours')).alias('avgPerSession')) \\\n",
    "        .groupby('userId') \\\n",
    "        .agg(avg('avgPerSession').alias('avg')) \\\n",
    "        .select('userId', col('avg').alias(page.replace(' ', '') + 'PerSessionHour'))"
   ]
  },
  {
   "cell_type": "code",
   "execution_count": 110,
   "metadata": {},
   "outputs": [],
   "source": [
    "# Average page count per hour\n",
    "user_hours = page_data \\\n",
    "    .groupby('userId', 'sessionId') \\\n",
    "    .agg(((max('ts') - min('ts'))/1000/3600).alias('sessionHours')) \\\n",
    "    .groupby('userId') \\\n",
    "    .agg(Fsum('sessionHours').alias('hours'))\n",
    "\n",
    "def page_hour(page):\n",
    "    return page_data \\\n",
    "        .where(data.page == page) \\\n",
    "        .join(user_hours, 'userId', 'inner') \\\n",
    "        .groupby('userId', 'hours') \\\n",
    "        .agg((count('userId')/col('hours')).alias('avg')) \\\n",
    "        .select('userId', col('avg').alias(page.replace(' ', '') + 'PerHour'))"
   ]
  },
  {
   "cell_type": "code",
   "execution_count": 111,
   "metadata": {},
   "outputs": [],
   "source": [
    "f_SessionCount = data \\\n",
    "    .select('userId', 'sessionId') \\\n",
    "    .dropDuplicates() \\\n",
    "    .groupby('userId') \\\n",
    "    .agg(count('userId').alias('SessionCount'))"
   ]
  },
  {
   "cell_type": "code",
   "execution_count": 112,
   "metadata": {},
   "outputs": [],
   "source": [
    "f_AvgSessionLength = data \\\n",
    "    .groupby('userId', 'sessionId') \\\n",
    "    .agg(((max('ts') - min('ts'))/1000).alias('sessionLength')) \\\n",
    "    .groupby('userId') \\\n",
    "    .agg(avg('sessionLength').alias('AvgSessionLength')) \\"
   ]
  },
  {
   "cell_type": "code",
   "execution_count": 113,
   "metadata": {},
   "outputs": [],
   "source": [
    "# Session gap\n",
    "users = data.select('userId').dropDuplicates()\n",
    "\n",
    "f_AvgSessionGap = data \\\n",
    "    .groupby('userId', 'sessionId') \\\n",
    "    .agg(min('ts').alias('startTime'), max('ts').alias('endTime')) \\\n",
    "    .groupby('userId') \\\n",
    "    .agg(count('userId').alias('sessionCount'), \\\n",
    "        ((max('endTime') - min('startTime'))/1000).alias('observationPeriodTime'), \\\n",
    "        (Fsum(col('endTime') - col('startTime'))/1000).alias('totalSessionTime')) \\\n",
    "    .where(col('sessionCount') > 1) \\\n",
    "    .join(users, 'userId', 'outer') \\\n",
    "    .fillna(0) \\\n",
    "    .select('userId', \\\n",
    "            (col('observationPeriodTime') - col('totalSessionTime')/(col('sessionCount') - 1)).alias('AvgSessionGap'))"
   ]
  },
  {
   "cell_type": "code",
   "execution_count": 114,
   "metadata": {},
   "outputs": [],
   "source": [
    "f_DowngradePerSessionHour = page_session_hour('Downgrade')"
   ]
  },
  {
   "cell_type": "code",
   "execution_count": 115,
   "metadata": {},
   "outputs": [],
   "source": [
    "f_ErrorPerSessionHour = page_session_hour('Error')"
   ]
  },
  {
   "cell_type": "code",
   "execution_count": 116,
   "metadata": {},
   "outputs": [],
   "source": [
    "f_SettingsPerSessionHour = page_session_hour('Settings')"
   ]
  },
  {
   "cell_type": "code",
   "execution_count": 117,
   "metadata": {},
   "outputs": [],
   "source": [
    "f_SaveSettingsPerSessionHour = page_session_hour('Save Settings')"
   ]
  },
  {
   "cell_type": "code",
   "execution_count": 118,
   "metadata": {},
   "outputs": [],
   "source": [
    "f_LogoutPerSessionHour = page_session_hour('Logout')"
   ]
  },
  {
   "cell_type": "code",
   "execution_count": 119,
   "metadata": {},
   "outputs": [],
   "source": [
    "f_SubmitDowngradePerSessionHour = page_session_hour('Submit Downgrade')"
   ]
  },
  {
   "cell_type": "markdown",
   "metadata": {},
   "source": [
    "### Per Hour Features"
   ]
  },
  {
   "cell_type": "code",
   "execution_count": 120,
   "metadata": {},
   "outputs": [],
   "source": [
    "f_RollAdvertPerHour = page_hour('Roll Advert')"
   ]
  },
  {
   "cell_type": "code",
   "execution_count": 121,
   "metadata": {},
   "outputs": [],
   "source": [
    "f_ThumbsDownPerHour = page_hour('Thumbs Down')"
   ]
  },
  {
   "cell_type": "code",
   "execution_count": 122,
   "metadata": {},
   "outputs": [],
   "source": [
    "f_UpgradePerHour = page_hour('Upgrade')"
   ]
  },
  {
   "cell_type": "code",
   "execution_count": 123,
   "metadata": {},
   "outputs": [],
   "source": [
    "f_SubmitUpgradePerHour = page_hour('Submit Upgrade')"
   ]
  },
  {
   "cell_type": "markdown",
   "metadata": {},
   "source": [
    "### Per Day Features"
   ]
  },
  {
   "cell_type": "code",
   "execution_count": 124,
   "metadata": {},
   "outputs": [],
   "source": [
    "# Average page count per day\n",
    "page_data = data \\\n",
    "    .where(~data.page.isin(['Cancel', 'Cancellation Confirmation'])) \\\n",
    "    .select('userId', 'page', 'date')\n",
    "\n",
    "def page_day(page):\n",
    "    return page_data \\\n",
    "        .where(data.page == page) \\\n",
    "        .groupby('userId', 'date') \\\n",
    "        .count() \\\n",
    "        .groupby('userId') \\\n",
    "        .agg(avg('count').alias(page.replace(' ', '') + 'PerDay'))"
   ]
  },
  {
   "cell_type": "code",
   "execution_count": 125,
   "metadata": {},
   "outputs": [],
   "source": [
    "# Average sessions per day\n",
    "f_SessionsPerDay = data \\\n",
    "    .select('userId', 'date', 'sessionId') \\\n",
    "    .dropDuplicates() \\\n",
    "    .groupby('userId', 'date') \\\n",
    "    .count() \\\n",
    "    .groupby('userId') \\\n",
    "    .agg(avg('count').alias('SessionsPerDay'))"
   ]
  },
  {
   "cell_type": "code",
   "execution_count": 126,
   "metadata": {},
   "outputs": [],
   "source": [
    "f_AddFriendPerDay = page_day('Add Friend')"
   ]
  },
  {
   "cell_type": "code",
   "execution_count": 127,
   "metadata": {},
   "outputs": [],
   "source": [
    "f_RollAdvertPerDay = page_day('Roll Advert')"
   ]
  },
  {
   "cell_type": "code",
   "execution_count": 128,
   "metadata": {},
   "outputs": [],
   "source": [
    "f_ThumbsDownPerDay = page_day('Thumbs Down')"
   ]
  },
  {
   "cell_type": "code",
   "execution_count": 129,
   "metadata": {},
   "outputs": [],
   "source": [
    "f_ThumbsUpPerDay = page_day('Thumbs Up')"
   ]
  },
  {
   "cell_type": "markdown",
   "metadata": {},
   "source": [
    "### Per Song Features"
   ]
  },
  {
   "cell_type": "code",
   "execution_count": 130,
   "metadata": {},
   "outputs": [],
   "source": [
    "# Total song length \n",
    "f_TotalSongLength = data \\\n",
    "    .where(data.page == 'NextSong') \\\n",
    "    .select('userId', 'length') \\\n",
    "    .groupby('userId') \\\n",
    "    .agg(Fsum('length').alias('TotalSongLength'))"
   ]
  },
  {
   "cell_type": "code",
   "execution_count": 131,
   "metadata": {},
   "outputs": [],
   "source": [
    "# Unique song count\n",
    "f_UniqueSongCount = data \\\n",
    "    .where(data.page == 'NextSong') \\\n",
    "    .select('userId', 'song') \\\n",
    "    .dropDuplicates() \\\n",
    "    .groupby('userId') \\\n",
    "    .agg(count('userId').alias('UniqueSongCount'))"
   ]
  },
  {
   "cell_type": "code",
   "execution_count": 132,
   "metadata": {},
   "outputs": [],
   "source": [
    "# Share of unique songs among all user's songs\n",
    "totals = data \\\n",
    "    .where(data.page == 'NextSong') \\\n",
    "    .select('userId') \\\n",
    "    .groupby('userId') \\\n",
    "    .agg(count('userId').alias('total'))\n",
    "\n",
    "f_UniqueSongShare = data \\\n",
    "    .where(data.page == 'NextSong') \\\n",
    "    .select('userId', 'song') \\\n",
    "    .dropDuplicates() \\\n",
    "    .groupby('userId') \\\n",
    "    .count() \\\n",
    "    .join(totals, on = ['userId'], how = 'inner') \\\n",
    "    .select('userId', (col('count')/col('total')).alias('UniqueSongShare')) "
   ]
  },
  {
   "cell_type": "markdown",
   "metadata": {
    "collapsed": true
   },
   "source": [
    "### model_data"
   ]
  },
  {
   "cell_type": "code",
   "execution_count": 134,
   "metadata": {},
   "outputs": [],
   "source": [
    "# model 7 (churn #1, seed 0)\n",
    "model_data  = labels.join(f_Gender, 'userId', 'outer') \\\n",
    "    .join(f_LastLevel, 'userId', 'outer') \\\n",
    "    .join(f_LogCount, 'userId', 'outer') \\\n",
    "    .join(f_SongCount, 'userId', 'outer') \\\n",
    "    .join(f_NonSongCount, 'userId', 'outer') \\\n",
    "    .join(f_AboutCount, 'userId', 'outer') \\\n",
    "    .join(f_ThumbsUpCount, 'userId', 'outer') \\\n",
    "    .join(f_RollAdvertCount, 'userId', 'outer') \\\n",
    "    .join(f_SessionCount, 'userId', 'outer') \\\n",
    "    .join(f_AvgSessionLength, 'userId', 'outer') \\\n",
    "    .join(f_AvgSessionGap, 'userId', 'outer') \\\n",
    "    .join(f_DowngradePerSessionHour, 'userId', 'outer') \\\n",
    "    .join(f_ErrorPerSessionHour, 'userId', 'outer') \\\n",
    "    .join(f_SettingsPerSessionHour, 'userId', 'outer') \\\n",
    "    .join(f_SaveSettingsPerSessionHour, 'userId', 'outer') \\\n",
    "    .join(f_LogoutPerSessionHour, 'userId', 'outer') \\\n",
    "    .join(f_SubmitDowngradePerSessionHour, 'userId', 'outer') \\\n",
    "    .join(f_RollAdvertPerHour, 'userId', 'outer') \\\n",
    "    .join(f_ThumbsDownPerHour, 'userId', 'outer') \\\n",
    "    .join(f_UpgradePerHour, 'userId', 'outer') \\\n",
    "    .join(f_SubmitUpgradePerHour, 'userId', 'outer') \\\n",
    "    .join(f_SessionsPerDay, 'userId', 'outer') \\\n",
    "    .join(f_AddFriendPerDay, 'userId', 'outer') \\\n",
    "    .join(f_RollAdvertPerDay, 'userId', 'outer') \\\n",
    "    .join(f_ThumbsDownPerDay, 'userId', 'outer') \\\n",
    "    .join(f_ThumbsUpPerDay, 'userId', 'outer') \\\n",
    "    .join(f_TotalSongLength, 'userId', 'outer') \\\n",
    "    .join(f_UniqueSongCount, 'userId', 'outer') \\\n",
    "    .join(f_UniqueSongShare, 'userId', 'outer') \\\n",
    "    .drop('userId') \\\n",
    "    .fillna(0)"
   ]
  },
  {
   "cell_type": "code",
   "execution_count": 177,
   "metadata": {},
   "outputs": [],
   "source": [
    "# model 6\n",
    "model_data  = labels.join(f_EventCount, 'userId', 'outer') \\\n",
    "    .join(f_AvgSessionCount, 'userId', 'outer') \\\n",
    "    .join(f_RollAdvertCount, 'userId', 'outer') \\\n",
    "    .join(f_ThumbsUpCount, 'userId', 'outer') \\\n",
    "    .join(f_RollAdvertCountPerHour, 'userId', 'outer') \\\n",
    "    .join(f_ThumbsDownCountPerHour, 'userId', 'outer') \\\n",
    "    .join(f_SettingsCountPerHour, 'userId', 'outer') \\\n",
    "    .join(f_LogoutCountPerHour, 'userId', 'outer') \\\n",
    "    .join(f_SaveSettingsCountPerHour, 'userId', 'outer') \\\n",
    "    .join(f_TotalSongLength, 'userId', 'outer') \\\n",
    "    .join(f_AvgNonSongEventCount, 'userId', 'outer') \\\n",
    "    .join(f_UniqueSongCount, 'userId', 'outer') \\\n",
    "    .join(f_UniqueSongShare, 'userId', 'outer') \\\n",
    "    .join(f_AvgGapTime, 'userId', 'outer') \\\n",
    "    .join(f_ThumbsDownCountPerDay, 'userId', 'outer') \\\n",
    "    .join(f_ThumbsUpCountPerDay, 'userId', 'outer') \\\n",
    "    .join(f_AvgSessionCountPerDay, 'userId', 'outer') \\\n",
    "    .drop('userId') \\\n",
    "    .fillna(0)"
   ]
  },
  {
   "cell_type": "code",
   "execution_count": 148,
   "metadata": {},
   "outputs": [],
   "source": [
    "# model 5\n",
    "model_data  = labels.join(f_EventCount, 'userId', 'outer') \\\n",
    "    .join(f_AvgSessionCount, 'userId', 'outer') \\\n",
    "    .join(f_RollAdvertCount, 'userId', 'outer') \\\n",
    "    .join(f_SubmitUpgradeCount, 'userId', 'outer') \\\n",
    "    .join(f_ThumbsUpCount, 'userId', 'outer') \\\n",
    "    .join(f_RollAdvertCountPerHour, 'userId', 'outer') \\\n",
    "    .join(f_SubmitUpgradeCountPerHour, 'userId', 'outer') \\\n",
    "    .join(f_ThumbsDownCountPerHour, 'userId', 'outer') \\\n",
    "    .join(f_UpgradeCountPerHour, 'userId', 'outer') \\\n",
    "    .join(f_SettingsCountPerHour, 'userId', 'outer') \\\n",
    "    .join(f_LogoutCountPerHour, 'userId', 'outer') \\\n",
    "    .join(f_SaveSettingsCountPerHour, 'userId', 'outer') \\\n",
    "    .join(f_TotalSongLength, 'userId', 'outer') \\\n",
    "    .join(f_AvgNonSongEventCount, 'userId', 'outer') \\\n",
    "    .join(f_UniqueSongCount, 'userId', 'outer') \\\n",
    "    .join(f_UniqueSongShare, 'userId', 'outer') \\\n",
    "    .join(f_AvgGapTime, 'userId', 'outer') \\\n",
    "    .join(f_ThumbsDownCountPerDay, 'userId', 'outer') \\\n",
    "    .join(f_ThumbsUpCountPerDay, 'userId', 'outer') \\\n",
    "    .join(f_UpgradeCountPerDay, 'userId', 'outer') \\\n",
    "    .drop('userId') \\\n",
    "    .fillna(0)"
   ]
  },
  {
   "cell_type": "code",
   "execution_count": null,
   "metadata": {},
   "outputs": [],
   "source": [
    "# model 4\n",
    "model_data  = labels.join(f_EventCount, 'userId', 'outer') \\\n",
    "    .join(f_AvgSessionCount, 'userId', 'outer') \\\n",
    "    .join(f_RollAdvertCount, 'userId', 'outer') \\\n",
    "    .join(f_SubmitUpgradeCount, 'userId', 'outer') \\\n",
    "    .join(f_ThumbsUpCount, 'userId', 'outer') \\\n",
    "    .join(f_RollAdvertCountPerHour, 'userId', 'outer') \\\n",
    "    .join(f_SubmitUpgradeCountPerHour, 'userId', 'outer') \\\n",
    "    .join(f_ThumbsDownCountPerHour, 'userId', 'outer') \\\n",
    "    .join(f_UpgradeCountPerHour, 'userId', 'outer') \\\n",
    "    .join(f_SettingsCountPerHour, 'userId', 'outer') \\\n",
    "    .join(f_LogoutCountPerHour, 'userId', 'outer') \\\n",
    "    .join(f_SaveSettingsCountPerHour, 'userId', 'outer') \\\n",
    "    .join(f_TotalSongLength, 'userId', 'outer') \\\n",
    "    .join(f_AvgNonSongEventCount, 'userId', 'outer') \\\n",
    "    .join(f_UniqueSongCount, 'userId', 'outer') \\\n",
    "    .join(f_UniqueSongShare, 'userId', 'outer') \\\n",
    "    .join(f_AvgGapTime, 'userId', 'outer') \\\n",
    "    .drop('userId') \\\n",
    "    .fillna(0)"
   ]
  },
  {
   "cell_type": "code",
   "execution_count": 130,
   "metadata": {},
   "outputs": [],
   "source": [
    "# model 3\n",
    "model_data  = labels.join(f_EventCount, 'userId', 'outer') \\\n",
    "    .join(f_AvgSessionCount, 'userId', 'outer') \\\n",
    "    .join(f_RollAdvertCount, 'userId', 'outer') \\\n",
    "    .join(f_SubmitUpgradeCount, 'userId', 'outer') \\\n",
    "    .join(f_ThumbsUpCount, 'userId', 'outer') \\\n",
    "    .join(f_RollAdvertCountPerHour, 'userId', 'outer') \\\n",
    "    .join(f_SubmitUpgradeCountPerHour, 'userId', 'outer') \\\n",
    "    .join(f_ThumbsDownCountPerHour, 'userId', 'outer') \\\n",
    "    .join(f_UpgradeCountPerHour, 'userId', 'outer') \\\n",
    "    .join(f_SettingsCountPerHour, 'userId', 'outer') \\\n",
    "    .join(f_LogoutCountPerHour, 'userId', 'outer') \\\n",
    "    .join(f_SaveSettingsCountPerHour, 'userId', 'outer') \\\n",
    "    .join(f_TotalSongLength, 'userId', 'outer') \\\n",
    "    .join(f_AvgNonSongEventCount, 'userId', 'outer') \\\n",
    "    .join(f_UniqueSongCount, 'userId', 'outer') \\\n",
    "    .join(f_UniqueSongShare, 'userId', 'outer') \\\n",
    "    .drop('userId') \\\n",
    "    .fillna(0)"
   ]
  },
  {
   "cell_type": "markdown",
   "metadata": {},
   "source": [
    "# Modeling\n",
    "Split the full dataset into train, test, and validation sets. Test out several of the machine learning methods you learned. Evaluate the accuracy of the various models, tuning parameters as necessary. Determine your winning model based on test accuracy and report results on the validation set. Since the churned users are a fairly small subset, I suggest using F1 score as the metric to optimize."
   ]
  },
  {
   "cell_type": "code",
   "execution_count": 135,
   "metadata": {},
   "outputs": [],
   "source": [
    "from pyspark.ml.feature import VectorAssembler, Normalizer, StandardScaler, MinMaxScaler;\n",
    "from pyspark.ml import Pipeline;\n",
    "from pyspark.ml.classification import LogisticRegression, RandomForestClassifier, GBTClassifier,NaiveBayes,DecisionTreeClassifier;\n",
    "from pyspark.ml.tuning import CrossValidator, ParamGridBuilder;\n",
    "from pyspark.ml.evaluation import MulticlassClassificationEvaluator;"
   ]
  },
  {
   "cell_type": "code",
   "execution_count": 136,
   "metadata": {},
   "outputs": [
    {
     "name": "stdout",
     "output_type": "stream",
     "text": [
      "root\n",
      " |-- label: integer (nullable = true)\n",
      " |-- Gender: integer (nullable = true)\n",
      " |-- LastLevel: integer (nullable = true)\n",
      " |-- LogCount: long (nullable = true)\n",
      " |-- SongCount: long (nullable = true)\n",
      " |-- NonSongCount: long (nullable = true)\n",
      " |-- AboutCount: long (nullable = true)\n",
      " |-- ThumbsUpCount: long (nullable = true)\n",
      " |-- RollAdvertCount: long (nullable = true)\n",
      " |-- SessionCount: long (nullable = true)\n",
      " |-- AvgSessionLength: double (nullable = false)\n",
      " |-- AvgSessionGap: double (nullable = false)\n",
      " |-- DowngradePerSessionHour: double (nullable = false)\n",
      " |-- ErrorPerSessionHour: double (nullable = false)\n",
      " |-- SettingsPerSessionHour: double (nullable = false)\n",
      " |-- SaveSettingsPerSessionHour: double (nullable = false)\n",
      " |-- LogoutPerSessionHour: double (nullable = false)\n",
      " |-- SubmitDowngradePerSessionHour: double (nullable = false)\n",
      " |-- RollAdvertPerHour: double (nullable = false)\n",
      " |-- ThumbsDownPerHour: double (nullable = false)\n",
      " |-- UpgradePerHour: double (nullable = false)\n",
      " |-- SubmitUpgradePerHour: double (nullable = false)\n",
      " |-- SessionsPerDay: double (nullable = false)\n",
      " |-- AddFriendPerDay: double (nullable = false)\n",
      " |-- RollAdvertPerDay: double (nullable = false)\n",
      " |-- ThumbsDownPerDay: double (nullable = false)\n",
      " |-- ThumbsUpPerDay: double (nullable = false)\n",
      " |-- TotalSongLength: double (nullable = false)\n",
      " |-- UniqueSongCount: long (nullable = true)\n",
      " |-- UniqueSongShare: double (nullable = false)\n",
      "\n"
     ]
    }
   ],
   "source": [
    "model_data.printSchema()"
   ]
  },
  {
   "cell_type": "code",
   "execution_count": 137,
   "metadata": {},
   "outputs": [],
   "source": [
    "#Put the features to be trained into a vector\n",
    "features = model_data.drop('label').columns\n",
    "assembler = VectorAssembler(inputCols=features, outputCol=\"NumFeatures\")\n",
    "\n",
    "# Use StandardScaler\n",
    "stdscaler = StandardScaler(inputCol=\"NumFeatures\", outputCol=\"features\")\n",
    "\n",
    "# Use MinMaxScaler\n",
    "minmaxscaler = MinMaxScaler(inputCol=\"NumFeatures\", outputCol=\"features\")"
   ]
  },
  {
   "cell_type": "code",
   "execution_count": 138,
   "metadata": {},
   "outputs": [],
   "source": [
    "# spilt data for Train and test \n",
    "train, test = model_data.randomSplit([0.8, 0.2], seed = 0);"
   ]
  },
  {
   "cell_type": "code",
   "execution_count": 139,
   "metadata": {},
   "outputs": [],
   "source": [
    "# using five different modeling approaches \n",
    "\n",
    "# Logistic Regression\n",
    "model_lr = LogisticRegression(featuresCol=\"features\")\n",
    "# naive bayes\n",
    "model_nb = NaiveBayes(featuresCol='features')\n",
    "# decision tree \n",
    "model_dtc = DecisionTreeClassifier(featuresCol='features', seed=4)\n",
    "# RandomForestClassifier\n",
    "model_rf = RandomForestClassifier(featuresCol=\"features\")\n",
    "# GBT Classifier\n",
    "model_gbt = GBTClassifier(featuresCol=\"features\")"
   ]
  },
  {
   "cell_type": "code",
   "execution_count": 140,
   "metadata": {},
   "outputs": [],
   "source": [
    "# Create Pipeline with standardscaled data \n",
    "pipeline_nb = Pipeline(stages=[assembler, stdscaler, model_nb]);\n",
    "pipeline_lr = Pipeline(stages=[assembler, stdscaler, model_lr]);\n",
    "pipeline_dtc = Pipeline(stages=[assembler, stdscaler, model_dtc]);\n",
    "pipeline_rf = Pipeline(stages=[assembler, stdscaler, model_rf]);\n",
    "pipeline_gbt = Pipeline(stages=[assembler, stdscaler, model_gbt])"
   ]
  },
  {
   "cell_type": "code",
   "execution_count": 141,
   "metadata": {},
   "outputs": [],
   "source": [
    "# model performance evaluation\n",
    "def eval_model(model, test, metric):\n",
    "    \"\"\" Calculate Model Scores metric\n",
    "        Input: \n",
    "            model- trained model or pipeline object\n",
    "            metric- the metric chosen to measure performance\n",
    "            data - dataset for the evaluation\n",
    "        Output:\n",
    "            score\n",
    "    \"\"\"\n",
    "    predictions = model.transform(test)\n",
    "    evaluator = MulticlassClassificationEvaluator(labelCol = \"label\", metricName = metric)\n",
    "\n",
    "    # find score\n",
    "    score = evaluator.evaluate(predictions)\n",
    "    #return score\n",
    "    return score"
   ]
  },
  {
   "cell_type": "code",
   "execution_count": 142,
   "metadata": {},
   "outputs": [
    {
     "data": {
      "text/plain": [
       "52"
      ]
     },
     "execution_count": 142,
     "metadata": {},
     "output_type": "execute_result"
    }
   ],
   "source": [
    "get_users(1).count()"
   ]
  },
  {
   "cell_type": "markdown",
   "metadata": {},
   "source": [
    "### Logistic Regression"
   ]
  },
  {
   "cell_type": "code",
   "execution_count": 143,
   "metadata": {},
   "outputs": [
    {
     "name": "stdout",
     "output_type": "stream",
     "text": [
      "Total training time for logistic regression: 512.9540655612946 seconds\n"
     ]
    }
   ],
   "source": [
    "# Fit model\n",
    "start_lr = time.time()\n",
    "model_lr_fitted = pipeline_lr.fit(train);\n",
    "end_lr = time.time()\n",
    "lr_time = end_lr - start_lr\n",
    "\n",
    "print('Total training time for logistic regression: {} seconds'.format(lr_time))"
   ]
  },
  {
   "cell_type": "code",
   "execution_count": 144,
   "metadata": {},
   "outputs": [
    {
     "name": "stdout",
     "output_type": "stream",
     "text": [
      "Logistic Regression - Accuracy: 0.82 Logistic Regression - F1 score: 0.8348235294117647\n"
     ]
    }
   ],
   "source": [
    "# model 7\n",
    "lr_f1 = eval_model(model_lr_fitted, test,\"f1\")\n",
    "lr_acc = eval_model(model_lr_fitted, test,\"accuracy\")\n",
    "print('Logistic Regression - Accuracy: {}'.format(lr_acc),'Logistic Regression - F1 score: {}'.format(lr_f1))"
   ]
  },
  {
   "cell_type": "code",
   "execution_count": null,
   "metadata": {},
   "outputs": [],
   "source": []
  },
  {
   "cell_type": "code",
   "execution_count": 56,
   "metadata": {},
   "outputs": [
    {
     "name": "stdout",
     "output_type": "stream",
     "text": [
      "Logistic Regression - Accuracy: 0.7166666666666667 Logistic Regression - F1 score: 0.6682596575069694\n"
     ]
    }
   ],
   "source": [
    "# Small model\n",
    "lr_f1 = eval_model(model_lr_fitted, test,\"f1\")\n",
    "lr_acc = eval_model(model_lr_fitted, test,\"accuracy\")\n",
    "print('Logistic Regression - Accuracy: {}'.format(lr_acc),'Logistic Regression - F1 score: {}'.format(lr_f1))"
   ]
  },
  {
   "cell_type": "code",
   "execution_count": 73,
   "metadata": {},
   "outputs": [
    {
     "name": "stdout",
     "output_type": "stream",
     "text": [
      "Logistic Regression - Accuracy: 0.7666666666666667 Logistic Regression - F1 score: 0.7542179662562699\n"
     ]
    }
   ],
   "source": [
    "# Extended model\n",
    "lr_f1 = eval_model(model_lr_fitted, test,\"f1\")\n",
    "lr_acc = eval_model(model_lr_fitted, test,\"accuracy\")\n",
    "print('Logistic Regression - Accuracy: {}'.format(lr_acc),'Logistic Regression - F1 score: {}'.format(lr_f1))"
   ]
  },
  {
   "cell_type": "code",
   "execution_count": 107,
   "metadata": {},
   "outputs": [
    {
     "name": "stdout",
     "output_type": "stream",
     "text": [
      "Logistic Regression - Accuracy: 0.6935483870967742 Logistic Regression - F1 score: 0.6575340563509366\n"
     ]
    }
   ],
   "source": [
    "# model 2\n",
    "lr_f1 = eval_model(model_lr_fitted, test,\"f1\")\n",
    "lr_acc = eval_model(model_lr_fitted, test,\"accuracy\")\n",
    "print('Logistic Regression - Accuracy: {}'.format(lr_acc),'Logistic Regression - F1 score: {}'.format(lr_f1))"
   ]
  },
  {
   "cell_type": "code",
   "execution_count": 119,
   "metadata": {},
   "outputs": [
    {
     "name": "stdout",
     "output_type": "stream",
     "text": [
      "Logistic Regression - Accuracy: 0.6935483870967742 Logistic Regression - F1 score: 0.6412688470314528\n"
     ]
    }
   ],
   "source": [
    "# model 3\n",
    "lr_f1 = eval_model(model_lr_fitted, test,\"f1\")\n",
    "lr_acc = eval_model(model_lr_fitted, test,\"accuracy\")\n",
    "print('Logistic Regression - Accuracy: {}'.format(lr_acc),'Logistic Regression - F1 score: {}'.format(lr_f1))"
   ]
  },
  {
   "cell_type": "code",
   "execution_count": 137,
   "metadata": {},
   "outputs": [
    {
     "name": "stdout",
     "output_type": "stream",
     "text": [
      "Logistic Regression - Accuracy: 0.8709677419354839 Logistic Regression - F1 score: 0.8525674199298487\n"
     ]
    }
   ],
   "source": [
    "# model 4 (with session gap)\n",
    "lr_f1 = eval_model(model_lr_fitted, test,\"f1\")\n",
    "lr_acc = eval_model(model_lr_fitted, test,\"accuracy\")\n",
    "print('Logistic Regression - Accuracy: {}'.format(lr_acc),'Logistic Regression - F1 score: {}'.format(lr_f1))"
   ]
  },
  {
   "cell_type": "code",
   "execution_count": 155,
   "metadata": {},
   "outputs": [
    {
     "name": "stdout",
     "output_type": "stream",
     "text": [
      "Logistic Regression - Accuracy: 0.8387096774193549 Logistic Regression - F1 score: 0.8295943687648757\n"
     ]
    }
   ],
   "source": [
    "# model 5\n",
    "lr_f1 = eval_model(model_lr_fitted, test,\"f1\")\n",
    "\n",
    "lr_acc = eval_model(model_lr_fitted, test,\"accuracy\")\n",
    "print('Logistic Regression - Accuracy: {}'.format(lr_acc),'Logistic Regression - F1 score: {}'.format(lr_f1))"
   ]
  },
  {
   "cell_type": "code",
   "execution_count": 168,
   "metadata": {},
   "outputs": [
    {
     "name": "stdout",
     "output_type": "stream",
     "text": [
      "Logistic Regression - Accuracy: 0.8548387096774194 Logistic Regression - F1 score: 0.8300747170148985\n"
     ]
    }
   ],
   "source": [
    "# model 6\n",
    "lr_f1 = eval_model(model_lr_fitted, test,\"f1\")\n",
    "lr_acc = eval_model(model_lr_fitted, test,\"accuracy\")\n",
    "print('Logistic Regression - Accuracy: {}'.format(lr_acc),'Logistic Regression - F1 score: {}'.format(lr_f1))"
   ]
  },
  {
   "cell_type": "code",
   "execution_count": 183,
   "metadata": {},
   "outputs": [
    {
     "name": "stdout",
     "output_type": "stream",
     "text": [
      "Logistic Regression - Accuracy: 0.8548387096774194 Logistic Regression - F1 score: 0.8300747170148985\n"
     ]
    }
   ],
   "source": [
    "# model 6 - churn #1\n",
    "lr_f1 = eval_model(model_lr_fitted, test,\"f1\")\n",
    "lr_acc = eval_model(model_lr_fitted, test,\"accuracy\")\n",
    "print('Logistic Regression - Accuracy: {}'.format(lr_acc),'Logistic Regression - F1 score: {}'.format(lr_f1))"
   ]
  },
  {
   "cell_type": "code",
   "execution_count": 190,
   "metadata": {},
   "outputs": [
    {
     "name": "stdout",
     "output_type": "stream",
     "text": [
      "Logistic Regression - Accuracy: 0.86 Logistic Regression - F1 score: 0.8645800176834659\n"
     ]
    }
   ],
   "source": [
    "# model 6 - churn #1 (seed=0)\n",
    "lr_f1 = eval_model(model_lr_fitted, test,\"f1\")\n",
    "lr_acc = eval_model(model_lr_fitted, test,\"accuracy\")\n",
    "print('Logistic Regression - Accuracy: {}'.format(lr_acc),'Logistic Regression - F1 score: {}'.format(lr_f1))"
   ]
  },
  {
   "cell_type": "markdown",
   "metadata": {},
   "source": [
    "### Other models"
   ]
  },
  {
   "cell_type": "code",
   "execution_count": 74,
   "metadata": {},
   "outputs": [
    {
     "name": "stdout",
     "output_type": "stream",
     "text": [
      "Total training time for decision tree: 599.4960293769836 seconds\n",
      "Total training time for naive bayes: 398.19781160354614 seconds\n",
      "Total training time for random forest: 582.1303839683533 seconds\n",
      "Total training time for gradient-boosted trees: 706.4461135864258 seconds\n"
     ]
    }
   ],
   "source": [
    "#  decision tree\n",
    "start_dtc = time.time()\n",
    "model_dtc_fitted = pipeline_dtc.fit(train);\n",
    "end_dtc =  time.time()\n",
    "dtc_time = end_dtc - start_dtc\n",
    "\n",
    "print('Total training time for decision tree: {} seconds'.format(dtc_time))\n",
    "\n",
    "# naive bayes\n",
    "start_nb = time.time()\n",
    "model_nb_fitted = pipeline_nb.fit(train);\n",
    "end_nb = time.time()\n",
    "nb_time = end_nb - start_nb\n",
    "\n",
    "print('Total training time for naive bayes: {} seconds'.format(nb_time))\n",
    "\n",
    "# random forest\n",
    "start_rf =  time.time()\n",
    "model_rf_fitted = pipeline_rf.fit(train);\n",
    "end_rf =  time.time()\n",
    "rf_time = end_rf - start_rf\n",
    "print('Total training time for random forest: {} seconds'.format(rf_time))\n",
    "\n",
    "# gradient-boosted tree\n",
    "start_gbt =  time.time()\n",
    "model_gbt_fitted = pipeline_gbt.fit(train)\n",
    "end_gbt = time.time()\n",
    "gbt_time = end_gbt - start_gbt\n",
    "\n",
    "print('Total training time for gradient-boosted trees: {} seconds'.format(gbt_time))"
   ]
  },
  {
   "cell_type": "code",
   "execution_count": 75,
   "metadata": {},
   "outputs": [
    {
     "name": "stdout",
     "output_type": "stream",
     "text": [
      "Decision Tree - Accuracy: 0.7 Decision Tree - F1 score: 0.6839945280437756\n"
     ]
    }
   ],
   "source": [
    "dtc_acc = eval_model(model_dtc_fitted, test,\"accuracy\")\n",
    "dtc_f1 = eval_model(model_dtc_fitted, test,\"f1\")\n",
    "print('Decision Tree - Accuracy: {}'.format(dtc_acc),'Decision Tree - F1 score: {}'.format(dtc_f1))"
   ]
  },
  {
   "cell_type": "code",
   "execution_count": 76,
   "metadata": {},
   "outputs": [
    {
     "name": "stdout",
     "output_type": "stream",
     "text": [
      "Naive Bayes - Accuracy: 0.6833333333333333 Naive Bayes - F1 score: 0.6851909025419369\n"
     ]
    }
   ],
   "source": [
    "nb_acc = eval_model(model_nb_fitted, test,\"accuracy\")\n",
    "nb_f1 = eval_model(model_nb_fitted, test,\"f1\")\n",
    "print('Naive Bayes - Accuracy: {}'.format(nb_acc),'Naive Bayes - F1 score: {}'.format(nb_f1))"
   ]
  },
  {
   "cell_type": "code",
   "execution_count": 77,
   "metadata": {},
   "outputs": [
    {
     "name": "stdout",
     "output_type": "stream",
     "text": [
      "Random Forest - Accuracy: 0.7333333333333333 Random Forest - F1 score: 0.6935817805383023\n"
     ]
    }
   ],
   "source": [
    "rf_acc = eval_model(model_rf_fitted, test,\"accuracy\")\n",
    "rf_f1 = eval_model(model_rf_fitted, test,\"f1\")\n",
    "print('Random Forest - Accuracy: {}'.format(rf_acc),'Random Forest - F1 score: {}'.format(rf_f1))"
   ]
  },
  {
   "cell_type": "code",
   "execution_count": 78,
   "metadata": {},
   "outputs": [
    {
     "name": "stdout",
     "output_type": "stream",
     "text": [
      "Gradient-Boosted Tree - Accuracy: 0.6666666666666666 Gradient-Boosted Tree - F1 score: 0.6488828089375284\n"
     ]
    }
   ],
   "source": [
    "gbt_acc =eval_model(model_gbt_fitted, test,\"accuracy\")\n",
    "gbt_f1 =eval_model(model_gbt_fitted, test,\"f1\")\n",
    "\n",
    "print('Gradient-Boosted Tree - Accuracy: {}'.format(gbt_acc),'Gradient-Boosted Tree - F1 score: {}'.format(gbt_f1))"
   ]
  },
  {
   "cell_type": "code",
   "execution_count": 79,
   "metadata": {},
   "outputs": [
    {
     "data": {
      "text/html": [
       "<div>\n",
       "<style scoped>\n",
       "    .dataframe tbody tr th:only-of-type {\n",
       "        vertical-align: middle;\n",
       "    }\n",
       "\n",
       "    .dataframe tbody tr th {\n",
       "        vertical-align: top;\n",
       "    }\n",
       "\n",
       "    .dataframe thead th {\n",
       "        text-align: right;\n",
       "    }\n",
       "</style>\n",
       "<table border=\"1\" class=\"dataframe\">\n",
       "  <thead>\n",
       "    <tr style=\"text-align: right;\">\n",
       "      <th></th>\n",
       "      <th>Model</th>\n",
       "      <th>F1</th>\n",
       "      <th>Accuracy</th>\n",
       "      <th>Training Time</th>\n",
       "    </tr>\n",
       "  </thead>\n",
       "  <tbody>\n",
       "    <tr>\n",
       "      <th>0</th>\n",
       "      <td>Logistic Regression</td>\n",
       "      <td>0.754218</td>\n",
       "      <td>0.766667</td>\n",
       "      <td>753.909966</td>\n",
       "    </tr>\n",
       "    <tr>\n",
       "      <th>1</th>\n",
       "      <td>Decision Tree</td>\n",
       "      <td>0.683995</td>\n",
       "      <td>0.700000</td>\n",
       "      <td>599.496029</td>\n",
       "    </tr>\n",
       "    <tr>\n",
       "      <th>2</th>\n",
       "      <td>Naive Bayes</td>\n",
       "      <td>0.685191</td>\n",
       "      <td>0.683333</td>\n",
       "      <td>398.197812</td>\n",
       "    </tr>\n",
       "    <tr>\n",
       "      <th>3</th>\n",
       "      <td>Random Forest</td>\n",
       "      <td>0.693582</td>\n",
       "      <td>0.733333</td>\n",
       "      <td>582.130384</td>\n",
       "    </tr>\n",
       "    <tr>\n",
       "      <th>4</th>\n",
       "      <td>Grandient-Boosted Tree</td>\n",
       "      <td>0.648883</td>\n",
       "      <td>0.666667</td>\n",
       "      <td>706.446114</td>\n",
       "    </tr>\n",
       "  </tbody>\n",
       "</table>\n",
       "</div>"
      ],
      "text/plain": [
       "                    Model        F1  Accuracy  Training Time\n",
       "0     Logistic Regression  0.754218  0.766667     753.909966\n",
       "1           Decision Tree  0.683995  0.700000     599.496029\n",
       "2             Naive Bayes  0.685191  0.683333     398.197812\n",
       "3           Random Forest  0.693582  0.733333     582.130384\n",
       "4  Grandient-Boosted Tree  0.648883  0.666667     706.446114"
      ]
     },
     "execution_count": 79,
     "metadata": {},
     "output_type": "execute_result"
    }
   ],
   "source": [
    "result = {'Model': ['Logistic Regression','Decision Tree','Naive Bayes','Random Forest','Grandient-Boosted Tree'],\n",
    "          'F1': [lr_f1,dtc_f1,nb_f1,rf_f1,gbt_f1],\n",
    "          'Accuracy':[lr_acc,dtc_acc,nb_acc,rf_acc,gbt_acc],\n",
    "          'Training Time':[lr_time,dtc_time,nb_time,rf_time,gbt_time]}\n",
    "result = pd.DataFrame(result)\n",
    "result"
   ]
  },
  {
   "cell_type": "code",
   "execution_count": 80,
   "metadata": {},
   "outputs": [
    {
     "data": {
      "text/html": [
       "<div>\n",
       "<style scoped>\n",
       "    .dataframe tbody tr th:only-of-type {\n",
       "        vertical-align: middle;\n",
       "    }\n",
       "\n",
       "    .dataframe tbody tr th {\n",
       "        vertical-align: top;\n",
       "    }\n",
       "\n",
       "    .dataframe thead th {\n",
       "        text-align: right;\n",
       "    }\n",
       "</style>\n",
       "<table border=\"1\" class=\"dataframe\">\n",
       "  <thead>\n",
       "    <tr style=\"text-align: right;\">\n",
       "      <th></th>\n",
       "      <th>Feature</th>\n",
       "      <th>FeatureImportances</th>\n",
       "    </tr>\n",
       "  </thead>\n",
       "  <tbody>\n",
       "    <tr>\n",
       "      <th>8</th>\n",
       "      <td>ThumbsDownCountPerHour</td>\n",
       "      <td>0.140007</td>\n",
       "    </tr>\n",
       "    <tr>\n",
       "      <th>4</th>\n",
       "      <td>RollAdvertCount</td>\n",
       "      <td>0.098068</td>\n",
       "    </tr>\n",
       "    <tr>\n",
       "      <th>10</th>\n",
       "      <td>SettingsCountPerHour</td>\n",
       "      <td>0.097668</td>\n",
       "    </tr>\n",
       "    <tr>\n",
       "      <th>6</th>\n",
       "      <td>RollAdvertCountPerHour</td>\n",
       "      <td>0.085586</td>\n",
       "    </tr>\n",
       "    <tr>\n",
       "      <th>3</th>\n",
       "      <td>AvgSessionLength</td>\n",
       "      <td>0.074448</td>\n",
       "    </tr>\n",
       "    <tr>\n",
       "      <th>7</th>\n",
       "      <td>SubmitUpgradeCountPerHour</td>\n",
       "      <td>0.065775</td>\n",
       "    </tr>\n",
       "    <tr>\n",
       "      <th>5</th>\n",
       "      <td>UpgradeCount</td>\n",
       "      <td>0.064270</td>\n",
       "    </tr>\n",
       "    <tr>\n",
       "      <th>15</th>\n",
       "      <td>SubmitUpgradeShare</td>\n",
       "      <td>0.061985</td>\n",
       "    </tr>\n",
       "    <tr>\n",
       "      <th>13</th>\n",
       "      <td>UniqueSongCount</td>\n",
       "      <td>0.061182</td>\n",
       "    </tr>\n",
       "    <tr>\n",
       "      <th>11</th>\n",
       "      <td>TotalSongLength</td>\n",
       "      <td>0.059198</td>\n",
       "    </tr>\n",
       "    <tr>\n",
       "      <th>12</th>\n",
       "      <td>AvgNonSongEventCount</td>\n",
       "      <td>0.055878</td>\n",
       "    </tr>\n",
       "    <tr>\n",
       "      <th>14</th>\n",
       "      <td>UniqueSongShare</td>\n",
       "      <td>0.043212</td>\n",
       "    </tr>\n",
       "    <tr>\n",
       "      <th>9</th>\n",
       "      <td>UpgradeCountPerHour</td>\n",
       "      <td>0.032407</td>\n",
       "    </tr>\n",
       "    <tr>\n",
       "      <th>1</th>\n",
       "      <td>LastLevel</td>\n",
       "      <td>0.027641</td>\n",
       "    </tr>\n",
       "    <tr>\n",
       "      <th>2</th>\n",
       "      <td>EventCount</td>\n",
       "      <td>0.020884</td>\n",
       "    </tr>\n",
       "    <tr>\n",
       "      <th>0</th>\n",
       "      <td>Gender</td>\n",
       "      <td>0.011792</td>\n",
       "    </tr>\n",
       "  </tbody>\n",
       "</table>\n",
       "</div>"
      ],
      "text/plain": [
       "                      Feature  FeatureImportances\n",
       "8      ThumbsDownCountPerHour            0.140007\n",
       "4             RollAdvertCount            0.098068\n",
       "10       SettingsCountPerHour            0.097668\n",
       "6      RollAdvertCountPerHour            0.085586\n",
       "3            AvgSessionLength            0.074448\n",
       "7   SubmitUpgradeCountPerHour            0.065775\n",
       "5                UpgradeCount            0.064270\n",
       "15         SubmitUpgradeShare            0.061985\n",
       "13            UniqueSongCount            0.061182\n",
       "11            TotalSongLength            0.059198\n",
       "12       AvgNonSongEventCount            0.055878\n",
       "14            UniqueSongShare            0.043212\n",
       "9         UpgradeCountPerHour            0.032407\n",
       "1                   LastLevel            0.027641\n",
       "2                  EventCount            0.020884\n",
       "0                      Gender            0.011792"
      ]
     },
     "execution_count": 80,
     "metadata": {},
     "output_type": "execute_result"
    }
   ],
   "source": [
    "feature_coeff_rf = model_rf_fitted.stages[-1].featureImportances\n",
    "featureImp_rf = pd.DataFrame(list(zip(features, feature_coeff_rf)), columns=['Feature', 'FeatureImportances']).sort_values('FeatureImportances', ascending=False)\n",
    "\n",
    "featureImp_rf"
   ]
  },
  {
   "cell_type": "markdown",
   "metadata": {
    "collapsed": true
   },
   "source": [
    "### Random Forest"
   ]
  },
  {
   "cell_type": "code",
   "execution_count": 145,
   "metadata": {},
   "outputs": [
    {
     "name": "stdout",
     "output_type": "stream",
     "text": [
      "Total training time for random forest: 586.8280704021454 seconds\n"
     ]
    }
   ],
   "source": [
    "# random forest\n",
    "start_rf =  time.time()\n",
    "model_rf_fitted = pipeline_rf.fit(train);\n",
    "end_rf =  time.time()\n",
    "rf_time = end_rf - start_rf\n",
    "print('Total training time for random forest: {} seconds'.format(rf_time))"
   ]
  },
  {
   "cell_type": "code",
   "execution_count": 146,
   "metadata": {},
   "outputs": [
    {
     "name": "stdout",
     "output_type": "stream",
     "text": [
      "Random Forest - Accuracy: 0.9 Random Forest - F1 score: 0.9032714412024758\n"
     ]
    }
   ],
   "source": [
    "# model 7 - churn #1 (seed=0)\n",
    "rf_acc = eval_model(model_rf_fitted, test,\"accuracy\")\n",
    "rf_f1 = eval_model(model_rf_fitted, test,\"f1\")\n",
    "print('Random Forest - Accuracy: {}'.format(rf_acc),'Random Forest - F1 score: {}'.format(rf_f1))"
   ]
  },
  {
   "cell_type": "code",
   "execution_count": null,
   "metadata": {},
   "outputs": [],
   "source": []
  },
  {
   "cell_type": "code",
   "execution_count": 192,
   "metadata": {},
   "outputs": [
    {
     "name": "stdout",
     "output_type": "stream",
     "text": [
      "Random Forest - Accuracy: 0.84 Random Forest - F1 score: 0.8561904761904762\n"
     ]
    }
   ],
   "source": [
    "# model 6 - churn #1 (seed=0)\n",
    "rf_acc = eval_model(model_rf_fitted, test,\"accuracy\")\n",
    "rf_f1 = eval_model(model_rf_fitted, test,\"f1\")\n",
    "print('Random Forest - Accuracy: {}'.format(rf_acc),'Random Forest - F1 score: {}'.format(rf_f1))"
   ]
  },
  {
   "cell_type": "code",
   "execution_count": 170,
   "metadata": {},
   "outputs": [
    {
     "name": "stdout",
     "output_type": "stream",
     "text": [
      "Random Forest - Accuracy: 0.8225806451612904 Random Forest - F1 score: 0.7923135430182093\n"
     ]
    }
   ],
   "source": [
    "# model 6\n",
    "rf_acc = eval_model(model_rf_fitted, test,\"accuracy\")\n",
    "rf_f1 = eval_model(model_rf_fitted, test,\"f1\")\n",
    "print('Random Forest - Accuracy: {}'.format(rf_acc),'Random Forest - F1 score: {}'.format(rf_f1))"
   ]
  },
  {
   "cell_type": "code",
   "execution_count": 157,
   "metadata": {},
   "outputs": [
    {
     "name": "stdout",
     "output_type": "stream",
     "text": [
      "Random Forest - Accuracy: 0.8387096774193549 Random Forest - F1 score: 0.8061414392059554\n"
     ]
    }
   ],
   "source": [
    "# model 5 \n",
    "rf_acc = eval_model(model_rf_fitted, test,\"accuracy\")\n",
    "rf_f1 = eval_model(model_rf_fitted, test,\"f1\")\n",
    "print('Random Forest - Accuracy: {}'.format(rf_acc),'Random Forest - F1 score: {}'.format(rf_f1))"
   ]
  },
  {
   "cell_type": "code",
   "execution_count": 139,
   "metadata": {},
   "outputs": [
    {
     "name": "stdout",
     "output_type": "stream",
     "text": [
      "Random Forest - Accuracy: 0.7903225806451613 Random Forest - F1 score: 0.7656811964506408\n"
     ]
    }
   ],
   "source": [
    "# model 4 - with gap time\n",
    "rf_acc = eval_model(model_rf_fitted, test,\"accuracy\")\n",
    "rf_f1 = eval_model(model_rf_fitted, test,\"f1\")\n",
    "print('Random Forest - Accuracy: {}'.format(rf_acc),'Random Forest - F1 score: {}'.format(rf_f1))"
   ]
  },
  {
   "cell_type": "code",
   "execution_count": 121,
   "metadata": {},
   "outputs": [
    {
     "name": "stdout",
     "output_type": "stream",
     "text": [
      "Random Forest - Accuracy: 0.7580645161290323 Random Forest - F1 score: 0.7007033713315548\n"
     ]
    }
   ],
   "source": [
    "# model 3\n",
    "rf_acc = eval_model(model_rf_fitted, test,\"accuracy\")\n",
    "rf_f1 = eval_model(model_rf_fitted, test,\"f1\")\n",
    "print('Random Forest - Accuracy: {}'.format(rf_acc),'Random Forest - F1 score: {}'.format(rf_f1))"
   ]
  },
  {
   "cell_type": "code",
   "execution_count": 110,
   "metadata": {},
   "outputs": [
    {
     "name": "stdout",
     "output_type": "stream",
     "text": [
      "Random Forest - Accuracy: 0.7096774193548387 Random Forest - F1 score: 0.6510545905707196\n"
     ]
    }
   ],
   "source": [
    "# model 2 - to many features\n",
    "rf_acc = eval_model(model_rf_fitted, test,\"accuracy\")\n",
    "rf_f1 = eval_model(model_rf_fitted, test,\"f1\")\n",
    "print('Random Forest - Accuracy: {}'.format(rf_acc),'Random Forest - F1 score: {}'.format(rf_f1))"
   ]
  },
  {
   "cell_type": "code",
   "execution_count": 193,
   "metadata": {},
   "outputs": [
    {
     "data": {
      "text/html": [
       "<div>\n",
       "<style scoped>\n",
       "    .dataframe tbody tr th:only-of-type {\n",
       "        vertical-align: middle;\n",
       "    }\n",
       "\n",
       "    .dataframe tbody tr th {\n",
       "        vertical-align: top;\n",
       "    }\n",
       "\n",
       "    .dataframe thead th {\n",
       "        text-align: right;\n",
       "    }\n",
       "</style>\n",
       "<table border=\"1\" class=\"dataframe\">\n",
       "  <thead>\n",
       "    <tr style=\"text-align: right;\">\n",
       "      <th></th>\n",
       "      <th>Feature</th>\n",
       "      <th>FeatureImportances</th>\n",
       "    </tr>\n",
       "  </thead>\n",
       "  <tbody>\n",
       "    <tr>\n",
       "      <th>13</th>\n",
       "      <td>AvgGapTime</td>\n",
       "      <td>0.348634</td>\n",
       "    </tr>\n",
       "    <tr>\n",
       "      <th>2</th>\n",
       "      <td>RollAdvertCount</td>\n",
       "      <td>0.077492</td>\n",
       "    </tr>\n",
       "    <tr>\n",
       "      <th>5</th>\n",
       "      <td>ThumbsDownCountPerHour</td>\n",
       "      <td>0.073061</td>\n",
       "    </tr>\n",
       "    <tr>\n",
       "      <th>16</th>\n",
       "      <td>AvgSessionCountPerDay</td>\n",
       "      <td>0.071618</td>\n",
       "    </tr>\n",
       "    <tr>\n",
       "      <th>6</th>\n",
       "      <td>SettingsCountPerHour</td>\n",
       "      <td>0.060837</td>\n",
       "    </tr>\n",
       "    <tr>\n",
       "      <th>14</th>\n",
       "      <td>ThumbsDownCountPerDay</td>\n",
       "      <td>0.044913</td>\n",
       "    </tr>\n",
       "    <tr>\n",
       "      <th>1</th>\n",
       "      <td>AvgSessionLength</td>\n",
       "      <td>0.042412</td>\n",
       "    </tr>\n",
       "    <tr>\n",
       "      <th>10</th>\n",
       "      <td>AvgNonSongEventCount</td>\n",
       "      <td>0.039702</td>\n",
       "    </tr>\n",
       "    <tr>\n",
       "      <th>15</th>\n",
       "      <td>ThumbsUpCountPerDay</td>\n",
       "      <td>0.037318</td>\n",
       "    </tr>\n",
       "    <tr>\n",
       "      <th>12</th>\n",
       "      <td>UniqueSongShare</td>\n",
       "      <td>0.037015</td>\n",
       "    </tr>\n",
       "    <tr>\n",
       "      <th>4</th>\n",
       "      <td>RollAdvertCountPerHour</td>\n",
       "      <td>0.036177</td>\n",
       "    </tr>\n",
       "    <tr>\n",
       "      <th>7</th>\n",
       "      <td>LogoutCountPerHour</td>\n",
       "      <td>0.035207</td>\n",
       "    </tr>\n",
       "    <tr>\n",
       "      <th>3</th>\n",
       "      <td>ThumbsUpCount</td>\n",
       "      <td>0.028424</td>\n",
       "    </tr>\n",
       "    <tr>\n",
       "      <th>9</th>\n",
       "      <td>TotalSongLength</td>\n",
       "      <td>0.025026</td>\n",
       "    </tr>\n",
       "    <tr>\n",
       "      <th>0</th>\n",
       "      <td>EventCount</td>\n",
       "      <td>0.023663</td>\n",
       "    </tr>\n",
       "    <tr>\n",
       "      <th>11</th>\n",
       "      <td>UniqueSongCount</td>\n",
       "      <td>0.012379</td>\n",
       "    </tr>\n",
       "    <tr>\n",
       "      <th>8</th>\n",
       "      <td>SaveSettingsCountPerHour</td>\n",
       "      <td>0.006124</td>\n",
       "    </tr>\n",
       "  </tbody>\n",
       "</table>\n",
       "</div>"
      ],
      "text/plain": [
       "                     Feature  FeatureImportances\n",
       "13                AvgGapTime            0.348634\n",
       "2            RollAdvertCount            0.077492\n",
       "5     ThumbsDownCountPerHour            0.073061\n",
       "16     AvgSessionCountPerDay            0.071618\n",
       "6       SettingsCountPerHour            0.060837\n",
       "14     ThumbsDownCountPerDay            0.044913\n",
       "1           AvgSessionLength            0.042412\n",
       "10      AvgNonSongEventCount            0.039702\n",
       "15       ThumbsUpCountPerDay            0.037318\n",
       "12           UniqueSongShare            0.037015\n",
       "4     RollAdvertCountPerHour            0.036177\n",
       "7         LogoutCountPerHour            0.035207\n",
       "3              ThumbsUpCount            0.028424\n",
       "9            TotalSongLength            0.025026\n",
       "0                 EventCount            0.023663\n",
       "11           UniqueSongCount            0.012379\n",
       "8   SaveSettingsCountPerHour            0.006124"
      ]
     },
     "execution_count": 193,
     "metadata": {},
     "output_type": "execute_result"
    }
   ],
   "source": [
    "# coefficients (model 6 - churn #1 - seed 0)\n",
    "feature_coeff_rf = model_rf_fitted.stages[-1].featureImportances\n",
    "featureImp_rf = pd.DataFrame(list(zip(features, feature_coeff_rf)), columns=['Feature', 'FeatureImportances']) \\\n",
    "    .sort_values('FeatureImportances', ascending=False)\n",
    "featureImp_rf"
   ]
  },
  {
   "cell_type": "code",
   "execution_count": 147,
   "metadata": {},
   "outputs": [
    {
     "data": {
      "text/html": [
       "<div>\n",
       "<style scoped>\n",
       "    .dataframe tbody tr th:only-of-type {\n",
       "        vertical-align: middle;\n",
       "    }\n",
       "\n",
       "    .dataframe tbody tr th {\n",
       "        vertical-align: top;\n",
       "    }\n",
       "\n",
       "    .dataframe thead th {\n",
       "        text-align: right;\n",
       "    }\n",
       "</style>\n",
       "<table border=\"1\" class=\"dataframe\">\n",
       "  <thead>\n",
       "    <tr style=\"text-align: right;\">\n",
       "      <th></th>\n",
       "      <th>Feature</th>\n",
       "      <th>FeatureImportances</th>\n",
       "    </tr>\n",
       "  </thead>\n",
       "  <tbody>\n",
       "    <tr>\n",
       "      <th>10</th>\n",
       "      <td>AvgSessionGap</td>\n",
       "      <td>0.217396</td>\n",
       "    </tr>\n",
       "    <tr>\n",
       "      <th>18</th>\n",
       "      <td>ThumbsDownPerHour</td>\n",
       "      <td>0.096786</td>\n",
       "    </tr>\n",
       "    <tr>\n",
       "      <th>21</th>\n",
       "      <td>SessionsPerDay</td>\n",
       "      <td>0.081389</td>\n",
       "    </tr>\n",
       "    <tr>\n",
       "      <th>17</th>\n",
       "      <td>RollAdvertPerHour</td>\n",
       "      <td>0.054524</td>\n",
       "    </tr>\n",
       "    <tr>\n",
       "      <th>24</th>\n",
       "      <td>ThumbsDownPerDay</td>\n",
       "      <td>0.054109</td>\n",
       "    </tr>\n",
       "    <tr>\n",
       "      <th>22</th>\n",
       "      <td>AddFriendPerDay</td>\n",
       "      <td>0.046528</td>\n",
       "    </tr>\n",
       "    <tr>\n",
       "      <th>25</th>\n",
       "      <td>ThumbsUpPerDay</td>\n",
       "      <td>0.044301</td>\n",
       "    </tr>\n",
       "    <tr>\n",
       "      <th>23</th>\n",
       "      <td>RollAdvertPerDay</td>\n",
       "      <td>0.037289</td>\n",
       "    </tr>\n",
       "    <tr>\n",
       "      <th>11</th>\n",
       "      <td>DowngradePerSessionHour</td>\n",
       "      <td>0.037254</td>\n",
       "    </tr>\n",
       "    <tr>\n",
       "      <th>8</th>\n",
       "      <td>SessionCount</td>\n",
       "      <td>0.032588</td>\n",
       "    </tr>\n",
       "    <tr>\n",
       "      <th>13</th>\n",
       "      <td>SettingsPerSessionHour</td>\n",
       "      <td>0.031687</td>\n",
       "    </tr>\n",
       "    <tr>\n",
       "      <th>15</th>\n",
       "      <td>LogoutPerSessionHour</td>\n",
       "      <td>0.031560</td>\n",
       "    </tr>\n",
       "    <tr>\n",
       "      <th>3</th>\n",
       "      <td>SongCount</td>\n",
       "      <td>0.024033</td>\n",
       "    </tr>\n",
       "    <tr>\n",
       "      <th>9</th>\n",
       "      <td>AvgSessionLength</td>\n",
       "      <td>0.022148</td>\n",
       "    </tr>\n",
       "    <tr>\n",
       "      <th>27</th>\n",
       "      <td>UniqueSongCount</td>\n",
       "      <td>0.022040</td>\n",
       "    </tr>\n",
       "    <tr>\n",
       "      <th>2</th>\n",
       "      <td>LogCount</td>\n",
       "      <td>0.021899</td>\n",
       "    </tr>\n",
       "    <tr>\n",
       "      <th>4</th>\n",
       "      <td>NonSongCount</td>\n",
       "      <td>0.020249</td>\n",
       "    </tr>\n",
       "    <tr>\n",
       "      <th>26</th>\n",
       "      <td>TotalSongLength</td>\n",
       "      <td>0.019350</td>\n",
       "    </tr>\n",
       "    <tr>\n",
       "      <th>20</th>\n",
       "      <td>SubmitUpgradePerHour</td>\n",
       "      <td>0.018066</td>\n",
       "    </tr>\n",
       "    <tr>\n",
       "      <th>28</th>\n",
       "      <td>UniqueSongShare</td>\n",
       "      <td>0.014679</td>\n",
       "    </tr>\n",
       "    <tr>\n",
       "      <th>5</th>\n",
       "      <td>AboutCount</td>\n",
       "      <td>0.014347</td>\n",
       "    </tr>\n",
       "    <tr>\n",
       "      <th>6</th>\n",
       "      <td>ThumbsUpCount</td>\n",
       "      <td>0.012626</td>\n",
       "    </tr>\n",
       "    <tr>\n",
       "      <th>16</th>\n",
       "      <td>SubmitDowngradePerSessionHour</td>\n",
       "      <td>0.012428</td>\n",
       "    </tr>\n",
       "    <tr>\n",
       "      <th>12</th>\n",
       "      <td>ErrorPerSessionHour</td>\n",
       "      <td>0.012102</td>\n",
       "    </tr>\n",
       "    <tr>\n",
       "      <th>0</th>\n",
       "      <td>Gender</td>\n",
       "      <td>0.007126</td>\n",
       "    </tr>\n",
       "    <tr>\n",
       "      <th>7</th>\n",
       "      <td>RollAdvertCount</td>\n",
       "      <td>0.006131</td>\n",
       "    </tr>\n",
       "    <tr>\n",
       "      <th>14</th>\n",
       "      <td>SaveSettingsPerSessionHour</td>\n",
       "      <td>0.005436</td>\n",
       "    </tr>\n",
       "    <tr>\n",
       "      <th>19</th>\n",
       "      <td>UpgradePerHour</td>\n",
       "      <td>0.001928</td>\n",
       "    </tr>\n",
       "    <tr>\n",
       "      <th>1</th>\n",
       "      <td>LastLevel</td>\n",
       "      <td>0.000000</td>\n",
       "    </tr>\n",
       "  </tbody>\n",
       "</table>\n",
       "</div>"
      ],
      "text/plain": [
       "                          Feature  FeatureImportances\n",
       "10                  AvgSessionGap            0.217396\n",
       "18              ThumbsDownPerHour            0.096786\n",
       "21                 SessionsPerDay            0.081389\n",
       "17              RollAdvertPerHour            0.054524\n",
       "24               ThumbsDownPerDay            0.054109\n",
       "22                AddFriendPerDay            0.046528\n",
       "25                 ThumbsUpPerDay            0.044301\n",
       "23               RollAdvertPerDay            0.037289\n",
       "11        DowngradePerSessionHour            0.037254\n",
       "8                    SessionCount            0.032588\n",
       "13         SettingsPerSessionHour            0.031687\n",
       "15           LogoutPerSessionHour            0.031560\n",
       "3                       SongCount            0.024033\n",
       "9                AvgSessionLength            0.022148\n",
       "27                UniqueSongCount            0.022040\n",
       "2                        LogCount            0.021899\n",
       "4                    NonSongCount            0.020249\n",
       "26                TotalSongLength            0.019350\n",
       "20           SubmitUpgradePerHour            0.018066\n",
       "28                UniqueSongShare            0.014679\n",
       "5                      AboutCount            0.014347\n",
       "6                   ThumbsUpCount            0.012626\n",
       "16  SubmitDowngradePerSessionHour            0.012428\n",
       "12            ErrorPerSessionHour            0.012102\n",
       "0                          Gender            0.007126\n",
       "7                 RollAdvertCount            0.006131\n",
       "14     SaveSettingsPerSessionHour            0.005436\n",
       "19                 UpgradePerHour            0.001928\n",
       "1                       LastLevel            0.000000"
      ]
     },
     "execution_count": 147,
     "metadata": {},
     "output_type": "execute_result"
    }
   ],
   "source": [
    "# coefficients (model 7)\n",
    "feature_coeff_rf = model_rf_fitted.stages[-1].featureImportances\n",
    "featureImp_rf = pd.DataFrame(list(zip(features, feature_coeff_rf)), columns=['Feature', 'FeatureImportances']) \\\n",
    "    .sort_values('FeatureImportances', ascending=False)\n",
    "featureImp_rf"
   ]
  },
  {
   "cell_type": "code",
   "execution_count": 171,
   "metadata": {},
   "outputs": [
    {
     "data": {
      "text/html": [
       "<div>\n",
       "<style scoped>\n",
       "    .dataframe tbody tr th:only-of-type {\n",
       "        vertical-align: middle;\n",
       "    }\n",
       "\n",
       "    .dataframe tbody tr th {\n",
       "        vertical-align: top;\n",
       "    }\n",
       "\n",
       "    .dataframe thead th {\n",
       "        text-align: right;\n",
       "    }\n",
       "</style>\n",
       "<table border=\"1\" class=\"dataframe\">\n",
       "  <thead>\n",
       "    <tr style=\"text-align: right;\">\n",
       "      <th></th>\n",
       "      <th>Feature</th>\n",
       "      <th>FeatureImportances</th>\n",
       "    </tr>\n",
       "  </thead>\n",
       "  <tbody>\n",
       "    <tr>\n",
       "      <th>13</th>\n",
       "      <td>AvgGapTime</td>\n",
       "      <td>0.275502</td>\n",
       "    </tr>\n",
       "    <tr>\n",
       "      <th>16</th>\n",
       "      <td>AvgSessionCountPerDay</td>\n",
       "      <td>0.109830</td>\n",
       "    </tr>\n",
       "    <tr>\n",
       "      <th>5</th>\n",
       "      <td>ThumbsDownCountPerHour</td>\n",
       "      <td>0.103730</td>\n",
       "    </tr>\n",
       "    <tr>\n",
       "      <th>0</th>\n",
       "      <td>EventCount</td>\n",
       "      <td>0.067746</td>\n",
       "    </tr>\n",
       "    <tr>\n",
       "      <th>15</th>\n",
       "      <td>ThumbsUpCountPerDay</td>\n",
       "      <td>0.057950</td>\n",
       "    </tr>\n",
       "    <tr>\n",
       "      <th>14</th>\n",
       "      <td>ThumbsDownCountPerDay</td>\n",
       "      <td>0.052502</td>\n",
       "    </tr>\n",
       "    <tr>\n",
       "      <th>2</th>\n",
       "      <td>RollAdvertCount</td>\n",
       "      <td>0.039696</td>\n",
       "    </tr>\n",
       "    <tr>\n",
       "      <th>4</th>\n",
       "      <td>RollAdvertCountPerHour</td>\n",
       "      <td>0.039132</td>\n",
       "    </tr>\n",
       "    <tr>\n",
       "      <th>7</th>\n",
       "      <td>LogoutCountPerHour</td>\n",
       "      <td>0.036775</td>\n",
       "    </tr>\n",
       "    <tr>\n",
       "      <th>1</th>\n",
       "      <td>AvgSessionLength</td>\n",
       "      <td>0.035483</td>\n",
       "    </tr>\n",
       "    <tr>\n",
       "      <th>3</th>\n",
       "      <td>ThumbsUpCount</td>\n",
       "      <td>0.034346</td>\n",
       "    </tr>\n",
       "    <tr>\n",
       "      <th>10</th>\n",
       "      <td>AvgNonSongEventCount</td>\n",
       "      <td>0.032552</td>\n",
       "    </tr>\n",
       "    <tr>\n",
       "      <th>6</th>\n",
       "      <td>SettingsCountPerHour</td>\n",
       "      <td>0.026788</td>\n",
       "    </tr>\n",
       "    <tr>\n",
       "      <th>11</th>\n",
       "      <td>UniqueSongCount</td>\n",
       "      <td>0.024765</td>\n",
       "    </tr>\n",
       "    <tr>\n",
       "      <th>9</th>\n",
       "      <td>TotalSongLength</td>\n",
       "      <td>0.023656</td>\n",
       "    </tr>\n",
       "    <tr>\n",
       "      <th>12</th>\n",
       "      <td>UniqueSongShare</td>\n",
       "      <td>0.022624</td>\n",
       "    </tr>\n",
       "    <tr>\n",
       "      <th>8</th>\n",
       "      <td>SaveSettingsCountPerHour</td>\n",
       "      <td>0.016922</td>\n",
       "    </tr>\n",
       "  </tbody>\n",
       "</table>\n",
       "</div>"
      ],
      "text/plain": [
       "                     Feature  FeatureImportances\n",
       "13                AvgGapTime            0.275502\n",
       "16     AvgSessionCountPerDay            0.109830\n",
       "5     ThumbsDownCountPerHour            0.103730\n",
       "0                 EventCount            0.067746\n",
       "15       ThumbsUpCountPerDay            0.057950\n",
       "14     ThumbsDownCountPerDay            0.052502\n",
       "2            RollAdvertCount            0.039696\n",
       "4     RollAdvertCountPerHour            0.039132\n",
       "7         LogoutCountPerHour            0.036775\n",
       "1           AvgSessionLength            0.035483\n",
       "3              ThumbsUpCount            0.034346\n",
       "10      AvgNonSongEventCount            0.032552\n",
       "6       SettingsCountPerHour            0.026788\n",
       "11           UniqueSongCount            0.024765\n",
       "9            TotalSongLength            0.023656\n",
       "12           UniqueSongShare            0.022624\n",
       "8   SaveSettingsCountPerHour            0.016922"
      ]
     },
     "execution_count": 171,
     "metadata": {},
     "output_type": "execute_result"
    }
   ],
   "source": [
    "# coefficients (model 6)\n",
    "feature_coeff_rf = model_rf_fitted.stages[-1].featureImportances\n",
    "featureImp_rf = pd.DataFrame(list(zip(features, feature_coeff_rf)), columns=['Feature', 'FeatureImportances']) \\\n",
    "    .sort_values('FeatureImportances', ascending=False)\n",
    "featureImp_rf"
   ]
  },
  {
   "cell_type": "code",
   "execution_count": 158,
   "metadata": {},
   "outputs": [
    {
     "data": {
      "text/html": [
       "<div>\n",
       "<style scoped>\n",
       "    .dataframe tbody tr th:only-of-type {\n",
       "        vertical-align: middle;\n",
       "    }\n",
       "\n",
       "    .dataframe tbody tr th {\n",
       "        vertical-align: top;\n",
       "    }\n",
       "\n",
       "    .dataframe thead th {\n",
       "        text-align: right;\n",
       "    }\n",
       "</style>\n",
       "<table border=\"1\" class=\"dataframe\">\n",
       "  <thead>\n",
       "    <tr style=\"text-align: right;\">\n",
       "      <th></th>\n",
       "      <th>Feature</th>\n",
       "      <th>FeatureImportances</th>\n",
       "    </tr>\n",
       "  </thead>\n",
       "  <tbody>\n",
       "    <tr>\n",
       "      <th>16</th>\n",
       "      <td>AvgGapTime</td>\n",
       "      <td>0.257101</td>\n",
       "    </tr>\n",
       "    <tr>\n",
       "      <th>7</th>\n",
       "      <td>ThumbsDownCountPerHour</td>\n",
       "      <td>0.109913</td>\n",
       "    </tr>\n",
       "    <tr>\n",
       "      <th>17</th>\n",
       "      <td>ThumbsDownCountPerDay</td>\n",
       "      <td>0.057647</td>\n",
       "    </tr>\n",
       "    <tr>\n",
       "      <th>2</th>\n",
       "      <td>RollAdvertCount</td>\n",
       "      <td>0.056023</td>\n",
       "    </tr>\n",
       "    <tr>\n",
       "      <th>10</th>\n",
       "      <td>LogoutCountPerHour</td>\n",
       "      <td>0.055494</td>\n",
       "    </tr>\n",
       "    <tr>\n",
       "      <th>9</th>\n",
       "      <td>SettingsCountPerHour</td>\n",
       "      <td>0.054747</td>\n",
       "    </tr>\n",
       "    <tr>\n",
       "      <th>13</th>\n",
       "      <td>AvgNonSongEventCount</td>\n",
       "      <td>0.048382</td>\n",
       "    </tr>\n",
       "    <tr>\n",
       "      <th>5</th>\n",
       "      <td>RollAdvertCountPerHour</td>\n",
       "      <td>0.045455</td>\n",
       "    </tr>\n",
       "    <tr>\n",
       "      <th>15</th>\n",
       "      <td>UniqueSongShare</td>\n",
       "      <td>0.043920</td>\n",
       "    </tr>\n",
       "    <tr>\n",
       "      <th>0</th>\n",
       "      <td>EventCount</td>\n",
       "      <td>0.043546</td>\n",
       "    </tr>\n",
       "    <tr>\n",
       "      <th>1</th>\n",
       "      <td>AvgSessionLength</td>\n",
       "      <td>0.040494</td>\n",
       "    </tr>\n",
       "    <tr>\n",
       "      <th>18</th>\n",
       "      <td>ThumbsUpCountPerDay</td>\n",
       "      <td>0.039700</td>\n",
       "    </tr>\n",
       "    <tr>\n",
       "      <th>12</th>\n",
       "      <td>TotalSongLength</td>\n",
       "      <td>0.031213</td>\n",
       "    </tr>\n",
       "    <tr>\n",
       "      <th>11</th>\n",
       "      <td>SaveSettingsCountPerHour</td>\n",
       "      <td>0.021644</td>\n",
       "    </tr>\n",
       "    <tr>\n",
       "      <th>14</th>\n",
       "      <td>UniqueSongCount</td>\n",
       "      <td>0.021556</td>\n",
       "    </tr>\n",
       "    <tr>\n",
       "      <th>4</th>\n",
       "      <td>ThumbsUpCount</td>\n",
       "      <td>0.021077</td>\n",
       "    </tr>\n",
       "    <tr>\n",
       "      <th>8</th>\n",
       "      <td>UpgradeCountPerHour</td>\n",
       "      <td>0.019724</td>\n",
       "    </tr>\n",
       "    <tr>\n",
       "      <th>19</th>\n",
       "      <td>UpgradeCountPerDay</td>\n",
       "      <td>0.017782</td>\n",
       "    </tr>\n",
       "    <tr>\n",
       "      <th>6</th>\n",
       "      <td>SubmitUpgradeCountPerHour</td>\n",
       "      <td>0.014583</td>\n",
       "    </tr>\n",
       "    <tr>\n",
       "      <th>3</th>\n",
       "      <td>SubmitUpgradeCount</td>\n",
       "      <td>0.000000</td>\n",
       "    </tr>\n",
       "  </tbody>\n",
       "</table>\n",
       "</div>"
      ],
      "text/plain": [
       "                      Feature  FeatureImportances\n",
       "16                 AvgGapTime            0.257101\n",
       "7      ThumbsDownCountPerHour            0.109913\n",
       "17      ThumbsDownCountPerDay            0.057647\n",
       "2             RollAdvertCount            0.056023\n",
       "10         LogoutCountPerHour            0.055494\n",
       "9        SettingsCountPerHour            0.054747\n",
       "13       AvgNonSongEventCount            0.048382\n",
       "5      RollAdvertCountPerHour            0.045455\n",
       "15            UniqueSongShare            0.043920\n",
       "0                  EventCount            0.043546\n",
       "1            AvgSessionLength            0.040494\n",
       "18        ThumbsUpCountPerDay            0.039700\n",
       "12            TotalSongLength            0.031213\n",
       "11   SaveSettingsCountPerHour            0.021644\n",
       "14            UniqueSongCount            0.021556\n",
       "4               ThumbsUpCount            0.021077\n",
       "8         UpgradeCountPerHour            0.019724\n",
       "19         UpgradeCountPerDay            0.017782\n",
       "6   SubmitUpgradeCountPerHour            0.014583\n",
       "3          SubmitUpgradeCount            0.000000"
      ]
     },
     "execution_count": 158,
     "metadata": {},
     "output_type": "execute_result"
    }
   ],
   "source": [
    "# coefficients (model 5)\n",
    "feature_coeff_rf = model_rf_fitted.stages[-1].featureImportances\n",
    "featureImp_rf = pd.DataFrame(list(zip(features, feature_coeff_rf)), columns=['Feature', 'FeatureImportances']) \\\n",
    "    .sort_values('FeatureImportances', ascending=False)\n",
    "featureImp_rf"
   ]
  },
  {
   "cell_type": "code",
   "execution_count": 140,
   "metadata": {},
   "outputs": [
    {
     "data": {
      "text/html": [
       "<div>\n",
       "<style scoped>\n",
       "    .dataframe tbody tr th:only-of-type {\n",
       "        vertical-align: middle;\n",
       "    }\n",
       "\n",
       "    .dataframe tbody tr th {\n",
       "        vertical-align: top;\n",
       "    }\n",
       "\n",
       "    .dataframe thead th {\n",
       "        text-align: right;\n",
       "    }\n",
       "</style>\n",
       "<table border=\"1\" class=\"dataframe\">\n",
       "  <thead>\n",
       "    <tr style=\"text-align: right;\">\n",
       "      <th></th>\n",
       "      <th>Feature</th>\n",
       "      <th>FeatureImportances</th>\n",
       "    </tr>\n",
       "  </thead>\n",
       "  <tbody>\n",
       "    <tr>\n",
       "      <th>16</th>\n",
       "      <td>AvgGapTime</td>\n",
       "      <td>0.251410</td>\n",
       "    </tr>\n",
       "    <tr>\n",
       "      <th>7</th>\n",
       "      <td>ThumbsDownCountPerHour</td>\n",
       "      <td>0.130147</td>\n",
       "    </tr>\n",
       "    <tr>\n",
       "      <th>0</th>\n",
       "      <td>EventCount</td>\n",
       "      <td>0.085259</td>\n",
       "    </tr>\n",
       "    <tr>\n",
       "      <th>9</th>\n",
       "      <td>SettingsCountPerHour</td>\n",
       "      <td>0.067623</td>\n",
       "    </tr>\n",
       "    <tr>\n",
       "      <th>5</th>\n",
       "      <td>RollAdvertCountPerHour</td>\n",
       "      <td>0.057965</td>\n",
       "    </tr>\n",
       "    <tr>\n",
       "      <th>10</th>\n",
       "      <td>LogoutCountPerHour</td>\n",
       "      <td>0.057503</td>\n",
       "    </tr>\n",
       "    <tr>\n",
       "      <th>2</th>\n",
       "      <td>RollAdvertCount</td>\n",
       "      <td>0.054857</td>\n",
       "    </tr>\n",
       "    <tr>\n",
       "      <th>1</th>\n",
       "      <td>AvgSessionLength</td>\n",
       "      <td>0.043084</td>\n",
       "    </tr>\n",
       "    <tr>\n",
       "      <th>12</th>\n",
       "      <td>TotalSongLength</td>\n",
       "      <td>0.036899</td>\n",
       "    </tr>\n",
       "    <tr>\n",
       "      <th>8</th>\n",
       "      <td>UpgradeCountPerHour</td>\n",
       "      <td>0.035458</td>\n",
       "    </tr>\n",
       "    <tr>\n",
       "      <th>6</th>\n",
       "      <td>SubmitUpgradeCountPerHour</td>\n",
       "      <td>0.034444</td>\n",
       "    </tr>\n",
       "    <tr>\n",
       "      <th>11</th>\n",
       "      <td>SaveSettingsCountPerHour</td>\n",
       "      <td>0.033850</td>\n",
       "    </tr>\n",
       "    <tr>\n",
       "      <th>15</th>\n",
       "      <td>UniqueSongShare</td>\n",
       "      <td>0.031251</td>\n",
       "    </tr>\n",
       "    <tr>\n",
       "      <th>13</th>\n",
       "      <td>AvgNonSongEventCount</td>\n",
       "      <td>0.029063</td>\n",
       "    </tr>\n",
       "    <tr>\n",
       "      <th>4</th>\n",
       "      <td>ThumbsUpCount</td>\n",
       "      <td>0.023901</td>\n",
       "    </tr>\n",
       "    <tr>\n",
       "      <th>14</th>\n",
       "      <td>UniqueSongCount</td>\n",
       "      <td>0.020732</td>\n",
       "    </tr>\n",
       "    <tr>\n",
       "      <th>3</th>\n",
       "      <td>SubmitUpgradeCount</td>\n",
       "      <td>0.006555</td>\n",
       "    </tr>\n",
       "  </tbody>\n",
       "</table>\n",
       "</div>"
      ],
      "text/plain": [
       "                      Feature  FeatureImportances\n",
       "16                 AvgGapTime            0.251410\n",
       "7      ThumbsDownCountPerHour            0.130147\n",
       "0                  EventCount            0.085259\n",
       "9        SettingsCountPerHour            0.067623\n",
       "5      RollAdvertCountPerHour            0.057965\n",
       "10         LogoutCountPerHour            0.057503\n",
       "2             RollAdvertCount            0.054857\n",
       "1            AvgSessionLength            0.043084\n",
       "12            TotalSongLength            0.036899\n",
       "8         UpgradeCountPerHour            0.035458\n",
       "6   SubmitUpgradeCountPerHour            0.034444\n",
       "11   SaveSettingsCountPerHour            0.033850\n",
       "15            UniqueSongShare            0.031251\n",
       "13       AvgNonSongEventCount            0.029063\n",
       "4               ThumbsUpCount            0.023901\n",
       "14            UniqueSongCount            0.020732\n",
       "3          SubmitUpgradeCount            0.006555"
      ]
     },
     "execution_count": 140,
     "metadata": {},
     "output_type": "execute_result"
    }
   ],
   "source": [
    "# coefficients (model 4)\n",
    "feature_coeff_rf = model_rf_fitted.stages[-1].featureImportances\n",
    "featureImp_rf = pd.DataFrame(list(zip(features, feature_coeff_rf)), columns=['Feature', 'FeatureImportances']) \\\n",
    "    .sort_values('FeatureImportances', ascending=False)\n",
    "featureImp_rf"
   ]
  },
  {
   "cell_type": "code",
   "execution_count": null,
   "metadata": {},
   "outputs": [],
   "source": []
  },
  {
   "cell_type": "markdown",
   "metadata": {},
   "source": [
    "# Final Steps\n",
    "Clean up your code, adding comments and renaming variables to make the code easier to read and maintain. Refer to the Spark Project Overview page and Data Scientist Capstone Project Rubric to make sure you are including all components of the capstone project and meet all expectations. Remember, this includes thorough documentation in a README file in a Github repository, as well as a web app or blog post."
   ]
  },
  {
   "cell_type": "code",
   "execution_count": null,
   "metadata": {
    "collapsed": true
   },
   "outputs": [],
   "source": []
  }
 ],
 "metadata": {
  "kernelspec": {
   "display_name": "Python 3",
   "language": "python",
   "name": "python3"
  },
  "language_info": {
   "codemirror_mode": {
    "name": "ipython",
    "version": 3
   },
   "file_extension": ".py",
   "mimetype": "text/x-python",
   "name": "python",
   "nbconvert_exporter": "python",
   "pygments_lexer": "ipython3",
   "version": "3.6.8"
  }
 },
 "nbformat": 4,
 "nbformat_minor": 2
}
