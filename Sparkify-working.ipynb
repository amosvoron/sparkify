{
 "cells": [
  {
   "cell_type": "markdown",
   "metadata": {},
   "source": [
    "# Sparkify Project Workspace\n",
    "This workspace contains a tiny subset (128MB) of the full dataset available (12GB). Feel free to use this workspace to build your project, or to explore a smaller subset with Spark before deploying your cluster on the cloud. Instructions for setting up your Spark cluster is included in the last lesson of the Extracurricular Spark Course content.\n",
    "\n",
    "You can follow the steps below to guide your data analysis and model building portion of this project."
   ]
  },
  {
   "cell_type": "code",
   "execution_count": 736,
   "metadata": {},
   "outputs": [],
   "source": [
    "# import libraries\n",
    "from pyspark.sql import SparkSession\n",
    "from pyspark.sql.functions import isnan, count, when, col, desc, udf, col, sort_array, asc, \\\n",
    "    min, max, avg, split, round, lit\n",
    "from pyspark.sql.functions import sum as Fsum\n",
    "from pyspark.sql.window import Window\n",
    "\n",
    "from pyspark.sql.types import IntegerType, TimestampType, BooleanType\n",
    "import datetime\n",
    "\n",
    "import numpy as np\n",
    "import pandas as pd\n",
    "%matplotlib inline\n",
    "import matplotlib.pyplot as plt\n",
    "import seaborn as sb"
   ]
  },
  {
   "cell_type": "code",
   "execution_count": 33,
   "metadata": {},
   "outputs": [],
   "source": [
    "# Create a Spark session\n",
    "spark = SparkSession \\\n",
    "    .builder \\\n",
    "    .appName(\"Sparkify\") \\\n",
    "    .getOrCreate()"
   ]
  },
  {
   "cell_type": "markdown",
   "metadata": {},
   "source": [
    "### Common Functions"
   ]
  },
  {
   "cell_type": "code",
   "execution_count": 381,
   "metadata": {},
   "outputs": [],
   "source": [
    "# Set plot's figure size\n",
    "def set_plot_size(width, height):\n",
    "    return plt.figure(figsize = [width, height]);"
   ]
  },
  {
   "cell_type": "markdown",
   "metadata": {},
   "source": [
    "# Load and Clean Dataset\n",
    "In this workspace, the mini-dataset file is `mini_sparkify_event_data.json`. Load and clean the dataset, checking for invalid or missing data - for example, records without userids or sessionids. "
   ]
  },
  {
   "cell_type": "code",
   "execution_count": 583,
   "metadata": {},
   "outputs": [
    {
     "name": "stdout",
     "output_type": "stream",
     "text": [
      "root\n",
      " |-- artist: string (nullable = true)\n",
      " |-- auth: string (nullable = true)\n",
      " |-- gender: string (nullable = true)\n",
      " |-- itemInSession: long (nullable = true)\n",
      " |-- length: double (nullable = true)\n",
      " |-- level: string (nullable = true)\n",
      " |-- page: string (nullable = true)\n",
      " |-- registration: long (nullable = true)\n",
      " |-- sessionId: long (nullable = true)\n",
      " |-- song: string (nullable = true)\n",
      " |-- status: long (nullable = true)\n",
      " |-- ts: long (nullable = true)\n",
      " |-- userAgent: string (nullable = true)\n",
      " |-- userId: string (nullable = true)\n",
      " |-- regDate: timestamp (nullable = true)\n",
      " |-- tsDate: timestamp (nullable = true)\n",
      " |-- city: string (nullable = true)\n",
      " |-- state: string (nullable = true)\n",
      "\n"
     ]
    },
    {
     "data": {
      "text/plain": [
       "[Row(artist='Martha Tilston', auth='Logged In', gender='M', itemInSession=50, length=277.89016, level='paid', page='NextSong', registration=1538173362000, sessionId=29, song='Rockpools', status=200, ts=1538352117000, userAgent='Mozilla/5.0 (Windows NT 6.1; WOW64; rv:31.0) Gecko/20100101 Firefox/31.0', userId='30', regDate=datetime.datetime(2018, 9, 29, 0, 22, 42), tsDate=datetime.datetime(2018, 10, 1, 2, 1, 57), city='Bakersfield', state=' CA'),\n",
       " Row(artist='Five Iron Frenzy', auth='Logged In', gender='M', itemInSession=79, length=236.09424, level='free', page='NextSong', registration=1538331630000, sessionId=8, song='Canada', status=200, ts=1538352180000, userAgent='\"Mozilla/5.0 (Windows NT 6.1; WOW64) AppleWebKit/537.36 (KHTML, like Gecko) Chrome/37.0.2062.103 Safari/537.36\"', userId='9', regDate=datetime.datetime(2018, 9, 30, 20, 20, 30), tsDate=datetime.datetime(2018, 10, 1, 2, 3), city='Boston-Cambridge-Newton', state=' MA-NH'),\n",
       " Row(artist='Adam Lambert', auth='Logged In', gender='M', itemInSession=51, length=282.8273, level='paid', page='NextSong', registration=1538173362000, sessionId=29, song='Time For Miracles', status=200, ts=1538352394000, userAgent='Mozilla/5.0 (Windows NT 6.1; WOW64; rv:31.0) Gecko/20100101 Firefox/31.0', userId='30', regDate=datetime.datetime(2018, 9, 29, 0, 22, 42), tsDate=datetime.datetime(2018, 10, 1, 2, 6, 34), city='Bakersfield', state=' CA')]"
      ]
     },
     "execution_count": 583,
     "metadata": {},
     "output_type": "execute_result"
    }
   ],
   "source": [
    "# Load dataset\n",
    "path = \"data/mini_sparkify_event_data.json\"\n",
    "data = spark.read.json(path)\n",
    "original_count = data.count()\n",
    "\n",
    "# Remove rows with missing users\n",
    "data = data.where(~((col('userId').isNull()) | (col('userId') == '')))\n",
    "\n",
    "# Exclude non-relevant columns\n",
    "data = data.drop('firstName')\n",
    "data = data.drop('lastName')\n",
    "data = data.drop('method')\n",
    "\n",
    "data = data.withColumn('regDate', (col('registration') / 1000.0).cast(TimestampType()))\n",
    "data = data.withColumn('tsDate', (col('ts') / 1000.0).cast(TimestampType()))\n",
    "data.take(1)\n",
    "\n",
    "data = data.withColumn('city', split(data['location'], ',')[0])\n",
    "data = data.withColumn('state', split(data['location'], ',')[1])\n",
    "data = data.drop('location')\n",
    "\n",
    "data.printSchema()\n",
    "data.take(3)"
   ]
  },
  {
   "cell_type": "markdown",
   "metadata": {},
   "source": [
    "# Exploratory Data Analysis\n",
    "When you're working with the full dataset, perform EDA by loading a small subset of the data and doing basic manipulations within Spark. In this workspace, you are already provided a small subset of data you can explore.\n",
    "\n",
    "### Define Churn\n",
    "\n",
    "Once you've done some preliminary analysis, create a column `Churn` to use as the label for your model. I suggest using the `Cancellation Confirmation` events to define your churn, which happen for both paid and free users. As a bonus task, you can also look into the `Downgrade` events.\n",
    "\n",
    "### Explore Data\n",
    "Once you've defined churn, perform some exploratory data analysis to observe the behavior for users who stayed vs users who churned. You can start by exploring aggregates on these two groups of users, observing how much of a specific action they experienced per a certain time unit or number of songs played."
   ]
  },
  {
   "cell_type": "markdown",
   "metadata": {},
   "source": [
    "### EDA on churned users"
   ]
  },
  {
   "cell_type": "code",
   "execution_count": 584,
   "metadata": {},
   "outputs": [],
   "source": [
    "cols = ['tsDate', 'auth', 'level', 'page', 'status', 'song', 'artist', 'length', 'Churn']"
   ]
  },
  {
   "cell_type": "code",
   "execution_count": 640,
   "metadata": {},
   "outputs": [
    {
     "data": {
      "text/plain": [
       "52"
      ]
     },
     "execution_count": 640,
     "metadata": {},
     "output_type": "execute_result"
    }
   ],
   "source": [
    "# Count churned users using Cancellation Confirmation evet\n",
    "data.where(data.page == 'Cancellation Confirmation').dropDuplicates().count()"
   ]
  },
  {
   "cell_type": "code",
   "execution_count": 797,
   "metadata": {},
   "outputs": [
    {
     "data": {
      "text/plain": [
       "52"
      ]
     },
     "execution_count": 797,
     "metadata": {},
     "output_type": "execute_result"
    }
   ],
   "source": [
    "# Label churned users\n",
    "\n",
    "# extract churned users\n",
    "churned = data.where(data.page.isin(['Cancellation Confirmation'])) \\\n",
    "    .dropDuplicates() \\\n",
    "    .select('userId') \\\n",
    "    .collect()\n",
    "\n",
    "# add new column using churned list\n",
    "churned_uids = [x.userId for x in churned];\n",
    "is_churn = udf(lambda x: 1 if x in churned_uids else 0, IntegerType())\n",
    "data = data.withColumn('churn', is_churn('userId'))\n",
    "data.take(3)\n",
    "\n",
    "# check\n",
    "data.where(data.churn == True).select('userId').dropDuplicates().count()"
   ]
  },
  {
   "cell_type": "markdown",
   "metadata": {},
   "source": [
    "#### Churn vs. Gender"
   ]
  },
  {
   "cell_type": "code",
   "execution_count": 808,
   "metadata": {},
   "outputs": [
    {
     "data": {
      "image/png": "[encoded data removed]",
      "text/plain": [
       "<Figure size 360x360 with 1 Axes>"
      ]
     },
     "metadata": {
      "needs_background": "light"
     },
     "output_type": "display_data"
    }
   ],
   "source": [
    "def calc_churn_share(row):\n",
    "    if row['gender'] == 'M':\n",
    "        return row['count']/row['M_total']\n",
    "    else:\n",
    "        return row['count']/row['F_total']\n",
    "\n",
    "# prepare data\n",
    "df = data \\\n",
    "    .groupby('gender', 'churn') \\\n",
    "    .count() \\\n",
    "    .withColumn('M_total', lit(data.where(data.gender == 'M').count())) \\\n",
    "    .withColumn('F_total', lit(data.where(data.gender == 'F').count())) \\\n",
    "    .toPandas()\n",
    "\n",
    "df['churn_share'] = df.apply(lambda row: calc_churn_share(row), axis=1)\n",
    "df1 = df[df.gender == 'M'].sort_values(by='churn')['churn_share']\n",
    "df2 = df[df.gender == 'F'].sort_values(by='churn')['churn_share']\n",
    "\n",
    "# plot\n",
    "plt.figure(figsize = [5, 5])\n",
    "width =0.4\n",
    "labels = ['Active', 'Churned']\n",
    "plt.xticks(range(2), labels)\n",
    "plt.xlabel('Gender')\n",
    "plt.ylabel('Churn')\n",
    "plt.bar(np.arange(len(df1)), df1, width=width)\n",
    "plt.bar(np.arange(len(df2))+ width, df2, width=width)\n",
    "ax = plt.gca()\n",
    "ax.set_title('Churn vs. Gender');\n",
    "plt.legend(['Male', 'Female'], loc=1)\n",
    "plt.show()"
   ]
  },
  {
   "cell_type": "markdown",
   "metadata": {},
   "source": [
    "#### Churn vs. Level"
   ]
  },
  {
   "cell_type": "code",
   "execution_count": 874,
   "metadata": {},
   "outputs": [
    {
     "data": {
      "image/png": "[encoded data removed]",
      "text/plain": [
       "<Figure size 360x360 with 1 Axes>"
      ]
     },
     "metadata": {
      "needs_background": "light"
     },
     "output_type": "display_data"
    }
   ],
   "source": [
    "def calc_churn_share(row):\n",
    "    if row['level'] == 'paid':\n",
    "        return row['count']/row['paid_total']\n",
    "    else:\n",
    "        return row['count']/row['free_total']\n",
    "\n",
    "# prepare data\n",
    "df = data \\\n",
    "    .groupby('level', 'churn') \\\n",
    "    .count() \\\n",
    "    .withColumn('paid_total', lit(data.where(data.level == 'paid').count())) \\\n",
    "    .withColumn('free_total', lit(data.where(data.level == 'free').count())) \\\n",
    "    .toPandas()\n",
    "\n",
    "df['churn_share'] = df.apply(lambda row: calc_churn_share(row), axis=1)\n",
    "df1 = df[df.level == 'paid'].sort_values(by='churn')['churn_share']\n",
    "df2 = df[df.level == 'free'].sort_values(by='churn')['churn_share']\n",
    "\n",
    "# plot\n",
    "plt.figure(figsize = [5, 5])\n",
    "width = 0.4\n",
    "labels = ['Active', 'Churned']\n",
    "plt.xticks(range(2), labels)\n",
    "plt.xlabel('Level')\n",
    "plt.ylabel('Churn')\n",
    "plt.bar(np.arange(len(df1)), df1, width=width)\n",
    "plt.bar(np.arange(len(df2))+width, df2, width=width)\n",
    "ax = plt.gca()\n",
    "ax.set_title('Churn vs. Level');\n",
    "plt.legend(['paid', 'free'], loc=1)\n",
    "plt.show()"
   ]
  },
  {
   "cell_type": "code",
   "execution_count": 881,
   "metadata": {},
   "outputs": [
    {
     "data": {
      "text/plain": [
       "<BarContainer object of 2 artists>"
      ]
     },
     "execution_count": 881,
     "metadata": {},
     "output_type": "execute_result"
    },
    {
     "data": {
      "image/png": "[encoded data removed]",
      "text/plain": [
       "<Figure size 432x288 with 1 Axes>"
      ]
     },
     "metadata": {
      "needs_background": "light"
     },
     "output_type": "display_data"
    }
   ],
   "source": [
    "plt.bar(np.arange(len(df1)), df1, width=width)\n",
    "plt.bar(np.arange(len(df2))+0.2, df2, width=width)"
   ]
  },
  {
   "cell_type": "code",
   "execution_count": null,
   "metadata": {},
   "outputs": [],
   "source": []
  },
  {
   "cell_type": "code",
   "execution_count": 877,
   "metadata": {},
   "outputs": [],
   "source": [
    "df = data \\\n",
    "    .select('churn', 'state', 'userId') \\\n",
    "    .dropDuplicates() \\\n",
    "    .groupby('churn', 'state') \\\n",
    "    .count() \\\n",
    "    .toPandas()"
   ]
  },
  {
   "cell_type": "code",
   "execution_count": 903,
   "metadata": {},
   "outputs": [
    {
     "data": {
      "text/html": [
       "<div>\n",
       "<style scoped>\n",
       "    .dataframe tbody tr th:only-of-type {\n",
       "        vertical-align: middle;\n",
       "    }\n",
       "\n",
       "    .dataframe tbody tr th {\n",
       "        vertical-align: top;\n",
       "    }\n",
       "\n",
       "    .dataframe thead th {\n",
       "        text-align: right;\n",
       "    }\n",
       "</style>\n",
       "<table border=\"1\" class=\"dataframe\">\n",
       "  <thead>\n",
       "    <tr style=\"text-align: right;\">\n",
       "      <th></th>\n",
       "      <th>churn</th>\n",
       "      <th>count</th>\n",
       "    </tr>\n",
       "    <tr>\n",
       "      <th>state</th>\n",
       "      <th></th>\n",
       "      <th></th>\n",
       "    </tr>\n",
       "  </thead>\n",
       "  <tbody>\n",
       "    <tr>\n",
       "      <th>CA</th>\n",
       "      <td>0</td>\n",
       "      <td>27</td>\n",
       "    </tr>\n",
       "    <tr>\n",
       "      <th>TX</th>\n",
       "      <td>0</td>\n",
       "      <td>13</td>\n",
       "    </tr>\n",
       "    <tr>\n",
       "      <th>FL</th>\n",
       "      <td>0</td>\n",
       "      <td>11</td>\n",
       "    </tr>\n",
       "    <tr>\n",
       "      <th>NY-NJ-PA</th>\n",
       "      <td>0</td>\n",
       "      <td>10</td>\n",
       "    </tr>\n",
       "    <tr>\n",
       "      <th>CT</th>\n",
       "      <td>0</td>\n",
       "      <td>7</td>\n",
       "    </tr>\n",
       "    <tr>\n",
       "      <th>CA</th>\n",
       "      <td>1</td>\n",
       "      <td>6</td>\n",
       "    </tr>\n",
       "    <tr>\n",
       "      <th>NC-SC</th>\n",
       "      <td>0</td>\n",
       "      <td>6</td>\n",
       "    </tr>\n",
       "    <tr>\n",
       "      <th>MA-NH</th>\n",
       "      <td>0</td>\n",
       "      <td>5</td>\n",
       "    </tr>\n",
       "    <tr>\n",
       "      <th>IL-IN-WI</th>\n",
       "      <td>0</td>\n",
       "      <td>5</td>\n",
       "    </tr>\n",
       "    <tr>\n",
       "      <th>MO-IL</th>\n",
       "      <td>0</td>\n",
       "      <td>5</td>\n",
       "    </tr>\n",
       "  </tbody>\n",
       "</table>\n",
       "</div>"
      ],
      "text/plain": [
       "           churn  count\n",
       "state                  \n",
       " CA            0     27\n",
       " TX            0     13\n",
       " FL            0     11\n",
       " NY-NJ-PA      0     10\n",
       " CT            0      7\n",
       " CA            1      6\n",
       " NC-SC         0      6\n",
       " MA-NH         0      5\n",
       " IL-IN-WI      0      5\n",
       " MO-IL         0      5"
      ]
     },
     "execution_count": 903,
     "metadata": {},
     "output_type": "execute_result"
    }
   ],
   "source": [
    "df.sort_values(by='count', ascending=False).head(10)"
   ]
  },
  {
   "cell_type": "code",
   "execution_count": 897,
   "metadata": {},
   "outputs": [],
   "source": [
    "states_active = df[df.churn == 0]['count']\n",
    "states_churned = df[df.churn == 1]['count']"
   ]
  },
  {
   "cell_type": "code",
   "execution_count": 904,
   "metadata": {},
   "outputs": [],
   "source": [
    "pivot = pd.pivot_table(df, index=['churn', 'state'])"
   ]
  },
  {
   "cell_type": "code",
   "execution_count": 925,
   "metadata": {},
   "outputs": [
    {
     "data": {
      "text/html": [
       "<div>\n",
       "<style scoped>\n",
       "    .dataframe tbody tr th:only-of-type {\n",
       "        vertical-align: middle;\n",
       "    }\n",
       "\n",
       "    .dataframe tbody tr th {\n",
       "        vertical-align: top;\n",
       "    }\n",
       "\n",
       "    .dataframe thead th {\n",
       "        text-align: right;\n",
       "    }\n",
       "</style>\n",
       "<table border=\"1\" class=\"dataframe\">\n",
       "  <thead>\n",
       "    <tr style=\"text-align: right;\">\n",
       "      <th></th>\n",
       "      <th>churn</th>\n",
       "      <th>count</th>\n",
       "    </tr>\n",
       "    <tr>\n",
       "      <th>state</th>\n",
       "      <th></th>\n",
       "      <th></th>\n",
       "    </tr>\n",
       "  </thead>\n",
       "  <tbody>\n",
       "    <tr>\n",
       "      <th>NY</th>\n",
       "      <td>1</td>\n",
       "      <td>1</td>\n",
       "    </tr>\n",
       "    <tr>\n",
       "      <th>TN-MS-AR</th>\n",
       "      <td>1</td>\n",
       "      <td>1</td>\n",
       "    </tr>\n",
       "    <tr>\n",
       "      <th>PA-NJ-DE-MD</th>\n",
       "      <td>1</td>\n",
       "      <td>2</td>\n",
       "    </tr>\n",
       "    <tr>\n",
       "      <th>NC</th>\n",
       "      <td>1</td>\n",
       "      <td>1</td>\n",
       "    </tr>\n",
       "    <tr>\n",
       "      <th>CO</th>\n",
       "      <td>1</td>\n",
       "      <td>2</td>\n",
       "    </tr>\n",
       "    <tr>\n",
       "      <th>MD</th>\n",
       "      <td>1</td>\n",
       "      <td>1</td>\n",
       "    </tr>\n",
       "    <tr>\n",
       "      <th>MS</th>\n",
       "      <td>1</td>\n",
       "      <td>2</td>\n",
       "    </tr>\n",
       "    <tr>\n",
       "      <th>OH</th>\n",
       "      <td>1</td>\n",
       "      <td>2</td>\n",
       "    </tr>\n",
       "    <tr>\n",
       "      <th>MT</th>\n",
       "      <td>1</td>\n",
       "      <td>1</td>\n",
       "    </tr>\n",
       "    <tr>\n",
       "      <th>WA</th>\n",
       "      <td>1</td>\n",
       "      <td>2</td>\n",
       "    </tr>\n",
       "    <tr>\n",
       "      <th>TX</th>\n",
       "      <td>1</td>\n",
       "      <td>3</td>\n",
       "    </tr>\n",
       "    <tr>\n",
       "      <th>IN</th>\n",
       "      <td>1</td>\n",
       "      <td>1</td>\n",
       "    </tr>\n",
       "    <tr>\n",
       "      <th>CA</th>\n",
       "      <td>1</td>\n",
       "      <td>6</td>\n",
       "    </tr>\n",
       "    <tr>\n",
       "      <th>IL-IN-WI</th>\n",
       "      <td>1</td>\n",
       "      <td>1</td>\n",
       "    </tr>\n",
       "    <tr>\n",
       "      <th>IL-MO</th>\n",
       "      <td>1</td>\n",
       "      <td>1</td>\n",
       "    </tr>\n",
       "    <tr>\n",
       "      <th>DC-VA-MD-WV</th>\n",
       "      <td>1</td>\n",
       "      <td>1</td>\n",
       "    </tr>\n",
       "    <tr>\n",
       "      <th>AR</th>\n",
       "      <td>1</td>\n",
       "      <td>1</td>\n",
       "    </tr>\n",
       "    <tr>\n",
       "      <th>NY-NJ-PA</th>\n",
       "      <td>1</td>\n",
       "      <td>5</td>\n",
       "    </tr>\n",
       "    <tr>\n",
       "      <th>OR</th>\n",
       "      <td>1</td>\n",
       "      <td>1</td>\n",
       "    </tr>\n",
       "    <tr>\n",
       "      <th>AL</th>\n",
       "      <td>1</td>\n",
       "      <td>2</td>\n",
       "    </tr>\n",
       "    <tr>\n",
       "      <th>AZ</th>\n",
       "      <td>1</td>\n",
       "      <td>2</td>\n",
       "    </tr>\n",
       "    <tr>\n",
       "      <th>SC</th>\n",
       "      <td>1</td>\n",
       "      <td>1</td>\n",
       "    </tr>\n",
       "    <tr>\n",
       "      <th>LA</th>\n",
       "      <td>1</td>\n",
       "      <td>1</td>\n",
       "    </tr>\n",
       "    <tr>\n",
       "      <th>MO-KS</th>\n",
       "      <td>1</td>\n",
       "      <td>1</td>\n",
       "    </tr>\n",
       "    <tr>\n",
       "      <th>MI</th>\n",
       "      <td>1</td>\n",
       "      <td>3</td>\n",
       "    </tr>\n",
       "    <tr>\n",
       "      <th>MO-IL</th>\n",
       "      <td>1</td>\n",
       "      <td>1</td>\n",
       "    </tr>\n",
       "    <tr>\n",
       "      <th>VA-NC</th>\n",
       "      <td>1</td>\n",
       "      <td>1</td>\n",
       "    </tr>\n",
       "    <tr>\n",
       "      <th>KY</th>\n",
       "      <td>1</td>\n",
       "      <td>2</td>\n",
       "    </tr>\n",
       "    <tr>\n",
       "      <th>FL</th>\n",
       "      <td>1</td>\n",
       "      <td>3</td>\n",
       "    </tr>\n",
       "  </tbody>\n",
       "</table>\n",
       "</div>"
      ],
      "text/plain": [
       "              churn  count\n",
       "state                     \n",
       " NY               1      1\n",
       " TN-MS-AR         1      1\n",
       " PA-NJ-DE-MD      1      2\n",
       " NC               1      1\n",
       " CO               1      2\n",
       " MD               1      1\n",
       " MS               1      2\n",
       " OH               1      2\n",
       " MT               1      1\n",
       " WA               1      2\n",
       " TX               1      3\n",
       " IN               1      1\n",
       " CA               1      6\n",
       " IL-IN-WI         1      1\n",
       " IL-MO            1      1\n",
       " DC-VA-MD-WV      1      1\n",
       " AR               1      1\n",
       " NY-NJ-PA         1      5\n",
       " OR               1      1\n",
       " AL               1      2\n",
       " AZ               1      2\n",
       " SC               1      1\n",
       " LA               1      1\n",
       " MO-KS            1      1\n",
       " MI               1      3\n",
       " MO-IL            1      1\n",
       " VA-NC            1      1\n",
       " KY               1      2\n",
       " FL               1      3"
      ]
     },
     "execution_count": 925,
     "metadata": {},
     "output_type": "execute_result"
    }
   ],
   "source": [
    "df[df.churn == 1]"
   ]
  },
  {
   "cell_type": "code",
   "execution_count": 943,
   "metadata": {},
   "outputs": [
    {
     "data": {
      "text/html": [
       "<div>\n",
       "<style scoped>\n",
       "    .dataframe tbody tr th:only-of-type {\n",
       "        vertical-align: middle;\n",
       "    }\n",
       "\n",
       "    .dataframe tbody tr th {\n",
       "        vertical-align: top;\n",
       "    }\n",
       "\n",
       "    .dataframe thead th {\n",
       "        text-align: right;\n",
       "    }\n",
       "</style>\n",
       "<table border=\"1\" class=\"dataframe\">\n",
       "  <thead>\n",
       "    <tr style=\"text-align: right;\">\n",
       "      <th></th>\n",
       "      <th>state</th>\n",
       "      <th>count_active</th>\n",
       "      <th>count_churn</th>\n",
       "      <th>churn_share</th>\n",
       "    </tr>\n",
       "  </thead>\n",
       "  <tbody>\n",
       "    <tr>\n",
       "      <th>0</th>\n",
       "      <td>FL</td>\n",
       "      <td>11</td>\n",
       "      <td>3</td>\n",
       "      <td>0.214286</td>\n",
       "    </tr>\n",
       "    <tr>\n",
       "      <th>1</th>\n",
       "      <td>MT</td>\n",
       "      <td>1</td>\n",
       "      <td>1</td>\n",
       "      <td>0.500000</td>\n",
       "    </tr>\n",
       "    <tr>\n",
       "      <th>2</th>\n",
       "      <td>MO-KS</td>\n",
       "      <td>1</td>\n",
       "      <td>1</td>\n",
       "      <td>0.500000</td>\n",
       "    </tr>\n",
       "    <tr>\n",
       "      <th>3</th>\n",
       "      <td>NY-NJ-PA</td>\n",
       "      <td>10</td>\n",
       "      <td>5</td>\n",
       "      <td>0.333333</td>\n",
       "    </tr>\n",
       "    <tr>\n",
       "      <th>4</th>\n",
       "      <td>WA</td>\n",
       "      <td>2</td>\n",
       "      <td>2</td>\n",
       "      <td>0.500000</td>\n",
       "    </tr>\n",
       "    <tr>\n",
       "      <th>5</th>\n",
       "      <td>TX</td>\n",
       "      <td>13</td>\n",
       "      <td>3</td>\n",
       "      <td>0.187500</td>\n",
       "    </tr>\n",
       "    <tr>\n",
       "      <th>6</th>\n",
       "      <td>CO</td>\n",
       "      <td>2</td>\n",
       "      <td>2</td>\n",
       "      <td>0.500000</td>\n",
       "    </tr>\n",
       "    <tr>\n",
       "      <th>7</th>\n",
       "      <td>MI</td>\n",
       "      <td>2</td>\n",
       "      <td>3</td>\n",
       "      <td>0.600000</td>\n",
       "    </tr>\n",
       "    <tr>\n",
       "      <th>8</th>\n",
       "      <td>OH</td>\n",
       "      <td>1</td>\n",
       "      <td>2</td>\n",
       "      <td>0.666667</td>\n",
       "    </tr>\n",
       "    <tr>\n",
       "      <th>9</th>\n",
       "      <td>PA-NJ-DE-MD</td>\n",
       "      <td>3</td>\n",
       "      <td>2</td>\n",
       "      <td>0.400000</td>\n",
       "    </tr>\n",
       "    <tr>\n",
       "      <th>10</th>\n",
       "      <td>NC</td>\n",
       "      <td>5</td>\n",
       "      <td>1</td>\n",
       "      <td>0.166667</td>\n",
       "    </tr>\n",
       "    <tr>\n",
       "      <th>11</th>\n",
       "      <td>VA-NC</td>\n",
       "      <td>1</td>\n",
       "      <td>1</td>\n",
       "      <td>0.500000</td>\n",
       "    </tr>\n",
       "    <tr>\n",
       "      <th>12</th>\n",
       "      <td>MD</td>\n",
       "      <td>1</td>\n",
       "      <td>1</td>\n",
       "      <td>0.500000</td>\n",
       "    </tr>\n",
       "    <tr>\n",
       "      <th>13</th>\n",
       "      <td>SC</td>\n",
       "      <td>1</td>\n",
       "      <td>1</td>\n",
       "      <td>0.500000</td>\n",
       "    </tr>\n",
       "    <tr>\n",
       "      <th>14</th>\n",
       "      <td>IL-IN-WI</td>\n",
       "      <td>5</td>\n",
       "      <td>1</td>\n",
       "      <td>0.166667</td>\n",
       "    </tr>\n",
       "    <tr>\n",
       "      <th>15</th>\n",
       "      <td>CA</td>\n",
       "      <td>27</td>\n",
       "      <td>6</td>\n",
       "      <td>0.181818</td>\n",
       "    </tr>\n",
       "    <tr>\n",
       "      <th>16</th>\n",
       "      <td>NY</td>\n",
       "      <td>4</td>\n",
       "      <td>1</td>\n",
       "      <td>0.200000</td>\n",
       "    </tr>\n",
       "    <tr>\n",
       "      <th>17</th>\n",
       "      <td>AL</td>\n",
       "      <td>2</td>\n",
       "      <td>2</td>\n",
       "      <td>0.500000</td>\n",
       "    </tr>\n",
       "    <tr>\n",
       "      <th>18</th>\n",
       "      <td>KY</td>\n",
       "      <td>1</td>\n",
       "      <td>2</td>\n",
       "      <td>0.666667</td>\n",
       "    </tr>\n",
       "    <tr>\n",
       "      <th>19</th>\n",
       "      <td>MO-IL</td>\n",
       "      <td>5</td>\n",
       "      <td>1</td>\n",
       "      <td>0.166667</td>\n",
       "    </tr>\n",
       "    <tr>\n",
       "      <th>20</th>\n",
       "      <td>LA</td>\n",
       "      <td>1</td>\n",
       "      <td>1</td>\n",
       "      <td>0.500000</td>\n",
       "    </tr>\n",
       "    <tr>\n",
       "      <th>21</th>\n",
       "      <td>AZ</td>\n",
       "      <td>5</td>\n",
       "      <td>2</td>\n",
       "      <td>0.285714</td>\n",
       "    </tr>\n",
       "    <tr>\n",
       "      <th>22</th>\n",
       "      <td>MS</td>\n",
       "      <td>1</td>\n",
       "      <td>2</td>\n",
       "      <td>0.666667</td>\n",
       "    </tr>\n",
       "    <tr>\n",
       "      <th>23</th>\n",
       "      <td>DC-VA-MD-WV</td>\n",
       "      <td>3</td>\n",
       "      <td>1</td>\n",
       "      <td>0.250000</td>\n",
       "    </tr>\n",
       "    <tr>\n",
       "      <th>24</th>\n",
       "      <td>IN</td>\n",
       "      <td>2</td>\n",
       "      <td>1</td>\n",
       "      <td>0.333333</td>\n",
       "    </tr>\n",
       "  </tbody>\n",
       "</table>\n",
       "</div>"
      ],
      "text/plain": [
       "           state  count_active  count_churn  churn_share\n",
       "0             FL            11            3     0.214286\n",
       "1             MT             1            1     0.500000\n",
       "2          MO-KS             1            1     0.500000\n",
       "3       NY-NJ-PA            10            5     0.333333\n",
       "4             WA             2            2     0.500000\n",
       "5             TX            13            3     0.187500\n",
       "6             CO             2            2     0.500000\n",
       "7             MI             2            3     0.600000\n",
       "8             OH             1            2     0.666667\n",
       "9    PA-NJ-DE-MD             3            2     0.400000\n",
       "10            NC             5            1     0.166667\n",
       "11         VA-NC             1            1     0.500000\n",
       "12            MD             1            1     0.500000\n",
       "13            SC             1            1     0.500000\n",
       "14      IL-IN-WI             5            1     0.166667\n",
       "15            CA            27            6     0.181818\n",
       "16            NY             4            1     0.200000\n",
       "17            AL             2            2     0.500000\n",
       "18            KY             1            2     0.666667\n",
       "19         MO-IL             5            1     0.166667\n",
       "20            LA             1            1     0.500000\n",
       "21            AZ             5            2     0.285714\n",
       "22            MS             1            2     0.666667\n",
       "23   DC-VA-MD-WV             3            1     0.250000\n",
       "24            IN             2            1     0.333333"
      ]
     },
     "execution_count": 943,
     "metadata": {},
     "output_type": "execute_result"
    }
   ],
   "source": [
    "states = df[df.churn == 0].join(df[df.churn == 1], lsuffix='_active', rsuffix='_churn') \\\n",
    "                          .dropna()[['count_active', 'count_churn']]\n",
    "states.count_churn = states.count_churn.astype(int)\n",
    "states['churn_share'] = states['count_churn']/(states['count_churn'] + states['count_active'])\n",
    "states = states.reset_index()\n",
    "states"
   ]
  },
  {
   "cell_type": "code",
   "execution_count": 983,
   "metadata": {},
   "outputs": [
    {
     "data": {
      "text/html": [
       "<div>\n",
       "<style scoped>\n",
       "    .dataframe tbody tr th:only-of-type {\n",
       "        vertical-align: middle;\n",
       "    }\n",
       "\n",
       "    .dataframe tbody tr th {\n",
       "        vertical-align: top;\n",
       "    }\n",
       "\n",
       "    .dataframe thead th {\n",
       "        text-align: right;\n",
       "    }\n",
       "</style>\n",
       "<table border=\"1\" class=\"dataframe\">\n",
       "  <thead>\n",
       "    <tr style=\"text-align: right;\">\n",
       "      <th></th>\n",
       "      <th>count_active</th>\n",
       "      <th>count_churn</th>\n",
       "      <th>churn_share</th>\n",
       "    </tr>\n",
       "    <tr>\n",
       "      <th>state</th>\n",
       "      <th></th>\n",
       "      <th></th>\n",
       "      <th></th>\n",
       "    </tr>\n",
       "  </thead>\n",
       "  <tbody>\n",
       "    <tr>\n",
       "      <th>FL</th>\n",
       "      <td>11</td>\n",
       "      <td>3</td>\n",
       "      <td>0.214286</td>\n",
       "    </tr>\n",
       "    <tr>\n",
       "      <th>MT</th>\n",
       "      <td>1</td>\n",
       "      <td>1</td>\n",
       "      <td>0.500000</td>\n",
       "    </tr>\n",
       "    <tr>\n",
       "      <th>MO-KS</th>\n",
       "      <td>1</td>\n",
       "      <td>1</td>\n",
       "      <td>0.500000</td>\n",
       "    </tr>\n",
       "    <tr>\n",
       "      <th>NY-NJ-PA</th>\n",
       "      <td>10</td>\n",
       "      <td>5</td>\n",
       "      <td>0.333333</td>\n",
       "    </tr>\n",
       "    <tr>\n",
       "      <th>WA</th>\n",
       "      <td>2</td>\n",
       "      <td>2</td>\n",
       "      <td>0.500000</td>\n",
       "    </tr>\n",
       "    <tr>\n",
       "      <th>TX</th>\n",
       "      <td>13</td>\n",
       "      <td>3</td>\n",
       "      <td>0.187500</td>\n",
       "    </tr>\n",
       "    <tr>\n",
       "      <th>CO</th>\n",
       "      <td>2</td>\n",
       "      <td>2</td>\n",
       "      <td>0.500000</td>\n",
       "    </tr>\n",
       "    <tr>\n",
       "      <th>MI</th>\n",
       "      <td>2</td>\n",
       "      <td>3</td>\n",
       "      <td>0.600000</td>\n",
       "    </tr>\n",
       "    <tr>\n",
       "      <th>OH</th>\n",
       "      <td>1</td>\n",
       "      <td>2</td>\n",
       "      <td>0.666667</td>\n",
       "    </tr>\n",
       "    <tr>\n",
       "      <th>PA-NJ-DE-MD</th>\n",
       "      <td>3</td>\n",
       "      <td>2</td>\n",
       "      <td>0.400000</td>\n",
       "    </tr>\n",
       "    <tr>\n",
       "      <th>NC</th>\n",
       "      <td>5</td>\n",
       "      <td>1</td>\n",
       "      <td>0.166667</td>\n",
       "    </tr>\n",
       "    <tr>\n",
       "      <th>VA-NC</th>\n",
       "      <td>1</td>\n",
       "      <td>1</td>\n",
       "      <td>0.500000</td>\n",
       "    </tr>\n",
       "    <tr>\n",
       "      <th>MD</th>\n",
       "      <td>1</td>\n",
       "      <td>1</td>\n",
       "      <td>0.500000</td>\n",
       "    </tr>\n",
       "    <tr>\n",
       "      <th>SC</th>\n",
       "      <td>1</td>\n",
       "      <td>1</td>\n",
       "      <td>0.500000</td>\n",
       "    </tr>\n",
       "    <tr>\n",
       "      <th>IL-IN-WI</th>\n",
       "      <td>5</td>\n",
       "      <td>1</td>\n",
       "      <td>0.166667</td>\n",
       "    </tr>\n",
       "    <tr>\n",
       "      <th>CA</th>\n",
       "      <td>27</td>\n",
       "      <td>6</td>\n",
       "      <td>0.181818</td>\n",
       "    </tr>\n",
       "    <tr>\n",
       "      <th>NY</th>\n",
       "      <td>4</td>\n",
       "      <td>1</td>\n",
       "      <td>0.200000</td>\n",
       "    </tr>\n",
       "    <tr>\n",
       "      <th>AL</th>\n",
       "      <td>2</td>\n",
       "      <td>2</td>\n",
       "      <td>0.500000</td>\n",
       "    </tr>\n",
       "    <tr>\n",
       "      <th>KY</th>\n",
       "      <td>1</td>\n",
       "      <td>2</td>\n",
       "      <td>0.666667</td>\n",
       "    </tr>\n",
       "    <tr>\n",
       "      <th>MO-IL</th>\n",
       "      <td>5</td>\n",
       "      <td>1</td>\n",
       "      <td>0.166667</td>\n",
       "    </tr>\n",
       "    <tr>\n",
       "      <th>LA</th>\n",
       "      <td>1</td>\n",
       "      <td>1</td>\n",
       "      <td>0.500000</td>\n",
       "    </tr>\n",
       "    <tr>\n",
       "      <th>AZ</th>\n",
       "      <td>5</td>\n",
       "      <td>2</td>\n",
       "      <td>0.285714</td>\n",
       "    </tr>\n",
       "    <tr>\n",
       "      <th>MS</th>\n",
       "      <td>1</td>\n",
       "      <td>2</td>\n",
       "      <td>0.666667</td>\n",
       "    </tr>\n",
       "    <tr>\n",
       "      <th>DC-VA-MD-WV</th>\n",
       "      <td>3</td>\n",
       "      <td>1</td>\n",
       "      <td>0.250000</td>\n",
       "    </tr>\n",
       "    <tr>\n",
       "      <th>IN</th>\n",
       "      <td>2</td>\n",
       "      <td>1</td>\n",
       "      <td>0.333333</td>\n",
       "    </tr>\n",
       "  </tbody>\n",
       "</table>\n",
       "</div>"
      ],
      "text/plain": [
       "              count_active  count_churn  churn_share\n",
       "state                                               \n",
       " FL                     11            3     0.214286\n",
       " MT                      1            1     0.500000\n",
       " MO-KS                   1            1     0.500000\n",
       " NY-NJ-PA               10            5     0.333333\n",
       " WA                      2            2     0.500000\n",
       " TX                     13            3     0.187500\n",
       " CO                      2            2     0.500000\n",
       " MI                      2            3     0.600000\n",
       " OH                      1            2     0.666667\n",
       " PA-NJ-DE-MD             3            2     0.400000\n",
       " NC                      5            1     0.166667\n",
       " VA-NC                   1            1     0.500000\n",
       " MD                      1            1     0.500000\n",
       " SC                      1            1     0.500000\n",
       " IL-IN-WI                5            1     0.166667\n",
       " CA                     27            6     0.181818\n",
       " NY                      4            1     0.200000\n",
       " AL                      2            2     0.500000\n",
       " KY                      1            2     0.666667\n",
       " MO-IL                   5            1     0.166667\n",
       " LA                      1            1     0.500000\n",
       " AZ                      5            2     0.285714\n",
       " MS                      1            2     0.666667\n",
       " DC-VA-MD-WV             3            1     0.250000\n",
       " IN                      2            1     0.333333"
      ]
     },
     "execution_count": 983,
     "metadata": {},
     "output_type": "execute_result"
    }
   ],
   "source": [
    "states"
   ]
  },
  {
   "cell_type": "code",
   "execution_count": 988,
   "metadata": {},
   "outputs": [
    {
     "data": {
      "image/png": "[encoded data removed]",
      "text/plain": [
       "<Figure size 864x360 with 1 Axes>"
      ]
     },
     "metadata": {
      "needs_background": "light"
     },
     "output_type": "display_data"
    }
   ],
   "source": [
    "states.sort_values(by='churn_share', ascending=False) \\\n",
    "    .plot(x = states.index, y = 'churn_share', kind='bar', figsize = (12, 5), width=0.6);\n",
    "ax = plt.gca()\n",
    "ax.set_title('Churn vs. Location (state)');\n",
    "plt.xlabel('Location (state)')\n",
    "plt.ylabel('Churn')\n",
    "plt.show()"
   ]
  },
  {
   "cell_type": "code",
   "execution_count": 986,
   "metadata": {},
   "outputs": [
    {
     "data": {
      "image/png": "[encoded data removed]",
      "text/plain": [
       "<Figure size 1152x504 with 1 Axes>"
      ]
     },
     "metadata": {
      "needs_background": "light"
     },
     "output_type": "display_data"
    }
   ],
   "source": [
    "df = data \\\n",
    "    .select('churn', 'state', 'userId') \\\n",
    "    .dropDuplicates() \\\n",
    "    .groupby('churn', 'state') \\\n",
    "    .count() \\\n",
    "    .toPandas().set_index('state')\n",
    "\n",
    "states = df[df.churn == 0].join(df[df.churn == 1], lsuffix='_active', rsuffix='_churn') \\\n",
    "                          .dropna()[['count_active', 'count_churn']]\n",
    "states.count_churn = states.count_churn.astype(int)\n",
    "states['churn_share'] = states['count_churn']/(states['count_churn'] + states['count_active'])\n",
    "\n",
    "states.sort_values(by='churn_share', ascending=False) \\\n",
    "    .plot(x = states.index, y = 'churn_share', kind='bar', figsize = (12, 5), width=0.6);\n",
    "ax = plt.gca()\n",
    "ax.set_title('Churn vs. Location (state)');\n",
    "plt.xlabel('Location (state)')\n",
    "plt.ylabel('Churn')\n",
    "plt.show()"
   ]
  },
  {
   "cell_type": "code",
   "execution_count": 981,
   "metadata": {},
   "outputs": [
    {
     "data": {
      "image/png": "[encoded data removed]",
      "text/plain": [
       "<Figure size 576x576 with 1 Axes>"
      ]
     },
     "metadata": {},
     "output_type": "display_data"
    }
   ],
   "source": [
    "df = data \\\n",
    "    .select('churn', 'state', 'userId') \\\n",
    "    .dropDuplicates() \\\n",
    "    .groupby('churn', 'state') \\\n",
    "    .count() \\\n",
    "    .toPandas().set_index('state')\n",
    "\n",
    "states = df[df.churn == 0].join(df[df.churn == 1], lsuffix='_active', rsuffix='_churn') \\\n",
    "                          .dropna()[['count_active', 'count_churn']]\n",
    "states.count_churn = states.count_churn.astype(int)\n",
    "states['churn_share'] = states['count_churn']/(states['count_churn'] + states['count_active'])\n",
    "\n",
    "plt.figure(figsize = [8, 8])\n",
    "plt.pie(states['churn_share'].sort_values(ascending=False), labels = states.index.values, startangle = 90,\n",
    "        counterclock = False, wedgeprops = {'width' : 0.4},  \n",
    "        rotatelabels = True);\n",
    "plt.axis('square')\n",
    "plt.show()"
   ]
  },
  {
   "cell_type": "code",
   "execution_count": 463,
   "metadata": {},
   "outputs": [
    {
     "name": "stdout",
     "output_type": "stream",
     "text": [
      "+------+-----+\n",
      "|userId|count|\n",
      "+------+-----+\n",
      "|   122|   62|\n",
      "|    32|  108|\n",
      "|300007|  143|\n",
      "|     3|  254|\n",
      "|300004|  262|\n",
      "|100014|  310|\n",
      "|   129|  412|\n",
      "|    73|  457|\n",
      "|100023|  494|\n",
      "|    18|  513|\n",
      "|100007|  520|\n",
      "|200024|  552|\n",
      "|100012|  600|\n",
      "|200017|  620|\n",
      "|100025|  623|\n",
      "|    24|  630|\n",
      "|100016|  638|\n",
      "|200019|  639|\n",
      "|100009|  671|\n",
      "|    11|  848|\n",
      "+------+-----+\n",
      "only showing top 20 rows\n",
      "\n"
     ]
    }
   ],
   "source": [
    "cols = ['userId', 'regDate', 'sessionId', 'tsDate', 'auth', 'level', 'page', 'status']\n",
    "data.where(data.userId.isin(uids)) \\\n",
    "    .groupby('userId') \\\n",
    "    .count() \\\n",
    "    .sort('count') \\\n",
    "    .show()\n",
    "    #.select(cols).show(500)"
   ]
  },
  {
   "cell_type": "code",
   "execution_count": 465,
   "metadata": {
    "scrolled": false
   },
   "outputs": [
    {
     "name": "stdout",
     "output_type": "stream",
     "text": [
      "+------+-------------------+---------+-------------------+---------+-----+--------------------+------+\n",
      "|userId|            regDate|sessionId|             tsDate|     auth|level|                page|status|\n",
      "+------+-------------------+---------+-------------------+---------+-----+--------------------+------+\n",
      "|   122|2018-08-29 01:25:05|      403|2018-10-04 14:47:15|Logged In| free|                Home|   200|\n",
      "|   122|2018-08-29 01:25:05|      403|2018-10-04 14:47:16|Logged In| free|              Logout|   307|\n",
      "|   122|2018-08-29 01:25:05|      611|2018-10-10 14:12:18|Logged In| free|                Home|   200|\n",
      "|   122|2018-08-29 01:25:05|      611|2018-10-10 14:14:24|Logged In| free|            NextSong|   200|\n",
      "|   122|2018-08-29 01:25:05|      611|2018-10-10 14:17:04|Logged In| free|            NextSong|   200|\n",
      "|   122|2018-08-29 01:25:05|      611|2018-10-10 14:19:15|Logged In| free|            NextSong|   200|\n",
      "|   122|2018-08-29 01:25:05|      611|2018-10-10 14:24:24|Logged In| free|            NextSong|   200|\n",
      "|   122|2018-08-29 01:25:05|      611|2018-10-10 14:27:38|Logged In| free|            NextSong|   200|\n",
      "|   122|2018-08-29 01:25:05|      611|2018-10-10 14:29:29|Logged In| free|         Roll Advert|   200|\n",
      "|   122|2018-08-29 01:25:05|      691|2018-10-18 20:21:40|Logged In| free|                Home|   200|\n",
      "|   122|2018-08-29 01:25:05|      691|2018-10-18 20:21:43|Logged In| free|            NextSong|   200|\n",
      "|   122|2018-08-29 01:25:05|      691|2018-10-18 20:25:20|Logged In| free|            NextSong|   200|\n",
      "|   122|2018-08-29 01:25:05|      691|2018-10-18 20:29:54|Logged In| free|            NextSong|   200|\n",
      "|   122|2018-08-29 01:25:05|      691|2018-10-18 20:32:58|Logged In| free|            NextSong|   200|\n",
      "|   122|2018-08-29 01:25:05|      691|2018-10-18 20:34:43|Logged In| free|         Roll Advert|   200|\n",
      "|   122|2018-08-29 01:25:05|      691|2018-10-18 20:36:46|Logged In| free|            NextSong|   200|\n",
      "|   122|2018-08-29 01:25:05|      691|2018-10-18 20:39:08|Logged In| free|            NextSong|   200|\n",
      "|   122|2018-08-29 01:25:05|      691|2018-10-18 20:40:10|Logged In| free|                Home|   200|\n",
      "|   122|2018-08-29 01:25:05|     1029|2018-10-20 19:06:24|Logged In| free|            NextSong|   200|\n",
      "|   122|2018-08-29 01:25:05|     1029|2018-10-20 19:06:24|Logged In| free|                Home|   200|\n",
      "|   122|2018-08-29 01:25:05|     1029|2018-10-20 19:10:12|Logged In| free|            NextSong|   200|\n",
      "|   122|2018-08-29 01:25:05|     1029|2018-10-20 19:13:52|Logged In| free|            NextSong|   200|\n",
      "|   122|2018-08-29 01:25:05|     1029|2018-10-20 19:14:50|Logged In| free|             Upgrade|   200|\n",
      "|   122|2018-08-29 01:25:05|     1029|2018-10-20 19:16:11|Logged In| free|             Upgrade|   200|\n",
      "|   122|2018-08-29 01:25:05|     1029|2018-10-20 19:16:12|Logged In| free|      Submit Upgrade|   307|\n",
      "|   122|2018-08-29 01:25:05|     1029|2018-10-20 19:16:16|Logged In| paid|                Home|   200|\n",
      "|   122|2018-08-29 01:25:05|     1029|2018-10-20 19:16:17|Logged In| paid|          Add Friend|   307|\n",
      "|   122|2018-08-29 01:25:05|     1029|2018-10-20 19:17:39|Logged In| paid|            NextSong|   200|\n",
      "|   122|2018-08-29 01:25:05|     1029|2018-10-20 19:22:27|Logged In| paid|            NextSong|   200|\n",
      "|   122|2018-08-29 01:25:05|     1029|2018-10-20 19:28:11|Logged In| paid|            NextSong|   200|\n",
      "|   122|2018-08-29 01:25:05|     1029|2018-10-20 19:33:14|Logged In| paid|            NextSong|   200|\n",
      "|   122|2018-08-29 01:25:05|     1029|2018-10-20 19:36:05|Logged In| paid|            NextSong|   200|\n",
      "|   122|2018-08-29 01:25:05|     1029|2018-10-20 19:36:06|Logged In| paid|           Thumbs Up|   307|\n",
      "|   122|2018-08-29 01:25:05|     1029|2018-10-20 19:38:12|Logged In| paid|            NextSong|   200|\n",
      "|   122|2018-08-29 01:25:05|     1029|2018-10-20 19:41:25|Logged In| paid|            NextSong|   200|\n",
      "|   122|2018-08-29 01:25:05|     1029|2018-10-20 19:46:03|Logged In| paid|            NextSong|   200|\n",
      "|   122|2018-08-29 01:25:05|     1029|2018-10-20 19:49:15|Logged In| paid|            NextSong|   200|\n",
      "|   122|2018-08-29 01:25:05|     1029|2018-10-20 19:52:29|Logged In| paid|            NextSong|   200|\n",
      "|   122|2018-08-29 01:25:05|     1029|2018-10-20 19:58:22|Logged In| paid|            NextSong|   200|\n",
      "|   122|2018-08-29 01:25:05|     1029|2018-10-20 20:02:22|Logged In| paid|            NextSong|   200|\n",
      "|   122|2018-08-29 01:25:05|     1029|2018-10-20 20:06:06|Logged In| paid|            NextSong|   200|\n",
      "|   122|2018-08-29 01:25:05|     1029|2018-10-20 20:09:51|Logged In| paid|            NextSong|   200|\n",
      "|   122|2018-08-29 01:25:05|     1029|2018-10-20 20:14:58|Logged In| paid|            NextSong|   200|\n",
      "|   122|2018-08-29 01:25:05|     1029|2018-10-20 20:14:59|Logged In| paid|         Thumbs Down|   307|\n",
      "|   122|2018-08-29 01:25:05|     1029|2018-10-20 20:18:59|Logged In| paid|            NextSong|   200|\n",
      "|   122|2018-08-29 01:25:05|     1029|2018-10-20 20:23:05|Logged In| paid|            NextSong|   200|\n",
      "|   122|2018-08-29 01:25:05|     1029|2018-10-20 20:25:29|Logged In| paid|            NextSong|   200|\n",
      "|   122|2018-08-29 01:25:05|     1029|2018-10-20 20:25:30|Logged In| paid|           Thumbs Up|   307|\n",
      "|   122|2018-08-29 01:25:05|     1029|2018-10-20 20:29:28|Logged In| paid|            NextSong|   200|\n",
      "|   122|2018-08-29 01:25:05|     1029|2018-10-20 20:33:29|Logged In| paid|            NextSong|   200|\n",
      "|   122|2018-08-29 01:25:05|     1029|2018-10-20 20:38:00|Logged In| paid|            NextSong|   200|\n",
      "|   122|2018-08-29 01:25:05|     1029|2018-10-20 20:42:09|Logged In| paid|            NextSong|   200|\n",
      "|   122|2018-08-29 01:25:05|     1029|2018-10-20 20:46:31|Logged In| paid|            NextSong|   200|\n",
      "|   122|2018-08-29 01:25:05|     1029|2018-10-20 20:50:57|Logged In| paid|            NextSong|   200|\n",
      "|   122|2018-08-29 01:25:05|     1029|2018-10-20 20:54:36|Logged In| paid|            NextSong|   200|\n",
      "|   122|2018-08-29 01:25:05|     1029|2018-10-20 20:57:48|Logged In| paid|            NextSong|   200|\n",
      "|   122|2018-08-29 01:25:05|     1029|2018-10-20 20:57:49|Logged In| paid|           Thumbs Up|   307|\n",
      "|   122|2018-08-29 01:25:05|     1029|2018-10-20 20:59:47|Logged In| paid|     Add to Playlist|   200|\n",
      "|   122|2018-08-29 01:25:05|     1029|2018-10-20 21:00:22|Logged In| paid|            NextSong|   200|\n",
      "|   122|2018-08-29 01:25:05|     1029|2018-10-20 21:00:49|Logged In| paid|            Settings|   200|\n",
      "|   122|2018-08-29 01:25:05|     1029|2018-10-20 21:00:50|Logged In| paid|              Cancel|   307|\n",
      "|   122|2018-08-29 01:25:05|     1029|2018-10-20 21:01:08|Cancelled| paid|Cancellation Conf...|   200|\n",
      "+------+-------------------+---------+-------------------+---------+-----+--------------------+------+\n",
      "\n"
     ]
    }
   ],
   "source": [
    "cols = ['userId', 'regDate', 'sessionId', 'tsDate', 'auth', 'level', 'page', 'status']\n",
    "data.where(data.userId == 122).select(cols).show(500)"
   ]
  },
  {
   "cell_type": "code",
   "execution_count": null,
   "metadata": {},
   "outputs": [],
   "source": [
    "# get last log\n",
    "cols = ['userId', 'regDate', 'sessionId', 'tsDate', 'auth', 'level', 'page', 'status']\n",
    "data.where(data.userId.isin(uids)) \\\n",
    "    .groupby('userId') \\\n",
    "    .agg(max())\n",
    "    .show()\n",
    "    #.select(cols).show(500)"
   ]
  },
  {
   "cell_type": "code",
   "execution_count": 487,
   "metadata": {},
   "outputs": [],
   "source": [
    "from pyspark.sql.window import Window\n",
    "\n",
    "w =  Window.partitionBy(data.userId).orderBy(col('ts').desc())"
   ]
  },
  {
   "cell_type": "code",
   "execution_count": 496,
   "metadata": {},
   "outputs": [],
   "source": [
    "from pyspark.sql.functions import row_number\n",
    "\n",
    "data2 = data.select('userId', 'regDate', 'sessionId', 'tsDate', 'auth', 'level', 'page', 'status',\n",
    "        row_number().over(w).alias(\"rown\"))"
   ]
  },
  {
   "cell_type": "code",
   "execution_count": 505,
   "metadata": {},
   "outputs": [
    {
     "name": "stdout",
     "output_type": "stream",
     "text": [
      "+------+-------------------+---------+-------------------+---------+-----+--------------------+------+----+\n",
      "|userId|            regDate|sessionId|             tsDate|     auth|level|                page|status|rown|\n",
      "+------+-------------------+---------+-------------------+---------+-----+--------------------+------+----+\n",
      "|    35|2018-09-16 01:16:52|     2354|2018-11-30 11:24:09|Logged In| free|         Roll Advert|   200|   1|\n",
      "|100008|2018-09-20 12:44:31|      201|2018-11-27 17:13:39|Logged In| free|              Logout|   307|   1|\n",
      "|100025|2018-07-26 19:19:29|      129|2018-10-23 14:52:32|Cancelled| free|Cancellation Conf...|   200|   1|\n",
      "|    61|2018-09-17 14:48:58|     2345|2018-11-28 18:54:04|Logged In| free|                Home|   200|   1|\n",
      "|   131|2018-08-01 07:45:30|     2281|2018-11-30 04:21:23|Logged In| free|                Home|   200|   1|\n",
      "|300004|2018-08-17 15:44:05|      267|2018-11-14 23:41:25|Logged In| free|           Thumbs Up|   307|   1|\n",
      "|100009|2018-09-19 19:00:37|      145|2018-10-27 05:31:44|Cancelled| free|Cancellation Conf...|   200|   1|\n",
      "|200003|2018-06-30 06:38:12|      407|2018-11-30 01:50:46|Logged In| free|           Thumbs Up|   307|   1|\n",
      "|100016|2018-09-13 17:58:42|      206|2018-11-27 17:20:47|Logged In| free|              Logout|   307|   1|\n",
      "|    95|2018-09-29 11:03:52|     2408|2018-11-30 16:27:24|Logged In| free|                Home|   200|   1|\n",
      "|200009|2018-09-30 15:17:48|      360|2018-11-28 10:26:40|Logged In| free|         Roll Advert|   200|   1|\n",
      "|    92|2018-09-08 12:52:52|     2474|2018-12-01 00:34:25|Logged In| free|              Logout|   307|   1|\n",
      "|100012|2018-09-19 20:19:14|      156|2018-11-01 20:35:00|Cancelled| free|Cancellation Conf...|   200|   1|\n",
      "|200020|2018-09-02 18:51:56|      351|2018-11-17 17:40:42|Cancelled| free|Cancellation Conf...|   200|   1|\n",
      "|    24|2018-09-14 21:55:14|     2312|2018-11-30 19:56:10|Logged In| free|                Home|   200|   1|\n",
      "|200011|2018-07-15 20:34:55|      267|2018-11-02 02:09:24|Cancelled| free|Cancellation Conf...|   200|   1|\n",
      "|   109|2018-08-20 14:35:17|     1971|2018-11-16 13:33:04|Logged In| free|            NextSong|   200|   1|\n",
      "|    13|2018-08-02 08:40:32|     2410|2018-11-29 18:35:09|Logged In| free|              Logout|   307|   1|\n",
      "|200019|2018-09-22 19:52:35|      311|2018-11-18 00:23:52|Logged In| free|                Home|   200|   1|\n",
      "|100018|2018-08-09 13:07:13|      209|2018-11-28 05:12:40|Logged In| free|              Logout|   307|   1|\n",
      "+------+-------------------+---------+-------------------+---------+-----+--------------------+------+----+\n",
      "\n"
     ]
    }
   ],
   "source": [
    "data2.where((data2.rown == 1) \\\n",
    "            & (data2.level == 'free') \\\n",
    "            & (data2.userId.isin(uids))).show()"
   ]
  },
  {
   "cell_type": "code",
   "execution_count": 514,
   "metadata": {
    "scrolled": false
   },
   "outputs": [
    {
     "name": "stdout",
     "output_type": "stream",
     "text": [
      "+------+-------------------+---------+-------------------+---------+-----+--------------------+------+----+\n",
      "|userId|            regDate|sessionId|             tsDate|     auth|level|                page|status|rown|\n",
      "+------+-------------------+---------+-------------------+---------+-----+--------------------+------+----+\n",
      "|   122|2018-08-29 01:25:05|     1029|2018-10-20 21:01:08|Cancelled| paid|Cancellation Conf...|   200|   1|\n",
      "+------+-------------------+---------+-------------------+---------+-----+--------------------+------+----+\n",
      "\n"
     ]
    }
   ],
   "source": [
    "data2.where((data2.rown == 1) & (data2.userId == 122)).show(500)"
   ]
  },
  {
   "cell_type": "code",
   "execution_count": 530,
   "metadata": {},
   "outputs": [
    {
     "data": {
      "text/plain": [
       "67"
      ]
     },
     "execution_count": 530,
     "metadata": {},
     "output_type": "execute_result"
    }
   ],
   "source": [
    "# GET CHURNED USERS\n",
    "users = data \\\n",
    "    .where(data.page.isin(['Submit Downgrade', 'Cancellation Confirmation'])) \\\n",
    "    .select('userId') \\\n",
    "    .dropDuplicates() \\\n",
    "    .collect()\n",
    "\n",
    "# list of userIds\n",
    "uids = [x.userId for x in users];\n",
    "\n",
    "# Window\n",
    "w =  Window.partitionBy(data.userId).orderBy(col('ts').desc())\n",
    "data2 = data.select('userId', 'regDate', 'sessionId', 'tsDate', 'auth', 'level', 'page', 'status',\n",
    "        row_number().over(w).alias(\"rown\"))\n",
    "    \n",
    "# final query\n",
    "data2 \\\n",
    "    .where(data2.rown == 1) \\\n",
    "    .where(data2.userId.isin(uids)) \\\n",
    "    .where((data2.level == 'free') | (data2.page == 'Cancellation Confirmation')) \\\n",
    "    .count()\n",
    "\n"
   ]
  },
  {
   "cell_type": "code",
   "execution_count": null,
   "metadata": {},
   "outputs": [],
   "source": []
  },
  {
   "cell_type": "code",
   "execution_count": null,
   "metadata": {},
   "outputs": [],
   "source": [
    "overUser = window.partitionBy('userId')\n",
    "w = data.withColumn(\n",
    "  \"rown\", array_contains('userId', 'tsDate', 'auth', 'level', 'page', 'status') over overUser).withColumn(\n",
    "  \"total_salary_in_dep\", sum('salary) over overCategory)\n",
    "df.show()"
   ]
  },
  {
   "cell_type": "code",
   "execution_count": null,
   "metadata": {},
   "outputs": [],
   "source": [
    "to_date = udf(lambda x: datetime.datetime.fromtimestamp(x/1000.0), TimestampType())\n",
    "data = data.withColumn('tsDate', to_date('ts'))\n",
    "data = data.withColumn('regDate', to_date('registration'))\n",
    "\n"
   ]
  },
  {
   "cell_type": "code",
   "execution_count": 440,
   "metadata": {},
   "outputs": [
    {
     "data": {
      "text/plain": [
       "Row(userId='125', timestamp_min=1539318918000, timestamp_max=1539318918000)"
      ]
     },
     "execution_count": 440,
     "metadata": {},
     "output_type": "execute_result"
    }
   ],
   "source": [
    "users[0]"
   ]
  },
  {
   "cell_type": "code",
   "execution_count": null,
   "metadata": {},
   "outputs": [],
   "source": [
    "df = data.groupby('sessionId') \\\n",
    "    .agg(((max('ts') - min('ts'))/60000).alias('duration')) \\\n",
    "    .select('sessionId', round(col('duration'), 1).alias('duration')) \\\n",
    "    .toPandas()"
   ]
  },
  {
   "cell_type": "code",
   "execution_count": null,
   "metadata": {},
   "outputs": [],
   "source": []
  },
  {
   "cell_type": "code",
   "execution_count": null,
   "metadata": {},
   "outputs": [],
   "source": []
  },
  {
   "cell_type": "code",
   "execution_count": 41,
   "metadata": {},
   "outputs": [
    {
     "data": {
      "text/plain": [
       "<matplotlib.axes._subplots.AxesSubplot at 0x175e62aec18>"
      ]
     },
     "execution_count": 41,
     "metadata": {},
     "output_type": "execute_result"
    },
    {
     "data": {
      "image/png": "[encoded data removed]",
      "text/plain": [
       "<Figure size 1080x432 with 1 Axes>"
      ]
     },
     "metadata": {
      "needs_background": "light"
     },
     "output_type": "display_data"
    }
   ],
   "source": [
    "plt.figure(figsize=(15,6))\n",
    "sb.distplot(df['sessionId'], bins=40)"
   ]
  },
  {
   "cell_type": "markdown",
   "metadata": {},
   "source": [
    "# Feature Engineering\n",
    "Once you've familiarized yourself with the data, build out the features you find promising to train your model on. To work with the full dataset, you can follow the following steps.\n",
    "- Write a script to extract the necessary features from the smaller subset of data\n",
    "- Ensure that your script is scalable, using the best practices discussed in Lesson 3\n",
    "- Try your script on the full data set, debugging your script if necessary\n",
    "\n",
    "If you are working in the classroom workspace, you can just extract features based on the small subset of data contained here. Be sure to transfer over this work to the larger dataset when you work on your Spark cluster."
   ]
  },
  {
   "cell_type": "code",
   "execution_count": null,
   "metadata": {},
   "outputs": [],
   "source": []
  },
  {
   "cell_type": "markdown",
   "metadata": {},
   "source": [
    "# Modeling\n",
    "Split the full dataset into train, test, and validation sets. Test out several of the machine learning methods you learned. Evaluate the accuracy of the various models, tuning parameters as necessary. Determine your winning model based on test accuracy and report results on the validation set. Since the churned users are a fairly small subset, I suggest using F1 score as the metric to optimize."
   ]
  },
  {
   "cell_type": "code",
   "execution_count": null,
   "metadata": {},
   "outputs": [],
   "source": []
  },
  {
   "cell_type": "markdown",
   "metadata": {},
   "source": [
    "# Final Steps\n",
    "Clean up your code, adding comments and renaming variables to make the code easier to read and maintain. Refer to the Spark Project Overview page and Data Scientist Capstone Project Rubric to make sure you are including all components of the capstone project and meet all expectations. Remember, this includes thorough documentation in a README file in a Github repository, as well as a web app or blog post."
   ]
  },
  {
   "cell_type": "code",
   "execution_count": null,
   "metadata": {},
   "outputs": [],
   "source": []
  }
 ],
 "metadata": {
  "kernelspec": {
   "display_name": "Python 3",
   "language": "python",
   "name": "python3"
  },
  "language_info": {
   "codemirror_mode": {
    "name": "ipython",
    "version": 3
   },
   "file_extension": ".py",
   "mimetype": "text/x-python",
   "name": "python",
   "nbconvert_exporter": "python",
   "pygments_lexer": "ipython3",
   "version": "3.6.8"
  }
 },
 "nbformat": 4,
 "nbformat_minor": 2
}
