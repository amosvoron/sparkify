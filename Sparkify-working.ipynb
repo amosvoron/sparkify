{
 "cells": [
  {
   "cell_type": "markdown",
   "metadata": {},
   "source": [
    "# Sparkify Project Workspace\n",
    "This workspace contains a tiny subset (128MB) of the full dataset available (12GB). Feel free to use this workspace to build your project, or to explore a smaller subset with Spark before deploying your cluster on the cloud. Instructions for setting up your Spark cluster is included in the last lesson of the Extracurricular Spark Course content.\n",
    "\n",
    "You can follow the steps below to guide your data analysis and model building portion of this project."
   ]
  },
  {
   "cell_type": "code",
   "execution_count": 1,
   "metadata": {},
   "outputs": [],
   "source": [
    "# import libraries\n",
    "from pyspark.sql import SparkSession\n",
    "from pyspark.sql.functions import isnan, count, when, col, desc, udf, col, sort_array, asc, countDistinct, \\\n",
    "    min, max, avg, split, round, lit, row_number\n",
    "from pyspark.sql.functions import sum as Fsum\n",
    "from pyspark.sql.window import Window\n",
    "\n",
    "from pyspark.sql.types import IntegerType, TimestampType, BooleanType\n",
    "import datetime\n",
    "\n",
    "import numpy as np\n",
    "import pandas as pd\n",
    "%matplotlib inline\n",
    "import matplotlib.pyplot as plt\n",
    "import seaborn as sb"
   ]
  },
  {
   "cell_type": "code",
   "execution_count": 2,
   "metadata": {},
   "outputs": [],
   "source": [
    "# Create a Spark session\n",
    "spark = SparkSession \\\n",
    "    .builder \\\n",
    "    .appName(\"Sparkify\") \\\n",
    "    .getOrCreate()"
   ]
  },
  {
   "cell_type": "markdown",
   "metadata": {},
   "source": [
    "### Common Functions"
   ]
  },
  {
   "cell_type": "code",
   "execution_count": 4,
   "metadata": {},
   "outputs": [],
   "source": [
    "# Set plot's figure size\n",
    "def set_plot_size(width, height):\n",
    "    return plt.figure(figsize = [width, height]);\n",
    "\n",
    "def get_user_logs(userId, sessionId=None):\n",
    "    if sessionId == None:\n",
    "        return data.where(data.userId == userId) \\\n",
    "            .select('tsDate', 'userId', 'sessionId', 'itemInSession', 'level', 'page') \\\n",
    "            .sort('tsDate', 'itemInSession')\n",
    "    else:\n",
    "        return data.where((data.userId == userId) & (data.sessionId == sessionId)) \\\n",
    "            .select('tsDate', 'userId', 'sessionId', 'itemInSession', 'level', 'page') \\\n",
    "            .sort('tsDate', 'itemInSession')"
   ]
  },
  {
   "cell_type": "markdown",
   "metadata": {},
   "source": [
    "# Load and Clean Dataset\n",
    "In this workspace, the mini-dataset file is `mini_sparkify_event_data.json`. Load and clean the dataset, checking for invalid or missing data - for example, records without userids or sessionids. "
   ]
  },
  {
   "cell_type": "code",
   "execution_count": 5,
   "metadata": {},
   "outputs": [
    {
     "name": "stdout",
     "output_type": "stream",
     "text": [
      "root\n",
      " |-- artist: string (nullable = true)\n",
      " |-- auth: string (nullable = true)\n",
      " |-- gender: string (nullable = true)\n",
      " |-- itemInSession: long (nullable = true)\n",
      " |-- length: double (nullable = true)\n",
      " |-- level: string (nullable = true)\n",
      " |-- method: string (nullable = true)\n",
      " |-- page: string (nullable = true)\n",
      " |-- registration: long (nullable = true)\n",
      " |-- sessionId: long (nullable = true)\n",
      " |-- song: string (nullable = true)\n",
      " |-- status: long (nullable = true)\n",
      " |-- ts: long (nullable = true)\n",
      " |-- userAgent: string (nullable = true)\n",
      " |-- userId: string (nullable = true)\n",
      " |-- regDate: timestamp (nullable = true)\n",
      " |-- tsDate: timestamp (nullable = true)\n",
      " |-- city: string (nullable = true)\n",
      " |-- state: string (nullable = true)\n",
      "\n"
     ]
    },
    {
     "data": {
      "text/plain": [
       "[Row(artist='Martha Tilston', auth='Logged In', gender='M', itemInSession=50, length=277.89016, level='paid', method='PUT', page='NextSong', registration=1538173362000, sessionId=29, song='Rockpools', status=200, ts=1538352117000, userAgent='Mozilla/5.0 (Windows NT 6.1; WOW64; rv:31.0) Gecko/20100101 Firefox/31.0', userId='30', regDate=datetime.datetime(2018, 9, 29, 0, 22, 42), tsDate=datetime.datetime(2018, 10, 1, 2, 1, 57), city='Bakersfield', state=' CA'),\n",
       " Row(artist='Five Iron Frenzy', auth='Logged In', gender='M', itemInSession=79, length=236.09424, level='free', method='PUT', page='NextSong', registration=1538331630000, sessionId=8, song='Canada', status=200, ts=1538352180000, userAgent='\"Mozilla/5.0 (Windows NT 6.1; WOW64) AppleWebKit/537.36 (KHTML, like Gecko) Chrome/37.0.2062.103 Safari/537.36\"', userId='9', regDate=datetime.datetime(2018, 9, 30, 20, 20, 30), tsDate=datetime.datetime(2018, 10, 1, 2, 3), city='Boston-Cambridge-Newton', state=' MA-NH'),\n",
       " Row(artist='Adam Lambert', auth='Logged In', gender='M', itemInSession=51, length=282.8273, level='paid', method='PUT', page='NextSong', registration=1538173362000, sessionId=29, song='Time For Miracles', status=200, ts=1538352394000, userAgent='Mozilla/5.0 (Windows NT 6.1; WOW64; rv:31.0) Gecko/20100101 Firefox/31.0', userId='30', regDate=datetime.datetime(2018, 9, 29, 0, 22, 42), tsDate=datetime.datetime(2018, 10, 1, 2, 6, 34), city='Bakersfield', state=' CA')]"
      ]
     },
     "execution_count": 5,
     "metadata": {},
     "output_type": "execute_result"
    }
   ],
   "source": [
    "# Load dataset\n",
    "path = \"data/mini_sparkify_event_data.json\"\n",
    "data = spark.read.json(path)\n",
    "original_count = data.count()\n",
    "\n",
    "# Remove rows with missing users\n",
    "data = data.where(~((col('userId').isNull()) | (col('userId') == '')))\n",
    "\n",
    "# Exclude non-relevant columns\n",
    "data = data.drop('firstName')\n",
    "data = data.drop('lastName')\n",
    "#data = data.drop('method')\n",
    "\n",
    "data = data.withColumn('regDate', (col('registration') / 1000.0).cast(TimestampType()))\n",
    "data = data.withColumn('tsDate', (col('ts') / 1000.0).cast(TimestampType()))\n",
    "data.take(1)\n",
    "\n",
    "data = data.withColumn('city', split(data['location'], ',')[0])\n",
    "data = data.withColumn('state', split(data['location'], ',')[1])\n",
    "data = data.drop('location')\n",
    "\n",
    "data.printSchema()\n",
    "data.take(3)"
   ]
  },
  {
   "cell_type": "code",
   "execution_count": 24,
   "metadata": {},
   "outputs": [
    {
     "data": {
      "text/plain": [
       "225"
      ]
     },
     "execution_count": 24,
     "metadata": {},
     "output_type": "execute_result"
    }
   ],
   "source": [
    "# Combination\n",
    "data.select('firstName', 'lastName').dropDuplicates().count()"
   ]
  },
  {
   "cell_type": "markdown",
   "metadata": {},
   "source": [
    "# Exploratory Data Analysis\n",
    "When you're working with the full dataset, perform EDA by loading a small subset of the data and doing basic manipulations within Spark. In this workspace, you are already provided a small subset of data you can explore.\n",
    "\n",
    "### Define Churn\n",
    "\n",
    "Once you've done some preliminary analysis, create a column `Churn` to use as the label for your model. I suggest using the `Cancellation Confirmation` events to define your churn, which happen for both paid and free users. As a bonus task, you can also look into the `Downgrade` events.\n",
    "\n",
    "### Explore Data\n",
    "Once you've defined churn, perform some exploratory data analysis to observe the behavior for users who stayed vs users who churned. You can start by exploring aggregates on these two groups of users, observing how much of a specific action they experienced per a certain time unit or number of songs played."
   ]
  },
  {
   "cell_type": "markdown",
   "metadata": {},
   "source": [
    "### EDA on churned users"
   ]
  },
  {
   "cell_type": "code",
   "execution_count": 5,
   "metadata": {},
   "outputs": [
    {
     "data": {
      "text/plain": [
       "52"
      ]
     },
     "execution_count": 5,
     "metadata": {},
     "output_type": "execute_result"
    }
   ],
   "source": [
    "# Count churned users using Cancellation Confirmation evet\n",
    "data.where(data.page == 'Cancellation Confirmation').dropDuplicates().count()"
   ]
  },
  {
   "cell_type": "code",
   "execution_count": 4,
   "metadata": {},
   "outputs": [
    {
     "data": {
      "text/plain": [
       "0"
      ]
     },
     "execution_count": 4,
     "metadata": {},
     "output_type": "execute_result"
    }
   ],
   "source": [
    "# Is one CC event per user? - yes \n",
    "data.where(data.page == 'Cancellation Confirmation') \\\n",
    "    .groupby('userid') \\\n",
    "    .count() \\\n",
    "    .where(col('count') > 1) \\\n",
    "    .count()"
   ]
  },
  {
   "cell_type": "code",
   "execution_count": 8,
   "metadata": {},
   "outputs": [
    {
     "data": {
      "text/plain": [
       "52"
      ]
     },
     "execution_count": 8,
     "metadata": {},
     "output_type": "execute_result"
    }
   ],
   "source": [
    "# Label churned users\n",
    "\n",
    "# extract churned users\n",
    "churned = data.where(data.page.isin(['Cancellation Confirmation'])) \\\n",
    "    .dropDuplicates() \\\n",
    "    .select('userId') \\\n",
    "    .collect()\n",
    "\n",
    "# add new column using churned list\n",
    "churned_uids = [x.userId for x in churned];\n",
    "is_churn = udf(lambda x: 1 if x in churned_uids else 0, IntegerType())\n",
    "data = data.withColumn('churn', is_churn('userId'))\n",
    "data.take(3)\n",
    "\n",
    "# check\n",
    "data.where(data.churn == True).select('userId').dropDuplicates().count()"
   ]
  },
  {
   "cell_type": "code",
   "execution_count": 12,
   "metadata": {
    "scrolled": true
   },
   "outputs": [
    {
     "name": "stdout",
     "output_type": "stream",
     "text": [
      "+------+-----+\n",
      "|userid|count|\n",
      "+------+-----+\n",
      "|    85|    2|\n",
      "|    35|    2|\n",
      "|    61|    2|\n",
      "|   131|    2|\n",
      "|   140|    3|\n",
      "|100004|    2|\n",
      "|200003|    2|\n",
      "|200023|    2|\n",
      "|    20|    2|\n",
      "|    39|    3|\n",
      "|    13|    2|\n",
      "|100018|    2|\n",
      "+------+-----+\n",
      "\n"
     ]
    }
   ],
   "source": [
    "# Is one downgrade event per user?\n",
    "data.where(data.page == 'Submit Downgrade') \\\n",
    "    .groupby('userid') \\\n",
    "    .count() \\\n",
    "    .where(col('count') > 1) \\\n",
    "    .show()"
   ]
  },
  {
   "cell_type": "code",
   "execution_count": 15,
   "metadata": {},
   "outputs": [
    {
     "name": "stdout",
     "output_type": "stream",
     "text": [
      "+-------------------+------+---------+-------------+-----+----------------+\n",
      "|             tsDate|userId|sessionId|itemInSession|level|            page|\n",
      "+-------------------+------+---------+-------------+-----+----------------+\n",
      "|2018-10-12 11:43:03|   140|      753|           19| paid|Submit Downgrade|\n",
      "|2018-11-06 18:04:05|   140|     1643|          163| paid|Submit Downgrade|\n",
      "|2018-11-15 15:08:10|   140|     1918|          229| paid|Submit Downgrade|\n",
      "+-------------------+------+---------+-------------+-----+----------------+\n",
      "\n"
     ]
    }
   ],
   "source": [
    "get_user_logs(140).where(data.page == 'Submit Downgrade').show()"
   ]
  },
  {
   "cell_type": "markdown",
   "metadata": {},
   "source": [
    "#### userRowId, userRowDescId\n",
    "We cannot rely on itemInSession, so we create 2 user-window indexes, one in ascending and the other in descending order "
   ]
  },
  {
   "cell_type": "code",
   "execution_count": 43,
   "metadata": {},
   "outputs": [
    {
     "data": {
      "text/plain": [
       "2037"
      ]
     },
     "execution_count": 43,
     "metadata": {},
     "output_type": "execute_result"
    }
   ],
   "source": [
    "data.where(data.itemInSession == 0).select('sessionId').dropDuplicates().count()"
   ]
  },
  {
   "cell_type": "code",
   "execution_count": 47,
   "metadata": {},
   "outputs": [
    {
     "name": "stdout",
     "output_type": "stream",
     "text": [
      "+---------+------------------+\n",
      "|sessionId|firstItemInSession|\n",
      "+---------+------------------+\n",
      "|        8|                79|\n",
      "|       29|                50|\n",
      "|     2288|                 9|\n",
      "|     2164|                 6|\n",
      "|     2102|                 4|\n",
      "+---------+------------------+\n",
      "only showing top 5 rows\n",
      "\n"
     ]
    }
   ],
   "source": [
    "data.groupby('sessionId') \\\n",
    "    .agg(min('itemInSession').alias('firstItemInSession')) \\\n",
    "    .where(col('firstItemInSession') != 0) \\\n",
    "    .sort(desc('firstItemInSession')) \\\n",
    "    .show(5)"
   ]
  },
  {
   "cell_type": "code",
   "execution_count": 49,
   "metadata": {},
   "outputs": [
    {
     "name": "stdout",
     "output_type": "stream",
     "text": [
      "+-------------+------+---------+-------------+\n",
      "|           ts|userId|sessionId|itemInSession|\n",
      "+-------------+------+---------+-------------+\n",
      "|1538352180000|     9|        8|           79|\n",
      "|1538352416000|     9|        8|           80|\n",
      "|1538352678000|     9|        8|           81|\n",
      "|1538352886000|     9|        8|           82|\n",
      "|1538353146000|     9|        8|           83|\n",
      "+-------------+------+---------+-------------+\n",
      "only showing top 5 rows\n",
      "\n"
     ]
    }
   ],
   "source": [
    "data.where(data.sessionId == 8).select('ts', 'userId', 'sessionId', 'itemInSession').show(5)"
   ]
  },
  {
   "cell_type": "code",
   "execution_count": 6,
   "metadata": {},
   "outputs": [
    {
     "data": {
      "text/plain": [
       "[Row(artist=None, auth='Logged In', gender='F', itemInSession=34, length=None, level='free', method='PUT', page='Logout', registration=1538016340000, sessionId=187, song=None, status=307, ts=1542823952000, userAgent='\"Mozilla/5.0 (iPhone; CPU iPhone OS 7_1_2 like Mac OS X) AppleWebKit/537.51.2 (KHTML, like Gecko) Version/7.0 Mobile/11D257 Safari/9537.53\"', userId='100010', regDate=datetime.datetime(2018, 9, 27, 4, 45, 40), tsDate=datetime.datetime(2018, 11, 21, 19, 12, 32), city='Bridgeport-Stamford-Norwalk', state=' CT', userRowId=381, userRowDescId=1),\n",
       " Row(artist='Lily Allen', auth='Logged In', gender='F', itemInSession=33, length=185.25995, level='free', method='PUT', page='NextSong', registration=1538016340000, sessionId=187, song='22', status=200, ts=1542823951000, userAgent='\"Mozilla/5.0 (iPhone; CPU iPhone OS 7_1_2 like Mac OS X) AppleWebKit/537.51.2 (KHTML, like Gecko) Version/7.0 Mobile/11D257 Safari/9537.53\"', userId='100010', regDate=datetime.datetime(2018, 9, 27, 4, 45, 40), tsDate=datetime.datetime(2018, 11, 21, 19, 12, 31), city='Bridgeport-Stamford-Norwalk', state=' CT', userRowId=380, userRowDescId=2),\n",
       " Row(artist='John Waite', auth='Logged In', gender='F', itemInSession=32, length=269.76608, level='free', method='PUT', page='NextSong', registration=1538016340000, sessionId=187, song='Missing You', status=200, ts=1542823682000, userAgent='\"Mozilla/5.0 (iPhone; CPU iPhone OS 7_1_2 like Mac OS X) AppleWebKit/537.51.2 (KHTML, like Gecko) Version/7.0 Mobile/11D257 Safari/9537.53\"', userId='100010', regDate=datetime.datetime(2018, 9, 27, 4, 45, 40), tsDate=datetime.datetime(2018, 11, 21, 19, 8, 2), city='Bridgeport-Stamford-Norwalk', state=' CT', userRowId=379, userRowDescId=3)]"
      ]
     },
     "execution_count": 6,
     "metadata": {},
     "output_type": "execute_result"
    }
   ],
   "source": [
    "# userRowid\n",
    "w =  Window.partitionBy(data.userId).orderBy('ts', 'itemInSession')\n",
    "data = data.withColumn('userRowId', row_number().over(w))\n",
    "\n",
    "# userRowDescId\n",
    "w =  Window.partitionBy(data.userId).orderBy(col('ts').desc(), col('itemInSession').desc())\n",
    "data = data.withColumn('userRowDescId', row_number().over(w))\n",
    "\n",
    "data.take(3)"
   ]
  },
  {
   "cell_type": "code",
   "execution_count": 6,
   "metadata": {},
   "outputs": [
    {
     "name": "stdout",
     "output_type": "stream",
     "text": [
      "root\n",
      " |-- artist: string (nullable = true)\n",
      " |-- auth: string (nullable = true)\n",
      " |-- gender: string (nullable = true)\n",
      " |-- itemInSession: long (nullable = true)\n",
      " |-- length: double (nullable = true)\n",
      " |-- level: string (nullable = true)\n",
      " |-- method: string (nullable = true)\n",
      " |-- page: string (nullable = true)\n",
      " |-- registration: long (nullable = true)\n",
      " |-- sessionId: long (nullable = true)\n",
      " |-- song: string (nullable = true)\n",
      " |-- status: long (nullable = true)\n",
      " |-- ts: long (nullable = true)\n",
      " |-- userAgent: string (nullable = true)\n",
      " |-- userId: string (nullable = true)\n",
      " |-- regDate: timestamp (nullable = true)\n",
      " |-- tsDate: timestamp (nullable = true)\n",
      " |-- city: string (nullable = true)\n",
      " |-- state: string (nullable = true)\n",
      " |-- userRowId: integer (nullable = true)\n",
      " |-- userRowDescId: integer (nullable = true)\n",
      "\n"
     ]
    }
   ],
   "source": [
    "data.printSchema()"
   ]
  },
  {
   "cell_type": "markdown",
   "metadata": {},
   "source": [
    "#### Is Cancellation Confirmation always the last event in the user log history?"
   ]
  },
  {
   "cell_type": "code",
   "execution_count": null,
   "metadata": {},
   "outputs": [],
   "source": [
    "## yes\n",
    "data.where((data.page == 'Cancellation Confirmation') & (data.userRowDescId == 1)).dropDuplicates().count()"
   ]
  },
  {
   "cell_type": "code",
   "execution_count": 80,
   "metadata": {
    "collapsed": true
   },
   "outputs": [
    {
     "name": "stdout",
     "output_type": "stream",
     "text": [
      "+---------+------+-----+\n",
      "|userRowId|userId|level|\n",
      "+---------+------+-----+\n",
      "|       11|   125| free|\n",
      "|     2464|    51| paid|\n",
      "|     3437|    54| paid|\n",
      "|      310|100014| paid|\n",
      "|     2149|   101| paid|\n",
      "|      319|100021| free|\n",
      "|     3603|    29| paid|\n",
      "|      457|    73| paid|\n",
      "|     1003|    87| paid|\n",
      "|      254|     3| paid|\n",
      "|     1781|    28| paid|\n",
      "|      964|100022| free|\n",
      "|      623|100025| free|\n",
      "|      143|300007| paid|\n",
      "|       44|100006| free|\n",
      "|      513|    18| paid|\n",
      "|     1775|    70| paid|\n",
      "|      216|100005| free|\n",
      "|     1102|    17| paid|\n",
      "|      520|100007| paid|\n",
      "|     2168|300001| paid|\n",
      "|      671|100009| free|\n",
      "|     1050|100015| paid|\n",
      "|      552|200024| paid|\n",
      "|       78|100003| free|\n",
      "|     1310|   103| paid|\n",
      "|       36|100024| free|\n",
      "|     2064|    53| paid|\n",
      "|       62|   122| paid|\n",
      "|      620|200017| paid|\n",
      "|     2027|    58| paid|\n",
      "|       23|100011| free|\n",
      "|       89|100019| free|\n",
      "|      600|100012| free|\n",
      "|      478|200018| free|\n",
      "|      268|200016| free|\n",
      "|     1498|200020| free|\n",
      "|     1010|   106| paid|\n",
      "|      149|   143| free|\n",
      "|      108|    32| paid|\n",
      "|      158|200001| free|\n",
      "|      918|   105| paid|\n",
      "|      848|200011| free|\n",
      "|      494|100023| paid|\n",
      "|     1392|100013| paid|\n",
      "|       75|100017| free|\n",
      "|      916|   121| paid|\n",
      "|     1064|    12| paid|\n",
      "|      349|200015| free|\n",
      "|      412|   129| paid|\n",
      "|     1502|200021| paid|\n",
      "|      187|100001| free|\n",
      "+---------+------+-----+\n",
      "\n"
     ]
    }
   ],
   "source": [
    "data.where(data.page == 'Cancellation Confirmation').select('userRowId', 'userId', 'level').show(52)"
   ]
  },
  {
   "cell_type": "markdown",
   "metadata": {},
   "source": [
    "#### lastLevel"
   ]
  },
  {
   "cell_type": "code",
   "execution_count": 7,
   "metadata": {},
   "outputs": [
    {
     "data": {
      "text/plain": [
       "[Row(artist=None, auth='Logged In', gender='F', itemInSession=34, length=None, level='free', method='PUT', page='Logout', registration=1538016340000, sessionId=187, song=None, status=307, ts=1542823952000, userAgent='\"Mozilla/5.0 (iPhone; CPU iPhone OS 7_1_2 like Mac OS X) AppleWebKit/537.51.2 (KHTML, like Gecko) Version/7.0 Mobile/11D257 Safari/9537.53\"', userId='100010', regDate=datetime.datetime(2018, 9, 27, 4, 45, 40), tsDate=datetime.datetime(2018, 11, 21, 19, 12, 32), city='Bridgeport-Stamford-Norwalk', state=' CT', userRowId=381, userRowDescId=1, lastLevel='free'),\n",
       " Row(artist='Lily Allen', auth='Logged In', gender='F', itemInSession=33, length=185.25995, level='free', method='PUT', page='NextSong', registration=1538016340000, sessionId=187, song='22', status=200, ts=1542823951000, userAgent='\"Mozilla/5.0 (iPhone; CPU iPhone OS 7_1_2 like Mac OS X) AppleWebKit/537.51.2 (KHTML, like Gecko) Version/7.0 Mobile/11D257 Safari/9537.53\"', userId='100010', regDate=datetime.datetime(2018, 9, 27, 4, 45, 40), tsDate=datetime.datetime(2018, 11, 21, 19, 12, 31), city='Bridgeport-Stamford-Norwalk', state=' CT', userRowId=380, userRowDescId=2, lastLevel='free'),\n",
       " Row(artist='John Waite', auth='Logged In', gender='F', itemInSession=32, length=269.76608, level='free', method='PUT', page='NextSong', registration=1538016340000, sessionId=187, song='Missing You', status=200, ts=1542823682000, userAgent='\"Mozilla/5.0 (iPhone; CPU iPhone OS 7_1_2 like Mac OS X) AppleWebKit/537.51.2 (KHTML, like Gecko) Version/7.0 Mobile/11D257 Safari/9537.53\"', userId='100010', regDate=datetime.datetime(2018, 9, 27, 4, 45, 40), tsDate=datetime.datetime(2018, 11, 21, 19, 8, 2), city='Bridgeport-Stamford-Norwalk', state=' CT', userRowId=379, userRowDescId=3, lastLevel='free')]"
      ]
     },
     "execution_count": 7,
     "metadata": {},
     "output_type": "execute_result"
    }
   ],
   "source": [
    "# last user level in the log history\n",
    "last_levels = dict()\n",
    "for row in data.where(data.userRowDescId == 1).select('userId', 'level').collect():\n",
    "    last_levels[row.userId] = row.level\n",
    "len(last_levels)\n",
    "\n",
    "get_level = udf(lambda userId: last_levels[userId] )\n",
    "data = data.withColumn('lastLevel', get_level('userId'))\n",
    "data.take(3)"
   ]
  },
  {
   "cell_type": "code",
   "execution_count": 23,
   "metadata": {
    "collapsed": true
   },
   "outputs": [
    {
     "name": "stdout",
     "output_type": "stream",
     "text": [
      "+------+-----+---------+\n",
      "|userId|level|lastLevel|\n",
      "+------+-----+---------+\n",
      "|100010| free|     free|\n",
      "|200002| paid|     paid|\n",
      "|   125| free|     free|\n",
      "|   124| paid|     paid|\n",
      "|    51| paid|     paid|\n",
      "|     7| free|     free|\n",
      "|    15| paid|     paid|\n",
      "|    54| paid|     paid|\n",
      "|   155| paid|     paid|\n",
      "|100014| paid|     paid|\n",
      "|   132| paid|     paid|\n",
      "|   154| free|     free|\n",
      "|   101| paid|     paid|\n",
      "|    11| paid|     paid|\n",
      "|   138| paid|     paid|\n",
      "|300017| paid|     paid|\n",
      "|100021| free|     free|\n",
      "|    29| paid|     paid|\n",
      "|    69| paid|     paid|\n",
      "|   112| free|     free|\n",
      "|    42| paid|     paid|\n",
      "|    73| paid|     paid|\n",
      "|    87| paid|     paid|\n",
      "|200010| free|     free|\n",
      "|    64| free|     free|\n",
      "|     3| paid|     paid|\n",
      "|   113| paid|     paid|\n",
      "|    30| paid|     paid|\n",
      "|    34| free|     free|\n",
      "|   133| free|     free|\n",
      "|    59| paid|     paid|\n",
      "|   139| paid|     paid|\n",
      "|   146| free|     free|\n",
      "|     8| free|     free|\n",
      "|    22| free|     free|\n",
      "|    28| paid|     paid|\n",
      "|300018| paid|     paid|\n",
      "|300012| paid|     paid|\n",
      "|100022| free|     free|\n",
      "|    85| paid|     paid|\n",
      "|    16| paid|     paid|\n",
      "|    35| free|     free|\n",
      "|    52| paid|     paid|\n",
      "|300008| paid|     paid|\n",
      "|    71| paid|     paid|\n",
      "|300013| paid|     paid|\n",
      "|    98| paid|     paid|\n",
      "|100008| free|     free|\n",
      "|    47| free|     free|\n",
      "|    99| paid|     paid|\n",
      "|100025| free|     free|\n",
      "|   107| free|     free|\n",
      "|   110| free|     free|\n",
      "|300006| paid|     paid|\n",
      "|300002| paid|     paid|\n",
      "|    96| paid|     paid|\n",
      "|300007| paid|     paid|\n",
      "|    43| free|     free|\n",
      "|     5| free|     free|\n",
      "|   100| paid|     paid|\n",
      "|100006| free|     free|\n",
      "|    18| paid|     paid|\n",
      "|    70| paid|     paid|\n",
      "|100005| free|     free|\n",
      "|    27| free|     free|\n",
      "|    61| free|     free|\n",
      "|    75| paid|     paid|\n",
      "|   126| paid|     paid|\n",
      "|   131| free|     free|\n",
      "|   140| paid|     paid|\n",
      "|    17| paid|     paid|\n",
      "|100007| paid|     paid|\n",
      "|    26| paid|     paid|\n",
      "|   120| paid|     paid|\n",
      "|200007| paid|     paid|\n",
      "|    46| paid|     paid|\n",
      "|300004| free|     free|\n",
      "|   147| paid|     paid|\n",
      "|300001| paid|     paid|\n",
      "|300015| paid|     paid|\n",
      "|    78| free|     free|\n",
      "|    77| paid|     paid|\n",
      "|    89| paid|     paid|\n",
      "|   136| paid|     paid|\n",
      "|   118| paid|     paid|\n",
      "|     6| paid|     paid|\n",
      "|300019| paid|     paid|\n",
      "|200014| paid|     paid|\n",
      "|100009| free|     free|\n",
      "|300011| paid|     paid|\n",
      "|100004| paid|     paid|\n",
      "|   104| paid|     paid|\n",
      "|    60| paid|     paid|\n",
      "|    68| free|     free|\n",
      "|    90| free|     free|\n",
      "|200003| free|     free|\n",
      "|100015| paid|     paid|\n",
      "|    19| paid|     paid|\n",
      "|300023| paid|     paid|\n",
      "|300024| paid|     paid|\n",
      "|   128| paid|     paid|\n",
      "|200024| paid|     paid|\n",
      "|    23| paid|     paid|\n",
      "|    41| paid|     paid|\n",
      "|   102| free|     free|\n",
      "|    55| paid|     paid|\n",
      "|200008| paid|     paid|\n",
      "|   111| paid|     paid|\n",
      "|100016| free|     free|\n",
      "|100003| free|     free|\n",
      "|    93| paid|     paid|\n",
      "|    95| free|     free|\n",
      "|   103| paid|     paid|\n",
      "|200005| paid|     paid|\n",
      "|    38| paid|     paid|\n",
      "|    40| paid|     paid|\n",
      "|200009| free|     free|\n",
      "|    25| paid|     paid|\n",
      "|   135| free|     free|\n",
      "|   156| free|     free|\n",
      "|    44| paid|     paid|\n",
      "|100024| free|     free|\n",
      "|   144| free|     free|\n",
      "|   115| paid|     paid|\n",
      "|    82| paid|     paid|\n",
      "|200023| paid|     paid|\n",
      "|    53| paid|     paid|\n",
      "|    92| free|     free|\n",
      "|   122| paid|     paid|\n",
      "|   108| paid|     paid|\n",
      "|   117| free|     free|\n",
      "|300010| free|     free|\n",
      "|200017| paid|     paid|\n",
      "|    86| paid|     paid|\n",
      "|    58| paid|     paid|\n",
      "|100011| free|     free|\n",
      "|100019| free|     free|\n",
      "|300014| paid|     paid|\n",
      "|    81| paid|     paid|\n",
      "|   114| paid|     paid|\n",
      "|    33| paid|     paid|\n",
      "|100012| free|     free|\n",
      "|   150| free|     free|\n",
      "|200018| free|     free|\n",
      "|200016| free|     free|\n",
      "|200025| paid|     paid|\n",
      "|300003| free|     free|\n",
      "|   153| paid|     paid|\n",
      "|200020| free|     free|\n",
      "|   141| paid|     paid|\n",
      "|   148| free|     free|\n",
      "|    97| paid|     paid|\n",
      "|   106| paid|     paid|\n",
      "|    67| paid|     paid|\n",
      "|    84| free|     free|\n",
      "|   143| free|     free|\n",
      "|300025| paid|     paid|\n",
      "|    79| paid|     paid|\n",
      "|    24| free|     free|\n",
      "|     9| paid|     paid|\n",
      "|   116| free|     free|\n",
      "|    32| paid|     paid|\n",
      "|   152| paid|     paid|\n",
      "|   134| free|     free|\n",
      "|200001| free|     free|\n",
      "|    88| paid|     paid|\n",
      "|   149| free|     free|\n",
      "|   105| paid|     paid|\n",
      "|    20| paid|     paid|\n",
      "|200011| free|     free|\n",
      "|200006| free|     free|\n",
      "|100023| paid|     paid|\n",
      "|100013| paid|     paid|\n",
      "|   142| paid|     paid|\n",
      "|    56| paid|     paid|\n",
      "|   127| paid|     paid|\n",
      "|300009| paid|     paid|\n",
      "|    36| paid|     paid|\n",
      "|    10| paid|     paid|\n",
      "|    37| paid|     paid|\n",
      "|300022| paid|     paid|\n",
      "|    49| paid|     paid|\n",
      "|300021| paid|     paid|\n",
      "|200004| paid|     paid|\n",
      "|300005| paid|     paid|\n",
      "|100017| free|     free|\n",
      "|300020| paid|     paid|\n",
      "|    63| free|     free|\n",
      "|    65| paid|     paid|\n",
      "|   121| paid|     paid|\n",
      "|     4| paid|     paid|\n",
      "|    39| paid|     paid|\n",
      "|200012| free|     free|\n",
      "|    62| paid|     paid|\n",
      "|    12| paid|     paid|\n",
      "|    83| paid|     paid|\n",
      "|   109| free|     free|\n",
      "|   123| free|     free|\n",
      "|200022| free|     free|\n",
      "|    13| free|     free|\n",
      "|200019| free|     free|\n",
      "|    14| paid|     paid|\n",
      "|    21| paid|     paid|\n",
      "|    66| paid|     paid|\n",
      "|    91| paid|     paid|\n",
      "|    94| free|     free|\n",
      "|   137| paid|     paid|\n",
      "|    72| free|     free|\n",
      "|    74| paid|     paid|\n",
      "|300016| paid|     paid|\n",
      "|   151| paid|     paid|\n",
      "|200015| free|     free|\n",
      "|   129| paid|     paid|\n",
      "|    76| free|     free|\n",
      "|     2| paid|     paid|\n",
      "|100002| paid|     paid|\n",
      "|100018| free|     free|\n",
      "|    80| free|     free|\n",
      "|   145| paid|     paid|\n",
      "|    50| paid|     paid|\n",
      "|    45| paid|     paid|\n",
      "|    57| free|     free|\n",
      "|200021| paid|     paid|\n",
      "|   119| free|     free|\n",
      "|100001| free|     free|\n",
      "+------+-----+---------+\n",
      "\n"
     ]
    }
   ],
   "source": [
    "# All last levels are OK\n",
    "data.where(data.userRowDescId == 1).select('userId', 'level', 'lastLevel').show(225)"
   ]
  },
  {
   "cell_type": "code",
   "execution_count": 26,
   "metadata": {},
   "outputs": [
    {
     "name": "stdout",
     "output_type": "stream",
     "text": [
      "+------+-----+\n",
      "|userId|count|\n",
      "+------+-----+\n",
      "+------+-----+\n",
      "\n"
     ]
    }
   ],
   "source": [
    "# check if there is only 1 last level per user - OK\n",
    "data \\\n",
    "    .select('userId', 'lastLevel') \\\n",
    "    .dropDuplicates() \\\n",
    "    .groupby('userId') \\\n",
    "    .count() \\\n",
    "    .where(col('count') > 1) \\\n",
    "    .show()"
   ]
  },
  {
   "cell_type": "markdown",
   "metadata": {},
   "source": [
    "#### Churn of Submit Downgrade event\n",
    "We observe non-churned users who triggered Submit Downgrade event. These users are churned *at the end of the observation period* if their last level is **free**."
   ]
  },
  {
   "cell_type": "code",
   "execution_count": 28,
   "metadata": {},
   "outputs": [
    {
     "data": {
      "text/plain": [
       "63"
      ]
     },
     "execution_count": 28,
     "metadata": {},
     "output_type": "execute_result"
    }
   ],
   "source": [
    "# Count log events\n",
    "data.where(data.page == 'Submit Downgrade').count()"
   ]
  },
  {
   "cell_type": "markdown",
   "metadata": {},
   "source": [
    "Does downgrade causes a change of level from *paid* to *free*?"
   ]
  },
  {
   "cell_type": "code",
   "execution_count": 30,
   "metadata": {},
   "outputs": [
    {
     "data": {
      "text/plain": [
       "63"
      ]
     },
     "execution_count": 30,
     "metadata": {},
     "output_type": "execute_result"
    }
   ],
   "source": [
    "# Is the SD entering level always paid? - Yes\n",
    "data.where((data.page == 'Submit Downgrade') & (data.level == 'paid')).count()"
   ]
  },
  {
   "cell_type": "code",
   "execution_count": null,
   "metadata": {},
   "outputs": [],
   "source": [
    "# Is the SD outgoing level always free?\n",
    "last_levels = dict()\n",
    "for row in data.where(data.userRowDescId == 1).select('userId', 'level').collect():\n",
    "    last_levels[row.userId] = row.level\n",
    "len(last_levels)\n",
    "\n",
    "get_level = udf(lambda userId: last_levels[userId])\n",
    "data = data.withColumn('lastLevel', get_level('userId'))\n",
    "data.take(3)"
   ]
  },
  {
   "cell_type": "code",
   "execution_count": 11,
   "metadata": {},
   "outputs": [
    {
     "name": "stdout",
     "output_type": "stream",
     "text": [
      "+------+-----+\n",
      "|userId|count|\n",
      "+------+-----+\n",
      "|300004|  262|\n",
      "|100012|  600|\n",
      "|100025|  623|\n",
      "|    24|  630|\n",
      "|100016|  638|\n",
      "|200019|  639|\n",
      "|100009|  671|\n",
      "|    11|  848|\n",
      "|200011|  848|\n",
      "|   109|  861|\n",
      "+------+-----+\n",
      "only showing top 10 rows\n",
      "\n"
     ]
    }
   ],
   "source": [
    "data.where(data.userId.isin([row.userId for row in data \\\n",
    "                             .where(data.page == 'Submit Downgrade') \\\n",
    "                             .select('userId').dropDuplicates().collect()])) \\\n",
    "    .groupby('userId') \\\n",
    "    .count() \\\n",
    "    .sort('count') \\\n",
    "    .show(10)"
   ]
  },
  {
   "cell_type": "code",
   "execution_count": 9,
   "metadata": {},
   "outputs": [
    {
     "name": "stdout",
     "output_type": "stream",
     "text": [
      "+------+\n",
      "|userId|\n",
      "+------+\n",
      "|    35|\n",
      "|100008|\n",
      "|    61|\n",
      "|   131|\n",
      "|300004|\n",
      "|200003|\n",
      "|100016|\n",
      "|    95|\n",
      "|200009|\n",
      "|    92|\n",
      "|    24|\n",
      "|   109|\n",
      "|    13|\n",
      "|200019|\n",
      "|100018|\n",
      "+------+\n",
      "\n"
     ]
    }
   ],
   "source": [
    "# Query churned users by downgrade event\n",
    "downgraded = data.where((data.churn == 0) \\\n",
    "           & (data.page == 'Submit Downgrade') \\\n",
    "           & (data.lastLevel == 'free')) \\\n",
    "    .select('userId') \\\n",
    "    .dropDuplicates()\n",
    "\n",
    "downgraded.show()"
   ]
  },
  {
   "cell_type": "code",
   "execution_count": 10,
   "metadata": {},
   "outputs": [
    {
     "data": {
      "text/plain": [
       "67"
      ]
     },
     "execution_count": 10,
     "metadata": {},
     "output_type": "execute_result"
    }
   ],
   "source": [
    "# Label downgraded users\n",
    "\n",
    "# set downgraded users: churn=1\n",
    "uids = [x.userId for x in downgraded.collect()]\n",
    "is_downgraded = udf(lambda userId, churn: 1 if userId in uids else churn, IntegerType())\n",
    "data = data.withColumn('churn', is_downgraded('userId', 'churn'))\n",
    "data.take(3)\n",
    "\n",
    "# check\n",
    "data.where(data.churn == 1).select('userId').dropDuplicates().count()"
   ]
  },
  {
   "cell_type": "markdown",
   "metadata": {},
   "source": [
    "Once you've defined churn, perform some exploratory data analysis to observe the behavior for users who stayed vs users who churned. You can start by exploring aggregates on these two groups of users, observing how much of a specific action they experienced per a certain time unit or number of songs played."
   ]
  },
  {
   "cell_type": "markdown",
   "metadata": {},
   "source": [
    "## Log Level\n",
    "By each target group (*active*, *churned*), count logs of each feature dividing by number of logs in a target group."
   ]
  },
  {
   "cell_type": "markdown",
   "metadata": {},
   "source": [
    "#### Global Variables"
   ]
  },
  {
   "cell_type": "code",
   "execution_count": 11,
   "metadata": {},
   "outputs": [],
   "source": [
    "# Count of 'churned'/active logs\n",
    "count0 = data.where(data.churn == 0).count()\n",
    "count1 = data.where(data.churn == 1).count()"
   ]
  },
  {
   "cell_type": "markdown",
   "metadata": {},
   "source": [
    "#### Common Functions"
   ]
  },
  {
   "cell_type": "code",
   "execution_count": 12,
   "metadata": {},
   "outputs": [],
   "source": [
    "# Fetch values (categories) of a given feature\n",
    "def get_categories(feature):\n",
    "    return data.select(feature).dropDuplicates().sort(feature)\n",
    "\n",
    "# Get list of categories of a given feature\n",
    "def get_categories_list(feature):\n",
    "    return [str(row[feature]) for row in get_categories(feature).collect()]\n",
    "\n",
    "# Calculate share of each category relating to its churn group\n",
    "def calc_log_share(feature):\n",
    "    # calculate count of each category, per churn group\n",
    "    df = data \\\n",
    "        .groupby('churn', feature) \\\n",
    "        .count() \\\n",
    "        .toPandas()\n",
    "       \n",
    "    totals = df.groupby('churn').sum()\n",
    "    df = df.set_index('churn').join(totals, rsuffix='_total')\n",
    "    df['share'] = df['count']/df['count_total']\n",
    "    df = df.drop('count_total', axis=1)\n",
    "    return df.reset_index()\n",
    "\n",
    "# Plot the category share, for both churn group\n",
    "def plot_share(df, feature):\n",
    "    # split dataset into 3 churn subsets\n",
    "    df0 = df[df.churn == 0].sort_values(by='share', ascending=False)\n",
    "    df1 = df[df.churn == 1].sort_values(by='share', ascending=False)\n",
    "    \n",
    "    # plot\n",
    "    width =0.35\n",
    "    labels = get_categories_list(feature)\n",
    "    plt.xticks(range(len(labels)), df0[feature])\n",
    "    plt.xlabel(feature)\n",
    "    plt.ylabel('share')\n",
    "    plt.bar(np.arange(len(df0)), df0['share'], width=width)\n",
    "    plt.bar(np.arange(len(df1)) + width, df1['share'], width=width)\n",
    "    ax = plt.gca()\n",
    "    ax.set_title('Log level: ' + feature);\n",
    "    plt.legend(['non-churned', 'churned'], loc=1)\n",
    "\n",
    "def plot_share3(df, feature):\n",
    "    # split dataset into 3 churn subsets\n",
    "    df0 = df[df.churn == 0].sort_values(by='share', ascending=False)\n",
    "    df1 = df[df.churn == 1].sort_values(by='share', ascending=False)\n",
    "    df2 = df[df.churn == 2].sort_values(by='share', ascending=False)\n",
    "    \n",
    "    # plot\n",
    "    width =0.2\n",
    "    labels = get_categories_list(feature)\n",
    "    plt.xticks(range(len(labels)), df0[feature])\n",
    "    plt.xlabel(feature)\n",
    "    plt.ylabel('share')\n",
    "    plt.bar(np.arange(len(df0)), df0['share'], width=width)\n",
    "    plt.bar(np.arange(len(df1)) + width, df1['share'], width=width)\n",
    "    plt.bar(np.arange(len(df2)) + 2*width, df2['share'], width=width)\n",
    "    ax = plt.gca()\n",
    "    ax.set_title('Log level: ' + feature);\n",
    "    plt.legend(['non-churned', 'cancelled', 'downgraded'], loc=1)"
   ]
  },
  {
   "cell_type": "markdown",
   "metadata": {},
   "source": [
    "#### Method, Status, Level"
   ]
  },
  {
   "cell_type": "code",
   "execution_count": 13,
   "metadata": {},
   "outputs": [],
   "source": [
    "# get data\n",
    "df_method = calc_log_share('method')\n",
    "df_status = calc_log_share('status')\n",
    "df_level = calc_log_share('level')"
   ]
  },
  {
   "cell_type": "code",
   "execution_count": 40,
   "metadata": {},
   "outputs": [
    {
     "data": {
      "image/png": "[encoded data removed]",
      "text/plain": [
       "<Figure size 720x576 with 3 Axes>"
      ]
     },
     "metadata": {
      "needs_background": "light"
     },
     "output_type": "display_data"
    }
   ],
   "source": [
    "plt.figure(figsize = [10, 8]);\n",
    "#fig, axes = plt.subplots(nrows=2, ncols=2)\n",
    "#fig.tight_layout() \n",
    "plt.subplots_adjust(left=None, bottom=None, right=None, top=None, wspace=0.35, hspace=0.45)\n",
    "\n",
    "# method\n",
    "plt.subplot(2, 2, 1)\n",
    "plot_share(df_method, 'method')\n",
    "\n",
    "# status\n",
    "plt.subplot(2, 2, 2)\n",
    "plot_share(df_status, 'status')\n",
    "\n",
    "# level\n",
    "plt.subplot(2, 2, 3)\n",
    "plot_share(df_level, 'level')\n",
    "\n",
    "plt.show()"
   ]
  },
  {
   "cell_type": "markdown",
   "metadata": {},
   "source": [
    "#### Page: NextSong"
   ]
  },
  {
   "cell_type": "code",
   "execution_count": 29,
   "metadata": {},
   "outputs": [],
   "source": [
    "get_total = udf(lambda x: count0 if x == 0 else count1 if x == 1 else count2)\n",
    "df_nextSong = data.where(data.page == 'NextSong') \\\n",
    "    .withColumn('total', get_total('churn')) \\\n",
    "    .groupby('churn', 'total') \\\n",
    "    .count() \\\n",
    "    .withColumn('share', col('count')/col('total')) \\\n",
    "    .drop('total') \\\n",
    "    .toPandas()"
   ]
  },
  {
   "cell_type": "code",
   "execution_count": 30,
   "metadata": {
    "scrolled": true
   },
   "outputs": [
    {
     "data": {
      "image/png": "[encoded data removed]",
      "text/plain": [
       "<Figure size 216x288 with 1 Axes>"
      ]
     },
     "metadata": {
      "needs_background": "light"
     },
     "output_type": "display_data"
    }
   ],
   "source": [
    "# split data by churn\n",
    "df0 = df_nextSong[df_nextSong.churn == 0].copy()\n",
    "df1 = df_nextSong[df_nextSong.churn == 1].copy()\n",
    "df2 = df_nextSong[df_nextSong.churn == 2].copy()\n",
    "\n",
    "# plot\n",
    "plt.figure(figsize = [3, 4]);\n",
    "width =0.1\n",
    "plt.xticks(range(0), [])\n",
    "plt.ylabel('share')\n",
    "plt.bar(np.arange(1), df0['share'], width=width)\n",
    "plt.bar(np.arange(1) + width, df1['share'], width=width)\n",
    "plt.bar(np.arange(1) + 2*width, df2['share'], width=width)\n",
    "ax = plt.gca()\n",
    "ax.set_title('Log level: NextSong');\n",
    "plt.legend(['non-churned', 'cancelled', 'downgraded'], loc=4)\n",
    "plt.show()\n"
   ]
  },
  {
   "cell_type": "markdown",
   "metadata": {},
   "source": [
    "#### Page: other"
   ]
  },
  {
   "cell_type": "code",
   "execution_count": 35,
   "metadata": {},
   "outputs": [],
   "source": [
    "get_total = udf(lambda x: count0 if x == 0 else count1 if x == 1 else count2)\n",
    "df_otherPages = data.where(~data.page.isin(['NextSong', 'Cancel', 'Cancellation Confirmation'])) \\\n",
    "    .withColumn('total', get_total('churn')) \\\n",
    "    .groupby('churn', 'total', 'page') \\\n",
    "    .count() \\\n",
    "    .withColumn('share', col('count')/col('total')) \\\n",
    "    .drop('total') \\\n",
    "    .toPandas()"
   ]
  },
  {
   "cell_type": "code",
   "execution_count": 36,
   "metadata": {
    "collapsed": true
   },
   "outputs": [
    {
     "data": {
      "text/html": [
       "<div>\n",
       "<style scoped>\n",
       "    .dataframe tbody tr th:only-of-type {\n",
       "        vertical-align: middle;\n",
       "    }\n",
       "\n",
       "    .dataframe tbody tr th {\n",
       "        vertical-align: top;\n",
       "    }\n",
       "\n",
       "    .dataframe thead th {\n",
       "        text-align: right;\n",
       "    }\n",
       "</style>\n",
       "<table border=\"1\" class=\"dataframe\">\n",
       "  <thead>\n",
       "    <tr style=\"text-align: right;\">\n",
       "      <th></th>\n",
       "      <th>churn</th>\n",
       "      <th>page</th>\n",
       "      <th>count</th>\n",
       "      <th>share</th>\n",
       "    </tr>\n",
       "  </thead>\n",
       "  <tbody>\n",
       "    <tr>\n",
       "      <th>15</th>\n",
       "      <td>0</td>\n",
       "      <td>About</td>\n",
       "      <td>382</td>\n",
       "      <td>0.001827</td>\n",
       "    </tr>\n",
       "    <tr>\n",
       "      <th>1</th>\n",
       "      <td>1</td>\n",
       "      <td>About</td>\n",
       "      <td>56</td>\n",
       "      <td>0.001248</td>\n",
       "    </tr>\n",
       "    <tr>\n",
       "      <th>26</th>\n",
       "      <td>2</td>\n",
       "      <td>About</td>\n",
       "      <td>57</td>\n",
       "      <td>0.002350</td>\n",
       "    </tr>\n",
       "    <tr>\n",
       "      <th>22</th>\n",
       "      <td>0</td>\n",
       "      <td>Add Friend</td>\n",
       "      <td>3258</td>\n",
       "      <td>0.015586</td>\n",
       "    </tr>\n",
       "    <tr>\n",
       "      <th>8</th>\n",
       "      <td>1</td>\n",
       "      <td>Add Friend</td>\n",
       "      <td>636</td>\n",
       "      <td>0.014176</td>\n",
       "    </tr>\n",
       "    <tr>\n",
       "      <th>14</th>\n",
       "      <td>2</td>\n",
       "      <td>Add Friend</td>\n",
       "      <td>383</td>\n",
       "      <td>0.015793</td>\n",
       "    </tr>\n",
       "    <tr>\n",
       "      <th>3</th>\n",
       "      <td>0</td>\n",
       "      <td>Add to Playlist</td>\n",
       "      <td>4900</td>\n",
       "      <td>0.023441</td>\n",
       "    </tr>\n",
       "    <tr>\n",
       "      <th>19</th>\n",
       "      <td>1</td>\n",
       "      <td>Add to Playlist</td>\n",
       "      <td>1038</td>\n",
       "      <td>0.023137</td>\n",
       "    </tr>\n",
       "    <tr>\n",
       "      <th>5</th>\n",
       "      <td>2</td>\n",
       "      <td>Add to Playlist</td>\n",
       "      <td>588</td>\n",
       "      <td>0.024245</td>\n",
       "    </tr>\n",
       "    <tr>\n",
       "      <th>33</th>\n",
       "      <td>0</td>\n",
       "      <td>Downgrade</td>\n",
       "      <td>1533</td>\n",
       "      <td>0.007334</td>\n",
       "    </tr>\n",
       "    <tr>\n",
       "      <th>32</th>\n",
       "      <td>1</td>\n",
       "      <td>Downgrade</td>\n",
       "      <td>337</td>\n",
       "      <td>0.007512</td>\n",
       "    </tr>\n",
       "    <tr>\n",
       "      <th>2</th>\n",
       "      <td>2</td>\n",
       "      <td>Downgrade</td>\n",
       "      <td>185</td>\n",
       "      <td>0.007628</td>\n",
       "    </tr>\n",
       "    <tr>\n",
       "      <th>18</th>\n",
       "      <td>0</td>\n",
       "      <td>Error</td>\n",
       "      <td>202</td>\n",
       "      <td>0.000966</td>\n",
       "    </tr>\n",
       "    <tr>\n",
       "      <th>43</th>\n",
       "      <td>1</td>\n",
       "      <td>Error</td>\n",
       "      <td>32</td>\n",
       "      <td>0.000713</td>\n",
       "    </tr>\n",
       "    <tr>\n",
       "      <th>36</th>\n",
       "      <td>2</td>\n",
       "      <td>Error</td>\n",
       "      <td>18</td>\n",
       "      <td>0.000742</td>\n",
       "    </tr>\n",
       "    <tr>\n",
       "      <th>39</th>\n",
       "      <td>0</td>\n",
       "      <td>Help</td>\n",
       "      <td>1071</td>\n",
       "      <td>0.005123</td>\n",
       "    </tr>\n",
       "    <tr>\n",
       "      <th>35</th>\n",
       "      <td>1</td>\n",
       "      <td>Help</td>\n",
       "      <td>239</td>\n",
       "      <td>0.005327</td>\n",
       "    </tr>\n",
       "    <tr>\n",
       "      <th>20</th>\n",
       "      <td>2</td>\n",
       "      <td>Help</td>\n",
       "      <td>144</td>\n",
       "      <td>0.005938</td>\n",
       "    </tr>\n",
       "    <tr>\n",
       "      <th>16</th>\n",
       "      <td>0</td>\n",
       "      <td>Home</td>\n",
       "      <td>7512</td>\n",
       "      <td>0.035936</td>\n",
       "    </tr>\n",
       "    <tr>\n",
       "      <th>41</th>\n",
       "      <td>1</td>\n",
       "      <td>Home</td>\n",
       "      <td>1672</td>\n",
       "      <td>0.037268</td>\n",
       "    </tr>\n",
       "    <tr>\n",
       "      <th>42</th>\n",
       "      <td>2</td>\n",
       "      <td>Home</td>\n",
       "      <td>898</td>\n",
       "      <td>0.037028</td>\n",
       "    </tr>\n",
       "    <tr>\n",
       "      <th>44</th>\n",
       "      <td>0</td>\n",
       "      <td>Logout</td>\n",
       "      <td>2360</td>\n",
       "      <td>0.011290</td>\n",
       "    </tr>\n",
       "    <tr>\n",
       "      <th>25</th>\n",
       "      <td>1</td>\n",
       "      <td>Logout</td>\n",
       "      <td>553</td>\n",
       "      <td>0.012326</td>\n",
       "    </tr>\n",
       "    <tr>\n",
       "      <th>45</th>\n",
       "      <td>2</td>\n",
       "      <td>Logout</td>\n",
       "      <td>313</td>\n",
       "      <td>0.012906</td>\n",
       "    </tr>\n",
       "    <tr>\n",
       "      <th>38</th>\n",
       "      <td>0</td>\n",
       "      <td>Roll Advert</td>\n",
       "      <td>2388</td>\n",
       "      <td>0.011424</td>\n",
       "    </tr>\n",
       "    <tr>\n",
       "      <th>0</th>\n",
       "      <td>1</td>\n",
       "      <td>Roll Advert</td>\n",
       "      <td>967</td>\n",
       "      <td>0.021554</td>\n",
       "    </tr>\n",
       "    <tr>\n",
       "      <th>40</th>\n",
       "      <td>2</td>\n",
       "      <td>Roll Advert</td>\n",
       "      <td>578</td>\n",
       "      <td>0.023833</td>\n",
       "    </tr>\n",
       "    <tr>\n",
       "      <th>23</th>\n",
       "      <td>0</td>\n",
       "      <td>Save Settings</td>\n",
       "      <td>225</td>\n",
       "      <td>0.001076</td>\n",
       "    </tr>\n",
       "    <tr>\n",
       "      <th>10</th>\n",
       "      <td>1</td>\n",
       "      <td>Save Settings</td>\n",
       "      <td>58</td>\n",
       "      <td>0.001293</td>\n",
       "    </tr>\n",
       "    <tr>\n",
       "      <th>11</th>\n",
       "      <td>2</td>\n",
       "      <td>Save Settings</td>\n",
       "      <td>27</td>\n",
       "      <td>0.001113</td>\n",
       "    </tr>\n",
       "    <tr>\n",
       "      <th>34</th>\n",
       "      <td>0</td>\n",
       "      <td>Settings</td>\n",
       "      <td>1100</td>\n",
       "      <td>0.005262</td>\n",
       "    </tr>\n",
       "    <tr>\n",
       "      <th>21</th>\n",
       "      <td>1</td>\n",
       "      <td>Settings</td>\n",
       "      <td>270</td>\n",
       "      <td>0.006018</td>\n",
       "    </tr>\n",
       "    <tr>\n",
       "      <th>4</th>\n",
       "      <td>2</td>\n",
       "      <td>Settings</td>\n",
       "      <td>144</td>\n",
       "      <td>0.005938</td>\n",
       "    </tr>\n",
       "    <tr>\n",
       "      <th>13</th>\n",
       "      <td>0</td>\n",
       "      <td>Submit Downgrade</td>\n",
       "      <td>33</td>\n",
       "      <td>0.000158</td>\n",
       "    </tr>\n",
       "    <tr>\n",
       "      <th>37</th>\n",
       "      <td>1</td>\n",
       "      <td>Submit Downgrade</td>\n",
       "      <td>9</td>\n",
       "      <td>0.000201</td>\n",
       "    </tr>\n",
       "    <tr>\n",
       "      <th>9</th>\n",
       "      <td>2</td>\n",
       "      <td>Submit Downgrade</td>\n",
       "      <td>21</td>\n",
       "      <td>0.000866</td>\n",
       "    </tr>\n",
       "    <tr>\n",
       "      <th>47</th>\n",
       "      <td>0</td>\n",
       "      <td>Submit Upgrade</td>\n",
       "      <td>111</td>\n",
       "      <td>0.000531</td>\n",
       "    </tr>\n",
       "    <tr>\n",
       "      <th>30</th>\n",
       "      <td>1</td>\n",
       "      <td>Submit Upgrade</td>\n",
       "      <td>32</td>\n",
       "      <td>0.000713</td>\n",
       "    </tr>\n",
       "    <tr>\n",
       "      <th>7</th>\n",
       "      <td>2</td>\n",
       "      <td>Submit Upgrade</td>\n",
       "      <td>16</td>\n",
       "      <td>0.000660</td>\n",
       "    </tr>\n",
       "    <tr>\n",
       "      <th>12</th>\n",
       "      <td>0</td>\n",
       "      <td>Thumbs Down</td>\n",
       "      <td>1791</td>\n",
       "      <td>0.008568</td>\n",
       "    </tr>\n",
       "    <tr>\n",
       "      <th>17</th>\n",
       "      <td>1</td>\n",
       "      <td>Thumbs Down</td>\n",
       "      <td>496</td>\n",
       "      <td>0.011056</td>\n",
       "    </tr>\n",
       "    <tr>\n",
       "      <th>28</th>\n",
       "      <td>2</td>\n",
       "      <td>Thumbs Down</td>\n",
       "      <td>259</td>\n",
       "      <td>0.010680</td>\n",
       "    </tr>\n",
       "    <tr>\n",
       "      <th>24</th>\n",
       "      <td>0</td>\n",
       "      <td>Thumbs Up</td>\n",
       "      <td>9758</td>\n",
       "      <td>0.046681</td>\n",
       "    </tr>\n",
       "    <tr>\n",
       "      <th>31</th>\n",
       "      <td>1</td>\n",
       "      <td>Thumbs Up</td>\n",
       "      <td>1859</td>\n",
       "      <td>0.041436</td>\n",
       "    </tr>\n",
       "    <tr>\n",
       "      <th>6</th>\n",
       "      <td>2</td>\n",
       "      <td>Thumbs Up</td>\n",
       "      <td>934</td>\n",
       "      <td>0.038512</td>\n",
       "    </tr>\n",
       "    <tr>\n",
       "      <th>27</th>\n",
       "      <td>0</td>\n",
       "      <td>Upgrade</td>\n",
       "      <td>331</td>\n",
       "      <td>0.001583</td>\n",
       "    </tr>\n",
       "    <tr>\n",
       "      <th>46</th>\n",
       "      <td>1</td>\n",
       "      <td>Upgrade</td>\n",
       "      <td>112</td>\n",
       "      <td>0.002496</td>\n",
       "    </tr>\n",
       "    <tr>\n",
       "      <th>29</th>\n",
       "      <td>2</td>\n",
       "      <td>Upgrade</td>\n",
       "      <td>56</td>\n",
       "      <td>0.002309</td>\n",
       "    </tr>\n",
       "  </tbody>\n",
       "</table>\n",
       "</div>"
      ],
      "text/plain": [
       "    churn              page  count     share\n",
       "15      0             About    382  0.001827\n",
       "1       1             About     56  0.001248\n",
       "26      2             About     57  0.002350\n",
       "22      0        Add Friend   3258  0.015586\n",
       "8       1        Add Friend    636  0.014176\n",
       "14      2        Add Friend    383  0.015793\n",
       "3       0   Add to Playlist   4900  0.023441\n",
       "19      1   Add to Playlist   1038  0.023137\n",
       "5       2   Add to Playlist    588  0.024245\n",
       "33      0         Downgrade   1533  0.007334\n",
       "32      1         Downgrade    337  0.007512\n",
       "2       2         Downgrade    185  0.007628\n",
       "18      0             Error    202  0.000966\n",
       "43      1             Error     32  0.000713\n",
       "36      2             Error     18  0.000742\n",
       "39      0              Help   1071  0.005123\n",
       "35      1              Help    239  0.005327\n",
       "20      2              Help    144  0.005938\n",
       "16      0              Home   7512  0.035936\n",
       "41      1              Home   1672  0.037268\n",
       "42      2              Home    898  0.037028\n",
       "44      0            Logout   2360  0.011290\n",
       "25      1            Logout    553  0.012326\n",
       "45      2            Logout    313  0.012906\n",
       "38      0       Roll Advert   2388  0.011424\n",
       "0       1       Roll Advert    967  0.021554\n",
       "40      2       Roll Advert    578  0.023833\n",
       "23      0     Save Settings    225  0.001076\n",
       "10      1     Save Settings     58  0.001293\n",
       "11      2     Save Settings     27  0.001113\n",
       "34      0          Settings   1100  0.005262\n",
       "21      1          Settings    270  0.006018\n",
       "4       2          Settings    144  0.005938\n",
       "13      0  Submit Downgrade     33  0.000158\n",
       "37      1  Submit Downgrade      9  0.000201\n",
       "9       2  Submit Downgrade     21  0.000866\n",
       "47      0    Submit Upgrade    111  0.000531\n",
       "30      1    Submit Upgrade     32  0.000713\n",
       "7       2    Submit Upgrade     16  0.000660\n",
       "12      0       Thumbs Down   1791  0.008568\n",
       "17      1       Thumbs Down    496  0.011056\n",
       "28      2       Thumbs Down    259  0.010680\n",
       "24      0         Thumbs Up   9758  0.046681\n",
       "31      1         Thumbs Up   1859  0.041436\n",
       "6       2         Thumbs Up    934  0.038512\n",
       "27      0           Upgrade    331  0.001583\n",
       "46      1           Upgrade    112  0.002496\n",
       "29      2           Upgrade     56  0.002309"
      ]
     },
     "execution_count": 36,
     "metadata": {},
     "output_type": "execute_result"
    }
   ],
   "source": [
    "df_otherPages.sort_values(['page', 'churn'])"
   ]
  },
  {
   "cell_type": "code",
   "execution_count": 42,
   "metadata": {},
   "outputs": [
    {
     "data": {
      "image/png": "[encoded data removed]",
      "text/plain": [
       "<Figure size 1080x504 with 1 Axes>"
      ]
     },
     "metadata": {
      "needs_background": "light"
     },
     "output_type": "display_data"
    }
   ],
   "source": [
    "# split data by churn\n",
    "df0 = df_otherPages[df_otherPages.churn == 0].sort_values(['page', 'churn']).copy()\n",
    "df1 = df_otherPages[df_otherPages.churn == 1].sort_values(['page', 'churn']).copy()\n",
    "df2 = df_otherPages[df_otherPages.churn == 2].sort_values(['page', 'churn']).copy()\n",
    "\n",
    "# plot\n",
    "plt.figure(figsize = [15, 7])\n",
    "width = 0.20\n",
    "labels = df0['page'].sort_values()\n",
    "plt.xticks(range(len(labels)), labels)\n",
    "plt.xlabel('page')\n",
    "plt.ylabel('share')\n",
    "plt.bar(np.arange(len(df0)), df0['share'], width=width)\n",
    "plt.bar(np.arange(len(df1)) + width, df1['share'], width=width)\n",
    "plt.bar(np.arange(len(df2)) + 2*width, df2['share'], width=width)\n",
    "plt.xticks(rotation = 90);\n",
    "ax = plt.gca()\n",
    "ax.set_title('Log level: Other pages');\n",
    "plt.legend(['non-churned', 'cancelled', 'downgraded'], loc=2)\n",
    "plt.show()"
   ]
  },
  {
   "cell_type": "markdown",
   "metadata": {},
   "source": [
    "### User Level"
   ]
  },
  {
   "cell_type": "code",
   "execution_count": 44,
   "metadata": {},
   "outputs": [],
   "source": [
    "# count users for each churn group \n",
    "split = data.groupby('churn', 'userId').count()\n",
    "user_count0 = split.where(split.churn == 0).count()\n",
    "user_count1 = split.where(split.churn == 1).count()\n",
    "user_count2 = split.where(split.churn == 2).count()"
   ]
  },
  {
   "cell_type": "code",
   "execution_count": 45,
   "metadata": {},
   "outputs": [
    {
     "name": "stdout",
     "output_type": "stream",
     "text": [
      "158\n",
      "52\n",
      "15\n"
     ]
    }
   ],
   "source": [
    "print(user_count0)\n",
    "print(user_count1)\n",
    "print(user_count2)"
   ]
  },
  {
   "cell_type": "markdown",
   "metadata": {},
   "source": [
    "#### User level: *Gender*"
   ]
  },
  {
   "cell_type": "code",
   "execution_count": 46,
   "metadata": {},
   "outputs": [],
   "source": [
    "# prepare data\n",
    "get_total = udf(lambda x: user_count0 if x == 0 else user_count1 if x == 1 else user_count2)\n",
    "df_gender = data \\\n",
    "    .withColumn('total', get_total('churn')) \\\n",
    "    .groupby('churn', 'total', 'userId', 'gender') \\\n",
    "    .count() \\\n",
    "    .groupby('churn', 'total', 'gender') \\\n",
    "    .count() \\\n",
    "    .withColumn('share', col('count')/col('total')) \\\n",
    "    .drop('total') \\\n",
    "    .toPandas()"
   ]
  },
  {
   "cell_type": "code",
   "execution_count": 47,
   "metadata": {},
   "outputs": [
    {
     "data": {
      "text/html": [
       "<div>\n",
       "<style scoped>\n",
       "    .dataframe tbody tr th:only-of-type {\n",
       "        vertical-align: middle;\n",
       "    }\n",
       "\n",
       "    .dataframe tbody tr th {\n",
       "        vertical-align: top;\n",
       "    }\n",
       "\n",
       "    .dataframe thead th {\n",
       "        text-align: right;\n",
       "    }\n",
       "</style>\n",
       "<table border=\"1\" class=\"dataframe\">\n",
       "  <thead>\n",
       "    <tr style=\"text-align: right;\">\n",
       "      <th></th>\n",
       "      <th>churn</th>\n",
       "      <th>gender</th>\n",
       "      <th>count</th>\n",
       "      <th>share</th>\n",
       "    </tr>\n",
       "  </thead>\n",
       "  <tbody>\n",
       "    <tr>\n",
       "      <th>0</th>\n",
       "      <td>1</td>\n",
       "      <td>M</td>\n",
       "      <td>32</td>\n",
       "      <td>0.615385</td>\n",
       "    </tr>\n",
       "    <tr>\n",
       "      <th>1</th>\n",
       "      <td>0</td>\n",
       "      <td>M</td>\n",
       "      <td>82</td>\n",
       "      <td>0.518987</td>\n",
       "    </tr>\n",
       "    <tr>\n",
       "      <th>2</th>\n",
       "      <td>2</td>\n",
       "      <td>M</td>\n",
       "      <td>7</td>\n",
       "      <td>0.466667</td>\n",
       "    </tr>\n",
       "    <tr>\n",
       "      <th>3</th>\n",
       "      <td>2</td>\n",
       "      <td>F</td>\n",
       "      <td>8</td>\n",
       "      <td>0.533333</td>\n",
       "    </tr>\n",
       "    <tr>\n",
       "      <th>4</th>\n",
       "      <td>1</td>\n",
       "      <td>F</td>\n",
       "      <td>20</td>\n",
       "      <td>0.384615</td>\n",
       "    </tr>\n",
       "    <tr>\n",
       "      <th>5</th>\n",
       "      <td>0</td>\n",
       "      <td>F</td>\n",
       "      <td>76</td>\n",
       "      <td>0.481013</td>\n",
       "    </tr>\n",
       "  </tbody>\n",
       "</table>\n",
       "</div>"
      ],
      "text/plain": [
       "   churn gender  count     share\n",
       "0      1      M     32  0.615385\n",
       "1      0      M     82  0.518987\n",
       "2      2      M      7  0.466667\n",
       "3      2      F      8  0.533333\n",
       "4      1      F     20  0.384615\n",
       "5      0      F     76  0.481013"
      ]
     },
     "execution_count": 47,
     "metadata": {},
     "output_type": "execute_result"
    }
   ],
   "source": [
    "df_gender"
   ]
  },
  {
   "cell_type": "code",
   "execution_count": 51,
   "metadata": {},
   "outputs": [
    {
     "data": {
      "image/png": "[encoded data removed]",
      "text/plain": [
       "<Figure size 432x288 with 1 Axes>"
      ]
     },
     "metadata": {
      "needs_background": "light"
     },
     "output_type": "display_data"
    }
   ],
   "source": [
    "plot_share3(df_gender, 'gender')"
   ]
  },
  {
   "cell_type": "markdown",
   "metadata": {},
   "source": [
    "#### User level: *Level*\n",
    "Here we observe the user's level *at the end of the observation period* since level is user-time dependent feature."
   ]
  },
  {
   "cell_type": "code",
   "execution_count": 70,
   "metadata": {},
   "outputs": [
    {
     "data": {
      "text/plain": [
       "225"
      ]
     },
     "execution_count": 70,
     "metadata": {},
     "output_type": "execute_result"
    }
   ],
   "source": [
    "data.where(data.userRowId == 1).count()"
   ]
  },
  {
   "cell_type": "code",
   "execution_count": null,
   "metadata": {},
   "outputs": [],
   "source": [
    "# check first level\n",
    "data.where(data.userRowId == 1) \\\n",
    "    .groupby('churn', 'level') \\\n",
    "    .count() \\\n",
    "    .show()"
   ]
  },
  {
   "cell_type": "code",
   "execution_count": 72,
   "metadata": {},
   "outputs": [
    {
     "name": "stdout",
     "output_type": "stream",
     "text": [
      "+---------+-----+\n",
      "|lastLevel|count|\n",
      "+---------+-----+\n",
      "|     free|   80|\n",
      "|     paid|  145|\n",
      "+---------+-----+\n",
      "\n"
     ]
    }
   ],
   "source": [
    "# check last level\n",
    "data.where(data.userRowDescId == 1) \\\n",
    "    .groupby('churn', 'lastLevel') \\\n",
    "    .count() \\\n",
    "    .show()"
   ]
  },
  {
   "cell_type": "code",
   "execution_count": 58,
   "metadata": {},
   "outputs": [],
   "source": [
    "# prepare data\n",
    "get_total = udf(lambda x: user_count0 if x == 0 else user_count1 if x == 1 else user_count2)\n",
    "df_level = data \\\n",
    "    .withColumn('total', get_total('churn')) \\\n",
    "    .groupby('churn', 'total', 'userId', 'lastLevel') \\\n",
    "    .count() \\\n",
    "    .groupby('churn', 'total', 'lastLevel') \\\n",
    "    .count() \\\n",
    "    .withColumn('share', col('count')/col('total')) \\\n",
    "    .drop('total') \\\n",
    "    .toPandas()"
   ]
  },
  {
   "cell_type": "code",
   "execution_count": 63,
   "metadata": {},
   "outputs": [
    {
     "data": {
      "text/html": [
       "<div>\n",
       "<style scoped>\n",
       "    .dataframe tbody tr th:only-of-type {\n",
       "        vertical-align: middle;\n",
       "    }\n",
       "\n",
       "    .dataframe tbody tr th {\n",
       "        vertical-align: top;\n",
       "    }\n",
       "\n",
       "    .dataframe thead th {\n",
       "        text-align: right;\n",
       "    }\n",
       "</style>\n",
       "<table border=\"1\" class=\"dataframe\">\n",
       "  <thead>\n",
       "    <tr style=\"text-align: right;\">\n",
       "      <th></th>\n",
       "      <th>churn</th>\n",
       "      <th>lastLevel</th>\n",
       "      <th>count</th>\n",
       "      <th>share</th>\n",
       "    </tr>\n",
       "  </thead>\n",
       "  <tbody>\n",
       "    <tr>\n",
       "      <th>1</th>\n",
       "      <td>0</td>\n",
       "      <td>free</td>\n",
       "      <td>44</td>\n",
       "      <td>0.278481</td>\n",
       "    </tr>\n",
       "    <tr>\n",
       "      <th>2</th>\n",
       "      <td>0</td>\n",
       "      <td>paid</td>\n",
       "      <td>114</td>\n",
       "      <td>0.721519</td>\n",
       "    </tr>\n",
       "    <tr>\n",
       "      <th>0</th>\n",
       "      <td>1</td>\n",
       "      <td>free</td>\n",
       "      <td>21</td>\n",
       "      <td>0.403846</td>\n",
       "    </tr>\n",
       "    <tr>\n",
       "      <th>3</th>\n",
       "      <td>1</td>\n",
       "      <td>paid</td>\n",
       "      <td>31</td>\n",
       "      <td>0.596154</td>\n",
       "    </tr>\n",
       "    <tr>\n",
       "      <th>4</th>\n",
       "      <td>2</td>\n",
       "      <td>free</td>\n",
       "      <td>15</td>\n",
       "      <td>1.000000</td>\n",
       "    </tr>\n",
       "  </tbody>\n",
       "</table>\n",
       "</div>"
      ],
      "text/plain": [
       "   churn lastLevel  count     share\n",
       "1      0      free     44  0.278481\n",
       "2      0      paid    114  0.721519\n",
       "0      1      free     21  0.403846\n",
       "3      1      paid     31  0.596154\n",
       "4      2      free     15  1.000000"
      ]
     },
     "execution_count": 63,
     "metadata": {},
     "output_type": "execute_result"
    }
   ],
   "source": [
    "df_level.sort_values(['churn', 'lastLevel'])"
   ]
  },
  {
   "cell_type": "code",
   "execution_count": 61,
   "metadata": {},
   "outputs": [
    {
     "data": {
      "image/png": "[encoded data removed]",
      "text/plain": [
       "<Figure size 432x288 with 1 Axes>"
      ]
     },
     "metadata": {
      "needs_background": "light"
     },
     "output_type": "display_data"
    }
   ],
   "source": [
    "plot_share3(df_level, 'lastLevel')"
   ]
  },
  {
   "cell_type": "markdown",
   "metadata": {},
   "source": [
    "### Check the level after churning event"
   ]
  },
  {
   "cell_type": "code",
   "execution_count": 11,
   "metadata": {},
   "outputs": [],
   "source": [
    "cols = ['tsDate', 'sessionId', 'userId', 'churn', 'level', 'page', 'itemInSession', 'status']"
   ]
  },
  {
   "cell_type": "code",
   "execution_count": null,
   "metadata": {},
   "outputs": [],
   "source": [
    "# add new, more exact 'itemInSession' column  \n",
    "data.withColumn('maxTs', max('ts').over(w)) \\\n",
    "    .where(col('ts') == col('maxTs')) \\\n",
    "    .select('userId', 'maxTs', 'churn', 'level') \\\n",
    "    .sort('userId') \\\n",
    "    .show(50)"
   ]
  },
  {
   "cell_type": "code",
   "execution_count": 17,
   "metadata": {},
   "outputs": [
    {
     "name": "stdout",
     "output_type": "stream",
     "text": [
      "+-------------------+---------+------+-----+-----+----------------+-------------+------+\n",
      "|             tsDate|sessionId|userId|churn|level|            page|itemInSession|status|\n",
      "+-------------------+---------+------+-----+-----+----------------+-------------+------+\n",
      "|2018-10-12 09:48:59|      115|200025|    0| paid|Submit Downgrade|           94|   307|\n",
      "|2018-10-12 09:49:17|      115|200025|    0| free|            Home|           95|   200|\n",
      "+-------------------+---------+------+-----+-----+----------------+-------------+------+\n",
      "\n"
     ]
    }
   ],
   "source": [
    "data.where((data.userId == 200025) & (data.userRowId.isin([86, 87]))).select(cols).show()"
   ]
  },
  {
   "cell_type": "code",
   "execution_count": null,
   "metadata": {},
   "outputs": [],
   "source": [
    "data.where((data.userId == 25) & (data.userRowId.isin([1499, 1500]))).select(cols).show()"
   ]
  },
  {
   "cell_type": "code",
   "execution_count": null,
   "metadata": {},
   "outputs": [],
   "source": [
    "#### Check how many downgraded users keeps Paid level in the last log"
   ]
  },
  {
   "cell_type": "code",
   "execution_count": 20,
   "metadata": {
    "collapsed": true
   },
   "outputs": [
    {
     "data": {
      "text/plain": [
       "['300021',\n",
       " '81',\n",
       " '24',\n",
       " '300011',\n",
       " '100018',\n",
       " '300015',\n",
       " '38',\n",
       " '49',\n",
       " '9',\n",
       " '30',\n",
       " '74',\n",
       " '300002',\n",
       " '61',\n",
       " '96',\n",
       " '35',\n",
       " '300023',\n",
       " '92',\n",
       " '100004',\n",
       " '11',\n",
       " '39',\n",
       " '300004',\n",
       " '13',\n",
       " '200023',\n",
       " '141',\n",
       " '20',\n",
       " '200003',\n",
       " '200019',\n",
       " '100016',\n",
       " '85',\n",
       " '131',\n",
       " '109',\n",
       " '77',\n",
       " '59',\n",
       " '100008',\n",
       " '140',\n",
       " '200025',\n",
       " '200009',\n",
       " '100',\n",
       " '95',\n",
       " '25']"
      ]
     },
     "execution_count": 20,
     "metadata": {},
     "output_type": "execute_result"
    }
   ],
   "source": [
    "downgraded_users = [row.userId for row in data.join(downgraded, \\\n",
    "         (data.userId == downgraded.userId) & (data.userRowId == downgraded.userRowId + 1), \"inner\") \\\n",
    "    .select(data.userId) \\\n",
    "    .collect()]\n",
    "downgraded_users"
   ]
  },
  {
   "cell_type": "code",
   "execution_count": 1630,
   "metadata": {},
   "outputs": [
    {
     "data": {
      "image/png": "[encoded data removed]",
      "text/plain": [
       "<Figure size 504x288 with 1 Axes>"
      ]
     },
     "metadata": {
      "needs_background": "light"
     },
     "output_type": "display_data"
    }
   ],
   "source": [
    "\n",
    "\n",
    "\n",
    "\n",
    "\n",
    "# plot\n",
    "plt.figure(figsize = [7, 4])\n",
    "width =0.35\n",
    "labels = get_categories_list(feature)\n",
    "plt.xticks(range(len(df_log_status_0)), labels)\n",
    "plt.xlabel('Status')\n",
    "plt.ylabel('Share')\n",
    "plt.bar(np.arange(len(df_log_status_0)), df_log_status_0['share'], width=width)\n",
    "plt.bar(np.arange(len(df_log_status_1))+ width, df_log_status_1['share'], width=width)\n",
    "ax = plt.gca()\n",
    "ax.set_title('Churn split by Status');\n",
    "plt.legend(['Active', 'Churned'], loc=2)\n",
    "plt.show()\n",
    "\n",
    "# Result: no split"
   ]
  },
  {
   "cell_type": "markdown",
   "metadata": {},
   "source": [
    "#### NextSong"
   ]
  },
  {
   "cell_type": "code",
   "execution_count": 1631,
   "metadata": {},
   "outputs": [],
   "source": [
    "feature = 'page'"
   ]
  },
  {
   "cell_type": "code",
   "execution_count": 1632,
   "metadata": {},
   "outputs": [
    {
     "name": "stdout",
     "output_type": "stream",
     "text": [
      "+--------------------+\n",
      "|                page|\n",
      "+--------------------+\n",
      "|              Cancel|\n",
      "|    Submit Downgrade|\n",
      "|         Thumbs Down|\n",
      "|                Home|\n",
      "|           Downgrade|\n",
      "|         Roll Advert|\n",
      "|              Logout|\n",
      "|       Save Settings|\n",
      "|Cancellation Conf...|\n",
      "|               About|\n",
      "|            Settings|\n",
      "|     Add to Playlist|\n",
      "|          Add Friend|\n",
      "|            NextSong|\n",
      "|           Thumbs Up|\n",
      "|                Help|\n",
      "|             Upgrade|\n",
      "|               Error|\n",
      "|      Submit Upgrade|\n",
      "+--------------------+\n",
      "\n"
     ]
    }
   ],
   "source": [
    "get_categories(feature).show()"
   ]
  },
  {
   "cell_type": "code",
   "execution_count": 1633,
   "metadata": {},
   "outputs": [],
   "source": [
    "# prepare data\n",
    "df_log_nextSong_0 = calc_log_share(data0, feature)\n",
    "df_log_nextSong_1 = calc_log_share(data1, feature)"
   ]
  },
  {
   "cell_type": "code",
   "execution_count": 1637,
   "metadata": {},
   "outputs": [
    {
     "data": {
      "text/html": [
       "<div>\n",
       "<style scoped>\n",
       "    .dataframe tbody tr th:only-of-type {\n",
       "        vertical-align: middle;\n",
       "    }\n",
       "\n",
       "    .dataframe tbody tr th {\n",
       "        vertical-align: top;\n",
       "    }\n",
       "\n",
       "    .dataframe thead th {\n",
       "        text-align: right;\n",
       "    }\n",
       "</style>\n",
       "<table border=\"1\" class=\"dataframe\">\n",
       "  <thead>\n",
       "    <tr style=\"text-align: right;\">\n",
       "      <th></th>\n",
       "      <th>page</th>\n",
       "      <th>count</th>\n",
       "      <th>share</th>\n",
       "    </tr>\n",
       "  </thead>\n",
       "  <tbody>\n",
       "    <tr>\n",
       "      <th>11</th>\n",
       "      <td>NextSong</td>\n",
       "      <td>191714</td>\n",
       "      <td>0.821784</td>\n",
       "    </tr>\n",
       "  </tbody>\n",
       "</table>\n",
       "</div>"
      ],
      "text/plain": [
       "        page   count     share\n",
       "11  NextSong  191714  0.821784"
      ]
     },
     "execution_count": 1637,
     "metadata": {},
     "output_type": "execute_result"
    }
   ],
   "source": [
    "df_log_nextSong_0[df_log_nextSong_0.page == 'NextSong']"
   ]
  },
  {
   "cell_type": "code",
   "execution_count": 1516,
   "metadata": {},
   "outputs": [
    {
     "name": "stdout",
     "output_type": "stream",
     "text": [
      "+------+------+-------------------+\n",
      "|method| count|              share|\n",
      "+------+------+-------------------+\n",
      "|   PUT|216691| 0.9288482146684385|\n",
      "|   GET| 16599|0.07115178533156158|\n",
      "+------+------+-------------------+\n",
      "\n"
     ]
    }
   ],
   "source": [
    "data0 \\\n",
    "    .groupby('method') \\\n",
    "    .count() \\\n",
    "    .withColumn('share', col('count')/N0) \\\n",
    "    .show()"
   ]
  },
  {
   "cell_type": "code",
   "execution_count": null,
   "metadata": {},
   "outputs": [],
   "source": []
  },
  {
   "cell_type": "code",
   "execution_count": 1488,
   "metadata": {},
   "outputs": [],
   "source": [
    "# Method\n",
    "get_total = udf(lambda x: N0 if x == 0 else N1)\n",
    "df = data.withColumn('total', get_total('churn')) \\\n",
    "    .groupby('churn', 'total', 'method') \\\n",
    "    .count() \\\n",
    "    .withColumn('churnShare', col('count')/col('total')) \\\n",
    "    .drop('total') \\\n",
    "    .sort('churn', 'method') \\\n",
    "    .toPandas()"
   ]
  },
  {
   "cell_type": "code",
   "execution_count": 1496,
   "metadata": {},
   "outputs": [
    {
     "data": {
      "text/html": [
       "<div>\n",
       "<style scoped>\n",
       "    .dataframe tbody tr th:only-of-type {\n",
       "        vertical-align: middle;\n",
       "    }\n",
       "\n",
       "    .dataframe tbody tr th {\n",
       "        vertical-align: top;\n",
       "    }\n",
       "\n",
       "    .dataframe thead th {\n",
       "        text-align: right;\n",
       "    }\n",
       "</style>\n",
       "<table border=\"1\" class=\"dataframe\">\n",
       "  <thead>\n",
       "    <tr style=\"text-align: right;\">\n",
       "      <th></th>\n",
       "      <th>churn</th>\n",
       "      <th>status</th>\n",
       "      <th>count</th>\n",
       "      <th>churnShare</th>\n",
       "    </tr>\n",
       "  </thead>\n",
       "  <tbody>\n",
       "    <tr>\n",
       "      <th>0</th>\n",
       "      <td>0</td>\n",
       "      <td>200</td>\n",
       "      <td>213581</td>\n",
       "      <td>0.915517</td>\n",
       "    </tr>\n",
       "    <tr>\n",
       "      <th>1</th>\n",
       "      <td>0</td>\n",
       "      <td>307</td>\n",
       "      <td>19489</td>\n",
       "      <td>0.083540</td>\n",
       "    </tr>\n",
       "    <tr>\n",
       "      <th>2</th>\n",
       "      <td>0</td>\n",
       "      <td>404</td>\n",
       "      <td>220</td>\n",
       "      <td>0.000943</td>\n",
       "    </tr>\n",
       "    <tr>\n",
       "      <th>3</th>\n",
       "      <td>1</td>\n",
       "      <td>200</td>\n",
       "      <td>41137</td>\n",
       "      <td>0.916927</td>\n",
       "    </tr>\n",
       "    <tr>\n",
       "      <th>4</th>\n",
       "      <td>1</td>\n",
       "      <td>307</td>\n",
       "      <td>3695</td>\n",
       "      <td>0.082360</td>\n",
       "    </tr>\n",
       "    <tr>\n",
       "      <th>5</th>\n",
       "      <td>1</td>\n",
       "      <td>404</td>\n",
       "      <td>32</td>\n",
       "      <td>0.000713</td>\n",
       "    </tr>\n",
       "  </tbody>\n",
       "</table>\n",
       "</div>"
      ],
      "text/plain": [
       "   churn  status   count  churnShare\n",
       "0      0     200  213581    0.915517\n",
       "1      0     307   19489    0.083540\n",
       "2      0     404     220    0.000943\n",
       "3      1     200   41137    0.916927\n",
       "4      1     307    3695    0.082360\n",
       "5      1     404      32    0.000713"
      ]
     },
     "execution_count": 1496,
     "metadata": {},
     "output_type": "execute_result"
    }
   ],
   "source": [
    "# Status\n",
    "get_total = udf(lambda x: N0 if x == 0 else N1)\n",
    "data.withColumn('total', get_total('churn')) \\\n",
    "    .groupby('churn', 'total', 'status') \\\n",
    "    .count() \\\n",
    "    .withColumn('churnShare', col('count')/col('total')) \\\n",
    "    .drop('total') \\\n",
    "    .sort('churn', 'status') \\\n",
    "    .toPandas()"
   ]
  },
  {
   "cell_type": "code",
   "execution_count": 1497,
   "metadata": {},
   "outputs": [
    {
     "data": {
      "text/plain": [
       "1.0"
      ]
     },
     "execution_count": 1497,
     "metadata": {},
     "output_type": "execute_result"
    }
   ],
   "source": [
    "0.915517 + 0.083540 + 0.000943"
   ]
  },
  {
   "cell_type": "code",
   "execution_count": null,
   "metadata": {},
   "outputs": [],
   "source": []
  },
  {
   "cell_type": "code",
   "execution_count": null,
   "metadata": {},
   "outputs": [],
   "source": []
  },
  {
   "cell_type": "code",
   "execution_count": null,
   "metadata": {},
   "outputs": [],
   "source": []
  },
  {
   "cell_type": "code",
   "execution_count": 1474,
   "metadata": {},
   "outputs": [
    {
     "name": "stdout",
     "output_type": "stream",
     "text": [
      "+-----+------+------+\n",
      "|churn|method| count|\n",
      "+-----+------+------+\n",
      "|    0|   GET| 16599|\n",
      "|    0|   PUT|216691|\n",
      "|    1|   GET|  3737|\n",
      "|    1|   PUT| 41127|\n",
      "+-----+------+------+\n",
      "\n"
     ]
    }
   ],
   "source": [
    "data \\\n",
    "    .groupby('churn', 'method') \\\n",
    "    .count() \\\n",
    "    .sort('churn', 'method') \\\n",
    "    .show()"
   ]
  },
  {
   "cell_type": "code",
   "execution_count": null,
   "metadata": {},
   "outputs": [],
   "source": []
  },
  {
   "cell_type": "code",
   "execution_count": null,
   "metadata": {},
   "outputs": [],
   "source": []
  },
  {
   "cell_type": "code",
   "execution_count": null,
   "metadata": {},
   "outputs": [],
   "source": []
  },
  {
   "cell_type": "markdown",
   "metadata": {},
   "source": [
    "### Churn vs page activity"
   ]
  },
  {
   "cell_type": "code",
   "execution_count": 1347,
   "metadata": {},
   "outputs": [],
   "source": [
    "# Prepare dataset\n",
    "def get_df(page):\n",
    "    return data.where(data.page == page) \\\n",
    "        .groupby('userId', 'churn', 'sessionId') \\\n",
    "        .agg(count('sessionId').alias('logCount')) \\\n",
    "        .groupby('userId', 'churn') \\\n",
    "        .agg(avg('logCount').alias(page)) \\\n",
    "        .toPandas()"
   ]
  },
  {
   "cell_type": "code",
   "execution_count": 1384,
   "metadata": {},
   "outputs": [],
   "source": [
    "def get_churn_mean(page):\n",
    "    return data.where(data.page == page) \\\n",
    "        .groupby('userId', 'churn', 'sessionId') \\\n",
    "        .agg(count('sessionId').alias('logCount')) \\\n",
    "        .groupby('userId', 'churn') \\\n",
    "        .agg(avg('logCount').alias(page)) \\\n",
    "        .groupby('churn') \\\n",
    "        .agg(avg(page))"
   ]
  },
  {
   "cell_type": "code",
   "execution_count": 1385,
   "metadata": {},
   "outputs": [
    {
     "name": "stdout",
     "output_type": "stream",
     "text": [
      "+-----+------------------+\n",
      "|churn|     avg(NextSong)|\n",
      "+-----+------------------+\n",
      "|    1|63.537152578095224|\n",
      "|    0| 72.96967249911357|\n",
      "+-----+------------------+\n",
      "\n"
     ]
    }
   ],
   "source": [
    "get_churn_mean('NextSong').show()"
   ]
  },
  {
   "cell_type": "code",
   "execution_count": 1386,
   "metadata": {},
   "outputs": [
    {
     "name": "stdout",
     "output_type": "stream",
     "text": [
      "+-----+------------------+\n",
      "|churn|    avg(Thumbs Up)|\n",
      "+-----+------------------+\n",
      "|    1| 4.279693814443338|\n",
      "|    0|4.9075917705904715|\n",
      "+-----+------------------+\n",
      "\n"
     ]
    }
   ],
   "source": [
    "get_churn_mean('Thumbs Up').show()"
   ]
  },
  {
   "cell_type": "code",
   "execution_count": 1387,
   "metadata": {},
   "outputs": [
    {
     "name": "stdout",
     "output_type": "stream",
     "text": [
      "+-----+------------------+\n",
      "|churn|  avg(Thumbs Down)|\n",
      "+-----+------------------+\n",
      "|    1| 1.838778453300512|\n",
      "|    0|1.8282693906593053|\n",
      "+-----+------------------+\n",
      "\n"
     ]
    }
   ],
   "source": [
    "get_churn_mean('Thumbs Down').show()"
   ]
  },
  {
   "cell_type": "code",
   "execution_count": 1388,
   "metadata": {},
   "outputs": [
    {
     "name": "stdout",
     "output_type": "stream",
     "text": [
      "+-----+--------------------+\n",
      "|churn|avg(Add to Playlist)|\n",
      "+-----+--------------------+\n",
      "|    1|   2.942379760336282|\n",
      "|    0|   3.195701432845371|\n",
      "+-----+--------------------+\n",
      "\n"
     ]
    }
   ],
   "source": [
    "get_churn_mean('Add to Playlist').show()"
   ]
  },
  {
   "cell_type": "code",
   "execution_count": 1389,
   "metadata": {},
   "outputs": [
    {
     "name": "stdout",
     "output_type": "stream",
     "text": [
      "+-----+------------------+\n",
      "|churn|   avg(Add Friend)|\n",
      "+-----+------------------+\n",
      "|    1|  2.63313529904439|\n",
      "|    0|3.0522598254937874|\n",
      "+-----+------------------+\n",
      "\n"
     ]
    }
   ],
   "source": [
    "get_churn_mean('Add Friend').show()"
   ]
  },
  {
   "cell_type": "code",
   "execution_count": 1390,
   "metadata": {},
   "outputs": [
    {
     "name": "stdout",
     "output_type": "stream",
     "text": [
      "+-----+-----------------+\n",
      "|churn| avg(Roll Advert)|\n",
      "+-----+-----------------+\n",
      "|    1|3.730709532297768|\n",
      "|    0|3.097638542563953|\n",
      "+-----+-----------------+\n",
      "\n"
     ]
    }
   ],
   "source": [
    "get_churn_mean('Roll Advert').show()"
   ]
  },
  {
   "cell_type": "code",
   "execution_count": 1400,
   "metadata": {},
   "outputs": [
    {
     "name": "stdout",
     "output_type": "stream",
     "text": [
      "+-----+------------------+\n",
      "|churn|        avg(Error)|\n",
      "+-----+------------------+\n",
      "|    1|1.0681818181818181|\n",
      "|    0|1.1289473684210525|\n",
      "+-----+------------------+\n",
      "\n"
     ]
    }
   ],
   "source": [
    "get_churn_mean('Error').show()"
   ]
  },
  {
   "cell_type": "code",
   "execution_count": 1392,
   "metadata": {},
   "outputs": [],
   "source": [
    "def get_churn_total_mean(page):\n",
    "    return data.where(data.page == page) \\\n",
    "        .groupby('churn', 'userId') \\\n",
    "        .agg(count('churn').alias('logCount')) \\\n",
    "        .groupby('churn') \\\n",
    "        .agg(avg('logCount').alias(page))"
   ]
  },
  {
   "cell_type": "code",
   "execution_count": 1393,
   "metadata": {},
   "outputs": [
    {
     "name": "stdout",
     "output_type": "stream",
     "text": [
      "+-----+------------------+\n",
      "|churn|          NextSong|\n",
      "+-----+------------------+\n",
      "|    1| 699.8846153846154|\n",
      "|    0|1108.1734104046243|\n",
      "+-----+------------------+\n",
      "\n"
     ]
    }
   ],
   "source": [
    "get_churn_total_mean('NextSong').show()"
   ]
  },
  {
   "cell_type": "code",
   "execution_count": 1394,
   "metadata": {},
   "outputs": [
    {
     "name": "stdout",
     "output_type": "stream",
     "text": [
      "+-----+-----------------+\n",
      "|churn|        Thumbs Up|\n",
      "+-----+-----------------+\n",
      "|    1|            37.18|\n",
      "|    0|62.89411764705882|\n",
      "+-----+-----------------+\n",
      "\n"
     ]
    }
   ],
   "source": [
    "get_churn_total_mean('Thumbs Up').show()"
   ]
  },
  {
   "cell_type": "code",
   "execution_count": 1395,
   "metadata": {},
   "outputs": [
    {
     "name": "stdout",
     "output_type": "stream",
     "text": [
      "+-----+------------------+\n",
      "|churn|       Thumbs Down|\n",
      "+-----+------------------+\n",
      "|    1|10.333333333333334|\n",
      "|    0|13.225806451612904|\n",
      "+-----+------------------+\n",
      "\n"
     ]
    }
   ],
   "source": [
    "get_churn_total_mean('Thumbs Down').show()"
   ]
  },
  {
   "cell_type": "code",
   "execution_count": 1396,
   "metadata": {},
   "outputs": [
    {
     "name": "stdout",
     "output_type": "stream",
     "text": [
      "+-----+-----------------+\n",
      "|churn|  Add to Playlist|\n",
      "+-----+-----------------+\n",
      "|    1|            20.76|\n",
      "|    0|33.26060606060606|\n",
      "+-----+-----------------+\n",
      "\n"
     ]
    }
   ],
   "source": [
    "get_churn_total_mean('Add to Playlist').show()"
   ]
  },
  {
   "cell_type": "code",
   "execution_count": 1397,
   "metadata": {},
   "outputs": [
    {
     "name": "stdout",
     "output_type": "stream",
     "text": [
      "+-----+------------------+\n",
      "|churn|        Add Friend|\n",
      "+-----+------------------+\n",
      "|    1|14.454545454545455|\n",
      "|    0| 22.47530864197531|\n",
      "+-----+------------------+\n",
      "\n"
     ]
    }
   ],
   "source": [
    "get_churn_total_mean('Add Friend').show()"
   ]
  },
  {
   "cell_type": "code",
   "execution_count": 1398,
   "metadata": {},
   "outputs": [
    {
     "name": "stdout",
     "output_type": "stream",
     "text": [
      "+-----+-----------------+\n",
      "|churn|      Roll Advert|\n",
      "+-----+-----------------+\n",
      "|    1|            19.34|\n",
      "|    0|18.89171974522293|\n",
      "+-----+-----------------+\n",
      "\n"
     ]
    }
   ],
   "source": [
    "get_churn_total_mean('Roll Advert').show()"
   ]
  },
  {
   "cell_type": "code",
   "execution_count": 1399,
   "metadata": {},
   "outputs": [
    {
     "name": "stdout",
     "output_type": "stream",
     "text": [
      "+-----+------------------+\n",
      "|churn|             Error|\n",
      "+-----+------------------+\n",
      "|    1|1.4545454545454546|\n",
      "|    0|2.3157894736842106|\n",
      "+-----+------------------+\n",
      "\n"
     ]
    }
   ],
   "source": [
    "get_churn_total_mean('Error').show()"
   ]
  },
  {
   "cell_type": "code",
   "execution_count": null,
   "metadata": {},
   "outputs": [],
   "source": []
  },
  {
   "cell_type": "code",
   "execution_count": 1377,
   "metadata": {},
   "outputs": [],
   "source": [
    "def plot_churn(page, kde=False):\n",
    "    df = get_df(page)\n",
    "    plt.figure(figsize=(12, 4))\n",
    "    df_active = df[df.churn == 0][page]\n",
    "    df_churned = df[df.churn == 1][page]\n",
    "    plt.figure(figsize=(15,6));\n",
    "    sb.distplot(df_active, bins=20, label='active', kde=kde);\n",
    "    sb.distplot(df_churned, bins=20, label = 'churned', kde=kde);\n",
    "    plt.xlabel('Average ' + page)\n",
    "    ax = plt.gca()\n",
    "    ax.set_title('Churn vs. Average ' + page);\n",
    "    plt.legend(loc='upper right');\n",
    "    plt.show()"
   ]
  },
  {
   "cell_type": "code",
   "execution_count": 1402,
   "metadata": {},
   "outputs": [
    {
     "data": {
      "text/plain": [
       "<Figure size 864x288 with 0 Axes>"
      ]
     },
     "metadata": {},
     "output_type": "display_data"
    },
    {
     "data": {
      "image/png": "[encoded data removed]",
      "text/plain": [
       "<Figure size 1080x432 with 1 Axes>"
      ]
     },
     "metadata": {
      "needs_background": "light"
     },
     "output_type": "display_data"
    }
   ],
   "source": [
    "plot_churn('NextSong', True)"
   ]
  },
  {
   "cell_type": "code",
   "execution_count": 1361,
   "metadata": {},
   "outputs": [
    {
     "data": {
      "text/plain": [
       "<Figure size 864x288 with 0 Axes>"
      ]
     },
     "metadata": {},
     "output_type": "display_data"
    },
    {
     "data": {
      "image/png": "[encoded data removed]",
      "text/plain": [
       "<Figure size 1080x432 with 1 Axes>"
      ]
     },
     "metadata": {
      "needs_background": "light"
     },
     "output_type": "display_data"
    }
   ],
   "source": [
    "plot_churn('Thumbs Up')"
   ]
  },
  {
   "cell_type": "code",
   "execution_count": 1362,
   "metadata": {},
   "outputs": [
    {
     "data": {
      "text/plain": [
       "<Figure size 864x288 with 0 Axes>"
      ]
     },
     "metadata": {},
     "output_type": "display_data"
    },
    {
     "data": {
      "image/png": "[encoded data removed]",
      "text/plain": [
       "<Figure size 1080x432 with 1 Axes>"
      ]
     },
     "metadata": {
      "needs_background": "light"
     },
     "output_type": "display_data"
    }
   ],
   "source": [
    "plot_churn('Thumbs Down')"
   ]
  },
  {
   "cell_type": "code",
   "execution_count": 1365,
   "metadata": {},
   "outputs": [
    {
     "data": {
      "text/plain": [
       "<Figure size 864x288 with 0 Axes>"
      ]
     },
     "metadata": {},
     "output_type": "display_data"
    },
    {
     "data": {
      "image/png": "[encoded data removed]",
      "text/plain": [
       "<Figure size 1080x432 with 1 Axes>"
      ]
     },
     "metadata": {
      "needs_background": "light"
     },
     "output_type": "display_data"
    }
   ],
   "source": [
    "plot_churn('Add to Playlist')"
   ]
  },
  {
   "cell_type": "code",
   "execution_count": 1366,
   "metadata": {},
   "outputs": [
    {
     "data": {
      "text/plain": [
       "<Figure size 864x288 with 0 Axes>"
      ]
     },
     "metadata": {},
     "output_type": "display_data"
    },
    {
     "data": {
      "image/png": "[encoded data removed]",
      "text/plain": [
       "<Figure size 1080x432 with 1 Axes>"
      ]
     },
     "metadata": {
      "needs_background": "light"
     },
     "output_type": "display_data"
    }
   ],
   "source": [
    "plot_churn('Add Friend')"
   ]
  },
  {
   "cell_type": "code",
   "execution_count": 1368,
   "metadata": {},
   "outputs": [
    {
     "data": {
      "text/plain": [
       "<Figure size 864x288 with 0 Axes>"
      ]
     },
     "metadata": {},
     "output_type": "display_data"
    },
    {
     "data": {
      "image/png": "[encoded data removed]",
      "text/plain": [
       "<Figure size 1080x432 with 1 Axes>"
      ]
     },
     "metadata": {
      "needs_background": "light"
     },
     "output_type": "display_data"
    }
   ],
   "source": [
    "plot_churn('Roll Advert')"
   ]
  },
  {
   "cell_type": "code",
   "execution_count": 1370,
   "metadata": {},
   "outputs": [
    {
     "data": {
      "text/plain": [
       "<Figure size 864x288 with 0 Axes>"
      ]
     },
     "metadata": {},
     "output_type": "display_data"
    },
    {
     "data": {
      "image/png": "[encoded data removed]",
      "text/plain": [
       "<Figure size 1080x432 with 1 Axes>"
      ]
     },
     "metadata": {
      "needs_background": "light"
     },
     "output_type": "display_data"
    }
   ],
   "source": [
    "plot_churn('Save Settings')"
   ]
  },
  {
   "cell_type": "code",
   "execution_count": 1372,
   "metadata": {},
   "outputs": [],
   "source": [
    "df = get_df('Save Settings')"
   ]
  },
  {
   "cell_type": "code",
   "execution_count": null,
   "metadata": {},
   "outputs": [],
   "source": []
  },
  {
   "cell_type": "code",
   "execution_count": 1376,
   "metadata": {},
   "outputs": [
    {
     "data": {
      "text/plain": [
       "<Figure size 864x288 with 0 Axes>"
      ]
     },
     "metadata": {},
     "output_type": "display_data"
    },
    {
     "data": {
      "image/png": "[encoded data removed]",
      "text/plain": [
       "<Figure size 1080x432 with 1 Axes>"
      ]
     },
     "metadata": {
      "needs_background": "light"
     },
     "output_type": "display_data"
    }
   ],
   "source": [
    "    page = 'Save Settings'\n",
    "    kde=False\n",
    "    plt.figure(figsize=(12, 4))\n",
    "    df_active = df[df.churn == 0][page]\n",
    "    df_churned = df[df.churn == 1][page]\n",
    "    plt.figure(figsize=(15,6));\n",
    "    sb.distplot(df_active, bins=20, label='active', kde=kde);\n",
    "    sb.distplot(df_churned, bins=20, label = 'churned', kde=kde);\n",
    "    plt.xlabel('Average ' + page)\n",
    "    ax = plt.gca()\n",
    "    ax.set_title('Churn vs. Average ' + page);\n",
    "    plt.legend(loc='upper right');\n",
    "    plt.show()"
   ]
  },
  {
   "cell_type": "code",
   "execution_count": null,
   "metadata": {},
   "outputs": [],
   "source": []
  },
  {
   "cell_type": "code",
   "execution_count": null,
   "metadata": {},
   "outputs": [],
   "source": []
  },
  {
   "cell_type": "code",
   "execution_count": null,
   "metadata": {},
   "outputs": [],
   "source": []
  },
  {
   "cell_type": "markdown",
   "metadata": {},
   "source": [
    "### Examine Session"
   ]
  },
  {
   "cell_type": "code",
   "execution_count": 1142,
   "metadata": {},
   "outputs": [],
   "source": [
    "cols = ['sessionId', 'itemInSession', 'userId', 'tsDate', 'page']"
   ]
  },
  {
   "cell_type": "code",
   "execution_count": 1143,
   "metadata": {},
   "outputs": [
    {
     "name": "stdout",
     "output_type": "stream",
     "text": [
      "+---------+-------------+------+-------------------+--------+\n",
      "|sessionId|itemInSession|userId|             tsDate|    page|\n",
      "+---------+-------------+------+-------------------+--------+\n",
      "|      149|            0|300009|2018-10-17 11:20:34|NextSong|\n",
      "|      183|            0|300021|2018-10-18 18:50:46|    Help|\n",
      "|      173|            0|300023|2018-10-17 16:12:25|NextSong|\n",
      "|      160|            0|300025|2018-10-17 07:41:52|NextSong|\n",
      "|      178|            0|300021|2018-10-17 17:24:57|    Home|\n",
      "|      138|            0|300001|2018-10-18 01:45:39|    Home|\n",
      "|      179|            0|300009|2018-10-18 17:51:27|NextSong|\n",
      "|      120|            0|300019|2018-10-18 07:24:43|    Home|\n",
      "|      166|            0|300011|2018-10-16 20:07:35|    Home|\n",
      "|       91|            0|300014|2018-10-18 10:46:39|    Home|\n",
      "+---------+-------------+------+-------------------+--------+\n",
      "only showing top 10 rows\n",
      "\n"
     ]
    }
   ],
   "source": [
    "data.select(cols).sort('itemInSession').show(10)"
   ]
  },
  {
   "cell_type": "code",
   "execution_count": 1174,
   "metadata": {},
   "outputs": [
    {
     "name": "stdout",
     "output_type": "stream",
     "text": [
      "+------+---------+-------------------+-------------------+--------+\n",
      "|userId|sessionId|          startDate|            endDate|logCount|\n",
      "+------+---------+-------------------+-------------------+--------+\n",
      "|    10|        9|2018-10-08 04:20:20|2018-10-08 08:16:12|      70|\n",
      "|    10|      595|2018-10-18 05:38:43|2018-10-19 07:26:38|     449|\n",
      "|    10|     1047|2018-10-29 23:02:26|2018-10-30 00:33:51|      25|\n",
      "|    10|     1414|2018-11-03 15:27:42|2018-11-03 19:43:18|      78|\n",
      "|    10|     1592|2018-11-15 20:34:26|2018-11-16 01:26:29|      78|\n",
      "|    10|     1981|2018-11-19 08:14:10|2018-11-19 13:49:48|      95|\n",
      "+------+---------+-------------------+-------------------+--------+\n",
      "\n"
     ]
    }
   ],
   "source": [
    "# Aggregate a given user by session extracting session's startDate, endDate, end log count\n",
    "data.where(data.userId == 10) \\\n",
    "    .groupby('userId', 'sessionId') \\\n",
    "    .agg(min('tsDate').alias('startDate'), max('tsDate').alias('endDate'), count('sessionId').alias('logCount')) \\\n",
    "    .sort('sessionId') \\\n",
    "    .show()"
   ]
  },
  {
   "cell_type": "code",
   "execution_count": 1176,
   "metadata": {
    "collapsed": true
   },
   "outputs": [
    {
     "name": "stdout",
     "output_type": "stream",
     "text": [
      "+------+---------+-----+\n",
      "|userId|sessionId|count|\n",
      "+------+---------+-----+\n",
      "|    92|      358|   73|\n",
      "|    42|      433|   21|\n",
      "|   101|      635|  855|\n",
      "|   120|      627|  261|\n",
      "|   140|      798|    6|\n",
      "|   122|      691|    9|\n",
      "|    29|     1030|   19|\n",
      "|     8|     1200|   18|\n",
      "|    96|     1653|  160|\n",
      "|   153|     1794|   74|\n",
      "|    97|     2019|   84|\n",
      "|    35|     2270|   13|\n",
      "|   110|     1776|   24|\n",
      "|300011|       60|   36|\n",
      "|   137|      136|    7|\n",
      "|    40|      484|   84|\n",
      "|    35|      544|   16|\n",
      "|    24|      620|    8|\n",
      "|    47|       46|    3|\n",
      "|    85|     1098|   89|\n",
      "+------+---------+-----+\n",
      "only showing top 20 rows\n",
      "\n"
     ]
    }
   ],
   "source": [
    "# Churn vs average number of logs per session\n",
    "data.groupby('userId', 'sessionId') \\\n",
    "    .count() \\\n",
    "    .show()"
   ]
  },
  {
   "cell_type": "code",
   "execution_count": 1222,
   "metadata": {},
   "outputs": [],
   "source": [
    "# Churn vs average number of logs per session\n",
    "df = data.groupby('userId', 'sessionId') \\\n",
    "    .count() \\\n",
    "    .groupby('userId') \\\n",
    "    .agg(avg('count').alias('mean')) \\\n",
    "    .toPandas()"
   ]
  },
  {
   "cell_type": "code",
   "execution_count": 1207,
   "metadata": {
    "collapsed": true
   },
   "outputs": [
    {
     "name": "stdout",
     "output_type": "stream",
     "text": [
      "+------+---------+----------------+\n",
      "|userId|sessionId|count(sessionId)|\n",
      "+------+---------+----------------+\n",
      "|    92|      358|              73|\n",
      "|    42|      433|              21|\n",
      "|   101|      635|             855|\n",
      "|   120|      627|             261|\n",
      "|   140|      798|               6|\n",
      "|   122|      691|               9|\n",
      "|    29|     1030|              19|\n",
      "|     8|     1200|              18|\n",
      "|    96|     1653|             160|\n",
      "|   153|     1794|              74|\n",
      "|    97|     2019|              84|\n",
      "|    35|     2270|              13|\n",
      "|   110|     1776|              24|\n",
      "|300011|       60|              36|\n",
      "|   137|      136|               7|\n",
      "|    40|      484|              84|\n",
      "|    35|      544|              16|\n",
      "|    24|      620|               8|\n",
      "|    47|       46|               3|\n",
      "|    85|     1098|              89|\n",
      "+------+---------+----------------+\n",
      "only showing top 20 rows\n",
      "\n"
     ]
    }
   ],
   "source": [
    "# Log count per user-session\n",
    "df = data.groupby('userId', 'sessionId') \\\n",
    "    .agg(count('sessionId')) \\\n",
    "    .show()"
   ]
  },
  {
   "cell_type": "code",
   "execution_count": 1214,
   "metadata": {
    "collapsed": true
   },
   "outputs": [
    {
     "name": "stdout",
     "output_type": "stream",
     "text": [
      "+------+---------+-----+--------+\n",
      "|userId|sessionId|churn|logCount|\n",
      "+------+---------+-----+--------+\n",
      "|    92|      358|    0|      73|\n",
      "|    42|      433|    0|      21|\n",
      "|   101|      635|    1|     855|\n",
      "|   120|      627|    0|     261|\n",
      "|   140|      798|    0|       6|\n",
      "|   122|      691|    1|       9|\n",
      "|    29|     1030|    1|      19|\n",
      "|     8|     1200|    0|      18|\n",
      "|    96|     1653|    0|     160|\n",
      "|   153|     1794|    0|      74|\n",
      "|    97|     2019|    0|      84|\n",
      "|    35|     2270|    0|      13|\n",
      "|   110|     1776|    0|      24|\n",
      "|300011|       60|    0|      36|\n",
      "|   137|      136|    0|       7|\n",
      "|    40|      484|    0|      84|\n",
      "|    35|      544|    0|      16|\n",
      "|    24|      620|    0|       8|\n",
      "|    47|       46|    0|       3|\n",
      "|    85|     1098|    0|      89|\n",
      "+------+---------+-----+--------+\n",
      "only showing top 20 rows\n",
      "\n"
     ]
    }
   ],
   "source": [
    "# Log count per user-session\n",
    "data.groupby('userId', 'sessionId') \\\n",
    "    .agg(min('churn').alias('churn'), count('sessionId').alias('logCount')) \\\n",
    "    .show()"
   ]
  },
  {
   "cell_type": "markdown",
   "metadata": {},
   "source": [
    "### Session Activity"
   ]
  },
  {
   "cell_type": "code",
   "execution_count": 1330,
   "metadata": {},
   "outputs": [],
   "source": [
    "# Prepare dataset\n",
    "df = data.groupby('userId', 'churn', 'sessionId') \\\n",
    "    .agg(count('sessionId').alias('logCount'), ((max('ts') - min('ts'))/60000.0).alias('duration')) \\\n",
    "    .groupby('userId', 'churn') \\\n",
    "    .agg(avg('logCount').alias('avgLogsPerSession'), \\\n",
    "         avg('duration').alias('avgDurationPerSession')) \\\n",
    "    .toPandas()"
   ]
  },
  {
   "cell_type": "markdown",
   "metadata": {},
   "source": [
    "#### Average logs per session "
   ]
  },
  {
   "cell_type": "code",
   "execution_count": 1333,
   "metadata": {},
   "outputs": [
    {
     "data": {
      "image/png": "[encoded data removed]",
      "text/plain": [
       "<Figure size 864x288 with 1 Axes>"
      ]
     },
     "metadata": {
      "needs_background": "light"
     },
     "output_type": "display_data"
    }
   ],
   "source": [
    "plt.figure(figsize=(12, 4))\n",
    "plt.hist(df[df.churn == 0]['avgLogsPerSession'], alpha = 0.5, label=\"churned\", bins = 20)\n",
    "plt.hist(df[df.churn == 1]['avgLogsPerSession'], alpha = 0.5, label=\"active\", bins = 20)\n",
    "plt.xlabel('Average logs')\n",
    "ax = plt.gca()\n",
    "ax.set_title('Churn vs. Average logs per user session');\n",
    "plt.legend(loc='upper right')\n",
    "plt.show()"
   ]
  },
  {
   "cell_type": "markdown",
   "metadata": {},
   "source": [
    "#### Average duration per session "
   ]
  },
  {
   "cell_type": "code",
   "execution_count": 1335,
   "metadata": {},
   "outputs": [
    {
     "data": {
      "image/png": "[encoded data removed]",
      "text/plain": [
       "<Figure size 864x288 with 1 Axes>"
      ]
     },
     "metadata": {
      "needs_background": "light"
     },
     "output_type": "display_data"
    }
   ],
   "source": [
    "plt.figure(figsize=(12, 4))\n",
    "plt.hist(df[df.churn == 0]['avgDurationPerSession'], alpha = 0.5, label=\"churned\", bins = 20)\n",
    "plt.hist(df[df.churn == 1]['avgDurationPerSession'], alpha = 0.5, label=\"active\", bins = 20)\n",
    "plt.xlabel('Average Duration')\n",
    "ax = plt.gca()\n",
    "ax.set_title('Churn vs. Average duration per user session');\n",
    "plt.legend(loc='upper right')\n",
    "plt.show()"
   ]
  },
  {
   "cell_type": "markdown",
   "metadata": {},
   "source": [
    "### 1st Level Aggregation: by churn"
   ]
  },
  {
   "cell_type": "markdown",
   "metadata": {},
   "source": [
    "count: *gender*, *level*, *state*\n",
    "avg: *logCount*, *duration*, **  "
   ]
  },
  {
   "cell_type": "code",
   "execution_count": null,
   "metadata": {},
   "outputs": [],
   "source": []
  },
  {
   "cell_type": "code",
   "execution_count": null,
   "metadata": {},
   "outputs": [],
   "source": [
    "agg1 = data \\\n",
    "    .groupby('churn')\n",
    "    .agg()"
   ]
  },
  {
   "cell_type": "code",
   "execution_count": 1403,
   "metadata": {},
   "outputs": [
    {
     "name": "stdout",
     "output_type": "stream",
     "text": [
      "root\n",
      " |-- artist: string (nullable = true)\n",
      " |-- auth: string (nullable = true)\n",
      " |-- gender: string (nullable = true)\n",
      " |-- itemInSession: long (nullable = true)\n",
      " |-- length: double (nullable = true)\n",
      " |-- level: string (nullable = true)\n",
      " |-- page: string (nullable = true)\n",
      " |-- registration: long (nullable = true)\n",
      " |-- sessionId: long (nullable = true)\n",
      " |-- song: string (nullable = true)\n",
      " |-- status: long (nullable = true)\n",
      " |-- ts: long (nullable = true)\n",
      " |-- userAgent: string (nullable = true)\n",
      " |-- userId: string (nullable = true)\n",
      " |-- regDate: timestamp (nullable = true)\n",
      " |-- tsDate: timestamp (nullable = true)\n",
      " |-- city: string (nullable = true)\n",
      " |-- state: string (nullable = true)\n",
      " |-- churn: integer (nullable = true)\n",
      "\n"
     ]
    }
   ],
   "source": [
    "data.printSchema()"
   ]
  },
  {
   "cell_type": "code",
   "execution_count": null,
   "metadata": {},
   "outputs": [],
   "source": [
    "# Prepare dataset\n",
    "df = data.groupby('userId', 'churn', 'sessionId') \\\n",
    "    .agg(count('sessionId').alias('logCount'), ((max('ts') - min('ts'))/60000.0).alias('duration')) \\\n",
    "    .groupby('userId', 'churn') \\\n",
    "    .agg(avg('logCount').alias('avgLogsPerSession'), \\\n",
    "         avg('duration').alias('avgDurationPerSession')) \\\n",
    "    .toPandas()"
   ]
  },
  {
   "cell_type": "code",
   "execution_count": null,
   "metadata": {},
   "outputs": [],
   "source": []
  },
  {
   "cell_type": "code",
   "execution_count": 1411,
   "metadata": {},
   "outputs": [
    {
     "name": "stdout",
     "output_type": "stream",
     "text": [
      "root\n",
      " |-- artist: string (nullable = true)\n",
      " |-- auth: string (nullable = true)\n",
      " |-- gender: string (nullable = true)\n",
      " |-- itemInSession: long (nullable = true)\n",
      " |-- length: double (nullable = true)\n",
      " |-- level: string (nullable = true)\n",
      " |-- page: string (nullable = true)\n",
      " |-- registration: long (nullable = true)\n",
      " |-- sessionId: long (nullable = true)\n",
      " |-- song: string (nullable = true)\n",
      " |-- status: long (nullable = true)\n",
      " |-- ts: long (nullable = true)\n",
      " |-- userAgent: string (nullable = true)\n",
      " |-- userId: string (nullable = true)\n",
      " |-- regDate: timestamp (nullable = true)\n",
      " |-- tsDate: timestamp (nullable = true)\n",
      " |-- city: string (nullable = true)\n",
      " |-- state: string (nullable = true)\n",
      " |-- churn: integer (nullable = true)\n",
      "\n"
     ]
    }
   ],
   "source": [
    "data.printSchema()"
   ]
  },
  {
   "cell_type": "code",
   "execution_count": null,
   "metadata": {},
   "outputs": [],
   "source": []
  },
  {
   "cell_type": "code",
   "execution_count": null,
   "metadata": {},
   "outputs": [],
   "source": []
  },
  {
   "cell_type": "markdown",
   "metadata": {},
   "source": [
    "### Window Function"
   ]
  },
  {
   "cell_type": "code",
   "execution_count": 496,
   "metadata": {},
   "outputs": [],
   "source": [
    "from pyspark.sql.functions import row_number\n",
    "\n",
    "data2 = data.select('userId', 'regDate', 'sessionId', 'tsDate', 'auth', 'level', 'page', 'status',\n",
    "        row_number().over(w).alias(\"rown\"))"
   ]
  },
  {
   "cell_type": "code",
   "execution_count": 530,
   "metadata": {},
   "outputs": [
    {
     "data": {
      "text/plain": [
       "67"
      ]
     },
     "execution_count": 530,
     "metadata": {},
     "output_type": "execute_result"
    }
   ],
   "source": [
    "# GET CHURNED USERS\n",
    "users = data \\\n",
    "    .where(data.page.isin(['Submit Downgrade', 'Cancellation Confirmation'])) \\\n",
    "    .select('userId') \\\n",
    "    .dropDuplicates() \\\n",
    "    .collect()\n",
    "\n",
    "# list of userIds\n",
    "uids = [x.userId for x in users];\n",
    "\n",
    "# Window\n",
    "w =  Window.partitionBy(data.userId).orderBy(col('ts').desc())\n",
    "data2 = data.select('userId', 'regDate', 'sessionId', 'tsDate', 'auth', 'level', 'page', 'status',\n",
    "        row_number().over(w).alias(\"rown\"))\n",
    "    \n",
    "# final query\n",
    "data2 \\\n",
    "    .where(data2.rown == 1) \\\n",
    "    .where(data2.userId.isin(uids)) \\\n",
    "    .where((data2.level == 'free') | (data2.page == 'Cancellation Confirmation')) \\\n",
    "    .count()\n",
    "\n"
   ]
  },
  {
   "cell_type": "code",
   "execution_count": null,
   "metadata": {},
   "outputs": [],
   "source": [
    "overUser = window.partitionBy('userId')\n",
    "w = data.withColumn(\n",
    "  \"rown\", array_contains('userId', 'tsDate', 'auth', 'level', 'page', 'status') over overUser).withColumn(\n",
    "  \"total_salary_in_dep\", sum('salary) over overCategory)\n",
    "df.show()"
   ]
  },
  {
   "cell_type": "code",
   "execution_count": null,
   "metadata": {},
   "outputs": [],
   "source": []
  },
  {
   "cell_type": "code",
   "execution_count": 1195,
   "metadata": {},
   "outputs": [
    {
     "data": {
      "text/plain": [
       "<matplotlib.axes._subplots.AxesSubplot at 0x21dcc15ca20>"
      ]
     },
     "execution_count": 1195,
     "metadata": {},
     "output_type": "execute_result"
    },
    {
     "data": {
      "image/png": "[encoded data removed]",
      "text/plain": [
       "<Figure size 1080x432 with 1 Axes>"
      ]
     },
     "metadata": {
      "needs_background": "light"
     },
     "output_type": "display_data"
    }
   ],
   "source": [
    "df = data.groupby('sessionId') \\\n",
    "    .agg(((max('ts') - min('ts'))/60000).alias('duration')) \\\n",
    "    .select('sessionId', round(col('duration'), 1).alias('duration')) \\\n",
    "    .toPandas()\n",
    "plt.figure(figsize=(15,6))\n",
    "sb.distplot(df['sessionId'], bins=40)"
   ]
  },
  {
   "cell_type": "markdown",
   "metadata": {},
   "source": [
    "# Feature Engineering\n",
    "Once you've familiarized yourself with the data, build out the features you find promising to train your model on. To work with the full dataset, you can follow the following steps.\n",
    "- Write a script to extract the necessary features from the smaller subset of data\n",
    "- Ensure that your script is scalable, using the best practices discussed in Lesson 3\n",
    "- Try your script on the full data set, debugging your script if necessary\n",
    "\n",
    "If you are working in the classroom workspace, you can just extract features based on the small subset of data contained here. Be sure to transfer over this work to the larger dataset when you work on your Spark cluster."
   ]
  },
  {
   "cell_type": "code",
   "execution_count": null,
   "metadata": {},
   "outputs": [],
   "source": []
  },
  {
   "cell_type": "markdown",
   "metadata": {},
   "source": [
    "# Modeling\n",
    "Split the full dataset into train, test, and validation sets. Test out several of the machine learning methods you learned. Evaluate the accuracy of the various models, tuning parameters as necessary. Determine your winning model based on test accuracy and report results on the validation set. Since the churned users are a fairly small subset, I suggest using F1 score as the metric to optimize."
   ]
  },
  {
   "cell_type": "code",
   "execution_count": null,
   "metadata": {},
   "outputs": [],
   "source": []
  },
  {
   "cell_type": "markdown",
   "metadata": {},
   "source": [
    "# Final Steps\n",
    "Clean up your code, adding comments and renaming variables to make the code easier to read and maintain. Refer to the Spark Project Overview page and Data Scientist Capstone Project Rubric to make sure you are including all components of the capstone project and meet all expectations. Remember, this includes thorough documentation in a README file in a Github repository, as well as a web app or blog post."
   ]
  },
  {
   "cell_type": "code",
   "execution_count": null,
   "metadata": {},
   "outputs": [],
   "source": []
  }
 ],
 "metadata": {
  "kernelspec": {
   "display_name": "Python 3",
   "language": "python",
   "name": "python3"
  },
  "language_info": {
   "codemirror_mode": {
    "name": "ipython",
    "version": 3
   },
   "file_extension": ".py",
   "mimetype": "text/x-python",
   "name": "python",
   "nbconvert_exporter": "python",
   "pygments_lexer": "ipython3",
   "version": "3.6.8"
  }
 },
 "nbformat": 4,
 "nbformat_minor": 2
}
