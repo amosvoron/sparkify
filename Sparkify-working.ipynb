{
 "cells": [
  {
   "cell_type": "markdown",
   "metadata": {},
   "source": [
    "# Sparkify Project Workspace\n",
    "This workspace contains a tiny subset (128MB) of the full dataset available (12GB). Feel free to use this workspace to build your project, or to explore a smaller subset with Spark before deploying your cluster on the cloud. Instructions for setting up your Spark cluster is included in the last lesson of the Extracurricular Spark Course content.\n",
    "\n",
    "You can follow the steps below to guide your data analysis and model building portion of this project."
   ]
  },
  {
   "cell_type": "code",
   "execution_count": 32,
   "metadata": {},
   "outputs": [],
   "source": [
    "# import libraries\n",
    "from pyspark.sql import SparkSession\n",
    "from pyspark.sql.functions import isnan, count, when, col, desc, udf, col, sort_array, asc, countDistinct, \\\n",
    "    min, max, avg, split, round, lit, row_number\n",
    "from pyspark.sql.functions import sum as Fsum\n",
    "from pyspark.sql.window import Window\n",
    "\n",
    "from pyspark.sql.types import IntegerType, TimestampType, BooleanType\n",
    "import datetime\n",
    "from pyspark.sql.functions import year, month, dayofmonth, substring\n",
    "\n",
    "import numpy as np\n",
    "import pandas as pd\n",
    "%matplotlib inline\n",
    "import matplotlib.pyplot as plt\n",
    "import seaborn as sb"
   ]
  },
  {
   "cell_type": "code",
   "execution_count": 2,
   "metadata": {
    "collapsed": true
   },
   "outputs": [],
   "source": [
    "# Create a Spark session\n",
    "spark = SparkSession \\\n",
    "    .builder \\\n",
    "    .appName(\"Sparkify\") \\\n",
    "    .getOrCreate()"
   ]
  },
  {
   "cell_type": "markdown",
   "metadata": {},
   "source": [
    "### Common Functions"
   ]
  },
  {
   "cell_type": "code",
   "execution_count": 12,
   "metadata": {
    "collapsed": true
   },
   "outputs": [],
   "source": [
    "# Set plot's figure size\n",
    "def set_plot_size(width, height):\n",
    "    return plt.figure(figsize = [width, height]);\n",
    "\n",
    "def get_user_logs(userId, sessionId=None):\n",
    "    if sessionId == None:\n",
    "        return data.where(data.userId == userId) \\\n",
    "            .select('tsDate', 'userId', 'sessionId', 'itemInSession', 'level', 'page') \\\n",
    "            .sort('tsDate', 'itemInSession')\n",
    "    else:\n",
    "        return data.where((data.userId == userId) & (data.sessionId == sessionId)) \\\n",
    "            .select('tsDate', 'userId', 'sessionId', 'itemInSession', 'level', 'page') \\\n",
    "            .sort('tsDate', 'itemInSession')"
   ]
  },
  {
   "cell_type": "markdown",
   "metadata": {},
   "source": [
    "# Load and prepare Dataset\n",
    "In this workspace, the mini-dataset file is `mini_sparkify_event_data.json`. Load and clean the dataset, checking for invalid or missing data - for example, records without userids or sessionids. "
   ]
  },
  {
   "cell_type": "code",
   "execution_count": 13,
   "metadata": {
    "collapsed": true
   },
   "outputs": [],
   "source": [
    "path = \"data/mini_sparkify_event_data.json\"\n",
    "data = spark.read.json(path)"
   ]
  },
  {
   "cell_type": "code",
   "execution_count": 16,
   "metadata": {},
   "outputs": [
    {
     "data": {
      "text/plain": [
       "67"
      ]
     },
     "execution_count": 16,
     "metadata": {},
     "output_type": "execute_result"
    }
   ],
   "source": [
    "# Load dataset\n",
    "path = \"data/mini_sparkify_event_data.json\"\n",
    "data = spark.read.json(path)\n",
    "original_count = data.count()\n",
    "\n",
    "# Remove rows with missing users\n",
    "data = data.where(~((col('userId').isNull()) | (col('userId') == '')))\n",
    "\n",
    "# Exclude non-relevant columns\n",
    "data = data.drop('firstName')\n",
    "data = data.drop('lastName')\n",
    "#data = data.drop('method')\n",
    "\n",
    "data = data.withColumn('regDate', (col('registration') / 1000.0).cast(TimestampType()))\n",
    "data = data.withColumn('tsDate', (col('ts') / 1000.0).cast(TimestampType()))\n",
    "data.take(1)\n",
    "\n",
    "data = data.withColumn('city', split(data['location'], ',')[0])\n",
    "data = data.withColumn('state', split(data['location'], ',')[1])\n",
    "data = data.drop('location')\n",
    "\n",
    "# Define churned users using Cancellation Confirmation event (canceled)\n",
    "query_churn_by_cc = data.where(data.page == 'Cancellation Confirmation')\n",
    "print(f'Churned users who cancelled subscription: {query_churn_by_cc.count()}')\n",
    "\n",
    "# Label churned (canceled) users\n",
    "canceled = query_churn_by_cc.select('userId').dropDuplicates().select('userId')\n",
    "canceled_uids = [row.userId for row in canceled.collect()];\n",
    "set_churn = udf(lambda x: 1 if x in canceled_uids else 0, IntegerType())\n",
    "data = data.withColumn('churn', set_churn('userId'))\n",
    "\n",
    "# Add [userRowId] column that assigns a 1-based index to every user's log ordered by [ts]\n",
    "w =  Window.partitionBy(data.userId).orderBy('ts', 'itemInSession')\n",
    "data = data.withColumn('userRowId', row_number().over(w))\n",
    "\n",
    "# Add [userRowDescId] column that assigns a 1-based index to every user's log ordered by [ts] descending.\n",
    "w =  Window.partitionBy(data.userId).orderBy(col('ts').desc(), col('itemInSession').desc())\n",
    "data = data.withColumn('userRowDescId', row_number().over(w))\n",
    "\n",
    "# Add last level column\n",
    "last_levels = dict()\n",
    "for row in data.where(data.userRowDescId == 1).select('userId', 'level').collect():\n",
    "    last_levels[row.userId] = row.level\n",
    "get_level = udf(lambda userId: last_levels[userId])\n",
    "data = data.withColumn('lastLevel', get_level('userId'))\n",
    "\n",
    "# Query churned users by downgrade event\n",
    "downgraded = data.where((data.churn == 0) \\\n",
    "           & (data.page == 'Submit Downgrade') \\\n",
    "           & (data.lastLevel == 'free')) \\\n",
    "    .select('userId') \\\n",
    "    .dropDuplicates()\n",
    "\n",
    "# Label downgraded users (churn=1)\n",
    "uids = [row.userId for row in downgraded.collect()]\n",
    "set_churn = udf(lambda userId, churn: 1 if userId in uids else churn, IntegerType())\n",
    "data = data.withColumn('churn', set_churn('userId', 'churn'))\n",
    "\n",
    "data.printSchema()\n",
    "data.take(3)\n",
    "\n",
    "# check count of churned users\n",
    "data.where(data.churn == 1).select('userId').dropDuplicates().count()"
   ]
  },
  {
   "cell_type": "markdown",
   "metadata": {},
   "source": [
    "### User level"
   ]
  },
  {
   "cell_type": "markdown",
   "metadata": {},
   "source": [
    "#### User-Time: *Level*"
   ]
  },
  {
   "cell_type": "code",
   "execution_count": 24,
   "metadata": {
    "collapsed": true
   },
   "outputs": [
    {
     "data": {
      "text/plain": [
       "[Row(artist=None, auth='Logged In', gender='F', itemInSession=34, length=None, level='free', method='PUT', page='Logout', registration=1538016340000, sessionId=187, song=None, status=307, ts=1542823952000, userAgent='\"Mozilla/5.0 (iPhone; CPU iPhone OS 7_1_2 like Mac OS X) AppleWebKit/537.51.2 (KHTML, like Gecko) Version/7.0 Mobile/11D257 Safari/9537.53\"', userId='100010', regDate=datetime.datetime(2018, 9, 27, 4, 45, 40), tsDate=datetime.datetime(2018, 11, 21, 19, 12, 32), city='Bridgeport-Stamford-Norwalk', state=' CT', churn=0, userRowId=381, userRowDescId=1, lastLevel='free', tsYear=2018, tsMonth=11, tsDay=21),\n",
       " Row(artist='Lily Allen', auth='Logged In', gender='F', itemInSession=33, length=185.25995, level='free', method='PUT', page='NextSong', registration=1538016340000, sessionId=187, song='22', status=200, ts=1542823951000, userAgent='\"Mozilla/5.0 (iPhone; CPU iPhone OS 7_1_2 like Mac OS X) AppleWebKit/537.51.2 (KHTML, like Gecko) Version/7.0 Mobile/11D257 Safari/9537.53\"', userId='100010', regDate=datetime.datetime(2018, 9, 27, 4, 45, 40), tsDate=datetime.datetime(2018, 11, 21, 19, 12, 31), city='Bridgeport-Stamford-Norwalk', state=' CT', churn=0, userRowId=380, userRowDescId=2, lastLevel='free', tsYear=2018, tsMonth=11, tsDay=21),\n",
       " Row(artist='John Waite', auth='Logged In', gender='F', itemInSession=32, length=269.76608, level='free', method='PUT', page='NextSong', registration=1538016340000, sessionId=187, song='Missing You', status=200, ts=1542823682000, userAgent='\"Mozilla/5.0 (iPhone; CPU iPhone OS 7_1_2 like Mac OS X) AppleWebKit/537.51.2 (KHTML, like Gecko) Version/7.0 Mobile/11D257 Safari/9537.53\"', userId='100010', regDate=datetime.datetime(2018, 9, 27, 4, 45, 40), tsDate=datetime.datetime(2018, 11, 21, 19, 8, 2), city='Bridgeport-Stamford-Norwalk', state=' CT', churn=0, userRowId=379, userRowDescId=3, lastLevel='free', tsYear=2018, tsMonth=11, tsDay=21),\n",
       " Row(artist='Hermano', auth='Logged In', gender='F', itemInSession=31, length=115.90485, level='free', method='PUT', page='NextSong', registration=1538016340000, sessionId=187, song='Letters From Madrid', status=200, ts=1542823567000, userAgent='\"Mozilla/5.0 (iPhone; CPU iPhone OS 7_1_2 like Mac OS X) AppleWebKit/537.51.2 (KHTML, like Gecko) Version/7.0 Mobile/11D257 Safari/9537.53\"', userId='100010', regDate=datetime.datetime(2018, 9, 27, 4, 45, 40), tsDate=datetime.datetime(2018, 11, 21, 19, 6, 7), city='Bridgeport-Stamford-Norwalk', state=' CT', churn=0, userRowId=378, userRowDescId=4, lastLevel='free', tsYear=2018, tsMonth=11, tsDay=21),\n",
       " Row(artist=None, auth='Logged In', gender='F', itemInSession=30, length=None, level='free', method='GET', page='Roll Advert', registration=1538016340000, sessionId=187, song=None, status=200, ts=1542823257000, userAgent='\"Mozilla/5.0 (iPhone; CPU iPhone OS 7_1_2 like Mac OS X) AppleWebKit/537.51.2 (KHTML, like Gecko) Version/7.0 Mobile/11D257 Safari/9537.53\"', userId='100010', regDate=datetime.datetime(2018, 9, 27, 4, 45, 40), tsDate=datetime.datetime(2018, 11, 21, 19, 0, 57), city='Bridgeport-Stamford-Norwalk', state=' CT', churn=0, userRowId=377, userRowDescId=5, lastLevel='free', tsYear=2018, tsMonth=11, tsDay=21)]"
      ]
     },
     "execution_count": 24,
     "metadata": {},
     "output_type": "execute_result"
    }
   ],
   "source": [
    "# Add Year, Month, Day columns\n",
    "data = data.withColumn('tsYear', year('tsDate')) \\\n",
    "    .withColumn('tsMonth', month('tsDate')) \\\n",
    "    .withColumn('tsDay', dayofmonth('tsDate'))\n",
    "data.take(1)"
   ]
  },
  {
   "cell_type": "code",
   "execution_count": 96,
   "metadata": {},
   "outputs": [],
   "source": [
    "# Export user-time-level data to pandas\n",
    "df = data.select('userId', col('tsMonth').alias('month'), col('tsDay').alias('day'), 'level') \\\n",
    "         .dropDuplicates() \\\n",
    "         .toPandas()"
   ]
  },
  {
   "cell_type": "code",
   "execution_count": 215,
   "metadata": {},
   "outputs": [],
   "source": [
    "extracted = data \\\n",
    "    .groupby('userId', 'tsMonth', 'tsDay') \\\n",
    "    .agg(max('userRowId').alias('rowid')) \\\n",
    "    .select(col('userId').alias('uid'), col('tsMonth').alias('month'), col('tsDay').alias('day'), 'rowid')"
   ]
  },
  {
   "cell_type": "code",
   "execution_count": 216,
   "metadata": {},
   "outputs": [
    {
     "name": "stdout",
     "output_type": "stream",
     "text": [
      "+------+-----+---+-----+\n",
      "|   uid|month|day|rowid|\n",
      "+------+-----+---+-----+\n",
      "|100010|   10|  8|   40|\n",
      "|100010|   10| 15|   49|\n",
      "|100010|   10| 16|  104|\n",
      "|100010|   10| 20|  164|\n",
      "|100010|   11|  5|  236|\n",
      "+------+-----+---+-----+\n",
      "only showing top 5 rows\n",
      "\n"
     ]
    }
   ],
   "source": [
    "extracted.show(5)"
   ]
  },
  {
   "cell_type": "code",
   "execution_count": 195,
   "metadata": {},
   "outputs": [
    {
     "data": {
      "text/plain": [
       "[Row(userId='100', tsMonth=10, tsDay=26, maxUserRowId=1247, artist=None, auth='Logged In', gender='M', itemInSession=30, length=None, level='paid', method='PUT', page='Logout', registration=1537982255000, sessionId=1279, song=None, status=307, ts=1540549586000, userAgent='Mozilla/5.0 (Windows NT 6.1; WOW64; rv:30.0) Gecko/20100101 Firefox/30.0', userId='100', regDate=datetime.datetime(2018, 9, 26, 19, 17, 35), tsDate=datetime.datetime(2018, 10, 26, 12, 26, 26), city='Dallas-Fort Worth-Arlington', state=' TX', churn=0, userRowId=1247, userRowDescId=1968, lastLevel='paid', tsYear=2018, tsMonth=10, tsDay=26),\n",
       " Row(userId='100', tsMonth=11, tsDay=30, maxUserRowId=3214, artist=None, auth='Logged In', gender='M', itemInSession=92, length=None, level='paid', method='GET', page='Home', registration=1537982255000, sessionId=2428, song=None, status=200, ts=1543587349000, userAgent='Mozilla/5.0 (Windows NT 6.1; WOW64; rv:30.0) Gecko/20100101 Firefox/30.0', userId='100', regDate=datetime.datetime(2018, 9, 26, 19, 17, 35), tsDate=datetime.datetime(2018, 11, 30, 15, 15, 49), city='Dallas-Fort Worth-Arlington', state=' TX', churn=0, userRowId=3214, userRowDescId=1, lastLevel='paid', tsYear=2018, tsMonth=11, tsDay=30)]"
      ]
     },
     "execution_count": 195,
     "metadata": {},
     "output_type": "execute_result"
    }
   ],
   "source": [
    "extracted \\\n",
    "    .join(data, (extracted.userId == data.userId) & (extracted.maxUserRowId == data.userRowId), how='inner') \\\n",
    "    .take(2)"
   ]
  },
  {
   "cell_type": "code",
   "execution_count": 222,
   "metadata": {},
   "outputs": [],
   "source": [
    "# Export user-time-level data to pandas\n",
    "# Note: if a user has more than 1 different level per day, then we take the last level\n",
    "df = extracted \\\n",
    "    .join(data, (extracted.uid == data.userId) & (extracted.rowid == data.userRowId), how='inner') \\\n",
    "    .select(data.userId, extracted.month, extracted.day, data.level) \\\n",
    "    .toPandas()"
   ]
  },
  {
   "cell_type": "code",
   "execution_count": 223,
   "metadata": {},
   "outputs": [
    {
     "data": {
      "text/html": [
       "<div>\n",
       "<style scoped>\n",
       "    .dataframe tbody tr th:only-of-type {\n",
       "        vertical-align: middle;\n",
       "    }\n",
       "\n",
       "    .dataframe tbody tr th {\n",
       "        vertical-align: top;\n",
       "    }\n",
       "\n",
       "    .dataframe thead th {\n",
       "        text-align: right;\n",
       "    }\n",
       "</style>\n",
       "<table border=\"1\" class=\"dataframe\">\n",
       "  <thead>\n",
       "    <tr style=\"text-align: right;\">\n",
       "      <th></th>\n",
       "      <th>userId</th>\n",
       "      <th>month</th>\n",
       "      <th>day</th>\n",
       "      <th>level</th>\n",
       "    </tr>\n",
       "  </thead>\n",
       "  <tbody>\n",
       "    <tr>\n",
       "      <th>0</th>\n",
       "      <td>100</td>\n",
       "      <td>10</td>\n",
       "      <td>26</td>\n",
       "      <td>paid</td>\n",
       "    </tr>\n",
       "    <tr>\n",
       "      <th>1</th>\n",
       "      <td>100</td>\n",
       "      <td>11</td>\n",
       "      <td>30</td>\n",
       "      <td>paid</td>\n",
       "    </tr>\n",
       "    <tr>\n",
       "      <th>2</th>\n",
       "      <td>100015</td>\n",
       "      <td>10</td>\n",
       "      <td>1</td>\n",
       "      <td>free</td>\n",
       "    </tr>\n",
       "    <tr>\n",
       "      <th>3</th>\n",
       "      <td>100018</td>\n",
       "      <td>10</td>\n",
       "      <td>15</td>\n",
       "      <td>free</td>\n",
       "    </tr>\n",
       "    <tr>\n",
       "      <th>4</th>\n",
       "      <td>153</td>\n",
       "      <td>11</td>\n",
       "      <td>12</td>\n",
       "      <td>paid</td>\n",
       "    </tr>\n",
       "  </tbody>\n",
       "</table>\n",
       "</div>"
      ],
      "text/plain": [
       "   userId  month  day level\n",
       "0     100     10   26  paid\n",
       "1     100     11   30  paid\n",
       "2  100015     10    1  free\n",
       "3  100018     10   15  free\n",
       "4     153     11   12  paid"
      ]
     },
     "execution_count": 223,
     "metadata": {},
     "output_type": "execute_result"
    }
   ],
   "source": [
    "df.head()"
   ]
  },
  {
   "cell_type": "code",
   "execution_count": 227,
   "metadata": {},
   "outputs": [
    {
     "data": {
      "text/html": [
       "<div>\n",
       "<style scoped>\n",
       "    .dataframe tbody tr th:only-of-type {\n",
       "        vertical-align: middle;\n",
       "    }\n",
       "\n",
       "    .dataframe tbody tr th {\n",
       "        vertical-align: top;\n",
       "    }\n",
       "\n",
       "    .dataframe thead th {\n",
       "        text-align: right;\n",
       "    }\n",
       "</style>\n",
       "<table border=\"1\" class=\"dataframe\">\n",
       "  <thead>\n",
       "    <tr style=\"text-align: right;\">\n",
       "      <th></th>\n",
       "      <th>userId</th>\n",
       "      <th>month</th>\n",
       "      <th>day</th>\n",
       "      <th>level</th>\n",
       "    </tr>\n",
       "  </thead>\n",
       "  <tbody>\n",
       "    <tr>\n",
       "      <th>633</th>\n",
       "      <td>300015</td>\n",
       "      <td>10</td>\n",
       "      <td>1</td>\n",
       "      <td>paid</td>\n",
       "    </tr>\n",
       "  </tbody>\n",
       "</table>\n",
       "</div>"
      ],
      "text/plain": [
       "     userId  month  day level\n",
       "633  300015     10    1  paid"
      ]
     },
     "execution_count": 227,
     "metadata": {},
     "output_type": "execute_result"
    }
   ],
   "source": [
    "df[(df.userId == '300015') & (df.month == 10) & (df.day == 1)]"
   ]
  },
  {
   "cell_type": "code",
   "execution_count": 228,
   "metadata": {
    "collapsed": true
   },
   "outputs": [],
   "source": [
    "def validate_date(date_str):\n",
    "    try:\n",
    "        datetime.datetime.strptime(date_str, '%Y-%m-%d')\n",
    "        return True\n",
    "    except ValueError:\n",
    "        return False\n",
    "    \n",
    "def create_usertime_matrix(users, start_month, end_month):\n",
    "    time_interval = []\n",
    "    for userId in users:\n",
    "        for month in range(start_month, end_month+1):\n",
    "            for day in range(1, 31+1):\n",
    "                if validate_date(f'2018-{month}-{day}') == True:\n",
    "                    time_interval.append({\n",
    "                        'userId': userId,\n",
    "                        'month': month,\n",
    "                        'day': day\n",
    "                    })     \n",
    "    return pd.DataFrame(time_interval)\n",
    "\n",
    "# Create user-time matrix\n",
    "usertime_matrix = create_usertime_matrix(np.unique(df['userId']), 10, 12)\n",
    "\n",
    "# Get user-time dataframe\n",
    "usertime_df = usertime_matrix \\\n",
    "    .merge(df, how='left', \\\n",
    "           left_on=['userId', 'month', 'day'], \\\n",
    "           right_on=['userId', 'month', 'day'])"
   ]
  },
  {
   "cell_type": "code",
   "execution_count": 246,
   "metadata": {},
   "outputs": [
    {
     "data": {
      "text/plain": [
       "(3172, 4)"
      ]
     },
     "execution_count": 246,
     "metadata": {},
     "output_type": "execute_result"
    }
   ],
   "source": [
    "usertime_df[~usertime_df.level.isna()].shape"
   ]
  },
  {
   "cell_type": "code",
   "execution_count": 247,
   "metadata": {},
   "outputs": [
    {
     "data": {
      "text/plain": [
       "(20700, 4)"
      ]
     },
     "execution_count": 247,
     "metadata": {},
     "output_type": "execute_result"
    }
   ],
   "source": [
    "usertime_df.shape"
   ]
  },
  {
   "cell_type": "code",
   "execution_count": null,
   "metadata": {
    "collapsed": true
   },
   "outputs": [],
   "source": []
  },
  {
   "cell_type": "code",
   "execution_count": null,
   "metadata": {
    "collapsed": true
   },
   "outputs": [],
   "source": []
  },
  {
   "cell_type": "code",
   "execution_count": null,
   "metadata": {
    "collapsed": true
   },
   "outputs": [],
   "source": []
  },
  {
   "cell_type": "code",
   "execution_count": null,
   "metadata": {
    "collapsed": true
   },
   "outputs": [],
   "source": []
  },
  {
   "cell_type": "code",
   "execution_count": null,
   "metadata": {
    "collapsed": true
   },
   "outputs": [],
   "source": []
  },
  {
   "cell_type": "code",
   "execution_count": 56,
   "metadata": {},
   "outputs": [],
   "source": [
    "# Add binary column (0-free, 1-paid)\n",
    "df['label'] = df.apply(lambda row: 1 if row['level'] == 'paid' else 0, axis = 1)\n",
    "df = df.drop('level', axis = 1)"
   ]
  },
  {
   "cell_type": "code",
   "execution_count": 75,
   "metadata": {},
   "outputs": [
    {
     "name": "stderr",
     "output_type": "stream",
     "text": [
      "C:\\ProgramData\\Anaconda3\\lib\\site-packages\\ipykernel_launcher.py:2: VisibleDeprecationWarning: Creating an ndarray from ragged nested sequences (which is a list-or-tuple of lists-or-tuples-or ndarrays with different lengths or shapes) is deprecated. If you meant to do this, you must specify 'dtype=object' when creating the ndarray\n",
      "  \n"
     ]
    }
   ],
   "source": [
    "# Create time matrix from 10/1/2018 to 12/31/2018\n",
    "tmatrix = np.array([np.array(range(31 + 1)), np.array(range(30 + 1)), np.array(range(31 + 1))])"
   ]
  },
  {
   "cell_type": "code",
   "execution_count": 82,
   "metadata": {},
   "outputs": [
    {
     "name": "stderr",
     "output_type": "stream",
     "text": [
      "C:\\ProgramData\\Anaconda3\\lib\\site-packages\\ipykernel_launcher.py:1: VisibleDeprecationWarning: Creating an ndarray from ragged nested sequences (which is a list-or-tuple of lists-or-tuples-or ndarrays with different lengths or shapes) is deprecated. If you meant to do this, you must specify 'dtype=object' when creating the ndarray\n",
      "  \"\"\"Entry point for launching an IPython kernel.\n"
     ]
    }
   ],
   "source": [
    "time_matrix = np.array([range(31+1), range(30+1), range(31+1)])"
   ]
  },
  {
   "cell_type": "code",
   "execution_count": 83,
   "metadata": {},
   "outputs": [
    {
     "data": {
      "text/plain": [
       "array([range(0, 32), range(0, 31), range(0, 32)], dtype=object)"
      ]
     },
     "execution_count": 83,
     "metadata": {},
     "output_type": "execute_result"
    }
   ],
   "source": [
    "time_matrix"
   ]
  },
  {
   "cell_type": "code",
   "execution_count": 87,
   "metadata": {},
   "outputs": [
    {
     "ename": "TypeError",
     "evalue": "unsupported operand type(s) for -: 'range' and 'range'",
     "output_type": "error",
     "traceback": [
      "\u001b[1;31m---------------------------------------------------------------------------\u001b[0m",
      "\u001b[1;31mTypeError\u001b[0m                                 Traceback (most recent call last)",
      "\u001b[1;32m<ipython-input-87-4016beed5f8b>\u001b[0m in \u001b[0;36m<module>\u001b[1;34m()\u001b[0m\n\u001b[1;32m----> 1\u001b[1;33m \u001b[0mtmatrix\u001b[0m \u001b[1;33m=\u001b[0m \u001b[0mnp\u001b[0m\u001b[1;33m.\u001b[0m\u001b[0marange\u001b[0m\u001b[1;33m(\u001b[0m\u001b[0mrange\u001b[0m\u001b[1;33m(\u001b[0m\u001b[1;36m31\u001b[0m\u001b[1;33m+\u001b[0m\u001b[1;36m1\u001b[0m\u001b[1;33m)\u001b[0m\u001b[1;33m,\u001b[0m \u001b[0mrange\u001b[0m\u001b[1;33m(\u001b[0m\u001b[1;36m30\u001b[0m\u001b[1;33m+\u001b[0m\u001b[1;36m1\u001b[0m\u001b[1;33m)\u001b[0m\u001b[1;33m,\u001b[0m \u001b[0mrange\u001b[0m\u001b[1;33m(\u001b[0m\u001b[1;36m31\u001b[0m\u001b[1;33m+\u001b[0m\u001b[1;36m1\u001b[0m\u001b[1;33m)\u001b[0m\u001b[1;33m)\u001b[0m\u001b[1;33m\u001b[0m\u001b[0m\n\u001b[0m",
      "\u001b[1;31mTypeError\u001b[0m: unsupported operand type(s) for -: 'range' and 'range'"
     ]
    }
   ],
   "source": [
    "tmatrix = np.arange(range(31+1), range(30+1), range(31+1))"
   ]
  },
  {
   "cell_type": "code",
   "execution_count": 89,
   "metadata": {
    "collapsed": true
   },
   "outputs": [
    {
     "ename": "ValueError",
     "evalue": "setting an array element with a sequence.",
     "output_type": "error",
     "traceback": [
      "\u001b[1;31m---------------------------------------------------------------------------\u001b[0m",
      "\u001b[1;31mTypeError\u001b[0m                                 Traceback (most recent call last)",
      "\u001b[1;31mTypeError\u001b[0m: int() argument must be a string, a bytes-like object or a number, not 'list'",
      "\nThe above exception was the direct cause of the following exception:\n",
      "\u001b[1;31mValueError\u001b[0m                                Traceback (most recent call last)",
      "\u001b[1;32m<ipython-input-89-17f447173e14>\u001b[0m in \u001b[0;36m<module>\u001b[1;34m()\u001b[0m\n\u001b[1;32m----> 1\u001b[1;33m \u001b[0mnp\u001b[0m\u001b[1;33m.\u001b[0m\u001b[0marray\u001b[0m\u001b[1;33m(\u001b[0m\u001b[1;33m[\u001b[0m\u001b[1;33m[\u001b[0m\u001b[0mx\u001b[0m \u001b[1;32mfor\u001b[0m \u001b[0mx\u001b[0m \u001b[1;32min\u001b[0m \u001b[0mrange\u001b[0m\u001b[1;33m(\u001b[0m\u001b[1;36m1\u001b[0m\u001b[1;33m,\u001b[0m\u001b[1;36m32\u001b[0m\u001b[1;33m)\u001b[0m\u001b[1;33m]\u001b[0m\u001b[1;33m,\u001b[0m \u001b[1;33m[\u001b[0m\u001b[0mx\u001b[0m \u001b[1;32mfor\u001b[0m \u001b[0mx\u001b[0m \u001b[1;32min\u001b[0m \u001b[0mrange\u001b[0m\u001b[1;33m(\u001b[0m\u001b[1;36m1\u001b[0m\u001b[1;33m,\u001b[0m\u001b[1;36m31\u001b[0m\u001b[1;33m)\u001b[0m\u001b[1;33m]\u001b[0m\u001b[1;33m]\u001b[0m\u001b[1;33m,\u001b[0m \u001b[0mnp\u001b[0m\u001b[1;33m.\u001b[0m\u001b[0mint32\u001b[0m\u001b[1;33m)\u001b[0m\u001b[1;33m\u001b[0m\u001b[0m\n\u001b[0m",
      "\u001b[1;31mValueError\u001b[0m: setting an array element with a sequence."
     ]
    }
   ],
   "source": [
    "np.array([[x for x in range(1,32)], [x for x in range(1,31)]], np.int32)"
   ]
  },
  {
   "cell_type": "code",
   "execution_count": null,
   "metadata": {
    "collapsed": true
   },
   "outputs": [],
   "source": []
  },
  {
   "cell_type": "code",
   "execution_count": 94,
   "metadata": {},
   "outputs": [
    {
     "data": {
      "text/plain": [
       "array([[[0., 0., 0., 0.],\n",
       "        [0., 0., 0., 0.],\n",
       "        [0., 0., 0., 0.]],\n",
       "\n",
       "       [[0., 0., 0., 0.],\n",
       "        [0., 0., 0., 0.],\n",
       "        [0., 0., 0., 0.]]])"
      ]
     },
     "execution_count": 94,
     "metadata": {},
     "output_type": "execute_result"
    }
   ],
   "source": [
    "np.zeros((2, 3, 4))"
   ]
  },
  {
   "cell_type": "code",
   "execution_count": 93,
   "metadata": {
    "collapsed": true
   },
   "outputs": [
    {
     "data": {
      "text/plain": [
       "array([[[0., 0., 0., ..., 0., 0., 0.],\n",
       "        [0., 0., 0., ..., 0., 0., 0.],\n",
       "        [0., 0., 0., ..., 0., 0., 0.],\n",
       "        ...,\n",
       "        [0., 0., 0., ..., 0., 0., 0.],\n",
       "        [0., 0., 0., ..., 0., 0., 0.],\n",
       "        [0., 0., 0., ..., 0., 0., 0.]],\n",
       "\n",
       "       [[0., 0., 0., ..., 0., 0., 0.],\n",
       "        [0., 0., 0., ..., 0., 0., 0.],\n",
       "        [0., 0., 0., ..., 0., 0., 0.],\n",
       "        ...,\n",
       "        [0., 0., 0., ..., 0., 0., 0.],\n",
       "        [0., 0., 0., ..., 0., 0., 0.],\n",
       "        [0., 0., 0., ..., 0., 0., 0.]],\n",
       "\n",
       "       [[0., 0., 0., ..., 0., 0., 0.],\n",
       "        [0., 0., 0., ..., 0., 0., 0.],\n",
       "        [0., 0., 0., ..., 0., 0., 0.],\n",
       "        ...,\n",
       "        [0., 0., 0., ..., 0., 0., 0.],\n",
       "        [0., 0., 0., ..., 0., 0., 0.],\n",
       "        [0., 0., 0., ..., 0., 0., 0.]],\n",
       "\n",
       "       ...,\n",
       "\n",
       "       [[0., 0., 0., ..., 0., 0., 0.],\n",
       "        [0., 0., 0., ..., 0., 0., 0.],\n",
       "        [0., 0., 0., ..., 0., 0., 0.],\n",
       "        ...,\n",
       "        [0., 0., 0., ..., 0., 0., 0.],\n",
       "        [0., 0., 0., ..., 0., 0., 0.],\n",
       "        [0., 0., 0., ..., 0., 0., 0.]],\n",
       "\n",
       "       [[0., 0., 0., ..., 0., 0., 0.],\n",
       "        [0., 0., 0., ..., 0., 0., 0.],\n",
       "        [0., 0., 0., ..., 0., 0., 0.],\n",
       "        ...,\n",
       "        [0., 0., 0., ..., 0., 0., 0.],\n",
       "        [0., 0., 0., ..., 0., 0., 0.],\n",
       "        [0., 0., 0., ..., 0., 0., 0.]],\n",
       "\n",
       "       [[0., 0., 0., ..., 0., 0., 0.],\n",
       "        [0., 0., 0., ..., 0., 0., 0.],\n",
       "        [0., 0., 0., ..., 0., 0., 0.],\n",
       "        ...,\n",
       "        [0., 0., 0., ..., 0., 0., 0.],\n",
       "        [0., 0., 0., ..., 0., 0., 0.],\n",
       "        [0., 0., 0., ..., 0., 0., 0.]]])"
      ]
     },
     "execution_count": 93,
     "metadata": {},
     "output_type": "execute_result"
    }
   ],
   "source": [
    "np.zeros((31, 30, 31))"
   ]
  },
  {
   "cell_type": "code",
   "execution_count": 72,
   "metadata": {},
   "outputs": [
    {
     "data": {
      "text/plain": [
       "(225,)"
      ]
     },
     "execution_count": 72,
     "metadata": {},
     "output_type": "execute_result"
    }
   ],
   "source": [
    "np.unique(df['userId']).shape"
   ]
  },
  {
   "cell_type": "code",
   "execution_count": 42,
   "metadata": {},
   "outputs": [
    {
     "name": "stdout",
     "output_type": "stream",
     "text": [
      "+------+----------+-----+\n",
      "|userId|      date|count|\n",
      "+------+----------+-----+\n",
      "|   142|2018-10-01|  292|\n",
      "|    87|2018-10-05|    3|\n",
      "|   145|2018-10-07|   44|\n",
      "|    44|2018-10-11|   24|\n",
      "|   131|2018-10-20|   16|\n",
      "|    58|2018-10-19|  251|\n",
      "|    53|2018-10-22|    3|\n",
      "|   100|2018-10-25|   23|\n",
      "|   124|2018-10-30|  394|\n",
      "|    92|2018-11-06|   89|\n",
      "|    67|2018-11-07|   49|\n",
      "|     4|2018-11-08|   41|\n",
      "|    66|2018-11-17|   26|\n",
      "|     9|2018-11-18|  114|\n",
      "|   152|2018-11-19|  122|\n",
      "|    71|2018-11-21|   56|\n",
      "|100009|2018-10-01|   28|\n",
      "|100009|2018-10-05|    4|\n",
      "|100008|2018-10-16|   25|\n",
      "|200017|2018-10-30|   43|\n",
      "+------+----------+-----+\n",
      "only showing top 20 rows\n",
      "\n"
     ]
    }
   ],
   "source": [
    "data.withColumn('date', substring('tsDate', 1, 10)) \\\n",
    "    .groupby('userId', 'date') \\\n",
    "    .count() \\\n",
    "    .show()"
   ]
  },
  {
   "cell_type": "code",
   "execution_count": 40,
   "metadata": {},
   "outputs": [
    {
     "name": "stdout",
     "output_type": "stream",
     "text": [
      "+----------+----------+\n",
      "|   minDate|   maxDate|\n",
      "+----------+----------+\n",
      "|2018-10-01|2018-11-30|\n",
      "+----------+----------+\n",
      "\n"
     ]
    }
   ],
   "source": [
    "# Define interval with 90% of users (225)\n",
    "\n",
    "data.withColumn('date', substring('tsDate', 1, 10)) \\\n",
    "    .groupby('userId', 'date') \\\n",
    "    .count() \\\n",
    "    .where(col('count') >= 225) \\\n",
    "    .select(min('date').alias('minDate'), max('date').alias('maxDate')) \\\n",
    "    .show()\n",
    "    \n",
    "    \n",
    "\n"
   ]
  },
  {
   "cell_type": "code",
   "execution_count": 1347,
   "metadata": {
    "collapsed": true
   },
   "outputs": [],
   "source": [
    "# Prepare dataset\n",
    "def get_df(page):\n",
    "    return data.where(data.page == page) \\\n",
    "        .groupby('userId', 'churn', 'sessionId') \\\n",
    "        .agg(count('sessionId').alias('logCount')) \\\n",
    "        .groupby('userId', 'churn') \\\n",
    "        .agg(avg('logCount').alias(page)) \\\n",
    "        .toPandas()"
   ]
  },
  {
   "cell_type": "code",
   "execution_count": 1384,
   "metadata": {
    "collapsed": true
   },
   "outputs": [],
   "source": [
    "def get_churn_mean(page):\n",
    "    return data.where(data.page == page) \\\n",
    "        .groupby('userId', 'churn', 'sessionId') \\\n",
    "        .agg(count('sessionId').alias('logCount')) \\\n",
    "        .groupby('userId', 'churn') \\\n",
    "        .agg(avg('logCount').alias(page)) \\\n",
    "        .groupby('churn') \\\n",
    "        .agg(avg(page))"
   ]
  },
  {
   "cell_type": "code",
   "execution_count": 1392,
   "metadata": {
    "collapsed": true
   },
   "outputs": [],
   "source": [
    "def get_churn_total_mean(page):\n",
    "    return data.where(data.page == page) \\\n",
    "        .groupby('churn', 'userId') \\\n",
    "        .agg(count('churn').alias('logCount')) \\\n",
    "        .groupby('churn') \\\n",
    "        .agg(avg('logCount').alias(page))"
   ]
  },
  {
   "cell_type": "code",
   "execution_count": 1385,
   "metadata": {},
   "outputs": [
    {
     "name": "stdout",
     "output_type": "stream",
     "text": [
      "+-----+------------------+\n",
      "|churn|     avg(NextSong)|\n",
      "+-----+------------------+\n",
      "|    1|63.537152578095224|\n",
      "|    0| 72.96967249911357|\n",
      "+-----+------------------+\n",
      "\n"
     ]
    }
   ],
   "source": [
    "get_churn_mean('NextSong').show()"
   ]
  },
  {
   "cell_type": "code",
   "execution_count": 1386,
   "metadata": {},
   "outputs": [
    {
     "name": "stdout",
     "output_type": "stream",
     "text": [
      "+-----+------------------+\n",
      "|churn|    avg(Thumbs Up)|\n",
      "+-----+------------------+\n",
      "|    1| 4.279693814443338|\n",
      "|    0|4.9075917705904715|\n",
      "+-----+------------------+\n",
      "\n"
     ]
    }
   ],
   "source": [
    "get_churn_mean('Thumbs Up').show()"
   ]
  },
  {
   "cell_type": "code",
   "execution_count": 1393,
   "metadata": {},
   "outputs": [
    {
     "name": "stdout",
     "output_type": "stream",
     "text": [
      "+-----+------------------+\n",
      "|churn|          NextSong|\n",
      "+-----+------------------+\n",
      "|    1| 699.8846153846154|\n",
      "|    0|1108.1734104046243|\n",
      "+-----+------------------+\n",
      "\n"
     ]
    }
   ],
   "source": [
    "get_churn_total_mean('NextSong').show()"
   ]
  },
  {
   "cell_type": "code",
   "execution_count": 1377,
   "metadata": {
    "collapsed": true
   },
   "outputs": [],
   "source": [
    "def plot_churn(page, kde=False):\n",
    "    df = get_df(page)\n",
    "    plt.figure(figsize=(12, 4))\n",
    "    df_active = df[df.churn == 0][page]\n",
    "    df_churned = df[df.churn == 1][page]\n",
    "    plt.figure(figsize=(15,6));\n",
    "    sb.distplot(df_active, bins=20, label='active', kde=kde);\n",
    "    sb.distplot(df_churned, bins=20, label = 'churned', kde=kde);\n",
    "    plt.xlabel('Average ' + page)\n",
    "    ax = plt.gca()\n",
    "    ax.set_title('Churn vs. Average ' + page);\n",
    "    plt.legend(loc='upper right');\n",
    "    plt.show()"
   ]
  },
  {
   "cell_type": "code",
   "execution_count": 1402,
   "metadata": {},
   "outputs": [
    {
     "data": {
      "text/plain": [
       "<Figure size 864x288 with 0 Axes>"
      ]
     },
     "metadata": {},
     "output_type": "display_data"
    },
    {
     "data": {
      "image/png": "[encoded data removed]",
      "text/plain": [
       "<Figure size 1080x432 with 1 Axes>"
      ]
     },
     "metadata": {
      "needs_background": "light"
     },
     "output_type": "display_data"
    }
   ],
   "source": [
    "plot_churn('NextSong', True)"
   ]
  },
  {
   "cell_type": "code",
   "execution_count": 1361,
   "metadata": {},
   "outputs": [
    {
     "data": {
      "text/plain": [
       "<Figure size 864x288 with 0 Axes>"
      ]
     },
     "metadata": {},
     "output_type": "display_data"
    },
    {
     "data": {
      "image/png": "[encoded data removed]",
      "text/plain": [
       "<Figure size 1080x432 with 1 Axes>"
      ]
     },
     "metadata": {
      "needs_background": "light"
     },
     "output_type": "display_data"
    }
   ],
   "source": [
    "plot_churn('Thumbs Up')"
   ]
  },
  {
   "cell_type": "markdown",
   "metadata": {},
   "source": [
    "### Session level"
   ]
  },
  {
   "cell_type": "code",
   "execution_count": 1142,
   "metadata": {
    "collapsed": true
   },
   "outputs": [],
   "source": [
    "cols = ['sessionId', 'itemInSession', 'userId', 'tsDate', 'page']"
   ]
  },
  {
   "cell_type": "code",
   "execution_count": 1143,
   "metadata": {},
   "outputs": [
    {
     "name": "stdout",
     "output_type": "stream",
     "text": [
      "+---------+-------------+------+-------------------+--------+\n",
      "|sessionId|itemInSession|userId|             tsDate|    page|\n",
      "+---------+-------------+------+-------------------+--------+\n",
      "|      149|            0|300009|2018-10-17 11:20:34|NextSong|\n",
      "|      183|            0|300021|2018-10-18 18:50:46|    Help|\n",
      "|      173|            0|300023|2018-10-17 16:12:25|NextSong|\n",
      "|      160|            0|300025|2018-10-17 07:41:52|NextSong|\n",
      "|      178|            0|300021|2018-10-17 17:24:57|    Home|\n",
      "|      138|            0|300001|2018-10-18 01:45:39|    Home|\n",
      "|      179|            0|300009|2018-10-18 17:51:27|NextSong|\n",
      "|      120|            0|300019|2018-10-18 07:24:43|    Home|\n",
      "|      166|            0|300011|2018-10-16 20:07:35|    Home|\n",
      "|       91|            0|300014|2018-10-18 10:46:39|    Home|\n",
      "+---------+-------------+------+-------------------+--------+\n",
      "only showing top 10 rows\n",
      "\n"
     ]
    }
   ],
   "source": [
    "data.select(cols).sort('itemInSession').show(10)"
   ]
  },
  {
   "cell_type": "code",
   "execution_count": 1174,
   "metadata": {},
   "outputs": [
    {
     "name": "stdout",
     "output_type": "stream",
     "text": [
      "+------+---------+-------------------+-------------------+--------+\n",
      "|userId|sessionId|          startDate|            endDate|logCount|\n",
      "+------+---------+-------------------+-------------------+--------+\n",
      "|    10|        9|2018-10-08 04:20:20|2018-10-08 08:16:12|      70|\n",
      "|    10|      595|2018-10-18 05:38:43|2018-10-19 07:26:38|     449|\n",
      "|    10|     1047|2018-10-29 23:02:26|2018-10-30 00:33:51|      25|\n",
      "|    10|     1414|2018-11-03 15:27:42|2018-11-03 19:43:18|      78|\n",
      "|    10|     1592|2018-11-15 20:34:26|2018-11-16 01:26:29|      78|\n",
      "|    10|     1981|2018-11-19 08:14:10|2018-11-19 13:49:48|      95|\n",
      "+------+---------+-------------------+-------------------+--------+\n",
      "\n"
     ]
    }
   ],
   "source": [
    "# Aggregate a given user by session extracting session's startDate, endDate, end log count\n",
    "data.where(data.userId == 10) \\\n",
    "    .groupby('userId', 'sessionId') \\\n",
    "    .agg(min('tsDate').alias('startDate'), max('tsDate').alias('endDate'), count('sessionId').alias('logCount')) \\\n",
    "    .sort('sessionId') \\\n",
    "    .show()"
   ]
  },
  {
   "cell_type": "code",
   "execution_count": 1176,
   "metadata": {
    "collapsed": true
   },
   "outputs": [
    {
     "name": "stdout",
     "output_type": "stream",
     "text": [
      "+------+---------+-----+\n",
      "|userId|sessionId|count|\n",
      "+------+---------+-----+\n",
      "|    92|      358|   73|\n",
      "|    42|      433|   21|\n",
      "|   101|      635|  855|\n",
      "|   120|      627|  261|\n",
      "|   140|      798|    6|\n",
      "|   122|      691|    9|\n",
      "|    29|     1030|   19|\n",
      "|     8|     1200|   18|\n",
      "|    96|     1653|  160|\n",
      "|   153|     1794|   74|\n",
      "|    97|     2019|   84|\n",
      "|    35|     2270|   13|\n",
      "|   110|     1776|   24|\n",
      "|300011|       60|   36|\n",
      "|   137|      136|    7|\n",
      "|    40|      484|   84|\n",
      "|    35|      544|   16|\n",
      "|    24|      620|    8|\n",
      "|    47|       46|    3|\n",
      "|    85|     1098|   89|\n",
      "+------+---------+-----+\n",
      "only showing top 20 rows\n",
      "\n"
     ]
    }
   ],
   "source": [
    "# Churn vs average number of logs per session\n",
    "data.groupby('userId', 'sessionId') \\\n",
    "    .count() \\\n",
    "    .show()"
   ]
  },
  {
   "cell_type": "code",
   "execution_count": 1222,
   "metadata": {
    "collapsed": true
   },
   "outputs": [],
   "source": [
    "# Churn vs average number of logs per session\n",
    "df = data.groupby('userId', 'sessionId') \\\n",
    "    .count() \\\n",
    "    .groupby('userId') \\\n",
    "    .agg(avg('count').alias('mean')) \\\n",
    "    .toPandas()"
   ]
  },
  {
   "cell_type": "code",
   "execution_count": 1207,
   "metadata": {
    "collapsed": true
   },
   "outputs": [
    {
     "name": "stdout",
     "output_type": "stream",
     "text": [
      "+------+---------+----------------+\n",
      "|userId|sessionId|count(sessionId)|\n",
      "+------+---------+----------------+\n",
      "|    92|      358|              73|\n",
      "|    42|      433|              21|\n",
      "|   101|      635|             855|\n",
      "|   120|      627|             261|\n",
      "|   140|      798|               6|\n",
      "|   122|      691|               9|\n",
      "|    29|     1030|              19|\n",
      "|     8|     1200|              18|\n",
      "|    96|     1653|             160|\n",
      "|   153|     1794|              74|\n",
      "|    97|     2019|              84|\n",
      "|    35|     2270|              13|\n",
      "|   110|     1776|              24|\n",
      "|300011|       60|              36|\n",
      "|   137|      136|               7|\n",
      "|    40|      484|              84|\n",
      "|    35|      544|              16|\n",
      "|    24|      620|               8|\n",
      "|    47|       46|               3|\n",
      "|    85|     1098|              89|\n",
      "+------+---------+----------------+\n",
      "only showing top 20 rows\n",
      "\n"
     ]
    }
   ],
   "source": [
    "# Log count per user-session\n",
    "df = data.groupby('userId', 'sessionId') \\\n",
    "    .agg(count('sessionId')) \\\n",
    "    .show()"
   ]
  },
  {
   "cell_type": "code",
   "execution_count": 1214,
   "metadata": {
    "collapsed": true
   },
   "outputs": [
    {
     "name": "stdout",
     "output_type": "stream",
     "text": [
      "+------+---------+-----+--------+\n",
      "|userId|sessionId|churn|logCount|\n",
      "+------+---------+-----+--------+\n",
      "|    92|      358|    0|      73|\n",
      "|    42|      433|    0|      21|\n",
      "|   101|      635|    1|     855|\n",
      "|   120|      627|    0|     261|\n",
      "|   140|      798|    0|       6|\n",
      "|   122|      691|    1|       9|\n",
      "|    29|     1030|    1|      19|\n",
      "|     8|     1200|    0|      18|\n",
      "|    96|     1653|    0|     160|\n",
      "|   153|     1794|    0|      74|\n",
      "|    97|     2019|    0|      84|\n",
      "|    35|     2270|    0|      13|\n",
      "|   110|     1776|    0|      24|\n",
      "|300011|       60|    0|      36|\n",
      "|   137|      136|    0|       7|\n",
      "|    40|      484|    0|      84|\n",
      "|    35|      544|    0|      16|\n",
      "|    24|      620|    0|       8|\n",
      "|    47|       46|    0|       3|\n",
      "|    85|     1098|    0|      89|\n",
      "+------+---------+-----+--------+\n",
      "only showing top 20 rows\n",
      "\n"
     ]
    }
   ],
   "source": [
    "# Log count per user-session\n",
    "data.groupby('userId', 'sessionId') \\\n",
    "    .agg(min('churn').alias('churn'), count('sessionId').alias('logCount')) \\\n",
    "    .show()"
   ]
  },
  {
   "cell_type": "markdown",
   "metadata": {},
   "source": [
    "### Session Activity"
   ]
  },
  {
   "cell_type": "code",
   "execution_count": 1330,
   "metadata": {
    "collapsed": true
   },
   "outputs": [],
   "source": [
    "# Prepare dataset\n",
    "df = data.groupby('userId', 'churn', 'sessionId') \\\n",
    "    .agg(count('sessionId').alias('logCount'), ((max('ts') - min('ts'))/60000.0).alias('duration')) \\\n",
    "    .groupby('userId', 'churn') \\\n",
    "    .agg(avg('logCount').alias('avgLogsPerSession'), \\\n",
    "         avg('duration').alias('avgDurationPerSession')) \\\n",
    "    .toPandas()"
   ]
  },
  {
   "cell_type": "markdown",
   "metadata": {},
   "source": [
    "#### Average logs per session "
   ]
  },
  {
   "cell_type": "code",
   "execution_count": 1333,
   "metadata": {},
   "outputs": [
    {
     "data": {
      "image/png": "[encoded data removed]",
      "text/plain": [
       "<Figure size 864x288 with 1 Axes>"
      ]
     },
     "metadata": {
      "needs_background": "light"
     },
     "output_type": "display_data"
    }
   ],
   "source": [
    "plt.figure(figsize=(12, 4))\n",
    "plt.hist(df[df.churn == 0]['avgLogsPerSession'], alpha = 0.5, label=\"churned\", bins = 20)\n",
    "plt.hist(df[df.churn == 1]['avgLogsPerSession'], alpha = 0.5, label=\"active\", bins = 20)\n",
    "plt.xlabel('Average logs')\n",
    "ax = plt.gca()\n",
    "ax.set_title('Churn vs. Average logs per user session');\n",
    "plt.legend(loc='upper right')\n",
    "plt.show()"
   ]
  },
  {
   "cell_type": "markdown",
   "metadata": {},
   "source": [
    "#### Average duration per session "
   ]
  },
  {
   "cell_type": "code",
   "execution_count": 1335,
   "metadata": {},
   "outputs": [
    {
     "data": {
      "image/png": "[encoded data removed]",
      "text/plain": [
       "<Figure size 864x288 with 1 Axes>"
      ]
     },
     "metadata": {
      "needs_background": "light"
     },
     "output_type": "display_data"
    }
   ],
   "source": [
    "plt.figure(figsize=(12, 4))\n",
    "plt.hist(df[df.churn == 0]['avgDurationPerSession'], alpha = 0.5, label=\"churned\", bins = 20)\n",
    "plt.hist(df[df.churn == 1]['avgDurationPerSession'], alpha = 0.5, label=\"active\", bins = 20)\n",
    "plt.xlabel('Average Duration')\n",
    "ax = plt.gca()\n",
    "ax.set_title('Churn vs. Average duration per user session');\n",
    "plt.legend(loc='upper right')\n",
    "plt.show()"
   ]
  },
  {
   "cell_type": "markdown",
   "metadata": {},
   "source": [
    "# Feature Engineering\n",
    "Once you've familiarized yourself with the data, build out the features you find promising to train your model on. To work with the full dataset, you can follow the following steps.\n",
    "- Write a script to extract the necessary features from the smaller subset of data\n",
    "- Ensure that your script is scalable, using the best practices discussed in Lesson 3\n",
    "- Try your script on the full data set, debugging your script if necessary\n",
    "\n",
    "If you are working in the classroom workspace, you can just extract features based on the small subset of data contained here. Be sure to transfer over this work to the larger dataset when you work on your Spark cluster."
   ]
  },
  {
   "cell_type": "code",
   "execution_count": null,
   "metadata": {
    "collapsed": true
   },
   "outputs": [],
   "source": []
  },
  {
   "cell_type": "markdown",
   "metadata": {},
   "source": [
    "# Modeling\n",
    "Split the full dataset into train, test, and validation sets. Test out several of the machine learning methods you learned. Evaluate the accuracy of the various models, tuning parameters as necessary. Determine your winning model based on test accuracy and report results on the validation set. Since the churned users are a fairly small subset, I suggest using F1 score as the metric to optimize."
   ]
  },
  {
   "cell_type": "code",
   "execution_count": null,
   "metadata": {
    "collapsed": true
   },
   "outputs": [],
   "source": []
  },
  {
   "cell_type": "markdown",
   "metadata": {},
   "source": [
    "# Final Steps\n",
    "Clean up your code, adding comments and renaming variables to make the code easier to read and maintain. Refer to the Spark Project Overview page and Data Scientist Capstone Project Rubric to make sure you are including all components of the capstone project and meet all expectations. Remember, this includes thorough documentation in a README file in a Github repository, as well as a web app or blog post."
   ]
  },
  {
   "cell_type": "code",
   "execution_count": null,
   "metadata": {
    "collapsed": true
   },
   "outputs": [],
   "source": []
  }
 ],
 "metadata": {
  "kernelspec": {
   "display_name": "Python 3",
   "language": "python",
   "name": "python3"
  },
  "language_info": {
   "codemirror_mode": {
    "name": "ipython",
    "version": 3
   },
   "file_extension": ".py",
   "mimetype": "text/x-python",
   "name": "python",
   "nbconvert_exporter": "python",
   "pygments_lexer": "ipython3",
   "version": "3.6.3"
  }
 },
 "nbformat": 4,
 "nbformat_minor": 2
}
