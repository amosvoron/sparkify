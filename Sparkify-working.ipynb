{
 "cells": [
  {
   "cell_type": "markdown",
   "metadata": {},
   "source": [
    "# Sparkify Project Workspace\n",
    "This workspace contains a tiny subset (128MB) of the full dataset available (12GB). Feel free to use this workspace to build your project, or to explore a smaller subset with Spark before deploying your cluster on the cloud. Instructions for setting up your Spark cluster is included in the last lesson of the Extracurricular Spark Course content.\n",
    "\n",
    "You can follow the steps below to guide your data analysis and model building portion of this project."
   ]
  },
  {
   "cell_type": "code",
   "execution_count": 736,
   "metadata": {},
   "outputs": [],
   "source": [
    "# import libraries\n",
    "from pyspark.sql import SparkSession\n",
    "from pyspark.sql.functions import isnan, count, when, col, desc, udf, col, sort_array, asc, \\\n",
    "    min, max, avg, split, round, lit\n",
    "from pyspark.sql.functions import sum as Fsum\n",
    "from pyspark.sql.window import Window\n",
    "\n",
    "from pyspark.sql.types import IntegerType, TimestampType, BooleanType\n",
    "import datetime\n",
    "\n",
    "import numpy as np\n",
    "import pandas as pd\n",
    "%matplotlib inline\n",
    "import matplotlib.pyplot as plt\n",
    "import seaborn as sb"
   ]
  },
  {
   "cell_type": "code",
   "execution_count": 33,
   "metadata": {},
   "outputs": [],
   "source": [
    "# Create a Spark session\n",
    "spark = SparkSession \\\n",
    "    .builder \\\n",
    "    .appName(\"Sparkify\") \\\n",
    "    .getOrCreate()"
   ]
  },
  {
   "cell_type": "markdown",
   "metadata": {},
   "source": [
    "### Common Functions"
   ]
  },
  {
   "cell_type": "code",
   "execution_count": 381,
   "metadata": {},
   "outputs": [],
   "source": [
    "# Set plot's figure size\n",
    "def set_plot_size(width, height):\n",
    "    return plt.figure(figsize = [width, height]);"
   ]
  },
  {
   "cell_type": "markdown",
   "metadata": {},
   "source": [
    "# Load and Clean Dataset\n",
    "In this workspace, the mini-dataset file is `mini_sparkify_event_data.json`. Load and clean the dataset, checking for invalid or missing data - for example, records without userids or sessionids. "
   ]
  },
  {
   "cell_type": "code",
   "execution_count": 583,
   "metadata": {},
   "outputs": [
    {
     "name": "stdout",
     "output_type": "stream",
     "text": [
      "root\n",
      " |-- artist: string (nullable = true)\n",
      " |-- auth: string (nullable = true)\n",
      " |-- gender: string (nullable = true)\n",
      " |-- itemInSession: long (nullable = true)\n",
      " |-- length: double (nullable = true)\n",
      " |-- level: string (nullable = true)\n",
      " |-- page: string (nullable = true)\n",
      " |-- registration: long (nullable = true)\n",
      " |-- sessionId: long (nullable = true)\n",
      " |-- song: string (nullable = true)\n",
      " |-- status: long (nullable = true)\n",
      " |-- ts: long (nullable = true)\n",
      " |-- userAgent: string (nullable = true)\n",
      " |-- userId: string (nullable = true)\n",
      " |-- regDate: timestamp (nullable = true)\n",
      " |-- tsDate: timestamp (nullable = true)\n",
      " |-- city: string (nullable = true)\n",
      " |-- state: string (nullable = true)\n",
      "\n"
     ]
    },
    {
     "data": {
      "text/plain": [
       "[Row(artist='Martha Tilston', auth='Logged In', gender='M', itemInSession=50, length=277.89016, level='paid', page='NextSong', registration=1538173362000, sessionId=29, song='Rockpools', status=200, ts=1538352117000, userAgent='Mozilla/5.0 (Windows NT 6.1; WOW64; rv:31.0) Gecko/20100101 Firefox/31.0', userId='30', regDate=datetime.datetime(2018, 9, 29, 0, 22, 42), tsDate=datetime.datetime(2018, 10, 1, 2, 1, 57), city='Bakersfield', state=' CA'),\n",
       " Row(artist='Five Iron Frenzy', auth='Logged In', gender='M', itemInSession=79, length=236.09424, level='free', page='NextSong', registration=1538331630000, sessionId=8, song='Canada', status=200, ts=1538352180000, userAgent='\"Mozilla/5.0 (Windows NT 6.1; WOW64) AppleWebKit/537.36 (KHTML, like Gecko) Chrome/37.0.2062.103 Safari/537.36\"', userId='9', regDate=datetime.datetime(2018, 9, 30, 20, 20, 30), tsDate=datetime.datetime(2018, 10, 1, 2, 3), city='Boston-Cambridge-Newton', state=' MA-NH'),\n",
       " Row(artist='Adam Lambert', auth='Logged In', gender='M', itemInSession=51, length=282.8273, level='paid', page='NextSong', registration=1538173362000, sessionId=29, song='Time For Miracles', status=200, ts=1538352394000, userAgent='Mozilla/5.0 (Windows NT 6.1; WOW64; rv:31.0) Gecko/20100101 Firefox/31.0', userId='30', regDate=datetime.datetime(2018, 9, 29, 0, 22, 42), tsDate=datetime.datetime(2018, 10, 1, 2, 6, 34), city='Bakersfield', state=' CA')]"
      ]
     },
     "execution_count": 583,
     "metadata": {},
     "output_type": "execute_result"
    }
   ],
   "source": [
    "# Load dataset\n",
    "path = \"data/mini_sparkify_event_data.json\"\n",
    "data = spark.read.json(path)\n",
    "original_count = data.count()\n",
    "\n",
    "# Remove rows with missing users\n",
    "data = data.where(~((col('userId').isNull()) | (col('userId') == '')))\n",
    "\n",
    "# Exclude non-relevant columns\n",
    "data = data.drop('firstName')\n",
    "data = data.drop('lastName')\n",
    "data = data.drop('method')\n",
    "\n",
    "data = data.withColumn('regDate', (col('registration') / 1000.0).cast(TimestampType()))\n",
    "data = data.withColumn('tsDate', (col('ts') / 1000.0).cast(TimestampType()))\n",
    "data.take(1)\n",
    "\n",
    "data = data.withColumn('city', split(data['location'], ',')[0])\n",
    "data = data.withColumn('state', split(data['location'], ',')[1])\n",
    "data = data.drop('location')\n",
    "\n",
    "data.printSchema()\n",
    "data.take(3)"
   ]
  },
  {
   "cell_type": "markdown",
   "metadata": {},
   "source": [
    "# Exploratory Data Analysis\n",
    "When you're working with the full dataset, perform EDA by loading a small subset of the data and doing basic manipulations within Spark. In this workspace, you are already provided a small subset of data you can explore.\n",
    "\n",
    "### Define Churn\n",
    "\n",
    "Once you've done some preliminary analysis, create a column `Churn` to use as the label for your model. I suggest using the `Cancellation Confirmation` events to define your churn, which happen for both paid and free users. As a bonus task, you can also look into the `Downgrade` events.\n",
    "\n",
    "### Explore Data\n",
    "Once you've defined churn, perform some exploratory data analysis to observe the behavior for users who stayed vs users who churned. You can start by exploring aggregates on these two groups of users, observing how much of a specific action they experienced per a certain time unit or number of songs played."
   ]
  },
  {
   "cell_type": "markdown",
   "metadata": {},
   "source": [
    "### EDA on churned users"
   ]
  },
  {
   "cell_type": "code",
   "execution_count": 584,
   "metadata": {},
   "outputs": [],
   "source": [
    "cols = ['tsDate', 'auth', 'level', 'page', 'status', 'song', 'artist', 'length', 'Churn']"
   ]
  },
  {
   "cell_type": "code",
   "execution_count": 640,
   "metadata": {},
   "outputs": [
    {
     "data": {
      "text/plain": [
       "52"
      ]
     },
     "execution_count": 640,
     "metadata": {},
     "output_type": "execute_result"
    }
   ],
   "source": [
    "# Count churned users using Cancellation Confirmation evet\n",
    "data.where(data.page == 'Cancellation Confirmation').dropDuplicates().count()"
   ]
  },
  {
   "cell_type": "code",
   "execution_count": 597,
   "metadata": {},
   "outputs": [
    {
     "data": {
      "text/plain": [
       "52"
      ]
     },
     "execution_count": 597,
     "metadata": {},
     "output_type": "execute_result"
    }
   ],
   "source": [
    "# Label churned users\n",
    "\n",
    "# extract churned users\n",
    "churned = data.where(data.page.isin(['Cancellation Confirmation'])) \\\n",
    "    .dropDuplicates() \\\n",
    "    .select('userId') \\\n",
    "    .collect()\n",
    "\n",
    "# add new column using churned list\n",
    "churned_uids = [x.userId for x in churned];\n",
    "is_churn = udf(lambda x: x in churned_uids, BooleanType())\n",
    "data = data.withColumn('churn', is_churn('userId'))\n",
    "data.take(3)\n",
    "\n",
    "# check\n",
    "data.where(data.churn == True).select('userId').dropDuplicates().count()"
   ]
  },
  {
   "cell_type": "code",
   "execution_count": 742,
   "metadata": {},
   "outputs": [
    {
     "data": {
      "text/plain": [
       "123576"
      ]
     },
     "execution_count": 742,
     "metadata": {},
     "output_type": "execute_result"
    }
   ],
   "source": [
    "data.where(data.gender == 'M').count()"
   ]
  },
  {
   "cell_type": "code",
   "execution_count": 792,
   "metadata": {},
   "outputs": [
    {
     "ename": "KeyError",
     "evalue": "'total'",
     "output_type": "error",
     "traceback": [
      "\u001b[1;31m---------------------------------------------------------------------------\u001b[0m",
      "\u001b[1;31mKeyError\u001b[0m                                  Traceback (most recent call last)",
      "\u001b[1;32m~\\Anaconda2\\lib\\site-packages\\pandas\\core\\indexes\\base.py\u001b[0m in \u001b[0;36mget_loc\u001b[1;34m(self, key, method, tolerance)\u001b[0m\n\u001b[0;32m   2524\u001b[0m             \u001b[1;32mtry\u001b[0m\u001b[1;33m:\u001b[0m\u001b[1;33m\u001b[0m\u001b[1;33m\u001b[0m\u001b[0m\n\u001b[1;32m-> 2525\u001b[1;33m                 \u001b[1;32mreturn\u001b[0m \u001b[0mself\u001b[0m\u001b[1;33m.\u001b[0m\u001b[0m_engine\u001b[0m\u001b[1;33m.\u001b[0m\u001b[0mget_loc\u001b[0m\u001b[1;33m(\u001b[0m\u001b[0mkey\u001b[0m\u001b[1;33m)\u001b[0m\u001b[1;33m\u001b[0m\u001b[1;33m\u001b[0m\u001b[0m\n\u001b[0m\u001b[0;32m   2526\u001b[0m             \u001b[1;32mexcept\u001b[0m \u001b[0mKeyError\u001b[0m\u001b[1;33m:\u001b[0m\u001b[1;33m\u001b[0m\u001b[1;33m\u001b[0m\u001b[0m\n",
      "\u001b[1;32mpandas/_libs/index.pyx\u001b[0m in \u001b[0;36mpandas._libs.index.IndexEngine.get_loc\u001b[1;34m()\u001b[0m\n",
      "\u001b[1;32mpandas/_libs/index.pyx\u001b[0m in \u001b[0;36mpandas._libs.index.IndexEngine.get_loc\u001b[1;34m()\u001b[0m\n",
      "\u001b[1;32mpandas/_libs/hashtable_class_helper.pxi\u001b[0m in \u001b[0;36mpandas._libs.hashtable.PyObjectHashTable.get_item\u001b[1;34m()\u001b[0m\n",
      "\u001b[1;32mpandas/_libs/hashtable_class_helper.pxi\u001b[0m in \u001b[0;36mpandas._libs.hashtable.PyObjectHashTable.get_item\u001b[1;34m()\u001b[0m\n",
      "\u001b[1;31mKeyError\u001b[0m: 'total'",
      "\nDuring handling of the above exception, another exception occurred:\n",
      "\u001b[1;31mKeyError\u001b[0m                                  Traceback (most recent call last)",
      "\u001b[1;32m<ipython-input-792-5b14cd92c394>\u001b[0m in \u001b[0;36m<module>\u001b[1;34m\u001b[0m\n\u001b[0;32m      9\u001b[0m     \u001b[1;33m.\u001b[0m\u001b[0mtoPandas\u001b[0m\u001b[1;33m(\u001b[0m\u001b[1;33m)\u001b[0m\u001b[1;33m\u001b[0m\u001b[1;33m\u001b[0m\u001b[0m\n\u001b[0;32m     10\u001b[0m \u001b[0mdf\u001b[0m\u001b[1;33m[\u001b[0m\u001b[1;34m'churn_ratio'\u001b[0m\u001b[1;33m]\u001b[0m \u001b[1;33m=\u001b[0m \u001b[0mdf\u001b[0m\u001b[1;33m[\u001b[0m\u001b[1;34m'gender'\u001b[0m\u001b[1;33m]\u001b[0m\u001b[1;33m\u001b[0m\u001b[1;33m\u001b[0m\u001b[0m\n\u001b[1;32m---> 11\u001b[1;33m \u001b[0mdf1\u001b[0m \u001b[1;33m=\u001b[0m \u001b[0mdf\u001b[0m\u001b[1;33m[\u001b[0m\u001b[0mdf\u001b[0m\u001b[1;33m.\u001b[0m\u001b[0mgender\u001b[0m \u001b[1;33m==\u001b[0m \u001b[1;34m'M'\u001b[0m\u001b[1;33m]\u001b[0m\u001b[1;33m.\u001b[0m\u001b[0msort_values\u001b[0m\u001b[1;33m(\u001b[0m\u001b[0mby\u001b[0m\u001b[1;33m=\u001b[0m\u001b[1;34m'churn'\u001b[0m\u001b[1;33m)\u001b[0m\u001b[1;33m[\u001b[0m\u001b[1;34m'total'\u001b[0m\u001b[1;33m]\u001b[0m\u001b[1;33m\u001b[0m\u001b[1;33m\u001b[0m\u001b[0m\n\u001b[0m\u001b[0;32m     12\u001b[0m \u001b[0mdf2\u001b[0m \u001b[1;33m=\u001b[0m \u001b[0mdf\u001b[0m\u001b[1;33m[\u001b[0m\u001b[0mdf\u001b[0m\u001b[1;33m.\u001b[0m\u001b[0mgender\u001b[0m \u001b[1;33m==\u001b[0m \u001b[1;34m'F'\u001b[0m\u001b[1;33m]\u001b[0m\u001b[1;33m.\u001b[0m\u001b[0msort_values\u001b[0m\u001b[1;33m(\u001b[0m\u001b[0mby\u001b[0m\u001b[1;33m=\u001b[0m\u001b[1;34m'churn'\u001b[0m\u001b[1;33m)\u001b[0m\u001b[1;33m[\u001b[0m\u001b[1;34m'total'\u001b[0m\u001b[1;33m]\u001b[0m\u001b[1;33m\u001b[0m\u001b[1;33m\u001b[0m\u001b[0m\n\u001b[0;32m     13\u001b[0m \u001b[1;33m\u001b[0m\u001b[0m\n",
      "\u001b[1;32m~\\Anaconda2\\lib\\site-packages\\pandas\\core\\frame.py\u001b[0m in \u001b[0;36m__getitem__\u001b[1;34m(self, key)\u001b[0m\n\u001b[0;32m   2137\u001b[0m             \u001b[1;32mreturn\u001b[0m \u001b[0mself\u001b[0m\u001b[1;33m.\u001b[0m\u001b[0m_getitem_multilevel\u001b[0m\u001b[1;33m(\u001b[0m\u001b[0mkey\u001b[0m\u001b[1;33m)\u001b[0m\u001b[1;33m\u001b[0m\u001b[1;33m\u001b[0m\u001b[0m\n\u001b[0;32m   2138\u001b[0m         \u001b[1;32melse\u001b[0m\u001b[1;33m:\u001b[0m\u001b[1;33m\u001b[0m\u001b[1;33m\u001b[0m\u001b[0m\n\u001b[1;32m-> 2139\u001b[1;33m             \u001b[1;32mreturn\u001b[0m \u001b[0mself\u001b[0m\u001b[1;33m.\u001b[0m\u001b[0m_getitem_column\u001b[0m\u001b[1;33m(\u001b[0m\u001b[0mkey\u001b[0m\u001b[1;33m)\u001b[0m\u001b[1;33m\u001b[0m\u001b[1;33m\u001b[0m\u001b[0m\n\u001b[0m\u001b[0;32m   2140\u001b[0m \u001b[1;33m\u001b[0m\u001b[0m\n\u001b[0;32m   2141\u001b[0m     \u001b[1;32mdef\u001b[0m \u001b[0m_getitem_column\u001b[0m\u001b[1;33m(\u001b[0m\u001b[0mself\u001b[0m\u001b[1;33m,\u001b[0m \u001b[0mkey\u001b[0m\u001b[1;33m)\u001b[0m\u001b[1;33m:\u001b[0m\u001b[1;33m\u001b[0m\u001b[1;33m\u001b[0m\u001b[0m\n",
      "\u001b[1;32m~\\Anaconda2\\lib\\site-packages\\pandas\\core\\frame.py\u001b[0m in \u001b[0;36m_getitem_column\u001b[1;34m(self, key)\u001b[0m\n\u001b[0;32m   2144\u001b[0m         \u001b[1;31m# get column\u001b[0m\u001b[1;33m\u001b[0m\u001b[1;33m\u001b[0m\u001b[1;33m\u001b[0m\u001b[0m\n\u001b[0;32m   2145\u001b[0m         \u001b[1;32mif\u001b[0m \u001b[0mself\u001b[0m\u001b[1;33m.\u001b[0m\u001b[0mcolumns\u001b[0m\u001b[1;33m.\u001b[0m\u001b[0mis_unique\u001b[0m\u001b[1;33m:\u001b[0m\u001b[1;33m\u001b[0m\u001b[1;33m\u001b[0m\u001b[0m\n\u001b[1;32m-> 2146\u001b[1;33m             \u001b[1;32mreturn\u001b[0m \u001b[0mself\u001b[0m\u001b[1;33m.\u001b[0m\u001b[0m_get_item_cache\u001b[0m\u001b[1;33m(\u001b[0m\u001b[0mkey\u001b[0m\u001b[1;33m)\u001b[0m\u001b[1;33m\u001b[0m\u001b[1;33m\u001b[0m\u001b[0m\n\u001b[0m\u001b[0;32m   2147\u001b[0m \u001b[1;33m\u001b[0m\u001b[0m\n\u001b[0;32m   2148\u001b[0m         \u001b[1;31m# duplicate columns & possible reduce dimensionality\u001b[0m\u001b[1;33m\u001b[0m\u001b[1;33m\u001b[0m\u001b[1;33m\u001b[0m\u001b[0m\n",
      "\u001b[1;32m~\\Anaconda2\\lib\\site-packages\\pandas\\core\\generic.py\u001b[0m in \u001b[0;36m_get_item_cache\u001b[1;34m(self, item)\u001b[0m\n\u001b[0;32m   1840\u001b[0m         \u001b[0mres\u001b[0m \u001b[1;33m=\u001b[0m \u001b[0mcache\u001b[0m\u001b[1;33m.\u001b[0m\u001b[0mget\u001b[0m\u001b[1;33m(\u001b[0m\u001b[0mitem\u001b[0m\u001b[1;33m)\u001b[0m\u001b[1;33m\u001b[0m\u001b[1;33m\u001b[0m\u001b[0m\n\u001b[0;32m   1841\u001b[0m         \u001b[1;32mif\u001b[0m \u001b[0mres\u001b[0m \u001b[1;32mis\u001b[0m \u001b[1;32mNone\u001b[0m\u001b[1;33m:\u001b[0m\u001b[1;33m\u001b[0m\u001b[1;33m\u001b[0m\u001b[0m\n\u001b[1;32m-> 1842\u001b[1;33m             \u001b[0mvalues\u001b[0m \u001b[1;33m=\u001b[0m \u001b[0mself\u001b[0m\u001b[1;33m.\u001b[0m\u001b[0m_data\u001b[0m\u001b[1;33m.\u001b[0m\u001b[0mget\u001b[0m\u001b[1;33m(\u001b[0m\u001b[0mitem\u001b[0m\u001b[1;33m)\u001b[0m\u001b[1;33m\u001b[0m\u001b[1;33m\u001b[0m\u001b[0m\n\u001b[0m\u001b[0;32m   1843\u001b[0m             \u001b[0mres\u001b[0m \u001b[1;33m=\u001b[0m \u001b[0mself\u001b[0m\u001b[1;33m.\u001b[0m\u001b[0m_box_item_values\u001b[0m\u001b[1;33m(\u001b[0m\u001b[0mitem\u001b[0m\u001b[1;33m,\u001b[0m \u001b[0mvalues\u001b[0m\u001b[1;33m)\u001b[0m\u001b[1;33m\u001b[0m\u001b[1;33m\u001b[0m\u001b[0m\n\u001b[0;32m   1844\u001b[0m             \u001b[0mcache\u001b[0m\u001b[1;33m[\u001b[0m\u001b[0mitem\u001b[0m\u001b[1;33m]\u001b[0m \u001b[1;33m=\u001b[0m \u001b[0mres\u001b[0m\u001b[1;33m\u001b[0m\u001b[1;33m\u001b[0m\u001b[0m\n",
      "\u001b[1;32m~\\Anaconda2\\lib\\site-packages\\pandas\\core\\internals.py\u001b[0m in \u001b[0;36mget\u001b[1;34m(self, item, fastpath)\u001b[0m\n\u001b[0;32m   3841\u001b[0m \u001b[1;33m\u001b[0m\u001b[0m\n\u001b[0;32m   3842\u001b[0m             \u001b[1;32mif\u001b[0m \u001b[1;32mnot\u001b[0m \u001b[0misna\u001b[0m\u001b[1;33m(\u001b[0m\u001b[0mitem\u001b[0m\u001b[1;33m)\u001b[0m\u001b[1;33m:\u001b[0m\u001b[1;33m\u001b[0m\u001b[1;33m\u001b[0m\u001b[0m\n\u001b[1;32m-> 3843\u001b[1;33m                 \u001b[0mloc\u001b[0m \u001b[1;33m=\u001b[0m \u001b[0mself\u001b[0m\u001b[1;33m.\u001b[0m\u001b[0mitems\u001b[0m\u001b[1;33m.\u001b[0m\u001b[0mget_loc\u001b[0m\u001b[1;33m(\u001b[0m\u001b[0mitem\u001b[0m\u001b[1;33m)\u001b[0m\u001b[1;33m\u001b[0m\u001b[1;33m\u001b[0m\u001b[0m\n\u001b[0m\u001b[0;32m   3844\u001b[0m             \u001b[1;32melse\u001b[0m\u001b[1;33m:\u001b[0m\u001b[1;33m\u001b[0m\u001b[1;33m\u001b[0m\u001b[0m\n\u001b[0;32m   3845\u001b[0m                 \u001b[0mindexer\u001b[0m \u001b[1;33m=\u001b[0m \u001b[0mnp\u001b[0m\u001b[1;33m.\u001b[0m\u001b[0marange\u001b[0m\u001b[1;33m(\u001b[0m\u001b[0mlen\u001b[0m\u001b[1;33m(\u001b[0m\u001b[0mself\u001b[0m\u001b[1;33m.\u001b[0m\u001b[0mitems\u001b[0m\u001b[1;33m)\u001b[0m\u001b[1;33m)\u001b[0m\u001b[1;33m[\u001b[0m\u001b[0misna\u001b[0m\u001b[1;33m(\u001b[0m\u001b[0mself\u001b[0m\u001b[1;33m.\u001b[0m\u001b[0mitems\u001b[0m\u001b[1;33m)\u001b[0m\u001b[1;33m]\u001b[0m\u001b[1;33m\u001b[0m\u001b[1;33m\u001b[0m\u001b[0m\n",
      "\u001b[1;32m~\\Anaconda2\\lib\\site-packages\\pandas\\core\\indexes\\base.py\u001b[0m in \u001b[0;36mget_loc\u001b[1;34m(self, key, method, tolerance)\u001b[0m\n\u001b[0;32m   2525\u001b[0m                 \u001b[1;32mreturn\u001b[0m \u001b[0mself\u001b[0m\u001b[1;33m.\u001b[0m\u001b[0m_engine\u001b[0m\u001b[1;33m.\u001b[0m\u001b[0mget_loc\u001b[0m\u001b[1;33m(\u001b[0m\u001b[0mkey\u001b[0m\u001b[1;33m)\u001b[0m\u001b[1;33m\u001b[0m\u001b[1;33m\u001b[0m\u001b[0m\n\u001b[0;32m   2526\u001b[0m             \u001b[1;32mexcept\u001b[0m \u001b[0mKeyError\u001b[0m\u001b[1;33m:\u001b[0m\u001b[1;33m\u001b[0m\u001b[1;33m\u001b[0m\u001b[0m\n\u001b[1;32m-> 2527\u001b[1;33m                 \u001b[1;32mreturn\u001b[0m \u001b[0mself\u001b[0m\u001b[1;33m.\u001b[0m\u001b[0m_engine\u001b[0m\u001b[1;33m.\u001b[0m\u001b[0mget_loc\u001b[0m\u001b[1;33m(\u001b[0m\u001b[0mself\u001b[0m\u001b[1;33m.\u001b[0m\u001b[0m_maybe_cast_indexer\u001b[0m\u001b[1;33m(\u001b[0m\u001b[0mkey\u001b[0m\u001b[1;33m)\u001b[0m\u001b[1;33m)\u001b[0m\u001b[1;33m\u001b[0m\u001b[1;33m\u001b[0m\u001b[0m\n\u001b[0m\u001b[0;32m   2528\u001b[0m \u001b[1;33m\u001b[0m\u001b[0m\n\u001b[0;32m   2529\u001b[0m         \u001b[0mindexer\u001b[0m \u001b[1;33m=\u001b[0m \u001b[0mself\u001b[0m\u001b[1;33m.\u001b[0m\u001b[0mget_indexer\u001b[0m\u001b[1;33m(\u001b[0m\u001b[1;33m[\u001b[0m\u001b[0mkey\u001b[0m\u001b[1;33m]\u001b[0m\u001b[1;33m,\u001b[0m \u001b[0mmethod\u001b[0m\u001b[1;33m=\u001b[0m\u001b[0mmethod\u001b[0m\u001b[1;33m,\u001b[0m \u001b[0mtolerance\u001b[0m\u001b[1;33m=\u001b[0m\u001b[0mtolerance\u001b[0m\u001b[1;33m)\u001b[0m\u001b[1;33m\u001b[0m\u001b[1;33m\u001b[0m\u001b[0m\n",
      "\u001b[1;32mpandas/_libs/index.pyx\u001b[0m in \u001b[0;36mpandas._libs.index.IndexEngine.get_loc\u001b[1;34m()\u001b[0m\n",
      "\u001b[1;32mpandas/_libs/index.pyx\u001b[0m in \u001b[0;36mpandas._libs.index.IndexEngine.get_loc\u001b[1;34m()\u001b[0m\n",
      "\u001b[1;32mpandas/_libs/hashtable_class_helper.pxi\u001b[0m in \u001b[0;36mpandas._libs.hashtable.PyObjectHashTable.get_item\u001b[1;34m()\u001b[0m\n",
      "\u001b[1;32mpandas/_libs/hashtable_class_helper.pxi\u001b[0m in \u001b[0;36mpandas._libs.hashtable.PyObjectHashTable.get_item\u001b[1;34m()\u001b[0m\n",
      "\u001b[1;31mKeyError\u001b[0m: 'total'"
     ]
    }
   ],
   "source": [
    "# Churn vs Gender\n",
    "\n",
    "def calc(row):\n",
    "    if row['gender'] == 'M':\n",
    "        return row['count']/row['M_total']\n",
    "    else:\n",
    "        return row['count']/row['F_total']\n",
    "\n",
    "# prepare data\n",
    "df = data \\\n",
    "    .groupby('gender', 'churn') \\\n",
    "    .count() \\\n",
    "    .withColumn('M_total', lit(data.where(data.gender == 'M').count())) \\\n",
    "    .withColumn('F_total', lit(data.where(data.gender == 'F').count())) \\\n",
    "    .toPandas()\n",
    "\n",
    "df['churn_share'] = df.apply(lambda row: calc(row), axis=1)\n",
    "df1 = df[df.gender == 'M'].sort_values(by='churn')['total']\n",
    "df2 = df[df.gender == 'F'].sort_values(by='churn')['total']\n",
    "\n",
    "# plot\n",
    "plt.figure(figsize = [6, 6])\n",
    "width =0.4\n",
    "labels = ['Non-churned', 'Churned']\n",
    "plt.xticks(range(2), labels)\n",
    "plt.xlabel('Gender')\n",
    "plt.ylabel('Churn')\n",
    "plt.bar(np.arange(len(df1)), df1, width=width)\n",
    "plt.bar(np.arange(len(df2))+ width, df2, width=width)\n",
    "ax = plt.gca()\n",
    "ax.set_title('Churn vs Gender');\n",
    "plt.legend(['Male', 'Female'], loc=1)\n",
    "plt.show()"
   ]
  },
  {
   "cell_type": "code",
   "execution_count": 767,
   "metadata": {},
   "outputs": [
    {
     "data": {
      "text/plain": [
       "churn\n",
       "False    0.792063\n",
       "True     0.207937\n",
       "Name: churn, dtype: float64"
      ]
     },
     "execution_count": 767,
     "metadata": {},
     "output_type": "execute_result"
    }
   ],
   "source": [
    "df1"
   ]
  },
  {
   "cell_type": "code",
   "execution_count": 768,
   "metadata": {},
   "outputs": [
    {
     "data": {
      "text/plain": [
       "churn\n",
       "False    0.875998\n",
       "True     0.124002\n",
       "Name: churn, dtype: float64"
      ]
     },
     "execution_count": 768,
     "metadata": {},
     "output_type": "execute_result"
    }
   ],
   "source": [
    "df2"
   ]
  },
  {
   "cell_type": "code",
   "execution_count": 779,
   "metadata": {},
   "outputs": [
    {
     "data": {
      "text/html": [
       "<div>\n",
       "<style scoped>\n",
       "    .dataframe tbody tr th:only-of-type {\n",
       "        vertical-align: middle;\n",
       "    }\n",
       "\n",
       "    .dataframe tbody tr th {\n",
       "        vertical-align: top;\n",
       "    }\n",
       "\n",
       "    .dataframe thead th {\n",
       "        text-align: right;\n",
       "    }\n",
       "</style>\n",
       "<table border=\"1\" class=\"dataframe\">\n",
       "  <thead>\n",
       "    <tr style=\"text-align: right;\">\n",
       "      <th></th>\n",
       "      <th>churn_share</th>\n",
       "    </tr>\n",
       "    <tr>\n",
       "      <th>churn</th>\n",
       "      <th></th>\n",
       "    </tr>\n",
       "  </thead>\n",
       "  <tbody>\n",
       "    <tr>\n",
       "      <th>True</th>\n",
       "      <td>0.207937</td>\n",
       "    </tr>\n",
       "    <tr>\n",
       "      <th>False</th>\n",
       "      <td>0.792063</td>\n",
       "    </tr>\n",
       "  </tbody>\n",
       "</table>\n",
       "</div>"
      ],
      "text/plain": [
       "       churn_share\n",
       "churn             \n",
       "True      0.207937\n",
       "False     0.792063"
      ]
     },
     "execution_count": 779,
     "metadata": {},
     "output_type": "execute_result"
    }
   ],
   "source": [
    "df[df.gender == 'M'][['churn', 'churn_share']].set_index('churn')"
   ]
  },
  {
   "cell_type": "code",
   "execution_count": 782,
   "metadata": {},
   "outputs": [
    {
     "data": {
      "text/html": [
       "<div>\n",
       "<style scoped>\n",
       "    .dataframe tbody tr th:only-of-type {\n",
       "        vertical-align: middle;\n",
       "    }\n",
       "\n",
       "    .dataframe tbody tr th {\n",
       "        vertical-align: top;\n",
       "    }\n",
       "\n",
       "    .dataframe thead th {\n",
       "        text-align: right;\n",
       "    }\n",
       "</style>\n",
       "<table border=\"1\" class=\"dataframe\">\n",
       "  <thead>\n",
       "    <tr style=\"text-align: right;\">\n",
       "      <th></th>\n",
       "      <th>churn_share</th>\n",
       "    </tr>\n",
       "    <tr>\n",
       "      <th>churn</th>\n",
       "      <th></th>\n",
       "    </tr>\n",
       "  </thead>\n",
       "  <tbody>\n",
       "    <tr>\n",
       "      <th>True</th>\n",
       "      <td>0.207937</td>\n",
       "    </tr>\n",
       "    <tr>\n",
       "      <th>False</th>\n",
       "      <td>0.792063</td>\n",
       "    </tr>\n",
       "  </tbody>\n",
       "</table>\n",
       "</div>"
      ],
      "text/plain": [
       "       churn_share\n",
       "churn             \n",
       "True      0.207937\n",
       "False     0.792063"
      ]
     },
     "execution_count": 782,
     "metadata": {},
     "output_type": "execute_result"
    }
   ],
   "source": [
    "df[df.gender == 'M'][['churn', 'churn_share']].set_index('churn')[]"
   ]
  },
  {
   "cell_type": "code",
   "execution_count": 790,
   "metadata": {},
   "outputs": [
    {
     "data": {
      "text/plain": [
       "3    0.792063\n",
       "0    0.207937\n",
       "Name: total, dtype: float64"
      ]
     },
     "execution_count": 790,
     "metadata": {},
     "output_type": "execute_result"
    }
   ],
   "source": [
    "df[df.gender == 'M'].sort_values(by='churn')['total']"
   ]
  },
  {
   "cell_type": "code",
   "execution_count": 786,
   "metadata": {},
   "outputs": [
    {
     "data": {
      "text/plain": [
       "0    0.207937\n",
       "3    0.792063\n",
       "Name: total, dtype: float64"
      ]
     },
     "execution_count": 786,
     "metadata": {},
     "output_type": "execute_result"
    }
   ],
   "source": [
    "df[df.gender == 'M'].sort_values()\n",
    "\n",
    "['total'].sort_values()"
   ]
  },
  {
   "cell_type": "code",
   "execution_count": 791,
   "metadata": {},
   "outputs": [
    {
     "data": {
      "image/png": "[encoded data removed]",
      "text/plain": [
       "<Figure size 432x432 with 1 Axes>"
      ]
     },
     "metadata": {
      "needs_background": "light"
     },
     "output_type": "display_data"
    }
   ],
   "source": [
    "df['total'] = df.apply(lambda row: calc(row), axis=1)\n",
    "df1 = df[df.gender == 'M'].sort_values(by='churn')['total']\n",
    "df2 = df[df.gender == 'F'].sort_values(by='churn')['total']\n",
    "\n",
    "plt.figure(figsize = [6, 6])\n",
    "width =0.4\n",
    "labels = ['Non-churned', 'Churned']\n",
    "plt.xticks(range(2), labels)\n",
    "plt.xlabel('Gender')\n",
    "plt.ylabel('Churn')\n",
    "plt.bar(np.arange(len(df1)), df1, width=width)\n",
    "plt.bar(np.arange(len(df2))+ width, df2, width=width)\n",
    "ax = plt.gca()\n",
    "ax.set_title('Churn vs Gender');\n",
    "plt.legend(['Male', 'Female'], loc=1)\n",
    "plt.show()"
   ]
  },
  {
   "cell_type": "code",
   "execution_count": null,
   "metadata": {},
   "outputs": [],
   "source": []
  },
  {
   "cell_type": "code",
   "execution_count": 773,
   "metadata": {},
   "outputs": [],
   "source": [
    "df = df.drop('total', axis = 1)"
   ]
  },
  {
   "cell_type": "code",
   "execution_count": 776,
   "metadata": {},
   "outputs": [
    {
     "data": {
      "text/html": [
       "<div>\n",
       "<style scoped>\n",
       "    .dataframe tbody tr th:only-of-type {\n",
       "        vertical-align: middle;\n",
       "    }\n",
       "\n",
       "    .dataframe tbody tr th {\n",
       "        vertical-align: top;\n",
       "    }\n",
       "\n",
       "    .dataframe thead th {\n",
       "        text-align: right;\n",
       "    }\n",
       "</style>\n",
       "<table border=\"1\" class=\"dataframe\">\n",
       "  <thead>\n",
       "    <tr style=\"text-align: right;\">\n",
       "      <th></th>\n",
       "      <th>gender</th>\n",
       "      <th>churn</th>\n",
       "      <th>count</th>\n",
       "      <th>M_total</th>\n",
       "      <th>F_total</th>\n",
       "      <th>churn_share</th>\n",
       "    </tr>\n",
       "  </thead>\n",
       "  <tbody>\n",
       "    <tr>\n",
       "      <th>0</th>\n",
       "      <td>M</td>\n",
       "      <td>True</td>\n",
       "      <td>25696</td>\n",
       "      <td>123576</td>\n",
       "      <td>154578</td>\n",
       "      <td>0.207937</td>\n",
       "    </tr>\n",
       "    <tr>\n",
       "      <th>1</th>\n",
       "      <td>F</td>\n",
       "      <td>False</td>\n",
       "      <td>135410</td>\n",
       "      <td>123576</td>\n",
       "      <td>154578</td>\n",
       "      <td>0.875998</td>\n",
       "    </tr>\n",
       "    <tr>\n",
       "      <th>2</th>\n",
       "      <td>F</td>\n",
       "      <td>True</td>\n",
       "      <td>19168</td>\n",
       "      <td>123576</td>\n",
       "      <td>154578</td>\n",
       "      <td>0.124002</td>\n",
       "    </tr>\n",
       "    <tr>\n",
       "      <th>3</th>\n",
       "      <td>M</td>\n",
       "      <td>False</td>\n",
       "      <td>97880</td>\n",
       "      <td>123576</td>\n",
       "      <td>154578</td>\n",
       "      <td>0.792063</td>\n",
       "    </tr>\n",
       "  </tbody>\n",
       "</table>\n",
       "</div>"
      ],
      "text/plain": [
       "  gender  churn   count  M_total  F_total  churn_share\n",
       "0      M   True   25696   123576   154578     0.207937\n",
       "1      F  False  135410   123576   154578     0.875998\n",
       "2      F   True   19168   123576   154578     0.124002\n",
       "3      M  False   97880   123576   154578     0.792063"
      ]
     },
     "execution_count": 776,
     "metadata": {},
     "output_type": "execute_result"
    }
   ],
   "source": [
    "def calc(row):\n",
    "    if row['gender'] == 'M':\n",
    "        return row['count']/row['M_total']\n",
    "    else:\n",
    "        return row['count']/row['F_total']\n",
    "\n",
    "df['churn_share'] = df.apply(lambda row: calc(row), axis=1)\n",
    "df "
   ]
  },
  {
   "cell_type": "code",
   "execution_count": 766,
   "metadata": {},
   "outputs": [
    {
     "data": {
      "text/html": [
       "<div>\n",
       "<style scoped>\n",
       "    .dataframe tbody tr th:only-of-type {\n",
       "        vertical-align: middle;\n",
       "    }\n",
       "\n",
       "    .dataframe tbody tr th {\n",
       "        vertical-align: top;\n",
       "    }\n",
       "\n",
       "    .dataframe thead th {\n",
       "        text-align: right;\n",
       "    }\n",
       "</style>\n",
       "<table border=\"1\" class=\"dataframe\">\n",
       "  <thead>\n",
       "    <tr style=\"text-align: right;\">\n",
       "      <th></th>\n",
       "      <th>gender</th>\n",
       "      <th>churn</th>\n",
       "      <th>count</th>\n",
       "      <th>M_total</th>\n",
       "      <th>F_total</th>\n",
       "      <th>total</th>\n",
       "    </tr>\n",
       "  </thead>\n",
       "  <tbody>\n",
       "    <tr>\n",
       "      <th>0</th>\n",
       "      <td>M</td>\n",
       "      <td>True</td>\n",
       "      <td>25696</td>\n",
       "      <td>123576</td>\n",
       "      <td>154578</td>\n",
       "      <td>0.207937</td>\n",
       "    </tr>\n",
       "    <tr>\n",
       "      <th>1</th>\n",
       "      <td>F</td>\n",
       "      <td>False</td>\n",
       "      <td>135410</td>\n",
       "      <td>123576</td>\n",
       "      <td>154578</td>\n",
       "      <td>0.875998</td>\n",
       "    </tr>\n",
       "    <tr>\n",
       "      <th>2</th>\n",
       "      <td>F</td>\n",
       "      <td>True</td>\n",
       "      <td>19168</td>\n",
       "      <td>123576</td>\n",
       "      <td>154578</td>\n",
       "      <td>0.124002</td>\n",
       "    </tr>\n",
       "    <tr>\n",
       "      <th>3</th>\n",
       "      <td>M</td>\n",
       "      <td>False</td>\n",
       "      <td>97880</td>\n",
       "      <td>123576</td>\n",
       "      <td>154578</td>\n",
       "      <td>0.792063</td>\n",
       "    </tr>\n",
       "  </tbody>\n",
       "</table>\n",
       "</div>"
      ],
      "text/plain": [
       "  gender  churn   count  M_total  F_total     total\n",
       "0      M   True   25696   123576   154578  0.207937\n",
       "1      F  False  135410   123576   154578  0.875998\n",
       "2      F   True   19168   123576   154578  0.124002\n",
       "3      M  False   97880   123576   154578  0.792063"
      ]
     },
     "execution_count": 766,
     "metadata": {},
     "output_type": "execute_result"
    }
   ],
   "source": [
    "def calc(row):\n",
    "    if row['gender'] == 'M':\n",
    "        return row['count']/row['M_total']\n",
    "    else:\n",
    "        return row['count']/row['F_total']\n",
    "\n",
    "df['total'] = df.apply(lambda row: calc(row), axis=1)\n",
    "df1 = \n",
    "\n",
    "plt.figure(figsize = [6, 6])\n",
    "width =0.4\n",
    "labels = ['Non-churned', 'Churned']\n",
    "plt.xticks(range(2), labels)\n",
    "plt.xlabel('Gender')\n",
    "plt.ylabel('Churn')\n",
    "plt.bar(np.arange(len(df1)), df1, width=width)\n",
    "plt.bar(np.arange(len(df2))+ width, df2, width=width)\n",
    "ax = plt.gca()\n",
    "ax.set_title('Churn vs Gender');\n",
    "plt.legend(['Male', 'Female'], loc=1)\n",
    "plt.show()"
   ]
  },
  {
   "cell_type": "code",
   "execution_count": 760,
   "metadata": {},
   "outputs": [
    {
     "data": {
      "text/plain": [
       "0.20793681621026736"
      ]
     },
     "execution_count": 760,
     "metadata": {},
     "output_type": "execute_result"
    }
   ],
   "source": [
    "25696/123576"
   ]
  },
  {
   "cell_type": "code",
   "execution_count": 732,
   "metadata": {},
   "outputs": [],
   "source": [
    "df = data.groupby('gender', 'churn').count().toPandas()"
   ]
  },
  {
   "cell_type": "code",
   "execution_count": 733,
   "metadata": {},
   "outputs": [
    {
     "data": {
      "text/html": [
       "<div>\n",
       "<style scoped>\n",
       "    .dataframe tbody tr th:only-of-type {\n",
       "        vertical-align: middle;\n",
       "    }\n",
       "\n",
       "    .dataframe tbody tr th {\n",
       "        vertical-align: top;\n",
       "    }\n",
       "\n",
       "    .dataframe thead th {\n",
       "        text-align: right;\n",
       "    }\n",
       "</style>\n",
       "<table border=\"1\" class=\"dataframe\">\n",
       "  <thead>\n",
       "    <tr style=\"text-align: right;\">\n",
       "      <th></th>\n",
       "      <th>gender</th>\n",
       "      <th>churn</th>\n",
       "      <th>count</th>\n",
       "    </tr>\n",
       "  </thead>\n",
       "  <tbody>\n",
       "    <tr>\n",
       "      <th>0</th>\n",
       "      <td>M</td>\n",
       "      <td>True</td>\n",
       "      <td>25696</td>\n",
       "    </tr>\n",
       "    <tr>\n",
       "      <th>1</th>\n",
       "      <td>F</td>\n",
       "      <td>False</td>\n",
       "      <td>135410</td>\n",
       "    </tr>\n",
       "    <tr>\n",
       "      <th>2</th>\n",
       "      <td>F</td>\n",
       "      <td>True</td>\n",
       "      <td>19168</td>\n",
       "    </tr>\n",
       "    <tr>\n",
       "      <th>3</th>\n",
       "      <td>M</td>\n",
       "      <td>False</td>\n",
       "      <td>97880</td>\n",
       "    </tr>\n",
       "  </tbody>\n",
       "</table>\n",
       "</div>"
      ],
      "text/plain": [
       "  gender  churn   count\n",
       "0      M   True   25696\n",
       "1      F  False  135410\n",
       "2      F   True   19168\n",
       "3      M  False   97880"
      ]
     },
     "execution_count": 733,
     "metadata": {},
     "output_type": "execute_result"
    }
   ],
   "source": [
    "df"
   ]
  },
  {
   "cell_type": "code",
   "execution_count": 729,
   "metadata": {},
   "outputs": [
    {
     "data": {
      "text/plain": [
       "DataFrame[churn: boolean]"
      ]
     },
     "execution_count": 729,
     "metadata": {},
     "output_type": "execute_result"
    }
   ],
   "source": [
    "data.groupby('gender').select('churn')"
   ]
  },
  {
   "cell_type": "code",
   "execution_count": null,
   "metadata": {},
   "outputs": [],
   "source": []
  },
  {
   "cell_type": "code",
   "execution_count": 726,
   "metadata": {},
   "outputs": [
    {
     "data": {
      "image/png": "[encoded data removed]",
      "text/plain": [
       "<Figure size 432x432 with 1 Axes>"
      ]
     },
     "metadata": {
      "needs_background": "light"
     },
     "output_type": "display_data"
    }
   ],
   "source": [
    "df1 = df[df.gender == 'M'].groupby('churn')['churn'].count()/df[df.gender == 'M']['churn'].count()\n",
    "df2 = df[df.gender == 'F'].groupby('churn')['churn'].count()/df[df.gender == 'F']['churn'].count()\n",
    "\n",
    "plt.figure(figsize = [6, 6])\n",
    "width =0.4\n",
    "labels = ['Non-churned', 'Churned']\n",
    "plt.xticks(range(2), labels)\n",
    "plt.xlabel('Gender')\n",
    "plt.ylabel('Churn')\n",
    "plt.bar(np.arange(len(df1)), df1, width=width)\n",
    "plt.bar(np.arange(len(df2))+ width, df2, width=width)\n",
    "ax = plt.gca()\n",
    "ax.set_title('Churn vs Gender');\n",
    "plt.legend(['Male', 'Female'], loc=1)\n",
    "plt.show()"
   ]
  },
  {
   "cell_type": "code",
   "execution_count": 653,
   "metadata": {},
   "outputs": [
    {
     "data": {
      "text/html": [
       "<div>\n",
       "<style scoped>\n",
       "    .dataframe tbody tr th:only-of-type {\n",
       "        vertical-align: middle;\n",
       "    }\n",
       "\n",
       "    .dataframe tbody tr th {\n",
       "        vertical-align: top;\n",
       "    }\n",
       "\n",
       "    .dataframe thead th {\n",
       "        text-align: right;\n",
       "    }\n",
       "</style>\n",
       "<table border=\"1\" class=\"dataframe\">\n",
       "  <thead>\n",
       "    <tr style=\"text-align: right;\">\n",
       "      <th></th>\n",
       "      <th>gender</th>\n",
       "      <th>churn</th>\n",
       "      <th>count</th>\n",
       "    </tr>\n",
       "  </thead>\n",
       "  <tbody>\n",
       "    <tr>\n",
       "      <th>1</th>\n",
       "      <td>F</td>\n",
       "      <td>False</td>\n",
       "      <td>135410</td>\n",
       "    </tr>\n",
       "    <tr>\n",
       "      <th>2</th>\n",
       "      <td>F</td>\n",
       "      <td>True</td>\n",
       "      <td>19168</td>\n",
       "    </tr>\n",
       "    <tr>\n",
       "      <th>3</th>\n",
       "      <td>M</td>\n",
       "      <td>False</td>\n",
       "      <td>97880</td>\n",
       "    </tr>\n",
       "    <tr>\n",
       "      <th>0</th>\n",
       "      <td>M</td>\n",
       "      <td>True</td>\n",
       "      <td>25696</td>\n",
       "    </tr>\n",
       "  </tbody>\n",
       "</table>\n",
       "</div>"
      ],
      "text/plain": [
       "  gender  churn   count\n",
       "1      F  False  135410\n",
       "2      F   True   19168\n",
       "3      M  False   97880\n",
       "0      M   True   25696"
      ]
     },
     "execution_count": 653,
     "metadata": {},
     "output_type": "execute_result"
    }
   ],
   "source": [
    "df.sort_values(by=['gender','churn']).head()"
   ]
  },
  {
   "cell_type": "code",
   "execution_count": 649,
   "metadata": {},
   "outputs": [
    {
     "data": {
      "image/png": "[encoded data removed]",
      "text/plain": [
       "<Figure size 432x288 with 1 Axes>"
      ]
     },
     "metadata": {
      "needs_background": "light"
     },
     "output_type": "display_data"
    }
   ],
   "source": [
    "df.plot.bar(y = 'count', x = ['gender','churn']);"
   ]
  },
  {
   "cell_type": "code",
   "execution_count": 670,
   "metadata": {},
   "outputs": [
    {
     "data": {
      "image/png": "[encoded data removed]",
      "text/plain": [
       "<Figure size 432x432 with 1 Axes>"
      ]
     },
     "metadata": {
      "needs_background": "light"
     },
     "output_type": "display_data"
    }
   ],
   "source": [
    "plt.figure(figsize = [6, 6])\n",
    "df = data.select('gender', 'churn').toPandas()\n",
    "sb.countplot(data = df, x = 'gender', hue = 'churn');"
   ]
  },
  {
   "cell_type": "code",
   "execution_count": null,
   "metadata": {},
   "outputs": [],
   "source": []
  },
  {
   "cell_type": "code",
   "execution_count": 676,
   "metadata": {},
   "outputs": [
    {
     "data": {
      "text/plain": [
       "gender  churn\n",
       "F       False    135410\n",
       "        True      19168\n",
       "M       False     97880\n",
       "        True      25696\n",
       "Name: churn, dtype: int64"
      ]
     },
     "execution_count": 676,
     "metadata": {},
     "output_type": "execute_result"
    }
   ],
   "source": [
    "df.groupby(['gender', 'churn'])['churn'].count()"
   ]
  },
  {
   "cell_type": "code",
   "execution_count": 681,
   "metadata": {},
   "outputs": [
    {
     "data": {
      "text/plain": [
       "154578"
      ]
     },
     "execution_count": 681,
     "metadata": {},
     "output_type": "execute_result"
    }
   ],
   "source": [
    "df[df.gender == 'F']['churn'].count()"
   ]
  },
  {
   "cell_type": "code",
   "execution_count": 683,
   "metadata": {},
   "outputs": [
    {
     "data": {
      "text/plain": [
       "churn\n",
       "False    0.875998\n",
       "True     0.124002\n",
       "Name: churn, dtype: float64"
      ]
     },
     "execution_count": 683,
     "metadata": {},
     "output_type": "execute_result"
    }
   ],
   "source": [
    "df[df.gender == 'F'].groupby('churn')['churn'].count()/df[df.gender == 'F']['churn'].count()"
   ]
  },
  {
   "cell_type": "code",
   "execution_count": 684,
   "metadata": {},
   "outputs": [
    {
     "data": {
      "text/plain": [
       "churn\n",
       "False    0.792063\n",
       "True     0.207937\n",
       "Name: churn, dtype: float64"
      ]
     },
     "execution_count": 684,
     "metadata": {},
     "output_type": "execute_result"
    }
   ],
   "source": [
    "df[df.gender == 'M'].groupby('churn')['churn'].count()/df[df.gender == 'M']['churn'].count()"
   ]
  },
  {
   "cell_type": "code",
   "execution_count": 686,
   "metadata": {},
   "outputs": [
    {
     "data": {
      "text/html": [
       "<div>\n",
       "<style scoped>\n",
       "    .dataframe tbody tr th:only-of-type {\n",
       "        vertical-align: middle;\n",
       "    }\n",
       "\n",
       "    .dataframe tbody tr th {\n",
       "        vertical-align: top;\n",
       "    }\n",
       "\n",
       "    .dataframe thead th {\n",
       "        text-align: right;\n",
       "    }\n",
       "</style>\n",
       "<table border=\"1\" class=\"dataframe\">\n",
       "  <thead>\n",
       "    <tr style=\"text-align: right;\">\n",
       "      <th>churn</th>\n",
       "      <th>False</th>\n",
       "      <th>True</th>\n",
       "    </tr>\n",
       "    <tr>\n",
       "      <th>gender</th>\n",
       "      <th></th>\n",
       "      <th></th>\n",
       "    </tr>\n",
       "  </thead>\n",
       "  <tbody>\n",
       "    <tr>\n",
       "      <th>F</th>\n",
       "      <td>135410</td>\n",
       "      <td>19168</td>\n",
       "    </tr>\n",
       "    <tr>\n",
       "      <th>M</th>\n",
       "      <td>97880</td>\n",
       "      <td>25696</td>\n",
       "    </tr>\n",
       "  </tbody>\n",
       "</table>\n",
       "</div>"
      ],
      "text/plain": [
       "churn    False  True \n",
       "gender               \n",
       "F       135410  19168\n",
       "M        97880  25696"
      ]
     },
     "execution_count": 686,
     "metadata": {},
     "output_type": "execute_result"
    }
   ],
   "source": [
    "dt2 = df.groupby(['gender', 'churn']).size().reset_index()\n",
    "dt2['count'] = dt2.iloc[:, 2]\n",
    "dt2.drop(0, axis=1, inplace=True)\n",
    "dt2 = dt2.pivot(index = 'gender', columns = 'churn', values = 'count')\n",
    "dt2"
   ]
  },
  {
   "cell_type": "code",
   "execution_count": 687,
   "metadata": {},
   "outputs": [
    {
     "data": {
      "text/plain": [
       "(2.0, 0.0)"
      ]
     },
     "execution_count": 687,
     "metadata": {},
     "output_type": "execute_result"
    },
    {
     "data": {
      "image/png": "[encoded data removed]",
      "text/plain": [
       "<Figure size 720x360 with 2 Axes>"
      ]
     },
     "metadata": {
      "needs_background": "light"
     },
     "output_type": "display_data"
    }
   ],
   "source": [
    "plt.figure(figsize = [10, 5])\n",
    "ax = sb.heatmap(dt2, annot=True, fmt = '.0f')\n",
    "plt.yticks(rotation = 0)\n",
    "\n",
    "# correct plot cut off (Note: we must fix it due to the bug in the matplotlib 3.1.1)\n",
    "bottom, top = ax.get_ylim()\n",
    "ax.set_ylim(bottom + 0.5, top - 0.5)"
   ]
  },
  {
   "cell_type": "code",
   "execution_count": null,
   "metadata": {},
   "outputs": [],
   "source": []
  },
  {
   "cell_type": "code",
   "execution_count": null,
   "metadata": {},
   "outputs": [],
   "source": []
  },
  {
   "cell_type": "code",
   "execution_count": null,
   "metadata": {},
   "outputs": [],
   "source": []
  },
  {
   "cell_type": "code",
   "execution_count": null,
   "metadata": {},
   "outputs": [],
   "source": []
  },
  {
   "cell_type": "code",
   "execution_count": null,
   "metadata": {},
   "outputs": [],
   "source": []
  },
  {
   "cell_type": "code",
   "execution_count": 630,
   "metadata": {},
   "outputs": [
    {
     "data": {
      "text/plain": [
       "40"
      ]
     },
     "execution_count": 630,
     "metadata": {},
     "output_type": "execute_result"
    }
   ],
   "source": [
    "# Are all downgrade events included? - No\n",
    "data.where((data.churn == False) & (data.page == 'Submit Downgrade')).select('userId').dropDuplicates().count()"
   ]
  },
  {
   "cell_type": "code",
   "execution_count": 635,
   "metadata": {},
   "outputs": [],
   "source": [
    "# Explore non-churned downgrade events\n",
    "non_churned_downgrade = data.where((data.churn == False) & (data.page == 'Submit Downgrade')).select('userId').dropDuplicates()\n",
    "\n",
    "\n"
   ]
  },
  {
   "cell_type": "code",
   "execution_count": 634,
   "metadata": {},
   "outputs": [
    {
     "name": "stdout",
     "output_type": "stream",
     "text": [
      "+------+\n",
      "|userId|\n",
      "+------+\n",
      "|    11|\n",
      "|    30|\n",
      "|    59|\n",
      "|    85|\n",
      "|    35|\n",
      "|100008|\n",
      "|300002|\n",
      "|    96|\n",
      "|   100|\n",
      "|    61|\n",
      "|   131|\n",
      "|   140|\n",
      "|300004|\n",
      "|300015|\n",
      "|    77|\n",
      "|300011|\n",
      "|100004|\n",
      "|200003|\n",
      "|300023|\n",
      "|100016|\n",
      "+------+\n",
      "only showing top 20 rows\n",
      "\n"
     ]
    }
   ],
   "source": [
    "non_churned_downgrade \\\n",
    "    .where(col('page')[''])\n",
    "\n"
   ]
  },
  {
   "cell_type": "code",
   "execution_count": null,
   "metadata": {},
   "outputs": [],
   "source": []
  },
  {
   "cell_type": "code",
   "execution_count": 609,
   "metadata": {},
   "outputs": [
    {
     "name": "stdout",
     "output_type": "stream",
     "text": [
      "+---------+-----+\n",
      "|sessionId|count|\n",
      "+---------+-----+\n",
      "|     1695|    2|\n",
      "|       69|    2|\n",
      "|      249|    1|\n",
      "|      487|    1|\n",
      "|      532|    1|\n",
      "|      734|    1|\n",
      "|     2041|    1|\n",
      "|      144|    1|\n",
      "|      378|    1|\n",
      "|      190|    1|\n",
      "|      459|    1|\n",
      "|     1689|    1|\n",
      "|     1918|    1|\n",
      "|       28|    1|\n",
      "|     1875|    1|\n",
      "|      115|    1|\n",
      "|       67|    1|\n",
      "|      132|    1|\n",
      "|      529|    1|\n",
      "|      202|    1|\n",
      "+---------+-----+\n",
      "only showing top 20 rows\n",
      "\n"
     ]
    }
   ],
   "source": [
    "data.where((data.churn == False) & (data.page == 'Submit Downgrade')) \\\n",
    "    .groupby('sessionId').count().sort(desc('count')).show()"
   ]
  },
  {
   "cell_type": "code",
   "execution_count": 459,
   "metadata": {},
   "outputs": [],
   "source": [
    "# Count churned users - must fulfill te following 2 conditions:\n",
    "#   1. User must interact with 'Submit Downgrade' page OR 'Cancellation Confirmation' page\n",
    "#   \n",
    "\n",
    "users = data \\\n",
    "    .where(data.page.isin(['Submit Downgrade', 'Cancellation Confirmation']) & (data.level == 'paid')) \\\n",
    "    .groupby('userId') \\\n",
    "    .agg(min('ts').alias('timestamp_min'), max('ts').alias('timestamp_max')) \\\n",
    "    .collect()\n",
    "\n",
    "# list of userIds\n",
    "uids = [x.userId for x in users];\n",
    "\n",
    "is_candidate = udf(lambda x: x.isin(uids))\n"
   ]
  },
  {
   "cell_type": "code",
   "execution_count": 463,
   "metadata": {},
   "outputs": [
    {
     "name": "stdout",
     "output_type": "stream",
     "text": [
      "+------+-----+\n",
      "|userId|count|\n",
      "+------+-----+\n",
      "|   122|   62|\n",
      "|    32|  108|\n",
      "|300007|  143|\n",
      "|     3|  254|\n",
      "|300004|  262|\n",
      "|100014|  310|\n",
      "|   129|  412|\n",
      "|    73|  457|\n",
      "|100023|  494|\n",
      "|    18|  513|\n",
      "|100007|  520|\n",
      "|200024|  552|\n",
      "|100012|  600|\n",
      "|200017|  620|\n",
      "|100025|  623|\n",
      "|    24|  630|\n",
      "|100016|  638|\n",
      "|200019|  639|\n",
      "|100009|  671|\n",
      "|    11|  848|\n",
      "+------+-----+\n",
      "only showing top 20 rows\n",
      "\n"
     ]
    }
   ],
   "source": [
    "cols = ['userId', 'regDate', 'sessionId', 'tsDate', 'auth', 'level', 'page', 'status']\n",
    "data.where(data.userId.isin(uids)) \\\n",
    "    .groupby('userId') \\\n",
    "    .count() \\\n",
    "    .sort('count') \\\n",
    "    .show()\n",
    "    #.select(cols).show(500)"
   ]
  },
  {
   "cell_type": "code",
   "execution_count": 465,
   "metadata": {
    "scrolled": false
   },
   "outputs": [
    {
     "name": "stdout",
     "output_type": "stream",
     "text": [
      "+------+-------------------+---------+-------------------+---------+-----+--------------------+------+\n",
      "|userId|            regDate|sessionId|             tsDate|     auth|level|                page|status|\n",
      "+------+-------------------+---------+-------------------+---------+-----+--------------------+------+\n",
      "|   122|2018-08-29 01:25:05|      403|2018-10-04 14:47:15|Logged In| free|                Home|   200|\n",
      "|   122|2018-08-29 01:25:05|      403|2018-10-04 14:47:16|Logged In| free|              Logout|   307|\n",
      "|   122|2018-08-29 01:25:05|      611|2018-10-10 14:12:18|Logged In| free|                Home|   200|\n",
      "|   122|2018-08-29 01:25:05|      611|2018-10-10 14:14:24|Logged In| free|            NextSong|   200|\n",
      "|   122|2018-08-29 01:25:05|      611|2018-10-10 14:17:04|Logged In| free|            NextSong|   200|\n",
      "|   122|2018-08-29 01:25:05|      611|2018-10-10 14:19:15|Logged In| free|            NextSong|   200|\n",
      "|   122|2018-08-29 01:25:05|      611|2018-10-10 14:24:24|Logged In| free|            NextSong|   200|\n",
      "|   122|2018-08-29 01:25:05|      611|2018-10-10 14:27:38|Logged In| free|            NextSong|   200|\n",
      "|   122|2018-08-29 01:25:05|      611|2018-10-10 14:29:29|Logged In| free|         Roll Advert|   200|\n",
      "|   122|2018-08-29 01:25:05|      691|2018-10-18 20:21:40|Logged In| free|                Home|   200|\n",
      "|   122|2018-08-29 01:25:05|      691|2018-10-18 20:21:43|Logged In| free|            NextSong|   200|\n",
      "|   122|2018-08-29 01:25:05|      691|2018-10-18 20:25:20|Logged In| free|            NextSong|   200|\n",
      "|   122|2018-08-29 01:25:05|      691|2018-10-18 20:29:54|Logged In| free|            NextSong|   200|\n",
      "|   122|2018-08-29 01:25:05|      691|2018-10-18 20:32:58|Logged In| free|            NextSong|   200|\n",
      "|   122|2018-08-29 01:25:05|      691|2018-10-18 20:34:43|Logged In| free|         Roll Advert|   200|\n",
      "|   122|2018-08-29 01:25:05|      691|2018-10-18 20:36:46|Logged In| free|            NextSong|   200|\n",
      "|   122|2018-08-29 01:25:05|      691|2018-10-18 20:39:08|Logged In| free|            NextSong|   200|\n",
      "|   122|2018-08-29 01:25:05|      691|2018-10-18 20:40:10|Logged In| free|                Home|   200|\n",
      "|   122|2018-08-29 01:25:05|     1029|2018-10-20 19:06:24|Logged In| free|            NextSong|   200|\n",
      "|   122|2018-08-29 01:25:05|     1029|2018-10-20 19:06:24|Logged In| free|                Home|   200|\n",
      "|   122|2018-08-29 01:25:05|     1029|2018-10-20 19:10:12|Logged In| free|            NextSong|   200|\n",
      "|   122|2018-08-29 01:25:05|     1029|2018-10-20 19:13:52|Logged In| free|            NextSong|   200|\n",
      "|   122|2018-08-29 01:25:05|     1029|2018-10-20 19:14:50|Logged In| free|             Upgrade|   200|\n",
      "|   122|2018-08-29 01:25:05|     1029|2018-10-20 19:16:11|Logged In| free|             Upgrade|   200|\n",
      "|   122|2018-08-29 01:25:05|     1029|2018-10-20 19:16:12|Logged In| free|      Submit Upgrade|   307|\n",
      "|   122|2018-08-29 01:25:05|     1029|2018-10-20 19:16:16|Logged In| paid|                Home|   200|\n",
      "|   122|2018-08-29 01:25:05|     1029|2018-10-20 19:16:17|Logged In| paid|          Add Friend|   307|\n",
      "|   122|2018-08-29 01:25:05|     1029|2018-10-20 19:17:39|Logged In| paid|            NextSong|   200|\n",
      "|   122|2018-08-29 01:25:05|     1029|2018-10-20 19:22:27|Logged In| paid|            NextSong|   200|\n",
      "|   122|2018-08-29 01:25:05|     1029|2018-10-20 19:28:11|Logged In| paid|            NextSong|   200|\n",
      "|   122|2018-08-29 01:25:05|     1029|2018-10-20 19:33:14|Logged In| paid|            NextSong|   200|\n",
      "|   122|2018-08-29 01:25:05|     1029|2018-10-20 19:36:05|Logged In| paid|            NextSong|   200|\n",
      "|   122|2018-08-29 01:25:05|     1029|2018-10-20 19:36:06|Logged In| paid|           Thumbs Up|   307|\n",
      "|   122|2018-08-29 01:25:05|     1029|2018-10-20 19:38:12|Logged In| paid|            NextSong|   200|\n",
      "|   122|2018-08-29 01:25:05|     1029|2018-10-20 19:41:25|Logged In| paid|            NextSong|   200|\n",
      "|   122|2018-08-29 01:25:05|     1029|2018-10-20 19:46:03|Logged In| paid|            NextSong|   200|\n",
      "|   122|2018-08-29 01:25:05|     1029|2018-10-20 19:49:15|Logged In| paid|            NextSong|   200|\n",
      "|   122|2018-08-29 01:25:05|     1029|2018-10-20 19:52:29|Logged In| paid|            NextSong|   200|\n",
      "|   122|2018-08-29 01:25:05|     1029|2018-10-20 19:58:22|Logged In| paid|            NextSong|   200|\n",
      "|   122|2018-08-29 01:25:05|     1029|2018-10-20 20:02:22|Logged In| paid|            NextSong|   200|\n",
      "|   122|2018-08-29 01:25:05|     1029|2018-10-20 20:06:06|Logged In| paid|            NextSong|   200|\n",
      "|   122|2018-08-29 01:25:05|     1029|2018-10-20 20:09:51|Logged In| paid|            NextSong|   200|\n",
      "|   122|2018-08-29 01:25:05|     1029|2018-10-20 20:14:58|Logged In| paid|            NextSong|   200|\n",
      "|   122|2018-08-29 01:25:05|     1029|2018-10-20 20:14:59|Logged In| paid|         Thumbs Down|   307|\n",
      "|   122|2018-08-29 01:25:05|     1029|2018-10-20 20:18:59|Logged In| paid|            NextSong|   200|\n",
      "|   122|2018-08-29 01:25:05|     1029|2018-10-20 20:23:05|Logged In| paid|            NextSong|   200|\n",
      "|   122|2018-08-29 01:25:05|     1029|2018-10-20 20:25:29|Logged In| paid|            NextSong|   200|\n",
      "|   122|2018-08-29 01:25:05|     1029|2018-10-20 20:25:30|Logged In| paid|           Thumbs Up|   307|\n",
      "|   122|2018-08-29 01:25:05|     1029|2018-10-20 20:29:28|Logged In| paid|            NextSong|   200|\n",
      "|   122|2018-08-29 01:25:05|     1029|2018-10-20 20:33:29|Logged In| paid|            NextSong|   200|\n",
      "|   122|2018-08-29 01:25:05|     1029|2018-10-20 20:38:00|Logged In| paid|            NextSong|   200|\n",
      "|   122|2018-08-29 01:25:05|     1029|2018-10-20 20:42:09|Logged In| paid|            NextSong|   200|\n",
      "|   122|2018-08-29 01:25:05|     1029|2018-10-20 20:46:31|Logged In| paid|            NextSong|   200|\n",
      "|   122|2018-08-29 01:25:05|     1029|2018-10-20 20:50:57|Logged In| paid|            NextSong|   200|\n",
      "|   122|2018-08-29 01:25:05|     1029|2018-10-20 20:54:36|Logged In| paid|            NextSong|   200|\n",
      "|   122|2018-08-29 01:25:05|     1029|2018-10-20 20:57:48|Logged In| paid|            NextSong|   200|\n",
      "|   122|2018-08-29 01:25:05|     1029|2018-10-20 20:57:49|Logged In| paid|           Thumbs Up|   307|\n",
      "|   122|2018-08-29 01:25:05|     1029|2018-10-20 20:59:47|Logged In| paid|     Add to Playlist|   200|\n",
      "|   122|2018-08-29 01:25:05|     1029|2018-10-20 21:00:22|Logged In| paid|            NextSong|   200|\n",
      "|   122|2018-08-29 01:25:05|     1029|2018-10-20 21:00:49|Logged In| paid|            Settings|   200|\n",
      "|   122|2018-08-29 01:25:05|     1029|2018-10-20 21:00:50|Logged In| paid|              Cancel|   307|\n",
      "|   122|2018-08-29 01:25:05|     1029|2018-10-20 21:01:08|Cancelled| paid|Cancellation Conf...|   200|\n",
      "+------+-------------------+---------+-------------------+---------+-----+--------------------+------+\n",
      "\n"
     ]
    }
   ],
   "source": [
    "cols = ['userId', 'regDate', 'sessionId', 'tsDate', 'auth', 'level', 'page', 'status']\n",
    "data.where(data.userId == 122).select(cols).show(500)"
   ]
  },
  {
   "cell_type": "code",
   "execution_count": null,
   "metadata": {},
   "outputs": [],
   "source": [
    "# get last log\n",
    "cols = ['userId', 'regDate', 'sessionId', 'tsDate', 'auth', 'level', 'page', 'status']\n",
    "data.where(data.userId.isin(uids)) \\\n",
    "    .groupby('userId') \\\n",
    "    .agg(max())\n",
    "    .show()\n",
    "    #.select(cols).show(500)"
   ]
  },
  {
   "cell_type": "code",
   "execution_count": 487,
   "metadata": {},
   "outputs": [],
   "source": [
    "from pyspark.sql.window import Window\n",
    "\n",
    "w =  Window.partitionBy(data.userId).orderBy(col('ts').desc())"
   ]
  },
  {
   "cell_type": "code",
   "execution_count": 496,
   "metadata": {},
   "outputs": [],
   "source": [
    "from pyspark.sql.functions import row_number\n",
    "\n",
    "data2 = data.select('userId', 'regDate', 'sessionId', 'tsDate', 'auth', 'level', 'page', 'status',\n",
    "        row_number().over(w).alias(\"rown\"))"
   ]
  },
  {
   "cell_type": "code",
   "execution_count": 505,
   "metadata": {},
   "outputs": [
    {
     "name": "stdout",
     "output_type": "stream",
     "text": [
      "+------+-------------------+---------+-------------------+---------+-----+--------------------+------+----+\n",
      "|userId|            regDate|sessionId|             tsDate|     auth|level|                page|status|rown|\n",
      "+------+-------------------+---------+-------------------+---------+-----+--------------------+------+----+\n",
      "|    35|2018-09-16 01:16:52|     2354|2018-11-30 11:24:09|Logged In| free|         Roll Advert|   200|   1|\n",
      "|100008|2018-09-20 12:44:31|      201|2018-11-27 17:13:39|Logged In| free|              Logout|   307|   1|\n",
      "|100025|2018-07-26 19:19:29|      129|2018-10-23 14:52:32|Cancelled| free|Cancellation Conf...|   200|   1|\n",
      "|    61|2018-09-17 14:48:58|     2345|2018-11-28 18:54:04|Logged In| free|                Home|   200|   1|\n",
      "|   131|2018-08-01 07:45:30|     2281|2018-11-30 04:21:23|Logged In| free|                Home|   200|   1|\n",
      "|300004|2018-08-17 15:44:05|      267|2018-11-14 23:41:25|Logged In| free|           Thumbs Up|   307|   1|\n",
      "|100009|2018-09-19 19:00:37|      145|2018-10-27 05:31:44|Cancelled| free|Cancellation Conf...|   200|   1|\n",
      "|200003|2018-06-30 06:38:12|      407|2018-11-30 01:50:46|Logged In| free|           Thumbs Up|   307|   1|\n",
      "|100016|2018-09-13 17:58:42|      206|2018-11-27 17:20:47|Logged In| free|              Logout|   307|   1|\n",
      "|    95|2018-09-29 11:03:52|     2408|2018-11-30 16:27:24|Logged In| free|                Home|   200|   1|\n",
      "|200009|2018-09-30 15:17:48|      360|2018-11-28 10:26:40|Logged In| free|         Roll Advert|   200|   1|\n",
      "|    92|2018-09-08 12:52:52|     2474|2018-12-01 00:34:25|Logged In| free|              Logout|   307|   1|\n",
      "|100012|2018-09-19 20:19:14|      156|2018-11-01 20:35:00|Cancelled| free|Cancellation Conf...|   200|   1|\n",
      "|200020|2018-09-02 18:51:56|      351|2018-11-17 17:40:42|Cancelled| free|Cancellation Conf...|   200|   1|\n",
      "|    24|2018-09-14 21:55:14|     2312|2018-11-30 19:56:10|Logged In| free|                Home|   200|   1|\n",
      "|200011|2018-07-15 20:34:55|      267|2018-11-02 02:09:24|Cancelled| free|Cancellation Conf...|   200|   1|\n",
      "|   109|2018-08-20 14:35:17|     1971|2018-11-16 13:33:04|Logged In| free|            NextSong|   200|   1|\n",
      "|    13|2018-08-02 08:40:32|     2410|2018-11-29 18:35:09|Logged In| free|              Logout|   307|   1|\n",
      "|200019|2018-09-22 19:52:35|      311|2018-11-18 00:23:52|Logged In| free|                Home|   200|   1|\n",
      "|100018|2018-08-09 13:07:13|      209|2018-11-28 05:12:40|Logged In| free|              Logout|   307|   1|\n",
      "+------+-------------------+---------+-------------------+---------+-----+--------------------+------+----+\n",
      "\n"
     ]
    }
   ],
   "source": [
    "data2.where((data2.rown == 1) \\\n",
    "            & (data2.level == 'free') \\\n",
    "            & (data2.userId.isin(uids))).show()"
   ]
  },
  {
   "cell_type": "code",
   "execution_count": 514,
   "metadata": {
    "scrolled": false
   },
   "outputs": [
    {
     "name": "stdout",
     "output_type": "stream",
     "text": [
      "+------+-------------------+---------+-------------------+---------+-----+--------------------+------+----+\n",
      "|userId|            regDate|sessionId|             tsDate|     auth|level|                page|status|rown|\n",
      "+------+-------------------+---------+-------------------+---------+-----+--------------------+------+----+\n",
      "|   122|2018-08-29 01:25:05|     1029|2018-10-20 21:01:08|Cancelled| paid|Cancellation Conf...|   200|   1|\n",
      "+------+-------------------+---------+-------------------+---------+-----+--------------------+------+----+\n",
      "\n"
     ]
    }
   ],
   "source": [
    "data2.where((data2.rown == 1) & (data2.userId == 122)).show(500)"
   ]
  },
  {
   "cell_type": "code",
   "execution_count": 530,
   "metadata": {},
   "outputs": [
    {
     "data": {
      "text/plain": [
       "67"
      ]
     },
     "execution_count": 530,
     "metadata": {},
     "output_type": "execute_result"
    }
   ],
   "source": [
    "# GET CHURNED USERS\n",
    "users = data \\\n",
    "    .where(data.page.isin(['Submit Downgrade', 'Cancellation Confirmation'])) \\\n",
    "    .select('userId') \\\n",
    "    .dropDuplicates() \\\n",
    "    .collect()\n",
    "\n",
    "# list of userIds\n",
    "uids = [x.userId for x in users];\n",
    "\n",
    "# Window\n",
    "w =  Window.partitionBy(data.userId).orderBy(col('ts').desc())\n",
    "data2 = data.select('userId', 'regDate', 'sessionId', 'tsDate', 'auth', 'level', 'page', 'status',\n",
    "        row_number().over(w).alias(\"rown\"))\n",
    "    \n",
    "# final query\n",
    "data2 \\\n",
    "    .where(data2.rown == 1) \\\n",
    "    .where(data2.userId.isin(uids)) \\\n",
    "    .where((data2.level == 'free') | (data2.page == 'Cancellation Confirmation')) \\\n",
    "    .count()\n",
    "\n"
   ]
  },
  {
   "cell_type": "code",
   "execution_count": null,
   "metadata": {},
   "outputs": [],
   "source": []
  },
  {
   "cell_type": "code",
   "execution_count": null,
   "metadata": {},
   "outputs": [],
   "source": [
    "overUser = window.partitionBy('userId')\n",
    "w = data.withColumn(\n",
    "  \"rown\", array_contains('userId', 'tsDate', 'auth', 'level', 'page', 'status') over overUser).withColumn(\n",
    "  \"total_salary_in_dep\", sum('salary) over overCategory)\n",
    "df.show()"
   ]
  },
  {
   "cell_type": "code",
   "execution_count": null,
   "metadata": {},
   "outputs": [],
   "source": [
    "to_date = udf(lambda x: datetime.datetime.fromtimestamp(x/1000.0), TimestampType())\n",
    "data = data.withColumn('tsDate', to_date('ts'))\n",
    "data = data.withColumn('regDate', to_date('registration'))\n",
    "\n"
   ]
  },
  {
   "cell_type": "code",
   "execution_count": 440,
   "metadata": {},
   "outputs": [
    {
     "data": {
      "text/plain": [
       "Row(userId='125', timestamp_min=1539318918000, timestamp_max=1539318918000)"
      ]
     },
     "execution_count": 440,
     "metadata": {},
     "output_type": "execute_result"
    }
   ],
   "source": [
    "users[0]"
   ]
  },
  {
   "cell_type": "code",
   "execution_count": null,
   "metadata": {},
   "outputs": [],
   "source": [
    "df = data.groupby('sessionId') \\\n",
    "    .agg(((max('ts') - min('ts'))/60000).alias('duration')) \\\n",
    "    .select('sessionId', round(col('duration'), 1).alias('duration')) \\\n",
    "    .toPandas()"
   ]
  },
  {
   "cell_type": "code",
   "execution_count": null,
   "metadata": {},
   "outputs": [],
   "source": []
  },
  {
   "cell_type": "code",
   "execution_count": null,
   "metadata": {},
   "outputs": [],
   "source": []
  },
  {
   "cell_type": "code",
   "execution_count": 41,
   "metadata": {},
   "outputs": [
    {
     "data": {
      "text/plain": [
       "<matplotlib.axes._subplots.AxesSubplot at 0x175e62aec18>"
      ]
     },
     "execution_count": 41,
     "metadata": {},
     "output_type": "execute_result"
    },
    {
     "data": {
      "image/png": "[encoded data removed]",
      "text/plain": [
       "<Figure size 1080x432 with 1 Axes>"
      ]
     },
     "metadata": {
      "needs_background": "light"
     },
     "output_type": "display_data"
    }
   ],
   "source": [
    "plt.figure(figsize=(15,6))\n",
    "sb.distplot(df['sessionId'], bins=40)"
   ]
  },
  {
   "cell_type": "markdown",
   "metadata": {},
   "source": [
    "# Feature Engineering\n",
    "Once you've familiarized yourself with the data, build out the features you find promising to train your model on. To work with the full dataset, you can follow the following steps.\n",
    "- Write a script to extract the necessary features from the smaller subset of data\n",
    "- Ensure that your script is scalable, using the best practices discussed in Lesson 3\n",
    "- Try your script on the full data set, debugging your script if necessary\n",
    "\n",
    "If you are working in the classroom workspace, you can just extract features based on the small subset of data contained here. Be sure to transfer over this work to the larger dataset when you work on your Spark cluster."
   ]
  },
  {
   "cell_type": "code",
   "execution_count": null,
   "metadata": {},
   "outputs": [],
   "source": []
  },
  {
   "cell_type": "markdown",
   "metadata": {},
   "source": [
    "# Modeling\n",
    "Split the full dataset into train, test, and validation sets. Test out several of the machine learning methods you learned. Evaluate the accuracy of the various models, tuning parameters as necessary. Determine your winning model based on test accuracy and report results on the validation set. Since the churned users are a fairly small subset, I suggest using F1 score as the metric to optimize."
   ]
  },
  {
   "cell_type": "code",
   "execution_count": null,
   "metadata": {},
   "outputs": [],
   "source": []
  },
  {
   "cell_type": "markdown",
   "metadata": {},
   "source": [
    "# Final Steps\n",
    "Clean up your code, adding comments and renaming variables to make the code easier to read and maintain. Refer to the Spark Project Overview page and Data Scientist Capstone Project Rubric to make sure you are including all components of the capstone project and meet all expectations. Remember, this includes thorough documentation in a README file in a Github repository, as well as a web app or blog post."
   ]
  },
  {
   "cell_type": "code",
   "execution_count": null,
   "metadata": {},
   "outputs": [],
   "source": []
  }
 ],
 "metadata": {
  "kernelspec": {
   "display_name": "Python 3",
   "language": "python",
   "name": "python3"
  },
  "language_info": {
   "codemirror_mode": {
    "name": "ipython",
    "version": 3
   },
   "file_extension": ".py",
   "mimetype": "text/x-python",
   "name": "python",
   "nbconvert_exporter": "python",
   "pygments_lexer": "ipython3",
   "version": "3.6.8"
  }
 },
 "nbformat": 4,
 "nbformat_minor": 2
}
