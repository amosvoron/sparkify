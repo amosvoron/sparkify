{
 "cells": [
  {
   "cell_type": "markdown",
   "metadata": {},
   "source": [
    "# Sparkify Project Workspace\n",
    "This workspace contains a tiny subset (128MB) of the full dataset available (12GB). Feel free to use this workspace to build your project, or to explore a smaller subset with Spark before deploying your cluster on the cloud. Instructions for setting up your Spark cluster is included in the last lesson of the Extracurricular Spark Course content.\n",
    "\n",
    "You can follow the steps below to guide your data analysis and model building portion of this project."
   ]
  },
  {
   "cell_type": "code",
   "execution_count": 345,
   "metadata": {},
   "outputs": [],
   "source": [
    "# import libraries\n",
    "from pyspark.sql import SparkSession\n",
    "from pyspark.sql.functions import isnan, count, when, col, desc, udf, col, sort_array, asc, min, max, avg, split, round\n",
    "from pyspark.sql.functions import sum as Fsum\n",
    "from pyspark.sql.window import Window\n",
    "\n",
    "from pyspark.sql.types import IntegerType, TimestampType\n",
    "import datetime\n",
    "\n",
    "import numpy as np\n",
    "import pandas as pd\n",
    "%matplotlib inline\n",
    "import matplotlib.pyplot as plt\n",
    "import seaborn as sb"
   ]
  },
  {
   "cell_type": "code",
   "execution_count": 33,
   "metadata": {},
   "outputs": [],
   "source": [
    "# Create a Spark session\n",
    "spark = SparkSession \\\n",
    "    .builder \\\n",
    "    .appName(\"Sparkify\") \\\n",
    "    .getOrCreate()"
   ]
  },
  {
   "cell_type": "markdown",
   "metadata": {},
   "source": [
    "### Common Functions"
   ]
  },
  {
   "cell_type": "code",
   "execution_count": 381,
   "metadata": {},
   "outputs": [],
   "source": [
    "# Set plot's figure size\n",
    "def set_plot_size(width, height):\n",
    "    return plt.figure(figsize = [width, height]);"
   ]
  },
  {
   "cell_type": "markdown",
   "metadata": {},
   "source": [
    "# Load and Clean Dataset\n",
    "In this workspace, the mini-dataset file is `mini_sparkify_event_data.json`. Load and clean the dataset, checking for invalid or missing data - for example, records without userids or sessionids. "
   ]
  },
  {
   "cell_type": "code",
   "execution_count": 34,
   "metadata": {},
   "outputs": [],
   "source": [
    "# Load dataset\n",
    "path = \"data/mini_sparkify_event_data.json\"\n",
    "data = spark.read.json(path)\n",
    "original_count = data.count()"
   ]
  },
  {
   "cell_type": "code",
   "execution_count": 35,
   "metadata": {},
   "outputs": [
    {
     "name": "stdout",
     "output_type": "stream",
     "text": [
      "Row count: 286500\n",
      "Column count: 18\n"
     ]
    }
   ],
   "source": [
    "# Dataset size\n",
    "print(f'Row count: {original_count}')\n",
    "print(f'Column count: {len(data.columns)}')"
   ]
  },
  {
   "cell_type": "code",
   "execution_count": 36,
   "metadata": {},
   "outputs": [
    {
     "name": "stdout",
     "output_type": "stream",
     "text": [
      "Duplicate rows: 0\n"
     ]
    }
   ],
   "source": [
    "# Any duplicate rows? - No\n",
    "print(f'Duplicate rows: {data.count() - data.dropDuplicates().count()}')"
   ]
  },
  {
   "cell_type": "code",
   "execution_count": 37,
   "metadata": {},
   "outputs": [
    {
     "name": "stdout",
     "output_type": "stream",
     "text": [
      "Missing count: 8346\n"
     ]
    }
   ],
   "source": [
    "# Filter by missing value (either null of empty - if string)\n",
    "def filter_missing(data, name):\n",
    "    return data.where((col(name).isNull()) | (col(name) == ''))\n",
    "\n",
    "# Show count of missing values for all columns in the dataset\n",
    "def show_missing(data):\n",
    "    for field in data.schema:\n",
    "        print(f'{field.name}: {filter_missing(data, field.name).count()}')\n",
    "        \n",
    "# Are 8346 missing values in user's column firstName, gender, lastName, location, registration, userAgent, userId correlated \n",
    "# occurring in the same rows? - Yes\n",
    "class Missing:\n",
    "    missing_data = None\n",
    "    \n",
    "    def __init__(self, data):\n",
    "        self.missing_data = data\n",
    "        \n",
    "    def filter_missing(self, name):\n",
    "        self.missing_data = filter_missing(data, name) \n",
    "        return self  \n",
    "    \n",
    "m = Missing(data) \\\n",
    "    .filter_missing('userId') \\\n",
    "    .filter_missing('firstName') \\\n",
    "    .filter_missing('lastName') \\\n",
    "    .filter_missing('gender') \\\n",
    "    .filter_missing('location') \\\n",
    "    .filter_missing('registration') \\\n",
    "    .filter_missing('userAgent')\n",
    "print(f'Missing count: {m.missing_data.count()}')"
   ]
  },
  {
   "cell_type": "code",
   "execution_count": 37,
   "metadata": {},
   "outputs": [],
   "source": [
    "# Remove rows with missing users\n",
    "data = data.where(~((col('userId').isNull()) | (col('userId') == '')))"
   ]
  },
  {
   "cell_type": "code",
   "execution_count": 38,
   "metadata": {},
   "outputs": [
    {
     "data": {
      "text/plain": [
       "8346"
      ]
     },
     "execution_count": 38,
     "metadata": {},
     "output_type": "execute_result"
    }
   ],
   "source": [
    "# Check count of deleted rows\n",
    "original_count - data.count()"
   ]
  },
  {
   "cell_type": "code",
   "execution_count": 39,
   "metadata": {},
   "outputs": [],
   "source": [
    "# Exclude non-relevant columns\n",
    "data = data.drop('firstName')\n",
    "data = data.drop('lastName')\n",
    "data = data.drop('method')"
   ]
  },
  {
   "cell_type": "code",
   "execution_count": 40,
   "metadata": {},
   "outputs": [
    {
     "data": {
      "text/plain": [
       "[Row(artist='Martha Tilston', auth='Logged In', gender='M', itemInSession=50, length=277.89016, level='paid', location='Bakersfield, CA', page='NextSong', registration=1538173362000, sessionId=29, song='Rockpools', status=200, ts=1538352117000, userAgent='Mozilla/5.0 (Windows NT 6.1; WOW64; rv:31.0) Gecko/20100101 Firefox/31.0', userId='30', regDate=datetime.datetime(2018, 9, 29, 0, 22, 42), tsDate=datetime.datetime(2018, 10, 1, 2, 1, 57)),\n",
       " Row(artist='Five Iron Frenzy', auth='Logged In', gender='M', itemInSession=79, length=236.09424, level='free', location='Boston-Cambridge-Newton, MA-NH', page='NextSong', registration=1538331630000, sessionId=8, song='Canada', status=200, ts=1538352180000, userAgent='\"Mozilla/5.0 (Windows NT 6.1; WOW64) AppleWebKit/537.36 (KHTML, like Gecko) Chrome/37.0.2062.103 Safari/537.36\"', userId='9', regDate=datetime.datetime(2018, 9, 30, 20, 20, 30), tsDate=datetime.datetime(2018, 10, 1, 2, 3)),\n",
       " Row(artist='Adam Lambert', auth='Logged In', gender='M', itemInSession=51, length=282.8273, level='paid', location='Bakersfield, CA', page='NextSong', registration=1538173362000, sessionId=29, song='Time For Miracles', status=200, ts=1538352394000, userAgent='Mozilla/5.0 (Windows NT 6.1; WOW64; rv:31.0) Gecko/20100101 Firefox/31.0', userId='30', regDate=datetime.datetime(2018, 9, 29, 0, 22, 42), tsDate=datetime.datetime(2018, 10, 1, 2, 6, 34))]"
      ]
     },
     "execution_count": 40,
     "metadata": {},
     "output_type": "execute_result"
    }
   ],
   "source": [
    "data = data.withColumn('regDate', (col('registration') / 1000.0).cast(TimestampType()))\n",
    "data = data.withColumn('tsDate', (col('ts') / 1000.0).cast(TimestampType()))\n",
    "data.take(3)"
   ]
  },
  {
   "cell_type": "code",
   "execution_count": 41,
   "metadata": {},
   "outputs": [
    {
     "name": "stdout",
     "output_type": "stream",
     "text": [
      "root\n",
      " |-- artist: string (nullable = true)\n",
      " |-- auth: string (nullable = true)\n",
      " |-- gender: string (nullable = true)\n",
      " |-- itemInSession: long (nullable = true)\n",
      " |-- length: double (nullable = true)\n",
      " |-- level: string (nullable = true)\n",
      " |-- location: string (nullable = true)\n",
      " |-- page: string (nullable = true)\n",
      " |-- registration: long (nullable = true)\n",
      " |-- sessionId: long (nullable = true)\n",
      " |-- song: string (nullable = true)\n",
      " |-- status: long (nullable = true)\n",
      " |-- ts: long (nullable = true)\n",
      " |-- userAgent: string (nullable = true)\n",
      " |-- userId: string (nullable = true)\n",
      " |-- regDate: timestamp (nullable = true)\n",
      " |-- tsDate: timestamp (nullable = true)\n",
      "\n"
     ]
    }
   ],
   "source": [
    "data.printSchema()"
   ]
  },
  {
   "cell_type": "code",
   "execution_count": 10,
   "metadata": {},
   "outputs": [],
   "source": [
    "# NOT WORKING TIMESTAMP CONVERSION\n",
    "'''to_date = udf(lambda x: datetime.datetime.fromtimestamp(x/1000.0), TimestampType())\n",
    "data = data.withColumn('tsDate', to_date('ts'))\n",
    "data = data.withColumn('regDate', to_date('registration'))'''"
   ]
  },
  {
   "cell_type": "code",
   "execution_count": 42,
   "metadata": {},
   "outputs": [],
   "source": [
    "data = data.withColumn('city', split(data['location'], ',')[0])\n",
    "data = data.withColumn('state', split(data['location'], ',')[1])\n",
    "data = data.drop('location')"
   ]
  },
  {
   "cell_type": "code",
   "execution_count": 43,
   "metadata": {},
   "outputs": [
    {
     "data": {
      "text/plain": [
       "[Row(artist='Martha Tilston', auth='Logged In', gender='M', itemInSession=50, length=277.89016, level='paid', page='NextSong', registration=1538173362000, sessionId=29, song='Rockpools', status=200, ts=1538352117000, userAgent='Mozilla/5.0 (Windows NT 6.1; WOW64; rv:31.0) Gecko/20100101 Firefox/31.0', userId='30', regDate=datetime.datetime(2018, 9, 29, 0, 22, 42), tsDate=datetime.datetime(2018, 10, 1, 2, 1, 57), city='Bakersfield', state=' CA')]"
      ]
     },
     "execution_count": 43,
     "metadata": {},
     "output_type": "execute_result"
    }
   ],
   "source": [
    "data.take(1)"
   ]
  },
  {
   "cell_type": "code",
   "execution_count": 44,
   "metadata": {},
   "outputs": [
    {
     "name": "stdout",
     "output_type": "stream",
     "text": [
      "root\n",
      " |-- artist: string (nullable = true)\n",
      " |-- auth: string (nullable = true)\n",
      " |-- gender: string (nullable = true)\n",
      " |-- itemInSession: long (nullable = true)\n",
      " |-- length: double (nullable = true)\n",
      " |-- level: string (nullable = true)\n",
      " |-- page: string (nullable = true)\n",
      " |-- registration: long (nullable = true)\n",
      " |-- sessionId: long (nullable = true)\n",
      " |-- song: string (nullable = true)\n",
      " |-- status: long (nullable = true)\n",
      " |-- ts: long (nullable = true)\n",
      " |-- userAgent: string (nullable = true)\n",
      " |-- userId: string (nullable = true)\n",
      " |-- regDate: timestamp (nullable = true)\n",
      " |-- tsDate: timestamp (nullable = true)\n",
      " |-- city: string (nullable = true)\n",
      " |-- state: string (nullable = true)\n",
      "\n"
     ]
    }
   ],
   "source": [
    "# Schema after the cleaning is done\n",
    "data.printSchema()"
   ]
  },
  {
   "cell_type": "markdown",
   "metadata": {},
   "source": [
    "# Exploratory Data Analysis\n",
    "When you're working with the full dataset, perform EDA by loading a small subset of the data and doing basic manipulations within Spark. In this workspace, you are already provided a small subset of data you can explore.\n",
    "\n",
    "### Define Churn\n",
    "\n",
    "Once you've done some preliminary analysis, create a column `Churn` to use as the label for your model. I suggest using the `Cancellation Confirmation` events to define your churn, which happen for both paid and free users. As a bonus task, you can also look into the `Downgrade` events.\n",
    "\n",
    "### Explore Data\n",
    "Once you've defined churn, perform some exploratory data analysis to observe the behavior for users who stayed vs users who churned. You can start by exploring aggregates on these two groups of users, observing how much of a specific action they experienced per a certain time unit or number of songs played."
   ]
  },
  {
   "cell_type": "code",
   "execution_count": 51,
   "metadata": {},
   "outputs": [
    {
     "data": {
      "text/plain": [
       "225"
      ]
     },
     "execution_count": 51,
     "metadata": {},
     "output_type": "execute_result"
    }
   ],
   "source": [
    "# Count of unique users\n",
    "data.select(\"userId\").dropDuplicates().count()"
   ]
  },
  {
   "cell_type": "code",
   "execution_count": 53,
   "metadata": {},
   "outputs": [
    {
     "data": {
      "text/plain": [
       "2312"
      ]
     },
     "execution_count": 53,
     "metadata": {},
     "output_type": "execute_result"
    }
   ],
   "source": [
    "# Count of unique sessions\n",
    "data.select(\"sessionId\").dropDuplicates().count()"
   ]
  },
  {
   "cell_type": "code",
   "execution_count": 173,
   "metadata": {},
   "outputs": [
    {
     "data": {
      "image/png": "[encoded data removed]",
      "text/plain": [
       "<Figure size 288x288 with 1 Axes>"
      ]
     },
     "metadata": {
      "needs_background": "light"
     },
     "output_type": "display_data"
    }
   ],
   "source": [
    "# Levels\n",
    "set_plot_size(4, 4)\n",
    "df = data.select('level').toPandas()\n",
    "sb.countplot(data = df, x = 'level');"
   ]
  },
  {
   "cell_type": "code",
   "execution_count": 424,
   "metadata": {},
   "outputs": [
    {
     "name": "stdout",
     "output_type": "stream",
     "text": [
      "+-------------------------+\n",
      "|page                     |\n",
      "+-------------------------+\n",
      "|About                    |\n",
      "|Add Friend               |\n",
      "|Add to Playlist          |\n",
      "|Cancel                   |\n",
      "|Cancellation Confirmation|\n",
      "|Downgrade                |\n",
      "|Error                    |\n",
      "|Help                     |\n",
      "|Home                     |\n",
      "|Logout                   |\n",
      "|NextSong                 |\n",
      "|Roll Advert              |\n",
      "|Save Settings            |\n",
      "|Settings                 |\n",
      "|Submit Downgrade         |\n",
      "|Submit Upgrade           |\n",
      "|Thumbs Down              |\n",
      "|Thumbs Up                |\n",
      "|Upgrade                  |\n",
      "+-------------------------+\n",
      "\n"
     ]
    },
    {
     "data": {
      "image/png": "[encoded data removed]",
      "text/plain": [
       "<Figure size 864x432 with 1 Axes>"
      ]
     },
     "metadata": {
      "needs_background": "light"
     },
     "output_type": "display_data"
    }
   ],
   "source": [
    "# Pages\n",
    "data.select('page').dropDuplicates().sort('page').show(truncate=False)\n",
    "\n",
    "set_plot_size(12, 6)\n",
    "df = data.select('page').toPandas()\n",
    "sb.countplot(data = df, x = 'page', order = df['page'].value_counts().index);\n",
    "plt.xticks(rotation = 90);"
   ]
  },
  {
   "cell_type": "code",
   "execution_count": 178,
   "metadata": {},
   "outputs": [
    {
     "data": {
      "image/png": "[encoded data removed]",
      "text/plain": [
       "<Figure size 288x288 with 1 Axes>"
      ]
     },
     "metadata": {
      "needs_background": "light"
     },
     "output_type": "display_data"
    }
   ],
   "source": [
    "# Statuses \n",
    "set_plot_size(4, 4)\n",
    "df = data.select('status').toPandas()\n",
    "sb.countplot(data = df, x = 'status');"
   ]
  },
  {
   "cell_type": "code",
   "execution_count": 170,
   "metadata": {},
   "outputs": [
    {
     "data": {
      "text/plain": [
       "200    254718\n",
       "307     23184\n",
       "404       252\n",
       "Name: status, dtype: int64"
      ]
     },
     "execution_count": 170,
     "metadata": {},
     "output_type": "execute_result"
    }
   ],
   "source": [
    "df['status'].value_counts()"
   ]
  },
  {
   "cell_type": "code",
   "execution_count": 181,
   "metadata": {},
   "outputs": [
    {
     "name": "stdout",
     "output_type": "stream",
     "text": [
      "+-------+-----------------+\n",
      "|summary|            count|\n",
      "+-------+-----------------+\n",
      "|  count|              225|\n",
      "|   mean|          1236.24|\n",
      "| stddev|1329.531716432519|\n",
      "|    min|                6|\n",
      "|    max|             9632|\n",
      "+-------+-----------------+\n",
      "\n"
     ]
    },
    {
     "data": {
      "image/png": "[encoded data removed]",
      "text/plain": [
       "<Figure size 864x360 with 1 Axes>"
      ]
     },
     "metadata": {
      "needs_background": "light"
     },
     "output_type": "display_data"
    }
   ],
   "source": [
    "# Logs per user\n",
    "data.groupby('userId').count().describe('count').show()\n",
    "\n",
    "# Show histogram\n",
    "set_plot_size(12, 5)\n",
    "df = data.groupby('userId').count().toPandas()\n",
    "plt.hist(data = df, x = 'count', bins = 20);"
   ]
  },
  {
   "cell_type": "markdown",
   "metadata": {},
   "source": [
    "A it was expected, the distribution of user logs is *right-skewed*."
   ]
  },
  {
   "cell_type": "code",
   "execution_count": 168,
   "metadata": {},
   "outputs": [
    {
     "data": {
      "text/plain": [
       "count    225.000000\n",
       "mean      14.115556\n",
       "std       14.646885\n",
       "min        1.000000\n",
       "25%        6.000000\n",
       "50%       10.000000\n",
       "75%       18.000000\n",
       "max      107.000000\n",
       "Name: userId, dtype: float64"
      ]
     },
     "execution_count": 168,
     "metadata": {},
     "output_type": "execute_result"
    }
   ],
   "source": [
    "# Sessions per user\n",
    "df = data.groupby('userId', 'sessionId').count().toPandas()\n",
    "df['userId'].value_counts().describe()"
   ]
  },
  {
   "cell_type": "code",
   "execution_count": 234,
   "metadata": {},
   "outputs": [
    {
     "data": {
      "image/png": "[encoded data removed]",
      "text/plain": [
       "<Figure size 432x288 with 2 Axes>"
      ]
     },
     "metadata": {
      "needs_background": "light"
     },
     "output_type": "display_data"
    }
   ],
   "source": [
    "# Users & logs per gender\n",
    "fig, axes = plt.subplots(nrows=1, ncols=2)\n",
    "\n",
    "df_logs = data.select('gender').toPandas()\n",
    "df_users = data.groupby('userId', 'gender').count().toPandas()\n",
    "\n",
    "# users per gender\n",
    "plt.subplot(1, 2, 1)\n",
    "sb.countplot(data = df_users, x = 'gender', order = ['M','F']).set_title('Users per gender')\n",
    "plt.title = 'hello'\n",
    "\n",
    "# logs per gender\n",
    "plt.subplot(1, 2, 2)\n",
    "sb.countplot(data = df_logs, x = 'gender', order = ['M','F']).set_title('Logs per gender');\n",
    "\n",
    "fig.tight_layout();\n"
   ]
  },
  {
   "cell_type": "markdown",
   "metadata": {},
   "source": [
    "### Songs, Artists"
   ]
  },
  {
   "cell_type": "code",
   "execution_count": 414,
   "metadata": {},
   "outputs": [
    {
     "name": "stdout",
     "output_type": "stream",
     "text": [
      "+--------------------+-----+\n",
      "|                song|count|\n",
      "+--------------------+-----+\n",
      "|      You're The One| 1153|\n",
      "|                Undo| 1026|\n",
      "|             Revelry|  854|\n",
      "|       Sehr kosmisch|  728|\n",
      "|Horn Concerto No....|  641|\n",
      "|Dog Days Are Over...|  574|\n",
      "|             Secrets|  466|\n",
      "|        Use Somebody|  459|\n",
      "|              Canada|  435|\n",
      "|             Invalid|  424|\n",
      "+--------------------+-----+\n",
      "only showing top 10 rows\n",
      "\n"
     ]
    }
   ],
   "source": [
    "# Top 10 songs\n",
    "data.where(data.song.isNotNull()) \\\n",
    "    .groupby('song') \\\n",
    "    .count() \\\n",
    "    .sort(desc('count')) \\\n",
    "    .show(10)"
   ]
  },
  {
   "cell_type": "code",
   "execution_count": 415,
   "metadata": {},
   "outputs": [
    {
     "name": "stdout",
     "output_type": "stream",
     "text": [
      "+--------------------+-----+\n",
      "|              artist|count|\n",
      "+--------------------+-----+\n",
      "|       Kings Of Leon| 1841|\n",
      "|            Coldplay| 1813|\n",
      "|Florence + The Ma...| 1236|\n",
      "|       Dwight Yoakam| 1135|\n",
      "|            BjÃÂ¶rk| 1133|\n",
      "|      The Black Keys| 1125|\n",
      "|                Muse| 1090|\n",
      "|       Justin Bieber| 1044|\n",
      "|        Jack Johnson| 1007|\n",
      "|              Eminem|  953|\n",
      "+--------------------+-----+\n",
      "only showing top 10 rows\n",
      "\n"
     ]
    }
   ],
   "source": [
    "# Top 10 artists\n",
    "data.where(data.song.isNotNull()) \\\n",
    "    .groupby('artist') \\\n",
    "    .count() \\\n",
    "    .sort(desc('count')) \\\n",
    "    .show(10)"
   ]
  },
  {
   "cell_type": "markdown",
   "metadata": {},
   "source": [
    "### Session"
   ]
  },
  {
   "cell_type": "code",
   "execution_count": 407,
   "metadata": {},
   "outputs": [
    {
     "name": "stdout",
     "output_type": "stream",
     "text": [
      "count     2312.000000\n",
      "mean      8964.957093\n",
      "std      20525.300525\n",
      "min          0.000000\n",
      "25%         91.850000\n",
      "50%        279.900000\n",
      "75%       1120.075000\n",
      "max      87739.100000\n",
      "Name: duration, dtype: float64\n"
     ]
    },
    {
     "data": {
      "image/png": "[encoded data removed]",
      "text/plain": [
       "<Figure size 216x576 with 1 Axes>"
      ]
     },
     "metadata": {
      "needs_background": "light"
     },
     "output_type": "display_data"
    }
   ],
   "source": [
    "# Session duration (in minutes)\n",
    "df = data.groupby('sessionId') \\\n",
    "    .agg(((max('ts') - min('ts'))/60000).alias('duration')) \\\n",
    "    .select('sessionId', round(col('duration'), 1).alias('duration')) \\\n",
    "    .toPandas()\n",
    "\n",
    "print(df.duration.describe())\n",
    "\n",
    "# boxplot 75% of sessions\n",
    "max_duration = 1121\n",
    "set_plot_size(3, 8)\n",
    "sb.boxplot(data = df[df.duration < 1121], y = 'duration');"
   ]
  },
  {
   "cell_type": "code",
   "execution_count": 293,
   "metadata": {
    "scrolled": false
   },
   "outputs": [
    {
     "name": "stdout",
     "output_type": "stream",
     "text": [
      "+------+---------+----------------+\n",
      "|userId|sessionId|            page|\n",
      "+------+---------+----------------+\n",
      "|   131|      249|Submit Downgrade|\n",
      "|    38|      313|Submit Downgrade|\n",
      "|   141|      479|Submit Downgrade|\n",
      "|    30|      532|Submit Downgrade|\n",
      "|    20|      378|Submit Downgrade|\n",
      "+------+---------+----------------+\n",
      "only showing top 5 rows\n",
      "\n",
      "+------+-------------------+---------+\n",
      "|userId|            regDate|sessionId|\n",
      "+------+-------------------+---------+\n",
      "|    38|2018-09-16 19:59:17|      313|\n",
      "+------+-------------------+---------+\n",
      "only showing top 1 row\n",
      "\n",
      "+-------------------+---------+-----+----------------+------+--------------------+--------------------+---------+\n",
      "|             tsDate|     auth|level|            page|status|                song|              artist|   length|\n",
      "+-------------------+---------+-----+----------------+------+--------------------+--------------------+---------+\n",
      "|2018-10-02 22:37:00|Logged In| paid|        NextSong|   200|           Te Quiero|   Jose Luis Perales|229.92934|\n",
      "|2018-10-02 22:40:49|Logged In| paid|        NextSong|   200|              Galaxy|          Zion Train|375.61424|\n",
      "|2018-10-02 22:47:04|Logged In| paid|        NextSong|   200|A Dustland Fairytale|         The Killers|225.12281|\n",
      "|2018-10-02 22:50:49|Logged In| paid|        NextSong|   200|   Undercover Martyn|Two Door Cinema Club|168.09751|\n",
      "|2018-10-02 22:53:37|Logged In| paid|        NextSong|   200| Message In A Bottle|          The Police|290.24608|\n",
      "|2018-10-02 22:58:27|Logged In| paid|        NextSong|   200|          Hands Open|         Snow Patrol|195.21261|\n",
      "|2018-10-02 23:01:42|Logged In| paid|        NextSong|   200|       Wish I Stayed|      Ellie Goulding|244.84526|\n",
      "|2018-10-02 23:05:46|Logged In| paid|        NextSong|   200|    Lily And Parrots|        Sun Kil Moon|257.88036|\n",
      "|2018-10-02 23:10:03|Logged In| paid|        NextSong|   200|            Messages|         Xavier Rudd|242.52036|\n",
      "|2018-10-02 23:14:05|Logged In| paid|        NextSong|   200|Acende O Candieir...|Adoniran Barbosa ...|187.95057|\n",
      "|2018-10-02 23:17:12|Logged In| paid|        NextSong|   200|   She Needs My Love|           The-Dream|269.97506|\n",
      "|2018-10-02 23:21:41|Logged In| paid|        NextSong|   200|Rabbit Heart (Rai...|Florence + The Ma...|290.48118|\n",
      "|2018-10-02 23:26:31|Logged In| paid|        NextSong|   200|Lo noto (version cd)|           Hombres G|259.70893|\n",
      "|2018-10-02 23:30:50|Logged In| paid|        NextSong|   200|DÃÂ¼m Tek Tek (T...|              Hadise|183.17016|\n",
      "|2018-10-02 23:33:53|Logged In| paid|        NextSong|   200|   Careless Whispers|          Tim Hecker|311.30077|\n",
      "|2018-10-02 23:39:04|Logged In| paid|        NextSong|   200|  You Belong With Me|        Taylor Swift|230.47791|\n",
      "|2018-10-02 23:40:44|Logged In| paid|       Downgrade|   200|                null|                null|     null|\n",
      "|2018-10-02 23:40:45|Logged In| paid|Submit Downgrade|   307|                null|                null|     null|\n",
      "|2018-10-02 23:41:30|Logged In| free|            Home|   200|                null|                null|     null|\n",
      "|2018-10-02 23:42:54|Logged In| free|        NextSong|   200|Hilarious Movie O...|            Four Tet|209.05751|\n",
      "+-------------------+---------+-----+----------------+------+--------------------+--------------------+---------+\n",
      "only showing top 20 rows\n",
      "\n"
     ]
    }
   ],
   "source": [
    "# Check a single session where the user has performed 'Submit Downgrade' action \n",
    "data.where(col('page') == 'Submit Downgrade').select('userId', 'sessionId', 'page').show(5)\n",
    "\n",
    "sessionId = 313\n",
    "\n",
    "# user data\n",
    "data.where(col('sessionId') == sessionId).select('userId', 'regDate', 'sessionId').show(1)\n",
    "\n",
    "cols = ['tsDate', 'auth', 'level', 'page', 'status', 'song', 'artist', 'length']\n",
    "data.where(col('sessionId') == sessionId).select(cols).show()"
   ]
  },
  {
   "cell_type": "markdown",
   "metadata": {},
   "source": [
    "### Churned users"
   ]
  },
  {
   "cell_type": "code",
   "execution_count": 459,
   "metadata": {},
   "outputs": [],
   "source": [
    "# Count churned users - must fulfill te following 2 conditions:\n",
    "#   1. User must interact with 'Submit Downgrade' page OR 'Cancellation Confirmation' page\n",
    "#   \n",
    "\n",
    "users = data \\\n",
    "    .where(data.page.isin(['Submit Downgrade', 'Cancellation Confirmation']) & (data.level == 'paid')) \\\n",
    "    .groupby('userId') \\\n",
    "    .agg(min('ts').alias('timestamp_min'), max('ts').alias('timestamp_max')) \\\n",
    "    .collect()\n",
    "\n",
    "# list of userIds\n",
    "uids = [x.userId for x in users];\n",
    "\n",
    "is_candidate = udf(lambda x: x.isin(uids))\n"
   ]
  },
  {
   "cell_type": "code",
   "execution_count": 463,
   "metadata": {},
   "outputs": [
    {
     "name": "stdout",
     "output_type": "stream",
     "text": [
      "+------+-----+\n",
      "|userId|count|\n",
      "+------+-----+\n",
      "|   122|   62|\n",
      "|    32|  108|\n",
      "|300007|  143|\n",
      "|     3|  254|\n",
      "|300004|  262|\n",
      "|100014|  310|\n",
      "|   129|  412|\n",
      "|    73|  457|\n",
      "|100023|  494|\n",
      "|    18|  513|\n",
      "|100007|  520|\n",
      "|200024|  552|\n",
      "|100012|  600|\n",
      "|200017|  620|\n",
      "|100025|  623|\n",
      "|    24|  630|\n",
      "|100016|  638|\n",
      "|200019|  639|\n",
      "|100009|  671|\n",
      "|    11|  848|\n",
      "+------+-----+\n",
      "only showing top 20 rows\n",
      "\n"
     ]
    }
   ],
   "source": [
    "cols = ['userId', 'regDate', 'sessionId', 'tsDate', 'auth', 'level', 'page', 'status']\n",
    "data.where(data.userId.isin(uids)) \\\n",
    "    .groupby('userId') \\\n",
    "    .count() \\\n",
    "    .sort('count') \\\n",
    "    .show()\n",
    "    #.select(cols).show(500)"
   ]
  },
  {
   "cell_type": "code",
   "execution_count": 465,
   "metadata": {
    "scrolled": false
   },
   "outputs": [
    {
     "name": "stdout",
     "output_type": "stream",
     "text": [
      "+------+-------------------+---------+-------------------+---------+-----+--------------------+------+\n",
      "|userId|            regDate|sessionId|             tsDate|     auth|level|                page|status|\n",
      "+------+-------------------+---------+-------------------+---------+-----+--------------------+------+\n",
      "|   122|2018-08-29 01:25:05|      403|2018-10-04 14:47:15|Logged In| free|                Home|   200|\n",
      "|   122|2018-08-29 01:25:05|      403|2018-10-04 14:47:16|Logged In| free|              Logout|   307|\n",
      "|   122|2018-08-29 01:25:05|      611|2018-10-10 14:12:18|Logged In| free|                Home|   200|\n",
      "|   122|2018-08-29 01:25:05|      611|2018-10-10 14:14:24|Logged In| free|            NextSong|   200|\n",
      "|   122|2018-08-29 01:25:05|      611|2018-10-10 14:17:04|Logged In| free|            NextSong|   200|\n",
      "|   122|2018-08-29 01:25:05|      611|2018-10-10 14:19:15|Logged In| free|            NextSong|   200|\n",
      "|   122|2018-08-29 01:25:05|      611|2018-10-10 14:24:24|Logged In| free|            NextSong|   200|\n",
      "|   122|2018-08-29 01:25:05|      611|2018-10-10 14:27:38|Logged In| free|            NextSong|   200|\n",
      "|   122|2018-08-29 01:25:05|      611|2018-10-10 14:29:29|Logged In| free|         Roll Advert|   200|\n",
      "|   122|2018-08-29 01:25:05|      691|2018-10-18 20:21:40|Logged In| free|                Home|   200|\n",
      "|   122|2018-08-29 01:25:05|      691|2018-10-18 20:21:43|Logged In| free|            NextSong|   200|\n",
      "|   122|2018-08-29 01:25:05|      691|2018-10-18 20:25:20|Logged In| free|            NextSong|   200|\n",
      "|   122|2018-08-29 01:25:05|      691|2018-10-18 20:29:54|Logged In| free|            NextSong|   200|\n",
      "|   122|2018-08-29 01:25:05|      691|2018-10-18 20:32:58|Logged In| free|            NextSong|   200|\n",
      "|   122|2018-08-29 01:25:05|      691|2018-10-18 20:34:43|Logged In| free|         Roll Advert|   200|\n",
      "|   122|2018-08-29 01:25:05|      691|2018-10-18 20:36:46|Logged In| free|            NextSong|   200|\n",
      "|   122|2018-08-29 01:25:05|      691|2018-10-18 20:39:08|Logged In| free|            NextSong|   200|\n",
      "|   122|2018-08-29 01:25:05|      691|2018-10-18 20:40:10|Logged In| free|                Home|   200|\n",
      "|   122|2018-08-29 01:25:05|     1029|2018-10-20 19:06:24|Logged In| free|            NextSong|   200|\n",
      "|   122|2018-08-29 01:25:05|     1029|2018-10-20 19:06:24|Logged In| free|                Home|   200|\n",
      "|   122|2018-08-29 01:25:05|     1029|2018-10-20 19:10:12|Logged In| free|            NextSong|   200|\n",
      "|   122|2018-08-29 01:25:05|     1029|2018-10-20 19:13:52|Logged In| free|            NextSong|   200|\n",
      "|   122|2018-08-29 01:25:05|     1029|2018-10-20 19:14:50|Logged In| free|             Upgrade|   200|\n",
      "|   122|2018-08-29 01:25:05|     1029|2018-10-20 19:16:11|Logged In| free|             Upgrade|   200|\n",
      "|   122|2018-08-29 01:25:05|     1029|2018-10-20 19:16:12|Logged In| free|      Submit Upgrade|   307|\n",
      "|   122|2018-08-29 01:25:05|     1029|2018-10-20 19:16:16|Logged In| paid|                Home|   200|\n",
      "|   122|2018-08-29 01:25:05|     1029|2018-10-20 19:16:17|Logged In| paid|          Add Friend|   307|\n",
      "|   122|2018-08-29 01:25:05|     1029|2018-10-20 19:17:39|Logged In| paid|            NextSong|   200|\n",
      "|   122|2018-08-29 01:25:05|     1029|2018-10-20 19:22:27|Logged In| paid|            NextSong|   200|\n",
      "|   122|2018-08-29 01:25:05|     1029|2018-10-20 19:28:11|Logged In| paid|            NextSong|   200|\n",
      "|   122|2018-08-29 01:25:05|     1029|2018-10-20 19:33:14|Logged In| paid|            NextSong|   200|\n",
      "|   122|2018-08-29 01:25:05|     1029|2018-10-20 19:36:05|Logged In| paid|            NextSong|   200|\n",
      "|   122|2018-08-29 01:25:05|     1029|2018-10-20 19:36:06|Logged In| paid|           Thumbs Up|   307|\n",
      "|   122|2018-08-29 01:25:05|     1029|2018-10-20 19:38:12|Logged In| paid|            NextSong|   200|\n",
      "|   122|2018-08-29 01:25:05|     1029|2018-10-20 19:41:25|Logged In| paid|            NextSong|   200|\n",
      "|   122|2018-08-29 01:25:05|     1029|2018-10-20 19:46:03|Logged In| paid|            NextSong|   200|\n",
      "|   122|2018-08-29 01:25:05|     1029|2018-10-20 19:49:15|Logged In| paid|            NextSong|   200|\n",
      "|   122|2018-08-29 01:25:05|     1029|2018-10-20 19:52:29|Logged In| paid|            NextSong|   200|\n",
      "|   122|2018-08-29 01:25:05|     1029|2018-10-20 19:58:22|Logged In| paid|            NextSong|   200|\n",
      "|   122|2018-08-29 01:25:05|     1029|2018-10-20 20:02:22|Logged In| paid|            NextSong|   200|\n",
      "|   122|2018-08-29 01:25:05|     1029|2018-10-20 20:06:06|Logged In| paid|            NextSong|   200|\n",
      "|   122|2018-08-29 01:25:05|     1029|2018-10-20 20:09:51|Logged In| paid|            NextSong|   200|\n",
      "|   122|2018-08-29 01:25:05|     1029|2018-10-20 20:14:58|Logged In| paid|            NextSong|   200|\n",
      "|   122|2018-08-29 01:25:05|     1029|2018-10-20 20:14:59|Logged In| paid|         Thumbs Down|   307|\n",
      "|   122|2018-08-29 01:25:05|     1029|2018-10-20 20:18:59|Logged In| paid|            NextSong|   200|\n",
      "|   122|2018-08-29 01:25:05|     1029|2018-10-20 20:23:05|Logged In| paid|            NextSong|   200|\n",
      "|   122|2018-08-29 01:25:05|     1029|2018-10-20 20:25:29|Logged In| paid|            NextSong|   200|\n",
      "|   122|2018-08-29 01:25:05|     1029|2018-10-20 20:25:30|Logged In| paid|           Thumbs Up|   307|\n",
      "|   122|2018-08-29 01:25:05|     1029|2018-10-20 20:29:28|Logged In| paid|            NextSong|   200|\n",
      "|   122|2018-08-29 01:25:05|     1029|2018-10-20 20:33:29|Logged In| paid|            NextSong|   200|\n",
      "|   122|2018-08-29 01:25:05|     1029|2018-10-20 20:38:00|Logged In| paid|            NextSong|   200|\n",
      "|   122|2018-08-29 01:25:05|     1029|2018-10-20 20:42:09|Logged In| paid|            NextSong|   200|\n",
      "|   122|2018-08-29 01:25:05|     1029|2018-10-20 20:46:31|Logged In| paid|            NextSong|   200|\n",
      "|   122|2018-08-29 01:25:05|     1029|2018-10-20 20:50:57|Logged In| paid|            NextSong|   200|\n",
      "|   122|2018-08-29 01:25:05|     1029|2018-10-20 20:54:36|Logged In| paid|            NextSong|   200|\n",
      "|   122|2018-08-29 01:25:05|     1029|2018-10-20 20:57:48|Logged In| paid|            NextSong|   200|\n",
      "|   122|2018-08-29 01:25:05|     1029|2018-10-20 20:57:49|Logged In| paid|           Thumbs Up|   307|\n",
      "|   122|2018-08-29 01:25:05|     1029|2018-10-20 20:59:47|Logged In| paid|     Add to Playlist|   200|\n",
      "|   122|2018-08-29 01:25:05|     1029|2018-10-20 21:00:22|Logged In| paid|            NextSong|   200|\n",
      "|   122|2018-08-29 01:25:05|     1029|2018-10-20 21:00:49|Logged In| paid|            Settings|   200|\n",
      "|   122|2018-08-29 01:25:05|     1029|2018-10-20 21:00:50|Logged In| paid|              Cancel|   307|\n",
      "|   122|2018-08-29 01:25:05|     1029|2018-10-20 21:01:08|Cancelled| paid|Cancellation Conf...|   200|\n",
      "+------+-------------------+---------+-------------------+---------+-----+--------------------+------+\n",
      "\n"
     ]
    }
   ],
   "source": [
    "cols = ['userId', 'regDate', 'sessionId', 'tsDate', 'auth', 'level', 'page', 'status']\n",
    "data.where(data.userId == 122).select(cols).show(500)"
   ]
  },
  {
   "cell_type": "code",
   "execution_count": null,
   "metadata": {},
   "outputs": [],
   "source": [
    "# get last log\n",
    "cols = ['userId', 'regDate', 'sessionId', 'tsDate', 'auth', 'level', 'page', 'status']\n",
    "data.where(data.userId.isin(uids)) \\\n",
    "    .groupby('userId') \\\n",
    "    .agg(max())\n",
    "    .show()\n",
    "    #.select(cols).show(500)"
   ]
  },
  {
   "cell_type": "code",
   "execution_count": 487,
   "metadata": {},
   "outputs": [],
   "source": [
    "from pyspark.sql.window import Window\n",
    "\n",
    "w =  Window.partitionBy(data.userId).orderBy(col('ts').desc())"
   ]
  },
  {
   "cell_type": "code",
   "execution_count": 496,
   "metadata": {},
   "outputs": [],
   "source": [
    "from pyspark.sql.functions import row_number\n",
    "\n",
    "data2 = data.select('userId', 'regDate', 'sessionId', 'tsDate', 'auth', 'level', 'page', 'status',\n",
    "        row_number().over(w).alias(\"rown\"))"
   ]
  },
  {
   "cell_type": "code",
   "execution_count": 505,
   "metadata": {},
   "outputs": [
    {
     "name": "stdout",
     "output_type": "stream",
     "text": [
      "+------+-------------------+---------+-------------------+---------+-----+--------------------+------+----+\n",
      "|userId|            regDate|sessionId|             tsDate|     auth|level|                page|status|rown|\n",
      "+------+-------------------+---------+-------------------+---------+-----+--------------------+------+----+\n",
      "|    35|2018-09-16 01:16:52|     2354|2018-11-30 11:24:09|Logged In| free|         Roll Advert|   200|   1|\n",
      "|100008|2018-09-20 12:44:31|      201|2018-11-27 17:13:39|Logged In| free|              Logout|   307|   1|\n",
      "|100025|2018-07-26 19:19:29|      129|2018-10-23 14:52:32|Cancelled| free|Cancellation Conf...|   200|   1|\n",
      "|    61|2018-09-17 14:48:58|     2345|2018-11-28 18:54:04|Logged In| free|                Home|   200|   1|\n",
      "|   131|2018-08-01 07:45:30|     2281|2018-11-30 04:21:23|Logged In| free|                Home|   200|   1|\n",
      "|300004|2018-08-17 15:44:05|      267|2018-11-14 23:41:25|Logged In| free|           Thumbs Up|   307|   1|\n",
      "|100009|2018-09-19 19:00:37|      145|2018-10-27 05:31:44|Cancelled| free|Cancellation Conf...|   200|   1|\n",
      "|200003|2018-06-30 06:38:12|      407|2018-11-30 01:50:46|Logged In| free|           Thumbs Up|   307|   1|\n",
      "|100016|2018-09-13 17:58:42|      206|2018-11-27 17:20:47|Logged In| free|              Logout|   307|   1|\n",
      "|    95|2018-09-29 11:03:52|     2408|2018-11-30 16:27:24|Logged In| free|                Home|   200|   1|\n",
      "|200009|2018-09-30 15:17:48|      360|2018-11-28 10:26:40|Logged In| free|         Roll Advert|   200|   1|\n",
      "|    92|2018-09-08 12:52:52|     2474|2018-12-01 00:34:25|Logged In| free|              Logout|   307|   1|\n",
      "|100012|2018-09-19 20:19:14|      156|2018-11-01 20:35:00|Cancelled| free|Cancellation Conf...|   200|   1|\n",
      "|200020|2018-09-02 18:51:56|      351|2018-11-17 17:40:42|Cancelled| free|Cancellation Conf...|   200|   1|\n",
      "|    24|2018-09-14 21:55:14|     2312|2018-11-30 19:56:10|Logged In| free|                Home|   200|   1|\n",
      "|200011|2018-07-15 20:34:55|      267|2018-11-02 02:09:24|Cancelled| free|Cancellation Conf...|   200|   1|\n",
      "|   109|2018-08-20 14:35:17|     1971|2018-11-16 13:33:04|Logged In| free|            NextSong|   200|   1|\n",
      "|    13|2018-08-02 08:40:32|     2410|2018-11-29 18:35:09|Logged In| free|              Logout|   307|   1|\n",
      "|200019|2018-09-22 19:52:35|      311|2018-11-18 00:23:52|Logged In| free|                Home|   200|   1|\n",
      "|100018|2018-08-09 13:07:13|      209|2018-11-28 05:12:40|Logged In| free|              Logout|   307|   1|\n",
      "+------+-------------------+---------+-------------------+---------+-----+--------------------+------+----+\n",
      "\n"
     ]
    }
   ],
   "source": [
    "data2.where((data2.rown == 1) \\\n",
    "            & (data2.level == 'free') \\\n",
    "            & (data2.userId.isin(uids))).show()"
   ]
  },
  {
   "cell_type": "code",
   "execution_count": 514,
   "metadata": {
    "scrolled": false
   },
   "outputs": [
    {
     "name": "stdout",
     "output_type": "stream",
     "text": [
      "+------+-------------------+---------+-------------------+---------+-----+--------------------+------+----+\n",
      "|userId|            regDate|sessionId|             tsDate|     auth|level|                page|status|rown|\n",
      "+------+-------------------+---------+-------------------+---------+-----+--------------------+------+----+\n",
      "|   122|2018-08-29 01:25:05|     1029|2018-10-20 21:01:08|Cancelled| paid|Cancellation Conf...|   200|   1|\n",
      "+------+-------------------+---------+-------------------+---------+-----+--------------------+------+----+\n",
      "\n"
     ]
    }
   ],
   "source": [
    "data2.where((data2.rown == 1) & (data2.userId == 122)).show(500)"
   ]
  },
  {
   "cell_type": "code",
   "execution_count": 530,
   "metadata": {},
   "outputs": [
    {
     "data": {
      "text/plain": [
       "67"
      ]
     },
     "execution_count": 530,
     "metadata": {},
     "output_type": "execute_result"
    }
   ],
   "source": [
    "# GET CHURNED USERS\n",
    "users = data \\\n",
    "    .where(data.page.isin(['Submit Downgrade', 'Cancellation Confirmation'])) \\\n",
    "    .select('userId') \\\n",
    "    .dropDuplicates() \\\n",
    "    .collect()\n",
    "\n",
    "# list of userIds\n",
    "uids = [x.userId for x in users];\n",
    "\n",
    "# Window\n",
    "w =  Window.partitionBy(data.userId).orderBy(col('ts').desc())\n",
    "data2 = data.select('userId', 'regDate', 'sessionId', 'tsDate', 'auth', 'level', 'page', 'status',\n",
    "        row_number().over(w).alias(\"rown\"))\n",
    "    \n",
    "# final query\n",
    "data2 \\\n",
    "    .where(data2.rown == 1) \\\n",
    "    .where(data2.userId.isin(uids)) \\\n",
    "    .where((data2.level == 'free') | (data2.page == 'Cancellation Confirmation')) \\\n",
    "    .count()\n",
    "\n"
   ]
  },
  {
   "cell_type": "code",
   "execution_count": null,
   "metadata": {},
   "outputs": [],
   "source": []
  },
  {
   "cell_type": "code",
   "execution_count": null,
   "metadata": {},
   "outputs": [],
   "source": [
    "overUser = window.partitionBy('userId')\n",
    "w = data.withColumn(\n",
    "  \"rown\", array_contains('userId', 'tsDate', 'auth', 'level', 'page', 'status') over overUser).withColumn(\n",
    "  \"total_salary_in_dep\", sum('salary) over overCategory)\n",
    "df.show()"
   ]
  },
  {
   "cell_type": "code",
   "execution_count": null,
   "metadata": {},
   "outputs": [],
   "source": [
    "to_date = udf(lambda x: datetime.datetime.fromtimestamp(x/1000.0), TimestampType())\n",
    "data = data.withColumn('tsDate', to_date('ts'))\n",
    "data = data.withColumn('regDate', to_date('registration'))\n",
    "\n"
   ]
  },
  {
   "cell_type": "code",
   "execution_count": 440,
   "metadata": {},
   "outputs": [
    {
     "data": {
      "text/plain": [
       "Row(userId='125', timestamp_min=1539318918000, timestamp_max=1539318918000)"
      ]
     },
     "execution_count": 440,
     "metadata": {},
     "output_type": "execute_result"
    }
   ],
   "source": [
    "users[0]"
   ]
  },
  {
   "cell_type": "code",
   "execution_count": null,
   "metadata": {},
   "outputs": [],
   "source": [
    "df = data.groupby('sessionId') \\\n",
    "    .agg(((max('ts') - min('ts'))/60000).alias('duration')) \\\n",
    "    .select('sessionId', round(col('duration'), 1).alias('duration')) \\\n",
    "    .toPandas()"
   ]
  },
  {
   "cell_type": "code",
   "execution_count": null,
   "metadata": {},
   "outputs": [],
   "source": []
  },
  {
   "cell_type": "code",
   "execution_count": null,
   "metadata": {},
   "outputs": [],
   "source": []
  },
  {
   "cell_type": "code",
   "execution_count": 41,
   "metadata": {},
   "outputs": [
    {
     "data": {
      "text/plain": [
       "<matplotlib.axes._subplots.AxesSubplot at 0x175e62aec18>"
      ]
     },
     "execution_count": 41,
     "metadata": {},
     "output_type": "execute_result"
    },
    {
     "data": {
      "image/png": "[encoded data removed]",
      "text/plain": [
       "<Figure size 1080x432 with 1 Axes>"
      ]
     },
     "metadata": {
      "needs_background": "light"
     },
     "output_type": "display_data"
    }
   ],
   "source": [
    "plt.figure(figsize=(15,6))\n",
    "sb.distplot(df['sessionId'], bins=40)"
   ]
  },
  {
   "cell_type": "markdown",
   "metadata": {},
   "source": [
    "# Feature Engineering\n",
    "Once you've familiarized yourself with the data, build out the features you find promising to train your model on. To work with the full dataset, you can follow the following steps.\n",
    "- Write a script to extract the necessary features from the smaller subset of data\n",
    "- Ensure that your script is scalable, using the best practices discussed in Lesson 3\n",
    "- Try your script on the full data set, debugging your script if necessary\n",
    "\n",
    "If you are working in the classroom workspace, you can just extract features based on the small subset of data contained here. Be sure to transfer over this work to the larger dataset when you work on your Spark cluster."
   ]
  },
  {
   "cell_type": "code",
   "execution_count": null,
   "metadata": {},
   "outputs": [],
   "source": []
  },
  {
   "cell_type": "markdown",
   "metadata": {},
   "source": [
    "# Modeling\n",
    "Split the full dataset into train, test, and validation sets. Test out several of the machine learning methods you learned. Evaluate the accuracy of the various models, tuning parameters as necessary. Determine your winning model based on test accuracy and report results on the validation set. Since the churned users are a fairly small subset, I suggest using F1 score as the metric to optimize."
   ]
  },
  {
   "cell_type": "code",
   "execution_count": null,
   "metadata": {},
   "outputs": [],
   "source": []
  },
  {
   "cell_type": "markdown",
   "metadata": {},
   "source": [
    "# Final Steps\n",
    "Clean up your code, adding comments and renaming variables to make the code easier to read and maintain. Refer to the Spark Project Overview page and Data Scientist Capstone Project Rubric to make sure you are including all components of the capstone project and meet all expectations. Remember, this includes thorough documentation in a README file in a Github repository, as well as a web app or blog post."
   ]
  },
  {
   "cell_type": "code",
   "execution_count": null,
   "metadata": {},
   "outputs": [],
   "source": []
  }
 ],
 "metadata": {
  "kernelspec": {
   "display_name": "Python 3",
   "language": "python",
   "name": "python3"
  },
  "language_info": {
   "codemirror_mode": {
    "name": "ipython",
    "version": 3
   },
   "file_extension": ".py",
   "mimetype": "text/x-python",
   "name": "python",
   "nbconvert_exporter": "python",
   "pygments_lexer": "ipython3",
   "version": "3.6.8"
  }
 },
 "nbformat": 4,
 "nbformat_minor": 2
}
