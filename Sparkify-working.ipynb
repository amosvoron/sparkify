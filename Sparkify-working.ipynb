{
 "cells": [
  {
   "cell_type": "markdown",
   "metadata": {},
   "source": [
    "# Sparkify Project Workspace\n",
    "This workspace contains a tiny subset (128MB) of the full dataset available (12GB). Feel free to use this workspace to build your project, or to explore a smaller subset with Spark before deploying your cluster on the cloud. Instructions for setting up your Spark cluster is included in the last lesson of the Extracurricular Spark Course content.\n",
    "\n",
    "You can follow the steps below to guide your data analysis and model building portion of this project."
   ]
  },
  {
   "cell_type": "code",
   "execution_count": 464,
   "metadata": {},
   "outputs": [],
   "source": [
    "# Import libraries\n",
    "from pyspark.sql.types import *\n",
    "from pyspark.sql import SparkSession\n",
    "from pyspark.sql.functions import isnan, count, when, col, desc, udf, col, sort_array, asc, \\\n",
    "                                  avg, from_unixtime, split, min, max, round, lit, mean\n",
    "from pyspark.sql.functions import sum as Fsum\n",
    "from pyspark.sql.functions import row_number\n",
    "from pyspark.sql.window import Window\n",
    "\n",
    "#from pyspark.sql.types import IntegerType, TimestampType\n",
    "import datetime\n",
    "from pyspark.sql.functions import to_date, year, month, dayofmonth, dayofweek, hour, date_format, substring\n",
    "\n",
    "import numpy as np\n",
    "import pandas as pd\n",
    "%matplotlib inline\n",
    "import matplotlib.pyplot as plt\n",
    "import seaborn as sb"
   ]
  },
  {
   "cell_type": "code",
   "execution_count": 2,
   "metadata": {
    "collapsed": true
   },
   "outputs": [],
   "source": [
    "# Create a Spark session\n",
    "spark = SparkSession \\\n",
    "    .builder \\\n",
    "    .appName(\"Sparkify\") \\\n",
    "    .getOrCreate()"
   ]
  },
  {
   "cell_type": "code",
   "execution_count": 3,
   "metadata": {
    "collapsed": true
   },
   "outputs": [],
   "source": [
    "# Set time parser policy\n",
    "spark.conf.set(\"spark.sql.legacy.timeParserPolicy\",\"LEGACY\")"
   ]
  },
  {
   "cell_type": "markdown",
   "metadata": {},
   "source": [
    "### Common Functions"
   ]
  },
  {
   "cell_type": "code",
   "execution_count": 4,
   "metadata": {
    "collapsed": true
   },
   "outputs": [],
   "source": [
    "# Set plot's figure size\n",
    "def set_plot_size(width, height):\n",
    "    return plt.figure(figsize = [width, height]);\n",
    "\n",
    "def get_user_logs(userId, sessionId=None):\n",
    "    if sessionId == None:\n",
    "        return data.where(data.userId == userId) \\\n",
    "            .select('tsDate', 'userId', 'sessionId', 'itemInSession', 'level', 'page') \\\n",
    "            .sort('tsDate', 'itemInSession')\n",
    "    else:\n",
    "        return data.where((data.userId == userId) & (data.sessionId == sessionId)) \\\n",
    "            .select('tsDate', 'userId', 'sessionId', 'itemInSession', 'level', 'page') \\\n",
    "            .sort('tsDate', 'itemInSession')"
   ]
  },
  {
   "cell_type": "markdown",
   "metadata": {},
   "source": [
    "# Load and prepare Dataset\n",
    "In this workspace, the mini-dataset file is `mini_sparkify_event_data.json`. Load and clean the dataset, checking for invalid or missing data - for example, records without userids or sessionids. "
   ]
  },
  {
   "cell_type": "code",
   "execution_count": 334,
   "metadata": {},
   "outputs": [
    {
     "name": "stdout",
     "output_type": "stream",
     "text": [
      "Churned users who cancelled subscription: 52\n"
     ]
    }
   ],
   "source": [
    "# Load dataset\n",
    "path = \"data/mini_sparkify_event_data.json\"\n",
    "data = spark.read.json(path)\n",
    "original_count = data.count()\n",
    "\n",
    "# Remove rows with missing users\n",
    "data = data.where(~((col('userId').isNull()) | (col('userId') == '')))\n",
    "\n",
    "# Exclude non-relevant columns\n",
    "data = data.drop('firstName')\n",
    "data = data.drop('lastName')\n",
    "#data = data.drop('method')\n",
    "\n",
    "data = data.withColumn('regDate', (col('registration') / 1000.0).cast(TimestampType()))\n",
    "data = data.withColumn('tsDate', (col('ts') / 1000.0).cast(TimestampType()))\n",
    "data.take(1)\n",
    "\n",
    "data = data.withColumn('city', split(data['location'], ',')[0])\n",
    "data = data.withColumn('state', split(data['location'], ',')[1])\n",
    "data = data.drop('location')\n",
    "\n",
    "# Define churned users using Cancellation Confirmation event (canceled)\n",
    "query_churn_by_cc = data.where(data.page == 'Cancellation Confirmation')\n",
    "print(f'Churned users who cancelled subscription: {query_churn_by_cc.count()}')\n",
    "\n",
    "# Label churned (canceled) users\n",
    "canceled = query_churn_by_cc.select('userId').dropDuplicates().select('userId')\n",
    "canceled_uids = [row.userId for row in canceled.collect()];\n",
    "set_churn = udf(lambda x: 1 if x in canceled_uids else 0, IntegerType())\n",
    "data = data.withColumn('churn', set_churn('userId'))\n",
    "\n",
    "# Add [userRowId] column that assigns a 1-based index to every user's log ordered by [ts]\n",
    "w =  Window.partitionBy(data.userId).orderBy('ts', 'itemInSession')\n",
    "data = data.withColumn('userRowId', row_number().over(w))\n",
    "\n",
    "# Add [userRowDescId] column that assigns a 1-based index to every user's log ordered by [ts] descending.\n",
    "w =  Window.partitionBy(data.userId).orderBy(col('ts').desc(), col('itemInSession').desc())\n",
    "data = data.withColumn('userRowDescId', row_number().over(w))\n",
    "\n",
    "# Add last level column\n",
    "last_levels = dict()\n",
    "for row in data.where(data.userRowDescId == 1).select('userId', 'level').collect():\n",
    "    last_levels[row.userId] = row.level\n",
    "get_level = udf(lambda userId: last_levels[userId])\n",
    "data = data.withColumn('lastLevel', get_level('userId'))"
   ]
  },
  {
   "cell_type": "code",
   "execution_count": 335,
   "metadata": {},
   "outputs": [
    {
     "name": "stdout",
     "output_type": "stream",
     "text": [
      "root\n",
      " |-- artist: string (nullable = true)\n",
      " |-- auth: string (nullable = true)\n",
      " |-- gender: string (nullable = true)\n",
      " |-- itemInSession: long (nullable = true)\n",
      " |-- length: double (nullable = true)\n",
      " |-- level: string (nullable = true)\n",
      " |-- method: string (nullable = true)\n",
      " |-- page: string (nullable = true)\n",
      " |-- registration: long (nullable = true)\n",
      " |-- sessionId: long (nullable = true)\n",
      " |-- song: string (nullable = true)\n",
      " |-- status: long (nullable = true)\n",
      " |-- ts: long (nullable = true)\n",
      " |-- userAgent: string (nullable = true)\n",
      " |-- userId: string (nullable = true)\n",
      " |-- regDate: timestamp (nullable = true)\n",
      " |-- tsDate: timestamp (nullable = true)\n",
      " |-- city: string (nullable = true)\n",
      " |-- state: string (nullable = true)\n",
      " |-- churn: integer (nullable = true)\n",
      " |-- userRowId: integer (nullable = true)\n",
      " |-- userRowDescId: integer (nullable = true)\n",
      " |-- lastLevel: string (nullable = true)\n",
      " |-- churn2: integer (nullable = true)\n",
      "\n"
     ]
    },
    {
     "data": {
      "text/plain": [
       "67"
      ]
     },
     "execution_count": 335,
     "metadata": {},
     "output_type": "execute_result"
    }
   ],
   "source": [
    "# Query churned users by downgrade event\n",
    "# Note: we fusion both types of churned users - canceled + downgraded\n",
    "churned2 = data.where((data.churn == 1) \\\n",
    "           | ((data.page == 'Submit Downgrade') \\\n",
    "           & (data.lastLevel == 'free'))) \\\n",
    "    .select('userId') \\\n",
    "    .dropDuplicates()\n",
    "\n",
    "# Label downgraded users (churn=1)\n",
    "uids = [row.userId for row in churned2.collect()]\n",
    "set_churn = udf(lambda userId: 1 if userId in uids else 0, IntegerType())\n",
    "data = data.withColumn('churn2', set_churn('userId'))\n",
    "\n",
    "data.printSchema()\n",
    "data.take(3)\n",
    "\n",
    "# check count of churned users\n",
    "data.where(data.churn2 == 1).select('userId').dropDuplicates().count()"
   ]
  },
  {
   "cell_type": "markdown",
   "metadata": {},
   "source": [
    "#### Add churn groups totals"
   ]
  },
  {
   "cell_type": "code",
   "execution_count": 40,
   "metadata": {},
   "outputs": [
    {
     "data": {
      "text/plain": [
       "[Row(artist=None, auth='Logged In', gender='F', itemInSession=34, length=None, level='free', method='PUT', page='Logout', registration=1538016340000, sessionId=187, song=None, status=307, ts=1542823952000, userAgent='\"Mozilla/5.0 (iPhone; CPU iPhone OS 7_1_2 like Mac OS X) AppleWebKit/537.51.2 (KHTML, like Gecko) Version/7.0 Mobile/11D257 Safari/9537.53\"', userId='100010', regDate=datetime.datetime(2018, 9, 27, 4, 45, 40), tsDate=datetime.datetime(2018, 11, 21, 19, 12, 32), city='Bridgeport-Stamford-Norwalk', state=' CT', churn=0, userRowId=381, userRowDescId=1, lastLevel='free', churn2=0)]"
      ]
     },
     "execution_count": 40,
     "metadata": {},
     "output_type": "execute_result"
    }
   ],
   "source": [
    "data = data.drop('total')\n",
    "data = data.drop('total2')\n",
    "data.take(1)"
   ]
  },
  {
   "cell_type": "code",
   "execution_count": 425,
   "metadata": {},
   "outputs": [
    {
     "data": {
      "text/plain": [
       "[Row(artist=None, auth='Logged In', gender='F', itemInSession=34, length=None, level='free', method='PUT', page='Logout', registration=1538016340000, sessionId=187, song=None, status=307, ts=1542823952000, userAgent='\"Mozilla/5.0 (iPhone; CPU iPhone OS 7_1_2 like Mac OS X) AppleWebKit/537.51.2 (KHTML, like Gecko) Version/7.0 Mobile/11D257 Safari/9537.53\"', userId='100010', regDate=datetime.datetime(2018, 9, 27, 4, 45, 40), tsDate=datetime.datetime(2018, 11, 21, 19, 12, 32), city='Bridgeport-Stamford-Norwalk', state=' CT', churn=0, userRowId=381, userRowDescId=1, lastLevel='free', churn2=0, total='173', total2='158')]"
      ]
     },
     "execution_count": 425,
     "metadata": {},
     "output_type": "execute_result"
    }
   ],
   "source": [
    "# Add user totals of each churn group to our dataframe\n",
    "count0, count1, count20, count21 = 173, 52, 158, 67\n",
    "get_churn_total = udf(lambda x: count0 if x == 0 else count1)\n",
    "get_churn_total2 = udf(lambda x: count20 if x == 0 else count21)\n",
    "\n",
    "data = data \\\n",
    "    .withColumn('total', get_churn_total('churn')) \\\n",
    "    .withColumn('total2', get_churn_total2('churn2'))\n",
    "data.take(1)"
   ]
  },
  {
   "cell_type": "markdown",
   "metadata": {},
   "source": [
    "# Feature Engineering\n",
    "Once you've familiarized yourself with the data, build out the features you find promising to train your model on. To work with the full dataset, you can follow the following steps.\n",
    "- Write a script to extract the necessary features from the smaller subset of data\n",
    "- Ensure that your script is scalable, using the best practices discussed in Lesson 3\n",
    "- Try your script on the full data set, debugging your script if necessary\n",
    "\n",
    "If you are working in the classroom workspace, you can just extract features based on the small subset of data contained here. Be sure to transfer over this work to the larger dataset when you work on your Spark cluster."
   ]
  },
  {
   "cell_type": "code",
   "execution_count": 708,
   "metadata": {},
   "outputs": [],
   "source": [
    "labels = data.select(col('churn2').alias('label'), 'userId').dropDuplicates()"
   ]
  },
  {
   "cell_type": "code",
   "execution_count": 695,
   "metadata": {
    "collapsed": true
   },
   "outputs": [],
   "source": [
    "labels = data.select(col('churn').alias('label'), 'userId').dropDuplicates()"
   ]
  },
  {
   "cell_type": "code",
   "execution_count": 383,
   "metadata": {
    "collapsed": true
   },
   "outputs": [],
   "source": [
    "# feat 1: Gender [gen]\n",
    "f_gen = data \\\n",
    "    .select('userId', 'gender') \\\n",
    "    .dropDuplicates() \\\n",
    "    .replace(['M', 'F'], ['0', '1'], 'gender') \\\n",
    "    .select('userId', col('gender').cast('int').alias('gen'))"
   ]
  },
  {
   "cell_type": "code",
   "execution_count": 449,
   "metadata": {},
   "outputs": [],
   "source": [
    "# feat 2: Last level [llevel]\n",
    "f_llevel = data \\\n",
    "    .select('userId', 'lastLevel') \\\n",
    "    .dropDuplicates() \\\n",
    "    .replace(['free', 'paid'], ['0', '1'], 'lastLevel') \\\n",
    "    .select('userId', col('lastLevel').cast('int').alias('llevel'))"
   ]
  },
  {
   "cell_type": "code",
   "execution_count": 408,
   "metadata": {
    "collapsed": true
   },
   "outputs": [],
   "source": [
    "# feat 3: Log count [nlogs]\n",
    "f_nlog = data \\\n",
    "    .groupby('userId') \\\n",
    "    .agg(count('userId').alias('nlog'))"
   ]
  },
  {
   "cell_type": "code",
   "execution_count": 435,
   "metadata": {},
   "outputs": [],
   "source": [
    "# feat 4: Average session duration [seslen]\n",
    "f_seslen = data \\\n",
    "    .groupby('userId', 'sessionId') \\\n",
    "    .agg(((max('ts') - min('ts'))/60000).alias('duration')) \\\n",
    "    .groupby('userId') \\\n",
    "    .agg(avg('duration').alias('seslen'))"
   ]
  },
  {
   "cell_type": "code",
   "execution_count": 652,
   "metadata": {},
   "outputs": [],
   "source": [
    "# feat 5: Average Roll Advert page interactions [advert]\n",
    "f_advert = data \\\n",
    "    .where(data.page == 'Roll Advert') \\\n",
    "    .groupby('userId') \\\n",
    "    .agg(count('userId').alias('advert')) \\\n",
    "    .select('userId', 'advert')"
   ]
  },
  {
   "cell_type": "code",
   "execution_count": 653,
   "metadata": {},
   "outputs": [],
   "source": [
    "# feat 6: Average Upgrade page interactions [upgrade]\n",
    "f_upgrade = data \\\n",
    "    .where(data.page == 'Upgrade') \\\n",
    "    .groupby('userId', 'total2') \\\n",
    "    .agg(count('userId').alias('upgrade')) \\\n",
    "    .select('userId', 'upgrade')"
   ]
  },
  {
   "cell_type": "markdown",
   "metadata": {},
   "source": [
    "#### User Interactions per hour"
   ]
  },
  {
   "cell_type": "code",
   "execution_count": 654,
   "metadata": {
    "collapsed": true
   },
   "outputs": [],
   "source": [
    "page_data = data.where(~data.page.isin(['Cancel', 'Cancellation Confirmation', 'Submit Downgrade']))\n",
    "\n",
    "user_hours = page_data \\\n",
    "    .groupby('userId', 'sessionId') \\\n",
    "    .agg(((max('ts') - min('ts'))/1000/3600).alias('hours')) \\\n",
    "    .groupby('userId') \\\n",
    "    .agg(Fsum('hours').alias('hours'))\n",
    "    \n",
    "page_count_per_hour = page_data \\\n",
    "    .join(user_hours, 'userId', 'inner') \\\n",
    "    .groupby('page', 'userId', 'hours') \\\n",
    "    .agg((count('page')/col('hours')).alias('countPerHour'))"
   ]
  },
  {
   "cell_type": "code",
   "execution_count": 655,
   "metadata": {},
   "outputs": [],
   "source": [
    "# feat 7: Average Roll Advert page interactions per hour [adverth]\n",
    "f_adverth = page_count_per_hour.where(col('page') == 'Roll Advert') \\\n",
    "    .select('userId', col('countPerHour').alias('adverth'))"
   ]
  },
  {
   "cell_type": "code",
   "execution_count": 658,
   "metadata": {
    "collapsed": true
   },
   "outputs": [],
   "source": [
    "# feat 8: Average Submit Upgrade page interactions per hour [subupgradeh]\n",
    "f_submitupgradeh = page_count_per_hour.where(col('page') == 'Submit Upgrade') \\\n",
    "    .select('userId', col('countPerHour').alias('submitupgradeh'))"
   ]
  },
  {
   "cell_type": "code",
   "execution_count": 657,
   "metadata": {
    "collapsed": true
   },
   "outputs": [],
   "source": [
    "# feat 9: Average Thumbs Down page interactions per hour [thumbsdownh]\n",
    "f_thumbsdownh = page_count_per_hour.where(col('page') == 'Thumbs Down') \\\n",
    "    .select('userId', col('countPerHour').alias('thumbsdownh'))"
   ]
  },
  {
   "cell_type": "code",
   "execution_count": 659,
   "metadata": {
    "collapsed": true
   },
   "outputs": [],
   "source": [
    "# feat 10: Average Upgrade page interactions per hour [upgradeh]\n",
    "f_upgradeh = page_count_per_hour.where(col('page') == 'Upgrade') \\\n",
    "    .select('userId', col('countPerHour').alias('upgradeh'))"
   ]
  },
  {
   "cell_type": "code",
   "execution_count": 660,
   "metadata": {
    "collapsed": true
   },
   "outputs": [],
   "source": [
    "# feat 11: Average Settings page interactions per hour [settingsh]\n",
    "f_settingsh = page_count_per_hour.where(col('page') == 'Settings') \\\n",
    "    .select('userId', col('countPerHour').alias('settingsh'))"
   ]
  },
  {
   "cell_type": "code",
   "execution_count": 722,
   "metadata": {
    "collapsed": true
   },
   "outputs": [],
   "source": [
    "# feat 12: Total song length [songlen]\n",
    "f_songlen = data \\\n",
    "    .where(data.page == 'NextSong') \\\n",
    "    .select('userId', 'length') \\\n",
    "    .groupby('userId') \\\n",
    "    .agg(Fsum('length').alias('songlen'))"
   ]
  },
  {
   "cell_type": "code",
   "execution_count": 723,
   "metadata": {
    "collapsed": true
   },
   "outputs": [
    {
     "name": "stdout",
     "output_type": "stream",
     "text": [
      "+------+------------------+\n",
      "|userId|           songlen|\n",
      "+------+------------------+\n",
      "|100010|       66940.89735|\n",
      "|200002| 94008.87593999993|\n",
      "|   125|2089.1131000000005|\n",
      "|    51| 523275.8428000004|\n",
      "|   124|1012312.0927900008|\n",
      "|     7|        38034.0871|\n",
      "|    54| 711344.9195399994|\n",
      "|    15| 477307.6058100001|\n",
      "|   155|198779.29190000004|\n",
      "|   132| 483118.9038399998|\n",
      "|   154|20660.023910000004|\n",
      "|100014|       67703.47208|\n",
      "|   101| 447464.0146699989|\n",
      "|    11|159669.96304000003|\n",
      "|   138|512449.88275999983|\n",
      "|300017| 897406.9802100015|\n",
      "|    29|      754517.56257|\n",
      "|    69| 286064.0256400001|\n",
      "|100021|57633.175639999994|\n",
      "|    42| 881792.9661299998|\n",
      "+------+------------------+\n",
      "only showing top 20 rows\n",
      "\n"
     ]
    }
   ],
   "source": [
    "f_songlen.show()"
   ]
  },
  {
   "cell_type": "markdown",
   "metadata": {},
   "source": [
    "#### User Interactions per all user interactions (share)"
   ]
  },
  {
   "cell_type": "code",
   "execution_count": 665,
   "metadata": {
    "collapsed": true
   },
   "outputs": [
    {
     "ename": "AnalysisException",
     "evalue": "Resolved attribute(s) churn#5189 missing from userId#4970,page#4963,count#20905L,total#20875L in operator !Project [churn#5189, page#4963, (cast(count#20905L as double) / cast(total#20875L as double)) AS share#20931].;;\n!Project [churn#5189, page#4963, (cast(count#20905L as double) / cast(total#20875L as double)) AS share#20931]\n+- Project [userId#4970, page#4963, count#20905L, total#20875L]\n   +- Join Inner, (userId#4970 = userId#20926)\n      :- Aggregate [userId#4970, page#4963], [userId#4970, page#4963, count(1) AS count#20905L]\n      :  +- Filter NOT page#4963 IN (Cancel,Cancellation Confirmation,Submit Downgrade)\n      :     +- Project [artist#4953, auth#4954, gender#4956, itemInSession#4957L, length#4959, level#4960, method#4962, page#4963, registration#4964L, sessionId#4965L, song#4966, status#4967L, ts#4968L, userAgent#4969, userId#4970, regDate#5045, tsDate#5063, city#5098, state#5118, churn#5189, userRowId#5211, userRowDescId#5234, lastLevel#5264, churn2#5294, ... 2 more fields]\n      :        +- Project [artist#4953, auth#4954, gender#4956, itemInSession#4957L, length#4959, level#4960, method#4962, page#4963, registration#4964L, sessionId#4965L, song#4966, status#4967L, ts#4968L, userAgent#4969, userId#4970, regDate#5045, tsDate#5063, city#5098, state#5118, churn#5189, userRowId#5211, userRowDescId#5234, lastLevel#5264, churn2#5294, <lambda>(churn#5189) AS total#6922]\n      :           +- Project [artist#4953, auth#4954, gender#4956, itemInSession#4957L, length#4959, level#4960, method#4962, page#4963, registration#4964L, sessionId#4965L, song#4966, status#4967L, ts#4968L, userAgent#4969, userId#4970, regDate#5045, tsDate#5063, city#5098, state#5118, churn#5189, userRowId#5211, userRowDescId#5234, lastLevel#5264, <lambda>(userId#4970) AS churn2#5294]\n      :              +- Project [artist#4953, auth#4954, gender#4956, itemInSession#4957L, length#4959, level#4960, method#4962, page#4963, registration#4964L, sessionId#4965L, song#4966, status#4967L, ts#4968L, userAgent#4969, userId#4970, regDate#5045, tsDate#5063, city#5098, state#5118, churn#5189, userRowId#5211, userRowDescId#5234, <lambda>(userId#4970) AS lastLevel#5264]\n      :                 +- Project [artist#4953, auth#4954, gender#4956, itemInSession#4957L, length#4959, level#4960, method#4962, page#4963, registration#4964L, sessionId#4965L, song#4966, status#4967L, ts#4968L, userAgent#4969, userId#4970, regDate#5045, tsDate#5063, city#5098, state#5118, churn#5189, userRowId#5211, userRowDescId#5234]\n      :                    +- Project [artist#4953, auth#4954, gender#4956, itemInSession#4957L, length#4959, level#4960, method#4962, page#4963, registration#4964L, sessionId#4965L, song#4966, status#4967L, ts#4968L, userAgent#4969, userId#4970, regDate#5045, tsDate#5063, city#5098, state#5118, churn#5189, userRowId#5211, userRowDescId#5234, userRowDescId#5234]\n      :                       +- Window [row_number() windowspecdefinition(userId#4970, ts#4968L DESC NULLS LAST, itemInSession#4957L DESC NULLS LAST, specifiedwindowframe(RowFrame, unboundedpreceding$(), currentrow$())) AS userRowDescId#5234], [userId#4970], [ts#4968L DESC NULLS LAST, itemInSession#4957L DESC NULLS LAST]\n      :                          +- Project [artist#4953, auth#4954, gender#4956, itemInSession#4957L, length#4959, level#4960, method#4962, page#4963, registration#4964L, sessionId#4965L, song#4966, status#4967L, ts#4968L, userAgent#4969, userId#4970, regDate#5045, tsDate#5063, city#5098, state#5118, churn#5189, userRowId#5211]\n      :                             +- Project [artist#4953, auth#4954, gender#4956, itemInSession#4957L, length#4959, level#4960, method#4962, page#4963, registration#4964L, sessionId#4965L, song#4966, status#4967L, ts#4968L, userAgent#4969, userId#4970, regDate#5045, tsDate#5063, city#5098, state#5118, churn#5189, userRowId#5211]\n      :                                +- Project [artist#4953, auth#4954, gender#4956, itemInSession#4957L, length#4959, level#4960, method#4962, page#4963, registration#4964L, sessionId#4965L, song#4966, status#4967L, ts#4968L, userAgent#4969, userId#4970, regDate#5045, tsDate#5063, city#5098, state#5118, churn#5189, userRowId#5211, userRowId#5211]\n      :                                   +- Window [row_number() windowspecdefinition(userId#4970, ts#4968L ASC NULLS FIRST, itemInSession#4957L ASC NULLS FIRST, specifiedwindowframe(RowFrame, unboundedpreceding$(), currentrow$())) AS userRowId#5211], [userId#4970], [ts#4968L ASC NULLS FIRST, itemInSession#4957L ASC NULLS FIRST]\n      :                                      +- Project [artist#4953, auth#4954, gender#4956, itemInSession#4957L, length#4959, level#4960, method#4962, page#4963, registration#4964L, sessionId#4965L, song#4966, status#4967L, ts#4968L, userAgent#4969, userId#4970, regDate#5045, tsDate#5063, city#5098, state#5118, churn#5189]\n      :                                         +- Project [artist#4953, auth#4954, gender#4956, itemInSession#4957L, length#4959, level#4960, method#4962, page#4963, registration#4964L, sessionId#4965L, song#4966, status#4967L, ts#4968L, userAgent#4969, userId#4970, regDate#5045, tsDate#5063, city#5098, state#5118, <lambda>(userId#4970) AS churn#5189]\n      :                                            +- Project [artist#4953, auth#4954, gender#4956, itemInSession#4957L, length#4959, level#4960, method#4962, page#4963, registration#4964L, sessionId#4965L, song#4966, status#4967L, ts#4968L, userAgent#4969, userId#4970, regDate#5045, tsDate#5063, city#5098, state#5118]\n      :                                               +- Project [artist#4953, auth#4954, gender#4956, itemInSession#4957L, length#4959, level#4960, location#4961, method#4962, page#4963, registration#4964L, sessionId#4965L, song#4966, status#4967L, ts#4968L, userAgent#4969, userId#4970, regDate#5045, tsDate#5063, city#5098, split(location#4961, ,, -1)[1] AS state#5118]\n      :                                                  +- Project [artist#4953, auth#4954, gender#4956, itemInSession#4957L, length#4959, level#4960, location#4961, method#4962, page#4963, registration#4964L, sessionId#4965L, song#4966, status#4967L, ts#4968L, userAgent#4969, userId#4970, regDate#5045, tsDate#5063, split(location#4961, ,, -1)[0] AS city#5098]\n      :                                                     +- Project [artist#4953, auth#4954, gender#4956, itemInSession#4957L, length#4959, level#4960, location#4961, method#4962, page#4963, registration#4964L, sessionId#4965L, song#4966, status#4967L, ts#4968L, userAgent#4969, userId#4970, regDate#5045, cast((cast(ts#4968L as double) / cast(1000.0 as double)) as timestamp) AS tsDate#5063]\n      :                                                        +- Project [artist#4953, auth#4954, gender#4956, itemInSession#4957L, length#4959, level#4960, location#4961, method#4962, page#4963, registration#4964L, sessionId#4965L, song#4966, status#4967L, ts#4968L, userAgent#4969, userId#4970, cast((cast(registration#4964L as double) / cast(1000.0 as double)) as timestamp) AS regDate#5045]\n      :                                                           +- Project [artist#4953, auth#4954, gender#4956, itemInSession#4957L, length#4959, level#4960, location#4961, method#4962, page#4963, registration#4964L, sessionId#4965L, song#4966, status#4967L, ts#4968L, userAgent#4969, userId#4970]\n      :                                                              +- Project [artist#4953, auth#4954, gender#4956, itemInSession#4957L, lastName#4958, length#4959, level#4960, location#4961, method#4962, page#4963, registration#4964L, sessionId#4965L, song#4966, status#4967L, ts#4968L, userAgent#4969, userId#4970]\n      :                                                                 +- Filter NOT (isnull(userId#4970) OR (userId#4970 = ))\n      :                                                                    +- Relation[artist#4953,auth#4954,firstName#4955,gender#4956,itemInSession#4957L,lastName#4958,length#4959,level#4960,location#4961,method#4962,page#4963,registration#4964L,sessionId#4965L,song#4966,status#4967L,ts#4968L,userAgent#4969,userId#4970] json\n      +- Aggregate [userId#20926], [userId#20926, count(userId#20926) AS total#20875L]\n         +- Filter NOT page#20919 IN (Cancel,Cancellation Confirmation,Submit Downgrade)\n            +- Project [artist#20909, auth#20910, gender#20912, itemInSession#20913L, length#20915, level#20916, method#20918, page#20919, registration#20920L, sessionId#20921L, song#20922, status#20923L, ts#20924L, userAgent#20925, userId#20926, regDate#5045, tsDate#5063, city#5098, state#5118, churn#5189, userRowId#5211, userRowDescId#5234, lastLevel#5264, churn2#5294, ... 2 more fields]\n               +- Project [artist#20909, auth#20910, gender#20912, itemInSession#20913L, length#20915, level#20916, method#20918, page#20919, registration#20920L, sessionId#20921L, song#20922, status#20923L, ts#20924L, userAgent#20925, userId#20926, regDate#5045, tsDate#5063, city#5098, state#5118, churn#5189, userRowId#5211, userRowDescId#5234, lastLevel#5264, churn2#5294, <lambda>(churn#5189) AS total#6922]\n                  +- Project [artist#20909, auth#20910, gender#20912, itemInSession#20913L, length#20915, level#20916, method#20918, page#20919, registration#20920L, sessionId#20921L, song#20922, status#20923L, ts#20924L, userAgent#20925, userId#20926, regDate#5045, tsDate#5063, city#5098, state#5118, churn#5189, userRowId#5211, userRowDescId#5234, lastLevel#5264, <lambda>(userId#20926) AS churn2#5294]\n                     +- Project [artist#20909, auth#20910, gender#20912, itemInSession#20913L, length#20915, level#20916, method#20918, page#20919, registration#20920L, sessionId#20921L, song#20922, status#20923L, ts#20924L, userAgent#20925, userId#20926, regDate#5045, tsDate#5063, city#5098, state#5118, churn#5189, userRowId#5211, userRowDescId#5234, <lambda>(userId#20926) AS lastLevel#5264]\n                        +- Project [artist#20909, auth#20910, gender#20912, itemInSession#20913L, length#20915, level#20916, method#20918, page#20919, registration#20920L, sessionId#20921L, song#20922, status#20923L, ts#20924L, userAgent#20925, userId#20926, regDate#5045, tsDate#5063, city#5098, state#5118, churn#5189, userRowId#5211, userRowDescId#5234]\n                           +- Project [artist#20909, auth#20910, gender#20912, itemInSession#20913L, length#20915, level#20916, method#20918, page#20919, registration#20920L, sessionId#20921L, song#20922, status#20923L, ts#20924L, userAgent#20925, userId#20926, regDate#5045, tsDate#5063, city#5098, state#5118, churn#5189, userRowId#5211, userRowDescId#5234, userRowDescId#5234]\n                              +- Window [row_number() windowspecdefinition(userId#20926, ts#20924L DESC NULLS LAST, itemInSession#20913L DESC NULLS LAST, specifiedwindowframe(RowFrame, unboundedpreceding$(), currentrow$())) AS userRowDescId#5234], [userId#20926], [ts#20924L DESC NULLS LAST, itemInSession#20913L DESC NULLS LAST]\n                                 +- Project [artist#20909, auth#20910, gender#20912, itemInSession#20913L, length#20915, level#20916, method#20918, page#20919, registration#20920L, sessionId#20921L, song#20922, status#20923L, ts#20924L, userAgent#20925, userId#20926, regDate#5045, tsDate#5063, city#5098, state#5118, churn#5189, userRowId#5211]\n                                    +- Project [artist#20909, auth#20910, gender#20912, itemInSession#20913L, length#20915, level#20916, method#20918, page#20919, registration#20920L, sessionId#20921L, song#20922, status#20923L, ts#20924L, userAgent#20925, userId#20926, regDate#5045, tsDate#5063, city#5098, state#5118, churn#5189, userRowId#5211]\n                                       +- Project [artist#20909, auth#20910, gender#20912, itemInSession#20913L, length#20915, level#20916, method#20918, page#20919, registration#20920L, sessionId#20921L, song#20922, status#20923L, ts#20924L, userAgent#20925, userId#20926, regDate#5045, tsDate#5063, city#5098, state#5118, churn#5189, userRowId#5211, userRowId#5211]\n                                          +- Window [row_number() windowspecdefinition(userId#20926, ts#20924L ASC NULLS FIRST, itemInSession#20913L ASC NULLS FIRST, specifiedwindowframe(RowFrame, unboundedpreceding$(), currentrow$())) AS userRowId#5211], [userId#20926], [ts#20924L ASC NULLS FIRST, itemInSession#20913L ASC NULLS FIRST]\n                                             +- Project [artist#20909, auth#20910, gender#20912, itemInSession#20913L, length#20915, level#20916, method#20918, page#20919, registration#20920L, sessionId#20921L, song#20922, status#20923L, ts#20924L, userAgent#20925, userId#20926, regDate#5045, tsDate#5063, city#5098, state#5118, churn#5189]\n                                                +- Project [artist#20909, auth#20910, gender#20912, itemInSession#20913L, length#20915, level#20916, method#20918, page#20919, registration#20920L, sessionId#20921L, song#20922, status#20923L, ts#20924L, userAgent#20925, userId#20926, regDate#5045, tsDate#5063, city#5098, state#5118, <lambda>(userId#20926) AS churn#5189]\n                                                   +- Project [artist#20909, auth#20910, gender#20912, itemInSession#20913L, length#20915, level#20916, method#20918, page#20919, registration#20920L, sessionId#20921L, song#20922, status#20923L, ts#20924L, userAgent#20925, userId#20926, regDate#5045, tsDate#5063, city#5098, state#5118]\n                                                      +- Project [artist#20909, auth#20910, gender#20912, itemInSession#20913L, length#20915, level#20916, location#20917, method#20918, page#20919, registration#20920L, sessionId#20921L, song#20922, status#20923L, ts#20924L, userAgent#20925, userId#20926, regDate#5045, tsDate#5063, city#5098, split(location#20917, ,, -1)[1] AS state#5118]\n                                                         +- Project [artist#20909, auth#20910, gender#20912, itemInSession#20913L, length#20915, level#20916, location#20917, method#20918, page#20919, registration#20920L, sessionId#20921L, song#20922, status#20923L, ts#20924L, userAgent#20925, userId#20926, regDate#5045, tsDate#5063, split(location#20917, ,, -1)[0] AS city#5098]\n                                                            +- Project [artist#20909, auth#20910, gender#20912, itemInSession#20913L, length#20915, level#20916, location#20917, method#20918, page#20919, registration#20920L, sessionId#20921L, song#20922, status#20923L, ts#20924L, userAgent#20925, userId#20926, regDate#5045, cast((cast(ts#20924L as double) / cast(1000.0 as double)) as timestamp) AS tsDate#5063]\n                                                               +- Project [artist#20909, auth#20910, gender#20912, itemInSession#20913L, length#20915, level#20916, location#20917, method#20918, page#20919, registration#20920L, sessionId#20921L, song#20922, status#20923L, ts#20924L, userAgent#20925, userId#20926, cast((cast(registration#20920L as double) / cast(1000.0 as double)) as timestamp) AS regDate#5045]\n                                                                  +- Project [artist#20909, auth#20910, gender#20912, itemInSession#20913L, length#20915, level#20916, location#20917, method#20918, page#20919, registration#20920L, sessionId#20921L, song#20922, status#20923L, ts#20924L, userAgent#20925, userId#20926]\n                                                                     +- Project [artist#20909, auth#20910, gender#20912, itemInSession#20913L, lastName#20914, length#20915, level#20916, location#20917, method#20918, page#20919, registration#20920L, sessionId#20921L, song#20922, status#20923L, ts#20924L, userAgent#20925, userId#20926]\n                                                                        +- Filter NOT (isnull(userId#20926) OR (userId#20926 = ))\n                                                                           +- Relation[artist#20909,auth#20910,firstName#20911,gender#20912,itemInSession#20913L,lastName#20914,length#20915,level#20916,location#20917,method#20918,page#20919,registration#20920L,sessionId#20921L,song#20922,status#20923L,ts#20924L,userAgent#20925,userId#20926] json\n",
     "output_type": "error",
     "traceback": [
      "\u001b[1;31m---------------------------------------------------------------------------\u001b[0m",
      "\u001b[1;31mAnalysisException\u001b[0m                         Traceback (most recent call last)",
      "\u001b[1;32m<ipython-input-665-c812720017dd>\u001b[0m in \u001b[0;36m<module>\u001b[1;34m()\u001b[0m\n\u001b[0;32m      1\u001b[0m \u001b[0muser_data\u001b[0m \u001b[1;33m=\u001b[0m \u001b[0mpage_data\u001b[0m\u001b[1;33m.\u001b[0m\u001b[0mgroupby\u001b[0m\u001b[1;33m(\u001b[0m\u001b[1;34m'userId'\u001b[0m\u001b[1;33m)\u001b[0m\u001b[1;33m.\u001b[0m\u001b[0magg\u001b[0m\u001b[1;33m(\u001b[0m\u001b[0mcount\u001b[0m\u001b[1;33m(\u001b[0m\u001b[1;34m'userId'\u001b[0m\u001b[1;33m)\u001b[0m\u001b[1;33m.\u001b[0m\u001b[0malias\u001b[0m\u001b[1;33m(\u001b[0m\u001b[1;34m'total'\u001b[0m\u001b[1;33m)\u001b[0m\u001b[1;33m)\u001b[0m\u001b[1;33m\u001b[0m\u001b[0m\n\u001b[0;32m      2\u001b[0m \u001b[1;33m\u001b[0m\u001b[0m\n\u001b[1;32m----> 3\u001b[1;33m \u001b[0mpage_user_share\u001b[0m \u001b[1;33m=\u001b[0m \u001b[0mpage_data\u001b[0m     \u001b[1;33m.\u001b[0m\u001b[0mgroupby\u001b[0m\u001b[1;33m(\u001b[0m\u001b[1;34m'userId'\u001b[0m\u001b[1;33m,\u001b[0m \u001b[1;34m'page'\u001b[0m\u001b[1;33m)\u001b[0m     \u001b[1;33m.\u001b[0m\u001b[0mcount\u001b[0m\u001b[1;33m(\u001b[0m\u001b[1;33m)\u001b[0m     \u001b[1;33m.\u001b[0m\u001b[0mjoin\u001b[0m\u001b[1;33m(\u001b[0m\u001b[0muser_data\u001b[0m\u001b[1;33m,\u001b[0m \u001b[0mon\u001b[0m \u001b[1;33m=\u001b[0m \u001b[1;33m[\u001b[0m\u001b[1;34m'userId'\u001b[0m\u001b[1;33m]\u001b[0m\u001b[1;33m,\u001b[0m \u001b[0mhow\u001b[0m \u001b[1;33m=\u001b[0m \u001b[1;34m'inner'\u001b[0m\u001b[1;33m)\u001b[0m     \u001b[1;33m.\u001b[0m\u001b[0mselect\u001b[0m\u001b[1;33m(\u001b[0m\u001b[0mpage_data\u001b[0m\u001b[1;33m.\u001b[0m\u001b[0mchurn\u001b[0m\u001b[1;33m,\u001b[0m \u001b[0mpage_data\u001b[0m\u001b[1;33m.\u001b[0m\u001b[0mpage\u001b[0m\u001b[1;33m,\u001b[0m \u001b[1;33m(\u001b[0m\u001b[0mcol\u001b[0m\u001b[1;33m(\u001b[0m\u001b[1;34m'count'\u001b[0m\u001b[1;33m)\u001b[0m\u001b[1;33m/\u001b[0m\u001b[0mcol\u001b[0m\u001b[1;33m(\u001b[0m\u001b[1;34m'total'\u001b[0m\u001b[1;33m)\u001b[0m\u001b[1;33m)\u001b[0m\u001b[1;33m.\u001b[0m\u001b[0malias\u001b[0m\u001b[1;33m(\u001b[0m\u001b[1;34m'share'\u001b[0m\u001b[1;33m)\u001b[0m\u001b[1;33m)\u001b[0m\u001b[1;33m\u001b[0m\u001b[0m\n\u001b[0m",
      "\u001b[1;32mC:\\ProgramData\\Anaconda3\\lib\\site-packages\\pyspark\\sql\\dataframe.py\u001b[0m in \u001b[0;36mselect\u001b[1;34m(self, *cols)\u001b[0m\n\u001b[0;32m   1419\u001b[0m         \u001b[1;33m[\u001b[0m\u001b[0mRow\u001b[0m\u001b[1;33m(\u001b[0m\u001b[0mname\u001b[0m\u001b[1;33m=\u001b[0m\u001b[1;34mu'Alice'\u001b[0m\u001b[1;33m,\u001b[0m \u001b[0mage\u001b[0m\u001b[1;33m=\u001b[0m\u001b[1;36m12\u001b[0m\u001b[1;33m)\u001b[0m\u001b[1;33m,\u001b[0m \u001b[0mRow\u001b[0m\u001b[1;33m(\u001b[0m\u001b[0mname\u001b[0m\u001b[1;33m=\u001b[0m\u001b[1;34mu'Bob'\u001b[0m\u001b[1;33m,\u001b[0m \u001b[0mage\u001b[0m\u001b[1;33m=\u001b[0m\u001b[1;36m15\u001b[0m\u001b[1;33m)\u001b[0m\u001b[1;33m]\u001b[0m\u001b[1;33m\u001b[0m\u001b[0m\n\u001b[0;32m   1420\u001b[0m         \"\"\"\n\u001b[1;32m-> 1421\u001b[1;33m         \u001b[0mjdf\u001b[0m \u001b[1;33m=\u001b[0m \u001b[0mself\u001b[0m\u001b[1;33m.\u001b[0m\u001b[0m_jdf\u001b[0m\u001b[1;33m.\u001b[0m\u001b[0mselect\u001b[0m\u001b[1;33m(\u001b[0m\u001b[0mself\u001b[0m\u001b[1;33m.\u001b[0m\u001b[0m_jcols\u001b[0m\u001b[1;33m(\u001b[0m\u001b[1;33m*\u001b[0m\u001b[0mcols\u001b[0m\u001b[1;33m)\u001b[0m\u001b[1;33m)\u001b[0m\u001b[1;33m\u001b[0m\u001b[0m\n\u001b[0m\u001b[0;32m   1422\u001b[0m         \u001b[1;32mreturn\u001b[0m \u001b[0mDataFrame\u001b[0m\u001b[1;33m(\u001b[0m\u001b[0mjdf\u001b[0m\u001b[1;33m,\u001b[0m \u001b[0mself\u001b[0m\u001b[1;33m.\u001b[0m\u001b[0msql_ctx\u001b[0m\u001b[1;33m)\u001b[0m\u001b[1;33m\u001b[0m\u001b[0m\n\u001b[0;32m   1423\u001b[0m \u001b[1;33m\u001b[0m\u001b[0m\n",
      "\u001b[1;32mC:\\ProgramData\\Anaconda3\\lib\\site-packages\\py4j\\java_gateway.py\u001b[0m in \u001b[0;36m__call__\u001b[1;34m(self, *args)\u001b[0m\n\u001b[0;32m   1303\u001b[0m         \u001b[0manswer\u001b[0m \u001b[1;33m=\u001b[0m \u001b[0mself\u001b[0m\u001b[1;33m.\u001b[0m\u001b[0mgateway_client\u001b[0m\u001b[1;33m.\u001b[0m\u001b[0msend_command\u001b[0m\u001b[1;33m(\u001b[0m\u001b[0mcommand\u001b[0m\u001b[1;33m)\u001b[0m\u001b[1;33m\u001b[0m\u001b[0m\n\u001b[0;32m   1304\u001b[0m         return_value = get_return_value(\n\u001b[1;32m-> 1305\u001b[1;33m             answer, self.gateway_client, self.target_id, self.name)\n\u001b[0m\u001b[0;32m   1306\u001b[0m \u001b[1;33m\u001b[0m\u001b[0m\n\u001b[0;32m   1307\u001b[0m         \u001b[1;32mfor\u001b[0m \u001b[0mtemp_arg\u001b[0m \u001b[1;32min\u001b[0m \u001b[0mtemp_args\u001b[0m\u001b[1;33m:\u001b[0m\u001b[1;33m\u001b[0m\u001b[0m\n",
      "\u001b[1;32mC:\\ProgramData\\Anaconda3\\lib\\site-packages\\pyspark\\sql\\utils.py\u001b[0m in \u001b[0;36mdeco\u001b[1;34m(*a, **kw)\u001b[0m\n\u001b[0;32m    135\u001b[0m                 \u001b[1;31m# Hide where the exception came from that shows a non-Pythonic\u001b[0m\u001b[1;33m\u001b[0m\u001b[1;33m\u001b[0m\u001b[0m\n\u001b[0;32m    136\u001b[0m                 \u001b[1;31m# JVM exception message.\u001b[0m\u001b[1;33m\u001b[0m\u001b[1;33m\u001b[0m\u001b[0m\n\u001b[1;32m--> 137\u001b[1;33m                 \u001b[0mraise_from\u001b[0m\u001b[1;33m(\u001b[0m\u001b[0mconverted\u001b[0m\u001b[1;33m)\u001b[0m\u001b[1;33m\u001b[0m\u001b[0m\n\u001b[0m\u001b[0;32m    138\u001b[0m             \u001b[1;32melse\u001b[0m\u001b[1;33m:\u001b[0m\u001b[1;33m\u001b[0m\u001b[0m\n\u001b[0;32m    139\u001b[0m                 \u001b[1;32mraise\u001b[0m\u001b[1;33m\u001b[0m\u001b[0m\n",
      "\u001b[1;32mC:\\ProgramData\\Anaconda3\\lib\\site-packages\\pyspark\\sql\\utils.py\u001b[0m in \u001b[0;36mraise_from\u001b[1;34m(e)\u001b[0m\n",
      "\u001b[1;31mAnalysisException\u001b[0m: Resolved attribute(s) churn#5189 missing from userId#4970,page#4963,count#20905L,total#20875L in operator !Project [churn#5189, page#4963, (cast(count#20905L as double) / cast(total#20875L as double)) AS share#20931].;;\n!Project [churn#5189, page#4963, (cast(count#20905L as double) / cast(total#20875L as double)) AS share#20931]\n+- Project [userId#4970, page#4963, count#20905L, total#20875L]\n   +- Join Inner, (userId#4970 = userId#20926)\n      :- Aggregate [userId#4970, page#4963], [userId#4970, page#4963, count(1) AS count#20905L]\n      :  +- Filter NOT page#4963 IN (Cancel,Cancellation Confirmation,Submit Downgrade)\n      :     +- Project [artist#4953, auth#4954, gender#4956, itemInSession#4957L, length#4959, level#4960, method#4962, page#4963, registration#4964L, sessionId#4965L, song#4966, status#4967L, ts#4968L, userAgent#4969, userId#4970, regDate#5045, tsDate#5063, city#5098, state#5118, churn#5189, userRowId#5211, userRowDescId#5234, lastLevel#5264, churn2#5294, ... 2 more fields]\n      :        +- Project [artist#4953, auth#4954, gender#4956, itemInSession#4957L, length#4959, level#4960, method#4962, page#4963, registration#4964L, sessionId#4965L, song#4966, status#4967L, ts#4968L, userAgent#4969, userId#4970, regDate#5045, tsDate#5063, city#5098, state#5118, churn#5189, userRowId#5211, userRowDescId#5234, lastLevel#5264, churn2#5294, <lambda>(churn#5189) AS total#6922]\n      :           +- Project [artist#4953, auth#4954, gender#4956, itemInSession#4957L, length#4959, level#4960, method#4962, page#4963, registration#4964L, sessionId#4965L, song#4966, status#4967L, ts#4968L, userAgent#4969, userId#4970, regDate#5045, tsDate#5063, city#5098, state#5118, churn#5189, userRowId#5211, userRowDescId#5234, lastLevel#5264, <lambda>(userId#4970) AS churn2#5294]\n      :              +- Project [artist#4953, auth#4954, gender#4956, itemInSession#4957L, length#4959, level#4960, method#4962, page#4963, registration#4964L, sessionId#4965L, song#4966, status#4967L, ts#4968L, userAgent#4969, userId#4970, regDate#5045, tsDate#5063, city#5098, state#5118, churn#5189, userRowId#5211, userRowDescId#5234, <lambda>(userId#4970) AS lastLevel#5264]\n      :                 +- Project [artist#4953, auth#4954, gender#4956, itemInSession#4957L, length#4959, level#4960, method#4962, page#4963, registration#4964L, sessionId#4965L, song#4966, status#4967L, ts#4968L, userAgent#4969, userId#4970, regDate#5045, tsDate#5063, city#5098, state#5118, churn#5189, userRowId#5211, userRowDescId#5234]\n      :                    +- Project [artist#4953, auth#4954, gender#4956, itemInSession#4957L, length#4959, level#4960, method#4962, page#4963, registration#4964L, sessionId#4965L, song#4966, status#4967L, ts#4968L, userAgent#4969, userId#4970, regDate#5045, tsDate#5063, city#5098, state#5118, churn#5189, userRowId#5211, userRowDescId#5234, userRowDescId#5234]\n      :                       +- Window [row_number() windowspecdefinition(userId#4970, ts#4968L DESC NULLS LAST, itemInSession#4957L DESC NULLS LAST, specifiedwindowframe(RowFrame, unboundedpreceding$(), currentrow$())) AS userRowDescId#5234], [userId#4970], [ts#4968L DESC NULLS LAST, itemInSession#4957L DESC NULLS LAST]\n      :                          +- Project [artist#4953, auth#4954, gender#4956, itemInSession#4957L, length#4959, level#4960, method#4962, page#4963, registration#4964L, sessionId#4965L, song#4966, status#4967L, ts#4968L, userAgent#4969, userId#4970, regDate#5045, tsDate#5063, city#5098, state#5118, churn#5189, userRowId#5211]\n      :                             +- Project [artist#4953, auth#4954, gender#4956, itemInSession#4957L, length#4959, level#4960, method#4962, page#4963, registration#4964L, sessionId#4965L, song#4966, status#4967L, ts#4968L, userAgent#4969, userId#4970, regDate#5045, tsDate#5063, city#5098, state#5118, churn#5189, userRowId#5211]\n      :                                +- Project [artist#4953, auth#4954, gender#4956, itemInSession#4957L, length#4959, level#4960, method#4962, page#4963, registration#4964L, sessionId#4965L, song#4966, status#4967L, ts#4968L, userAgent#4969, userId#4970, regDate#5045, tsDate#5063, city#5098, state#5118, churn#5189, userRowId#5211, userRowId#5211]\n      :                                   +- Window [row_number() windowspecdefinition(userId#4970, ts#4968L ASC NULLS FIRST, itemInSession#4957L ASC NULLS FIRST, specifiedwindowframe(RowFrame, unboundedpreceding$(), currentrow$())) AS userRowId#5211], [userId#4970], [ts#4968L ASC NULLS FIRST, itemInSession#4957L ASC NULLS FIRST]\n      :                                      +- Project [artist#4953, auth#4954, gender#4956, itemInSession#4957L, length#4959, level#4960, method#4962, page#4963, registration#4964L, sessionId#4965L, song#4966, status#4967L, ts#4968L, userAgent#4969, userId#4970, regDate#5045, tsDate#5063, city#5098, state#5118, churn#5189]\n      :                                         +- Project [artist#4953, auth#4954, gender#4956, itemInSession#4957L, length#4959, level#4960, method#4962, page#4963, registration#4964L, sessionId#4965L, song#4966, status#4967L, ts#4968L, userAgent#4969, userId#4970, regDate#5045, tsDate#5063, city#5098, state#5118, <lambda>(userId#4970) AS churn#5189]\n      :                                            +- Project [artist#4953, auth#4954, gender#4956, itemInSession#4957L, length#4959, level#4960, method#4962, page#4963, registration#4964L, sessionId#4965L, song#4966, status#4967L, ts#4968L, userAgent#4969, userId#4970, regDate#5045, tsDate#5063, city#5098, state#5118]\n      :                                               +- Project [artist#4953, auth#4954, gender#4956, itemInSession#4957L, length#4959, level#4960, location#4961, method#4962, page#4963, registration#4964L, sessionId#4965L, song#4966, status#4967L, ts#4968L, userAgent#4969, userId#4970, regDate#5045, tsDate#5063, city#5098, split(location#4961, ,, -1)[1] AS state#5118]\n      :                                                  +- Project [artist#4953, auth#4954, gender#4956, itemInSession#4957L, length#4959, level#4960, location#4961, method#4962, page#4963, registration#4964L, sessionId#4965L, song#4966, status#4967L, ts#4968L, userAgent#4969, userId#4970, regDate#5045, tsDate#5063, split(location#4961, ,, -1)[0] AS city#5098]\n      :                                                     +- Project [artist#4953, auth#4954, gender#4956, itemInSession#4957L, length#4959, level#4960, location#4961, method#4962, page#4963, registration#4964L, sessionId#4965L, song#4966, status#4967L, ts#4968L, userAgent#4969, userId#4970, regDate#5045, cast((cast(ts#4968L as double) / cast(1000.0 as double)) as timestamp) AS tsDate#5063]\n      :                                                        +- Project [artist#4953, auth#4954, gender#4956, itemInSession#4957L, length#4959, level#4960, location#4961, method#4962, page#4963, registration#4964L, sessionId#4965L, song#4966, status#4967L, ts#4968L, userAgent#4969, userId#4970, cast((cast(registration#4964L as double) / cast(1000.0 as double)) as timestamp) AS regDate#5045]\n      :                                                           +- Project [artist#4953, auth#4954, gender#4956, itemInSession#4957L, length#4959, level#4960, location#4961, method#4962, page#4963, registration#4964L, sessionId#4965L, song#4966, status#4967L, ts#4968L, userAgent#4969, userId#4970]\n      :                                                              +- Project [artist#4953, auth#4954, gender#4956, itemInSession#4957L, lastName#4958, length#4959, level#4960, location#4961, method#4962, page#4963, registration#4964L, sessionId#4965L, song#4966, status#4967L, ts#4968L, userAgent#4969, userId#4970]\n      :                                                                 +- Filter NOT (isnull(userId#4970) OR (userId#4970 = ))\n      :                                                                    +- Relation[artist#4953,auth#4954,firstName#4955,gender#4956,itemInSession#4957L,lastName#4958,length#4959,level#4960,location#4961,method#4962,page#4963,registration#4964L,sessionId#4965L,song#4966,status#4967L,ts#4968L,userAgent#4969,userId#4970] json\n      +- Aggregate [userId#20926], [userId#20926, count(userId#20926) AS total#20875L]\n         +- Filter NOT page#20919 IN (Cancel,Cancellation Confirmation,Submit Downgrade)\n            +- Project [artist#20909, auth#20910, gender#20912, itemInSession#20913L, length#20915, level#20916, method#20918, page#20919, registration#20920L, sessionId#20921L, song#20922, status#20923L, ts#20924L, userAgent#20925, userId#20926, regDate#5045, tsDate#5063, city#5098, state#5118, churn#5189, userRowId#5211, userRowDescId#5234, lastLevel#5264, churn2#5294, ... 2 more fields]\n               +- Project [artist#20909, auth#20910, gender#20912, itemInSession#20913L, length#20915, level#20916, method#20918, page#20919, registration#20920L, sessionId#20921L, song#20922, status#20923L, ts#20924L, userAgent#20925, userId#20926, regDate#5045, tsDate#5063, city#5098, state#5118, churn#5189, userRowId#5211, userRowDescId#5234, lastLevel#5264, churn2#5294, <lambda>(churn#5189) AS total#6922]\n                  +- Project [artist#20909, auth#20910, gender#20912, itemInSession#20913L, length#20915, level#20916, method#20918, page#20919, registration#20920L, sessionId#20921L, song#20922, status#20923L, ts#20924L, userAgent#20925, userId#20926, regDate#5045, tsDate#5063, city#5098, state#5118, churn#5189, userRowId#5211, userRowDescId#5234, lastLevel#5264, <lambda>(userId#20926) AS churn2#5294]\n                     +- Project [artist#20909, auth#20910, gender#20912, itemInSession#20913L, length#20915, level#20916, method#20918, page#20919, registration#20920L, sessionId#20921L, song#20922, status#20923L, ts#20924L, userAgent#20925, userId#20926, regDate#5045, tsDate#5063, city#5098, state#5118, churn#5189, userRowId#5211, userRowDescId#5234, <lambda>(userId#20926) AS lastLevel#5264]\n                        +- Project [artist#20909, auth#20910, gender#20912, itemInSession#20913L, length#20915, level#20916, method#20918, page#20919, registration#20920L, sessionId#20921L, song#20922, status#20923L, ts#20924L, userAgent#20925, userId#20926, regDate#5045, tsDate#5063, city#5098, state#5118, churn#5189, userRowId#5211, userRowDescId#5234]\n                           +- Project [artist#20909, auth#20910, gender#20912, itemInSession#20913L, length#20915, level#20916, method#20918, page#20919, registration#20920L, sessionId#20921L, song#20922, status#20923L, ts#20924L, userAgent#20925, userId#20926, regDate#5045, tsDate#5063, city#5098, state#5118, churn#5189, userRowId#5211, userRowDescId#5234, userRowDescId#5234]\n                              +- Window [row_number() windowspecdefinition(userId#20926, ts#20924L DESC NULLS LAST, itemInSession#20913L DESC NULLS LAST, specifiedwindowframe(RowFrame, unboundedpreceding$(), currentrow$())) AS userRowDescId#5234], [userId#20926], [ts#20924L DESC NULLS LAST, itemInSession#20913L DESC NULLS LAST]\n                                 +- Project [artist#20909, auth#20910, gender#20912, itemInSession#20913L, length#20915, level#20916, method#20918, page#20919, registration#20920L, sessionId#20921L, song#20922, status#20923L, ts#20924L, userAgent#20925, userId#20926, regDate#5045, tsDate#5063, city#5098, state#5118, churn#5189, userRowId#5211]\n                                    +- Project [artist#20909, auth#20910, gender#20912, itemInSession#20913L, length#20915, level#20916, method#20918, page#20919, registration#20920L, sessionId#20921L, song#20922, status#20923L, ts#20924L, userAgent#20925, userId#20926, regDate#5045, tsDate#5063, city#5098, state#5118, churn#5189, userRowId#5211]\n                                       +- Project [artist#20909, auth#20910, gender#20912, itemInSession#20913L, length#20915, level#20916, method#20918, page#20919, registration#20920L, sessionId#20921L, song#20922, status#20923L, ts#20924L, userAgent#20925, userId#20926, regDate#5045, tsDate#5063, city#5098, state#5118, churn#5189, userRowId#5211, userRowId#5211]\n                                          +- Window [row_number() windowspecdefinition(userId#20926, ts#20924L ASC NULLS FIRST, itemInSession#20913L ASC NULLS FIRST, specifiedwindowframe(RowFrame, unboundedpreceding$(), currentrow$())) AS userRowId#5211], [userId#20926], [ts#20924L ASC NULLS FIRST, itemInSession#20913L ASC NULLS FIRST]\n                                             +- Project [artist#20909, auth#20910, gender#20912, itemInSession#20913L, length#20915, level#20916, method#20918, page#20919, registration#20920L, sessionId#20921L, song#20922, status#20923L, ts#20924L, userAgent#20925, userId#20926, regDate#5045, tsDate#5063, city#5098, state#5118, churn#5189]\n                                                +- Project [artist#20909, auth#20910, gender#20912, itemInSession#20913L, length#20915, level#20916, method#20918, page#20919, registration#20920L, sessionId#20921L, song#20922, status#20923L, ts#20924L, userAgent#20925, userId#20926, regDate#5045, tsDate#5063, city#5098, state#5118, <lambda>(userId#20926) AS churn#5189]\n                                                   +- Project [artist#20909, auth#20910, gender#20912, itemInSession#20913L, length#20915, level#20916, method#20918, page#20919, registration#20920L, sessionId#20921L, song#20922, status#20923L, ts#20924L, userAgent#20925, userId#20926, regDate#5045, tsDate#5063, city#5098, state#5118]\n                                                      +- Project [artist#20909, auth#20910, gender#20912, itemInSession#20913L, length#20915, level#20916, location#20917, method#20918, page#20919, registration#20920L, sessionId#20921L, song#20922, status#20923L, ts#20924L, userAgent#20925, userId#20926, regDate#5045, tsDate#5063, city#5098, split(location#20917, ,, -1)[1] AS state#5118]\n                                                         +- Project [artist#20909, auth#20910, gender#20912, itemInSession#20913L, length#20915, level#20916, location#20917, method#20918, page#20919, registration#20920L, sessionId#20921L, song#20922, status#20923L, ts#20924L, userAgent#20925, userId#20926, regDate#5045, tsDate#5063, split(location#20917, ,, -1)[0] AS city#5098]\n                                                            +- Project [artist#20909, auth#20910, gender#20912, itemInSession#20913L, length#20915, level#20916, location#20917, method#20918, page#20919, registration#20920L, sessionId#20921L, song#20922, status#20923L, ts#20924L, userAgent#20925, userId#20926, regDate#5045, cast((cast(ts#20924L as double) / cast(1000.0 as double)) as timestamp) AS tsDate#5063]\n                                                               +- Project [artist#20909, auth#20910, gender#20912, itemInSession#20913L, length#20915, level#20916, location#20917, method#20918, page#20919, registration#20920L, sessionId#20921L, song#20922, status#20923L, ts#20924L, userAgent#20925, userId#20926, cast((cast(registration#20920L as double) / cast(1000.0 as double)) as timestamp) AS regDate#5045]\n                                                                  +- Project [artist#20909, auth#20910, gender#20912, itemInSession#20913L, length#20915, level#20916, location#20917, method#20918, page#20919, registration#20920L, sessionId#20921L, song#20922, status#20923L, ts#20924L, userAgent#20925, userId#20926]\n                                                                     +- Project [artist#20909, auth#20910, gender#20912, itemInSession#20913L, lastName#20914, length#20915, level#20916, location#20917, method#20918, page#20919, registration#20920L, sessionId#20921L, song#20922, status#20923L, ts#20924L, userAgent#20925, userId#20926]\n                                                                        +- Filter NOT (isnull(userId#20926) OR (userId#20926 = ))\n                                                                           +- Relation[artist#20909,auth#20910,firstName#20911,gender#20912,itemInSession#20913L,lastName#20914,length#20915,level#20916,location#20917,method#20918,page#20919,registration#20920L,sessionId#20921L,song#20922,status#20923L,ts#20924L,userAgent#20925,userId#20926] json\n"
     ]
    }
   ],
   "source": [
    "user_data = page_data.groupby('userId').agg(count('userId').alias('total'))\n",
    "\n",
    "page_user_share = page_data \\\n",
    "    .groupby('userId', 'page') \\\n",
    "    .count() \\\n",
    "    .join(user_data, on = ['userId'], how = 'inner') \\\n",
    "    .select(page_data.churn, page_data.page, (col('count')/col('total')).alias('share')) \\"
   ]
  },
  {
   "cell_type": "code",
   "execution_count": null,
   "metadata": {
    "collapsed": true
   },
   "outputs": [],
   "source": []
  },
  {
   "cell_type": "code",
   "execution_count": null,
   "metadata": {
    "collapsed": true
   },
   "outputs": [],
   "source": []
  },
  {
   "cell_type": "code",
   "execution_count": 711,
   "metadata": {},
   "outputs": [],
   "source": [
    "# Combining all features with the target churn label\n",
    "model_data  = labels.join(f_gen, 'userId', 'outer') \\\n",
    "    .join(f_llevel, 'userId', 'outer') \\\n",
    "    .join(f_nlog, 'userId', 'outer') \\\n",
    "    .join(f_seslen, 'userId', 'outer') \\\n",
    "    .join(f_advert, 'userId', 'outer') \\\n",
    "    .join(f_upgrade, 'userId', 'outer') \\\n",
    "    .join(f_adverth, 'userId', 'outer') \\\n",
    "    .join(f_submitupgradeh, 'userId', 'outer') \\\n",
    "    .join(f_thumbsdownh, 'userId', 'outer') \\\n",
    "    .join(f_upgradeh, 'userId', 'outer') \\\n",
    "    .join(f_settingsh, 'userId', 'outer') \\\n",
    "    .join(f_songlen, 'userId', 'outer') \\\n",
    "    .drop('userId') \\\n",
    "    .fillna(0)"
   ]
  },
  {
   "cell_type": "code",
   "execution_count": 712,
   "metadata": {},
   "outputs": [
    {
     "name": "stdout",
     "output_type": "stream",
     "text": [
      "root\n",
      " |-- label: integer (nullable = true)\n",
      " |-- gen: integer (nullable = true)\n",
      " |-- llevel: integer (nullable = true)\n",
      " |-- nlog: long (nullable = true)\n",
      " |-- seslen: double (nullable = false)\n",
      " |-- advert: long (nullable = true)\n",
      " |-- upgrade: long (nullable = true)\n",
      " |-- adverth: double (nullable = false)\n",
      " |-- submitupgradeh: double (nullable = false)\n",
      " |-- thumbsdownh: double (nullable = false)\n",
      " |-- upgradeh: double (nullable = false)\n",
      " |-- settingsh: double (nullable = false)\n",
      " |-- songlen: double (nullable = false)\n",
      "\n"
     ]
    }
   ],
   "source": [
    "model_data.printSchema()"
   ]
  },
  {
   "cell_type": "code",
   "execution_count": 713,
   "metadata": {},
   "outputs": [],
   "source": [
    "# churn2 model\n",
    "model_df = model_data.toPandas()"
   ]
  },
  {
   "cell_type": "code",
   "execution_count": 666,
   "metadata": {
    "collapsed": true
   },
   "outputs": [],
   "source": [
    "model_df.to_csv('data\\\\model_data.csv')"
   ]
  },
  {
   "cell_type": "code",
   "execution_count": 729,
   "metadata": {},
   "outputs": [
    {
     "data": {
      "image/png": "[encoded data removed]",
      "text/plain": [
       "<matplotlib.figure.Figure at 0x1edbd7a4b70>"
      ]
     },
     "metadata": {},
     "output_type": "display_data"
    }
   ],
   "source": [
    "# correlation heatmap\n",
    "plt.figure(figsize=(10,10))\n",
    "plt.title('Correlation between all created features', y=1.05, size=15)\n",
    "sb.heatmap(model_df.iloc[:, 1:].corr(),linewidths=0.1,vmax=1.0, \n",
    "            square=True,annot=True);"
   ]
  },
  {
   "cell_type": "code",
   "execution_count": 715,
   "metadata": {},
   "outputs": [
    {
     "name": "stdout",
     "output_type": "stream",
     "text": [
      "root\n",
      " |-- label: integer (nullable = false)\n",
      " |-- gen: integer (nullable = false)\n",
      " |-- llevel: integer (nullable = false)\n",
      " |-- nlog: integer (nullable = false)\n",
      " |-- seslen: float (nullable = false)\n",
      " |-- advert: integer (nullable = false)\n",
      " |-- upgrade: integer (nullable = false)\n",
      " |-- adverth: float (nullable = false)\n",
      " |-- submitupgradeh: float (nullable = false)\n",
      " |-- thumbsdownh: float (nullable = false)\n",
      " |-- upgradeh: float (nullable = false)\n",
      " |-- settingsh: float (nullable = false)\n",
      " |-- songlen: float (nullable = false)\n",
      "\n"
     ]
    }
   ],
   "source": [
    "modelSchema = StructType([ \\\n",
    "                    StructField(\"label\", IntegerType(), False) \\\n",
    "                    ,StructField(\"gen\", IntegerType(), False) \\\n",
    "                    ,StructField(\"llevel\", IntegerType(), False) \\\n",
    "                    ,StructField(\"nlog\", IntegerType(), False) \\\n",
    "                    ,StructField(\"seslen\", FloatType(), False) \\\n",
    "                    ,StructField(\"advert\", IntegerType(), False) \\\n",
    "                    ,StructField(\"upgrade\", IntegerType(), False) \\\n",
    "                    ,StructField(\"adverth\", FloatType(), False) \\\n",
    "                    ,StructField(\"submitupgradeh\", FloatType(), False) \\\n",
    "                    ,StructField(\"thumbsdownh\", FloatType(), False) \\\n",
    "                    ,StructField(\"upgradeh\", FloatType(), False) \\\n",
    "                    ,StructField(\"settingsh\", FloatType(), False) \\\n",
    "                    ,StructField(\"songlen\", FloatType(), False) \\\n",
    "                         ])\n",
    "data2 = spark.createDataFrame(model_df, schema=modelSchema)\n",
    "data2.printSchema()"
   ]
  },
  {
   "cell_type": "code",
   "execution_count": 716,
   "metadata": {},
   "outputs": [],
   "source": [
    "model_data = spark.createDataFrame(model_df, schema=modelSchema)"
   ]
  },
  {
   "cell_type": "code",
   "execution_count": 717,
   "metadata": {},
   "outputs": [
    {
     "name": "stdout",
     "output_type": "stream",
     "text": [
      "+-----+---+------+----+---------+------+-------+-----------+--------------+-----------+-----------+----------+----------+\n",
      "|label|gen|llevel|nlog|   seslen|advert|upgrade|    adverth|submitupgradeh|thumbsdownh|   upgradeh| settingsh|   songlen|\n",
      "+-----+---+------+----+---------+------+-------+-----------+--------------+-----------+-----------+----------+----------+\n",
      "|    0|  1|     0| 381|154.48334|    52|      2|  2.8851933|           0.0| 0.27742243| 0.11096898|       0.0|   66940.9|\n",
      "|    0|  0|     1| 474|    266.4|     7|      2| 0.26276276|   0.037537538| 0.22522523|0.075075075|0.11261261| 94008.875|\n",
      "|    1|  0|     0|  11|29.566668|     1|      0|  2.0304568|           0.0|        0.0|        0.0|       0.0|  2089.113|\n",
      "|    0|  1|     1|4825|578.99426|     4|      0|0.014293513|           0.0| 0.14650851|        0.0|0.07146756|1012312.06|\n",
      "|    1|  0|     1|2464| 872.3567|     0|      0|        0.0|           0.0|  0.1444758|        0.0| 0.0825576| 523275.84|\n",
      "+-----+---+------+----+---------+------+-------+-----------+--------------+-----------+-----------+----------+----------+\n",
      "only showing top 5 rows\n",
      "\n"
     ]
    }
   ],
   "source": [
    "model_data.show(5)"
   ]
  },
  {
   "cell_type": "markdown",
   "metadata": {},
   "source": [
    "# Modeling\n",
    "Split the full dataset into train, test, and validation sets. Test out several of the machine learning methods you learned. Evaluate the accuracy of the various models, tuning parameters as necessary. Determine your winning model based on test accuracy and report results on the validation set. Since the churned users are a fairly small subset, I suggest using F1 score as the metric to optimize."
   ]
  },
  {
   "cell_type": "code",
   "execution_count": 482,
   "metadata": {
    "collapsed": true
   },
   "outputs": [],
   "source": [
    "from pyspark.ml.evaluation import MulticlassClassificationEvaluator\n",
    "from pyspark.ml.classification import LogisticRegression, GBTClassifier, LinearSVC\n",
    "from pyspark.ml.feature import VectorAssembler, StandardScaler\n",
    "from pyspark.ml.tuning import CrossValidator, ParamGridBuilder"
   ]
  },
  {
   "cell_type": "markdown",
   "metadata": {},
   "source": [
    "#### VectorAssembler"
   ]
  },
  {
   "cell_type": "code",
   "execution_count": 718,
   "metadata": {},
   "outputs": [],
   "source": [
    "features = model_data.columns[1:]\n",
    "assembler = VectorAssembler(inputCols=features, outputCol=\"NumFeatures\")\n",
    "model_data = assembler.transform(model_data)"
   ]
  },
  {
   "cell_type": "code",
   "execution_count": 719,
   "metadata": {},
   "outputs": [
    {
     "name": "stdout",
     "output_type": "stream",
     "text": [
      "root\n",
      " |-- label: integer (nullable = false)\n",
      " |-- gen: integer (nullable = false)\n",
      " |-- llevel: integer (nullable = false)\n",
      " |-- nlog: integer (nullable = false)\n",
      " |-- seslen: float (nullable = false)\n",
      " |-- advert: integer (nullable = false)\n",
      " |-- upgrade: integer (nullable = false)\n",
      " |-- adverth: float (nullable = false)\n",
      " |-- submitupgradeh: float (nullable = false)\n",
      " |-- thumbsdownh: float (nullable = false)\n",
      " |-- upgradeh: float (nullable = false)\n",
      " |-- settingsh: float (nullable = false)\n",
      " |-- songlen: float (nullable = false)\n",
      " |-- NumFeatures: vector (nullable = true)\n",
      "\n"
     ]
    }
   ],
   "source": [
    "model_data.printSchema()"
   ]
  },
  {
   "cell_type": "markdown",
   "metadata": {},
   "source": [
    "#### Scaler"
   ]
  },
  {
   "cell_type": "code",
   "execution_count": 720,
   "metadata": {},
   "outputs": [],
   "source": [
    "scaler = StandardScaler(inputCol=\"NumFeatures\", outputCol=\"features\", withStd=True)\n",
    "scalerModel = scaler.fit(model_data)\n",
    "model_data = scalerModel.transform(model_data)"
   ]
  },
  {
   "cell_type": "markdown",
   "metadata": {},
   "source": [
    "#### GBT Classifier"
   ]
  },
  {
   "cell_type": "markdown",
   "metadata": {},
   "source": [
    "##### churn"
   ]
  },
  {
   "cell_type": "code",
   "execution_count": 721,
   "metadata": {},
   "outputs": [
    {
     "name": "stdout",
     "output_type": "stream",
     "text": [
      "0.6730769230769231\n",
      "0.65579133510168\n"
     ]
    },
    {
     "data": {
      "image/png": "[encoded data removed]",
      "text/plain": [
       "<matplotlib.figure.Figure at 0x1edbd715f98>"
      ]
     },
     "metadata": {},
     "output_type": "display_data"
    }
   ],
   "source": [
    "# split data\n",
    "model_data2 = model_data.select('label', 'features')\n",
    "train,validation = model_data2.randomSplit([0.8, 0.2], seed=42)\n",
    "\n",
    "# models to train: logistic regression, svm, gradient boosting tree\n",
    "gbt_tuned = GBTClassifier(maxDepth=5, maxIter=10, seed=42)\n",
    "gbt_model = gbt_tuned.fit(train)\n",
    "results = gbt_model.transform(validation)\n",
    "\n",
    "evaluator = MulticlassClassificationEvaluator(predictionCol=\"prediction\")\n",
    "\n",
    "print(evaluator.evaluate(results, {evaluator.metricName: \"accuracy\"}))\n",
    "print(evaluator.evaluate(results, {evaluator.metricName: \"f1\"}))\n",
    "\n",
    "# important features\n",
    "importances = list(gbt_model.featureImportances)\n",
    "y_pos = np.arange(len(features))\n",
    "plt.barh(y_pos, importances, align='center')\n",
    "plt.yticks(y_pos, features)\n",
    "plt.xlabel('Importance Score')\n",
    "plt.title('GBT Feature Importances')\n",
    "plt.savefig('GBT feature Importance.png', dpi=72)"
   ]
  },
  {
   "cell_type": "markdown",
   "metadata": {},
   "source": [
    "##### churn2"
   ]
  },
  {
   "cell_type": "code",
   "execution_count": 691,
   "metadata": {},
   "outputs": [
    {
     "name": "stdout",
     "output_type": "stream",
     "text": [
      "0.7307692307692307\n",
      "0.7260950854700854\n"
     ]
    },
    {
     "data": {
      "image/png": "[encoded data removed]",
      "text/plain": [
       "<matplotlib.figure.Figure at 0x1edbd3da860>"
      ]
     },
     "metadata": {},
     "output_type": "display_data"
    }
   ],
   "source": [
    "# split data\n",
    "model_data2 = model_data.select('label', 'features')\n",
    "train,validation = model_data2.randomSplit([0.8, 0.2], seed=42)\n",
    "\n",
    "# models to train: logistic regression, svm, gradient boosting tree\n",
    "gbt_tuned = GBTClassifier(maxDepth=5, maxIter=10, seed=42)\n",
    "gbt_model = gbt_tuned.fit(train)\n",
    "results = gbt_model.transform(validation)\n",
    "\n",
    "evaluator = MulticlassClassificationEvaluator(predictionCol=\"prediction\")\n",
    "\n",
    "print(evaluator.evaluate(results, {evaluator.metricName: \"accuracy\"}))\n",
    "print(evaluator.evaluate(results, {evaluator.metricName: \"f1\"}))\n",
    "\n",
    "# important features\n",
    "importances = list(gbt_model.featureImportances)\n",
    "y_pos = np.arange(len(features))\n",
    "plt.barh(y_pos, importances, align='center')\n",
    "plt.yticks(y_pos, features)\n",
    "plt.xlabel('Importance Score')\n",
    "plt.title('GBT Feature Importances')\n",
    "plt.savefig('GBT feature Importance.png', dpi=72)"
   ]
  },
  {
   "cell_type": "code",
   "execution_count": 675,
   "metadata": {},
   "outputs": [
    {
     "name": "stdout",
     "output_type": "stream",
     "text": [
      "0.7115384615384616\n",
      "0.6962864721485411\n"
     ]
    },
    {
     "data": {
      "image/png": "[encoded data removed]",
      "text/plain": [
       "<matplotlib.figure.Figure at 0x1edbd505f28>"
      ]
     },
     "metadata": {},
     "output_type": "display_data"
    }
   ],
   "source": [
    "# split data\n",
    "model_data2 = model_data.select('label', 'features')\n",
    "train,validation = model_data2.randomSplit([0.8, 0.2], seed=42)\n",
    "\n",
    "# models to train: logistic regression, svm, gradient boosting tree\n",
    "gbt_tuned = GBTClassifier(maxDepth=5, maxIter=10, seed=42)\n",
    "gbt_model = gbt_tuned.fit(train)\n",
    "results = gbt_model.transform(validation)\n",
    "\n",
    "evaluator = MulticlassClassificationEvaluator(predictionCol=\"prediction\")\n",
    "\n",
    "print(evaluator.evaluate(results, {evaluator.metricName: \"accuracy\"}))\n",
    "print(evaluator.evaluate(results, {evaluator.metricName: \"f1\"}))\n",
    "\n",
    "# important features\n",
    "importances = list(gbt_model.featureImportances)\n",
    "y_pos = np.arange(len(features))\n",
    "plt.barh(y_pos, importances, align='center')\n",
    "plt.yticks(y_pos, features)\n",
    "plt.xlabel('Importance Score')\n",
    "plt.title('GBT Feature Importances')\n",
    "plt.savefig('GBT feature Importance.png', dpi=72)"
   ]
  },
  {
   "cell_type": "markdown",
   "metadata": {},
   "source": [
    "#### ML"
   ]
  },
  {
   "cell_type": "code",
   "execution_count": 619,
   "metadata": {},
   "outputs": [],
   "source": [
    "model_data2 = model_data.select('label', 'features')\n",
    "train,validation = model_data2.randomSplit([0.8, 0.2], seed=42)"
   ]
  },
  {
   "cell_type": "code",
   "execution_count": 692,
   "metadata": {
    "collapsed": true
   },
   "outputs": [],
   "source": [
    "# Models to train: logistic regression, svm, gradient boosting tree\n",
    "logistic_reg = LogisticRegression(maxIter=10, regParam = 0.0)\n",
    "gbt = GBTClassifier(maxDepth = 5, maxIter = 10, seed = 42)\n",
    "svm = LinearSVC (maxIter = 10, regParam = 0.01)"
   ]
  },
  {
   "cell_type": "markdown",
   "metadata": {},
   "source": [
    "##### Logistic Regression"
   ]
  },
  {
   "cell_type": "code",
   "execution_count": 693,
   "metadata": {},
   "outputs": [
    {
     "data": {
      "text/plain": [
       "[0.7507988581567837, 0.6944761882024696, 0.6852126107537875]"
      ]
     },
     "execution_count": 693,
     "metadata": {},
     "output_type": "execute_result"
    }
   ],
   "source": [
    "e1 = MulticlassClassificationEvaluator(metricName='f1')\n",
    "paramGrid = ParamGridBuilder() \\\n",
    "    .addGrid(logistic_reg.regParam,[0.0, 0.05, 0.1]) \\\n",
    "    .build()\n",
    "crossval = CrossValidator(estimator=logistic_reg,\n",
    "                          estimatorParamMaps=paramGrid,\n",
    "                          evaluator=e1,\n",
    "                          numFolds=3)\n",
    "cvModel_q1 = crossval.fit(train)\n",
    "cvModel_q1.avgMetrics"
   ]
  },
  {
   "cell_type": "code",
   "execution_count": 620,
   "metadata": {},
   "outputs": [
    {
     "data": {
      "text/plain": [
       "[0.7757843885075006, 0.7669136403776244, 0.7629631705286708]"
      ]
     },
     "execution_count": 620,
     "metadata": {},
     "output_type": "execute_result"
    }
   ],
   "source": [
    "e1 = MulticlassClassificationEvaluator(metricName='f1')\n",
    "paramGrid = ParamGridBuilder() \\\n",
    "    .addGrid(logistic_reg.regParam,[0.0, 0.05, 0.1]) \\\n",
    "    .build()\n",
    "crossval = CrossValidator(estimator=logistic_reg,\n",
    "                          estimatorParamMaps=paramGrid,\n",
    "                          evaluator=e1,\n",
    "                          numFolds=3)\n",
    "cvModel_q1 = crossval.fit(train)\n",
    "cvModel_q1.avgMetrics"
   ]
  },
  {
   "cell_type": "markdown",
   "metadata": {},
   "source": [
    "##### GBTClassifier"
   ]
  },
  {
   "cell_type": "code",
   "execution_count": 621,
   "metadata": {
    "collapsed": true
   },
   "outputs": [],
   "source": [
    "gbt_tuned = GBTClassifier(maxDepth=5, maxIter=10, seed=42)\n",
    "gbt_model = gbt_tuned.fit(train)\n",
    "results = gbt_model.transform(validation)"
   ]
  },
  {
   "cell_type": "code",
   "execution_count": 622,
   "metadata": {
    "collapsed": true
   },
   "outputs": [],
   "source": [
    "evaluator = MulticlassClassificationEvaluator(predictionCol=\"prediction\")"
   ]
  },
  {
   "cell_type": "code",
   "execution_count": 623,
   "metadata": {},
   "outputs": [
    {
     "name": "stdout",
     "output_type": "stream",
     "text": [
      "0.7884615384615384\n"
     ]
    }
   ],
   "source": [
    "print(evaluator.evaluate(results, {evaluator.metricName: \"accuracy\"}))"
   ]
  },
  {
   "cell_type": "code",
   "execution_count": 624,
   "metadata": {},
   "outputs": [
    {
     "name": "stdout",
     "output_type": "stream",
     "text": [
      "0.7825724871681565\n"
     ]
    }
   ],
   "source": [
    "print(evaluator.evaluate(results, {evaluator.metricName: \"f1\"}))"
   ]
  },
  {
   "cell_type": "code",
   "execution_count": 625,
   "metadata": {},
   "outputs": [
    {
     "data": {
      "image/png": "[encoded data removed]",
      "text/plain": [
       "<matplotlib.figure.Figure at 0x1edbd900b70>"
      ]
     },
     "metadata": {},
     "output_type": "display_data"
    }
   ],
   "source": [
    "importances = list(gbt_model.featureImportances)\n",
    "y_pos = np.arange(len(features))\n",
    "plt.barh(y_pos, importances, align='center')\n",
    "plt.yticks(y_pos, features)\n",
    "plt.xlabel('Importance Score')\n",
    "plt.title('GBT Feature Importances')\n",
    "plt.savefig('GBT feature Importance.png', dpi=72)"
   ]
  },
  {
   "cell_type": "code",
   "execution_count": null,
   "metadata": {
    "collapsed": true
   },
   "outputs": [],
   "source": []
  },
  {
   "cell_type": "code",
   "execution_count": null,
   "metadata": {
    "collapsed": true
   },
   "outputs": [],
   "source": []
  },
  {
   "cell_type": "markdown",
   "metadata": {},
   "source": [
    "# Final Steps\n",
    "Clean up your code, adding comments and renaming variables to make the code easier to read and maintain. Refer to the Spark Project Overview page and Data Scientist Capstone Project Rubric to make sure you are including all components of the capstone project and meet all expectations. Remember, this includes thorough documentation in a README file in a Github repository, as well as a web app or blog post."
   ]
  },
  {
   "cell_type": "code",
   "execution_count": null,
   "metadata": {
    "collapsed": true
   },
   "outputs": [],
   "source": []
  }
 ],
 "metadata": {
  "kernelspec": {
   "display_name": "Python 3",
   "language": "python",
   "name": "python3"
  },
  "language_info": {
   "codemirror_mode": {
    "name": "ipython",
    "version": 3
   },
   "file_extension": ".py",
   "mimetype": "text/x-python",
   "name": "python",
   "nbconvert_exporter": "python",
   "pygments_lexer": "ipython3",
   "version": "3.6.3"
  }
 },
 "nbformat": 4,
 "nbformat_minor": 2
}
