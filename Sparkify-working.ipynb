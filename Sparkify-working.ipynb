{
 "cells": [
  {
   "cell_type": "markdown",
   "metadata": {},
   "source": [
    "# Sparkify Project Workspace\n",
    "This workspace contains a tiny subset (128MB) of the full dataset available (12GB). Feel free to use this workspace to build your project, or to explore a smaller subset with Spark before deploying your cluster on the cloud. Instructions for setting up your Spark cluster is included in the last lesson of the Extracurricular Spark Course content.\n",
    "\n",
    "You can follow the steps below to guide your data analysis and model building portion of this project."
   ]
  },
  {
   "cell_type": "code",
   "execution_count": 41,
   "metadata": {},
   "outputs": [],
   "source": [
    "# Import libraries\n",
    "from pyspark.sql.types import *\n",
    "from pyspark.sql import SparkSession\n",
    "from pyspark.sql.functions import isnan, count, when, col, desc, udf, col, sort_array, asc, \\\n",
    "                                  avg, from_unixtime, split, min, max, round, lit, mean\n",
    "from pyspark.sql.functions import sum as Fsum\n",
    "from pyspark.sql.functions import row_number\n",
    "from pyspark.sql.window import Window\n",
    "\n",
    "#from pyspark.sql.types import IntegerType, TimestampType\n",
    "import datetime\n",
    "from pyspark.sql.functions import to_date, year, month, dayofmonth, dayofweek, hour, date_format, substring\n",
    "\n",
    "import numpy as np\n",
    "import pandas as pd\n",
    "%matplotlib inline\n",
    "import matplotlib.pyplot as plt\n",
    "import seaborn as sb"
   ]
  },
  {
   "cell_type": "code",
   "execution_count": 42,
   "metadata": {},
   "outputs": [],
   "source": [
    "# Create a Spark session\n",
    "spark = SparkSession \\\n",
    "    .builder \\\n",
    "    .appName(\"Sparkify\") \\\n",
    "    .getOrCreate()"
   ]
  },
  {
   "cell_type": "code",
   "execution_count": 43,
   "metadata": {},
   "outputs": [],
   "source": [
    "# Set time parser policy\n",
    "spark.conf.set(\"spark.sql.legacy.timeParserPolicy\",\"LEGACY\")"
   ]
  },
  {
   "cell_type": "markdown",
   "metadata": {},
   "source": [
    "### Common Functions"
   ]
  },
  {
   "cell_type": "code",
   "execution_count": 4,
   "metadata": {
    "collapsed": true
   },
   "outputs": [],
   "source": [
    "# Set plot's figure size\n",
    "def set_plot_size(width, height):\n",
    "    return plt.figure(figsize = [width, height]);\n",
    "\n",
    "def get_user_logs(userId, sessionId=None):\n",
    "    if sessionId == None:\n",
    "        return data.where(data.userId == userId) \\\n",
    "            .select('tsDate', 'userId', 'sessionId', 'itemInSession', 'level', 'page') \\\n",
    "            .sort('tsDate', 'itemInSession')\n",
    "    else:\n",
    "        return data.where((data.userId == userId) & (data.sessionId == sessionId)) \\\n",
    "            .select('tsDate', 'userId', 'sessionId', 'itemInSession', 'level', 'page') \\\n",
    "            .sort('tsDate', 'itemInSession')"
   ]
  },
  {
   "cell_type": "markdown",
   "metadata": {},
   "source": [
    "# Load and prepare Dataset\n",
    "In this workspace, the mini-dataset file is `mini_sparkify_event_data.json`. Load and clean the dataset, checking for invalid or missing data - for example, records without userids or sessionids. "
   ]
  },
  {
   "cell_type": "code",
   "execution_count": 46,
   "metadata": {},
   "outputs": [
    {
     "data": {
      "text/plain": [
       "67"
      ]
     },
     "execution_count": 46,
     "metadata": {},
     "output_type": "execute_result"
    }
   ],
   "source": [
    "data.where(data.churn == 1).select('userId').dropDuplicates().count()"
   ]
  },
  {
   "cell_type": "code",
   "execution_count": 104,
   "metadata": {},
   "outputs": [
    {
     "name": "stdout",
     "output_type": "stream",
     "text": [
      "Churned users who cancelled subscription: 52\n"
     ]
    }
   ],
   "source": [
    "# Load dataset\n",
    "path = \"data/mini_sparkify_event_data.json\"\n",
    "data = spark.read.json(path)\n",
    "original_count = data.count()\n",
    "\n",
    "# Remove rows with missing users\n",
    "data = data.where(~((col('userId').isNull()) | (col('userId') == '')))\n",
    "\n",
    "# Exclude non-relevant columns\n",
    "data = data.drop('firstName')\n",
    "data = data.drop('lastName')\n",
    "#data = data.drop('method')\n",
    "\n",
    "data = data.withColumn('regDate', (col('registration') / 1000.0).cast(TimestampType()))\n",
    "data = data.withColumn('tsDate', (col('ts') / 1000.0).cast(TimestampType()))\n",
    "data.take(1)\n",
    "\n",
    "data = data.withColumn('city', split(data['location'], ',')[0])\n",
    "data = data.withColumn('state', split(data['location'], ',')[1])\n",
    "data = data.drop('location')\n",
    "\n",
    "# Define churned users using Cancellation Confirmation event (canceled)\n",
    "query_churn_by_cc = data.where(data.page == 'Cancellation Confirmation')\n",
    "print(f'Churned users who cancelled subscription: {query_churn_by_cc.count()}')\n",
    "\n",
    "# Label churned (canceled) users\n",
    "canceled = query_churn_by_cc.select('userId').dropDuplicates().select('userId')\n",
    "canceled_uids = [row.userId for row in canceled.collect()];\n",
    "set_churn = udf(lambda x: 1 if x in canceled_uids else 0, IntegerType())\n",
    "data = data.withColumn('churn', set_churn('userId'))\n",
    "\n",
    "# Add [userRowId] column that assigns a 1-based index to every user's log ordered by [ts]\n",
    "w =  Window.partitionBy(data.userId).orderBy('ts', 'itemInSession')\n",
    "data = data.withColumn('userRowId', row_number().over(w))\n",
    "\n",
    "# Add [userRowDescId] column that assigns a 1-based index to every user's log ordered by [ts] descending.\n",
    "w =  Window.partitionBy(data.userId).orderBy(col('ts').desc(), col('itemInSession').desc())\n",
    "data = data.withColumn('userRowDescId', row_number().over(w))\n",
    "\n",
    "# Add last level column\n",
    "last_levels = dict()\n",
    "for row in data.where(data.userRowDescId == 1).select('userId', 'level').collect():\n",
    "    last_levels[row.userId] = row.level\n",
    "get_level = udf(lambda userId: last_levels[userId])\n",
    "data = data.withColumn('lastLevel', get_level('userId'))"
   ]
  },
  {
   "cell_type": "code",
   "execution_count": null,
   "metadata": {},
   "outputs": [],
   "source": [
    "# Label downgraded (non-canceled) users\n",
    "canceled = query_churn_by_cc.select('userId').dropDuplicates().select('userId')\n",
    "canceled_uids = [row.userId for row in canceled.collect()];\n",
    "set_churn = udf(lambda x: 1 if x in canceled_uids else 0, IntegerType())\n",
    "data = data.withColumn('churn', set_churn('userId'))"
   ]
  },
  {
   "cell_type": "code",
   "execution_count": 305,
   "metadata": {},
   "outputs": [],
   "source": [
    "# Label canceled users\n",
    "canceled = query_churn_by_cc.select('userId').dropDuplicates().select('userId')\n",
    "canceled_uids = [row.userId for row in canceled.collect()];\n",
    "set_churn = udf(lambda x: 1 if x in canceled_uids else 0, IntegerType())\n",
    "data = data.withColumn('canceled', set_churn('userId'))"
   ]
  },
  {
   "cell_type": "code",
   "execution_count": 311,
   "metadata": {},
   "outputs": [
    {
     "data": {
      "text/plain": [
       "[Row(artist=None, auth='Logged In', gender='F', itemInSession=34, length=None, level='free', method='PUT', page='Logout', registration=1538016340000, sessionId=187, song=None, status=307, ts=1542823952000, userAgent='\"Mozilla/5.0 (iPhone; CPU iPhone OS 7_1_2 like Mac OS X) AppleWebKit/537.51.2 (KHTML, like Gecko) Version/7.0 Mobile/11D257 Safari/9537.53\"', userId='100010', regDate=datetime.datetime(2018, 9, 27, 4, 45, 40), tsDate=datetime.datetime(2018, 11, 21, 19, 12, 32), city='Bridgeport-Stamford-Norwalk', state=' CT', churn='0', userRowId=381, userRowDescId=1, lastLevel='free', downgraded=0, downgrade=0, canceled=0)]"
      ]
     },
     "execution_count": 311,
     "metadata": {},
     "output_type": "execute_result"
    }
   ],
   "source": [
    "set_churn = udf(lambda x: x)\n",
    "data = data.withColumn('churn', set_churn('canceled'))\n",
    "data.take(1)"
   ]
  },
  {
   "cell_type": "code",
   "execution_count": 312,
   "metadata": {},
   "outputs": [
    {
     "data": {
      "text/plain": [
       "52"
      ]
     },
     "execution_count": 312,
     "metadata": {},
     "output_type": "execute_result"
    }
   ],
   "source": [
    "data.where(data.churn == 1).select('userId').dropDuplicates().count()"
   ]
  },
  {
   "cell_type": "code",
   "execution_count": 325,
   "metadata": {},
   "outputs": [
    {
     "name": "stdout",
     "output_type": "stream",
     "text": [
      "root\n",
      " |-- artist: string (nullable = true)\n",
      " |-- auth: string (nullable = true)\n",
      " |-- gender: string (nullable = true)\n",
      " |-- itemInSession: long (nullable = true)\n",
      " |-- length: double (nullable = true)\n",
      " |-- level: string (nullable = true)\n",
      " |-- method: string (nullable = true)\n",
      " |-- page: string (nullable = true)\n",
      " |-- registration: long (nullable = true)\n",
      " |-- sessionId: long (nullable = true)\n",
      " |-- song: string (nullable = true)\n",
      " |-- status: long (nullable = true)\n",
      " |-- ts: long (nullable = true)\n",
      " |-- userAgent: string (nullable = true)\n",
      " |-- userId: string (nullable = true)\n",
      " |-- regDate: timestamp (nullable = true)\n",
      " |-- tsDate: timestamp (nullable = true)\n",
      " |-- city: string (nullable = true)\n",
      " |-- state: string (nullable = true)\n",
      " |-- churn: integer (nullable = true)\n",
      " |-- userRowId: integer (nullable = true)\n",
      " |-- userRowDescId: integer (nullable = true)\n",
      " |-- lastLevel: string (nullable = true)\n",
      " |-- downgraded: integer (nullable = true)\n",
      " |-- downgrade: integer (nullable = true)\n",
      " |-- canceled: integer (nullable = true)\n",
      "\n"
     ]
    },
    {
     "data": {
      "text/plain": [
       "67"
      ]
     },
     "execution_count": 325,
     "metadata": {},
     "output_type": "execute_result"
    }
   ],
   "source": [
    "# Query churned users by downgrade event\n",
    "# Note: we fusion both types of churned users - canceled + downgraded\n",
    "churned2 = data.where((data.churn == 1) \\\n",
    "           | ((data.page == 'Submit Downgrade') \\\n",
    "           & (data.lastLevel == 'free'))) \\\n",
    "    .select('userId') \\\n",
    "    .dropDuplicates()\n",
    "\n",
    "# downgraded only\n",
    "downgraded = data.where((data.page == 'Submit Downgrade') \\\n",
    "           & (data.lastLevel == 'free')) \\\n",
    "    .select('userId') \\\n",
    "    .dropDuplicates()\n",
    "\n",
    "# Label churned users\n",
    "uids = [row.userId for row in churned2.collect()]\n",
    "set_churn = udf(lambda userId: 1 if userId in uids else 0, IntegerType())\n",
    "data = data.withColumn('churn', set_churn('userId')) \\\n",
    "\n",
    "# Label downgraded users (churn=1)\n",
    "uids = [row.userId for row in downgraded.collect()]\n",
    "set_downgrade = udf(lambda userId: 1 if userId in uids else 0, IntegerType())\n",
    "data = data.withColumn('downgraded', set_downgrade('userId')) \\\n",
    "    \n",
    "data.printSchema()\n",
    "data.take(3)\n",
    "\n",
    "# check count of churned users\n",
    "data.where(data.churn == 1).select('userId').dropDuplicates().count()"
   ]
  },
  {
   "cell_type": "code",
   "execution_count": 122,
   "metadata": {},
   "outputs": [
    {
     "data": {
      "text/plain": [
       "154"
      ]
     },
     "execution_count": 122,
     "metadata": {},
     "output_type": "execute_result"
    }
   ],
   "source": [
    "# downgraded only\n",
    "data.where(data.page == 'Downgrade').select('userId').dropDuplicates().count()"
   ]
  },
  {
   "cell_type": "code",
   "execution_count": null,
   "metadata": {},
   "outputs": [],
   "source": []
  },
  {
   "cell_type": "code",
   "execution_count": 106,
   "metadata": {},
   "outputs": [
    {
     "data": {
      "text/plain": [
       "20"
      ]
     },
     "execution_count": 106,
     "metadata": {},
     "output_type": "execute_result"
    }
   ],
   "source": [
    "data.where(data.downgraded == 1).select('userId').dropDuplicates().count()"
   ]
  },
  {
   "cell_type": "markdown",
   "metadata": {},
   "source": [
    "#### Add churn groups totals"
   ]
  },
  {
   "cell_type": "code",
   "execution_count": 40,
   "metadata": {},
   "outputs": [
    {
     "data": {
      "text/plain": [
       "[Row(artist=None, auth='Logged In', gender='F', itemInSession=34, length=None, level='free', method='PUT', page='Logout', registration=1538016340000, sessionId=187, song=None, status=307, ts=1542823952000, userAgent='\"Mozilla/5.0 (iPhone; CPU iPhone OS 7_1_2 like Mac OS X) AppleWebKit/537.51.2 (KHTML, like Gecko) Version/7.0 Mobile/11D257 Safari/9537.53\"', userId='100010', regDate=datetime.datetime(2018, 9, 27, 4, 45, 40), tsDate=datetime.datetime(2018, 11, 21, 19, 12, 32), city='Bridgeport-Stamford-Norwalk', state=' CT', churn=0, userRowId=381, userRowDescId=1, lastLevel='free', churn2=0)]"
      ]
     },
     "execution_count": 40,
     "metadata": {},
     "output_type": "execute_result"
    }
   ],
   "source": [
    "data = data.drop('total')\n",
    "data = data.drop('total2')\n",
    "data.take(1)"
   ]
  },
  {
   "cell_type": "code",
   "execution_count": 425,
   "metadata": {},
   "outputs": [
    {
     "data": {
      "text/plain": [
       "[Row(artist=None, auth='Logged In', gender='F', itemInSession=34, length=None, level='free', method='PUT', page='Logout', registration=1538016340000, sessionId=187, song=None, status=307, ts=1542823952000, userAgent='\"Mozilla/5.0 (iPhone; CPU iPhone OS 7_1_2 like Mac OS X) AppleWebKit/537.51.2 (KHTML, like Gecko) Version/7.0 Mobile/11D257 Safari/9537.53\"', userId='100010', regDate=datetime.datetime(2018, 9, 27, 4, 45, 40), tsDate=datetime.datetime(2018, 11, 21, 19, 12, 32), city='Bridgeport-Stamford-Norwalk', state=' CT', churn=0, userRowId=381, userRowDescId=1, lastLevel='free', churn2=0, total='173', total2='158')]"
      ]
     },
     "execution_count": 425,
     "metadata": {},
     "output_type": "execute_result"
    }
   ],
   "source": [
    "# Add user totals of each churn group to our dataframe\n",
    "count0, count1, count20, count21 = 173, 52, 158, 67\n",
    "get_churn_total = udf(lambda x: count0 if x == 0 else count1)\n",
    "get_churn_total2 = udf(lambda x: count20 if x == 0 else count21)\n",
    "\n",
    "data = data \\\n",
    "    .withColumn('total', get_churn_total('churn')) \\\n",
    "    .withColumn('total2', get_churn_total2('churn2'))\n",
    "data.take(1)"
   ]
  },
  {
   "cell_type": "markdown",
   "metadata": {},
   "source": [
    "# Feature Testing"
   ]
  },
  {
   "cell_type": "code",
   "execution_count": 51,
   "metadata": {},
   "outputs": [],
   "source": [
    "users = data.select('churn', 'userId').dropDuplicates()"
   ]
  },
  {
   "cell_type": "markdown",
   "metadata": {},
   "source": [
    "### Average event length (*AvgEventLength*)"
   ]
  },
  {
   "cell_type": "code",
   "execution_count": 52,
   "metadata": {},
   "outputs": [],
   "source": [
    "total_event_length = data \\\n",
    "    .groupby('userId', 'sessionId') \\\n",
    "    .agg(((max('ts') - min('ts'))/1000).alias('SessionLength')) \\\n",
    "    .groupby('userId') \\\n",
    "    .agg(Fsum('SessionLength').alias('TotalEventLength'))\n",
    "\n",
    "total_event_count = data \\\n",
    "    .groupby('userId') \\\n",
    "    .agg(count('userId').alias('TotalEventCount'))\n"
   ]
  },
  {
   "cell_type": "code",
   "execution_count": 53,
   "metadata": {},
   "outputs": [
    {
     "name": "stdout",
     "output_type": "stream",
     "text": [
      "+-----+------------------+\n",
      "|churn|    AvgEventLength|\n",
      "+-----+------------------+\n",
      "|    1|193.28687885812568|\n",
      "|    0|  201.476129740567|\n",
      "+-----+------------------+\n",
      "\n"
     ]
    }
   ],
   "source": [
    "users.join(total_event_length, 'userId') \\\n",
    "    .join(total_event_count, 'userId') \\\n",
    "    .groupby('churn') \\\n",
    "    .agg(avg(col('TotalEventLength')/col('TotalEventCount')).alias('AvgEventLength')) \\\n",
    "    .show()"
   ]
  },
  {
   "cell_type": "code",
   "execution_count": 57,
   "metadata": {},
   "outputs": [],
   "source": [
    "total_nonsong_event_count = data \\\n",
    "    .where(data.page != 'NextSong') \\\n",
    "    .groupby('userId') \\\n",
    "    .agg(count('userId').alias('TotalNonSongEventCount'))\n"
   ]
  },
  {
   "cell_type": "code",
   "execution_count": 58,
   "metadata": {},
   "outputs": [
    {
     "name": "stdout",
     "output_type": "stream",
     "text": [
      "+-----+---------------------+\n",
      "|churn|AvgNonSongEventLength|\n",
      "+-----+---------------------+\n",
      "|    1|    948.4020027789409|\n",
      "|    0|   1078.2956251731257|\n",
      "+-----+---------------------+\n",
      "\n"
     ]
    }
   ],
   "source": [
    "users.join(total_event_length, 'userId') \\\n",
    "    .join(total_nonsong_event_count, 'userId') \\\n",
    "    .groupby('churn') \\\n",
    "    .agg(avg(col('TotalEventLength')/col('TotalNonSongEventCount')).alias('AvgNonSongEventLength')) \\\n",
    "    .show()"
   ]
  },
  {
   "cell_type": "code",
   "execution_count": null,
   "metadata": {},
   "outputs": [],
   "source": [
    "users.join(total_event_length, 'userId') \\\n",
    "    .join(total_nonsong_event_count, 'userId') \\\n",
    "    .groupby('churn') \\\n",
    "    .agg(avg(col('TotalEventLength')/col('TotalNonSongEventCount')).alias('AvgNonSongEventLength')) \\"
   ]
  },
  {
   "cell_type": "code",
   "execution_count": 62,
   "metadata": {
    "scrolled": false
   },
   "outputs": [
    {
     "name": "stdout",
     "output_type": "stream",
     "text": [
      "+-------------------+---------+--------------------+-----+\n",
      "|             tsDate|sessionId|                page|level|\n",
      "+-------------------+---------+--------------------+-----+\n",
      "|2018-10-20 17:54:51|       17|            NextSong| free|\n",
      "|2018-10-20 17:57:27|       17|            NextSong| free|\n",
      "|2018-10-20 18:01:06|       17|            NextSong| free|\n",
      "|2018-10-20 18:04:51|       17|            NextSong| free|\n",
      "|2018-10-20 18:08:50|       17|            NextSong| free|\n",
      "|2018-10-20 18:08:51|       17|         Thumbs Down| free|\n",
      "|2018-10-20 18:11:21|       17|            NextSong| free|\n",
      "|2018-10-20 18:15:39|       17|            NextSong| free|\n",
      "|2018-10-20 18:20:02|       17|            NextSong| free|\n",
      "|2018-10-20 18:20:20|       17|         Roll Advert| free|\n",
      "|2018-10-20 18:23:54|       17|            NextSong| free|\n",
      "|2018-10-20 18:28:31|       17|            NextSong| free|\n",
      "|2018-10-20 18:28:52|       17|         Roll Advert| free|\n",
      "|2018-10-20 18:31:40|       17|            NextSong| free|\n",
      "|2018-10-20 18:35:19|       17|            NextSong| free|\n",
      "|2018-10-20 18:39:31|       17|            NextSong| free|\n",
      "|2018-10-20 18:39:45|       17|         Roll Advert| free|\n",
      "|2018-10-20 18:45:44|       17|            NextSong| free|\n",
      "|2018-10-20 18:49:00|       17|            NextSong| free|\n",
      "|2018-10-20 18:50:39|       17|            NextSong| free|\n",
      "|2018-10-20 18:54:25|       17|            NextSong| free|\n",
      "|2018-10-20 19:01:42|       17|            NextSong| free|\n",
      "|2018-10-20 19:03:44|       17|         Roll Advert| free|\n",
      "|2018-10-20 19:07:30|       17|            NextSong| free|\n",
      "|2018-10-20 19:08:26|       17|         Roll Advert| free|\n",
      "|2018-10-20 19:11:45|       17|            NextSong| free|\n",
      "|2018-10-20 19:11:57|       17|         Roll Advert| free|\n",
      "|2018-10-20 19:16:16|       17|            NextSong| free|\n",
      "|2018-10-20 19:21:50|       17|            NextSong| free|\n",
      "|2018-10-20 19:26:18|       17|            NextSong| free|\n",
      "|2018-10-20 19:29:41|       17|            NextSong| free|\n",
      "|2018-10-20 19:32:28|       17|            NextSong| free|\n",
      "|2018-10-20 19:38:01|       17|            NextSong| free|\n",
      "|2018-10-20 19:38:02|       17|           Thumbs Up| free|\n",
      "|2018-10-20 19:42:12|       17|            NextSong| free|\n",
      "|2018-10-20 19:43:33|       17|                Home| free|\n",
      "|2018-10-20 19:45:41|       17|            NextSong| free|\n",
      "|2018-10-20 19:46:21|       17|         Roll Advert| free|\n",
      "|2018-10-20 19:49:40|       17|            NextSong| free|\n",
      "|2018-10-20 19:51:16|       17|            NextSong| free|\n",
      "|2018-10-20 19:55:14|       17|            NextSong| free|\n",
      "|2018-10-20 19:59:00|       17|            NextSong| free|\n",
      "|2018-10-20 20:02:40|       17|            NextSong| free|\n",
      "|2018-10-20 20:03:15|       17|         Roll Advert| free|\n",
      "|2018-10-20 20:06:26|       17|            NextSong| free|\n",
      "|2018-10-20 20:07:40|       17|         Roll Advert| free|\n",
      "|2018-10-20 20:10:09|       17|            NextSong| free|\n",
      "|2018-10-20 20:13:45|       17|            NextSong| free|\n",
      "|2018-10-20 20:13:46|       17|           Thumbs Up| free|\n",
      "|2018-10-20 20:17:53|       17|            NextSong| free|\n",
      "|2018-10-20 20:18:14|       17|         Roll Advert| free|\n",
      "|2018-10-20 20:21:56|       17|            NextSong| free|\n",
      "|2018-10-20 20:25:55|       17|            NextSong| free|\n",
      "|2018-10-20 20:26:04|       17|                Home| free|\n",
      "|2018-10-20 20:28:57|       17|            NextSong| free|\n",
      "|2018-10-20 20:32:53|       17|            NextSong| free|\n",
      "|2018-10-20 20:34:02|       17|     Add to Playlist| free|\n",
      "|2018-10-20 20:36:45|       17|            NextSong| free|\n",
      "|2018-10-20 20:41:29|       17|            NextSong| free|\n",
      "|2018-10-20 20:45:16|       17|            NextSong| free|\n",
      "|2018-10-20 20:45:22|       17|         Roll Advert| free|\n",
      "|2018-10-20 20:48:29|       17|            NextSong| free|\n",
      "|2018-10-20 20:54:28|       17|            NextSong| free|\n",
      "|2018-10-20 20:56:02|       17|            NextSong| free|\n",
      "|2018-10-20 20:59:20|       17|            NextSong| free|\n",
      "|2018-10-20 21:00:58|       17|                Home| free|\n",
      "|2018-10-20 21:02:57|       17|            NextSong| free|\n",
      "|2018-10-20 21:05:27|       17|            NextSong| free|\n",
      "|2018-10-20 21:05:44|       17|         Roll Advert| free|\n",
      "|2018-10-20 21:08:24|       17|            NextSong| free|\n",
      "|2018-10-20 21:08:31|       17|         Roll Advert| free|\n",
      "|2018-10-20 21:13:07|       17|            NextSong| free|\n",
      "|2018-10-20 21:13:23|       17|         Roll Advert| free|\n",
      "|2018-10-20 21:13:24|       17|              Cancel| free|\n",
      "|2018-10-20 21:14:07|       17|Cancellation Conf...| free|\n",
      "+-------------------+---------+--------------------+-----+\n",
      "\n"
     ]
    }
   ],
   "source": [
    "data.where(data.userId == 100017).select('tsDate', 'sessionId', 'page', 'level').show(100)"
   ]
  },
  {
   "cell_type": "code",
   "execution_count": 59,
   "metadata": {},
   "outputs": [
    {
     "data": {
      "text/plain": [
       "0.8794063079777366"
      ]
     },
     "execution_count": 59,
     "metadata": {},
     "output_type": "execute_result"
    }
   ],
   "source": [
    "948/1078"
   ]
  },
  {
   "cell_type": "code",
   "execution_count": 65,
   "metadata": {},
   "outputs": [
    {
     "name": "stdout",
     "output_type": "stream",
     "text": [
      "+-----+--------------------+\n",
      "|churn|AvgNonSongEventCount|\n",
      "+-----+--------------------+\n",
      "|    1|  195.38805970149255|\n",
      "|    0|  235.38216560509554|\n",
      "+-----+--------------------+\n",
      "\n"
     ]
    }
   ],
   "source": [
    "data \\\n",
    "    .where(data.page != 'NextSong') \\\n",
    "    .groupby('churn', 'userId') \\\n",
    "    .agg(count('userId').alias('NonSongEventCount')) \\\n",
    "    .groupby('churn') \\\n",
    "    .agg(avg('NonSongEventCount').alias('AvgNonSongEventCount')) \\\n",
    "    .show()"
   ]
  },
  {
   "cell_type": "code",
   "execution_count": 67,
   "metadata": {},
   "outputs": [
    {
     "name": "stdout",
     "output_type": "stream",
     "text": [
      "+-------+------------------+\n",
      "|summary| NonSongEventCount|\n",
      "+-------+------------------+\n",
      "|  count|               224|\n",
      "|   mean|223.41964285714286|\n",
      "| stddev|227.03051446957588|\n",
      "|    min|                 3|\n",
      "|    max|              1630|\n",
      "+-------+------------------+\n",
      "\n"
     ]
    }
   ],
   "source": [
    "data \\\n",
    "    .where(data.page != 'NextSong') \\\n",
    "    .groupby('churn', 'userId') \\\n",
    "    .agg(count('userId').alias('NonSongEventCount')) \\\n",
    "    .select('NonSongEventCount') \\\n",
    "    .describe() \\\n",
    "    .show()"
   ]
  },
  {
   "cell_type": "code",
   "execution_count": 69,
   "metadata": {},
   "outputs": [
    {
     "name": "stdout",
     "output_type": "stream",
     "text": [
      "+-------+------------------+\n",
      "|summary| NonSongEventCount|\n",
      "+-------+------------------+\n",
      "|  count|                67|\n",
      "|   mean|195.38805970149255|\n",
      "| stddev|192.63082569200665|\n",
      "|    min|                 3|\n",
      "|    max|              1285|\n",
      "+-------+------------------+\n",
      "\n"
     ]
    }
   ],
   "source": [
    "data \\\n",
    "    .where(data.page != 'NextSong') \\\n",
    "    .where(data.churn == 1) \\\n",
    "    .groupby('userId') \\\n",
    "    .agg(count('userId').alias('NonSongEventCount')) \\\n",
    "    .select('NonSongEventCount') \\\n",
    "    .describe() \\\n",
    "    .show()"
   ]
  },
  {
   "cell_type": "code",
   "execution_count": 70,
   "metadata": {},
   "outputs": [
    {
     "name": "stdout",
     "output_type": "stream",
     "text": [
      "+-------+------------------+\n",
      "|summary| NonSongEventCount|\n",
      "+-------+------------------+\n",
      "|  count|               157|\n",
      "|   mean|235.38216560509554|\n",
      "| stddev|239.79030729945543|\n",
      "|    min|                 3|\n",
      "|    max|              1630|\n",
      "+-------+------------------+\n",
      "\n"
     ]
    }
   ],
   "source": [
    "data \\\n",
    "    .where(data.page != 'NextSong') \\\n",
    "    .where(data.churn == 0) \\\n",
    "    .groupby('userId') \\\n",
    "    .agg(count('userId').alias('NonSongEventCount')) \\\n",
    "    .select('NonSongEventCount') \\\n",
    "    .describe() \\\n",
    "    .show()"
   ]
  },
  {
   "cell_type": "code",
   "execution_count": null,
   "metadata": {},
   "outputs": [],
   "source": []
  },
  {
   "cell_type": "code",
   "execution_count": null,
   "metadata": {},
   "outputs": [],
   "source": []
  },
  {
   "cell_type": "markdown",
   "metadata": {},
   "source": [
    "# Feature Engineering\n",
    "Once you've familiarized yourself with the data, build out the features you find promising to train your model on. To work with the full dataset, you can follow the following steps.\n",
    "- Write a script to extract the necessary features from the smaller subset of data\n",
    "- Ensure that your script is scalable, using the best practices discussed in Lesson 3\n",
    "- Try your script on the full data set, debugging your script if necessary\n",
    "\n",
    "If you are working in the classroom workspace, you can just extract features based on the small subset of data contained here. Be sure to transfer over this work to the larger dataset when you work on your Spark cluster."
   ]
  },
  {
   "cell_type": "code",
   "execution_count": 74,
   "metadata": {},
   "outputs": [],
   "source": [
    "labels = data.select(col('churn').alias('label'), 'userId').dropDuplicates()"
   ]
  },
  {
   "cell_type": "code",
   "execution_count": 75,
   "metadata": {},
   "outputs": [],
   "source": [
    "# feat 1: Gender [gen]\n",
    "f_gen = data \\\n",
    "    .select('userId', 'gender') \\\n",
    "    .dropDuplicates() \\\n",
    "    .replace(['M', 'F'], ['0', '1'], 'gender') \\\n",
    "    .select('userId', col('gender').cast('int').alias('gen'))"
   ]
  },
  {
   "cell_type": "code",
   "execution_count": 76,
   "metadata": {},
   "outputs": [],
   "source": [
    "# feat 2: Last level [llevel]\n",
    "f_llevel = data \\\n",
    "    .select('userId', 'lastLevel') \\\n",
    "    .dropDuplicates() \\\n",
    "    .replace(['free', 'paid'], ['0', '1'], 'lastLevel') \\\n",
    "    .select('userId', col('lastLevel').cast('int').alias('llevel'))"
   ]
  },
  {
   "cell_type": "code",
   "execution_count": 214,
   "metadata": {},
   "outputs": [],
   "source": [
    "# feat 3: Log count [EventCount]\n",
    "f_EventCount = data \\\n",
    "    .groupby('userId') \\\n",
    "    .agg(count('userId').alias('EventCount'))"
   ]
  },
  {
   "cell_type": "code",
   "execution_count": 215,
   "metadata": {},
   "outputs": [],
   "source": [
    "# feat 4: Average session lengt [AvgSessionLength]\n",
    "f_AvgSessionCount = data \\\n",
    "    .groupby('userId', 'sessionId') \\\n",
    "    .agg(((max('ts') - min('ts'))/60000).alias('duration')) \\\n",
    "    .groupby('userId') \\\n",
    "    .agg(avg('duration').alias('AvgSessionLength'))"
   ]
  },
  {
   "cell_type": "code",
   "execution_count": 216,
   "metadata": {},
   "outputs": [],
   "source": [
    "# feat 5: Average Roll Advert page interactions [AvgRollAdvertCount]\n",
    "f_AvgRollAdvertCount = data \\\n",
    "    .where(data.page == 'Roll Advert') \\\n",
    "    .groupby('userId') \\\n",
    "    .agg(count('userId').alias('AvgRollAdvertCount')) \\\n",
    "    .select('userId', 'AvgRollAdvertCount')"
   ]
  },
  {
   "cell_type": "code",
   "execution_count": 81,
   "metadata": {},
   "outputs": [],
   "source": [
    "# feat 6: Average Upgrade page interactions [upgrade]\n",
    "f_upgrade = data \\\n",
    "    .where(data.page == 'Upgrade') \\\n",
    "    .groupby('userId') \\\n",
    "    .agg(count('userId').alias('upgrade')) \\\n",
    "    .select('userId', 'upgrade')"
   ]
  },
  {
   "cell_type": "markdown",
   "metadata": {},
   "source": [
    "#### User Interactions per hour"
   ]
  },
  {
   "cell_type": "code",
   "execution_count": 82,
   "metadata": {},
   "outputs": [],
   "source": [
    "page_data = data.where(~data.page.isin(['Cancel', 'Cancellation Confirmation', 'Submit Downgrade']))\n",
    "\n",
    "user_hours = page_data \\\n",
    "    .groupby('userId', 'sessionId') \\\n",
    "    .agg(((max('ts') - min('ts'))/1000/3600).alias('hours')) \\\n",
    "    .groupby('userId') \\\n",
    "    .agg(Fsum('hours').alias('hours'))\n",
    "    \n",
    "page_count_per_hour = page_data \\\n",
    "    .join(user_hours, 'userId', 'inner') \\\n",
    "    .groupby('page', 'userId', 'hours') \\\n",
    "    .agg((count('page')/col('hours')).alias('countPerHour'))"
   ]
  },
  {
   "cell_type": "code",
   "execution_count": 218,
   "metadata": {},
   "outputs": [],
   "source": [
    "# feat 7: Average Roll Advert page interactions per hour [RollAdvertCountPerHour]\n",
    "f_RollAdvertCountPerHour = page_count_per_hour.where(col('page') == 'Roll Advert') \\\n",
    "    .select('userId', col('countPerHour').alias('RollAdvertCountPerHour'))"
   ]
  },
  {
   "cell_type": "code",
   "execution_count": 287,
   "metadata": {},
   "outputs": [],
   "source": [
    "# feat 8: Average Submit Upgrade page interactions per hour [subupgradeh]\n",
    "f_SubmitUpgradeCountPerHour = page_count_per_hour.where(col('page') == 'Submit Upgrade') \\\n",
    "    .select('userId', col('countPerHour').alias('SubmitUpgradeCountPerHour'))"
   ]
  },
  {
   "cell_type": "code",
   "execution_count": 220,
   "metadata": {},
   "outputs": [],
   "source": [
    "# feat 9: Average Thumbs Down page interactions per hour [ThumbsDownCountPerHour]\n",
    "f_ThumbsDownCountPerHour = page_count_per_hour.where(col('page') == 'Thumbs Down') \\\n",
    "    .select('userId', col('countPerHour').alias('ThumbsDownCountPerHour'))"
   ]
  },
  {
   "cell_type": "code",
   "execution_count": 86,
   "metadata": {},
   "outputs": [],
   "source": [
    "# feat 10: Average Upgrade page interactions per hour [upgradeh]\n",
    "f_upgradeh = page_count_per_hour.where(col('page') == 'Upgrade') \\\n",
    "    .select('userId', col('countPerHour').alias('upgradeh'))"
   ]
  },
  {
   "cell_type": "code",
   "execution_count": 87,
   "metadata": {},
   "outputs": [],
   "source": [
    "# feat 11: Average Settings page interactions per hour [settingsh]\n",
    "f_settingsh = page_count_per_hour.where(col('page') == 'Settings') \\\n",
    "    .select('userId', col('countPerHour').alias('settingsh'))"
   ]
  },
  {
   "cell_type": "code",
   "execution_count": 88,
   "metadata": {},
   "outputs": [],
   "source": [
    "# feat 12: Total song length [songlen]\n",
    "f_songlen = data \\\n",
    "    .where(data.page == 'NextSong') \\\n",
    "    .select('userId', 'length') \\\n",
    "    .groupby('userId') \\\n",
    "    .agg(Fsum('length').alias('songlen'))"
   ]
  },
  {
   "cell_type": "code",
   "execution_count": 89,
   "metadata": {},
   "outputs": [],
   "source": [
    "f_avgnonsongeventcount = data \\\n",
    "    .where(data.page != 'NextSong') \\\n",
    "    .groupby('userId') \\\n",
    "    .agg(count('userId').alias('NonSongEventCount'))"
   ]
  },
  {
   "cell_type": "code",
   "execution_count": 107,
   "metadata": {},
   "outputs": [],
   "source": [
    "f_downgraded = data \\\n",
    "    .where(data.downgraded == 1) \\\n",
    "    .select('userId', col('downgraded').alias('Downgraded')) \\\n",
    "    .dropDuplicates()"
   ]
  },
  {
   "cell_type": "code",
   "execution_count": 123,
   "metadata": {},
   "outputs": [],
   "source": [
    "# mark users who have interacted with Downgrade event at least once\n",
    "downgrade_users = data \\\n",
    "    .where(data.page == 'Downgrade') \\\n",
    "    .select('userId') \\\n",
    "    .dropDuplicates()\n",
    "\n",
    "# Label downgrade users\n",
    "uids = [row.userId for row in downgrade_users.collect()]\n",
    "set_downgrade = udf(lambda userId: 1 if userId in uids else 0, IntegerType())\n",
    "data = data.withColumn('downgrade', set_downgrade('userId')) \\"
   ]
  },
  {
   "cell_type": "code",
   "execution_count": 128,
   "metadata": {},
   "outputs": [],
   "source": [
    "f_downgrade = data \\\n",
    "    .select('userId', col('downgrade').alias('Downgrade')) \\\n",
    "    .dropDuplicates()"
   ]
  },
  {
   "cell_type": "code",
   "execution_count": 195,
   "metadata": {},
   "outputs": [],
   "source": [
    "f_label = data \\\n",
    "    .select('userId', col('churn').alias('flabel')) \\\n",
    "    .dropDuplicates()"
   ]
  },
  {
   "cell_type": "code",
   "execution_count": 243,
   "metadata": {},
   "outputs": [],
   "source": [
    "totals = data \\\n",
    "    .where(data.page == 'NextSong') \\\n",
    "    .select('userId') \\\n",
    "    .groupby('userId') \\\n",
    "    .agg(count('userId').alias('total'))\n",
    "\n",
    "f_UniqueSongShare = data \\\n",
    "    .where(data.page == 'NextSong') \\\n",
    "    .select('userId', 'song') \\\n",
    "    .dropDuplicates() \\\n",
    "    .groupby('userId') \\\n",
    "    .count() \\\n",
    "    .join(totals, on = ['userId'], how = 'inner') \\\n",
    "    .select('userId', (col('count')/col('total')).alias('UniqueSongShare')) "
   ]
  },
  {
   "cell_type": "code",
   "execution_count": 283,
   "metadata": {},
   "outputs": [],
   "source": [
    "f_UniqueSongCount = data \\\n",
    "    .where(data.page == 'NextSong') \\\n",
    "    .select('userId', 'song') \\\n",
    "    .dropDuplicates() \\\n",
    "    .groupby('userId') \\\n",
    "    .agg(count('userId').alias('UniqueSongCount'))"
   ]
  },
  {
   "cell_type": "code",
   "execution_count": 245,
   "metadata": {
    "collapsed": true
   },
   "outputs": [
    {
     "name": "stdout",
     "output_type": "stream",
     "text": [
      "+------+------------------+\n",
      "|userId|   UniqueSongShare|\n",
      "+------+------------------+\n",
      "|100010|0.9781818181818182|\n",
      "|200002|0.9767441860465116|\n",
      "|   125|               1.0|\n",
      "|   124|0.8185829860259868|\n",
      "|    51|0.8782567503552818|\n",
      "|     7|0.9866666666666667|\n",
      "|    15|0.8918495297805643|\n",
      "|    54|0.8497008095740937|\n",
      "|   155| 0.925609756097561|\n",
      "|100014|0.9649805447470817|\n",
      "|   132|0.8910788381742739|\n",
      "|   154|0.9880952380952381|\n",
      "|   101|0.8948247078464107|\n",
      "|    11|0.9520865533230294|\n",
      "|   138|0.8652173913043478|\n",
      "|300017|0.8295704845814978|\n",
      "|100021|0.9826086956521739|\n",
      "|    29|0.8461030383091149|\n",
      "|    69|0.9208888888888889|\n",
      "|   112|0.9813953488372092|\n",
      "|    42|0.8287153652392947|\n",
      "|    73|0.9628647214854111|\n",
      "|    87|0.9452411994784876|\n",
      "|200010|0.9620253164556962|\n",
      "|    64|               1.0|\n",
      "|     3| 0.985981308411215|\n",
      "|   113|0.9015772870662461|\n",
      "|    30|0.8976711362032463|\n",
      "|    34|               1.0|\n",
      "|   133|               1.0|\n",
      "|    59|0.9392265193370166|\n",
      "|   139|0.9761273209549072|\n",
      "|   146|0.9538461538461539|\n",
      "|     8|0.9721115537848606|\n",
      "|    22|               1.0|\n",
      "|    28|0.9080301990391215|\n",
      "|300018| 0.901829268292683|\n",
      "|300012|0.9392523364485982|\n",
      "|100022|0.9309838472834068|\n",
      "|    85|0.8487278761061947|\n",
      "|    16|0.9525925925925925|\n",
      "|    35|0.8944099378881988|\n",
      "|    52|0.9171270718232044|\n",
      "|300008|0.9009332376166547|\n",
      "|    71|0.9772727272727273|\n",
      "|300013|0.9552238805970149|\n",
      "|    98|0.8725531028738026|\n",
      "|100008|0.9365284974093264|\n",
      "|    47|0.9900990099009901|\n",
      "|    99|0.9603960396039604|\n",
      "|100025|0.9612244897959183|\n",
      "|   107|0.9715447154471545|\n",
      "|   110|0.9662921348314607|\n",
      "|300006| 0.978494623655914|\n",
      "|300002|0.8819875776397516|\n",
      "|    96|0.9012208657047724|\n",
      "|300007|               1.0|\n",
      "|    43|0.9661016949152542|\n",
      "|     5|0.9875776397515528|\n",
      "|   100|0.8583146905294556|\n",
      "|100006|               1.0|\n",
      "|    18|0.9603729603729604|\n",
      "|    70|0.8959731543624161|\n",
      "|100005|0.9935064935064936|\n",
      "|    27|0.9863636363636363|\n",
      "|    61|0.8877928483353884|\n",
      "|    75|0.9236453201970444|\n",
      "|   126|0.8649592549476135|\n",
      "|   131|0.8970588235294118|\n",
      "|   140|0.7814265536723164|\n",
      "|    17|0.9439050701186623|\n",
      "|100007|0.9645390070921985|\n",
      "|    26| 0.984313725490196|\n",
      "|   120|0.9064290260980268|\n",
      "|200007|               1.0|\n",
      "|    46|0.9226579520697168|\n",
      "|300004|0.9705882352941176|\n",
      "|   147|0.9524680073126143|\n",
      "|300001|0.8959405374499714|\n",
      "|300015|0.8593502377179081|\n",
      "|    78|0.9803149606299213|\n",
      "|    77|0.9274116523400191|\n",
      "|    89|0.9385307346326837|\n",
      "|   136|0.8818267419962336|\n",
      "|   118|0.8686868686868687|\n",
      "|     6|0.8477366255144033|\n",
      "|300019| 0.949874686716792|\n",
      "|200014|0.9317269076305221|\n",
      "|100009|0.9671814671814671|\n",
      "|300011|0.8019051742801472|\n",
      "|100004| 0.935244161358811|\n",
      "|   104|0.8820887142055025|\n",
      "|    60| 0.898418491484185|\n",
      "|    68|               1.0|\n",
      "|    90|               1.0|\n",
      "|200003| 0.952063914780293|\n",
      "|100015|           0.94375|\n",
      "|    19|0.9675925925925926|\n",
      "|300023|0.8920422927100723|\n",
      "|300024|0.9886363636363636|\n",
      "|   128|          0.890625|\n",
      "|200024|0.9640287769784173|\n",
      "|    23|0.9512195121951219|\n",
      "|    41|0.8970432946145723|\n",
      "|   102|0.9936708860759493|\n",
      "|    55| 0.968503937007874|\n",
      "|200008|0.9017375674056322|\n",
      "|   111|0.9398280802292264|\n",
      "|100016| 0.930188679245283|\n",
      "|100003|               1.0|\n",
      "|    93|         0.9390625|\n",
      "|    95|0.8866587957497049|\n",
      "|   103|0.9142590866728798|\n",
      "|200005|0.9928057553956835|\n",
      "|    38|0.9016641452344932|\n",
      "|    40|0.9313543599257885|\n",
      "|200009|0.9314641744548287|\n",
      "|    25|0.8734042553191489|\n",
      "|   135|               1.0|\n",
      "|   156|               1.0|\n",
      "|    44|0.9557109557109557|\n",
      "|100024|               1.0|\n",
      "|   144|               1.0|\n",
      "|   115|0.9004029936672424|\n",
      "|    82|0.8997067448680351|\n",
      "|200023|0.8510998307952623|\n",
      "|    53|0.9026345933562429|\n",
      "|    92|0.7774600504625736|\n",
      "|   122|               1.0|\n",
      "|   108|0.9447077409162717|\n",
      "|   117|0.9475218658892128|\n",
      "|300010| 0.973384030418251|\n",
      "|200017|0.9391480730223124|\n",
      "|    86|0.9615384615384616|\n",
      "|    58|0.8872491145218417|\n",
      "|100011|               1.0|\n",
      "|100019|0.9838709677419355|\n",
      "|300014|              0.95|\n",
      "|    81|0.8860182370820668|\n",
      "|   114|0.9109907120743034|\n",
      "|    33|0.9124900556881463|\n",
      "|100012|0.9516806722689075|\n",
      "|   150|0.9943820224719101|\n",
      "|200018|0.9509536784741145|\n",
      "|200016|0.9757281553398058|\n",
      "|200025|0.9316455696202531|\n",
      "|300003|               1.0|\n",
      "|   153|0.9202975557917109|\n",
      "|200020|0.9204448246364414|\n",
      "|   141|0.9311087190527448|\n",
      "|   148|0.9597989949748744|\n",
      "|    97|              0.88|\n",
      "|   106|0.9272943980929678|\n",
      "|    67|0.9216757741347905|\n",
      "|    84|0.9726027397260274|\n",
      "|   143|0.9801980198019802|\n",
      "|300025|0.9113338473400154|\n",
      "|    79| 0.952191235059761|\n",
      "|    24|0.9543568464730291|\n",
      "|     9|  0.85949177877429|\n",
      "|   116|0.9841269841269841|\n",
      "|    32|               1.0|\n",
      "|   152| 0.893541518807665|\n",
      "|   134|               1.0|\n",
      "|200001| 0.991304347826087|\n",
      "|    88|0.8841075794621027|\n",
      "|   149| 0.989247311827957|\n",
      "|   105|0.9463350785340314|\n",
      "|    20|0.8887659103486442|\n",
      "|200011|0.9538461538461539|\n",
      "|200006| 0.948339483394834|\n",
      "|100023|0.9606879606879607|\n",
      "|100013|0.9204244031830239|\n",
      "|   142|0.8885333333333333|\n",
      "|    56|0.9386920980926431|\n",
      "|   127|0.8920741989881956|\n",
      "|300009|0.9124036440084092|\n",
      "|    36|0.9110535405872193|\n",
      "|    10|0.9346210995542348|\n",
      "|    37|0.9029745042492918|\n",
      "|300022|0.9697802197802198|\n",
      "|    49|0.9259681093394078|\n",
      "|300021|0.8372641509433962|\n",
      "|200004| 0.899540757749713|\n",
      "|300005|0.9775641025641025|\n",
      "|100017|0.9807692307692307|\n",
      "|300020|0.9834710743801653|\n",
      "|    63|0.9885057471264368|\n",
      "|    65| 0.869380028395646|\n",
      "|   121|0.9380165289256198|\n",
      "|     4|     0.87841796875|\n",
      "|    39|0.7430642339415147|\n",
      "|200012|               1.0|\n",
      "|    62|0.8937774984286612|\n",
      "|    12|0.9423298731257209|\n",
      "|    83|0.9165991902834008|\n",
      "|   109|0.9609483960948396|\n",
      "|   123|               1.0|\n",
      "|200022|0.9540229885057471|\n",
      "|    13|        0.91484375|\n",
      "|200019|0.9575757575757575|\n",
      "|    14|0.9170731707317074|\n",
      "|    21|0.9539078156312625|\n",
      "|    66| 0.937799043062201|\n",
      "|    91|0.8596899224806202|\n",
      "|    94|0.9794520547945206|\n",
      "|   137|0.9935064935064936|\n",
      "|    72|               1.0|\n",
      "|    74|0.8629166666666667|\n",
      "|300016|0.9296740994854202|\n",
      "|   151|0.9927536231884058|\n",
      "|200015|0.9767441860465116|\n",
      "|   129|0.9516616314199395|\n",
      "|    76|0.9811320754716981|\n",
      "|     2|0.9443708609271523|\n",
      "|100002|0.9897435897435898|\n",
      "|100018|0.9401197604790419|\n",
      "|    80|0.9618528610354223|\n",
      "|   145|0.9211691762621789|\n",
      "|    50|0.9463220675944334|\n",
      "|    45|0.9097035040431267|\n",
      "|    57|0.9782608695652174|\n",
      "|200021|0.9160554197229014|\n",
      "|   119|0.9884393063583815|\n",
      "|100001|0.9699248120300752|\n",
      "+------+------------------+\n",
      "\n"
     ]
    }
   ],
   "source": [
    "f_UniqueSongShare.show(225)"
   ]
  },
  {
   "cell_type": "markdown",
   "metadata": {},
   "source": [
    "#### User Interactions per all user interactions (share)"
   ]
  },
  {
   "cell_type": "code",
   "execution_count": 292,
   "metadata": {},
   "outputs": [],
   "source": [
    "totals = page_data.groupby('userId').agg(count('userId').alias('total'))\n",
    "\n",
    "page_share = page_data \\\n",
    "    .groupby('userId', 'page') \\\n",
    "    .count() \\\n",
    "    .join(totals, on = ['userId'], how = 'inner') \\\n",
    "    .select('userId', 'page', (col('count')/col('total')).alias('share')) \\"
   ]
  },
  {
   "cell_type": "code",
   "execution_count": 286,
   "metadata": {},
   "outputs": [
    {
     "name": "stdout",
     "output_type": "stream",
     "text": [
      "+-------+--------------------+\n",
      "|summary|               share|\n",
      "+-------+--------------------+\n",
      "|  count|                 131|\n",
      "|   mean|0.001294754363153954|\n",
      "| stddev|0.001775529797369...|\n",
      "|    min|1.383317194632729...|\n",
      "|    max|0.016666666666666666|\n",
      "+-------+--------------------+\n",
      "\n"
     ]
    }
   ],
   "source": [
    "page_share.where(page_share.page == 'Submit Upgrade').select('share').describe().show()"
   ]
  },
  {
   "cell_type": "code",
   "execution_count": 293,
   "metadata": {},
   "outputs": [],
   "source": [
    "# feat 7: Average Roll Advert page interactions per hour [RollAdvertCountPerHour]\n",
    "f_SubmitUpgradeShare = page_share.where(col('page') == 'Roll Advert') \\\n",
    "    .select('userId', col('share').alias('SubmitUpgradeShare'))"
   ]
  },
  {
   "cell_type": "code",
   "execution_count": null,
   "metadata": {},
   "outputs": [],
   "source": []
  },
  {
   "cell_type": "code",
   "execution_count": null,
   "metadata": {},
   "outputs": [],
   "source": []
  },
  {
   "cell_type": "code",
   "execution_count": null,
   "metadata": {
    "collapsed": true
   },
   "outputs": [],
   "source": [
    "# ALL FEATURES\n",
    "# Combining all features with the target churn label\n",
    "model_data  = labels.join(f_gen, 'userId', 'outer') \\\n",
    "    .join(f_llevel, 'userId', 'outer') \\\n",
    "    .join(f_nlog, 'userId', 'outer') \\\n",
    "    .join(f_seslen, 'userId', 'outer') \\\n",
    "    .join(f_advert, 'userId', 'outer') \\\n",
    "    .join(f_upgrade, 'userId', 'outer') \\\n",
    "    .join(f_adverth, 'userId', 'outer') \\\n",
    "    .join(f_submitupgradeh, 'userId', 'outer') \\\n",
    "    .join(f_thumbsdownh, 'userId', 'outer') \\\n",
    "    .join(f_upgradeh, 'userId', 'outer') \\\n",
    "    .join(f_settingsh, 'userId', 'outer') \\\n",
    "    .join(f_songlen, 'userId', 'outer') \\\n",
    "    .drop('userId') \\\n",
    "    .fillna(0)"
   ]
  },
  {
   "cell_type": "code",
   "execution_count": 129,
   "metadata": {},
   "outputs": [],
   "source": [
    "# SELECTED FEATURES\n",
    "# Combining all features with the target churn label\n",
    "model_data  = labels.join(f_gen, 'userId', 'outer') \\\n",
    "    .join(f_llevel, 'userId', 'outer') \\\n",
    "    .join(f_nlog, 'userId', 'outer') \\\n",
    "    .join(f_seslen, 'userId', 'outer') \\\n",
    "    .join(f_advert, 'userId', 'outer') \\\n",
    "    .join(f_upgrade, 'userId', 'outer') \\\n",
    "    .join(f_adverth, 'userId', 'outer') \\\n",
    "    .join(f_thumbsdownh, 'userId', 'outer') \\\n",
    "    .join(f_downgrade, 'userId', 'outer') \\\n",
    "    .drop('userId') \\\n",
    "    .fillna(0)"
   ]
  },
  {
   "cell_type": "code",
   "execution_count": 141,
   "metadata": {},
   "outputs": [],
   "source": [
    "# SELECTED FEATURES 2\n",
    "# Combining all features with the target churn label\n",
    "model_data  = labels.join(f_llevel, 'userId', 'outer') \\\n",
    "    .join(f_nlog, 'userId', 'outer') \\\n",
    "    .join(f_seslen, 'userId', 'outer') \\\n",
    "    .join(f_advert, 'userId', 'outer') \\\n",
    "    .join(f_upgrade, 'userId', 'outer') \\\n",
    "    .join(f_adverth, 'userId', 'outer') \\\n",
    "    .join(f_thumbsdownh, 'userId', 'outer') \\\n",
    "    .join(f_downgrade, 'userId', 'outer') \\\n",
    "    .drop('userId') \\\n",
    "    .fillna(0)"
   ]
  },
  {
   "cell_type": "code",
   "execution_count": 152,
   "metadata": {},
   "outputs": [],
   "source": [
    "# SELECTED FEATURES 3\n",
    "model_data  = labels.join(f_llevel, 'userId', 'outer') \\\n",
    "    .join(f_nlog, 'userId', 'outer') \\\n",
    "    .join(f_seslen, 'userId', 'outer') \\\n",
    "    .join(f_advert, 'userId', 'outer') \\\n",
    "    .join(f_upgrade, 'userId', 'outer') \\\n",
    "    .join(f_adverth, 'userId', 'outer') \\\n",
    "    .join(f_submitupgradeh, 'userId', 'outer') \\\n",
    "    .join(f_thumbsdownh, 'userId', 'outer') \\\n",
    "    .join(f_upgradeh, 'userId', 'outer') \\\n",
    "    .join(f_downgrade, 'userId', 'outer') \\\n",
    "    .drop('userId') \\\n",
    "    .fillna(0)"
   ]
  },
  {
   "cell_type": "code",
   "execution_count": 177,
   "metadata": {},
   "outputs": [],
   "source": [
    "# SELECTED FEATURES 2b\n",
    "# Combining all features with the target churn label\n",
    "model_data  = labels.join(f_nlog, 'userId', 'outer') \\\n",
    "    .join(f_seslen, 'userId', 'outer') \\\n",
    "    .join(f_advert, 'userId', 'outer') \\\n",
    "    .join(f_adverth, 'userId', 'outer') \\\n",
    "    .join(f_thumbsdownh, 'userId', 'outer') \\\n",
    "    .join(f_downgrade, 'userId', 'outer') \\\n",
    "    .drop('userId') \\\n",
    "    .fillna(0)"
   ]
  },
  {
   "cell_type": "code",
   "execution_count": 326,
   "metadata": {},
   "outputs": [],
   "source": [
    "# SELECTED FEATURES - the best features\n",
    "# Combining all features with the target churn label\n",
    "model_data  = labels.join(f_EventCount, 'userId', 'outer') \\\n",
    "    .join(f_AvgSessionCount, 'userId', 'outer') \\\n",
    "    .join(f_AvgRollAdvertCount, 'userId', 'outer') \\\n",
    "    .join(f_RollAdvertCountPerHour, 'userId', 'outer') \\\n",
    "    .join(f_ThumbsDownCountPerHour, 'userId', 'outer') \\\n",
    "    .drop('userId') \\\n",
    "    .fillna(0)"
   ]
  },
  {
   "cell_type": "code",
   "execution_count": 294,
   "metadata": {},
   "outputs": [],
   "source": [
    "# SELECTED FEATURES - testing\n",
    "# Combining all features with the target churn label\n",
    "model_data  = labels.join(f_EventCount, 'userId', 'outer') \\\n",
    "    .join(f_AvgSessionCount, 'userId', 'outer') \\\n",
    "    .join(f_AvgRollAdvertCount, 'userId', 'outer') \\\n",
    "    .join(f_RollAdvertCountPerHour, 'userId', 'outer') \\\n",
    "    .join(f_ThumbsDownCountPerHour, 'userId', 'outer') \\\n",
    "    .join(f_SubmitUpgradeShare, 'userId', 'outer') \\\n",
    "    .drop('userId') \\\n",
    "    .fillna(0)"
   ]
  },
  {
   "cell_type": "code",
   "execution_count": 327,
   "metadata": {},
   "outputs": [],
   "source": [
    "# churn model\n",
    "model_df = model_data.toPandas()"
   ]
  },
  {
   "cell_type": "code",
   "execution_count": 328,
   "metadata": {},
   "outputs": [
    {
     "data": {
      "image/png": "[encoded data removed]",
      "text/plain": [
       "<Figure size 720x576 with 2 Axes>"
      ]
     },
     "metadata": {
      "needs_background": "light"
     },
     "output_type": "display_data"
    }
   ],
   "source": [
    "# correlation heatmap\n",
    "plt.figure(figsize = [10, 8])\n",
    "plt.title('Correlation between the features', y=1.05, size=15)\n",
    "#ax = sb.heatmap(model_df.iloc[:, 1:].corr(), linewidths=0.1, vmax=1.0, square=True, annot=True);\n",
    "\n",
    "ax = sb.heatmap(model_df.iloc[:, 1:].corr(), annot=True)\n",
    "plt.yticks(rotation = 0)\n",
    "\n",
    "# correct plot cut off (Note: we must fix it due to the bug in the matplotlib 3.1.1)\n",
    "bottom, top = ax.get_ylim()\n",
    "ax.set_ylim(bottom + 0.5, top - 0.5)\n",
    "plt.show()"
   ]
  },
  {
   "cell_type": "code",
   "execution_count": 111,
   "metadata": {},
   "outputs": [],
   "source": [
    "model_df.to_csv('data\\\\model_data.csv')"
   ]
  },
  {
   "cell_type": "code",
   "execution_count": 715,
   "metadata": {
    "collapsed": true
   },
   "outputs": [
    {
     "name": "stdout",
     "output_type": "stream",
     "text": [
      "root\n",
      " |-- label: integer (nullable = false)\n",
      " |-- gen: integer (nullable = false)\n",
      " |-- llevel: integer (nullable = false)\n",
      " |-- nlog: integer (nullable = false)\n",
      " |-- seslen: float (nullable = false)\n",
      " |-- advert: integer (nullable = false)\n",
      " |-- upgrade: integer (nullable = false)\n",
      " |-- adverth: float (nullable = false)\n",
      " |-- submitupgradeh: float (nullable = false)\n",
      " |-- thumbsdownh: float (nullable = false)\n",
      " |-- upgradeh: float (nullable = false)\n",
      " |-- settingsh: float (nullable = false)\n",
      " |-- songlen: float (nullable = false)\n",
      "\n"
     ]
    }
   ],
   "source": [
    "# ALL FEATURES\n",
    "modelSchema = StructType([ \\\n",
    "                    StructField(\"label\", IntegerType(), False) \\\n",
    "                    ,StructField(\"gen\", IntegerType(), False) \\\n",
    "                    ,StructField(\"llevel\", IntegerType(), False) \\\n",
    "                    ,StructField(\"nlog\", IntegerType(), False) \\\n",
    "                    ,StructField(\"seslen\", FloatType(), False) \\\n",
    "                    ,StructField(\"advert\", IntegerType(), False) \\\n",
    "                    ,StructField(\"upgrade\", IntegerType(), False) \\\n",
    "                    ,StructField(\"adverth\", FloatType(), False) \\\n",
    "                    ,StructField(\"submitupgradeh\", FloatType(), False) \\\n",
    "                    ,StructField(\"thumbsdownh\", FloatType(), False) \\\n",
    "                    ,StructField(\"upgradeh\", FloatType(), False) \\\n",
    "                    ,StructField(\"settingsh\", FloatType(), False) \\\n",
    "                    ,StructField(\"songlen\", FloatType(), False) \\\n",
    "                         ])\n",
    "data2 = spark.createDataFrame(model_df, schema=modelSchema)\n",
    "data2.printSchema()"
   ]
  },
  {
   "cell_type": "code",
   "execution_count": null,
   "metadata": {},
   "outputs": [],
   "source": [
    "# SELECTED FEATURES\n",
    "modelSchema = StructType([ \\\n",
    "                    StructField(\"gen\", IntegerType(), False) \\\n",
    "                    ,StructField(\"label\", IntegerType(), False) \\\n",
    "                    ,StructField(\"llevel\", IntegerType(), False) \\\n",
    "                    ,StructField(\"nlog\", IntegerType(), False) \\\n",
    "                    ,StructField(\"seslen\", FloatType(), False) \\\n",
    "                    ,StructField(\"advert\", IntegerType(), False) \\\n",
    "                    ,StructField(\"upgrade\", IntegerType(), False) \\\n",
    "                    ,StructField(\"adverth\", FloatType(), False) \\\n",
    "                    ,StructField(\"thumbsdownh\", FloatType(), False) \\\n",
    "                    ,StructField(\"Downgrade\", IntegerType(), False) \\\n",
    "                         ])\n",
    "data2 = spark.createDataFrame(model_df, schema=modelSchema)\n",
    "data2.printSchema()"
   ]
  },
  {
   "cell_type": "code",
   "execution_count": 145,
   "metadata": {},
   "outputs": [
    {
     "name": "stdout",
     "output_type": "stream",
     "text": [
      "root\n",
      " |-- label: integer (nullable = false)\n",
      " |-- llevel: integer (nullable = false)\n",
      " |-- nlog: integer (nullable = false)\n",
      " |-- seslen: float (nullable = false)\n",
      " |-- advert: integer (nullable = false)\n",
      " |-- upgrade: integer (nullable = false)\n",
      " |-- adverth: float (nullable = false)\n",
      " |-- thumbsdownh: float (nullable = false)\n",
      " |-- Downgrade: integer (nullable = false)\n",
      "\n"
     ]
    }
   ],
   "source": [
    "# SELECTED FEATURES 2\n",
    "modelSchema = StructType([ \\\n",
    "                    StructField(\"label\", IntegerType(), False) \\\n",
    "                    ,StructField(\"llevel\", IntegerType(), False) \\\n",
    "                    ,StructField(\"nlog\", IntegerType(), False) \\\n",
    "                    ,StructField(\"seslen\", FloatType(), False) \\\n",
    "                    ,StructField(\"advert\", IntegerType(), False) \\\n",
    "                    ,StructField(\"upgrade\", IntegerType(), False) \\\n",
    "                    ,StructField(\"adverth\", FloatType(), False) \\\n",
    "                    ,StructField(\"thumbsdownh\", FloatType(), False) \\\n",
    "                    ,StructField(\"Downgrade\", IntegerType(), False) \\\n",
    "                         ])\n",
    "data2 = spark.createDataFrame(model_df, schema=modelSchema)\n",
    "data2.printSchema()"
   ]
  },
  {
   "cell_type": "code",
   "execution_count": 169,
   "metadata": {},
   "outputs": [
    {
     "name": "stdout",
     "output_type": "stream",
     "text": [
      "root\n",
      " |-- label: integer (nullable = false)\n",
      " |-- nlog: integer (nullable = false)\n",
      " |-- seslen: float (nullable = false)\n",
      " |-- advert: integer (nullable = false)\n",
      " |-- adverth: float (nullable = false)\n",
      " |-- thumbsdownh: float (nullable = false)\n",
      " |-- Downgrade: integer (nullable = false)\n",
      "\n"
     ]
    }
   ],
   "source": [
    "# SELECTED FEATURES 2b\n",
    "modelSchema = StructType([ \\\n",
    "                    StructField(\"label\", IntegerType(), False) \\\n",
    "                    ,StructField(\"nlog\", IntegerType(), False) \\\n",
    "                    ,StructField(\"seslen\", FloatType(), False) \\\n",
    "                    ,StructField(\"advert\", IntegerType(), False) \\\n",
    "                    ,StructField(\"adverth\", FloatType(), False) \\\n",
    "                    ,StructField(\"thumbsdownh\", FloatType(), False) \\\n",
    "                    ,StructField(\"Downgrade\", IntegerType(), False) \\\n",
    "                         ])\n",
    "data2 = spark.createDataFrame(model_df, schema=modelSchema)\n",
    "data2.printSchema()"
   ]
  },
  {
   "cell_type": "code",
   "execution_count": 181,
   "metadata": {},
   "outputs": [
    {
     "name": "stdout",
     "output_type": "stream",
     "text": [
      "root\n",
      " |-- label: integer (nullable = false)\n",
      " |-- nlog: integer (nullable = false)\n",
      " |-- seslen: float (nullable = false)\n",
      " |-- advert: integer (nullable = false)\n",
      " |-- adverth: float (nullable = false)\n",
      " |-- thumbsdownh: float (nullable = false)\n",
      "\n"
     ]
    }
   ],
   "source": [
    "# SELECTED FEATURES 2c\n",
    "modelSchema = StructType([ \\\n",
    "                    StructField(\"label\", IntegerType(), False) \\\n",
    "                    ,StructField(\"nlog\", IntegerType(), False) \\\n",
    "                    ,StructField(\"seslen\", FloatType(), False) \\\n",
    "                    ,StructField(\"advert\", IntegerType(), False) \\\n",
    "                    ,StructField(\"adverth\", FloatType(), False) \\\n",
    "                    ,StructField(\"thumbsdownh\", FloatType(), False) \\\n",
    "                         ])\n",
    "data2 = spark.createDataFrame(model_df, schema=modelSchema)\n",
    "data2.printSchema()"
   ]
  },
  {
   "cell_type": "code",
   "execution_count": 251,
   "metadata": {},
   "outputs": [
    {
     "name": "stdout",
     "output_type": "stream",
     "text": [
      "root\n",
      " |-- label: integer (nullable = false)\n",
      " |-- EventCount: integer (nullable = false)\n",
      " |-- AvgSessionCount: float (nullable = false)\n",
      " |-- AvgRollAdvertCount: integer (nullable = false)\n",
      " |-- RollAdvertCountPerHour: float (nullable = false)\n",
      " |-- ThumbsDownCountPerHour: float (nullable = false)\n",
      " |-- UniqueSongShare: float (nullable = false)\n",
      "\n"
     ]
    }
   ],
   "source": [
    "# SELECTED FEATURES - testing\n",
    "\n",
    "modelSchema = StructType([ \\\n",
    "                    StructField(\"label\", IntegerType(), False) \\\n",
    "                    ,StructField(\"EventCount\", IntegerType(), False) \\\n",
    "                    ,StructField(\"AvgSessionCount\", FloatType(), False) \\\n",
    "                    ,StructField(\"AvgRollAdvertCount\", IntegerType(), False) \\\n",
    "                    ,StructField(\"RollAdvertCountPerHour\", FloatType(), False) \\\n",
    "                    ,StructField(\"ThumbsDownCountPerHour\", FloatType(), False) \\\n",
    "                    ,StructField(\"UniqueSongShare\", FloatType(), False) \\\n",
    "                         ])\n",
    "data2 = spark.createDataFrame(model_df, schema=modelSchema)\n",
    "data2.printSchema()"
   ]
  },
  {
   "cell_type": "code",
   "execution_count": 329,
   "metadata": {},
   "outputs": [
    {
     "name": "stdout",
     "output_type": "stream",
     "text": [
      "root\n",
      " |-- label: integer (nullable = false)\n",
      " |-- EventCount: integer (nullable = false)\n",
      " |-- AvgSessionCount: float (nullable = false)\n",
      " |-- AvgRollAdvertCount: integer (nullable = false)\n",
      " |-- RollAdvertCountPerHour: float (nullable = false)\n",
      " |-- ThumbsDownCountPerHour: float (nullable = false)\n",
      "\n"
     ]
    }
   ],
   "source": [
    "# SELECTED FEATURES - the best features\n",
    "\n",
    "modelSchema = StructType([ \\\n",
    "                    StructField(\"label\", IntegerType(), False) \\\n",
    "                    ,StructField(\"EventCount\", IntegerType(), False) \\\n",
    "                    ,StructField(\"AvgSessionCount\", FloatType(), False) \\\n",
    "                    ,StructField(\"AvgRollAdvertCount\", IntegerType(), False) \\\n",
    "                    ,StructField(\"RollAdvertCountPerHour\", FloatType(), False) \\\n",
    "                    ,StructField(\"ThumbsDownCountPerHour\", FloatType(), False) \\\n",
    "                         ])\n",
    "data2 = spark.createDataFrame(model_df, schema=modelSchema)\n",
    "data2.printSchema()"
   ]
  },
  {
   "cell_type": "code",
   "execution_count": 297,
   "metadata": {},
   "outputs": [
    {
     "name": "stdout",
     "output_type": "stream",
     "text": [
      "root\n",
      " |-- label: integer (nullable = false)\n",
      " |-- EventCount: integer (nullable = false)\n",
      " |-- AvgSessionCount: float (nullable = false)\n",
      " |-- AvgRollAdvertCount: integer (nullable = false)\n",
      " |-- RollAdvertCountPerHour: float (nullable = false)\n",
      " |-- ThumbsDownCountPerHour: float (nullable = false)\n",
      " |-- SubmitUpgradeShare: float (nullable = false)\n",
      "\n"
     ]
    }
   ],
   "source": [
    "# SELECTED FEATURES - testing\n",
    "\n",
    "modelSchema = StructType([ \\\n",
    "                    StructField(\"label\", IntegerType(), False) \\\n",
    "                    ,StructField(\"EventCount\", IntegerType(), False) \\\n",
    "                    ,StructField(\"AvgSessionCount\", FloatType(), False) \\\n",
    "                    ,StructField(\"AvgRollAdvertCount\", IntegerType(), False) \\\n",
    "                    ,StructField(\"RollAdvertCountPerHour\", FloatType(), False) \\\n",
    "                    ,StructField(\"ThumbsDownCountPerHour\", FloatType(), False) \\\n",
    "                    ,StructField(\"SubmitUpgradeShare\", FloatType(), False) \\\n",
    "                         ])\n",
    "data2 = spark.createDataFrame(model_df, schema=modelSchema)\n",
    "data2.printSchema()"
   ]
  },
  {
   "cell_type": "code",
   "execution_count": 330,
   "metadata": {},
   "outputs": [],
   "source": [
    "model_data = spark.createDataFrame(model_df, schema=modelSchema)"
   ]
  },
  {
   "cell_type": "code",
   "execution_count": 331,
   "metadata": {},
   "outputs": [
    {
     "name": "stdout",
     "output_type": "stream",
     "text": [
      "+-----+----------+---------------+------------------+----------------------+----------------------+\n",
      "|label|EventCount|AvgSessionCount|AvgRollAdvertCount|RollAdvertCountPerHour|ThumbsDownCountPerHour|\n",
      "+-----+----------+---------------+------------------+----------------------+----------------------+\n",
      "|    0|       381|      154.48334|                52|             2.8851933|            0.27742243|\n",
      "|    0|       474|          266.4|                 7|            0.26276276|            0.22522523|\n",
      "|    1|        11|      29.566668|                 1|             2.0304568|                   0.0|\n",
      "|    0|      4825|      578.99426|                 4|           0.014293513|            0.14650851|\n",
      "|    1|      2464|       872.3567|                 0|                   0.0|             0.1444758|\n",
      "+-----+----------+---------------+------------------+----------------------+----------------------+\n",
      "only showing top 5 rows\n",
      "\n"
     ]
    }
   ],
   "source": [
    "model_data.show(5)"
   ]
  },
  {
   "cell_type": "markdown",
   "metadata": {},
   "source": [
    "# Modeling\n",
    "Split the full dataset into train, test, and validation sets. Test out several of the machine learning methods you learned. Evaluate the accuracy of the various models, tuning parameters as necessary. Determine your winning model based on test accuracy and report results on the validation set. Since the churned users are a fairly small subset, I suggest using F1 score as the metric to optimize."
   ]
  },
  {
   "cell_type": "code",
   "execution_count": 98,
   "metadata": {},
   "outputs": [],
   "source": [
    "from pyspark.ml.evaluation import MulticlassClassificationEvaluator\n",
    "from pyspark.ml.classification import LogisticRegression, GBTClassifier, LinearSVC\n",
    "from pyspark.ml.feature import VectorAssembler, StandardScaler\n",
    "from pyspark.ml.tuning import CrossValidator, ParamGridBuilder"
   ]
  },
  {
   "cell_type": "markdown",
   "metadata": {},
   "source": [
    "#### VectorAssembler"
   ]
  },
  {
   "cell_type": "code",
   "execution_count": 332,
   "metadata": {},
   "outputs": [],
   "source": [
    "features = model_data.columns[1:]\n",
    "assembler = VectorAssembler(inputCols=features, outputCol=\"NumFeatures\")\n",
    "model_data = assembler.transform(model_data)"
   ]
  },
  {
   "cell_type": "code",
   "execution_count": 333,
   "metadata": {},
   "outputs": [
    {
     "name": "stdout",
     "output_type": "stream",
     "text": [
      "root\n",
      " |-- label: integer (nullable = false)\n",
      " |-- EventCount: integer (nullable = false)\n",
      " |-- AvgSessionCount: float (nullable = false)\n",
      " |-- AvgRollAdvertCount: integer (nullable = false)\n",
      " |-- RollAdvertCountPerHour: float (nullable = false)\n",
      " |-- ThumbsDownCountPerHour: float (nullable = false)\n",
      " |-- NumFeatures: vector (nullable = true)\n",
      "\n"
     ]
    }
   ],
   "source": [
    "model_data.printSchema()"
   ]
  },
  {
   "cell_type": "markdown",
   "metadata": {},
   "source": [
    "#### Scaler"
   ]
  },
  {
   "cell_type": "code",
   "execution_count": 334,
   "metadata": {},
   "outputs": [],
   "source": [
    "scaler = StandardScaler(inputCol=\"NumFeatures\", outputCol=\"features\", withStd=True)\n",
    "scalerModel = scaler.fit(model_data)\n",
    "model_data = scalerModel.transform(model_data)"
   ]
  },
  {
   "cell_type": "markdown",
   "metadata": {},
   "source": [
    "#### GBT Classifier"
   ]
  },
  {
   "cell_type": "code",
   "execution_count": 335,
   "metadata": {},
   "outputs": [],
   "source": [
    "def test_gbt(seed=42):\n",
    "    # split data\n",
    "    model_data2 = model_data.select('label', 'features')\n",
    "    train,validation = model_data2.randomSplit([0.8, 0.2], seed=seed)\n",
    "\n",
    "    # models to train: logistic regression, svm, gradient boosting tree\n",
    "    gbt_tuned = GBTClassifier(maxDepth=5, maxIter=10, seed=seed)\n",
    "    gbt_model = gbt_tuned.fit(train)\n",
    "    results = gbt_model.transform(validation)\n",
    "\n",
    "    evaluator = MulticlassClassificationEvaluator(predictionCol=\"prediction\")\n",
    "\n",
    "    print(evaluator.evaluate(results, {evaluator.metricName: \"accuracy\"}))\n",
    "    print(evaluator.evaluate(results, {evaluator.metricName: \"f1\"}))\n",
    "\n",
    "    # important features\n",
    "    importances = list(gbt_model.featureImportances)\n",
    "    y_pos = np.arange(len(features))\n",
    "    plt.barh(y_pos, importances, align='center')\n",
    "    plt.yticks(y_pos, features)\n",
    "    plt.xlabel('Importance Score')\n",
    "    plt.title('GBT Feature Importances')\n",
    "    plt.savefig('GBT feature Importance.png', dpi=72)"
   ]
  },
  {
   "cell_type": "markdown",
   "metadata": {},
   "source": [
    "#### Test"
   ]
  },
  {
   "cell_type": "code",
   "execution_count": 338,
   "metadata": {},
   "outputs": [
    {
     "name": "stdout",
     "output_type": "stream",
     "text": [
      "0.7818181818181819\n",
      "0.7715552739942984\n"
     ]
    },
    {
     "data": {
      "image/png": "[encoded data removed]",
      "text/plain": [
       "<Figure size 432x288 with 1 Axes>"
      ]
     },
     "metadata": {
      "needs_background": "light"
     },
     "output_type": "display_data"
    }
   ],
   "source": [
    "test_gbt(42)"
   ]
  },
  {
   "cell_type": "code",
   "execution_count": 322,
   "metadata": {},
   "outputs": [
    {
     "name": "stdout",
     "output_type": "stream",
     "text": [
      "0.7818181818181819\n",
      "0.7715552739942984\n"
     ]
    },
    {
     "data": {
      "image/png": "[encoded data removed]",
      "text/plain": [
       "<Figure size 432x288 with 1 Axes>"
      ]
     },
     "metadata": {
      "needs_background": "light"
     },
     "output_type": "display_data"
    }
   ],
   "source": [
    "# churn without downgraded users\n",
    "test_gbt()"
   ]
  },
  {
   "cell_type": "code",
   "execution_count": 303,
   "metadata": {},
   "outputs": [
    {
     "name": "stdout",
     "output_type": "stream",
     "text": [
      "0.7090909090909091\n",
      "0.6954070319923978\n"
     ]
    },
    {
     "data": {
      "image/png": "[encoded data removed]",
      "text/plain": [
       "<Figure size 432x288 with 1 Axes>"
      ]
     },
     "metadata": {
      "needs_background": "light"
     },
     "output_type": "display_data"
    }
   ],
   "source": [
    "test_gbt()"
   ]
  },
  {
   "cell_type": "code",
   "execution_count": 282,
   "metadata": {},
   "outputs": [
    {
     "name": "stdout",
     "output_type": "stream",
     "text": [
      "0.6727272727272727\n",
      "0.6466533466533466\n"
     ]
    },
    {
     "data": {
      "image/png": "[encoded data removed]",
      "text/plain": [
       "<Figure size 432x288 with 1 Axes>"
      ]
     },
     "metadata": {
      "needs_background": "light"
     },
     "output_type": "display_data"
    }
   ],
   "source": [
    "test_gbt()"
   ]
  },
  {
   "cell_type": "code",
   "execution_count": 268,
   "metadata": {},
   "outputs": [
    {
     "name": "stdout",
     "output_type": "stream",
     "text": [
      "0.7454545454545455\n",
      "0.7251748251748252\n"
     ]
    },
    {
     "data": {
      "image/png": "[encoded data removed]",
      "text/plain": [
       "<Figure size 432x288 with 1 Axes>"
      ]
     },
     "metadata": {
      "needs_background": "light"
     },
     "output_type": "display_data"
    }
   ],
   "source": [
    "test_gbt()"
   ]
  },
  {
   "cell_type": "code",
   "execution_count": 258,
   "metadata": {},
   "outputs": [
    {
     "name": "stdout",
     "output_type": "stream",
     "text": [
      "0.6909090909090909\n",
      "0.6715995294308545\n"
     ]
    },
    {
     "data": {
      "image/png": "[encoded data removed]",
      "text/plain": [
       "<Figure size 432x288 with 1 Axes>"
      ]
     },
     "metadata": {
      "needs_background": "light"
     },
     "output_type": "display_data"
    }
   ],
   "source": [
    "test_gbt()"
   ]
  },
  {
   "cell_type": "code",
   "execution_count": 241,
   "metadata": {},
   "outputs": [
    {
     "name": "stdout",
     "output_type": "stream",
     "text": [
      "0.7818181818181819\n",
      "0.7715552739942984\n"
     ]
    },
    {
     "data": {
      "image/png": "[encoded data removed]",
      "text/plain": [
       "<Figure size 432x288 with 1 Axes>"
      ]
     },
     "metadata": {
      "needs_background": "light"
     },
     "output_type": "display_data"
    }
   ],
   "source": [
    "test_gbt()"
   ]
  },
  {
   "cell_type": "code",
   "execution_count": 175,
   "metadata": {},
   "outputs": [
    {
     "name": "stdout",
     "output_type": "stream",
     "text": [
      "0.7818181818181819\n",
      "0.7715552739942984\n"
     ]
    },
    {
     "data": {
      "image/png": "[encoded data removed]",
      "text/plain": [
       "<Figure size 432x288 with 1 Axes>"
      ]
     },
     "metadata": {
      "needs_background": "light"
     },
     "output_type": "display_data"
    }
   ],
   "source": [
    "test_gbt()"
   ]
  },
  {
   "cell_type": "code",
   "execution_count": 164,
   "metadata": {},
   "outputs": [
    {
     "name": "stdout",
     "output_type": "stream",
     "text": [
      "0.6181818181818182\n",
      "0.5943288304734088\n"
     ]
    },
    {
     "data": {
      "image/png": "[encoded data removed]",
      "text/plain": [
       "<Figure size 432x288 with 1 Axes>"
      ]
     },
     "metadata": {
      "needs_background": "light"
     },
     "output_type": "display_data"
    }
   ],
   "source": [
    "test_gbt()"
   ]
  },
  {
   "cell_type": "code",
   "execution_count": 151,
   "metadata": {},
   "outputs": [
    {
     "name": "stdout",
     "output_type": "stream",
     "text": [
      "0.7454545454545455\n",
      "0.7251748251748252\n"
     ]
    },
    {
     "data": {
      "image/png": "[encoded data removed]",
      "text/plain": [
       "<Figure size 432x288 with 1 Axes>"
      ]
     },
     "metadata": {
      "needs_background": "light"
     },
     "output_type": "display_data"
    }
   ],
   "source": [
    "test_gbt()"
   ]
  },
  {
   "cell_type": "code",
   "execution_count": 139,
   "metadata": {},
   "outputs": [
    {
     "name": "stdout",
     "output_type": "stream",
     "text": [
      "0.6909090909090909\n",
      "0.6878800252422139\n"
     ]
    },
    {
     "data": {
      "image/png": "[encoded data removed]",
      "text/plain": [
       "<Figure size 432x288 with 1 Axes>"
      ]
     },
     "metadata": {
      "needs_background": "light"
     },
     "output_type": "display_data"
    }
   ],
   "source": [
    "test_gbt()"
   ]
  },
  {
   "cell_type": "code",
   "execution_count": 119,
   "metadata": {},
   "outputs": [
    {
     "name": "stdout",
     "output_type": "stream",
     "text": [
      "0.7636363636363637\n",
      "0.7488702283883006\n"
     ]
    },
    {
     "data": {
      "image/png": "[encoded data removed]",
      "text/plain": [
       "<Figure size 432x288 with 1 Axes>"
      ]
     },
     "metadata": {
      "needs_background": "light"
     },
     "output_type": "display_data"
    }
   ],
   "source": [
    "test_gbt()"
   ]
  },
  {
   "cell_type": "code",
   "execution_count": 721,
   "metadata": {},
   "outputs": [
    {
     "name": "stdout",
     "output_type": "stream",
     "text": [
      "0.6730769230769231\n",
      "0.65579133510168\n"
     ]
    },
    {
     "data": {
      "image/png": "[encoded data removed]",
      "text/plain": [
       "<matplotlib.figure.Figure at 0x1edbd715f98>"
      ]
     },
     "metadata": {},
     "output_type": "display_data"
    }
   ],
   "source": [
    "test_gbt()"
   ]
  },
  {
   "cell_type": "markdown",
   "metadata": {},
   "source": [
    "#### ML"
   ]
  },
  {
   "cell_type": "code",
   "execution_count": 619,
   "metadata": {},
   "outputs": [],
   "source": [
    "model_data2 = model_data.select('label', 'features')\n",
    "train,validation = model_data2.randomSplit([0.8, 0.2], seed=42)"
   ]
  },
  {
   "cell_type": "code",
   "execution_count": 120,
   "metadata": {},
   "outputs": [],
   "source": [
    "# Models to train: logistic regression, svm, gradient boosting tree\n",
    "logistic_reg = LogisticRegression(maxIter=10, regParam = 0.0)\n",
    "gbt = GBTClassifier(maxDepth = 5, maxIter = 10, seed = 42)\n",
    "svm = LinearSVC (maxIter = 10, regParam = 0.01)"
   ]
  },
  {
   "cell_type": "markdown",
   "metadata": {},
   "source": [
    "##### Logistic Regression"
   ]
  },
  {
   "cell_type": "code",
   "execution_count": 121,
   "metadata": {},
   "outputs": [
    {
     "data": {
      "text/plain": [
       "[0.7394105124739777, 0.7473291276605951, 0.7523094613832269]"
      ]
     },
     "execution_count": 121,
     "metadata": {},
     "output_type": "execute_result"
    }
   ],
   "source": [
    "e1 = MulticlassClassificationEvaluator(metricName='f1')\n",
    "paramGrid = ParamGridBuilder() \\\n",
    "    .addGrid(logistic_reg.regParam,[0.0, 0.05, 0.1]) \\\n",
    "    .build()\n",
    "crossval = CrossValidator(estimator=logistic_reg,\n",
    "                          estimatorParamMaps=paramGrid,\n",
    "                          evaluator=e1,\n",
    "                          numFolds=3)\n",
    "cvModel_q1 = crossval.fit(train)\n",
    "cvModel_q1.avgMetrics"
   ]
  },
  {
   "cell_type": "code",
   "execution_count": 620,
   "metadata": {},
   "outputs": [
    {
     "data": {
      "text/plain": [
       "[0.7757843885075006, 0.7669136403776244, 0.7629631705286708]"
      ]
     },
     "execution_count": 620,
     "metadata": {},
     "output_type": "execute_result"
    }
   ],
   "source": [
    "e1 = MulticlassClassificationEvaluator(metricName='f1')\n",
    "paramGrid = ParamGridBuilder() \\\n",
    "    .addGrid(logistic_reg.regParam,[0.0, 0.05, 0.1]) \\\n",
    "    .build()\n",
    "crossval = CrossValidator(estimator=logistic_reg,\n",
    "                          estimatorParamMaps=paramGrid,\n",
    "                          evaluator=e1,\n",
    "                          numFolds=3)\n",
    "cvModel_q1 = crossval.fit(train)\n",
    "cvModel_q1.avgMetrics"
   ]
  },
  {
   "cell_type": "markdown",
   "metadata": {},
   "source": [
    "##### GBTClassifier"
   ]
  },
  {
   "cell_type": "code",
   "execution_count": 621,
   "metadata": {
    "collapsed": true
   },
   "outputs": [],
   "source": [
    "gbt_tuned = GBTClassifier(maxDepth=5, maxIter=10, seed=42)\n",
    "gbt_model = gbt_tuned.fit(train)\n",
    "results = gbt_model.transform(validation)"
   ]
  },
  {
   "cell_type": "code",
   "execution_count": 622,
   "metadata": {
    "collapsed": true
   },
   "outputs": [],
   "source": [
    "evaluator = MulticlassClassificationEvaluator(predictionCol=\"prediction\")"
   ]
  },
  {
   "cell_type": "code",
   "execution_count": 623,
   "metadata": {},
   "outputs": [
    {
     "name": "stdout",
     "output_type": "stream",
     "text": [
      "0.7884615384615384\n"
     ]
    }
   ],
   "source": [
    "print(evaluator.evaluate(results, {evaluator.metricName: \"accuracy\"}))"
   ]
  },
  {
   "cell_type": "code",
   "execution_count": 624,
   "metadata": {},
   "outputs": [
    {
     "name": "stdout",
     "output_type": "stream",
     "text": [
      "0.7825724871681565\n"
     ]
    }
   ],
   "source": [
    "print(evaluator.evaluate(results, {evaluator.metricName: \"f1\"}))"
   ]
  },
  {
   "cell_type": "code",
   "execution_count": 625,
   "metadata": {},
   "outputs": [
    {
     "data": {
      "image/png": "[encoded data removed]",
      "text/plain": [
       "<matplotlib.figure.Figure at 0x1edbd900b70>"
      ]
     },
     "metadata": {},
     "output_type": "display_data"
    }
   ],
   "source": [
    "importances = list(gbt_model.featureImportances)\n",
    "y_pos = np.arange(len(features))\n",
    "plt.barh(y_pos, importances, align='center')\n",
    "plt.yticks(y_pos, features)\n",
    "plt.xlabel('Importance Score')\n",
    "plt.title('GBT Feature Importances')\n",
    "plt.savefig('GBT feature Importance.png', dpi=72)"
   ]
  },
  {
   "cell_type": "code",
   "execution_count": null,
   "metadata": {
    "collapsed": true
   },
   "outputs": [],
   "source": []
  },
  {
   "cell_type": "code",
   "execution_count": null,
   "metadata": {
    "collapsed": true
   },
   "outputs": [],
   "source": []
  },
  {
   "cell_type": "markdown",
   "metadata": {},
   "source": [
    "# Final Steps\n",
    "Clean up your code, adding comments and renaming variables to make the code easier to read and maintain. Refer to the Spark Project Overview page and Data Scientist Capstone Project Rubric to make sure you are including all components of the capstone project and meet all expectations. Remember, this includes thorough documentation in a README file in a Github repository, as well as a web app or blog post."
   ]
  },
  {
   "cell_type": "code",
   "execution_count": null,
   "metadata": {
    "collapsed": true
   },
   "outputs": [],
   "source": []
  }
 ],
 "metadata": {
  "kernelspec": {
   "display_name": "Python 3",
   "language": "python",
   "name": "python3"
  },
  "language_info": {
   "codemirror_mode": {
    "name": "ipython",
    "version": 3
   },
   "file_extension": ".py",
   "mimetype": "text/x-python",
   "name": "python",
   "nbconvert_exporter": "python",
   "pygments_lexer": "ipython3",
   "version": "3.6.8"
  }
 },
 "nbformat": 4,
 "nbformat_minor": 2
}
