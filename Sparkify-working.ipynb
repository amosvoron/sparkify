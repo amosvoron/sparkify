{
 "cells": [
  {
   "cell_type": "markdown",
   "metadata": {},
   "source": [
    "# Sparkify Project Workspace\n",
    "This workspace contains a tiny subset (128MB) of the full dataset available (12GB). Feel free to use this workspace to build your project, or to explore a smaller subset with Spark before deploying your cluster on the cloud. Instructions for setting up your Spark cluster is included in the last lesson of the Extracurricular Spark Course content.\n",
    "\n",
    "You can follow the steps below to guide your data analysis and model building portion of this project."
   ]
  },
  {
   "cell_type": "code",
   "execution_count": 1193,
   "metadata": {},
   "outputs": [],
   "source": [
    "# import libraries\n",
    "from pyspark.sql import SparkSession\n",
    "from pyspark.sql.functions import isnan, count, when, col, desc, udf, col, sort_array, asc, countDistinct, \\\n",
    "    min, max, avg, split, round, lit\n",
    "from pyspark.sql.functions import sum as Fsum\n",
    "from pyspark.sql.window import Window\n",
    "\n",
    "from pyspark.sql.types import IntegerType, TimestampType, BooleanType\n",
    "import datetime\n",
    "\n",
    "import numpy as np\n",
    "import pandas as pd\n",
    "%matplotlib inline\n",
    "import matplotlib.pyplot as plt\n",
    "import seaborn as sb"
   ]
  },
  {
   "cell_type": "code",
   "execution_count": 1111,
   "metadata": {},
   "outputs": [],
   "source": [
    "# Create a Spark session\n",
    "spark = SparkSession \\\n",
    "    .builder \\\n",
    "    .appName(\"Sparkify\") \\\n",
    "    .getOrCreate()"
   ]
  },
  {
   "cell_type": "markdown",
   "metadata": {},
   "source": [
    "### Common Functions"
   ]
  },
  {
   "cell_type": "code",
   "execution_count": 1112,
   "metadata": {},
   "outputs": [],
   "source": [
    "# Set plot's figure size\n",
    "def set_plot_size(width, height):\n",
    "    return plt.figure(figsize = [width, height]);"
   ]
  },
  {
   "cell_type": "markdown",
   "metadata": {},
   "source": [
    "# Load and Clean Dataset\n",
    "In this workspace, the mini-dataset file is `mini_sparkify_event_data.json`. Load and clean the dataset, checking for invalid or missing data - for example, records without userids or sessionids. "
   ]
  },
  {
   "cell_type": "code",
   "execution_count": 583,
   "metadata": {},
   "outputs": [
    {
     "name": "stdout",
     "output_type": "stream",
     "text": [
      "root\n",
      " |-- artist: string (nullable = true)\n",
      " |-- auth: string (nullable = true)\n",
      " |-- gender: string (nullable = true)\n",
      " |-- itemInSession: long (nullable = true)\n",
      " |-- length: double (nullable = true)\n",
      " |-- level: string (nullable = true)\n",
      " |-- page: string (nullable = true)\n",
      " |-- registration: long (nullable = true)\n",
      " |-- sessionId: long (nullable = true)\n",
      " |-- song: string (nullable = true)\n",
      " |-- status: long (nullable = true)\n",
      " |-- ts: long (nullable = true)\n",
      " |-- userAgent: string (nullable = true)\n",
      " |-- userId: string (nullable = true)\n",
      " |-- regDate: timestamp (nullable = true)\n",
      " |-- tsDate: timestamp (nullable = true)\n",
      " |-- city: string (nullable = true)\n",
      " |-- state: string (nullable = true)\n",
      "\n"
     ]
    },
    {
     "data": {
      "text/plain": [
       "[Row(artist='Martha Tilston', auth='Logged In', gender='M', itemInSession=50, length=277.89016, level='paid', page='NextSong', registration=1538173362000, sessionId=29, song='Rockpools', status=200, ts=1538352117000, userAgent='Mozilla/5.0 (Windows NT 6.1; WOW64; rv:31.0) Gecko/20100101 Firefox/31.0', userId='30', regDate=datetime.datetime(2018, 9, 29, 0, 22, 42), tsDate=datetime.datetime(2018, 10, 1, 2, 1, 57), city='Bakersfield', state=' CA'),\n",
       " Row(artist='Five Iron Frenzy', auth='Logged In', gender='M', itemInSession=79, length=236.09424, level='free', page='NextSong', registration=1538331630000, sessionId=8, song='Canada', status=200, ts=1538352180000, userAgent='\"Mozilla/5.0 (Windows NT 6.1; WOW64) AppleWebKit/537.36 (KHTML, like Gecko) Chrome/37.0.2062.103 Safari/537.36\"', userId='9', regDate=datetime.datetime(2018, 9, 30, 20, 20, 30), tsDate=datetime.datetime(2018, 10, 1, 2, 3), city='Boston-Cambridge-Newton', state=' MA-NH'),\n",
       " Row(artist='Adam Lambert', auth='Logged In', gender='M', itemInSession=51, length=282.8273, level='paid', page='NextSong', registration=1538173362000, sessionId=29, song='Time For Miracles', status=200, ts=1538352394000, userAgent='Mozilla/5.0 (Windows NT 6.1; WOW64; rv:31.0) Gecko/20100101 Firefox/31.0', userId='30', regDate=datetime.datetime(2018, 9, 29, 0, 22, 42), tsDate=datetime.datetime(2018, 10, 1, 2, 6, 34), city='Bakersfield', state=' CA')]"
      ]
     },
     "execution_count": 583,
     "metadata": {},
     "output_type": "execute_result"
    }
   ],
   "source": [
    "# Load dataset\n",
    "path = \"data/mini_sparkify_event_data.json\"\n",
    "data = spark.read.json(path)\n",
    "original_count = data.count()\n",
    "\n",
    "# Remove rows with missing users\n",
    "data = data.where(~((col('userId').isNull()) | (col('userId') == '')))\n",
    "\n",
    "# Exclude non-relevant columns\n",
    "data = data.drop('firstName')\n",
    "data = data.drop('lastName')\n",
    "data = data.drop('method')\n",
    "\n",
    "data = data.withColumn('regDate', (col('registration') / 1000.0).cast(TimestampType()))\n",
    "data = data.withColumn('tsDate', (col('ts') / 1000.0).cast(TimestampType()))\n",
    "data.take(1)\n",
    "\n",
    "data = data.withColumn('city', split(data['location'], ',')[0])\n",
    "data = data.withColumn('state', split(data['location'], ',')[1])\n",
    "data = data.drop('location')\n",
    "\n",
    "data.printSchema()\n",
    "data.take(3)"
   ]
  },
  {
   "cell_type": "markdown",
   "metadata": {},
   "source": [
    "# Exploratory Data Analysis\n",
    "When you're working with the full dataset, perform EDA by loading a small subset of the data and doing basic manipulations within Spark. In this workspace, you are already provided a small subset of data you can explore.\n",
    "\n",
    "### Define Churn\n",
    "\n",
    "Once you've done some preliminary analysis, create a column `Churn` to use as the label for your model. I suggest using the `Cancellation Confirmation` events to define your churn, which happen for both paid and free users. As a bonus task, you can also look into the `Downgrade` events.\n",
    "\n",
    "### Explore Data\n",
    "Once you've defined churn, perform some exploratory data analysis to observe the behavior for users who stayed vs users who churned. You can start by exploring aggregates on these two groups of users, observing how much of a specific action they experienced per a certain time unit or number of songs played."
   ]
  },
  {
   "cell_type": "markdown",
   "metadata": {},
   "source": [
    "### EDA on churned users"
   ]
  },
  {
   "cell_type": "code",
   "execution_count": 584,
   "metadata": {},
   "outputs": [],
   "source": [
    "cols = ['tsDate', 'auth', 'level', 'page', 'status', 'song', 'artist', 'length', 'Churn']"
   ]
  },
  {
   "cell_type": "code",
   "execution_count": 640,
   "metadata": {},
   "outputs": [
    {
     "data": {
      "text/plain": [
       "52"
      ]
     },
     "execution_count": 640,
     "metadata": {},
     "output_type": "execute_result"
    }
   ],
   "source": [
    "# Count churned users using Cancellation Confirmation evet\n",
    "data.where(data.page == 'Cancellation Confirmation').dropDuplicates().count()"
   ]
  },
  {
   "cell_type": "code",
   "execution_count": 797,
   "metadata": {},
   "outputs": [
    {
     "data": {
      "text/plain": [
       "52"
      ]
     },
     "execution_count": 797,
     "metadata": {},
     "output_type": "execute_result"
    }
   ],
   "source": [
    "# Label churned users\n",
    "\n",
    "# extract churned users\n",
    "churned = data.where(data.page.isin(['Cancellation Confirmation'])) \\\n",
    "    .dropDuplicates() \\\n",
    "    .select('userId') \\\n",
    "    .collect()\n",
    "\n",
    "# add new column using churned list\n",
    "churned_uids = [x.userId for x in churned];\n",
    "is_churn = udf(lambda x: 1 if x in churned_uids else 0, IntegerType())\n",
    "data = data.withColumn('churn', is_churn('userId'))\n",
    "data.take(3)\n",
    "\n",
    "# check\n",
    "data.where(data.churn == True).select('userId').dropDuplicates().count()"
   ]
  },
  {
   "cell_type": "code",
   "execution_count": 1114,
   "metadata": {},
   "outputs": [
    {
     "name": "stdout",
     "output_type": "stream",
     "text": [
      "52\n",
      "173\n"
     ]
    }
   ],
   "source": [
    "n_churned = len(churned)\n",
    "n_active = data.select('userId').dropDuplicates().count() - n_churned\n",
    "print(n_churned)\n",
    "print(n_active)"
   ]
  },
  {
   "cell_type": "markdown",
   "metadata": {},
   "source": [
    "#### Churn vs. Gender"
   ]
  },
  {
   "cell_type": "code",
   "execution_count": 1113,
   "metadata": {},
   "outputs": [
    {
     "data": {
      "image/png": "[encoded data removed]",
      "text/plain": [
       "<Figure size 360x360 with 1 Axes>"
      ]
     },
     "metadata": {
      "needs_background": "light"
     },
     "output_type": "display_data"
    }
   ],
   "source": [
    "def calc_churn_share(row):\n",
    "    if row['gender'] == 'M':\n",
    "        return row['count']/row['M_total']\n",
    "    else:\n",
    "        return row['count']/row['F_total']\n",
    "\n",
    "# prepare data\n",
    "df = data \\\n",
    "    .groupby('gender', 'churn') \\\n",
    "    .count() \\\n",
    "    .withColumn('M_total', lit(data.where(data.gender == 'M').count())) \\\n",
    "    .withColumn('F_total', lit(data.where(data.gender == 'F').count())) \\\n",
    "    .toPandas()\n",
    "\n",
    "df['churn_share'] = df.apply(lambda row: calc_churn_share(row), axis=1)\n",
    "df1 = df[df.gender == 'M'].sort_values(by='churn')['churn_share']\n",
    "df2 = df[df.gender == 'F'].sort_values(by='churn')['churn_share']\n",
    "\n",
    "# plot\n",
    "plt.figure(figsize = [5, 5])\n",
    "width =0.4\n",
    "labels = ['Active', 'Churned']\n",
    "plt.xticks(range(2), labels)\n",
    "plt.xlabel('Gender')\n",
    "plt.ylabel('Churn')\n",
    "plt.bar(np.arange(len(df1)), df1, width=width)\n",
    "plt.bar(np.arange(len(df2))+ width, df2, width=width)\n",
    "ax = plt.gca()\n",
    "ax.set_title('Churn vs. Gender');\n",
    "plt.legend(['Male', 'Female'], loc=1)\n",
    "plt.show()"
   ]
  },
  {
   "cell_type": "markdown",
   "metadata": {},
   "source": [
    "#### Churn vs. Level"
   ]
  },
  {
   "cell_type": "code",
   "execution_count": 874,
   "metadata": {},
   "outputs": [
    {
     "data": {
      "image/png": "[encoded data removed]",
      "text/plain": [
       "<Figure size 360x360 with 1 Axes>"
      ]
     },
     "metadata": {
      "needs_background": "light"
     },
     "output_type": "display_data"
    }
   ],
   "source": [
    "def calc_churn_share(row):\n",
    "    if row['level'] == 'paid':\n",
    "        return row['count']/row['paid_total']\n",
    "    else:\n",
    "        return row['count']/row['free_total']\n",
    "\n",
    "# prepare data\n",
    "df = data \\\n",
    "    .groupby('level', 'churn') \\\n",
    "    .count() \\\n",
    "    .withColumn('paid_total', lit(data.where(data.level == 'paid').count())) \\\n",
    "    .withColumn('free_total', lit(data.where(data.level == 'free').count())) \\\n",
    "    .toPandas()\n",
    "\n",
    "df['churn_share'] = df.apply(lambda row: calc_churn_share(row), axis=1)\n",
    "df1 = df[df.level == 'paid'].sort_values(by='churn')['churn_share']\n",
    "df2 = df[df.level == 'free'].sort_values(by='churn')['churn_share']\n",
    "\n",
    "# plot\n",
    "plt.figure(figsize = [5, 5])\n",
    "width = 0.4\n",
    "labels = ['Active', 'Churned']\n",
    "plt.xticks(range(2), labels)\n",
    "plt.xlabel('Level')\n",
    "plt.ylabel('Churn')\n",
    "plt.bar(np.arange(len(df1)), df1, width=width)\n",
    "plt.bar(np.arange(len(df2))+width, df2, width=width)\n",
    "ax = plt.gca()\n",
    "ax.set_title('Churn vs. Level');\n",
    "plt.legend(['paid', 'free'], loc=1)\n",
    "plt.show()"
   ]
  },
  {
   "cell_type": "code",
   "execution_count": 988,
   "metadata": {},
   "outputs": [
    {
     "data": {
      "image/png": "[encoded data removed]",
      "text/plain": [
       "<Figure size 864x360 with 1 Axes>"
      ]
     },
     "metadata": {
      "needs_background": "light"
     },
     "output_type": "display_data"
    }
   ],
   "source": [
    "states.sort_values(by='churn_share', ascending=False) \\\n",
    "    .plot(x = states.index, y = 'churn_share', kind='bar', figsize = (12, 5), width=0.6);\n",
    "ax = plt.gca()\n",
    "ax.set_title('Churn vs. Location (state)');\n",
    "plt.xlabel('Location (state)')\n",
    "plt.ylabel('Churn')\n",
    "plt.show()"
   ]
  },
  {
   "cell_type": "code",
   "execution_count": 986,
   "metadata": {},
   "outputs": [
    {
     "data": {
      "image/png": "[encoded data removed]",
      "text/plain": [
       "<Figure size 1152x504 with 1 Axes>"
      ]
     },
     "metadata": {
      "needs_background": "light"
     },
     "output_type": "display_data"
    }
   ],
   "source": [
    "df = data \\\n",
    "    .select('churn', 'state', 'userId') \\\n",
    "    .dropDuplicates() \\\n",
    "    .groupby('churn', 'state') \\\n",
    "    .count() \\\n",
    "    .toPandas().set_index('state')\n",
    "\n",
    "states = df[df.churn == 0].join(df[df.churn == 1], lsuffix='_active', rsuffix='_churn') \\\n",
    "                          .dropna()[['count_active', 'count_churn']]\n",
    "states.count_churn = states.count_churn.astype(int)\n",
    "states['churn_share'] = states['count_churn']/(states['count_churn'] + states['count_active'])\n",
    "\n",
    "states.sort_values(by='churn_share', ascending=False) \\\n",
    "    .plot(x = states.index, y = 'churn_share', kind='bar', figsize = (12, 5), width=0.6);\n",
    "ax = plt.gca()\n",
    "ax.set_title('Churn vs. Location (state)');\n",
    "plt.xlabel('Location (state)')\n",
    "plt.ylabel('Churn')\n",
    "plt.show()"
   ]
  },
  {
   "cell_type": "code",
   "execution_count": null,
   "metadata": {},
   "outputs": [],
   "source": []
  },
  {
   "cell_type": "markdown",
   "metadata": {},
   "source": [
    "Once you've defined churn, perform some exploratory data analysis to observe the behavior for users who stayed vs users who churned. You can start by exploring aggregates on these two groups of users, observing how much of a specific action they experienced per a certain time unit or number of songs played."
   ]
  },
  {
   "cell_type": "markdown",
   "metadata": {},
   "source": [
    "### Churn vs page activity"
   ]
  },
  {
   "cell_type": "code",
   "execution_count": 1010,
   "metadata": {},
   "outputs": [
    {
     "data": {
      "text/html": [
       "<div>\n",
       "<style scoped>\n",
       "    .dataframe tbody tr th:only-of-type {\n",
       "        vertical-align: middle;\n",
       "    }\n",
       "\n",
       "    .dataframe tbody tr th {\n",
       "        vertical-align: top;\n",
       "    }\n",
       "\n",
       "    .dataframe thead th {\n",
       "        text-align: right;\n",
       "    }\n",
       "</style>\n",
       "<table border=\"1\" class=\"dataframe\">\n",
       "  <thead>\n",
       "    <tr style=\"text-align: right;\">\n",
       "      <th></th>\n",
       "      <th>churn</th>\n",
       "      <th>count</th>\n",
       "    </tr>\n",
       "    <tr>\n",
       "      <th>page</th>\n",
       "      <th></th>\n",
       "      <th></th>\n",
       "    </tr>\n",
       "  </thead>\n",
       "  <tbody>\n",
       "    <tr>\n",
       "      <th>Save Settings</th>\n",
       "      <td>0</td>\n",
       "      <td>102</td>\n",
       "    </tr>\n",
       "    <tr>\n",
       "      <th>Logout</th>\n",
       "      <td>1</td>\n",
       "      <td>46</td>\n",
       "    </tr>\n",
       "    <tr>\n",
       "      <th>Submit Downgrade</th>\n",
       "      <td>0</td>\n",
       "      <td>40</td>\n",
       "    </tr>\n",
       "    <tr>\n",
       "      <th>NextSong</th>\n",
       "      <td>0</td>\n",
       "      <td>173</td>\n",
       "    </tr>\n",
       "    <tr>\n",
       "      <th>Save Settings</th>\n",
       "      <td>1</td>\n",
       "      <td>30</td>\n",
       "    </tr>\n",
       "    <tr>\n",
       "      <th>Roll Advert</th>\n",
       "      <td>1</td>\n",
       "      <td>50</td>\n",
       "    </tr>\n",
       "    <tr>\n",
       "      <th>Add Friend</th>\n",
       "      <td>0</td>\n",
       "      <td>162</td>\n",
       "    </tr>\n",
       "    <tr>\n",
       "      <th>Error</th>\n",
       "      <td>0</td>\n",
       "      <td>95</td>\n",
       "    </tr>\n",
       "    <tr>\n",
       "      <th>Add to Playlist</th>\n",
       "      <td>0</td>\n",
       "      <td>165</td>\n",
       "    </tr>\n",
       "    <tr>\n",
       "      <th>About</th>\n",
       "      <td>0</td>\n",
       "      <td>124</td>\n",
       "    </tr>\n",
       "    <tr>\n",
       "      <th>Settings</th>\n",
       "      <td>1</td>\n",
       "      <td>43</td>\n",
       "    </tr>\n",
       "    <tr>\n",
       "      <th>Submit Upgrade</th>\n",
       "      <td>1</td>\n",
       "      <td>29</td>\n",
       "    </tr>\n",
       "    <tr>\n",
       "      <th>Thumbs Up</th>\n",
       "      <td>0</td>\n",
       "      <td>170</td>\n",
       "    </tr>\n",
       "    <tr>\n",
       "      <th>Cancellation Confirmation</th>\n",
       "      <td>1</td>\n",
       "      <td>52</td>\n",
       "    </tr>\n",
       "    <tr>\n",
       "      <th>Add to Playlist</th>\n",
       "      <td>1</td>\n",
       "      <td>50</td>\n",
       "    </tr>\n",
       "    <tr>\n",
       "      <th>NextSong</th>\n",
       "      <td>1</td>\n",
       "      <td>52</td>\n",
       "    </tr>\n",
       "    <tr>\n",
       "      <th>Home</th>\n",
       "      <td>1</td>\n",
       "      <td>51</td>\n",
       "    </tr>\n",
       "    <tr>\n",
       "      <th>Upgrade</th>\n",
       "      <td>1</td>\n",
       "      <td>37</td>\n",
       "    </tr>\n",
       "    <tr>\n",
       "      <th>Thumbs Down</th>\n",
       "      <td>0</td>\n",
       "      <td>155</td>\n",
       "    </tr>\n",
       "    <tr>\n",
       "      <th>Submit Downgrade</th>\n",
       "      <td>1</td>\n",
       "      <td>9</td>\n",
       "    </tr>\n",
       "    <tr>\n",
       "      <th>Help</th>\n",
       "      <td>1</td>\n",
       "      <td>43</td>\n",
       "    </tr>\n",
       "    <tr>\n",
       "      <th>Add Friend</th>\n",
       "      <td>1</td>\n",
       "      <td>44</td>\n",
       "    </tr>\n",
       "    <tr>\n",
       "      <th>Help</th>\n",
       "      <td>0</td>\n",
       "      <td>149</td>\n",
       "    </tr>\n",
       "    <tr>\n",
       "      <th>Settings</th>\n",
       "      <td>0</td>\n",
       "      <td>152</td>\n",
       "    </tr>\n",
       "    <tr>\n",
       "      <th>Roll Advert</th>\n",
       "      <td>0</td>\n",
       "      <td>157</td>\n",
       "    </tr>\n",
       "    <tr>\n",
       "      <th>Downgrade</th>\n",
       "      <td>1</td>\n",
       "      <td>35</td>\n",
       "    </tr>\n",
       "    <tr>\n",
       "      <th>Cancel</th>\n",
       "      <td>1</td>\n",
       "      <td>52</td>\n",
       "    </tr>\n",
       "    <tr>\n",
       "      <th>About</th>\n",
       "      <td>1</td>\n",
       "      <td>31</td>\n",
       "    </tr>\n",
       "    <tr>\n",
       "      <th>Logout</th>\n",
       "      <td>0</td>\n",
       "      <td>167</td>\n",
       "    </tr>\n",
       "    <tr>\n",
       "      <th>Home</th>\n",
       "      <td>0</td>\n",
       "      <td>172</td>\n",
       "    </tr>\n",
       "    <tr>\n",
       "      <th>Thumbs Down</th>\n",
       "      <td>1</td>\n",
       "      <td>48</td>\n",
       "    </tr>\n",
       "    <tr>\n",
       "      <th>Thumbs Up</th>\n",
       "      <td>1</td>\n",
       "      <td>50</td>\n",
       "    </tr>\n",
       "    <tr>\n",
       "      <th>Upgrade</th>\n",
       "      <td>0</td>\n",
       "      <td>131</td>\n",
       "    </tr>\n",
       "    <tr>\n",
       "      <th>Downgrade</th>\n",
       "      <td>0</td>\n",
       "      <td>119</td>\n",
       "    </tr>\n",
       "    <tr>\n",
       "      <th>Submit Upgrade</th>\n",
       "      <td>0</td>\n",
       "      <td>102</td>\n",
       "    </tr>\n",
       "    <tr>\n",
       "      <th>Error</th>\n",
       "      <td>1</td>\n",
       "      <td>22</td>\n",
       "    </tr>\n",
       "  </tbody>\n",
       "</table>\n",
       "</div>"
      ],
      "text/plain": [
       "                           churn  count\n",
       "page                                   \n",
       "Save Settings                  0    102\n",
       "Logout                         1     46\n",
       "Submit Downgrade               0     40\n",
       "NextSong                       0    173\n",
       "Save Settings                  1     30\n",
       "Roll Advert                    1     50\n",
       "Add Friend                     0    162\n",
       "Error                          0     95\n",
       "Add to Playlist                0    165\n",
       "About                          0    124\n",
       "Settings                       1     43\n",
       "Submit Upgrade                 1     29\n",
       "Thumbs Up                      0    170\n",
       "Cancellation Confirmation      1     52\n",
       "Add to Playlist                1     50\n",
       "NextSong                       1     52\n",
       "Home                           1     51\n",
       "Upgrade                        1     37\n",
       "Thumbs Down                    0    155\n",
       "Submit Downgrade               1      9\n",
       "Help                           1     43\n",
       "Add Friend                     1     44\n",
       "Help                           0    149\n",
       "Settings                       0    152\n",
       "Roll Advert                    0    157\n",
       "Downgrade                      1     35\n",
       "Cancel                         1     52\n",
       "About                          1     31\n",
       "Logout                         0    167\n",
       "Home                           0    172\n",
       "Thumbs Down                    1     48\n",
       "Thumbs Up                      1     50\n",
       "Upgrade                        0    131\n",
       "Downgrade                      0    119\n",
       "Submit Upgrade                 0    102\n",
       "Error                          1     22"
      ]
     },
     "execution_count": 1010,
     "metadata": {},
     "output_type": "execute_result"
    }
   ],
   "source": [
    "df = data \\\n",
    "    .select('churn', 'page', 'userId') \\\n",
    "    .dropDuplicates() \\\n",
    "    .groupby('churn', 'page') \\\n",
    "    .count() \\\n",
    "    .toPandas().set_index('page')\n",
    "df"
   ]
  },
  {
   "cell_type": "code",
   "execution_count": 1117,
   "metadata": {
    "scrolled": true
   },
   "outputs": [
    {
     "data": {
      "text/html": [
       "<div>\n",
       "<style scoped>\n",
       "    .dataframe tbody tr th:only-of-type {\n",
       "        vertical-align: middle;\n",
       "    }\n",
       "\n",
       "    .dataframe tbody tr th {\n",
       "        vertical-align: top;\n",
       "    }\n",
       "\n",
       "    .dataframe thead th {\n",
       "        text-align: right;\n",
       "    }\n",
       "</style>\n",
       "<table border=\"1\" class=\"dataframe\">\n",
       "  <thead>\n",
       "    <tr style=\"text-align: right;\">\n",
       "      <th></th>\n",
       "      <th>churn</th>\n",
       "      <th>count</th>\n",
       "    </tr>\n",
       "    <tr>\n",
       "      <th>page</th>\n",
       "      <th></th>\n",
       "      <th></th>\n",
       "    </tr>\n",
       "  </thead>\n",
       "  <tbody>\n",
       "    <tr>\n",
       "      <th>Save Settings</th>\n",
       "      <td>0</td>\n",
       "      <td>252</td>\n",
       "    </tr>\n",
       "    <tr>\n",
       "      <th>Logout</th>\n",
       "      <td>1</td>\n",
       "      <td>553</td>\n",
       "    </tr>\n",
       "    <tr>\n",
       "      <th>Submit Downgrade</th>\n",
       "      <td>0</td>\n",
       "      <td>54</td>\n",
       "    </tr>\n",
       "    <tr>\n",
       "      <th>Save Settings</th>\n",
       "      <td>1</td>\n",
       "      <td>58</td>\n",
       "    </tr>\n",
       "    <tr>\n",
       "      <th>Roll Advert</th>\n",
       "      <td>1</td>\n",
       "      <td>967</td>\n",
       "    </tr>\n",
       "    <tr>\n",
       "      <th>Add Friend</th>\n",
       "      <td>0</td>\n",
       "      <td>3641</td>\n",
       "    </tr>\n",
       "    <tr>\n",
       "      <th>Error</th>\n",
       "      <td>0</td>\n",
       "      <td>220</td>\n",
       "    </tr>\n",
       "    <tr>\n",
       "      <th>Add to Playlist</th>\n",
       "      <td>0</td>\n",
       "      <td>5488</td>\n",
       "    </tr>\n",
       "    <tr>\n",
       "      <th>About</th>\n",
       "      <td>0</td>\n",
       "      <td>439</td>\n",
       "    </tr>\n",
       "    <tr>\n",
       "      <th>Settings</th>\n",
       "      <td>1</td>\n",
       "      <td>270</td>\n",
       "    </tr>\n",
       "    <tr>\n",
       "      <th>Submit Upgrade</th>\n",
       "      <td>1</td>\n",
       "      <td>32</td>\n",
       "    </tr>\n",
       "    <tr>\n",
       "      <th>Thumbs Up</th>\n",
       "      <td>0</td>\n",
       "      <td>10692</td>\n",
       "    </tr>\n",
       "    <tr>\n",
       "      <th>Cancellation Confirmation</th>\n",
       "      <td>1</td>\n",
       "      <td>52</td>\n",
       "    </tr>\n",
       "    <tr>\n",
       "      <th>Add to Playlist</th>\n",
       "      <td>1</td>\n",
       "      <td>1038</td>\n",
       "    </tr>\n",
       "    <tr>\n",
       "      <th>Home</th>\n",
       "      <td>1</td>\n",
       "      <td>1672</td>\n",
       "    </tr>\n",
       "    <tr>\n",
       "      <th>Upgrade</th>\n",
       "      <td>1</td>\n",
       "      <td>112</td>\n",
       "    </tr>\n",
       "    <tr>\n",
       "      <th>Thumbs Down</th>\n",
       "      <td>0</td>\n",
       "      <td>2050</td>\n",
       "    </tr>\n",
       "    <tr>\n",
       "      <th>Submit Downgrade</th>\n",
       "      <td>1</td>\n",
       "      <td>9</td>\n",
       "    </tr>\n",
       "    <tr>\n",
       "      <th>Help</th>\n",
       "      <td>1</td>\n",
       "      <td>239</td>\n",
       "    </tr>\n",
       "    <tr>\n",
       "      <th>Add Friend</th>\n",
       "      <td>1</td>\n",
       "      <td>636</td>\n",
       "    </tr>\n",
       "    <tr>\n",
       "      <th>Help</th>\n",
       "      <td>0</td>\n",
       "      <td>1215</td>\n",
       "    </tr>\n",
       "    <tr>\n",
       "      <th>Roll Advert</th>\n",
       "      <td>0</td>\n",
       "      <td>2966</td>\n",
       "    </tr>\n",
       "    <tr>\n",
       "      <th>Settings</th>\n",
       "      <td>0</td>\n",
       "      <td>1244</td>\n",
       "    </tr>\n",
       "    <tr>\n",
       "      <th>Downgrade</th>\n",
       "      <td>1</td>\n",
       "      <td>337</td>\n",
       "    </tr>\n",
       "    <tr>\n",
       "      <th>Cancel</th>\n",
       "      <td>1</td>\n",
       "      <td>52</td>\n",
       "    </tr>\n",
       "    <tr>\n",
       "      <th>About</th>\n",
       "      <td>1</td>\n",
       "      <td>56</td>\n",
       "    </tr>\n",
       "    <tr>\n",
       "      <th>Logout</th>\n",
       "      <td>0</td>\n",
       "      <td>2673</td>\n",
       "    </tr>\n",
       "    <tr>\n",
       "      <th>Home</th>\n",
       "      <td>0</td>\n",
       "      <td>8410</td>\n",
       "    </tr>\n",
       "    <tr>\n",
       "      <th>Thumbs Down</th>\n",
       "      <td>1</td>\n",
       "      <td>496</td>\n",
       "    </tr>\n",
       "    <tr>\n",
       "      <th>Thumbs Up</th>\n",
       "      <td>1</td>\n",
       "      <td>1859</td>\n",
       "    </tr>\n",
       "    <tr>\n",
       "      <th>Upgrade</th>\n",
       "      <td>0</td>\n",
       "      <td>387</td>\n",
       "    </tr>\n",
       "    <tr>\n",
       "      <th>Downgrade</th>\n",
       "      <td>0</td>\n",
       "      <td>1718</td>\n",
       "    </tr>\n",
       "    <tr>\n",
       "      <th>Submit Upgrade</th>\n",
       "      <td>0</td>\n",
       "      <td>127</td>\n",
       "    </tr>\n",
       "    <tr>\n",
       "      <th>Error</th>\n",
       "      <td>1</td>\n",
       "      <td>32</td>\n",
       "    </tr>\n",
       "  </tbody>\n",
       "</table>\n",
       "</div>"
      ],
      "text/plain": [
       "                           churn  count\n",
       "page                                   \n",
       "Save Settings                  0    252\n",
       "Logout                         1    553\n",
       "Submit Downgrade               0     54\n",
       "Save Settings                  1     58\n",
       "Roll Advert                    1    967\n",
       "Add Friend                     0   3641\n",
       "Error                          0    220\n",
       "Add to Playlist                0   5488\n",
       "About                          0    439\n",
       "Settings                       1    270\n",
       "Submit Upgrade                 1     32\n",
       "Thumbs Up                      0  10692\n",
       "Cancellation Confirmation      1     52\n",
       "Add to Playlist                1   1038\n",
       "Home                           1   1672\n",
       "Upgrade                        1    112\n",
       "Thumbs Down                    0   2050\n",
       "Submit Downgrade               1      9\n",
       "Help                           1    239\n",
       "Add Friend                     1    636\n",
       "Help                           0   1215\n",
       "Roll Advert                    0   2966\n",
       "Settings                       0   1244\n",
       "Downgrade                      1    337\n",
       "Cancel                         1     52\n",
       "About                          1     56\n",
       "Logout                         0   2673\n",
       "Home                           0   8410\n",
       "Thumbs Down                    1    496\n",
       "Thumbs Up                      1   1859\n",
       "Upgrade                        0    387\n",
       "Downgrade                      0   1718\n",
       "Submit Upgrade                 0    127\n",
       "Error                          1     32"
      ]
     },
     "execution_count": 1117,
     "metadata": {},
     "output_type": "execute_result"
    }
   ],
   "source": [
    "df = data \\\n",
    "    .where(data.page != 'NextSong') \\\n",
    "    .groupby('churn', 'page') \\\n",
    "    .count() \\\n",
    "    .toPandas().set_index('page')\n",
    "df"
   ]
  },
  {
   "cell_type": "code",
   "execution_count": 1118,
   "metadata": {
    "collapsed": true
   },
   "outputs": [
    {
     "data": {
      "image/png": "[encoded data removed]",
      "text/plain": [
       "<Figure size 864x360 with 1 Axes>"
      ]
     },
     "metadata": {
      "needs_background": "light"
     },
     "output_type": "display_data"
    }
   ],
   "source": [
    "# Churned\n",
    "df_churned = df[df.churn == 1].copy()\n",
    "total = df_churned['count'].sum()\n",
    "df_churned['share'] = df_churned['count']/total\n",
    "df_churned = df_churned.sort_values(by='share', ascending=False)\n",
    "df_churned.plot(x = df_churned.index, y = 'share', kind='bar', figsize = (12, 5), width=0.6);\n",
    "ax = plt.gca()\n",
    "ax.set_title('Churned users vs. Activity');\n",
    "plt.xlabel('Activity (page)')\n",
    "plt.ylabel('Share')\n",
    "plt.show()"
   ]
  },
  {
   "cell_type": "code",
   "execution_count": 1119,
   "metadata": {},
   "outputs": [
    {
     "data": {
      "image/png": "[encoded data removed]",
      "text/plain": [
       "<Figure size 864x360 with 1 Axes>"
      ]
     },
     "metadata": {
      "needs_background": "light"
     },
     "output_type": "display_data"
    }
   ],
   "source": [
    "# Active\n",
    "df_active = df[df.churn == 0].copy()\n",
    "total = df_active['count'].sum()\n",
    "df_active['share'] = df_active['count']/total\n",
    "df_active = df_active.sort_values(by='share', ascending=False)\n",
    "df_active.plot(x = df_active.index, y = 'share', kind='bar', figsize = (12, 5), width=0.6);\n",
    "ax = plt.gca()\n",
    "ax.set_title('Active users vs. Activity');\n",
    "plt.xlabel('Activity (page)')\n",
    "plt.ylabel('Share')\n",
    "plt.show()"
   ]
  },
  {
   "cell_type": "code",
   "execution_count": 1134,
   "metadata": {},
   "outputs": [
    {
     "name": "stdout",
     "output_type": "stream",
     "text": [
      "41576\n",
      "8470\n"
     ]
    },
    {
     "data": {
      "image/png": "[encoded data removed]",
      "text/plain": [
       "<Figure size 1080x504 with 1 Axes>"
      ]
     },
     "metadata": {
      "needs_background": "light"
     },
     "output_type": "display_data"
    }
   ],
   "source": [
    "# Active\n",
    "df_active = df[df.churn == 0].copy()\n",
    "total_active = df_active['count'].sum()\n",
    "df_active['share'] = df_active['count']/total_active\n",
    "df1 = df_active.share\n",
    "print(total_active)\n",
    "\n",
    "# Churned\n",
    "df_churned = df[df.churn == 1].copy()\n",
    "total_churned = df_churned['count'].sum()\n",
    "df_churned['share'] = df_churned['count']/total_churned\n",
    "df2 = df_churned.share\n",
    "print(total_churned)\n",
    "\n",
    "# plot\n",
    "plt.figure(figsize = [15, 7])\n",
    "width = 0.35\n",
    "labels = df.index.values\n",
    "plt.xticks(range(len(labels)), labels)\n",
    "plt.xlabel('Activity (page)')\n",
    "plt.ylabel('Share')\n",
    "plt.bar(np.arange(len(df1)), df1, width=width)\n",
    "plt.bar(np.arange(len(df2))+width, df2, width=width)\n",
    "plt.xticks(rotation = 90);\n",
    "ax = plt.gca()\n",
    "ax.set_title('Churn vs. Activity');\n",
    "plt.legend(['Active', 'Churned'], loc=1)\n",
    "plt.show()\n"
   ]
  },
  {
   "cell_type": "markdown",
   "metadata": {},
   "source": [
    "### Examine Session"
   ]
  },
  {
   "cell_type": "code",
   "execution_count": 1142,
   "metadata": {},
   "outputs": [],
   "source": [
    "cols = ['sessionId', 'itemInSession', 'userId', 'tsDate', 'page']"
   ]
  },
  {
   "cell_type": "code",
   "execution_count": 1143,
   "metadata": {},
   "outputs": [
    {
     "name": "stdout",
     "output_type": "stream",
     "text": [
      "+---------+-------------+------+-------------------+--------+\n",
      "|sessionId|itemInSession|userId|             tsDate|    page|\n",
      "+---------+-------------+------+-------------------+--------+\n",
      "|      149|            0|300009|2018-10-17 11:20:34|NextSong|\n",
      "|      183|            0|300021|2018-10-18 18:50:46|    Help|\n",
      "|      173|            0|300023|2018-10-17 16:12:25|NextSong|\n",
      "|      160|            0|300025|2018-10-17 07:41:52|NextSong|\n",
      "|      178|            0|300021|2018-10-17 17:24:57|    Home|\n",
      "|      138|            0|300001|2018-10-18 01:45:39|    Home|\n",
      "|      179|            0|300009|2018-10-18 17:51:27|NextSong|\n",
      "|      120|            0|300019|2018-10-18 07:24:43|    Home|\n",
      "|      166|            0|300011|2018-10-16 20:07:35|    Home|\n",
      "|       91|            0|300014|2018-10-18 10:46:39|    Home|\n",
      "+---------+-------------+------+-------------------+--------+\n",
      "only showing top 10 rows\n",
      "\n"
     ]
    }
   ],
   "source": [
    "data.select(cols).sort('itemInSession').show(10)"
   ]
  },
  {
   "cell_type": "code",
   "execution_count": 1174,
   "metadata": {},
   "outputs": [
    {
     "name": "stdout",
     "output_type": "stream",
     "text": [
      "+------+---------+-------------------+-------------------+--------+\n",
      "|userId|sessionId|          startDate|            endDate|logCount|\n",
      "+------+---------+-------------------+-------------------+--------+\n",
      "|    10|        9|2018-10-08 04:20:20|2018-10-08 08:16:12|      70|\n",
      "|    10|      595|2018-10-18 05:38:43|2018-10-19 07:26:38|     449|\n",
      "|    10|     1047|2018-10-29 23:02:26|2018-10-30 00:33:51|      25|\n",
      "|    10|     1414|2018-11-03 15:27:42|2018-11-03 19:43:18|      78|\n",
      "|    10|     1592|2018-11-15 20:34:26|2018-11-16 01:26:29|      78|\n",
      "|    10|     1981|2018-11-19 08:14:10|2018-11-19 13:49:48|      95|\n",
      "+------+---------+-------------------+-------------------+--------+\n",
      "\n"
     ]
    }
   ],
   "source": [
    "# Aggregate a given user by session extracting session's startDate, endDate, end log count\n",
    "data.where(data.userId == 10) \\\n",
    "    .groupby('userId', 'sessionId') \\\n",
    "    .agg(min('tsDate').alias('startDate'), max('tsDate').alias('endDate'), count('sessionId').alias('logCount')) \\\n",
    "    .sort('sessionId') \\\n",
    "    .show()"
   ]
  },
  {
   "cell_type": "code",
   "execution_count": 1176,
   "metadata": {
    "collapsed": true
   },
   "outputs": [
    {
     "name": "stdout",
     "output_type": "stream",
     "text": [
      "+------+---------+-----+\n",
      "|userId|sessionId|count|\n",
      "+------+---------+-----+\n",
      "|    92|      358|   73|\n",
      "|    42|      433|   21|\n",
      "|   101|      635|  855|\n",
      "|   120|      627|  261|\n",
      "|   140|      798|    6|\n",
      "|   122|      691|    9|\n",
      "|    29|     1030|   19|\n",
      "|     8|     1200|   18|\n",
      "|    96|     1653|  160|\n",
      "|   153|     1794|   74|\n",
      "|    97|     2019|   84|\n",
      "|    35|     2270|   13|\n",
      "|   110|     1776|   24|\n",
      "|300011|       60|   36|\n",
      "|   137|      136|    7|\n",
      "|    40|      484|   84|\n",
      "|    35|      544|   16|\n",
      "|    24|      620|    8|\n",
      "|    47|       46|    3|\n",
      "|    85|     1098|   89|\n",
      "+------+---------+-----+\n",
      "only showing top 20 rows\n",
      "\n"
     ]
    }
   ],
   "source": [
    "# Churn vs average number of logs per session\n",
    "data.groupby('userId', 'sessionId') \\\n",
    "    .count() \\\n",
    "    .show()"
   ]
  },
  {
   "cell_type": "code",
   "execution_count": 1222,
   "metadata": {},
   "outputs": [],
   "source": [
    "# Churn vs average number of logs per session\n",
    "df = data.groupby('userId', 'sessionId') \\\n",
    "    .count() \\\n",
    "    .groupby('userId') \\\n",
    "    .agg(avg('count').alias('mean')) \\\n",
    "    .toPandas()"
   ]
  },
  {
   "cell_type": "code",
   "execution_count": 1207,
   "metadata": {
    "collapsed": true
   },
   "outputs": [
    {
     "name": "stdout",
     "output_type": "stream",
     "text": [
      "+------+---------+----------------+\n",
      "|userId|sessionId|count(sessionId)|\n",
      "+------+---------+----------------+\n",
      "|    92|      358|              73|\n",
      "|    42|      433|              21|\n",
      "|   101|      635|             855|\n",
      "|   120|      627|             261|\n",
      "|   140|      798|               6|\n",
      "|   122|      691|               9|\n",
      "|    29|     1030|              19|\n",
      "|     8|     1200|              18|\n",
      "|    96|     1653|             160|\n",
      "|   153|     1794|              74|\n",
      "|    97|     2019|              84|\n",
      "|    35|     2270|              13|\n",
      "|   110|     1776|              24|\n",
      "|300011|       60|              36|\n",
      "|   137|      136|               7|\n",
      "|    40|      484|              84|\n",
      "|    35|      544|              16|\n",
      "|    24|      620|               8|\n",
      "|    47|       46|               3|\n",
      "|    85|     1098|              89|\n",
      "+------+---------+----------------+\n",
      "only showing top 20 rows\n",
      "\n"
     ]
    }
   ],
   "source": [
    "# Log count per user-session\n",
    "df = data.groupby('userId', 'sessionId') \\\n",
    "    .agg(count('sessionId')) \\\n",
    "    .show()"
   ]
  },
  {
   "cell_type": "code",
   "execution_count": 1214,
   "metadata": {
    "collapsed": true
   },
   "outputs": [
    {
     "name": "stdout",
     "output_type": "stream",
     "text": [
      "+------+---------+-----+--------+\n",
      "|userId|sessionId|churn|logCount|\n",
      "+------+---------+-----+--------+\n",
      "|    92|      358|    0|      73|\n",
      "|    42|      433|    0|      21|\n",
      "|   101|      635|    1|     855|\n",
      "|   120|      627|    0|     261|\n",
      "|   140|      798|    0|       6|\n",
      "|   122|      691|    1|       9|\n",
      "|    29|     1030|    1|      19|\n",
      "|     8|     1200|    0|      18|\n",
      "|    96|     1653|    0|     160|\n",
      "|   153|     1794|    0|      74|\n",
      "|    97|     2019|    0|      84|\n",
      "|    35|     2270|    0|      13|\n",
      "|   110|     1776|    0|      24|\n",
      "|300011|       60|    0|      36|\n",
      "|   137|      136|    0|       7|\n",
      "|    40|      484|    0|      84|\n",
      "|    35|      544|    0|      16|\n",
      "|    24|      620|    0|       8|\n",
      "|    47|       46|    0|       3|\n",
      "|    85|     1098|    0|      89|\n",
      "+------+---------+-----+--------+\n",
      "only showing top 20 rows\n",
      "\n"
     ]
    }
   ],
   "source": [
    "# Log count per user-session\n",
    "data.groupby('userId', 'sessionId') \\\n",
    "    .agg(min('churn').alias('churn'), count('sessionId').alias('logCount')) \\\n",
    "    .show()"
   ]
  },
  {
   "cell_type": "markdown",
   "metadata": {},
   "source": [
    "### Mean of log count per user-session"
   ]
  },
  {
   "cell_type": "code",
   "execution_count": 1274,
   "metadata": {},
   "outputs": [],
   "source": [
    "# Mean of log count per user-session\n",
    "df = data.groupby('userId', 'churn', 'sessionId') \\\n",
    "    .agg(count('sessionId').alias('logCount')) \\\n",
    "    .groupby('userId', 'churn') \\\n",
    "    .agg(avg('logCount').alias('mean')) \\\n",
    "    .toPandas()"
   ]
  },
  {
   "cell_type": "code",
   "execution_count": 1277,
   "metadata": {},
   "outputs": [
    {
     "data": {
      "image/png": "[encoded data removed]",
      "text/plain": [
       "<Figure size 1080x432 with 1 Axes>"
      ]
     },
     "metadata": {
      "needs_background": "light"
     },
     "output_type": "display_data"
    }
   ],
   "source": [
    "plt.figure(figsize=(15, 6))\n",
    "sb.distplot(df[df.churn == 1]['mean'], label=\"churned\", bins=20, kde=True);\n",
    "sb.distplot(df[df.churn == 0]['mean'], label=\"active\", bins=20, kde=True);\n",
    "plt.legend(loc='upper right');\n",
    "plt.xlabel('Average logs')\n",
    "ax = plt.gca()\n",
    "ax.set_title('Churn vs. Average logs per user session');"
   ]
  },
  {
   "cell_type": "code",
   "execution_count": 1263,
   "metadata": {},
   "outputs": [
    {
     "data": {
      "text/plain": [
       "81.375"
      ]
     },
     "execution_count": 1263,
     "metadata": {},
     "output_type": "execute_result"
    }
   ],
   "source": [
    "df[df.churn == 0]['mean'].median()"
   ]
  },
  {
   "cell_type": "code",
   "execution_count": 1264,
   "metadata": {},
   "outputs": [
    {
     "data": {
      "text/plain": [
       "68.05"
      ]
     },
     "execution_count": 1264,
     "metadata": {},
     "output_type": "execute_result"
    }
   ],
   "source": [
    "df[df.churn == 1]['mean'].median()"
   ]
  },
  {
   "cell_type": "code",
   "execution_count": 1257,
   "metadata": {},
   "outputs": [
    {
     "data": {
      "image/png": "[encoded data removed]",
      "text/plain": [
       "<Figure size 432x288 with 1 Axes>"
      ]
     },
     "metadata": {
      "needs_background": "light"
     },
     "output_type": "display_data"
    }
   ],
   "source": [
    "plt.hist(df[df.churn == 1]['mean'], alpha = 0.5, label=\"active\", bins = 25)\n",
    "plt.hist(df[df.churn == 0]['mean'], alpha = 0.5, label=\"churned\", bins = 25)\n",
    "plt.legend(loc='upper right')\n",
    "plt.show()\n"
   ]
  },
  {
   "cell_type": "code",
   "execution_count": null,
   "metadata": {},
   "outputs": [],
   "source": []
  },
  {
   "cell_type": "code",
   "execution_count": null,
   "metadata": {},
   "outputs": [],
   "source": []
  },
  {
   "cell_type": "code",
   "execution_count": null,
   "metadata": {},
   "outputs": [],
   "source": []
  },
  {
   "cell_type": "code",
   "execution_count": null,
   "metadata": {},
   "outputs": [],
   "source": []
  },
  {
   "cell_type": "code",
   "execution_count": null,
   "metadata": {},
   "outputs": [],
   "source": []
  },
  {
   "cell_type": "markdown",
   "metadata": {},
   "source": [
    "### Window Function"
   ]
  },
  {
   "cell_type": "code",
   "execution_count": 496,
   "metadata": {},
   "outputs": [],
   "source": [
    "from pyspark.sql.functions import row_number\n",
    "\n",
    "data2 = data.select('userId', 'regDate', 'sessionId', 'tsDate', 'auth', 'level', 'page', 'status',\n",
    "        row_number().over(w).alias(\"rown\"))"
   ]
  },
  {
   "cell_type": "code",
   "execution_count": 530,
   "metadata": {},
   "outputs": [
    {
     "data": {
      "text/plain": [
       "67"
      ]
     },
     "execution_count": 530,
     "metadata": {},
     "output_type": "execute_result"
    }
   ],
   "source": [
    "# GET CHURNED USERS\n",
    "users = data \\\n",
    "    .where(data.page.isin(['Submit Downgrade', 'Cancellation Confirmation'])) \\\n",
    "    .select('userId') \\\n",
    "    .dropDuplicates() \\\n",
    "    .collect()\n",
    "\n",
    "# list of userIds\n",
    "uids = [x.userId for x in users];\n",
    "\n",
    "# Window\n",
    "w =  Window.partitionBy(data.userId).orderBy(col('ts').desc())\n",
    "data2 = data.select('userId', 'regDate', 'sessionId', 'tsDate', 'auth', 'level', 'page', 'status',\n",
    "        row_number().over(w).alias(\"rown\"))\n",
    "    \n",
    "# final query\n",
    "data2 \\\n",
    "    .where(data2.rown == 1) \\\n",
    "    .where(data2.userId.isin(uids)) \\\n",
    "    .where((data2.level == 'free') | (data2.page == 'Cancellation Confirmation')) \\\n",
    "    .count()\n",
    "\n"
   ]
  },
  {
   "cell_type": "code",
   "execution_count": null,
   "metadata": {},
   "outputs": [],
   "source": [
    "overUser = window.partitionBy('userId')\n",
    "w = data.withColumn(\n",
    "  \"rown\", array_contains('userId', 'tsDate', 'auth', 'level', 'page', 'status') over overUser).withColumn(\n",
    "  \"total_salary_in_dep\", sum('salary) over overCategory)\n",
    "df.show()"
   ]
  },
  {
   "cell_type": "code",
   "execution_count": null,
   "metadata": {},
   "outputs": [],
   "source": []
  },
  {
   "cell_type": "code",
   "execution_count": 1195,
   "metadata": {},
   "outputs": [
    {
     "data": {
      "text/plain": [
       "<matplotlib.axes._subplots.AxesSubplot at 0x21dcc15ca20>"
      ]
     },
     "execution_count": 1195,
     "metadata": {},
     "output_type": "execute_result"
    },
    {
     "data": {
      "image/png": "[encoded data removed]",
      "text/plain": [
       "<Figure size 1080x432 with 1 Axes>"
      ]
     },
     "metadata": {
      "needs_background": "light"
     },
     "output_type": "display_data"
    }
   ],
   "source": [
    "df = data.groupby('sessionId') \\\n",
    "    .agg(((max('ts') - min('ts'))/60000).alias('duration')) \\\n",
    "    .select('sessionId', round(col('duration'), 1).alias('duration')) \\\n",
    "    .toPandas()\n",
    "plt.figure(figsize=(15,6))\n",
    "sb.distplot(df['sessionId'], bins=40)"
   ]
  },
  {
   "cell_type": "markdown",
   "metadata": {},
   "source": [
    "# Feature Engineering\n",
    "Once you've familiarized yourself with the data, build out the features you find promising to train your model on. To work with the full dataset, you can follow the following steps.\n",
    "- Write a script to extract the necessary features from the smaller subset of data\n",
    "- Ensure that your script is scalable, using the best practices discussed in Lesson 3\n",
    "- Try your script on the full data set, debugging your script if necessary\n",
    "\n",
    "If you are working in the classroom workspace, you can just extract features based on the small subset of data contained here. Be sure to transfer over this work to the larger dataset when you work on your Spark cluster."
   ]
  },
  {
   "cell_type": "code",
   "execution_count": null,
   "metadata": {},
   "outputs": [],
   "source": []
  },
  {
   "cell_type": "markdown",
   "metadata": {},
   "source": [
    "# Modeling\n",
    "Split the full dataset into train, test, and validation sets. Test out several of the machine learning methods you learned. Evaluate the accuracy of the various models, tuning parameters as necessary. Determine your winning model based on test accuracy and report results on the validation set. Since the churned users are a fairly small subset, I suggest using F1 score as the metric to optimize."
   ]
  },
  {
   "cell_type": "code",
   "execution_count": null,
   "metadata": {},
   "outputs": [],
   "source": []
  },
  {
   "cell_type": "markdown",
   "metadata": {},
   "source": [
    "# Final Steps\n",
    "Clean up your code, adding comments and renaming variables to make the code easier to read and maintain. Refer to the Spark Project Overview page and Data Scientist Capstone Project Rubric to make sure you are including all components of the capstone project and meet all expectations. Remember, this includes thorough documentation in a README file in a Github repository, as well as a web app or blog post."
   ]
  },
  {
   "cell_type": "code",
   "execution_count": null,
   "metadata": {},
   "outputs": [],
   "source": []
  }
 ],
 "metadata": {
  "kernelspec": {
   "display_name": "Python 3",
   "language": "python",
   "name": "python3"
  },
  "language_info": {
   "codemirror_mode": {
    "name": "ipython",
    "version": 3
   },
   "file_extension": ".py",
   "mimetype": "text/x-python",
   "name": "python",
   "nbconvert_exporter": "python",
   "pygments_lexer": "ipython3",
   "version": "3.6.8"
  }
 },
 "nbformat": 4,
 "nbformat_minor": 2
}
